{
 "cells": [
  {
   "cell_type": "code",
   "execution_count": 2,
   "metadata": {},
   "outputs": [],
   "source": [
    "import sys\n",
    "directory_path = '/home/mgadaloff/SAFT_ML/SAFT_ML_VE/lib/python3.10/site-packages'\n",
    "sys.path.append(directory_path)"
   ]
  },
  {
   "cell_type": "code",
   "execution_count": 5,
   "metadata": {},
   "outputs": [
    {
     "ename": "ModuleNotFoundError",
     "evalue": "No module named 'scm'",
     "output_type": "error",
     "traceback": [
      "\u001b[0;31m---------------------------------------------------------------------------\u001b[0m",
      "\u001b[0;31mModuleNotFoundError\u001b[0m                       Traceback (most recent call last)",
      "\u001b[1;32m/home/mgadaloff/SAFT_ML/SAFT_ML_VE/sigma_profile_calculation.ipynb Cell 2\u001b[0m line \u001b[0;36m1\n\u001b[0;32m----> <a href='vscode-notebook-cell://wsl%2Bubuntu-22.04/home/mgadaloff/SAFT_ML/SAFT_ML_VE/sigma_profile_calculation.ipynb#W5sdnNjb2RlLXJlbW90ZQ%3D%3D?line=0'>1</a>\u001b[0m \u001b[39mfrom\u001b[39;00m \u001b[39mscm\u001b[39;00m\u001b[39m.\u001b[39;00m\u001b[39mplams\u001b[39;00m \u001b[39mimport\u001b[39;00m \u001b[39m*\u001b[39m\n",
      "\u001b[0;31mModuleNotFoundError\u001b[0m: No module named 'scm'"
     ]
    }
   ],
   "source": [
    "from scm.plams import *\n"
   ]
  },
  {
   "cell_type": "code",
   "execution_count": 3,
   "metadata": {},
   "outputs": [
    {
     "ename": "ModuleNotFoundError",
     "evalue": "No module named 'scm'",
     "output_type": "error",
     "traceback": [
      "\u001b[0;31m---------------------------------------------------------------------------\u001b[0m",
      "\u001b[0;31mModuleNotFoundError\u001b[0m                       Traceback (most recent call last)",
      "\u001b[1;32m/home/mgadaloff/SAFT_ML/SAFT_ML_VE/sigma_profile_calculation.ipynb Cell 2\u001b[0m line \u001b[0;36m4\n\u001b[1;32m      <a href='vscode-notebook-cell://wsl%2Bubuntu-22.04/home/mgadaloff/SAFT_ML/SAFT_ML_VE/sigma_profile_calculation.ipynb#W2sdnNjb2RlLXJlbW90ZQ%3D%3D?line=1'>2</a>\u001b[0m \u001b[39mimport\u001b[39;00m \u001b[39mnumpy\u001b[39;00m \u001b[39mas\u001b[39;00m \u001b[39mnp\u001b[39;00m\n\u001b[1;32m      <a href='vscode-notebook-cell://wsl%2Bubuntu-22.04/home/mgadaloff/SAFT_ML/SAFT_ML_VE/sigma_profile_calculation.ipynb#W2sdnNjb2RlLXJlbW90ZQ%3D%3D?line=2'>3</a>\u001b[0m \u001b[39mimport\u001b[39;00m \u001b[39mmatplotlib\u001b[39;00m\u001b[39m.\u001b[39;00m\u001b[39mpyplot\u001b[39;00m \u001b[39mas\u001b[39;00m \u001b[39mplt\u001b[39;00m\n\u001b[0;32m----> <a href='vscode-notebook-cell://wsl%2Bubuntu-22.04/home/mgadaloff/SAFT_ML/SAFT_ML_VE/sigma_profile_calculation.ipynb#W2sdnNjb2RlLXJlbW90ZQ%3D%3D?line=3'>4</a>\u001b[0m \u001b[39mfrom\u001b[39;00m \u001b[39mscm\u001b[39;00m\u001b[39m.\u001b[39;00m\u001b[39mutils\u001b[39;00m\u001b[39m.\u001b[39;00m\u001b[39mrunsubprocess\u001b[39;00m \u001b[39mimport\u001b[39;00m RunSubprocess\n\u001b[1;32m      <a href='vscode-notebook-cell://wsl%2Bubuntu-22.04/home/mgadaloff/SAFT_ML/SAFT_ML_VE/sigma_profile_calculation.ipynb#W2sdnNjb2RlLXJlbW90ZQ%3D%3D?line=4'>5</a>\u001b[0m \u001b[39mfrom\u001b[39;00m \u001b[39mscm\u001b[39;00m\u001b[39m.\u001b[39;00m\u001b[39mplams\u001b[39;00m \u001b[39mimport\u001b[39;00m \u001b[39m*\u001b[39m\n\u001b[1;32m      <a href='vscode-notebook-cell://wsl%2Bubuntu-22.04/home/mgadaloff/SAFT_ML/SAFT_ML_VE/sigma_profile_calculation.ipynb#W2sdnNjb2RlLXJlbW90ZQ%3D%3D?line=5'>6</a>\u001b[0m \u001b[39mimport\u001b[39;00m \u001b[39msubprocess\u001b[39;00m\n",
      "\u001b[0;31mModuleNotFoundError\u001b[0m: No module named 'scm'"
     ]
    }
   ],
   "source": [
    "import os\n",
    "import numpy as np\n",
    "import matplotlib.pyplot as plt\n",
    "from scm.utils.runsubprocess import RunSubprocess\n",
    "from scm.plams import *\n",
    "import subprocess"
   ]
  },
  {
   "cell_type": "code",
   "execution_count": null,
   "metadata": {},
   "outputs": [],
   "source": [
    "##################  Note: Be sure to add the path to your own AMSCRS directory here  ##################\n",
    "database_path = os.getcwd()\n",
    "\n",
    "if not os.path.exists(database_path):\n",
    "    raise OSError(f'The provided path does not exist. Exiting.')\n",
    "\n",
    "init()\n",
    "#suppress plams output\n",
    "config.log.stdout = 0\n",
    "\n",
    "class SigmaProfile:\n",
    "    def __init__(self,chdens,profiles,profile_names):\n",
    "        if len(profiles) != len(profile_names):\n",
    "            print(\"Error: profiles_names and profiles of different sizes\")\n",
    "        self.chdens   = chdens.flatten() if isinstance(chdens,np.ndarray) else chdens\n",
    "        self.profiles = {name:prof.flatten() if isinstance(prof,np.ndarray) else prof for name,prof in zip(profile_names,profiles)}\n",
    "\n",
    "    def __str__(self):\n",
    "        line = \"─\"*(15*(1+len(self.profiles)))\n",
    "        ret =  line + '\\n'+ \"\".join( [\"Charge Dens.\".ljust(15)]+[name.ljust(15) for name in self.profiles] ) + '\\n' + line + '\\n'\n",
    "        for i in range(len(self.chdens)):\n",
    "            ret += \"{0:.5g}\".format(self.chdens[i]).ljust(15) + \"\".join([\"{0:.5g}\".format(v[i]).ljust(15) for k,v in self.profiles.items()])\n",
    "            ret += '\\n'\n",
    "        return ret\n",
    "\n",
    "def fast_sigma( smiles ):\n",
    "\n",
    "    results_file =  \"tmp_results18954.crskf\"\n",
    "    subprocess_string = \" --smiles '\" + smiles + \"'\"\n",
    "\n",
    "    if not os.path.isfile(os.path.join( os.path.expandvars(\"$AMSBIN\") , \"fast_sigma\" )):\n",
    "        kf_and_sys_exit(\"ERROR: cannot find fast_sigma ... has amsbashrc been executed?\")\n",
    "\n",
    "    fs = os.path.join( os.path.expandvars(\"$AMSBIN\") , \"fast_sigma\" )\n",
    "    scm_sp = RunSubprocess( fs + subprocess_string + \" -o \" + results_file )\n",
    "\n",
    "    if os.path.isfile(results_file):\n",
    "        crskf   =    KFFile( results_file )\n",
    "        res     =    crskf.read_section( \"PURESIGMAPROFILE\"  )\n",
    "        sp = SigmaProfile(chdens=res['chdval'],profiles=[res['profil'],res['hbprofil']],profile_names=[\"total_profile\",\"HB_profile\"])\n",
    "        os.remove(results_file)\n",
    "        return sp, scm_sp\n",
    "    else:\n",
    "        return None, scm_sp\n",
    "\n",
    "def calc_sigma_profile(coskf_file,cosmosac=False):\n",
    "\n",
    "    # initialize settings object\n",
    "    settings = Settings()\n",
    "    settings.input.property._h = 'PURESIGMAPROFILE'\n",
    "\n",
    "    # set the number of compounds\n",
    "    compounds = [Settings()]\n",
    "    compounds[0]._h = os.path.join( database_path, coskf_file )\n",
    "\n",
    "    # to change to the COSMOSAC2013 method\n",
    "    if cosmosac:\n",
    "        settings.input.method = 'COSMOSAC2013'\n",
    "\n",
    "    # specify the compounds as the compounds to be used in the calculation\n",
    "    settings.input.compound = compounds\n",
    "    # create a job that can be run by COSMO-RS\n",
    "    my_job = CRSJob(settings=settings)\n",
    "\n",
    "    out = my_job.run()\n",
    "    res = out.get_results()\n",
    "\n",
    "    if cosmosac:\n",
    "        prof_len = len(res['hbprofil'])//3\n",
    "        sp = SigmaProfile(chdens=res['chdval'],profiles=[res['profil']]+[res['hbprofil'][i*prof_len:(i+1)*prof_len] for i in range(3) ],profile_names=[\"total_profile\",\"HB\",\"HB-OH\",\"HB-OT\"])\n",
    "    else:\n",
    "        sp = SigmaProfile(chdens=res['chdval'],profiles=[res['profil'],res['hbprofil']],profile_names=[\"total_profile\",\"HB_profile\"])\n",
    "    return sp\n",
    "\n",
    "# regular way to generate a sigma profile from a .coskf file\n",
    "filename = \"n-Hexanoic_acid.coskf\"\n",
    "sp = calc_sigma_profile(filename,cosmosac=False)\n",
    "\n",
    "# way using the fast_sigma estimation method\n",
    "fs_sp, err = fast_sigma(\"CCCCCC(=O)O\")\n",
    "if fs_sp is None or len(err[1])>0:\n",
    "    print(\"fast_sigma generated the following output:\\n\"+err[1])"
   ]
  },
  {
   "cell_type": "code",
   "execution_count": null,
   "metadata": {},
   "outputs": [],
   "source": [
    "plt.xlabel(\"σ value (e/A^2)\")\n",
    "plt.ylabel(\"p(σ)\")\n",
    "\n",
    "plt.plot(sp.chdens   ,   sp.profiles['total_profile'],label=\"Calculated sigma profile\")\n",
    "if fs_sp is not None:\n",
    "    plt.plot(fs_sp.chdens,fs_sp.profiles['total_profile'],label=\"Estimated sigma profile\")\n",
    "\n",
    "plt.legend(loc='upper right')\n",
    "plt.grid()\n",
    "plt.show()"
   ]
  }
 ],
 "metadata": {
  "kernelspec": {
   "display_name": "Python 3",
   "language": "python",
   "name": "python3"
  },
  "language_info": {
   "codemirror_mode": {
    "name": "ipython",
    "version": 3
   },
   "file_extension": ".py",
   "mimetype": "text/x-python",
   "name": "python",
   "nbconvert_exporter": "python",
   "pygments_lexer": "ipython3",
   "version": "3.10.12"
  }
 },
 "nbformat": 4,
 "nbformat_minor": 2
}
