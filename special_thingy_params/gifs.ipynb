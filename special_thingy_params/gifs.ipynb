{
 "cells": [
  {
   "cell_type": "code",
   "execution_count": 1,
   "metadata": {},
   "outputs": [
    {
     "name": "stderr",
     "output_type": "stream",
     "text": [
      "\u001b[32m\u001b[1m  Activating\u001b[22m\u001b[39m project at `~/SAFT_ML`\n"
     ]
    }
   ],
   "source": [
    "import Pkg; Pkg.activate(\"..\")"
   ]
  },
  {
   "cell_type": "code",
   "execution_count": 2,
   "metadata": {},
   "outputs": [],
   "source": [
    "using CSV, DataFrames, DelimitedFiles, Clapeyron, PyCall, RDKitMinimalLib, GLM, Statistics, Plots, LaTeXStrings\n",
    "\n",
    "# import PyPlot; const plt = PyPlot;\n",
    "include(\"../saftvrmienn.jl\");"
   ]
  },
  {
   "cell_type": "code",
   "execution_count": 3,
   "metadata": {},
   "outputs": [],
   "source": [
    "vr_mie_source_params = CSV.read(\"../saftvrmie_params/saft_vr_mie_validation_data.csv\", DataFrame, header=1);\n",
    "pcp_source_params = CSV.read(\"../pcpsaft_params/training_data.csv\", DataFrame, header=1);"
   ]
  },
  {
   "cell_type": "code",
   "execution_count": 4,
   "metadata": {},
   "outputs": [
    {
     "name": "stderr",
     "output_type": "stream",
     "text": [
      "\u001b[33m\u001b[1m┌ \u001b[22m\u001b[39m\u001b[33m\u001b[1mWarning: \u001b[22m\u001b[39mthread = 1 warning: parsed expected 8 columns, but didn't reach end of line around data row: 1. Parsing extra columns and widening final columnset\n",
      "\u001b[33m\u001b[1m└ \u001b[22m\u001b[39m\u001b[90m@ CSV ~/.julia/packages/CSV/OnldF/src/file.jl:578\u001b[39m\n"
     ]
    }
   ],
   "source": [
    "# header = [\"epoch\", \"species\", \"Mw\", \"m\", \"σ\", \"λ_a\", \"λ_r\", \"ϵ\", \"split\"]\n",
    "\n",
    "raw_params = CSV.read(\"../jobs/23_updated_Clapeyron/5_clip_points_strat2/params_log.csv\", DataFrame, header=1)\n",
    "\n",
    "# Set this to zero to analyze all epochs, and a natural number n for the last n epochs\n",
    "\n",
    "last_n_rows = 0; # plot the last n epochs, set to 0 to ignore\n",
    "start_row_interval = 0; # plot epoch range starting from this value, set to 0 to ignore\n",
    "end_row_interval = 0; # plot epoch range starting from this value, set to 0 to ignore"
   ]
  },
  {
   "cell_type": "code",
   "execution_count": 5,
   "metadata": {},
   "outputs": [],
   "source": [
    "rename!(raw_params, :Column9 => :split)\n",
    "rename!(raw_params, :name => :species)\n",
    "unique_values = unique(raw_params[!, :species])\n",
    "num_rows = length(unique_values)\n",
    "\n",
    "processed_data = DataFrame(\n",
    "    species = fill(missing, num_rows),\n",
    "    isomeric_SMILES = fill(\"\", num_rows),\n",
    "    Mw = fill(0.0, num_rows),\n",
    "    m = fill([0.0], num_rows), \n",
    "    σ = fill([0.0], num_rows),\n",
    "    λ_a = fill([0.0], num_rows),\n",
    "    λ_r = fill([0.0], num_rows),\n",
    "    ϵ = fill([0.0], num_rows),\n",
    "    split = fill(\"abc\", num_rows)\n",
    ") ;\n",
    "\n",
    "processed_data.species = unique_values;\n"
   ]
  },
  {
   "cell_type": "code",
   "execution_count": 6,
   "metadata": {},
   "outputs": [],
   "source": [
    "num_epochs_plotting = 0\n",
    "vmin = 0\n",
    "vmax = 0\n",
    "\n",
    "for i in unique_values\n",
    "    raw_params_spec = filter(row -> isequal(row.species, i), raw_params)\n",
    "    num_epochs_plotting = nrow(raw_params_spec)\n",
    "\n",
    "    row_number_processed = findall(isequal(i), processed_data.species)\n",
    "    row_number_source = findall(isequal(i), pcp_source_params.common_name)\n",
    "\n",
    "    processed_data[row_number_processed,:isomeric_SMILES] = pcp_source_params[row_number_source,:isomeric_SMILES]\n",
    "    processed_data[row_number_processed,:Mw] = [raw_params_spec[1,:Mw]]\n",
    "    processed_data[row_number_processed,:split] = [raw_params_spec[1,:split]]\n",
    "\n",
    "    if start_row_interval ≠ 0 && end_row_interval ≠ 0\n",
    "        processed_data[row_number_processed,:m] = [[raw_params_spec[i,:m] for i = start_row_interval:end_row_interval]]\n",
    "        processed_data[row_number_processed,:σ] = [[raw_params_spec[i,:σ] for i = start_row_interval:end_row_interval]]\n",
    "        processed_data[row_number_processed,:ϵ] = [[raw_params_spec[i,:ϵ] for i = start_row_interval:end_row_interval]]\n",
    "        processed_data[row_number_processed,:λ_a] = [[raw_params_spec[i,:λ_a] for i = start_row_interval:end_row_interval]]\n",
    "        processed_data[row_number_processed,:λ_r] = [[raw_params_spec[i,:λ_r] for i = start_row_interval:end_row_interval]]\n",
    "        num_epochs_plotting = end_row_interval - start_row_interval + 1\n",
    "        vmin = start_row_interval\n",
    "        vmax = end_row_interval\n",
    "\n",
    "    elseif last_n_rows ≠ 0\n",
    "        processed_data[row_number_processed,:m] = [[raw_params_spec[i,:m] for i = num_epochs_plotting - last_n_rows + 1:num_epochs_plotting]]\n",
    "        processed_data[row_number_processed,:σ] = [[raw_params_spec[i,:σ] for i = num_epochs_plotting - last_n_rows + 1:num_epochs_plotting]]\n",
    "        processed_data[row_number_processed,:ϵ] = [[raw_params_spec[i,:ϵ] for i = num_epochs_plotting - last_n_rows + 1:num_epochs_plotting]]\n",
    "        processed_data[row_number_processed,:λ_a] = [[raw_params_spec[i,:λ_a] for i = num_epochs_plotting - last_n_rows + 1:num_epochs_plotting]]\n",
    "        processed_data[row_number_processed,:λ_r] = [[raw_params_spec[i,:λ_r] for i = num_epochs_plotting - last_n_rows + 1:num_epochs_plotting]]\n",
    "        vmin = num_epochs_plotting - last_n_rows + 1\n",
    "        vmax = num_epochs_plotting\n",
    "\n",
    "        num_epochs_plotting = last_n_rows\n",
    "\n",
    "    else\n",
    "        processed_data[row_number_processed,:m] = [[raw_params_spec[i,:m] for i = 1:num_epochs_plotting]]\n",
    "        processed_data[row_number_processed,:σ] = [[raw_params_spec[i,:σ] for i = 1:num_epochs_plotting]]\n",
    "        processed_data[row_number_processed,:ϵ] = [[raw_params_spec[i,:ϵ] for i = 1:num_epochs_plotting]]\n",
    "        processed_data[row_number_processed,:λ_a] = [[raw_params_spec[i,:λ_a] for i = 1:num_epochs_plotting]]\n",
    "        processed_data[row_number_processed,:λ_r] = [[raw_params_spec[i,:λ_r] for i = 1:num_epochs_plotting]]\n",
    "        vmin = 1\n",
    "        vmax = num_epochs_plotting\n",
    "    end\n",
    "    \n",
    "end\n",
    "\n",
    "processed_data = sort(processed_data, :Mw);\n",
    "# println(num_epochs_plotting)"
   ]
  },
  {
   "cell_type": "code",
   "execution_count": 7,
   "metadata": {},
   "outputs": [],
   "source": [
    "# contains_only_c(name) = all(letter -> lowercase(letter) == 'c', name);\n",
    "# processed_data_lin_alkanes = filter(row -> contains_only_c(row.isomeric_SMILES), processed_data) \n",
    "# processed_data = sort(processed_data_lin_alkanes, :Mw);\n",
    "\n",
    "\n",
    "species_to_filter = [\"methane\", \"ethane\",\"n-propane\",\"n-butane\",\"n-pentane\",\"n-hexane\",\"n-heptane\",\"n-octane\",\"n-nonane\",\"n-decane\",\"n-dodecane\",\"n-pentadecane\"]\n",
    "vr_mie_source_params = filter(row -> lowercase(row.species) in species_to_filter, vr_mie_source_params);\n",
    "pcp_source_params_alkanes = filter(row -> row.family == \"Alkanes\", pcp_source_params);\n",
    "\n",
    "# raw_params_spec = filter(row -> contains(row.species, i), raw_params)"
   ]
  },
  {
   "cell_type": "code",
   "execution_count": 8,
   "metadata": {},
   "outputs": [
    {
     "name": "stdout",
     "output_type": "stream",
     "text": [
      "1\n",
      "2\n",
      "3\n",
      "4\n",
      "5\n",
      "6\n",
      "7\n",
      "8\n",
      "9\n",
      "10\n",
      "11\n",
      "12\n",
      "13\n",
      "14\n",
      "15\n",
      "16\n",
      "17\n",
      "18\n",
      "19\n",
      "20\n",
      "21\n",
      "22\n",
      "23\n",
      "24\n",
      "25\n",
      "26\n",
      "27\n",
      "28\n",
      "29\n",
      "30\n",
      "31\n",
      "32\n",
      "33\n",
      "34\n",
      "35\n",
      "36\n",
      "37\n",
      "38\n",
      "39\n",
      "40\n",
      "41\n",
      "42\n",
      "43\n",
      "44\n",
      "45\n",
      "46\n",
      "47\n",
      "48\n",
      "49\n",
      "50\n",
      "51\n",
      "52\n",
      "53\n",
      "54\n",
      "55\n",
      "56\n",
      "57\n",
      "58\n",
      "59\n",
      "60\n",
      "61\n",
      "62\n",
      "63\n",
      "64\n",
      "65\n",
      "66\n",
      "67\n",
      "68\n",
      "69\n",
      "70\n",
      "71\n",
      "72\n",
      "73\n",
      "74\n",
      "75\n",
      "76\n",
      "77\n",
      "78\n",
      "79\n",
      "80\n",
      "81\n",
      "82\n",
      "83\n",
      "84\n",
      "85\n",
      "86\n",
      "87\n",
      "88\n",
      "89\n",
      "90\n",
      "91\n",
      "92\n",
      "93\n",
      "94\n",
      "95\n",
      "96\n",
      "97\n",
      "98\n",
      "99\n",
      "100\n",
      "101\n",
      "102\n",
      "103\n",
      "104\n",
      "105\n",
      "106\n",
      "107\n",
      "108\n",
      "109\n",
      "110\n",
      "111\n",
      "112\n",
      "113\n",
      "114\n",
      "115\n",
      "116\n",
      "117\n",
      "118\n",
      "119\n",
      "120\n",
      "121\n",
      "122\n",
      "123\n",
      "124\n",
      "125\n",
      "126\n",
      "127\n",
      "128\n",
      "129\n",
      "130\n",
      "131\n",
      "132\n",
      "133\n",
      "134\n",
      "135\n",
      "136\n",
      "137\n",
      "138\n",
      "139\n",
      "140\n",
      "141\n",
      "142\n",
      "143\n",
      "144\n",
      "145\n",
      "146\n",
      "147\n",
      "148\n",
      "149\n",
      "150\n",
      "151\n",
      "152\n",
      "153\n",
      "154\n",
      "155\n",
      "156\n",
      "157\n",
      "158\n",
      "159\n",
      "160\n",
      "161\n",
      "162\n",
      "163\n",
      "164\n",
      "165\n",
      "166\n",
      "167\n",
      "168\n",
      "169\n",
      "170\n",
      "171\n",
      "172\n",
      "173\n",
      "174\n",
      "175\n",
      "176\n",
      "177\n",
      "178\n",
      "179\n",
      "180\n",
      "181\n",
      "182\n",
      "183\n",
      "184\n",
      "185\n",
      "186\n",
      "187\n",
      "188\n",
      "189\n",
      "190\n",
      "191\n",
      "192\n",
      "193\n",
      "194\n",
      "195\n",
      "196\n",
      "197\n",
      "198\n",
      "199\n",
      "200\n",
      "201\n",
      "202\n",
      "203\n",
      "204\n",
      "205\n",
      "206\n",
      "207\n",
      "208\n",
      "209\n",
      "210\n",
      "211\n",
      "212\n",
      "213\n",
      "214\n",
      "215\n",
      "216\n",
      "217\n",
      "218\n",
      "219\n",
      "220\n",
      "221\n",
      "222\n",
      "223\n",
      "224\n",
      "225\n",
      "226\n",
      "227\n",
      "228\n",
      "229\n",
      "230\n",
      "231\n",
      "232\n",
      "233\n",
      "234\n",
      "235\n",
      "236\n",
      "237\n",
      "238\n",
      "239\n",
      "240\n",
      "241\n",
      "242\n",
      "243\n",
      "244\n",
      "245\n",
      "246\n",
      "247\n",
      "248\n",
      "249\n",
      "250\n",
      "251\n",
      "252\n",
      "253\n",
      "254\n",
      "255\n",
      "256\n",
      "257\n",
      "258\n",
      "259\n",
      "260\n",
      "261\n",
      "262\n",
      "263\n",
      "264\n",
      "265\n",
      "266\n",
      "267\n",
      "268\n",
      "269\n",
      "270\n",
      "271\n",
      "272\n",
      "273\n",
      "274\n",
      "275\n",
      "276\n",
      "277\n",
      "278\n",
      "279\n",
      "280\n",
      "281\n",
      "282\n",
      "283\n",
      "284\n",
      "285\n",
      "286\n",
      "287\n",
      "288\n",
      "289\n",
      "290\n",
      "291\n",
      "292\n",
      "293\n",
      "294\n",
      "295\n",
      "296\n",
      "297\n",
      "298\n",
      "299\n",
      "300\n",
      "301\n",
      "302\n",
      "303\n",
      "304\n",
      "305\n",
      "306\n",
      "307\n",
      "308\n",
      "309\n",
      "310\n",
      "311\n",
      "312\n",
      "313\n",
      "314\n",
      "315\n",
      "316\n",
      "317\n",
      "318\n",
      "319\n",
      "320\n",
      "321\n",
      "322\n",
      "323\n",
      "324\n",
      "325\n",
      "326\n",
      "327\n",
      "328\n",
      "329\n",
      "330\n",
      "331\n",
      "332\n",
      "333\n",
      "334\n",
      "335\n",
      "336\n",
      "337\n",
      "338\n",
      "339\n",
      "340\n",
      "341\n",
      "342\n",
      "343\n",
      "344\n",
      "345\n",
      "346\n",
      "347\n",
      "348\n",
      "349\n",
      "350\n",
      "351\n",
      "352\n",
      "353\n",
      "354\n",
      "355\n",
      "356\n",
      "357\n",
      "358\n",
      "359\n",
      "360\n",
      "361\n",
      "362\n",
      "363\n",
      "364\n",
      "365\n",
      "366\n",
      "367\n",
      "368\n",
      "369\n",
      "370\n",
      "371\n",
      "372\n",
      "373\n",
      "374\n",
      "375\n",
      "376\n",
      "377\n",
      "378\n",
      "379\n",
      "380\n",
      "381\n",
      "382\n",
      "383\n",
      "384\n",
      "385\n",
      "386\n",
      "387\n",
      "388\n",
      "389\n",
      "390\n",
      "391\n",
      "392\n",
      "393\n",
      "394\n",
      "395\n",
      "396\n",
      "397\n",
      "398\n",
      "399\n",
      "400\n",
      "401\n",
      "402\n",
      "403\n",
      "404\n",
      "405\n",
      "406\n",
      "407\n",
      "408\n",
      "409\n",
      "410\n",
      "411\n",
      "412\n",
      "413\n",
      "414\n",
      "415\n",
      "416\n",
      "417\n",
      "418\n",
      "419\n",
      "420\n",
      "421\n",
      "422\n",
      "423\n",
      "424\n",
      "425\n",
      "426\n",
      "427\n",
      "428\n",
      "429\n",
      "430\n",
      "431\n",
      "432\n",
      "433\n",
      "434\n",
      "435\n",
      "436\n",
      "437\n",
      "438\n",
      "439\n",
      "440\n",
      "441\n",
      "442\n",
      "443\n",
      "444\n",
      "445\n",
      "446\n",
      "447\n",
      "448\n",
      "449\n",
      "450\n",
      "451\n",
      "452\n",
      "453\n",
      "454\n",
      "455\n",
      "456\n",
      "457\n",
      "458\n",
      "459\n",
      "460\n",
      "461\n",
      "462\n",
      "463\n",
      "464\n",
      "465\n",
      "466\n",
      "467\n",
      "468\n",
      "469\n",
      "470\n",
      "471\n",
      "472\n",
      "473\n",
      "474\n",
      "475\n",
      "476\n",
      "477\n",
      "478\n",
      "479\n",
      "480\n",
      "481\n",
      "482\n",
      "483\n",
      "484\n",
      "485\n",
      "486\n",
      "487\n",
      "488\n",
      "489\n",
      "490\n",
      "491\n",
      "492\n",
      "493\n",
      "494\n",
      "495\n",
      "496\n",
      "497\n",
      "498\n",
      "499\n",
      "500\n",
      "501\n",
      "502\n",
      "503\n",
      "504\n",
      "505\n",
      "506\n",
      "507\n",
      "508\n",
      "509\n",
      "510\n",
      "511\n",
      "512\n",
      "513\n",
      "514\n",
      "515\n",
      "516\n",
      "517\n",
      "518\n",
      "519\n",
      "520\n",
      "521\n",
      "522\n",
      "523\n",
      "524\n",
      "525\n",
      "526\n",
      "527\n",
      "528\n",
      "529\n",
      "530\n",
      "531\n",
      "532\n",
      "533\n",
      "534\n",
      "535\n",
      "536\n",
      "537\n",
      "538\n",
      "539\n",
      "540\n",
      "541\n",
      "542\n",
      "543\n",
      "544\n",
      "545\n",
      "546\n",
      "547\n",
      "548\n",
      "549\n",
      "550\n",
      "551\n",
      "552\n",
      "553\n",
      "554\n",
      "555\n",
      "556\n",
      "557\n",
      "558\n",
      "559\n",
      "560\n",
      "561\n",
      "562\n",
      "563\n",
      "564\n",
      "565\n",
      "566\n",
      "567\n",
      "568\n",
      "569\n",
      "570\n",
      "571\n",
      "572\n",
      "573\n",
      "574\n",
      "575\n",
      "576\n",
      "577\n",
      "578\n",
      "579\n",
      "580\n",
      "581\n",
      "582\n",
      "583\n",
      "584\n",
      "585\n",
      "586\n",
      "587\n",
      "588\n",
      "589\n",
      "590\n",
      "591\n",
      "592\n",
      "593\n",
      "594\n",
      "595\n",
      "596\n",
      "597\n",
      "598\n",
      "599\n",
      "600\n"
     ]
    },
    {
     "name": "stderr",
     "output_type": "stream",
     "text": [
      "\u001b[36m\u001b[1m[ \u001b[22m\u001b[39m\u001b[36m\u001b[1mInfo: \u001b[22m\u001b[39mSaved animation to /home/mgadaloff/SAFT_ML/special_thingy_params/tmp.gif\n"
     ]
    },
    {
     "data": {
      "image/png": "[encoded data removed]",
      "text/plain": [
       "PyPlot.Figure(PyObject <Figure size 2400x2400 with 1 Axes>)"
      ]
     },
     "metadata": {},
     "output_type": "display_data"
    },
    {
     "data": {
      "text/plain": [
       "\"output_animation.gif\""
      ]
     },
     "execution_count": 8,
     "metadata": {},
     "output_type": "execute_result"
    }
   ],
   "source": [
    "using Plots\n",
    "\n",
    "pyplot()\n",
    "\n",
    "# Set the font family and size\n",
    "fontfamily = \"serif\"\n",
    "fontsize = 14  # adjust the size as needed\n",
    "\n",
    "default(legend = false)\n",
    "\n",
    "frames_per_param = 150\n",
    "\n",
    "zeroes = range(0,0,frames_per_param)\n",
    "\n",
    "sigma_source = range(1, 5, length=frames_per_param)\n",
    "epsilon_source = range(150,280, length=frames_per_param)\n",
    "lambda_a_source = range(4, 8, length=frames_per_param)\n",
    "lambda_r_source = range(10, 25, length=frames_per_param)\n",
    "\n",
    "sigma_range = vcat(sigma_source,range(sigma_source[end],sigma_source[end],frames_per_param),range(sigma_source[end],sigma_source[end],frames_per_param),range(sigma_source[end],sigma_source[end],frames_per_param))\n",
    "lambda_r_range = vcat(range(lambda_r_source[1],lambda_r_source[1],frames_per_param),lambda_r_source,range(lambda_r_source[end],lambda_r_source[end],frames_per_param),range(lambda_r_source[end],lambda_r_source[end],frames_per_param))\n",
    "epsilon_range = vcat(range(epsilon_source[1],epsilon_source[1],frames_per_param),range(epsilon_source[1],epsilon_source[1],frames_per_param),epsilon_source,range(epsilon_source[end],epsilon_source[end],frames_per_param))\n",
    "lambda_a_range = vcat(range(lambda_a_source[1],lambda_a_source[1],frames_per_param),range(lambda_a_source[1],lambda_a_source[1],frames_per_param),range(lambda_a_source[1],lambda_a_source[1],frames_per_param),lambda_a_source)\n",
    "\n",
    "x = range(0, 20, 1000)\n",
    "\n",
    "n = frames_per_param*4\n",
    "\n",
    "@gif for i = 1:n\n",
    "\n",
    "    u = ( (lambda_r_range[i]/(lambda_r_range[i] - lambda_a_range[i])) * (lambda_r_range[i]/lambda_a_range[i]) ^ (lambda_a_range[i]/(lambda_r_range[i] - lambda_a_range[i])) ) .* epsilon_range[i] .* ( (sigma_range[i] ./ x) .^ lambda_r_range[i] .- (sigma_range[i] ./ x) .^ lambda_a_range[i])\n",
    "\n",
    "    plot(x, u, dpi=400, size=(600, 600), color=\"#5B9BD5\",linewidth=2, guidefontsize=18, xtickfontsize=16, ytickfontsize=16,grid=false,fontfamily = \"serif\",framestyle = :box),\n",
    "\n",
    "    # xlabel!(\"\\$σ\\$ / Å\",fontfamily = \"serif\")\n",
    "\n",
    "    xlabel!(\"\\$r\\$ / Å\")\n",
    "    ylabel!(\"\\$u\\\\mathrm{^{Mie}}(r)/k\\\\mathrm{_B} \\$ / K\")\n",
    "\n",
    "    xlims!(0, 15)\n",
    "    ylims!(-300, 100)\n",
    "\n",
    "    # str = \"sigma: $(round(sigma_range[i], digits=2)), \\nlambda_r: $(round(lambda_r_range[i], digits=2)), \\nepsilon: $(round(epsilon_range[i], digits=2)), \\nlambda_a: $(round(lambda_a_range[i], digits=2))\"\n",
    "    # annotate!(15, -250, str, halign=:left, valign = :top)\n",
    "\n",
    "    sigma_str = \"$(round(sigma_range[i], digits=2))\"\n",
    "    lambda_r_str = \"$(round(lambda_r_range[i], digits=2))\"\n",
    "    epsilon_str = \"$(round(epsilon_range[i], digits=2))\"\n",
    "    lambda_a_str = \"$(round(lambda_a_range[i], digits=2))\"\n",
    "    \n",
    "    annotate!(13, -170, sigma_str, valign=:top,fontsize=16)\n",
    "    annotate!(13, -200, lambda_r_str, valign=:top,fontsize=16)\n",
    "    annotate!(13, -230, epsilon_str, valign=:top,fontsize=16)\n",
    "    annotate!(13, -260, lambda_a_str, valign=:top,fontsize=16)\n",
    "\n",
    "    println(i)\n",
    "\n",
    "end fps=25; output_file = \"output_animation.gif\"\n",
    "\n"
   ]
  },
  {
   "cell_type": "code",
   "execution_count": 32,
   "metadata": {},
   "outputs": [
    {
     "name": "stdout",
     "output_type": "stream",
     "text": [
      "1\n",
      "2\n",
      "3\n",
      "4\n",
      "5\n",
      "6\n",
      "7\n",
      "8\n",
      "9\n",
      "10\n",
      "11\n",
      "12\n",
      "13\n",
      "14\n",
      "15\n",
      "16\n",
      "17\n",
      "18\n",
      "19\n",
      "20\n",
      "21\n",
      "22\n",
      "23\n",
      "24\n",
      "25\n",
      "26\n",
      "27\n",
      "28\n",
      "29\n",
      "30\n",
      "31\n",
      "32\n",
      "33\n",
      "34\n",
      "35\n",
      "36\n",
      "37\n",
      "38\n",
      "39\n",
      "40\n",
      "41\n",
      "42\n",
      "43\n",
      "44\n",
      "45\n",
      "46\n",
      "47\n",
      "48\n",
      "49\n",
      "50\n",
      "51\n",
      "52\n",
      "53\n",
      "54\n",
      "55\n",
      "56\n",
      "57\n",
      "58\n",
      "59\n",
      "60\n",
      "61\n",
      "62\n",
      "63\n",
      "64\n",
      "65\n",
      "66\n",
      "67\n",
      "68\n",
      "69\n",
      "70\n",
      "71\n",
      "72\n",
      "73\n",
      "74\n",
      "75\n",
      "76\n",
      "77\n",
      "78\n",
      "79\n",
      "80\n",
      "81\n",
      "82\n",
      "83\n",
      "84\n",
      "85\n",
      "86\n",
      "87\n",
      "88\n",
      "89\n",
      "90\n",
      "91\n",
      "92\n",
      "93\n",
      "94\n",
      "95\n",
      "96\n",
      "97\n",
      "98\n",
      "99\n",
      "100\n",
      "101\n",
      "102\n",
      "103\n",
      "104\n",
      "105\n",
      "106\n",
      "107\n",
      "108\n",
      "109\n",
      "110\n",
      "111\n",
      "112\n",
      "113\n",
      "114\n",
      "115\n",
      "116\n",
      "117\n",
      "118\n",
      "119\n",
      "120\n",
      "121\n",
      "122\n",
      "123\n",
      "124\n",
      "125\n",
      "126\n",
      "127\n",
      "128\n",
      "129\n",
      "130\n",
      "131\n",
      "132\n",
      "133\n",
      "134\n",
      "135\n",
      "136\n",
      "137\n",
      "138\n",
      "139\n",
      "140\n",
      "141\n",
      "142\n",
      "143\n",
      "144\n",
      "145\n",
      "146\n",
      "147\n",
      "148\n",
      "149\n",
      "150\n",
      "151\n",
      "152\n",
      "153\n",
      "154\n",
      "155\n",
      "156\n",
      "157\n",
      "158\n",
      "159\n",
      "160\n",
      "161\n",
      "162\n",
      "163\n",
      "164\n",
      "165\n",
      "166\n",
      "167\n",
      "168\n",
      "169\n",
      "170\n",
      "171\n",
      "172\n",
      "173\n",
      "174\n",
      "175\n",
      "176\n",
      "177\n",
      "178\n",
      "179\n",
      "180\n",
      "181\n",
      "182\n",
      "183\n",
      "184\n",
      "185\n",
      "186\n",
      "187\n",
      "188\n",
      "189\n",
      "190\n",
      "191\n",
      "192\n",
      "193\n",
      "194\n",
      "195\n",
      "196\n",
      "197\n",
      "198\n",
      "199\n",
      "200\n",
      "201\n",
      "202\n",
      "203\n",
      "204\n",
      "205\n",
      "206\n",
      "207\n",
      "208\n",
      "209\n",
      "210\n",
      "211\n",
      "212\n",
      "213\n",
      "214\n",
      "215\n",
      "216\n",
      "217\n",
      "218\n",
      "219\n",
      "220\n",
      "221\n",
      "222\n",
      "223\n",
      "224\n",
      "225\n",
      "226\n",
      "227\n",
      "228\n",
      "229\n",
      "230\n",
      "231\n",
      "232\n",
      "233\n",
      "234\n",
      "235\n",
      "236\n",
      "237\n",
      "238\n",
      "239\n",
      "240\n",
      "241\n",
      "242\n",
      "243\n",
      "244\n",
      "245\n",
      "246\n",
      "247\n",
      "248\n",
      "249\n",
      "250\n",
      "251\n",
      "252\n",
      "253\n",
      "254\n",
      "255\n",
      "256\n",
      "257\n",
      "258\n",
      "259\n",
      "260\n",
      "261\n",
      "262\n",
      "263\n",
      "264\n",
      "265\n",
      "266\n",
      "267\n",
      "268\n",
      "269\n",
      "270\n",
      "271\n",
      "272\n",
      "273\n",
      "274\n",
      "275\n",
      "276\n",
      "277\n",
      "278\n",
      "279\n",
      "280\n",
      "281\n",
      "282\n",
      "283\n",
      "284\n",
      "285\n",
      "286\n",
      "287\n",
      "288\n",
      "289\n",
      "290\n",
      "291\n",
      "292\n",
      "293\n",
      "294\n",
      "295\n",
      "296\n",
      "297\n",
      "298\n",
      "299\n",
      "300\n",
      "301\n",
      "302\n",
      "303\n",
      "304\n",
      "305\n",
      "306\n",
      "307\n",
      "308\n",
      "309\n",
      "310\n",
      "311\n",
      "312\n",
      "313\n",
      "314\n",
      "315\n",
      "316\n",
      "317\n",
      "318\n",
      "319\n",
      "320\n",
      "321\n",
      "322\n",
      "323\n",
      "324\n",
      "325\n",
      "326\n",
      "327\n",
      "328\n",
      "329\n",
      "330\n",
      "331\n",
      "332\n",
      "333\n",
      "334\n",
      "335\n",
      "336\n",
      "337\n",
      "338\n",
      "339\n",
      "340\n",
      "341\n",
      "342\n",
      "343\n",
      "344\n",
      "345\n",
      "346\n",
      "347\n",
      "348\n",
      "349\n",
      "350\n",
      "351\n",
      "352\n",
      "353\n",
      "354\n",
      "355\n",
      "356\n",
      "357\n",
      "358\n",
      "359\n",
      "360\n",
      "361\n",
      "362\n",
      "363\n",
      "364\n",
      "365\n",
      "366\n",
      "367\n",
      "368\n",
      "369\n",
      "370\n",
      "371\n",
      "372\n",
      "373\n",
      "374\n",
      "375\n",
      "376\n",
      "377\n",
      "378\n",
      "379\n",
      "380\n",
      "381\n",
      "382\n",
      "383\n",
      "384\n",
      "385\n",
      "386\n",
      "387\n",
      "388\n",
      "389\n",
      "390\n",
      "391\n",
      "392\n",
      "393\n",
      "394\n",
      "395\n",
      "396\n",
      "397\n",
      "398\n",
      "399\n",
      "400\n",
      "401\n",
      "402\n",
      "403\n",
      "404\n",
      "405\n",
      "406\n",
      "407\n",
      "408\n",
      "409\n",
      "410\n",
      "411\n",
      "412\n",
      "413\n",
      "414\n",
      "415\n",
      "416\n",
      "417\n",
      "418\n",
      "419\n",
      "420\n",
      "421\n",
      "422\n",
      "423\n",
      "424\n",
      "425\n",
      "426\n",
      "427\n",
      "428\n",
      "429\n",
      "430\n",
      "431\n",
      "432\n",
      "433\n",
      "434\n",
      "435\n",
      "436\n",
      "437\n",
      "438\n",
      "439\n",
      "440\n",
      "441\n",
      "442\n",
      "443\n",
      "444\n",
      "445\n",
      "446\n",
      "447\n",
      "448\n",
      "449\n",
      "450\n",
      "451\n",
      "452\n",
      "453\n",
      "454\n",
      "455\n",
      "456\n",
      "457\n",
      "458\n",
      "459\n",
      "460\n",
      "461\n",
      "462\n",
      "463\n",
      "464\n",
      "465\n",
      "466\n",
      "467\n",
      "468\n",
      "469\n",
      "470\n",
      "471\n",
      "472\n",
      "473\n",
      "474\n",
      "475\n",
      "476\n",
      "477\n",
      "478\n",
      "479\n",
      "480\n",
      "481\n",
      "482\n",
      "483\n",
      "484\n",
      "485\n",
      "486\n",
      "487\n",
      "488\n",
      "489\n",
      "490\n",
      "491\n",
      "492\n",
      "493\n",
      "494\n",
      "495\n",
      "496\n",
      "497\n",
      "498\n",
      "499\n",
      "500\n",
      "501\n",
      "502\n",
      "503\n",
      "504\n",
      "505\n",
      "506\n",
      "507\n",
      "508\n",
      "509\n",
      "510\n",
      "511\n",
      "512\n",
      "513\n",
      "514\n",
      "515\n",
      "516\n",
      "517\n",
      "518\n",
      "519\n",
      "520\n",
      "521\n",
      "522\n",
      "523\n",
      "524\n",
      "525\n",
      "526\n",
      "527\n",
      "528\n",
      "529\n",
      "530\n",
      "531\n",
      "532\n",
      "533\n",
      "534\n",
      "535\n",
      "536\n",
      "537\n",
      "538\n",
      "539\n",
      "540\n",
      "541\n",
      "542\n",
      "543\n",
      "544\n",
      "545\n",
      "546\n",
      "547\n",
      "548\n",
      "549\n",
      "550\n",
      "551\n",
      "552\n",
      "553\n",
      "554\n",
      "555\n",
      "556\n",
      "557\n",
      "558\n",
      "559\n",
      "560\n",
      "561\n",
      "562\n",
      "563\n",
      "564\n",
      "565\n",
      "566\n",
      "567\n",
      "568\n",
      "569\n",
      "570\n",
      "571\n",
      "572\n",
      "573\n",
      "574\n",
      "575\n",
      "576\n",
      "577\n",
      "578\n",
      "579\n",
      "580\n",
      "581\n",
      "582\n",
      "583\n",
      "584\n",
      "585\n",
      "586\n",
      "587\n",
      "588\n",
      "589\n",
      "590\n",
      "591\n",
      "592\n",
      "593\n",
      "594\n",
      "595\n",
      "596\n",
      "597\n",
      "598\n",
      "599\n",
      "600\n",
      "601\n",
      "602\n",
      "603\n",
      "604\n",
      "605\n",
      "606\n",
      "607\n",
      "608\n",
      "609\n",
      "610\n",
      "611\n",
      "612\n",
      "613\n",
      "614\n",
      "615\n",
      "616\n",
      "617\n",
      "618\n",
      "619\n",
      "620\n",
      "621\n",
      "622\n",
      "623\n",
      "624\n",
      "625\n",
      "626\n",
      "627\n",
      "628\n",
      "629\n",
      "630\n",
      "631\n",
      "632\n",
      "633\n",
      "634\n",
      "635\n",
      "636\n",
      "637\n",
      "638\n",
      "639\n",
      "640\n",
      "641\n",
      "642\n",
      "643\n",
      "644\n",
      "645\n",
      "646\n",
      "647\n",
      "648\n",
      "649\n",
      "650\n",
      "651\n",
      "652\n",
      "653\n",
      "654\n",
      "655\n",
      "656\n",
      "657\n",
      "658\n",
      "659\n",
      "660\n",
      "661\n",
      "662\n",
      "663\n",
      "664\n",
      "665\n",
      "666\n",
      "667\n",
      "668\n",
      "669\n",
      "670\n",
      "671\n",
      "672\n",
      "673\n",
      "674\n",
      "675\n",
      "676\n",
      "677\n",
      "678\n",
      "679\n",
      "680\n",
      "681\n",
      "682\n",
      "683\n",
      "684\n",
      "685\n",
      "686\n",
      "687\n",
      "688\n",
      "689\n",
      "690\n",
      "691\n",
      "692\n",
      "693\n",
      "694\n",
      "695\n",
      "696\n",
      "697\n",
      "698\n",
      "699\n",
      "700\n",
      "701\n",
      "702\n",
      "703\n",
      "704\n",
      "705\n",
      "706\n",
      "707\n",
      "708\n",
      "709\n",
      "710\n",
      "711\n",
      "712\n",
      "713\n",
      "714\n",
      "715\n",
      "716\n",
      "717\n",
      "718\n",
      "719\n",
      "720\n",
      "721\n",
      "722\n",
      "723\n",
      "724\n",
      "725\n",
      "726\n",
      "727\n",
      "728\n",
      "729\n",
      "730\n",
      "731\n",
      "732\n",
      "733\n",
      "734\n",
      "735\n",
      "736\n",
      "737\n",
      "738\n",
      "739\n",
      "740\n",
      "741\n",
      "742\n",
      "743\n",
      "744\n",
      "745\n",
      "746\n",
      "747\n",
      "748\n",
      "749\n",
      "750\n",
      "751\n",
      "752\n",
      "753\n",
      "754\n",
      "755\n",
      "756\n",
      "757\n",
      "758\n",
      "759\n",
      "760\n",
      "761\n",
      "762\n",
      "763\n",
      "764\n",
      "765\n",
      "766\n",
      "767\n",
      "768\n",
      "769\n",
      "770\n",
      "771\n",
      "772\n",
      "773\n",
      "774\n",
      "775\n",
      "776\n",
      "777\n",
      "778\n",
      "779\n",
      "780\n",
      "781\n",
      "782\n",
      "783\n",
      "784\n",
      "785\n",
      "786\n",
      "787\n",
      "788\n",
      "789\n",
      "790\n",
      "791\n",
      "792\n",
      "793\n",
      "794\n",
      "795\n",
      "796\n",
      "797\n",
      "798\n",
      "799\n",
      "800\n",
      "801\n",
      "802\n",
      "803\n",
      "804\n",
      "805\n",
      "806\n",
      "807\n",
      "808\n",
      "809\n",
      "810\n",
      "811\n",
      "812\n",
      "813\n",
      "814\n",
      "815\n",
      "816\n",
      "817\n",
      "818\n",
      "819\n",
      "820\n",
      "821\n",
      "822\n",
      "823\n",
      "824\n",
      "825\n",
      "826\n",
      "827\n",
      "828\n",
      "829\n",
      "830\n",
      "831\n",
      "832\n",
      "833\n",
      "834\n",
      "835\n",
      "836\n",
      "837\n",
      "838\n",
      "839\n",
      "840\n",
      "841\n",
      "842\n",
      "843\n",
      "844\n",
      "845\n",
      "846\n",
      "847\n",
      "848\n",
      "849\n",
      "850\n",
      "851\n",
      "852\n",
      "853\n",
      "854\n",
      "855\n",
      "856\n",
      "857\n",
      "858\n",
      "859\n",
      "860\n",
      "861\n",
      "862\n",
      "863\n",
      "864\n",
      "865\n",
      "866\n",
      "867\n",
      "868\n",
      "869\n",
      "870\n",
      "871\n",
      "872\n",
      "873\n",
      "874\n",
      "875\n",
      "876\n",
      "877\n",
      "878\n",
      "879\n",
      "880\n",
      "881\n",
      "882\n",
      "883\n",
      "884\n",
      "885\n",
      "886\n",
      "887\n",
      "888\n",
      "889\n",
      "890\n",
      "891\n",
      "892\n",
      "893\n",
      "894\n",
      "895\n",
      "896\n",
      "897\n",
      "898\n",
      "899\n",
      "900\n",
      "901\n",
      "902\n",
      "903\n",
      "904\n",
      "905\n",
      "906\n",
      "907\n",
      "908\n",
      "909\n",
      "910\n",
      "911\n",
      "912\n",
      "913\n",
      "914\n",
      "915\n",
      "916\n",
      "917\n",
      "918\n",
      "919\n",
      "920\n",
      "921\n",
      "922\n",
      "923\n",
      "924\n",
      "925\n",
      "926\n",
      "927\n",
      "928\n",
      "929\n",
      "930\n",
      "931\n",
      "932\n",
      "933\n",
      "934\n",
      "935\n",
      "936\n",
      "937\n",
      "938\n",
      "939\n",
      "940\n",
      "941\n",
      "942\n",
      "943\n",
      "944\n",
      "945\n",
      "946\n",
      "947\n",
      "948\n",
      "949\n",
      "950\n",
      "951\n",
      "952\n",
      "953\n",
      "954\n",
      "955\n",
      "956\n",
      "957\n",
      "958\n",
      "959\n",
      "960\n",
      "961\n",
      "962\n",
      "963\n",
      "964\n",
      "965\n",
      "966\n",
      "967\n",
      "968\n",
      "969\n",
      "970\n",
      "971\n",
      "972\n",
      "973\n",
      "974\n",
      "975\n",
      "976\n",
      "977\n",
      "978\n",
      "979\n",
      "980\n",
      "981\n",
      "982\n",
      "983\n",
      "984\n",
      "985\n",
      "986\n",
      "987\n",
      "988\n",
      "989\n",
      "990\n",
      "991\n",
      "992\n",
      "993\n",
      "994\n",
      "995\n",
      "996\n",
      "997\n",
      "998\n",
      "999\n",
      "1000\n",
      "1001\n",
      "1002\n",
      "1003\n",
      "1004\n",
      "1005\n",
      "1006\n",
      "1007\n",
      "1008\n",
      "1009\n",
      "1010\n",
      "1011\n",
      "1012\n",
      "1013\n",
      "1014\n",
      "1015\n",
      "1016\n",
      "1017\n",
      "1018\n",
      "1019\n",
      "1020\n",
      "1021\n",
      "1022\n",
      "1023\n",
      "1024\n",
      "1025\n",
      "1026\n",
      "1027\n",
      "1028\n",
      "1029\n",
      "1030\n",
      "1031\n",
      "1032\n",
      "1033\n",
      "1034\n",
      "1035\n",
      "1036\n",
      "1037\n",
      "1038\n",
      "1039\n",
      "1040\n",
      "1041\n",
      "1042\n",
      "1043\n",
      "1044\n",
      "1045\n",
      "1046\n",
      "1047\n",
      "1048\n",
      "1049\n",
      "1050\n",
      "1051\n",
      "1052\n",
      "1053\n",
      "1054\n",
      "1055\n",
      "1056\n",
      "1057\n",
      "1058\n",
      "1059\n",
      "1060\n",
      "1061\n",
      "1062\n",
      "1063\n",
      "1064\n",
      "1065\n",
      "1066\n",
      "1067\n",
      "1068\n",
      "1069\n",
      "1070\n",
      "1071\n",
      "1072\n",
      "1073\n",
      "1074\n",
      "1075\n",
      "1076\n",
      "1077\n",
      "1078\n",
      "1079\n",
      "1080\n",
      "1081\n",
      "1082\n",
      "1083\n",
      "1084\n",
      "1085\n",
      "1086\n",
      "1087\n",
      "1088\n",
      "1089\n",
      "1090\n"
     ]
    },
    {
     "data": {
      "image/png": "[encoded data removed]",
      "image/svg+xml": [
       "<?xml version=\"1.0\" encoding=\"utf-8\" standalone=\"no\"?>\n",
       "<!DOCTYPE svg PUBLIC \"-//W3C//DTD SVG 1.1//EN\"\n",
       "  \"http://www.w3.org/Graphics/SVG/1.1/DTD/svg11.dtd\">\n",
       "<svg xmlns:xlink=\"http://www.w3.org/1999/xlink\" width=\"432pt\" height=\"432pt\" viewBox=\"0 0 432 432\" xmlns=\"http://www.w3.org/2000/svg\" version=\"1.1\">\n",
       " <metadata>\n",
       "  <rdf:RDF xmlns:dc=\"http://purl.org/dc/elements/1.1/\" xmlns:cc=\"http://creativecommons.org/ns#\" xmlns:rdf=\"http://www.w3.org/1999/02/22-rdf-syntax-ns#\">\n",
       "   <cc:Work>\n",
       "    <dc:type rdf:resource=\"http://purl.org/dc/dcmitype/StillImage\"/>\n",
       "    <dc:date>2023-12-08T19:13:59.807384</dc:date>\n",
       "    <dc:format>image/svg+xml</dc:format>\n",
       "    <dc:creator>\n",
       "     <cc:Agent>\n",
       "      <dc:title>Matplotlib v3.8.0, https://matplotlib.org/</dc:title>\n",
       "     </cc:Agent>\n",
       "    </dc:creator>\n",
       "   </cc:Work>\n",
       "  </rdf:RDF>\n",
       " </metadata>\n",
       " <defs>\n",
       "  <style type=\"text/css\">*{stroke-linejoin: round; stroke-linecap: butt}</style>\n",
       " </defs>\n",
       " <g id=\"figure_1\">\n",
       "  <g id=\"patch_1\">\n",
       "   <path d=\"M 0 432 \n",
       "L 432 432 \n",
       "L 432 0 \n",
       "L 0 0 \n",
       "z\n",
       "\" style=\"fill: #ffffff\"/>\n",
       "  </g>\n",
       "  <g id=\"axes_1\">\n",
       "   <g id=\"patch_2\">\n",
       "    <path d=\"M 47.912087 392.807151 \n",
       "L 421.35622 392.807151 \n",
       "L 421.35622 20.172099 \n",
       "L 47.912087 20.172099 \n",
       "z\n",
       "\" style=\"fill: #ffffff\"/>\n",
       "   </g>\n",
       "   <g id=\"PathCollection_1\">\n",
       "    <defs>\n",
       "     <path id=\"m53fc581c44\" d=\"M 0 2.5 \n",
       "C 0.663008 2.5 1.29895 2.236584 1.767767 1.767767 \n",
       "C 2.236584 1.29895 2.5 0.663008 2.5 0 \n",
       "C 2.5 -0.663008 2.236584 -1.29895 1.767767 -1.767767 \n",
       "C 1.29895 -2.236584 0.663008 -2.5 0 -2.5 \n",
       "C -0.663008 -2.5 -1.29895 -2.236584 -1.767767 -1.767767 \n",
       "C -2.236584 -1.29895 -2.5 -0.663008 -2.5 0 \n",
       "C -2.5 0.663008 -2.236584 1.29895 -1.767767 1.767767 \n",
       "C -1.29895 2.236584 -0.663008 2.5 0 2.5 \n",
       "z\n",
       "\" style=\"stroke: #000000; stroke-opacity: 0\"/>\n",
       "    </defs>\n",
       "    <g clip-path=\"url(#peba44b3802)\">\n",
       "     <use xlink:href=\"#m53fc581c44\" x=\"56.021262\" y=\"371.080123\" style=\"fill: #5dc90a; stroke: #000000; stroke-opacity: 0\"/>\n",
       "     <use xlink:href=\"#m53fc581c44\" x=\"56.198922\" y=\"366.588351\" style=\"fill: #5dc90a; stroke: #000000; stroke-opacity: 0\"/>\n",
       "     <use xlink:href=\"#m53fc581c44\" x=\"56.374714\" y=\"362.096578\" style=\"fill: #5dc90a; stroke: #000000; stroke-opacity: 0\"/>\n",
       "     <use xlink:href=\"#m53fc581c44\" x=\"56.549005\" y=\"357.604806\" style=\"fill: #5dc90a; stroke: #000000; stroke-opacity: 0\"/>\n",
       "     <use xlink:href=\"#m53fc581c44\" x=\"56.722149\" y=\"353.113033\" style=\"fill: #5dc90a; stroke: #000000; stroke-opacity: 0\"/>\n",
       "     <use xlink:href=\"#m53fc581c44\" x=\"56.89449\" y=\"348.621261\" style=\"fill: #5dc90a; stroke: #000000; stroke-opacity: 0\"/>\n",
       "     <use xlink:href=\"#m53fc581c44\" x=\"57.066361\" y=\"344.129488\" style=\"fill: #5dc90a; stroke: #000000; stroke-opacity: 0\"/>\n",
       "     <use xlink:href=\"#m53fc581c44\" x=\"57.238092\" y=\"339.637715\" style=\"fill: #5dc90a; stroke: #000000; stroke-opacity: 0\"/>\n",
       "     <use xlink:href=\"#m53fc581c44\" x=\"57.410005\" y=\"335.145943\" style=\"fill: #5dc90a; stroke: #000000; stroke-opacity: 0\"/>\n",
       "     <use xlink:href=\"#m53fc581c44\" x=\"57.582418\" y=\"330.65417\" style=\"fill: #5dc90a; stroke: #000000; stroke-opacity: 0\"/>\n",
       "     <use xlink:href=\"#m53fc581c44\" x=\"57.755651\" y=\"326.162398\" style=\"fill: #5dc90a; stroke: #000000; stroke-opacity: 0\"/>\n",
       "     <use xlink:href=\"#m53fc581c44\" x=\"57.930021\" y=\"321.670625\" style=\"fill: #5dc90a; stroke: #000000; stroke-opacity: 0\"/>\n",
       "     <use xlink:href=\"#m53fc581c44\" x=\"58.105848\" y=\"317.178853\" style=\"fill: #5dc90a; stroke: #000000; stroke-opacity: 0\"/>\n",
       "     <use xlink:href=\"#m53fc581c44\" x=\"58.283459\" y=\"312.68708\" style=\"fill: #5dc90a; stroke: #000000; stroke-opacity: 0\"/>\n",
       "     <use xlink:href=\"#m53fc581c44\" x=\"58.463181\" y=\"308.195307\" style=\"fill: #5dc90a; stroke: #000000; stroke-opacity: 0\"/>\n",
       "     <use xlink:href=\"#m53fc581c44\" x=\"58.645356\" y=\"303.703535\" style=\"fill: #5dc90a; stroke: #000000; stroke-opacity: 0\"/>\n",
       "     <use xlink:href=\"#m53fc581c44\" x=\"58.830332\" y=\"299.211762\" style=\"fill: #5dc90a; stroke: #000000; stroke-opacity: 0\"/>\n",
       "     <use xlink:href=\"#m53fc581c44\" x=\"59.018472\" y=\"294.71999\" style=\"fill: #5dc90a; stroke: #000000; stroke-opacity: 0\"/>\n",
       "     <use xlink:href=\"#m53fc581c44\" x=\"59.210155\" y=\"290.228217\" style=\"fill: #5dc90a; stroke: #000000; stroke-opacity: 0\"/>\n",
       "     <use xlink:href=\"#m53fc581c44\" x=\"59.405779\" y=\"285.736445\" style=\"fill: #5dc90a; stroke: #000000; stroke-opacity: 0\"/>\n",
       "     <use xlink:href=\"#m53fc581c44\" x=\"59.605766\" y=\"281.244672\" style=\"fill: #5dc90a; stroke: #000000; stroke-opacity: 0\"/>\n",
       "     <use xlink:href=\"#m53fc581c44\" x=\"59.810565\" y=\"276.752899\" style=\"fill: #5dc90a; stroke: #000000; stroke-opacity: 0\"/>\n",
       "     <use xlink:href=\"#m53fc581c44\" x=\"60.020657\" y=\"272.261127\" style=\"fill: #5dc90a; stroke: #000000; stroke-opacity: 0\"/>\n",
       "     <use xlink:href=\"#m53fc581c44\" x=\"60.23656\" y=\"267.769354\" style=\"fill: #5dc90a; stroke: #000000; stroke-opacity: 0\"/>\n",
       "     <use xlink:href=\"#m53fc581c44\" x=\"60.458837\" y=\"263.277582\" style=\"fill: #5dc90a; stroke: #000000; stroke-opacity: 0\"/>\n",
       "     <use xlink:href=\"#m53fc581c44\" x=\"60.688104\" y=\"258.785809\" style=\"fill: #5dc90a; stroke: #000000; stroke-opacity: 0\"/>\n",
       "     <use xlink:href=\"#m53fc581c44\" x=\"60.925037\" y=\"254.294037\" style=\"fill: #5dc90a; stroke: #000000; stroke-opacity: 0\"/>\n",
       "     <use xlink:href=\"#m53fc581c44\" x=\"61.170385\" y=\"249.802264\" style=\"fill: #5dc90a; stroke: #000000; stroke-opacity: 0\"/>\n",
       "     <use xlink:href=\"#m53fc581c44\" x=\"61.424981\" y=\"245.310492\" style=\"fill: #5dc90a; stroke: #000000; stroke-opacity: 0\"/>\n",
       "     <use xlink:href=\"#m53fc581c44\" x=\"61.689764\" y=\"240.818719\" style=\"fill: #5dc90a; stroke: #000000; stroke-opacity: 0\"/>\n",
       "     <use xlink:href=\"#m53fc581c44\" x=\"61.965791\" y=\"236.326946\" style=\"fill: #5dc90a; stroke: #000000; stroke-opacity: 0\"/>\n",
       "     <use xlink:href=\"#m53fc581c44\" x=\"62.25427\" y=\"231.835174\" style=\"fill: #5dc90a; stroke: #000000; stroke-opacity: 0\"/>\n",
       "     <use xlink:href=\"#m53fc581c44\" x=\"62.556587\" y=\"227.343401\" style=\"fill: #5dc90a; stroke: #000000; stroke-opacity: 0\"/>\n",
       "     <use xlink:href=\"#m53fc581c44\" x=\"62.874348\" y=\"222.851629\" style=\"fill: #5dc90a; stroke: #000000; stroke-opacity: 0\"/>\n",
       "     <use xlink:href=\"#m53fc581c44\" x=\"63.209433\" y=\"218.359856\" style=\"fill: #5dc90a; stroke: #000000; stroke-opacity: 0\"/>\n",
       "     <use xlink:href=\"#m53fc581c44\" x=\"63.564065\" y=\"213.868084\" style=\"fill: #5dc90a; stroke: #000000; stroke-opacity: 0\"/>\n",
       "     <use xlink:href=\"#m53fc581c44\" x=\"63.940901\" y=\"209.376311\" style=\"fill: #5dc90a; stroke: #000000; stroke-opacity: 0\"/>\n",
       "     <use xlink:href=\"#m53fc581c44\" x=\"64.343164\" y=\"204.884538\" style=\"fill: #5dc90a; stroke: #000000; stroke-opacity: 0\"/>\n",
       "     <use xlink:href=\"#m53fc581c44\" x=\"64.774816\" y=\"200.392766\" style=\"fill: #5dc90a; stroke: #000000; stroke-opacity: 0\"/>\n",
       "     <use xlink:href=\"#m53fc581c44\" x=\"65.240815\" y=\"195.900993\" style=\"fill: #5dc90a; stroke: #000000; stroke-opacity: 0\"/>\n",
       "     <use xlink:href=\"#m53fc581c44\" x=\"65.747495\" y=\"191.409221\" style=\"fill: #5dc90a; stroke: #000000; stroke-opacity: 0\"/>\n",
       "     <use xlink:href=\"#m53fc581c44\" x=\"66.303135\" y=\"186.917448\" style=\"fill: #5dc90a; stroke: #000000; stroke-opacity: 0\"/>\n",
       "     <use xlink:href=\"#m53fc581c44\" x=\"66.918892\" y=\"182.425676\" style=\"fill: #5dc90a; stroke: #000000; stroke-opacity: 0\"/>\n",
       "     <use xlink:href=\"#m53fc581c44\" x=\"67.610355\" y=\"177.933903\" style=\"fill: #5dc90a; stroke: #000000; stroke-opacity: 0\"/>\n",
       "     <use xlink:href=\"#m53fc581c44\" x=\"68.400376\" y=\"173.44213\" style=\"fill: #5dc90a; stroke: #000000; stroke-opacity: 0\"/>\n",
       "     <use xlink:href=\"#m53fc581c44\" x=\"69.324689\" y=\"168.950358\" style=\"fill: #5dc90a; stroke: #000000; stroke-opacity: 0\"/>\n",
       "     <use xlink:href=\"#m53fc581c44\" x=\"70.444617\" y=\"164.458585\" style=\"fill: #5dc90a; stroke: #000000; stroke-opacity: 0\"/>\n",
       "     <use xlink:href=\"#m53fc581c44\" x=\"71.882148\" y=\"159.966813\" style=\"fill: #5dc90a; stroke: #000000; stroke-opacity: 0\"/>\n",
       "     <use xlink:href=\"#m53fc581c44\" x=\"73.958948\" y=\"155.47504\" style=\"fill: #5dc90a; stroke: #000000; stroke-opacity: 0\"/>\n",
       "     <use xlink:href=\"#m53fc581c44\" x=\"80.167305\" y=\"150.983268\" style=\"fill: #5dc90a; stroke: #000000; stroke-opacity: 0\"/>\n",
       "     <use xlink:href=\"#m53fc581c44\" x=\"80.167305\" y=\"150.983268\" style=\"fill: #5dc90a; stroke: #000000; stroke-opacity: 0\"/>\n",
       "     <use xlink:href=\"#m53fc581c44\" x=\"373.012271\" y=\"371.080123\" style=\"fill: #5dc90a; stroke: #000000; stroke-opacity: 0\"/>\n",
       "     <use xlink:href=\"#m53fc581c44\" x=\"355.870321\" y=\"366.588351\" style=\"fill: #5dc90a; stroke: #000000; stroke-opacity: 0\"/>\n",
       "     <use xlink:href=\"#m53fc581c44\" x=\"340.066666\" y=\"362.096578\" style=\"fill: #5dc90a; stroke: #000000; stroke-opacity: 0\"/>\n",
       "     <use xlink:href=\"#m53fc581c44\" x=\"325.464331\" y=\"357.604806\" style=\"fill: #5dc90a; stroke: #000000; stroke-opacity: 0\"/>\n",
       "     <use xlink:href=\"#m53fc581c44\" x=\"311.943666\" y=\"353.113033\" style=\"fill: #5dc90a; stroke: #000000; stroke-opacity: 0\"/>\n",
       "     <use xlink:href=\"#m53fc581c44\" x=\"299.399704\" y=\"348.621261\" style=\"fill: #5dc90a; stroke: #000000; stroke-opacity: 0\"/>\n",
       "     <use xlink:href=\"#m53fc581c44\" x=\"287.739966\" y=\"344.129488\" style=\"fill: #5dc90a; stroke: #000000; stroke-opacity: 0\"/>\n",
       "     <use xlink:href=\"#m53fc581c44\" x=\"276.882644\" y=\"339.637715\" style=\"fill: #5dc90a; stroke: #000000; stroke-opacity: 0\"/>\n",
       "     <use xlink:href=\"#m53fc581c44\" x=\"266.755076\" y=\"335.145943\" style=\"fill: #5dc90a; stroke: #000000; stroke-opacity: 0\"/>\n",
       "     <use xlink:href=\"#m53fc581c44\" x=\"257.292465\" y=\"330.65417\" style=\"fill: #5dc90a; stroke: #000000; stroke-opacity: 0\"/>\n",
       "     <use xlink:href=\"#m53fc581c44\" x=\"248.43681\" y=\"326.162398\" style=\"fill: #5dc90a; stroke: #000000; stroke-opacity: 0\"/>\n",
       "     <use xlink:href=\"#m53fc581c44\" x=\"240.136003\" y=\"321.670625\" style=\"fill: #5dc90a; stroke: #000000; stroke-opacity: 0\"/>\n",
       "     <use xlink:href=\"#m53fc581c44\" x=\"232.343064\" y=\"317.178853\" style=\"fill: #5dc90a; stroke: #000000; stroke-opacity: 0\"/>\n",
       "     <use xlink:href=\"#m53fc581c44\" x=\"225.015503\" y=\"312.68708\" style=\"fill: #5dc90a; stroke: #000000; stroke-opacity: 0\"/>\n",
       "     <use xlink:href=\"#m53fc581c44\" x=\"218.114775\" y=\"308.195307\" style=\"fill: #5dc90a; stroke: #000000; stroke-opacity: 0\"/>\n",
       "     <use xlink:href=\"#m53fc581c44\" x=\"211.605819\" y=\"303.703535\" style=\"fill: #5dc90a; stroke: #000000; stroke-opacity: 0\"/>\n",
       "     <use xlink:href=\"#m53fc581c44\" x=\"205.456667\" y=\"299.211762\" style=\"fill: #5dc90a; stroke: #000000; stroke-opacity: 0\"/>\n",
       "     <use xlink:href=\"#m53fc581c44\" x=\"199.638108\" y=\"294.71999\" style=\"fill: #5dc90a; stroke: #000000; stroke-opacity: 0\"/>\n",
       "     <use xlink:href=\"#m53fc581c44\" x=\"194.123394\" y=\"290.228217\" style=\"fill: #5dc90a; stroke: #000000; stroke-opacity: 0\"/>\n",
       "     <use xlink:href=\"#m53fc581c44\" x=\"188.887994\" y=\"285.736445\" style=\"fill: #5dc90a; stroke: #000000; stroke-opacity: 0\"/>\n",
       "     <use xlink:href=\"#m53fc581c44\" x=\"183.909367\" y=\"281.244672\" style=\"fill: #5dc90a; stroke: #000000; stroke-opacity: 0\"/>\n",
       "     <use xlink:href=\"#m53fc581c44\" x=\"179.166768\" y=\"276.752899\" style=\"fill: #5dc90a; stroke: #000000; stroke-opacity: 0\"/>\n",
       "     <use xlink:href=\"#m53fc581c44\" x=\"174.641072\" y=\"272.261127\" style=\"fill: #5dc90a; stroke: #000000; stroke-opacity: 0\"/>\n",
       "     <use xlink:href=\"#m53fc581c44\" x=\"170.314616\" y=\"267.769354\" style=\"fill: #5dc90a; stroke: #000000; stroke-opacity: 0\"/>\n",
       "     <use xlink:href=\"#m53fc581c44\" x=\"166.171051\" y=\"263.277582\" style=\"fill: #5dc90a; stroke: #000000; stroke-opacity: 0\"/>\n",
       "     <use xlink:href=\"#m53fc581c44\" x=\"162.195213\" y=\"258.785809\" style=\"fill: #5dc90a; stroke: #000000; stroke-opacity: 0\"/>\n",
       "     <use xlink:href=\"#m53fc581c44\" x=\"158.372993\" y=\"254.294037\" style=\"fill: #5dc90a; stroke: #000000; stroke-opacity: 0\"/>\n",
       "     <use xlink:href=\"#m53fc581c44\" x=\"154.691226\" y=\"249.802264\" style=\"fill: #5dc90a; stroke: #000000; stroke-opacity: 0\"/>\n",
       "     <use xlink:href=\"#m53fc581c44\" x=\"151.137578\" y=\"245.310492\" style=\"fill: #5dc90a; stroke: #000000; stroke-opacity: 0\"/>\n",
       "     <use xlink:href=\"#m53fc581c44\" x=\"147.700436\" y=\"240.818719\" style=\"fill: #5dc90a; stroke: #000000; stroke-opacity: 0\"/>\n",
       "     <use xlink:href=\"#m53fc581c44\" x=\"144.36881\" y=\"236.326946\" style=\"fill: #5dc90a; stroke: #000000; stroke-opacity: 0\"/>\n",
       "     <use xlink:href=\"#m53fc581c44\" x=\"141.132222\" y=\"231.835174\" style=\"fill: #5dc90a; stroke: #000000; stroke-opacity: 0\"/>\n",
       "     <use xlink:href=\"#m53fc581c44\" x=\"137.980605\" y=\"227.343401\" style=\"fill: #5dc90a; stroke: #000000; stroke-opacity: 0\"/>\n",
       "     <use xlink:href=\"#m53fc581c44\" x=\"134.904191\" y=\"222.851629\" style=\"fill: #5dc90a; stroke: #000000; stroke-opacity: 0\"/>\n",
       "     <use xlink:href=\"#m53fc581c44\" x=\"131.893387\" y=\"218.359856\" style=\"fill: #5dc90a; stroke: #000000; stroke-opacity: 0\"/>\n",
       "     <use xlink:href=\"#m53fc581c44\" x=\"128.938644\" y=\"213.868084\" style=\"fill: #5dc90a; stroke: #000000; stroke-opacity: 0\"/>\n",
       "     <use xlink:href=\"#m53fc581c44\" x=\"126.030299\" y=\"209.376311\" style=\"fill: #5dc90a; stroke: #000000; stroke-opacity: 0\"/>\n",
       "     <use xlink:href=\"#m53fc581c44\" x=\"123.158384\" y=\"204.884538\" style=\"fill: #5dc90a; stroke: #000000; stroke-opacity: 0\"/>\n",
       "     <use xlink:href=\"#m53fc581c44\" x=\"120.312382\" y=\"200.392766\" style=\"fill: #5dc90a; stroke: #000000; stroke-opacity: 0\"/>\n",
       "     <use xlink:href=\"#m53fc581c44\" x=\"117.480915\" y=\"195.900993\" style=\"fill: #5dc90a; stroke: #000000; stroke-opacity: 0\"/>\n",
       "     <use xlink:href=\"#m53fc581c44\" x=\"114.651293\" y=\"191.409221\" style=\"fill: #5dc90a; stroke: #000000; stroke-opacity: 0\"/>\n",
       "     <use xlink:href=\"#m53fc581c44\" x=\"111.808883\" y=\"186.917448\" style=\"fill: #5dc90a; stroke: #000000; stroke-opacity: 0\"/>\n",
       "     <use xlink:href=\"#m53fc581c44\" x=\"108.936114\" y=\"182.425676\" style=\"fill: #5dc90a; stroke: #000000; stroke-opacity: 0\"/>\n",
       "     <use xlink:href=\"#m53fc581c44\" x=\"106.010869\" y=\"177.933903\" style=\"fill: #5dc90a; stroke: #000000; stroke-opacity: 0\"/>\n",
       "     <use xlink:href=\"#m53fc581c44\" x=\"103.003622\" y=\"173.44213\" style=\"fill: #5dc90a; stroke: #000000; stroke-opacity: 0\"/>\n",
       "     <use xlink:href=\"#m53fc581c44\" x=\"99.871835\" y=\"168.950358\" style=\"fill: #5dc90a; stroke: #000000; stroke-opacity: 0\"/>\n",
       "     <use xlink:href=\"#m53fc581c44\" x=\"96.547345\" y=\"164.458585\" style=\"fill: #5dc90a; stroke: #000000; stroke-opacity: 0\"/>\n",
       "     <use xlink:href=\"#m53fc581c44\" x=\"92.901557\" y=\"159.966813\" style=\"fill: #5dc90a; stroke: #000000; stroke-opacity: 0\"/>\n",
       "     <use xlink:href=\"#m53fc581c44\" x=\"88.606979\" y=\"155.47504\" style=\"fill: #5dc90a; stroke: #000000; stroke-opacity: 0\"/>\n",
       "     <use xlink:href=\"#m53fc581c44\" x=\"80.167305\" y=\"150.983268\" style=\"fill: #5dc90a; stroke: #000000; stroke-opacity: 0\"/>\n",
       "    </g>\n",
       "   </g>\n",
       "   <g id=\"matplotlib.axis_1\">\n",
       "    <g id=\"xtick_1\">\n",
       "     <g id=\"line2d_1\">\n",
       "      <defs>\n",
       "       <path id=\"m43a2e03cb8\" d=\"M 0 0 \n",
       "L 0 -2.5 \n",
       "\" style=\"stroke: #000000; stroke-width: 0.5\"/>\n",
       "      </defs>\n",
       "      <g>\n",
       "       <use xlink:href=\"#m43a2e03cb8\" x=\"47.912087\" y=\"392.807151\" style=\"stroke: #000000; stroke-width: 0.5\"/>\n",
       "      </g>\n",
       "     </g>\n",
       "     <g id=\"line2d_2\">\n",
       "      <defs>\n",
       "       <path id=\"m9d4974794f\" d=\"M 0 0 \n",
       "L 0 2.5 \n",
       "\" style=\"stroke: #000000; stroke-width: 0.5\"/>\n",
       "      </defs>\n",
       "      <g>\n",
       "       <use xlink:href=\"#m9d4974794f\" x=\"47.912087\" y=\"20.172099\" style=\"stroke: #000000; stroke-width: 0.5\"/>\n",
       "      </g>\n",
       "     </g>\n",
       "     <g id=\"text_1\">\n",
       "      <!-- $10^{-7}$ -->\n",
       "      <g transform=\"translate(33.872087 405.425276) scale(0.12 -0.12)\">\n",
       "       <defs>\n",
       "        <path id=\"DejaVuSerif-31\" d=\"M 909 0 \n",
       "L 909 331 \n",
       "L 1722 331 \n",
       "L 1722 4213 \n",
       "L 781 3603 \n",
       "L 781 4013 \n",
       "L 1919 4750 \n",
       "L 2350 4750 \n",
       "L 2350 331 \n",
       "L 3163 331 \n",
       "L 3163 0 \n",
       "L 909 0 \n",
       "z\n",
       "\" transform=\"scale(0.015625)\"/>\n",
       "        <path id=\"DejaVuSerif-30\" d=\"M 2034 219 \n",
       "Q 2513 219 2750 744 \n",
       "Q 2988 1269 2988 2328 \n",
       "Q 2988 3391 2750 3916 \n",
       "Q 2513 4441 2034 4441 \n",
       "Q 1556 4441 1318 3916 \n",
       "Q 1081 3391 1081 2328 \n",
       "Q 1081 1269 1318 744 \n",
       "Q 1556 219 2034 219 \n",
       "z\n",
       "M 2034 -91 \n",
       "Q 1275 -91 848 546 \n",
       "Q 422 1184 422 2328 \n",
       "Q 422 3475 848 4112 \n",
       "Q 1275 4750 2034 4750 \n",
       "Q 2797 4750 3222 4112 \n",
       "Q 3647 3475 3647 2328 \n",
       "Q 3647 1184 3222 546 \n",
       "Q 2797 -91 2034 -91 \n",
       "z\n",
       "\" transform=\"scale(0.015625)\"/>\n",
       "        <path id=\"DejaVuSerif-2212\" d=\"M 678 2259 \n",
       "L 4684 2259 \n",
       "L 4684 1753 \n",
       "L 678 1753 \n",
       "L 678 2259 \n",
       "z\n",
       "\" transform=\"scale(0.015625)\"/>\n",
       "        <path id=\"DejaVuSerif-37\" d=\"M 3609 4347 \n",
       "L 1784 0 \n",
       "L 1319 0 \n",
       "L 3059 4153 \n",
       "L 903 4153 \n",
       "L 903 3578 \n",
       "L 538 3578 \n",
       "L 538 4666 \n",
       "L 3609 4666 \n",
       "L 3609 4347 \n",
       "z\n",
       "\" transform=\"scale(0.015625)\"/>\n",
       "       </defs>\n",
       "       <use xlink:href=\"#DejaVuSerif-31\" transform=\"translate(0 0.63125)\"/>\n",
       "       <use xlink:href=\"#DejaVuSerif-30\" transform=\"translate(63.623047 0.63125)\"/>\n",
       "       <use xlink:href=\"#DejaVuSerif-2212\" transform=\"translate(128.154453 36.965625) scale(0.7)\"/>\n",
       "       <use xlink:href=\"#DejaVuSerif-37\" transform=\"translate(186.806797 36.965625) scale(0.7)\"/>\n",
       "      </g>\n",
       "     </g>\n",
       "    </g>\n",
       "    <g id=\"xtick_2\">\n",
       "     <g id=\"line2d_3\">\n",
       "      <g>\n",
       "       <use xlink:href=\"#m43a2e03cb8\" x=\"94.592603\" y=\"392.807151\" style=\"stroke: #000000; stroke-width: 0.5\"/>\n",
       "      </g>\n",
       "     </g>\n",
       "     <g id=\"line2d_4\">\n",
       "      <g>\n",
       "       <use xlink:href=\"#m9d4974794f\" x=\"94.592603\" y=\"20.172099\" style=\"stroke: #000000; stroke-width: 0.5\"/>\n",
       "      </g>\n",
       "     </g>\n",
       "     <g id=\"text_2\">\n",
       "      <!-- $10^{-6}$ -->\n",
       "      <g transform=\"translate(80.552603 405.425276) scale(0.12 -0.12)\">\n",
       "       <defs>\n",
       "        <path id=\"DejaVuSerif-36\" d=\"M 2094 219 \n",
       "Q 2534 219 2771 542 \n",
       "Q 3009 866 3009 1472 \n",
       "Q 3009 2078 2771 2401 \n",
       "Q 2534 2725 2094 2725 \n",
       "Q 1647 2725 1412 2412 \n",
       "Q 1178 2100 1178 1509 \n",
       "Q 1178 888 1415 553 \n",
       "Q 1653 219 2094 219 \n",
       "z\n",
       "M 1075 2569 \n",
       "Q 1288 2803 1556 2918 \n",
       "Q 1825 3034 2163 3034 \n",
       "Q 2859 3034 3264 2615 \n",
       "Q 3669 2197 3669 1472 \n",
       "Q 3669 763 3233 336 \n",
       "Q 2797 -91 2069 -91 \n",
       "Q 1278 -91 853 498 \n",
       "Q 428 1088 428 2181 \n",
       "Q 428 3406 931 4078 \n",
       "Q 1434 4750 2350 4750 \n",
       "Q 2597 4750 2869 4703 \n",
       "Q 3141 4656 3425 4563 \n",
       "L 3425 3794 \n",
       "L 3072 3794 \n",
       "Q 3034 4109 2831 4275 \n",
       "Q 2628 4441 2284 4441 \n",
       "Q 1678 4441 1381 3981 \n",
       "Q 1084 3522 1075 2569 \n",
       "z\n",
       "\" transform=\"scale(0.015625)\"/>\n",
       "       </defs>\n",
       "       <use xlink:href=\"#DejaVuSerif-31\" transform=\"translate(0 0.7125)\"/>\n",
       "       <use xlink:href=\"#DejaVuSerif-30\" transform=\"translate(63.623047 0.7125)\"/>\n",
       "       <use xlink:href=\"#DejaVuSerif-2212\" transform=\"translate(128.154453 37.046875) scale(0.7)\"/>\n",
       "       <use xlink:href=\"#DejaVuSerif-36\" transform=\"translate(186.806797 37.046875) scale(0.7)\"/>\n",
       "      </g>\n",
       "     </g>\n",
       "    </g>\n",
       "    <g id=\"xtick_3\">\n",
       "     <g id=\"line2d_5\">\n",
       "      <g>\n",
       "       <use xlink:href=\"#m43a2e03cb8\" x=\"141.27312\" y=\"392.807151\" style=\"stroke: #000000; stroke-width: 0.5\"/>\n",
       "      </g>\n",
       "     </g>\n",
       "     <g id=\"line2d_6\">\n",
       "      <g>\n",
       "       <use xlink:href=\"#m9d4974794f\" x=\"141.27312\" y=\"20.172099\" style=\"stroke: #000000; stroke-width: 0.5\"/>\n",
       "      </g>\n",
       "     </g>\n",
       "     <g id=\"text_3\">\n",
       "      <!-- $10^{-5}$ -->\n",
       "      <g transform=\"translate(127.23312 405.425276) scale(0.12 -0.12)\">\n",
       "       <defs>\n",
       "        <path id=\"DejaVuSerif-35\" d=\"M 3219 4666 \n",
       "L 3219 4153 \n",
       "L 1081 4153 \n",
       "L 1081 2816 \n",
       "Q 1244 2928 1461 2984 \n",
       "Q 1678 3041 1947 3041 \n",
       "Q 2703 3041 3140 2622 \n",
       "Q 3578 2203 3578 1478 \n",
       "Q 3578 738 3136 323 \n",
       "Q 2694 -91 1894 -91 \n",
       "Q 1572 -91 1234 -12 \n",
       "Q 897 66 544 225 \n",
       "L 544 1131 \n",
       "L 897 1131 \n",
       "Q 925 688 1179 453 \n",
       "Q 1434 219 1894 219 \n",
       "Q 2388 219 2653 544 \n",
       "Q 2919 869 2919 1478 \n",
       "Q 2919 2084 2655 2407 \n",
       "Q 2391 2731 1894 2731 \n",
       "Q 1613 2731 1398 2631 \n",
       "Q 1184 2531 1019 2322 \n",
       "L 750 2322 \n",
       "L 750 4666 \n",
       "L 3219 4666 \n",
       "z\n",
       "\" transform=\"scale(0.015625)\"/>\n",
       "       </defs>\n",
       "       <use xlink:href=\"#DejaVuSerif-31\" transform=\"translate(0 0.63125)\"/>\n",
       "       <use xlink:href=\"#DejaVuSerif-30\" transform=\"translate(63.623047 0.63125)\"/>\n",
       "       <use xlink:href=\"#DejaVuSerif-2212\" transform=\"translate(128.154453 36.965625) scale(0.7)\"/>\n",
       "       <use xlink:href=\"#DejaVuSerif-35\" transform=\"translate(186.806797 36.965625) scale(0.7)\"/>\n",
       "      </g>\n",
       "     </g>\n",
       "    </g>\n",
       "    <g id=\"xtick_4\">\n",
       "     <g id=\"line2d_7\">\n",
       "      <g>\n",
       "       <use xlink:href=\"#m43a2e03cb8\" x=\"187.953637\" y=\"392.807151\" style=\"stroke: #000000; stroke-width: 0.5\"/>\n",
       "      </g>\n",
       "     </g>\n",
       "     <g id=\"line2d_8\">\n",
       "      <g>\n",
       "       <use xlink:href=\"#m9d4974794f\" x=\"187.953637\" y=\"20.172099\" style=\"stroke: #000000; stroke-width: 0.5\"/>\n",
       "      </g>\n",
       "     </g>\n",
       "     <g id=\"text_4\">\n",
       "      <!-- $10^{-4}$ -->\n",
       "      <g transform=\"translate(173.913637 405.425276) scale(0.12 -0.12)\">\n",
       "       <defs>\n",
       "        <path id=\"DejaVuSerif-34\" d=\"M 2234 1581 \n",
       "L 2234 4063 \n",
       "L 641 1581 \n",
       "L 2234 1581 \n",
       "z\n",
       "M 3609 0 \n",
       "L 1484 0 \n",
       "L 1484 331 \n",
       "L 2234 331 \n",
       "L 2234 1247 \n",
       "L 197 1247 \n",
       "L 197 1588 \n",
       "L 2241 4750 \n",
       "L 2859 4750 \n",
       "L 2859 1581 \n",
       "L 3750 1581 \n",
       "L 3750 1247 \n",
       "L 2859 1247 \n",
       "L 2859 331 \n",
       "L 3609 331 \n",
       "L 3609 0 \n",
       "z\n",
       "\" transform=\"scale(0.015625)\"/>\n",
       "       </defs>\n",
       "       <use xlink:href=\"#DejaVuSerif-31\" transform=\"translate(0 0.7125)\"/>\n",
       "       <use xlink:href=\"#DejaVuSerif-30\" transform=\"translate(63.623047 0.7125)\"/>\n",
       "       <use xlink:href=\"#DejaVuSerif-2212\" transform=\"translate(128.154453 37.046875) scale(0.7)\"/>\n",
       "       <use xlink:href=\"#DejaVuSerif-34\" transform=\"translate(186.806797 37.046875) scale(0.7)\"/>\n",
       "      </g>\n",
       "     </g>\n",
       "    </g>\n",
       "    <g id=\"xtick_5\">\n",
       "     <g id=\"line2d_9\">\n",
       "      <g>\n",
       "       <use xlink:href=\"#m43a2e03cb8\" x=\"234.634153\" y=\"392.807151\" style=\"stroke: #000000; stroke-width: 0.5\"/>\n",
       "      </g>\n",
       "     </g>\n",
       "     <g id=\"line2d_10\">\n",
       "      <g>\n",
       "       <use xlink:href=\"#m9d4974794f\" x=\"234.634153\" y=\"20.172099\" style=\"stroke: #000000; stroke-width: 0.5\"/>\n",
       "      </g>\n",
       "     </g>\n",
       "     <g id=\"text_5\">\n",
       "      <!-- $10^{-3}$ -->\n",
       "      <g transform=\"translate(220.594153 405.425276) scale(0.12 -0.12)\">\n",
       "       <defs>\n",
       "        <path id=\"DejaVuSerif-33\" d=\"M 622 4469 \n",
       "Q 988 4606 1323 4678 \n",
       "Q 1659 4750 1953 4750 \n",
       "Q 2638 4750 3022 4454 \n",
       "Q 3406 4159 3406 3634 \n",
       "Q 3406 3213 3140 2930 \n",
       "Q 2875 2647 2388 2547 \n",
       "Q 2963 2466 3280 2130 \n",
       "Q 3597 1794 3597 1259 \n",
       "Q 3597 606 3158 257 \n",
       "Q 2719 -91 1894 -91 \n",
       "Q 1528 -91 1179 -12 \n",
       "Q 831 66 488 225 \n",
       "L 488 1131 \n",
       "L 838 1131 \n",
       "Q 869 681 1141 450 \n",
       "Q 1413 219 1906 219 \n",
       "Q 2384 219 2661 495 \n",
       "Q 2938 772 2938 1253 \n",
       "Q 2938 1803 2653 2086 \n",
       "Q 2369 2369 1819 2369 \n",
       "L 1522 2369 \n",
       "L 1522 2688 \n",
       "L 1678 2688 \n",
       "Q 2225 2688 2498 2914 \n",
       "Q 2772 3141 2772 3597 \n",
       "Q 2772 4006 2547 4223 \n",
       "Q 2322 4441 1900 4441 \n",
       "Q 1478 4441 1245 4241 \n",
       "Q 1013 4041 972 3647 \n",
       "L 622 3647 \n",
       "L 622 4469 \n",
       "z\n",
       "\" transform=\"scale(0.015625)\"/>\n",
       "       </defs>\n",
       "       <use xlink:href=\"#DejaVuSerif-31\" transform=\"translate(0 0.7125)\"/>\n",
       "       <use xlink:href=\"#DejaVuSerif-30\" transform=\"translate(63.623047 0.7125)\"/>\n",
       "       <use xlink:href=\"#DejaVuSerif-2212\" transform=\"translate(128.154453 37.046875) scale(0.7)\"/>\n",
       "       <use xlink:href=\"#DejaVuSerif-33\" transform=\"translate(186.806797 37.046875) scale(0.7)\"/>\n",
       "      </g>\n",
       "     </g>\n",
       "    </g>\n",
       "    <g id=\"xtick_6\">\n",
       "     <g id=\"line2d_11\">\n",
       "      <g>\n",
       "       <use xlink:href=\"#m43a2e03cb8\" x=\"281.31467\" y=\"392.807151\" style=\"stroke: #000000; stroke-width: 0.5\"/>\n",
       "      </g>\n",
       "     </g>\n",
       "     <g id=\"line2d_12\">\n",
       "      <g>\n",
       "       <use xlink:href=\"#m9d4974794f\" x=\"281.31467\" y=\"20.172099\" style=\"stroke: #000000; stroke-width: 0.5\"/>\n",
       "      </g>\n",
       "     </g>\n",
       "     <g id=\"text_6\">\n",
       "      <!-- $10^{-2}$ -->\n",
       "      <g transform=\"translate(267.27467 405.425276) scale(0.12 -0.12)\">\n",
       "       <defs>\n",
       "        <path id=\"DejaVuSerif-32\" d=\"M 819 3553 \n",
       "L 469 3553 \n",
       "L 469 4384 \n",
       "Q 803 4563 1142 4656 \n",
       "Q 1481 4750 1806 4750 \n",
       "Q 2534 4750 2956 4397 \n",
       "Q 3378 4044 3378 3438 \n",
       "Q 3378 2753 2422 1800 \n",
       "Q 2347 1728 2309 1691 \n",
       "L 1131 513 \n",
       "L 3078 513 \n",
       "L 3078 1088 \n",
       "L 3444 1088 \n",
       "L 3444 0 \n",
       "L 434 0 \n",
       "L 434 341 \n",
       "L 1850 1753 \n",
       "Q 2319 2222 2519 2614 \n",
       "Q 2719 3006 2719 3438 \n",
       "Q 2719 3909 2473 4175 \n",
       "Q 2228 4441 1797 4441 \n",
       "Q 1350 4441 1106 4219 \n",
       "Q 863 3997 819 3553 \n",
       "z\n",
       "\" transform=\"scale(0.015625)\"/>\n",
       "       </defs>\n",
       "       <use xlink:href=\"#DejaVuSerif-31\" transform=\"translate(0 0.7125)\"/>\n",
       "       <use xlink:href=\"#DejaVuSerif-30\" transform=\"translate(63.623047 0.7125)\"/>\n",
       "       <use xlink:href=\"#DejaVuSerif-2212\" transform=\"translate(128.154453 37.046875) scale(0.7)\"/>\n",
       "       <use xlink:href=\"#DejaVuSerif-32\" transform=\"translate(186.806797 37.046875) scale(0.7)\"/>\n",
       "      </g>\n",
       "     </g>\n",
       "    </g>\n",
       "    <g id=\"xtick_7\">\n",
       "     <g id=\"line2d_13\">\n",
       "      <g>\n",
       "       <use xlink:href=\"#m43a2e03cb8\" x=\"327.995186\" y=\"392.807151\" style=\"stroke: #000000; stroke-width: 0.5\"/>\n",
       "      </g>\n",
       "     </g>\n",
       "     <g id=\"line2d_14\">\n",
       "      <g>\n",
       "       <use xlink:href=\"#m9d4974794f\" x=\"327.995186\" y=\"20.172099\" style=\"stroke: #000000; stroke-width: 0.5\"/>\n",
       "      </g>\n",
       "     </g>\n",
       "     <g id=\"text_7\">\n",
       "      <!-- $10^{-1}$ -->\n",
       "      <g transform=\"translate(313.955186 405.425276) scale(0.12 -0.12)\">\n",
       "       <use xlink:href=\"#DejaVuSerif-31\" transform=\"translate(0 0.7125)\"/>\n",
       "       <use xlink:href=\"#DejaVuSerif-30\" transform=\"translate(63.623047 0.7125)\"/>\n",
       "       <use xlink:href=\"#DejaVuSerif-2212\" transform=\"translate(128.154453 37.046875) scale(0.7)\"/>\n",
       "       <use xlink:href=\"#DejaVuSerif-31\" transform=\"translate(186.806797 37.046875) scale(0.7)\"/>\n",
       "      </g>\n",
       "     </g>\n",
       "    </g>\n",
       "    <g id=\"xtick_8\">\n",
       "     <g id=\"line2d_15\">\n",
       "      <g>\n",
       "       <use xlink:href=\"#m43a2e03cb8\" x=\"374.675703\" y=\"392.807151\" style=\"stroke: #000000; stroke-width: 0.5\"/>\n",
       "      </g>\n",
       "     </g>\n",
       "     <g id=\"line2d_16\">\n",
       "      <g>\n",
       "       <use xlink:href=\"#m9d4974794f\" x=\"374.675703\" y=\"20.172099\" style=\"stroke: #000000; stroke-width: 0.5\"/>\n",
       "      </g>\n",
       "     </g>\n",
       "     <g id=\"text_8\">\n",
       "      <!-- $10^{0}$ -->\n",
       "      <g transform=\"translate(364.115703 405.425276) scale(0.12 -0.12)\">\n",
       "       <use xlink:href=\"#DejaVuSerif-31\" transform=\"translate(0 0.7125)\"/>\n",
       "       <use xlink:href=\"#DejaVuSerif-30\" transform=\"translate(63.623047 0.7125)\"/>\n",
       "       <use xlink:href=\"#DejaVuSerif-30\" transform=\"translate(128.154453 37.046875) scale(0.7)\"/>\n",
       "      </g>\n",
       "     </g>\n",
       "    </g>\n",
       "    <g id=\"xtick_9\">\n",
       "     <g id=\"line2d_17\">\n",
       "      <g>\n",
       "       <use xlink:href=\"#m43a2e03cb8\" x=\"421.35622\" y=\"392.807151\" style=\"stroke: #000000; stroke-width: 0.5\"/>\n",
       "      </g>\n",
       "     </g>\n",
       "     <g id=\"line2d_18\">\n",
       "      <g>\n",
       "       <use xlink:href=\"#m9d4974794f\" x=\"421.35622\" y=\"20.172099\" style=\"stroke: #000000; stroke-width: 0.5\"/>\n",
       "      </g>\n",
       "     </g>\n",
       "     <g id=\"text_9\">\n",
       "      <!-- $10^{1}$ -->\n",
       "      <g transform=\"translate(410.79622 405.425276) scale(0.12 -0.12)\">\n",
       "       <use xlink:href=\"#DejaVuSerif-31\" transform=\"translate(0 0.7125)\"/>\n",
       "       <use xlink:href=\"#DejaVuSerif-30\" transform=\"translate(63.623047 0.7125)\"/>\n",
       "       <use xlink:href=\"#DejaVuSerif-31\" transform=\"translate(128.154453 37.046875) scale(0.7)\"/>\n",
       "      </g>\n",
       "     </g>\n",
       "    </g>\n",
       "    <g id=\"text_10\">\n",
       "     <!-- Volume / (l mol$\\mathregular{^{-1}}$) -->\n",
       "     <g transform=\"translate(152.194153 427.077464) scale(0.18 -0.18)\">\n",
       "      <defs>\n",
       "       <path id=\"DejaVuSerif-56\" d=\"M 1119 4331 \n",
       "L 2497 750 \n",
       "L 3872 4331 \n",
       "L 3347 4331 \n",
       "L 3347 4666 \n",
       "L 4716 4666 \n",
       "L 4716 4331 \n",
       "L 4263 4331 \n",
       "L 2597 0 \n",
       "L 2059 0 \n",
       "L 403 4331 \n",
       "L -63 4331 \n",
       "L -63 4666 \n",
       "L 1638 4666 \n",
       "L 1638 4331 \n",
       "L 1119 4331 \n",
       "z\n",
       "\" transform=\"scale(0.015625)\"/>\n",
       "       <path id=\"DejaVuSerif-6f\" d=\"M 1925 219 \n",
       "Q 2388 219 2623 584 \n",
       "Q 2859 950 2859 1663 \n",
       "Q 2859 2375 2623 2739 \n",
       "Q 2388 3103 1925 3103 \n",
       "Q 1463 3103 1227 2739 \n",
       "Q 991 2375 991 1663 \n",
       "Q 991 950 1228 584 \n",
       "Q 1466 219 1925 219 \n",
       "z\n",
       "M 1925 -91 \n",
       "Q 1200 -91 759 389 \n",
       "Q 319 869 319 1663 \n",
       "Q 319 2456 758 2934 \n",
       "Q 1197 3413 1925 3413 \n",
       "Q 2653 3413 3092 2934 \n",
       "Q 3531 2456 3531 1663 \n",
       "Q 3531 869 3092 389 \n",
       "Q 2653 -91 1925 -91 \n",
       "z\n",
       "\" transform=\"scale(0.015625)\"/>\n",
       "       <path id=\"DejaVuSerif-6c\" d=\"M 1313 331 \n",
       "L 1856 331 \n",
       "L 1856 0 \n",
       "L 184 0 \n",
       "L 184 331 \n",
       "L 738 331 \n",
       "L 738 4531 \n",
       "L 184 4531 \n",
       "L 184 4863 \n",
       "L 1313 4863 \n",
       "L 1313 331 \n",
       "z\n",
       "\" transform=\"scale(0.015625)\"/>\n",
       "       <path id=\"DejaVuSerif-75\" d=\"M 2266 3322 \n",
       "L 3341 3322 \n",
       "L 3341 331 \n",
       "L 3884 331 \n",
       "L 3884 0 \n",
       "L 2766 0 \n",
       "L 2766 588 \n",
       "Q 2606 256 2353 82 \n",
       "Q 2100 -91 1766 -91 \n",
       "Q 1213 -91 952 223 \n",
       "Q 691 538 691 1209 \n",
       "L 691 2988 \n",
       "L 172 2988 \n",
       "L 172 3322 \n",
       "L 1269 3322 \n",
       "L 1269 1388 \n",
       "Q 1269 781 1417 556 \n",
       "Q 1566 331 1947 331 \n",
       "Q 2347 331 2556 625 \n",
       "Q 2766 919 2766 1478 \n",
       "L 2766 2988 \n",
       "L 2266 2988 \n",
       "L 2266 3322 \n",
       "z\n",
       "\" transform=\"scale(0.015625)\"/>\n",
       "       <path id=\"DejaVuSerif-6d\" d=\"M 3316 2675 \n",
       "Q 3481 3041 3739 3227 \n",
       "Q 3997 3413 4341 3413 \n",
       "Q 4863 3413 5119 3089 \n",
       "Q 5375 2766 5375 2113 \n",
       "L 5375 331 \n",
       "L 5894 331 \n",
       "L 5894 0 \n",
       "L 4300 0 \n",
       "L 4300 331 \n",
       "L 4800 331 \n",
       "L 4800 2047 \n",
       "Q 4800 2556 4650 2772 \n",
       "Q 4500 2988 4153 2988 \n",
       "Q 3769 2988 3567 2697 \n",
       "Q 3366 2406 3366 1850 \n",
       "L 3366 331 \n",
       "L 3866 331 \n",
       "L 3866 0 \n",
       "L 2291 0 \n",
       "L 2291 331 \n",
       "L 2791 331 \n",
       "L 2791 2069 \n",
       "Q 2791 2566 2641 2777 \n",
       "Q 2491 2988 2144 2988 \n",
       "Q 1759 2988 1557 2697 \n",
       "Q 1356 2406 1356 1850 \n",
       "L 1356 331 \n",
       "L 1856 331 \n",
       "L 1856 0 \n",
       "L 263 0 \n",
       "L 263 331 \n",
       "L 781 331 \n",
       "L 781 2994 \n",
       "L 231 2994 \n",
       "L 231 3322 \n",
       "L 1356 3322 \n",
       "L 1356 2731 \n",
       "Q 1516 3063 1762 3238 \n",
       "Q 2009 3413 2322 3413 \n",
       "Q 2709 3413 2968 3220 \n",
       "Q 3228 3028 3316 2675 \n",
       "z\n",
       "\" transform=\"scale(0.015625)\"/>\n",
       "       <path id=\"DejaVuSerif-65\" d=\"M 3469 1600 \n",
       "L 991 1600 \n",
       "L 991 1575 \n",
       "Q 991 903 1244 561 \n",
       "Q 1497 219 1991 219 \n",
       "Q 2369 219 2611 417 \n",
       "Q 2853 616 2950 1006 \n",
       "L 3413 1006 \n",
       "Q 3275 459 2904 184 \n",
       "Q 2534 -91 1931 -91 \n",
       "Q 1203 -91 761 389 \n",
       "Q 319 869 319 1663 \n",
       "Q 319 2450 753 2931 \n",
       "Q 1188 3413 1894 3413 \n",
       "Q 2647 3413 3050 2948 \n",
       "Q 3453 2484 3469 1600 \n",
       "z\n",
       "M 2791 1931 \n",
       "Q 2772 2513 2545 2808 \n",
       "Q 2319 3103 1894 3103 \n",
       "Q 1497 3103 1269 2806 \n",
       "Q 1041 2509 991 1931 \n",
       "L 2791 1931 \n",
       "z\n",
       "\" transform=\"scale(0.015625)\"/>\n",
       "       <path id=\"DejaVuSerif-20\" transform=\"scale(0.015625)\"/>\n",
       "       <path id=\"DejaVuSerif-2f\" d=\"M 1656 4666 \n",
       "L 2156 4666 \n",
       "L 500 -594 \n",
       "L 0 -594 \n",
       "L 1656 4666 \n",
       "z\n",
       "\" transform=\"scale(0.015625)\"/>\n",
       "       <path id=\"DejaVuSerif-28\" d=\"M 2041 -997 \n",
       "Q 1281 -656 893 83 \n",
       "Q 506 822 506 1931 \n",
       "Q 506 3044 893 3783 \n",
       "Q 1281 4522 2041 4863 \n",
       "L 2041 4556 \n",
       "Q 1559 4225 1350 3623 \n",
       "Q 1141 3022 1141 1931 \n",
       "Q 1141 844 1350 242 \n",
       "Q 1559 -359 2041 -691 \n",
       "L 2041 -997 \n",
       "z\n",
       "\" transform=\"scale(0.015625)\"/>\n",
       "       <path id=\"DejaVuSerif-29\" d=\"M 453 -997 \n",
       "L 453 -691 \n",
       "Q 934 -359 1145 242 \n",
       "Q 1356 844 1356 1931 \n",
       "Q 1356 3022 1145 3623 \n",
       "Q 934 4225 453 4556 \n",
       "L 453 4863 \n",
       "Q 1216 4522 1603 3783 \n",
       "Q 1991 3044 1991 1931 \n",
       "Q 1991 822 1603 83 \n",
       "Q 1216 -656 453 -997 \n",
       "z\n",
       "\" transform=\"scale(0.015625)\"/>\n",
       "      </defs>\n",
       "      <use xlink:href=\"#DejaVuSerif-56\" transform=\"translate(0 0.7125)\"/>\n",
       "      <use xlink:href=\"#DejaVuSerif-6f\" transform=\"translate(72.216797 0.7125)\"/>\n",
       "      <use xlink:href=\"#DejaVuSerif-6c\" transform=\"translate(132.421875 0.7125)\"/>\n",
       "      <use xlink:href=\"#DejaVuSerif-75\" transform=\"translate(164.404297 0.7125)\"/>\n",
       "      <use xlink:href=\"#DejaVuSerif-6d\" transform=\"translate(228.808594 0.7125)\"/>\n",
       "      <use xlink:href=\"#DejaVuSerif-65\" transform=\"translate(323.632812 0.7125)\"/>\n",
       "      <use xlink:href=\"#DejaVuSerif-20\" transform=\"translate(382.8125 0.7125)\"/>\n",
       "      <use xlink:href=\"#DejaVuSerif-2f\" transform=\"translate(414.599609 0.7125)\"/>\n",
       "      <use xlink:href=\"#DejaVuSerif-20\" transform=\"translate(448.291016 0.7125)\"/>\n",
       "      <use xlink:href=\"#DejaVuSerif-28\" transform=\"translate(480.078125 0.7125)\"/>\n",
       "      <use xlink:href=\"#DejaVuSerif-6c\" transform=\"translate(519.091797 0.7125)\"/>\n",
       "      <use xlink:href=\"#DejaVuSerif-20\" transform=\"translate(551.074219 0.7125)\"/>\n",
       "      <use xlink:href=\"#DejaVuSerif-6d\" transform=\"translate(582.861328 0.7125)\"/>\n",
       "      <use xlink:href=\"#DejaVuSerif-6f\" transform=\"translate(677.685547 0.7125)\"/>\n",
       "      <use xlink:href=\"#DejaVuSerif-6c\" transform=\"translate(737.890625 0.7125)\"/>\n",
       "      <use xlink:href=\"#DejaVuSerif-2212\" transform=\"translate(770.781406 37.046875) scale(0.7)\"/>\n",
       "      <use xlink:href=\"#DejaVuSerif-31\" transform=\"translate(829.43375 37.046875) scale(0.7)\"/>\n",
       "      <use xlink:href=\"#DejaVuSerif-29\" transform=\"translate(876.565195 0.7125)\"/>\n",
       "     </g>\n",
       "    </g>\n",
       "   </g>\n",
       "   <g id=\"matplotlib.axis_2\">\n",
       "    <g id=\"ytick_1\">\n",
       "     <g id=\"line2d_19\">\n",
       "      <defs>\n",
       "       <path id=\"m2d36c33aff\" d=\"M 0 0 \n",
       "L 2.5 0 \n",
       "\" style=\"stroke: #000000; stroke-width: 0.5\"/>\n",
       "      </defs>\n",
       "      <g>\n",
       "       <use xlink:href=\"#m2d36c33aff\" x=\"47.912087\" y=\"380.786666\" style=\"stroke: #000000; stroke-width: 0.5\"/>\n",
       "      </g>\n",
       "     </g>\n",
       "     <g id=\"line2d_20\">\n",
       "      <defs>\n",
       "       <path id=\"mfaa76794b9\" d=\"M 0 0 \n",
       "L -2.5 0 \n",
       "\" style=\"stroke: #000000; stroke-width: 0.5\"/>\n",
       "      </defs>\n",
       "      <g>\n",
       "       <use xlink:href=\"#mfaa76794b9\" x=\"421.35622\" y=\"380.786666\" style=\"stroke: #000000; stroke-width: 0.5\"/>\n",
       "      </g>\n",
       "     </g>\n",
       "     <g id=\"text_11\">\n",
       "      <!-- $200$ -->\n",
       "      <g transform=\"translate(21.492087 385.345728) scale(0.12 -0.12)\">\n",
       "       <use xlink:href=\"#DejaVuSerif-32\" transform=\"translate(0 0.78125)\"/>\n",
       "       <use xlink:href=\"#DejaVuSerif-30\" transform=\"translate(63.623047 0.78125)\"/>\n",
       "       <use xlink:href=\"#DejaVuSerif-30\" transform=\"translate(127.246094 0.78125)\"/>\n",
       "      </g>\n",
       "     </g>\n",
       "    </g>\n",
       "    <g id=\"ytick_2\">\n",
       "     <g id=\"line2d_21\">\n",
       "      <g>\n",
       "       <use xlink:href=\"#m2d36c33aff\" x=\"47.912087\" y=\"320.684238\" style=\"stroke: #000000; stroke-width: 0.5\"/>\n",
       "      </g>\n",
       "     </g>\n",
       "     <g id=\"line2d_22\">\n",
       "      <g>\n",
       "       <use xlink:href=\"#mfaa76794b9\" x=\"421.35622\" y=\"320.684238\" style=\"stroke: #000000; stroke-width: 0.5\"/>\n",
       "      </g>\n",
       "     </g>\n",
       "     <g id=\"text_12\">\n",
       "      <!-- $300$ -->\n",
       "      <g transform=\"translate(21.492087 325.2433) scale(0.12 -0.12)\">\n",
       "       <use xlink:href=\"#DejaVuSerif-33\" transform=\"translate(0 0.78125)\"/>\n",
       "       <use xlink:href=\"#DejaVuSerif-30\" transform=\"translate(63.623047 0.78125)\"/>\n",
       "       <use xlink:href=\"#DejaVuSerif-30\" transform=\"translate(127.246094 0.78125)\"/>\n",
       "      </g>\n",
       "     </g>\n",
       "    </g>\n",
       "    <g id=\"ytick_3\">\n",
       "     <g id=\"line2d_23\">\n",
       "      <g>\n",
       "       <use xlink:href=\"#m2d36c33aff\" x=\"47.912087\" y=\"260.58181\" style=\"stroke: #000000; stroke-width: 0.5\"/>\n",
       "      </g>\n",
       "     </g>\n",
       "     <g id=\"line2d_24\">\n",
       "      <g>\n",
       "       <use xlink:href=\"#mfaa76794b9\" x=\"421.35622\" y=\"260.58181\" style=\"stroke: #000000; stroke-width: 0.5\"/>\n",
       "      </g>\n",
       "     </g>\n",
       "     <g id=\"text_13\">\n",
       "      <!-- $400$ -->\n",
       "      <g transform=\"translate(21.492087 265.140872) scale(0.12 -0.12)\">\n",
       "       <use xlink:href=\"#DejaVuSerif-34\" transform=\"translate(0 0.78125)\"/>\n",
       "       <use xlink:href=\"#DejaVuSerif-30\" transform=\"translate(63.623047 0.78125)\"/>\n",
       "       <use xlink:href=\"#DejaVuSerif-30\" transform=\"translate(127.246094 0.78125)\"/>\n",
       "      </g>\n",
       "     </g>\n",
       "    </g>\n",
       "    <g id=\"ytick_4\">\n",
       "     <g id=\"line2d_25\">\n",
       "      <g>\n",
       "       <use xlink:href=\"#m2d36c33aff\" x=\"47.912087\" y=\"200.479382\" style=\"stroke: #000000; stroke-width: 0.5\"/>\n",
       "      </g>\n",
       "     </g>\n",
       "     <g id=\"line2d_26\">\n",
       "      <g>\n",
       "       <use xlink:href=\"#mfaa76794b9\" x=\"421.35622\" y=\"200.479382\" style=\"stroke: #000000; stroke-width: 0.5\"/>\n",
       "      </g>\n",
       "     </g>\n",
       "     <g id=\"text_14\">\n",
       "      <!-- $500$ -->\n",
       "      <g transform=\"translate(21.492087 205.038445) scale(0.12 -0.12)\">\n",
       "       <use xlink:href=\"#DejaVuSerif-35\" transform=\"translate(0 0.78125)\"/>\n",
       "       <use xlink:href=\"#DejaVuSerif-30\" transform=\"translate(63.623047 0.78125)\"/>\n",
       "       <use xlink:href=\"#DejaVuSerif-30\" transform=\"translate(127.246094 0.78125)\"/>\n",
       "      </g>\n",
       "     </g>\n",
       "    </g>\n",
       "    <g id=\"ytick_5\">\n",
       "     <g id=\"line2d_27\">\n",
       "      <g>\n",
       "       <use xlink:href=\"#m2d36c33aff\" x=\"47.912087\" y=\"140.376954\" style=\"stroke: #000000; stroke-width: 0.5\"/>\n",
       "      </g>\n",
       "     </g>\n",
       "     <g id=\"line2d_28\">\n",
       "      <g>\n",
       "       <use xlink:href=\"#mfaa76794b9\" x=\"421.35622\" y=\"140.376954\" style=\"stroke: #000000; stroke-width: 0.5\"/>\n",
       "      </g>\n",
       "     </g>\n",
       "     <g id=\"text_15\">\n",
       "      <!-- $600$ -->\n",
       "      <g transform=\"translate(21.492087 144.936017) scale(0.12 -0.12)\">\n",
       "       <use xlink:href=\"#DejaVuSerif-36\" transform=\"translate(0 0.78125)\"/>\n",
       "       <use xlink:href=\"#DejaVuSerif-30\" transform=\"translate(63.623047 0.78125)\"/>\n",
       "       <use xlink:href=\"#DejaVuSerif-30\" transform=\"translate(127.246094 0.78125)\"/>\n",
       "      </g>\n",
       "     </g>\n",
       "    </g>\n",
       "    <g id=\"ytick_6\">\n",
       "     <g id=\"line2d_29\">\n",
       "      <g>\n",
       "       <use xlink:href=\"#m2d36c33aff\" x=\"47.912087\" y=\"80.274527\" style=\"stroke: #000000; stroke-width: 0.5\"/>\n",
       "      </g>\n",
       "     </g>\n",
       "     <g id=\"line2d_30\">\n",
       "      <g>\n",
       "       <use xlink:href=\"#mfaa76794b9\" x=\"421.35622\" y=\"80.274527\" style=\"stroke: #000000; stroke-width: 0.5\"/>\n",
       "      </g>\n",
       "     </g>\n",
       "     <g id=\"text_16\">\n",
       "      <!-- $700$ -->\n",
       "      <g transform=\"translate(21.492087 84.833589) scale(0.12 -0.12)\">\n",
       "       <use xlink:href=\"#DejaVuSerif-37\" transform=\"translate(0 0.78125)\"/>\n",
       "       <use xlink:href=\"#DejaVuSerif-30\" transform=\"translate(63.623047 0.78125)\"/>\n",
       "       <use xlink:href=\"#DejaVuSerif-30\" transform=\"translate(127.246094 0.78125)\"/>\n",
       "      </g>\n",
       "     </g>\n",
       "    </g>\n",
       "    <g id=\"ytick_7\">\n",
       "     <g id=\"line2d_31\">\n",
       "      <g>\n",
       "       <use xlink:href=\"#m2d36c33aff\" x=\"47.912087\" y=\"20.172099\" style=\"stroke: #000000; stroke-width: 0.5\"/>\n",
       "      </g>\n",
       "     </g>\n",
       "     <g id=\"line2d_32\">\n",
       "      <g>\n",
       "       <use xlink:href=\"#mfaa76794b9\" x=\"421.35622\" y=\"20.172099\" style=\"stroke: #000000; stroke-width: 0.5\"/>\n",
       "      </g>\n",
       "     </g>\n",
       "     <g id=\"text_17\">\n",
       "      <!-- $800$ -->\n",
       "      <g transform=\"translate(21.492087 24.731161) scale(0.12 -0.12)\">\n",
       "       <defs>\n",
       "        <path id=\"DejaVuSerif-38\" d=\"M 2981 1275 \n",
       "Q 2981 1775 2732 2051 \n",
       "Q 2484 2328 2034 2328 \n",
       "Q 1584 2328 1336 2051 \n",
       "Q 1088 1775 1088 1275 \n",
       "Q 1088 772 1336 495 \n",
       "Q 1584 219 2034 219 \n",
       "Q 2484 219 2732 495 \n",
       "Q 2981 772 2981 1275 \n",
       "z\n",
       "M 2853 3541 \n",
       "Q 2853 3966 2637 4203 \n",
       "Q 2422 4441 2034 4441 \n",
       "Q 1650 4441 1433 4203 \n",
       "Q 1216 3966 1216 3541 \n",
       "Q 1216 3113 1433 2875 \n",
       "Q 1650 2638 2034 2638 \n",
       "Q 2422 2638 2637 2875 \n",
       "Q 2853 3113 2853 3541 \n",
       "z\n",
       "M 2516 2484 \n",
       "Q 3047 2413 3344 2092 \n",
       "Q 3641 1772 3641 1275 \n",
       "Q 3641 619 3225 264 \n",
       "Q 2809 -91 2034 -91 \n",
       "Q 1263 -91 845 264 \n",
       "Q 428 619 428 1275 \n",
       "Q 428 1772 725 2092 \n",
       "Q 1022 2413 1556 2484 \n",
       "Q 1084 2569 832 2842 \n",
       "Q 581 3116 581 3541 \n",
       "Q 581 4103 968 4426 \n",
       "Q 1356 4750 2034 4750 \n",
       "Q 2713 4750 3100 4426 \n",
       "Q 3488 4103 3488 3541 \n",
       "Q 3488 3116 3236 2842 \n",
       "Q 2984 2569 2516 2484 \n",
       "z\n",
       "\" transform=\"scale(0.015625)\"/>\n",
       "       </defs>\n",
       "       <use xlink:href=\"#DejaVuSerif-38\" transform=\"translate(0 0.78125)\"/>\n",
       "       <use xlink:href=\"#DejaVuSerif-30\" transform=\"translate(63.623047 0.78125)\"/>\n",
       "       <use xlink:href=\"#DejaVuSerif-30\" transform=\"translate(127.246094 0.78125)\"/>\n",
       "      </g>\n",
       "     </g>\n",
       "    </g>\n",
       "    <g id=\"text_18\">\n",
       "     <!-- Temperature / K -->\n",
       "     <g transform=\"translate(13.748649 280.930875) rotate(-90) scale(0.18 -0.18)\">\n",
       "      <defs>\n",
       "       <path id=\"DejaVuSerif-54\" d=\"M 1222 0 \n",
       "L 1222 331 \n",
       "L 1819 331 \n",
       "L 1819 4294 \n",
       "L 447 4294 \n",
       "L 447 3566 \n",
       "L 63 3566 \n",
       "L 63 4666 \n",
       "L 4206 4666 \n",
       "L 4206 3566 \n",
       "L 3822 3566 \n",
       "L 3822 4294 \n",
       "L 2450 4294 \n",
       "L 2450 331 \n",
       "L 3047 331 \n",
       "L 3047 0 \n",
       "L 1222 0 \n",
       "z\n",
       "\" transform=\"scale(0.015625)\"/>\n",
       "       <path id=\"DejaVuSerif-70\" d=\"M 1313 1825 \n",
       "L 1313 1497 \n",
       "Q 1313 897 1542 583 \n",
       "Q 1772 269 2209 269 \n",
       "Q 2650 269 2876 622 \n",
       "Q 3103 975 3103 1663 \n",
       "Q 3103 2353 2876 2703 \n",
       "Q 2650 3053 2209 3053 \n",
       "Q 1772 3053 1542 2737 \n",
       "Q 1313 2422 1313 1825 \n",
       "z\n",
       "M 738 2988 \n",
       "L 184 2988 \n",
       "L 184 3322 \n",
       "L 1313 3322 \n",
       "L 1313 2803 \n",
       "Q 1481 3116 1742 3264 \n",
       "Q 2003 3413 2388 3413 \n",
       "Q 3000 3413 3387 2928 \n",
       "Q 3775 2444 3775 1663 \n",
       "Q 3775 881 3387 395 \n",
       "Q 3000 -91 2388 -91 \n",
       "Q 2003 -91 1742 57 \n",
       "Q 1481 206 1313 519 \n",
       "L 1313 -997 \n",
       "L 1856 -997 \n",
       "L 1856 -1331 \n",
       "L 184 -1331 \n",
       "L 184 -997 \n",
       "L 738 -997 \n",
       "L 738 2988 \n",
       "z\n",
       "\" transform=\"scale(0.015625)\"/>\n",
       "       <path id=\"DejaVuSerif-72\" d=\"M 3059 3328 \n",
       "L 3059 2497 \n",
       "L 2728 2497 \n",
       "Q 2713 2744 2591 2866 \n",
       "Q 2469 2988 2234 2988 \n",
       "Q 1809 2988 1582 2694 \n",
       "Q 1356 2400 1356 1850 \n",
       "L 1356 331 \n",
       "L 2022 331 \n",
       "L 2022 0 \n",
       "L 263 0 \n",
       "L 263 331 \n",
       "L 781 331 \n",
       "L 781 2994 \n",
       "L 231 2994 \n",
       "L 231 3322 \n",
       "L 1356 3322 \n",
       "L 1356 2731 \n",
       "Q 1525 3078 1790 3245 \n",
       "Q 2056 3413 2438 3413 \n",
       "Q 2578 3413 2733 3391 \n",
       "Q 2888 3369 3059 3328 \n",
       "z\n",
       "\" transform=\"scale(0.015625)\"/>\n",
       "       <path id=\"DejaVuSerif-61\" d=\"M 2547 1044 \n",
       "L 2547 1747 \n",
       "L 1806 1747 \n",
       "Q 1378 1747 1168 1562 \n",
       "Q 959 1378 959 997 \n",
       "Q 959 650 1171 447 \n",
       "Q 1384 244 1747 244 \n",
       "Q 2106 244 2326 466 \n",
       "Q 2547 688 2547 1044 \n",
       "z\n",
       "M 3122 2075 \n",
       "L 3122 331 \n",
       "L 3634 331 \n",
       "L 3634 0 \n",
       "L 2547 0 \n",
       "L 2547 359 \n",
       "Q 2356 128 2106 18 \n",
       "Q 1856 -91 1522 -91 \n",
       "Q 969 -91 644 203 \n",
       "Q 319 497 319 997 \n",
       "Q 319 1513 691 1797 \n",
       "Q 1063 2081 1741 2081 \n",
       "L 2547 2081 \n",
       "L 2547 2309 \n",
       "Q 2547 2688 2317 2895 \n",
       "Q 2088 3103 1672 3103 \n",
       "Q 1328 3103 1125 2947 \n",
       "Q 922 2791 872 2484 \n",
       "L 575 2484 \n",
       "L 575 3156 \n",
       "Q 875 3284 1158 3348 \n",
       "Q 1441 3413 1709 3413 \n",
       "Q 2400 3413 2761 3070 \n",
       "Q 3122 2728 3122 2075 \n",
       "z\n",
       "\" transform=\"scale(0.015625)\"/>\n",
       "       <path id=\"DejaVuSerif-74\" d=\"M 691 2988 \n",
       "L 184 2988 \n",
       "L 184 3322 \n",
       "L 691 3322 \n",
       "L 691 4353 \n",
       "L 1269 4353 \n",
       "L 1269 3322 \n",
       "L 2350 3322 \n",
       "L 2350 2988 \n",
       "L 1269 2988 \n",
       "L 1269 878 \n",
       "Q 1269 456 1350 337 \n",
       "Q 1431 219 1650 219 \n",
       "Q 1875 219 1978 351 \n",
       "Q 2081 484 2088 781 \n",
       "L 2522 781 \n",
       "Q 2497 328 2275 118 \n",
       "Q 2053 -91 1600 -91 \n",
       "Q 1103 -91 897 129 \n",
       "Q 691 350 691 878 \n",
       "L 691 2988 \n",
       "z\n",
       "\" transform=\"scale(0.015625)\"/>\n",
       "       <path id=\"DejaVuSerif-4b\" d=\"M 353 0 \n",
       "L 353 331 \n",
       "L 947 331 \n",
       "L 947 4331 \n",
       "L 353 4331 \n",
       "L 353 4666 \n",
       "L 2175 4666 \n",
       "L 2175 4331 \n",
       "L 1581 4331 \n",
       "L 1581 2566 \n",
       "L 3591 4331 \n",
       "L 3084 4331 \n",
       "L 3084 4666 \n",
       "L 4634 4666 \n",
       "L 4634 4331 \n",
       "L 4109 4331 \n",
       "L 2106 2572 \n",
       "L 4347 331 \n",
       "L 4878 331 \n",
       "L 4878 0 \n",
       "L 3794 0 \n",
       "L 1581 2216 \n",
       "L 1581 331 \n",
       "L 2175 331 \n",
       "L 2175 0 \n",
       "L 353 0 \n",
       "z\n",
       "\" transform=\"scale(0.015625)\"/>\n",
       "      </defs>\n",
       "      <use xlink:href=\"#DejaVuSerif-54\"/>\n",
       "      <use xlink:href=\"#DejaVuSerif-65\" x=\"58.949219\"/>\n",
       "      <use xlink:href=\"#DejaVuSerif-6d\" x=\"118.128906\"/>\n",
       "      <use xlink:href=\"#DejaVuSerif-70\" x=\"212.953125\"/>\n",
       "      <use xlink:href=\"#DejaVuSerif-65\" x=\"276.966797\"/>\n",
       "      <use xlink:href=\"#DejaVuSerif-72\" x=\"336.146484\"/>\n",
       "      <use xlink:href=\"#DejaVuSerif-61\" x=\"383.949219\"/>\n",
       "      <use xlink:href=\"#DejaVuSerif-74\" x=\"443.568359\"/>\n",
       "      <use xlink:href=\"#DejaVuSerif-75\" x=\"483.753906\"/>\n",
       "      <use xlink:href=\"#DejaVuSerif-72\" x=\"548.158203\"/>\n",
       "      <use xlink:href=\"#DejaVuSerif-65\" x=\"595.960938\"/>\n",
       "      <use xlink:href=\"#DejaVuSerif-20\" x=\"655.140625\"/>\n",
       "      <use xlink:href=\"#DejaVuSerif-2f\" x=\"686.927734\"/>\n",
       "      <use xlink:href=\"#DejaVuSerif-20\" x=\"720.619141\"/>\n",
       "      <use xlink:href=\"#DejaVuSerif-4b\" x=\"752.40625\"/>\n",
       "     </g>\n",
       "    </g>\n",
       "   </g>\n",
       "   <g id=\"line2d_33\">\n",
       "    <path d=\"M 54.148778 371.080123 \n",
       "L 55.931281 309.588276 \n",
       "L 57.572637 260.394798 \n",
       "L 59.140348 219.873248 \n",
       "L 60.64244 186.604581 \n",
       "L 62.081292 159.4851 \n",
       "L 63.458558 137.568775 \n",
       "L 64.772133 120.067249 \n",
       "L 66.02581 106.192166 \n",
       "L 67.236117 95.155167 \n",
       "L 68.39879 86.48324 \n",
       "L 69.54471 79.545699 \n",
       "L 70.641721 74.184871 \n",
       "L 71.724731 69.927743 \n",
       "L 72.831706 66.458972 \n",
       "L 73.912115 63.778558 \n",
       "L 74.95487 61.72883 \n",
       "L 76.081016 59.994444 \n",
       "L 77.138445 58.733073 \n",
       "L 78.365455 57.629373 \n",
       "L 79.592655 56.841016 \n",
       "L 80.662762 56.368002 \n",
       "L 81.802416 56.052659 \n",
       "L 83.430198 55.894988 \n",
       "L 83.407203 55.894988 \n",
       "L 85.855208 56.210331 \n",
       "L 87.710546 56.841016 \n",
       "L 89.588039 57.787045 \n",
       "L 91.507895 59.048416 \n",
       "L 93.474484 60.62513 \n",
       "L 95.646103 62.674858 \n",
       "L 97.970795 65.197601 \n",
       "L 100.424898 68.193357 \n",
       "L 103.223739 71.977471 \n",
       "L 106.318595 76.549942 \n",
       "L 109.885182 82.226112 \n",
       "L 114.267741 89.636668 \n",
       "L 120.510129 100.673667 \n",
       "L 135.326575 127.004791 \n",
       "L 141.572946 137.568775 \n",
       "L 147.331158 146.871388 \n",
       "L 152.760555 155.227972 \n",
       "L 158.145998 163.111542 \n",
       "L 163.476152 170.522098 \n",
       "L 168.854273 177.617311 \n",
       "L 174.273793 184.397182 \n",
       "L 179.723774 190.861709 \n",
       "L 185.333167 197.168565 \n",
       "L 190.9546 203.160079 \n",
       "L 196.726367 208.993921 \n",
       "L 202.648616 214.670091 \n",
       "L 208.71991 220.18859 \n",
       "L 215.125068 225.707089 \n",
       "L 221.691911 231.067917 \n",
       "L 228.41534 236.271074 \n",
       "L 235.50916 241.47423 \n",
       "L 242.767851 246.519715 \n",
       "L 250.18226 251.407528 \n",
       "L 258.000107 256.295342 \n",
       "L 265.977038 261.025484 \n",
       "L 274.387078 265.755626 \n",
       "L 283.260863 270.485768 \n",
       "L 292.310925 275.058239 \n",
       "L 301.858085 279.630709 \n",
       "L 311.581047 284.045509 \n",
       "L 321.835418 288.460308 \n",
       "L 332.659208 292.875107 \n",
       "L 343.674542 297.132235 \n",
       "L 355.298645 301.389363 \n",
       "L 367.576037 305.646491 \n",
       "L 380.555515 309.903619 \n",
       "L 393.767821 314.003075 \n",
       "L 407.733432 318.102532 \n",
       "L 422.510162 322.201988 \n",
       "L 433 324.975605 \n",
       "L 433 324.975605 \n",
       "\" clip-path=\"url(#peba44b3802)\" style=\"fill: none; stroke: #08298a\"/>\n",
       "   </g>\n",
       "   <g id=\"patch_3\">\n",
       "    <path d=\"M 47.912087 392.807151 \n",
       "L 47.912087 20.172099 \n",
       "\" style=\"fill: none; stroke: #000000; stroke-linejoin: miter; stroke-linecap: square\"/>\n",
       "   </g>\n",
       "   <g id=\"patch_4\">\n",
       "    <path d=\"M 421.35622 392.807151 \n",
       "L 421.35622 20.172099 \n",
       "\" style=\"fill: none; stroke: #000000; stroke-linejoin: miter; stroke-linecap: square\"/>\n",
       "   </g>\n",
       "   <g id=\"patch_5\">\n",
       "    <path d=\"M 47.912087 392.807151 \n",
       "L 421.35622 392.807151 \n",
       "\" style=\"fill: none; stroke: #000000; stroke-linejoin: miter; stroke-linecap: square\"/>\n",
       "   </g>\n",
       "   <g id=\"patch_6\">\n",
       "    <path d=\"M 47.912087 20.172099 \n",
       "L 421.35622 20.172099 \n",
       "\" style=\"fill: none; stroke: #000000; stroke-linejoin: miter; stroke-linecap: square\"/>\n",
       "   </g>\n",
       "   <g id=\"text_19\">\n",
       "    <!-- Octane -->\n",
       "    <g transform=\"translate(202.108997 14.172099) scale(0.18 -0.18)\">\n",
       "     <defs>\n",
       "      <path id=\"DejaVuSerif-4f\" d=\"M 2625 244 \n",
       "Q 3391 244 3781 770 \n",
       "Q 4172 1297 4172 2328 \n",
       "Q 4172 3363 3781 3889 \n",
       "Q 3391 4416 2625 4416 \n",
       "Q 1856 4416 1465 3889 \n",
       "Q 1075 3363 1075 2328 \n",
       "Q 1075 1297 1465 770 \n",
       "Q 1856 244 2625 244 \n",
       "z\n",
       "M 2625 -91 \n",
       "Q 2150 -91 1751 65 \n",
       "Q 1353 222 1050 525 \n",
       "Q 700 875 529 1319 \n",
       "Q 359 1763 359 2328 \n",
       "Q 359 2894 529 3339 \n",
       "Q 700 3784 1050 4134 \n",
       "Q 1356 4441 1750 4595 \n",
       "Q 2144 4750 2625 4750 \n",
       "Q 3641 4750 4266 4084 \n",
       "Q 4891 3419 4891 2328 \n",
       "Q 4891 1769 4719 1320 \n",
       "Q 4547 872 4197 525 \n",
       "Q 3891 219 3497 64 \n",
       "Q 3103 -91 2625 -91 \n",
       "z\n",
       "\" transform=\"scale(0.015625)\"/>\n",
       "      <path id=\"DejaVuSerif-63\" d=\"M 3291 997 \n",
       "Q 3169 466 2822 187 \n",
       "Q 2475 -91 1925 -91 \n",
       "Q 1200 -91 759 389 \n",
       "Q 319 869 319 1663 \n",
       "Q 319 2459 759 2936 \n",
       "Q 1200 3413 1925 3413 \n",
       "Q 2241 3413 2553 3339 \n",
       "Q 2866 3266 3181 3116 \n",
       "L 3181 2266 \n",
       "L 2847 2266 \n",
       "Q 2781 2703 2561 2903 \n",
       "Q 2341 3103 1931 3103 \n",
       "Q 1466 3103 1228 2742 \n",
       "Q 991 2381 991 1663 \n",
       "Q 991 944 1227 581 \n",
       "Q 1463 219 1931 219 \n",
       "Q 2303 219 2525 412 \n",
       "Q 2747 606 2828 997 \n",
       "L 3291 997 \n",
       "z\n",
       "\" transform=\"scale(0.015625)\"/>\n",
       "      <path id=\"DejaVuSerif-6e\" d=\"M 263 0 \n",
       "L 263 331 \n",
       "L 781 331 \n",
       "L 781 2988 \n",
       "L 231 2988 \n",
       "L 231 3322 \n",
       "L 1356 3322 \n",
       "L 1356 2731 \n",
       "Q 1516 3069 1770 3241 \n",
       "Q 2025 3413 2363 3413 \n",
       "Q 2913 3413 3172 3097 \n",
       "Q 3431 2781 3431 2113 \n",
       "L 3431 331 \n",
       "L 3944 331 \n",
       "L 3944 0 \n",
       "L 2356 0 \n",
       "L 2356 331 \n",
       "L 2853 331 \n",
       "L 2853 1931 \n",
       "Q 2853 2541 2703 2767 \n",
       "Q 2553 2994 2175 2994 \n",
       "Q 1775 2994 1565 2701 \n",
       "Q 1356 2409 1356 1850 \n",
       "L 1356 331 \n",
       "L 1856 331 \n",
       "L 1856 0 \n",
       "L 263 0 \n",
       "z\n",
       "\" transform=\"scale(0.015625)\"/>\n",
       "     </defs>\n",
       "     <use xlink:href=\"#DejaVuSerif-4f\"/>\n",
       "     <use xlink:href=\"#DejaVuSerif-63\" x=\"81.982422\"/>\n",
       "     <use xlink:href=\"#DejaVuSerif-74\" x=\"137.988281\"/>\n",
       "     <use xlink:href=\"#DejaVuSerif-61\" x=\"178.173828\"/>\n",
       "     <use xlink:href=\"#DejaVuSerif-6e\" x=\"237.792969\"/>\n",
       "     <use xlink:href=\"#DejaVuSerif-65\" x=\"302.197266\"/>\n",
       "    </g>\n",
       "   </g>\n",
       "   <g id=\"legend_1\">\n",
       "    <g id=\"patch_7\">\n",
       "     <path d=\"M 200.36872 74.599599 \n",
       "L 415.35622 74.599599 \n",
       "L 415.35622 26.172099 \n",
       "L 200.36872 26.172099 \n",
       "z\n",
       "\" style=\"fill: #ffffff; stroke: #000000; stroke-linejoin: miter\"/>\n",
       "    </g>\n",
       "    <g id=\"line2d_34\">\n",
       "     <path d=\"M 209.96872 40.690224 \n",
       "L 221.96872 40.690224 \n",
       "L 233.96872 40.690224 \n",
       "\" style=\"fill: none\"/>\n",
       "     <defs>\n",
       "      <path id=\"mc7a2f5a645\" d=\"M 0 4.8 \n",
       "C 1.272975 4.8 2.493983 4.294242 3.394113 3.394113 \n",
       "C 4.294242 2.493983 4.8 1.272975 4.8 0 \n",
       "C 4.8 -1.272975 4.294242 -2.493983 3.394113 -3.394113 \n",
       "C 2.493983 -4.294242 1.272975 -4.8 0 -4.8 \n",
       "C -1.272975 -4.8 -2.493983 -4.294242 -3.394113 -3.394113 \n",
       "C -4.294242 -2.493983 -4.8 -1.272975 -4.8 0 \n",
       "C -4.8 1.272975 -4.294242 2.493983 -3.394113 3.394113 \n",
       "C -2.493983 4.294242 -1.272975 4.8 0 4.8 \n",
       "z\n",
       "\" style=\"stroke: #000000; stroke-opacity: 0; stroke-width: 1.92\"/>\n",
       "     </defs>\n",
       "     <g>\n",
       "      <use xlink:href=\"#mc7a2f5a645\" x=\"221.96872\" y=\"40.690224\" style=\"fill: #5dc90a; stroke: #000000; stroke-opacity: 0; stroke-width: 1.92\"/>\n",
       "     </g>\n",
       "    </g>\n",
       "    <g id=\"text_20\">\n",
       "     <!-- Pseudo-Experimental Data -->\n",
       "     <g transform=\"translate(243.56872 44.890224) scale(0.12 -0.12)\">\n",
       "      <defs>\n",
       "       <path id=\"DejaVuSerif-50\" d=\"M 1581 2375 \n",
       "L 2406 2375 \n",
       "Q 2872 2375 3115 2626 \n",
       "Q 3359 2878 3359 3353 \n",
       "Q 3359 3831 3115 4081 \n",
       "Q 2872 4331 2406 4331 \n",
       "L 1581 4331 \n",
       "L 1581 2375 \n",
       "z\n",
       "M 353 0 \n",
       "L 353 331 \n",
       "L 947 331 \n",
       "L 947 4331 \n",
       "L 353 4331 \n",
       "L 353 4666 \n",
       "L 2559 4666 \n",
       "Q 3259 4666 3668 4311 \n",
       "Q 4078 3956 4078 3353 \n",
       "Q 4078 2753 3668 2397 \n",
       "Q 3259 2041 2559 2041 \n",
       "L 1581 2041 \n",
       "L 1581 331 \n",
       "L 2303 331 \n",
       "L 2303 0 \n",
       "L 353 0 \n",
       "z\n",
       "\" transform=\"scale(0.015625)\"/>\n",
       "       <path id=\"DejaVuSerif-73\" d=\"M 359 184 \n",
       "L 359 959 \n",
       "L 691 959 \n",
       "Q 703 588 923 403 \n",
       "Q 1144 219 1575 219 \n",
       "Q 1963 219 2166 364 \n",
       "Q 2369 509 2369 788 \n",
       "Q 2369 1006 2220 1140 \n",
       "Q 2072 1275 1594 1428 \n",
       "L 1178 1569 \n",
       "Q 750 1706 558 1912 \n",
       "Q 366 2119 366 2438 \n",
       "Q 366 2894 700 3153 \n",
       "Q 1034 3413 1625 3413 \n",
       "Q 1888 3413 2178 3344 \n",
       "Q 2469 3275 2778 3144 \n",
       "L 2778 2419 \n",
       "L 2447 2419 \n",
       "Q 2434 2741 2221 2922 \n",
       "Q 2009 3103 1644 3103 \n",
       "Q 1281 3103 1095 2975 \n",
       "Q 909 2847 909 2591 \n",
       "Q 909 2381 1050 2254 \n",
       "Q 1191 2128 1613 1997 \n",
       "L 2069 1856 \n",
       "Q 2541 1709 2748 1489 \n",
       "Q 2956 1269 2956 922 \n",
       "Q 2956 450 2595 179 \n",
       "Q 2234 -91 1600 -91 \n",
       "Q 1278 -91 972 -22 \n",
       "Q 666 47 359 184 \n",
       "z\n",
       "\" transform=\"scale(0.015625)\"/>\n",
       "       <path id=\"DejaVuSerif-64\" d=\"M 3359 331 \n",
       "L 3909 331 \n",
       "L 3909 0 \n",
       "L 2784 0 \n",
       "L 2784 519 \n",
       "Q 2616 206 2355 57 \n",
       "Q 2094 -91 1709 -91 \n",
       "Q 1097 -91 708 395 \n",
       "Q 319 881 319 1663 \n",
       "Q 319 2444 706 2928 \n",
       "Q 1094 3413 1709 3413 \n",
       "Q 2094 3413 2355 3264 \n",
       "Q 2616 3116 2784 2803 \n",
       "L 2784 4531 \n",
       "L 2241 4531 \n",
       "L 2241 4863 \n",
       "L 3359 4863 \n",
       "L 3359 331 \n",
       "z\n",
       "M 2784 1497 \n",
       "L 2784 1825 \n",
       "Q 2784 2422 2554 2737 \n",
       "Q 2325 3053 1888 3053 \n",
       "Q 1444 3053 1217 2703 \n",
       "Q 991 2353 991 1663 \n",
       "Q 991 975 1217 622 \n",
       "Q 1444 269 1888 269 \n",
       "Q 2325 269 2554 583 \n",
       "Q 2784 897 2784 1497 \n",
       "z\n",
       "\" transform=\"scale(0.015625)\"/>\n",
       "       <path id=\"DejaVuSerif-2d\" d=\"M 281 1959 \n",
       "L 1881 1959 \n",
       "L 1881 1472 \n",
       "L 281 1472 \n",
       "L 281 1959 \n",
       "z\n",
       "\" transform=\"scale(0.015625)\"/>\n",
       "       <path id=\"DejaVuSerif-45\" d=\"M 353 0 \n",
       "L 353 331 \n",
       "L 947 331 \n",
       "L 947 4331 \n",
       "L 353 4331 \n",
       "L 353 4666 \n",
       "L 4109 4666 \n",
       "L 4109 3628 \n",
       "L 3725 3628 \n",
       "L 3725 4281 \n",
       "L 1581 4281 \n",
       "L 1581 2719 \n",
       "L 3109 2719 \n",
       "L 3109 3303 \n",
       "L 3494 3303 \n",
       "L 3494 1753 \n",
       "L 3109 1753 \n",
       "L 3109 2338 \n",
       "L 1581 2338 \n",
       "L 1581 384 \n",
       "L 3775 384 \n",
       "L 3775 1038 \n",
       "L 4159 1038 \n",
       "L 4159 0 \n",
       "L 353 0 \n",
       "z\n",
       "\" transform=\"scale(0.015625)\"/>\n",
       "       <path id=\"DejaVuSerif-78\" d=\"M 1863 2028 \n",
       "L 2559 2988 \n",
       "L 2113 2988 \n",
       "L 2113 3322 \n",
       "L 3391 3322 \n",
       "L 3391 2988 \n",
       "L 2950 2988 \n",
       "L 2059 1759 \n",
       "L 3097 331 \n",
       "L 3531 331 \n",
       "L 3531 0 \n",
       "L 1997 0 \n",
       "L 1997 331 \n",
       "L 2419 331 \n",
       "L 1697 1325 \n",
       "L 972 331 \n",
       "L 1403 331 \n",
       "L 1403 0 \n",
       "L 141 0 \n",
       "L 141 331 \n",
       "L 581 331 \n",
       "L 1497 1594 \n",
       "L 488 2988 \n",
       "L 78 2988 \n",
       "L 78 3322 \n",
       "L 1563 3322 \n",
       "L 1563 2988 \n",
       "L 1166 2988 \n",
       "L 1863 2028 \n",
       "z\n",
       "\" transform=\"scale(0.015625)\"/>\n",
       "       <path id=\"DejaVuSerif-69\" d=\"M 622 4353 \n",
       "Q 622 4497 726 4603 \n",
       "Q 831 4709 978 4709 \n",
       "Q 1122 4709 1226 4603 \n",
       "Q 1331 4497 1331 4353 \n",
       "Q 1331 4206 1228 4103 \n",
       "Q 1125 4000 978 4000 \n",
       "Q 831 4000 726 4103 \n",
       "Q 622 4206 622 4353 \n",
       "z\n",
       "M 1356 331 \n",
       "L 1900 331 \n",
       "L 1900 0 \n",
       "L 231 0 \n",
       "L 231 331 \n",
       "L 781 331 \n",
       "L 781 2988 \n",
       "L 231 2988 \n",
       "L 231 3322 \n",
       "L 1356 3322 \n",
       "L 1356 331 \n",
       "z\n",
       "\" transform=\"scale(0.015625)\"/>\n",
       "       <path id=\"DejaVuSerif-44\" d=\"M 1581 331 \n",
       "L 2163 331 \n",
       "Q 3072 331 3558 850 \n",
       "Q 4044 1369 4044 2338 \n",
       "Q 4044 3306 3559 3818 \n",
       "Q 3075 4331 2163 4331 \n",
       "L 1581 4331 \n",
       "L 1581 331 \n",
       "z\n",
       "M 353 0 \n",
       "L 353 331 \n",
       "L 947 331 \n",
       "L 947 4331 \n",
       "L 353 4331 \n",
       "L 353 4666 \n",
       "L 2209 4666 \n",
       "Q 3416 4666 4089 4050 \n",
       "Q 4763 3434 4763 2338 \n",
       "Q 4763 1238 4088 619 \n",
       "Q 3413 0 2209 0 \n",
       "L 353 0 \n",
       "z\n",
       "\" transform=\"scale(0.015625)\"/>\n",
       "      </defs>\n",
       "      <use xlink:href=\"#DejaVuSerif-50\"/>\n",
       "      <use xlink:href=\"#DejaVuSerif-73\" x=\"64.660156\"/>\n",
       "      <use xlink:href=\"#DejaVuSerif-65\" x=\"115.978516\"/>\n",
       "      <use xlink:href=\"#DejaVuSerif-75\" x=\"175.158203\"/>\n",
       "      <use xlink:href=\"#DejaVuSerif-64\" x=\"239.5625\"/>\n",
       "      <use xlink:href=\"#DejaVuSerif-6f\" x=\"303.576172\"/>\n",
       "      <use xlink:href=\"#DejaVuSerif-2d\" x=\"363.78125\"/>\n",
       "      <use xlink:href=\"#DejaVuSerif-45\" x=\"397.570312\"/>\n",
       "      <use xlink:href=\"#DejaVuSerif-78\" x=\"470.568359\"/>\n",
       "      <use xlink:href=\"#DejaVuSerif-70\" x=\"526.964844\"/>\n",
       "      <use xlink:href=\"#DejaVuSerif-65\" x=\"590.978516\"/>\n",
       "      <use xlink:href=\"#DejaVuSerif-72\" x=\"650.158203\"/>\n",
       "      <use xlink:href=\"#DejaVuSerif-69\" x=\"697.960938\"/>\n",
       "      <use xlink:href=\"#DejaVuSerif-6d\" x=\"729.943359\"/>\n",
       "      <use xlink:href=\"#DejaVuSerif-65\" x=\"824.767578\"/>\n",
       "      <use xlink:href=\"#DejaVuSerif-6e\" x=\"883.947266\"/>\n",
       "      <use xlink:href=\"#DejaVuSerif-74\" x=\"948.351562\"/>\n",
       "      <use xlink:href=\"#DejaVuSerif-61\" x=\"988.537109\"/>\n",
       "      <use xlink:href=\"#DejaVuSerif-6c\" x=\"1048.15625\"/>\n",
       "      <use xlink:href=\"#DejaVuSerif-20\" x=\"1080.138672\"/>\n",
       "      <use xlink:href=\"#DejaVuSerif-44\" x=\"1111.925781\"/>\n",
       "      <use xlink:href=\"#DejaVuSerif-61\" x=\"1192.101562\"/>\n",
       "      <use xlink:href=\"#DejaVuSerif-74\" x=\"1251.720703\"/>\n",
       "      <use xlink:href=\"#DejaVuSerif-61\" x=\"1291.90625\"/>\n",
       "     </g>\n",
       "    </g>\n",
       "    <g id=\"line2d_35\">\n",
       "     <path d=\"M 209.96872 58.303974 \n",
       "L 221.96872 58.303974 \n",
       "L 233.96872 58.303974 \n",
       "\" style=\"fill: none; stroke: #08298a; stroke-width: 1.5; stroke-linejoin: miter\"/>\n",
       "    </g>\n",
       "    <g id=\"text_21\">\n",
       "     <!-- Predicted Data -->\n",
       "     <g transform=\"translate(243.56872 62.503974) scale(0.12 -0.12)\">\n",
       "      <use xlink:href=\"#DejaVuSerif-50\"/>\n",
       "      <use xlink:href=\"#DejaVuSerif-72\" x=\"67.285156\"/>\n",
       "      <use xlink:href=\"#DejaVuSerif-65\" x=\"115.087891\"/>\n",
       "      <use xlink:href=\"#DejaVuSerif-64\" x=\"174.267578\"/>\n",
       "      <use xlink:href=\"#DejaVuSerif-69\" x=\"238.28125\"/>\n",
       "      <use xlink:href=\"#DejaVuSerif-63\" x=\"270.263672\"/>\n",
       "      <use xlink:href=\"#DejaVuSerif-74\" x=\"326.269531\"/>\n",
       "      <use xlink:href=\"#DejaVuSerif-65\" x=\"366.455078\"/>\n",
       "      <use xlink:href=\"#DejaVuSerif-64\" x=\"425.634766\"/>\n",
       "      <use xlink:href=\"#DejaVuSerif-20\" x=\"489.648438\"/>\n",
       "      <use xlink:href=\"#DejaVuSerif-44\" x=\"521.435547\"/>\n",
       "      <use xlink:href=\"#DejaVuSerif-61\" x=\"601.611328\"/>\n",
       "      <use xlink:href=\"#DejaVuSerif-74\" x=\"661.230469\"/>\n",
       "      <use xlink:href=\"#DejaVuSerif-61\" x=\"701.416016\"/>\n",
       "     </g>\n",
       "    </g>\n",
       "   </g>\n",
       "  </g>\n",
       " </g>\n",
       " <defs>\n",
       "  <clipPath id=\"peba44b3802\">\n",
       "   <rect x=\"47.912087\" y=\"20.172099\" width=\"373.444133\" height=\"372.635052\"/>\n",
       "  </clipPath>\n",
       " </defs>\n",
       "</svg>\n"
      ],
      "text/html": [
       "<img src=\"data:image/png;base64,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\" />"
      ]
     },
     "execution_count": 32,
     "metadata": {},
     "output_type": "execute_result"
    },
    {
     "name": "stderr",
     "output_type": "stream",
     "text": [
      "sys:1: UserWarning: No data for colormapping provided via 'c'. Parameters 'vmin', 'vmax' will be ignored\n",
      "sys:1: UserWarning: No data for colormapping provided via 'c'. Parameters 'vmin', 'vmax' will be ignored\n",
      "sys:1: UserWarning: No data for colormapping provided via 'c'. Parameters 'vmin', 'vmax' will be ignored\n",
      "sys:1: UserWarning: No data for colormapping provided via 'c'. Parameters 'vmin', 'vmax' will be ignored\n"
     ]
    }
   ],
   "source": [
    "# Plot source pcp saft and saft-vr mie regressed parameter phase envelope (over given temperature range)\n",
    "test_species = \"Octane\"\n",
    "plot_all_exptl_data = true\n",
    "npoints_exptl = 50\n",
    "npoints_vrmie = 2000\n",
    "\n",
    "source_data_test_species = filter(row -> row.common_name == lowercase(test_species), pcp_source_params)\n",
    "processed_data_test_species = filter(row -> row.species == lowercase(test_species), processed_data)\n",
    "\n",
    "v_liq_range_pcp = [];\n",
    "v_vap_range_pcp = [];\n",
    "p_range_pcp = [];\n",
    "\n",
    "# Create PCP-Saft Model\n",
    "pcp_model = PPCSAFT([test_species])\n",
    "Tc_pcp, pc_pcp, Vc_pcp = crit_pure(pcp_model)\n",
    "\n",
    "# set experimental data range\n",
    "if plot_all_exptl_data == false\n",
    "    Tmin = source_data_test_species.expt_T_min_liberal[1]\n",
    "    Tmax = min(500, 0.95*Tc_pcp,source_data_test_species.expt_T_max_conservative[1])\n",
    "else\n",
    "    Tmin = min(source_data_test_species.expt_T_min_liberal[1],0.5 * Tc_pcp)\n",
    "    Tmax = Tc_pcp\n",
    "end\n",
    "\n",
    "T_range_pcp = collect(range(Tmin, Tmax, npoints_exptl))\n",
    "\n",
    "# compute pseudo-experimental data\n",
    "for T in T_range_pcp\n",
    "    (p_sat, v_liq_sat, v_vap_sat) = saturation_pressure(pcp_model, T)\n",
    "    push!(v_liq_range_pcp, v_liq_sat)\n",
    "    push!(v_vap_range_pcp, v_vap_sat)\n",
    "    push!(p_range_pcp,p_sat)\n",
    "end\n",
    "\n",
    "v_range_pcp_plot = vcat(v_liq_range_pcp, Vc_pcp, v_vap_range_pcp)\n",
    "p_range_pcp_plot = vcat(p_range_pcp, pc_pcp, p_range_pcp)\n",
    "\n",
    "# Create arrays to store sat. envelopes\n",
    "sat_T_envelopes = []\n",
    "sat_rho_envelopes = []\n",
    "sat_v_envelopes = []\n",
    "\n",
    "number_epochs = length(processed_data_test_species[1,:m])\n",
    "\n",
    "for i = 1:number_epochs\n",
    "\n",
    "    v_liq_range_vrmie = [];  v_vap_range_vrmie = []; p_range_vrmie = [];\n",
    "\n",
    "    println(i)\n",
    "\n",
    "    Mw_test_species = processed_data_test_species[1,:Mw]\n",
    "    m_test_species = processed_data_test_species[1,:m][i]\n",
    "    σ_test_species = processed_data_test_species[1,:σ][i]\n",
    "    λ_a_test_species = processed_data_test_species[1,:λ_a][i]\n",
    "    λ_r_test_species = processed_data_test_species[1,:λ_r][i]\n",
    "    ϵ_test_species = processed_data_test_species[1,:ϵ][i]\n",
    "\n",
    "    vrmie_model = make_model(Mw_test_species, m_test_species, σ_test_species, λ_a_test_species, λ_r_test_species, ϵ_test_species)\n",
    "\n",
    "    Tc0 = BigFloat.(Clapeyron.x0_crit_pure(vrmie_model))\n",
    "    options = Clapeyron.NEqOptions(maxiter=20_000)\n",
    "    Tc_vrmie, pc_vrmie, Vc_vrmie = Float64.(crit_pure(vrmie_model, Tc0; options=options))\n",
    "\n",
    "    T_range_vrmie = collect(range(Tmin, Tc_vrmie, npoints_vrmie))\n",
    "\n",
    "    for T in T_range_vrmie\n",
    "        if isempty(v_liq_range_vrmie)\n",
    "            method = ChemPotVSaturation()\n",
    "        else\n",
    "            method = ChemPotVSaturation(vl=last(v_liq_range_vrmie), vv=last(v_vap_range_vrmie))\n",
    "        end\n",
    "        (p_sat, v_liq_sat, v_vap_sat) = saturation_pressure(vrmie_model, T, method)\n",
    "        push!(v_liq_range_vrmie, v_liq_sat)\n",
    "        push!(v_vap_range_vrmie, v_vap_sat)\n",
    "        push!(p_range_vrmie, p_sat)\n",
    "    end\n",
    "\n",
    "    v_range_vrmie_plot = vcat(v_liq_range_vrmie, Vc_vrmie, reverse(v_vap_range_vrmie))\n",
    "    p_range_vrmie_plot = vcat(p_range_vrmie, pc_vrmie, reverse(p_range_vrmie))\n",
    "\n",
    "    vrmie_nan_indices = findall(isnan, v_range_vrmie_plot)\n",
    "    v_range_vrmie_plot = v_range_vrmie_plot[setdiff(1:length(v_range_vrmie_plot), vrmie_nan_indices)]\n",
    "    p_range_vrmie_plot = p_range_vrmie_plot[setdiff(1:length(p_range_vrmie_plot), vrmie_nan_indices)]\n",
    "\n",
    "    push!(sat_T_envelopes, vcat(T_range_vrmie,Tc_vrmie,reverse(T_range_vrmie)))\n",
    "    push!(sat_rho_envelopes, 1e-3 ./ v_range_vrmie_plot)\n",
    "    push!(sat_v_envelopes, v_range_vrmie_plot)\n",
    "\n",
    "end\n",
    "\n",
    "T_range_pcp_plot = vcat(T_range_pcp, Tc_pcp, T_range_pcp)\n",
    "rho_range_pcp_plot = 1e-3 ./ v_range_pcp_plot;\n",
    "\n",
    "plot(v_range_pcp_plot ./ 10^3 , T_range_pcp_plot, seriestype=:scatter,dpi=400, size=(600, 600),framestyle=:box, fontfamily=\"serif\",markercolor=\"#5dc90a\",markerstrokealpha=0,markersize=5,label=\"Pseudo-Experimental Data\", guidefontsize=18,titlefontsize=18, xtickfontsize=12, ytickfontsize=12,legendfontsize=12)\n",
    "plot!(sat_v_envelopes[1] ./ 10^3, sat_T_envelopes[1],xscale=:log10,linecolor=\"#08298a\",label=\"Predicted Data\",legend=:topright,grid=false)\n",
    "\n",
    "ylabel!(\"Temperature / K\")\n",
    "xlabel!(L\"Volume / (l mol$\\mathregular{^{-1}}$)\")\n",
    "# xscale(:log10)\n",
    "xlims!(10^-7,10^1)\n",
    "ylims!(180,800)\n",
    "xticks!([10^-7, 10^-6, 10^-5, 10^-4,10^-3,10^-2, 10^-1, 10^-0, 10^1])\n",
    "title!(test_species)\n",
    "\n",
    "# savefig(\"Example_phase_envelope.svg\")"
   ]
  },
  {
   "cell_type": "code",
   "execution_count": 34,
   "metadata": {},
   "outputs": [],
   "source": [
    "num_rows = length(sat_v_envelopes)\n",
    "\n",
    "overview_gif_data = DataFrame(\n",
    "    sat_v_envel = fill([0.0], num_rows),\n",
    "    sat_T_envel = fill([0.0], num_rows),\n",
    ") ;\n",
    "\n",
    "overview_gif_data.sat_v_envel = sat_v_envelopes\n",
    "overview_gif_data.sat_T_envel = sat_T_envelopes\n",
    "overview_gif_data;"
   ]
  },
  {
   "cell_type": "code",
   "execution_count": 35,
   "metadata": {},
   "outputs": [],
   "source": [
    "# CSV.write(\"overview_gif_data_octane_volume.csv\", overview_gif_data) ;"
   ]
  },
  {
   "cell_type": "code",
   "execution_count": 8,
   "metadata": {},
   "outputs": [],
   "source": [
    "# overview_gif_data_raw = CSV.read(\"../special_thingy_params/overview_gif_data.csv\", DataFrame, header=1);"
   ]
  },
  {
   "cell_type": "code",
   "execution_count": 9,
   "metadata": {},
   "outputs": [],
   "source": [
    "# num_rows = nrow(overview_gif_data_raw)\n",
    "\n",
    "# overview_gif_data = DataFrame(\n",
    "#     sat_rho_envel = fill([0.0], num_rows),\n",
    "#     sat_T_envel = fill([0.0], num_rows),\n",
    "# ) ;\n",
    "\n",
    "# for j = 1:ncol(overview_gif_data_raw)\n",
    "#     for i = 1:num_rows\n",
    "\n",
    "#         values_str = split(strip(overview_gif_data_raw[i,j], ['[', ']']), \", \")\n",
    "#         values = parse.(Float64, values_str)\n",
    "#         vector_of_floats = collect(values)\n",
    "\n",
    "#         overview_gif_data[i,j] = vector_of_floats\n",
    "#     end\n",
    "# end"
   ]
  },
  {
   "cell_type": "code",
   "execution_count": 39,
   "metadata": {},
   "outputs": [
    {
     "name": "stdout",
     "output_type": "stream",
     "text": [
      "1\n",
      "2\n"
     ]
    },
    {
     "name": "stderr",
     "output_type": "stream",
     "text": [
      "sys:1: UserWarning: No data for colormapping provided via 'c'. Parameters 'vmin', 'vmax' will be ignored\n"
     ]
    },
    {
     "name": "stdout",
     "output_type": "stream",
     "text": [
      "3\n"
     ]
    },
    {
     "name": "stderr",
     "output_type": "stream",
     "text": [
      "sys:1: UserWarning: No data for colormapping provided via 'c'. Parameters 'vmin', 'vmax' will be ignored\n"
     ]
    },
    {
     "name": "stdout",
     "output_type": "stream",
     "text": [
      "4\n"
     ]
    },
    {
     "name": "stderr",
     "output_type": "stream",
     "text": [
      "sys:1: UserWarning: No data for colormapping provided via 'c'. Parameters 'vmin', 'vmax' will be ignored\n"
     ]
    },
    {
     "name": "stdout",
     "output_type": "stream",
     "text": [
      "5\n"
     ]
    },
    {
     "name": "stderr",
     "output_type": "stream",
     "text": [
      "sys:1: UserWarning: No data for colormapping provided via 'c'. Parameters 'vmin', 'vmax' will be ignored\n"
     ]
    },
    {
     "name": "stdout",
     "output_type": "stream",
     "text": [
      "6\n"
     ]
    },
    {
     "name": "stderr",
     "output_type": "stream",
     "text": [
      "sys:1: UserWarning: No data for colormapping provided via 'c'. Parameters 'vmin', 'vmax' will be ignored\n"
     ]
    },
    {
     "name": "stdout",
     "output_type": "stream",
     "text": [
      "7\n"
     ]
    },
    {
     "name": "stderr",
     "output_type": "stream",
     "text": [
      "sys:1: UserWarning: No data for colormapping provided via 'c'. Parameters 'vmin', 'vmax' will be ignored\n"
     ]
    },
    {
     "name": "stdout",
     "output_type": "stream",
     "text": [
      "8\n"
     ]
    },
    {
     "name": "stderr",
     "output_type": "stream",
     "text": [
      "sys:1: UserWarning: No data for colormapping provided via 'c'. Parameters 'vmin', 'vmax' will be ignored\n"
     ]
    },
    {
     "name": "stdout",
     "output_type": "stream",
     "text": [
      "9\n"
     ]
    },
    {
     "name": "stderr",
     "output_type": "stream",
     "text": [
      "sys:1: UserWarning: No data for colormapping provided via 'c'. Parameters 'vmin', 'vmax' will be ignored\n"
     ]
    },
    {
     "name": "stdout",
     "output_type": "stream",
     "text": [
      "10\n"
     ]
    },
    {
     "name": "stderr",
     "output_type": "stream",
     "text": [
      "sys:1: UserWarning: No data for colormapping provided via 'c'. Parameters 'vmin', 'vmax' will be ignored\n"
     ]
    },
    {
     "name": "stdout",
     "output_type": "stream",
     "text": [
      "11\n"
     ]
    },
    {
     "name": "stderr",
     "output_type": "stream",
     "text": [
      "sys:1: UserWarning: No data for colormapping provided via 'c'. Parameters 'vmin', 'vmax' will be ignored\n"
     ]
    },
    {
     "name": "stdout",
     "output_type": "stream",
     "text": [
      "12\n"
     ]
    },
    {
     "name": "stderr",
     "output_type": "stream",
     "text": [
      "sys:1: UserWarning: No data for colormapping provided via 'c'. Parameters 'vmin', 'vmax' will be ignored\n"
     ]
    },
    {
     "name": "stdout",
     "output_type": "stream",
     "text": [
      "13\n"
     ]
    },
    {
     "name": "stderr",
     "output_type": "stream",
     "text": [
      "sys:1: UserWarning: No data for colormapping provided via 'c'. Parameters 'vmin', 'vmax' will be ignored\n"
     ]
    },
    {
     "name": "stdout",
     "output_type": "stream",
     "text": [
      "14\n"
     ]
    },
    {
     "name": "stderr",
     "output_type": "stream",
     "text": [
      "sys:1: UserWarning: No data for colormapping provided via 'c'. Parameters 'vmin', 'vmax' will be ignored\n"
     ]
    },
    {
     "name": "stdout",
     "output_type": "stream",
     "text": [
      "15\n"
     ]
    },
    {
     "name": "stderr",
     "output_type": "stream",
     "text": [
      "sys:1: UserWarning: No data for colormapping provided via 'c'. Parameters 'vmin', 'vmax' will be ignored\n"
     ]
    },
    {
     "name": "stdout",
     "output_type": "stream",
     "text": [
      "16\n"
     ]
    },
    {
     "name": "stderr",
     "output_type": "stream",
     "text": [
      "sys:1: UserWarning: No data for colormapping provided via 'c'. Parameters 'vmin', 'vmax' will be ignored\n"
     ]
    },
    {
     "name": "stdout",
     "output_type": "stream",
     "text": [
      "17\n"
     ]
    },
    {
     "name": "stderr",
     "output_type": "stream",
     "text": [
      "sys:1: UserWarning: No data for colormapping provided via 'c'. Parameters 'vmin', 'vmax' will be ignored\n"
     ]
    },
    {
     "name": "stdout",
     "output_type": "stream",
     "text": [
      "18\n"
     ]
    },
    {
     "name": "stderr",
     "output_type": "stream",
     "text": [
      "sys:1: UserWarning: No data for colormapping provided via 'c'. Parameters 'vmin', 'vmax' will be ignored\n"
     ]
    },
    {
     "name": "stdout",
     "output_type": "stream",
     "text": [
      "19\n"
     ]
    },
    {
     "name": "stderr",
     "output_type": "stream",
     "text": [
      "sys:1: UserWarning: No data for colormapping provided via 'c'. Parameters 'vmin', 'vmax' will be ignored\n"
     ]
    },
    {
     "name": "stdout",
     "output_type": "stream",
     "text": [
      "20\n"
     ]
    },
    {
     "name": "stderr",
     "output_type": "stream",
     "text": [
      "sys:1: UserWarning: No data for colormapping provided via 'c'. Parameters 'vmin', 'vmax' will be ignored\n"
     ]
    },
    {
     "name": "stdout",
     "output_type": "stream",
     "text": [
      "21\n"
     ]
    },
    {
     "name": "stderr",
     "output_type": "stream",
     "text": [
      "sys:1: UserWarning: No data for colormapping provided via 'c'. Parameters 'vmin', 'vmax' will be ignored\n"
     ]
    },
    {
     "name": "stdout",
     "output_type": "stream",
     "text": [
      "22\n"
     ]
    },
    {
     "name": "stderr",
     "output_type": "stream",
     "text": [
      "sys:1: UserWarning: No data for colormapping provided via 'c'. Parameters 'vmin', 'vmax' will be ignored\n"
     ]
    },
    {
     "name": "stdout",
     "output_type": "stream",
     "text": [
      "23\n"
     ]
    },
    {
     "name": "stderr",
     "output_type": "stream",
     "text": [
      "sys:1: UserWarning: No data for colormapping provided via 'c'. Parameters 'vmin', 'vmax' will be ignored\n"
     ]
    },
    {
     "name": "stdout",
     "output_type": "stream",
     "text": [
      "24\n"
     ]
    },
    {
     "name": "stderr",
     "output_type": "stream",
     "text": [
      "sys:1: UserWarning: No data for colormapping provided via 'c'. Parameters 'vmin', 'vmax' will be ignored\n"
     ]
    },
    {
     "name": "stdout",
     "output_type": "stream",
     "text": [
      "25\n"
     ]
    },
    {
     "name": "stderr",
     "output_type": "stream",
     "text": [
      "sys:1: UserWarning: No data for colormapping provided via 'c'. Parameters 'vmin', 'vmax' will be ignored\n"
     ]
    },
    {
     "name": "stdout",
     "output_type": "stream",
     "text": [
      "26\n"
     ]
    },
    {
     "name": "stderr",
     "output_type": "stream",
     "text": [
      "sys:1: UserWarning: No data for colormapping provided via 'c'. Parameters 'vmin', 'vmax' will be ignored\n"
     ]
    },
    {
     "name": "stdout",
     "output_type": "stream",
     "text": [
      "27\n"
     ]
    },
    {
     "name": "stderr",
     "output_type": "stream",
     "text": [
      "sys:1: UserWarning: No data for colormapping provided via 'c'. Parameters 'vmin', 'vmax' will be ignored\n"
     ]
    },
    {
     "name": "stdout",
     "output_type": "stream",
     "text": [
      "28\n"
     ]
    },
    {
     "name": "stderr",
     "output_type": "stream",
     "text": [
      "sys:1: UserWarning: No data for colormapping provided via 'c'. Parameters 'vmin', 'vmax' will be ignored\n"
     ]
    },
    {
     "name": "stdout",
     "output_type": "stream",
     "text": [
      "29\n"
     ]
    },
    {
     "name": "stderr",
     "output_type": "stream",
     "text": [
      "sys:1: UserWarning: No data for colormapping provided via 'c'. Parameters 'vmin', 'vmax' will be ignored\n"
     ]
    },
    {
     "name": "stdout",
     "output_type": "stream",
     "text": [
      "30\n"
     ]
    },
    {
     "name": "stderr",
     "output_type": "stream",
     "text": [
      "sys:1: UserWarning: No data for colormapping provided via 'c'. Parameters 'vmin', 'vmax' will be ignored\n"
     ]
    },
    {
     "name": "stdout",
     "output_type": "stream",
     "text": [
      "31\n"
     ]
    },
    {
     "name": "stderr",
     "output_type": "stream",
     "text": [
      "sys:1: UserWarning: No data for colormapping provided via 'c'. Parameters 'vmin', 'vmax' will be ignored\n"
     ]
    },
    {
     "name": "stdout",
     "output_type": "stream",
     "text": [
      "32\n"
     ]
    },
    {
     "name": "stderr",
     "output_type": "stream",
     "text": [
      "sys:1: UserWarning: No data for colormapping provided via 'c'. Parameters 'vmin', 'vmax' will be ignored\n"
     ]
    },
    {
     "name": "stdout",
     "output_type": "stream",
     "text": [
      "33\n"
     ]
    },
    {
     "name": "stderr",
     "output_type": "stream",
     "text": [
      "sys:1: UserWarning: No data for colormapping provided via 'c'. Parameters 'vmin', 'vmax' will be ignored\n"
     ]
    },
    {
     "name": "stdout",
     "output_type": "stream",
     "text": [
      "34\n"
     ]
    },
    {
     "name": "stderr",
     "output_type": "stream",
     "text": [
      "sys:1: UserWarning: No data for colormapping provided via 'c'. Parameters 'vmin', 'vmax' will be ignored\n"
     ]
    },
    {
     "name": "stdout",
     "output_type": "stream",
     "text": [
      "35\n"
     ]
    },
    {
     "name": "stderr",
     "output_type": "stream",
     "text": [
      "sys:1: UserWarning: No data for colormapping provided via 'c'. Parameters 'vmin', 'vmax' will be ignored\n"
     ]
    },
    {
     "name": "stdout",
     "output_type": "stream",
     "text": [
      "36\n"
     ]
    },
    {
     "name": "stderr",
     "output_type": "stream",
     "text": [
      "sys:1: UserWarning: No data for colormapping provided via 'c'. Parameters 'vmin', 'vmax' will be ignored\n"
     ]
    },
    {
     "name": "stdout",
     "output_type": "stream",
     "text": [
      "37\n"
     ]
    },
    {
     "name": "stderr",
     "output_type": "stream",
     "text": [
      "sys:1: UserWarning: No data for colormapping provided via 'c'. Parameters 'vmin', 'vmax' will be ignored\n"
     ]
    },
    {
     "name": "stdout",
     "output_type": "stream",
     "text": [
      "38\n"
     ]
    },
    {
     "name": "stderr",
     "output_type": "stream",
     "text": [
      "sys:1: UserWarning: No data for colormapping provided via 'c'. Parameters 'vmin', 'vmax' will be ignored\n"
     ]
    },
    {
     "name": "stdout",
     "output_type": "stream",
     "text": [
      "39\n"
     ]
    },
    {
     "name": "stderr",
     "output_type": "stream",
     "text": [
      "sys:1: UserWarning: No data for colormapping provided via 'c'. Parameters 'vmin', 'vmax' will be ignored\n"
     ]
    },
    {
     "name": "stdout",
     "output_type": "stream",
     "text": [
      "40\n"
     ]
    },
    {
     "name": "stderr",
     "output_type": "stream",
     "text": [
      "sys:1: UserWarning: No data for colormapping provided via 'c'. Parameters 'vmin', 'vmax' will be ignored\n"
     ]
    },
    {
     "name": "stdout",
     "output_type": "stream",
     "text": [
      "41\n"
     ]
    },
    {
     "name": "stderr",
     "output_type": "stream",
     "text": [
      "sys:1: UserWarning: No data for colormapping provided via 'c'. Parameters 'vmin', 'vmax' will be ignored\n"
     ]
    },
    {
     "name": "stdout",
     "output_type": "stream",
     "text": [
      "42\n"
     ]
    },
    {
     "name": "stderr",
     "output_type": "stream",
     "text": [
      "sys:1: UserWarning: No data for colormapping provided via 'c'. Parameters 'vmin', 'vmax' will be ignored\n"
     ]
    },
    {
     "name": "stdout",
     "output_type": "stream",
     "text": [
      "43\n"
     ]
    },
    {
     "name": "stderr",
     "output_type": "stream",
     "text": [
      "sys:1: UserWarning: No data for colormapping provided via 'c'. Parameters 'vmin', 'vmax' will be ignored\n"
     ]
    },
    {
     "name": "stdout",
     "output_type": "stream",
     "text": [
      "44\n"
     ]
    },
    {
     "name": "stderr",
     "output_type": "stream",
     "text": [
      "sys:1: UserWarning: No data for colormapping provided via 'c'. Parameters 'vmin', 'vmax' will be ignored\n"
     ]
    },
    {
     "name": "stdout",
     "output_type": "stream",
     "text": [
      "45\n"
     ]
    },
    {
     "name": "stderr",
     "output_type": "stream",
     "text": [
      "sys:1: UserWarning: No data for colormapping provided via 'c'. Parameters 'vmin', 'vmax' will be ignored\n"
     ]
    },
    {
     "name": "stdout",
     "output_type": "stream",
     "text": [
      "46\n"
     ]
    },
    {
     "name": "stderr",
     "output_type": "stream",
     "text": [
      "sys:1: UserWarning: No data for colormapping provided via 'c'. Parameters 'vmin', 'vmax' will be ignored\n"
     ]
    },
    {
     "name": "stdout",
     "output_type": "stream",
     "text": [
      "47\n"
     ]
    },
    {
     "name": "stderr",
     "output_type": "stream",
     "text": [
      "sys:1: UserWarning: No data for colormapping provided via 'c'. Parameters 'vmin', 'vmax' will be ignored\n"
     ]
    },
    {
     "name": "stdout",
     "output_type": "stream",
     "text": [
      "48\n"
     ]
    },
    {
     "name": "stderr",
     "output_type": "stream",
     "text": [
      "sys:1: UserWarning: No data for colormapping provided via 'c'. Parameters 'vmin', 'vmax' will be ignored\n"
     ]
    },
    {
     "name": "stdout",
     "output_type": "stream",
     "text": [
      "49\n"
     ]
    },
    {
     "name": "stderr",
     "output_type": "stream",
     "text": [
      "sys:1: UserWarning: No data for colormapping provided via 'c'. Parameters 'vmin', 'vmax' will be ignored\n"
     ]
    },
    {
     "name": "stdout",
     "output_type": "stream",
     "text": [
      "50\n"
     ]
    },
    {
     "name": "stderr",
     "output_type": "stream",
     "text": [
      "sys:1: UserWarning: No data for colormapping provided via 'c'. Parameters 'vmin', 'vmax' will be ignored\n"
     ]
    },
    {
     "name": "stdout",
     "output_type": "stream",
     "text": [
      "51\n"
     ]
    },
    {
     "name": "stderr",
     "output_type": "stream",
     "text": [
      "sys:1: UserWarning: No data for colormapping provided via 'c'. Parameters 'vmin', 'vmax' will be ignored\n"
     ]
    },
    {
     "name": "stdout",
     "output_type": "stream",
     "text": [
      "52\n"
     ]
    },
    {
     "name": "stderr",
     "output_type": "stream",
     "text": [
      "sys:1: UserWarning: No data for colormapping provided via 'c'. Parameters 'vmin', 'vmax' will be ignored\n"
     ]
    },
    {
     "name": "stdout",
     "output_type": "stream",
     "text": [
      "53\n"
     ]
    },
    {
     "name": "stderr",
     "output_type": "stream",
     "text": [
      "sys:1: UserWarning: No data for colormapping provided via 'c'. Parameters 'vmin', 'vmax' will be ignored\n"
     ]
    },
    {
     "name": "stdout",
     "output_type": "stream",
     "text": [
      "54\n"
     ]
    },
    {
     "name": "stderr",
     "output_type": "stream",
     "text": [
      "sys:1: UserWarning: No data for colormapping provided via 'c'. Parameters 'vmin', 'vmax' will be ignored\n"
     ]
    },
    {
     "name": "stdout",
     "output_type": "stream",
     "text": [
      "55\n"
     ]
    },
    {
     "name": "stderr",
     "output_type": "stream",
     "text": [
      "sys:1: UserWarning: No data for colormapping provided via 'c'. Parameters 'vmin', 'vmax' will be ignored\n"
     ]
    },
    {
     "name": "stdout",
     "output_type": "stream",
     "text": [
      "56\n"
     ]
    },
    {
     "name": "stderr",
     "output_type": "stream",
     "text": [
      "sys:1: UserWarning: No data for colormapping provided via 'c'. Parameters 'vmin', 'vmax' will be ignored\n"
     ]
    },
    {
     "name": "stdout",
     "output_type": "stream",
     "text": [
      "57\n"
     ]
    },
    {
     "name": "stderr",
     "output_type": "stream",
     "text": [
      "sys:1: UserWarning: No data for colormapping provided via 'c'. Parameters 'vmin', 'vmax' will be ignored\n"
     ]
    },
    {
     "name": "stdout",
     "output_type": "stream",
     "text": [
      "58\n"
     ]
    },
    {
     "name": "stderr",
     "output_type": "stream",
     "text": [
      "sys:1: UserWarning: No data for colormapping provided via 'c'. Parameters 'vmin', 'vmax' will be ignored\n"
     ]
    },
    {
     "name": "stdout",
     "output_type": "stream",
     "text": [
      "59\n"
     ]
    },
    {
     "name": "stderr",
     "output_type": "stream",
     "text": [
      "sys:1: UserWarning: No data for colormapping provided via 'c'. Parameters 'vmin', 'vmax' will be ignored\n"
     ]
    },
    {
     "name": "stdout",
     "output_type": "stream",
     "text": [
      "60\n"
     ]
    },
    {
     "name": "stderr",
     "output_type": "stream",
     "text": [
      "sys:1: UserWarning: No data for colormapping provided via 'c'. Parameters 'vmin', 'vmax' will be ignored\n"
     ]
    },
    {
     "name": "stdout",
     "output_type": "stream",
     "text": [
      "61\n"
     ]
    },
    {
     "name": "stderr",
     "output_type": "stream",
     "text": [
      "sys:1: UserWarning: No data for colormapping provided via 'c'. Parameters 'vmin', 'vmax' will be ignored\n"
     ]
    },
    {
     "name": "stdout",
     "output_type": "stream",
     "text": [
      "62\n"
     ]
    },
    {
     "name": "stderr",
     "output_type": "stream",
     "text": [
      "sys:1: UserWarning: No data for colormapping provided via 'c'. Parameters 'vmin', 'vmax' will be ignored\n"
     ]
    },
    {
     "name": "stdout",
     "output_type": "stream",
     "text": [
      "63\n"
     ]
    },
    {
     "name": "stderr",
     "output_type": "stream",
     "text": [
      "sys:1: UserWarning: No data for colormapping provided via 'c'. Parameters 'vmin', 'vmax' will be ignored\n"
     ]
    },
    {
     "name": "stdout",
     "output_type": "stream",
     "text": [
      "64\n"
     ]
    },
    {
     "name": "stderr",
     "output_type": "stream",
     "text": [
      "sys:1: UserWarning: No data for colormapping provided via 'c'. Parameters 'vmin', 'vmax' will be ignored\n"
     ]
    },
    {
     "name": "stdout",
     "output_type": "stream",
     "text": [
      "65\n"
     ]
    },
    {
     "name": "stderr",
     "output_type": "stream",
     "text": [
      "sys:1: UserWarning: No data for colormapping provided via 'c'. Parameters 'vmin', 'vmax' will be ignored\n"
     ]
    },
    {
     "name": "stdout",
     "output_type": "stream",
     "text": [
      "66\n"
     ]
    },
    {
     "name": "stderr",
     "output_type": "stream",
     "text": [
      "sys:1: UserWarning: No data for colormapping provided via 'c'. Parameters 'vmin', 'vmax' will be ignored\n"
     ]
    },
    {
     "name": "stdout",
     "output_type": "stream",
     "text": [
      "67\n"
     ]
    },
    {
     "name": "stderr",
     "output_type": "stream",
     "text": [
      "sys:1: UserWarning: No data for colormapping provided via 'c'. Parameters 'vmin', 'vmax' will be ignored\n"
     ]
    },
    {
     "name": "stdout",
     "output_type": "stream",
     "text": [
      "68\n"
     ]
    },
    {
     "name": "stderr",
     "output_type": "stream",
     "text": [
      "sys:1: UserWarning: No data for colormapping provided via 'c'. Parameters 'vmin', 'vmax' will be ignored\n"
     ]
    },
    {
     "name": "stdout",
     "output_type": "stream",
     "text": [
      "69\n"
     ]
    },
    {
     "name": "stderr",
     "output_type": "stream",
     "text": [
      "sys:1: UserWarning: No data for colormapping provided via 'c'. Parameters 'vmin', 'vmax' will be ignored\n"
     ]
    },
    {
     "name": "stdout",
     "output_type": "stream",
     "text": [
      "70\n"
     ]
    },
    {
     "name": "stderr",
     "output_type": "stream",
     "text": [
      "sys:1: UserWarning: No data for colormapping provided via 'c'. Parameters 'vmin', 'vmax' will be ignored\n"
     ]
    },
    {
     "name": "stdout",
     "output_type": "stream",
     "text": [
      "71\n"
     ]
    },
    {
     "name": "stderr",
     "output_type": "stream",
     "text": [
      "sys:1: UserWarning: No data for colormapping provided via 'c'. Parameters 'vmin', 'vmax' will be ignored\n"
     ]
    },
    {
     "name": "stdout",
     "output_type": "stream",
     "text": [
      "72\n"
     ]
    },
    {
     "name": "stderr",
     "output_type": "stream",
     "text": [
      "sys:1: UserWarning: No data for colormapping provided via 'c'. Parameters 'vmin', 'vmax' will be ignored\n"
     ]
    },
    {
     "name": "stdout",
     "output_type": "stream",
     "text": [
      "73\n"
     ]
    },
    {
     "name": "stderr",
     "output_type": "stream",
     "text": [
      "sys:1: UserWarning: No data for colormapping provided via 'c'. Parameters 'vmin', 'vmax' will be ignored\n"
     ]
    },
    {
     "name": "stdout",
     "output_type": "stream",
     "text": [
      "74\n"
     ]
    },
    {
     "name": "stderr",
     "output_type": "stream",
     "text": [
      "sys:1: UserWarning: No data for colormapping provided via 'c'. Parameters 'vmin', 'vmax' will be ignored\n"
     ]
    },
    {
     "name": "stdout",
     "output_type": "stream",
     "text": [
      "75\n"
     ]
    },
    {
     "name": "stderr",
     "output_type": "stream",
     "text": [
      "sys:1: UserWarning: No data for colormapping provided via 'c'. Parameters 'vmin', 'vmax' will be ignored\n"
     ]
    },
    {
     "name": "stdout",
     "output_type": "stream",
     "text": [
      "76\n"
     ]
    },
    {
     "name": "stderr",
     "output_type": "stream",
     "text": [
      "sys:1: UserWarning: No data for colormapping provided via 'c'. Parameters 'vmin', 'vmax' will be ignored\n"
     ]
    },
    {
     "name": "stdout",
     "output_type": "stream",
     "text": [
      "77\n"
     ]
    },
    {
     "name": "stderr",
     "output_type": "stream",
     "text": [
      "sys:1: UserWarning: No data for colormapping provided via 'c'. Parameters 'vmin', 'vmax' will be ignored\n"
     ]
    },
    {
     "name": "stdout",
     "output_type": "stream",
     "text": [
      "78\n"
     ]
    },
    {
     "name": "stderr",
     "output_type": "stream",
     "text": [
      "sys:1: UserWarning: No data for colormapping provided via 'c'. Parameters 'vmin', 'vmax' will be ignored\n"
     ]
    },
    {
     "name": "stdout",
     "output_type": "stream",
     "text": [
      "79\n"
     ]
    },
    {
     "name": "stderr",
     "output_type": "stream",
     "text": [
      "sys:1: UserWarning: No data for colormapping provided via 'c'. Parameters 'vmin', 'vmax' will be ignored\n"
     ]
    },
    {
     "name": "stdout",
     "output_type": "stream",
     "text": [
      "80\n"
     ]
    },
    {
     "name": "stderr",
     "output_type": "stream",
     "text": [
      "sys:1: UserWarning: No data for colormapping provided via 'c'. Parameters 'vmin', 'vmax' will be ignored\n"
     ]
    },
    {
     "name": "stdout",
     "output_type": "stream",
     "text": [
      "81\n"
     ]
    },
    {
     "name": "stderr",
     "output_type": "stream",
     "text": [
      "sys:1: UserWarning: No data for colormapping provided via 'c'. Parameters 'vmin', 'vmax' will be ignored\n"
     ]
    },
    {
     "name": "stdout",
     "output_type": "stream",
     "text": [
      "82\n"
     ]
    },
    {
     "name": "stderr",
     "output_type": "stream",
     "text": [
      "sys:1: UserWarning: No data for colormapping provided via 'c'. Parameters 'vmin', 'vmax' will be ignored\n"
     ]
    },
    {
     "name": "stdout",
     "output_type": "stream",
     "text": [
      "83\n"
     ]
    },
    {
     "name": "stderr",
     "output_type": "stream",
     "text": [
      "sys:1: UserWarning: No data for colormapping provided via 'c'. Parameters 'vmin', 'vmax' will be ignored\n"
     ]
    },
    {
     "name": "stdout",
     "output_type": "stream",
     "text": [
      "84\n"
     ]
    },
    {
     "name": "stderr",
     "output_type": "stream",
     "text": [
      "sys:1: UserWarning: No data for colormapping provided via 'c'. Parameters 'vmin', 'vmax' will be ignored\n"
     ]
    },
    {
     "name": "stdout",
     "output_type": "stream",
     "text": [
      "85\n"
     ]
    },
    {
     "name": "stderr",
     "output_type": "stream",
     "text": [
      "sys:1: UserWarning: No data for colormapping provided via 'c'. Parameters 'vmin', 'vmax' will be ignored\n"
     ]
    },
    {
     "name": "stdout",
     "output_type": "stream",
     "text": [
      "86\n"
     ]
    },
    {
     "name": "stderr",
     "output_type": "stream",
     "text": [
      "sys:1: UserWarning: No data for colormapping provided via 'c'. Parameters 'vmin', 'vmax' will be ignored\n"
     ]
    },
    {
     "name": "stdout",
     "output_type": "stream",
     "text": [
      "87\n"
     ]
    },
    {
     "name": "stderr",
     "output_type": "stream",
     "text": [
      "sys:1: UserWarning: No data for colormapping provided via 'c'. Parameters 'vmin', 'vmax' will be ignored\n"
     ]
    },
    {
     "name": "stdout",
     "output_type": "stream",
     "text": [
      "88\n"
     ]
    },
    {
     "name": "stderr",
     "output_type": "stream",
     "text": [
      "sys:1: UserWarning: No data for colormapping provided via 'c'. Parameters 'vmin', 'vmax' will be ignored\n"
     ]
    },
    {
     "name": "stdout",
     "output_type": "stream",
     "text": [
      "89\n"
     ]
    },
    {
     "name": "stderr",
     "output_type": "stream",
     "text": [
      "sys:1: UserWarning: No data for colormapping provided via 'c'. Parameters 'vmin', 'vmax' will be ignored\n"
     ]
    },
    {
     "name": "stdout",
     "output_type": "stream",
     "text": [
      "90\n"
     ]
    },
    {
     "name": "stderr",
     "output_type": "stream",
     "text": [
      "sys:1: UserWarning: No data for colormapping provided via 'c'. Parameters 'vmin', 'vmax' will be ignored\n"
     ]
    },
    {
     "name": "stdout",
     "output_type": "stream",
     "text": [
      "91\n"
     ]
    },
    {
     "name": "stderr",
     "output_type": "stream",
     "text": [
      "sys:1: UserWarning: No data for colormapping provided via 'c'. Parameters 'vmin', 'vmax' will be ignored\n"
     ]
    },
    {
     "name": "stdout",
     "output_type": "stream",
     "text": [
      "92\n"
     ]
    },
    {
     "name": "stderr",
     "output_type": "stream",
     "text": [
      "sys:1: UserWarning: No data for colormapping provided via 'c'. Parameters 'vmin', 'vmax' will be ignored\n"
     ]
    },
    {
     "name": "stdout",
     "output_type": "stream",
     "text": [
      "93\n"
     ]
    },
    {
     "name": "stderr",
     "output_type": "stream",
     "text": [
      "sys:1: UserWarning: No data for colormapping provided via 'c'. Parameters 'vmin', 'vmax' will be ignored\n"
     ]
    },
    {
     "name": "stdout",
     "output_type": "stream",
     "text": [
      "94\n"
     ]
    },
    {
     "name": "stderr",
     "output_type": "stream",
     "text": [
      "sys:1: UserWarning: No data for colormapping provided via 'c'. Parameters 'vmin', 'vmax' will be ignored\n"
     ]
    },
    {
     "name": "stdout",
     "output_type": "stream",
     "text": [
      "95\n"
     ]
    },
    {
     "name": "stderr",
     "output_type": "stream",
     "text": [
      "sys:1: UserWarning: No data for colormapping provided via 'c'. Parameters 'vmin', 'vmax' will be ignored\n"
     ]
    },
    {
     "name": "stdout",
     "output_type": "stream",
     "text": [
      "96\n"
     ]
    },
    {
     "name": "stderr",
     "output_type": "stream",
     "text": [
      "sys:1: UserWarning: No data for colormapping provided via 'c'. Parameters 'vmin', 'vmax' will be ignored\n"
     ]
    },
    {
     "name": "stdout",
     "output_type": "stream",
     "text": [
      "97\n"
     ]
    },
    {
     "name": "stderr",
     "output_type": "stream",
     "text": [
      "sys:1: UserWarning: No data for colormapping provided via 'c'. Parameters 'vmin', 'vmax' will be ignored\n"
     ]
    },
    {
     "name": "stdout",
     "output_type": "stream",
     "text": [
      "98\n"
     ]
    },
    {
     "name": "stderr",
     "output_type": "stream",
     "text": [
      "sys:1: UserWarning: No data for colormapping provided via 'c'. Parameters 'vmin', 'vmax' will be ignored\n"
     ]
    },
    {
     "name": "stdout",
     "output_type": "stream",
     "text": [
      "99\n"
     ]
    },
    {
     "name": "stderr",
     "output_type": "stream",
     "text": [
      "sys:1: UserWarning: No data for colormapping provided via 'c'. Parameters 'vmin', 'vmax' will be ignored\n"
     ]
    },
    {
     "name": "stdout",
     "output_type": "stream",
     "text": [
      "100\n"
     ]
    },
    {
     "name": "stderr",
     "output_type": "stream",
     "text": [
      "sys:1: UserWarning: No data for colormapping provided via 'c'. Parameters 'vmin', 'vmax' will be ignored\n"
     ]
    },
    {
     "name": "stdout",
     "output_type": "stream",
     "text": [
      "101\n"
     ]
    },
    {
     "name": "stderr",
     "output_type": "stream",
     "text": [
      "sys:1: UserWarning: No data for colormapping provided via 'c'. Parameters 'vmin', 'vmax' will be ignored\n"
     ]
    },
    {
     "name": "stdout",
     "output_type": "stream",
     "text": [
      "102\n"
     ]
    },
    {
     "name": "stderr",
     "output_type": "stream",
     "text": [
      "sys:1: UserWarning: No data for colormapping provided via 'c'. Parameters 'vmin', 'vmax' will be ignored\n"
     ]
    },
    {
     "name": "stdout",
     "output_type": "stream",
     "text": [
      "103\n"
     ]
    },
    {
     "name": "stderr",
     "output_type": "stream",
     "text": [
      "sys:1: UserWarning: No data for colormapping provided via 'c'. Parameters 'vmin', 'vmax' will be ignored\n"
     ]
    },
    {
     "name": "stdout",
     "output_type": "stream",
     "text": [
      "104\n"
     ]
    },
    {
     "name": "stderr",
     "output_type": "stream",
     "text": [
      "sys:1: UserWarning: No data for colormapping provided via 'c'. Parameters 'vmin', 'vmax' will be ignored\n"
     ]
    },
    {
     "name": "stdout",
     "output_type": "stream",
     "text": [
      "105\n"
     ]
    },
    {
     "name": "stderr",
     "output_type": "stream",
     "text": [
      "sys:1: UserWarning: No data for colormapping provided via 'c'. Parameters 'vmin', 'vmax' will be ignored\n"
     ]
    },
    {
     "name": "stdout",
     "output_type": "stream",
     "text": [
      "106\n"
     ]
    },
    {
     "name": "stderr",
     "output_type": "stream",
     "text": [
      "sys:1: UserWarning: No data for colormapping provided via 'c'. Parameters 'vmin', 'vmax' will be ignored\n"
     ]
    },
    {
     "name": "stdout",
     "output_type": "stream",
     "text": [
      "107\n"
     ]
    },
    {
     "name": "stderr",
     "output_type": "stream",
     "text": [
      "sys:1: UserWarning: No data for colormapping provided via 'c'. Parameters 'vmin', 'vmax' will be ignored\n"
     ]
    },
    {
     "name": "stdout",
     "output_type": "stream",
     "text": [
      "108\n"
     ]
    },
    {
     "name": "stderr",
     "output_type": "stream",
     "text": [
      "sys:1: UserWarning: No data for colormapping provided via 'c'. Parameters 'vmin', 'vmax' will be ignored\n"
     ]
    },
    {
     "name": "stdout",
     "output_type": "stream",
     "text": [
      "109\n"
     ]
    },
    {
     "name": "stderr",
     "output_type": "stream",
     "text": [
      "sys:1: UserWarning: No data for colormapping provided via 'c'. Parameters 'vmin', 'vmax' will be ignored\n"
     ]
    },
    {
     "name": "stdout",
     "output_type": "stream",
     "text": [
      "110\n"
     ]
    },
    {
     "name": "stderr",
     "output_type": "stream",
     "text": [
      "sys:1: UserWarning: No data for colormapping provided via 'c'. Parameters 'vmin', 'vmax' will be ignored\n"
     ]
    },
    {
     "name": "stdout",
     "output_type": "stream",
     "text": [
      "111\n"
     ]
    },
    {
     "name": "stderr",
     "output_type": "stream",
     "text": [
      "sys:1: UserWarning: No data for colormapping provided via 'c'. Parameters 'vmin', 'vmax' will be ignored\n"
     ]
    },
    {
     "name": "stdout",
     "output_type": "stream",
     "text": [
      "112\n"
     ]
    },
    {
     "name": "stderr",
     "output_type": "stream",
     "text": [
      "sys:1: UserWarning: No data for colormapping provided via 'c'. Parameters 'vmin', 'vmax' will be ignored\n"
     ]
    },
    {
     "name": "stdout",
     "output_type": "stream",
     "text": [
      "113\n"
     ]
    },
    {
     "name": "stderr",
     "output_type": "stream",
     "text": [
      "sys:1: UserWarning: No data for colormapping provided via 'c'. Parameters 'vmin', 'vmax' will be ignored\n"
     ]
    },
    {
     "name": "stdout",
     "output_type": "stream",
     "text": [
      "114\n"
     ]
    },
    {
     "name": "stderr",
     "output_type": "stream",
     "text": [
      "sys:1: UserWarning: No data for colormapping provided via 'c'. Parameters 'vmin', 'vmax' will be ignored\n"
     ]
    },
    {
     "name": "stdout",
     "output_type": "stream",
     "text": [
      "115\n"
     ]
    },
    {
     "name": "stderr",
     "output_type": "stream",
     "text": [
      "sys:1: UserWarning: No data for colormapping provided via 'c'. Parameters 'vmin', 'vmax' will be ignored\n"
     ]
    },
    {
     "name": "stdout",
     "output_type": "stream",
     "text": [
      "116\n"
     ]
    },
    {
     "name": "stderr",
     "output_type": "stream",
     "text": [
      "sys:1: UserWarning: No data for colormapping provided via 'c'. Parameters 'vmin', 'vmax' will be ignored\n"
     ]
    },
    {
     "name": "stdout",
     "output_type": "stream",
     "text": [
      "117\n"
     ]
    },
    {
     "name": "stderr",
     "output_type": "stream",
     "text": [
      "sys:1: UserWarning: No data for colormapping provided via 'c'. Parameters 'vmin', 'vmax' will be ignored\n"
     ]
    },
    {
     "name": "stdout",
     "output_type": "stream",
     "text": [
      "118\n"
     ]
    },
    {
     "name": "stderr",
     "output_type": "stream",
     "text": [
      "sys:1: UserWarning: No data for colormapping provided via 'c'. Parameters 'vmin', 'vmax' will be ignored\n"
     ]
    },
    {
     "name": "stdout",
     "output_type": "stream",
     "text": [
      "119\n"
     ]
    },
    {
     "name": "stderr",
     "output_type": "stream",
     "text": [
      "sys:1: UserWarning: No data for colormapping provided via 'c'. Parameters 'vmin', 'vmax' will be ignored\n"
     ]
    },
    {
     "name": "stdout",
     "output_type": "stream",
     "text": [
      "120\n"
     ]
    },
    {
     "name": "stderr",
     "output_type": "stream",
     "text": [
      "sys:1: UserWarning: No data for colormapping provided via 'c'. Parameters 'vmin', 'vmax' will be ignored\n"
     ]
    },
    {
     "name": "stdout",
     "output_type": "stream",
     "text": [
      "121\n"
     ]
    },
    {
     "name": "stderr",
     "output_type": "stream",
     "text": [
      "sys:1: UserWarning: No data for colormapping provided via 'c'. Parameters 'vmin', 'vmax' will be ignored\n"
     ]
    },
    {
     "name": "stdout",
     "output_type": "stream",
     "text": [
      "122\n"
     ]
    },
    {
     "name": "stderr",
     "output_type": "stream",
     "text": [
      "sys:1: UserWarning: No data for colormapping provided via 'c'. Parameters 'vmin', 'vmax' will be ignored\n"
     ]
    },
    {
     "name": "stdout",
     "output_type": "stream",
     "text": [
      "123\n"
     ]
    },
    {
     "name": "stderr",
     "output_type": "stream",
     "text": [
      "sys:1: UserWarning: No data for colormapping provided via 'c'. Parameters 'vmin', 'vmax' will be ignored\n"
     ]
    },
    {
     "name": "stdout",
     "output_type": "stream",
     "text": [
      "124\n"
     ]
    },
    {
     "name": "stderr",
     "output_type": "stream",
     "text": [
      "sys:1: UserWarning: No data for colormapping provided via 'c'. Parameters 'vmin', 'vmax' will be ignored\n"
     ]
    },
    {
     "name": "stdout",
     "output_type": "stream",
     "text": [
      "125\n"
     ]
    },
    {
     "name": "stderr",
     "output_type": "stream",
     "text": [
      "sys:1: UserWarning: No data for colormapping provided via 'c'. Parameters 'vmin', 'vmax' will be ignored\n"
     ]
    },
    {
     "name": "stdout",
     "output_type": "stream",
     "text": [
      "126\n"
     ]
    },
    {
     "name": "stderr",
     "output_type": "stream",
     "text": [
      "sys:1: UserWarning: No data for colormapping provided via 'c'. Parameters 'vmin', 'vmax' will be ignored\n"
     ]
    },
    {
     "name": "stdout",
     "output_type": "stream",
     "text": [
      "127\n"
     ]
    },
    {
     "name": "stderr",
     "output_type": "stream",
     "text": [
      "sys:1: UserWarning: No data for colormapping provided via 'c'. Parameters 'vmin', 'vmax' will be ignored\n"
     ]
    },
    {
     "name": "stdout",
     "output_type": "stream",
     "text": [
      "128\n"
     ]
    },
    {
     "name": "stderr",
     "output_type": "stream",
     "text": [
      "sys:1: UserWarning: No data for colormapping provided via 'c'. Parameters 'vmin', 'vmax' will be ignored\n"
     ]
    },
    {
     "name": "stdout",
     "output_type": "stream",
     "text": [
      "129\n"
     ]
    },
    {
     "name": "stderr",
     "output_type": "stream",
     "text": [
      "sys:1: UserWarning: No data for colormapping provided via 'c'. Parameters 'vmin', 'vmax' will be ignored\n"
     ]
    },
    {
     "name": "stdout",
     "output_type": "stream",
     "text": [
      "130\n"
     ]
    },
    {
     "name": "stderr",
     "output_type": "stream",
     "text": [
      "sys:1: UserWarning: No data for colormapping provided via 'c'. Parameters 'vmin', 'vmax' will be ignored\n"
     ]
    },
    {
     "name": "stdout",
     "output_type": "stream",
     "text": [
      "131\n"
     ]
    },
    {
     "name": "stderr",
     "output_type": "stream",
     "text": [
      "sys:1: UserWarning: No data for colormapping provided via 'c'. Parameters 'vmin', 'vmax' will be ignored\n"
     ]
    },
    {
     "name": "stdout",
     "output_type": "stream",
     "text": [
      "132\n"
     ]
    },
    {
     "name": "stderr",
     "output_type": "stream",
     "text": [
      "sys:1: UserWarning: No data for colormapping provided via 'c'. Parameters 'vmin', 'vmax' will be ignored\n"
     ]
    },
    {
     "name": "stdout",
     "output_type": "stream",
     "text": [
      "133\n"
     ]
    },
    {
     "name": "stderr",
     "output_type": "stream",
     "text": [
      "sys:1: UserWarning: No data for colormapping provided via 'c'. Parameters 'vmin', 'vmax' will be ignored\n"
     ]
    },
    {
     "name": "stdout",
     "output_type": "stream",
     "text": [
      "134\n"
     ]
    },
    {
     "name": "stderr",
     "output_type": "stream",
     "text": [
      "sys:1: UserWarning: No data for colormapping provided via 'c'. Parameters 'vmin', 'vmax' will be ignored\n"
     ]
    },
    {
     "name": "stdout",
     "output_type": "stream",
     "text": [
      "135\n"
     ]
    },
    {
     "name": "stderr",
     "output_type": "stream",
     "text": [
      "sys:1: UserWarning: No data for colormapping provided via 'c'. Parameters 'vmin', 'vmax' will be ignored\n"
     ]
    },
    {
     "name": "stdout",
     "output_type": "stream",
     "text": [
      "136\n"
     ]
    },
    {
     "name": "stderr",
     "output_type": "stream",
     "text": [
      "sys:1: UserWarning: No data for colormapping provided via 'c'. Parameters 'vmin', 'vmax' will be ignored\n"
     ]
    },
    {
     "name": "stdout",
     "output_type": "stream",
     "text": [
      "137\n"
     ]
    },
    {
     "name": "stderr",
     "output_type": "stream",
     "text": [
      "sys:1: UserWarning: No data for colormapping provided via 'c'. Parameters 'vmin', 'vmax' will be ignored\n"
     ]
    },
    {
     "name": "stdout",
     "output_type": "stream",
     "text": [
      "138\n"
     ]
    },
    {
     "name": "stderr",
     "output_type": "stream",
     "text": [
      "sys:1: UserWarning: No data for colormapping provided via 'c'. Parameters 'vmin', 'vmax' will be ignored\n"
     ]
    },
    {
     "name": "stdout",
     "output_type": "stream",
     "text": [
      "139\n"
     ]
    },
    {
     "name": "stderr",
     "output_type": "stream",
     "text": [
      "sys:1: UserWarning: No data for colormapping provided via 'c'. Parameters 'vmin', 'vmax' will be ignored\n"
     ]
    },
    {
     "name": "stdout",
     "output_type": "stream",
     "text": [
      "140\n"
     ]
    },
    {
     "name": "stderr",
     "output_type": "stream",
     "text": [
      "sys:1: UserWarning: No data for colormapping provided via 'c'. Parameters 'vmin', 'vmax' will be ignored\n"
     ]
    },
    {
     "name": "stdout",
     "output_type": "stream",
     "text": [
      "141\n"
     ]
    },
    {
     "name": "stderr",
     "output_type": "stream",
     "text": [
      "sys:1: UserWarning: No data for colormapping provided via 'c'. Parameters 'vmin', 'vmax' will be ignored\n"
     ]
    },
    {
     "name": "stdout",
     "output_type": "stream",
     "text": [
      "142\n"
     ]
    },
    {
     "name": "stderr",
     "output_type": "stream",
     "text": [
      "sys:1: UserWarning: No data for colormapping provided via 'c'. Parameters 'vmin', 'vmax' will be ignored\n"
     ]
    },
    {
     "name": "stdout",
     "output_type": "stream",
     "text": [
      "143\n"
     ]
    },
    {
     "name": "stderr",
     "output_type": "stream",
     "text": [
      "sys:1: UserWarning: No data for colormapping provided via 'c'. Parameters 'vmin', 'vmax' will be ignored\n"
     ]
    },
    {
     "name": "stdout",
     "output_type": "stream",
     "text": [
      "144\n"
     ]
    },
    {
     "name": "stderr",
     "output_type": "stream",
     "text": [
      "sys:1: UserWarning: No data for colormapping provided via 'c'. Parameters 'vmin', 'vmax' will be ignored\n"
     ]
    },
    {
     "name": "stdout",
     "output_type": "stream",
     "text": [
      "145\n"
     ]
    },
    {
     "name": "stderr",
     "output_type": "stream",
     "text": [
      "sys:1: UserWarning: No data for colormapping provided via 'c'. Parameters 'vmin', 'vmax' will be ignored\n"
     ]
    },
    {
     "name": "stdout",
     "output_type": "stream",
     "text": [
      "146\n"
     ]
    },
    {
     "name": "stderr",
     "output_type": "stream",
     "text": [
      "sys:1: UserWarning: No data for colormapping provided via 'c'. Parameters 'vmin', 'vmax' will be ignored\n"
     ]
    },
    {
     "name": "stdout",
     "output_type": "stream",
     "text": [
      "147\n"
     ]
    },
    {
     "name": "stderr",
     "output_type": "stream",
     "text": [
      "sys:1: UserWarning: No data for colormapping provided via 'c'. Parameters 'vmin', 'vmax' will be ignored\n"
     ]
    },
    {
     "name": "stdout",
     "output_type": "stream",
     "text": [
      "148\n"
     ]
    },
    {
     "name": "stderr",
     "output_type": "stream",
     "text": [
      "sys:1: UserWarning: No data for colormapping provided via 'c'. Parameters 'vmin', 'vmax' will be ignored\n"
     ]
    },
    {
     "name": "stdout",
     "output_type": "stream",
     "text": [
      "149\n"
     ]
    },
    {
     "name": "stderr",
     "output_type": "stream",
     "text": [
      "sys:1: UserWarning: No data for colormapping provided via 'c'. Parameters 'vmin', 'vmax' will be ignored\n"
     ]
    },
    {
     "name": "stdout",
     "output_type": "stream",
     "text": [
      "150\n"
     ]
    },
    {
     "name": "stderr",
     "output_type": "stream",
     "text": [
      "sys:1: UserWarning: No data for colormapping provided via 'c'. Parameters 'vmin', 'vmax' will be ignored\n"
     ]
    },
    {
     "name": "stdout",
     "output_type": "stream",
     "text": [
      "151\n"
     ]
    },
    {
     "name": "stderr",
     "output_type": "stream",
     "text": [
      "sys:1: UserWarning: No data for colormapping provided via 'c'. Parameters 'vmin', 'vmax' will be ignored\n"
     ]
    },
    {
     "name": "stdout",
     "output_type": "stream",
     "text": [
      "152\n"
     ]
    },
    {
     "name": "stderr",
     "output_type": "stream",
     "text": [
      "sys:1: UserWarning: No data for colormapping provided via 'c'. Parameters 'vmin', 'vmax' will be ignored\n"
     ]
    },
    {
     "name": "stdout",
     "output_type": "stream",
     "text": [
      "153\n"
     ]
    },
    {
     "name": "stderr",
     "output_type": "stream",
     "text": [
      "sys:1: UserWarning: No data for colormapping provided via 'c'. Parameters 'vmin', 'vmax' will be ignored\n"
     ]
    },
    {
     "name": "stdout",
     "output_type": "stream",
     "text": [
      "154\n"
     ]
    },
    {
     "name": "stderr",
     "output_type": "stream",
     "text": [
      "sys:1: UserWarning: No data for colormapping provided via 'c'. Parameters 'vmin', 'vmax' will be ignored\n"
     ]
    },
    {
     "name": "stdout",
     "output_type": "stream",
     "text": [
      "155\n"
     ]
    },
    {
     "name": "stderr",
     "output_type": "stream",
     "text": [
      "sys:1: UserWarning: No data for colormapping provided via 'c'. Parameters 'vmin', 'vmax' will be ignored\n"
     ]
    },
    {
     "name": "stdout",
     "output_type": "stream",
     "text": [
      "156\n"
     ]
    },
    {
     "name": "stderr",
     "output_type": "stream",
     "text": [
      "sys:1: UserWarning: No data for colormapping provided via 'c'. Parameters 'vmin', 'vmax' will be ignored\n"
     ]
    },
    {
     "name": "stdout",
     "output_type": "stream",
     "text": [
      "157\n"
     ]
    },
    {
     "name": "stderr",
     "output_type": "stream",
     "text": [
      "sys:1: UserWarning: No data for colormapping provided via 'c'. Parameters 'vmin', 'vmax' will be ignored\n"
     ]
    },
    {
     "name": "stdout",
     "output_type": "stream",
     "text": [
      "158\n"
     ]
    },
    {
     "name": "stderr",
     "output_type": "stream",
     "text": [
      "sys:1: UserWarning: No data for colormapping provided via 'c'. Parameters 'vmin', 'vmax' will be ignored\n"
     ]
    },
    {
     "name": "stdout",
     "output_type": "stream",
     "text": [
      "159\n"
     ]
    },
    {
     "name": "stderr",
     "output_type": "stream",
     "text": [
      "sys:1: UserWarning: No data for colormapping provided via 'c'. Parameters 'vmin', 'vmax' will be ignored\n"
     ]
    },
    {
     "name": "stdout",
     "output_type": "stream",
     "text": [
      "160\n"
     ]
    },
    {
     "name": "stderr",
     "output_type": "stream",
     "text": [
      "sys:1: UserWarning: No data for colormapping provided via 'c'. Parameters 'vmin', 'vmax' will be ignored\n"
     ]
    },
    {
     "name": "stdout",
     "output_type": "stream",
     "text": [
      "161\n"
     ]
    },
    {
     "name": "stderr",
     "output_type": "stream",
     "text": [
      "sys:1: UserWarning: No data for colormapping provided via 'c'. Parameters 'vmin', 'vmax' will be ignored\n"
     ]
    },
    {
     "name": "stdout",
     "output_type": "stream",
     "text": [
      "162\n"
     ]
    },
    {
     "name": "stderr",
     "output_type": "stream",
     "text": [
      "sys:1: UserWarning: No data for colormapping provided via 'c'. Parameters 'vmin', 'vmax' will be ignored\n"
     ]
    },
    {
     "name": "stdout",
     "output_type": "stream",
     "text": [
      "163\n"
     ]
    },
    {
     "name": "stderr",
     "output_type": "stream",
     "text": [
      "sys:1: UserWarning: No data for colormapping provided via 'c'. Parameters 'vmin', 'vmax' will be ignored\n"
     ]
    },
    {
     "name": "stdout",
     "output_type": "stream",
     "text": [
      "164\n"
     ]
    },
    {
     "name": "stderr",
     "output_type": "stream",
     "text": [
      "sys:1: UserWarning: No data for colormapping provided via 'c'. Parameters 'vmin', 'vmax' will be ignored\n"
     ]
    },
    {
     "name": "stdout",
     "output_type": "stream",
     "text": [
      "165\n"
     ]
    },
    {
     "name": "stderr",
     "output_type": "stream",
     "text": [
      "sys:1: UserWarning: No data for colormapping provided via 'c'. Parameters 'vmin', 'vmax' will be ignored\n"
     ]
    },
    {
     "name": "stdout",
     "output_type": "stream",
     "text": [
      "166\n"
     ]
    },
    {
     "name": "stderr",
     "output_type": "stream",
     "text": [
      "sys:1: UserWarning: No data for colormapping provided via 'c'. Parameters 'vmin', 'vmax' will be ignored\n"
     ]
    },
    {
     "name": "stdout",
     "output_type": "stream",
     "text": [
      "167\n"
     ]
    },
    {
     "name": "stderr",
     "output_type": "stream",
     "text": [
      "sys:1: UserWarning: No data for colormapping provided via 'c'. Parameters 'vmin', 'vmax' will be ignored\n"
     ]
    },
    {
     "name": "stdout",
     "output_type": "stream",
     "text": [
      "168\n"
     ]
    },
    {
     "name": "stderr",
     "output_type": "stream",
     "text": [
      "sys:1: UserWarning: No data for colormapping provided via 'c'. Parameters 'vmin', 'vmax' will be ignored\n"
     ]
    },
    {
     "name": "stdout",
     "output_type": "stream",
     "text": [
      "169\n"
     ]
    },
    {
     "name": "stderr",
     "output_type": "stream",
     "text": [
      "sys:1: UserWarning: No data for colormapping provided via 'c'. Parameters 'vmin', 'vmax' will be ignored\n"
     ]
    },
    {
     "name": "stdout",
     "output_type": "stream",
     "text": [
      "170\n"
     ]
    },
    {
     "name": "stderr",
     "output_type": "stream",
     "text": [
      "sys:1: UserWarning: No data for colormapping provided via 'c'. Parameters 'vmin', 'vmax' will be ignored\n"
     ]
    },
    {
     "name": "stdout",
     "output_type": "stream",
     "text": [
      "171\n"
     ]
    },
    {
     "name": "stderr",
     "output_type": "stream",
     "text": [
      "sys:1: UserWarning: No data for colormapping provided via 'c'. Parameters 'vmin', 'vmax' will be ignored\n"
     ]
    },
    {
     "name": "stdout",
     "output_type": "stream",
     "text": [
      "172\n"
     ]
    },
    {
     "name": "stderr",
     "output_type": "stream",
     "text": [
      "sys:1: UserWarning: No data for colormapping provided via 'c'. Parameters 'vmin', 'vmax' will be ignored\n"
     ]
    },
    {
     "name": "stdout",
     "output_type": "stream",
     "text": [
      "173\n"
     ]
    },
    {
     "name": "stderr",
     "output_type": "stream",
     "text": [
      "sys:1: UserWarning: No data for colormapping provided via 'c'. Parameters 'vmin', 'vmax' will be ignored\n"
     ]
    },
    {
     "name": "stdout",
     "output_type": "stream",
     "text": [
      "174\n"
     ]
    },
    {
     "name": "stderr",
     "output_type": "stream",
     "text": [
      "sys:1: UserWarning: No data for colormapping provided via 'c'. Parameters 'vmin', 'vmax' will be ignored\n"
     ]
    },
    {
     "name": "stdout",
     "output_type": "stream",
     "text": [
      "175\n"
     ]
    },
    {
     "name": "stderr",
     "output_type": "stream",
     "text": [
      "sys:1: UserWarning: No data for colormapping provided via 'c'. Parameters 'vmin', 'vmax' will be ignored\n"
     ]
    },
    {
     "name": "stdout",
     "output_type": "stream",
     "text": [
      "176\n"
     ]
    },
    {
     "name": "stderr",
     "output_type": "stream",
     "text": [
      "sys:1: UserWarning: No data for colormapping provided via 'c'. Parameters 'vmin', 'vmax' will be ignored\n"
     ]
    },
    {
     "name": "stdout",
     "output_type": "stream",
     "text": [
      "177\n"
     ]
    },
    {
     "name": "stderr",
     "output_type": "stream",
     "text": [
      "sys:1: UserWarning: No data for colormapping provided via 'c'. Parameters 'vmin', 'vmax' will be ignored\n"
     ]
    },
    {
     "name": "stdout",
     "output_type": "stream",
     "text": [
      "178\n"
     ]
    },
    {
     "name": "stderr",
     "output_type": "stream",
     "text": [
      "sys:1: UserWarning: No data for colormapping provided via 'c'. Parameters 'vmin', 'vmax' will be ignored\n"
     ]
    },
    {
     "name": "stdout",
     "output_type": "stream",
     "text": [
      "179\n"
     ]
    },
    {
     "name": "stderr",
     "output_type": "stream",
     "text": [
      "sys:1: UserWarning: No data for colormapping provided via 'c'. Parameters 'vmin', 'vmax' will be ignored\n"
     ]
    },
    {
     "name": "stdout",
     "output_type": "stream",
     "text": [
      "180\n"
     ]
    },
    {
     "name": "stderr",
     "output_type": "stream",
     "text": [
      "sys:1: UserWarning: No data for colormapping provided via 'c'. Parameters 'vmin', 'vmax' will be ignored\n"
     ]
    },
    {
     "name": "stdout",
     "output_type": "stream",
     "text": [
      "181\n"
     ]
    },
    {
     "name": "stderr",
     "output_type": "stream",
     "text": [
      "sys:1: UserWarning: No data for colormapping provided via 'c'. Parameters 'vmin', 'vmax' will be ignored\n"
     ]
    },
    {
     "name": "stdout",
     "output_type": "stream",
     "text": [
      "182\n"
     ]
    },
    {
     "name": "stderr",
     "output_type": "stream",
     "text": [
      "sys:1: UserWarning: No data for colormapping provided via 'c'. Parameters 'vmin', 'vmax' will be ignored\n"
     ]
    },
    {
     "name": "stdout",
     "output_type": "stream",
     "text": [
      "183\n"
     ]
    },
    {
     "name": "stderr",
     "output_type": "stream",
     "text": [
      "sys:1: UserWarning: No data for colormapping provided via 'c'. Parameters 'vmin', 'vmax' will be ignored\n"
     ]
    },
    {
     "name": "stdout",
     "output_type": "stream",
     "text": [
      "184\n"
     ]
    },
    {
     "name": "stderr",
     "output_type": "stream",
     "text": [
      "sys:1: UserWarning: No data for colormapping provided via 'c'. Parameters 'vmin', 'vmax' will be ignored\n"
     ]
    },
    {
     "name": "stdout",
     "output_type": "stream",
     "text": [
      "185\n"
     ]
    },
    {
     "name": "stderr",
     "output_type": "stream",
     "text": [
      "sys:1: UserWarning: No data for colormapping provided via 'c'. Parameters 'vmin', 'vmax' will be ignored\n"
     ]
    },
    {
     "name": "stdout",
     "output_type": "stream",
     "text": [
      "186\n"
     ]
    },
    {
     "name": "stderr",
     "output_type": "stream",
     "text": [
      "sys:1: UserWarning: No data for colormapping provided via 'c'. Parameters 'vmin', 'vmax' will be ignored\n"
     ]
    },
    {
     "name": "stdout",
     "output_type": "stream",
     "text": [
      "187\n"
     ]
    },
    {
     "name": "stderr",
     "output_type": "stream",
     "text": [
      "sys:1: UserWarning: No data for colormapping provided via 'c'. Parameters 'vmin', 'vmax' will be ignored\n"
     ]
    },
    {
     "name": "stdout",
     "output_type": "stream",
     "text": [
      "188\n"
     ]
    },
    {
     "name": "stderr",
     "output_type": "stream",
     "text": [
      "sys:1: UserWarning: No data for colormapping provided via 'c'. Parameters 'vmin', 'vmax' will be ignored\n"
     ]
    },
    {
     "name": "stdout",
     "output_type": "stream",
     "text": [
      "189\n"
     ]
    },
    {
     "name": "stderr",
     "output_type": "stream",
     "text": [
      "sys:1: UserWarning: No data for colormapping provided via 'c'. Parameters 'vmin', 'vmax' will be ignored\n"
     ]
    },
    {
     "name": "stdout",
     "output_type": "stream",
     "text": [
      "190\n"
     ]
    },
    {
     "name": "stderr",
     "output_type": "stream",
     "text": [
      "sys:1: UserWarning: No data for colormapping provided via 'c'. Parameters 'vmin', 'vmax' will be ignored\n"
     ]
    },
    {
     "name": "stdout",
     "output_type": "stream",
     "text": [
      "191\n"
     ]
    },
    {
     "name": "stderr",
     "output_type": "stream",
     "text": [
      "sys:1: UserWarning: No data for colormapping provided via 'c'. Parameters 'vmin', 'vmax' will be ignored\n"
     ]
    },
    {
     "name": "stdout",
     "output_type": "stream",
     "text": [
      "192\n"
     ]
    },
    {
     "name": "stderr",
     "output_type": "stream",
     "text": [
      "sys:1: UserWarning: No data for colormapping provided via 'c'. Parameters 'vmin', 'vmax' will be ignored\n"
     ]
    },
    {
     "name": "stdout",
     "output_type": "stream",
     "text": [
      "193\n"
     ]
    },
    {
     "name": "stderr",
     "output_type": "stream",
     "text": [
      "sys:1: UserWarning: No data for colormapping provided via 'c'. Parameters 'vmin', 'vmax' will be ignored\n"
     ]
    },
    {
     "name": "stdout",
     "output_type": "stream",
     "text": [
      "194\n"
     ]
    },
    {
     "name": "stderr",
     "output_type": "stream",
     "text": [
      "sys:1: UserWarning: No data for colormapping provided via 'c'. Parameters 'vmin', 'vmax' will be ignored\n"
     ]
    },
    {
     "name": "stdout",
     "output_type": "stream",
     "text": [
      "195\n"
     ]
    },
    {
     "name": "stderr",
     "output_type": "stream",
     "text": [
      "sys:1: UserWarning: No data for colormapping provided via 'c'. Parameters 'vmin', 'vmax' will be ignored\n"
     ]
    },
    {
     "name": "stdout",
     "output_type": "stream",
     "text": [
      "196\n"
     ]
    },
    {
     "name": "stderr",
     "output_type": "stream",
     "text": [
      "sys:1: UserWarning: No data for colormapping provided via 'c'. Parameters 'vmin', 'vmax' will be ignored\n"
     ]
    },
    {
     "name": "stdout",
     "output_type": "stream",
     "text": [
      "197\n"
     ]
    },
    {
     "name": "stderr",
     "output_type": "stream",
     "text": [
      "sys:1: UserWarning: No data for colormapping provided via 'c'. Parameters 'vmin', 'vmax' will be ignored\n"
     ]
    },
    {
     "name": "stdout",
     "output_type": "stream",
     "text": [
      "198\n"
     ]
    },
    {
     "name": "stderr",
     "output_type": "stream",
     "text": [
      "sys:1: UserWarning: No data for colormapping provided via 'c'. Parameters 'vmin', 'vmax' will be ignored\n"
     ]
    },
    {
     "name": "stdout",
     "output_type": "stream",
     "text": [
      "199\n"
     ]
    },
    {
     "name": "stderr",
     "output_type": "stream",
     "text": [
      "sys:1: UserWarning: No data for colormapping provided via 'c'. Parameters 'vmin', 'vmax' will be ignored\n"
     ]
    },
    {
     "name": "stdout",
     "output_type": "stream",
     "text": [
      "200\n"
     ]
    },
    {
     "name": "stderr",
     "output_type": "stream",
     "text": [
      "sys:1: UserWarning: No data for colormapping provided via 'c'. Parameters 'vmin', 'vmax' will be ignored\n"
     ]
    },
    {
     "name": "stdout",
     "output_type": "stream",
     "text": [
      "201\n"
     ]
    },
    {
     "name": "stderr",
     "output_type": "stream",
     "text": [
      "sys:1: UserWarning: No data for colormapping provided via 'c'. Parameters 'vmin', 'vmax' will be ignored\n"
     ]
    },
    {
     "name": "stdout",
     "output_type": "stream",
     "text": [
      "202\n"
     ]
    },
    {
     "name": "stderr",
     "output_type": "stream",
     "text": [
      "sys:1: UserWarning: No data for colormapping provided via 'c'. Parameters 'vmin', 'vmax' will be ignored\n"
     ]
    },
    {
     "name": "stdout",
     "output_type": "stream",
     "text": [
      "203\n"
     ]
    },
    {
     "name": "stderr",
     "output_type": "stream",
     "text": [
      "sys:1: UserWarning: No data for colormapping provided via 'c'. Parameters 'vmin', 'vmax' will be ignored\n"
     ]
    },
    {
     "name": "stdout",
     "output_type": "stream",
     "text": [
      "204\n"
     ]
    },
    {
     "name": "stderr",
     "output_type": "stream",
     "text": [
      "sys:1: UserWarning: No data for colormapping provided via 'c'. Parameters 'vmin', 'vmax' will be ignored\n"
     ]
    },
    {
     "name": "stdout",
     "output_type": "stream",
     "text": [
      "205\n"
     ]
    },
    {
     "name": "stderr",
     "output_type": "stream",
     "text": [
      "sys:1: UserWarning: No data for colormapping provided via 'c'. Parameters 'vmin', 'vmax' will be ignored\n"
     ]
    },
    {
     "name": "stdout",
     "output_type": "stream",
     "text": [
      "206\n"
     ]
    },
    {
     "name": "stderr",
     "output_type": "stream",
     "text": [
      "sys:1: UserWarning: No data for colormapping provided via 'c'. Parameters 'vmin', 'vmax' will be ignored\n"
     ]
    },
    {
     "name": "stdout",
     "output_type": "stream",
     "text": [
      "207\n"
     ]
    },
    {
     "name": "stderr",
     "output_type": "stream",
     "text": [
      "sys:1: UserWarning: No data for colormapping provided via 'c'. Parameters 'vmin', 'vmax' will be ignored\n"
     ]
    },
    {
     "name": "stdout",
     "output_type": "stream",
     "text": [
      "208\n"
     ]
    },
    {
     "name": "stderr",
     "output_type": "stream",
     "text": [
      "sys:1: UserWarning: No data for colormapping provided via 'c'. Parameters 'vmin', 'vmax' will be ignored\n"
     ]
    },
    {
     "name": "stdout",
     "output_type": "stream",
     "text": [
      "209\n"
     ]
    },
    {
     "name": "stderr",
     "output_type": "stream",
     "text": [
      "sys:1: UserWarning: No data for colormapping provided via 'c'. Parameters 'vmin', 'vmax' will be ignored\n"
     ]
    },
    {
     "name": "stdout",
     "output_type": "stream",
     "text": [
      "210\n"
     ]
    },
    {
     "name": "stderr",
     "output_type": "stream",
     "text": [
      "sys:1: UserWarning: No data for colormapping provided via 'c'. Parameters 'vmin', 'vmax' will be ignored\n"
     ]
    },
    {
     "name": "stdout",
     "output_type": "stream",
     "text": [
      "211\n"
     ]
    },
    {
     "name": "stderr",
     "output_type": "stream",
     "text": [
      "sys:1: UserWarning: No data for colormapping provided via 'c'. Parameters 'vmin', 'vmax' will be ignored\n"
     ]
    },
    {
     "name": "stdout",
     "output_type": "stream",
     "text": [
      "212\n"
     ]
    },
    {
     "name": "stderr",
     "output_type": "stream",
     "text": [
      "sys:1: UserWarning: No data for colormapping provided via 'c'. Parameters 'vmin', 'vmax' will be ignored\n"
     ]
    },
    {
     "name": "stdout",
     "output_type": "stream",
     "text": [
      "213\n"
     ]
    },
    {
     "name": "stderr",
     "output_type": "stream",
     "text": [
      "sys:1: UserWarning: No data for colormapping provided via 'c'. Parameters 'vmin', 'vmax' will be ignored\n"
     ]
    },
    {
     "name": "stdout",
     "output_type": "stream",
     "text": [
      "214\n"
     ]
    },
    {
     "name": "stderr",
     "output_type": "stream",
     "text": [
      "sys:1: UserWarning: No data for colormapping provided via 'c'. Parameters 'vmin', 'vmax' will be ignored\n"
     ]
    },
    {
     "name": "stdout",
     "output_type": "stream",
     "text": [
      "215\n"
     ]
    },
    {
     "name": "stderr",
     "output_type": "stream",
     "text": [
      "sys:1: UserWarning: No data for colormapping provided via 'c'. Parameters 'vmin', 'vmax' will be ignored\n"
     ]
    },
    {
     "name": "stdout",
     "output_type": "stream",
     "text": [
      "216\n"
     ]
    },
    {
     "name": "stderr",
     "output_type": "stream",
     "text": [
      "sys:1: UserWarning: No data for colormapping provided via 'c'. Parameters 'vmin', 'vmax' will be ignored\n"
     ]
    },
    {
     "name": "stdout",
     "output_type": "stream",
     "text": [
      "217\n"
     ]
    },
    {
     "name": "stderr",
     "output_type": "stream",
     "text": [
      "sys:1: UserWarning: No data for colormapping provided via 'c'. Parameters 'vmin', 'vmax' will be ignored\n"
     ]
    },
    {
     "name": "stdout",
     "output_type": "stream",
     "text": [
      "218\n"
     ]
    },
    {
     "name": "stderr",
     "output_type": "stream",
     "text": [
      "sys:1: UserWarning: No data for colormapping provided via 'c'. Parameters 'vmin', 'vmax' will be ignored\n"
     ]
    },
    {
     "name": "stdout",
     "output_type": "stream",
     "text": [
      "219\n"
     ]
    },
    {
     "name": "stderr",
     "output_type": "stream",
     "text": [
      "sys:1: UserWarning: No data for colormapping provided via 'c'. Parameters 'vmin', 'vmax' will be ignored\n"
     ]
    },
    {
     "name": "stdout",
     "output_type": "stream",
     "text": [
      "220\n"
     ]
    },
    {
     "name": "stderr",
     "output_type": "stream",
     "text": [
      "sys:1: UserWarning: No data for colormapping provided via 'c'. Parameters 'vmin', 'vmax' will be ignored\n"
     ]
    },
    {
     "name": "stdout",
     "output_type": "stream",
     "text": [
      "221\n"
     ]
    },
    {
     "name": "stderr",
     "output_type": "stream",
     "text": [
      "sys:1: UserWarning: No data for colormapping provided via 'c'. Parameters 'vmin', 'vmax' will be ignored\n"
     ]
    },
    {
     "name": "stdout",
     "output_type": "stream",
     "text": [
      "222\n"
     ]
    },
    {
     "name": "stderr",
     "output_type": "stream",
     "text": [
      "sys:1: UserWarning: No data for colormapping provided via 'c'. Parameters 'vmin', 'vmax' will be ignored\n"
     ]
    },
    {
     "name": "stdout",
     "output_type": "stream",
     "text": [
      "223\n"
     ]
    },
    {
     "name": "stderr",
     "output_type": "stream",
     "text": [
      "sys:1: UserWarning: No data for colormapping provided via 'c'. Parameters 'vmin', 'vmax' will be ignored\n"
     ]
    },
    {
     "name": "stdout",
     "output_type": "stream",
     "text": [
      "224\n"
     ]
    },
    {
     "name": "stderr",
     "output_type": "stream",
     "text": [
      "sys:1: UserWarning: No data for colormapping provided via 'c'. Parameters 'vmin', 'vmax' will be ignored\n"
     ]
    },
    {
     "name": "stdout",
     "output_type": "stream",
     "text": [
      "225\n"
     ]
    },
    {
     "name": "stderr",
     "output_type": "stream",
     "text": [
      "sys:1: UserWarning: No data for colormapping provided via 'c'. Parameters 'vmin', 'vmax' will be ignored\n"
     ]
    },
    {
     "name": "stdout",
     "output_type": "stream",
     "text": [
      "226\n"
     ]
    },
    {
     "name": "stderr",
     "output_type": "stream",
     "text": [
      "sys:1: UserWarning: No data for colormapping provided via 'c'. Parameters 'vmin', 'vmax' will be ignored\n"
     ]
    },
    {
     "name": "stdout",
     "output_type": "stream",
     "text": [
      "227\n"
     ]
    },
    {
     "name": "stderr",
     "output_type": "stream",
     "text": [
      "sys:1: UserWarning: No data for colormapping provided via 'c'. Parameters 'vmin', 'vmax' will be ignored\n"
     ]
    },
    {
     "name": "stdout",
     "output_type": "stream",
     "text": [
      "228\n"
     ]
    },
    {
     "name": "stderr",
     "output_type": "stream",
     "text": [
      "sys:1: UserWarning: No data for colormapping provided via 'c'. Parameters 'vmin', 'vmax' will be ignored\n"
     ]
    },
    {
     "name": "stdout",
     "output_type": "stream",
     "text": [
      "229\n"
     ]
    },
    {
     "name": "stderr",
     "output_type": "stream",
     "text": [
      "sys:1: UserWarning: No data for colormapping provided via 'c'. Parameters 'vmin', 'vmax' will be ignored\n"
     ]
    },
    {
     "name": "stdout",
     "output_type": "stream",
     "text": [
      "230\n"
     ]
    },
    {
     "name": "stderr",
     "output_type": "stream",
     "text": [
      "sys:1: UserWarning: No data for colormapping provided via 'c'. Parameters 'vmin', 'vmax' will be ignored\n"
     ]
    },
    {
     "name": "stdout",
     "output_type": "stream",
     "text": [
      "231\n"
     ]
    },
    {
     "name": "stderr",
     "output_type": "stream",
     "text": [
      "sys:1: UserWarning: No data for colormapping provided via 'c'. Parameters 'vmin', 'vmax' will be ignored\n"
     ]
    },
    {
     "name": "stdout",
     "output_type": "stream",
     "text": [
      "232\n"
     ]
    },
    {
     "name": "stderr",
     "output_type": "stream",
     "text": [
      "sys:1: UserWarning: No data for colormapping provided via 'c'. Parameters 'vmin', 'vmax' will be ignored\n"
     ]
    },
    {
     "name": "stdout",
     "output_type": "stream",
     "text": [
      "233\n"
     ]
    },
    {
     "name": "stderr",
     "output_type": "stream",
     "text": [
      "sys:1: UserWarning: No data for colormapping provided via 'c'. Parameters 'vmin', 'vmax' will be ignored\n"
     ]
    },
    {
     "name": "stdout",
     "output_type": "stream",
     "text": [
      "234\n"
     ]
    },
    {
     "name": "stderr",
     "output_type": "stream",
     "text": [
      "sys:1: UserWarning: No data for colormapping provided via 'c'. Parameters 'vmin', 'vmax' will be ignored\n"
     ]
    },
    {
     "name": "stdout",
     "output_type": "stream",
     "text": [
      "235\n"
     ]
    },
    {
     "name": "stderr",
     "output_type": "stream",
     "text": [
      "sys:1: UserWarning: No data for colormapping provided via 'c'. Parameters 'vmin', 'vmax' will be ignored\n"
     ]
    },
    {
     "name": "stdout",
     "output_type": "stream",
     "text": [
      "236\n"
     ]
    },
    {
     "name": "stderr",
     "output_type": "stream",
     "text": [
      "sys:1: UserWarning: No data for colormapping provided via 'c'. Parameters 'vmin', 'vmax' will be ignored\n"
     ]
    },
    {
     "name": "stdout",
     "output_type": "stream",
     "text": [
      "237\n"
     ]
    },
    {
     "name": "stderr",
     "output_type": "stream",
     "text": [
      "sys:1: UserWarning: No data for colormapping provided via 'c'. Parameters 'vmin', 'vmax' will be ignored\n"
     ]
    },
    {
     "name": "stdout",
     "output_type": "stream",
     "text": [
      "238\n"
     ]
    },
    {
     "name": "stderr",
     "output_type": "stream",
     "text": [
      "sys:1: UserWarning: No data for colormapping provided via 'c'. Parameters 'vmin', 'vmax' will be ignored\n"
     ]
    },
    {
     "name": "stdout",
     "output_type": "stream",
     "text": [
      "239\n"
     ]
    },
    {
     "name": "stderr",
     "output_type": "stream",
     "text": [
      "sys:1: UserWarning: No data for colormapping provided via 'c'. Parameters 'vmin', 'vmax' will be ignored\n"
     ]
    },
    {
     "name": "stdout",
     "output_type": "stream",
     "text": [
      "240\n"
     ]
    },
    {
     "name": "stderr",
     "output_type": "stream",
     "text": [
      "sys:1: UserWarning: No data for colormapping provided via 'c'. Parameters 'vmin', 'vmax' will be ignored\n"
     ]
    },
    {
     "name": "stdout",
     "output_type": "stream",
     "text": [
      "241\n"
     ]
    },
    {
     "name": "stderr",
     "output_type": "stream",
     "text": [
      "sys:1: UserWarning: No data for colormapping provided via 'c'. Parameters 'vmin', 'vmax' will be ignored\n"
     ]
    },
    {
     "name": "stdout",
     "output_type": "stream",
     "text": [
      "242\n"
     ]
    },
    {
     "name": "stderr",
     "output_type": "stream",
     "text": [
      "sys:1: UserWarning: No data for colormapping provided via 'c'. Parameters 'vmin', 'vmax' will be ignored\n"
     ]
    },
    {
     "name": "stdout",
     "output_type": "stream",
     "text": [
      "243\n"
     ]
    },
    {
     "name": "stderr",
     "output_type": "stream",
     "text": [
      "sys:1: UserWarning: No data for colormapping provided via 'c'. Parameters 'vmin', 'vmax' will be ignored\n"
     ]
    },
    {
     "name": "stdout",
     "output_type": "stream",
     "text": [
      "244\n"
     ]
    },
    {
     "name": "stderr",
     "output_type": "stream",
     "text": [
      "sys:1: UserWarning: No data for colormapping provided via 'c'. Parameters 'vmin', 'vmax' will be ignored\n"
     ]
    },
    {
     "name": "stdout",
     "output_type": "stream",
     "text": [
      "245\n"
     ]
    },
    {
     "name": "stderr",
     "output_type": "stream",
     "text": [
      "sys:1: UserWarning: No data for colormapping provided via 'c'. Parameters 'vmin', 'vmax' will be ignored\n"
     ]
    },
    {
     "name": "stdout",
     "output_type": "stream",
     "text": [
      "246\n"
     ]
    },
    {
     "name": "stderr",
     "output_type": "stream",
     "text": [
      "sys:1: UserWarning: No data for colormapping provided via 'c'. Parameters 'vmin', 'vmax' will be ignored\n"
     ]
    },
    {
     "name": "stdout",
     "output_type": "stream",
     "text": [
      "247\n"
     ]
    },
    {
     "name": "stderr",
     "output_type": "stream",
     "text": [
      "sys:1: UserWarning: No data for colormapping provided via 'c'. Parameters 'vmin', 'vmax' will be ignored\n"
     ]
    },
    {
     "name": "stdout",
     "output_type": "stream",
     "text": [
      "248\n"
     ]
    },
    {
     "name": "stderr",
     "output_type": "stream",
     "text": [
      "sys:1: UserWarning: No data for colormapping provided via 'c'. Parameters 'vmin', 'vmax' will be ignored\n"
     ]
    },
    {
     "name": "stdout",
     "output_type": "stream",
     "text": [
      "249\n"
     ]
    },
    {
     "name": "stderr",
     "output_type": "stream",
     "text": [
      "sys:1: UserWarning: No data for colormapping provided via 'c'. Parameters 'vmin', 'vmax' will be ignored\n"
     ]
    },
    {
     "name": "stdout",
     "output_type": "stream",
     "text": [
      "250\n"
     ]
    },
    {
     "name": "stderr",
     "output_type": "stream",
     "text": [
      "sys:1: UserWarning: No data for colormapping provided via 'c'. Parameters 'vmin', 'vmax' will be ignored\n",
      "sys:1: UserWarning: No data for colormapping provided via 'c'. Parameters 'vmin', 'vmax' will be ignored\n",
      "\u001b[36m\u001b[1m[ \u001b[22m\u001b[39m\u001b[36m\u001b[1mInfo: \u001b[22m\u001b[39mSaved animation to /home/mgadaloff/SAFT_ML/special_thingy_params/tmp.gif\n"
     ]
    },
    {
     "data": {
      "image/png": "[encoded data removed]",
      "text/plain": [
       "PyPlot.Figure(PyObject <Figure size 2400x2400 with 1 Axes>)"
      ]
     },
     "metadata": {},
     "output_type": "display_data"
    }
   ],
   "source": [
    "# Set pyplot backend for plots\n",
    "using Plots\n",
    "pyplot()\n",
    "\n",
    "tick_font_size = 16\n",
    "label_font_size = 18\n",
    "total_frames =  250 #nrow(overview_gif_data)\n",
    "\n",
    "marker_colour = \"#5dc90a\"\n",
    "marker_size = 8\n",
    "\n",
    "default(legend = false)\n",
    "\n",
    "@gif for i = 1:1:total_frames\n",
    "    \n",
    "    plot(v_range_pcp_plot ./ 10^3, T_range_pcp_plot, seriestype=:scatter,dpi=400, size=(600, 600),framestyle=:box, fontfamily=\"serif\",markercolor=\"#5dc90a\",markerstrokealpha=0,markersize=5, guidefontsize=label_font_size,titlefontsize=label_font_size, xtickfontsize=tick_font_size, ytickfontsize=tick_font_size,legendfontsize=12);\n",
    "\n",
    "    if i <= 150\n",
    "        plot!(overview_gif_data[i,1] ./ 10^3, xscale=:log10, overview_gif_data[i,2],linecolor=\"#08298a\",grid=false);\n",
    "        percent_training = \"$(round((i/200)*100, sigdigits=3))\"\n",
    "    elseif i <= 200\n",
    "        plot!(overview_gif_data[i*5,1] ./ 10^3, overview_gif_data[i*5,2], xscale=:log10, linecolor=\"#08298a\",grid=false);\n",
    "        percent_training = \"$(round((i/200)*100, sigdigits=3))\"\n",
    "    else\n",
    "        plot!(overview_gif_data[1000,1] ./ 10^3, overview_gif_data[1000,2], xscale=:log10, linecolor=\"#08298a\",grid=false);\n",
    "        percent_training = \"$(100)\"\n",
    "    end\n",
    "\n",
    "    ylabel!(\"Temperature / K\")\n",
    "    xlabel!(L\"Volume / (l mol$\\mathregular{^{-1}}$)\")\n",
    "    xlims!(10^-7,10^1)\n",
    "    ylims!(180,800)\n",
    "    # title!(test_species)\n",
    "    xticks!([10^-7, 10^-6, 10^-5, 10^-4,10^-3,10^-2, 10^-1, 10^-0, 10^1])\n",
    "\n",
    "        \n",
    "    annotate!(6.5, 650, percent_training, valign=:top,fontsize=16)\n",
    "\n",
    "    println(i)\n",
    "    # xlims!(10^-8,10^5)  # Adjust the values as needed\n",
    "    # ylims!(10^-3, 10^7)\n",
    "\n",
    "end fps=25;\n",
    "\n"
   ]
  }
 ],
 "metadata": {
  "kernelspec": {
   "display_name": "Julia 1.9.3",
   "language": "julia",
   "name": "julia-1.9"
  },
  "language_info": {
   "file_extension": ".jl",
   "mimetype": "application/julia",
   "name": "julia",
   "version": "1.9.3"
  }
 },
 "nbformat": 4,
 "nbformat_minor": 2
}
