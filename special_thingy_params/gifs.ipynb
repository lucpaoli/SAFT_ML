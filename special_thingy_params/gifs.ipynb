{
 "cells": [
  {
   "cell_type": "code",
   "execution_count": 1,
   "metadata": {},
   "outputs": [
    {
     "name": "stderr",
     "output_type": "stream",
     "text": [
      "\u001b[32m\u001b[1m  Activating\u001b[22m\u001b[39m project at `~/SAFT_ML`\n"
     ]
    }
   ],
   "source": [
    "import Pkg; Pkg.activate(\"..\")"
   ]
  },
  {
   "cell_type": "code",
   "execution_count": 2,
   "metadata": {},
   "outputs": [],
   "source": [
    "using CSV, DataFrames, DelimitedFiles, Clapeyron, PyCall, RDKitMinimalLib, GLM, Statistics, Plots, LaTeXStrings\n",
    "\n",
    "# import PyPlot; const plt = PyPlot;\n",
    "include(\"../saftvrmienn.jl\");\n",
    "include(\"plotting_functions.jl\");"
   ]
  },
  {
   "cell_type": "code",
   "execution_count": 3,
   "metadata": {},
   "outputs": [],
   "source": [
    "vr_mie_source_params = CSV.read(\"../saftvrmie_params/saft_vr_mie_validation_data.csv\", DataFrame, header=1);\n",
    "pcp_source_params = CSV.read(\"../pcpsaft_params/training_data.csv\", DataFrame, header=1);"
   ]
  },
  {
   "cell_type": "code",
   "execution_count": 72,
   "metadata": {},
   "outputs": [
    {
     "name": "stderr",
     "output_type": "stream",
     "text": [
      "\u001b[33m\u001b[1m┌ \u001b[22m\u001b[39m\u001b[33m\u001b[1mWarning: \u001b[22m\u001b[39mthread = 1 warning: parsed expected 8 columns, but didn't reach end of line around data row: 1. Parsing extra columns and widening final columnset\n",
      "\u001b[33m\u001b[1m└ \u001b[22m\u001b[39m\u001b[90m@ CSV ~/.julia/packages/CSV/OnldF/src/file.jl:578\u001b[39m\n"
     ]
    }
   ],
   "source": [
    "processed_data = process_raw_params(\"../jobs/24_long_scripts/5_clip_points_strat3/params_log.csv\", pcp_source_params);"
   ]
  },
  {
   "cell_type": "code",
   "execution_count": 66,
   "metadata": {},
   "outputs": [],
   "source": [
    "# contains_only_c(name) = all(letter -> lowercase(letter) == 'c', name);\n",
    "# processed_data_lin_alkanes = filter(row -> contains_only_c(row.isomeric_SMILES), processed_data) \n",
    "# processed_data = sort(processed_data_lin_alkanes, :Mw);\n",
    "\n",
    "\n",
    "species_to_filter = [\"methane\", \"ethane\",\"n-propane\",\"n-butane\",\"n-pentane\",\"n-hexane\",\"n-heptane\",\"n-octane\",\"n-nonane\",\"n-decane\",\"n-dodecane\",\"n-pentadecane\"]\n",
    "vr_mie_source_params = filter(row -> lowercase(row.species) in species_to_filter, vr_mie_source_params);\n",
    "pcp_source_params_alkanes = filter(row -> row.family == \"Alkanes\", pcp_source_params);\n",
    "\n",
    "# raw_params_spec = filter(row -> contains(row.species, i), raw_params)"
   ]
  },
  {
   "cell_type": "code",
   "execution_count": 5,
   "metadata": {},
   "outputs": [
    {
     "name": "stdout",
     "output_type": "stream",
     "text": [
      "1\n",
      "2\n",
      "3\n",
      "4\n",
      "5\n",
      "6\n",
      "7\n"
     ]
    },
    {
     "ename": "LoadError",
     "evalue": "InterruptException:",
     "output_type": "error",
     "traceback": [
      "InterruptException:",
      "",
      "Stacktrace:",
      "  [1] sigatomic_end",
      "    @ ./c.jl:452 [inlined]",
      "  [2] disable_sigint",
      "    @ ./c.jl:475 [inlined]",
      "  [3] __pycall!",
      "    @ ~/.julia/packages/PyCall/ilqDX/src/pyfncall.jl:42 [inlined]",
      "  [4] _pycall!(ret::PyObject, o::PyObject, args::Tuple{IOStream}, nargs::Int64, kw::PyObject)",
      "    @ PyCall ~/.julia/packages/PyCall/ilqDX/src/pyfncall.jl:29",
      "  [5] _pycall!(ret::PyObject, o::PyObject, args::Tuple{IOStream}, kwargs::Base.Pairs{Symbol, Any, NTuple{4, Symbol}, NamedTuple{(:format, :facecolor, :edgecolor, :dpi), Tuple{String, NTuple{4, Float64}, String, Int64}}})",
      "    @ PyCall ~/.julia/packages/PyCall/ilqDX/src/pyfncall.jl:11",
      "  [6] #_#114",
      "    @ ~/.julia/packages/PyCall/ilqDX/src/pyfncall.jl:86 [inlined]",
      "  [7] _show(io::IOStream, #unused#::MIME{Symbol(\"image/png\")}, plt::Plots.Plot{Plots.PyPlotBackend})",
      "    @ Plots ~/.julia/packages/Plots/sxUvK/src/backends/deprecated/pyplot.jl:1626",
      "  [8] #invokelatest#2",
      "    @ ./essentials.jl:819 [inlined]",
      "  [9] invokelatest",
      "    @ ./essentials.jl:816 [inlined]",
      " [10] show",
      "    @ ~/.julia/packages/Plots/sxUvK/src/output.jl:232 [inlined]",
      " [11] #344",
      "    @ ~/.julia/packages/Plots/sxUvK/src/output.jl:6 [inlined]",
      " [12] open(::Plots.var\"#344#345\"{Plots.Plot{Plots.PyPlotBackend}}, ::String, ::Vararg{String}; kwargs::Base.Pairs{Symbol, Union{}, Tuple{}, NamedTuple{(), Tuple{}}})",
      "    @ Base ./io.jl:395",
      " [13] open",
      "    @ ./io.jl:392 [inlined]",
      " [14] png",
      "    @ ~/.julia/packages/Plots/sxUvK/src/output.jl:6 [inlined]",
      " [15] frame(anim::Animation, plt::Plots.Plot{Plots.PyPlotBackend})",
      "    @ Plots ~/.julia/packages/Plots/sxUvK/src/animation.jl:26",
      " [16] frame(anim::Animation)",
      "    @ Plots ~/.julia/packages/Plots/sxUvK/src/animation.jl:24",
      " [17] macro expansion",
      "    @ ~/.julia/packages/Plots/sxUvK/src/animation.jl:232 [inlined]",
      " [18] macro expansion",
      "    @ ./In[5]:58 [inlined]",
      " [19] top-level scope",
      "    @ ~/.julia/packages/Plots/sxUvK/src/animation.jl:251"
     ]
    }
   ],
   "source": [
    "using Plots\n",
    "\n",
    "pyplot()\n",
    "\n",
    "# Set the font family and size\n",
    "fontfamily = \"serif\"\n",
    "fontsize = 14  # adjust the size as needed\n",
    "\n",
    "default(legend = false)\n",
    "\n",
    "frames_per_param = 150\n",
    "\n",
    "zeroes = range(0,0,frames_per_param)\n",
    "\n",
    "sigma_source = range(1, 5, length=frames_per_param)\n",
    "epsilon_source = range(150,280, length=frames_per_param)\n",
    "lambda_a_source = range(4, 8, length=frames_per_param)\n",
    "lambda_r_source = range(10, 25, length=frames_per_param)\n",
    "\n",
    "sigma_range = vcat(sigma_source,range(sigma_source[end],sigma_source[end],frames_per_param),range(sigma_source[end],sigma_source[end],frames_per_param),range(sigma_source[end],sigma_source[end],frames_per_param))\n",
    "lambda_r_range = vcat(range(lambda_r_source[1],lambda_r_source[1],frames_per_param),lambda_r_source,range(lambda_r_source[end],lambda_r_source[end],frames_per_param),range(lambda_r_source[end],lambda_r_source[end],frames_per_param))\n",
    "epsilon_range = vcat(range(epsilon_source[1],epsilon_source[1],frames_per_param),range(epsilon_source[1],epsilon_source[1],frames_per_param),epsilon_source,range(epsilon_source[end],epsilon_source[end],frames_per_param))\n",
    "lambda_a_range = vcat(range(lambda_a_source[1],lambda_a_source[1],frames_per_param),range(lambda_a_source[1],lambda_a_source[1],frames_per_param),range(lambda_a_source[1],lambda_a_source[1],frames_per_param),lambda_a_source)\n",
    "\n",
    "x = range(0, 20, 1000)\n",
    "\n",
    "n = frames_per_param*4\n",
    "\n",
    "@gif for i = 1:n\n",
    "\n",
    "    u = ( (lambda_r_range[i]/(lambda_r_range[i] - lambda_a_range[i])) * (lambda_r_range[i]/lambda_a_range[i]) ^ (lambda_a_range[i]/(lambda_r_range[i] - lambda_a_range[i])) ) .* epsilon_range[i] .* ( (sigma_range[i] ./ x) .^ lambda_r_range[i] .- (sigma_range[i] ./ x) .^ lambda_a_range[i])\n",
    "\n",
    "    plot(x, u, dpi=400, size=(600, 600), color=\"#5B9BD5\",linewidth=2, guidefontsize=18, xtickfontsize=16, ytickfontsize=16,grid=false,fontfamily = \"serif\",framestyle = :box),\n",
    "\n",
    "    # xlabel!(\"\\$σ\\$ / Å\",fontfamily = \"serif\")\n",
    "\n",
    "    xlabel!(\"\\$r\\$ / Å\")\n",
    "    ylabel!(\"\\$u\\\\mathrm{^{Mie}}(r)/k\\\\mathrm{_B} \\$ / K\")\n",
    "\n",
    "    xlims!(0, 15)\n",
    "    ylims!(-300, 100)\n",
    "\n",
    "    # str = \"sigma: $(round(sigma_range[i], digits=2)), \\nlambda_r: $(round(lambda_r_range[i], digits=2)), \\nepsilon: $(round(epsilon_range[i], digits=2)), \\nlambda_a: $(round(lambda_a_range[i], digits=2))\"\n",
    "    # annotate!(15, -250, str, halign=:left, valign = :top)\n",
    "\n",
    "    sigma_str = \"$(round(sigma_range[i], digits=2))\"\n",
    "    lambda_r_str = \"$(round(lambda_r_range[i], digits=2))\"\n",
    "    epsilon_str = \"$(round(epsilon_range[i], digits=2))\"\n",
    "    lambda_a_str = \"$(round(lambda_a_range[i], digits=2))\"\n",
    "    \n",
    "    annotate!(13, -170, sigma_str, valign=:top,fontsize=16)\n",
    "    annotate!(13, -200, lambda_r_str, valign=:top,fontsize=16)\n",
    "    annotate!(13, -230, epsilon_str, valign=:top,fontsize=16)\n",
    "    annotate!(13, -260, lambda_a_str, valign=:top,fontsize=16)\n",
    "\n",
    "    println(i)\n",
    "\n",
    "end fps=25; output_file = \"output_animation.gif\"\n",
    "\n"
   ]
  },
  {
   "cell_type": "code",
   "execution_count": 82,
   "metadata": {},
   "outputs": [
    {
     "name": "stdout",
     "output_type": "stream",
     "text": [
      "1\n",
      "2\n",
      "3\n",
      "4\n",
      "5\n",
      "6\n",
      "7\n",
      "8\n",
      "9\n",
      "10\n",
      "11\n",
      "12\n",
      "13\n",
      "14\n",
      "15\n",
      "16\n",
      "17\n",
      "18\n",
      "19\n",
      "20\n",
      "21\n",
      "22\n",
      "23\n",
      "24\n",
      "25\n",
      "26\n",
      "27\n",
      "28\n",
      "29\n",
      "30\n",
      "31\n",
      "32\n",
      "33\n",
      "34\n",
      "35\n",
      "36\n",
      "37\n",
      "38\n",
      "39\n",
      "40\n",
      "41\n",
      "42\n",
      "43\n",
      "44\n",
      "45\n",
      "46\n",
      "47\n",
      "48\n",
      "49\n",
      "50\n",
      "51\n",
      "52\n",
      "53\n",
      "54\n",
      "55\n",
      "56\n",
      "57\n",
      "58\n",
      "59\n",
      "60\n",
      "61\n",
      "62\n",
      "63\n",
      "64\n",
      "65\n",
      "66\n",
      "67\n",
      "68\n",
      "69\n",
      "70\n",
      "71\n",
      "72\n",
      "73\n",
      "74\n",
      "75\n",
      "76\n",
      "77\n",
      "78\n",
      "79\n",
      "80\n",
      "81\n",
      "82\n",
      "83\n",
      "84\n",
      "85\n",
      "86\n",
      "87\n",
      "88\n",
      "89\n",
      "90\n",
      "91\n",
      "92\n",
      "93\n",
      "94\n",
      "95\n",
      "96\n",
      "97\n",
      "98\n",
      "99\n",
      "100\n",
      "101\n",
      "102\n",
      "103\n",
      "104\n",
      "105\n",
      "106\n",
      "107\n",
      "108\n",
      "109\n",
      "110\n",
      "111\n",
      "112\n",
      "113\n",
      "114\n",
      "115\n",
      "116\n",
      "117\n",
      "118\n",
      "119\n",
      "120\n",
      "121\n",
      "122\n",
      "123\n",
      "124\n",
      "125\n",
      "126\n",
      "127\n",
      "128\n",
      "129\n",
      "130\n",
      "131\n",
      "132\n",
      "133\n",
      "134\n",
      "135\n",
      "136\n",
      "137\n",
      "138\n",
      "139\n",
      "140\n",
      "141\n",
      "142\n",
      "143\n",
      "144\n",
      "145\n",
      "146\n",
      "147\n",
      "148\n",
      "149\n",
      "150\n",
      "151\n",
      "152\n",
      "153\n",
      "154\n",
      "155\n",
      "156\n",
      "157\n",
      "158\n",
      "159\n",
      "160\n",
      "161\n",
      "162\n",
      "163\n",
      "164\n",
      "165\n",
      "166\n",
      "167\n",
      "168\n",
      "169\n",
      "170\n",
      "171\n",
      "172\n",
      "173\n",
      "174\n",
      "175\n",
      "176\n",
      "177\n",
      "178\n",
      "179\n",
      "180\n",
      "181\n",
      "182\n",
      "183\n",
      "184\n",
      "185\n",
      "186\n",
      "187\n",
      "188\n",
      "189\n",
      "190\n",
      "191\n",
      "192\n",
      "193\n",
      "194\n",
      "195\n",
      "196\n",
      "197\n",
      "198\n",
      "199\n",
      "200\n",
      "201\n",
      "202\n",
      "203\n",
      "204\n",
      "205\n",
      "206\n",
      "207\n",
      "208\n",
      "209\n",
      "210\n",
      "211\n",
      "212\n",
      "213\n",
      "214\n",
      "215\n",
      "216\n",
      "217\n",
      "218\n",
      "219\n",
      "220\n",
      "221\n",
      "222\n",
      "223\n",
      "224\n",
      "225\n",
      "226\n",
      "227\n",
      "228\n",
      "229\n",
      "230\n",
      "231\n",
      "232\n",
      "233\n",
      "234\n",
      "235\n",
      "236\n",
      "237\n",
      "238\n",
      "239\n",
      "240\n",
      "241\n",
      "242\n",
      "243\n",
      "244\n",
      "245\n",
      "246\n",
      "247\n",
      "248\n",
      "249\n",
      "250\n",
      "251\n",
      "252\n",
      "253\n",
      "254\n",
      "255\n",
      "256\n",
      "257\n",
      "258\n",
      "259\n",
      "260\n",
      "261\n",
      "262\n",
      "263\n",
      "264\n",
      "265\n",
      "266\n",
      "267\n",
      "268\n",
      "269\n",
      "270\n",
      "271\n",
      "272\n",
      "273\n",
      "274\n",
      "275\n",
      "276\n",
      "277\n",
      "278\n",
      "279\n",
      "280\n",
      "281\n",
      "282\n",
      "283\n",
      "284\n",
      "285\n",
      "286\n",
      "287\n",
      "288\n",
      "289\n",
      "290\n",
      "291\n",
      "292\n",
      "293\n",
      "294\n",
      "295\n",
      "296\n",
      "297\n",
      "298\n",
      "299\n",
      "300\n",
      "301\n",
      "302\n",
      "303\n",
      "304\n",
      "305\n",
      "306\n",
      "307\n",
      "308\n",
      "309\n",
      "310\n",
      "311\n",
      "312\n",
      "313\n",
      "314\n",
      "315\n",
      "316\n",
      "317\n",
      "318\n",
      "319\n",
      "320\n",
      "321\n",
      "322\n",
      "323\n",
      "324\n",
      "325\n",
      "326\n",
      "327\n",
      "328\n",
      "329\n",
      "330\n",
      "331\n",
      "332\n",
      "333\n",
      "334\n",
      "335\n",
      "336\n",
      "337\n",
      "338\n",
      "339\n",
      "340\n",
      "341\n",
      "342\n",
      "343\n",
      "344\n",
      "345\n",
      "346\n",
      "347\n",
      "348\n",
      "349\n",
      "350\n",
      "351\n",
      "352\n",
      "353\n",
      "354\n",
      "355\n",
      "356\n",
      "357\n",
      "358\n",
      "359\n",
      "360\n",
      "361\n",
      "362\n",
      "363\n",
      "364\n",
      "365\n",
      "366\n",
      "367\n",
      "368\n",
      "369\n",
      "370\n",
      "371\n",
      "372\n",
      "373\n",
      "374\n",
      "375\n",
      "376\n",
      "377\n",
      "378\n",
      "379\n",
      "380\n",
      "381\n",
      "382\n",
      "383\n",
      "384\n",
      "385\n",
      "386\n",
      "387\n",
      "388\n",
      "389\n",
      "390\n",
      "391\n",
      "392\n",
      "393\n",
      "394\n",
      "395\n",
      "396\n",
      "397\n",
      "398\n",
      "399\n",
      "400\n",
      "401\n",
      "402\n",
      "403\n",
      "404\n",
      "405\n",
      "406\n",
      "407\n",
      "408\n",
      "409\n",
      "410\n",
      "411\n",
      "412\n",
      "413\n",
      "414\n",
      "415\n",
      "416\n",
      "417\n",
      "418\n",
      "419\n",
      "420\n",
      "421\n",
      "422\n",
      "423\n",
      "424\n",
      "425\n",
      "426\n",
      "427\n",
      "428\n",
      "429\n",
      "430\n",
      "431\n",
      "432\n",
      "433\n",
      "434\n",
      "435\n",
      "436\n",
      "437\n",
      "438\n",
      "439\n",
      "440\n",
      "441\n",
      "442\n",
      "443\n",
      "444\n",
      "445\n",
      "446\n",
      "447\n",
      "448\n",
      "449\n",
      "450\n",
      "451\n",
      "452\n",
      "453\n",
      "454\n",
      "455\n",
      "456\n",
      "457\n",
      "458\n",
      "459\n",
      "460\n",
      "461\n",
      "462\n",
      "463\n",
      "464\n",
      "465\n",
      "466\n",
      "467\n",
      "468\n",
      "469\n",
      "470\n",
      "471\n",
      "472\n",
      "473\n",
      "474\n",
      "475\n",
      "476\n",
      "477\n",
      "478\n",
      "479\n",
      "480\n",
      "481\n",
      "482\n",
      "483\n",
      "484\n",
      "485\n",
      "486\n",
      "487\n",
      "488\n",
      "489\n",
      "490\n",
      "491\n",
      "492\n",
      "493\n",
      "494\n",
      "495\n",
      "496\n",
      "497\n",
      "498\n",
      "499\n",
      "500\n",
      "501\n",
      "502\n",
      "503\n",
      "504\n",
      "505\n",
      "506\n",
      "507\n",
      "508\n",
      "509\n",
      "510\n",
      "511\n",
      "512\n",
      "513\n",
      "514\n",
      "515\n",
      "516\n",
      "517\n",
      "518\n",
      "519\n",
      "520\n",
      "521\n",
      "522\n",
      "523\n",
      "524\n",
      "525\n",
      "526\n",
      "527\n",
      "528\n",
      "529\n",
      "530\n",
      "531\n",
      "532\n",
      "533\n",
      "534\n",
      "535\n",
      "536\n",
      "537\n",
      "538\n",
      "539\n",
      "540\n",
      "541\n",
      "542\n",
      "543\n",
      "544\n",
      "545\n",
      "546\n",
      "547\n",
      "548\n",
      "549\n",
      "550\n",
      "551\n",
      "552\n",
      "553\n",
      "554\n",
      "555\n",
      "556\n",
      "557\n",
      "558\n",
      "559\n",
      "560\n",
      "561\n",
      "562\n",
      "563\n",
      "564\n",
      "565\n",
      "566\n",
      "567\n",
      "568\n",
      "569\n",
      "570\n",
      "571\n",
      "572\n",
      "573\n",
      "574\n",
      "575\n",
      "576\n",
      "577\n",
      "578\n",
      "579\n",
      "580\n",
      "581\n",
      "582\n",
      "583\n",
      "584\n",
      "585\n",
      "586\n",
      "587\n",
      "588\n",
      "589\n",
      "590\n",
      "591\n",
      "592\n",
      "593\n",
      "594\n",
      "595\n",
      "596\n",
      "597\n",
      "598\n",
      "599\n",
      "600\n"
     ]
    },
    {
     "data": {
      "image/png": "[encoded data removed]",
      "image/svg+xml": [
       "<?xml version=\"1.0\" encoding=\"utf-8\" standalone=\"no\"?>\n",
       "<!DOCTYPE svg PUBLIC \"-//W3C//DTD SVG 1.1//EN\"\n",
       "  \"http://www.w3.org/Graphics/SVG/1.1/DTD/svg11.dtd\">\n",
       "<svg xmlns:xlink=\"http://www.w3.org/1999/xlink\" width=\"432pt\" height=\"432pt\" viewBox=\"0 0 432 432\" xmlns=\"http://www.w3.org/2000/svg\" version=\"1.1\">\n",
       " <metadata>\n",
       "  <rdf:RDF xmlns:dc=\"http://purl.org/dc/elements/1.1/\" xmlns:cc=\"http://creativecommons.org/ns#\" xmlns:rdf=\"http://www.w3.org/1999/02/22-rdf-syntax-ns#\">\n",
       "   <cc:Work>\n",
       "    <dc:type rdf:resource=\"http://purl.org/dc/dcmitype/StillImage\"/>\n",
       "    <dc:date>2023-12-10T13:57:16.515668</dc:date>\n",
       "    <dc:format>image/svg+xml</dc:format>\n",
       "    <dc:creator>\n",
       "     <cc:Agent>\n",
       "      <dc:title>Matplotlib v3.8.0, https://matplotlib.org/</dc:title>\n",
       "     </cc:Agent>\n",
       "    </dc:creator>\n",
       "   </cc:Work>\n",
       "  </rdf:RDF>\n",
       " </metadata>\n",
       " <defs>\n",
       "  <style type=\"text/css\">*{stroke-linejoin: round; stroke-linecap: butt}</style>\n",
       " </defs>\n",
       " <g id=\"figure_1\">\n",
       "  <g id=\"patch_1\">\n",
       "   <path d=\"M 0 432 \n",
       "L 432 432 \n",
       "L 432 0 \n",
       "L 0 0 \n",
       "z\n",
       "\" style=\"fill: #ffffff\"/>\n",
       "  </g>\n",
       "  <g id=\"axes_1\">\n",
       "   <g id=\"patch_2\">\n",
       "    <path d=\"M 47.912087 391.541526 \n",
       "L 431.291339 391.541526 \n",
       "L 431.291339 20.172099 \n",
       "L 47.912087 20.172099 \n",
       "z\n",
       "\" style=\"fill: #ffffff\"/>\n",
       "   </g>\n",
       "   <g id=\"PathCollection_1\">\n",
       "    <defs>\n",
       "     <path id=\"m45170b14bf\" d=\"M 0 2.5 \n",
       "C 0.663008 2.5 1.29895 2.236584 1.767767 1.767767 \n",
       "C 2.236584 1.29895 2.5 0.663008 2.5 0 \n",
       "C 2.5 -0.663008 2.236584 -1.29895 1.767767 -1.767767 \n",
       "C 1.29895 -2.236584 0.663008 -2.5 0 -2.5 \n",
       "C -0.663008 -2.5 -1.29895 -2.236584 -1.767767 -1.767767 \n",
       "C -2.236584 -1.29895 -2.5 -0.663008 -2.5 0 \n",
       "C -2.5 0.663008 -2.236584 1.29895 -1.767767 1.767767 \n",
       "C -1.29895 2.236584 -0.663008 2.5 0 2.5 \n",
       "z\n",
       "\" style=\"stroke: #000000; stroke-opacity: 0\"/>\n",
       "    </defs>\n",
       "    <g clip-path=\"url(#p4904025987)\">\n",
       "     <use xlink:href=\"#m45170b14bf\" x=\"361.257769\" y=\"404.056676\" style=\"fill: #5dc90a; stroke: #000000; stroke-opacity: 0\"/>\n",
       "     <use xlink:href=\"#m45170b14bf\" x=\"359.20546\" y=\"399.271335\" style=\"fill: #5dc90a; stroke: #000000; stroke-opacity: 0\"/>\n",
       "     <use xlink:href=\"#m45170b14bf\" x=\"357.160453\" y=\"394.485994\" style=\"fill: #5dc90a; stroke: #000000; stroke-opacity: 0\"/>\n",
       "     <use xlink:href=\"#m45170b14bf\" x=\"355.120146\" y=\"389.700653\" style=\"fill: #5dc90a; stroke: #000000; stroke-opacity: 0\"/>\n",
       "     <use xlink:href=\"#m45170b14bf\" x=\"353.08201\" y=\"384.915312\" style=\"fill: #5dc90a; stroke: #000000; stroke-opacity: 0\"/>\n",
       "     <use xlink:href=\"#m45170b14bf\" x=\"351.043575\" y=\"380.129971\" style=\"fill: #5dc90a; stroke: #000000; stroke-opacity: 0\"/>\n",
       "     <use xlink:href=\"#m45170b14bf\" x=\"349.002419\" y=\"375.344631\" style=\"fill: #5dc90a; stroke: #000000; stroke-opacity: 0\"/>\n",
       "     <use xlink:href=\"#m45170b14bf\" x=\"346.956159\" y=\"370.55929\" style=\"fill: #5dc90a; stroke: #000000; stroke-opacity: 0\"/>\n",
       "     <use xlink:href=\"#m45170b14bf\" x=\"344.902441\" y=\"365.773949\" style=\"fill: #5dc90a; stroke: #000000; stroke-opacity: 0\"/>\n",
       "     <use xlink:href=\"#m45170b14bf\" x=\"342.838925\" y=\"360.988608\" style=\"fill: #5dc90a; stroke: #000000; stroke-opacity: 0\"/>\n",
       "     <use xlink:href=\"#m45170b14bf\" x=\"340.763277\" y=\"356.203267\" style=\"fill: #5dc90a; stroke: #000000; stroke-opacity: 0\"/>\n",
       "     <use xlink:href=\"#m45170b14bf\" x=\"338.673155\" y=\"351.417926\" style=\"fill: #5dc90a; stroke: #000000; stroke-opacity: 0\"/>\n",
       "     <use xlink:href=\"#m45170b14bf\" x=\"336.566203\" y=\"346.632585\" style=\"fill: #5dc90a; stroke: #000000; stroke-opacity: 0\"/>\n",
       "     <use xlink:href=\"#m45170b14bf\" x=\"334.44003\" y=\"341.847244\" style=\"fill: #5dc90a; stroke: #000000; stroke-opacity: 0\"/>\n",
       "     <use xlink:href=\"#m45170b14bf\" x=\"332.292207\" y=\"337.061904\" style=\"fill: #5dc90a; stroke: #000000; stroke-opacity: 0\"/>\n",
       "     <use xlink:href=\"#m45170b14bf\" x=\"330.120243\" y=\"332.276563\" style=\"fill: #5dc90a; stroke: #000000; stroke-opacity: 0\"/>\n",
       "     <use xlink:href=\"#m45170b14bf\" x=\"327.921577\" y=\"327.491222\" style=\"fill: #5dc90a; stroke: #000000; stroke-opacity: 0\"/>\n",
       "     <use xlink:href=\"#m45170b14bf\" x=\"325.693559\" y=\"322.705881\" style=\"fill: #5dc90a; stroke: #000000; stroke-opacity: 0\"/>\n",
       "     <use xlink:href=\"#m45170b14bf\" x=\"323.433432\" y=\"317.92054\" style=\"fill: #5dc90a; stroke: #000000; stroke-opacity: 0\"/>\n",
       "     <use xlink:href=\"#m45170b14bf\" x=\"321.138313\" y=\"313.135199\" style=\"fill: #5dc90a; stroke: #000000; stroke-opacity: 0\"/>\n",
       "     <use xlink:href=\"#m45170b14bf\" x=\"318.805167\" y=\"308.349858\" style=\"fill: #5dc90a; stroke: #000000; stroke-opacity: 0\"/>\n",
       "     <use xlink:href=\"#m45170b14bf\" x=\"316.430785\" y=\"303.564517\" style=\"fill: #5dc90a; stroke: #000000; stroke-opacity: 0\"/>\n",
       "     <use xlink:href=\"#m45170b14bf\" x=\"314.011754\" y=\"298.779177\" style=\"fill: #5dc90a; stroke: #000000; stroke-opacity: 0\"/>\n",
       "     <use xlink:href=\"#m45170b14bf\" x=\"311.544422\" y=\"293.993836\" style=\"fill: #5dc90a; stroke: #000000; stroke-opacity: 0\"/>\n",
       "     <use xlink:href=\"#m45170b14bf\" x=\"309.024859\" y=\"289.208495\" style=\"fill: #5dc90a; stroke: #000000; stroke-opacity: 0\"/>\n",
       "     <use xlink:href=\"#m45170b14bf\" x=\"306.448815\" y=\"284.423154\" style=\"fill: #5dc90a; stroke: #000000; stroke-opacity: 0\"/>\n",
       "     <use xlink:href=\"#m45170b14bf\" x=\"303.811663\" y=\"279.637813\" style=\"fill: #5dc90a; stroke: #000000; stroke-opacity: 0\"/>\n",
       "     <use xlink:href=\"#m45170b14bf\" x=\"301.108335\" y=\"274.852472\" style=\"fill: #5dc90a; stroke: #000000; stroke-opacity: 0\"/>\n",
       "     <use xlink:href=\"#m45170b14bf\" x=\"298.333248\" y=\"270.067131\" style=\"fill: #5dc90a; stroke: #000000; stroke-opacity: 0\"/>\n",
       "     <use xlink:href=\"#m45170b14bf\" x=\"295.480211\" y=\"265.28179\" style=\"fill: #5dc90a; stroke: #000000; stroke-opacity: 0\"/>\n",
       "     <use xlink:href=\"#m45170b14bf\" x=\"292.542312\" y=\"260.49645\" style=\"fill: #5dc90a; stroke: #000000; stroke-opacity: 0\"/>\n",
       "     <use xlink:href=\"#m45170b14bf\" x=\"289.511779\" y=\"255.711109\" style=\"fill: #5dc90a; stroke: #000000; stroke-opacity: 0\"/>\n",
       "     <use xlink:href=\"#m45170b14bf\" x=\"286.379805\" y=\"250.925768\" style=\"fill: #5dc90a; stroke: #000000; stroke-opacity: 0\"/>\n",
       "     <use xlink:href=\"#m45170b14bf\" x=\"283.136332\" y=\"246.140427\" style=\"fill: #5dc90a; stroke: #000000; stroke-opacity: 0\"/>\n",
       "     <use xlink:href=\"#m45170b14bf\" x=\"279.769764\" y=\"241.355086\" style=\"fill: #5dc90a; stroke: #000000; stroke-opacity: 0\"/>\n",
       "     <use xlink:href=\"#m45170b14bf\" x=\"276.266606\" y=\"236.569745\" style=\"fill: #5dc90a; stroke: #000000; stroke-opacity: 0\"/>\n",
       "     <use xlink:href=\"#m45170b14bf\" x=\"272.610977\" y=\"231.784404\" style=\"fill: #5dc90a; stroke: #000000; stroke-opacity: 0\"/>\n",
       "     <use xlink:href=\"#m45170b14bf\" x=\"268.783958\" y=\"226.999063\" style=\"fill: #5dc90a; stroke: #000000; stroke-opacity: 0\"/>\n",
       "     <use xlink:href=\"#m45170b14bf\" x=\"264.762688\" y=\"222.213723\" style=\"fill: #5dc90a; stroke: #000000; stroke-opacity: 0\"/>\n",
       "     <use xlink:href=\"#m45170b14bf\" x=\"260.519093\" y=\"217.428382\" style=\"fill: #5dc90a; stroke: #000000; stroke-opacity: 0\"/>\n",
       "     <use xlink:href=\"#m45170b14bf\" x=\"256.01802\" y=\"212.643041\" style=\"fill: #5dc90a; stroke: #000000; stroke-opacity: 0\"/>\n",
       "     <use xlink:href=\"#m45170b14bf\" x=\"251.214433\" y=\"207.8577\" style=\"fill: #5dc90a; stroke: #000000; stroke-opacity: 0\"/>\n",
       "     <use xlink:href=\"#m45170b14bf\" x=\"246.048972\" y=\"203.072359\" style=\"fill: #5dc90a; stroke: #000000; stroke-opacity: 0\"/>\n",
       "     <use xlink:href=\"#m45170b14bf\" x=\"240.440561\" y=\"198.287018\" style=\"fill: #5dc90a; stroke: #000000; stroke-opacity: 0\"/>\n",
       "     <use xlink:href=\"#m45170b14bf\" x=\"234.2732\" y=\"193.501677\" style=\"fill: #5dc90a; stroke: #000000; stroke-opacity: 0\"/>\n",
       "     <use xlink:href=\"#m45170b14bf\" x=\"227.37011\" y=\"188.716336\" style=\"fill: #5dc90a; stroke: #000000; stroke-opacity: 0\"/>\n",
       "     <use xlink:href=\"#m45170b14bf\" x=\"219.436091\" y=\"183.930996\" style=\"fill: #5dc90a; stroke: #000000; stroke-opacity: 0\"/>\n",
       "     <use xlink:href=\"#m45170b14bf\" x=\"209.900902\" y=\"179.145655\" style=\"fill: #5dc90a; stroke: #000000; stroke-opacity: 0\"/>\n",
       "     <use xlink:href=\"#m45170b14bf\" x=\"197.308671\" y=\"174.360314\" style=\"fill: #5dc90a; stroke: #000000; stroke-opacity: 0\"/>\n",
       "     <use xlink:href=\"#m45170b14bf\" x=\"166.634939\" y=\"169.574973\" style=\"fill: #5dc90a; stroke: #000000; stroke-opacity: 0\"/>\n",
       "     <use xlink:href=\"#m45170b14bf\" x=\"166.634939\" y=\"169.574973\" style=\"fill: #5dc90a; stroke: #000000; stroke-opacity: 0\"/>\n",
       "     <use xlink:href=\"#m45170b14bf\" x=\"73.477863\" y=\"404.056676\" style=\"fill: #5dc90a; stroke: #000000; stroke-opacity: 0\"/>\n",
       "     <use xlink:href=\"#m45170b14bf\" x=\"73.481471\" y=\"399.271335\" style=\"fill: #5dc90a; stroke: #000000; stroke-opacity: 0\"/>\n",
       "     <use xlink:href=\"#m45170b14bf\" x=\"73.486541\" y=\"394.485994\" style=\"fill: #5dc90a; stroke: #000000; stroke-opacity: 0\"/>\n",
       "     <use xlink:href=\"#m45170b14bf\" x=\"73.493523\" y=\"389.700653\" style=\"fill: #5dc90a; stroke: #000000; stroke-opacity: 0\"/>\n",
       "     <use xlink:href=\"#m45170b14bf\" x=\"73.502958\" y=\"384.915312\" style=\"fill: #5dc90a; stroke: #000000; stroke-opacity: 0\"/>\n",
       "     <use xlink:href=\"#m45170b14bf\" x=\"73.51549\" y=\"380.129971\" style=\"fill: #5dc90a; stroke: #000000; stroke-opacity: 0\"/>\n",
       "     <use xlink:href=\"#m45170b14bf\" x=\"73.531869\" y=\"375.344631\" style=\"fill: #5dc90a; stroke: #000000; stroke-opacity: 0\"/>\n",
       "     <use xlink:href=\"#m45170b14bf\" x=\"73.552963\" y=\"370.55929\" style=\"fill: #5dc90a; stroke: #000000; stroke-opacity: 0\"/>\n",
       "     <use xlink:href=\"#m45170b14bf\" x=\"73.579758\" y=\"365.773949\" style=\"fill: #5dc90a; stroke: #000000; stroke-opacity: 0\"/>\n",
       "     <use xlink:href=\"#m45170b14bf\" x=\"73.613364\" y=\"360.988608\" style=\"fill: #5dc90a; stroke: #000000; stroke-opacity: 0\"/>\n",
       "     <use xlink:href=\"#m45170b14bf\" x=\"73.655021\" y=\"356.203267\" style=\"fill: #5dc90a; stroke: #000000; stroke-opacity: 0\"/>\n",
       "     <use xlink:href=\"#m45170b14bf\" x=\"73.7061\" y=\"351.417926\" style=\"fill: #5dc90a; stroke: #000000; stroke-opacity: 0\"/>\n",
       "     <use xlink:href=\"#m45170b14bf\" x=\"73.768107\" y=\"346.632585\" style=\"fill: #5dc90a; stroke: #000000; stroke-opacity: 0\"/>\n",
       "     <use xlink:href=\"#m45170b14bf\" x=\"73.842687\" y=\"341.847244\" style=\"fill: #5dc90a; stroke: #000000; stroke-opacity: 0\"/>\n",
       "     <use xlink:href=\"#m45170b14bf\" x=\"73.931629\" y=\"337.061904\" style=\"fill: #5dc90a; stroke: #000000; stroke-opacity: 0\"/>\n",
       "     <use xlink:href=\"#m45170b14bf\" x=\"74.03687\" y=\"332.276563\" style=\"fill: #5dc90a; stroke: #000000; stroke-opacity: 0\"/>\n",
       "     <use xlink:href=\"#m45170b14bf\" x=\"74.160503\" y=\"327.491222\" style=\"fill: #5dc90a; stroke: #000000; stroke-opacity: 0\"/>\n",
       "     <use xlink:href=\"#m45170b14bf\" x=\"74.304786\" y=\"322.705881\" style=\"fill: #5dc90a; stroke: #000000; stroke-opacity: 0\"/>\n",
       "     <use xlink:href=\"#m45170b14bf\" x=\"74.472155\" y=\"317.92054\" style=\"fill: #5dc90a; stroke: #000000; stroke-opacity: 0\"/>\n",
       "     <use xlink:href=\"#m45170b14bf\" x=\"74.665236\" y=\"313.135199\" style=\"fill: #5dc90a; stroke: #000000; stroke-opacity: 0\"/>\n",
       "     <use xlink:href=\"#m45170b14bf\" x=\"74.886866\" y=\"308.349858\" style=\"fill: #5dc90a; stroke: #000000; stroke-opacity: 0\"/>\n",
       "     <use xlink:href=\"#m45170b14bf\" x=\"75.140114\" y=\"303.564517\" style=\"fill: #5dc90a; stroke: #000000; stroke-opacity: 0\"/>\n",
       "     <use xlink:href=\"#m45170b14bf\" x=\"75.428312\" y=\"298.779177\" style=\"fill: #5dc90a; stroke: #000000; stroke-opacity: 0\"/>\n",
       "     <use xlink:href=\"#m45170b14bf\" x=\"75.755085\" y=\"293.993836\" style=\"fill: #5dc90a; stroke: #000000; stroke-opacity: 0\"/>\n",
       "     <use xlink:href=\"#m45170b14bf\" x=\"76.124396\" y=\"289.208495\" style=\"fill: #5dc90a; stroke: #000000; stroke-opacity: 0\"/>\n",
       "     <use xlink:href=\"#m45170b14bf\" x=\"76.540595\" y=\"284.423154\" style=\"fill: #5dc90a; stroke: #000000; stroke-opacity: 0\"/>\n",
       "     <use xlink:href=\"#m45170b14bf\" x=\"77.00848\" y=\"279.637813\" style=\"fill: #5dc90a; stroke: #000000; stroke-opacity: 0\"/>\n",
       "     <use xlink:href=\"#m45170b14bf\" x=\"77.53337\" y=\"274.852472\" style=\"fill: #5dc90a; stroke: #000000; stroke-opacity: 0\"/>\n",
       "     <use xlink:href=\"#m45170b14bf\" x=\"78.121198\" y=\"270.067131\" style=\"fill: #5dc90a; stroke: #000000; stroke-opacity: 0\"/>\n",
       "     <use xlink:href=\"#m45170b14bf\" x=\"78.778619\" y=\"265.28179\" style=\"fill: #5dc90a; stroke: #000000; stroke-opacity: 0\"/>\n",
       "     <use xlink:href=\"#m45170b14bf\" x=\"79.513147\" y=\"260.49645\" style=\"fill: #5dc90a; stroke: #000000; stroke-opacity: 0\"/>\n",
       "     <use xlink:href=\"#m45170b14bf\" x=\"80.333324\" y=\"255.711109\" style=\"fill: #5dc90a; stroke: #000000; stroke-opacity: 0\"/>\n",
       "     <use xlink:href=\"#m45170b14bf\" x=\"81.248934\" y=\"250.925768\" style=\"fill: #5dc90a; stroke: #000000; stroke-opacity: 0\"/>\n",
       "     <use xlink:href=\"#m45170b14bf\" x=\"82.271263\" y=\"246.140427\" style=\"fill: #5dc90a; stroke: #000000; stroke-opacity: 0\"/>\n",
       "     <use xlink:href=\"#m45170b14bf\" x=\"83.413447\" y=\"241.355086\" style=\"fill: #5dc90a; stroke: #000000; stroke-opacity: 0\"/>\n",
       "     <use xlink:href=\"#m45170b14bf\" x=\"84.690913\" y=\"236.569745\" style=\"fill: #5dc90a; stroke: #000000; stroke-opacity: 0\"/>\n",
       "     <use xlink:href=\"#m45170b14bf\" x=\"86.121954\" y=\"231.784404\" style=\"fill: #5dc90a; stroke: #000000; stroke-opacity: 0\"/>\n",
       "     <use xlink:href=\"#m45170b14bf\" x=\"87.728509\" y=\"226.999063\" style=\"fill: #5dc90a; stroke: #000000; stroke-opacity: 0\"/>\n",
       "     <use xlink:href=\"#m45170b14bf\" x=\"89.537217\" y=\"222.213723\" style=\"fill: #5dc90a; stroke: #000000; stroke-opacity: 0\"/>\n",
       "     <use xlink:href=\"#m45170b14bf\" x=\"91.580889\" y=\"217.428382\" style=\"fill: #5dc90a; stroke: #000000; stroke-opacity: 0\"/>\n",
       "     <use xlink:href=\"#m45170b14bf\" x=\"93.900615\" y=\"212.643041\" style=\"fill: #5dc90a; stroke: #000000; stroke-opacity: 0\"/>\n",
       "     <use xlink:href=\"#m45170b14bf\" x=\"96.548896\" y=\"207.8577\" style=\"fill: #5dc90a; stroke: #000000; stroke-opacity: 0\"/>\n",
       "     <use xlink:href=\"#m45170b14bf\" x=\"99.594482\" y=\"203.072359\" style=\"fill: #5dc90a; stroke: #000000; stroke-opacity: 0\"/>\n",
       "     <use xlink:href=\"#m45170b14bf\" x=\"103.130272\" y=\"198.287018\" style=\"fill: #5dc90a; stroke: #000000; stroke-opacity: 0\"/>\n",
       "     <use xlink:href=\"#m45170b14bf\" x=\"107.287137\" y=\"193.501677\" style=\"fill: #5dc90a; stroke: #000000; stroke-opacity: 0\"/>\n",
       "     <use xlink:href=\"#m45170b14bf\" x=\"112.260523\" y=\"188.716336\" style=\"fill: #5dc90a; stroke: #000000; stroke-opacity: 0\"/>\n",
       "     <use xlink:href=\"#m45170b14bf\" x=\"118.368907\" y=\"183.930996\" style=\"fill: #5dc90a; stroke: #000000; stroke-opacity: 0\"/>\n",
       "     <use xlink:href=\"#m45170b14bf\" x=\"126.211247\" y=\"179.145655\" style=\"fill: #5dc90a; stroke: #000000; stroke-opacity: 0\"/>\n",
       "     <use xlink:href=\"#m45170b14bf\" x=\"137.278175\" y=\"174.360314\" style=\"fill: #5dc90a; stroke: #000000; stroke-opacity: 0\"/>\n",
       "     <use xlink:href=\"#m45170b14bf\" x=\"166.634939\" y=\"169.574973\" style=\"fill: #5dc90a; stroke: #000000; stroke-opacity: 0\"/>\n",
       "    </g>\n",
       "   </g>\n",
       "   <g id=\"matplotlib.axis_1\">\n",
       "    <g id=\"xtick_1\">\n",
       "     <g id=\"line2d_1\">\n",
       "      <defs>\n",
       "       <path id=\"m2035e0b1ad\" d=\"M 0 0 \n",
       "L 0 -2.5 \n",
       "\" style=\"stroke: #000000; stroke-width: 0.5\"/>\n",
       "      </defs>\n",
       "      <g>\n",
       "       <use xlink:href=\"#m2035e0b1ad\" x=\"73.470704\" y=\"391.541526\" style=\"stroke: #000000; stroke-width: 0.5\"/>\n",
       "      </g>\n",
       "     </g>\n",
       "     <g id=\"line2d_2\">\n",
       "      <defs>\n",
       "       <path id=\"m2c1abcc948\" d=\"M 0 0 \n",
       "L 0 2.5 \n",
       "\" style=\"stroke: #000000; stroke-width: 0.5\"/>\n",
       "      </defs>\n",
       "      <g>\n",
       "       <use xlink:href=\"#m2c1abcc948\" x=\"73.470704\" y=\"20.172099\" style=\"stroke: #000000; stroke-width: 0.5\"/>\n",
       "      </g>\n",
       "     </g>\n",
       "     <g id=\"text_1\">\n",
       "      <!-- $0$ -->\n",
       "      <g transform=\"translate(69.630704 404.159651) scale(0.12 -0.12)\">\n",
       "       <defs>\n",
       "        <path id=\"DejaVuSerif-30\" d=\"M 2034 219 \n",
       "Q 2513 219 2750 744 \n",
       "Q 2988 1269 2988 2328 \n",
       "Q 2988 3391 2750 3916 \n",
       "Q 2513 4441 2034 4441 \n",
       "Q 1556 4441 1318 3916 \n",
       "Q 1081 3391 1081 2328 \n",
       "Q 1081 1269 1318 744 \n",
       "Q 1556 219 2034 219 \n",
       "z\n",
       "M 2034 -91 \n",
       "Q 1275 -91 848 546 \n",
       "Q 422 1184 422 2328 \n",
       "Q 422 3475 848 4112 \n",
       "Q 1275 4750 2034 4750 \n",
       "Q 2797 4750 3222 4112 \n",
       "Q 3647 3475 3647 2328 \n",
       "Q 3647 1184 3222 546 \n",
       "Q 2797 -91 2034 -91 \n",
       "z\n",
       "\" transform=\"scale(0.015625)\"/>\n",
       "       </defs>\n",
       "       <use xlink:href=\"#DejaVuSerif-30\" transform=\"translate(0 0.78125)\"/>\n",
       "      </g>\n",
       "     </g>\n",
       "    </g>\n",
       "    <g id=\"xtick_2\">\n",
       "     <g id=\"line2d_3\">\n",
       "      <g>\n",
       "       <use xlink:href=\"#m2035e0b1ad\" x=\"175.705171\" y=\"391.541526\" style=\"stroke: #000000; stroke-width: 0.5\"/>\n",
       "      </g>\n",
       "     </g>\n",
       "     <g id=\"line2d_4\">\n",
       "      <g>\n",
       "       <use xlink:href=\"#m2c1abcc948\" x=\"175.705171\" y=\"20.172099\" style=\"stroke: #000000; stroke-width: 0.5\"/>\n",
       "      </g>\n",
       "     </g>\n",
       "     <g id=\"text_2\">\n",
       "      <!-- $2$ -->\n",
       "      <g transform=\"translate(171.865171 404.159651) scale(0.12 -0.12)\">\n",
       "       <defs>\n",
       "        <path id=\"DejaVuSerif-32\" d=\"M 819 3553 \n",
       "L 469 3553 \n",
       "L 469 4384 \n",
       "Q 803 4563 1142 4656 \n",
       "Q 1481 4750 1806 4750 \n",
       "Q 2534 4750 2956 4397 \n",
       "Q 3378 4044 3378 3438 \n",
       "Q 3378 2753 2422 1800 \n",
       "Q 2347 1728 2309 1691 \n",
       "L 1131 513 \n",
       "L 3078 513 \n",
       "L 3078 1088 \n",
       "L 3444 1088 \n",
       "L 3444 0 \n",
       "L 434 0 \n",
       "L 434 341 \n",
       "L 1850 1753 \n",
       "Q 2319 2222 2519 2614 \n",
       "Q 2719 3006 2719 3438 \n",
       "Q 2719 3909 2473 4175 \n",
       "Q 2228 4441 1797 4441 \n",
       "Q 1350 4441 1106 4219 \n",
       "Q 863 3997 819 3553 \n",
       "z\n",
       "\" transform=\"scale(0.015625)\"/>\n",
       "       </defs>\n",
       "       <use xlink:href=\"#DejaVuSerif-32\" transform=\"translate(0 0.78125)\"/>\n",
       "      </g>\n",
       "     </g>\n",
       "    </g>\n",
       "    <g id=\"xtick_3\">\n",
       "     <g id=\"line2d_5\">\n",
       "      <g>\n",
       "       <use xlink:href=\"#m2035e0b1ad\" x=\"277.939638\" y=\"391.541526\" style=\"stroke: #000000; stroke-width: 0.5\"/>\n",
       "      </g>\n",
       "     </g>\n",
       "     <g id=\"line2d_6\">\n",
       "      <g>\n",
       "       <use xlink:href=\"#m2c1abcc948\" x=\"277.939638\" y=\"20.172099\" style=\"stroke: #000000; stroke-width: 0.5\"/>\n",
       "      </g>\n",
       "     </g>\n",
       "     <g id=\"text_3\">\n",
       "      <!-- $4$ -->\n",
       "      <g transform=\"translate(274.099638 404.159651) scale(0.12 -0.12)\">\n",
       "       <defs>\n",
       "        <path id=\"DejaVuSerif-34\" d=\"M 2234 1581 \n",
       "L 2234 4063 \n",
       "L 641 1581 \n",
       "L 2234 1581 \n",
       "z\n",
       "M 3609 0 \n",
       "L 1484 0 \n",
       "L 1484 331 \n",
       "L 2234 331 \n",
       "L 2234 1247 \n",
       "L 197 1247 \n",
       "L 197 1588 \n",
       "L 2241 4750 \n",
       "L 2859 4750 \n",
       "L 2859 1581 \n",
       "L 3750 1581 \n",
       "L 3750 1247 \n",
       "L 2859 1247 \n",
       "L 2859 331 \n",
       "L 3609 331 \n",
       "L 3609 0 \n",
       "z\n",
       "\" transform=\"scale(0.015625)\"/>\n",
       "       </defs>\n",
       "       <use xlink:href=\"#DejaVuSerif-34\" transform=\"translate(0 0.78125)\"/>\n",
       "      </g>\n",
       "     </g>\n",
       "    </g>\n",
       "    <g id=\"xtick_4\">\n",
       "     <g id=\"line2d_7\">\n",
       "      <g>\n",
       "       <use xlink:href=\"#m2035e0b1ad\" x=\"380.174105\" y=\"391.541526\" style=\"stroke: #000000; stroke-width: 0.5\"/>\n",
       "      </g>\n",
       "     </g>\n",
       "     <g id=\"line2d_8\">\n",
       "      <g>\n",
       "       <use xlink:href=\"#m2c1abcc948\" x=\"380.174105\" y=\"20.172099\" style=\"stroke: #000000; stroke-width: 0.5\"/>\n",
       "      </g>\n",
       "     </g>\n",
       "     <g id=\"text_4\">\n",
       "      <!-- $6$ -->\n",
       "      <g transform=\"translate(376.334105 404.159651) scale(0.12 -0.12)\">\n",
       "       <defs>\n",
       "        <path id=\"DejaVuSerif-36\" d=\"M 2094 219 \n",
       "Q 2534 219 2771 542 \n",
       "Q 3009 866 3009 1472 \n",
       "Q 3009 2078 2771 2401 \n",
       "Q 2534 2725 2094 2725 \n",
       "Q 1647 2725 1412 2412 \n",
       "Q 1178 2100 1178 1509 \n",
       "Q 1178 888 1415 553 \n",
       "Q 1653 219 2094 219 \n",
       "z\n",
       "M 1075 2569 \n",
       "Q 1288 2803 1556 2918 \n",
       "Q 1825 3034 2163 3034 \n",
       "Q 2859 3034 3264 2615 \n",
       "Q 3669 2197 3669 1472 \n",
       "Q 3669 763 3233 336 \n",
       "Q 2797 -91 2069 -91 \n",
       "Q 1278 -91 853 498 \n",
       "Q 428 1088 428 2181 \n",
       "Q 428 3406 931 4078 \n",
       "Q 1434 4750 2350 4750 \n",
       "Q 2597 4750 2869 4703 \n",
       "Q 3141 4656 3425 4563 \n",
       "L 3425 3794 \n",
       "L 3072 3794 \n",
       "Q 3034 4109 2831 4275 \n",
       "Q 2628 4441 2284 4441 \n",
       "Q 1678 4441 1381 3981 \n",
       "Q 1084 3522 1075 2569 \n",
       "z\n",
       "\" transform=\"scale(0.015625)\"/>\n",
       "       </defs>\n",
       "       <use xlink:href=\"#DejaVuSerif-36\" transform=\"translate(0 0.78125)\"/>\n",
       "      </g>\n",
       "     </g>\n",
       "    </g>\n",
       "    <g id=\"text_5\">\n",
       "     <!-- Density / (mol l$\\mathregular{^{-1}}$) -->\n",
       "     <g transform=\"translate(157.071713 426.675276) scale(0.18 -0.18)\">\n",
       "      <defs>\n",
       "       <path id=\"DejaVuSerif-44\" d=\"M 1581 331 \n",
       "L 2163 331 \n",
       "Q 3072 331 3558 850 \n",
       "Q 4044 1369 4044 2338 \n",
       "Q 4044 3306 3559 3818 \n",
       "Q 3075 4331 2163 4331 \n",
       "L 1581 4331 \n",
       "L 1581 331 \n",
       "z\n",
       "M 353 0 \n",
       "L 353 331 \n",
       "L 947 331 \n",
       "L 947 4331 \n",
       "L 353 4331 \n",
       "L 353 4666 \n",
       "L 2209 4666 \n",
       "Q 3416 4666 4089 4050 \n",
       "Q 4763 3434 4763 2338 \n",
       "Q 4763 1238 4088 619 \n",
       "Q 3413 0 2209 0 \n",
       "L 353 0 \n",
       "z\n",
       "\" transform=\"scale(0.015625)\"/>\n",
       "       <path id=\"DejaVuSerif-65\" d=\"M 3469 1600 \n",
       "L 991 1600 \n",
       "L 991 1575 \n",
       "Q 991 903 1244 561 \n",
       "Q 1497 219 1991 219 \n",
       "Q 2369 219 2611 417 \n",
       "Q 2853 616 2950 1006 \n",
       "L 3413 1006 \n",
       "Q 3275 459 2904 184 \n",
       "Q 2534 -91 1931 -91 \n",
       "Q 1203 -91 761 389 \n",
       "Q 319 869 319 1663 \n",
       "Q 319 2450 753 2931 \n",
       "Q 1188 3413 1894 3413 \n",
       "Q 2647 3413 3050 2948 \n",
       "Q 3453 2484 3469 1600 \n",
       "z\n",
       "M 2791 1931 \n",
       "Q 2772 2513 2545 2808 \n",
       "Q 2319 3103 1894 3103 \n",
       "Q 1497 3103 1269 2806 \n",
       "Q 1041 2509 991 1931 \n",
       "L 2791 1931 \n",
       "z\n",
       "\" transform=\"scale(0.015625)\"/>\n",
       "       <path id=\"DejaVuSerif-6e\" d=\"M 263 0 \n",
       "L 263 331 \n",
       "L 781 331 \n",
       "L 781 2988 \n",
       "L 231 2988 \n",
       "L 231 3322 \n",
       "L 1356 3322 \n",
       "L 1356 2731 \n",
       "Q 1516 3069 1770 3241 \n",
       "Q 2025 3413 2363 3413 \n",
       "Q 2913 3413 3172 3097 \n",
       "Q 3431 2781 3431 2113 \n",
       "L 3431 331 \n",
       "L 3944 331 \n",
       "L 3944 0 \n",
       "L 2356 0 \n",
       "L 2356 331 \n",
       "L 2853 331 \n",
       "L 2853 1931 \n",
       "Q 2853 2541 2703 2767 \n",
       "Q 2553 2994 2175 2994 \n",
       "Q 1775 2994 1565 2701 \n",
       "Q 1356 2409 1356 1850 \n",
       "L 1356 331 \n",
       "L 1856 331 \n",
       "L 1856 0 \n",
       "L 263 0 \n",
       "z\n",
       "\" transform=\"scale(0.015625)\"/>\n",
       "       <path id=\"DejaVuSerif-73\" d=\"M 359 184 \n",
       "L 359 959 \n",
       "L 691 959 \n",
       "Q 703 588 923 403 \n",
       "Q 1144 219 1575 219 \n",
       "Q 1963 219 2166 364 \n",
       "Q 2369 509 2369 788 \n",
       "Q 2369 1006 2220 1140 \n",
       "Q 2072 1275 1594 1428 \n",
       "L 1178 1569 \n",
       "Q 750 1706 558 1912 \n",
       "Q 366 2119 366 2438 \n",
       "Q 366 2894 700 3153 \n",
       "Q 1034 3413 1625 3413 \n",
       "Q 1888 3413 2178 3344 \n",
       "Q 2469 3275 2778 3144 \n",
       "L 2778 2419 \n",
       "L 2447 2419 \n",
       "Q 2434 2741 2221 2922 \n",
       "Q 2009 3103 1644 3103 \n",
       "Q 1281 3103 1095 2975 \n",
       "Q 909 2847 909 2591 \n",
       "Q 909 2381 1050 2254 \n",
       "Q 1191 2128 1613 1997 \n",
       "L 2069 1856 \n",
       "Q 2541 1709 2748 1489 \n",
       "Q 2956 1269 2956 922 \n",
       "Q 2956 450 2595 179 \n",
       "Q 2234 -91 1600 -91 \n",
       "Q 1278 -91 972 -22 \n",
       "Q 666 47 359 184 \n",
       "z\n",
       "\" transform=\"scale(0.015625)\"/>\n",
       "       <path id=\"DejaVuSerif-69\" d=\"M 622 4353 \n",
       "Q 622 4497 726 4603 \n",
       "Q 831 4709 978 4709 \n",
       "Q 1122 4709 1226 4603 \n",
       "Q 1331 4497 1331 4353 \n",
       "Q 1331 4206 1228 4103 \n",
       "Q 1125 4000 978 4000 \n",
       "Q 831 4000 726 4103 \n",
       "Q 622 4206 622 4353 \n",
       "z\n",
       "M 1356 331 \n",
       "L 1900 331 \n",
       "L 1900 0 \n",
       "L 231 0 \n",
       "L 231 331 \n",
       "L 781 331 \n",
       "L 781 2988 \n",
       "L 231 2988 \n",
       "L 231 3322 \n",
       "L 1356 3322 \n",
       "L 1356 331 \n",
       "z\n",
       "\" transform=\"scale(0.015625)\"/>\n",
       "       <path id=\"DejaVuSerif-74\" d=\"M 691 2988 \n",
       "L 184 2988 \n",
       "L 184 3322 \n",
       "L 691 3322 \n",
       "L 691 4353 \n",
       "L 1269 4353 \n",
       "L 1269 3322 \n",
       "L 2350 3322 \n",
       "L 2350 2988 \n",
       "L 1269 2988 \n",
       "L 1269 878 \n",
       "Q 1269 456 1350 337 \n",
       "Q 1431 219 1650 219 \n",
       "Q 1875 219 1978 351 \n",
       "Q 2081 484 2088 781 \n",
       "L 2522 781 \n",
       "Q 2497 328 2275 118 \n",
       "Q 2053 -91 1600 -91 \n",
       "Q 1103 -91 897 129 \n",
       "Q 691 350 691 878 \n",
       "L 691 2988 \n",
       "z\n",
       "\" transform=\"scale(0.015625)\"/>\n",
       "       <path id=\"DejaVuSerif-79\" d=\"M 1381 -609 \n",
       "L 1600 -56 \n",
       "L 359 2988 \n",
       "L -19 2988 \n",
       "L -19 3322 \n",
       "L 1509 3322 \n",
       "L 1509 2988 \n",
       "L 978 2988 \n",
       "L 1913 703 \n",
       "L 2847 2988 \n",
       "L 2350 2988 \n",
       "L 2350 3322 \n",
       "L 3597 3322 \n",
       "L 3597 2988 \n",
       "L 3225 2988 \n",
       "L 1703 -750 \n",
       "Q 1547 -1138 1356 -1280 \n",
       "Q 1166 -1422 819 -1422 \n",
       "Q 672 -1422 517 -1397 \n",
       "Q 363 -1372 206 -1325 \n",
       "L 206 -691 \n",
       "L 500 -691 \n",
       "Q 519 -903 608 -995 \n",
       "Q 697 -1088 884 -1088 \n",
       "Q 1056 -1088 1161 -992 \n",
       "Q 1266 -897 1381 -609 \n",
       "z\n",
       "\" transform=\"scale(0.015625)\"/>\n",
       "       <path id=\"DejaVuSerif-20\" transform=\"scale(0.015625)\"/>\n",
       "       <path id=\"DejaVuSerif-2f\" d=\"M 1656 4666 \n",
       "L 2156 4666 \n",
       "L 500 -594 \n",
       "L 0 -594 \n",
       "L 1656 4666 \n",
       "z\n",
       "\" transform=\"scale(0.015625)\"/>\n",
       "       <path id=\"DejaVuSerif-28\" d=\"M 2041 -997 \n",
       "Q 1281 -656 893 83 \n",
       "Q 506 822 506 1931 \n",
       "Q 506 3044 893 3783 \n",
       "Q 1281 4522 2041 4863 \n",
       "L 2041 4556 \n",
       "Q 1559 4225 1350 3623 \n",
       "Q 1141 3022 1141 1931 \n",
       "Q 1141 844 1350 242 \n",
       "Q 1559 -359 2041 -691 \n",
       "L 2041 -997 \n",
       "z\n",
       "\" transform=\"scale(0.015625)\"/>\n",
       "       <path id=\"DejaVuSerif-6d\" d=\"M 3316 2675 \n",
       "Q 3481 3041 3739 3227 \n",
       "Q 3997 3413 4341 3413 \n",
       "Q 4863 3413 5119 3089 \n",
       "Q 5375 2766 5375 2113 \n",
       "L 5375 331 \n",
       "L 5894 331 \n",
       "L 5894 0 \n",
       "L 4300 0 \n",
       "L 4300 331 \n",
       "L 4800 331 \n",
       "L 4800 2047 \n",
       "Q 4800 2556 4650 2772 \n",
       "Q 4500 2988 4153 2988 \n",
       "Q 3769 2988 3567 2697 \n",
       "Q 3366 2406 3366 1850 \n",
       "L 3366 331 \n",
       "L 3866 331 \n",
       "L 3866 0 \n",
       "L 2291 0 \n",
       "L 2291 331 \n",
       "L 2791 331 \n",
       "L 2791 2069 \n",
       "Q 2791 2566 2641 2777 \n",
       "Q 2491 2988 2144 2988 \n",
       "Q 1759 2988 1557 2697 \n",
       "Q 1356 2406 1356 1850 \n",
       "L 1356 331 \n",
       "L 1856 331 \n",
       "L 1856 0 \n",
       "L 263 0 \n",
       "L 263 331 \n",
       "L 781 331 \n",
       "L 781 2994 \n",
       "L 231 2994 \n",
       "L 231 3322 \n",
       "L 1356 3322 \n",
       "L 1356 2731 \n",
       "Q 1516 3063 1762 3238 \n",
       "Q 2009 3413 2322 3413 \n",
       "Q 2709 3413 2968 3220 \n",
       "Q 3228 3028 3316 2675 \n",
       "z\n",
       "\" transform=\"scale(0.015625)\"/>\n",
       "       <path id=\"DejaVuSerif-6f\" d=\"M 1925 219 \n",
       "Q 2388 219 2623 584 \n",
       "Q 2859 950 2859 1663 \n",
       "Q 2859 2375 2623 2739 \n",
       "Q 2388 3103 1925 3103 \n",
       "Q 1463 3103 1227 2739 \n",
       "Q 991 2375 991 1663 \n",
       "Q 991 950 1228 584 \n",
       "Q 1466 219 1925 219 \n",
       "z\n",
       "M 1925 -91 \n",
       "Q 1200 -91 759 389 \n",
       "Q 319 869 319 1663 \n",
       "Q 319 2456 758 2934 \n",
       "Q 1197 3413 1925 3413 \n",
       "Q 2653 3413 3092 2934 \n",
       "Q 3531 2456 3531 1663 \n",
       "Q 3531 869 3092 389 \n",
       "Q 2653 -91 1925 -91 \n",
       "z\n",
       "\" transform=\"scale(0.015625)\"/>\n",
       "       <path id=\"DejaVuSerif-6c\" d=\"M 1313 331 \n",
       "L 1856 331 \n",
       "L 1856 0 \n",
       "L 184 0 \n",
       "L 184 331 \n",
       "L 738 331 \n",
       "L 738 4531 \n",
       "L 184 4531 \n",
       "L 184 4863 \n",
       "L 1313 4863 \n",
       "L 1313 331 \n",
       "z\n",
       "\" transform=\"scale(0.015625)\"/>\n",
       "       <path id=\"DejaVuSerif-2212\" d=\"M 678 2259 \n",
       "L 4684 2259 \n",
       "L 4684 1753 \n",
       "L 678 1753 \n",
       "L 678 2259 \n",
       "z\n",
       "\" transform=\"scale(0.015625)\"/>\n",
       "       <path id=\"DejaVuSerif-31\" d=\"M 909 0 \n",
       "L 909 331 \n",
       "L 1722 331 \n",
       "L 1722 4213 \n",
       "L 781 3603 \n",
       "L 781 4013 \n",
       "L 1919 4750 \n",
       "L 2350 4750 \n",
       "L 2350 331 \n",
       "L 3163 331 \n",
       "L 3163 0 \n",
       "L 909 0 \n",
       "z\n",
       "\" transform=\"scale(0.015625)\"/>\n",
       "       <path id=\"DejaVuSerif-29\" d=\"M 453 -997 \n",
       "L 453 -691 \n",
       "Q 934 -359 1145 242 \n",
       "Q 1356 844 1356 1931 \n",
       "Q 1356 3022 1145 3623 \n",
       "Q 934 4225 453 4556 \n",
       "L 453 4863 \n",
       "Q 1216 4522 1603 3783 \n",
       "Q 1991 3044 1991 1931 \n",
       "Q 1991 822 1603 83 \n",
       "Q 1216 -656 453 -997 \n",
       "z\n",
       "\" transform=\"scale(0.015625)\"/>\n",
       "      </defs>\n",
       "      <use xlink:href=\"#DejaVuSerif-44\" transform=\"translate(0 0.7125)\"/>\n",
       "      <use xlink:href=\"#DejaVuSerif-65\" transform=\"translate(80.175781 0.7125)\"/>\n",
       "      <use xlink:href=\"#DejaVuSerif-6e\" transform=\"translate(139.355469 0.7125)\"/>\n",
       "      <use xlink:href=\"#DejaVuSerif-73\" transform=\"translate(203.759766 0.7125)\"/>\n",
       "      <use xlink:href=\"#DejaVuSerif-69\" transform=\"translate(255.078125 0.7125)\"/>\n",
       "      <use xlink:href=\"#DejaVuSerif-74\" transform=\"translate(287.060547 0.7125)\"/>\n",
       "      <use xlink:href=\"#DejaVuSerif-79\" transform=\"translate(327.246094 0.7125)\"/>\n",
       "      <use xlink:href=\"#DejaVuSerif-20\" transform=\"translate(383.740234 0.7125)\"/>\n",
       "      <use xlink:href=\"#DejaVuSerif-2f\" transform=\"translate(415.527344 0.7125)\"/>\n",
       "      <use xlink:href=\"#DejaVuSerif-20\" transform=\"translate(449.21875 0.7125)\"/>\n",
       "      <use xlink:href=\"#DejaVuSerif-28\" transform=\"translate(481.005859 0.7125)\"/>\n",
       "      <use xlink:href=\"#DejaVuSerif-6d\" transform=\"translate(520.019531 0.7125)\"/>\n",
       "      <use xlink:href=\"#DejaVuSerif-6f\" transform=\"translate(614.84375 0.7125)\"/>\n",
       "      <use xlink:href=\"#DejaVuSerif-6c\" transform=\"translate(675.048828 0.7125)\"/>\n",
       "      <use xlink:href=\"#DejaVuSerif-20\" transform=\"translate(707.03125 0.7125)\"/>\n",
       "      <use xlink:href=\"#DejaVuSerif-6c\" transform=\"translate(738.818359 0.7125)\"/>\n",
       "      <use xlink:href=\"#DejaVuSerif-2212\" transform=\"translate(771.709141 37.046875) scale(0.7)\"/>\n",
       "      <use xlink:href=\"#DejaVuSerif-31\" transform=\"translate(830.361484 37.046875) scale(0.7)\"/>\n",
       "      <use xlink:href=\"#DejaVuSerif-29\" transform=\"translate(877.49293 0.7125)\"/>\n",
       "     </g>\n",
       "    </g>\n",
       "   </g>\n",
       "   <g id=\"matplotlib.axis_2\">\n",
       "    <g id=\"ytick_1\">\n",
       "     <g id=\"line2d_9\">\n",
       "      <defs>\n",
       "       <path id=\"mb3a30afbaf\" d=\"M 0 0 \n",
       "L 2.5 0 \n",
       "\" style=\"stroke: #000000; stroke-width: 0.5\"/>\n",
       "      </defs>\n",
       "      <g>\n",
       "       <use xlink:href=\"#mb3a30afbaf\" x=\"47.912087\" y=\"391.541526\" style=\"stroke: #000000; stroke-width: 0.5\"/>\n",
       "      </g>\n",
       "     </g>\n",
       "     <g id=\"line2d_10\">\n",
       "      <defs>\n",
       "       <path id=\"m9e71717936\" d=\"M 0 0 \n",
       "L -2.5 0 \n",
       "\" style=\"stroke: #000000; stroke-width: 0.5\"/>\n",
       "      </defs>\n",
       "      <g>\n",
       "       <use xlink:href=\"#m9e71717936\" x=\"431.291339\" y=\"391.541526\" style=\"stroke: #000000; stroke-width: 0.5\"/>\n",
       "      </g>\n",
       "     </g>\n",
       "     <g id=\"text_6\">\n",
       "      <!-- $300$ -->\n",
       "      <g transform=\"translate(21.492087 396.100589) scale(0.12 -0.12)\">\n",
       "       <defs>\n",
       "        <path id=\"DejaVuSerif-33\" d=\"M 622 4469 \n",
       "Q 988 4606 1323 4678 \n",
       "Q 1659 4750 1953 4750 \n",
       "Q 2638 4750 3022 4454 \n",
       "Q 3406 4159 3406 3634 \n",
       "Q 3406 3213 3140 2930 \n",
       "Q 2875 2647 2388 2547 \n",
       "Q 2963 2466 3280 2130 \n",
       "Q 3597 1794 3597 1259 \n",
       "Q 3597 606 3158 257 \n",
       "Q 2719 -91 1894 -91 \n",
       "Q 1528 -91 1179 -12 \n",
       "Q 831 66 488 225 \n",
       "L 488 1131 \n",
       "L 838 1131 \n",
       "Q 869 681 1141 450 \n",
       "Q 1413 219 1906 219 \n",
       "Q 2384 219 2661 495 \n",
       "Q 2938 772 2938 1253 \n",
       "Q 2938 1803 2653 2086 \n",
       "Q 2369 2369 1819 2369 \n",
       "L 1522 2369 \n",
       "L 1522 2688 \n",
       "L 1678 2688 \n",
       "Q 2225 2688 2498 2914 \n",
       "Q 2772 3141 2772 3597 \n",
       "Q 2772 4006 2547 4223 \n",
       "Q 2322 4441 1900 4441 \n",
       "Q 1478 4441 1245 4241 \n",
       "Q 1013 4041 972 3647 \n",
       "L 622 3647 \n",
       "L 622 4469 \n",
       "z\n",
       "\" transform=\"scale(0.015625)\"/>\n",
       "       </defs>\n",
       "       <use xlink:href=\"#DejaVuSerif-33\" transform=\"translate(0 0.78125)\"/>\n",
       "       <use xlink:href=\"#DejaVuSerif-30\" transform=\"translate(63.623047 0.78125)\"/>\n",
       "       <use xlink:href=\"#DejaVuSerif-30\" transform=\"translate(127.246094 0.78125)\"/>\n",
       "      </g>\n",
       "     </g>\n",
       "    </g>\n",
       "    <g id=\"ytick_2\">\n",
       "     <g id=\"line2d_11\">\n",
       "      <g>\n",
       "       <use xlink:href=\"#mb3a30afbaf\" x=\"47.912087\" y=\"317.267641\" style=\"stroke: #000000; stroke-width: 0.5\"/>\n",
       "      </g>\n",
       "     </g>\n",
       "     <g id=\"line2d_12\">\n",
       "      <g>\n",
       "       <use xlink:href=\"#m9e71717936\" x=\"431.291339\" y=\"317.267641\" style=\"stroke: #000000; stroke-width: 0.5\"/>\n",
       "      </g>\n",
       "     </g>\n",
       "     <g id=\"text_7\">\n",
       "      <!-- $400$ -->\n",
       "      <g transform=\"translate(21.492087 321.826703) scale(0.12 -0.12)\">\n",
       "       <use xlink:href=\"#DejaVuSerif-34\" transform=\"translate(0 0.78125)\"/>\n",
       "       <use xlink:href=\"#DejaVuSerif-30\" transform=\"translate(63.623047 0.78125)\"/>\n",
       "       <use xlink:href=\"#DejaVuSerif-30\" transform=\"translate(127.246094 0.78125)\"/>\n",
       "      </g>\n",
       "     </g>\n",
       "    </g>\n",
       "    <g id=\"ytick_3\">\n",
       "     <g id=\"line2d_13\">\n",
       "      <g>\n",
       "       <use xlink:href=\"#mb3a30afbaf\" x=\"47.912087\" y=\"242.993755\" style=\"stroke: #000000; stroke-width: 0.5\"/>\n",
       "      </g>\n",
       "     </g>\n",
       "     <g id=\"line2d_14\">\n",
       "      <g>\n",
       "       <use xlink:href=\"#m9e71717936\" x=\"431.291339\" y=\"242.993755\" style=\"stroke: #000000; stroke-width: 0.5\"/>\n",
       "      </g>\n",
       "     </g>\n",
       "     <g id=\"text_8\">\n",
       "      <!-- $500$ -->\n",
       "      <g transform=\"translate(21.492087 247.552818) scale(0.12 -0.12)\">\n",
       "       <defs>\n",
       "        <path id=\"DejaVuSerif-35\" d=\"M 3219 4666 \n",
       "L 3219 4153 \n",
       "L 1081 4153 \n",
       "L 1081 2816 \n",
       "Q 1244 2928 1461 2984 \n",
       "Q 1678 3041 1947 3041 \n",
       "Q 2703 3041 3140 2622 \n",
       "Q 3578 2203 3578 1478 \n",
       "Q 3578 738 3136 323 \n",
       "Q 2694 -91 1894 -91 \n",
       "Q 1572 -91 1234 -12 \n",
       "Q 897 66 544 225 \n",
       "L 544 1131 \n",
       "L 897 1131 \n",
       "Q 925 688 1179 453 \n",
       "Q 1434 219 1894 219 \n",
       "Q 2388 219 2653 544 \n",
       "Q 2919 869 2919 1478 \n",
       "Q 2919 2084 2655 2407 \n",
       "Q 2391 2731 1894 2731 \n",
       "Q 1613 2731 1398 2631 \n",
       "Q 1184 2531 1019 2322 \n",
       "L 750 2322 \n",
       "L 750 4666 \n",
       "L 3219 4666 \n",
       "z\n",
       "\" transform=\"scale(0.015625)\"/>\n",
       "       </defs>\n",
       "       <use xlink:href=\"#DejaVuSerif-35\" transform=\"translate(0 0.78125)\"/>\n",
       "       <use xlink:href=\"#DejaVuSerif-30\" transform=\"translate(63.623047 0.78125)\"/>\n",
       "       <use xlink:href=\"#DejaVuSerif-30\" transform=\"translate(127.246094 0.78125)\"/>\n",
       "      </g>\n",
       "     </g>\n",
       "    </g>\n",
       "    <g id=\"ytick_4\">\n",
       "     <g id=\"line2d_15\">\n",
       "      <g>\n",
       "       <use xlink:href=\"#mb3a30afbaf\" x=\"47.912087\" y=\"168.71987\" style=\"stroke: #000000; stroke-width: 0.5\"/>\n",
       "      </g>\n",
       "     </g>\n",
       "     <g id=\"line2d_16\">\n",
       "      <g>\n",
       "       <use xlink:href=\"#m9e71717936\" x=\"431.291339\" y=\"168.71987\" style=\"stroke: #000000; stroke-width: 0.5\"/>\n",
       "      </g>\n",
       "     </g>\n",
       "     <g id=\"text_9\">\n",
       "      <!-- $600$ -->\n",
       "      <g transform=\"translate(21.492087 173.278932) scale(0.12 -0.12)\">\n",
       "       <use xlink:href=\"#DejaVuSerif-36\" transform=\"translate(0 0.78125)\"/>\n",
       "       <use xlink:href=\"#DejaVuSerif-30\" transform=\"translate(63.623047 0.78125)\"/>\n",
       "       <use xlink:href=\"#DejaVuSerif-30\" transform=\"translate(127.246094 0.78125)\"/>\n",
       "      </g>\n",
       "     </g>\n",
       "    </g>\n",
       "    <g id=\"ytick_5\">\n",
       "     <g id=\"line2d_17\">\n",
       "      <g>\n",
       "       <use xlink:href=\"#mb3a30afbaf\" x=\"47.912087\" y=\"94.445984\" style=\"stroke: #000000; stroke-width: 0.5\"/>\n",
       "      </g>\n",
       "     </g>\n",
       "     <g id=\"line2d_18\">\n",
       "      <g>\n",
       "       <use xlink:href=\"#m9e71717936\" x=\"431.291339\" y=\"94.445984\" style=\"stroke: #000000; stroke-width: 0.5\"/>\n",
       "      </g>\n",
       "     </g>\n",
       "     <g id=\"text_10\">\n",
       "      <!-- $700$ -->\n",
       "      <g transform=\"translate(21.492087 99.005047) scale(0.12 -0.12)\">\n",
       "       <defs>\n",
       "        <path id=\"DejaVuSerif-37\" d=\"M 3609 4347 \n",
       "L 1784 0 \n",
       "L 1319 0 \n",
       "L 3059 4153 \n",
       "L 903 4153 \n",
       "L 903 3578 \n",
       "L 538 3578 \n",
       "L 538 4666 \n",
       "L 3609 4666 \n",
       "L 3609 4347 \n",
       "z\n",
       "\" transform=\"scale(0.015625)\"/>\n",
       "       </defs>\n",
       "       <use xlink:href=\"#DejaVuSerif-37\" transform=\"translate(0 0.78125)\"/>\n",
       "       <use xlink:href=\"#DejaVuSerif-30\" transform=\"translate(63.623047 0.78125)\"/>\n",
       "       <use xlink:href=\"#DejaVuSerif-30\" transform=\"translate(127.246094 0.78125)\"/>\n",
       "      </g>\n",
       "     </g>\n",
       "    </g>\n",
       "    <g id=\"ytick_6\">\n",
       "     <g id=\"line2d_19\">\n",
       "      <g>\n",
       "       <use xlink:href=\"#mb3a30afbaf\" x=\"47.912087\" y=\"20.172099\" style=\"stroke: #000000; stroke-width: 0.5\"/>\n",
       "      </g>\n",
       "     </g>\n",
       "     <g id=\"line2d_20\">\n",
       "      <g>\n",
       "       <use xlink:href=\"#m9e71717936\" x=\"431.291339\" y=\"20.172099\" style=\"stroke: #000000; stroke-width: 0.5\"/>\n",
       "      </g>\n",
       "     </g>\n",
       "     <g id=\"text_11\">\n",
       "      <!-- $800$ -->\n",
       "      <g transform=\"translate(21.492087 24.731161) scale(0.12 -0.12)\">\n",
       "       <defs>\n",
       "        <path id=\"DejaVuSerif-38\" d=\"M 2981 1275 \n",
       "Q 2981 1775 2732 2051 \n",
       "Q 2484 2328 2034 2328 \n",
       "Q 1584 2328 1336 2051 \n",
       "Q 1088 1775 1088 1275 \n",
       "Q 1088 772 1336 495 \n",
       "Q 1584 219 2034 219 \n",
       "Q 2484 219 2732 495 \n",
       "Q 2981 772 2981 1275 \n",
       "z\n",
       "M 2853 3541 \n",
       "Q 2853 3966 2637 4203 \n",
       "Q 2422 4441 2034 4441 \n",
       "Q 1650 4441 1433 4203 \n",
       "Q 1216 3966 1216 3541 \n",
       "Q 1216 3113 1433 2875 \n",
       "Q 1650 2638 2034 2638 \n",
       "Q 2422 2638 2637 2875 \n",
       "Q 2853 3113 2853 3541 \n",
       "z\n",
       "M 2516 2484 \n",
       "Q 3047 2413 3344 2092 \n",
       "Q 3641 1772 3641 1275 \n",
       "Q 3641 619 3225 264 \n",
       "Q 2809 -91 2034 -91 \n",
       "Q 1263 -91 845 264 \n",
       "Q 428 619 428 1275 \n",
       "Q 428 1772 725 2092 \n",
       "Q 1022 2413 1556 2484 \n",
       "Q 1084 2569 832 2842 \n",
       "Q 581 3116 581 3541 \n",
       "Q 581 4103 968 4426 \n",
       "Q 1356 4750 2034 4750 \n",
       "Q 2713 4750 3100 4426 \n",
       "Q 3488 4103 3488 3541 \n",
       "Q 3488 3116 3236 2842 \n",
       "Q 2984 2569 2516 2484 \n",
       "z\n",
       "\" transform=\"scale(0.015625)\"/>\n",
       "       </defs>\n",
       "       <use xlink:href=\"#DejaVuSerif-38\" transform=\"translate(0 0.78125)\"/>\n",
       "       <use xlink:href=\"#DejaVuSerif-30\" transform=\"translate(63.623047 0.78125)\"/>\n",
       "       <use xlink:href=\"#DejaVuSerif-30\" transform=\"translate(127.246094 0.78125)\"/>\n",
       "      </g>\n",
       "     </g>\n",
       "    </g>\n",
       "    <g id=\"text_12\">\n",
       "     <!-- Temperature / K -->\n",
       "     <g transform=\"translate(13.748649 280.298062) rotate(-90) scale(0.18 -0.18)\">\n",
       "      <defs>\n",
       "       <path id=\"DejaVuSerif-54\" d=\"M 1222 0 \n",
       "L 1222 331 \n",
       "L 1819 331 \n",
       "L 1819 4294 \n",
       "L 447 4294 \n",
       "L 447 3566 \n",
       "L 63 3566 \n",
       "L 63 4666 \n",
       "L 4206 4666 \n",
       "L 4206 3566 \n",
       "L 3822 3566 \n",
       "L 3822 4294 \n",
       "L 2450 4294 \n",
       "L 2450 331 \n",
       "L 3047 331 \n",
       "L 3047 0 \n",
       "L 1222 0 \n",
       "z\n",
       "\" transform=\"scale(0.015625)\"/>\n",
       "       <path id=\"DejaVuSerif-70\" d=\"M 1313 1825 \n",
       "L 1313 1497 \n",
       "Q 1313 897 1542 583 \n",
       "Q 1772 269 2209 269 \n",
       "Q 2650 269 2876 622 \n",
       "Q 3103 975 3103 1663 \n",
       "Q 3103 2353 2876 2703 \n",
       "Q 2650 3053 2209 3053 \n",
       "Q 1772 3053 1542 2737 \n",
       "Q 1313 2422 1313 1825 \n",
       "z\n",
       "M 738 2988 \n",
       "L 184 2988 \n",
       "L 184 3322 \n",
       "L 1313 3322 \n",
       "L 1313 2803 \n",
       "Q 1481 3116 1742 3264 \n",
       "Q 2003 3413 2388 3413 \n",
       "Q 3000 3413 3387 2928 \n",
       "Q 3775 2444 3775 1663 \n",
       "Q 3775 881 3387 395 \n",
       "Q 3000 -91 2388 -91 \n",
       "Q 2003 -91 1742 57 \n",
       "Q 1481 206 1313 519 \n",
       "L 1313 -997 \n",
       "L 1856 -997 \n",
       "L 1856 -1331 \n",
       "L 184 -1331 \n",
       "L 184 -997 \n",
       "L 738 -997 \n",
       "L 738 2988 \n",
       "z\n",
       "\" transform=\"scale(0.015625)\"/>\n",
       "       <path id=\"DejaVuSerif-72\" d=\"M 3059 3328 \n",
       "L 3059 2497 \n",
       "L 2728 2497 \n",
       "Q 2713 2744 2591 2866 \n",
       "Q 2469 2988 2234 2988 \n",
       "Q 1809 2988 1582 2694 \n",
       "Q 1356 2400 1356 1850 \n",
       "L 1356 331 \n",
       "L 2022 331 \n",
       "L 2022 0 \n",
       "L 263 0 \n",
       "L 263 331 \n",
       "L 781 331 \n",
       "L 781 2994 \n",
       "L 231 2994 \n",
       "L 231 3322 \n",
       "L 1356 3322 \n",
       "L 1356 2731 \n",
       "Q 1525 3078 1790 3245 \n",
       "Q 2056 3413 2438 3413 \n",
       "Q 2578 3413 2733 3391 \n",
       "Q 2888 3369 3059 3328 \n",
       "z\n",
       "\" transform=\"scale(0.015625)\"/>\n",
       "       <path id=\"DejaVuSerif-61\" d=\"M 2547 1044 \n",
       "L 2547 1747 \n",
       "L 1806 1747 \n",
       "Q 1378 1747 1168 1562 \n",
       "Q 959 1378 959 997 \n",
       "Q 959 650 1171 447 \n",
       "Q 1384 244 1747 244 \n",
       "Q 2106 244 2326 466 \n",
       "Q 2547 688 2547 1044 \n",
       "z\n",
       "M 3122 2075 \n",
       "L 3122 331 \n",
       "L 3634 331 \n",
       "L 3634 0 \n",
       "L 2547 0 \n",
       "L 2547 359 \n",
       "Q 2356 128 2106 18 \n",
       "Q 1856 -91 1522 -91 \n",
       "Q 969 -91 644 203 \n",
       "Q 319 497 319 997 \n",
       "Q 319 1513 691 1797 \n",
       "Q 1063 2081 1741 2081 \n",
       "L 2547 2081 \n",
       "L 2547 2309 \n",
       "Q 2547 2688 2317 2895 \n",
       "Q 2088 3103 1672 3103 \n",
       "Q 1328 3103 1125 2947 \n",
       "Q 922 2791 872 2484 \n",
       "L 575 2484 \n",
       "L 575 3156 \n",
       "Q 875 3284 1158 3348 \n",
       "Q 1441 3413 1709 3413 \n",
       "Q 2400 3413 2761 3070 \n",
       "Q 3122 2728 3122 2075 \n",
       "z\n",
       "\" transform=\"scale(0.015625)\"/>\n",
       "       <path id=\"DejaVuSerif-75\" d=\"M 2266 3322 \n",
       "L 3341 3322 \n",
       "L 3341 331 \n",
       "L 3884 331 \n",
       "L 3884 0 \n",
       "L 2766 0 \n",
       "L 2766 588 \n",
       "Q 2606 256 2353 82 \n",
       "Q 2100 -91 1766 -91 \n",
       "Q 1213 -91 952 223 \n",
       "Q 691 538 691 1209 \n",
       "L 691 2988 \n",
       "L 172 2988 \n",
       "L 172 3322 \n",
       "L 1269 3322 \n",
       "L 1269 1388 \n",
       "Q 1269 781 1417 556 \n",
       "Q 1566 331 1947 331 \n",
       "Q 2347 331 2556 625 \n",
       "Q 2766 919 2766 1478 \n",
       "L 2766 2988 \n",
       "L 2266 2988 \n",
       "L 2266 3322 \n",
       "z\n",
       "\" transform=\"scale(0.015625)\"/>\n",
       "       <path id=\"DejaVuSerif-4b\" d=\"M 353 0 \n",
       "L 353 331 \n",
       "L 947 331 \n",
       "L 947 4331 \n",
       "L 353 4331 \n",
       "L 353 4666 \n",
       "L 2175 4666 \n",
       "L 2175 4331 \n",
       "L 1581 4331 \n",
       "L 1581 2566 \n",
       "L 3591 4331 \n",
       "L 3084 4331 \n",
       "L 3084 4666 \n",
       "L 4634 4666 \n",
       "L 4634 4331 \n",
       "L 4109 4331 \n",
       "L 2106 2572 \n",
       "L 4347 331 \n",
       "L 4878 331 \n",
       "L 4878 0 \n",
       "L 3794 0 \n",
       "L 1581 2216 \n",
       "L 1581 331 \n",
       "L 2175 331 \n",
       "L 2175 0 \n",
       "L 353 0 \n",
       "z\n",
       "\" transform=\"scale(0.015625)\"/>\n",
       "      </defs>\n",
       "      <use xlink:href=\"#DejaVuSerif-54\"/>\n",
       "      <use xlink:href=\"#DejaVuSerif-65\" x=\"58.949219\"/>\n",
       "      <use xlink:href=\"#DejaVuSerif-6d\" x=\"118.128906\"/>\n",
       "      <use xlink:href=\"#DejaVuSerif-70\" x=\"212.953125\"/>\n",
       "      <use xlink:href=\"#DejaVuSerif-65\" x=\"276.966797\"/>\n",
       "      <use xlink:href=\"#DejaVuSerif-72\" x=\"336.146484\"/>\n",
       "      <use xlink:href=\"#DejaVuSerif-61\" x=\"383.949219\"/>\n",
       "      <use xlink:href=\"#DejaVuSerif-74\" x=\"443.568359\"/>\n",
       "      <use xlink:href=\"#DejaVuSerif-75\" x=\"483.753906\"/>\n",
       "      <use xlink:href=\"#DejaVuSerif-72\" x=\"548.158203\"/>\n",
       "      <use xlink:href=\"#DejaVuSerif-65\" x=\"595.960938\"/>\n",
       "      <use xlink:href=\"#DejaVuSerif-20\" x=\"655.140625\"/>\n",
       "      <use xlink:href=\"#DejaVuSerif-2f\" x=\"686.927734\"/>\n",
       "      <use xlink:href=\"#DejaVuSerif-20\" x=\"720.619141\"/>\n",
       "      <use xlink:href=\"#DejaVuSerif-4b\" x=\"752.40625\"/>\n",
       "     </g>\n",
       "    </g>\n",
       "   </g>\n",
       "   <g id=\"line2d_21\">\n",
       "    <path d=\"M 407.056138 404.056676 \n",
       "L 395.619726 374.693993 \n",
       "L 385.173289 348.477312 \n",
       "L 375.394881 324.532743 \n",
       "L 366.16369 302.510731 \n",
       "L 357.42849 282.236497 \n",
       "L 349.057467 263.360487 \n",
       "L 341.067455 245.882699 \n",
       "L 333.39561 229.628357 \n",
       "L 326.058902 214.59746 \n",
       "L 318.98831 200.61523 \n",
       "L 312.199239 187.681667 \n",
       "L 305.711154 175.796772 \n",
       "L 299.446993 164.785765 \n",
       "L 293.423732 154.648649 \n",
       "L 287.66338 145.385421 \n",
       "L 282.077319 136.821305 \n",
       "L 276.683078 128.956301 \n",
       "L 271.503863 121.790408 \n",
       "L 266.432594 115.148849 \n",
       "L 261.483295 109.031623 \n",
       "L 256.675354 103.438731 \n",
       "L 252.034952 98.370173 \n",
       "L 247.419942 93.65117 \n",
       "L 242.837077 89.281724 \n",
       "L 238.297301 85.261832 \n",
       "L 233.817303 81.591497 \n",
       "L 229.421499 78.270717 \n",
       "L 224.881083 75.124716 \n",
       "L 220.457706 72.32827 \n",
       "L 215.8881 69.706602 \n",
       "L 211.502847 67.434489 \n",
       "L 207.000003 65.337155 \n",
       "L 202.367663 63.414598 \n",
       "L 197.592694 61.666819 \n",
       "L 192.659117 60.093819 \n",
       "L 187.543743 58.695596 \n",
       "L 182.204537 57.47215 \n",
       "L 176.546978 56.423483 \n",
       "L 171.735634 55.724372 \n",
       "L 166.926809 55.200038 \n",
       "L 162.085619 54.850482 \n",
       "L 155.630071 54.675704 \n",
       "L 155.667172 54.675704 \n",
       "L 146.910322 55.02526 \n",
       "L 142.101107 55.549594 \n",
       "L 137.814795 56.248705 \n",
       "L 133.828108 57.122595 \n",
       "L 130.071695 58.171262 \n",
       "L 126.515095 59.394707 \n",
       "L 123.141414 60.79293 \n",
       "L 119.939296 62.365931 \n",
       "L 116.899866 64.11371 \n",
       "L 114.01543 66.036266 \n",
       "L 111.278908 68.133601 \n",
       "L 108.683595 70.405713 \n",
       "L 106.223068 72.852603 \n",
       "L 103.89117 75.474271 \n",
       "L 101.552181 78.445495 \n",
       "L 99.358877 81.591497 \n",
       "L 97.198279 85.087055 \n",
       "L 95.095029 88.932168 \n",
       "L 93.067169 93.126837 \n",
       "L 91.127605 97.671062 \n",
       "L 89.285329 102.564842 \n",
       "L 87.492125 107.982956 \n",
       "L 85.819447 113.750626 \n",
       "L 84.22597 120.04263 \n",
       "L 82.691543 127.033745 \n",
       "L 81.273528 134.549193 \n",
       "L 79.952828 142.763753 \n",
       "L 78.746167 151.677425 \n",
       "L 77.647711 161.464986 \n",
       "L 76.661148 172.301214 \n",
       "L 75.807353 184.18611 \n",
       "L 75.08207 197.469228 \n",
       "L 74.491656 212.500125 \n",
       "L 74.04116 229.803135 \n",
       "L 73.725599 250.77648 \n",
       "L 73.540045 278.915718 \n",
       "L 73.473553 328.552634 \n",
       "L 73.470704 404.056676 \n",
       "L 73.470704 404.056676 \n",
       "\" clip-path=\"url(#p4904025987)\" style=\"fill: none; stroke: #08298a\"/>\n",
       "   </g>\n",
       "   <g id=\"patch_3\">\n",
       "    <path d=\"M 47.912087 391.541526 \n",
       "L 47.912087 20.172099 \n",
       "\" style=\"fill: none; stroke: #000000; stroke-linejoin: miter; stroke-linecap: square\"/>\n",
       "   </g>\n",
       "   <g id=\"patch_4\">\n",
       "    <path d=\"M 431.291339 391.541526 \n",
       "L 431.291339 20.172099 \n",
       "\" style=\"fill: none; stroke: #000000; stroke-linejoin: miter; stroke-linecap: square\"/>\n",
       "   </g>\n",
       "   <g id=\"patch_5\">\n",
       "    <path d=\"M 47.912087 391.541526 \n",
       "L 431.291339 391.541526 \n",
       "\" style=\"fill: none; stroke: #000000; stroke-linejoin: miter; stroke-linecap: square\"/>\n",
       "   </g>\n",
       "   <g id=\"patch_6\">\n",
       "    <path d=\"M 47.912087 20.172099 \n",
       "L 431.291339 20.172099 \n",
       "\" style=\"fill: none; stroke: #000000; stroke-linejoin: miter; stroke-linecap: square\"/>\n",
       "   </g>\n",
       "   <g id=\"text_13\">\n",
       "    <!-- n-Octane -->\n",
       "    <g transform=\"translate(198.238275 14.172099) scale(0.18 -0.18)\">\n",
       "     <defs>\n",
       "      <path id=\"DejaVuSerif-2d\" d=\"M 281 1959 \n",
       "L 1881 1959 \n",
       "L 1881 1472 \n",
       "L 281 1472 \n",
       "L 281 1959 \n",
       "z\n",
       "\" transform=\"scale(0.015625)\"/>\n",
       "      <path id=\"DejaVuSerif-4f\" d=\"M 2625 244 \n",
       "Q 3391 244 3781 770 \n",
       "Q 4172 1297 4172 2328 \n",
       "Q 4172 3363 3781 3889 \n",
       "Q 3391 4416 2625 4416 \n",
       "Q 1856 4416 1465 3889 \n",
       "Q 1075 3363 1075 2328 \n",
       "Q 1075 1297 1465 770 \n",
       "Q 1856 244 2625 244 \n",
       "z\n",
       "M 2625 -91 \n",
       "Q 2150 -91 1751 65 \n",
       "Q 1353 222 1050 525 \n",
       "Q 700 875 529 1319 \n",
       "Q 359 1763 359 2328 \n",
       "Q 359 2894 529 3339 \n",
       "Q 700 3784 1050 4134 \n",
       "Q 1356 4441 1750 4595 \n",
       "Q 2144 4750 2625 4750 \n",
       "Q 3641 4750 4266 4084 \n",
       "Q 4891 3419 4891 2328 \n",
       "Q 4891 1769 4719 1320 \n",
       "Q 4547 872 4197 525 \n",
       "Q 3891 219 3497 64 \n",
       "Q 3103 -91 2625 -91 \n",
       "z\n",
       "\" transform=\"scale(0.015625)\"/>\n",
       "      <path id=\"DejaVuSerif-63\" d=\"M 3291 997 \n",
       "Q 3169 466 2822 187 \n",
       "Q 2475 -91 1925 -91 \n",
       "Q 1200 -91 759 389 \n",
       "Q 319 869 319 1663 \n",
       "Q 319 2459 759 2936 \n",
       "Q 1200 3413 1925 3413 \n",
       "Q 2241 3413 2553 3339 \n",
       "Q 2866 3266 3181 3116 \n",
       "L 3181 2266 \n",
       "L 2847 2266 \n",
       "Q 2781 2703 2561 2903 \n",
       "Q 2341 3103 1931 3103 \n",
       "Q 1466 3103 1228 2742 \n",
       "Q 991 2381 991 1663 \n",
       "Q 991 944 1227 581 \n",
       "Q 1463 219 1931 219 \n",
       "Q 2303 219 2525 412 \n",
       "Q 2747 606 2828 997 \n",
       "L 3291 997 \n",
       "z\n",
       "\" transform=\"scale(0.015625)\"/>\n",
       "     </defs>\n",
       "     <use xlink:href=\"#DejaVuSerif-6e\"/>\n",
       "     <use xlink:href=\"#DejaVuSerif-2d\" x=\"64.404297\"/>\n",
       "     <use xlink:href=\"#DejaVuSerif-4f\" x=\"98.193359\"/>\n",
       "     <use xlink:href=\"#DejaVuSerif-63\" x=\"180.175781\"/>\n",
       "     <use xlink:href=\"#DejaVuSerif-74\" x=\"236.181641\"/>\n",
       "     <use xlink:href=\"#DejaVuSerif-61\" x=\"276.367188\"/>\n",
       "     <use xlink:href=\"#DejaVuSerif-6e\" x=\"335.986328\"/>\n",
       "     <use xlink:href=\"#DejaVuSerif-65\" x=\"400.390625\"/>\n",
       "    </g>\n",
       "   </g>\n",
       "   <g id=\"legend_1\">\n",
       "    <g id=\"patch_7\">\n",
       "     <path d=\"M 210.303839 74.599599 \n",
       "L 425.291339 74.599599 \n",
       "L 425.291339 26.172099 \n",
       "L 210.303839 26.172099 \n",
       "z\n",
       "\" style=\"fill: #ffffff; stroke: #000000; stroke-linejoin: miter\"/>\n",
       "    </g>\n",
       "    <g id=\"line2d_22\">\n",
       "     <path d=\"M 219.903839 40.690224 \n",
       "L 231.903839 40.690224 \n",
       "L 243.903839 40.690224 \n",
       "\" style=\"fill: none\"/>\n",
       "     <defs>\n",
       "      <path id=\"mcd85ceca40\" d=\"M 0 4.8 \n",
       "C 1.272975 4.8 2.493983 4.294242 3.394113 3.394113 \n",
       "C 4.294242 2.493983 4.8 1.272975 4.8 0 \n",
       "C 4.8 -1.272975 4.294242 -2.493983 3.394113 -3.394113 \n",
       "C 2.493983 -4.294242 1.272975 -4.8 0 -4.8 \n",
       "C -1.272975 -4.8 -2.493983 -4.294242 -3.394113 -3.394113 \n",
       "C -4.294242 -2.493983 -4.8 -1.272975 -4.8 0 \n",
       "C -4.8 1.272975 -4.294242 2.493983 -3.394113 3.394113 \n",
       "C -2.493983 4.294242 -1.272975 4.8 0 4.8 \n",
       "z\n",
       "\" style=\"stroke: #000000; stroke-opacity: 0; stroke-width: 1.92\"/>\n",
       "     </defs>\n",
       "     <g>\n",
       "      <use xlink:href=\"#mcd85ceca40\" x=\"231.903839\" y=\"40.690224\" style=\"fill: #5dc90a; stroke: #000000; stroke-opacity: 0; stroke-width: 1.92\"/>\n",
       "     </g>\n",
       "    </g>\n",
       "    <g id=\"text_14\">\n",
       "     <!-- Pseudo-Experimental Data -->\n",
       "     <g transform=\"translate(253.503839 44.890224) scale(0.12 -0.12)\">\n",
       "      <defs>\n",
       "       <path id=\"DejaVuSerif-50\" d=\"M 1581 2375 \n",
       "L 2406 2375 \n",
       "Q 2872 2375 3115 2626 \n",
       "Q 3359 2878 3359 3353 \n",
       "Q 3359 3831 3115 4081 \n",
       "Q 2872 4331 2406 4331 \n",
       "L 1581 4331 \n",
       "L 1581 2375 \n",
       "z\n",
       "M 353 0 \n",
       "L 353 331 \n",
       "L 947 331 \n",
       "L 947 4331 \n",
       "L 353 4331 \n",
       "L 353 4666 \n",
       "L 2559 4666 \n",
       "Q 3259 4666 3668 4311 \n",
       "Q 4078 3956 4078 3353 \n",
       "Q 4078 2753 3668 2397 \n",
       "Q 3259 2041 2559 2041 \n",
       "L 1581 2041 \n",
       "L 1581 331 \n",
       "L 2303 331 \n",
       "L 2303 0 \n",
       "L 353 0 \n",
       "z\n",
       "\" transform=\"scale(0.015625)\"/>\n",
       "       <path id=\"DejaVuSerif-64\" d=\"M 3359 331 \n",
       "L 3909 331 \n",
       "L 3909 0 \n",
       "L 2784 0 \n",
       "L 2784 519 \n",
       "Q 2616 206 2355 57 \n",
       "Q 2094 -91 1709 -91 \n",
       "Q 1097 -91 708 395 \n",
       "Q 319 881 319 1663 \n",
       "Q 319 2444 706 2928 \n",
       "Q 1094 3413 1709 3413 \n",
       "Q 2094 3413 2355 3264 \n",
       "Q 2616 3116 2784 2803 \n",
       "L 2784 4531 \n",
       "L 2241 4531 \n",
       "L 2241 4863 \n",
       "L 3359 4863 \n",
       "L 3359 331 \n",
       "z\n",
       "M 2784 1497 \n",
       "L 2784 1825 \n",
       "Q 2784 2422 2554 2737 \n",
       "Q 2325 3053 1888 3053 \n",
       "Q 1444 3053 1217 2703 \n",
       "Q 991 2353 991 1663 \n",
       "Q 991 975 1217 622 \n",
       "Q 1444 269 1888 269 \n",
       "Q 2325 269 2554 583 \n",
       "Q 2784 897 2784 1497 \n",
       "z\n",
       "\" transform=\"scale(0.015625)\"/>\n",
       "       <path id=\"DejaVuSerif-45\" d=\"M 353 0 \n",
       "L 353 331 \n",
       "L 947 331 \n",
       "L 947 4331 \n",
       "L 353 4331 \n",
       "L 353 4666 \n",
       "L 4109 4666 \n",
       "L 4109 3628 \n",
       "L 3725 3628 \n",
       "L 3725 4281 \n",
       "L 1581 4281 \n",
       "L 1581 2719 \n",
       "L 3109 2719 \n",
       "L 3109 3303 \n",
       "L 3494 3303 \n",
       "L 3494 1753 \n",
       "L 3109 1753 \n",
       "L 3109 2338 \n",
       "L 1581 2338 \n",
       "L 1581 384 \n",
       "L 3775 384 \n",
       "L 3775 1038 \n",
       "L 4159 1038 \n",
       "L 4159 0 \n",
       "L 353 0 \n",
       "z\n",
       "\" transform=\"scale(0.015625)\"/>\n",
       "       <path id=\"DejaVuSerif-78\" d=\"M 1863 2028 \n",
       "L 2559 2988 \n",
       "L 2113 2988 \n",
       "L 2113 3322 \n",
       "L 3391 3322 \n",
       "L 3391 2988 \n",
       "L 2950 2988 \n",
       "L 2059 1759 \n",
       "L 3097 331 \n",
       "L 3531 331 \n",
       "L 3531 0 \n",
       "L 1997 0 \n",
       "L 1997 331 \n",
       "L 2419 331 \n",
       "L 1697 1325 \n",
       "L 972 331 \n",
       "L 1403 331 \n",
       "L 1403 0 \n",
       "L 141 0 \n",
       "L 141 331 \n",
       "L 581 331 \n",
       "L 1497 1594 \n",
       "L 488 2988 \n",
       "L 78 2988 \n",
       "L 78 3322 \n",
       "L 1563 3322 \n",
       "L 1563 2988 \n",
       "L 1166 2988 \n",
       "L 1863 2028 \n",
       "z\n",
       "\" transform=\"scale(0.015625)\"/>\n",
       "      </defs>\n",
       "      <use xlink:href=\"#DejaVuSerif-50\"/>\n",
       "      <use xlink:href=\"#DejaVuSerif-73\" x=\"64.660156\"/>\n",
       "      <use xlink:href=\"#DejaVuSerif-65\" x=\"115.978516\"/>\n",
       "      <use xlink:href=\"#DejaVuSerif-75\" x=\"175.158203\"/>\n",
       "      <use xlink:href=\"#DejaVuSerif-64\" x=\"239.5625\"/>\n",
       "      <use xlink:href=\"#DejaVuSerif-6f\" x=\"303.576172\"/>\n",
       "      <use xlink:href=\"#DejaVuSerif-2d\" x=\"363.78125\"/>\n",
       "      <use xlink:href=\"#DejaVuSerif-45\" x=\"397.570312\"/>\n",
       "      <use xlink:href=\"#DejaVuSerif-78\" x=\"470.568359\"/>\n",
       "      <use xlink:href=\"#DejaVuSerif-70\" x=\"526.964844\"/>\n",
       "      <use xlink:href=\"#DejaVuSerif-65\" x=\"590.978516\"/>\n",
       "      <use xlink:href=\"#DejaVuSerif-72\" x=\"650.158203\"/>\n",
       "      <use xlink:href=\"#DejaVuSerif-69\" x=\"697.960938\"/>\n",
       "      <use xlink:href=\"#DejaVuSerif-6d\" x=\"729.943359\"/>\n",
       "      <use xlink:href=\"#DejaVuSerif-65\" x=\"824.767578\"/>\n",
       "      <use xlink:href=\"#DejaVuSerif-6e\" x=\"883.947266\"/>\n",
       "      <use xlink:href=\"#DejaVuSerif-74\" x=\"948.351562\"/>\n",
       "      <use xlink:href=\"#DejaVuSerif-61\" x=\"988.537109\"/>\n",
       "      <use xlink:href=\"#DejaVuSerif-6c\" x=\"1048.15625\"/>\n",
       "      <use xlink:href=\"#DejaVuSerif-20\" x=\"1080.138672\"/>\n",
       "      <use xlink:href=\"#DejaVuSerif-44\" x=\"1111.925781\"/>\n",
       "      <use xlink:href=\"#DejaVuSerif-61\" x=\"1192.101562\"/>\n",
       "      <use xlink:href=\"#DejaVuSerif-74\" x=\"1251.720703\"/>\n",
       "      <use xlink:href=\"#DejaVuSerif-61\" x=\"1291.90625\"/>\n",
       "     </g>\n",
       "    </g>\n",
       "    <g id=\"line2d_23\">\n",
       "     <path d=\"M 219.903839 58.303974 \n",
       "L 231.903839 58.303974 \n",
       "L 243.903839 58.303974 \n",
       "\" style=\"fill: none; stroke: #08298a; stroke-width: 1.5; stroke-linejoin: miter\"/>\n",
       "    </g>\n",
       "    <g id=\"text_15\">\n",
       "     <!-- Predicted Data -->\n",
       "     <g transform=\"translate(253.503839 62.503974) scale(0.12 -0.12)\">\n",
       "      <use xlink:href=\"#DejaVuSerif-50\"/>\n",
       "      <use xlink:href=\"#DejaVuSerif-72\" x=\"67.285156\"/>\n",
       "      <use xlink:href=\"#DejaVuSerif-65\" x=\"115.087891\"/>\n",
       "      <use xlink:href=\"#DejaVuSerif-64\" x=\"174.267578\"/>\n",
       "      <use xlink:href=\"#DejaVuSerif-69\" x=\"238.28125\"/>\n",
       "      <use xlink:href=\"#DejaVuSerif-63\" x=\"270.263672\"/>\n",
       "      <use xlink:href=\"#DejaVuSerif-74\" x=\"326.269531\"/>\n",
       "      <use xlink:href=\"#DejaVuSerif-65\" x=\"366.455078\"/>\n",
       "      <use xlink:href=\"#DejaVuSerif-64\" x=\"425.634766\"/>\n",
       "      <use xlink:href=\"#DejaVuSerif-20\" x=\"489.648438\"/>\n",
       "      <use xlink:href=\"#DejaVuSerif-44\" x=\"521.435547\"/>\n",
       "      <use xlink:href=\"#DejaVuSerif-61\" x=\"601.611328\"/>\n",
       "      <use xlink:href=\"#DejaVuSerif-74\" x=\"661.230469\"/>\n",
       "      <use xlink:href=\"#DejaVuSerif-61\" x=\"701.416016\"/>\n",
       "     </g>\n",
       "    </g>\n",
       "   </g>\n",
       "  </g>\n",
       " </g>\n",
       " <defs>\n",
       "  <clipPath id=\"p4904025987\">\n",
       "   <rect x=\"47.912087\" y=\"20.172099\" width=\"383.379252\" height=\"371.369427\"/>\n",
       "  </clipPath>\n",
       " </defs>\n",
       "</svg>\n"
      ],
      "text/html": [
       "<img src=\"data:image/png;base64,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\" />"
      ]
     },
     "execution_count": 82,
     "metadata": {},
     "output_type": "execute_result"
    },
    {
     "name": "stderr",
     "output_type": "stream",
     "text": [
      "sys:1: UserWarning: No data for colormapping provided via 'c'. Parameters 'vmin', 'vmax' will be ignored\n",
      "sys:1: UserWarning: No data for colormapping provided via 'c'. Parameters 'vmin', 'vmax' will be ignored\n",
      "sys:1: UserWarning: No data for colormapping provided via 'c'. Parameters 'vmin', 'vmax' will be ignored\n",
      "sys:1: UserWarning: No data for colormapping provided via 'c'. Parameters 'vmin', 'vmax' will be ignored\n"
     ]
    }
   ],
   "source": [
    "# Plot source pcp saft and saft-vr mie regressed parameter phase envelope (over given temperature range)\n",
    "test_species = \"2-Methyloctane\"\n",
    "# test_species = \"2,2,4,4,6,8,8-Heptamethylnonane\"\n",
    "\n",
    "# set plotting properties\n",
    "plot_all_exptl_data = true\n",
    "second_deriv_props_p = 10^5\n",
    "n_points_exptl = 50\n",
    "same_temp_range = false\n",
    "label_fontsize = 18\n",
    "ticks_fontsize = 14\n",
    "\n",
    "source_data_test_species = filter(row -> row.common_name == lowercase(test_species), pcp_source_params)\n",
    "processed_data_test_species = filter(row -> row.species == lowercase(test_species), processed_data)\n",
    "\n",
    "number_epochs = length(processed_data_test_species[1,:m])\n",
    "\n",
    "# Create arrays to store sat. envelopes\n",
    "sat_T_envelopes = []; sat_rho_envelopes = []; sat_v_envelopes = []\n",
    "\n",
    "# obtain plotting data\n",
    "T_range_pcp, pcp_crits, v_liq_range_pcp, v_vap_range_pcp, p_range_pcp, cp_range_pcp = sat_props_calc_PCP(species=lowercase(test_species), source_data_test_species=source_data_test_species, plot_all_exptl_data=plot_all_exptl_data, second_deriv_props_p=second_deriv_props_p,n_points=n_points_exptl, same_temp_range=same_temp_range)\n",
    "\n",
    "if plot_all_exptl_data == true\n",
    "    pcp_v_plot = vcat(v_liq_range_pcp, pcp_crits[3], v_vap_range_pcp)\n",
    "    pcp_rho_plot = 1e-3 ./pcp_v_plot\n",
    "    pcp_T_plot_envelope = vcat(T_range_pcp, pcp_crits[1], T_range_pcp)\n",
    "    pcp_P_plot_envelope = vcat(p_range_pcp, pcp_crits[2], p_range_pcp)\n",
    "    pcp_T_plot_cc = vcat(T_range_pcp, pcp_crits[1])\n",
    "    pcp_P_plot_cc = vcat(p_range_pcp, pcp_crits[2])\n",
    "else\n",
    "    pcp_v_plot = vcat(v_liq_range_pcp, v_vap_range_pcp)\n",
    "    pcp_rho_plot = 1e-3 ./pcp_v_plot\n",
    "    pcp_T_plot_envelope = vcat(T_range_pcp, T_range_pcp)\n",
    "    pcp_P_plot_envelope = vcat(p_range_pcp, p_range_pcp)\n",
    "    pcp_T_plot_cc = T_range_pcp\n",
    "    pcp_P_plot_cc = p_range_pcp\n",
    "end\n",
    "\n",
    "for i = 1:600#number_epochs\n",
    "\n",
    "    println(i)\n",
    "\n",
    "    epoch = i\n",
    "\n",
    "    T_range_vrmie, vrmie_crits, v_liq_range_vrmie, v_vap_range_vrmie, p_range_vrmie, cp_range_vrmie = sat_props_calc_VrMie(species=lowercase(test_species), pcp_source_params_split=source_data_test_species, processed_data_split=processed_data_test_species, plot_all_exptl_data=plot_all_exptl_data, epoch=epoch, second_deriv_props_p=second_deriv_props_p, same_temp_range=same_temp_range)\n",
    "\n",
    "    vrmie_rho_plot = 1e-3 ./vcat(v_liq_range_vrmie, vrmie_crits[3], reverse(v_vap_range_vrmie))\n",
    "    vrmie_T_plot = vcat(T_range_vrmie, vrmie_crits[1], reverse(T_range_vrmie))\n",
    "    vrmie_P_plot = vcat(p_range_vrmie, vrmie_crits[2], reverse(p_range_vrmie))\n",
    "    vrmie_v_plot = vcat(v_liq_range_vrmie, vrmie_crits[3], reverse(v_vap_range_vrmie))\n",
    "\n",
    "    # vrmie_nan_indices = findall(isnan, v_range_vrmie_plot)\n",
    "    # v_range_vrmie_plot = v_range_vrmie_plot[setdiff(1:length(v_range_vrmie_plot), vrmie_nan_indices)]\n",
    "    # p_range_vrmie_plot = p_range_vrmie_plot[setdiff(1:length(p_range_vrmie_plot), vrmie_nan_indices)]\n",
    "\n",
    "    push!(sat_T_envelopes, vrmie_T_plot)\n",
    "    push!(sat_rho_envelopes, vrmie_rho_plot)\n",
    "    push!(sat_v_envelopes, vrmie_v_plot)\n",
    "\n",
    "end\n",
    "\n",
    "plot(pcp_rho_plot, pcp_T_plot_envelope, seriestype=:scatter,dpi=400, size=(600, 600),framestyle=:box, fontfamily=\"serif\",markercolor=\"#5dc90a\",markerstrokealpha=0,markersize=5,label=\"Pseudo-Experimental Data\", guidefontsize=18,titlefontsize=18, xtickfontsize=12, ytickfontsize=12,legendfontsize=12)\n",
    "plot!(sat_rho_envelopes[1], sat_T_envelopes[1],linecolor=\"#08298a\",label=\"Predicted Data\",legend=:topright,grid=false)\n",
    "\n",
    "ylabel!(\"Temperature / K\")\n",
    "xlabel!(L\"Density / (mol l$\\mathregular{^{-1}}$)\")\n",
    "# xscale(:log10)\n",
    "xlims!(-0.5,7)\n",
    "ylims!(300,800)\n",
    "# xticks!([10^-1, 10^-0, 10^1, 10^2, 10^3, 10^4, 10^5, 10^6, 10^7])\n",
    "title!(\"n-Octane\")\n",
    "\n",
    "# savefig(\"Example_phase_envelope.svg\")"
   ]
  },
  {
   "cell_type": "code",
   "execution_count": 83,
   "metadata": {},
   "outputs": [],
   "source": [
    "num_rows = length(sat_v_envelopes)\n",
    "\n",
    "overview_gif_data = DataFrame(\n",
    "    sat_v_envel = fill([0.0], num_rows),\n",
    "    sat_rho_envel = fill([0.0], num_rows),\n",
    "    sat_T_envel = fill([0.0], num_rows),\n",
    ") ;\n",
    "\n",
    "overview_gif_data.sat_v_envel = sat_v_envelopes\n",
    "overview_gif_data.sat_rho_envel = sat_rho_envelopes\n",
    "overview_gif_data.sat_T_envel = sat_T_envelopes\n",
    "overview_gif_data;"
   ]
  },
  {
   "cell_type": "code",
   "execution_count": 84,
   "metadata": {},
   "outputs": [],
   "source": [
    "# CSV.write(\"overview_gif_data_2_methyloctane_density.csv\", overview_gif_data) ;"
   ]
  },
  {
   "cell_type": "code",
   "execution_count": 8,
   "metadata": {},
   "outputs": [],
   "source": [
    "# overview_gif_data_raw = CSV.read(\"../special_thingy_params/overview_gif_data.csv\", DataFrame, header=1);"
   ]
  },
  {
   "cell_type": "code",
   "execution_count": 9,
   "metadata": {},
   "outputs": [],
   "source": [
    "# num_rows = nrow(overview_gif_data_raw)\n",
    "\n",
    "# overview_gif_data = DataFrame(\n",
    "#     sat_rho_envel = fill([0.0], num_rows),\n",
    "#     sat_T_envel = fill([0.0], num_rows),\n",
    "# ) ;\n",
    "\n",
    "# for j = 1:ncol(overview_gif_data_raw)\n",
    "#     for i = 1:num_rows\n",
    "\n",
    "#         values_str = split(strip(overview_gif_data_raw[i,j], ['[', ']']), \", \")\n",
    "#         values = parse.(Float64, values_str)\n",
    "#         vector_of_floats = collect(values)\n",
    "\n",
    "#         overview_gif_data[i,j] = vector_of_floats\n",
    "#     end\n",
    "# end"
   ]
  },
  {
   "cell_type": "code",
   "execution_count": 91,
   "metadata": {},
   "outputs": [
    {
     "name": "stdout",
     "output_type": "stream",
     "text": [
      "1\n",
      "2\n"
     ]
    },
    {
     "name": "stderr",
     "output_type": "stream",
     "text": [
      "sys:1: UserWarning: No data for colormapping provided via 'c'. Parameters 'vmin', 'vmax' will be ignored\n"
     ]
    },
    {
     "name": "stdout",
     "output_type": "stream",
     "text": [
      "3\n"
     ]
    },
    {
     "name": "stderr",
     "output_type": "stream",
     "text": [
      "sys:1: UserWarning: No data for colormapping provided via 'c'. Parameters 'vmin', 'vmax' will be ignored\n"
     ]
    },
    {
     "name": "stdout",
     "output_type": "stream",
     "text": [
      "4\n"
     ]
    },
    {
     "name": "stderr",
     "output_type": "stream",
     "text": [
      "sys:1: UserWarning: No data for colormapping provided via 'c'. Parameters 'vmin', 'vmax' will be ignored\n"
     ]
    },
    {
     "name": "stdout",
     "output_type": "stream",
     "text": [
      "5\n"
     ]
    },
    {
     "name": "stderr",
     "output_type": "stream",
     "text": [
      "sys:1: UserWarning: No data for colormapping provided via 'c'. Parameters 'vmin', 'vmax' will be ignored\n"
     ]
    },
    {
     "name": "stdout",
     "output_type": "stream",
     "text": [
      "6\n"
     ]
    },
    {
     "name": "stderr",
     "output_type": "stream",
     "text": [
      "sys:1: UserWarning: No data for colormapping provided via 'c'. Parameters 'vmin', 'vmax' will be ignored\n"
     ]
    },
    {
     "name": "stdout",
     "output_type": "stream",
     "text": [
      "7\n"
     ]
    },
    {
     "name": "stderr",
     "output_type": "stream",
     "text": [
      "sys:1: UserWarning: No data for colormapping provided via 'c'. Parameters 'vmin', 'vmax' will be ignored\n"
     ]
    },
    {
     "name": "stdout",
     "output_type": "stream",
     "text": [
      "8\n"
     ]
    },
    {
     "name": "stderr",
     "output_type": "stream",
     "text": [
      "sys:1: UserWarning: No data for colormapping provided via 'c'. Parameters 'vmin', 'vmax' will be ignored\n"
     ]
    },
    {
     "name": "stdout",
     "output_type": "stream",
     "text": [
      "9\n"
     ]
    },
    {
     "name": "stderr",
     "output_type": "stream",
     "text": [
      "sys:1: UserWarning: No data for colormapping provided via 'c'. Parameters 'vmin', 'vmax' will be ignored\n"
     ]
    },
    {
     "name": "stdout",
     "output_type": "stream",
     "text": [
      "10\n"
     ]
    },
    {
     "name": "stderr",
     "output_type": "stream",
     "text": [
      "sys:1: UserWarning: No data for colormapping provided via 'c'. Parameters 'vmin', 'vmax' will be ignored\n"
     ]
    },
    {
     "name": "stdout",
     "output_type": "stream",
     "text": [
      "11\n"
     ]
    },
    {
     "name": "stderr",
     "output_type": "stream",
     "text": [
      "sys:1: UserWarning: No data for colormapping provided via 'c'. Parameters 'vmin', 'vmax' will be ignored\n"
     ]
    },
    {
     "name": "stdout",
     "output_type": "stream",
     "text": [
      "12\n"
     ]
    },
    {
     "name": "stderr",
     "output_type": "stream",
     "text": [
      "sys:1: UserWarning: No data for colormapping provided via 'c'. Parameters 'vmin', 'vmax' will be ignored\n"
     ]
    },
    {
     "name": "stdout",
     "output_type": "stream",
     "text": [
      "13\n"
     ]
    },
    {
     "name": "stderr",
     "output_type": "stream",
     "text": [
      "sys:1: UserWarning: No data for colormapping provided via 'c'. Parameters 'vmin', 'vmax' will be ignored\n"
     ]
    },
    {
     "name": "stdout",
     "output_type": "stream",
     "text": [
      "14\n"
     ]
    },
    {
     "name": "stderr",
     "output_type": "stream",
     "text": [
      "sys:1: UserWarning: No data for colormapping provided via 'c'. Parameters 'vmin', 'vmax' will be ignored\n"
     ]
    },
    {
     "name": "stdout",
     "output_type": "stream",
     "text": [
      "15\n"
     ]
    },
    {
     "name": "stderr",
     "output_type": "stream",
     "text": [
      "sys:1: UserWarning: No data for colormapping provided via 'c'. Parameters 'vmin', 'vmax' will be ignored\n"
     ]
    },
    {
     "name": "stdout",
     "output_type": "stream",
     "text": [
      "16\n"
     ]
    },
    {
     "name": "stderr",
     "output_type": "stream",
     "text": [
      "sys:1: UserWarning: No data for colormapping provided via 'c'. Parameters 'vmin', 'vmax' will be ignored\n"
     ]
    },
    {
     "name": "stdout",
     "output_type": "stream",
     "text": [
      "17\n"
     ]
    },
    {
     "name": "stderr",
     "output_type": "stream",
     "text": [
      "sys:1: UserWarning: No data for colormapping provided via 'c'. Parameters 'vmin', 'vmax' will be ignored\n"
     ]
    },
    {
     "name": "stdout",
     "output_type": "stream",
     "text": [
      "18\n"
     ]
    },
    {
     "name": "stderr",
     "output_type": "stream",
     "text": [
      "sys:1: UserWarning: No data for colormapping provided via 'c'. Parameters 'vmin', 'vmax' will be ignored\n"
     ]
    },
    {
     "name": "stdout",
     "output_type": "stream",
     "text": [
      "19\n"
     ]
    },
    {
     "name": "stderr",
     "output_type": "stream",
     "text": [
      "sys:1: UserWarning: No data for colormapping provided via 'c'. Parameters 'vmin', 'vmax' will be ignored\n"
     ]
    },
    {
     "name": "stdout",
     "output_type": "stream",
     "text": [
      "20\n"
     ]
    },
    {
     "name": "stderr",
     "output_type": "stream",
     "text": [
      "sys:1: UserWarning: No data for colormapping provided via 'c'. Parameters 'vmin', 'vmax' will be ignored\n"
     ]
    },
    {
     "name": "stdout",
     "output_type": "stream",
     "text": [
      "21\n"
     ]
    },
    {
     "name": "stderr",
     "output_type": "stream",
     "text": [
      "sys:1: UserWarning: No data for colormapping provided via 'c'. Parameters 'vmin', 'vmax' will be ignored\n"
     ]
    },
    {
     "name": "stdout",
     "output_type": "stream",
     "text": [
      "22\n"
     ]
    },
    {
     "name": "stderr",
     "output_type": "stream",
     "text": [
      "sys:1: UserWarning: No data for colormapping provided via 'c'. Parameters 'vmin', 'vmax' will be ignored\n"
     ]
    },
    {
     "name": "stdout",
     "output_type": "stream",
     "text": [
      "23\n"
     ]
    },
    {
     "name": "stderr",
     "output_type": "stream",
     "text": [
      "sys:1: UserWarning: No data for colormapping provided via 'c'. Parameters 'vmin', 'vmax' will be ignored\n"
     ]
    },
    {
     "name": "stdout",
     "output_type": "stream",
     "text": [
      "24\n"
     ]
    },
    {
     "name": "stderr",
     "output_type": "stream",
     "text": [
      "sys:1: UserWarning: No data for colormapping provided via 'c'. Parameters 'vmin', 'vmax' will be ignored\n"
     ]
    },
    {
     "name": "stdout",
     "output_type": "stream",
     "text": [
      "25\n"
     ]
    },
    {
     "name": "stderr",
     "output_type": "stream",
     "text": [
      "sys:1: UserWarning: No data for colormapping provided via 'c'. Parameters 'vmin', 'vmax' will be ignored\n"
     ]
    },
    {
     "name": "stdout",
     "output_type": "stream",
     "text": [
      "26\n"
     ]
    },
    {
     "name": "stderr",
     "output_type": "stream",
     "text": [
      "sys:1: UserWarning: No data for colormapping provided via 'c'. Parameters 'vmin', 'vmax' will be ignored\n"
     ]
    },
    {
     "name": "stdout",
     "output_type": "stream",
     "text": [
      "27\n"
     ]
    },
    {
     "name": "stderr",
     "output_type": "stream",
     "text": [
      "sys:1: UserWarning: No data for colormapping provided via 'c'. Parameters 'vmin', 'vmax' will be ignored\n"
     ]
    },
    {
     "name": "stdout",
     "output_type": "stream",
     "text": [
      "28\n"
     ]
    },
    {
     "name": "stderr",
     "output_type": "stream",
     "text": [
      "sys:1: UserWarning: No data for colormapping provided via 'c'. Parameters 'vmin', 'vmax' will be ignored\n"
     ]
    },
    {
     "name": "stdout",
     "output_type": "stream",
     "text": [
      "29\n"
     ]
    },
    {
     "name": "stderr",
     "output_type": "stream",
     "text": [
      "sys:1: UserWarning: No data for colormapping provided via 'c'. Parameters 'vmin', 'vmax' will be ignored\n"
     ]
    },
    {
     "name": "stdout",
     "output_type": "stream",
     "text": [
      "30\n"
     ]
    },
    {
     "name": "stderr",
     "output_type": "stream",
     "text": [
      "sys:1: UserWarning: No data for colormapping provided via 'c'. Parameters 'vmin', 'vmax' will be ignored\n"
     ]
    },
    {
     "name": "stdout",
     "output_type": "stream",
     "text": [
      "31\n"
     ]
    },
    {
     "name": "stderr",
     "output_type": "stream",
     "text": [
      "sys:1: UserWarning: No data for colormapping provided via 'c'. Parameters 'vmin', 'vmax' will be ignored\n"
     ]
    },
    {
     "name": "stdout",
     "output_type": "stream",
     "text": [
      "32\n"
     ]
    },
    {
     "name": "stderr",
     "output_type": "stream",
     "text": [
      "sys:1: UserWarning: No data for colormapping provided via 'c'. Parameters 'vmin', 'vmax' will be ignored\n"
     ]
    },
    {
     "name": "stdout",
     "output_type": "stream",
     "text": [
      "33\n"
     ]
    },
    {
     "name": "stderr",
     "output_type": "stream",
     "text": [
      "sys:1: UserWarning: No data for colormapping provided via 'c'. Parameters 'vmin', 'vmax' will be ignored\n"
     ]
    },
    {
     "name": "stdout",
     "output_type": "stream",
     "text": [
      "34\n"
     ]
    },
    {
     "name": "stderr",
     "output_type": "stream",
     "text": [
      "sys:1: UserWarning: No data for colormapping provided via 'c'. Parameters 'vmin', 'vmax' will be ignored\n"
     ]
    },
    {
     "name": "stdout",
     "output_type": "stream",
     "text": [
      "35\n"
     ]
    },
    {
     "name": "stderr",
     "output_type": "stream",
     "text": [
      "sys:1: UserWarning: No data for colormapping provided via 'c'. Parameters 'vmin', 'vmax' will be ignored\n"
     ]
    },
    {
     "name": "stdout",
     "output_type": "stream",
     "text": [
      "36\n"
     ]
    },
    {
     "name": "stderr",
     "output_type": "stream",
     "text": [
      "sys:1: UserWarning: No data for colormapping provided via 'c'. Parameters 'vmin', 'vmax' will be ignored\n"
     ]
    },
    {
     "name": "stdout",
     "output_type": "stream",
     "text": [
      "37\n"
     ]
    },
    {
     "name": "stderr",
     "output_type": "stream",
     "text": [
      "sys:1: UserWarning: No data for colormapping provided via 'c'. Parameters 'vmin', 'vmax' will be ignored\n"
     ]
    },
    {
     "name": "stdout",
     "output_type": "stream",
     "text": [
      "38\n"
     ]
    },
    {
     "name": "stderr",
     "output_type": "stream",
     "text": [
      "sys:1: UserWarning: No data for colormapping provided via 'c'. Parameters 'vmin', 'vmax' will be ignored\n"
     ]
    },
    {
     "name": "stdout",
     "output_type": "stream",
     "text": [
      "39\n"
     ]
    },
    {
     "name": "stderr",
     "output_type": "stream",
     "text": [
      "sys:1: UserWarning: No data for colormapping provided via 'c'. Parameters 'vmin', 'vmax' will be ignored\n"
     ]
    },
    {
     "name": "stdout",
     "output_type": "stream",
     "text": [
      "40\n"
     ]
    },
    {
     "name": "stderr",
     "output_type": "stream",
     "text": [
      "sys:1: UserWarning: No data for colormapping provided via 'c'. Parameters 'vmin', 'vmax' will be ignored\n"
     ]
    },
    {
     "name": "stdout",
     "output_type": "stream",
     "text": [
      "41\n"
     ]
    },
    {
     "name": "stderr",
     "output_type": "stream",
     "text": [
      "sys:1: UserWarning: No data for colormapping provided via 'c'. Parameters 'vmin', 'vmax' will be ignored\n"
     ]
    },
    {
     "name": "stdout",
     "output_type": "stream",
     "text": [
      "42\n"
     ]
    },
    {
     "name": "stderr",
     "output_type": "stream",
     "text": [
      "sys:1: UserWarning: No data for colormapping provided via 'c'. Parameters 'vmin', 'vmax' will be ignored\n"
     ]
    },
    {
     "name": "stdout",
     "output_type": "stream",
     "text": [
      "43\n"
     ]
    },
    {
     "name": "stderr",
     "output_type": "stream",
     "text": [
      "sys:1: UserWarning: No data for colormapping provided via 'c'. Parameters 'vmin', 'vmax' will be ignored\n"
     ]
    },
    {
     "name": "stdout",
     "output_type": "stream",
     "text": [
      "44\n"
     ]
    },
    {
     "name": "stderr",
     "output_type": "stream",
     "text": [
      "sys:1: UserWarning: No data for colormapping provided via 'c'. Parameters 'vmin', 'vmax' will be ignored\n"
     ]
    },
    {
     "name": "stdout",
     "output_type": "stream",
     "text": [
      "45\n"
     ]
    },
    {
     "name": "stderr",
     "output_type": "stream",
     "text": [
      "sys:1: UserWarning: No data for colormapping provided via 'c'. Parameters 'vmin', 'vmax' will be ignored\n"
     ]
    },
    {
     "name": "stdout",
     "output_type": "stream",
     "text": [
      "46\n"
     ]
    },
    {
     "name": "stderr",
     "output_type": "stream",
     "text": [
      "sys:1: UserWarning: No data for colormapping provided via 'c'. Parameters 'vmin', 'vmax' will be ignored\n"
     ]
    },
    {
     "name": "stdout",
     "output_type": "stream",
     "text": [
      "47\n"
     ]
    },
    {
     "name": "stderr",
     "output_type": "stream",
     "text": [
      "sys:1: UserWarning: No data for colormapping provided via 'c'. Parameters 'vmin', 'vmax' will be ignored\n"
     ]
    },
    {
     "name": "stdout",
     "output_type": "stream",
     "text": [
      "48\n"
     ]
    },
    {
     "name": "stderr",
     "output_type": "stream",
     "text": [
      "sys:1: UserWarning: No data for colormapping provided via 'c'. Parameters 'vmin', 'vmax' will be ignored\n"
     ]
    },
    {
     "name": "stdout",
     "output_type": "stream",
     "text": [
      "49\n"
     ]
    },
    {
     "name": "stderr",
     "output_type": "stream",
     "text": [
      "sys:1: UserWarning: No data for colormapping provided via 'c'. Parameters 'vmin', 'vmax' will be ignored\n"
     ]
    },
    {
     "name": "stdout",
     "output_type": "stream",
     "text": [
      "50\n"
     ]
    },
    {
     "name": "stderr",
     "output_type": "stream",
     "text": [
      "sys:1: UserWarning: No data for colormapping provided via 'c'. Parameters 'vmin', 'vmax' will be ignored\n"
     ]
    },
    {
     "name": "stdout",
     "output_type": "stream",
     "text": [
      "51\n"
     ]
    },
    {
     "name": "stderr",
     "output_type": "stream",
     "text": [
      "sys:1: UserWarning: No data for colormapping provided via 'c'. Parameters 'vmin', 'vmax' will be ignored\n"
     ]
    },
    {
     "name": "stdout",
     "output_type": "stream",
     "text": [
      "52\n"
     ]
    },
    {
     "name": "stderr",
     "output_type": "stream",
     "text": [
      "sys:1: UserWarning: No data for colormapping provided via 'c'. Parameters 'vmin', 'vmax' will be ignored\n"
     ]
    },
    {
     "name": "stdout",
     "output_type": "stream",
     "text": [
      "53\n"
     ]
    },
    {
     "name": "stderr",
     "output_type": "stream",
     "text": [
      "sys:1: UserWarning: No data for colormapping provided via 'c'. Parameters 'vmin', 'vmax' will be ignored\n"
     ]
    },
    {
     "name": "stdout",
     "output_type": "stream",
     "text": [
      "54\n"
     ]
    },
    {
     "name": "stderr",
     "output_type": "stream",
     "text": [
      "sys:1: UserWarning: No data for colormapping provided via 'c'. Parameters 'vmin', 'vmax' will be ignored\n"
     ]
    },
    {
     "name": "stdout",
     "output_type": "stream",
     "text": [
      "55\n"
     ]
    },
    {
     "name": "stderr",
     "output_type": "stream",
     "text": [
      "sys:1: UserWarning: No data for colormapping provided via 'c'. Parameters 'vmin', 'vmax' will be ignored\n"
     ]
    },
    {
     "name": "stdout",
     "output_type": "stream",
     "text": [
      "56\n"
     ]
    },
    {
     "name": "stderr",
     "output_type": "stream",
     "text": [
      "sys:1: UserWarning: No data for colormapping provided via 'c'. Parameters 'vmin', 'vmax' will be ignored\n"
     ]
    },
    {
     "name": "stdout",
     "output_type": "stream",
     "text": [
      "57\n"
     ]
    },
    {
     "name": "stderr",
     "output_type": "stream",
     "text": [
      "sys:1: UserWarning: No data for colormapping provided via 'c'. Parameters 'vmin', 'vmax' will be ignored\n"
     ]
    },
    {
     "name": "stdout",
     "output_type": "stream",
     "text": [
      "58\n"
     ]
    },
    {
     "name": "stderr",
     "output_type": "stream",
     "text": [
      "sys:1: UserWarning: No data for colormapping provided via 'c'. Parameters 'vmin', 'vmax' will be ignored\n"
     ]
    },
    {
     "name": "stdout",
     "output_type": "stream",
     "text": [
      "59\n"
     ]
    },
    {
     "name": "stderr",
     "output_type": "stream",
     "text": [
      "sys:1: UserWarning: No data for colormapping provided via 'c'. Parameters 'vmin', 'vmax' will be ignored\n"
     ]
    },
    {
     "name": "stdout",
     "output_type": "stream",
     "text": [
      "60\n"
     ]
    },
    {
     "name": "stderr",
     "output_type": "stream",
     "text": [
      "sys:1: UserWarning: No data for colormapping provided via 'c'. Parameters 'vmin', 'vmax' will be ignored\n"
     ]
    },
    {
     "name": "stdout",
     "output_type": "stream",
     "text": [
      "61\n"
     ]
    },
    {
     "name": "stderr",
     "output_type": "stream",
     "text": [
      "sys:1: UserWarning: No data for colormapping provided via 'c'. Parameters 'vmin', 'vmax' will be ignored\n"
     ]
    },
    {
     "name": "stdout",
     "output_type": "stream",
     "text": [
      "62\n"
     ]
    },
    {
     "name": "stderr",
     "output_type": "stream",
     "text": [
      "sys:1: UserWarning: No data for colormapping provided via 'c'. Parameters 'vmin', 'vmax' will be ignored\n"
     ]
    },
    {
     "name": "stdout",
     "output_type": "stream",
     "text": [
      "63\n"
     ]
    },
    {
     "name": "stderr",
     "output_type": "stream",
     "text": [
      "sys:1: UserWarning: No data for colormapping provided via 'c'. Parameters 'vmin', 'vmax' will be ignored\n"
     ]
    },
    {
     "name": "stdout",
     "output_type": "stream",
     "text": [
      "64\n"
     ]
    },
    {
     "name": "stderr",
     "output_type": "stream",
     "text": [
      "sys:1: UserWarning: No data for colormapping provided via 'c'. Parameters 'vmin', 'vmax' will be ignored\n"
     ]
    },
    {
     "name": "stdout",
     "output_type": "stream",
     "text": [
      "65\n"
     ]
    },
    {
     "name": "stderr",
     "output_type": "stream",
     "text": [
      "sys:1: UserWarning: No data for colormapping provided via 'c'. Parameters 'vmin', 'vmax' will be ignored\n"
     ]
    },
    {
     "name": "stdout",
     "output_type": "stream",
     "text": [
      "66\n"
     ]
    },
    {
     "name": "stderr",
     "output_type": "stream",
     "text": [
      "sys:1: UserWarning: No data for colormapping provided via 'c'. Parameters 'vmin', 'vmax' will be ignored\n"
     ]
    },
    {
     "name": "stdout",
     "output_type": "stream",
     "text": [
      "67\n"
     ]
    },
    {
     "name": "stderr",
     "output_type": "stream",
     "text": [
      "sys:1: UserWarning: No data for colormapping provided via 'c'. Parameters 'vmin', 'vmax' will be ignored\n"
     ]
    },
    {
     "name": "stdout",
     "output_type": "stream",
     "text": [
      "68\n"
     ]
    },
    {
     "name": "stderr",
     "output_type": "stream",
     "text": [
      "sys:1: UserWarning: No data for colormapping provided via 'c'. Parameters 'vmin', 'vmax' will be ignored\n"
     ]
    },
    {
     "name": "stdout",
     "output_type": "stream",
     "text": [
      "69\n"
     ]
    },
    {
     "name": "stderr",
     "output_type": "stream",
     "text": [
      "sys:1: UserWarning: No data for colormapping provided via 'c'. Parameters 'vmin', 'vmax' will be ignored\n"
     ]
    },
    {
     "name": "stdout",
     "output_type": "stream",
     "text": [
      "70\n"
     ]
    },
    {
     "name": "stderr",
     "output_type": "stream",
     "text": [
      "sys:1: UserWarning: No data for colormapping provided via 'c'. Parameters 'vmin', 'vmax' will be ignored\n"
     ]
    },
    {
     "name": "stdout",
     "output_type": "stream",
     "text": [
      "71\n"
     ]
    },
    {
     "name": "stderr",
     "output_type": "stream",
     "text": [
      "sys:1: UserWarning: No data for colormapping provided via 'c'. Parameters 'vmin', 'vmax' will be ignored\n"
     ]
    },
    {
     "name": "stdout",
     "output_type": "stream",
     "text": [
      "72\n"
     ]
    },
    {
     "name": "stderr",
     "output_type": "stream",
     "text": [
      "sys:1: UserWarning: No data for colormapping provided via 'c'. Parameters 'vmin', 'vmax' will be ignored\n"
     ]
    },
    {
     "name": "stdout",
     "output_type": "stream",
     "text": [
      "73\n"
     ]
    },
    {
     "name": "stderr",
     "output_type": "stream",
     "text": [
      "sys:1: UserWarning: No data for colormapping provided via 'c'. Parameters 'vmin', 'vmax' will be ignored\n"
     ]
    },
    {
     "name": "stdout",
     "output_type": "stream",
     "text": [
      "74\n"
     ]
    },
    {
     "name": "stderr",
     "output_type": "stream",
     "text": [
      "sys:1: UserWarning: No data for colormapping provided via 'c'. Parameters 'vmin', 'vmax' will be ignored\n"
     ]
    },
    {
     "name": "stdout",
     "output_type": "stream",
     "text": [
      "75\n"
     ]
    },
    {
     "name": "stderr",
     "output_type": "stream",
     "text": [
      "sys:1: UserWarning: No data for colormapping provided via 'c'. Parameters 'vmin', 'vmax' will be ignored\n"
     ]
    },
    {
     "name": "stdout",
     "output_type": "stream",
     "text": [
      "76\n"
     ]
    },
    {
     "name": "stderr",
     "output_type": "stream",
     "text": [
      "sys:1: UserWarning: No data for colormapping provided via 'c'. Parameters 'vmin', 'vmax' will be ignored\n"
     ]
    },
    {
     "name": "stdout",
     "output_type": "stream",
     "text": [
      "77\n"
     ]
    },
    {
     "name": "stderr",
     "output_type": "stream",
     "text": [
      "sys:1: UserWarning: No data for colormapping provided via 'c'. Parameters 'vmin', 'vmax' will be ignored\n"
     ]
    },
    {
     "name": "stdout",
     "output_type": "stream",
     "text": [
      "78\n"
     ]
    },
    {
     "name": "stderr",
     "output_type": "stream",
     "text": [
      "sys:1: UserWarning: No data for colormapping provided via 'c'. Parameters 'vmin', 'vmax' will be ignored\n"
     ]
    },
    {
     "name": "stdout",
     "output_type": "stream",
     "text": [
      "79\n"
     ]
    },
    {
     "name": "stderr",
     "output_type": "stream",
     "text": [
      "sys:1: UserWarning: No data for colormapping provided via 'c'. Parameters 'vmin', 'vmax' will be ignored\n"
     ]
    },
    {
     "name": "stdout",
     "output_type": "stream",
     "text": [
      "80\n"
     ]
    },
    {
     "name": "stderr",
     "output_type": "stream",
     "text": [
      "sys:1: UserWarning: No data for colormapping provided via 'c'. Parameters 'vmin', 'vmax' will be ignored\n"
     ]
    },
    {
     "name": "stdout",
     "output_type": "stream",
     "text": [
      "81\n"
     ]
    },
    {
     "name": "stderr",
     "output_type": "stream",
     "text": [
      "sys:1: UserWarning: No data for colormapping provided via 'c'. Parameters 'vmin', 'vmax' will be ignored\n"
     ]
    },
    {
     "name": "stdout",
     "output_type": "stream",
     "text": [
      "82\n"
     ]
    },
    {
     "name": "stderr",
     "output_type": "stream",
     "text": [
      "sys:1: UserWarning: No data for colormapping provided via 'c'. Parameters 'vmin', 'vmax' will be ignored\n"
     ]
    },
    {
     "name": "stdout",
     "output_type": "stream",
     "text": [
      "83\n"
     ]
    },
    {
     "name": "stderr",
     "output_type": "stream",
     "text": [
      "sys:1: UserWarning: No data for colormapping provided via 'c'. Parameters 'vmin', 'vmax' will be ignored\n"
     ]
    },
    {
     "name": "stdout",
     "output_type": "stream",
     "text": [
      "84\n"
     ]
    },
    {
     "name": "stderr",
     "output_type": "stream",
     "text": [
      "sys:1: UserWarning: No data for colormapping provided via 'c'. Parameters 'vmin', 'vmax' will be ignored\n"
     ]
    },
    {
     "name": "stdout",
     "output_type": "stream",
     "text": [
      "85\n"
     ]
    },
    {
     "name": "stderr",
     "output_type": "stream",
     "text": [
      "sys:1: UserWarning: No data for colormapping provided via 'c'. Parameters 'vmin', 'vmax' will be ignored\n"
     ]
    },
    {
     "name": "stdout",
     "output_type": "stream",
     "text": [
      "86\n"
     ]
    },
    {
     "name": "stderr",
     "output_type": "stream",
     "text": [
      "sys:1: UserWarning: No data for colormapping provided via 'c'. Parameters 'vmin', 'vmax' will be ignored\n"
     ]
    },
    {
     "name": "stdout",
     "output_type": "stream",
     "text": [
      "87\n"
     ]
    },
    {
     "name": "stderr",
     "output_type": "stream",
     "text": [
      "sys:1: UserWarning: No data for colormapping provided via 'c'. Parameters 'vmin', 'vmax' will be ignored\n"
     ]
    },
    {
     "name": "stdout",
     "output_type": "stream",
     "text": [
      "88\n"
     ]
    },
    {
     "name": "stderr",
     "output_type": "stream",
     "text": [
      "sys:1: UserWarning: No data for colormapping provided via 'c'. Parameters 'vmin', 'vmax' will be ignored\n"
     ]
    },
    {
     "name": "stdout",
     "output_type": "stream",
     "text": [
      "89\n"
     ]
    },
    {
     "name": "stderr",
     "output_type": "stream",
     "text": [
      "sys:1: UserWarning: No data for colormapping provided via 'c'. Parameters 'vmin', 'vmax' will be ignored\n"
     ]
    },
    {
     "name": "stdout",
     "output_type": "stream",
     "text": [
      "90\n"
     ]
    },
    {
     "name": "stderr",
     "output_type": "stream",
     "text": [
      "sys:1: UserWarning: No data for colormapping provided via 'c'. Parameters 'vmin', 'vmax' will be ignored\n"
     ]
    },
    {
     "name": "stdout",
     "output_type": "stream",
     "text": [
      "91\n"
     ]
    },
    {
     "name": "stderr",
     "output_type": "stream",
     "text": [
      "sys:1: UserWarning: No data for colormapping provided via 'c'. Parameters 'vmin', 'vmax' will be ignored\n"
     ]
    },
    {
     "name": "stdout",
     "output_type": "stream",
     "text": [
      "92\n"
     ]
    },
    {
     "name": "stderr",
     "output_type": "stream",
     "text": [
      "sys:1: UserWarning: No data for colormapping provided via 'c'. Parameters 'vmin', 'vmax' will be ignored\n"
     ]
    },
    {
     "name": "stdout",
     "output_type": "stream",
     "text": [
      "93\n"
     ]
    },
    {
     "name": "stderr",
     "output_type": "stream",
     "text": [
      "sys:1: UserWarning: No data for colormapping provided via 'c'. Parameters 'vmin', 'vmax' will be ignored\n"
     ]
    },
    {
     "name": "stdout",
     "output_type": "stream",
     "text": [
      "94\n"
     ]
    },
    {
     "name": "stderr",
     "output_type": "stream",
     "text": [
      "sys:1: UserWarning: No data for colormapping provided via 'c'. Parameters 'vmin', 'vmax' will be ignored\n"
     ]
    },
    {
     "name": "stdout",
     "output_type": "stream",
     "text": [
      "95\n"
     ]
    },
    {
     "name": "stderr",
     "output_type": "stream",
     "text": [
      "sys:1: UserWarning: No data for colormapping provided via 'c'. Parameters 'vmin', 'vmax' will be ignored\n"
     ]
    },
    {
     "name": "stdout",
     "output_type": "stream",
     "text": [
      "96\n"
     ]
    },
    {
     "name": "stderr",
     "output_type": "stream",
     "text": [
      "sys:1: UserWarning: No data for colormapping provided via 'c'. Parameters 'vmin', 'vmax' will be ignored\n"
     ]
    },
    {
     "name": "stdout",
     "output_type": "stream",
     "text": [
      "97\n"
     ]
    },
    {
     "name": "stderr",
     "output_type": "stream",
     "text": [
      "sys:1: UserWarning: No data for colormapping provided via 'c'. Parameters 'vmin', 'vmax' will be ignored\n"
     ]
    },
    {
     "name": "stdout",
     "output_type": "stream",
     "text": [
      "98\n"
     ]
    },
    {
     "name": "stderr",
     "output_type": "stream",
     "text": [
      "sys:1: UserWarning: No data for colormapping provided via 'c'. Parameters 'vmin', 'vmax' will be ignored\n"
     ]
    },
    {
     "name": "stdout",
     "output_type": "stream",
     "text": [
      "99\n"
     ]
    },
    {
     "name": "stderr",
     "output_type": "stream",
     "text": [
      "sys:1: UserWarning: No data for colormapping provided via 'c'. Parameters 'vmin', 'vmax' will be ignored\n"
     ]
    },
    {
     "name": "stdout",
     "output_type": "stream",
     "text": [
      "100\n"
     ]
    },
    {
     "name": "stderr",
     "output_type": "stream",
     "text": [
      "sys:1: UserWarning: No data for colormapping provided via 'c'. Parameters 'vmin', 'vmax' will be ignored\n"
     ]
    },
    {
     "name": "stdout",
     "output_type": "stream",
     "text": [
      "101\n"
     ]
    },
    {
     "name": "stderr",
     "output_type": "stream",
     "text": [
      "sys:1: UserWarning: No data for colormapping provided via 'c'. Parameters 'vmin', 'vmax' will be ignored\n"
     ]
    },
    {
     "name": "stdout",
     "output_type": "stream",
     "text": [
      "102\n"
     ]
    },
    {
     "name": "stderr",
     "output_type": "stream",
     "text": [
      "sys:1: UserWarning: No data for colormapping provided via 'c'. Parameters 'vmin', 'vmax' will be ignored\n"
     ]
    },
    {
     "name": "stdout",
     "output_type": "stream",
     "text": [
      "103\n"
     ]
    },
    {
     "name": "stderr",
     "output_type": "stream",
     "text": [
      "sys:1: UserWarning: No data for colormapping provided via 'c'. Parameters 'vmin', 'vmax' will be ignored\n"
     ]
    },
    {
     "name": "stdout",
     "output_type": "stream",
     "text": [
      "104\n"
     ]
    },
    {
     "name": "stderr",
     "output_type": "stream",
     "text": [
      "sys:1: UserWarning: No data for colormapping provided via 'c'. Parameters 'vmin', 'vmax' will be ignored\n"
     ]
    },
    {
     "name": "stdout",
     "output_type": "stream",
     "text": [
      "105\n"
     ]
    },
    {
     "name": "stderr",
     "output_type": "stream",
     "text": [
      "sys:1: UserWarning: No data for colormapping provided via 'c'. Parameters 'vmin', 'vmax' will be ignored\n"
     ]
    },
    {
     "name": "stdout",
     "output_type": "stream",
     "text": [
      "106\n"
     ]
    },
    {
     "name": "stderr",
     "output_type": "stream",
     "text": [
      "sys:1: UserWarning: No data for colormapping provided via 'c'. Parameters 'vmin', 'vmax' will be ignored\n"
     ]
    },
    {
     "name": "stdout",
     "output_type": "stream",
     "text": [
      "107\n"
     ]
    },
    {
     "name": "stderr",
     "output_type": "stream",
     "text": [
      "sys:1: UserWarning: No data for colormapping provided via 'c'. Parameters 'vmin', 'vmax' will be ignored\n"
     ]
    },
    {
     "name": "stdout",
     "output_type": "stream",
     "text": [
      "108\n"
     ]
    },
    {
     "name": "stderr",
     "output_type": "stream",
     "text": [
      "sys:1: UserWarning: No data for colormapping provided via 'c'. Parameters 'vmin', 'vmax' will be ignored\n"
     ]
    },
    {
     "name": "stdout",
     "output_type": "stream",
     "text": [
      "109\n"
     ]
    },
    {
     "name": "stderr",
     "output_type": "stream",
     "text": [
      "sys:1: UserWarning: No data for colormapping provided via 'c'. Parameters 'vmin', 'vmax' will be ignored\n"
     ]
    },
    {
     "name": "stdout",
     "output_type": "stream",
     "text": [
      "110\n"
     ]
    },
    {
     "name": "stderr",
     "output_type": "stream",
     "text": [
      "sys:1: UserWarning: No data for colormapping provided via 'c'. Parameters 'vmin', 'vmax' will be ignored\n"
     ]
    },
    {
     "name": "stdout",
     "output_type": "stream",
     "text": [
      "111\n"
     ]
    },
    {
     "name": "stderr",
     "output_type": "stream",
     "text": [
      "sys:1: UserWarning: No data for colormapping provided via 'c'. Parameters 'vmin', 'vmax' will be ignored\n"
     ]
    },
    {
     "name": "stdout",
     "output_type": "stream",
     "text": [
      "112\n"
     ]
    },
    {
     "name": "stderr",
     "output_type": "stream",
     "text": [
      "sys:1: UserWarning: No data for colormapping provided via 'c'. Parameters 'vmin', 'vmax' will be ignored\n"
     ]
    },
    {
     "name": "stdout",
     "output_type": "stream",
     "text": [
      "113\n"
     ]
    },
    {
     "name": "stderr",
     "output_type": "stream",
     "text": [
      "sys:1: UserWarning: No data for colormapping provided via 'c'. Parameters 'vmin', 'vmax' will be ignored\n"
     ]
    },
    {
     "name": "stdout",
     "output_type": "stream",
     "text": [
      "114\n"
     ]
    },
    {
     "name": "stderr",
     "output_type": "stream",
     "text": [
      "sys:1: UserWarning: No data for colormapping provided via 'c'. Parameters 'vmin', 'vmax' will be ignored\n"
     ]
    },
    {
     "name": "stdout",
     "output_type": "stream",
     "text": [
      "115\n"
     ]
    },
    {
     "name": "stderr",
     "output_type": "stream",
     "text": [
      "sys:1: UserWarning: No data for colormapping provided via 'c'. Parameters 'vmin', 'vmax' will be ignored\n"
     ]
    },
    {
     "name": "stdout",
     "output_type": "stream",
     "text": [
      "116\n"
     ]
    },
    {
     "name": "stderr",
     "output_type": "stream",
     "text": [
      "sys:1: UserWarning: No data for colormapping provided via 'c'. Parameters 'vmin', 'vmax' will be ignored\n"
     ]
    },
    {
     "name": "stdout",
     "output_type": "stream",
     "text": [
      "117\n"
     ]
    },
    {
     "name": "stderr",
     "output_type": "stream",
     "text": [
      "sys:1: UserWarning: No data for colormapping provided via 'c'. Parameters 'vmin', 'vmax' will be ignored\n"
     ]
    },
    {
     "name": "stdout",
     "output_type": "stream",
     "text": [
      "118\n"
     ]
    },
    {
     "name": "stderr",
     "output_type": "stream",
     "text": [
      "sys:1: UserWarning: No data for colormapping provided via 'c'. Parameters 'vmin', 'vmax' will be ignored\n"
     ]
    },
    {
     "name": "stdout",
     "output_type": "stream",
     "text": [
      "119\n"
     ]
    },
    {
     "name": "stderr",
     "output_type": "stream",
     "text": [
      "sys:1: UserWarning: No data for colormapping provided via 'c'. Parameters 'vmin', 'vmax' will be ignored\n"
     ]
    },
    {
     "name": "stdout",
     "output_type": "stream",
     "text": [
      "120\n"
     ]
    },
    {
     "name": "stderr",
     "output_type": "stream",
     "text": [
      "sys:1: UserWarning: No data for colormapping provided via 'c'. Parameters 'vmin', 'vmax' will be ignored\n"
     ]
    },
    {
     "name": "stdout",
     "output_type": "stream",
     "text": [
      "121\n"
     ]
    },
    {
     "name": "stderr",
     "output_type": "stream",
     "text": [
      "sys:1: UserWarning: No data for colormapping provided via 'c'. Parameters 'vmin', 'vmax' will be ignored\n"
     ]
    },
    {
     "name": "stdout",
     "output_type": "stream",
     "text": [
      "122\n"
     ]
    },
    {
     "name": "stderr",
     "output_type": "stream",
     "text": [
      "sys:1: UserWarning: No data for colormapping provided via 'c'. Parameters 'vmin', 'vmax' will be ignored\n"
     ]
    },
    {
     "name": "stdout",
     "output_type": "stream",
     "text": [
      "123\n"
     ]
    },
    {
     "name": "stderr",
     "output_type": "stream",
     "text": [
      "sys:1: UserWarning: No data for colormapping provided via 'c'. Parameters 'vmin', 'vmax' will be ignored\n"
     ]
    },
    {
     "name": "stdout",
     "output_type": "stream",
     "text": [
      "124\n"
     ]
    },
    {
     "name": "stderr",
     "output_type": "stream",
     "text": [
      "sys:1: UserWarning: No data for colormapping provided via 'c'. Parameters 'vmin', 'vmax' will be ignored\n"
     ]
    },
    {
     "name": "stdout",
     "output_type": "stream",
     "text": [
      "125\n"
     ]
    },
    {
     "name": "stderr",
     "output_type": "stream",
     "text": [
      "sys:1: UserWarning: No data for colormapping provided via 'c'. Parameters 'vmin', 'vmax' will be ignored\n"
     ]
    },
    {
     "name": "stdout",
     "output_type": "stream",
     "text": [
      "126\n"
     ]
    },
    {
     "name": "stderr",
     "output_type": "stream",
     "text": [
      "sys:1: UserWarning: No data for colormapping provided via 'c'. Parameters 'vmin', 'vmax' will be ignored\n"
     ]
    },
    {
     "name": "stdout",
     "output_type": "stream",
     "text": [
      "127\n"
     ]
    },
    {
     "name": "stderr",
     "output_type": "stream",
     "text": [
      "sys:1: UserWarning: No data for colormapping provided via 'c'. Parameters 'vmin', 'vmax' will be ignored\n"
     ]
    },
    {
     "name": "stdout",
     "output_type": "stream",
     "text": [
      "128\n"
     ]
    },
    {
     "name": "stderr",
     "output_type": "stream",
     "text": [
      "sys:1: UserWarning: No data for colormapping provided via 'c'. Parameters 'vmin', 'vmax' will be ignored\n"
     ]
    },
    {
     "name": "stdout",
     "output_type": "stream",
     "text": [
      "129\n"
     ]
    },
    {
     "name": "stderr",
     "output_type": "stream",
     "text": [
      "sys:1: UserWarning: No data for colormapping provided via 'c'. Parameters 'vmin', 'vmax' will be ignored\n"
     ]
    },
    {
     "name": "stdout",
     "output_type": "stream",
     "text": [
      "130\n"
     ]
    },
    {
     "name": "stderr",
     "output_type": "stream",
     "text": [
      "sys:1: UserWarning: No data for colormapping provided via 'c'. Parameters 'vmin', 'vmax' will be ignored\n"
     ]
    },
    {
     "name": "stdout",
     "output_type": "stream",
     "text": [
      "131\n"
     ]
    },
    {
     "name": "stderr",
     "output_type": "stream",
     "text": [
      "sys:1: UserWarning: No data for colormapping provided via 'c'. Parameters 'vmin', 'vmax' will be ignored\n"
     ]
    },
    {
     "name": "stdout",
     "output_type": "stream",
     "text": [
      "132\n"
     ]
    },
    {
     "name": "stderr",
     "output_type": "stream",
     "text": [
      "sys:1: UserWarning: No data for colormapping provided via 'c'. Parameters 'vmin', 'vmax' will be ignored\n"
     ]
    },
    {
     "name": "stdout",
     "output_type": "stream",
     "text": [
      "133\n"
     ]
    },
    {
     "name": "stderr",
     "output_type": "stream",
     "text": [
      "sys:1: UserWarning: No data for colormapping provided via 'c'. Parameters 'vmin', 'vmax' will be ignored\n"
     ]
    },
    {
     "name": "stdout",
     "output_type": "stream",
     "text": [
      "134\n"
     ]
    },
    {
     "name": "stderr",
     "output_type": "stream",
     "text": [
      "sys:1: UserWarning: No data for colormapping provided via 'c'. Parameters 'vmin', 'vmax' will be ignored\n"
     ]
    },
    {
     "name": "stdout",
     "output_type": "stream",
     "text": [
      "135\n"
     ]
    },
    {
     "name": "stderr",
     "output_type": "stream",
     "text": [
      "sys:1: UserWarning: No data for colormapping provided via 'c'. Parameters 'vmin', 'vmax' will be ignored\n"
     ]
    },
    {
     "name": "stdout",
     "output_type": "stream",
     "text": [
      "136\n"
     ]
    },
    {
     "name": "stderr",
     "output_type": "stream",
     "text": [
      "sys:1: UserWarning: No data for colormapping provided via 'c'. Parameters 'vmin', 'vmax' will be ignored\n"
     ]
    },
    {
     "name": "stdout",
     "output_type": "stream",
     "text": [
      "137\n"
     ]
    },
    {
     "name": "stderr",
     "output_type": "stream",
     "text": [
      "sys:1: UserWarning: No data for colormapping provided via 'c'. Parameters 'vmin', 'vmax' will be ignored\n"
     ]
    },
    {
     "name": "stdout",
     "output_type": "stream",
     "text": [
      "138\n"
     ]
    },
    {
     "name": "stderr",
     "output_type": "stream",
     "text": [
      "sys:1: UserWarning: No data for colormapping provided via 'c'. Parameters 'vmin', 'vmax' will be ignored\n"
     ]
    },
    {
     "name": "stdout",
     "output_type": "stream",
     "text": [
      "139\n"
     ]
    },
    {
     "name": "stderr",
     "output_type": "stream",
     "text": [
      "sys:1: UserWarning: No data for colormapping provided via 'c'. Parameters 'vmin', 'vmax' will be ignored\n"
     ]
    },
    {
     "name": "stdout",
     "output_type": "stream",
     "text": [
      "140\n"
     ]
    },
    {
     "name": "stderr",
     "output_type": "stream",
     "text": [
      "sys:1: UserWarning: No data for colormapping provided via 'c'. Parameters 'vmin', 'vmax' will be ignored\n"
     ]
    },
    {
     "name": "stdout",
     "output_type": "stream",
     "text": [
      "141\n"
     ]
    },
    {
     "name": "stderr",
     "output_type": "stream",
     "text": [
      "sys:1: UserWarning: No data for colormapping provided via 'c'. Parameters 'vmin', 'vmax' will be ignored\n"
     ]
    },
    {
     "name": "stdout",
     "output_type": "stream",
     "text": [
      "142\n"
     ]
    },
    {
     "name": "stderr",
     "output_type": "stream",
     "text": [
      "sys:1: UserWarning: No data for colormapping provided via 'c'. Parameters 'vmin', 'vmax' will be ignored\n"
     ]
    },
    {
     "name": "stdout",
     "output_type": "stream",
     "text": [
      "143\n"
     ]
    },
    {
     "name": "stderr",
     "output_type": "stream",
     "text": [
      "sys:1: UserWarning: No data for colormapping provided via 'c'. Parameters 'vmin', 'vmax' will be ignored\n"
     ]
    },
    {
     "name": "stdout",
     "output_type": "stream",
     "text": [
      "144\n"
     ]
    },
    {
     "name": "stderr",
     "output_type": "stream",
     "text": [
      "sys:1: UserWarning: No data for colormapping provided via 'c'. Parameters 'vmin', 'vmax' will be ignored\n"
     ]
    },
    {
     "name": "stdout",
     "output_type": "stream",
     "text": [
      "145\n"
     ]
    },
    {
     "name": "stderr",
     "output_type": "stream",
     "text": [
      "sys:1: UserWarning: No data for colormapping provided via 'c'. Parameters 'vmin', 'vmax' will be ignored\n"
     ]
    },
    {
     "name": "stdout",
     "output_type": "stream",
     "text": [
      "146\n"
     ]
    },
    {
     "name": "stderr",
     "output_type": "stream",
     "text": [
      "sys:1: UserWarning: No data for colormapping provided via 'c'. Parameters 'vmin', 'vmax' will be ignored\n"
     ]
    },
    {
     "name": "stdout",
     "output_type": "stream",
     "text": [
      "147\n"
     ]
    },
    {
     "name": "stderr",
     "output_type": "stream",
     "text": [
      "sys:1: UserWarning: No data for colormapping provided via 'c'. Parameters 'vmin', 'vmax' will be ignored\n"
     ]
    },
    {
     "name": "stdout",
     "output_type": "stream",
     "text": [
      "148\n"
     ]
    },
    {
     "name": "stderr",
     "output_type": "stream",
     "text": [
      "sys:1: UserWarning: No data for colormapping provided via 'c'. Parameters 'vmin', 'vmax' will be ignored\n"
     ]
    },
    {
     "name": "stdout",
     "output_type": "stream",
     "text": [
      "149\n"
     ]
    },
    {
     "name": "stderr",
     "output_type": "stream",
     "text": [
      "sys:1: UserWarning: No data for colormapping provided via 'c'. Parameters 'vmin', 'vmax' will be ignored\n"
     ]
    },
    {
     "name": "stdout",
     "output_type": "stream",
     "text": [
      "150\n"
     ]
    },
    {
     "name": "stderr",
     "output_type": "stream",
     "text": [
      "sys:1: UserWarning: No data for colormapping provided via 'c'. Parameters 'vmin', 'vmax' will be ignored\n"
     ]
    },
    {
     "name": "stdout",
     "output_type": "stream",
     "text": [
      "151\n"
     ]
    },
    {
     "name": "stderr",
     "output_type": "stream",
     "text": [
      "sys:1: UserWarning: No data for colormapping provided via 'c'. Parameters 'vmin', 'vmax' will be ignored\n"
     ]
    },
    {
     "name": "stdout",
     "output_type": "stream",
     "text": [
      "152\n"
     ]
    },
    {
     "name": "stderr",
     "output_type": "stream",
     "text": [
      "sys:1: UserWarning: No data for colormapping provided via 'c'. Parameters 'vmin', 'vmax' will be ignored\n"
     ]
    },
    {
     "name": "stdout",
     "output_type": "stream",
     "text": [
      "153\n"
     ]
    },
    {
     "name": "stderr",
     "output_type": "stream",
     "text": [
      "sys:1: UserWarning: No data for colormapping provided via 'c'. Parameters 'vmin', 'vmax' will be ignored\n"
     ]
    },
    {
     "name": "stdout",
     "output_type": "stream",
     "text": [
      "154\n"
     ]
    },
    {
     "name": "stderr",
     "output_type": "stream",
     "text": [
      "sys:1: UserWarning: No data for colormapping provided via 'c'. Parameters 'vmin', 'vmax' will be ignored\n"
     ]
    },
    {
     "name": "stdout",
     "output_type": "stream",
     "text": [
      "155\n"
     ]
    },
    {
     "name": "stderr",
     "output_type": "stream",
     "text": [
      "sys:1: UserWarning: No data for colormapping provided via 'c'. Parameters 'vmin', 'vmax' will be ignored\n"
     ]
    },
    {
     "name": "stdout",
     "output_type": "stream",
     "text": [
      "156\n"
     ]
    },
    {
     "name": "stderr",
     "output_type": "stream",
     "text": [
      "sys:1: UserWarning: No data for colormapping provided via 'c'. Parameters 'vmin', 'vmax' will be ignored\n"
     ]
    },
    {
     "name": "stdout",
     "output_type": "stream",
     "text": [
      "157\n"
     ]
    },
    {
     "name": "stderr",
     "output_type": "stream",
     "text": [
      "sys:1: UserWarning: No data for colormapping provided via 'c'. Parameters 'vmin', 'vmax' will be ignored\n"
     ]
    },
    {
     "name": "stdout",
     "output_type": "stream",
     "text": [
      "158\n"
     ]
    },
    {
     "name": "stderr",
     "output_type": "stream",
     "text": [
      "sys:1: UserWarning: No data for colormapping provided via 'c'. Parameters 'vmin', 'vmax' will be ignored\n"
     ]
    },
    {
     "name": "stdout",
     "output_type": "stream",
     "text": [
      "159\n"
     ]
    },
    {
     "name": "stderr",
     "output_type": "stream",
     "text": [
      "sys:1: UserWarning: No data for colormapping provided via 'c'. Parameters 'vmin', 'vmax' will be ignored\n"
     ]
    },
    {
     "name": "stdout",
     "output_type": "stream",
     "text": [
      "160\n"
     ]
    },
    {
     "name": "stderr",
     "output_type": "stream",
     "text": [
      "sys:1: UserWarning: No data for colormapping provided via 'c'. Parameters 'vmin', 'vmax' will be ignored\n"
     ]
    },
    {
     "name": "stdout",
     "output_type": "stream",
     "text": [
      "161\n"
     ]
    },
    {
     "name": "stderr",
     "output_type": "stream",
     "text": [
      "sys:1: UserWarning: No data for colormapping provided via 'c'. Parameters 'vmin', 'vmax' will be ignored\n"
     ]
    },
    {
     "name": "stdout",
     "output_type": "stream",
     "text": [
      "162\n"
     ]
    },
    {
     "name": "stderr",
     "output_type": "stream",
     "text": [
      "sys:1: UserWarning: No data for colormapping provided via 'c'. Parameters 'vmin', 'vmax' will be ignored\n"
     ]
    },
    {
     "name": "stdout",
     "output_type": "stream",
     "text": [
      "163\n"
     ]
    },
    {
     "name": "stderr",
     "output_type": "stream",
     "text": [
      "sys:1: UserWarning: No data for colormapping provided via 'c'. Parameters 'vmin', 'vmax' will be ignored\n"
     ]
    },
    {
     "name": "stdout",
     "output_type": "stream",
     "text": [
      "164\n"
     ]
    },
    {
     "name": "stderr",
     "output_type": "stream",
     "text": [
      "sys:1: UserWarning: No data for colormapping provided via 'c'. Parameters 'vmin', 'vmax' will be ignored\n"
     ]
    },
    {
     "name": "stdout",
     "output_type": "stream",
     "text": [
      "165\n"
     ]
    },
    {
     "name": "stderr",
     "output_type": "stream",
     "text": [
      "sys:1: UserWarning: No data for colormapping provided via 'c'. Parameters 'vmin', 'vmax' will be ignored\n"
     ]
    },
    {
     "name": "stdout",
     "output_type": "stream",
     "text": [
      "166\n"
     ]
    },
    {
     "name": "stderr",
     "output_type": "stream",
     "text": [
      "sys:1: UserWarning: No data for colormapping provided via 'c'. Parameters 'vmin', 'vmax' will be ignored\n"
     ]
    },
    {
     "name": "stdout",
     "output_type": "stream",
     "text": [
      "167\n"
     ]
    },
    {
     "name": "stderr",
     "output_type": "stream",
     "text": [
      "sys:1: UserWarning: No data for colormapping provided via 'c'. Parameters 'vmin', 'vmax' will be ignored\n"
     ]
    },
    {
     "name": "stdout",
     "output_type": "stream",
     "text": [
      "168\n"
     ]
    },
    {
     "name": "stderr",
     "output_type": "stream",
     "text": [
      "sys:1: UserWarning: No data for colormapping provided via 'c'. Parameters 'vmin', 'vmax' will be ignored\n"
     ]
    },
    {
     "name": "stdout",
     "output_type": "stream",
     "text": [
      "169\n"
     ]
    },
    {
     "name": "stderr",
     "output_type": "stream",
     "text": [
      "sys:1: UserWarning: No data for colormapping provided via 'c'. Parameters 'vmin', 'vmax' will be ignored\n"
     ]
    },
    {
     "name": "stdout",
     "output_type": "stream",
     "text": [
      "170\n"
     ]
    },
    {
     "name": "stderr",
     "output_type": "stream",
     "text": [
      "sys:1: UserWarning: No data for colormapping provided via 'c'. Parameters 'vmin', 'vmax' will be ignored\n"
     ]
    },
    {
     "name": "stdout",
     "output_type": "stream",
     "text": [
      "171\n"
     ]
    },
    {
     "name": "stderr",
     "output_type": "stream",
     "text": [
      "sys:1: UserWarning: No data for colormapping provided via 'c'. Parameters 'vmin', 'vmax' will be ignored\n"
     ]
    },
    {
     "name": "stdout",
     "output_type": "stream",
     "text": [
      "172\n"
     ]
    },
    {
     "name": "stderr",
     "output_type": "stream",
     "text": [
      "sys:1: UserWarning: No data for colormapping provided via 'c'. Parameters 'vmin', 'vmax' will be ignored\n"
     ]
    },
    {
     "name": "stdout",
     "output_type": "stream",
     "text": [
      "173\n"
     ]
    },
    {
     "name": "stderr",
     "output_type": "stream",
     "text": [
      "sys:1: UserWarning: No data for colormapping provided via 'c'. Parameters 'vmin', 'vmax' will be ignored\n"
     ]
    },
    {
     "name": "stdout",
     "output_type": "stream",
     "text": [
      "174\n"
     ]
    },
    {
     "name": "stderr",
     "output_type": "stream",
     "text": [
      "sys:1: UserWarning: No data for colormapping provided via 'c'. Parameters 'vmin', 'vmax' will be ignored\n"
     ]
    },
    {
     "name": "stdout",
     "output_type": "stream",
     "text": [
      "175\n"
     ]
    },
    {
     "name": "stderr",
     "output_type": "stream",
     "text": [
      "sys:1: UserWarning: No data for colormapping provided via 'c'. Parameters 'vmin', 'vmax' will be ignored\n"
     ]
    },
    {
     "name": "stdout",
     "output_type": "stream",
     "text": [
      "176\n"
     ]
    },
    {
     "name": "stderr",
     "output_type": "stream",
     "text": [
      "sys:1: UserWarning: No data for colormapping provided via 'c'. Parameters 'vmin', 'vmax' will be ignored\n"
     ]
    },
    {
     "name": "stdout",
     "output_type": "stream",
     "text": [
      "177\n"
     ]
    },
    {
     "name": "stderr",
     "output_type": "stream",
     "text": [
      "sys:1: UserWarning: No data for colormapping provided via 'c'. Parameters 'vmin', 'vmax' will be ignored\n"
     ]
    },
    {
     "name": "stdout",
     "output_type": "stream",
     "text": [
      "178\n"
     ]
    },
    {
     "name": "stderr",
     "output_type": "stream",
     "text": [
      "sys:1: UserWarning: No data for colormapping provided via 'c'. Parameters 'vmin', 'vmax' will be ignored\n"
     ]
    },
    {
     "name": "stdout",
     "output_type": "stream",
     "text": [
      "179\n"
     ]
    },
    {
     "name": "stderr",
     "output_type": "stream",
     "text": [
      "sys:1: UserWarning: No data for colormapping provided via 'c'. Parameters 'vmin', 'vmax' will be ignored\n"
     ]
    },
    {
     "name": "stdout",
     "output_type": "stream",
     "text": [
      "180\n"
     ]
    },
    {
     "name": "stderr",
     "output_type": "stream",
     "text": [
      "sys:1: UserWarning: No data for colormapping provided via 'c'. Parameters 'vmin', 'vmax' will be ignored\n"
     ]
    },
    {
     "name": "stdout",
     "output_type": "stream",
     "text": [
      "181\n"
     ]
    },
    {
     "name": "stderr",
     "output_type": "stream",
     "text": [
      "sys:1: UserWarning: No data for colormapping provided via 'c'. Parameters 'vmin', 'vmax' will be ignored\n"
     ]
    },
    {
     "name": "stdout",
     "output_type": "stream",
     "text": [
      "182\n"
     ]
    },
    {
     "name": "stderr",
     "output_type": "stream",
     "text": [
      "sys:1: UserWarning: No data for colormapping provided via 'c'. Parameters 'vmin', 'vmax' will be ignored\n"
     ]
    },
    {
     "name": "stdout",
     "output_type": "stream",
     "text": [
      "183\n"
     ]
    },
    {
     "name": "stderr",
     "output_type": "stream",
     "text": [
      "sys:1: UserWarning: No data for colormapping provided via 'c'. Parameters 'vmin', 'vmax' will be ignored\n"
     ]
    },
    {
     "name": "stdout",
     "output_type": "stream",
     "text": [
      "184\n"
     ]
    },
    {
     "name": "stderr",
     "output_type": "stream",
     "text": [
      "sys:1: UserWarning: No data for colormapping provided via 'c'. Parameters 'vmin', 'vmax' will be ignored\n"
     ]
    },
    {
     "name": "stdout",
     "output_type": "stream",
     "text": [
      "185\n"
     ]
    },
    {
     "name": "stderr",
     "output_type": "stream",
     "text": [
      "sys:1: UserWarning: No data for colormapping provided via 'c'. Parameters 'vmin', 'vmax' will be ignored\n"
     ]
    },
    {
     "name": "stdout",
     "output_type": "stream",
     "text": [
      "186\n"
     ]
    },
    {
     "name": "stderr",
     "output_type": "stream",
     "text": [
      "sys:1: UserWarning: No data for colormapping provided via 'c'. Parameters 'vmin', 'vmax' will be ignored\n"
     ]
    },
    {
     "name": "stdout",
     "output_type": "stream",
     "text": [
      "187\n"
     ]
    },
    {
     "name": "stderr",
     "output_type": "stream",
     "text": [
      "sys:1: UserWarning: No data for colormapping provided via 'c'. Parameters 'vmin', 'vmax' will be ignored\n"
     ]
    },
    {
     "name": "stdout",
     "output_type": "stream",
     "text": [
      "188\n"
     ]
    },
    {
     "name": "stderr",
     "output_type": "stream",
     "text": [
      "sys:1: UserWarning: No data for colormapping provided via 'c'. Parameters 'vmin', 'vmax' will be ignored\n"
     ]
    },
    {
     "name": "stdout",
     "output_type": "stream",
     "text": [
      "189\n"
     ]
    },
    {
     "name": "stderr",
     "output_type": "stream",
     "text": [
      "sys:1: UserWarning: No data for colormapping provided via 'c'. Parameters 'vmin', 'vmax' will be ignored\n"
     ]
    },
    {
     "name": "stdout",
     "output_type": "stream",
     "text": [
      "190\n"
     ]
    },
    {
     "name": "stderr",
     "output_type": "stream",
     "text": [
      "sys:1: UserWarning: No data for colormapping provided via 'c'. Parameters 'vmin', 'vmax' will be ignored\n"
     ]
    },
    {
     "name": "stdout",
     "output_type": "stream",
     "text": [
      "191\n"
     ]
    },
    {
     "name": "stderr",
     "output_type": "stream",
     "text": [
      "sys:1: UserWarning: No data for colormapping provided via 'c'. Parameters 'vmin', 'vmax' will be ignored\n"
     ]
    },
    {
     "name": "stdout",
     "output_type": "stream",
     "text": [
      "192\n"
     ]
    },
    {
     "name": "stderr",
     "output_type": "stream",
     "text": [
      "sys:1: UserWarning: No data for colormapping provided via 'c'. Parameters 'vmin', 'vmax' will be ignored\n"
     ]
    },
    {
     "name": "stdout",
     "output_type": "stream",
     "text": [
      "193\n"
     ]
    },
    {
     "name": "stderr",
     "output_type": "stream",
     "text": [
      "sys:1: UserWarning: No data for colormapping provided via 'c'. Parameters 'vmin', 'vmax' will be ignored\n"
     ]
    },
    {
     "name": "stdout",
     "output_type": "stream",
     "text": [
      "194\n"
     ]
    },
    {
     "name": "stderr",
     "output_type": "stream",
     "text": [
      "sys:1: UserWarning: No data for colormapping provided via 'c'. Parameters 'vmin', 'vmax' will be ignored\n"
     ]
    },
    {
     "name": "stdout",
     "output_type": "stream",
     "text": [
      "195\n"
     ]
    },
    {
     "name": "stderr",
     "output_type": "stream",
     "text": [
      "sys:1: UserWarning: No data for colormapping provided via 'c'. Parameters 'vmin', 'vmax' will be ignored\n"
     ]
    },
    {
     "name": "stdout",
     "output_type": "stream",
     "text": [
      "196\n"
     ]
    },
    {
     "name": "stderr",
     "output_type": "stream",
     "text": [
      "sys:1: UserWarning: No data for colormapping provided via 'c'. Parameters 'vmin', 'vmax' will be ignored\n"
     ]
    },
    {
     "name": "stdout",
     "output_type": "stream",
     "text": [
      "197\n"
     ]
    },
    {
     "name": "stderr",
     "output_type": "stream",
     "text": [
      "sys:1: UserWarning: No data for colormapping provided via 'c'. Parameters 'vmin', 'vmax' will be ignored\n"
     ]
    },
    {
     "name": "stdout",
     "output_type": "stream",
     "text": [
      "198\n"
     ]
    },
    {
     "name": "stderr",
     "output_type": "stream",
     "text": [
      "sys:1: UserWarning: No data for colormapping provided via 'c'. Parameters 'vmin', 'vmax' will be ignored\n"
     ]
    },
    {
     "name": "stdout",
     "output_type": "stream",
     "text": [
      "199\n"
     ]
    },
    {
     "name": "stderr",
     "output_type": "stream",
     "text": [
      "sys:1: UserWarning: No data for colormapping provided via 'c'. Parameters 'vmin', 'vmax' will be ignored\n"
     ]
    },
    {
     "name": "stdout",
     "output_type": "stream",
     "text": [
      "200\n"
     ]
    },
    {
     "name": "stderr",
     "output_type": "stream",
     "text": [
      "sys:1: UserWarning: No data for colormapping provided via 'c'. Parameters 'vmin', 'vmax' will be ignored\n"
     ]
    },
    {
     "name": "stdout",
     "output_type": "stream",
     "text": [
      "201\n"
     ]
    },
    {
     "name": "stderr",
     "output_type": "stream",
     "text": [
      "sys:1: UserWarning: No data for colormapping provided via 'c'. Parameters 'vmin', 'vmax' will be ignored\n"
     ]
    },
    {
     "name": "stdout",
     "output_type": "stream",
     "text": [
      "202\n"
     ]
    },
    {
     "name": "stderr",
     "output_type": "stream",
     "text": [
      "sys:1: UserWarning: No data for colormapping provided via 'c'. Parameters 'vmin', 'vmax' will be ignored\n"
     ]
    },
    {
     "name": "stdout",
     "output_type": "stream",
     "text": [
      "203\n"
     ]
    },
    {
     "name": "stderr",
     "output_type": "stream",
     "text": [
      "sys:1: UserWarning: No data for colormapping provided via 'c'. Parameters 'vmin', 'vmax' will be ignored\n"
     ]
    },
    {
     "name": "stdout",
     "output_type": "stream",
     "text": [
      "204\n"
     ]
    },
    {
     "name": "stderr",
     "output_type": "stream",
     "text": [
      "sys:1: UserWarning: No data for colormapping provided via 'c'. Parameters 'vmin', 'vmax' will be ignored\n"
     ]
    },
    {
     "name": "stdout",
     "output_type": "stream",
     "text": [
      "205\n"
     ]
    },
    {
     "name": "stderr",
     "output_type": "stream",
     "text": [
      "sys:1: UserWarning: No data for colormapping provided via 'c'. Parameters 'vmin', 'vmax' will be ignored\n"
     ]
    },
    {
     "name": "stdout",
     "output_type": "stream",
     "text": [
      "206\n"
     ]
    },
    {
     "name": "stderr",
     "output_type": "stream",
     "text": [
      "sys:1: UserWarning: No data for colormapping provided via 'c'. Parameters 'vmin', 'vmax' will be ignored\n"
     ]
    },
    {
     "name": "stdout",
     "output_type": "stream",
     "text": [
      "207\n"
     ]
    },
    {
     "name": "stderr",
     "output_type": "stream",
     "text": [
      "sys:1: UserWarning: No data for colormapping provided via 'c'. Parameters 'vmin', 'vmax' will be ignored\n"
     ]
    },
    {
     "name": "stdout",
     "output_type": "stream",
     "text": [
      "208\n"
     ]
    },
    {
     "name": "stderr",
     "output_type": "stream",
     "text": [
      "sys:1: UserWarning: No data for colormapping provided via 'c'. Parameters 'vmin', 'vmax' will be ignored\n"
     ]
    },
    {
     "name": "stdout",
     "output_type": "stream",
     "text": [
      "209\n"
     ]
    },
    {
     "name": "stderr",
     "output_type": "stream",
     "text": [
      "sys:1: UserWarning: No data for colormapping provided via 'c'. Parameters 'vmin', 'vmax' will be ignored\n"
     ]
    },
    {
     "name": "stdout",
     "output_type": "stream",
     "text": [
      "210\n"
     ]
    },
    {
     "name": "stderr",
     "output_type": "stream",
     "text": [
      "sys:1: UserWarning: No data for colormapping provided via 'c'. Parameters 'vmin', 'vmax' will be ignored\n"
     ]
    },
    {
     "name": "stdout",
     "output_type": "stream",
     "text": [
      "211\n"
     ]
    },
    {
     "name": "stderr",
     "output_type": "stream",
     "text": [
      "sys:1: UserWarning: No data for colormapping provided via 'c'. Parameters 'vmin', 'vmax' will be ignored\n"
     ]
    },
    {
     "name": "stdout",
     "output_type": "stream",
     "text": [
      "212\n"
     ]
    },
    {
     "name": "stderr",
     "output_type": "stream",
     "text": [
      "sys:1: UserWarning: No data for colormapping provided via 'c'. Parameters 'vmin', 'vmax' will be ignored\n"
     ]
    },
    {
     "name": "stdout",
     "output_type": "stream",
     "text": [
      "213\n"
     ]
    },
    {
     "name": "stderr",
     "output_type": "stream",
     "text": [
      "sys:1: UserWarning: No data for colormapping provided via 'c'. Parameters 'vmin', 'vmax' will be ignored\n"
     ]
    },
    {
     "name": "stdout",
     "output_type": "stream",
     "text": [
      "214\n"
     ]
    },
    {
     "name": "stderr",
     "output_type": "stream",
     "text": [
      "sys:1: UserWarning: No data for colormapping provided via 'c'. Parameters 'vmin', 'vmax' will be ignored\n"
     ]
    },
    {
     "name": "stdout",
     "output_type": "stream",
     "text": [
      "215\n"
     ]
    },
    {
     "name": "stderr",
     "output_type": "stream",
     "text": [
      "sys:1: UserWarning: No data for colormapping provided via 'c'. Parameters 'vmin', 'vmax' will be ignored\n"
     ]
    },
    {
     "name": "stdout",
     "output_type": "stream",
     "text": [
      "216\n"
     ]
    },
    {
     "name": "stderr",
     "output_type": "stream",
     "text": [
      "sys:1: UserWarning: No data for colormapping provided via 'c'. Parameters 'vmin', 'vmax' will be ignored\n"
     ]
    },
    {
     "name": "stdout",
     "output_type": "stream",
     "text": [
      "217\n"
     ]
    },
    {
     "name": "stderr",
     "output_type": "stream",
     "text": [
      "sys:1: UserWarning: No data for colormapping provided via 'c'. Parameters 'vmin', 'vmax' will be ignored\n"
     ]
    },
    {
     "name": "stdout",
     "output_type": "stream",
     "text": [
      "218\n"
     ]
    },
    {
     "name": "stderr",
     "output_type": "stream",
     "text": [
      "sys:1: UserWarning: No data for colormapping provided via 'c'. Parameters 'vmin', 'vmax' will be ignored\n"
     ]
    },
    {
     "name": "stdout",
     "output_type": "stream",
     "text": [
      "219\n"
     ]
    },
    {
     "name": "stderr",
     "output_type": "stream",
     "text": [
      "sys:1: UserWarning: No data for colormapping provided via 'c'. Parameters 'vmin', 'vmax' will be ignored\n"
     ]
    },
    {
     "name": "stdout",
     "output_type": "stream",
     "text": [
      "220\n"
     ]
    },
    {
     "name": "stderr",
     "output_type": "stream",
     "text": [
      "sys:1: UserWarning: No data for colormapping provided via 'c'. Parameters 'vmin', 'vmax' will be ignored\n"
     ]
    },
    {
     "name": "stdout",
     "output_type": "stream",
     "text": [
      "221\n"
     ]
    },
    {
     "name": "stderr",
     "output_type": "stream",
     "text": [
      "sys:1: UserWarning: No data for colormapping provided via 'c'. Parameters 'vmin', 'vmax' will be ignored\n"
     ]
    },
    {
     "name": "stdout",
     "output_type": "stream",
     "text": [
      "222\n"
     ]
    },
    {
     "name": "stderr",
     "output_type": "stream",
     "text": [
      "sys:1: UserWarning: No data for colormapping provided via 'c'. Parameters 'vmin', 'vmax' will be ignored\n"
     ]
    },
    {
     "name": "stdout",
     "output_type": "stream",
     "text": [
      "223\n"
     ]
    },
    {
     "name": "stderr",
     "output_type": "stream",
     "text": [
      "sys:1: UserWarning: No data for colormapping provided via 'c'. Parameters 'vmin', 'vmax' will be ignored\n"
     ]
    },
    {
     "name": "stdout",
     "output_type": "stream",
     "text": [
      "224\n"
     ]
    },
    {
     "name": "stderr",
     "output_type": "stream",
     "text": [
      "sys:1: UserWarning: No data for colormapping provided via 'c'. Parameters 'vmin', 'vmax' will be ignored\n"
     ]
    },
    {
     "name": "stdout",
     "output_type": "stream",
     "text": [
      "225\n"
     ]
    },
    {
     "name": "stderr",
     "output_type": "stream",
     "text": [
      "sys:1: UserWarning: No data for colormapping provided via 'c'. Parameters 'vmin', 'vmax' will be ignored\n"
     ]
    },
    {
     "name": "stdout",
     "output_type": "stream",
     "text": [
      "226\n"
     ]
    },
    {
     "name": "stderr",
     "output_type": "stream",
     "text": [
      "sys:1: UserWarning: No data for colormapping provided via 'c'. Parameters 'vmin', 'vmax' will be ignored\n"
     ]
    },
    {
     "name": "stdout",
     "output_type": "stream",
     "text": [
      "227\n"
     ]
    },
    {
     "name": "stderr",
     "output_type": "stream",
     "text": [
      "sys:1: UserWarning: No data for colormapping provided via 'c'. Parameters 'vmin', 'vmax' will be ignored\n"
     ]
    },
    {
     "name": "stdout",
     "output_type": "stream",
     "text": [
      "228\n"
     ]
    },
    {
     "name": "stderr",
     "output_type": "stream",
     "text": [
      "sys:1: UserWarning: No data for colormapping provided via 'c'. Parameters 'vmin', 'vmax' will be ignored\n"
     ]
    },
    {
     "name": "stdout",
     "output_type": "stream",
     "text": [
      "229\n"
     ]
    },
    {
     "name": "stderr",
     "output_type": "stream",
     "text": [
      "sys:1: UserWarning: No data for colormapping provided via 'c'. Parameters 'vmin', 'vmax' will be ignored\n"
     ]
    },
    {
     "name": "stdout",
     "output_type": "stream",
     "text": [
      "230\n"
     ]
    },
    {
     "name": "stderr",
     "output_type": "stream",
     "text": [
      "sys:1: UserWarning: No data for colormapping provided via 'c'. Parameters 'vmin', 'vmax' will be ignored\n"
     ]
    },
    {
     "name": "stdout",
     "output_type": "stream",
     "text": [
      "231\n"
     ]
    },
    {
     "name": "stderr",
     "output_type": "stream",
     "text": [
      "sys:1: UserWarning: No data for colormapping provided via 'c'. Parameters 'vmin', 'vmax' will be ignored\n"
     ]
    },
    {
     "name": "stdout",
     "output_type": "stream",
     "text": [
      "232\n"
     ]
    },
    {
     "name": "stderr",
     "output_type": "stream",
     "text": [
      "sys:1: UserWarning: No data for colormapping provided via 'c'. Parameters 'vmin', 'vmax' will be ignored\n"
     ]
    },
    {
     "name": "stdout",
     "output_type": "stream",
     "text": [
      "233\n"
     ]
    },
    {
     "name": "stderr",
     "output_type": "stream",
     "text": [
      "sys:1: UserWarning: No data for colormapping provided via 'c'. Parameters 'vmin', 'vmax' will be ignored\n"
     ]
    },
    {
     "name": "stdout",
     "output_type": "stream",
     "text": [
      "234\n"
     ]
    },
    {
     "name": "stderr",
     "output_type": "stream",
     "text": [
      "sys:1: UserWarning: No data for colormapping provided via 'c'. Parameters 'vmin', 'vmax' will be ignored\n"
     ]
    },
    {
     "name": "stdout",
     "output_type": "stream",
     "text": [
      "235\n"
     ]
    },
    {
     "name": "stderr",
     "output_type": "stream",
     "text": [
      "sys:1: UserWarning: No data for colormapping provided via 'c'. Parameters 'vmin', 'vmax' will be ignored\n"
     ]
    },
    {
     "name": "stdout",
     "output_type": "stream",
     "text": [
      "236\n"
     ]
    },
    {
     "name": "stderr",
     "output_type": "stream",
     "text": [
      "sys:1: UserWarning: No data for colormapping provided via 'c'. Parameters 'vmin', 'vmax' will be ignored\n"
     ]
    },
    {
     "name": "stdout",
     "output_type": "stream",
     "text": [
      "237\n"
     ]
    },
    {
     "name": "stderr",
     "output_type": "stream",
     "text": [
      "sys:1: UserWarning: No data for colormapping provided via 'c'. Parameters 'vmin', 'vmax' will be ignored\n"
     ]
    },
    {
     "name": "stdout",
     "output_type": "stream",
     "text": [
      "238\n"
     ]
    },
    {
     "name": "stderr",
     "output_type": "stream",
     "text": [
      "sys:1: UserWarning: No data for colormapping provided via 'c'. Parameters 'vmin', 'vmax' will be ignored\n"
     ]
    },
    {
     "name": "stdout",
     "output_type": "stream",
     "text": [
      "239\n"
     ]
    },
    {
     "name": "stderr",
     "output_type": "stream",
     "text": [
      "sys:1: UserWarning: No data for colormapping provided via 'c'. Parameters 'vmin', 'vmax' will be ignored\n"
     ]
    },
    {
     "name": "stdout",
     "output_type": "stream",
     "text": [
      "240\n"
     ]
    },
    {
     "name": "stderr",
     "output_type": "stream",
     "text": [
      "sys:1: UserWarning: No data for colormapping provided via 'c'. Parameters 'vmin', 'vmax' will be ignored\n"
     ]
    },
    {
     "name": "stdout",
     "output_type": "stream",
     "text": [
      "241\n"
     ]
    },
    {
     "name": "stderr",
     "output_type": "stream",
     "text": [
      "sys:1: UserWarning: No data for colormapping provided via 'c'. Parameters 'vmin', 'vmax' will be ignored\n"
     ]
    },
    {
     "name": "stdout",
     "output_type": "stream",
     "text": [
      "242\n"
     ]
    },
    {
     "name": "stderr",
     "output_type": "stream",
     "text": [
      "sys:1: UserWarning: No data for colormapping provided via 'c'. Parameters 'vmin', 'vmax' will be ignored\n"
     ]
    },
    {
     "name": "stdout",
     "output_type": "stream",
     "text": [
      "243\n"
     ]
    },
    {
     "name": "stderr",
     "output_type": "stream",
     "text": [
      "sys:1: UserWarning: No data for colormapping provided via 'c'. Parameters 'vmin', 'vmax' will be ignored\n"
     ]
    },
    {
     "name": "stdout",
     "output_type": "stream",
     "text": [
      "244\n"
     ]
    },
    {
     "name": "stderr",
     "output_type": "stream",
     "text": [
      "sys:1: UserWarning: No data for colormapping provided via 'c'. Parameters 'vmin', 'vmax' will be ignored\n"
     ]
    },
    {
     "name": "stdout",
     "output_type": "stream",
     "text": [
      "245\n"
     ]
    },
    {
     "name": "stderr",
     "output_type": "stream",
     "text": [
      "sys:1: UserWarning: No data for colormapping provided via 'c'. Parameters 'vmin', 'vmax' will be ignored\n"
     ]
    },
    {
     "name": "stdout",
     "output_type": "stream",
     "text": [
      "246\n"
     ]
    },
    {
     "name": "stderr",
     "output_type": "stream",
     "text": [
      "sys:1: UserWarning: No data for colormapping provided via 'c'. Parameters 'vmin', 'vmax' will be ignored\n"
     ]
    },
    {
     "name": "stdout",
     "output_type": "stream",
     "text": [
      "247\n"
     ]
    },
    {
     "name": "stderr",
     "output_type": "stream",
     "text": [
      "sys:1: UserWarning: No data for colormapping provided via 'c'. Parameters 'vmin', 'vmax' will be ignored\n"
     ]
    },
    {
     "name": "stdout",
     "output_type": "stream",
     "text": [
      "248\n"
     ]
    },
    {
     "name": "stderr",
     "output_type": "stream",
     "text": [
      "sys:1: UserWarning: No data for colormapping provided via 'c'. Parameters 'vmin', 'vmax' will be ignored\n"
     ]
    },
    {
     "name": "stdout",
     "output_type": "stream",
     "text": [
      "249\n"
     ]
    },
    {
     "name": "stderr",
     "output_type": "stream",
     "text": [
      "sys:1: UserWarning: No data for colormapping provided via 'c'. Parameters 'vmin', 'vmax' will be ignored\n"
     ]
    },
    {
     "name": "stdout",
     "output_type": "stream",
     "text": [
      "250\n"
     ]
    },
    {
     "name": "stderr",
     "output_type": "stream",
     "text": [
      "sys:1: UserWarning: No data for colormapping provided via 'c'. Parameters 'vmin', 'vmax' will be ignored\n",
      "sys:1: UserWarning: No data for colormapping provided via 'c'. Parameters 'vmin', 'vmax' will be ignored\n",
      "\u001b[36m\u001b[1m[ \u001b[22m\u001b[39m\u001b[36m\u001b[1mInfo: \u001b[22m\u001b[39mSaved animation to /home/mgadaloff/SAFT_ML/special_thingy_params/tmp.gif\n"
     ]
    },
    {
     "data": {
      "image/png": "[encoded data removed]",
      "text/plain": [
       "PyPlot.Figure(PyObject <Figure size 2400x2400 with 1 Axes>)"
      ]
     },
     "metadata": {},
     "output_type": "display_data"
    }
   ],
   "source": [
    "# Set pyplot backend for plots\n",
    "using Plots\n",
    "pyplot()\n",
    "\n",
    "tick_font_size = 16\n",
    "label_font_size = 18\n",
    "total_frames =  600 #nrow(overview_gif_data)\n",
    "\n",
    "marker_size = 8\n",
    "\n",
    "default(legend = false)\n",
    "\n",
    "@gif for i = 1:250#total_frames\n",
    "    \n",
    "    plot(pcp_rho_plot , pcp_T_plot_envelope, seriestype=:scatter,dpi=400, size=(600, 600),framestyle=:box, fontfamily=\"serif\",markercolor=\"#F4B183\",markerstrokealpha=0,markersize=5, guidefontsize=label_font_size,titlefontsize=label_font_size, xtickfontsize=tick_font_size, ytickfontsize=tick_font_size,legendfontsize=12);\n",
    "\n",
    "    # plot!(overview_gif_data[i,2] , overview_gif_data[i,3],linecolor=\"#08298a\",grid=false);\n",
    "    # percent_training = \"$(round((i/total_frames)*100, sigdigits=3))\"\n",
    "\n",
    "    if i <= 100\n",
    "        plot!(overview_gif_data[i,2] , overview_gif_data[i,3],linecolor=\"#BDD7EE\",grid=false,linewidth=2);\n",
    "        percent_training = \"$(round((i/total_frames)*100, sigdigits=3))\"\n",
    "    elseif i <= 200\n",
    "        plot!(overview_gif_data[100 + (i-100)*5,2] , overview_gif_data[100 + (i-100)*5,3],linecolor=\"#BDD7EE\",grid=false,linewidth=2);\n",
    "        percent_training = \"$(round(((100 + (i-100)*5)/total_frames)*100, sigdigits=3))\"\n",
    "    else\n",
    "        plot!(overview_gif_data[100 + (200-100)*5,2] , overview_gif_data[100 + (200-100)*5,3],linecolor=\"#BDD7EE\",grid=false,linewidth=2);\n",
    "        percent_training = \"$(round(((100 + (200-100)*5)/total_frames)*100, sigdigits=3))\"\n",
    "    end\n",
    "\n",
    "    ylabel!(\"Temperature / K\")\n",
    "    xlabel!(L\"Density / (mol l$\\mathregular{^{-1}}$)\")\n",
    "    xlims!(-0.5,7)\n",
    "    ylims!(300,800)\n",
    "    # xticks!([10^-1, 10^-0, 10^1, 10^2, 10^3, 10^4, 10^5, 10^6, 10^7])\n",
    "    xticks!([0,1,2,3,4,5,6,7])\n",
    "    title!(\"2-Methyloctane\")\n",
    "   \n",
    "    annotate!(6, 775, percent_training, valign=:top,fontsize=16)\n",
    "\n",
    "    println(i)\n",
    "\n",
    "end fps=20;\n",
    "\n"
   ]
  },
  {
   "cell_type": "code",
   "execution_count": 92,
   "metadata": {},
   "outputs": [],
   "source": [
    "trend_gif_data_raw = CSV.read(\"../special_thingy_params/trend_gif_data.csv\", DataFrame, header=1);"
   ]
  },
  {
   "cell_type": "code",
   "execution_count": 95,
   "metadata": {},
   "outputs": [],
   "source": [
    "num_rows = nrow(trend_gif_data_raw)\n",
    "\n",
    "trend_gif_data = DataFrame(\n",
    "    m_sigma_3 = fill([0.0], num_rows),\n",
    "    m_epsilon = fill([0.0], num_rows),\n",
    "    m_sigma_3_r2 = fill(0.0, num_rows),\n",
    "    m_epsilon_r2 = fill(0.0, num_rows),\n",
    "    Mw = fill([0.0], num_rows),\n",
    ") ;\n",
    "\n",
    "for j = 1:ncol(trend_gif_data_raw)\n",
    "\n",
    "    if j == 1 || j == 2 || j ==5\n",
    "\n",
    "        for i = 1:num_rows\n",
    "            values_str = split(strip(trend_gif_data_raw[i,j], ['[', ']']), \", \")\n",
    "            values = parse.(Float64, values_str)\n",
    "            vector_of_floats = collect(values)\n",
    "            trend_gif_data[i,j] = vector_of_floats\n",
    "        end\n",
    "\n",
    "    else\n",
    "\n",
    "        for i = 1:num_rows\n",
    "        #     value = parse.(Float64, trend_gif_data_raw[i,j])\n",
    "            # trend_gif_data[i,j] = value\n",
    "            trend_gif_data[i,j] = trend_gif_data_raw[i,j]\n",
    "        end\n",
    "\n",
    "    end\n",
    "\n",
    "end"
   ]
  },
  {
   "cell_type": "code",
   "execution_count": 118,
   "metadata": {},
   "outputs": [],
   "source": [
    "# # Set pyplot backend for plots\n",
    "# using Plots\n",
    "# pyplot()\n",
    "\n",
    "# tick_font_size = 16\n",
    "# label_font_size = 18\n",
    "# total_frames = 250 #nrow(trend_gif_data)\n",
    "\n",
    "# marker_colour = \"#5dc90a\"\n",
    "# marker_size = 8\n",
    "\n",
    "# default(legend = false)\n",
    "\n",
    "# Mw_range = range(0,500,23)\n",
    "\n",
    "# mϵ_pred = [8.2034 * i + 36.245 for i in Mw_range]\n",
    "# mσ3_pred = [1.8975 * i + 18.278 for i in Mw_range]\n",
    "\n",
    "# @gif for i = 1:total_frames\n",
    "    \n",
    "#     plot(Mw_range , mϵ_pred, dpi=400, size=(600, 600), linecolor=\"black\", linewidth=2, framestyle=:box, fontfamily=\"serif\", guidefontsize=label_font_size,titlefontsize=label_font_size, xtickfontsize=tick_font_size, ytickfontsize=tick_font_size,legendfontsize=12);\n",
    "\n",
    "#     if i <= 60\n",
    "#         plot!(trend_gif_data[i,:Mw] , trend_gif_data[i,:m_epsilon], seriestype=:scatter,grid=false,markercolor=\"#F4B183\",markerstrokealpha=0,markersize=5);\n",
    "#         percent_training = \"$(round((i/620)*100, sigdigits=3))\"\n",
    "#         r2 = \"$(round(trend_gif_data[i,:m_epsilon_r2], sigdigits=3))\"\n",
    "#     elseif i <=200\n",
    "#         plot!(trend_gif_data[60 + (i-60)*4,:Mw] , trend_gif_data[60 + (i-60)*4,:m_epsilon], seriestype=:scatter,grid=false,markercolor=\"#F4B183\",markerstrokealpha=0,markersize=5);\n",
    "#         percent_training = \"$(round(((60 + (i-60)*4)/620)*100, sigdigits=3))\"\n",
    "#         r2 = \"$(round(trend_gif_data[(60 + (i-60)*4),:m_epsilon_r2], sigdigits=3))\"\n",
    "#     else\n",
    "#         plot!(trend_gif_data[60 + (200-60)*4,:Mw] , trend_gif_data[60 + (200-60)*4,:m_epsilon], seriestype=:scatter,grid=false,markercolor=\"#F4B183\",markerstrokealpha=0,markersize=5);\n",
    "#         percent_training = \"$(round(((60 + (200-60)*4)/620)*100, sigdigits=3))\"\n",
    "#         r2 = \"$(round(trend_gif_data[(60 + (200-60)*4),:m_epsilon_r2], sigdigits=3))\"\n",
    "    \n",
    "#     end\n",
    "\n",
    "\n",
    "#     ylabel!(L\"(mϵ/k$\\mathregular{_B}$) / K\", fontsize=label_fontsize)\n",
    "#     xlabel!(L\"Molar Weight / (g mol$\\mathregular{^{-1}}$)\", fontsize=label_fontsize)\n",
    "#     xlims!(0.5,400)\n",
    "#     ylims!(0,7000)\n",
    "\n",
    "#     # xticks!([10^-1, 10^-0, 10^1, 10^2, 10^3, 10^4, 10^5, 10^6, 10^7])\n",
    "#     # xticks!([0,1,2,3,4,5,6,7])\n",
    "#     # title!(\"n-Octane\")\n",
    "   \n",
    "#     annotate!(350, 6750, percent_training, valign=:top,fontsize=16)\n",
    "#     annotate!(350, 6250, r2, valign=:top,fontsize=16)\n",
    "\n",
    "#     println(i)\n",
    "\n",
    "# end fps=25;\n",
    "\n"
   ]
  },
  {
   "cell_type": "code",
   "execution_count": 123,
   "metadata": {},
   "outputs": [
    {
     "name": "stdout",
     "output_type": "stream",
     "text": [
      "1\n",
      "2\n"
     ]
    },
    {
     "name": "stderr",
     "output_type": "stream",
     "text": [
      "sys:1: UserWarning: No data for colormapping provided via 'c'. Parameters 'vmin', 'vmax' will be ignored\n"
     ]
    },
    {
     "name": "stdout",
     "output_type": "stream",
     "text": [
      "3\n"
     ]
    },
    {
     "name": "stderr",
     "output_type": "stream",
     "text": [
      "sys:1: UserWarning: No data for colormapping provided via 'c'. Parameters 'vmin', 'vmax' will be ignored\n"
     ]
    },
    {
     "name": "stdout",
     "output_type": "stream",
     "text": [
      "4\n"
     ]
    },
    {
     "name": "stderr",
     "output_type": "stream",
     "text": [
      "sys:1: UserWarning: No data for colormapping provided via 'c'. Parameters 'vmin', 'vmax' will be ignored\n"
     ]
    },
    {
     "name": "stdout",
     "output_type": "stream",
     "text": [
      "5\n"
     ]
    },
    {
     "name": "stderr",
     "output_type": "stream",
     "text": [
      "sys:1: UserWarning: No data for colormapping provided via 'c'. Parameters 'vmin', 'vmax' will be ignored\n"
     ]
    },
    {
     "name": "stdout",
     "output_type": "stream",
     "text": [
      "6\n"
     ]
    },
    {
     "name": "stderr",
     "output_type": "stream",
     "text": [
      "sys:1: UserWarning: No data for colormapping provided via 'c'. Parameters 'vmin', 'vmax' will be ignored\n"
     ]
    },
    {
     "name": "stdout",
     "output_type": "stream",
     "text": [
      "7\n"
     ]
    },
    {
     "name": "stderr",
     "output_type": "stream",
     "text": [
      "sys:1: UserWarning: No data for colormapping provided via 'c'. Parameters 'vmin', 'vmax' will be ignored\n"
     ]
    },
    {
     "name": "stdout",
     "output_type": "stream",
     "text": [
      "8\n"
     ]
    },
    {
     "name": "stderr",
     "output_type": "stream",
     "text": [
      "sys:1: UserWarning: No data for colormapping provided via 'c'. Parameters 'vmin', 'vmax' will be ignored\n"
     ]
    },
    {
     "name": "stdout",
     "output_type": "stream",
     "text": [
      "9\n"
     ]
    },
    {
     "name": "stderr",
     "output_type": "stream",
     "text": [
      "sys:1: UserWarning: No data for colormapping provided via 'c'. Parameters 'vmin', 'vmax' will be ignored\n"
     ]
    },
    {
     "name": "stdout",
     "output_type": "stream",
     "text": [
      "10\n"
     ]
    },
    {
     "name": "stderr",
     "output_type": "stream",
     "text": [
      "sys:1: UserWarning: No data for colormapping provided via 'c'. Parameters 'vmin', 'vmax' will be ignored\n"
     ]
    },
    {
     "name": "stdout",
     "output_type": "stream",
     "text": [
      "11\n"
     ]
    },
    {
     "name": "stderr",
     "output_type": "stream",
     "text": [
      "sys:1: UserWarning: No data for colormapping provided via 'c'. Parameters 'vmin', 'vmax' will be ignored\n"
     ]
    },
    {
     "name": "stdout",
     "output_type": "stream",
     "text": [
      "12\n"
     ]
    },
    {
     "name": "stderr",
     "output_type": "stream",
     "text": [
      "sys:1: UserWarning: No data for colormapping provided via 'c'. Parameters 'vmin', 'vmax' will be ignored\n"
     ]
    },
    {
     "name": "stdout",
     "output_type": "stream",
     "text": [
      "13\n"
     ]
    },
    {
     "name": "stderr",
     "output_type": "stream",
     "text": [
      "sys:1: UserWarning: No data for colormapping provided via 'c'. Parameters 'vmin', 'vmax' will be ignored\n"
     ]
    },
    {
     "name": "stdout",
     "output_type": "stream",
     "text": [
      "14\n"
     ]
    },
    {
     "name": "stderr",
     "output_type": "stream",
     "text": [
      "sys:1: UserWarning: No data for colormapping provided via 'c'. Parameters 'vmin', 'vmax' will be ignored\n"
     ]
    },
    {
     "name": "stdout",
     "output_type": "stream",
     "text": [
      "15\n"
     ]
    },
    {
     "name": "stderr",
     "output_type": "stream",
     "text": [
      "sys:1: UserWarning: No data for colormapping provided via 'c'. Parameters 'vmin', 'vmax' will be ignored\n"
     ]
    },
    {
     "name": "stdout",
     "output_type": "stream",
     "text": [
      "16\n"
     ]
    },
    {
     "name": "stderr",
     "output_type": "stream",
     "text": [
      "sys:1: UserWarning: No data for colormapping provided via 'c'. Parameters 'vmin', 'vmax' will be ignored\n"
     ]
    },
    {
     "name": "stdout",
     "output_type": "stream",
     "text": [
      "17\n"
     ]
    },
    {
     "name": "stderr",
     "output_type": "stream",
     "text": [
      "sys:1: UserWarning: No data for colormapping provided via 'c'. Parameters 'vmin', 'vmax' will be ignored\n"
     ]
    },
    {
     "name": "stdout",
     "output_type": "stream",
     "text": [
      "18\n"
     ]
    },
    {
     "name": "stderr",
     "output_type": "stream",
     "text": [
      "sys:1: UserWarning: No data for colormapping provided via 'c'. Parameters 'vmin', 'vmax' will be ignored\n"
     ]
    },
    {
     "name": "stdout",
     "output_type": "stream",
     "text": [
      "19\n"
     ]
    },
    {
     "name": "stderr",
     "output_type": "stream",
     "text": [
      "sys:1: UserWarning: No data for colormapping provided via 'c'. Parameters 'vmin', 'vmax' will be ignored\n"
     ]
    },
    {
     "name": "stdout",
     "output_type": "stream",
     "text": [
      "20\n"
     ]
    },
    {
     "name": "stderr",
     "output_type": "stream",
     "text": [
      "sys:1: UserWarning: No data for colormapping provided via 'c'. Parameters 'vmin', 'vmax' will be ignored\n"
     ]
    },
    {
     "name": "stdout",
     "output_type": "stream",
     "text": [
      "21\n"
     ]
    },
    {
     "name": "stderr",
     "output_type": "stream",
     "text": [
      "sys:1: UserWarning: No data for colormapping provided via 'c'. Parameters 'vmin', 'vmax' will be ignored\n"
     ]
    },
    {
     "name": "stdout",
     "output_type": "stream",
     "text": [
      "22\n"
     ]
    },
    {
     "name": "stderr",
     "output_type": "stream",
     "text": [
      "sys:1: UserWarning: No data for colormapping provided via 'c'. Parameters 'vmin', 'vmax' will be ignored\n"
     ]
    },
    {
     "name": "stdout",
     "output_type": "stream",
     "text": [
      "23\n"
     ]
    },
    {
     "name": "stderr",
     "output_type": "stream",
     "text": [
      "sys:1: UserWarning: No data for colormapping provided via 'c'. Parameters 'vmin', 'vmax' will be ignored\n"
     ]
    },
    {
     "name": "stdout",
     "output_type": "stream",
     "text": [
      "24\n"
     ]
    },
    {
     "name": "stderr",
     "output_type": "stream",
     "text": [
      "sys:1: UserWarning: No data for colormapping provided via 'c'. Parameters 'vmin', 'vmax' will be ignored\n"
     ]
    },
    {
     "name": "stdout",
     "output_type": "stream",
     "text": [
      "25\n"
     ]
    },
    {
     "name": "stderr",
     "output_type": "stream",
     "text": [
      "sys:1: UserWarning: No data for colormapping provided via 'c'. Parameters 'vmin', 'vmax' will be ignored\n"
     ]
    },
    {
     "name": "stdout",
     "output_type": "stream",
     "text": [
      "26\n"
     ]
    },
    {
     "name": "stderr",
     "output_type": "stream",
     "text": [
      "sys:1: UserWarning: No data for colormapping provided via 'c'. Parameters 'vmin', 'vmax' will be ignored\n"
     ]
    },
    {
     "name": "stdout",
     "output_type": "stream",
     "text": [
      "27\n"
     ]
    },
    {
     "name": "stderr",
     "output_type": "stream",
     "text": [
      "sys:1: UserWarning: No data for colormapping provided via 'c'. Parameters 'vmin', 'vmax' will be ignored\n"
     ]
    },
    {
     "name": "stdout",
     "output_type": "stream",
     "text": [
      "28\n"
     ]
    },
    {
     "name": "stderr",
     "output_type": "stream",
     "text": [
      "sys:1: UserWarning: No data for colormapping provided via 'c'. Parameters 'vmin', 'vmax' will be ignored\n"
     ]
    },
    {
     "name": "stdout",
     "output_type": "stream",
     "text": [
      "29\n"
     ]
    },
    {
     "name": "stderr",
     "output_type": "stream",
     "text": [
      "sys:1: UserWarning: No data for colormapping provided via 'c'. Parameters 'vmin', 'vmax' will be ignored\n"
     ]
    },
    {
     "name": "stdout",
     "output_type": "stream",
     "text": [
      "30\n"
     ]
    },
    {
     "name": "stderr",
     "output_type": "stream",
     "text": [
      "sys:1: UserWarning: No data for colormapping provided via 'c'. Parameters 'vmin', 'vmax' will be ignored\n"
     ]
    },
    {
     "name": "stdout",
     "output_type": "stream",
     "text": [
      "31\n"
     ]
    },
    {
     "name": "stderr",
     "output_type": "stream",
     "text": [
      "sys:1: UserWarning: No data for colormapping provided via 'c'. Parameters 'vmin', 'vmax' will be ignored\n"
     ]
    },
    {
     "name": "stdout",
     "output_type": "stream",
     "text": [
      "32\n"
     ]
    },
    {
     "name": "stderr",
     "output_type": "stream",
     "text": [
      "sys:1: UserWarning: No data for colormapping provided via 'c'. Parameters 'vmin', 'vmax' will be ignored\n"
     ]
    },
    {
     "name": "stdout",
     "output_type": "stream",
     "text": [
      "33\n"
     ]
    },
    {
     "name": "stderr",
     "output_type": "stream",
     "text": [
      "sys:1: UserWarning: No data for colormapping provided via 'c'. Parameters 'vmin', 'vmax' will be ignored\n"
     ]
    },
    {
     "name": "stdout",
     "output_type": "stream",
     "text": [
      "34\n"
     ]
    },
    {
     "name": "stderr",
     "output_type": "stream",
     "text": [
      "sys:1: UserWarning: No data for colormapping provided via 'c'. Parameters 'vmin', 'vmax' will be ignored\n"
     ]
    },
    {
     "name": "stdout",
     "output_type": "stream",
     "text": [
      "35\n"
     ]
    },
    {
     "name": "stderr",
     "output_type": "stream",
     "text": [
      "sys:1: UserWarning: No data for colormapping provided via 'c'. Parameters 'vmin', 'vmax' will be ignored\n"
     ]
    },
    {
     "name": "stdout",
     "output_type": "stream",
     "text": [
      "36\n"
     ]
    },
    {
     "name": "stderr",
     "output_type": "stream",
     "text": [
      "sys:1: UserWarning: No data for colormapping provided via 'c'. Parameters 'vmin', 'vmax' will be ignored\n"
     ]
    },
    {
     "name": "stdout",
     "output_type": "stream",
     "text": [
      "37\n"
     ]
    },
    {
     "name": "stderr",
     "output_type": "stream",
     "text": [
      "sys:1: UserWarning: No data for colormapping provided via 'c'. Parameters 'vmin', 'vmax' will be ignored\n"
     ]
    },
    {
     "name": "stdout",
     "output_type": "stream",
     "text": [
      "38\n"
     ]
    },
    {
     "name": "stderr",
     "output_type": "stream",
     "text": [
      "sys:1: UserWarning: No data for colormapping provided via 'c'. Parameters 'vmin', 'vmax' will be ignored\n"
     ]
    },
    {
     "name": "stdout",
     "output_type": "stream",
     "text": [
      "39\n"
     ]
    },
    {
     "name": "stderr",
     "output_type": "stream",
     "text": [
      "sys:1: UserWarning: No data for colormapping provided via 'c'. Parameters 'vmin', 'vmax' will be ignored\n"
     ]
    },
    {
     "name": "stdout",
     "output_type": "stream",
     "text": [
      "40\n"
     ]
    },
    {
     "name": "stderr",
     "output_type": "stream",
     "text": [
      "sys:1: UserWarning: No data for colormapping provided via 'c'. Parameters 'vmin', 'vmax' will be ignored\n"
     ]
    },
    {
     "name": "stdout",
     "output_type": "stream",
     "text": [
      "41\n"
     ]
    },
    {
     "name": "stderr",
     "output_type": "stream",
     "text": [
      "sys:1: UserWarning: No data for colormapping provided via 'c'. Parameters 'vmin', 'vmax' will be ignored\n"
     ]
    },
    {
     "name": "stdout",
     "output_type": "stream",
     "text": [
      "42\n"
     ]
    },
    {
     "name": "stderr",
     "output_type": "stream",
     "text": [
      "sys:1: UserWarning: No data for colormapping provided via 'c'. Parameters 'vmin', 'vmax' will be ignored\n"
     ]
    },
    {
     "name": "stdout",
     "output_type": "stream",
     "text": [
      "43\n"
     ]
    },
    {
     "name": "stderr",
     "output_type": "stream",
     "text": [
      "sys:1: UserWarning: No data for colormapping provided via 'c'. Parameters 'vmin', 'vmax' will be ignored\n"
     ]
    },
    {
     "name": "stdout",
     "output_type": "stream",
     "text": [
      "44\n"
     ]
    },
    {
     "name": "stderr",
     "output_type": "stream",
     "text": [
      "sys:1: UserWarning: No data for colormapping provided via 'c'. Parameters 'vmin', 'vmax' will be ignored\n"
     ]
    },
    {
     "name": "stdout",
     "output_type": "stream",
     "text": [
      "45\n"
     ]
    },
    {
     "name": "stderr",
     "output_type": "stream",
     "text": [
      "sys:1: UserWarning: No data for colormapping provided via 'c'. Parameters 'vmin', 'vmax' will be ignored\n"
     ]
    },
    {
     "name": "stdout",
     "output_type": "stream",
     "text": [
      "46\n"
     ]
    },
    {
     "name": "stderr",
     "output_type": "stream",
     "text": [
      "sys:1: UserWarning: No data for colormapping provided via 'c'. Parameters 'vmin', 'vmax' will be ignored\n"
     ]
    },
    {
     "name": "stdout",
     "output_type": "stream",
     "text": [
      "47\n"
     ]
    },
    {
     "name": "stderr",
     "output_type": "stream",
     "text": [
      "sys:1: UserWarning: No data for colormapping provided via 'c'. Parameters 'vmin', 'vmax' will be ignored\n"
     ]
    },
    {
     "name": "stdout",
     "output_type": "stream",
     "text": [
      "48\n"
     ]
    },
    {
     "name": "stderr",
     "output_type": "stream",
     "text": [
      "sys:1: UserWarning: No data for colormapping provided via 'c'. Parameters 'vmin', 'vmax' will be ignored\n"
     ]
    },
    {
     "name": "stdout",
     "output_type": "stream",
     "text": [
      "49\n"
     ]
    },
    {
     "name": "stderr",
     "output_type": "stream",
     "text": [
      "sys:1: UserWarning: No data for colormapping provided via 'c'. Parameters 'vmin', 'vmax' will be ignored\n"
     ]
    },
    {
     "name": "stdout",
     "output_type": "stream",
     "text": [
      "50\n"
     ]
    },
    {
     "name": "stderr",
     "output_type": "stream",
     "text": [
      "sys:1: UserWarning: No data for colormapping provided via 'c'. Parameters 'vmin', 'vmax' will be ignored\n"
     ]
    },
    {
     "name": "stdout",
     "output_type": "stream",
     "text": [
      "51\n"
     ]
    },
    {
     "name": "stderr",
     "output_type": "stream",
     "text": [
      "sys:1: UserWarning: No data for colormapping provided via 'c'. Parameters 'vmin', 'vmax' will be ignored\n"
     ]
    },
    {
     "name": "stdout",
     "output_type": "stream",
     "text": [
      "52\n"
     ]
    },
    {
     "name": "stderr",
     "output_type": "stream",
     "text": [
      "sys:1: UserWarning: No data for colormapping provided via 'c'. Parameters 'vmin', 'vmax' will be ignored\n"
     ]
    },
    {
     "name": "stdout",
     "output_type": "stream",
     "text": [
      "53\n"
     ]
    },
    {
     "name": "stderr",
     "output_type": "stream",
     "text": [
      "sys:1: UserWarning: No data for colormapping provided via 'c'. Parameters 'vmin', 'vmax' will be ignored\n"
     ]
    },
    {
     "name": "stdout",
     "output_type": "stream",
     "text": [
      "54\n"
     ]
    },
    {
     "name": "stderr",
     "output_type": "stream",
     "text": [
      "sys:1: UserWarning: No data for colormapping provided via 'c'. Parameters 'vmin', 'vmax' will be ignored\n"
     ]
    },
    {
     "name": "stdout",
     "output_type": "stream",
     "text": [
      "55\n"
     ]
    },
    {
     "name": "stderr",
     "output_type": "stream",
     "text": [
      "sys:1: UserWarning: No data for colormapping provided via 'c'. Parameters 'vmin', 'vmax' will be ignored\n"
     ]
    },
    {
     "name": "stdout",
     "output_type": "stream",
     "text": [
      "56\n"
     ]
    },
    {
     "name": "stderr",
     "output_type": "stream",
     "text": [
      "sys:1: UserWarning: No data for colormapping provided via 'c'. Parameters 'vmin', 'vmax' will be ignored\n"
     ]
    },
    {
     "name": "stdout",
     "output_type": "stream",
     "text": [
      "57\n"
     ]
    },
    {
     "name": "stderr",
     "output_type": "stream",
     "text": [
      "sys:1: UserWarning: No data for colormapping provided via 'c'. Parameters 'vmin', 'vmax' will be ignored\n"
     ]
    },
    {
     "name": "stdout",
     "output_type": "stream",
     "text": [
      "58\n"
     ]
    },
    {
     "name": "stderr",
     "output_type": "stream",
     "text": [
      "sys:1: UserWarning: No data for colormapping provided via 'c'. Parameters 'vmin', 'vmax' will be ignored\n"
     ]
    },
    {
     "name": "stdout",
     "output_type": "stream",
     "text": [
      "59\n"
     ]
    },
    {
     "name": "stderr",
     "output_type": "stream",
     "text": [
      "sys:1: UserWarning: No data for colormapping provided via 'c'. Parameters 'vmin', 'vmax' will be ignored\n"
     ]
    },
    {
     "name": "stdout",
     "output_type": "stream",
     "text": [
      "60\n"
     ]
    },
    {
     "name": "stderr",
     "output_type": "stream",
     "text": [
      "sys:1: UserWarning: No data for colormapping provided via 'c'. Parameters 'vmin', 'vmax' will be ignored\n"
     ]
    },
    {
     "name": "stdout",
     "output_type": "stream",
     "text": [
      "61\n"
     ]
    },
    {
     "name": "stderr",
     "output_type": "stream",
     "text": [
      "sys:1: UserWarning: No data for colormapping provided via 'c'. Parameters 'vmin', 'vmax' will be ignored\n"
     ]
    },
    {
     "name": "stdout",
     "output_type": "stream",
     "text": [
      "62\n"
     ]
    },
    {
     "name": "stderr",
     "output_type": "stream",
     "text": [
      "sys:1: UserWarning: No data for colormapping provided via 'c'. Parameters 'vmin', 'vmax' will be ignored\n"
     ]
    },
    {
     "name": "stdout",
     "output_type": "stream",
     "text": [
      "63\n"
     ]
    },
    {
     "name": "stderr",
     "output_type": "stream",
     "text": [
      "sys:1: UserWarning: No data for colormapping provided via 'c'. Parameters 'vmin', 'vmax' will be ignored\n"
     ]
    },
    {
     "name": "stdout",
     "output_type": "stream",
     "text": [
      "64\n"
     ]
    },
    {
     "name": "stderr",
     "output_type": "stream",
     "text": [
      "sys:1: UserWarning: No data for colormapping provided via 'c'. Parameters 'vmin', 'vmax' will be ignored\n"
     ]
    },
    {
     "name": "stdout",
     "output_type": "stream",
     "text": [
      "65\n"
     ]
    },
    {
     "name": "stderr",
     "output_type": "stream",
     "text": [
      "sys:1: UserWarning: No data for colormapping provided via 'c'. Parameters 'vmin', 'vmax' will be ignored\n"
     ]
    },
    {
     "name": "stdout",
     "output_type": "stream",
     "text": [
      "66\n"
     ]
    },
    {
     "name": "stderr",
     "output_type": "stream",
     "text": [
      "sys:1: UserWarning: No data for colormapping provided via 'c'. Parameters 'vmin', 'vmax' will be ignored\n"
     ]
    },
    {
     "name": "stdout",
     "output_type": "stream",
     "text": [
      "67\n"
     ]
    },
    {
     "name": "stderr",
     "output_type": "stream",
     "text": [
      "sys:1: UserWarning: No data for colormapping provided via 'c'. Parameters 'vmin', 'vmax' will be ignored\n"
     ]
    },
    {
     "name": "stdout",
     "output_type": "stream",
     "text": [
      "68\n"
     ]
    },
    {
     "name": "stderr",
     "output_type": "stream",
     "text": [
      "sys:1: UserWarning: No data for colormapping provided via 'c'. Parameters 'vmin', 'vmax' will be ignored\n"
     ]
    },
    {
     "name": "stdout",
     "output_type": "stream",
     "text": [
      "69\n"
     ]
    },
    {
     "name": "stderr",
     "output_type": "stream",
     "text": [
      "sys:1: UserWarning: No data for colormapping provided via 'c'. Parameters 'vmin', 'vmax' will be ignored\n"
     ]
    },
    {
     "name": "stdout",
     "output_type": "stream",
     "text": [
      "70\n"
     ]
    },
    {
     "name": "stderr",
     "output_type": "stream",
     "text": [
      "sys:1: UserWarning: No data for colormapping provided via 'c'. Parameters 'vmin', 'vmax' will be ignored\n"
     ]
    },
    {
     "name": "stdout",
     "output_type": "stream",
     "text": [
      "71\n"
     ]
    },
    {
     "name": "stderr",
     "output_type": "stream",
     "text": [
      "sys:1: UserWarning: No data for colormapping provided via 'c'. Parameters 'vmin', 'vmax' will be ignored\n"
     ]
    },
    {
     "name": "stdout",
     "output_type": "stream",
     "text": [
      "72\n"
     ]
    },
    {
     "name": "stderr",
     "output_type": "stream",
     "text": [
      "sys:1: UserWarning: No data for colormapping provided via 'c'. Parameters 'vmin', 'vmax' will be ignored\n"
     ]
    },
    {
     "name": "stdout",
     "output_type": "stream",
     "text": [
      "73\n"
     ]
    },
    {
     "name": "stderr",
     "output_type": "stream",
     "text": [
      "sys:1: UserWarning: No data for colormapping provided via 'c'. Parameters 'vmin', 'vmax' will be ignored\n"
     ]
    },
    {
     "name": "stdout",
     "output_type": "stream",
     "text": [
      "74\n"
     ]
    },
    {
     "name": "stderr",
     "output_type": "stream",
     "text": [
      "sys:1: UserWarning: No data for colormapping provided via 'c'. Parameters 'vmin', 'vmax' will be ignored\n"
     ]
    },
    {
     "name": "stdout",
     "output_type": "stream",
     "text": [
      "75\n"
     ]
    },
    {
     "name": "stderr",
     "output_type": "stream",
     "text": [
      "sys:1: UserWarning: No data for colormapping provided via 'c'. Parameters 'vmin', 'vmax' will be ignored\n"
     ]
    },
    {
     "name": "stdout",
     "output_type": "stream",
     "text": [
      "76\n"
     ]
    },
    {
     "name": "stderr",
     "output_type": "stream",
     "text": [
      "sys:1: UserWarning: No data for colormapping provided via 'c'. Parameters 'vmin', 'vmax' will be ignored\n"
     ]
    },
    {
     "name": "stdout",
     "output_type": "stream",
     "text": [
      "77\n"
     ]
    },
    {
     "name": "stderr",
     "output_type": "stream",
     "text": [
      "sys:1: UserWarning: No data for colormapping provided via 'c'. Parameters 'vmin', 'vmax' will be ignored\n"
     ]
    },
    {
     "name": "stdout",
     "output_type": "stream",
     "text": [
      "78\n"
     ]
    },
    {
     "name": "stderr",
     "output_type": "stream",
     "text": [
      "sys:1: UserWarning: No data for colormapping provided via 'c'. Parameters 'vmin', 'vmax' will be ignored\n"
     ]
    },
    {
     "name": "stdout",
     "output_type": "stream",
     "text": [
      "79\n"
     ]
    },
    {
     "name": "stderr",
     "output_type": "stream",
     "text": [
      "sys:1: UserWarning: No data for colormapping provided via 'c'. Parameters 'vmin', 'vmax' will be ignored\n"
     ]
    },
    {
     "name": "stdout",
     "output_type": "stream",
     "text": [
      "80\n"
     ]
    },
    {
     "name": "stderr",
     "output_type": "stream",
     "text": [
      "sys:1: UserWarning: No data for colormapping provided via 'c'. Parameters 'vmin', 'vmax' will be ignored\n"
     ]
    },
    {
     "name": "stdout",
     "output_type": "stream",
     "text": [
      "81\n"
     ]
    },
    {
     "name": "stderr",
     "output_type": "stream",
     "text": [
      "sys:1: UserWarning: No data for colormapping provided via 'c'. Parameters 'vmin', 'vmax' will be ignored\n"
     ]
    },
    {
     "name": "stdout",
     "output_type": "stream",
     "text": [
      "82\n"
     ]
    },
    {
     "name": "stderr",
     "output_type": "stream",
     "text": [
      "sys:1: UserWarning: No data for colormapping provided via 'c'. Parameters 'vmin', 'vmax' will be ignored\n"
     ]
    },
    {
     "name": "stdout",
     "output_type": "stream",
     "text": [
      "83\n"
     ]
    },
    {
     "name": "stderr",
     "output_type": "stream",
     "text": [
      "sys:1: UserWarning: No data for colormapping provided via 'c'. Parameters 'vmin', 'vmax' will be ignored\n"
     ]
    },
    {
     "name": "stdout",
     "output_type": "stream",
     "text": [
      "84\n"
     ]
    },
    {
     "name": "stderr",
     "output_type": "stream",
     "text": [
      "sys:1: UserWarning: No data for colormapping provided via 'c'. Parameters 'vmin', 'vmax' will be ignored\n"
     ]
    },
    {
     "name": "stdout",
     "output_type": "stream",
     "text": [
      "85\n"
     ]
    },
    {
     "name": "stderr",
     "output_type": "stream",
     "text": [
      "sys:1: UserWarning: No data for colormapping provided via 'c'. Parameters 'vmin', 'vmax' will be ignored\n"
     ]
    },
    {
     "name": "stdout",
     "output_type": "stream",
     "text": [
      "86\n"
     ]
    },
    {
     "name": "stderr",
     "output_type": "stream",
     "text": [
      "sys:1: UserWarning: No data for colormapping provided via 'c'. Parameters 'vmin', 'vmax' will be ignored\n"
     ]
    },
    {
     "name": "stdout",
     "output_type": "stream",
     "text": [
      "87\n"
     ]
    },
    {
     "name": "stderr",
     "output_type": "stream",
     "text": [
      "sys:1: UserWarning: No data for colormapping provided via 'c'. Parameters 'vmin', 'vmax' will be ignored\n"
     ]
    },
    {
     "name": "stdout",
     "output_type": "stream",
     "text": [
      "88\n"
     ]
    },
    {
     "name": "stderr",
     "output_type": "stream",
     "text": [
      "sys:1: UserWarning: No data for colormapping provided via 'c'. Parameters 'vmin', 'vmax' will be ignored\n"
     ]
    },
    {
     "name": "stdout",
     "output_type": "stream",
     "text": [
      "89\n"
     ]
    },
    {
     "name": "stderr",
     "output_type": "stream",
     "text": [
      "sys:1: UserWarning: No data for colormapping provided via 'c'. Parameters 'vmin', 'vmax' will be ignored\n"
     ]
    },
    {
     "name": "stdout",
     "output_type": "stream",
     "text": [
      "90\n"
     ]
    },
    {
     "name": "stderr",
     "output_type": "stream",
     "text": [
      "sys:1: UserWarning: No data for colormapping provided via 'c'. Parameters 'vmin', 'vmax' will be ignored\n"
     ]
    },
    {
     "name": "stdout",
     "output_type": "stream",
     "text": [
      "91\n"
     ]
    },
    {
     "name": "stderr",
     "output_type": "stream",
     "text": [
      "sys:1: UserWarning: No data for colormapping provided via 'c'. Parameters 'vmin', 'vmax' will be ignored\n"
     ]
    },
    {
     "name": "stdout",
     "output_type": "stream",
     "text": [
      "92\n"
     ]
    },
    {
     "name": "stderr",
     "output_type": "stream",
     "text": [
      "sys:1: UserWarning: No data for colormapping provided via 'c'. Parameters 'vmin', 'vmax' will be ignored\n"
     ]
    },
    {
     "name": "stdout",
     "output_type": "stream",
     "text": [
      "93\n"
     ]
    },
    {
     "name": "stderr",
     "output_type": "stream",
     "text": [
      "sys:1: UserWarning: No data for colormapping provided via 'c'. Parameters 'vmin', 'vmax' will be ignored\n"
     ]
    },
    {
     "name": "stdout",
     "output_type": "stream",
     "text": [
      "94\n"
     ]
    },
    {
     "name": "stderr",
     "output_type": "stream",
     "text": [
      "sys:1: UserWarning: No data for colormapping provided via 'c'. Parameters 'vmin', 'vmax' will be ignored\n"
     ]
    },
    {
     "name": "stdout",
     "output_type": "stream",
     "text": [
      "95\n"
     ]
    },
    {
     "name": "stderr",
     "output_type": "stream",
     "text": [
      "sys:1: UserWarning: No data for colormapping provided via 'c'. Parameters 'vmin', 'vmax' will be ignored\n"
     ]
    },
    {
     "name": "stdout",
     "output_type": "stream",
     "text": [
      "96\n"
     ]
    },
    {
     "name": "stderr",
     "output_type": "stream",
     "text": [
      "sys:1: UserWarning: No data for colormapping provided via 'c'. Parameters 'vmin', 'vmax' will be ignored\n"
     ]
    },
    {
     "name": "stdout",
     "output_type": "stream",
     "text": [
      "97\n"
     ]
    },
    {
     "name": "stderr",
     "output_type": "stream",
     "text": [
      "sys:1: UserWarning: No data for colormapping provided via 'c'. Parameters 'vmin', 'vmax' will be ignored\n"
     ]
    },
    {
     "name": "stdout",
     "output_type": "stream",
     "text": [
      "98\n"
     ]
    },
    {
     "name": "stderr",
     "output_type": "stream",
     "text": [
      "sys:1: UserWarning: No data for colormapping provided via 'c'. Parameters 'vmin', 'vmax' will be ignored\n"
     ]
    },
    {
     "name": "stdout",
     "output_type": "stream",
     "text": [
      "99\n"
     ]
    },
    {
     "name": "stderr",
     "output_type": "stream",
     "text": [
      "sys:1: UserWarning: No data for colormapping provided via 'c'. Parameters 'vmin', 'vmax' will be ignored\n"
     ]
    },
    {
     "name": "stdout",
     "output_type": "stream",
     "text": [
      "100\n"
     ]
    },
    {
     "name": "stderr",
     "output_type": "stream",
     "text": [
      "sys:1: UserWarning: No data for colormapping provided via 'c'. Parameters 'vmin', 'vmax' will be ignored\n"
     ]
    },
    {
     "name": "stdout",
     "output_type": "stream",
     "text": [
      "101\n"
     ]
    },
    {
     "name": "stderr",
     "output_type": "stream",
     "text": [
      "sys:1: UserWarning: No data for colormapping provided via 'c'. Parameters 'vmin', 'vmax' will be ignored\n"
     ]
    },
    {
     "name": "stdout",
     "output_type": "stream",
     "text": [
      "102\n"
     ]
    },
    {
     "name": "stderr",
     "output_type": "stream",
     "text": [
      "sys:1: UserWarning: No data for colormapping provided via 'c'. Parameters 'vmin', 'vmax' will be ignored\n"
     ]
    },
    {
     "name": "stdout",
     "output_type": "stream",
     "text": [
      "103\n"
     ]
    },
    {
     "name": "stderr",
     "output_type": "stream",
     "text": [
      "sys:1: UserWarning: No data for colormapping provided via 'c'. Parameters 'vmin', 'vmax' will be ignored\n"
     ]
    },
    {
     "name": "stdout",
     "output_type": "stream",
     "text": [
      "104\n"
     ]
    },
    {
     "name": "stderr",
     "output_type": "stream",
     "text": [
      "sys:1: UserWarning: No data for colormapping provided via 'c'. Parameters 'vmin', 'vmax' will be ignored\n"
     ]
    },
    {
     "name": "stdout",
     "output_type": "stream",
     "text": [
      "105\n"
     ]
    },
    {
     "name": "stderr",
     "output_type": "stream",
     "text": [
      "sys:1: UserWarning: No data for colormapping provided via 'c'. Parameters 'vmin', 'vmax' will be ignored\n"
     ]
    },
    {
     "name": "stdout",
     "output_type": "stream",
     "text": [
      "106\n"
     ]
    },
    {
     "name": "stderr",
     "output_type": "stream",
     "text": [
      "sys:1: UserWarning: No data for colormapping provided via 'c'. Parameters 'vmin', 'vmax' will be ignored\n"
     ]
    },
    {
     "name": "stdout",
     "output_type": "stream",
     "text": [
      "107\n"
     ]
    },
    {
     "name": "stderr",
     "output_type": "stream",
     "text": [
      "sys:1: UserWarning: No data for colormapping provided via 'c'. Parameters 'vmin', 'vmax' will be ignored\n"
     ]
    },
    {
     "name": "stdout",
     "output_type": "stream",
     "text": [
      "108\n"
     ]
    },
    {
     "name": "stderr",
     "output_type": "stream",
     "text": [
      "sys:1: UserWarning: No data for colormapping provided via 'c'. Parameters 'vmin', 'vmax' will be ignored\n"
     ]
    },
    {
     "name": "stdout",
     "output_type": "stream",
     "text": [
      "109\n"
     ]
    },
    {
     "name": "stderr",
     "output_type": "stream",
     "text": [
      "sys:1: UserWarning: No data for colormapping provided via 'c'. Parameters 'vmin', 'vmax' will be ignored\n"
     ]
    },
    {
     "name": "stdout",
     "output_type": "stream",
     "text": [
      "110\n"
     ]
    },
    {
     "name": "stderr",
     "output_type": "stream",
     "text": [
      "sys:1: UserWarning: No data for colormapping provided via 'c'. Parameters 'vmin', 'vmax' will be ignored\n"
     ]
    },
    {
     "name": "stdout",
     "output_type": "stream",
     "text": [
      "111\n"
     ]
    },
    {
     "name": "stderr",
     "output_type": "stream",
     "text": [
      "sys:1: UserWarning: No data for colormapping provided via 'c'. Parameters 'vmin', 'vmax' will be ignored\n"
     ]
    },
    {
     "name": "stdout",
     "output_type": "stream",
     "text": [
      "112\n"
     ]
    },
    {
     "name": "stderr",
     "output_type": "stream",
     "text": [
      "sys:1: UserWarning: No data for colormapping provided via 'c'. Parameters 'vmin', 'vmax' will be ignored\n"
     ]
    },
    {
     "name": "stdout",
     "output_type": "stream",
     "text": [
      "113\n"
     ]
    },
    {
     "name": "stderr",
     "output_type": "stream",
     "text": [
      "sys:1: UserWarning: No data for colormapping provided via 'c'. Parameters 'vmin', 'vmax' will be ignored\n"
     ]
    },
    {
     "name": "stdout",
     "output_type": "stream",
     "text": [
      "114\n"
     ]
    },
    {
     "name": "stderr",
     "output_type": "stream",
     "text": [
      "sys:1: UserWarning: No data for colormapping provided via 'c'. Parameters 'vmin', 'vmax' will be ignored\n"
     ]
    },
    {
     "name": "stdout",
     "output_type": "stream",
     "text": [
      "115\n"
     ]
    },
    {
     "name": "stderr",
     "output_type": "stream",
     "text": [
      "sys:1: UserWarning: No data for colormapping provided via 'c'. Parameters 'vmin', 'vmax' will be ignored\n"
     ]
    },
    {
     "name": "stdout",
     "output_type": "stream",
     "text": [
      "116\n"
     ]
    },
    {
     "name": "stderr",
     "output_type": "stream",
     "text": [
      "sys:1: UserWarning: No data for colormapping provided via 'c'. Parameters 'vmin', 'vmax' will be ignored\n"
     ]
    },
    {
     "name": "stdout",
     "output_type": "stream",
     "text": [
      "117\n"
     ]
    },
    {
     "name": "stderr",
     "output_type": "stream",
     "text": [
      "sys:1: UserWarning: No data for colormapping provided via 'c'. Parameters 'vmin', 'vmax' will be ignored\n"
     ]
    },
    {
     "name": "stdout",
     "output_type": "stream",
     "text": [
      "118\n"
     ]
    },
    {
     "name": "stderr",
     "output_type": "stream",
     "text": [
      "sys:1: UserWarning: No data for colormapping provided via 'c'. Parameters 'vmin', 'vmax' will be ignored\n"
     ]
    },
    {
     "name": "stdout",
     "output_type": "stream",
     "text": [
      "119\n"
     ]
    },
    {
     "name": "stderr",
     "output_type": "stream",
     "text": [
      "sys:1: UserWarning: No data for colormapping provided via 'c'. Parameters 'vmin', 'vmax' will be ignored\n"
     ]
    },
    {
     "name": "stdout",
     "output_type": "stream",
     "text": [
      "120\n"
     ]
    },
    {
     "name": "stderr",
     "output_type": "stream",
     "text": [
      "sys:1: UserWarning: No data for colormapping provided via 'c'. Parameters 'vmin', 'vmax' will be ignored\n"
     ]
    },
    {
     "name": "stdout",
     "output_type": "stream",
     "text": [
      "121\n"
     ]
    },
    {
     "name": "stderr",
     "output_type": "stream",
     "text": [
      "sys:1: UserWarning: No data for colormapping provided via 'c'. Parameters 'vmin', 'vmax' will be ignored\n"
     ]
    },
    {
     "name": "stdout",
     "output_type": "stream",
     "text": [
      "122\n"
     ]
    },
    {
     "name": "stderr",
     "output_type": "stream",
     "text": [
      "sys:1: UserWarning: No data for colormapping provided via 'c'. Parameters 'vmin', 'vmax' will be ignored\n"
     ]
    },
    {
     "name": "stdout",
     "output_type": "stream",
     "text": [
      "123\n"
     ]
    },
    {
     "name": "stderr",
     "output_type": "stream",
     "text": [
      "sys:1: UserWarning: No data for colormapping provided via 'c'. Parameters 'vmin', 'vmax' will be ignored\n"
     ]
    },
    {
     "name": "stdout",
     "output_type": "stream",
     "text": [
      "124\n"
     ]
    },
    {
     "name": "stderr",
     "output_type": "stream",
     "text": [
      "sys:1: UserWarning: No data for colormapping provided via 'c'. Parameters 'vmin', 'vmax' will be ignored\n"
     ]
    },
    {
     "name": "stdout",
     "output_type": "stream",
     "text": [
      "125\n"
     ]
    },
    {
     "name": "stderr",
     "output_type": "stream",
     "text": [
      "sys:1: UserWarning: No data for colormapping provided via 'c'. Parameters 'vmin', 'vmax' will be ignored\n"
     ]
    },
    {
     "name": "stdout",
     "output_type": "stream",
     "text": [
      "126\n"
     ]
    },
    {
     "name": "stderr",
     "output_type": "stream",
     "text": [
      "sys:1: UserWarning: No data for colormapping provided via 'c'. Parameters 'vmin', 'vmax' will be ignored\n"
     ]
    },
    {
     "name": "stdout",
     "output_type": "stream",
     "text": [
      "127\n"
     ]
    },
    {
     "name": "stderr",
     "output_type": "stream",
     "text": [
      "sys:1: UserWarning: No data for colormapping provided via 'c'. Parameters 'vmin', 'vmax' will be ignored\n"
     ]
    },
    {
     "name": "stdout",
     "output_type": "stream",
     "text": [
      "128\n"
     ]
    },
    {
     "name": "stderr",
     "output_type": "stream",
     "text": [
      "sys:1: UserWarning: No data for colormapping provided via 'c'. Parameters 'vmin', 'vmax' will be ignored\n"
     ]
    },
    {
     "name": "stdout",
     "output_type": "stream",
     "text": [
      "129\n"
     ]
    },
    {
     "name": "stderr",
     "output_type": "stream",
     "text": [
      "sys:1: UserWarning: No data for colormapping provided via 'c'. Parameters 'vmin', 'vmax' will be ignored\n"
     ]
    },
    {
     "name": "stdout",
     "output_type": "stream",
     "text": [
      "130\n"
     ]
    },
    {
     "name": "stderr",
     "output_type": "stream",
     "text": [
      "sys:1: UserWarning: No data for colormapping provided via 'c'. Parameters 'vmin', 'vmax' will be ignored\n"
     ]
    },
    {
     "name": "stdout",
     "output_type": "stream",
     "text": [
      "131\n"
     ]
    },
    {
     "name": "stderr",
     "output_type": "stream",
     "text": [
      "sys:1: UserWarning: No data for colormapping provided via 'c'. Parameters 'vmin', 'vmax' will be ignored\n"
     ]
    },
    {
     "name": "stdout",
     "output_type": "stream",
     "text": [
      "132\n"
     ]
    },
    {
     "name": "stderr",
     "output_type": "stream",
     "text": [
      "sys:1: UserWarning: No data for colormapping provided via 'c'. Parameters 'vmin', 'vmax' will be ignored\n"
     ]
    },
    {
     "name": "stdout",
     "output_type": "stream",
     "text": [
      "133\n"
     ]
    },
    {
     "name": "stderr",
     "output_type": "stream",
     "text": [
      "sys:1: UserWarning: No data for colormapping provided via 'c'. Parameters 'vmin', 'vmax' will be ignored\n"
     ]
    },
    {
     "name": "stdout",
     "output_type": "stream",
     "text": [
      "134\n"
     ]
    },
    {
     "name": "stderr",
     "output_type": "stream",
     "text": [
      "sys:1: UserWarning: No data for colormapping provided via 'c'. Parameters 'vmin', 'vmax' will be ignored\n"
     ]
    },
    {
     "name": "stdout",
     "output_type": "stream",
     "text": [
      "135\n"
     ]
    },
    {
     "name": "stderr",
     "output_type": "stream",
     "text": [
      "sys:1: UserWarning: No data for colormapping provided via 'c'. Parameters 'vmin', 'vmax' will be ignored\n"
     ]
    },
    {
     "name": "stdout",
     "output_type": "stream",
     "text": [
      "136\n"
     ]
    },
    {
     "name": "stderr",
     "output_type": "stream",
     "text": [
      "sys:1: UserWarning: No data for colormapping provided via 'c'. Parameters 'vmin', 'vmax' will be ignored\n"
     ]
    },
    {
     "name": "stdout",
     "output_type": "stream",
     "text": [
      "137\n"
     ]
    },
    {
     "name": "stderr",
     "output_type": "stream",
     "text": [
      "sys:1: UserWarning: No data for colormapping provided via 'c'. Parameters 'vmin', 'vmax' will be ignored\n"
     ]
    },
    {
     "name": "stdout",
     "output_type": "stream",
     "text": [
      "138\n"
     ]
    },
    {
     "name": "stderr",
     "output_type": "stream",
     "text": [
      "sys:1: UserWarning: No data for colormapping provided via 'c'. Parameters 'vmin', 'vmax' will be ignored\n"
     ]
    },
    {
     "name": "stdout",
     "output_type": "stream",
     "text": [
      "139\n"
     ]
    },
    {
     "name": "stderr",
     "output_type": "stream",
     "text": [
      "sys:1: UserWarning: No data for colormapping provided via 'c'. Parameters 'vmin', 'vmax' will be ignored\n"
     ]
    },
    {
     "name": "stdout",
     "output_type": "stream",
     "text": [
      "140\n"
     ]
    },
    {
     "name": "stderr",
     "output_type": "stream",
     "text": [
      "sys:1: UserWarning: No data for colormapping provided via 'c'. Parameters 'vmin', 'vmax' will be ignored\n"
     ]
    },
    {
     "name": "stdout",
     "output_type": "stream",
     "text": [
      "141\n"
     ]
    },
    {
     "name": "stderr",
     "output_type": "stream",
     "text": [
      "sys:1: UserWarning: No data for colormapping provided via 'c'. Parameters 'vmin', 'vmax' will be ignored\n"
     ]
    },
    {
     "name": "stdout",
     "output_type": "stream",
     "text": [
      "142\n"
     ]
    },
    {
     "name": "stderr",
     "output_type": "stream",
     "text": [
      "sys:1: UserWarning: No data for colormapping provided via 'c'. Parameters 'vmin', 'vmax' will be ignored\n"
     ]
    },
    {
     "name": "stdout",
     "output_type": "stream",
     "text": [
      "143\n"
     ]
    },
    {
     "name": "stderr",
     "output_type": "stream",
     "text": [
      "sys:1: UserWarning: No data for colormapping provided via 'c'. Parameters 'vmin', 'vmax' will be ignored\n"
     ]
    },
    {
     "name": "stdout",
     "output_type": "stream",
     "text": [
      "144\n"
     ]
    },
    {
     "name": "stderr",
     "output_type": "stream",
     "text": [
      "sys:1: UserWarning: No data for colormapping provided via 'c'. Parameters 'vmin', 'vmax' will be ignored\n"
     ]
    },
    {
     "name": "stdout",
     "output_type": "stream",
     "text": [
      "145\n"
     ]
    },
    {
     "name": "stderr",
     "output_type": "stream",
     "text": [
      "sys:1: UserWarning: No data for colormapping provided via 'c'. Parameters 'vmin', 'vmax' will be ignored\n"
     ]
    },
    {
     "name": "stdout",
     "output_type": "stream",
     "text": [
      "146\n"
     ]
    },
    {
     "name": "stderr",
     "output_type": "stream",
     "text": [
      "sys:1: UserWarning: No data for colormapping provided via 'c'. Parameters 'vmin', 'vmax' will be ignored\n"
     ]
    },
    {
     "name": "stdout",
     "output_type": "stream",
     "text": [
      "147\n"
     ]
    },
    {
     "name": "stderr",
     "output_type": "stream",
     "text": [
      "sys:1: UserWarning: No data for colormapping provided via 'c'. Parameters 'vmin', 'vmax' will be ignored\n"
     ]
    },
    {
     "name": "stdout",
     "output_type": "stream",
     "text": [
      "148\n"
     ]
    },
    {
     "name": "stderr",
     "output_type": "stream",
     "text": [
      "sys:1: UserWarning: No data for colormapping provided via 'c'. Parameters 'vmin', 'vmax' will be ignored\n"
     ]
    },
    {
     "name": "stdout",
     "output_type": "stream",
     "text": [
      "149\n"
     ]
    },
    {
     "name": "stderr",
     "output_type": "stream",
     "text": [
      "sys:1: UserWarning: No data for colormapping provided via 'c'. Parameters 'vmin', 'vmax' will be ignored\n"
     ]
    },
    {
     "name": "stdout",
     "output_type": "stream",
     "text": [
      "150\n"
     ]
    },
    {
     "name": "stderr",
     "output_type": "stream",
     "text": [
      "sys:1: UserWarning: No data for colormapping provided via 'c'. Parameters 'vmin', 'vmax' will be ignored\n"
     ]
    },
    {
     "name": "stdout",
     "output_type": "stream",
     "text": [
      "151\n"
     ]
    },
    {
     "name": "stderr",
     "output_type": "stream",
     "text": [
      "sys:1: UserWarning: No data for colormapping provided via 'c'. Parameters 'vmin', 'vmax' will be ignored\n"
     ]
    },
    {
     "name": "stdout",
     "output_type": "stream",
     "text": [
      "152\n"
     ]
    },
    {
     "name": "stderr",
     "output_type": "stream",
     "text": [
      "sys:1: UserWarning: No data for colormapping provided via 'c'. Parameters 'vmin', 'vmax' will be ignored\n"
     ]
    },
    {
     "name": "stdout",
     "output_type": "stream",
     "text": [
      "153\n"
     ]
    },
    {
     "name": "stderr",
     "output_type": "stream",
     "text": [
      "sys:1: UserWarning: No data for colormapping provided via 'c'. Parameters 'vmin', 'vmax' will be ignored\n"
     ]
    },
    {
     "name": "stdout",
     "output_type": "stream",
     "text": [
      "154\n"
     ]
    },
    {
     "name": "stderr",
     "output_type": "stream",
     "text": [
      "sys:1: UserWarning: No data for colormapping provided via 'c'. Parameters 'vmin', 'vmax' will be ignored\n"
     ]
    },
    {
     "name": "stdout",
     "output_type": "stream",
     "text": [
      "155\n"
     ]
    },
    {
     "name": "stderr",
     "output_type": "stream",
     "text": [
      "sys:1: UserWarning: No data for colormapping provided via 'c'. Parameters 'vmin', 'vmax' will be ignored\n"
     ]
    },
    {
     "name": "stdout",
     "output_type": "stream",
     "text": [
      "156\n"
     ]
    },
    {
     "name": "stderr",
     "output_type": "stream",
     "text": [
      "sys:1: UserWarning: No data for colormapping provided via 'c'. Parameters 'vmin', 'vmax' will be ignored\n"
     ]
    },
    {
     "name": "stdout",
     "output_type": "stream",
     "text": [
      "157\n"
     ]
    },
    {
     "name": "stderr",
     "output_type": "stream",
     "text": [
      "sys:1: UserWarning: No data for colormapping provided via 'c'. Parameters 'vmin', 'vmax' will be ignored\n"
     ]
    },
    {
     "name": "stdout",
     "output_type": "stream",
     "text": [
      "158\n"
     ]
    },
    {
     "name": "stderr",
     "output_type": "stream",
     "text": [
      "sys:1: UserWarning: No data for colormapping provided via 'c'. Parameters 'vmin', 'vmax' will be ignored\n"
     ]
    },
    {
     "name": "stdout",
     "output_type": "stream",
     "text": [
      "159\n"
     ]
    },
    {
     "name": "stderr",
     "output_type": "stream",
     "text": [
      "sys:1: UserWarning: No data for colormapping provided via 'c'. Parameters 'vmin', 'vmax' will be ignored\n"
     ]
    },
    {
     "name": "stdout",
     "output_type": "stream",
     "text": [
      "160\n"
     ]
    },
    {
     "name": "stderr",
     "output_type": "stream",
     "text": [
      "sys:1: UserWarning: No data for colormapping provided via 'c'. Parameters 'vmin', 'vmax' will be ignored\n"
     ]
    },
    {
     "name": "stdout",
     "output_type": "stream",
     "text": [
      "161\n"
     ]
    },
    {
     "name": "stderr",
     "output_type": "stream",
     "text": [
      "sys:1: UserWarning: No data for colormapping provided via 'c'. Parameters 'vmin', 'vmax' will be ignored\n"
     ]
    },
    {
     "name": "stdout",
     "output_type": "stream",
     "text": [
      "162\n"
     ]
    },
    {
     "name": "stderr",
     "output_type": "stream",
     "text": [
      "sys:1: UserWarning: No data for colormapping provided via 'c'. Parameters 'vmin', 'vmax' will be ignored\n"
     ]
    },
    {
     "name": "stdout",
     "output_type": "stream",
     "text": [
      "163\n"
     ]
    },
    {
     "name": "stderr",
     "output_type": "stream",
     "text": [
      "sys:1: UserWarning: No data for colormapping provided via 'c'. Parameters 'vmin', 'vmax' will be ignored\n"
     ]
    },
    {
     "name": "stdout",
     "output_type": "stream",
     "text": [
      "164\n"
     ]
    },
    {
     "name": "stderr",
     "output_type": "stream",
     "text": [
      "sys:1: UserWarning: No data for colormapping provided via 'c'. Parameters 'vmin', 'vmax' will be ignored\n"
     ]
    },
    {
     "name": "stdout",
     "output_type": "stream",
     "text": [
      "165\n"
     ]
    },
    {
     "name": "stderr",
     "output_type": "stream",
     "text": [
      "sys:1: UserWarning: No data for colormapping provided via 'c'. Parameters 'vmin', 'vmax' will be ignored\n"
     ]
    },
    {
     "name": "stdout",
     "output_type": "stream",
     "text": [
      "166\n"
     ]
    },
    {
     "name": "stderr",
     "output_type": "stream",
     "text": [
      "sys:1: UserWarning: No data for colormapping provided via 'c'. Parameters 'vmin', 'vmax' will be ignored\n"
     ]
    },
    {
     "name": "stdout",
     "output_type": "stream",
     "text": [
      "167\n"
     ]
    },
    {
     "name": "stderr",
     "output_type": "stream",
     "text": [
      "sys:1: UserWarning: No data for colormapping provided via 'c'. Parameters 'vmin', 'vmax' will be ignored\n"
     ]
    },
    {
     "name": "stdout",
     "output_type": "stream",
     "text": [
      "168\n"
     ]
    },
    {
     "name": "stderr",
     "output_type": "stream",
     "text": [
      "sys:1: UserWarning: No data for colormapping provided via 'c'. Parameters 'vmin', 'vmax' will be ignored\n"
     ]
    },
    {
     "name": "stdout",
     "output_type": "stream",
     "text": [
      "169\n"
     ]
    },
    {
     "name": "stderr",
     "output_type": "stream",
     "text": [
      "sys:1: UserWarning: No data for colormapping provided via 'c'. Parameters 'vmin', 'vmax' will be ignored\n"
     ]
    },
    {
     "name": "stdout",
     "output_type": "stream",
     "text": [
      "170\n"
     ]
    },
    {
     "name": "stderr",
     "output_type": "stream",
     "text": [
      "sys:1: UserWarning: No data for colormapping provided via 'c'. Parameters 'vmin', 'vmax' will be ignored\n"
     ]
    },
    {
     "name": "stdout",
     "output_type": "stream",
     "text": [
      "171\n"
     ]
    },
    {
     "name": "stderr",
     "output_type": "stream",
     "text": [
      "sys:1: UserWarning: No data for colormapping provided via 'c'. Parameters 'vmin', 'vmax' will be ignored\n"
     ]
    },
    {
     "name": "stdout",
     "output_type": "stream",
     "text": [
      "172\n"
     ]
    },
    {
     "name": "stderr",
     "output_type": "stream",
     "text": [
      "sys:1: UserWarning: No data for colormapping provided via 'c'. Parameters 'vmin', 'vmax' will be ignored\n"
     ]
    },
    {
     "name": "stdout",
     "output_type": "stream",
     "text": [
      "173\n"
     ]
    },
    {
     "name": "stderr",
     "output_type": "stream",
     "text": [
      "sys:1: UserWarning: No data for colormapping provided via 'c'. Parameters 'vmin', 'vmax' will be ignored\n"
     ]
    },
    {
     "name": "stdout",
     "output_type": "stream",
     "text": [
      "174\n"
     ]
    },
    {
     "name": "stderr",
     "output_type": "stream",
     "text": [
      "sys:1: UserWarning: No data for colormapping provided via 'c'. Parameters 'vmin', 'vmax' will be ignored\n"
     ]
    },
    {
     "name": "stdout",
     "output_type": "stream",
     "text": [
      "175\n"
     ]
    },
    {
     "name": "stderr",
     "output_type": "stream",
     "text": [
      "sys:1: UserWarning: No data for colormapping provided via 'c'. Parameters 'vmin', 'vmax' will be ignored\n"
     ]
    },
    {
     "name": "stdout",
     "output_type": "stream",
     "text": [
      "176\n"
     ]
    },
    {
     "name": "stderr",
     "output_type": "stream",
     "text": [
      "sys:1: UserWarning: No data for colormapping provided via 'c'. Parameters 'vmin', 'vmax' will be ignored\n"
     ]
    },
    {
     "name": "stdout",
     "output_type": "stream",
     "text": [
      "177\n"
     ]
    },
    {
     "name": "stderr",
     "output_type": "stream",
     "text": [
      "sys:1: UserWarning: No data for colormapping provided via 'c'. Parameters 'vmin', 'vmax' will be ignored\n"
     ]
    },
    {
     "name": "stdout",
     "output_type": "stream",
     "text": [
      "178\n"
     ]
    },
    {
     "name": "stderr",
     "output_type": "stream",
     "text": [
      "sys:1: UserWarning: No data for colormapping provided via 'c'. Parameters 'vmin', 'vmax' will be ignored\n"
     ]
    },
    {
     "name": "stdout",
     "output_type": "stream",
     "text": [
      "179\n"
     ]
    },
    {
     "name": "stderr",
     "output_type": "stream",
     "text": [
      "sys:1: UserWarning: No data for colormapping provided via 'c'. Parameters 'vmin', 'vmax' will be ignored\n"
     ]
    },
    {
     "name": "stdout",
     "output_type": "stream",
     "text": [
      "180\n"
     ]
    },
    {
     "name": "stderr",
     "output_type": "stream",
     "text": [
      "sys:1: UserWarning: No data for colormapping provided via 'c'. Parameters 'vmin', 'vmax' will be ignored\n"
     ]
    },
    {
     "name": "stdout",
     "output_type": "stream",
     "text": [
      "181\n"
     ]
    },
    {
     "name": "stderr",
     "output_type": "stream",
     "text": [
      "sys:1: UserWarning: No data for colormapping provided via 'c'. Parameters 'vmin', 'vmax' will be ignored\n"
     ]
    },
    {
     "name": "stdout",
     "output_type": "stream",
     "text": [
      "182\n"
     ]
    },
    {
     "name": "stderr",
     "output_type": "stream",
     "text": [
      "sys:1: UserWarning: No data for colormapping provided via 'c'. Parameters 'vmin', 'vmax' will be ignored\n"
     ]
    },
    {
     "name": "stdout",
     "output_type": "stream",
     "text": [
      "183\n"
     ]
    },
    {
     "name": "stderr",
     "output_type": "stream",
     "text": [
      "sys:1: UserWarning: No data for colormapping provided via 'c'. Parameters 'vmin', 'vmax' will be ignored\n"
     ]
    },
    {
     "name": "stdout",
     "output_type": "stream",
     "text": [
      "184\n"
     ]
    },
    {
     "name": "stderr",
     "output_type": "stream",
     "text": [
      "sys:1: UserWarning: No data for colormapping provided via 'c'. Parameters 'vmin', 'vmax' will be ignored\n"
     ]
    },
    {
     "name": "stdout",
     "output_type": "stream",
     "text": [
      "185\n"
     ]
    },
    {
     "name": "stderr",
     "output_type": "stream",
     "text": [
      "sys:1: UserWarning: No data for colormapping provided via 'c'. Parameters 'vmin', 'vmax' will be ignored\n"
     ]
    },
    {
     "name": "stdout",
     "output_type": "stream",
     "text": [
      "186\n"
     ]
    },
    {
     "name": "stderr",
     "output_type": "stream",
     "text": [
      "sys:1: UserWarning: No data for colormapping provided via 'c'. Parameters 'vmin', 'vmax' will be ignored\n"
     ]
    },
    {
     "name": "stdout",
     "output_type": "stream",
     "text": [
      "187\n"
     ]
    },
    {
     "name": "stderr",
     "output_type": "stream",
     "text": [
      "sys:1: UserWarning: No data for colormapping provided via 'c'. Parameters 'vmin', 'vmax' will be ignored\n"
     ]
    },
    {
     "name": "stdout",
     "output_type": "stream",
     "text": [
      "188\n"
     ]
    },
    {
     "name": "stderr",
     "output_type": "stream",
     "text": [
      "sys:1: UserWarning: No data for colormapping provided via 'c'. Parameters 'vmin', 'vmax' will be ignored\n"
     ]
    },
    {
     "name": "stdout",
     "output_type": "stream",
     "text": [
      "189\n"
     ]
    },
    {
     "name": "stderr",
     "output_type": "stream",
     "text": [
      "sys:1: UserWarning: No data for colormapping provided via 'c'. Parameters 'vmin', 'vmax' will be ignored\n"
     ]
    },
    {
     "name": "stdout",
     "output_type": "stream",
     "text": [
      "190\n"
     ]
    },
    {
     "name": "stderr",
     "output_type": "stream",
     "text": [
      "sys:1: UserWarning: No data for colormapping provided via 'c'. Parameters 'vmin', 'vmax' will be ignored\n"
     ]
    },
    {
     "name": "stdout",
     "output_type": "stream",
     "text": [
      "191\n"
     ]
    },
    {
     "name": "stderr",
     "output_type": "stream",
     "text": [
      "sys:1: UserWarning: No data for colormapping provided via 'c'. Parameters 'vmin', 'vmax' will be ignored\n"
     ]
    },
    {
     "name": "stdout",
     "output_type": "stream",
     "text": [
      "192\n"
     ]
    },
    {
     "name": "stderr",
     "output_type": "stream",
     "text": [
      "sys:1: UserWarning: No data for colormapping provided via 'c'. Parameters 'vmin', 'vmax' will be ignored\n"
     ]
    },
    {
     "name": "stdout",
     "output_type": "stream",
     "text": [
      "193\n"
     ]
    },
    {
     "name": "stderr",
     "output_type": "stream",
     "text": [
      "sys:1: UserWarning: No data for colormapping provided via 'c'. Parameters 'vmin', 'vmax' will be ignored\n"
     ]
    },
    {
     "name": "stdout",
     "output_type": "stream",
     "text": [
      "194\n"
     ]
    },
    {
     "name": "stderr",
     "output_type": "stream",
     "text": [
      "sys:1: UserWarning: No data for colormapping provided via 'c'. Parameters 'vmin', 'vmax' will be ignored\n"
     ]
    },
    {
     "name": "stdout",
     "output_type": "stream",
     "text": [
      "195\n"
     ]
    },
    {
     "name": "stderr",
     "output_type": "stream",
     "text": [
      "sys:1: UserWarning: No data for colormapping provided via 'c'. Parameters 'vmin', 'vmax' will be ignored\n"
     ]
    },
    {
     "name": "stdout",
     "output_type": "stream",
     "text": [
      "196\n"
     ]
    },
    {
     "name": "stderr",
     "output_type": "stream",
     "text": [
      "sys:1: UserWarning: No data for colormapping provided via 'c'. Parameters 'vmin', 'vmax' will be ignored\n"
     ]
    },
    {
     "name": "stdout",
     "output_type": "stream",
     "text": [
      "197\n"
     ]
    },
    {
     "name": "stderr",
     "output_type": "stream",
     "text": [
      "sys:1: UserWarning: No data for colormapping provided via 'c'. Parameters 'vmin', 'vmax' will be ignored\n"
     ]
    },
    {
     "name": "stdout",
     "output_type": "stream",
     "text": [
      "198\n"
     ]
    },
    {
     "name": "stderr",
     "output_type": "stream",
     "text": [
      "sys:1: UserWarning: No data for colormapping provided via 'c'. Parameters 'vmin', 'vmax' will be ignored\n"
     ]
    },
    {
     "name": "stdout",
     "output_type": "stream",
     "text": [
      "199\n"
     ]
    },
    {
     "name": "stderr",
     "output_type": "stream",
     "text": [
      "sys:1: UserWarning: No data for colormapping provided via 'c'. Parameters 'vmin', 'vmax' will be ignored\n"
     ]
    },
    {
     "name": "stdout",
     "output_type": "stream",
     "text": [
      "200\n"
     ]
    },
    {
     "name": "stderr",
     "output_type": "stream",
     "text": [
      "sys:1: UserWarning: No data for colormapping provided via 'c'. Parameters 'vmin', 'vmax' will be ignored\n"
     ]
    },
    {
     "name": "stdout",
     "output_type": "stream",
     "text": [
      "201\n"
     ]
    },
    {
     "name": "stderr",
     "output_type": "stream",
     "text": [
      "sys:1: UserWarning: No data for colormapping provided via 'c'. Parameters 'vmin', 'vmax' will be ignored\n"
     ]
    },
    {
     "name": "stdout",
     "output_type": "stream",
     "text": [
      "202\n"
     ]
    },
    {
     "name": "stderr",
     "output_type": "stream",
     "text": [
      "sys:1: UserWarning: No data for colormapping provided via 'c'. Parameters 'vmin', 'vmax' will be ignored\n"
     ]
    },
    {
     "name": "stdout",
     "output_type": "stream",
     "text": [
      "203\n"
     ]
    },
    {
     "name": "stderr",
     "output_type": "stream",
     "text": [
      "sys:1: UserWarning: No data for colormapping provided via 'c'. Parameters 'vmin', 'vmax' will be ignored\n"
     ]
    },
    {
     "name": "stdout",
     "output_type": "stream",
     "text": [
      "204\n"
     ]
    },
    {
     "name": "stderr",
     "output_type": "stream",
     "text": [
      "sys:1: UserWarning: No data for colormapping provided via 'c'. Parameters 'vmin', 'vmax' will be ignored\n"
     ]
    },
    {
     "name": "stdout",
     "output_type": "stream",
     "text": [
      "205\n"
     ]
    },
    {
     "name": "stderr",
     "output_type": "stream",
     "text": [
      "sys:1: UserWarning: No data for colormapping provided via 'c'. Parameters 'vmin', 'vmax' will be ignored\n"
     ]
    },
    {
     "name": "stdout",
     "output_type": "stream",
     "text": [
      "206\n"
     ]
    },
    {
     "name": "stderr",
     "output_type": "stream",
     "text": [
      "sys:1: UserWarning: No data for colormapping provided via 'c'. Parameters 'vmin', 'vmax' will be ignored\n"
     ]
    },
    {
     "name": "stdout",
     "output_type": "stream",
     "text": [
      "207\n"
     ]
    },
    {
     "name": "stderr",
     "output_type": "stream",
     "text": [
      "sys:1: UserWarning: No data for colormapping provided via 'c'. Parameters 'vmin', 'vmax' will be ignored\n"
     ]
    },
    {
     "name": "stdout",
     "output_type": "stream",
     "text": [
      "208\n"
     ]
    },
    {
     "name": "stderr",
     "output_type": "stream",
     "text": [
      "sys:1: UserWarning: No data for colormapping provided via 'c'. Parameters 'vmin', 'vmax' will be ignored\n"
     ]
    },
    {
     "name": "stdout",
     "output_type": "stream",
     "text": [
      "209\n"
     ]
    },
    {
     "name": "stderr",
     "output_type": "stream",
     "text": [
      "sys:1: UserWarning: No data for colormapping provided via 'c'. Parameters 'vmin', 'vmax' will be ignored\n"
     ]
    },
    {
     "name": "stdout",
     "output_type": "stream",
     "text": [
      "210\n"
     ]
    },
    {
     "name": "stderr",
     "output_type": "stream",
     "text": [
      "sys:1: UserWarning: No data for colormapping provided via 'c'. Parameters 'vmin', 'vmax' will be ignored\n"
     ]
    },
    {
     "name": "stdout",
     "output_type": "stream",
     "text": [
      "211\n"
     ]
    },
    {
     "name": "stderr",
     "output_type": "stream",
     "text": [
      "sys:1: UserWarning: No data for colormapping provided via 'c'. Parameters 'vmin', 'vmax' will be ignored\n"
     ]
    },
    {
     "name": "stdout",
     "output_type": "stream",
     "text": [
      "212\n"
     ]
    },
    {
     "name": "stderr",
     "output_type": "stream",
     "text": [
      "sys:1: UserWarning: No data for colormapping provided via 'c'. Parameters 'vmin', 'vmax' will be ignored\n"
     ]
    },
    {
     "name": "stdout",
     "output_type": "stream",
     "text": [
      "213\n"
     ]
    },
    {
     "name": "stderr",
     "output_type": "stream",
     "text": [
      "sys:1: UserWarning: No data for colormapping provided via 'c'. Parameters 'vmin', 'vmax' will be ignored\n"
     ]
    },
    {
     "name": "stdout",
     "output_type": "stream",
     "text": [
      "214\n"
     ]
    },
    {
     "name": "stderr",
     "output_type": "stream",
     "text": [
      "sys:1: UserWarning: No data for colormapping provided via 'c'. Parameters 'vmin', 'vmax' will be ignored\n"
     ]
    },
    {
     "name": "stdout",
     "output_type": "stream",
     "text": [
      "215\n"
     ]
    },
    {
     "name": "stderr",
     "output_type": "stream",
     "text": [
      "sys:1: UserWarning: No data for colormapping provided via 'c'. Parameters 'vmin', 'vmax' will be ignored\n"
     ]
    },
    {
     "name": "stdout",
     "output_type": "stream",
     "text": [
      "216\n"
     ]
    },
    {
     "name": "stderr",
     "output_type": "stream",
     "text": [
      "sys:1: UserWarning: No data for colormapping provided via 'c'. Parameters 'vmin', 'vmax' will be ignored\n"
     ]
    },
    {
     "name": "stdout",
     "output_type": "stream",
     "text": [
      "217\n"
     ]
    },
    {
     "name": "stderr",
     "output_type": "stream",
     "text": [
      "sys:1: UserWarning: No data for colormapping provided via 'c'. Parameters 'vmin', 'vmax' will be ignored\n"
     ]
    },
    {
     "name": "stdout",
     "output_type": "stream",
     "text": [
      "218\n"
     ]
    },
    {
     "name": "stderr",
     "output_type": "stream",
     "text": [
      "sys:1: UserWarning: No data for colormapping provided via 'c'. Parameters 'vmin', 'vmax' will be ignored\n"
     ]
    },
    {
     "name": "stdout",
     "output_type": "stream",
     "text": [
      "219\n"
     ]
    },
    {
     "name": "stderr",
     "output_type": "stream",
     "text": [
      "sys:1: UserWarning: No data for colormapping provided via 'c'. Parameters 'vmin', 'vmax' will be ignored\n"
     ]
    },
    {
     "name": "stdout",
     "output_type": "stream",
     "text": [
      "220\n"
     ]
    },
    {
     "name": "stderr",
     "output_type": "stream",
     "text": [
      "sys:1: UserWarning: No data for colormapping provided via 'c'. Parameters 'vmin', 'vmax' will be ignored\n"
     ]
    },
    {
     "name": "stdout",
     "output_type": "stream",
     "text": [
      "221\n"
     ]
    },
    {
     "name": "stderr",
     "output_type": "stream",
     "text": [
      "sys:1: UserWarning: No data for colormapping provided via 'c'. Parameters 'vmin', 'vmax' will be ignored\n"
     ]
    },
    {
     "name": "stdout",
     "output_type": "stream",
     "text": [
      "222\n"
     ]
    },
    {
     "name": "stderr",
     "output_type": "stream",
     "text": [
      "sys:1: UserWarning: No data for colormapping provided via 'c'. Parameters 'vmin', 'vmax' will be ignored\n"
     ]
    },
    {
     "name": "stdout",
     "output_type": "stream",
     "text": [
      "223\n"
     ]
    },
    {
     "name": "stderr",
     "output_type": "stream",
     "text": [
      "sys:1: UserWarning: No data for colormapping provided via 'c'. Parameters 'vmin', 'vmax' will be ignored\n"
     ]
    },
    {
     "name": "stdout",
     "output_type": "stream",
     "text": [
      "224\n"
     ]
    },
    {
     "name": "stderr",
     "output_type": "stream",
     "text": [
      "sys:1: UserWarning: No data for colormapping provided via 'c'. Parameters 'vmin', 'vmax' will be ignored\n"
     ]
    },
    {
     "name": "stdout",
     "output_type": "stream",
     "text": [
      "225\n"
     ]
    },
    {
     "name": "stderr",
     "output_type": "stream",
     "text": [
      "sys:1: UserWarning: No data for colormapping provided via 'c'. Parameters 'vmin', 'vmax' will be ignored\n"
     ]
    },
    {
     "name": "stdout",
     "output_type": "stream",
     "text": [
      "226\n"
     ]
    },
    {
     "name": "stderr",
     "output_type": "stream",
     "text": [
      "sys:1: UserWarning: No data for colormapping provided via 'c'. Parameters 'vmin', 'vmax' will be ignored\n"
     ]
    },
    {
     "name": "stdout",
     "output_type": "stream",
     "text": [
      "227\n"
     ]
    },
    {
     "name": "stderr",
     "output_type": "stream",
     "text": [
      "sys:1: UserWarning: No data for colormapping provided via 'c'. Parameters 'vmin', 'vmax' will be ignored\n"
     ]
    },
    {
     "name": "stdout",
     "output_type": "stream",
     "text": [
      "228\n"
     ]
    },
    {
     "name": "stderr",
     "output_type": "stream",
     "text": [
      "sys:1: UserWarning: No data for colormapping provided via 'c'. Parameters 'vmin', 'vmax' will be ignored\n"
     ]
    },
    {
     "name": "stdout",
     "output_type": "stream",
     "text": [
      "229\n"
     ]
    },
    {
     "name": "stderr",
     "output_type": "stream",
     "text": [
      "sys:1: UserWarning: No data for colormapping provided via 'c'. Parameters 'vmin', 'vmax' will be ignored\n"
     ]
    },
    {
     "name": "stdout",
     "output_type": "stream",
     "text": [
      "230\n"
     ]
    },
    {
     "name": "stderr",
     "output_type": "stream",
     "text": [
      "sys:1: UserWarning: No data for colormapping provided via 'c'. Parameters 'vmin', 'vmax' will be ignored\n"
     ]
    },
    {
     "name": "stdout",
     "output_type": "stream",
     "text": [
      "231\n"
     ]
    },
    {
     "name": "stderr",
     "output_type": "stream",
     "text": [
      "sys:1: UserWarning: No data for colormapping provided via 'c'. Parameters 'vmin', 'vmax' will be ignored\n"
     ]
    },
    {
     "name": "stdout",
     "output_type": "stream",
     "text": [
      "232\n"
     ]
    },
    {
     "name": "stderr",
     "output_type": "stream",
     "text": [
      "sys:1: UserWarning: No data for colormapping provided via 'c'. Parameters 'vmin', 'vmax' will be ignored\n"
     ]
    },
    {
     "name": "stdout",
     "output_type": "stream",
     "text": [
      "233\n"
     ]
    },
    {
     "name": "stderr",
     "output_type": "stream",
     "text": [
      "sys:1: UserWarning: No data for colormapping provided via 'c'. Parameters 'vmin', 'vmax' will be ignored\n"
     ]
    },
    {
     "name": "stdout",
     "output_type": "stream",
     "text": [
      "234\n"
     ]
    },
    {
     "name": "stderr",
     "output_type": "stream",
     "text": [
      "sys:1: UserWarning: No data for colormapping provided via 'c'. Parameters 'vmin', 'vmax' will be ignored\n"
     ]
    },
    {
     "name": "stdout",
     "output_type": "stream",
     "text": [
      "235\n"
     ]
    },
    {
     "name": "stderr",
     "output_type": "stream",
     "text": [
      "sys:1: UserWarning: No data for colormapping provided via 'c'. Parameters 'vmin', 'vmax' will be ignored\n"
     ]
    },
    {
     "name": "stdout",
     "output_type": "stream",
     "text": [
      "236\n"
     ]
    },
    {
     "name": "stderr",
     "output_type": "stream",
     "text": [
      "sys:1: UserWarning: No data for colormapping provided via 'c'. Parameters 'vmin', 'vmax' will be ignored\n"
     ]
    },
    {
     "name": "stdout",
     "output_type": "stream",
     "text": [
      "237\n"
     ]
    },
    {
     "name": "stderr",
     "output_type": "stream",
     "text": [
      "sys:1: UserWarning: No data for colormapping provided via 'c'. Parameters 'vmin', 'vmax' will be ignored\n"
     ]
    },
    {
     "name": "stdout",
     "output_type": "stream",
     "text": [
      "238\n"
     ]
    },
    {
     "name": "stderr",
     "output_type": "stream",
     "text": [
      "sys:1: UserWarning: No data for colormapping provided via 'c'. Parameters 'vmin', 'vmax' will be ignored\n"
     ]
    },
    {
     "name": "stdout",
     "output_type": "stream",
     "text": [
      "239\n"
     ]
    },
    {
     "name": "stderr",
     "output_type": "stream",
     "text": [
      "sys:1: UserWarning: No data for colormapping provided via 'c'. Parameters 'vmin', 'vmax' will be ignored\n"
     ]
    },
    {
     "name": "stdout",
     "output_type": "stream",
     "text": [
      "240\n"
     ]
    },
    {
     "name": "stderr",
     "output_type": "stream",
     "text": [
      "sys:1: UserWarning: No data for colormapping provided via 'c'. Parameters 'vmin', 'vmax' will be ignored\n"
     ]
    },
    {
     "name": "stdout",
     "output_type": "stream",
     "text": [
      "241\n"
     ]
    },
    {
     "name": "stderr",
     "output_type": "stream",
     "text": [
      "sys:1: UserWarning: No data for colormapping provided via 'c'. Parameters 'vmin', 'vmax' will be ignored\n"
     ]
    },
    {
     "name": "stdout",
     "output_type": "stream",
     "text": [
      "242\n"
     ]
    },
    {
     "name": "stderr",
     "output_type": "stream",
     "text": [
      "sys:1: UserWarning: No data for colormapping provided via 'c'. Parameters 'vmin', 'vmax' will be ignored\n"
     ]
    },
    {
     "name": "stdout",
     "output_type": "stream",
     "text": [
      "243\n"
     ]
    },
    {
     "name": "stderr",
     "output_type": "stream",
     "text": [
      "sys:1: UserWarning: No data for colormapping provided via 'c'. Parameters 'vmin', 'vmax' will be ignored\n"
     ]
    },
    {
     "name": "stdout",
     "output_type": "stream",
     "text": [
      "244\n"
     ]
    },
    {
     "name": "stderr",
     "output_type": "stream",
     "text": [
      "sys:1: UserWarning: No data for colormapping provided via 'c'. Parameters 'vmin', 'vmax' will be ignored\n"
     ]
    },
    {
     "name": "stdout",
     "output_type": "stream",
     "text": [
      "245\n"
     ]
    },
    {
     "name": "stderr",
     "output_type": "stream",
     "text": [
      "sys:1: UserWarning: No data for colormapping provided via 'c'. Parameters 'vmin', 'vmax' will be ignored\n"
     ]
    },
    {
     "name": "stdout",
     "output_type": "stream",
     "text": [
      "246\n"
     ]
    },
    {
     "name": "stderr",
     "output_type": "stream",
     "text": [
      "sys:1: UserWarning: No data for colormapping provided via 'c'. Parameters 'vmin', 'vmax' will be ignored\n"
     ]
    },
    {
     "name": "stdout",
     "output_type": "stream",
     "text": [
      "247\n"
     ]
    },
    {
     "name": "stderr",
     "output_type": "stream",
     "text": [
      "sys:1: UserWarning: No data for colormapping provided via 'c'. Parameters 'vmin', 'vmax' will be ignored\n"
     ]
    },
    {
     "name": "stdout",
     "output_type": "stream",
     "text": [
      "248\n"
     ]
    },
    {
     "name": "stderr",
     "output_type": "stream",
     "text": [
      "sys:1: UserWarning: No data for colormapping provided via 'c'. Parameters 'vmin', 'vmax' will be ignored\n"
     ]
    },
    {
     "name": "stdout",
     "output_type": "stream",
     "text": [
      "249\n"
     ]
    },
    {
     "name": "stderr",
     "output_type": "stream",
     "text": [
      "sys:1: UserWarning: No data for colormapping provided via 'c'. Parameters 'vmin', 'vmax' will be ignored\n"
     ]
    },
    {
     "name": "stdout",
     "output_type": "stream",
     "text": [
      "250\n"
     ]
    },
    {
     "name": "stderr",
     "output_type": "stream",
     "text": [
      "sys:1: UserWarning: No data for colormapping provided via 'c'. Parameters 'vmin', 'vmax' will be ignored\n",
      "sys:1: UserWarning: No data for colormapping provided via 'c'. Parameters 'vmin', 'vmax' will be ignored\n",
      "\u001b[36m\u001b[1m[ \u001b[22m\u001b[39m\u001b[36m\u001b[1mInfo: \u001b[22m\u001b[39mSaved animation to /home/mgadaloff/SAFT_ML/special_thingy_params/tmp.gif\n"
     ]
    },
    {
     "data": {
      "image/png": "[encoded data removed]",
      "text/plain": [
       "PyPlot.Figure(PyObject <Figure size 2400x2400 with 1 Axes>)"
      ]
     },
     "metadata": {},
     "output_type": "display_data"
    }
   ],
   "source": [
    "# Set pyplot backend for plots\n",
    "using Plots\n",
    "pyplot()\n",
    "\n",
    "tick_font_size = 16\n",
    "label_font_size = 18\n",
    "total_frames = 250 #nrow(trend_gif_data)\n",
    "\n",
    "marker_colour = \"#5dc90a\"\n",
    "marker_size = 8\n",
    "\n",
    "default(legend = false)\n",
    "\n",
    "Mw_range = range(0,500,23)\n",
    "\n",
    "mϵ_pred = [8.2034 * i + 36.245 for i in Mw_range]\n",
    "mσ3_pred = [1.8975 * i + 18.278 for i in Mw_range]\n",
    "\n",
    "@gif for i = 1:total_frames\n",
    "    \n",
    "    plot(Mw_range , mσ3_pred, dpi=400, size=(600, 600), linecolor=\"black\", linewidth=2, framestyle=:box, fontfamily=\"serif\", guidefontsize=label_font_size,titlefontsize=label_font_size, xtickfontsize=tick_font_size, ytickfontsize=tick_font_size,legendfontsize=12);\n",
    "\n",
    "    if i <= 60\n",
    "        plot!(trend_gif_data[i,:Mw] , trend_gif_data[i,:m_sigma_3], seriestype=:scatter,grid=false,markercolor=\"#F4B183\",markerstrokealpha=0,markersize=5);\n",
    "        percent_training = \"$(round((i/620)*100, sigdigits=3))\"\n",
    "        r2 = \"$(round(trend_gif_data[i,:m_sigma_3_r2], sigdigits=3))\"\n",
    "    elseif i <=200\n",
    "        plot!(trend_gif_data[60 + (i-60)*4,:Mw] , trend_gif_data[60 + (i-60)*4,:m_sigma_3], seriestype=:scatter,grid=false,markercolor=\"#F4B183\",markerstrokealpha=0,markersize=5);\n",
    "        percent_training = \"$(round(((60 + (i-60)*4)/620)*100, sigdigits=3))\"\n",
    "        r2 = \"$(round(trend_gif_data[(60 + (i-60)*4),:m_sigma_3_r2], sigdigits=3))\"\n",
    "    else\n",
    "        plot!(trend_gif_data[60 + (200-60)*4,:Mw] , trend_gif_data[60 + (200-60)*4,:m_sigma_3], seriestype=:scatter,grid=false,markercolor=\"#F4B183\",markerstrokealpha=0,markersize=5);\n",
    "        percent_training = \"$(round(((60 + (200-60)*4)/620)*100, sigdigits=3))\"\n",
    "        r2 = \"$(round(trend_gif_data[(60 + (200-60)*4),:m_sigma_3_r2], sigdigits=3))\"\n",
    "    \n",
    "    end\n",
    "\n",
    "    ylabel!(L\"mσ$\\mathregular{^3}$ / Å$\\mathregular{^3}$\", fontsize=label_fontsize)\n",
    "    xlabel!(L\"Molar Weight / (g mol$\\mathregular{^{-1}}$)\", fontsize=label_fontsize)\n",
    "    xlims!(0,400)\n",
    "    ylims!(0,1200)\n",
    "\n",
    "    # xticks!([10^-1, 10^-0, 10^1, 10^2, 10^3, 10^4, 10^5, 10^6, 10^7])\n",
    "    # xticks!([0,1,2,3,4,5,6,7])\n",
    "    # title!(\"n-Octane\")\n",
    "   \n",
    "    annotate!(350, 1150, percent_training, valign=:top,fontsize=16)\n",
    "    annotate!(350, 1075, r2, valign=:top,fontsize=16)\n",
    "\n",
    "    println(i)\n",
    "\n",
    "end fps=25;\n",
    "\n"
   ]
  }
 ],
 "metadata": {
  "kernelspec": {
   "display_name": "Julia 1.9.3",
   "language": "julia",
   "name": "julia-1.9"
  },
  "language_info": {
   "file_extension": ".jl",
   "mimetype": "application/julia",
   "name": "julia",
   "version": "1.9.3"
  }
 },
 "nbformat": 4,
 "nbformat_minor": 2
}
