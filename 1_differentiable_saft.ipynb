{
 "cells": [
  {
   "cell_type": "code",
   "execution_count": 1,
   "metadata": {},
   "outputs": [
    {
     "name": "stderr",
     "output_type": "stream",
     "text": [
      "\u001b[32m\u001b[1m  Activating\u001b[22m\u001b[39m project at `~/SAFT_ML`\n"
     ]
    }
   ],
   "source": [
    "import Pkg; Pkg.activate(\".\")"
   ]
  },
  {
   "cell_type": "code",
   "execution_count": 2,
   "metadata": {},
   "outputs": [
    {
     "name": "stderr",
     "output_type": "stream",
     "text": [
      "WARNING: redefinition of constant UNIT_FORMATS. This may fail, cause incorrect answers, or produce other errors.\n"
     ]
    }
   ],
   "source": [
    "using Revise\n",
    "using Clapeyron\n",
    "includet(\"./saftvrmienn.jl\")\n",
    "import Clapeyron: a_res\n",
    "\n",
    "using Flux\n",
    "using Plots\n",
    "using ForwardDiff, DiffResults\n",
    "\n",
    "using Zygote, ChainRulesCore"
   ]
  },
  {
   "cell_type": "code",
   "execution_count": 3,
   "metadata": {},
   "outputs": [
    {
     "name": "stdout",
     "output_type": "stream",
     "text": [
      "Mw: "
     ]
    },
    {
     "name": "stdout",
     "output_type": "stream",
     "text": [
      "[16.04]\n",
      "segment: [1.0]\n",
      "sigma: "
     ]
    },
    {
     "name": "stdout",
     "output_type": "stream",
     "text": [
      "[3.737e-10;;]\n",
      "lambda_a: [6.0;;]\n",
      "lambda_r: [12.504;;]\n",
      "epsilon: [152.58;;]\n",
      "epsilon_assoc: Clapeyron.Compressed4DMatrix{Float64, Vector{Float64}}Float64[]\n",
      "bondvol: Clapeyron.Compressed4DMatrix{Float64, Vector{Float64}}Float64[]\n"
     ]
    }
   ],
   "source": [
    "model = SAFTVRMie([\"methane\"])\n",
    "for x in fieldnames(typeof(model.params))\n",
    "    println(x, \": \", eval(Meta.parse(\"model.params.$x.values\")))\n",
    "end"
   ]
  },
  {
   "cell_type": "code",
   "execution_count": 4,
   "metadata": {},
   "outputs": [
    {
     "data": {
      "text/plain": [
       "SAFTVRMieNN with 1 component:\n",
       " \"methane\"\n",
       "Contains parameters: Mw, segment, sigma, lambda_a, lambda_r, epsilon, epsilon_assoc, bondvol"
      ]
     },
     "metadata": {},
     "output_type": "display_data"
    }
   ],
   "source": [
    "x = SAFTVRMieNN(\n",
    "    params = SAFTVRMieNNParams(\n",
    "        Mw=[16.04],\n",
    "        segment=[1.0],\n",
    "        sigma=[3.737e-10],\n",
    "        lambda_a=[6.0],\n",
    "        lambda_r=[12.504],\n",
    "        epsilon=[152.58],\n",
    "    )\n",
    ")"
   ]
  },
  {
   "cell_type": "code",
   "execution_count": 5,
   "metadata": {},
   "outputs": [
    {
     "name": "stdout",
     "output_type": "stream",
     "text": [
      "a_res(x, 0.0001, 300.0, [1.0]) = -0.2883849961140881\n",
      "a_res(model, 0.0001, 300.0, [1.0]) = "
     ]
    },
    {
     "name": "stdout",
     "output_type": "stream",
     "text": [
      "-0.2883849961140881\n"
     ]
    },
    {
     "data": {
      "text/plain": [
       "-0.2883849961140881"
      ]
     },
     "metadata": {},
     "output_type": "display_data"
    }
   ],
   "source": [
    "@show a_res(x, 1e-4, 300.0, [1.0])\n",
    "@show a_res(model, 1e-4, 300.0, [1.0])\n"
   ]
  },
  {
   "cell_type": "code",
   "execution_count": 6,
   "metadata": {},
   "outputs": [
    {
     "data": {
      "text/plain": [
       "-0.2883849961140881"
      ]
     },
     "metadata": {},
     "output_type": "display_data"
    }
   ],
   "source": [
    "function differentiable_saft(X)\n",
    "    model = SAFTVRMieNN(\n",
    "        params = SAFTVRMieNNParams(\n",
    "            Mw=[16.04],\n",
    "            segment=[1.0],\n",
    "            sigma=[X[1]],\n",
    "            lambda_a=[X[2]],\n",
    "            lambda_r=[X[3]],\n",
    "            epsilon=[X[4]],\n",
    "            epsilon_assoc=Float64[],\n",
    "            bondvol=Float64[],\n",
    "        )\n",
    "    )\n",
    "    return a_res(model, 1e-4, 300.0, [1.0])\n",
    "    # return pressure(model, 1e-4, 300.0, [1.0])\n",
    "    return saturation_pressure(model)\n",
    "end\n",
    "\n",
    "differentiable_saft([3.737e-10, 6.0, 12.504, 152.58])"
   ]
  },
  {
   "cell_type": "code",
   "execution_count": 21,
   "metadata": {},
   "outputs": [
    {
     "data": {
      "text/plain": [
       "4-element Vector{Float64}:\n",
       " -1.2753186700741215e9\n",
       "  0.23877186863500233\n",
       "  0.053846521804507934\n",
       " -0.006372733864435557"
      ]
     },
     "metadata": {},
     "output_type": "display_data"
    }
   ],
   "source": [
    "g1 = ForwardDiff.gradient(differentiable_saft, [3.737e-10, 6.0, 12.504, 152.58])"
   ]
  },
  {
   "cell_type": "code",
   "execution_count": 22,
   "metadata": {},
   "outputs": [
    {
     "data": {
      "text/plain": [
       "([-1.2753186700741205e9, 0.23877186863500235, 0.0538465218045079, -0.006372733864435554],)"
      ]
     },
     "metadata": {},
     "output_type": "display_data"
    }
   ],
   "source": [
    "g2 = Zygote.gradient(differentiable_saft, [3.737e-10, 6.0, 12.504, 152.58])"
   ]
  },
  {
   "cell_type": "code",
   "execution_count": 25,
   "metadata": {},
   "outputs": [
    {
     "data": {
      "text/plain": [
       "true"
      ]
     },
     "metadata": {},
     "output_type": "display_data"
    }
   ],
   "source": [
    "g2[1] ≈ g1"
   ]
  },
  {
   "cell_type": "code",
   "execution_count": 9,
   "metadata": {},
   "outputs": [
    {
     "data": {
      "text/plain": [
       "([-1.2769666505152988e9, 0.23822451028384095, 0.053698344981408117, -0.006493795105749014],)"
      ]
     },
     "metadata": {},
     "output_type": "display_data"
    }
   ],
   "source": [
    "function f(X)\n",
    "    return differentiable_saft(X)\n",
    "end\n",
    "\n",
    "function ChainRulesCore.rrule(::typeof(f), x)\n",
    "    y = f(x)\n",
    "    \n",
    "    function f_pullback(Δy)\n",
    "        # Use ForwardDiff to compute the gradient\n",
    "        ∂x = ForwardDiff.gradient(f, x) .* Δy # Note: element-wise multiplication\n",
    "        return (NoTangent(), ∂x)\n",
    "    end\n",
    "    \n",
    "    return y, f_pullback\n",
    "end\n",
    "\n",
    "# Test the gradient computation\n",
    "Zygote.gradient(f, [3.737e-10, 6.0, 12.504, 152.58])"
   ]
  },
  {
   "cell_type": "code",
   "execution_count": 10,
   "metadata": {},
   "outputs": [],
   "source": []
  }
 ],
 "metadata": {
  "kernelspec": {
   "display_name": "Julia 1.8.2",
   "language": "julia",
   "name": "julia-1.8"
  },
  "language_info": {
   "file_extension": ".jl",
   "mimetype": "application/julia",
   "name": "julia",
   "version": "1.8.2"
  },
  "orig_nbformat": 4
 },
 "nbformat": 4,
 "nbformat_minor": 2
}
