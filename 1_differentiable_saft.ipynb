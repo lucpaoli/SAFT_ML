{
 "cells": [
  {
   "cell_type": "code",
   "execution_count": 2,
   "metadata": {},
   "outputs": [
    {
     "name": "stderr",
     "output_type": "stream",
     "text": [
      "\u001b[32m\u001b[1m  Activating\u001b[22m\u001b[39m project at `~/SAFT_ML`\n"
     ]
    }
   ],
   "source": [
    "import Pkg; Pkg.activate(\".\")"
   ]
  },
  {
   "cell_type": "code",
   "execution_count": 3,
   "metadata": {},
   "outputs": [
    {
     "name": "stderr",
     "output_type": "stream",
     "text": [
      "┌ Warning: The call to compilecache failed to create a usable precompiled cache file for Clapeyron [7c7805af-46cc-48c9-995b-ed0ed2dc909a]\n",
      "│   exception = ErrorException(\"Required dependency SpecialFunctions [276daf66-3868-5448-9aa4-cd146d93841b] failed to load from a cache file.\")\n",
      "└ @ Base loading.jl:1349\n"
     ]
    },
    {
     "name": "stderr",
     "output_type": "stream",
     "text": [
      "WARNING: redefinition of constant UNIT_FORMATS. This may fail, cause incorrect answers, or produce other errors.\n"
     ]
    }
   ],
   "source": [
    "using Revise\n",
    "using Clapeyron\n",
    "includet(\"./saftvrmienn.jl\")\n",
    "import Clapeyron: a_res\n",
    "\n",
    "using Flux\n",
    "using Plots\n",
    "using ForwardDiff, DiffResults\n",
    "\n",
    "using Zygote, ChainRulesCore"
   ]
  },
  {
   "cell_type": "code",
   "execution_count": 4,
   "metadata": {},
   "outputs": [
    {
     "name": "stdout",
     "output_type": "stream",
     "text": [
      "Mw: "
     ]
    },
    {
     "name": "stdout",
     "output_type": "stream",
     "text": [
      "[16.04]\n",
      "segment: [1.0]\n",
      "sigma: "
     ]
    },
    {
     "name": "stdout",
     "output_type": "stream",
     "text": [
      "[3.737e-10;;]\n",
      "lambda_a: [6.0;;]\n",
      "lambda_r: [12.504;;]\n",
      "epsilon: [152.58;;]\n",
      "epsilon_assoc: Clapeyron.Compressed4DMatrix{Float64, Vector{Float64}}Float64[]\n",
      "bondvol: Clapeyron.Compressed4DMatrix{Float64, Vector{Float64}}Float64[]\n"
     ]
    }
   ],
   "source": [
    "model = SAFTVRMie([\"methane\"])\n",
    "for x in fieldnames(typeof(model.params))\n",
    "    println(x, \": \", eval(Meta.parse(\"model.params.$x.values\")))\n",
    "end"
   ]
  },
  {
   "cell_type": "code",
   "execution_count": 5,
   "metadata": {},
   "outputs": [
    {
     "data": {
      "text/plain": [
       "SAFTVRMieNN with 1 component:\n",
       " \"methane\"\n",
       "Contains parameters: Mw, segment, sigma, lambda_a, lambda_r, epsilon, epsilon_assoc, bondvol"
      ]
     },
     "metadata": {},
     "output_type": "display_data"
    }
   ],
   "source": [
    "x = SAFTVRMieNN(\n",
    "    params = SAFTVRMieNNParams(\n",
    "        Mw=[16.04],\n",
    "        segment=[1.0],\n",
    "        sigma=[3.737e-10],\n",
    "        lambda_a=[6.0],\n",
    "        lambda_r=[12.504],\n",
    "        epsilon=[152.58],\n",
    "    )\n",
    ")"
   ]
  },
  {
   "cell_type": "code",
   "execution_count": 6,
   "metadata": {},
   "outputs": [
    {
     "name": "stdout",
     "output_type": "stream",
     "text": [
      "a_res(x, 0.0001, 300.0, [1.0]) = -0.282736945800971\n",
      "a_res(model, 0.0001, 300.0, [1.0]) = "
     ]
    },
    {
     "name": "stdout",
     "output_type": "stream",
     "text": [
      "-0.2883849961140881\n"
     ]
    },
    {
     "data": {
      "text/plain": [
       "-0.2883849961140881"
      ]
     },
     "metadata": {},
     "output_type": "display_data"
    }
   ],
   "source": [
    "@show a_res(x, 1e-4, 300.0, [1.0])\n",
    "@show a_res(model, 1e-4, 300.0, [1.0])\n"
   ]
  },
  {
   "cell_type": "code",
   "execution_count": 13,
   "metadata": {},
   "outputs": [
    {
     "ename": "ErrorException",
     "evalue": "type Array has no field values",
     "output_type": "error",
     "traceback": [
      "type Array has no field values\n",
      "\n",
      "Stacktrace:\n",
      "  [1] getproperty\n",
      "    @ ./Base.jl:38 [inlined]\n",
      "  [2] lb_volume(model::SAFTVRMieNN, z::StaticArraysCore.SVector{1, Float64})\n",
      "    @ Clapeyron ~/.julia/dev/Clapeyron/src/models/SAFT/equations.jl:2\n",
      "  [3] x0_sat_pure(model::SAFTVRMieNN, T::Float64, z::StaticArraysCore.SVector{1, Float64})\n",
      "    @ Clapeyron ~/.julia/dev/Clapeyron/src/methods/initial_guess.jl:121\n",
      "  [4] x0_sat_pure(model::SAFTVRMieNN, T::Float64)\n",
      "    @ Clapeyron ~/.julia/dev/Clapeyron/src/methods/initial_guess.jl:108\n",
      "  [5] saturation_pressure_impl(model::SAFTVRMieNN, T::Float64, method::ChemPotVSaturation{Nothing, Nothing})\n",
      "    @ Clapeyron ~/.julia/dev/Clapeyron/src/methods/property_solvers/singlecomponent/saturation/ChemPotV.jl:57\n",
      "  [6] saturation_pressure(model::SAFTVRMieNN, T::Float64, method::ChemPotVSaturation{Nothing, Nothing})\n",
      "    @ Clapeyron ~/.julia/dev/Clapeyron/src/methods/property_solvers/singlecomponent/saturation/saturation.jl:43\n",
      "  [7] saturation_pressure(model::SAFTVRMieNN, T::Float64; kwargs::Base.Pairs{Symbol, Union{}, Tuple{}, NamedTuple{(), Tuple{}}})\n",
      "    @ Clapeyron ~/.julia/dev/Clapeyron/src/methods/property_solvers/singlecomponent/saturation/saturation.jl:57\n",
      "  [8] saturation_pressure(model::SAFTVRMieNN, T::Float64)\n",
      "    @ Clapeyron ~/.julia/dev/Clapeyron/src/methods/property_solvers/singlecomponent/saturation/saturation.jl:46\n",
      "  [9] differentiable_saft(X::Vector{Float64})\n",
      "    @ Main ~/SAFT_ML/1_differentiable_saft.ipynb:16\n",
      " [10] top-level scope\n",
      "    @ ~/SAFT_ML/1_differentiable_saft.ipynb:20"
     ]
    }
   ],
   "source": [
    "function differentiable_saft(X)\n",
    "    model = SAFTVRMieNN(\n",
    "        params = SAFTVRMieNNParams(\n",
    "            Mw=[16.04],\n",
    "            segment=[1.0],\n",
    "            sigma=[X[1]],\n",
    "            lambda_a=[X[2]],\n",
    "            lambda_r=[X[3]],\n",
    "            epsilon=[X[4]],\n",
    "            epsilon_assoc=Float64[],\n",
    "            bondvol=Float64[],\n",
    "        )\n",
    "    )\n",
    "    return a_res(model, 1e-4, 300.0, [1.0])\n",
    "    # return pressure(model, 1e-4, 300.0, [1.0])\n",
    "end\n",
    "\n",
    "differentiable_saft([3.737e-10, 6.0, 12.504, 152.58])"
   ]
  },
  {
   "cell_type": "code",
   "execution_count": 8,
   "metadata": {},
   "outputs": [
    {
     "data": {
      "text/plain": [
       "4-element Vector{Float64}:\n",
       " -1.2753186700741215e9\n",
       "  0.23877186863500233\n",
       "  0.053846521804507934\n",
       " -0.006372733864435557"
      ]
     },
     "metadata": {},
     "output_type": "display_data"
    }
   ],
   "source": [
    "g1 = ForwardDiff.gradient(differentiable_saft, [3.737e-10, 6.0, 12.504, 152.58])"
   ]
  },
  {
   "cell_type": "code",
   "execution_count": 9,
   "metadata": {},
   "outputs": [
    {
     "data": {
      "text/plain": [
       "([-1.2753186700741205e9, 0.23877186863500235, 0.0538465218045079, -0.006372733864435554],)"
      ]
     },
     "metadata": {},
     "output_type": "display_data"
    }
   ],
   "source": [
    "g2 = Zygote.gradient(differentiable_saft, [3.737e-10, 6.0, 12.504, 152.58])"
   ]
  },
  {
   "cell_type": "code",
   "execution_count": 10,
   "metadata": {},
   "outputs": [
    {
     "data": {
      "text/plain": [
       "true"
      ]
     },
     "metadata": {},
     "output_type": "display_data"
    }
   ],
   "source": [
    "g2[1] ≈ g1"
   ]
  },
  {
   "cell_type": "code",
   "execution_count": 11,
   "metadata": {},
   "outputs": [
    {
     "data": {
      "text/plain": [
       "([-1.2753186700741215e9, 0.23877186863500233, 0.053846521804507934, -0.006372733864435557],)"
      ]
     },
     "metadata": {},
     "output_type": "display_data"
    }
   ],
   "source": [
    "#! Old method before cleaning up saftvrmienn.jl\n",
    "# function f(X)\n",
    "#     return differentiable_saft(X)\n",
    "# end\n",
    "\n",
    "# function ChainRulesCore.rrule(::typeof(f), x)\n",
    "#     y = f(x)\n",
    "    \n",
    "#     function f_pullback(Δy)\n",
    "#         # Use ForwardDiff to compute the gradient\n",
    "#         ∂x = ForwardDiff.gradient(f, x) .* Δy # Note: element-wise multiplication\n",
    "#         return (NoTangent(), ∂x)\n",
    "#     end\n",
    "    \n",
    "#     return y, f_pullback\n",
    "# end\n",
    "\n",
    "# # Test the gradient computation\n",
    "# Zygote.gradient(f, [3.737e-10, 6.0, 12.504, 152.58])"
   ]
  },
  {
   "cell_type": "code",
   "execution_count": 12,
   "metadata": {},
   "outputs": [],
   "source": []
  }
 ],
 "metadata": {
  "kernelspec": {
   "display_name": "Julia 1.8.2",
   "language": "julia",
   "name": "julia-1.8"
  },
  "language_info": {
   "file_extension": ".jl",
   "mimetype": "application/julia",
   "name": "julia",
   "version": "1.8.2"
  },
  "orig_nbformat": 4
 },
 "nbformat": 4,
 "nbformat_minor": 2
}
