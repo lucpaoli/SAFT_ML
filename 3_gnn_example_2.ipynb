{
 "cells": [
  {
   "cell_type": "code",
   "execution_count": 19,
   "metadata": {},
   "outputs": [
    {
     "name": "stderr",
     "output_type": "stream",
     "text": [
      "\u001b[32m\u001b[1m  Activating\u001b[22m\u001b[39m project at `~/SAFT_ML`\n"
     ]
    }
   ],
   "source": [
    "import Pkg; Pkg.activate(\".\")"
   ]
  },
  {
   "cell_type": "code",
   "execution_count": 41,
   "metadata": {},
   "outputs": [
    {
     "data": {
      "text/plain": [
       "TaskLocalRNG()"
      ]
     },
     "metadata": {},
     "output_type": "display_data"
    }
   ],
   "source": [
    "using Flux\n",
    "using Flux: onecold, onehotbatch, logitcrossentropy\n",
    "using Flux: DataLoader\n",
    "using GraphNeuralNetworks\n",
    "using MLDatasets\n",
    "using MLUtils\n",
    "using LinearAlgebra, Random, Statistics\n",
    "\n",
    "using Zygote\n",
    "ENV[\"DATADEPS_ALWAYS_ACCEPT\"] = \"true\"  # don't ask for dataset download confirmation\n",
    "Random.seed!(17) # for reproducibility"
   ]
  },
  {
   "cell_type": "code",
   "execution_count": 21,
   "metadata": {},
   "outputs": [
    {
     "data": {
      "text/plain": [
       "dataset TUDataset:\n",
       "  name        =>    MUTAG\n",
       "  metadata    =>    Dict{String, Any} with 1 entry\n",
       "  graphs      =>    188-element Vector{MLDatasets.Graph}\n",
       "  graph_data  =>    (targets = \"188-element Vector{Int64}\",)\n",
       "  num_nodes   =>    3371\n",
       "  num_edges   =>    7442\n",
       "  num_graphs  =>    188"
      ]
     },
     "metadata": {},
     "output_type": "display_data"
    }
   ],
   "source": [
    "dataset = TUDataset(\"MUTAG\")"
   ]
  },
  {
   "cell_type": "code",
   "execution_count": 22,
   "metadata": {},
   "outputs": [
    {
     "data": {
      "text/plain": [
       "Graph:\n",
       "  num_nodes   =>    17\n",
       "  num_edges   =>    38\n",
       "  edge_index  =>    (\"38-element Vector{Int64}\", \"38-element Vector{Int64}\")\n",
       "  node_data   =>    (targets = \"17-element Vector{Int64}\",)\n",
       "  edge_data   =>    (targets = \"38-element Vector{Int64}\",)"
      ]
     },
     "metadata": {},
     "output_type": "display_data"
    }
   ],
   "source": [
    "dataset.graphs[1]"
   ]
  },
  {
   "cell_type": "code",
   "execution_count": 23,
   "metadata": {},
   "outputs": [
    {
     "data": {
      "text/plain": [
       "2-element Vector{Int64}:\n",
       "  1\n",
       " -1"
      ]
     },
     "metadata": {},
     "output_type": "display_data"
    }
   ],
   "source": [
    "dataset.graph_data.targets |> union"
   ]
  },
  {
   "cell_type": "code",
   "execution_count": 24,
   "metadata": {},
   "outputs": [
    {
     "data": {
      "text/plain": [
       "(graphs = Graph(17, 38), targets = 1)"
      ]
     },
     "metadata": {},
     "output_type": "display_data"
    }
   ],
   "source": [
    "g1, y1 = dataset[1] #get the first graph and target"
   ]
  },
  {
   "cell_type": "code",
   "execution_count": 25,
   "metadata": {},
   "outputs": [
    {
     "data": {
      "text/plain": [
       "7-element Vector{Int64}:\n",
       " 0\n",
       " 1\n",
       " 2\n",
       " 3\n",
       " 4\n",
       " 5\n",
       " 6"
      ]
     },
     "metadata": {},
     "output_type": "display_data"
    }
   ],
   "source": [
    "reduce(vcat, g.node_data.targets for (g, _) in dataset) |> union"
   ]
  },
  {
   "cell_type": "code",
   "execution_count": 26,
   "metadata": {},
   "outputs": [
    {
     "data": {
      "text/plain": [
       "4-element Vector{Int64}:\n",
       " 0\n",
       " 1\n",
       " 2\n",
       " 3"
      ]
     },
     "metadata": {},
     "output_type": "display_data"
    }
   ],
   "source": [
    "reduce(vcat, g.edge_data.targets for (g, _) in dataset) |> union\n"
   ]
  },
  {
   "cell_type": "code",
   "execution_count": 27,
   "metadata": {},
   "outputs": [
    {
     "data": {
      "text/plain": [
       "188-element Vector{GNNGraph{Tuple{Vector{Int64}, Vector{Int64}, Nothing}}}:\n",
       " GNNGraph(17, 38) with targets: 17-element, targets: 38-element data\n",
       " GNNGraph(13, 28) with targets: 13-element, targets: 28-element data\n",
       " GNNGraph(13, 28) with targets: 13-element, targets: 28-element data\n",
       " GNNGraph(19, 44) with targets: 19-element, targets: 44-element data\n",
       " GNNGraph(11, 22) with targets: 11-element, targets: 22-element data\n",
       " GNNGraph(28, 62) with targets: 28-element, targets: 62-element data\n",
       " GNNGraph(16, 34) with targets: 16-element, targets: 34-element data\n",
       " GNNGraph(20, 44) with targets: 20-element, targets: 44-element data\n",
       " GNNGraph(12, 26) with targets: 12-element, targets: 26-element data\n",
       " GNNGraph(17, 38) with targets: 17-element, targets: 38-element data\n",
       " ⋮\n",
       " GNNGraph(28, 66) with targets: 28-element, targets: 66-element data\n",
       " GNNGraph(11, 22) with targets: 11-element, targets: 22-element data\n",
       " GNNGraph(14, 30) with targets: 14-element, targets: 30-element data\n",
       " GNNGraph(22, 50) with targets: 22-element, targets: 50-element data\n",
       " GNNGraph(22, 50) with targets: 22-element, targets: 50-element data\n",
       " GNNGraph(13, 26) with targets: 13-element, targets: 26-element data\n",
       " GNNGraph(12, 26) with targets: 12-element, targets: 26-element data\n",
       " GNNGraph(21, 48) with targets: 21-element, targets: 48-element data\n",
       " GNNGraph(16, 36) with targets: 16-element, targets: 36-element data"
      ]
     },
     "metadata": {},
     "output_type": "display_data"
    }
   ],
   "source": [
    "graphs = mldataset2gnngraph(dataset)"
   ]
  },
  {
   "cell_type": "code",
   "execution_count": 28,
   "metadata": {},
   "outputs": [
    {
     "data": {
      "text/plain": [
       "2×188 OneHotMatrix(::Vector{UInt32}) with eltype Bool:\n",
       " ⋅  1  1  ⋅  1  ⋅  1  ⋅  1  ⋅  ⋅  ⋅  ⋅  …  ⋅  ⋅  1  ⋅  1  1  ⋅  ⋅  1  1  ⋅  1\n",
       " 1  ⋅  ⋅  1  ⋅  1  ⋅  1  ⋅  1  1  1  1     1  1  ⋅  1  ⋅  ⋅  1  1  ⋅  ⋅  1  ⋅"
      ]
     },
     "metadata": {},
     "output_type": "display_data"
    }
   ],
   "source": [
    "# graphs = mldataset2gnngraph(dataset)\n",
    "graphs = [GNNGraph(g,\n",
    "                    ndata = Float32.(onehotbatch(g.ndata.targets, 0:6)),\n",
    "                    edata = nothing)\n",
    "            for g in graphs]\n",
    "y = onehotbatch(dataset.graph_data.targets, [-1, 1])"
   ]
  },
  {
   "cell_type": "code",
   "execution_count": 29,
   "metadata": {},
   "outputs": [
    {
     "data": {
      "text/plain": [
       "(GNNGraph{Tuple{Vector{Int64}, Vector{Int64}, Nothing}}, Vector{GNNGraph{Tuple{Vector{Int64}, Vector{Int64}, Nothing}}})"
      ]
     },
     "metadata": {},
     "output_type": "display_data"
    },
    {
     "data": {
      "text/plain": [
       "(:graph, :num_nodes, :num_edges, :num_graphs, :graph_indicator, :ndata, :edata, :gdata)"
      ]
     },
     "metadata": {},
     "output_type": "display_data"
    },
    {
     "data": {
      "text/plain": [
       "7×17 Matrix{Float32}:\n",
       " 1.0  1.0  1.0  1.0  1.0  1.0  1.0  1.0  …  1.0  1.0  1.0  1.0  0.0  0.0  0.0\n",
       " 0.0  0.0  0.0  0.0  0.0  0.0  0.0  0.0     0.0  0.0  0.0  0.0  1.0  0.0  0.0\n",
       " 0.0  0.0  0.0  0.0  0.0  0.0  0.0  0.0     0.0  0.0  0.0  0.0  0.0  1.0  1.0\n",
       " 0.0  0.0  0.0  0.0  0.0  0.0  0.0  0.0     0.0  0.0  0.0  0.0  0.0  0.0  0.0\n",
       " 0.0  0.0  0.0  0.0  0.0  0.0  0.0  0.0     0.0  0.0  0.0  0.0  0.0  0.0  0.0\n",
       " 0.0  0.0  0.0  0.0  0.0  0.0  0.0  0.0  …  0.0  0.0  0.0  0.0  0.0  0.0  0.0\n",
       " 0.0  0.0  0.0  0.0  0.0  0.0  0.0  0.0     0.0  0.0  0.0  0.0  0.0  0.0  0.0"
      ]
     },
     "metadata": {},
     "output_type": "display_data"
    }
   ],
   "source": [
    "g = graphs[1]\n",
    "display((typeof(g), typeof(graphs)))\n",
    "display(fieldnames(typeof(g)))\n",
    "\n",
    "g.ndata.x"
   ]
  },
  {
   "cell_type": "code",
   "execution_count": 30,
   "metadata": {},
   "outputs": [
    {
     "data": {
      "text/plain": [
       "DataStore(38)"
      ]
     },
     "metadata": {},
     "output_type": "display_data"
    }
   ],
   "source": [
    "graphs[1].edata"
   ]
  },
  {
   "cell_type": "code",
   "execution_count": 31,
   "metadata": {},
   "outputs": [
    {
     "data": {
      "text/plain": [
       "(:_n, :_data)"
      ]
     },
     "metadata": {},
     "output_type": "display_data"
    }
   ],
   "source": [
    "fieldnames(typeof(graphs[1].ndata))"
   ]
  },
  {
   "cell_type": "code",
   "execution_count": 32,
   "metadata": {},
   "outputs": [
    {
     "data": {
      "text/plain": [
       "((GNNGraph{Tuple{Vector{Int64}, Vector{Int64}, Nothing}}[GNNGraph(23, 48) with x: 7×23 data, GNNGraph(13, 28) with x: 7×13 data, GNNGraph(25, 56) with x: 7×25 data, GNNGraph(19, 44) with x: 7×19 data, GNNGraph(23, 54) with x: 7×23 data, GNNGraph(12, 26) with x: 7×12 data, GNNGraph(24, 50) with x: 7×24 data, GNNGraph(16, 34) with x: 7×16 data, GNNGraph(28, 62) with x: 7×28 data, GNNGraph(13, 26) with x: 7×13 data  …  GNNGraph(20, 44) with x: 7×20 data, GNNGraph(22, 50) with x: 7×22 data, GNNGraph(15, 34) with x: 7×15 data, GNNGraph(20, 46) with x: 7×20 data, GNNGraph(19, 42) with x: 7×19 data, GNNGraph(12, 24) with x: 7×12 data, GNNGraph(17, 38) with x: 7×17 data, GNNGraph(22, 50) with x: 7×22 data, GNNGraph(20, 46) with x: 7×20 data, GNNGraph(17, 38) with x: 7×17 data], Bool[0 1 … 0 0; 1 0 … 1 1]), (GNNGraph{Tuple{Vector{Int64}, Vector{Int64}, Nothing}}[GNNGraph(20, 46) with x: 7×20 data, GNNGraph(14, 28) with x: 7×14 data, GNNGraph(16, 36) with x: 7×16 data, GNNGraph(19, 44) with x: 7×19 data, GNNGraph(25, 58) with x: 7×25 data, GNNGraph(22, 50) with x: 7×22 data, GNNGraph(26, 60) with x: 7×26 data, GNNGraph(16, 36) with x: 7×16 data, GNNGraph(19, 44) with x: 7×19 data, GNNGraph(13, 28) with x: 7×13 data  …  GNNGraph(25, 58) with x: 7×25 data, GNNGraph(12, 26) with x: 7×12 data, GNNGraph(23, 50) with x: 7×23 data, GNNGraph(13, 28) with x: 7×13 data, GNNGraph(21, 44) with x: 7×21 data, GNNGraph(11, 22) with x: 7×11 data, GNNGraph(23, 52) with x: 7×23 data, GNNGraph(13, 26) with x: 7×13 data, GNNGraph(13, 28) with x: 7×13 data, GNNGraph(14, 30) with x: 7×14 data], Bool[0 1 … 1 1; 1 0 … 0 0]))"
      ]
     },
     "metadata": {},
     "output_type": "display_data"
    }
   ],
   "source": [
    "train_data, test_data = splitobs((graphs, y), at = 150, shuffle = true) |> getobs"
   ]
  },
  {
   "cell_type": "code",
   "execution_count": 33,
   "metadata": {},
   "outputs": [
    {
     "data": {
      "text/plain": [
       "2-element DataLoader(::Tuple{Vector{GNNGraph{Tuple{Vector{Int64}, Vector{Int64}, Nothing}}}, OneHotArrays.OneHotMatrix{UInt32, Vector{UInt32}}}, batchsize=32)\n",
       "  with first element:\n",
       "  (32-element Vector{GNNGraph{Tuple{Vector{Int64}, Vector{Int64}, Nothing}}}, 2×32 OneHotMatrix(::Vector{UInt32}) with eltype Bool,)"
      ]
     },
     "metadata": {},
     "output_type": "display_data"
    }
   ],
   "source": [
    "train_loader = DataLoader(train_data, batchsize = 32, shuffle = true)\n",
    "test_loader = DataLoader(test_data, batchsize = 32, shuffle = false)"
   ]
  },
  {
   "cell_type": "code",
   "execution_count": 34,
   "metadata": {},
   "outputs": [
    {
     "data": {
      "text/plain": [
       "(GNNGraph{Tuple{Vector{Int64}, Vector{Int64}, Nothing}}[GNNGraph(23, 54) with x: 7×23 data, GNNGraph(13, 28) with x: 7×13 data, GNNGraph(20, 44) with x: 7×20 data, GNNGraph(15, 34) with x: 7×15 data, GNNGraph(19, 44) with x: 7×19 data, GNNGraph(18, 38) with x: 7×18 data, GNNGraph(14, 28) with x: 7×14 data, GNNGraph(17, 38) with x: 7×17 data, GNNGraph(15, 34) with x: 7×15 data, GNNGraph(26, 56) with x: 7×26 data  …  GNNGraph(19, 44) with x: 7×19 data, GNNGraph(19, 44) with x: 7×19 data, GNNGraph(13, 26) with x: 7×13 data, GNNGraph(17, 38) with x: 7×17 data, GNNGraph(13, 28) with x: 7×13 data, GNNGraph(13, 28) with x: 7×13 data, GNNGraph(22, 50) with x: 7×22 data, GNNGraph(19, 40) with x: 7×19 data, GNNGraph(13, 28) with x: 7×13 data, GNNGraph(12, 24) with x: 7×12 data], Bool[0 1 … 1 1; 1 0 … 0 0])"
      ]
     },
     "metadata": {},
     "output_type": "display_data"
    }
   ],
   "source": [
    "vec_gs, _ = first(train_loader)"
   ]
  },
  {
   "cell_type": "code",
   "execution_count": 35,
   "metadata": {},
   "outputs": [
    {
     "data": {
      "text/plain": [
       "GNNGraph:\n",
       "  num_nodes: 23\n",
       "  num_edges: 54\n",
       "  ndata:\n",
       "\tx = 7×23 Matrix{Float32}"
      ]
     },
     "metadata": {},
     "output_type": "display_data"
    }
   ],
   "source": [
    "vec_gs[1]"
   ]
  },
  {
   "cell_type": "code",
   "execution_count": 36,
   "metadata": {},
   "outputs": [
    {
     "data": {
      "text/plain": [
       "GNNGraph:\n",
       "  num_nodes: 573\n",
       "  num_edges: 1274\n",
       "  num_graphs: 32\n",
       "  ndata:\n",
       "\tx = 7×573 Matrix{Float32}"
      ]
     },
     "metadata": {},
     "output_type": "display_data"
    }
   ],
   "source": [
    "MLUtils.batch(vec_gs)"
   ]
  },
  {
   "cell_type": "code",
   "execution_count": 53,
   "metadata": {},
   "outputs": [
    {
     "data": {
      "text/plain": [
       "train! (generic function with 1 method)"
      ]
     },
     "metadata": {},
     "output_type": "display_data"
    }
   ],
   "source": [
    "function create_model(nin, nh, nout)\n",
    "    GNNChain(GraphConv(nin => nh, relu),\n",
    "             GraphConv(nh => nh, relu),\n",
    "             GraphConv(nh => nh),\n",
    "             GlobalPool(mean), # Average the node features\n",
    "             Dropout(0.5),\n",
    "             Dense(nh, nout))\n",
    "end\n",
    "\n",
    "function eval_loss_accuracy(model, data_loader, device)\n",
    "    loss = 0.0\n",
    "    acc = 0.0\n",
    "    ntot = 0\n",
    "    for (g, y) in data_loader\n",
    "        g, y = MLUtils.batch(g) |> device, y |> device\n",
    "        n = length(y)\n",
    "        ŷ = model(g, g.ndata.x)\n",
    "        loss += logitcrossentropy(ŷ, y) * n\n",
    "        acc += mean((ŷ .> 0) .== y) * n\n",
    "        ntot += n\n",
    "    end\n",
    "    return (loss = round(loss / ntot, digits = 4),\n",
    "            acc = round(acc * 100 / ntot, digits = 2))\n",
    "end\n",
    "\n",
    "function train!(model; epochs = 3, η = 1e-2, infotime = 1)\n",
    "    # device = Flux.gpu # uncomment this for GPU training\n",
    "    device = Flux.cpu\n",
    "    model = model |> device\n",
    "    # opt = Flux.setup(Adam(1e-3), model)\n",
    "    opt = ADAM(1e-3)\n",
    "\n",
    "    function report(epoch)\n",
    "        train = eval_loss_accuracy(model, train_loader, device)\n",
    "        test = eval_loss_accuracy(model, test_loader, device)\n",
    "        @info (; epoch, train, test)\n",
    "    end\n",
    "\n",
    "    report(0)\n",
    "    for epoch in 1:epochs\n",
    "        for (g, y) in train_loader\n",
    "            g, y = MLUtils.batch(g) |> device, y |> device\n",
    "\n",
    "            loss = 0.0\n",
    "            loss_fn() = begin\n",
    "                ŷ = model(g, g.ndata.x)\n",
    "                for (ŷᵢ, yᵢ) in zip(ŷ, y)\n",
    "                    # loss += logitcrossentropy(ŷᵢ, yᵢ)\n",
    "                    loss += (ŷᵢ - yᵢ)^2\n",
    "                end\n",
    "                # loss = logitcrossentropy(ŷ, y)\n",
    "                loss /= length(y)\n",
    "            end\n",
    "            grads = Zygote.gradient(Flux.params(model)) do \n",
    "                loss_fn()\n",
    "            end\n",
    "            # grad = Flux.gradient(model) do model\n",
    "            #     ŷ = model(g, g.ndata.x)\n",
    "            #     logitcrossentropy(ŷ, y)\n",
    "            # end\n",
    "            Flux.update!(opt, Flux.params(model), grads)\n",
    "        end\n",
    "        epoch % infotime == 0 && report(epoch)\n",
    "    end\n",
    "end"
   ]
  },
  {
   "cell_type": "code",
   "execution_count": 54,
   "metadata": {},
   "outputs": [
    {
     "name": "stderr",
     "output_type": "stream",
     "text": [
      "┌ Info: (epoch = 0, train = (loss = 0.8131, acc = 45.0), test = (loss = 0.8708, acc = 50.0))\n",
      "└ @ Main /home/luc/SAFT_ML/3_gnn_example_2.ipynb:36\n",
      "┌ Info: (epoch = 1, train = (loss = 1.0403, acc = 33.67), test = (loss = 1.042, acc = 34.21))\n",
      "└ @ Main /home/luc/SAFT_ML/3_gnn_example_2.ipynb:36\n"
     ]
    },
    {
     "name": "stderr",
     "output_type": "stream",
     "text": [
      "┌ Info: (epoch = 2, train = (loss = 0.5818, acc = 53.0), test = (loss = 0.6046, acc = 52.63))\n",
      "└ @ Main /home/luc/SAFT_ML/3_gnn_example_2.ipynb:36\n",
      "┌ Info: (epoch = 3, train = (loss = 0.5406, acc = 50.0), test = (loss = 0.5751, acc = 50.0))\n",
      "└ @ Main /home/luc/SAFT_ML/3_gnn_example_2.ipynb:36\n"
     ]
    }
   ],
   "source": [
    "nin = 7\n",
    "nh = 64\n",
    "nout = 2\n",
    "model = create_model(nin, nh, nout)\n",
    "train!(model)"
   ]
  }
 ],
 "metadata": {
  "kernelspec": {
   "display_name": "Julia 1.8.2",
   "language": "julia",
   "name": "julia-1.8"
  },
  "language_info": {
   "file_extension": ".jl",
   "mimetype": "application/julia",
   "name": "julia",
   "version": "1.8.2"
  }
 },
 "nbformat": 4,
 "nbformat_minor": 2
}
