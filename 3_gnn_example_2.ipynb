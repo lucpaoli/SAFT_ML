{
 "cells": [
  {
   "cell_type": "code",
   "execution_count": 1,
   "metadata": {},
   "outputs": [
    {
     "name": "stderr",
     "output_type": "stream",
     "text": [
      "\u001b[32m\u001b[1m  Activating\u001b[22m\u001b[39m project at `~/SAFT_ML`\n"
     ]
    }
   ],
   "source": [
    "import Pkg; Pkg.activate(\".\")"
   ]
  },
  {
   "cell_type": "code",
   "execution_count": 3,
   "metadata": {},
   "outputs": [
    {
     "data": {
      "text/plain": [
       "TaskLocalRNG()"
      ]
     },
     "metadata": {},
     "output_type": "display_data"
    }
   ],
   "source": [
    "using Flux\n",
    "using Flux: onecold, onehotbatch, logitcrossentropy\n",
    "using Flux: DataLoader\n",
    "using GraphNeuralNetworks\n",
    "using MLDatasets\n",
    "using MLUtils\n",
    "using LinearAlgebra, Random, Statistics\n",
    "\n",
    "ENV[\"DATADEPS_ALWAYS_ACCEPT\"] = \"true\"  # don't ask for dataset download confirmation\n",
    "Random.seed!(17) # for reproducibility"
   ]
  },
  {
   "cell_type": "code",
   "execution_count": 4,
   "metadata": {},
   "outputs": [
    {
     "name": "stdout",
     "output_type": "stream",
     "text": [
      "\n",
      "7-Zip (a) [64] 17.04 : Copyright (c) 1999-2021 Igor Pavlov : 2017-08-28\n",
      "p7zip Version 17.04 (locale=C.UTF-8,Utf16=on,HugeFiles=on,64 bits,16 CPUs 12th Gen Intel(R) Core(TM) i7-1260P (906A3),ASM,AES-NI)\n",
      "\n",
      "Scanning the drive for archives:\n",
      "1 file, 24550 bytes (24 KiB)\n",
      "\n",
      "Extracting archive: /home/luc/.julia/datadeps/TUDataset/MUTAG.zip\n",
      "--\n",
      "Path = /home/luc/.julia/datadeps/TUDataset/MUTAG.zip\n",
      "Type = zip\n",
      "Physical Size = 24550\n",
      "\n",
      "Everything is Ok\n",
      "\n",
      "Folders: 1\n",
      "Files: 6\n",
      "Size:       113148\n",
      "Compressed: 24550\n"
     ]
    },
    {
     "data": {
      "text/plain": [
       "dataset TUDataset:\n",
       "  name        =>    MUTAG\n",
       "  metadata    =>    Dict{String, Any} with 1 entry\n",
       "  graphs      =>    188-element Vector{MLDatasets.Graph}\n",
       "  graph_data  =>    (targets = \"188-element Vector{Int64}\",)\n",
       "  num_nodes   =>    3371\n",
       "  num_edges   =>    7442\n",
       "  num_graphs  =>    188"
      ]
     },
     "metadata": {},
     "output_type": "display_data"
    }
   ],
   "source": [
    "dataset = TUDataset(\"MUTAG\")"
   ]
  },
  {
   "cell_type": "code",
   "execution_count": 5,
   "metadata": {},
   "outputs": [
    {
     "data": {
      "text/plain": [
       "2-element Vector{Int64}:\n",
       "  1\n",
       " -1"
      ]
     },
     "metadata": {},
     "output_type": "display_data"
    }
   ],
   "source": [
    "dataset.graph_data.targets |> union"
   ]
  },
  {
   "cell_type": "code",
   "execution_count": 6,
   "metadata": {},
   "outputs": [
    {
     "data": {
      "text/plain": [
       "(graphs = Graph(17, 38), targets = 1)"
      ]
     },
     "metadata": {},
     "output_type": "display_data"
    }
   ],
   "source": [
    "g1, y1 = dataset[1] #get the first graph and target"
   ]
  },
  {
   "cell_type": "code",
   "execution_count": 7,
   "metadata": {},
   "outputs": [
    {
     "data": {
      "text/plain": [
       "7-element Vector{Int64}:\n",
       " 0\n",
       " 1\n",
       " 2\n",
       " 3\n",
       " 4\n",
       " 5\n",
       " 6"
      ]
     },
     "metadata": {},
     "output_type": "display_data"
    }
   ],
   "source": [
    "reduce(vcat, g.node_data.targets for (g, _) in dataset) |> union"
   ]
  },
  {
   "cell_type": "code",
   "execution_count": 8,
   "metadata": {},
   "outputs": [
    {
     "data": {
      "text/plain": [
       "4-element Vector{Int64}:\n",
       " 0\n",
       " 1\n",
       " 2\n",
       " 3"
      ]
     },
     "metadata": {},
     "output_type": "display_data"
    }
   ],
   "source": [
    "reduce(vcat, g.edge_data.targets for (g, _) in dataset) |> union\n"
   ]
  },
  {
   "cell_type": "code",
   "execution_count": 9,
   "metadata": {},
   "outputs": [
    {
     "data": {
      "text/plain": [
       "2×188 OneHotMatrix(::Vector{UInt32}) with eltype Bool:\n",
       " ⋅  1  1  ⋅  1  ⋅  1  ⋅  1  ⋅  ⋅  ⋅  ⋅  …  ⋅  ⋅  1  ⋅  1  1  ⋅  ⋅  1  1  ⋅  1\n",
       " 1  ⋅  ⋅  1  ⋅  1  ⋅  1  ⋅  1  1  1  1     1  1  ⋅  1  ⋅  ⋅  1  1  ⋅  ⋅  1  ⋅"
      ]
     },
     "metadata": {},
     "output_type": "display_data"
    }
   ],
   "source": [
    "graphs = mldataset2gnngraph(dataset)\n",
    "graphs = [GNNGraph(g,\n",
    "                    ndata = Float32.(onehotbatch(g.ndata.targets, 0:6)),\n",
    "                    edata = nothing)\n",
    "            for g in graphs]\n",
    "y = onehotbatch(dataset.graph_data.targets, [-1, 1])"
   ]
  },
  {
   "cell_type": "code",
   "execution_count": 10,
   "metadata": {},
   "outputs": [
    {
     "data": {
      "text/plain": [
       "((GNNGraph{Tuple{Vector{Int64}, Vector{Int64}, Nothing}}[GNNGraph(20, 44) with x: 7×20 data, GNNGraph(17, 38) with x: 7×17 data, GNNGraph(23, 54) with x: 7×23 data, GNNGraph(22, 50) with x: 7×22 data, GNNGraph(26, 60) with x: 7×26 data, GNNGraph(12, 26) with x: 7×12 data, GNNGraph(25, 56) with x: 7×25 data, GNNGraph(25, 58) with x: 7×25 data, GNNGraph(23, 54) with x: 7×23 data, GNNGraph(11, 22) with x: 7×11 data  …  GNNGraph(21, 44) with x: 7×21 data, GNNGraph(19, 44) with x: 7×19 data, GNNGraph(12, 26) with x: 7×12 data, GNNGraph(16, 34) with x: 7×16 data, GNNGraph(17, 36) with x: 7×17 data, GNNGraph(11, 22) with x: 7×11 data, GNNGraph(22, 50) with x: 7×22 data, GNNGraph(13, 28) with x: 7×13 data, GNNGraph(17, 38) with x: 7×17 data, GNNGraph(23, 48) with x: 7×23 data], Bool[0 0 … 0 0; 1 1 … 1 1]), (GNNGraph{Tuple{Vector{Int64}, Vector{Int64}, Nothing}}[GNNGraph(16, 34) with x: 7×16 data, GNNGraph(20, 44) with x: 7×20 data, GNNGraph(12, 26) with x: 7×12 data, GNNGraph(23, 54) with x: 7×23 data, GNNGraph(19, 40) with x: 7×19 data, GNNGraph(19, 44) with x: 7×19 data, GNNGraph(16, 34) with x: 7×16 data, GNNGraph(21, 48) with x: 7×21 data, GNNGraph(13, 28) with x: 7×13 data, GNNGraph(20, 46) with x: 7×20 data  …  GNNGraph(23, 54) with x: 7×23 data, GNNGraph(12, 24) with x: 7×12 data, GNNGraph(16, 34) with x: 7×16 data, GNNGraph(11, 22) with x: 7×11 data, GNNGraph(22, 50) with x: 7×22 data, GNNGraph(22, 50) with x: 7×22 data, GNNGraph(23, 50) with x: 7×23 data, GNNGraph(28, 66) with x: 7×28 data, GNNGraph(26, 60) with x: 7×26 data, GNNGraph(17, 38) with x: 7×17 data], Bool[1 0 … 0 0; 0 1 … 1 1]))"
      ]
     },
     "metadata": {},
     "output_type": "display_data"
    }
   ],
   "source": [
    "train_data, test_data = splitobs((graphs, y), at = 150, shuffle = true) |> getobs"
   ]
  },
  {
   "cell_type": "code",
   "execution_count": 11,
   "metadata": {},
   "outputs": [
    {
     "data": {
      "text/plain": [
       "2-element DataLoader(::Tuple{Vector{GNNGraph{Tuple{Vector{Int64}, Vector{Int64}, Nothing}}}, OneHotArrays.OneHotMatrix{UInt32, Vector{UInt32}}}, batchsize=32)\n",
       "  with first element:\n",
       "  (32-element Vector{GNNGraph{Tuple{Vector{Int64}, Vector{Int64}, Nothing}}}, 2×32 OneHotMatrix(::Vector{UInt32}) with eltype Bool,)"
      ]
     },
     "metadata": {},
     "output_type": "display_data"
    }
   ],
   "source": [
    "train_loader = DataLoader(train_data, batchsize = 32, shuffle = true)\n",
    "test_loader = DataLoader(test_data, batchsize = 32, shuffle = false)"
   ]
  },
  {
   "cell_type": "code",
   "execution_count": 12,
   "metadata": {},
   "outputs": [
    {
     "data": {
      "text/plain": [
       "(GNNGraph{Tuple{Vector{Int64}, Vector{Int64}, Nothing}}[GNNGraph(13, 28) with x: 7×13 data, GNNGraph(21, 44) with x: 7×21 data, GNNGraph(20, 46) with x: 7×20 data, GNNGraph(23, 54) with x: 7×23 data, GNNGraph(21, 44) with x: 7×21 data, GNNGraph(26, 60) with x: 7×26 data, GNNGraph(18, 40) with x: 7×18 data, GNNGraph(21, 44) with x: 7×21 data, GNNGraph(15, 32) with x: 7×15 data, GNNGraph(19, 44) with x: 7×19 data  …  GNNGraph(20, 44) with x: 7×20 data, GNNGraph(22, 50) with x: 7×22 data, GNNGraph(12, 26) with x: 7×12 data, GNNGraph(16, 34) with x: 7×16 data, GNNGraph(23, 54) with x: 7×23 data, GNNGraph(13, 26) with x: 7×13 data, GNNGraph(24, 50) with x: 7×24 data, GNNGraph(20, 46) with x: 7×20 data, GNNGraph(17, 36) with x: 7×17 data, GNNGraph(10, 20) with x: 7×10 data], Bool[1 0 … 0 1; 0 1 … 1 0])"
      ]
     },
     "metadata": {},
     "output_type": "display_data"
    }
   ],
   "source": [
    "vec_gs, _ = first(train_loader)"
   ]
  },
  {
   "cell_type": "code",
   "execution_count": 13,
   "metadata": {},
   "outputs": [
    {
     "data": {
      "text/plain": [
       "GNNGraph:\n",
       "  num_nodes: 561\n",
       "  num_edges: 1228\n",
       "  num_graphs: 32\n",
       "  ndata:\n",
       "\tx = 7×561 Matrix{Float32}"
      ]
     },
     "metadata": {},
     "output_type": "display_data"
    }
   ],
   "source": [
    "MLUtils.batch(vec_gs)"
   ]
  },
  {
   "cell_type": "code",
   "execution_count": 20,
   "metadata": {},
   "outputs": [
    {
     "data": {
      "text/plain": [
       "train! (generic function with 1 method)"
      ]
     },
     "metadata": {},
     "output_type": "display_data"
    }
   ],
   "source": [
    "function create_model(nin, nh, nout)\n",
    "    GNNChain(GraphConv(nin => nh, relu),\n",
    "             GraphConv(nh => nh, relu),\n",
    "             GraphConv(nh => nh),\n",
    "             GlobalPool(mean), # Average the node features\n",
    "             Dropout(0.5),\n",
    "             Dense(nh, nout))\n",
    "end\n",
    "\n",
    "function eval_loss_accuracy(model, data_loader, device)\n",
    "    loss = 0.0\n",
    "    acc = 0.0\n",
    "    ntot = 0\n",
    "    for (g, y) in data_loader\n",
    "        g, y = MLUtils.batch(g) |> device, y |> device\n",
    "        n = length(y)\n",
    "        ŷ = model(g, g.ndata.x)\n",
    "        loss += logitcrossentropy(ŷ, y) * n\n",
    "        acc += mean((ŷ .> 0) .== y) * n\n",
    "        ntot += n\n",
    "    end\n",
    "    return (loss = round(loss / ntot, digits = 4),\n",
    "            acc = round(acc * 100 / ntot, digits = 2))\n",
    "end\n",
    "\n",
    "function train!(model; epochs = 200, η = 1e-2, infotime = 10)\n",
    "    # device = Flux.gpu # uncomment this for GPU training\n",
    "    device = Flux.cpu\n",
    "    model = model |> device\n",
    "    opt = Flux.setup(Adam(1e-3), model)\n",
    "\n",
    "    function report(epoch)\n",
    "        train = eval_loss_accuracy(model, train_loader, device)\n",
    "        test = eval_loss_accuracy(model, test_loader, device)\n",
    "        @info (; epoch, train, test)\n",
    "    end\n",
    "\n",
    "    report(0)\n",
    "    for epoch in 1:epochs\n",
    "        for (g, y) in train_loader\n",
    "            g, y = MLUtils.batch(g) |> device, y |> device\n",
    "            grad = Flux.gradient(model) do model\n",
    "                ŷ = model(g, g.ndata.x)\n",
    "                logitcrossentropy(ŷ, y)\n",
    "            end\n",
    "            Flux.update!(opt, model, grad[1])\n",
    "        end\n",
    "        epoch % infotime == 0 && report(epoch)\n",
    "    end\n",
    "end"
   ]
  },
  {
   "cell_type": "code",
   "execution_count": 21,
   "metadata": {},
   "outputs": [
    {
     "name": "stderr",
     "output_type": "stream",
     "text": [
      "┌ Info: (epoch = 0, train = (loss = 0.5502, acc = 64.67), test = (loss = 0.5153, acc = 68.42))\n",
      "└ @ Main /home/luc/SAFT_ML/3_gnn_example_2.ipynb:35\n",
      "┌ Info: (epoch = 10, train = (loss = 0.4899, acc = 71.33), test = (loss = 0.4532, acc = 76.32))\n",
      "└ @ Main /home/luc/SAFT_ML/3_gnn_example_2.ipynb:35\n"
     ]
    },
    {
     "name": "stderr",
     "output_type": "stream",
     "text": [
      "┌ Info: (epoch = 20, train = (loss = 0.4096, acc = 79.33), test = (loss = 0.4089, acc = 78.95))\n",
      "└ @ Main /home/luc/SAFT_ML/3_gnn_example_2.ipynb:35\n",
      "┌ Info: (epoch = 30, train = (loss = 0.3521, acc = 82.33), test = (loss = 0.3787, acc = 76.32))\n",
      "└ @ Main /home/luc/SAFT_ML/3_gnn_example_2.ipynb:35\n"
     ]
    },
    {
     "name": "stderr",
     "output_type": "stream",
     "text": [
      "┌ Info: (epoch = 40, train = (loss = 0.3098, acc = 84.33), test = (loss = 0.3612, acc = 81.58))\n",
      "└ @ Main /home/luc/SAFT_ML/3_gnn_example_2.ipynb:35\n",
      "┌ Info: (epoch = 50, train = (loss = 0.281, acc = 85.67), test = (loss = 0.3501, acc = 80.26))\n",
      "└ @ Main /home/luc/SAFT_ML/3_gnn_example_2.ipynb:35\n"
     ]
    },
    {
     "name": "stderr",
     "output_type": "stream",
     "text": [
      "┌ Info: (epoch = 60, train = (loss = 0.2825, acc = 86.33), test = (loss = 0.3688, acc = 77.63))\n",
      "└ @ Main /home/luc/SAFT_ML/3_gnn_example_2.ipynb:35\n",
      "┌ Info: (epoch = 70, train = (loss = 0.253, acc = 88.33), test = (loss = 0.3542, acc = 80.26))\n",
      "└ @ Main /home/luc/SAFT_ML/3_gnn_example_2.ipynb:35\n"
     ]
    },
    {
     "name": "stderr",
     "output_type": "stream",
     "text": [
      "┌ Info: (epoch = 80, train = (loss = 0.2525, acc = 87.33), test = (loss = 0.3784, acc = 81.58))\n",
      "└ @ Main /home/luc/SAFT_ML/3_gnn_example_2.ipynb:35\n",
      "┌ Info: (epoch = 90, train = (loss = 0.2208, acc = 89.0), test = (loss = 0.3515, acc = 82.89))\n",
      "└ @ Main /home/luc/SAFT_ML/3_gnn_example_2.ipynb:35\n"
     ]
    },
    {
     "name": "stderr",
     "output_type": "stream",
     "text": [
      "┌ Info: (epoch = 100, train = (loss = 0.2199, acc = 90.0), test = (loss = 0.3709, acc = 81.58))\n",
      "└ @ Main /home/luc/SAFT_ML/3_gnn_example_2.ipynb:35\n",
      "┌ Info: (epoch = 110, train = (loss = 0.2022, acc = 91.0), test = (loss = 0.3607, acc = 81.58))\n",
      "└ @ Main /home/luc/SAFT_ML/3_gnn_example_2.ipynb:35\n"
     ]
    },
    {
     "name": "stderr",
     "output_type": "stream",
     "text": [
      "┌ Info: (epoch = 120, train = (loss = 0.2005, acc = 90.0), test = (loss = 0.3625, acc = 85.53))\n",
      "└ @ Main /home/luc/SAFT_ML/3_gnn_example_2.ipynb:35\n",
      "┌ Info: (epoch = 130, train = (loss = 0.2009, acc = 90.33), test = (loss = 0.3668, acc = 85.53))\n",
      "└ @ Main /home/luc/SAFT_ML/3_gnn_example_2.ipynb:35\n"
     ]
    },
    {
     "name": "stderr",
     "output_type": "stream",
     "text": [
      "┌ Info: (epoch = 140, train = (loss = 0.1857, acc = 91.0), test = (loss = 0.375, acc = 86.84))\n",
      "└ @ Main /home/luc/SAFT_ML/3_gnn_example_2.ipynb:35\n",
      "┌ Info: (epoch = 150, train = (loss = 0.1834, acc = 91.67), test = (loss = 0.3843, acc = 86.84))\n",
      "└ @ Main /home/luc/SAFT_ML/3_gnn_example_2.ipynb:35\n"
     ]
    },
    {
     "name": "stderr",
     "output_type": "stream",
     "text": [
      "┌ Info: (epoch = 160, train = (loss = 0.1801, acc = 91.33), test = (loss = 0.4097, acc = 82.89))\n",
      "└ @ Main /home/luc/SAFT_ML/3_gnn_example_2.ipynb:35\n",
      "┌ Info: (epoch = 170, train = (loss = 0.1769, acc = 91.67), test = (loss = 0.4267, acc = 82.89))\n",
      "└ @ Main /home/luc/SAFT_ML/3_gnn_example_2.ipynb:35\n"
     ]
    },
    {
     "name": "stderr",
     "output_type": "stream",
     "text": [
      "┌ Info: (epoch = 180, train = (loss = 0.168, acc = 92.0), test = (loss = 0.4087, acc = 86.84))\n",
      "└ @ Main /home/luc/SAFT_ML/3_gnn_example_2.ipynb:35\n",
      "┌ Info: (epoch = 190, train = (loss = 0.1607, acc = 91.0), test = (loss = 0.4164, acc = 86.84))\n",
      "└ @ Main /home/luc/SAFT_ML/3_gnn_example_2.ipynb:35\n"
     ]
    },
    {
     "name": "stderr",
     "output_type": "stream",
     "text": [
      "┌ Info: (epoch = 200, train = (loss = 0.1642, acc = 92.0), test = (loss = 0.404, acc = 86.84))\n",
      "└ @ Main /home/luc/SAFT_ML/3_gnn_example_2.ipynb:35\n"
     ]
    }
   ],
   "source": [
    "nin = 7\n",
    "nh = 64\n",
    "nout = 2\n",
    "model = create_model(nin, nh, nout)\n",
    "train!(model)"
   ]
  }
 ],
 "metadata": {
  "kernelspec": {
   "display_name": "Julia 1.8.2",
   "language": "julia",
   "name": "julia-1.8"
  },
  "language_info": {
   "file_extension": ".jl",
   "mimetype": "application/julia",
   "name": "julia",
   "version": "1.8.2"
  }
 },
 "nbformat": 4,
 "nbformat_minor": 2
}
