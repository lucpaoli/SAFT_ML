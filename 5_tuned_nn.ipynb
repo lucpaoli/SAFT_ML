{
 "cells": [
  {
   "cell_type": "code",
   "execution_count": null,
   "metadata": {},
   "outputs": [],
   "source": [
    "# Hyperparameter tuning of FFNN. Hyperparams to search through:\n",
    "# - number of layers\n",
    "# - layer size\n",
    "# - activation function\n",
    "# - learning rate\n",
    "# - batch size\n",
    "# - input data (fingerprint size + radius)"
   ]
  }
 ],
 "metadata": {
  "kernelspec": {
   "display_name": "Julia 1.8.2",
   "language": "julia",
   "name": "julia-1.8"
  },
  "language_info": {
   "file_extension": ".jl",
   "mimetype": "application/julia",
   "name": "julia",
   "version": "1.8.2"
  }
 },
 "nbformat": 4,
 "nbformat_minor": 2
}
