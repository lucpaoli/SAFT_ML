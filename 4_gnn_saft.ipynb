{
 "cells": [
  {
   "cell_type": "code",
   "execution_count": 103,
   "metadata": {},
   "outputs": [
    {
     "name": "stderr",
     "output_type": "stream",
     "text": [
      "\u001b[32m\u001b[1m  Activating\u001b[22m\u001b[39m project at `~/SAFT_ML`\n"
     ]
    }
   ],
   "source": [
    "import Pkg; Pkg.activate(\".\")"
   ]
  },
  {
   "cell_type": "code",
   "execution_count": 104,
   "metadata": {},
   "outputs": [],
   "source": [
    "using Clapeyron\n",
    "includet(\"./saftvrmienn.jl\")\n",
    "import Clapeyron: a_res\n",
    "\n",
    "using MolecularGraph, Graphs\n",
    "using Plots\n",
    "\n",
    "using Flux\n",
    "# using Flux: onecold, onehotbatch, logitcrossentropy\n",
    "using Flux: DataLoader\n",
    "using GraphNeuralNetworks\n",
    "using ForwardDiff, Zygote, ChainRulesCore\n",
    "\n",
    "using MLUtils\n",
    "using OneHotArrays\n",
    "# using LinearAlgebra, Random, Statistics\n",
    "using Statistics, Random"
   ]
  },
  {
   "cell_type": "code",
   "execution_count": 105,
   "metadata": {},
   "outputs": [],
   "source": [
    "# atom_symbol(mol): atom letters as a symbol e.g. :C, :O and :N\n",
    "# charge(mol): electric charge of the atom. only integer charge is allowed in the model\n",
    "# multiplicity(mol): 1: no unpaired electron(default), 2: radical, 3: biradical\n",
    "# lone_pair(mol): number of lone pair on the atom\n",
    "# implicit_hydrogens(mol): number of implicit hydrogens that are not appear as graph vertices but automatically calculated, drawn in image and used for calculation of other descriptors.\n",
    "# valence(mol): number of atom valence, specific to each atom species and considering electric charge. Implicit number of hydrogens is obtained by subtracting the degree of the vertex from the valence.\n",
    "# is_aromatic(mol): whether the atom is aromatic or not. only binary aromaticity is allowed in the model.\n",
    "# pi_electron(mol): number of pi electrons\n",
    "# hybridization(mol): orbital hybridization e.g. sp, sp2 and sp3"
   ]
  },
  {
   "cell_type": "code",
   "execution_count": 106,
   "metadata": {},
   "outputs": [
    {
     "data": {
      "text/plain": [
       "GNNGraph:\n",
       "  num_nodes: 7\n",
       "  num_edges: 12\n",
       "  ndata:\n",
       "\tx = 11×7 Matrix{Float32}"
      ]
     },
     "metadata": {},
     "output_type": "display_data"
    }
   ],
   "source": [
    "function make_graph_from_smiles(smiles::String)\n",
    "    molgraph = smilestomol(smiles)\n",
    "\n",
    "    g = Graph(nv(molgraph))\n",
    "    for e in edges(molgraph)\n",
    "        add_edge!(g, e.src, e.dst)\n",
    "    end\n",
    "\n",
    "    # Should number of hydrogens be one-hot encoded?\n",
    "    f(vec, enc) = hcat(map(x -> onehot(x, enc), vec)...)\n",
    "    num_h = f(implicit_hydrogens(molgraph), [0, 1, 2, 3, 4])\n",
    "    hybrid = f(hybridization(molgraph), [:sp, :sp2, :sp3])\n",
    "    atoms = f(atom_symbol(molgraph), [:C, :O, :N])\n",
    "    # pi_electron = f()\n",
    "\n",
    "    # Node data should be matrix (num_features, num_nodes)\n",
    "    # Matrix has num_nodes columns, num_features rows\n",
    "    ndata = Float32.(vcat(num_h, hybrid, atoms))\n",
    "\n",
    "    g = GNNGraph(g, ndata = ndata, edata = nothing)\n",
    "    return g\n",
    "end\n",
    "\n",
    "g = make_graph_from_smiles(\"CC=CC(CC=O)\")"
   ]
  },
  {
   "cell_type": "code",
   "execution_count": 107,
   "metadata": {},
   "outputs": [
    {
     "data": {
      "text/plain": [
       "16.04"
      ]
     },
     "metadata": {},
     "output_type": "display_data"
    }
   ],
   "source": [
    "model = SAFTVRMie([\"methane\"])\n",
    "fieldnames(typeof(model.params.Mw))\n",
    "model.params.Mw.values[1]"
   ]
  },
  {
   "cell_type": "code",
   "execution_count": 108,
   "metadata": {},
   "outputs": [
    {
     "name": "stderr",
     "output_type": "stream",
     "text": [
      "┌ Warning: NaN found in V_vec at T = 627.610279365275 for decane\n",
      "└ @ Main /home/luc/SAFT_ML/4_gnn_saft.ipynb:69\n"
     ]
    }
   ],
   "source": [
    "# Iterate over molecules in dataset and build graph for each one\n",
    "# Initially sample data for hydrocarbons\n",
    "#! isobutane, isopentane not defined for SAFTVRMie\n",
    "all_species = [\n",
    "    \"methane\",\n",
    "    \"ethane\",\n",
    "    \"propane\",\n",
    "    \"butane\",\n",
    "    \"pentane\",\n",
    "    \"hexane\",\n",
    "    \"heptane\",\n",
    "    \"octane\",\n",
    "    \"nonane\",\n",
    "    \"decane\",\n",
    "]\n",
    "\n",
    "# Define smiles map\n",
    "smiles_map = Dict(\n",
    "    \"methane\" => \"C\",\n",
    "    \"ethane\" => \"CC\",\n",
    "    \"propane\" => \"CCC\",\n",
    "    \"butane\" => \"CCCC\",\n",
    "    \"isobutane\" => \"CC(C)C\",\n",
    "    \"pentane\" => \"CCCCC\",\n",
    "    \"isopentane\" => \"CC(C)CC\",\n",
    "    \"hexane\" => \"CCCCCC\",\n",
    "    \"heptane\" => \"CCCCCCC\",\n",
    "    \"octane\" => \"CCCCCCCC\",\n",
    "    \"nonane\" => \"CCCCCCCCC\",\n",
    "    \"decane\" => \"CCCCCCCCCC\",\n",
    ")\n",
    "\n",
    "# Create training data, currently sampled along saturation curve\n",
    "\n",
    "T = GNNGraph{Tuple{Vector{Int64}, Vector{Int64}, Nothing}}\n",
    "graphs = T[]\n",
    "states = Vector{Float32}[]\n",
    "species = String[] # For checking parameter similarity\n",
    "Y_data = Float32[]\n",
    "\n",
    "n = 30\n",
    "for s in all_species\n",
    "    # model = GERG2008([s])\n",
    "    model = SAFTVRMie([s])\n",
    "    Tc, pc, Vc = crit_pure(model)\n",
    "    smiles = smiles_map[s]\n",
    "\n",
    "    # fingerprint = make_fingerprint(smiles)\n",
    "    g = make_graph_from_smiles(smiles)\n",
    "\n",
    "    T_range = range(0.5 * Tc, 0.99 * Tc, n)\n",
    "    # V_range = range(0.5 * Vc, 1.5 * Vc, n) # V could be sampled from a logspace\n",
    "    for T in T_range\n",
    "        (p₀, V_vec...) = saturation_pressure(model, T)\n",
    "        if !any(isnan.(V_vec))\n",
    "            for V in V_vec\n",
    "                push!(graphs, g)\n",
    "                push!(species, s)\n",
    "\n",
    "                Mw = model.params.Mw.values[1]\n",
    "                m = model.params.segment.values[1]\n",
    "                push!(states, [V, T, Mw, m])\n",
    "\n",
    "                a = a_res(model, V, T, [1.0])\n",
    "                @assert !isnan(a) \"a is NaN at (V,T) = ($(V),$(T)) for $s\"\n",
    "                push!(Y_data, a)\n",
    "            end\n",
    "        else\n",
    "            @warn \"NaN found in V_vec at T = $T for $s\"\n",
    "        end\n",
    "    end\n",
    "end"
   ]
  },
  {
   "cell_type": "code",
   "execution_count": 109,
   "metadata": {},
   "outputs": [
    {
     "data": {
      "text/plain": [
       "GNNGraph:\n",
       "  num_nodes: 1\n",
       "  num_edges: 0\n",
       "  ndata:\n",
       "\tx = 11×1 Matrix{Float32}"
      ]
     },
     "metadata": {},
     "output_type": "display_data"
    },
    {
     "data": {
      "text/plain": [
       "4-element Vector{Float32}:\n",
       "   0.009401684\n",
       " 110.93587\n",
       "  16.04\n",
       "   1.0"
      ]
     },
     "metadata": {},
     "output_type": "display_data"
    },
    {
     "data": {
      "text/plain": [
       "-0.027122194f0"
      ]
     },
     "metadata": {},
     "output_type": "display_data"
    }
   ],
   "source": [
    "n = 10\n",
    "display(graphs[n])\n",
    "display(states[n])\n",
    "display(Y_data[n])\n",
    "nothing"
   ]
  },
  {
   "cell_type": "code",
   "execution_count": 110,
   "metadata": {},
   "outputs": [
    {
     "data": {
      "text/plain": [
       "GNNGraph:\n",
       "  num_nodes: 151\n",
       "  num_edges: 238\n",
       "  num_graphs: 32\n",
       "  ndata:\n",
       "\tx = 11×151 Matrix{Float32}"
      ]
     },
     "metadata": {},
     "output_type": "display_data"
    }
   ],
   "source": [
    "train_data, test_data = splitobs((graphs, states, species, Y_data), at = 0.8, shuffle = true) |> getobs\n",
    "\n",
    "Random.seed!(0)\n",
    "train_loader = DataLoader(train_data, batchsize = 32, shuffle = true)\n",
    "test_loader = DataLoader(test_data, batchsize = 32, shuffle = false)\n",
    "\n",
    "# Testing if batching works. This will be used when training\n",
    "# This should produce a single GNNGraph object with a matrix of ndata\n",
    "vec_gs, _ = first(train_loader)\n",
    "MLUtils.batch(vec_gs)"
   ]
  },
  {
   "cell_type": "code",
   "execution_count": 111,
   "metadata": {},
   "outputs": [],
   "source": [
    "function differentiable_saft(X::AbstractVector{T}, Vol, Temp, Mw, m) where {T<:Real}\n",
    "    model = SAFTVRMieNN(\n",
    "        params=SAFTVRMieNNParams(\n",
    "            Mw=[Mw],\n",
    "            segment=[m], # (C - 4)/(3) + 1\n",
    "            sigma=[X[1]] * 1f-10,\n",
    "            lambda_a=[6.0], # Fixing at 6. Simple molecules interacting through London dispersion -> Should have λₐ = 6.\n",
    "            lambda_r=[X[2]],\n",
    "            epsilon=[X[3]],\n",
    "            # Required for association\n",
    "            epsilon_assoc=Float32[],\n",
    "            bondvol=Float32[],\n",
    "        )\n",
    "    )\n",
    "    return a_res(model, Vol, Temp, [1.0])\n",
    "end\n",
    "\n",
    "function ChainRulesCore.rrule(::typeof(differentiable_saft), x, V, T, Mw, m)\n",
    "    y = differentiable_saft(x, V, T, Mw, m)\n",
    "\n",
    "    function f_pullback(Δy)\n",
    "        # Use ForwardDiff to compute the gradient\n",
    "        ∂x = @thunk(ForwardDiff.gradient(x -> differentiable_saft(x, V, T, Mw, m), x) .* Δy)\n",
    "        ∂V = @thunk(ForwardDiff.derivative(V -> differentiable_saft(x, V, T, Mw, m), V) * Δy)\n",
    "        ∂T = @thunk(ForwardDiff.derivative(T -> differentiable_saft(x, V, T, Mw, m), T) * Δy)\n",
    "        ∂Mw = @thunk(ForwardDiff.derivative(Mw -> differentiable_saft(x, V, T, Mw, m), Mw) * Δy)\n",
    "        ∂m = @thunk(ForwardDiff.derivative(m -> differentiable_saft(x, V, T, Mw, m), m) * Δy)\n",
    "        return (NoTangent(), ∂x, ∂V, ∂T, ∂Mw, ∂m)\n",
    "    end\n",
    "\n",
    "    return y, f_pullback\n",
    "end"
   ]
  },
  {
   "cell_type": "code",
   "execution_count": 112,
   "metadata": {},
   "outputs": [
    {
     "name": "stdout",
     "output_type": "stream",
     "text": [
      "differentiable_saft(X, 0.0001, 300, 14.0, 1.0) = -0.2883850024854241\n",
      "ForwardDiff.gradient((x->begin\n",
      "            #= /home/luc/SAFT_ML/4_gnn_saft.ipynb:4 =#\n",
      "            differentiable_saft(x, 0.0001, 300, 14.0, 1.0)\n",
      "        end), X) = "
     ]
    },
    {
     "name": "stdout",
     "output_type": "stream",
     "text": [
      "[-0.12769665985165313, 0.053698346998990246, -0.0064937953559046635]\n"
     ]
    },
    {
     "name": "stdout",
     "output_type": "stream",
     "text": [
      "Zygote.gradient((x->begin\n",
      "            #= /home/luc/SAFT_ML/4_gnn_saft.ipynb:5 =#\n",
      "            differentiable_saft(x, 0.0001, 300, 14.0, 1.0)\n",
      "        end), X) = ([-0.12769665985165313, 0.053698346998990246, -0.0064937953559046635],)\n"
     ]
    },
    {
     "data": {
      "text/plain": [
       "([-0.12769665985165313, 0.053698346998990246, -0.0064937953559046635],)"
      ]
     },
     "metadata": {},
     "output_type": "display_data"
    }
   ],
   "source": [
    "#? Works for evaluation, fails for gradients\n",
    "X = [3.737, 12.504, 152.58]\n",
    "@show differentiable_saft(X, 1e-4, 300, 14.0, 1.0)\n",
    "@show ForwardDiff.gradient(x -> differentiable_saft(x, 1e-4, 300, 14.0, 1.0), X)\n",
    "@show Zygote.gradient(x -> differentiable_saft(x, 1e-4, 300, 14.0, 1.0), X)"
   ]
  },
  {
   "cell_type": "code",
   "execution_count": 160,
   "metadata": {},
   "outputs": [
    {
     "data": {
      "text/plain": [
       "train! (generic function with 1 method)"
      ]
     },
     "metadata": {},
     "output_type": "display_data"
    }
   ],
   "source": [
    "function create_graphconv_model(nin, nh; nout=3, nhlayers=5, afunc=relu)\n",
    "    GNNChain(\n",
    "        GraphConv(nin => nh, afunc),\n",
    "        [GraphConv(nh => nh, afunc) for _ in 1:nhlayers]...,\n",
    "        GraphConv(nh => nh),\n",
    "        GlobalPool(mean), # Average the node features\n",
    "        # Dropout(0.2),\n",
    "        Dense(nh, nout),\n",
    "    )\n",
    "end\n",
    "function create_graphattention_model(nih, nh; nout=3, nhlayers=5)\n",
    "    GNNChain(\n",
    "        GATv2Conv(nin => nh),\n",
    "        [GATv2Conv(nh => nh) for _ in 1:nhlayers]...,\n",
    "        GlobalPool(mean), # Average the node features\n",
    "        # Dropout(0.2),\n",
    "        Dense(nh, nout),\n",
    "    )\n",
    "end\n",
    "\n",
    "function bound_output(X, lb, ub, b=10.0)\n",
    "    return @. lb + (ub - lb) * 0.5 * (tanh(1 / b * (X - lb) / (ub - lb)) + 1)\n",
    "end\n",
    "\n",
    "function predict_a_res(X, V, T, Mw, m)\n",
    "    # Bound output\n",
    "    bounds = Tuple{Float32,Float32}[\n",
    "        (2.5, 5), # σ\n",
    "        (10, 20), # λ_r\n",
    "        (100, 1000), # ϵ #? What should this be bounded to for SAFTVRMie?\n",
    "    ]\n",
    "    # ŷ = mean(X)\n",
    "    X_bounded = bound_output(X, first.(bounds), last.(bounds))\n",
    "    ŷ = differentiable_saft(X_bounded, V, T, Mw, m)\n",
    "    return ŷ + mean(X)\n",
    "end\n",
    "\n",
    "function eval_loss(model, data_loader, device)\n",
    "    batch_loss = 0.0\n",
    "    for (Xᵢ, stateᵢ, yᵢ) in zip(eachcol(X), state, y)\n",
    "        V, T, Mw, m = stateᵢ\n",
    "        ŷ = predict_a_res(Xᵢ, V, T, Mw, m)\n",
    "        batch_loss += ((ŷ - yᵢ) / yᵢ)^2\n",
    "        @assert batch_loss isa Real \"Loss is not a real number, got $(typeof(loss)), X_pred = $X_pred\"\n",
    "        @assert !isnan(batch_loss) \"Loss is NaN, X_pred = $X_pred\"\n",
    "    end\n",
    "    batch_loss /= length(data_loader)\n",
    "    return batch_loss, 100 * sqrt(batch_loss)\n",
    "end\n",
    "\n",
    "function train!(model; epochs=50, η=1e-3, infotime=10, log_loss=false)\n",
    "    # device = Flux.gpu # uncomment this for GPU training\n",
    "    device = Flux.cpu\n",
    "    model = model |> device\n",
    "    opt = ADAM(η)\n",
    "\n",
    "    function report(epoch)\n",
    "        train = eval_loss(model, train_loader, device)\n",
    "        test = eval_loss(model, test_loader, device)\n",
    "        @info (; epoch, train, test)\n",
    "    end\n",
    "\n",
    "    epoch_loss_vec = Float32[]\n",
    "    report(0)\n",
    "    for epoch in 1:epochs\n",
    "        epoch_loss = 0.0\n",
    "        for (g, state, species, y) in train_loader\n",
    "            g, state, y = MLUtils.batch(g) |> device, state |> device, y |> device\n",
    "\n",
    "            batch_loss = 0.0\n",
    "            loss_fn() = begin\n",
    "                X = model(g, g.ndata.x)\n",
    "                # ŷ = [predict_a_res(Xᵢ, stateᵢ...) for (Xᵢ, stateᵢ) in zip(eachcol(X), state)]\n",
    "                for (Xᵢ, stateᵢ, yᵢ) in zip(eachcol(X), state, y)\n",
    "                    V, T, Mw, m = stateᵢ\n",
    "                    ŷ = predict_a_res(Xᵢ, V, T, Mw, m)\n",
    "                    batch_loss += ((ŷ - yᵢ) / yᵢ)^2\n",
    "                    @assert batch_loss isa Real \"Loss is not a real number, got $(typeof(loss)), X_pred = $X_pred\"\n",
    "                    @assert !isnan(batch_loss) \"Loss is NaN, X_pred = $X_pred\"\n",
    "                end\n",
    "                # @show batch_loss\n",
    "                # loss = Flux.mse(ŷ, y)\n",
    "                # loss = @. (ŷ - y)^2\n",
    "                # @show loss, typeof(loss)\n",
    "                # loss\n",
    "                batch_loss /= length(state)\n",
    "            end\n",
    "\n",
    "            grads = Zygote.gradient(Flux.params(model)) do\n",
    "                loss_fn()\n",
    "            end\n",
    "            epoch_loss += batch_loss\n",
    "            # @show batch_loss\n",
    "            \n",
    "            # params_before = Flux.params(model)\n",
    "            Flux.update!(opt, Flux.params(model), grads)\n",
    "            # params_after = Flux.params(model)\n",
    "\n",
    "            # @assert params_before != params_after \"Parameters did not change after update!\"\n",
    "            # @show grads[1]\n",
    "        end\n",
    "        epoch_loss /= length(train_loader)\n",
    "        push!(epoch_loss_vec, epoch_loss)\n",
    "        # epoch % infotime == 0 && @show epoch, epoch_loss\n",
    "        epoch % infotime == 0 && report(epoch)\n",
    "    end\n",
    "    return epoch_loss_vec\n",
    "end"
   ]
  },
  {
   "cell_type": "code",
   "execution_count": 161,
   "metadata": {},
   "outputs": [
    {
     "name": "stderr",
     "output_type": "stream",
     "text": [
      "┌ Info: (epoch = 0, train = (145.12972770126882, 1204.6980024108482), test = (544.2364788797581, 2332.887650273279))\n",
      "└ @ Main /home/luc/SAFT_ML/4_gnn_saft.ipynb:60\n"
     ]
    },
    {
     "name": "stdout",
     "output_type": "stream",
     "text": [
      "batch_loss = 56.51741433510993\n"
     ]
    },
    {
     "ename": "AssertionError",
     "evalue": "AssertionError: Parameters did not change after update!",
     "output_type": "error",
     "traceback": [
      "AssertionError: Parameters did not change after update!\n",
      "\n",
      "Stacktrace:\n",
      " [1] train!(model::GNNChain{Tuple{GraphConv{Matrix{Float32}, Vector{Float32}, typeof(relu), typeof(+)}, GraphConv{Matrix{Float32}, Vector{Float32}, typeof(relu), typeof(+)}, GraphConv{Matrix{Float32}, Vector{Float32}, typeof(identity), typeof(+)}, GlobalPool{typeof(mean)}, Dense{typeof(identity), Matrix{Float32}, Vector{Float32}}}}; epochs::Int64, η::Float64, infotime::Int64, log_loss::Bool)\n",
      "   @ Main ~/SAFT_ML/4_gnn_saft.ipynb:99\n",
      " [2] top-level scope\n",
      "   @ ~/SAFT_ML/4_gnn_saft.ipynb:5"
     ]
    }
   ],
   "source": [
    "nin = 11\n",
    "nh = 512\n",
    "# model = create_graphattention_model(nin, nh, nhlayers=1)\n",
    "model = create_graphconv_model(nin, nh, nhlayers=1)\n",
    "epoch_loss_vec = train!(model, epochs=1, infotime=1)\n",
    "nothing"
   ]
  },
  {
   "cell_type": "code",
   "execution_count": 157,
   "metadata": {},
   "outputs": [
    {
     "data": {
      "text/plain": [
       "3-element Vector{Float64}:\n",
       "   3.599309356963496\n",
       "  13.47616979240716\n",
       " 217.50606218565224"
      ]
     },
     "metadata": {},
     "output_type": "display_data"
    },
    {
     "data": {
      "text/plain": [
       "3-element Vector{Float64}:\n",
       "   3.7257\n",
       "  12.4\n",
       " 206.12"
      ]
     },
     "metadata": {},
     "output_type": "display_data"
    },
    {
     "name": "stdout",
     "output_type": "stream",
     "text": [
      "(first(state), first(species), first(y)) = (Float32[0.041373692, 166.10658, 30.07, 1.4373], \"ethane\", -0.011102995f0)\n"
     ]
    }
   ],
   "source": [
    "# Abstract this into a function that takes a model and returns the X_bounded output\n",
    "g, state, species, y = first(train_loader)\n",
    "g = MLUtils.batch(g)\n",
    "X = model(g, g.ndata.x)\n",
    "X = first(eachcol(X))\n",
    "@show first(state), first(species), first(y)\n",
    "bounds = Tuple{Float32,Float32}[\n",
    "    (2.5, 5),\n",
    "    (10, 18),\n",
    "    (150, 300),\n",
    "]\n",
    "# ŷ = mean(X)\n",
    "X_bounded = bound_output(X, first.(bounds), last.(bounds))\n",
    "m = SAFTVRMie([first(species)])\n",
    "X_nominal = [m.params.sigma.values[1]*1e10, m.params.lambda_r.values[1], m.params.epsilon.values[1]]\n",
    "display(X_bounded)\n",
    "display(X_nominal)"
   ]
  },
  {
   "cell_type": "code",
   "execution_count": 116,
   "metadata": {},
   "outputs": [
    {
     "data": {
      "text/plain": [
       "3-element Vector{Float64}:\n",
       "   3.737e-10\n",
       "  12.504\n",
       " 152.58"
      ]
     },
     "metadata": {},
     "output_type": "display_data"
    }
   ],
   "source": [
    "m = SAFTVRMie([\"methane\"])\n",
    "X_nominal = [m.params.sigma.values[1], m.params.lambda_r.values[1], m.params.epsilon.values[1]]"
   ]
  },
  {
   "cell_type": "code",
   "execution_count": 117,
   "metadata": {},
   "outputs": [
    {
     "data": {
      "image/png": "[encoded data removed]",
      "image/svg+xml": [
       "<?xml version=\"1.0\" encoding=\"utf-8\"?>\n",
       "<svg xmlns=\"http://www.w3.org/2000/svg\" xmlns:xlink=\"http://www.w3.org/1999/xlink\" width=\"600\" height=\"400\" viewBox=\"0 0 2400 1600\">\n",
       "<defs>\n",
       "  <clipPath id=\"clip690\">\n",
       "    <rect x=\"0\" y=\"0\" width=\"2400\" height=\"1600\"/>\n",
       "  </clipPath>\n",
       "</defs>\n",
       "<path clip-path=\"url(#clip690)\" d=\"M0 1600 L2400 1600 L2400 0 L0 0  Z\" fill=\"#ffffff\" fill-rule=\"evenodd\" fill-opacity=\"1\"/>\n",
       "<defs>\n",
       "  <clipPath id=\"clip691\">\n",
       "    <rect x=\"480\" y=\"0\" width=\"1681\" height=\"1600\"/>\n",
       "  </clipPath>\n",
       "</defs>\n",
       "<path clip-path=\"url(#clip690)\" d=\"M155.765 1486.45 L2352.76 1486.45 L2352.76 47.2441 L155.765 47.2441  Z\" fill=\"#ffffff\" fill-rule=\"evenodd\" fill-opacity=\"1\"/>\n",
       "<defs>\n",
       "  <clipPath id=\"clip692\">\n",
       "    <rect x=\"155\" y=\"47\" width=\"2198\" height=\"1440\"/>\n",
       "  </clipPath>\n",
       "</defs>\n",
       "<polyline clip-path=\"url(#clip692)\" style=\"stroke:#000000; stroke-linecap:round; stroke-linejoin:round; stroke-width:2; stroke-opacity:0.1; fill:none\" points=\"175.645,1486.45 175.645,47.2441 \"/>\n",
       "<polyline clip-path=\"url(#clip692)\" style=\"stroke:#000000; stroke-linecap:round; stroke-linejoin:round; stroke-width:2; stroke-opacity:0.1; fill:none\" points=\"598.632,1486.45 598.632,47.2441 \"/>\n",
       "<polyline clip-path=\"url(#clip692)\" style=\"stroke:#000000; stroke-linecap:round; stroke-linejoin:round; stroke-width:2; stroke-opacity:0.1; fill:none\" points=\"1021.62,1486.45 1021.62,47.2441 \"/>\n",
       "<polyline clip-path=\"url(#clip692)\" style=\"stroke:#000000; stroke-linecap:round; stroke-linejoin:round; stroke-width:2; stroke-opacity:0.1; fill:none\" points=\"1444.6,1486.45 1444.6,47.2441 \"/>\n",
       "<polyline clip-path=\"url(#clip692)\" style=\"stroke:#000000; stroke-linecap:round; stroke-linejoin:round; stroke-width:2; stroke-opacity:0.1; fill:none\" points=\"1867.59,1486.45 1867.59,47.2441 \"/>\n",
       "<polyline clip-path=\"url(#clip692)\" style=\"stroke:#000000; stroke-linecap:round; stroke-linejoin:round; stroke-width:2; stroke-opacity:0.1; fill:none\" points=\"2290.58,1486.45 2290.58,47.2441 \"/>\n",
       "<polyline clip-path=\"url(#clip690)\" style=\"stroke:#000000; stroke-linecap:round; stroke-linejoin:round; stroke-width:4; stroke-opacity:1; fill:none\" points=\"155.765,1486.45 2352.76,1486.45 \"/>\n",
       "<polyline clip-path=\"url(#clip690)\" style=\"stroke:#000000; stroke-linecap:round; stroke-linejoin:round; stroke-width:4; stroke-opacity:1; fill:none\" points=\"175.645,1486.45 175.645,1467.55 \"/>\n",
       "<polyline clip-path=\"url(#clip690)\" style=\"stroke:#000000; stroke-linecap:round; stroke-linejoin:round; stroke-width:4; stroke-opacity:1; fill:none\" points=\"598.632,1486.45 598.632,1467.55 \"/>\n",
       "<polyline clip-path=\"url(#clip690)\" style=\"stroke:#000000; stroke-linecap:round; stroke-linejoin:round; stroke-width:4; stroke-opacity:1; fill:none\" points=\"1021.62,1486.45 1021.62,1467.55 \"/>\n",
       "<polyline clip-path=\"url(#clip690)\" style=\"stroke:#000000; stroke-linecap:round; stroke-linejoin:round; stroke-width:4; stroke-opacity:1; fill:none\" points=\"1444.6,1486.45 1444.6,1467.55 \"/>\n",
       "<polyline clip-path=\"url(#clip690)\" style=\"stroke:#000000; stroke-linecap:round; stroke-linejoin:round; stroke-width:4; stroke-opacity:1; fill:none\" points=\"1867.59,1486.45 1867.59,1467.55 \"/>\n",
       "<polyline clip-path=\"url(#clip690)\" style=\"stroke:#000000; stroke-linecap:round; stroke-linejoin:round; stroke-width:4; stroke-opacity:1; fill:none\" points=\"2290.58,1486.45 2290.58,1467.55 \"/>\n",
       "<path clip-path=\"url(#clip690)\" d=\"M175.645 1517.37 Q172.034 1517.37 170.205 1520.93 Q168.4 1524.47 168.4 1531.6 Q168.4 1538.71 170.205 1542.27 Q172.034 1545.82 175.645 1545.82 Q179.28 1545.82 181.085 1542.27 Q182.914 1538.71 182.914 1531.6 Q182.914 1524.47 181.085 1520.93 Q179.28 1517.37 175.645 1517.37 M175.645 1513.66 Q181.455 1513.66 184.511 1518.27 Q187.59 1522.85 187.59 1531.6 Q187.59 1540.33 184.511 1544.94 Q181.455 1549.52 175.645 1549.52 Q169.835 1549.52 166.756 1544.94 Q163.701 1540.33 163.701 1531.6 Q163.701 1522.85 166.756 1518.27 Q169.835 1513.66 175.645 1513.66 Z\" fill=\"#000000\" fill-rule=\"nonzero\" fill-opacity=\"1\" /><path clip-path=\"url(#clip690)\" d=\"M573.319 1544.91 L580.958 1544.91 L580.958 1518.55 L572.648 1520.21 L572.648 1515.95 L580.912 1514.29 L585.588 1514.29 L585.588 1544.91 L593.227 1544.91 L593.227 1548.85 L573.319 1548.85 L573.319 1544.91 Z\" fill=\"#000000\" fill-rule=\"nonzero\" fill-opacity=\"1\" /><path clip-path=\"url(#clip690)\" d=\"M612.671 1517.37 Q609.06 1517.37 607.231 1520.93 Q605.426 1524.47 605.426 1531.6 Q605.426 1538.71 607.231 1542.27 Q609.06 1545.82 612.671 1545.82 Q616.305 1545.82 618.111 1542.27 Q619.939 1538.71 619.939 1531.6 Q619.939 1524.47 618.111 1520.93 Q616.305 1517.37 612.671 1517.37 M612.671 1513.66 Q618.481 1513.66 621.537 1518.27 Q624.615 1522.85 624.615 1531.6 Q624.615 1540.33 621.537 1544.94 Q618.481 1549.52 612.671 1549.52 Q606.861 1549.52 603.782 1544.94 Q600.726 1540.33 600.726 1531.6 Q600.726 1522.85 603.782 1518.27 Q606.861 1513.66 612.671 1513.66 Z\" fill=\"#000000\" fill-rule=\"nonzero\" fill-opacity=\"1\" /><path clip-path=\"url(#clip690)\" d=\"M1000.39 1544.91 L1016.71 1544.91 L1016.71 1548.85 L994.766 1548.85 L994.766 1544.91 Q997.428 1542.16 1002.01 1537.53 Q1006.62 1532.88 1007.8 1531.53 Q1010.04 1529.01 1010.92 1527.27 Q1011.83 1525.51 1011.83 1523.82 Q1011.83 1521.07 1009.88 1519.33 Q1007.96 1517.6 1004.86 1517.6 Q1002.66 1517.6 1000.21 1518.36 Q997.775 1519.13 994.998 1520.68 L994.998 1515.95 Q997.822 1514.82 1000.28 1514.24 Q1002.73 1513.66 1004.77 1513.66 Q1010.14 1513.66 1013.33 1516.35 Q1016.53 1519.03 1016.53 1523.52 Q1016.53 1525.65 1015.72 1527.57 Q1014.93 1529.47 1012.82 1532.07 Q1012.24 1532.74 1009.14 1535.95 Q1006.04 1539.15 1000.39 1544.91 Z\" fill=\"#000000\" fill-rule=\"nonzero\" fill-opacity=\"1\" /><path clip-path=\"url(#clip690)\" d=\"M1036.53 1517.37 Q1032.91 1517.37 1031.09 1520.93 Q1029.28 1524.47 1029.28 1531.6 Q1029.28 1538.71 1031.09 1542.27 Q1032.91 1545.82 1036.53 1545.82 Q1040.16 1545.82 1041.97 1542.27 Q1043.79 1538.71 1043.79 1531.6 Q1043.79 1524.47 1041.97 1520.93 Q1040.16 1517.37 1036.53 1517.37 M1036.53 1513.66 Q1042.34 1513.66 1045.39 1518.27 Q1048.47 1522.85 1048.47 1531.6 Q1048.47 1540.33 1045.39 1544.94 Q1042.34 1549.52 1036.53 1549.52 Q1030.72 1549.52 1027.64 1544.94 Q1024.58 1540.33 1024.58 1531.6 Q1024.58 1522.85 1027.64 1518.27 Q1030.72 1513.66 1036.53 1513.66 Z\" fill=\"#000000\" fill-rule=\"nonzero\" fill-opacity=\"1\" /><path clip-path=\"url(#clip690)\" d=\"M1433.45 1530.21 Q1436.8 1530.93 1438.68 1533.2 Q1440.58 1535.47 1440.58 1538.8 Q1440.58 1543.92 1437.06 1546.72 Q1433.54 1549.52 1427.06 1549.52 Q1424.88 1549.52 1422.57 1549.08 Q1420.28 1548.66 1417.82 1547.81 L1417.82 1543.29 Q1419.77 1544.43 1422.08 1545.01 Q1424.4 1545.58 1426.92 1545.58 Q1431.32 1545.58 1433.61 1543.85 Q1435.92 1542.11 1435.92 1538.8 Q1435.92 1535.75 1433.77 1534.03 Q1431.64 1532.3 1427.82 1532.3 L1423.79 1532.3 L1423.79 1528.45 L1428.01 1528.45 Q1431.46 1528.45 1433.28 1527.09 Q1435.11 1525.7 1435.11 1523.11 Q1435.11 1520.45 1433.22 1519.03 Q1431.34 1517.6 1427.82 1517.6 Q1425.9 1517.6 1423.7 1518.01 Q1421.5 1518.43 1418.86 1519.31 L1418.86 1515.14 Q1421.53 1514.4 1423.84 1514.03 Q1426.18 1513.66 1428.24 1513.66 Q1433.56 1513.66 1436.66 1516.09 Q1439.77 1518.5 1439.77 1522.62 Q1439.77 1525.49 1438.12 1527.48 Q1436.48 1529.45 1433.45 1530.21 Z\" fill=\"#000000\" fill-rule=\"nonzero\" fill-opacity=\"1\" /><path clip-path=\"url(#clip690)\" d=\"M1459.44 1517.37 Q1455.83 1517.37 1454 1520.93 Q1452.2 1524.47 1452.2 1531.6 Q1452.2 1538.71 1454 1542.27 Q1455.83 1545.82 1459.44 1545.82 Q1463.08 1545.82 1464.88 1542.27 Q1466.71 1538.71 1466.71 1531.6 Q1466.71 1524.47 1464.88 1520.93 Q1463.08 1517.37 1459.44 1517.37 M1459.44 1513.66 Q1465.25 1513.66 1468.31 1518.27 Q1471.39 1522.85 1471.39 1531.6 Q1471.39 1540.33 1468.31 1544.94 Q1465.25 1549.52 1459.44 1549.52 Q1453.63 1549.52 1450.55 1544.94 Q1447.5 1540.33 1447.5 1531.6 Q1447.5 1522.85 1450.55 1518.27 Q1453.63 1513.66 1459.44 1513.66 Z\" fill=\"#000000\" fill-rule=\"nonzero\" fill-opacity=\"1\" /><path clip-path=\"url(#clip690)\" d=\"M1855.76 1518.36 L1843.96 1536.81 L1855.76 1536.81 L1855.76 1518.36 M1854.54 1514.29 L1860.41 1514.29 L1860.41 1536.81 L1865.35 1536.81 L1865.35 1540.7 L1860.41 1540.7 L1860.41 1548.85 L1855.76 1548.85 L1855.76 1540.7 L1840.16 1540.7 L1840.16 1536.19 L1854.54 1514.29 Z\" fill=\"#000000\" fill-rule=\"nonzero\" fill-opacity=\"1\" /><path clip-path=\"url(#clip690)\" d=\"M1883.08 1517.37 Q1879.47 1517.37 1877.64 1520.93 Q1875.83 1524.47 1875.83 1531.6 Q1875.83 1538.71 1877.64 1542.27 Q1879.47 1545.82 1883.08 1545.82 Q1886.71 1545.82 1888.52 1542.27 Q1890.35 1538.71 1890.35 1531.6 Q1890.35 1524.47 1888.52 1520.93 Q1886.71 1517.37 1883.08 1517.37 M1883.08 1513.66 Q1888.89 1513.66 1891.94 1518.27 Q1895.02 1522.85 1895.02 1531.6 Q1895.02 1540.33 1891.94 1544.94 Q1888.89 1549.52 1883.08 1549.52 Q1877.27 1549.52 1874.19 1544.94 Q1871.13 1540.33 1871.13 1531.6 Q1871.13 1522.85 1874.19 1518.27 Q1877.27 1513.66 1883.08 1513.66 Z\" fill=\"#000000\" fill-rule=\"nonzero\" fill-opacity=\"1\" /><path clip-path=\"url(#clip690)\" d=\"M2265.28 1514.29 L2283.63 1514.29 L2283.63 1518.22 L2269.56 1518.22 L2269.56 1526.7 Q2270.58 1526.35 2271.6 1526.19 Q2272.61 1526 2273.63 1526 Q2279.42 1526 2282.8 1529.17 Q2286.18 1532.34 2286.18 1537.76 Q2286.18 1543.34 2282.71 1546.44 Q2279.23 1549.52 2272.91 1549.52 Q2270.74 1549.52 2268.47 1549.15 Q2266.23 1548.78 2263.82 1548.04 L2263.82 1543.34 Q2265.9 1544.47 2268.12 1545.03 Q2270.35 1545.58 2272.82 1545.58 Q2276.83 1545.58 2279.16 1543.48 Q2281.5 1541.37 2281.5 1537.76 Q2281.5 1534.15 2279.16 1532.04 Q2276.83 1529.94 2272.82 1529.94 Q2270.95 1529.94 2269.07 1530.35 Q2267.22 1530.77 2265.28 1531.65 L2265.28 1514.29 Z\" fill=\"#000000\" fill-rule=\"nonzero\" fill-opacity=\"1\" /><path clip-path=\"url(#clip690)\" d=\"M2305.39 1517.37 Q2301.78 1517.37 2299.95 1520.93 Q2298.15 1524.47 2298.15 1531.6 Q2298.15 1538.71 2299.95 1542.27 Q2301.78 1545.82 2305.39 1545.82 Q2309.03 1545.82 2310.83 1542.27 Q2312.66 1538.71 2312.66 1531.6 Q2312.66 1524.47 2310.83 1520.93 Q2309.03 1517.37 2305.39 1517.37 M2305.39 1513.66 Q2311.2 1513.66 2314.26 1518.27 Q2317.34 1522.85 2317.34 1531.6 Q2317.34 1540.33 2314.26 1544.94 Q2311.2 1549.52 2305.39 1549.52 Q2299.58 1549.52 2296.5 1544.94 Q2293.45 1540.33 2293.45 1531.6 Q2293.45 1522.85 2296.5 1518.27 Q2299.58 1513.66 2305.39 1513.66 Z\" fill=\"#000000\" fill-rule=\"nonzero\" fill-opacity=\"1\" /><polyline clip-path=\"url(#clip692)\" style=\"stroke:#000000; stroke-linecap:round; stroke-linejoin:round; stroke-width:2; stroke-opacity:0.1; fill:none\" points=\"155.765,1142.16 2352.76,1142.16 \"/>\n",
       "<polyline clip-path=\"url(#clip692)\" style=\"stroke:#000000; stroke-linecap:round; stroke-linejoin:round; stroke-width:2; stroke-opacity:0.1; fill:none\" points=\"155.765,785.954 2352.76,785.954 \"/>\n",
       "<polyline clip-path=\"url(#clip692)\" style=\"stroke:#000000; stroke-linecap:round; stroke-linejoin:round; stroke-width:2; stroke-opacity:0.1; fill:none\" points=\"155.765,429.745 2352.76,429.745 \"/>\n",
       "<polyline clip-path=\"url(#clip692)\" style=\"stroke:#000000; stroke-linecap:round; stroke-linejoin:round; stroke-width:2; stroke-opacity:0.1; fill:none\" points=\"155.765,73.5357 2352.76,73.5357 \"/>\n",
       "<polyline clip-path=\"url(#clip690)\" style=\"stroke:#000000; stroke-linecap:round; stroke-linejoin:round; stroke-width:4; stroke-opacity:1; fill:none\" points=\"155.765,1486.45 155.765,47.2441 \"/>\n",
       "<polyline clip-path=\"url(#clip690)\" style=\"stroke:#000000; stroke-linecap:round; stroke-linejoin:round; stroke-width:4; stroke-opacity:1; fill:none\" points=\"155.765,1142.16 174.663,1142.16 \"/>\n",
       "<polyline clip-path=\"url(#clip690)\" style=\"stroke:#000000; stroke-linecap:round; stroke-linejoin:round; stroke-width:4; stroke-opacity:1; fill:none\" points=\"155.765,785.954 174.663,785.954 \"/>\n",
       "<polyline clip-path=\"url(#clip690)\" style=\"stroke:#000000; stroke-linecap:round; stroke-linejoin:round; stroke-width:4; stroke-opacity:1; fill:none\" points=\"155.765,429.745 174.663,429.745 \"/>\n",
       "<polyline clip-path=\"url(#clip690)\" style=\"stroke:#000000; stroke-linecap:round; stroke-linejoin:round; stroke-width:4; stroke-opacity:1; fill:none\" points=\"155.765,73.5357 174.663,73.5357 \"/>\n",
       "<path clip-path=\"url(#clip690)\" d=\"M63.5847 1127.96 Q59.9736 1127.96 58.1449 1131.53 Q56.3393 1135.07 56.3393 1142.2 Q56.3393 1149.3 58.1449 1152.87 Q59.9736 1156.41 63.5847 1156.41 Q67.2189 1156.41 69.0244 1152.87 Q70.8531 1149.3 70.8531 1142.2 Q70.8531 1135.07 69.0244 1131.53 Q67.2189 1127.96 63.5847 1127.96 M63.5847 1124.26 Q69.3948 1124.26 72.4503 1128.86 Q75.529 1133.45 75.529 1142.2 Q75.529 1150.92 72.4503 1155.53 Q69.3948 1160.11 63.5847 1160.11 Q57.7745 1160.11 54.6958 1155.53 Q51.6403 1150.92 51.6403 1142.2 Q51.6403 1133.45 54.6958 1128.86 Q57.7745 1124.26 63.5847 1124.26 Z\" fill=\"#000000\" fill-rule=\"nonzero\" fill-opacity=\"1\" /><path clip-path=\"url(#clip690)\" d=\"M83.7466 1153.56 L88.6308 1153.56 L88.6308 1159.44 L83.7466 1159.44 L83.7466 1153.56 Z\" fill=\"#000000\" fill-rule=\"nonzero\" fill-opacity=\"1\" /><path clip-path=\"url(#clip690)\" d=\"M98.8622 1124.88 L117.219 1124.88 L117.219 1128.82 L103.145 1128.82 L103.145 1137.29 Q104.163 1136.94 105.182 1136.78 Q106.2 1136.6 107.219 1136.6 Q113.006 1136.6 116.385 1139.77 Q119.765 1142.94 119.765 1148.35 Q119.765 1153.93 116.293 1157.04 Q112.82 1160.11 106.501 1160.11 Q104.325 1160.11 102.057 1159.74 Q99.8113 1159.37 97.4039 1158.63 L97.4039 1153.93 Q99.4872 1155.07 101.709 1155.62 Q103.932 1156.18 106.408 1156.18 Q110.413 1156.18 112.751 1154.07 Q115.089 1151.97 115.089 1148.35 Q115.089 1144.74 112.751 1142.64 Q110.413 1140.53 106.408 1140.53 Q104.534 1140.53 102.659 1140.95 Q100.807 1141.36 98.8622 1142.24 L98.8622 1124.88 Z\" fill=\"#000000\" fill-rule=\"nonzero\" fill-opacity=\"1\" /><path clip-path=\"url(#clip690)\" d=\"M53.3995 799.299 L61.0384 799.299 L61.0384 772.933 L52.7282 774.6 L52.7282 770.34 L60.9921 768.674 L65.668 768.674 L65.668 799.299 L73.3068 799.299 L73.3068 803.234 L53.3995 803.234 L53.3995 799.299 Z\" fill=\"#000000\" fill-rule=\"nonzero\" fill-opacity=\"1\" /><path clip-path=\"url(#clip690)\" d=\"M82.7512 797.354 L87.6354 797.354 L87.6354 803.234 L82.7512 803.234 L82.7512 797.354 Z\" fill=\"#000000\" fill-rule=\"nonzero\" fill-opacity=\"1\" /><path clip-path=\"url(#clip690)\" d=\"M107.821 771.752 Q104.209 771.752 102.381 775.317 Q100.575 778.859 100.575 785.988 Q100.575 793.095 102.381 796.66 Q104.209 800.201 107.821 800.201 Q111.455 800.201 113.26 796.66 Q115.089 793.095 115.089 785.988 Q115.089 778.859 113.26 775.317 Q111.455 771.752 107.821 771.752 M107.821 768.049 Q113.631 768.049 116.686 772.655 Q119.765 777.239 119.765 785.988 Q119.765 794.715 116.686 799.322 Q113.631 803.905 107.821 803.905 Q102.01 803.905 98.9317 799.322 Q95.8761 794.715 95.8761 785.988 Q95.8761 777.239 98.9317 772.655 Q102.01 768.049 107.821 768.049 Z\" fill=\"#000000\" fill-rule=\"nonzero\" fill-opacity=\"1\" /><path clip-path=\"url(#clip690)\" d=\"M54.3949 443.09 L62.0337 443.09 L62.0337 416.724 L53.7236 418.391 L53.7236 414.131 L61.9874 412.465 L66.6633 412.465 L66.6633 443.09 L74.3022 443.09 L74.3022 447.025 L54.3949 447.025 L54.3949 443.09 Z\" fill=\"#000000\" fill-rule=\"nonzero\" fill-opacity=\"1\" /><path clip-path=\"url(#clip690)\" d=\"M83.7466 441.145 L88.6308 441.145 L88.6308 447.025 L83.7466 447.025 L83.7466 441.145 Z\" fill=\"#000000\" fill-rule=\"nonzero\" fill-opacity=\"1\" /><path clip-path=\"url(#clip690)\" d=\"M98.8622 412.465 L117.219 412.465 L117.219 416.4 L103.145 416.4 L103.145 424.872 Q104.163 424.525 105.182 424.363 Q106.2 424.178 107.219 424.178 Q113.006 424.178 116.385 427.349 Q119.765 430.52 119.765 435.937 Q119.765 441.516 116.293 444.617 Q112.82 447.696 106.501 447.696 Q104.325 447.696 102.057 447.326 Q99.8113 446.955 97.4039 446.215 L97.4039 441.516 Q99.4872 442.65 101.709 443.205 Q103.932 443.761 106.408 443.761 Q110.413 443.761 112.751 441.654 Q115.089 439.548 115.089 435.937 Q115.089 432.326 112.751 430.219 Q110.413 428.113 106.408 428.113 Q104.534 428.113 102.659 428.529 Q100.807 428.946 98.8622 429.826 L98.8622 412.465 Z\" fill=\"#000000\" fill-rule=\"nonzero\" fill-opacity=\"1\" /><path clip-path=\"url(#clip690)\" d=\"M56.6171 86.8806 L72.9365 86.8806 L72.9365 90.8157 L50.9921 90.8157 L50.9921 86.8806 Q53.6541 84.126 58.2375 79.4964 Q62.8439 74.8436 64.0245 73.501 Q66.2698 70.9779 67.1494 69.2418 Q68.0522 67.4825 68.0522 65.7927 Q68.0522 63.0381 66.1078 61.302 Q64.1865 59.5659 61.0847 59.5659 Q58.8856 59.5659 56.4319 60.3298 Q54.0014 61.0937 51.2236 62.6446 L51.2236 57.9224 Q54.0477 56.7881 56.5014 56.2094 Q58.955 55.6307 60.9921 55.6307 Q66.3624 55.6307 69.5568 58.3159 Q72.7513 61.0011 72.7513 65.4918 Q72.7513 67.6214 71.9411 69.5427 Q71.1541 71.4408 69.0476 74.0334 Q68.4689 74.7047 65.367 77.9223 Q62.2652 81.1167 56.6171 86.8806 Z\" fill=\"#000000\" fill-rule=\"nonzero\" fill-opacity=\"1\" /><path clip-path=\"url(#clip690)\" d=\"M82.7512 84.9361 L87.6354 84.9361 L87.6354 90.8157 L82.7512 90.8157 L82.7512 84.9361 Z\" fill=\"#000000\" fill-rule=\"nonzero\" fill-opacity=\"1\" /><path clip-path=\"url(#clip690)\" d=\"M107.821 59.3344 Q104.209 59.3344 102.381 62.8992 Q100.575 66.4409 100.575 73.5705 Q100.575 80.6769 102.381 84.2417 Q104.209 87.7833 107.821 87.7833 Q111.455 87.7833 113.26 84.2417 Q115.089 80.6769 115.089 73.5705 Q115.089 66.4409 113.26 62.8992 Q111.455 59.3344 107.821 59.3344 M107.821 55.6307 Q113.631 55.6307 116.686 60.2372 Q119.765 64.8205 119.765 73.5705 Q119.765 82.2973 116.686 86.9037 Q113.631 91.487 107.821 91.487 Q102.01 91.487 98.9317 86.9037 Q95.8761 82.2973 95.8761 73.5705 Q95.8761 64.8205 98.9317 60.2372 Q102.01 55.6307 107.821 55.6307 Z\" fill=\"#000000\" fill-rule=\"nonzero\" fill-opacity=\"1\" /><polyline clip-path=\"url(#clip692)\" style=\"stroke:#009af9; stroke-linecap:round; stroke-linejoin:round; stroke-width:4; stroke-opacity:1; fill:none\" points=\"217.944,87.9763 260.243,1186.94 302.541,1217.25 344.84,1223.57 387.138,1232.26 429.437,1241.21 471.736,1251.1 514.034,1265.17 556.333,1279.23 598.632,1292.16 640.93,1316.92 683.229,1239.75 725.527,1298.19 767.826,1296.78 810.125,1297.19 852.423,1299.06 894.722,1301.39 937.021,1314.48 979.319,1311.56 1021.62,1321.91 1063.92,1332.87 1106.22,1335.52 1148.51,1342.41 1190.81,1388.74 1233.11,1405.62 1275.41,1413.12 1317.71,1416.69 1360.01,1421.13 1402.31,1424.09 1444.6,1425.58 1486.9,1429.65 1529.2,1431.52 1571.5,1435.02 1613.8,1437.84 1656.1,1439.04 1698.4,1439.42 1740.69,1441.03 1782.99,1442.2 1825.29,1443 1867.59,1442.59 1909.89,1443.98 1952.19,1443.89 1994.49,1442.91 2036.79,1444.55 2079.08,1444.94 2121.38,1444.87 2163.68,1445.25 2205.98,1445.72 2248.28,1445.11 2290.58,1445.27 \"/>\n",
       "<path clip-path=\"url(#clip690)\" d=\"M1768.3 198.898 L2279.52 198.898 L2279.52 95.2176 L1768.3 95.2176  Z\" fill=\"#ffffff\" fill-rule=\"evenodd\" fill-opacity=\"1\"/>\n",
       "<polyline clip-path=\"url(#clip690)\" style=\"stroke:#000000; stroke-linecap:round; stroke-linejoin:round; stroke-width:4; stroke-opacity:1; fill:none\" points=\"1768.3,198.898 2279.52,198.898 2279.52,95.2176 1768.3,95.2176 1768.3,198.898 \"/>\n",
       "<polyline clip-path=\"url(#clip690)\" style=\"stroke:#009af9; stroke-linecap:round; stroke-linejoin:round; stroke-width:4; stroke-opacity:1; fill:none\" points=\"1792.71,147.058 1939.17,147.058 \"/>\n",
       "<path clip-path=\"url(#clip690)\" d=\"M1963.59 129.778 L1992.82 129.778 L1992.82 133.713 L1980.55 133.713 L1980.55 164.338 L1975.85 164.338 L1975.85 133.713 L1963.59 133.713 L1963.59 129.778 Z\" fill=\"#000000\" fill-rule=\"nonzero\" fill-opacity=\"1\" /><path clip-path=\"url(#clip690)\" d=\"M2005.21 142.393 Q2004.49 141.977 2003.63 141.791 Q2002.8 141.583 2001.78 141.583 Q1998.17 141.583 1996.22 143.944 Q1994.3 146.282 1994.3 150.68 L1994.3 164.338 L1990.02 164.338 L1990.02 138.412 L1994.3 138.412 L1994.3 142.44 Q1995.65 140.078 1997.8 138.944 Q1999.95 137.787 2003.03 137.787 Q2003.47 137.787 2004 137.856 Q2004.53 137.903 2005.18 138.018 L2005.21 142.393 Z\" fill=\"#000000\" fill-rule=\"nonzero\" fill-opacity=\"1\" /><path clip-path=\"url(#clip690)\" d=\"M2021.46 151.305 Q2016.29 151.305 2014.3 152.486 Q2012.31 153.666 2012.31 156.514 Q2012.31 158.782 2013.79 160.125 Q2015.3 161.444 2017.87 161.444 Q2021.41 161.444 2023.54 158.944 Q2025.69 156.421 2025.69 152.254 L2025.69 151.305 L2021.46 151.305 M2029.95 149.546 L2029.95 164.338 L2025.69 164.338 L2025.69 160.402 Q2024.23 162.763 2022.06 163.898 Q2019.88 165.009 2016.73 165.009 Q2012.75 165.009 2010.39 162.787 Q2008.05 160.541 2008.05 156.791 Q2008.05 152.416 2010.97 150.194 Q2013.91 147.972 2019.72 147.972 L2025.69 147.972 L2025.69 147.555 Q2025.69 144.615 2023.75 143.018 Q2021.83 141.398 2018.33 141.398 Q2016.11 141.398 2014 141.93 Q2011.9 142.463 2009.95 143.527 L2009.95 139.592 Q2012.29 138.69 2014.49 138.25 Q2016.69 137.787 2018.77 137.787 Q2024.4 137.787 2027.17 140.703 Q2029.95 143.62 2029.95 149.546 Z\" fill=\"#000000\" fill-rule=\"nonzero\" fill-opacity=\"1\" /><path clip-path=\"url(#clip690)\" d=\"M2038.72 138.412 L2042.98 138.412 L2042.98 164.338 L2038.72 164.338 L2038.72 138.412 M2038.72 128.319 L2042.98 128.319 L2042.98 133.713 L2038.72 133.713 L2038.72 128.319 Z\" fill=\"#000000\" fill-rule=\"nonzero\" fill-opacity=\"1\" /><path clip-path=\"url(#clip690)\" d=\"M2073.45 148.689 L2073.45 164.338 L2069.19 164.338 L2069.19 148.828 Q2069.19 145.148 2067.75 143.319 Q2066.32 141.49 2063.45 141.49 Q2060 141.49 2058.01 143.69 Q2056.02 145.889 2056.02 149.685 L2056.02 164.338 L2051.73 164.338 L2051.73 138.412 L2056.02 138.412 L2056.02 142.44 Q2057.54 140.102 2059.6 138.944 Q2061.69 137.787 2064.4 137.787 Q2068.86 137.787 2071.15 140.565 Q2073.45 143.319 2073.45 148.689 Z\" fill=\"#000000\" fill-rule=\"nonzero\" fill-opacity=\"1\" /><path clip-path=\"url(#clip690)\" d=\"M2081.94 138.412 L2086.2 138.412 L2086.2 164.338 L2081.94 164.338 L2081.94 138.412 M2081.94 128.319 L2086.2 128.319 L2086.2 133.713 L2081.94 133.713 L2081.94 128.319 Z\" fill=\"#000000\" fill-rule=\"nonzero\" fill-opacity=\"1\" /><path clip-path=\"url(#clip690)\" d=\"M2116.66 148.689 L2116.66 164.338 L2112.4 164.338 L2112.4 148.828 Q2112.4 145.148 2110.97 143.319 Q2109.53 141.49 2106.66 141.49 Q2103.21 141.49 2101.22 143.69 Q2099.23 145.889 2099.23 149.685 L2099.23 164.338 L2094.95 164.338 L2094.95 138.412 L2099.23 138.412 L2099.23 142.44 Q2100.76 140.102 2102.82 138.944 Q2104.9 137.787 2107.61 137.787 Q2112.08 137.787 2114.37 140.565 Q2116.66 143.319 2116.66 148.689 Z\" fill=\"#000000\" fill-rule=\"nonzero\" fill-opacity=\"1\" /><path clip-path=\"url(#clip690)\" d=\"M2142.22 151.074 Q2142.22 146.444 2140.3 143.898 Q2138.4 141.352 2134.95 141.352 Q2131.52 141.352 2129.6 143.898 Q2127.71 146.444 2127.71 151.074 Q2127.71 155.68 2129.6 158.226 Q2131.52 160.773 2134.95 160.773 Q2138.4 160.773 2140.3 158.226 Q2142.22 155.68 2142.22 151.074 M2146.48 161.12 Q2146.48 167.74 2143.54 170.958 Q2140.6 174.199 2134.53 174.199 Q2132.29 174.199 2130.3 173.851 Q2128.31 173.527 2126.43 172.833 L2126.43 168.689 Q2128.31 169.708 2130.14 170.194 Q2131.96 170.68 2133.86 170.68 Q2138.05 170.68 2140.14 168.481 Q2142.22 166.305 2142.22 161.884 L2142.22 159.777 Q2140.9 162.069 2138.84 163.203 Q2136.78 164.338 2133.91 164.338 Q2129.14 164.338 2126.22 160.703 Q2123.31 157.069 2123.31 151.074 Q2123.31 145.055 2126.22 141.421 Q2129.14 137.787 2133.91 137.787 Q2136.78 137.787 2138.84 138.921 Q2140.9 140.055 2142.22 142.347 L2142.22 138.412 L2146.48 138.412 L2146.48 161.12 Z\" fill=\"#000000\" fill-rule=\"nonzero\" fill-opacity=\"1\" /><path clip-path=\"url(#clip690)\" d=\"M2170.32 128.319 L2174.58 128.319 L2174.58 164.338 L2170.32 164.338 L2170.32 128.319 Z\" fill=\"#000000\" fill-rule=\"nonzero\" fill-opacity=\"1\" /><path clip-path=\"url(#clip690)\" d=\"M2193.54 141.398 Q2190.11 141.398 2188.12 144.083 Q2186.13 146.745 2186.13 151.398 Q2186.13 156.051 2188.1 158.736 Q2190.09 161.398 2193.54 161.398 Q2196.94 161.398 2198.93 158.713 Q2200.92 156.027 2200.92 151.398 Q2200.92 146.791 2198.93 144.106 Q2196.94 141.398 2193.54 141.398 M2193.54 137.787 Q2199.09 137.787 2202.26 141.398 Q2205.44 145.009 2205.44 151.398 Q2205.44 157.764 2202.26 161.398 Q2199.09 165.009 2193.54 165.009 Q2187.96 165.009 2184.79 161.398 Q2181.64 157.764 2181.64 151.398 Q2181.64 145.009 2184.79 141.398 Q2187.96 137.787 2193.54 137.787 Z\" fill=\"#000000\" fill-rule=\"nonzero\" fill-opacity=\"1\" /><path clip-path=\"url(#clip690)\" d=\"M2229.02 139.176 L2229.02 143.203 Q2227.22 142.277 2225.27 141.815 Q2223.33 141.352 2221.25 141.352 Q2218.08 141.352 2216.48 142.324 Q2214.9 143.296 2214.9 145.24 Q2214.9 146.722 2216.04 147.578 Q2217.17 148.412 2220.6 149.176 L2222.06 149.5 Q2226.59 150.472 2228.49 152.254 Q2230.41 154.014 2230.41 157.185 Q2230.41 160.796 2227.54 162.902 Q2224.7 165.009 2219.7 165.009 Q2217.61 165.009 2215.34 164.592 Q2213.1 164.199 2210.6 163.388 L2210.6 158.99 Q2212.96 160.217 2215.25 160.842 Q2217.54 161.444 2219.79 161.444 Q2222.8 161.444 2224.42 160.426 Q2226.04 159.384 2226.04 157.509 Q2226.04 155.773 2224.86 154.847 Q2223.7 153.921 2219.74 153.064 L2218.26 152.717 Q2214.3 151.884 2212.54 150.171 Q2210.78 148.435 2210.78 145.426 Q2210.78 141.768 2213.38 139.778 Q2215.97 137.787 2220.74 137.787 Q2223.1 137.787 2225.18 138.134 Q2227.26 138.481 2229.02 139.176 Z\" fill=\"#000000\" fill-rule=\"nonzero\" fill-opacity=\"1\" /><path clip-path=\"url(#clip690)\" d=\"M2253.72 139.176 L2253.72 143.203 Q2251.92 142.277 2249.97 141.815 Q2248.03 141.352 2245.95 141.352 Q2242.77 141.352 2241.18 142.324 Q2239.6 143.296 2239.6 145.24 Q2239.6 146.722 2240.74 147.578 Q2241.87 148.412 2245.3 149.176 L2246.76 149.5 Q2251.29 150.472 2253.19 152.254 Q2255.11 154.014 2255.11 157.185 Q2255.11 160.796 2252.24 162.902 Q2249.39 165.009 2244.39 165.009 Q2242.31 165.009 2240.04 164.592 Q2237.8 164.199 2235.3 163.388 L2235.3 158.99 Q2237.66 160.217 2239.95 160.842 Q2242.24 161.444 2244.49 161.444 Q2247.5 161.444 2249.12 160.426 Q2250.74 159.384 2250.74 157.509 Q2250.74 155.773 2249.56 154.847 Q2248.4 153.921 2244.44 153.064 L2242.96 152.717 Q2239 151.884 2237.24 150.171 Q2235.48 148.435 2235.48 145.426 Q2235.48 141.768 2238.07 139.778 Q2240.67 137.787 2245.44 137.787 Q2247.8 137.787 2249.88 138.134 Q2251.96 138.481 2253.72 139.176 Z\" fill=\"#000000\" fill-rule=\"nonzero\" fill-opacity=\"1\" /></svg>\n"
      ],
      "text/html": [
       "<?xml version=\"1.0\" encoding=\"utf-8\"?>\n",
       "<svg xmlns=\"http://www.w3.org/2000/svg\" xmlns:xlink=\"http://www.w3.org/1999/xlink\" width=\"600\" height=\"400\" viewBox=\"0 0 2400 1600\">\n",
       "<defs>\n",
       "  <clipPath id=\"clip740\">\n",
       "    <rect x=\"0\" y=\"0\" width=\"2400\" height=\"1600\"/>\n",
       "  </clipPath>\n",
       "</defs>\n",
       "<path clip-path=\"url(#clip740)\" d=\"M0 1600 L2400 1600 L2400 0 L0 0  Z\" fill=\"#ffffff\" fill-rule=\"evenodd\" fill-opacity=\"1\"/>\n",
       "<defs>\n",
       "  <clipPath id=\"clip741\">\n",
       "    <rect x=\"480\" y=\"0\" width=\"1681\" height=\"1600\"/>\n",
       "  </clipPath>\n",
       "</defs>\n",
       "<path clip-path=\"url(#clip740)\" d=\"M155.765 1486.45 L2352.76 1486.45 L2352.76 47.2441 L155.765 47.2441  Z\" fill=\"#ffffff\" fill-rule=\"evenodd\" fill-opacity=\"1\"/>\n",
       "<defs>\n",
       "  <clipPath id=\"clip742\">\n",
       "    <rect x=\"155\" y=\"47\" width=\"2198\" height=\"1440\"/>\n",
       "  </clipPath>\n",
       "</defs>\n",
       "<polyline clip-path=\"url(#clip742)\" style=\"stroke:#000000; stroke-linecap:round; stroke-linejoin:round; stroke-width:2; stroke-opacity:0.1; fill:none\" points=\"175.645,1486.45 175.645,47.2441 \"/>\n",
       "<polyline clip-path=\"url(#clip742)\" style=\"stroke:#000000; stroke-linecap:round; stroke-linejoin:round; stroke-width:2; stroke-opacity:0.1; fill:none\" points=\"598.632,1486.45 598.632,47.2441 \"/>\n",
       "<polyline clip-path=\"url(#clip742)\" style=\"stroke:#000000; stroke-linecap:round; stroke-linejoin:round; stroke-width:2; stroke-opacity:0.1; fill:none\" points=\"1021.62,1486.45 1021.62,47.2441 \"/>\n",
       "<polyline clip-path=\"url(#clip742)\" style=\"stroke:#000000; stroke-linecap:round; stroke-linejoin:round; stroke-width:2; stroke-opacity:0.1; fill:none\" points=\"1444.6,1486.45 1444.6,47.2441 \"/>\n",
       "<polyline clip-path=\"url(#clip742)\" style=\"stroke:#000000; stroke-linecap:round; stroke-linejoin:round; stroke-width:2; stroke-opacity:0.1; fill:none\" points=\"1867.59,1486.45 1867.59,47.2441 \"/>\n",
       "<polyline clip-path=\"url(#clip742)\" style=\"stroke:#000000; stroke-linecap:round; stroke-linejoin:round; stroke-width:2; stroke-opacity:0.1; fill:none\" points=\"2290.58,1486.45 2290.58,47.2441 \"/>\n",
       "<polyline clip-path=\"url(#clip740)\" style=\"stroke:#000000; stroke-linecap:round; stroke-linejoin:round; stroke-width:4; stroke-opacity:1; fill:none\" points=\"155.765,1486.45 2352.76,1486.45 \"/>\n",
       "<polyline clip-path=\"url(#clip740)\" style=\"stroke:#000000; stroke-linecap:round; stroke-linejoin:round; stroke-width:4; stroke-opacity:1; fill:none\" points=\"175.645,1486.45 175.645,1467.55 \"/>\n",
       "<polyline clip-path=\"url(#clip740)\" style=\"stroke:#000000; stroke-linecap:round; stroke-linejoin:round; stroke-width:4; stroke-opacity:1; fill:none\" points=\"598.632,1486.45 598.632,1467.55 \"/>\n",
       "<polyline clip-path=\"url(#clip740)\" style=\"stroke:#000000; stroke-linecap:round; stroke-linejoin:round; stroke-width:4; stroke-opacity:1; fill:none\" points=\"1021.62,1486.45 1021.62,1467.55 \"/>\n",
       "<polyline clip-path=\"url(#clip740)\" style=\"stroke:#000000; stroke-linecap:round; stroke-linejoin:round; stroke-width:4; stroke-opacity:1; fill:none\" points=\"1444.6,1486.45 1444.6,1467.55 \"/>\n",
       "<polyline clip-path=\"url(#clip740)\" style=\"stroke:#000000; stroke-linecap:round; stroke-linejoin:round; stroke-width:4; stroke-opacity:1; fill:none\" points=\"1867.59,1486.45 1867.59,1467.55 \"/>\n",
       "<polyline clip-path=\"url(#clip740)\" style=\"stroke:#000000; stroke-linecap:round; stroke-linejoin:round; stroke-width:4; stroke-opacity:1; fill:none\" points=\"2290.58,1486.45 2290.58,1467.55 \"/>\n",
       "<path clip-path=\"url(#clip740)\" d=\"M175.645 1517.37 Q172.034 1517.37 170.205 1520.93 Q168.4 1524.47 168.4 1531.6 Q168.4 1538.71 170.205 1542.27 Q172.034 1545.82 175.645 1545.82 Q179.28 1545.82 181.085 1542.27 Q182.914 1538.71 182.914 1531.6 Q182.914 1524.47 181.085 1520.93 Q179.28 1517.37 175.645 1517.37 M175.645 1513.66 Q181.455 1513.66 184.511 1518.27 Q187.59 1522.85 187.59 1531.6 Q187.59 1540.33 184.511 1544.94 Q181.455 1549.52 175.645 1549.52 Q169.835 1549.52 166.756 1544.94 Q163.701 1540.33 163.701 1531.6 Q163.701 1522.85 166.756 1518.27 Q169.835 1513.66 175.645 1513.66 Z\" fill=\"#000000\" fill-rule=\"nonzero\" fill-opacity=\"1\" /><path clip-path=\"url(#clip740)\" d=\"M573.319 1544.91 L580.958 1544.91 L580.958 1518.55 L572.648 1520.21 L572.648 1515.95 L580.912 1514.29 L585.588 1514.29 L585.588 1544.91 L593.227 1544.91 L593.227 1548.85 L573.319 1548.85 L573.319 1544.91 Z\" fill=\"#000000\" fill-rule=\"nonzero\" fill-opacity=\"1\" /><path clip-path=\"url(#clip740)\" d=\"M612.671 1517.37 Q609.06 1517.37 607.231 1520.93 Q605.426 1524.47 605.426 1531.6 Q605.426 1538.71 607.231 1542.27 Q609.06 1545.82 612.671 1545.82 Q616.305 1545.82 618.111 1542.27 Q619.939 1538.71 619.939 1531.6 Q619.939 1524.47 618.111 1520.93 Q616.305 1517.37 612.671 1517.37 M612.671 1513.66 Q618.481 1513.66 621.537 1518.27 Q624.615 1522.85 624.615 1531.6 Q624.615 1540.33 621.537 1544.94 Q618.481 1549.52 612.671 1549.52 Q606.861 1549.52 603.782 1544.94 Q600.726 1540.33 600.726 1531.6 Q600.726 1522.85 603.782 1518.27 Q606.861 1513.66 612.671 1513.66 Z\" fill=\"#000000\" fill-rule=\"nonzero\" fill-opacity=\"1\" /><path clip-path=\"url(#clip740)\" d=\"M1000.39 1544.91 L1016.71 1544.91 L1016.71 1548.85 L994.766 1548.85 L994.766 1544.91 Q997.428 1542.16 1002.01 1537.53 Q1006.62 1532.88 1007.8 1531.53 Q1010.04 1529.01 1010.92 1527.27 Q1011.83 1525.51 1011.83 1523.82 Q1011.83 1521.07 1009.88 1519.33 Q1007.96 1517.6 1004.86 1517.6 Q1002.66 1517.6 1000.21 1518.36 Q997.775 1519.13 994.998 1520.68 L994.998 1515.95 Q997.822 1514.82 1000.28 1514.24 Q1002.73 1513.66 1004.77 1513.66 Q1010.14 1513.66 1013.33 1516.35 Q1016.53 1519.03 1016.53 1523.52 Q1016.53 1525.65 1015.72 1527.57 Q1014.93 1529.47 1012.82 1532.07 Q1012.24 1532.74 1009.14 1535.95 Q1006.04 1539.15 1000.39 1544.91 Z\" fill=\"#000000\" fill-rule=\"nonzero\" fill-opacity=\"1\" /><path clip-path=\"url(#clip740)\" d=\"M1036.53 1517.37 Q1032.91 1517.37 1031.09 1520.93 Q1029.28 1524.47 1029.28 1531.6 Q1029.28 1538.71 1031.09 1542.27 Q1032.91 1545.82 1036.53 1545.82 Q1040.16 1545.82 1041.97 1542.27 Q1043.79 1538.71 1043.79 1531.6 Q1043.79 1524.47 1041.97 1520.93 Q1040.16 1517.37 1036.53 1517.37 M1036.53 1513.66 Q1042.34 1513.66 1045.39 1518.27 Q1048.47 1522.85 1048.47 1531.6 Q1048.47 1540.33 1045.39 1544.94 Q1042.34 1549.52 1036.53 1549.52 Q1030.72 1549.52 1027.64 1544.94 Q1024.58 1540.33 1024.58 1531.6 Q1024.58 1522.85 1027.64 1518.27 Q1030.72 1513.66 1036.53 1513.66 Z\" fill=\"#000000\" fill-rule=\"nonzero\" fill-opacity=\"1\" /><path clip-path=\"url(#clip740)\" d=\"M1433.45 1530.21 Q1436.8 1530.93 1438.68 1533.2 Q1440.58 1535.47 1440.58 1538.8 Q1440.58 1543.92 1437.06 1546.72 Q1433.54 1549.52 1427.06 1549.52 Q1424.88 1549.52 1422.57 1549.08 Q1420.28 1548.66 1417.82 1547.81 L1417.82 1543.29 Q1419.77 1544.43 1422.08 1545.01 Q1424.4 1545.58 1426.92 1545.58 Q1431.32 1545.58 1433.61 1543.85 Q1435.92 1542.11 1435.92 1538.8 Q1435.92 1535.75 1433.77 1534.03 Q1431.64 1532.3 1427.82 1532.3 L1423.79 1532.3 L1423.79 1528.45 L1428.01 1528.45 Q1431.46 1528.45 1433.28 1527.09 Q1435.11 1525.7 1435.11 1523.11 Q1435.11 1520.45 1433.22 1519.03 Q1431.34 1517.6 1427.82 1517.6 Q1425.9 1517.6 1423.7 1518.01 Q1421.5 1518.43 1418.86 1519.31 L1418.86 1515.14 Q1421.53 1514.4 1423.84 1514.03 Q1426.18 1513.66 1428.24 1513.66 Q1433.56 1513.66 1436.66 1516.09 Q1439.77 1518.5 1439.77 1522.62 Q1439.77 1525.49 1438.12 1527.48 Q1436.48 1529.45 1433.45 1530.21 Z\" fill=\"#000000\" fill-rule=\"nonzero\" fill-opacity=\"1\" /><path clip-path=\"url(#clip740)\" d=\"M1459.44 1517.37 Q1455.83 1517.37 1454 1520.93 Q1452.2 1524.47 1452.2 1531.6 Q1452.2 1538.71 1454 1542.27 Q1455.83 1545.82 1459.44 1545.82 Q1463.08 1545.82 1464.88 1542.27 Q1466.71 1538.71 1466.71 1531.6 Q1466.71 1524.47 1464.88 1520.93 Q1463.08 1517.37 1459.44 1517.37 M1459.44 1513.66 Q1465.25 1513.66 1468.31 1518.27 Q1471.39 1522.85 1471.39 1531.6 Q1471.39 1540.33 1468.31 1544.94 Q1465.25 1549.52 1459.44 1549.52 Q1453.63 1549.52 1450.55 1544.94 Q1447.5 1540.33 1447.5 1531.6 Q1447.5 1522.85 1450.55 1518.27 Q1453.63 1513.66 1459.44 1513.66 Z\" fill=\"#000000\" fill-rule=\"nonzero\" fill-opacity=\"1\" /><path clip-path=\"url(#clip740)\" d=\"M1855.76 1518.36 L1843.96 1536.81 L1855.76 1536.81 L1855.76 1518.36 M1854.54 1514.29 L1860.41 1514.29 L1860.41 1536.81 L1865.35 1536.81 L1865.35 1540.7 L1860.41 1540.7 L1860.41 1548.85 L1855.76 1548.85 L1855.76 1540.7 L1840.16 1540.7 L1840.16 1536.19 L1854.54 1514.29 Z\" fill=\"#000000\" fill-rule=\"nonzero\" fill-opacity=\"1\" /><path clip-path=\"url(#clip740)\" d=\"M1883.08 1517.37 Q1879.47 1517.37 1877.64 1520.93 Q1875.83 1524.47 1875.83 1531.6 Q1875.83 1538.71 1877.64 1542.27 Q1879.47 1545.82 1883.08 1545.82 Q1886.71 1545.82 1888.52 1542.27 Q1890.35 1538.71 1890.35 1531.6 Q1890.35 1524.47 1888.52 1520.93 Q1886.71 1517.37 1883.08 1517.37 M1883.08 1513.66 Q1888.89 1513.66 1891.94 1518.27 Q1895.02 1522.85 1895.02 1531.6 Q1895.02 1540.33 1891.94 1544.94 Q1888.89 1549.52 1883.08 1549.52 Q1877.27 1549.52 1874.19 1544.94 Q1871.13 1540.33 1871.13 1531.6 Q1871.13 1522.85 1874.19 1518.27 Q1877.27 1513.66 1883.08 1513.66 Z\" fill=\"#000000\" fill-rule=\"nonzero\" fill-opacity=\"1\" /><path clip-path=\"url(#clip740)\" d=\"M2265.28 1514.29 L2283.63 1514.29 L2283.63 1518.22 L2269.56 1518.22 L2269.56 1526.7 Q2270.58 1526.35 2271.6 1526.19 Q2272.61 1526 2273.63 1526 Q2279.42 1526 2282.8 1529.17 Q2286.18 1532.34 2286.18 1537.76 Q2286.18 1543.34 2282.71 1546.44 Q2279.23 1549.52 2272.91 1549.52 Q2270.74 1549.52 2268.47 1549.15 Q2266.23 1548.78 2263.82 1548.04 L2263.82 1543.34 Q2265.9 1544.47 2268.12 1545.03 Q2270.35 1545.58 2272.82 1545.58 Q2276.83 1545.58 2279.16 1543.48 Q2281.5 1541.37 2281.5 1537.76 Q2281.5 1534.15 2279.16 1532.04 Q2276.83 1529.94 2272.82 1529.94 Q2270.95 1529.94 2269.07 1530.35 Q2267.22 1530.77 2265.28 1531.65 L2265.28 1514.29 Z\" fill=\"#000000\" fill-rule=\"nonzero\" fill-opacity=\"1\" /><path clip-path=\"url(#clip740)\" d=\"M2305.39 1517.37 Q2301.78 1517.37 2299.95 1520.93 Q2298.15 1524.47 2298.15 1531.6 Q2298.15 1538.71 2299.95 1542.27 Q2301.78 1545.82 2305.39 1545.82 Q2309.03 1545.82 2310.83 1542.27 Q2312.66 1538.71 2312.66 1531.6 Q2312.66 1524.47 2310.83 1520.93 Q2309.03 1517.37 2305.39 1517.37 M2305.39 1513.66 Q2311.2 1513.66 2314.26 1518.27 Q2317.34 1522.85 2317.34 1531.6 Q2317.34 1540.33 2314.26 1544.94 Q2311.2 1549.52 2305.39 1549.52 Q2299.58 1549.52 2296.5 1544.94 Q2293.45 1540.33 2293.45 1531.6 Q2293.45 1522.85 2296.5 1518.27 Q2299.58 1513.66 2305.39 1513.66 Z\" fill=\"#000000\" fill-rule=\"nonzero\" fill-opacity=\"1\" /><polyline clip-path=\"url(#clip742)\" style=\"stroke:#000000; stroke-linecap:round; stroke-linejoin:round; stroke-width:2; stroke-opacity:0.1; fill:none\" points=\"155.765,1142.16 2352.76,1142.16 \"/>\n",
       "<polyline clip-path=\"url(#clip742)\" style=\"stroke:#000000; stroke-linecap:round; stroke-linejoin:round; stroke-width:2; stroke-opacity:0.1; fill:none\" points=\"155.765,785.954 2352.76,785.954 \"/>\n",
       "<polyline clip-path=\"url(#clip742)\" style=\"stroke:#000000; stroke-linecap:round; stroke-linejoin:round; stroke-width:2; stroke-opacity:0.1; fill:none\" points=\"155.765,429.745 2352.76,429.745 \"/>\n",
       "<polyline clip-path=\"url(#clip742)\" style=\"stroke:#000000; stroke-linecap:round; stroke-linejoin:round; stroke-width:2; stroke-opacity:0.1; fill:none\" points=\"155.765,73.5357 2352.76,73.5357 \"/>\n",
       "<polyline clip-path=\"url(#clip740)\" style=\"stroke:#000000; stroke-linecap:round; stroke-linejoin:round; stroke-width:4; stroke-opacity:1; fill:none\" points=\"155.765,1486.45 155.765,47.2441 \"/>\n",
       "<polyline clip-path=\"url(#clip740)\" style=\"stroke:#000000; stroke-linecap:round; stroke-linejoin:round; stroke-width:4; stroke-opacity:1; fill:none\" points=\"155.765,1142.16 174.663,1142.16 \"/>\n",
       "<polyline clip-path=\"url(#clip740)\" style=\"stroke:#000000; stroke-linecap:round; stroke-linejoin:round; stroke-width:4; stroke-opacity:1; fill:none\" points=\"155.765,785.954 174.663,785.954 \"/>\n",
       "<polyline clip-path=\"url(#clip740)\" style=\"stroke:#000000; stroke-linecap:round; stroke-linejoin:round; stroke-width:4; stroke-opacity:1; fill:none\" points=\"155.765,429.745 174.663,429.745 \"/>\n",
       "<polyline clip-path=\"url(#clip740)\" style=\"stroke:#000000; stroke-linecap:round; stroke-linejoin:round; stroke-width:4; stroke-opacity:1; fill:none\" points=\"155.765,73.5357 174.663,73.5357 \"/>\n",
       "<path clip-path=\"url(#clip740)\" d=\"M63.5847 1127.96 Q59.9736 1127.96 58.1449 1131.53 Q56.3393 1135.07 56.3393 1142.2 Q56.3393 1149.3 58.1449 1152.87 Q59.9736 1156.41 63.5847 1156.41 Q67.2189 1156.41 69.0244 1152.87 Q70.8531 1149.3 70.8531 1142.2 Q70.8531 1135.07 69.0244 1131.53 Q67.2189 1127.96 63.5847 1127.96 M63.5847 1124.26 Q69.3948 1124.26 72.4503 1128.86 Q75.529 1133.45 75.529 1142.2 Q75.529 1150.92 72.4503 1155.53 Q69.3948 1160.11 63.5847 1160.11 Q57.7745 1160.11 54.6958 1155.53 Q51.6403 1150.92 51.6403 1142.2 Q51.6403 1133.45 54.6958 1128.86 Q57.7745 1124.26 63.5847 1124.26 Z\" fill=\"#000000\" fill-rule=\"nonzero\" fill-opacity=\"1\" /><path clip-path=\"url(#clip740)\" d=\"M83.7466 1153.56 L88.6308 1153.56 L88.6308 1159.44 L83.7466 1159.44 L83.7466 1153.56 Z\" fill=\"#000000\" fill-rule=\"nonzero\" fill-opacity=\"1\" /><path clip-path=\"url(#clip740)\" d=\"M98.8622 1124.88 L117.219 1124.88 L117.219 1128.82 L103.145 1128.82 L103.145 1137.29 Q104.163 1136.94 105.182 1136.78 Q106.2 1136.6 107.219 1136.6 Q113.006 1136.6 116.385 1139.77 Q119.765 1142.94 119.765 1148.35 Q119.765 1153.93 116.293 1157.04 Q112.82 1160.11 106.501 1160.11 Q104.325 1160.11 102.057 1159.74 Q99.8113 1159.37 97.4039 1158.63 L97.4039 1153.93 Q99.4872 1155.07 101.709 1155.62 Q103.932 1156.18 106.408 1156.18 Q110.413 1156.18 112.751 1154.07 Q115.089 1151.97 115.089 1148.35 Q115.089 1144.74 112.751 1142.64 Q110.413 1140.53 106.408 1140.53 Q104.534 1140.53 102.659 1140.95 Q100.807 1141.36 98.8622 1142.24 L98.8622 1124.88 Z\" fill=\"#000000\" fill-rule=\"nonzero\" fill-opacity=\"1\" /><path clip-path=\"url(#clip740)\" d=\"M53.3995 799.299 L61.0384 799.299 L61.0384 772.933 L52.7282 774.6 L52.7282 770.34 L60.9921 768.674 L65.668 768.674 L65.668 799.299 L73.3068 799.299 L73.3068 803.234 L53.3995 803.234 L53.3995 799.299 Z\" fill=\"#000000\" fill-rule=\"nonzero\" fill-opacity=\"1\" /><path clip-path=\"url(#clip740)\" d=\"M82.7512 797.354 L87.6354 797.354 L87.6354 803.234 L82.7512 803.234 L82.7512 797.354 Z\" fill=\"#000000\" fill-rule=\"nonzero\" fill-opacity=\"1\" /><path clip-path=\"url(#clip740)\" d=\"M107.821 771.752 Q104.209 771.752 102.381 775.317 Q100.575 778.859 100.575 785.988 Q100.575 793.095 102.381 796.66 Q104.209 800.201 107.821 800.201 Q111.455 800.201 113.26 796.66 Q115.089 793.095 115.089 785.988 Q115.089 778.859 113.26 775.317 Q111.455 771.752 107.821 771.752 M107.821 768.049 Q113.631 768.049 116.686 772.655 Q119.765 777.239 119.765 785.988 Q119.765 794.715 116.686 799.322 Q113.631 803.905 107.821 803.905 Q102.01 803.905 98.9317 799.322 Q95.8761 794.715 95.8761 785.988 Q95.8761 777.239 98.9317 772.655 Q102.01 768.049 107.821 768.049 Z\" fill=\"#000000\" fill-rule=\"nonzero\" fill-opacity=\"1\" /><path clip-path=\"url(#clip740)\" d=\"M54.3949 443.09 L62.0337 443.09 L62.0337 416.724 L53.7236 418.391 L53.7236 414.131 L61.9874 412.465 L66.6633 412.465 L66.6633 443.09 L74.3022 443.09 L74.3022 447.025 L54.3949 447.025 L54.3949 443.09 Z\" fill=\"#000000\" fill-rule=\"nonzero\" fill-opacity=\"1\" /><path clip-path=\"url(#clip740)\" d=\"M83.7466 441.145 L88.6308 441.145 L88.6308 447.025 L83.7466 447.025 L83.7466 441.145 Z\" fill=\"#000000\" fill-rule=\"nonzero\" fill-opacity=\"1\" /><path clip-path=\"url(#clip740)\" d=\"M98.8622 412.465 L117.219 412.465 L117.219 416.4 L103.145 416.4 L103.145 424.872 Q104.163 424.525 105.182 424.363 Q106.2 424.178 107.219 424.178 Q113.006 424.178 116.385 427.349 Q119.765 430.52 119.765 435.937 Q119.765 441.516 116.293 444.617 Q112.82 447.696 106.501 447.696 Q104.325 447.696 102.057 447.326 Q99.8113 446.955 97.4039 446.215 L97.4039 441.516 Q99.4872 442.65 101.709 443.205 Q103.932 443.761 106.408 443.761 Q110.413 443.761 112.751 441.654 Q115.089 439.548 115.089 435.937 Q115.089 432.326 112.751 430.219 Q110.413 428.113 106.408 428.113 Q104.534 428.113 102.659 428.529 Q100.807 428.946 98.8622 429.826 L98.8622 412.465 Z\" fill=\"#000000\" fill-rule=\"nonzero\" fill-opacity=\"1\" /><path clip-path=\"url(#clip740)\" d=\"M56.6171 86.8806 L72.9365 86.8806 L72.9365 90.8157 L50.9921 90.8157 L50.9921 86.8806 Q53.6541 84.126 58.2375 79.4964 Q62.8439 74.8436 64.0245 73.501 Q66.2698 70.9779 67.1494 69.2418 Q68.0522 67.4825 68.0522 65.7927 Q68.0522 63.0381 66.1078 61.302 Q64.1865 59.5659 61.0847 59.5659 Q58.8856 59.5659 56.4319 60.3298 Q54.0014 61.0937 51.2236 62.6446 L51.2236 57.9224 Q54.0477 56.7881 56.5014 56.2094 Q58.955 55.6307 60.9921 55.6307 Q66.3624 55.6307 69.5568 58.3159 Q72.7513 61.0011 72.7513 65.4918 Q72.7513 67.6214 71.9411 69.5427 Q71.1541 71.4408 69.0476 74.0334 Q68.4689 74.7047 65.367 77.9223 Q62.2652 81.1167 56.6171 86.8806 Z\" fill=\"#000000\" fill-rule=\"nonzero\" fill-opacity=\"1\" /><path clip-path=\"url(#clip740)\" d=\"M82.7512 84.9361 L87.6354 84.9361 L87.6354 90.8157 L82.7512 90.8157 L82.7512 84.9361 Z\" fill=\"#000000\" fill-rule=\"nonzero\" fill-opacity=\"1\" /><path clip-path=\"url(#clip740)\" d=\"M107.821 59.3344 Q104.209 59.3344 102.381 62.8992 Q100.575 66.4409 100.575 73.5705 Q100.575 80.6769 102.381 84.2417 Q104.209 87.7833 107.821 87.7833 Q111.455 87.7833 113.26 84.2417 Q115.089 80.6769 115.089 73.5705 Q115.089 66.4409 113.26 62.8992 Q111.455 59.3344 107.821 59.3344 M107.821 55.6307 Q113.631 55.6307 116.686 60.2372 Q119.765 64.8205 119.765 73.5705 Q119.765 82.2973 116.686 86.9037 Q113.631 91.487 107.821 91.487 Q102.01 91.487 98.9317 86.9037 Q95.8761 82.2973 95.8761 73.5705 Q95.8761 64.8205 98.9317 60.2372 Q102.01 55.6307 107.821 55.6307 Z\" fill=\"#000000\" fill-rule=\"nonzero\" fill-opacity=\"1\" /><polyline clip-path=\"url(#clip742)\" style=\"stroke:#009af9; stroke-linecap:round; stroke-linejoin:round; stroke-width:4; stroke-opacity:1; fill:none\" points=\"217.944,87.9763 260.243,1186.94 302.541,1217.25 344.84,1223.57 387.138,1232.26 429.437,1241.21 471.736,1251.1 514.034,1265.17 556.333,1279.23 598.632,1292.16 640.93,1316.92 683.229,1239.75 725.527,1298.19 767.826,1296.78 810.125,1297.19 852.423,1299.06 894.722,1301.39 937.021,1314.48 979.319,1311.56 1021.62,1321.91 1063.92,1332.87 1106.22,1335.52 1148.51,1342.41 1190.81,1388.74 1233.11,1405.62 1275.41,1413.12 1317.71,1416.69 1360.01,1421.13 1402.31,1424.09 1444.6,1425.58 1486.9,1429.65 1529.2,1431.52 1571.5,1435.02 1613.8,1437.84 1656.1,1439.04 1698.4,1439.42 1740.69,1441.03 1782.99,1442.2 1825.29,1443 1867.59,1442.59 1909.89,1443.98 1952.19,1443.89 1994.49,1442.91 2036.79,1444.55 2079.08,1444.94 2121.38,1444.87 2163.68,1445.25 2205.98,1445.72 2248.28,1445.11 2290.58,1445.27 \"/>\n",
       "<path clip-path=\"url(#clip740)\" d=\"M1768.3 198.898 L2279.52 198.898 L2279.52 95.2176 L1768.3 95.2176  Z\" fill=\"#ffffff\" fill-rule=\"evenodd\" fill-opacity=\"1\"/>\n",
       "<polyline clip-path=\"url(#clip740)\" style=\"stroke:#000000; stroke-linecap:round; stroke-linejoin:round; stroke-width:4; stroke-opacity:1; fill:none\" points=\"1768.3,198.898 2279.52,198.898 2279.52,95.2176 1768.3,95.2176 1768.3,198.898 \"/>\n",
       "<polyline clip-path=\"url(#clip740)\" style=\"stroke:#009af9; stroke-linecap:round; stroke-linejoin:round; stroke-width:4; stroke-opacity:1; fill:none\" points=\"1792.71,147.058 1939.17,147.058 \"/>\n",
       "<path clip-path=\"url(#clip740)\" d=\"M1963.59 129.778 L1992.82 129.778 L1992.82 133.713 L1980.55 133.713 L1980.55 164.338 L1975.85 164.338 L1975.85 133.713 L1963.59 133.713 L1963.59 129.778 Z\" fill=\"#000000\" fill-rule=\"nonzero\" fill-opacity=\"1\" /><path clip-path=\"url(#clip740)\" d=\"M2005.21 142.393 Q2004.49 141.977 2003.63 141.791 Q2002.8 141.583 2001.78 141.583 Q1998.17 141.583 1996.22 143.944 Q1994.3 146.282 1994.3 150.68 L1994.3 164.338 L1990.02 164.338 L1990.02 138.412 L1994.3 138.412 L1994.3 142.44 Q1995.65 140.078 1997.8 138.944 Q1999.95 137.787 2003.03 137.787 Q2003.47 137.787 2004 137.856 Q2004.53 137.903 2005.18 138.018 L2005.21 142.393 Z\" fill=\"#000000\" fill-rule=\"nonzero\" fill-opacity=\"1\" /><path clip-path=\"url(#clip740)\" d=\"M2021.46 151.305 Q2016.29 151.305 2014.3 152.486 Q2012.31 153.666 2012.31 156.514 Q2012.31 158.782 2013.79 160.125 Q2015.3 161.444 2017.87 161.444 Q2021.41 161.444 2023.54 158.944 Q2025.69 156.421 2025.69 152.254 L2025.69 151.305 L2021.46 151.305 M2029.95 149.546 L2029.95 164.338 L2025.69 164.338 L2025.69 160.402 Q2024.23 162.763 2022.06 163.898 Q2019.88 165.009 2016.73 165.009 Q2012.75 165.009 2010.39 162.787 Q2008.05 160.541 2008.05 156.791 Q2008.05 152.416 2010.97 150.194 Q2013.91 147.972 2019.72 147.972 L2025.69 147.972 L2025.69 147.555 Q2025.69 144.615 2023.75 143.018 Q2021.83 141.398 2018.33 141.398 Q2016.11 141.398 2014 141.93 Q2011.9 142.463 2009.95 143.527 L2009.95 139.592 Q2012.29 138.69 2014.49 138.25 Q2016.69 137.787 2018.77 137.787 Q2024.4 137.787 2027.17 140.703 Q2029.95 143.62 2029.95 149.546 Z\" fill=\"#000000\" fill-rule=\"nonzero\" fill-opacity=\"1\" /><path clip-path=\"url(#clip740)\" d=\"M2038.72 138.412 L2042.98 138.412 L2042.98 164.338 L2038.72 164.338 L2038.72 138.412 M2038.72 128.319 L2042.98 128.319 L2042.98 133.713 L2038.72 133.713 L2038.72 128.319 Z\" fill=\"#000000\" fill-rule=\"nonzero\" fill-opacity=\"1\" /><path clip-path=\"url(#clip740)\" d=\"M2073.45 148.689 L2073.45 164.338 L2069.19 164.338 L2069.19 148.828 Q2069.19 145.148 2067.75 143.319 Q2066.32 141.49 2063.45 141.49 Q2060 141.49 2058.01 143.69 Q2056.02 145.889 2056.02 149.685 L2056.02 164.338 L2051.73 164.338 L2051.73 138.412 L2056.02 138.412 L2056.02 142.44 Q2057.54 140.102 2059.6 138.944 Q2061.69 137.787 2064.4 137.787 Q2068.86 137.787 2071.15 140.565 Q2073.45 143.319 2073.45 148.689 Z\" fill=\"#000000\" fill-rule=\"nonzero\" fill-opacity=\"1\" /><path clip-path=\"url(#clip740)\" d=\"M2081.94 138.412 L2086.2 138.412 L2086.2 164.338 L2081.94 164.338 L2081.94 138.412 M2081.94 128.319 L2086.2 128.319 L2086.2 133.713 L2081.94 133.713 L2081.94 128.319 Z\" fill=\"#000000\" fill-rule=\"nonzero\" fill-opacity=\"1\" /><path clip-path=\"url(#clip740)\" d=\"M2116.66 148.689 L2116.66 164.338 L2112.4 164.338 L2112.4 148.828 Q2112.4 145.148 2110.97 143.319 Q2109.53 141.49 2106.66 141.49 Q2103.21 141.49 2101.22 143.69 Q2099.23 145.889 2099.23 149.685 L2099.23 164.338 L2094.95 164.338 L2094.95 138.412 L2099.23 138.412 L2099.23 142.44 Q2100.76 140.102 2102.82 138.944 Q2104.9 137.787 2107.61 137.787 Q2112.08 137.787 2114.37 140.565 Q2116.66 143.319 2116.66 148.689 Z\" fill=\"#000000\" fill-rule=\"nonzero\" fill-opacity=\"1\" /><path clip-path=\"url(#clip740)\" d=\"M2142.22 151.074 Q2142.22 146.444 2140.3 143.898 Q2138.4 141.352 2134.95 141.352 Q2131.52 141.352 2129.6 143.898 Q2127.71 146.444 2127.71 151.074 Q2127.71 155.68 2129.6 158.226 Q2131.52 160.773 2134.95 160.773 Q2138.4 160.773 2140.3 158.226 Q2142.22 155.68 2142.22 151.074 M2146.48 161.12 Q2146.48 167.74 2143.54 170.958 Q2140.6 174.199 2134.53 174.199 Q2132.29 174.199 2130.3 173.851 Q2128.31 173.527 2126.43 172.833 L2126.43 168.689 Q2128.31 169.708 2130.14 170.194 Q2131.96 170.68 2133.86 170.68 Q2138.05 170.68 2140.14 168.481 Q2142.22 166.305 2142.22 161.884 L2142.22 159.777 Q2140.9 162.069 2138.84 163.203 Q2136.78 164.338 2133.91 164.338 Q2129.14 164.338 2126.22 160.703 Q2123.31 157.069 2123.31 151.074 Q2123.31 145.055 2126.22 141.421 Q2129.14 137.787 2133.91 137.787 Q2136.78 137.787 2138.84 138.921 Q2140.9 140.055 2142.22 142.347 L2142.22 138.412 L2146.48 138.412 L2146.48 161.12 Z\" fill=\"#000000\" fill-rule=\"nonzero\" fill-opacity=\"1\" /><path clip-path=\"url(#clip740)\" d=\"M2170.32 128.319 L2174.58 128.319 L2174.58 164.338 L2170.32 164.338 L2170.32 128.319 Z\" fill=\"#000000\" fill-rule=\"nonzero\" fill-opacity=\"1\" /><path clip-path=\"url(#clip740)\" d=\"M2193.54 141.398 Q2190.11 141.398 2188.12 144.083 Q2186.13 146.745 2186.13 151.398 Q2186.13 156.051 2188.1 158.736 Q2190.09 161.398 2193.54 161.398 Q2196.94 161.398 2198.93 158.713 Q2200.92 156.027 2200.92 151.398 Q2200.92 146.791 2198.93 144.106 Q2196.94 141.398 2193.54 141.398 M2193.54 137.787 Q2199.09 137.787 2202.26 141.398 Q2205.44 145.009 2205.44 151.398 Q2205.44 157.764 2202.26 161.398 Q2199.09 165.009 2193.54 165.009 Q2187.96 165.009 2184.79 161.398 Q2181.64 157.764 2181.64 151.398 Q2181.64 145.009 2184.79 141.398 Q2187.96 137.787 2193.54 137.787 Z\" fill=\"#000000\" fill-rule=\"nonzero\" fill-opacity=\"1\" /><path clip-path=\"url(#clip740)\" d=\"M2229.02 139.176 L2229.02 143.203 Q2227.22 142.277 2225.27 141.815 Q2223.33 141.352 2221.25 141.352 Q2218.08 141.352 2216.48 142.324 Q2214.9 143.296 2214.9 145.24 Q2214.9 146.722 2216.04 147.578 Q2217.17 148.412 2220.6 149.176 L2222.06 149.5 Q2226.59 150.472 2228.49 152.254 Q2230.41 154.014 2230.41 157.185 Q2230.41 160.796 2227.54 162.902 Q2224.7 165.009 2219.7 165.009 Q2217.61 165.009 2215.34 164.592 Q2213.1 164.199 2210.6 163.388 L2210.6 158.99 Q2212.96 160.217 2215.25 160.842 Q2217.54 161.444 2219.79 161.444 Q2222.8 161.444 2224.42 160.426 Q2226.04 159.384 2226.04 157.509 Q2226.04 155.773 2224.86 154.847 Q2223.7 153.921 2219.74 153.064 L2218.26 152.717 Q2214.3 151.884 2212.54 150.171 Q2210.78 148.435 2210.78 145.426 Q2210.78 141.768 2213.38 139.778 Q2215.97 137.787 2220.74 137.787 Q2223.1 137.787 2225.18 138.134 Q2227.26 138.481 2229.02 139.176 Z\" fill=\"#000000\" fill-rule=\"nonzero\" fill-opacity=\"1\" /><path clip-path=\"url(#clip740)\" d=\"M2253.72 139.176 L2253.72 143.203 Q2251.92 142.277 2249.97 141.815 Q2248.03 141.352 2245.95 141.352 Q2242.77 141.352 2241.18 142.324 Q2239.6 143.296 2239.6 145.24 Q2239.6 146.722 2240.74 147.578 Q2241.87 148.412 2245.3 149.176 L2246.76 149.5 Q2251.29 150.472 2253.19 152.254 Q2255.11 154.014 2255.11 157.185 Q2255.11 160.796 2252.24 162.902 Q2249.39 165.009 2244.39 165.009 Q2242.31 165.009 2240.04 164.592 Q2237.8 164.199 2235.3 163.388 L2235.3 158.99 Q2237.66 160.217 2239.95 160.842 Q2242.24 161.444 2244.49 161.444 Q2247.5 161.444 2249.12 160.426 Q2250.74 159.384 2250.74 157.509 Q2250.74 155.773 2249.56 154.847 Q2248.4 153.921 2244.44 153.064 L2242.96 152.717 Q2239 151.884 2237.24 150.171 Q2235.48 148.435 2235.48 145.426 Q2235.48 141.768 2238.07 139.778 Q2240.67 137.787 2245.44 137.787 Q2247.8 137.787 2249.88 138.134 Q2251.96 138.481 2253.72 139.176 Z\" fill=\"#000000\" fill-rule=\"nonzero\" fill-opacity=\"1\" /></svg>\n"
      ]
     },
     "metadata": {},
     "output_type": "display_data"
    }
   ],
   "source": [
    "plot(epoch_loss_vec, label = \"Training loss\")"
   ]
  },
  {
   "cell_type": "code",
   "execution_count": 118,
   "metadata": {},
   "outputs": [
    {
     "data": {
      "image/png": "[encoded data removed]",
      "image/svg+xml": [
       "<?xml version=\"1.0\" encoding=\"utf-8\"?>\n",
       "<svg xmlns=\"http://www.w3.org/2000/svg\" xmlns:xlink=\"http://www.w3.org/1999/xlink\" width=\"600\" height=\"400\" viewBox=\"0 0 2400 1600\">\n",
       "<defs>\n",
       "  <clipPath id=\"clip780\">\n",
       "    <rect x=\"0\" y=\"0\" width=\"2400\" height=\"1600\"/>\n",
       "  </clipPath>\n",
       "</defs>\n",
       "<path clip-path=\"url(#clip780)\" d=\"M0 1600 L2400 1600 L2400 0 L0 0  Z\" fill=\"#ffffff\" fill-rule=\"evenodd\" fill-opacity=\"1\"/>\n",
       "<defs>\n",
       "  <clipPath id=\"clip781\">\n",
       "    <rect x=\"480\" y=\"0\" width=\"1681\" height=\"1600\"/>\n",
       "  </clipPath>\n",
       "</defs>\n",
       "<path clip-path=\"url(#clip780)\" d=\"M216.436 1486.45 L2352.76 1486.45 L2352.76 47.2441 L216.436 47.2441  Z\" fill=\"#ffffff\" fill-rule=\"evenodd\" fill-opacity=\"1\"/>\n",
       "<defs>\n",
       "  <clipPath id=\"clip782\">\n",
       "    <rect x=\"216\" y=\"47\" width=\"2137\" height=\"1440\"/>\n",
       "  </clipPath>\n",
       "</defs>\n",
       "<polyline clip-path=\"url(#clip782)\" style=\"stroke:#000000; stroke-linecap:round; stroke-linejoin:round; stroke-width:2; stroke-opacity:0.1; fill:none\" points=\"235.767,1486.45 235.767,47.2441 \"/>\n",
       "<polyline clip-path=\"url(#clip782)\" style=\"stroke:#000000; stroke-linecap:round; stroke-linejoin:round; stroke-width:2; stroke-opacity:0.1; fill:none\" points=\"647.073,1486.45 647.073,47.2441 \"/>\n",
       "<polyline clip-path=\"url(#clip782)\" style=\"stroke:#000000; stroke-linecap:round; stroke-linejoin:round; stroke-width:2; stroke-opacity:0.1; fill:none\" points=\"1058.38,1486.45 1058.38,47.2441 \"/>\n",
       "<polyline clip-path=\"url(#clip782)\" style=\"stroke:#000000; stroke-linecap:round; stroke-linejoin:round; stroke-width:2; stroke-opacity:0.1; fill:none\" points=\"1469.68,1486.45 1469.68,47.2441 \"/>\n",
       "<polyline clip-path=\"url(#clip782)\" style=\"stroke:#000000; stroke-linecap:round; stroke-linejoin:round; stroke-width:2; stroke-opacity:0.1; fill:none\" points=\"1880.99,1486.45 1880.99,47.2441 \"/>\n",
       "<polyline clip-path=\"url(#clip782)\" style=\"stroke:#000000; stroke-linecap:round; stroke-linejoin:round; stroke-width:2; stroke-opacity:0.1; fill:none\" points=\"2292.29,1486.45 2292.29,47.2441 \"/>\n",
       "<polyline clip-path=\"url(#clip780)\" style=\"stroke:#000000; stroke-linecap:round; stroke-linejoin:round; stroke-width:4; stroke-opacity:1; fill:none\" points=\"216.436,1486.45 2352.76,1486.45 \"/>\n",
       "<polyline clip-path=\"url(#clip780)\" style=\"stroke:#000000; stroke-linecap:round; stroke-linejoin:round; stroke-width:4; stroke-opacity:1; fill:none\" points=\"235.767,1486.45 235.767,1467.55 \"/>\n",
       "<polyline clip-path=\"url(#clip780)\" style=\"stroke:#000000; stroke-linecap:round; stroke-linejoin:round; stroke-width:4; stroke-opacity:1; fill:none\" points=\"647.073,1486.45 647.073,1467.55 \"/>\n",
       "<polyline clip-path=\"url(#clip780)\" style=\"stroke:#000000; stroke-linecap:round; stroke-linejoin:round; stroke-width:4; stroke-opacity:1; fill:none\" points=\"1058.38,1486.45 1058.38,1467.55 \"/>\n",
       "<polyline clip-path=\"url(#clip780)\" style=\"stroke:#000000; stroke-linecap:round; stroke-linejoin:round; stroke-width:4; stroke-opacity:1; fill:none\" points=\"1469.68,1486.45 1469.68,1467.55 \"/>\n",
       "<polyline clip-path=\"url(#clip780)\" style=\"stroke:#000000; stroke-linecap:round; stroke-linejoin:round; stroke-width:4; stroke-opacity:1; fill:none\" points=\"1880.99,1486.45 1880.99,1467.55 \"/>\n",
       "<polyline clip-path=\"url(#clip780)\" style=\"stroke:#000000; stroke-linecap:round; stroke-linejoin:round; stroke-width:4; stroke-opacity:1; fill:none\" points=\"2292.29,1486.45 2292.29,1467.55 \"/>\n",
       "<path clip-path=\"url(#clip780)\" d=\"M235.767 1517.37 Q232.156 1517.37 230.327 1520.93 Q228.522 1524.47 228.522 1531.6 Q228.522 1538.71 230.327 1542.27 Q232.156 1545.82 235.767 1545.82 Q239.401 1545.82 241.207 1542.27 Q243.036 1538.71 243.036 1531.6 Q243.036 1524.47 241.207 1520.93 Q239.401 1517.37 235.767 1517.37 M235.767 1513.66 Q241.577 1513.66 244.633 1518.27 Q247.712 1522.85 247.712 1531.6 Q247.712 1540.33 244.633 1544.94 Q241.577 1549.52 235.767 1549.52 Q229.957 1549.52 226.878 1544.94 Q223.823 1540.33 223.823 1531.6 Q223.823 1522.85 226.878 1518.27 Q229.957 1513.66 235.767 1513.66 Z\" fill=\"#000000\" fill-rule=\"nonzero\" fill-opacity=\"1\" /><path clip-path=\"url(#clip780)\" d=\"M621.76 1544.91 L629.399 1544.91 L629.399 1518.55 L621.089 1520.21 L621.089 1515.95 L629.353 1514.29 L634.029 1514.29 L634.029 1544.91 L641.668 1544.91 L641.668 1548.85 L621.76 1548.85 L621.76 1544.91 Z\" fill=\"#000000\" fill-rule=\"nonzero\" fill-opacity=\"1\" /><path clip-path=\"url(#clip780)\" d=\"M661.112 1517.37 Q657.501 1517.37 655.672 1520.93 Q653.867 1524.47 653.867 1531.6 Q653.867 1538.71 655.672 1542.27 Q657.501 1545.82 661.112 1545.82 Q664.746 1545.82 666.552 1542.27 Q668.38 1538.71 668.38 1531.6 Q668.38 1524.47 666.552 1520.93 Q664.746 1517.37 661.112 1517.37 M661.112 1513.66 Q666.922 1513.66 669.978 1518.27 Q673.056 1522.85 673.056 1531.6 Q673.056 1540.33 669.978 1544.94 Q666.922 1549.52 661.112 1549.52 Q655.302 1549.52 652.223 1544.94 Q649.167 1540.33 649.167 1531.6 Q649.167 1522.85 652.223 1518.27 Q655.302 1513.66 661.112 1513.66 Z\" fill=\"#000000\" fill-rule=\"nonzero\" fill-opacity=\"1\" /><path clip-path=\"url(#clip780)\" d=\"M1037.15 1544.91 L1053.47 1544.91 L1053.47 1548.85 L1031.53 1548.85 L1031.53 1544.91 Q1034.19 1542.16 1038.77 1537.53 Q1043.38 1532.88 1044.56 1531.53 Q1046.8 1529.01 1047.68 1527.27 Q1048.59 1525.51 1048.59 1523.82 Q1048.59 1521.07 1046.64 1519.33 Q1044.72 1517.6 1041.62 1517.6 Q1039.42 1517.6 1036.97 1518.36 Q1034.54 1519.13 1031.76 1520.68 L1031.76 1515.95 Q1034.58 1514.82 1037.04 1514.24 Q1039.49 1513.66 1041.53 1513.66 Q1046.9 1513.66 1050.09 1516.35 Q1053.29 1519.03 1053.29 1523.52 Q1053.29 1525.65 1052.48 1527.57 Q1051.69 1529.47 1049.58 1532.07 Q1049 1532.74 1045.9 1535.95 Q1042.8 1539.15 1037.15 1544.91 Z\" fill=\"#000000\" fill-rule=\"nonzero\" fill-opacity=\"1\" /><path clip-path=\"url(#clip780)\" d=\"M1073.29 1517.37 Q1069.67 1517.37 1067.85 1520.93 Q1066.04 1524.47 1066.04 1531.6 Q1066.04 1538.71 1067.85 1542.27 Q1069.67 1545.82 1073.29 1545.82 Q1076.92 1545.82 1078.73 1542.27 Q1080.55 1538.71 1080.55 1531.6 Q1080.55 1524.47 1078.73 1520.93 Q1076.92 1517.37 1073.29 1517.37 M1073.29 1513.66 Q1079.1 1513.66 1082.15 1518.27 Q1085.23 1522.85 1085.23 1531.6 Q1085.23 1540.33 1082.15 1544.94 Q1079.1 1549.52 1073.29 1549.52 Q1067.48 1549.52 1064.4 1544.94 Q1061.34 1540.33 1061.34 1531.6 Q1061.34 1522.85 1064.4 1518.27 Q1067.48 1513.66 1073.29 1513.66 Z\" fill=\"#000000\" fill-rule=\"nonzero\" fill-opacity=\"1\" /><path clip-path=\"url(#clip780)\" d=\"M1458.53 1530.21 Q1461.88 1530.93 1463.76 1533.2 Q1465.66 1535.47 1465.66 1538.8 Q1465.66 1543.92 1462.14 1546.72 Q1458.62 1549.52 1452.14 1549.52 Q1449.96 1549.52 1447.65 1549.08 Q1445.35 1548.66 1442.9 1547.81 L1442.9 1543.29 Q1444.85 1544.43 1447.16 1545.01 Q1449.48 1545.58 1452 1545.58 Q1456.4 1545.58 1458.69 1543.85 Q1461 1542.11 1461 1538.8 Q1461 1535.75 1458.85 1534.03 Q1456.72 1532.3 1452.9 1532.3 L1448.87 1532.3 L1448.87 1528.45 L1453.09 1528.45 Q1456.54 1528.45 1458.36 1527.09 Q1460.19 1525.7 1460.19 1523.11 Q1460.19 1520.45 1458.29 1519.03 Q1456.42 1517.6 1452.9 1517.6 Q1450.98 1517.6 1448.78 1518.01 Q1446.58 1518.43 1443.94 1519.31 L1443.94 1515.14 Q1446.6 1514.4 1448.92 1514.03 Q1451.26 1513.66 1453.32 1513.66 Q1458.64 1513.66 1461.74 1516.09 Q1464.85 1518.5 1464.85 1522.62 Q1464.85 1525.49 1463.2 1527.48 Q1461.56 1529.45 1458.53 1530.21 Z\" fill=\"#000000\" fill-rule=\"nonzero\" fill-opacity=\"1\" /><path clip-path=\"url(#clip780)\" d=\"M1484.52 1517.37 Q1480.91 1517.37 1479.08 1520.93 Q1477.28 1524.47 1477.28 1531.6 Q1477.28 1538.71 1479.08 1542.27 Q1480.91 1545.82 1484.52 1545.82 Q1488.16 1545.82 1489.96 1542.27 Q1491.79 1538.71 1491.79 1531.6 Q1491.79 1524.47 1489.96 1520.93 Q1488.16 1517.37 1484.52 1517.37 M1484.52 1513.66 Q1490.33 1513.66 1493.39 1518.27 Q1496.47 1522.85 1496.47 1531.6 Q1496.47 1540.33 1493.39 1544.94 Q1490.33 1549.52 1484.52 1549.52 Q1478.71 1549.52 1475.63 1544.94 Q1472.58 1540.33 1472.58 1531.6 Q1472.58 1522.85 1475.63 1518.27 Q1478.71 1513.66 1484.52 1513.66 Z\" fill=\"#000000\" fill-rule=\"nonzero\" fill-opacity=\"1\" /><path clip-path=\"url(#clip780)\" d=\"M1869.16 1518.36 L1857.35 1536.81 L1869.16 1536.81 L1869.16 1518.36 M1867.93 1514.29 L1873.81 1514.29 L1873.81 1536.81 L1878.74 1536.81 L1878.74 1540.7 L1873.81 1540.7 L1873.81 1548.85 L1869.16 1548.85 L1869.16 1540.7 L1853.56 1540.7 L1853.56 1536.19 L1867.93 1514.29 Z\" fill=\"#000000\" fill-rule=\"nonzero\" fill-opacity=\"1\" /><path clip-path=\"url(#clip780)\" d=\"M1896.47 1517.37 Q1892.86 1517.37 1891.03 1520.93 Q1889.23 1524.47 1889.23 1531.6 Q1889.23 1538.71 1891.03 1542.27 Q1892.86 1545.82 1896.47 1545.82 Q1900.11 1545.82 1901.91 1542.27 Q1903.74 1538.71 1903.74 1531.6 Q1903.74 1524.47 1901.91 1520.93 Q1900.11 1517.37 1896.47 1517.37 M1896.47 1513.66 Q1902.28 1513.66 1905.34 1518.27 Q1908.42 1522.85 1908.42 1531.6 Q1908.42 1540.33 1905.34 1544.94 Q1902.28 1549.52 1896.47 1549.52 Q1890.66 1549.52 1887.59 1544.94 Q1884.53 1540.33 1884.53 1531.6 Q1884.53 1522.85 1887.59 1518.27 Q1890.66 1513.66 1896.47 1513.66 Z\" fill=\"#000000\" fill-rule=\"nonzero\" fill-opacity=\"1\" /><path clip-path=\"url(#clip780)\" d=\"M2266.99 1514.29 L2285.35 1514.29 L2285.35 1518.22 L2271.28 1518.22 L2271.28 1526.7 Q2272.29 1526.35 2273.31 1526.19 Q2274.33 1526 2275.35 1526 Q2281.14 1526 2284.52 1529.17 Q2287.9 1532.34 2287.9 1537.76 Q2287.9 1543.34 2284.42 1546.44 Q2280.95 1549.52 2274.63 1549.52 Q2272.46 1549.52 2270.19 1549.15 Q2267.94 1548.78 2265.53 1548.04 L2265.53 1543.34 Q2267.62 1544.47 2269.84 1545.03 Q2272.06 1545.58 2274.54 1545.58 Q2278.54 1545.58 2280.88 1543.48 Q2283.22 1541.37 2283.22 1537.76 Q2283.22 1534.15 2280.88 1532.04 Q2278.54 1529.94 2274.54 1529.94 Q2272.66 1529.94 2270.79 1530.35 Q2268.94 1530.77 2266.99 1531.65 L2266.99 1514.29 Z\" fill=\"#000000\" fill-rule=\"nonzero\" fill-opacity=\"1\" /><path clip-path=\"url(#clip780)\" d=\"M2307.11 1517.37 Q2303.5 1517.37 2301.67 1520.93 Q2299.86 1524.47 2299.86 1531.6 Q2299.86 1538.71 2301.67 1542.27 Q2303.5 1545.82 2307.11 1545.82 Q2310.74 1545.82 2312.55 1542.27 Q2314.38 1538.71 2314.38 1531.6 Q2314.38 1524.47 2312.55 1520.93 Q2310.74 1517.37 2307.11 1517.37 M2307.11 1513.66 Q2312.92 1513.66 2315.97 1518.27 Q2319.05 1522.85 2319.05 1531.6 Q2319.05 1540.33 2315.97 1544.94 Q2312.92 1549.52 2307.11 1549.52 Q2301.3 1549.52 2298.22 1544.94 Q2295.16 1540.33 2295.16 1531.6 Q2295.16 1522.85 2298.22 1518.27 Q2301.3 1513.66 2307.11 1513.66 Z\" fill=\"#000000\" fill-rule=\"nonzero\" fill-opacity=\"1\" /><polyline clip-path=\"url(#clip782)\" style=\"stroke:#000000; stroke-linecap:round; stroke-linejoin:round; stroke-width:2; stroke-opacity:0.1; fill:none\" points=\"216.436,1486.45 2352.76,1486.45 \"/>\n",
       "<polyline clip-path=\"url(#clip782)\" style=\"stroke:#000000; stroke-linecap:round; stroke-linejoin:round; stroke-width:2; stroke-opacity:0.1; fill:none\" points=\"216.436,1126.65 2352.76,1126.65 \"/>\n",
       "<polyline clip-path=\"url(#clip782)\" style=\"stroke:#000000; stroke-linecap:round; stroke-linejoin:round; stroke-width:2; stroke-opacity:0.1; fill:none\" points=\"216.436,766.846 2352.76,766.846 \"/>\n",
       "<polyline clip-path=\"url(#clip782)\" style=\"stroke:#000000; stroke-linecap:round; stroke-linejoin:round; stroke-width:2; stroke-opacity:0.1; fill:none\" points=\"216.436,407.045 2352.76,407.045 \"/>\n",
       "<polyline clip-path=\"url(#clip782)\" style=\"stroke:#000000; stroke-linecap:round; stroke-linejoin:round; stroke-width:2; stroke-opacity:0.1; fill:none\" points=\"216.436,47.2441 2352.76,47.2441 \"/>\n",
       "<polyline clip-path=\"url(#clip780)\" style=\"stroke:#000000; stroke-linecap:round; stroke-linejoin:round; stroke-width:4; stroke-opacity:1; fill:none\" points=\"216.436,1486.45 216.436,47.2441 \"/>\n",
       "<polyline clip-path=\"url(#clip780)\" style=\"stroke:#000000; stroke-linecap:round; stroke-linejoin:round; stroke-width:4; stroke-opacity:1; fill:none\" points=\"216.436,1486.45 235.334,1486.45 \"/>\n",
       "<polyline clip-path=\"url(#clip780)\" style=\"stroke:#000000; stroke-linecap:round; stroke-linejoin:round; stroke-width:4; stroke-opacity:1; fill:none\" points=\"216.436,1126.65 235.334,1126.65 \"/>\n",
       "<polyline clip-path=\"url(#clip780)\" style=\"stroke:#000000; stroke-linecap:round; stroke-linejoin:round; stroke-width:4; stroke-opacity:1; fill:none\" points=\"216.436,766.846 235.334,766.846 \"/>\n",
       "<polyline clip-path=\"url(#clip780)\" style=\"stroke:#000000; stroke-linecap:round; stroke-linejoin:round; stroke-width:4; stroke-opacity:1; fill:none\" points=\"216.436,407.045 235.334,407.045 \"/>\n",
       "<polyline clip-path=\"url(#clip780)\" style=\"stroke:#000000; stroke-linecap:round; stroke-linejoin:round; stroke-width:4; stroke-opacity:1; fill:none\" points=\"216.436,47.2441 235.334,47.2441 \"/>\n",
       "<path clip-path=\"url(#clip780)\" d=\"M62.9365 1472.25 Q59.3254 1472.25 57.4967 1475.81 Q55.6912 1479.35 55.6912 1486.48 Q55.6912 1493.59 57.4967 1497.15 Q59.3254 1500.7 62.9365 1500.7 Q66.5707 1500.7 68.3763 1497.15 Q70.205 1493.59 70.205 1486.48 Q70.205 1479.35 68.3763 1475.81 Q66.5707 1472.25 62.9365 1472.25 M62.9365 1468.54 Q68.7467 1468.54 71.8022 1473.15 Q74.8809 1477.73 74.8809 1486.48 Q74.8809 1495.21 71.8022 1499.82 Q68.7467 1504.4 62.9365 1504.4 Q57.1264 1504.4 54.0477 1499.82 Q50.9921 1495.21 50.9921 1486.48 Q50.9921 1477.73 54.0477 1473.15 Q57.1264 1468.54 62.9365 1468.54 Z\" fill=\"#000000\" fill-rule=\"nonzero\" fill-opacity=\"1\" /><path clip-path=\"url(#clip780)\" d=\"M83.0984 1497.85 L87.9827 1497.85 L87.9827 1503.73 L83.0984 1503.73 L83.0984 1497.85 Z\" fill=\"#000000\" fill-rule=\"nonzero\" fill-opacity=\"1\" /><path clip-path=\"url(#clip780)\" d=\"M108.168 1472.25 Q104.557 1472.25 102.728 1475.81 Q100.922 1479.35 100.922 1486.48 Q100.922 1493.59 102.728 1497.15 Q104.557 1500.7 108.168 1500.7 Q111.802 1500.7 113.608 1497.15 Q115.436 1493.59 115.436 1486.48 Q115.436 1479.35 113.608 1475.81 Q111.802 1472.25 108.168 1472.25 M108.168 1468.54 Q113.978 1468.54 117.033 1473.15 Q120.112 1477.73 120.112 1486.48 Q120.112 1495.21 117.033 1499.82 Q113.978 1504.4 108.168 1504.4 Q102.358 1504.4 99.2789 1499.82 Q96.2234 1495.21 96.2234 1486.48 Q96.2234 1477.73 99.2789 1473.15 Q102.358 1468.54 108.168 1468.54 Z\" fill=\"#000000\" fill-rule=\"nonzero\" fill-opacity=\"1\" /><path clip-path=\"url(#clip780)\" d=\"M138.33 1472.25 Q134.719 1472.25 132.89 1475.81 Q131.084 1479.35 131.084 1486.48 Q131.084 1493.59 132.89 1497.15 Q134.719 1500.7 138.33 1500.7 Q141.964 1500.7 143.769 1497.15 Q145.598 1493.59 145.598 1486.48 Q145.598 1479.35 143.769 1475.81 Q141.964 1472.25 138.33 1472.25 M138.33 1468.54 Q144.14 1468.54 147.195 1473.15 Q150.274 1477.73 150.274 1486.48 Q150.274 1495.21 147.195 1499.82 Q144.14 1504.4 138.33 1504.4 Q132.519 1504.4 129.441 1499.82 Q126.385 1495.21 126.385 1486.48 Q126.385 1477.73 129.441 1473.15 Q132.519 1468.54 138.33 1468.54 Z\" fill=\"#000000\" fill-rule=\"nonzero\" fill-opacity=\"1\" /><path clip-path=\"url(#clip780)\" d=\"M168.491 1472.25 Q164.88 1472.25 163.052 1475.81 Q161.246 1479.35 161.246 1486.48 Q161.246 1493.59 163.052 1497.15 Q164.88 1500.7 168.491 1500.7 Q172.126 1500.7 173.931 1497.15 Q175.76 1493.59 175.76 1486.48 Q175.76 1479.35 173.931 1475.81 Q172.126 1472.25 168.491 1472.25 M168.491 1468.54 Q174.302 1468.54 177.357 1473.15 Q180.436 1477.73 180.436 1486.48 Q180.436 1495.21 177.357 1499.82 Q174.302 1504.4 168.491 1504.4 Q162.681 1504.4 159.603 1499.82 Q156.547 1495.21 156.547 1486.48 Q156.547 1477.73 159.603 1473.15 Q162.681 1468.54 168.491 1468.54 Z\" fill=\"#000000\" fill-rule=\"nonzero\" fill-opacity=\"1\" /><path clip-path=\"url(#clip780)\" d=\"M63.9319 1112.45 Q60.3208 1112.45 58.4921 1116.01 Q56.6865 1119.55 56.6865 1126.68 Q56.6865 1133.79 58.4921 1137.35 Q60.3208 1140.89 63.9319 1140.89 Q67.5661 1140.89 69.3717 1137.35 Q71.2004 1133.79 71.2004 1126.68 Q71.2004 1119.55 69.3717 1116.01 Q67.5661 1112.45 63.9319 1112.45 M63.9319 1108.74 Q69.742 1108.74 72.7976 1113.35 Q75.8763 1117.93 75.8763 1126.68 Q75.8763 1135.41 72.7976 1140.01 Q69.742 1144.6 63.9319 1144.6 Q58.1217 1144.6 55.043 1140.01 Q51.9875 1135.41 51.9875 1126.68 Q51.9875 1117.93 55.043 1113.35 Q58.1217 1108.74 63.9319 1108.74 Z\" fill=\"#000000\" fill-rule=\"nonzero\" fill-opacity=\"1\" /><path clip-path=\"url(#clip780)\" d=\"M84.0938 1138.05 L88.978 1138.05 L88.978 1143.93 L84.0938 1143.93 L84.0938 1138.05 Z\" fill=\"#000000\" fill-rule=\"nonzero\" fill-opacity=\"1\" /><path clip-path=\"url(#clip780)\" d=\"M109.163 1112.45 Q105.552 1112.45 103.723 1116.01 Q101.918 1119.55 101.918 1126.68 Q101.918 1133.79 103.723 1137.35 Q105.552 1140.89 109.163 1140.89 Q112.797 1140.89 114.603 1137.35 Q116.432 1133.79 116.432 1126.68 Q116.432 1119.55 114.603 1116.01 Q112.797 1112.45 109.163 1112.45 M109.163 1108.74 Q114.973 1108.74 118.029 1113.35 Q121.107 1117.93 121.107 1126.68 Q121.107 1135.41 118.029 1140.01 Q114.973 1144.6 109.163 1144.6 Q103.353 1144.6 100.274 1140.01 Q97.2187 1135.41 97.2187 1126.68 Q97.2187 1117.93 100.274 1113.35 Q103.353 1108.74 109.163 1108.74 Z\" fill=\"#000000\" fill-rule=\"nonzero\" fill-opacity=\"1\" /><path clip-path=\"url(#clip780)\" d=\"M139.325 1112.45 Q135.714 1112.45 133.885 1116.01 Q132.08 1119.55 132.08 1126.68 Q132.08 1133.79 133.885 1137.35 Q135.714 1140.89 139.325 1140.89 Q142.959 1140.89 144.765 1137.35 Q146.593 1133.79 146.593 1126.68 Q146.593 1119.55 144.765 1116.01 Q142.959 1112.45 139.325 1112.45 M139.325 1108.74 Q145.135 1108.74 148.191 1113.35 Q151.269 1117.93 151.269 1126.68 Q151.269 1135.41 148.191 1140.01 Q145.135 1144.6 139.325 1144.6 Q133.515 1144.6 130.436 1140.01 Q127.381 1135.41 127.381 1126.68 Q127.381 1117.93 130.436 1113.35 Q133.515 1108.74 139.325 1108.74 Z\" fill=\"#000000\" fill-rule=\"nonzero\" fill-opacity=\"1\" /><path clip-path=\"url(#clip780)\" d=\"M159.533 1109.37 L177.89 1109.37 L177.89 1113.3 L163.816 1113.3 L163.816 1121.77 Q164.834 1121.43 165.853 1121.27 Q166.871 1121.08 167.89 1121.08 Q173.677 1121.08 177.056 1124.25 Q180.436 1127.42 180.436 1132.84 Q180.436 1138.42 176.964 1141.52 Q173.491 1144.6 167.172 1144.6 Q164.996 1144.6 162.728 1144.23 Q160.482 1143.86 158.075 1143.12 L158.075 1138.42 Q160.158 1139.55 162.38 1140.11 Q164.603 1140.66 167.079 1140.66 Q171.084 1140.66 173.422 1138.56 Q175.76 1136.45 175.76 1132.84 Q175.76 1129.23 173.422 1127.12 Q171.084 1125.01 167.079 1125.01 Q165.204 1125.01 163.329 1125.43 Q161.478 1125.85 159.533 1126.73 L159.533 1109.37 Z\" fill=\"#000000\" fill-rule=\"nonzero\" fill-opacity=\"1\" /><path clip-path=\"url(#clip780)\" d=\"M62.9365 752.645 Q59.3254 752.645 57.4967 756.209 Q55.6912 759.751 55.6912 766.881 Q55.6912 773.987 57.4967 777.552 Q59.3254 781.094 62.9365 781.094 Q66.5707 781.094 68.3763 777.552 Q70.205 773.987 70.205 766.881 Q70.205 759.751 68.3763 756.209 Q66.5707 752.645 62.9365 752.645 M62.9365 748.941 Q68.7467 748.941 71.8022 753.547 Q74.8809 758.131 74.8809 766.881 Q74.8809 775.608 71.8022 780.214 Q68.7467 784.797 62.9365 784.797 Q57.1264 784.797 54.0477 780.214 Q50.9921 775.608 50.9921 766.881 Q50.9921 758.131 54.0477 753.547 Q57.1264 748.941 62.9365 748.941 Z\" fill=\"#000000\" fill-rule=\"nonzero\" fill-opacity=\"1\" /><path clip-path=\"url(#clip780)\" d=\"M83.0984 778.246 L87.9827 778.246 L87.9827 784.126 L83.0984 784.126 L83.0984 778.246 Z\" fill=\"#000000\" fill-rule=\"nonzero\" fill-opacity=\"1\" /><path clip-path=\"url(#clip780)\" d=\"M108.168 752.645 Q104.557 752.645 102.728 756.209 Q100.922 759.751 100.922 766.881 Q100.922 773.987 102.728 777.552 Q104.557 781.094 108.168 781.094 Q111.802 781.094 113.608 777.552 Q115.436 773.987 115.436 766.881 Q115.436 759.751 113.608 756.209 Q111.802 752.645 108.168 752.645 M108.168 748.941 Q113.978 748.941 117.033 753.547 Q120.112 758.131 120.112 766.881 Q120.112 775.608 117.033 780.214 Q113.978 784.797 108.168 784.797 Q102.358 784.797 99.2789 780.214 Q96.2234 775.608 96.2234 766.881 Q96.2234 758.131 99.2789 753.547 Q102.358 748.941 108.168 748.941 Z\" fill=\"#000000\" fill-rule=\"nonzero\" fill-opacity=\"1\" /><path clip-path=\"url(#clip780)\" d=\"M129.14 780.191 L136.779 780.191 L136.779 753.825 L128.469 755.492 L128.469 751.233 L136.732 749.566 L141.408 749.566 L141.408 780.191 L149.047 780.191 L149.047 784.126 L129.14 784.126 L129.14 780.191 Z\" fill=\"#000000\" fill-rule=\"nonzero\" fill-opacity=\"1\" /><path clip-path=\"url(#clip780)\" d=\"M168.491 752.645 Q164.88 752.645 163.052 756.209 Q161.246 759.751 161.246 766.881 Q161.246 773.987 163.052 777.552 Q164.88 781.094 168.491 781.094 Q172.126 781.094 173.931 777.552 Q175.76 773.987 175.76 766.881 Q175.76 759.751 173.931 756.209 Q172.126 752.645 168.491 752.645 M168.491 748.941 Q174.302 748.941 177.357 753.547 Q180.436 758.131 180.436 766.881 Q180.436 775.608 177.357 780.214 Q174.302 784.797 168.491 784.797 Q162.681 784.797 159.603 780.214 Q156.547 775.608 156.547 766.881 Q156.547 758.131 159.603 753.547 Q162.681 748.941 168.491 748.941 Z\" fill=\"#000000\" fill-rule=\"nonzero\" fill-opacity=\"1\" /><path clip-path=\"url(#clip780)\" d=\"M63.9319 392.844 Q60.3208 392.844 58.4921 396.409 Q56.6865 399.95 56.6865 407.08 Q56.6865 414.186 58.4921 417.751 Q60.3208 421.293 63.9319 421.293 Q67.5661 421.293 69.3717 417.751 Q71.2004 414.186 71.2004 407.08 Q71.2004 399.95 69.3717 396.409 Q67.5661 392.844 63.9319 392.844 M63.9319 389.14 Q69.742 389.14 72.7976 393.746 Q75.8763 398.33 75.8763 407.08 Q75.8763 415.807 72.7976 420.413 Q69.742 424.996 63.9319 424.996 Q58.1217 424.996 55.043 420.413 Q51.9875 415.807 51.9875 407.08 Q51.9875 398.33 55.043 393.746 Q58.1217 389.14 63.9319 389.14 Z\" fill=\"#000000\" fill-rule=\"nonzero\" fill-opacity=\"1\" /><path clip-path=\"url(#clip780)\" d=\"M84.0938 418.445 L88.978 418.445 L88.978 424.325 L84.0938 424.325 L84.0938 418.445 Z\" fill=\"#000000\" fill-rule=\"nonzero\" fill-opacity=\"1\" /><path clip-path=\"url(#clip780)\" d=\"M109.163 392.844 Q105.552 392.844 103.723 396.409 Q101.918 399.95 101.918 407.08 Q101.918 414.186 103.723 417.751 Q105.552 421.293 109.163 421.293 Q112.797 421.293 114.603 417.751 Q116.432 414.186 116.432 407.08 Q116.432 399.95 114.603 396.409 Q112.797 392.844 109.163 392.844 M109.163 389.14 Q114.973 389.14 118.029 393.746 Q121.107 398.33 121.107 407.08 Q121.107 415.807 118.029 420.413 Q114.973 424.996 109.163 424.996 Q103.353 424.996 100.274 420.413 Q97.2187 415.807 97.2187 407.08 Q97.2187 398.33 100.274 393.746 Q103.353 389.14 109.163 389.14 Z\" fill=\"#000000\" fill-rule=\"nonzero\" fill-opacity=\"1\" /><path clip-path=\"url(#clip780)\" d=\"M130.135 420.39 L137.774 420.39 L137.774 394.024 L129.464 395.691 L129.464 391.432 L137.728 389.765 L142.404 389.765 L142.404 420.39 L150.043 420.39 L150.043 424.325 L130.135 424.325 L130.135 420.39 Z\" fill=\"#000000\" fill-rule=\"nonzero\" fill-opacity=\"1\" /><path clip-path=\"url(#clip780)\" d=\"M159.533 389.765 L177.89 389.765 L177.89 393.7 L163.816 393.7 L163.816 402.172 Q164.834 401.825 165.853 401.663 Q166.871 401.478 167.89 401.478 Q173.677 401.478 177.056 404.649 Q180.436 407.82 180.436 413.237 Q180.436 418.816 176.964 421.918 Q173.491 424.996 167.172 424.996 Q164.996 424.996 162.728 424.626 Q160.482 424.256 158.075 423.515 L158.075 418.816 Q160.158 419.95 162.38 420.506 Q164.603 421.061 167.079 421.061 Q171.084 421.061 173.422 418.955 Q175.76 416.848 175.76 413.237 Q175.76 409.626 173.422 407.52 Q171.084 405.413 167.079 405.413 Q165.204 405.413 163.329 405.83 Q161.478 406.246 159.533 407.126 L159.533 389.765 Z\" fill=\"#000000\" fill-rule=\"nonzero\" fill-opacity=\"1\" /><path clip-path=\"url(#clip780)\" d=\"M62.9365 33.0428 Q59.3254 33.0428 57.4967 36.6076 Q55.6912 40.1492 55.6912 47.2788 Q55.6912 54.3853 57.4967 57.9501 Q59.3254 61.4917 62.9365 61.4917 Q66.5707 61.4917 68.3763 57.9501 Q70.205 54.3853 70.205 47.2788 Q70.205 40.1492 68.3763 36.6076 Q66.5707 33.0428 62.9365 33.0428 M62.9365 29.3391 Q68.7467 29.3391 71.8022 33.9456 Q74.8809 38.5289 74.8809 47.2788 Q74.8809 56.0056 71.8022 60.6121 Q68.7467 65.1954 62.9365 65.1954 Q57.1264 65.1954 54.0477 60.6121 Q50.9921 56.0056 50.9921 47.2788 Q50.9921 38.5289 54.0477 33.9456 Q57.1264 29.3391 62.9365 29.3391 Z\" fill=\"#000000\" fill-rule=\"nonzero\" fill-opacity=\"1\" /><path clip-path=\"url(#clip780)\" d=\"M83.0984 58.6445 L87.9827 58.6445 L87.9827 64.5241 L83.0984 64.5241 L83.0984 58.6445 Z\" fill=\"#000000\" fill-rule=\"nonzero\" fill-opacity=\"1\" /><path clip-path=\"url(#clip780)\" d=\"M108.168 33.0428 Q104.557 33.0428 102.728 36.6076 Q100.922 40.1492 100.922 47.2788 Q100.922 54.3853 102.728 57.9501 Q104.557 61.4917 108.168 61.4917 Q111.802 61.4917 113.608 57.9501 Q115.436 54.3853 115.436 47.2788 Q115.436 40.1492 113.608 36.6076 Q111.802 33.0428 108.168 33.0428 M108.168 29.3391 Q113.978 29.3391 117.033 33.9456 Q120.112 38.5289 120.112 47.2788 Q120.112 56.0056 117.033 60.6121 Q113.978 65.1954 108.168 65.1954 Q102.358 65.1954 99.2789 60.6121 Q96.2234 56.0056 96.2234 47.2788 Q96.2234 38.5289 99.2789 33.9456 Q102.358 29.3391 108.168 29.3391 Z\" fill=\"#000000\" fill-rule=\"nonzero\" fill-opacity=\"1\" /><path clip-path=\"url(#clip780)\" d=\"M132.357 60.5889 L148.677 60.5889 L148.677 64.5241 L126.732 64.5241 L126.732 60.5889 Q129.394 57.8343 133.978 53.2047 Q138.584 48.552 139.765 47.2094 Q142.01 44.6862 142.89 42.9501 Q143.793 41.1909 143.793 39.5011 Q143.793 36.7465 141.848 35.0104 Q139.927 33.2743 136.825 33.2743 Q134.626 33.2743 132.172 34.0381 Q129.742 34.802 126.964 36.3529 L126.964 31.6308 Q129.788 30.4965 132.242 29.9178 Q134.695 29.3391 136.732 29.3391 Q142.103 29.3391 145.297 32.0243 Q148.492 34.7094 148.492 39.2002 Q148.492 41.3298 147.681 43.2511 Q146.894 45.1492 144.788 47.7418 Q144.209 48.4131 141.107 51.6306 Q138.006 54.8251 132.357 60.5889 Z\" fill=\"#000000\" fill-rule=\"nonzero\" fill-opacity=\"1\" /><path clip-path=\"url(#clip780)\" d=\"M168.491 33.0428 Q164.88 33.0428 163.052 36.6076 Q161.246 40.1492 161.246 47.2788 Q161.246 54.3853 163.052 57.9501 Q164.88 61.4917 168.491 61.4917 Q172.126 61.4917 173.931 57.9501 Q175.76 54.3853 175.76 47.2788 Q175.76 40.1492 173.931 36.6076 Q172.126 33.0428 168.491 33.0428 M168.491 29.3391 Q174.302 29.3391 177.357 33.9456 Q180.436 38.5289 180.436 47.2788 Q180.436 56.0056 177.357 60.6121 Q174.302 65.1954 168.491 65.1954 Q162.681 65.1954 159.603 60.6121 Q156.547 56.0056 156.547 47.2788 Q156.547 38.5289 159.603 33.9456 Q162.681 29.3391 168.491 29.3391 Z\" fill=\"#000000\" fill-rule=\"nonzero\" fill-opacity=\"1\" /><polyline clip-path=\"url(#clip782)\" style=\"stroke:#009af9; stroke-linecap:round; stroke-linejoin:round; stroke-width:4; stroke-opacity:1; fill:none\" points=\"276.898,-140975 318.028,-29970.9 359.159,-26908.8 400.289,-26270.6 441.42,-25393.3 482.55,-24488.8 523.681,-23490.3 564.812,-22068.5 605.942,-20648.6 647.073,-19342.6 688.203,-16841.3 729.334,-24636.2 770.464,-18733.3 811.595,-18875.9 852.725,-18834.4 893.856,-18645.6 934.986,-18410.6 976.117,-17087.7 1017.25,-17383.2 1058.38,-16337.5 1099.51,-15230.4 1140.64,-14963 1181.77,-14266.8 1222.9,-9586.89 1264.03,-7881.95 1305.16,-7124.65 1346.29,-6763.91 1387.42,-6315.95 1428.55,-6016.5 1469.68,-5866.08 1510.81,-5454.96 1551.94,-5266.15 1593.07,-4912.41 1634.21,-4627.64 1675.34,-4506.45 1716.47,-4468.14 1757.6,-4305.92 1798.73,-4187.88 1839.86,-4106.75 1880.99,-4148.37 1922.12,-4007.81 1963.25,-4016.21 2004.38,-4115.32 2045.51,-3949.81 2086.64,-3910.85 2127.77,-3917.36 2168.9,-3878.82 2210.03,-3832.26 2251.16,-3893.93 2292.29,-3876.97 \"/>\n",
       "<path clip-path=\"url(#clip780)\" d=\"M1776.39 198.898 L2281.55 198.898 L2281.55 95.2176 L1776.39 95.2176  Z\" fill=\"#ffffff\" fill-rule=\"evenodd\" fill-opacity=\"1\"/>\n",
       "<polyline clip-path=\"url(#clip780)\" style=\"stroke:#000000; stroke-linecap:round; stroke-linejoin:round; stroke-width:4; stroke-opacity:1; fill:none\" points=\"1776.39,198.898 2281.55,198.898 2281.55,95.2176 1776.39,95.2176 1776.39,198.898 \"/>\n",
       "<polyline clip-path=\"url(#clip780)\" style=\"stroke:#009af9; stroke-linecap:round; stroke-linejoin:round; stroke-width:4; stroke-opacity:1; fill:none\" points=\"1800.12,147.058 1942.55,147.058 \"/>\n",
       "<path clip-path=\"url(#clip780)\" d=\"M1966.28 129.778 L1995.52 129.778 L1995.52 133.713 L1983.25 133.713 L1983.25 164.338 L1978.55 164.338 L1978.55 133.713 L1966.28 133.713 L1966.28 129.778 Z\" fill=\"#000000\" fill-rule=\"nonzero\" fill-opacity=\"1\" /><path clip-path=\"url(#clip780)\" d=\"M2007.9 142.393 Q2007.18 141.977 2006.33 141.791 Q2005.49 141.583 2004.48 141.583 Q2000.87 141.583 1998.92 143.944 Q1997 146.282 1997 150.68 L1997 164.338 L1992.72 164.338 L1992.72 138.412 L1997 138.412 L1997 142.44 Q1998.34 140.078 2000.49 138.944 Q2002.65 137.787 2005.73 137.787 Q2006.17 137.787 2006.7 137.856 Q2007.23 137.903 2007.88 138.018 L2007.9 142.393 Z\" fill=\"#000000\" fill-rule=\"nonzero\" fill-opacity=\"1\" /><path clip-path=\"url(#clip780)\" d=\"M2024.15 151.305 Q2018.99 151.305 2017 152.486 Q2015.01 153.666 2015.01 156.514 Q2015.01 158.782 2016.49 160.125 Q2017.99 161.444 2020.56 161.444 Q2024.11 161.444 2026.24 158.944 Q2028.39 156.421 2028.39 152.254 L2028.39 151.305 L2024.15 151.305 M2032.65 149.546 L2032.65 164.338 L2028.39 164.338 L2028.39 160.402 Q2026.93 162.763 2024.75 163.898 Q2022.58 165.009 2019.43 165.009 Q2015.45 165.009 2013.09 162.787 Q2010.75 160.541 2010.75 156.791 Q2010.75 152.416 2013.67 150.194 Q2016.61 147.972 2022.42 147.972 L2028.39 147.972 L2028.39 147.555 Q2028.39 144.615 2026.44 143.018 Q2024.52 141.398 2021.03 141.398 Q2018.8 141.398 2016.7 141.93 Q2014.59 142.463 2012.65 143.527 L2012.65 139.592 Q2014.99 138.69 2017.18 138.25 Q2019.38 137.787 2021.47 137.787 Q2027.09 137.787 2029.87 140.703 Q2032.65 143.62 2032.65 149.546 Z\" fill=\"#000000\" fill-rule=\"nonzero\" fill-opacity=\"1\" /><path clip-path=\"url(#clip780)\" d=\"M2041.42 138.412 L2045.68 138.412 L2045.68 164.338 L2041.42 164.338 L2041.42 138.412 M2041.42 128.319 L2045.68 128.319 L2045.68 133.713 L2041.42 133.713 L2041.42 128.319 Z\" fill=\"#000000\" fill-rule=\"nonzero\" fill-opacity=\"1\" /><path clip-path=\"url(#clip780)\" d=\"M2076.14 148.689 L2076.14 164.338 L2071.88 164.338 L2071.88 148.828 Q2071.88 145.148 2070.45 143.319 Q2069.01 141.49 2066.14 141.49 Q2062.69 141.49 2060.7 143.69 Q2058.71 145.889 2058.71 149.685 L2058.71 164.338 L2054.43 164.338 L2054.43 138.412 L2058.71 138.412 L2058.71 142.44 Q2060.24 140.102 2062.3 138.944 Q2064.38 137.787 2067.09 137.787 Q2071.56 137.787 2073.85 140.565 Q2076.14 143.319 2076.14 148.689 Z\" fill=\"#000000\" fill-rule=\"nonzero\" fill-opacity=\"1\" /><path clip-path=\"url(#clip780)\" d=\"M2084.64 138.412 L2088.9 138.412 L2088.9 164.338 L2084.64 164.338 L2084.64 138.412 M2084.64 128.319 L2088.9 128.319 L2088.9 133.713 L2084.64 133.713 L2084.64 128.319 Z\" fill=\"#000000\" fill-rule=\"nonzero\" fill-opacity=\"1\" /><path clip-path=\"url(#clip780)\" d=\"M2119.36 148.689 L2119.36 164.338 L2115.1 164.338 L2115.1 148.828 Q2115.1 145.148 2113.67 143.319 Q2112.23 141.49 2109.36 141.49 Q2105.91 141.49 2103.92 143.69 Q2101.93 145.889 2101.93 149.685 L2101.93 164.338 L2097.65 164.338 L2097.65 138.412 L2101.93 138.412 L2101.93 142.44 Q2103.46 140.102 2105.52 138.944 Q2107.6 137.787 2110.31 137.787 Q2114.78 137.787 2117.07 140.565 Q2119.36 143.319 2119.36 148.689 Z\" fill=\"#000000\" fill-rule=\"nonzero\" fill-opacity=\"1\" /><path clip-path=\"url(#clip780)\" d=\"M2144.92 151.074 Q2144.92 146.444 2142.99 143.898 Q2141.1 141.352 2137.65 141.352 Q2134.22 141.352 2132.3 143.898 Q2130.4 146.444 2130.4 151.074 Q2130.4 155.68 2132.3 158.226 Q2134.22 160.773 2137.65 160.773 Q2141.1 160.773 2142.99 158.226 Q2144.92 155.68 2144.92 151.074 M2149.17 161.12 Q2149.17 167.74 2146.23 170.958 Q2143.3 174.199 2137.23 174.199 Q2134.98 174.199 2132.99 173.851 Q2131 173.527 2129.13 172.833 L2129.13 168.689 Q2131 169.708 2132.83 170.194 Q2134.66 170.68 2136.56 170.68 Q2140.75 170.68 2142.83 168.481 Q2144.92 166.305 2144.92 161.884 L2144.92 159.777 Q2143.6 162.069 2141.54 163.203 Q2139.48 164.338 2136.61 164.338 Q2131.84 164.338 2128.92 160.703 Q2126 157.069 2126 151.074 Q2126 145.055 2128.92 141.421 Q2131.84 137.787 2136.61 137.787 Q2139.48 137.787 2141.54 138.921 Q2143.6 140.055 2144.92 142.347 L2144.92 138.412 L2149.17 138.412 L2149.17 161.12 Z\" fill=\"#000000\" fill-rule=\"nonzero\" fill-opacity=\"1\" /><path clip-path=\"url(#clip780)\" d=\"M2173.02 128.319 L2177.28 128.319 L2177.28 164.338 L2173.02 164.338 L2173.02 128.319 Z\" fill=\"#000000\" fill-rule=\"nonzero\" fill-opacity=\"1\" /><path clip-path=\"url(#clip780)\" d=\"M2196.23 141.398 Q2192.81 141.398 2190.82 144.083 Q2188.83 146.745 2188.83 151.398 Q2188.83 156.051 2190.79 158.736 Q2192.79 161.398 2196.23 161.398 Q2199.64 161.398 2201.63 158.713 Q2203.62 156.027 2203.62 151.398 Q2203.62 146.791 2201.63 144.106 Q2199.64 141.398 2196.23 141.398 M2196.23 137.787 Q2201.79 137.787 2204.96 141.398 Q2208.13 145.009 2208.13 151.398 Q2208.13 157.764 2204.96 161.398 Q2201.79 165.009 2196.23 165.009 Q2190.66 165.009 2187.48 161.398 Q2184.34 157.764 2184.34 151.398 Q2184.34 145.009 2187.48 141.398 Q2190.66 137.787 2196.23 137.787 Z\" fill=\"#000000\" fill-rule=\"nonzero\" fill-opacity=\"1\" /><path clip-path=\"url(#clip780)\" d=\"M2231.72 139.176 L2231.72 143.203 Q2229.91 142.277 2227.97 141.815 Q2226.03 141.352 2223.94 141.352 Q2220.77 141.352 2219.17 142.324 Q2217.6 143.296 2217.6 145.24 Q2217.6 146.722 2218.73 147.578 Q2219.87 148.412 2223.29 149.176 L2224.75 149.5 Q2229.29 150.472 2231.19 152.254 Q2233.11 154.014 2233.11 157.185 Q2233.11 160.796 2230.24 162.902 Q2227.39 165.009 2222.39 165.009 Q2220.31 165.009 2218.04 164.592 Q2215.79 164.199 2213.29 163.388 L2213.29 158.99 Q2215.66 160.217 2217.95 160.842 Q2220.24 161.444 2222.48 161.444 Q2225.49 161.444 2227.11 160.426 Q2228.73 159.384 2228.73 157.509 Q2228.73 155.773 2227.55 154.847 Q2226.4 153.921 2222.44 153.064 L2220.96 152.717 Q2217 151.884 2215.24 150.171 Q2213.48 148.435 2213.48 145.426 Q2213.48 141.768 2216.07 139.778 Q2218.67 137.787 2223.43 137.787 Q2225.79 137.787 2227.88 138.134 Q2229.96 138.481 2231.72 139.176 Z\" fill=\"#000000\" fill-rule=\"nonzero\" fill-opacity=\"1\" /><path clip-path=\"url(#clip780)\" d=\"M2256.42 139.176 L2256.42 143.203 Q2254.61 142.277 2252.67 141.815 Q2250.73 141.352 2248.64 141.352 Q2245.47 141.352 2243.87 142.324 Q2242.3 143.296 2242.3 145.24 Q2242.3 146.722 2243.43 147.578 Q2244.57 148.412 2247.99 149.176 L2249.45 149.5 Q2253.99 150.472 2255.89 152.254 Q2257.81 154.014 2257.81 157.185 Q2257.81 160.796 2254.94 162.902 Q2252.09 165.009 2247.09 165.009 Q2245.01 165.009 2242.74 164.592 Q2240.49 164.199 2237.99 163.388 L2237.99 158.99 Q2240.35 160.217 2242.65 160.842 Q2244.94 161.444 2247.18 161.444 Q2250.19 161.444 2251.81 160.426 Q2253.43 159.384 2253.43 157.509 Q2253.43 155.773 2252.25 154.847 Q2251.1 153.921 2247.14 153.064 L2245.66 152.717 Q2241.7 151.884 2239.94 150.171 Q2238.18 148.435 2238.18 145.426 Q2238.18 141.768 2240.77 139.778 Q2243.36 137.787 2248.13 137.787 Q2250.49 137.787 2252.58 138.134 Q2254.66 138.481 2256.42 139.176 Z\" fill=\"#000000\" fill-rule=\"nonzero\" fill-opacity=\"1\" /></svg>\n"
      ],
      "text/html": [
       "<?xml version=\"1.0\" encoding=\"utf-8\"?>\n",
       "<svg xmlns=\"http://www.w3.org/2000/svg\" xmlns:xlink=\"http://www.w3.org/1999/xlink\" width=\"600\" height=\"400\" viewBox=\"0 0 2400 1600\">\n",
       "<defs>\n",
       "  <clipPath id=\"clip830\">\n",
       "    <rect x=\"0\" y=\"0\" width=\"2400\" height=\"1600\"/>\n",
       "  </clipPath>\n",
       "</defs>\n",
       "<path clip-path=\"url(#clip830)\" d=\"M0 1600 L2400 1600 L2400 0 L0 0  Z\" fill=\"#ffffff\" fill-rule=\"evenodd\" fill-opacity=\"1\"/>\n",
       "<defs>\n",
       "  <clipPath id=\"clip831\">\n",
       "    <rect x=\"480\" y=\"0\" width=\"1681\" height=\"1600\"/>\n",
       "  </clipPath>\n",
       "</defs>\n",
       "<path clip-path=\"url(#clip830)\" d=\"M216.436 1486.45 L2352.76 1486.45 L2352.76 47.2441 L216.436 47.2441  Z\" fill=\"#ffffff\" fill-rule=\"evenodd\" fill-opacity=\"1\"/>\n",
       "<defs>\n",
       "  <clipPath id=\"clip832\">\n",
       "    <rect x=\"216\" y=\"47\" width=\"2137\" height=\"1440\"/>\n",
       "  </clipPath>\n",
       "</defs>\n",
       "<polyline clip-path=\"url(#clip832)\" style=\"stroke:#000000; stroke-linecap:round; stroke-linejoin:round; stroke-width:2; stroke-opacity:0.1; fill:none\" points=\"235.767,1486.45 235.767,47.2441 \"/>\n",
       "<polyline clip-path=\"url(#clip832)\" style=\"stroke:#000000; stroke-linecap:round; stroke-linejoin:round; stroke-width:2; stroke-opacity:0.1; fill:none\" points=\"647.073,1486.45 647.073,47.2441 \"/>\n",
       "<polyline clip-path=\"url(#clip832)\" style=\"stroke:#000000; stroke-linecap:round; stroke-linejoin:round; stroke-width:2; stroke-opacity:0.1; fill:none\" points=\"1058.38,1486.45 1058.38,47.2441 \"/>\n",
       "<polyline clip-path=\"url(#clip832)\" style=\"stroke:#000000; stroke-linecap:round; stroke-linejoin:round; stroke-width:2; stroke-opacity:0.1; fill:none\" points=\"1469.68,1486.45 1469.68,47.2441 \"/>\n",
       "<polyline clip-path=\"url(#clip832)\" style=\"stroke:#000000; stroke-linecap:round; stroke-linejoin:round; stroke-width:2; stroke-opacity:0.1; fill:none\" points=\"1880.99,1486.45 1880.99,47.2441 \"/>\n",
       "<polyline clip-path=\"url(#clip832)\" style=\"stroke:#000000; stroke-linecap:round; stroke-linejoin:round; stroke-width:2; stroke-opacity:0.1; fill:none\" points=\"2292.29,1486.45 2292.29,47.2441 \"/>\n",
       "<polyline clip-path=\"url(#clip830)\" style=\"stroke:#000000; stroke-linecap:round; stroke-linejoin:round; stroke-width:4; stroke-opacity:1; fill:none\" points=\"216.436,1486.45 2352.76,1486.45 \"/>\n",
       "<polyline clip-path=\"url(#clip830)\" style=\"stroke:#000000; stroke-linecap:round; stroke-linejoin:round; stroke-width:4; stroke-opacity:1; fill:none\" points=\"235.767,1486.45 235.767,1467.55 \"/>\n",
       "<polyline clip-path=\"url(#clip830)\" style=\"stroke:#000000; stroke-linecap:round; stroke-linejoin:round; stroke-width:4; stroke-opacity:1; fill:none\" points=\"647.073,1486.45 647.073,1467.55 \"/>\n",
       "<polyline clip-path=\"url(#clip830)\" style=\"stroke:#000000; stroke-linecap:round; stroke-linejoin:round; stroke-width:4; stroke-opacity:1; fill:none\" points=\"1058.38,1486.45 1058.38,1467.55 \"/>\n",
       "<polyline clip-path=\"url(#clip830)\" style=\"stroke:#000000; stroke-linecap:round; stroke-linejoin:round; stroke-width:4; stroke-opacity:1; fill:none\" points=\"1469.68,1486.45 1469.68,1467.55 \"/>\n",
       "<polyline clip-path=\"url(#clip830)\" style=\"stroke:#000000; stroke-linecap:round; stroke-linejoin:round; stroke-width:4; stroke-opacity:1; fill:none\" points=\"1880.99,1486.45 1880.99,1467.55 \"/>\n",
       "<polyline clip-path=\"url(#clip830)\" style=\"stroke:#000000; stroke-linecap:round; stroke-linejoin:round; stroke-width:4; stroke-opacity:1; fill:none\" points=\"2292.29,1486.45 2292.29,1467.55 \"/>\n",
       "<path clip-path=\"url(#clip830)\" d=\"M235.767 1517.37 Q232.156 1517.37 230.327 1520.93 Q228.522 1524.47 228.522 1531.6 Q228.522 1538.71 230.327 1542.27 Q232.156 1545.82 235.767 1545.82 Q239.401 1545.82 241.207 1542.27 Q243.036 1538.71 243.036 1531.6 Q243.036 1524.47 241.207 1520.93 Q239.401 1517.37 235.767 1517.37 M235.767 1513.66 Q241.577 1513.66 244.633 1518.27 Q247.712 1522.85 247.712 1531.6 Q247.712 1540.33 244.633 1544.94 Q241.577 1549.52 235.767 1549.52 Q229.957 1549.52 226.878 1544.94 Q223.823 1540.33 223.823 1531.6 Q223.823 1522.85 226.878 1518.27 Q229.957 1513.66 235.767 1513.66 Z\" fill=\"#000000\" fill-rule=\"nonzero\" fill-opacity=\"1\" /><path clip-path=\"url(#clip830)\" d=\"M621.76 1544.91 L629.399 1544.91 L629.399 1518.55 L621.089 1520.21 L621.089 1515.95 L629.353 1514.29 L634.029 1514.29 L634.029 1544.91 L641.668 1544.91 L641.668 1548.85 L621.76 1548.85 L621.76 1544.91 Z\" fill=\"#000000\" fill-rule=\"nonzero\" fill-opacity=\"1\" /><path clip-path=\"url(#clip830)\" d=\"M661.112 1517.37 Q657.501 1517.37 655.672 1520.93 Q653.867 1524.47 653.867 1531.6 Q653.867 1538.71 655.672 1542.27 Q657.501 1545.82 661.112 1545.82 Q664.746 1545.82 666.552 1542.27 Q668.38 1538.71 668.38 1531.6 Q668.38 1524.47 666.552 1520.93 Q664.746 1517.37 661.112 1517.37 M661.112 1513.66 Q666.922 1513.66 669.978 1518.27 Q673.056 1522.85 673.056 1531.6 Q673.056 1540.33 669.978 1544.94 Q666.922 1549.52 661.112 1549.52 Q655.302 1549.52 652.223 1544.94 Q649.167 1540.33 649.167 1531.6 Q649.167 1522.85 652.223 1518.27 Q655.302 1513.66 661.112 1513.66 Z\" fill=\"#000000\" fill-rule=\"nonzero\" fill-opacity=\"1\" /><path clip-path=\"url(#clip830)\" d=\"M1037.15 1544.91 L1053.47 1544.91 L1053.47 1548.85 L1031.53 1548.85 L1031.53 1544.91 Q1034.19 1542.16 1038.77 1537.53 Q1043.38 1532.88 1044.56 1531.53 Q1046.8 1529.01 1047.68 1527.27 Q1048.59 1525.51 1048.59 1523.82 Q1048.59 1521.07 1046.64 1519.33 Q1044.72 1517.6 1041.62 1517.6 Q1039.42 1517.6 1036.97 1518.36 Q1034.54 1519.13 1031.76 1520.68 L1031.76 1515.95 Q1034.58 1514.82 1037.04 1514.24 Q1039.49 1513.66 1041.53 1513.66 Q1046.9 1513.66 1050.09 1516.35 Q1053.29 1519.03 1053.29 1523.52 Q1053.29 1525.65 1052.48 1527.57 Q1051.69 1529.47 1049.58 1532.07 Q1049 1532.74 1045.9 1535.95 Q1042.8 1539.15 1037.15 1544.91 Z\" fill=\"#000000\" fill-rule=\"nonzero\" fill-opacity=\"1\" /><path clip-path=\"url(#clip830)\" d=\"M1073.29 1517.37 Q1069.67 1517.37 1067.85 1520.93 Q1066.04 1524.47 1066.04 1531.6 Q1066.04 1538.71 1067.85 1542.27 Q1069.67 1545.82 1073.29 1545.82 Q1076.92 1545.82 1078.73 1542.27 Q1080.55 1538.71 1080.55 1531.6 Q1080.55 1524.47 1078.73 1520.93 Q1076.92 1517.37 1073.29 1517.37 M1073.29 1513.66 Q1079.1 1513.66 1082.15 1518.27 Q1085.23 1522.85 1085.23 1531.6 Q1085.23 1540.33 1082.15 1544.94 Q1079.1 1549.52 1073.29 1549.52 Q1067.48 1549.52 1064.4 1544.94 Q1061.34 1540.33 1061.34 1531.6 Q1061.34 1522.85 1064.4 1518.27 Q1067.48 1513.66 1073.29 1513.66 Z\" fill=\"#000000\" fill-rule=\"nonzero\" fill-opacity=\"1\" /><path clip-path=\"url(#clip830)\" d=\"M1458.53 1530.21 Q1461.88 1530.93 1463.76 1533.2 Q1465.66 1535.47 1465.66 1538.8 Q1465.66 1543.92 1462.14 1546.72 Q1458.62 1549.52 1452.14 1549.52 Q1449.96 1549.52 1447.65 1549.08 Q1445.35 1548.66 1442.9 1547.81 L1442.9 1543.29 Q1444.85 1544.43 1447.16 1545.01 Q1449.48 1545.58 1452 1545.58 Q1456.4 1545.58 1458.69 1543.85 Q1461 1542.11 1461 1538.8 Q1461 1535.75 1458.85 1534.03 Q1456.72 1532.3 1452.9 1532.3 L1448.87 1532.3 L1448.87 1528.45 L1453.09 1528.45 Q1456.54 1528.45 1458.36 1527.09 Q1460.19 1525.7 1460.19 1523.11 Q1460.19 1520.45 1458.29 1519.03 Q1456.42 1517.6 1452.9 1517.6 Q1450.98 1517.6 1448.78 1518.01 Q1446.58 1518.43 1443.94 1519.31 L1443.94 1515.14 Q1446.6 1514.4 1448.92 1514.03 Q1451.26 1513.66 1453.32 1513.66 Q1458.64 1513.66 1461.74 1516.09 Q1464.85 1518.5 1464.85 1522.62 Q1464.85 1525.49 1463.2 1527.48 Q1461.56 1529.45 1458.53 1530.21 Z\" fill=\"#000000\" fill-rule=\"nonzero\" fill-opacity=\"1\" /><path clip-path=\"url(#clip830)\" d=\"M1484.52 1517.37 Q1480.91 1517.37 1479.08 1520.93 Q1477.28 1524.47 1477.28 1531.6 Q1477.28 1538.71 1479.08 1542.27 Q1480.91 1545.82 1484.52 1545.82 Q1488.16 1545.82 1489.96 1542.27 Q1491.79 1538.71 1491.79 1531.6 Q1491.79 1524.47 1489.96 1520.93 Q1488.16 1517.37 1484.52 1517.37 M1484.52 1513.66 Q1490.33 1513.66 1493.39 1518.27 Q1496.47 1522.85 1496.47 1531.6 Q1496.47 1540.33 1493.39 1544.94 Q1490.33 1549.52 1484.52 1549.52 Q1478.71 1549.52 1475.63 1544.94 Q1472.58 1540.33 1472.58 1531.6 Q1472.58 1522.85 1475.63 1518.27 Q1478.71 1513.66 1484.52 1513.66 Z\" fill=\"#000000\" fill-rule=\"nonzero\" fill-opacity=\"1\" /><path clip-path=\"url(#clip830)\" d=\"M1869.16 1518.36 L1857.35 1536.81 L1869.16 1536.81 L1869.16 1518.36 M1867.93 1514.29 L1873.81 1514.29 L1873.81 1536.81 L1878.74 1536.81 L1878.74 1540.7 L1873.81 1540.7 L1873.81 1548.85 L1869.16 1548.85 L1869.16 1540.7 L1853.56 1540.7 L1853.56 1536.19 L1867.93 1514.29 Z\" fill=\"#000000\" fill-rule=\"nonzero\" fill-opacity=\"1\" /><path clip-path=\"url(#clip830)\" d=\"M1896.47 1517.37 Q1892.86 1517.37 1891.03 1520.93 Q1889.23 1524.47 1889.23 1531.6 Q1889.23 1538.71 1891.03 1542.27 Q1892.86 1545.82 1896.47 1545.82 Q1900.11 1545.82 1901.91 1542.27 Q1903.74 1538.71 1903.74 1531.6 Q1903.74 1524.47 1901.91 1520.93 Q1900.11 1517.37 1896.47 1517.37 M1896.47 1513.66 Q1902.28 1513.66 1905.34 1518.27 Q1908.42 1522.85 1908.42 1531.6 Q1908.42 1540.33 1905.34 1544.94 Q1902.28 1549.52 1896.47 1549.52 Q1890.66 1549.52 1887.59 1544.94 Q1884.53 1540.33 1884.53 1531.6 Q1884.53 1522.85 1887.59 1518.27 Q1890.66 1513.66 1896.47 1513.66 Z\" fill=\"#000000\" fill-rule=\"nonzero\" fill-opacity=\"1\" /><path clip-path=\"url(#clip830)\" d=\"M2266.99 1514.29 L2285.35 1514.29 L2285.35 1518.22 L2271.28 1518.22 L2271.28 1526.7 Q2272.29 1526.35 2273.31 1526.19 Q2274.33 1526 2275.35 1526 Q2281.14 1526 2284.52 1529.17 Q2287.9 1532.34 2287.9 1537.76 Q2287.9 1543.34 2284.42 1546.44 Q2280.95 1549.52 2274.63 1549.52 Q2272.46 1549.52 2270.19 1549.15 Q2267.94 1548.78 2265.53 1548.04 L2265.53 1543.34 Q2267.62 1544.47 2269.84 1545.03 Q2272.06 1545.58 2274.54 1545.58 Q2278.54 1545.58 2280.88 1543.48 Q2283.22 1541.37 2283.22 1537.76 Q2283.22 1534.15 2280.88 1532.04 Q2278.54 1529.94 2274.54 1529.94 Q2272.66 1529.94 2270.79 1530.35 Q2268.94 1530.77 2266.99 1531.65 L2266.99 1514.29 Z\" fill=\"#000000\" fill-rule=\"nonzero\" fill-opacity=\"1\" /><path clip-path=\"url(#clip830)\" d=\"M2307.11 1517.37 Q2303.5 1517.37 2301.67 1520.93 Q2299.86 1524.47 2299.86 1531.6 Q2299.86 1538.71 2301.67 1542.27 Q2303.5 1545.82 2307.11 1545.82 Q2310.74 1545.82 2312.55 1542.27 Q2314.38 1538.71 2314.38 1531.6 Q2314.38 1524.47 2312.55 1520.93 Q2310.74 1517.37 2307.11 1517.37 M2307.11 1513.66 Q2312.92 1513.66 2315.97 1518.27 Q2319.05 1522.85 2319.05 1531.6 Q2319.05 1540.33 2315.97 1544.94 Q2312.92 1549.52 2307.11 1549.52 Q2301.3 1549.52 2298.22 1544.94 Q2295.16 1540.33 2295.16 1531.6 Q2295.16 1522.85 2298.22 1518.27 Q2301.3 1513.66 2307.11 1513.66 Z\" fill=\"#000000\" fill-rule=\"nonzero\" fill-opacity=\"1\" /><polyline clip-path=\"url(#clip832)\" style=\"stroke:#000000; stroke-linecap:round; stroke-linejoin:round; stroke-width:2; stroke-opacity:0.1; fill:none\" points=\"216.436,1486.45 2352.76,1486.45 \"/>\n",
       "<polyline clip-path=\"url(#clip832)\" style=\"stroke:#000000; stroke-linecap:round; stroke-linejoin:round; stroke-width:2; stroke-opacity:0.1; fill:none\" points=\"216.436,1126.65 2352.76,1126.65 \"/>\n",
       "<polyline clip-path=\"url(#clip832)\" style=\"stroke:#000000; stroke-linecap:round; stroke-linejoin:round; stroke-width:2; stroke-opacity:0.1; fill:none\" points=\"216.436,766.846 2352.76,766.846 \"/>\n",
       "<polyline clip-path=\"url(#clip832)\" style=\"stroke:#000000; stroke-linecap:round; stroke-linejoin:round; stroke-width:2; stroke-opacity:0.1; fill:none\" points=\"216.436,407.045 2352.76,407.045 \"/>\n",
       "<polyline clip-path=\"url(#clip832)\" style=\"stroke:#000000; stroke-linecap:round; stroke-linejoin:round; stroke-width:2; stroke-opacity:0.1; fill:none\" points=\"216.436,47.2441 2352.76,47.2441 \"/>\n",
       "<polyline clip-path=\"url(#clip830)\" style=\"stroke:#000000; stroke-linecap:round; stroke-linejoin:round; stroke-width:4; stroke-opacity:1; fill:none\" points=\"216.436,1486.45 216.436,47.2441 \"/>\n",
       "<polyline clip-path=\"url(#clip830)\" style=\"stroke:#000000; stroke-linecap:round; stroke-linejoin:round; stroke-width:4; stroke-opacity:1; fill:none\" points=\"216.436,1486.45 235.334,1486.45 \"/>\n",
       "<polyline clip-path=\"url(#clip830)\" style=\"stroke:#000000; stroke-linecap:round; stroke-linejoin:round; stroke-width:4; stroke-opacity:1; fill:none\" points=\"216.436,1126.65 235.334,1126.65 \"/>\n",
       "<polyline clip-path=\"url(#clip830)\" style=\"stroke:#000000; stroke-linecap:round; stroke-linejoin:round; stroke-width:4; stroke-opacity:1; fill:none\" points=\"216.436,766.846 235.334,766.846 \"/>\n",
       "<polyline clip-path=\"url(#clip830)\" style=\"stroke:#000000; stroke-linecap:round; stroke-linejoin:round; stroke-width:4; stroke-opacity:1; fill:none\" points=\"216.436,407.045 235.334,407.045 \"/>\n",
       "<polyline clip-path=\"url(#clip830)\" style=\"stroke:#000000; stroke-linecap:round; stroke-linejoin:round; stroke-width:4; stroke-opacity:1; fill:none\" points=\"216.436,47.2441 235.334,47.2441 \"/>\n",
       "<path clip-path=\"url(#clip830)\" d=\"M62.9365 1472.25 Q59.3254 1472.25 57.4967 1475.81 Q55.6912 1479.35 55.6912 1486.48 Q55.6912 1493.59 57.4967 1497.15 Q59.3254 1500.7 62.9365 1500.7 Q66.5707 1500.7 68.3763 1497.15 Q70.205 1493.59 70.205 1486.48 Q70.205 1479.35 68.3763 1475.81 Q66.5707 1472.25 62.9365 1472.25 M62.9365 1468.54 Q68.7467 1468.54 71.8022 1473.15 Q74.8809 1477.73 74.8809 1486.48 Q74.8809 1495.21 71.8022 1499.82 Q68.7467 1504.4 62.9365 1504.4 Q57.1264 1504.4 54.0477 1499.82 Q50.9921 1495.21 50.9921 1486.48 Q50.9921 1477.73 54.0477 1473.15 Q57.1264 1468.54 62.9365 1468.54 Z\" fill=\"#000000\" fill-rule=\"nonzero\" fill-opacity=\"1\" /><path clip-path=\"url(#clip830)\" d=\"M83.0984 1497.85 L87.9827 1497.85 L87.9827 1503.73 L83.0984 1503.73 L83.0984 1497.85 Z\" fill=\"#000000\" fill-rule=\"nonzero\" fill-opacity=\"1\" /><path clip-path=\"url(#clip830)\" d=\"M108.168 1472.25 Q104.557 1472.25 102.728 1475.81 Q100.922 1479.35 100.922 1486.48 Q100.922 1493.59 102.728 1497.15 Q104.557 1500.7 108.168 1500.7 Q111.802 1500.7 113.608 1497.15 Q115.436 1493.59 115.436 1486.48 Q115.436 1479.35 113.608 1475.81 Q111.802 1472.25 108.168 1472.25 M108.168 1468.54 Q113.978 1468.54 117.033 1473.15 Q120.112 1477.73 120.112 1486.48 Q120.112 1495.21 117.033 1499.82 Q113.978 1504.4 108.168 1504.4 Q102.358 1504.4 99.2789 1499.82 Q96.2234 1495.21 96.2234 1486.48 Q96.2234 1477.73 99.2789 1473.15 Q102.358 1468.54 108.168 1468.54 Z\" fill=\"#000000\" fill-rule=\"nonzero\" fill-opacity=\"1\" /><path clip-path=\"url(#clip830)\" d=\"M138.33 1472.25 Q134.719 1472.25 132.89 1475.81 Q131.084 1479.35 131.084 1486.48 Q131.084 1493.59 132.89 1497.15 Q134.719 1500.7 138.33 1500.7 Q141.964 1500.7 143.769 1497.15 Q145.598 1493.59 145.598 1486.48 Q145.598 1479.35 143.769 1475.81 Q141.964 1472.25 138.33 1472.25 M138.33 1468.54 Q144.14 1468.54 147.195 1473.15 Q150.274 1477.73 150.274 1486.48 Q150.274 1495.21 147.195 1499.82 Q144.14 1504.4 138.33 1504.4 Q132.519 1504.4 129.441 1499.82 Q126.385 1495.21 126.385 1486.48 Q126.385 1477.73 129.441 1473.15 Q132.519 1468.54 138.33 1468.54 Z\" fill=\"#000000\" fill-rule=\"nonzero\" fill-opacity=\"1\" /><path clip-path=\"url(#clip830)\" d=\"M168.491 1472.25 Q164.88 1472.25 163.052 1475.81 Q161.246 1479.35 161.246 1486.48 Q161.246 1493.59 163.052 1497.15 Q164.88 1500.7 168.491 1500.7 Q172.126 1500.7 173.931 1497.15 Q175.76 1493.59 175.76 1486.48 Q175.76 1479.35 173.931 1475.81 Q172.126 1472.25 168.491 1472.25 M168.491 1468.54 Q174.302 1468.54 177.357 1473.15 Q180.436 1477.73 180.436 1486.48 Q180.436 1495.21 177.357 1499.82 Q174.302 1504.4 168.491 1504.4 Q162.681 1504.4 159.603 1499.82 Q156.547 1495.21 156.547 1486.48 Q156.547 1477.73 159.603 1473.15 Q162.681 1468.54 168.491 1468.54 Z\" fill=\"#000000\" fill-rule=\"nonzero\" fill-opacity=\"1\" /><path clip-path=\"url(#clip830)\" d=\"M63.9319 1112.45 Q60.3208 1112.45 58.4921 1116.01 Q56.6865 1119.55 56.6865 1126.68 Q56.6865 1133.79 58.4921 1137.35 Q60.3208 1140.89 63.9319 1140.89 Q67.5661 1140.89 69.3717 1137.35 Q71.2004 1133.79 71.2004 1126.68 Q71.2004 1119.55 69.3717 1116.01 Q67.5661 1112.45 63.9319 1112.45 M63.9319 1108.74 Q69.742 1108.74 72.7976 1113.35 Q75.8763 1117.93 75.8763 1126.68 Q75.8763 1135.41 72.7976 1140.01 Q69.742 1144.6 63.9319 1144.6 Q58.1217 1144.6 55.043 1140.01 Q51.9875 1135.41 51.9875 1126.68 Q51.9875 1117.93 55.043 1113.35 Q58.1217 1108.74 63.9319 1108.74 Z\" fill=\"#000000\" fill-rule=\"nonzero\" fill-opacity=\"1\" /><path clip-path=\"url(#clip830)\" d=\"M84.0938 1138.05 L88.978 1138.05 L88.978 1143.93 L84.0938 1143.93 L84.0938 1138.05 Z\" fill=\"#000000\" fill-rule=\"nonzero\" fill-opacity=\"1\" /><path clip-path=\"url(#clip830)\" d=\"M109.163 1112.45 Q105.552 1112.45 103.723 1116.01 Q101.918 1119.55 101.918 1126.68 Q101.918 1133.79 103.723 1137.35 Q105.552 1140.89 109.163 1140.89 Q112.797 1140.89 114.603 1137.35 Q116.432 1133.79 116.432 1126.68 Q116.432 1119.55 114.603 1116.01 Q112.797 1112.45 109.163 1112.45 M109.163 1108.74 Q114.973 1108.74 118.029 1113.35 Q121.107 1117.93 121.107 1126.68 Q121.107 1135.41 118.029 1140.01 Q114.973 1144.6 109.163 1144.6 Q103.353 1144.6 100.274 1140.01 Q97.2187 1135.41 97.2187 1126.68 Q97.2187 1117.93 100.274 1113.35 Q103.353 1108.74 109.163 1108.74 Z\" fill=\"#000000\" fill-rule=\"nonzero\" fill-opacity=\"1\" /><path clip-path=\"url(#clip830)\" d=\"M139.325 1112.45 Q135.714 1112.45 133.885 1116.01 Q132.08 1119.55 132.08 1126.68 Q132.08 1133.79 133.885 1137.35 Q135.714 1140.89 139.325 1140.89 Q142.959 1140.89 144.765 1137.35 Q146.593 1133.79 146.593 1126.68 Q146.593 1119.55 144.765 1116.01 Q142.959 1112.45 139.325 1112.45 M139.325 1108.74 Q145.135 1108.74 148.191 1113.35 Q151.269 1117.93 151.269 1126.68 Q151.269 1135.41 148.191 1140.01 Q145.135 1144.6 139.325 1144.6 Q133.515 1144.6 130.436 1140.01 Q127.381 1135.41 127.381 1126.68 Q127.381 1117.93 130.436 1113.35 Q133.515 1108.74 139.325 1108.74 Z\" fill=\"#000000\" fill-rule=\"nonzero\" fill-opacity=\"1\" /><path clip-path=\"url(#clip830)\" d=\"M159.533 1109.37 L177.89 1109.37 L177.89 1113.3 L163.816 1113.3 L163.816 1121.77 Q164.834 1121.43 165.853 1121.27 Q166.871 1121.08 167.89 1121.08 Q173.677 1121.08 177.056 1124.25 Q180.436 1127.42 180.436 1132.84 Q180.436 1138.42 176.964 1141.52 Q173.491 1144.6 167.172 1144.6 Q164.996 1144.6 162.728 1144.23 Q160.482 1143.86 158.075 1143.12 L158.075 1138.42 Q160.158 1139.55 162.38 1140.11 Q164.603 1140.66 167.079 1140.66 Q171.084 1140.66 173.422 1138.56 Q175.76 1136.45 175.76 1132.84 Q175.76 1129.23 173.422 1127.12 Q171.084 1125.01 167.079 1125.01 Q165.204 1125.01 163.329 1125.43 Q161.478 1125.85 159.533 1126.73 L159.533 1109.37 Z\" fill=\"#000000\" fill-rule=\"nonzero\" fill-opacity=\"1\" /><path clip-path=\"url(#clip830)\" d=\"M62.9365 752.645 Q59.3254 752.645 57.4967 756.209 Q55.6912 759.751 55.6912 766.881 Q55.6912 773.987 57.4967 777.552 Q59.3254 781.094 62.9365 781.094 Q66.5707 781.094 68.3763 777.552 Q70.205 773.987 70.205 766.881 Q70.205 759.751 68.3763 756.209 Q66.5707 752.645 62.9365 752.645 M62.9365 748.941 Q68.7467 748.941 71.8022 753.547 Q74.8809 758.131 74.8809 766.881 Q74.8809 775.608 71.8022 780.214 Q68.7467 784.797 62.9365 784.797 Q57.1264 784.797 54.0477 780.214 Q50.9921 775.608 50.9921 766.881 Q50.9921 758.131 54.0477 753.547 Q57.1264 748.941 62.9365 748.941 Z\" fill=\"#000000\" fill-rule=\"nonzero\" fill-opacity=\"1\" /><path clip-path=\"url(#clip830)\" d=\"M83.0984 778.246 L87.9827 778.246 L87.9827 784.126 L83.0984 784.126 L83.0984 778.246 Z\" fill=\"#000000\" fill-rule=\"nonzero\" fill-opacity=\"1\" /><path clip-path=\"url(#clip830)\" d=\"M108.168 752.645 Q104.557 752.645 102.728 756.209 Q100.922 759.751 100.922 766.881 Q100.922 773.987 102.728 777.552 Q104.557 781.094 108.168 781.094 Q111.802 781.094 113.608 777.552 Q115.436 773.987 115.436 766.881 Q115.436 759.751 113.608 756.209 Q111.802 752.645 108.168 752.645 M108.168 748.941 Q113.978 748.941 117.033 753.547 Q120.112 758.131 120.112 766.881 Q120.112 775.608 117.033 780.214 Q113.978 784.797 108.168 784.797 Q102.358 784.797 99.2789 780.214 Q96.2234 775.608 96.2234 766.881 Q96.2234 758.131 99.2789 753.547 Q102.358 748.941 108.168 748.941 Z\" fill=\"#000000\" fill-rule=\"nonzero\" fill-opacity=\"1\" /><path clip-path=\"url(#clip830)\" d=\"M129.14 780.191 L136.779 780.191 L136.779 753.825 L128.469 755.492 L128.469 751.233 L136.732 749.566 L141.408 749.566 L141.408 780.191 L149.047 780.191 L149.047 784.126 L129.14 784.126 L129.14 780.191 Z\" fill=\"#000000\" fill-rule=\"nonzero\" fill-opacity=\"1\" /><path clip-path=\"url(#clip830)\" d=\"M168.491 752.645 Q164.88 752.645 163.052 756.209 Q161.246 759.751 161.246 766.881 Q161.246 773.987 163.052 777.552 Q164.88 781.094 168.491 781.094 Q172.126 781.094 173.931 777.552 Q175.76 773.987 175.76 766.881 Q175.76 759.751 173.931 756.209 Q172.126 752.645 168.491 752.645 M168.491 748.941 Q174.302 748.941 177.357 753.547 Q180.436 758.131 180.436 766.881 Q180.436 775.608 177.357 780.214 Q174.302 784.797 168.491 784.797 Q162.681 784.797 159.603 780.214 Q156.547 775.608 156.547 766.881 Q156.547 758.131 159.603 753.547 Q162.681 748.941 168.491 748.941 Z\" fill=\"#000000\" fill-rule=\"nonzero\" fill-opacity=\"1\" /><path clip-path=\"url(#clip830)\" d=\"M63.9319 392.844 Q60.3208 392.844 58.4921 396.409 Q56.6865 399.95 56.6865 407.08 Q56.6865 414.186 58.4921 417.751 Q60.3208 421.293 63.9319 421.293 Q67.5661 421.293 69.3717 417.751 Q71.2004 414.186 71.2004 407.08 Q71.2004 399.95 69.3717 396.409 Q67.5661 392.844 63.9319 392.844 M63.9319 389.14 Q69.742 389.14 72.7976 393.746 Q75.8763 398.33 75.8763 407.08 Q75.8763 415.807 72.7976 420.413 Q69.742 424.996 63.9319 424.996 Q58.1217 424.996 55.043 420.413 Q51.9875 415.807 51.9875 407.08 Q51.9875 398.33 55.043 393.746 Q58.1217 389.14 63.9319 389.14 Z\" fill=\"#000000\" fill-rule=\"nonzero\" fill-opacity=\"1\" /><path clip-path=\"url(#clip830)\" d=\"M84.0938 418.445 L88.978 418.445 L88.978 424.325 L84.0938 424.325 L84.0938 418.445 Z\" fill=\"#000000\" fill-rule=\"nonzero\" fill-opacity=\"1\" /><path clip-path=\"url(#clip830)\" d=\"M109.163 392.844 Q105.552 392.844 103.723 396.409 Q101.918 399.95 101.918 407.08 Q101.918 414.186 103.723 417.751 Q105.552 421.293 109.163 421.293 Q112.797 421.293 114.603 417.751 Q116.432 414.186 116.432 407.08 Q116.432 399.95 114.603 396.409 Q112.797 392.844 109.163 392.844 M109.163 389.14 Q114.973 389.14 118.029 393.746 Q121.107 398.33 121.107 407.08 Q121.107 415.807 118.029 420.413 Q114.973 424.996 109.163 424.996 Q103.353 424.996 100.274 420.413 Q97.2187 415.807 97.2187 407.08 Q97.2187 398.33 100.274 393.746 Q103.353 389.14 109.163 389.14 Z\" fill=\"#000000\" fill-rule=\"nonzero\" fill-opacity=\"1\" /><path clip-path=\"url(#clip830)\" d=\"M130.135 420.39 L137.774 420.39 L137.774 394.024 L129.464 395.691 L129.464 391.432 L137.728 389.765 L142.404 389.765 L142.404 420.39 L150.043 420.39 L150.043 424.325 L130.135 424.325 L130.135 420.39 Z\" fill=\"#000000\" fill-rule=\"nonzero\" fill-opacity=\"1\" /><path clip-path=\"url(#clip830)\" d=\"M159.533 389.765 L177.89 389.765 L177.89 393.7 L163.816 393.7 L163.816 402.172 Q164.834 401.825 165.853 401.663 Q166.871 401.478 167.89 401.478 Q173.677 401.478 177.056 404.649 Q180.436 407.82 180.436 413.237 Q180.436 418.816 176.964 421.918 Q173.491 424.996 167.172 424.996 Q164.996 424.996 162.728 424.626 Q160.482 424.256 158.075 423.515 L158.075 418.816 Q160.158 419.95 162.38 420.506 Q164.603 421.061 167.079 421.061 Q171.084 421.061 173.422 418.955 Q175.76 416.848 175.76 413.237 Q175.76 409.626 173.422 407.52 Q171.084 405.413 167.079 405.413 Q165.204 405.413 163.329 405.83 Q161.478 406.246 159.533 407.126 L159.533 389.765 Z\" fill=\"#000000\" fill-rule=\"nonzero\" fill-opacity=\"1\" /><path clip-path=\"url(#clip830)\" d=\"M62.9365 33.0428 Q59.3254 33.0428 57.4967 36.6076 Q55.6912 40.1492 55.6912 47.2788 Q55.6912 54.3853 57.4967 57.9501 Q59.3254 61.4917 62.9365 61.4917 Q66.5707 61.4917 68.3763 57.9501 Q70.205 54.3853 70.205 47.2788 Q70.205 40.1492 68.3763 36.6076 Q66.5707 33.0428 62.9365 33.0428 M62.9365 29.3391 Q68.7467 29.3391 71.8022 33.9456 Q74.8809 38.5289 74.8809 47.2788 Q74.8809 56.0056 71.8022 60.6121 Q68.7467 65.1954 62.9365 65.1954 Q57.1264 65.1954 54.0477 60.6121 Q50.9921 56.0056 50.9921 47.2788 Q50.9921 38.5289 54.0477 33.9456 Q57.1264 29.3391 62.9365 29.3391 Z\" fill=\"#000000\" fill-rule=\"nonzero\" fill-opacity=\"1\" /><path clip-path=\"url(#clip830)\" d=\"M83.0984 58.6445 L87.9827 58.6445 L87.9827 64.5241 L83.0984 64.5241 L83.0984 58.6445 Z\" fill=\"#000000\" fill-rule=\"nonzero\" fill-opacity=\"1\" /><path clip-path=\"url(#clip830)\" d=\"M108.168 33.0428 Q104.557 33.0428 102.728 36.6076 Q100.922 40.1492 100.922 47.2788 Q100.922 54.3853 102.728 57.9501 Q104.557 61.4917 108.168 61.4917 Q111.802 61.4917 113.608 57.9501 Q115.436 54.3853 115.436 47.2788 Q115.436 40.1492 113.608 36.6076 Q111.802 33.0428 108.168 33.0428 M108.168 29.3391 Q113.978 29.3391 117.033 33.9456 Q120.112 38.5289 120.112 47.2788 Q120.112 56.0056 117.033 60.6121 Q113.978 65.1954 108.168 65.1954 Q102.358 65.1954 99.2789 60.6121 Q96.2234 56.0056 96.2234 47.2788 Q96.2234 38.5289 99.2789 33.9456 Q102.358 29.3391 108.168 29.3391 Z\" fill=\"#000000\" fill-rule=\"nonzero\" fill-opacity=\"1\" /><path clip-path=\"url(#clip830)\" d=\"M132.357 60.5889 L148.677 60.5889 L148.677 64.5241 L126.732 64.5241 L126.732 60.5889 Q129.394 57.8343 133.978 53.2047 Q138.584 48.552 139.765 47.2094 Q142.01 44.6862 142.89 42.9501 Q143.793 41.1909 143.793 39.5011 Q143.793 36.7465 141.848 35.0104 Q139.927 33.2743 136.825 33.2743 Q134.626 33.2743 132.172 34.0381 Q129.742 34.802 126.964 36.3529 L126.964 31.6308 Q129.788 30.4965 132.242 29.9178 Q134.695 29.3391 136.732 29.3391 Q142.103 29.3391 145.297 32.0243 Q148.492 34.7094 148.492 39.2002 Q148.492 41.3298 147.681 43.2511 Q146.894 45.1492 144.788 47.7418 Q144.209 48.4131 141.107 51.6306 Q138.006 54.8251 132.357 60.5889 Z\" fill=\"#000000\" fill-rule=\"nonzero\" fill-opacity=\"1\" /><path clip-path=\"url(#clip830)\" d=\"M168.491 33.0428 Q164.88 33.0428 163.052 36.6076 Q161.246 40.1492 161.246 47.2788 Q161.246 54.3853 163.052 57.9501 Q164.88 61.4917 168.491 61.4917 Q172.126 61.4917 173.931 57.9501 Q175.76 54.3853 175.76 47.2788 Q175.76 40.1492 173.931 36.6076 Q172.126 33.0428 168.491 33.0428 M168.491 29.3391 Q174.302 29.3391 177.357 33.9456 Q180.436 38.5289 180.436 47.2788 Q180.436 56.0056 177.357 60.6121 Q174.302 65.1954 168.491 65.1954 Q162.681 65.1954 159.603 60.6121 Q156.547 56.0056 156.547 47.2788 Q156.547 38.5289 159.603 33.9456 Q162.681 29.3391 168.491 29.3391 Z\" fill=\"#000000\" fill-rule=\"nonzero\" fill-opacity=\"1\" /><polyline clip-path=\"url(#clip832)\" style=\"stroke:#009af9; stroke-linecap:round; stroke-linejoin:round; stroke-width:4; stroke-opacity:1; fill:none\" points=\"276.898,-140975 318.028,-29970.9 359.159,-26908.8 400.289,-26270.6 441.42,-25393.3 482.55,-24488.8 523.681,-23490.3 564.812,-22068.5 605.942,-20648.6 647.073,-19342.6 688.203,-16841.3 729.334,-24636.2 770.464,-18733.3 811.595,-18875.9 852.725,-18834.4 893.856,-18645.6 934.986,-18410.6 976.117,-17087.7 1017.25,-17383.2 1058.38,-16337.5 1099.51,-15230.4 1140.64,-14963 1181.77,-14266.8 1222.9,-9586.89 1264.03,-7881.95 1305.16,-7124.65 1346.29,-6763.91 1387.42,-6315.95 1428.55,-6016.5 1469.68,-5866.08 1510.81,-5454.96 1551.94,-5266.15 1593.07,-4912.41 1634.21,-4627.64 1675.34,-4506.45 1716.47,-4468.14 1757.6,-4305.92 1798.73,-4187.88 1839.86,-4106.75 1880.99,-4148.37 1922.12,-4007.81 1963.25,-4016.21 2004.38,-4115.32 2045.51,-3949.81 2086.64,-3910.85 2127.77,-3917.36 2168.9,-3878.82 2210.03,-3832.26 2251.16,-3893.93 2292.29,-3876.97 \"/>\n",
       "<path clip-path=\"url(#clip830)\" d=\"M1776.39 198.898 L2281.55 198.898 L2281.55 95.2176 L1776.39 95.2176  Z\" fill=\"#ffffff\" fill-rule=\"evenodd\" fill-opacity=\"1\"/>\n",
       "<polyline clip-path=\"url(#clip830)\" style=\"stroke:#000000; stroke-linecap:round; stroke-linejoin:round; stroke-width:4; stroke-opacity:1; fill:none\" points=\"1776.39,198.898 2281.55,198.898 2281.55,95.2176 1776.39,95.2176 1776.39,198.898 \"/>\n",
       "<polyline clip-path=\"url(#clip830)\" style=\"stroke:#009af9; stroke-linecap:round; stroke-linejoin:round; stroke-width:4; stroke-opacity:1; fill:none\" points=\"1800.12,147.058 1942.55,147.058 \"/>\n",
       "<path clip-path=\"url(#clip830)\" d=\"M1966.28 129.778 L1995.52 129.778 L1995.52 133.713 L1983.25 133.713 L1983.25 164.338 L1978.55 164.338 L1978.55 133.713 L1966.28 133.713 L1966.28 129.778 Z\" fill=\"#000000\" fill-rule=\"nonzero\" fill-opacity=\"1\" /><path clip-path=\"url(#clip830)\" d=\"M2007.9 142.393 Q2007.18 141.977 2006.33 141.791 Q2005.49 141.583 2004.48 141.583 Q2000.87 141.583 1998.92 143.944 Q1997 146.282 1997 150.68 L1997 164.338 L1992.72 164.338 L1992.72 138.412 L1997 138.412 L1997 142.44 Q1998.34 140.078 2000.49 138.944 Q2002.65 137.787 2005.73 137.787 Q2006.17 137.787 2006.7 137.856 Q2007.23 137.903 2007.88 138.018 L2007.9 142.393 Z\" fill=\"#000000\" fill-rule=\"nonzero\" fill-opacity=\"1\" /><path clip-path=\"url(#clip830)\" d=\"M2024.15 151.305 Q2018.99 151.305 2017 152.486 Q2015.01 153.666 2015.01 156.514 Q2015.01 158.782 2016.49 160.125 Q2017.99 161.444 2020.56 161.444 Q2024.11 161.444 2026.24 158.944 Q2028.39 156.421 2028.39 152.254 L2028.39 151.305 L2024.15 151.305 M2032.65 149.546 L2032.65 164.338 L2028.39 164.338 L2028.39 160.402 Q2026.93 162.763 2024.75 163.898 Q2022.58 165.009 2019.43 165.009 Q2015.45 165.009 2013.09 162.787 Q2010.75 160.541 2010.75 156.791 Q2010.75 152.416 2013.67 150.194 Q2016.61 147.972 2022.42 147.972 L2028.39 147.972 L2028.39 147.555 Q2028.39 144.615 2026.44 143.018 Q2024.52 141.398 2021.03 141.398 Q2018.8 141.398 2016.7 141.93 Q2014.59 142.463 2012.65 143.527 L2012.65 139.592 Q2014.99 138.69 2017.18 138.25 Q2019.38 137.787 2021.47 137.787 Q2027.09 137.787 2029.87 140.703 Q2032.65 143.62 2032.65 149.546 Z\" fill=\"#000000\" fill-rule=\"nonzero\" fill-opacity=\"1\" /><path clip-path=\"url(#clip830)\" d=\"M2041.42 138.412 L2045.68 138.412 L2045.68 164.338 L2041.42 164.338 L2041.42 138.412 M2041.42 128.319 L2045.68 128.319 L2045.68 133.713 L2041.42 133.713 L2041.42 128.319 Z\" fill=\"#000000\" fill-rule=\"nonzero\" fill-opacity=\"1\" /><path clip-path=\"url(#clip830)\" d=\"M2076.14 148.689 L2076.14 164.338 L2071.88 164.338 L2071.88 148.828 Q2071.88 145.148 2070.45 143.319 Q2069.01 141.49 2066.14 141.49 Q2062.69 141.49 2060.7 143.69 Q2058.71 145.889 2058.71 149.685 L2058.71 164.338 L2054.43 164.338 L2054.43 138.412 L2058.71 138.412 L2058.71 142.44 Q2060.24 140.102 2062.3 138.944 Q2064.38 137.787 2067.09 137.787 Q2071.56 137.787 2073.85 140.565 Q2076.14 143.319 2076.14 148.689 Z\" fill=\"#000000\" fill-rule=\"nonzero\" fill-opacity=\"1\" /><path clip-path=\"url(#clip830)\" d=\"M2084.64 138.412 L2088.9 138.412 L2088.9 164.338 L2084.64 164.338 L2084.64 138.412 M2084.64 128.319 L2088.9 128.319 L2088.9 133.713 L2084.64 133.713 L2084.64 128.319 Z\" fill=\"#000000\" fill-rule=\"nonzero\" fill-opacity=\"1\" /><path clip-path=\"url(#clip830)\" d=\"M2119.36 148.689 L2119.36 164.338 L2115.1 164.338 L2115.1 148.828 Q2115.1 145.148 2113.67 143.319 Q2112.23 141.49 2109.36 141.49 Q2105.91 141.49 2103.92 143.69 Q2101.93 145.889 2101.93 149.685 L2101.93 164.338 L2097.65 164.338 L2097.65 138.412 L2101.93 138.412 L2101.93 142.44 Q2103.46 140.102 2105.52 138.944 Q2107.6 137.787 2110.31 137.787 Q2114.78 137.787 2117.07 140.565 Q2119.36 143.319 2119.36 148.689 Z\" fill=\"#000000\" fill-rule=\"nonzero\" fill-opacity=\"1\" /><path clip-path=\"url(#clip830)\" d=\"M2144.92 151.074 Q2144.92 146.444 2142.99 143.898 Q2141.1 141.352 2137.65 141.352 Q2134.22 141.352 2132.3 143.898 Q2130.4 146.444 2130.4 151.074 Q2130.4 155.68 2132.3 158.226 Q2134.22 160.773 2137.65 160.773 Q2141.1 160.773 2142.99 158.226 Q2144.92 155.68 2144.92 151.074 M2149.17 161.12 Q2149.17 167.74 2146.23 170.958 Q2143.3 174.199 2137.23 174.199 Q2134.98 174.199 2132.99 173.851 Q2131 173.527 2129.13 172.833 L2129.13 168.689 Q2131 169.708 2132.83 170.194 Q2134.66 170.68 2136.56 170.68 Q2140.75 170.68 2142.83 168.481 Q2144.92 166.305 2144.92 161.884 L2144.92 159.777 Q2143.6 162.069 2141.54 163.203 Q2139.48 164.338 2136.61 164.338 Q2131.84 164.338 2128.92 160.703 Q2126 157.069 2126 151.074 Q2126 145.055 2128.92 141.421 Q2131.84 137.787 2136.61 137.787 Q2139.48 137.787 2141.54 138.921 Q2143.6 140.055 2144.92 142.347 L2144.92 138.412 L2149.17 138.412 L2149.17 161.12 Z\" fill=\"#000000\" fill-rule=\"nonzero\" fill-opacity=\"1\" /><path clip-path=\"url(#clip830)\" d=\"M2173.02 128.319 L2177.28 128.319 L2177.28 164.338 L2173.02 164.338 L2173.02 128.319 Z\" fill=\"#000000\" fill-rule=\"nonzero\" fill-opacity=\"1\" /><path clip-path=\"url(#clip830)\" d=\"M2196.23 141.398 Q2192.81 141.398 2190.82 144.083 Q2188.83 146.745 2188.83 151.398 Q2188.83 156.051 2190.79 158.736 Q2192.79 161.398 2196.23 161.398 Q2199.64 161.398 2201.63 158.713 Q2203.62 156.027 2203.62 151.398 Q2203.62 146.791 2201.63 144.106 Q2199.64 141.398 2196.23 141.398 M2196.23 137.787 Q2201.79 137.787 2204.96 141.398 Q2208.13 145.009 2208.13 151.398 Q2208.13 157.764 2204.96 161.398 Q2201.79 165.009 2196.23 165.009 Q2190.66 165.009 2187.48 161.398 Q2184.34 157.764 2184.34 151.398 Q2184.34 145.009 2187.48 141.398 Q2190.66 137.787 2196.23 137.787 Z\" fill=\"#000000\" fill-rule=\"nonzero\" fill-opacity=\"1\" /><path clip-path=\"url(#clip830)\" d=\"M2231.72 139.176 L2231.72 143.203 Q2229.91 142.277 2227.97 141.815 Q2226.03 141.352 2223.94 141.352 Q2220.77 141.352 2219.17 142.324 Q2217.6 143.296 2217.6 145.24 Q2217.6 146.722 2218.73 147.578 Q2219.87 148.412 2223.29 149.176 L2224.75 149.5 Q2229.29 150.472 2231.19 152.254 Q2233.11 154.014 2233.11 157.185 Q2233.11 160.796 2230.24 162.902 Q2227.39 165.009 2222.39 165.009 Q2220.31 165.009 2218.04 164.592 Q2215.79 164.199 2213.29 163.388 L2213.29 158.99 Q2215.66 160.217 2217.95 160.842 Q2220.24 161.444 2222.48 161.444 Q2225.49 161.444 2227.11 160.426 Q2228.73 159.384 2228.73 157.509 Q2228.73 155.773 2227.55 154.847 Q2226.4 153.921 2222.44 153.064 L2220.96 152.717 Q2217 151.884 2215.24 150.171 Q2213.48 148.435 2213.48 145.426 Q2213.48 141.768 2216.07 139.778 Q2218.67 137.787 2223.43 137.787 Q2225.79 137.787 2227.88 138.134 Q2229.96 138.481 2231.72 139.176 Z\" fill=\"#000000\" fill-rule=\"nonzero\" fill-opacity=\"1\" /><path clip-path=\"url(#clip830)\" d=\"M2256.42 139.176 L2256.42 143.203 Q2254.61 142.277 2252.67 141.815 Q2250.73 141.352 2248.64 141.352 Q2245.47 141.352 2243.87 142.324 Q2242.3 143.296 2242.3 145.24 Q2242.3 146.722 2243.43 147.578 Q2244.57 148.412 2247.99 149.176 L2249.45 149.5 Q2253.99 150.472 2255.89 152.254 Q2257.81 154.014 2257.81 157.185 Q2257.81 160.796 2254.94 162.902 Q2252.09 165.009 2247.09 165.009 Q2245.01 165.009 2242.74 164.592 Q2240.49 164.199 2237.99 163.388 L2237.99 158.99 Q2240.35 160.217 2242.65 160.842 Q2244.94 161.444 2247.18 161.444 Q2250.19 161.444 2251.81 160.426 Q2253.43 159.384 2253.43 157.509 Q2253.43 155.773 2252.25 154.847 Q2251.1 153.921 2247.14 153.064 L2245.66 152.717 Q2241.7 151.884 2239.94 150.171 Q2238.18 148.435 2238.18 145.426 Q2238.18 141.768 2240.77 139.778 Q2243.36 137.787 2248.13 137.787 Q2250.49 137.787 2252.58 138.134 Q2254.66 138.481 2256.42 139.176 Z\" fill=\"#000000\" fill-rule=\"nonzero\" fill-opacity=\"1\" /></svg>\n"
      ]
     },
     "metadata": {},
     "output_type": "display_data"
    }
   ],
   "source": [
    "plot(epoch_loss_vec, label = \"Training loss\", ylims=(0.0, 0.02))"
   ]
  },
  {
   "cell_type": "code",
   "execution_count": 119,
   "metadata": {},
   "outputs": [],
   "source": [
    "# Next:\n",
    "# - Take notebooks, extract to .jl single-functions and run hyperparameter sweep\n",
    "# - Evaluate AAD on saturation pressure\n",
    "# - Stratify test/train data by molecule\n"
   ]
  },
  {
   "cell_type": "code",
   "execution_count": 120,
   "metadata": {},
   "outputs": [],
   "source": []
  }
 ],
 "metadata": {
  "kernelspec": {
   "display_name": "Julia 1.8.2",
   "language": "julia",
   "name": "julia-1.8"
  },
  "language_info": {
   "file_extension": ".jl",
   "mimetype": "application/julia",
   "name": "julia",
   "version": "1.8.2"
  }
 },
 "nbformat": 4,
 "nbformat_minor": 2
}
