{
 "cells": [
  {
   "cell_type": "code",
   "execution_count": 24,
   "metadata": {},
   "outputs": [
    {
     "name": "stderr",
     "output_type": "stream",
     "text": [
      "\u001b[32m\u001b[1m  Activating\u001b[22m\u001b[39m project at `~/SAFT_ML`\n"
     ]
    }
   ],
   "source": [
    "import Pkg; Pkg.activate(\".\")"
   ]
  },
  {
   "cell_type": "code",
   "execution_count": 25,
   "metadata": {},
   "outputs": [],
   "source": [
    "using CUDA\n",
    "using Flux\n",
    "using Flux: onehotbatch, onecold\n",
    "using Flux.Losses: logitcrossentropy\n",
    "using Flux.Data: DataLoader\n",
    "using GeometricFlux\n",
    "using GeometricFlux.Datasets\n",
    "using GraphSignals\n",
    "using Graphs\n",
    "using Parameters: @with_kw\n",
    "using ProgressMeter: Progress, next!\n",
    "using Statistics\n",
    "using Random\n",
    "\n",
    "using RDKitMinimalLib\n",
    "using MolecularGraph\n",
    "using Plots, GraphPlot\n",
    "using OneHotArrays\n",
    "\n",
    "using Clapeyron\n",
    "import Clapeyron: a_res"
   ]
  },
  {
   "cell_type": "code",
   "execution_count": 26,
   "metadata": {},
   "outputs": [],
   "source": [
    "# atom_symbol(mol): atom letters as a symbol e.g. :C, :O and :N\n",
    "# charge(mol): electric charge of the atom. only integer charge is allowed in the model\n",
    "# multiplicity(mol): 1: no unpaired electron(default), 2: radical, 3: biradical\n",
    "# lone_pair(mol): number of lone pair on the atom\n",
    "# implicit_hydrogens(mol): number of implicit hydrogens that are not appear as graph vertices but automatically calculated, drawn in image and used for calculation of other descriptors.\n",
    "# valence(mol): number of atom valence, specific to each atom species and considering electric charge. Implicit number of hydrogens is obtained by subtracting the degree of the vertex from the valence.\n",
    "# is_aromatic(mol): whether the atom is aromatic or not. only binary aromaticity is allowed in the model.\n",
    "# pi_electron(mol): number of pi electrons\n",
    "# hybridization(mol): orbital hybridization e.g. sp, sp2 and sp3"
   ]
  },
  {
   "cell_type": "code",
   "execution_count": 27,
   "metadata": {},
   "outputs": [
    {
     "data": {
      "text/plain": [
       "FeaturedGraph:\n",
       "\tUndirected graph with (#V=4, #E=3) in adjacency matrix\n",
       "\tNode feature:\tℝ^10 <GraphSignals.NodeSignal{Matrix{Float32}}>\n",
       "\tEdge feature:\tℝ^1 <GraphSignals.EdgeSignal{LinearAlgebra.Adjoint{Int64, Vector{Int64}}}>"
      ]
     },
     "metadata": {},
     "output_type": "display_data"
    }
   ],
   "source": [
    "function concatenate_row(row)\n",
    "    concatenated = Float32[]\n",
    "    for vec in row\n",
    "        append!(concatenated, Float32.(vec))\n",
    "    end\n",
    "    return concatenated\n",
    "end\n",
    "\n",
    "function make_graph_from_smiles(smiles::String)::FeaturedGraph\n",
    "    # FeaturedGraph provided by GraphSignals for GeometricFlux, designed \n",
    "    # for use with GNNs\n",
    "    molgraph = smilestomol(smiles)\n",
    "\n",
    "    g = Graph(nv(molgraph))\n",
    "    for e in edges(molgraph)\n",
    "        add_edge!(g, e.src, e.dst)\n",
    "    end\n",
    "\n",
    "    # Should number of hydrogens be one-hot encoded?\n",
    "    num_h = map(x -> onehot(x, [1, 2, 3, 4]), implicit_hydrogens(molgraph))\n",
    "    hybrid = map(x -> onehot(x, [:sp, :sp2, :sp3]), hybridization(molgraph)) # One-hot encoded (sp, sp2, sp3)\n",
    "    atoms = map(x -> onehot(x, [:C, :O, :N]), atom_symbol(molgraph)) # One-hot encoded (C, O, N, etc.)\n",
    "\n",
    "    # Clunky way to do this, almost certainly better ways\n",
    "    nf = hcat(num_h, hybrid, atoms)\n",
    "    transformed_rows = [concatenate_row(row) for row in eachrow(nf)]\n",
    "    nf = hcat(transformed_rows...)\n",
    "    # display(nf) #! not correct, should be all one matrix\n",
    "\n",
    "    order = [molgraph.eprops[e][:order] for e in edges(molgraph)]\n",
    "    ef = order'\n",
    "\n",
    "    # nf = node features, ef = edge features\n",
    "    # Needs to be R^(n_features, n_nodes)\n",
    "    fg = FeaturedGraph(g, nf = nf, ef = ef)\n",
    "    # X, y = data.features, onehotbatch(data.targets, 1:7)\n",
    "\n",
    "    # Takes as input a single data tensor, or a tuple (or a named tuple) of tensors.\n",
    "    # The last dimension in each tensor is the observation dimension, i.e. the one\n",
    "    # divided into mini-batches.\n",
    "    # return fg\n",
    "    return fg\n",
    "end\n",
    "\n",
    "g = make_graph_from_smiles(\"C=CCC\")"
   ]
  },
  {
   "cell_type": "code",
   "execution_count": 23,
   "metadata": {},
   "outputs": [],
   "source": [
    "# Iterate over molecules in dataset and build graph for each one\n",
    "# Initially sample data for hydrocarbons\n",
    "#! isobutane, isopentane not defined for SAFTVRMie\n",
    "species = [\n",
    "    \"methane\",\n",
    "    \"ethane\",\n",
    "    \"propane\",\n",
    "    \"butane\",\n",
    "    \"pentane\",\n",
    "    \"hexane\",\n",
    "    \"heptane\",\n",
    "    \"octane\",\n",
    "    \"nonane\",\n",
    "    \"decane\",\n",
    "]\n",
    "\n",
    "# Define smiles map\n",
    "smiles_map = Dict(\n",
    "    \"methane\" => \"C\",\n",
    "    \"ethane\" => \"CC\",\n",
    "    \"propane\" => \"CCC\",\n",
    "    \"butane\" => \"CCCC\",\n",
    "    \"isobutane\" => \"CC(C)C\",\n",
    "    \"pentane\" => \"CCCCC\",\n",
    "    \"isopentane\" => \"CC(C)CC\",\n",
    "    \"hexane\" => \"CCCCCC\",\n",
    "    \"heptane\" => \"CCCCCCC\",\n",
    "    \"octane\" => \"CCCCCCCC\",\n",
    "    \"nonane\" => \"CCCCCCCCC\",\n",
    "    \"decane\" => \"CCCCCCCCCC\",\n",
    ")\n",
    "\n",
    "# X data contains graph, V, T\n",
    "# Y data contains a_res\n",
    "#* Sampling data along saturation curve\n",
    "T = Float32\n",
    "X_data = Vector{Tuple{typeof(g),T,T, String}}([])\n",
    "Y_data = Vector{Vector{T}}()\n",
    "\n",
    "n = 30\n",
    "for s in species\n",
    "    # model = GERG2008([s])\n",
    "    model = SAFTVRMie([s])\n",
    "    Tc, pc, Vc = crit_pure(model)\n",
    "    smiles = smiles_map[s]\n",
    "\n",
    "    # fingerprint = make_fingerprint(smiles)\n",
    "    fg = make_graph_from_smiles(smiles)\n",
    "\n",
    "    T_range = range(0.5 * Tc, 0.99 * Tc, n)\n",
    "    # V_range = range(0.5 * Vc, 1.5 * Vc, n) # V could be sampled from a logspace\n",
    "    for T in T_range\n",
    "        (p₀, V_vec...) = saturation_pressure(model, T)\n",
    "        for V in V_vec\n",
    "            push!(X_data, (fg, V, T, s))\n",
    "            a = a_res(model, V, T, [1.0])\n",
    "            push!(Y_data, Float32[a])\n",
    "        end\n",
    "    end\n",
    "end"
   ]
  },
  {
   "cell_type": "code",
   "execution_count": 21,
   "metadata": {},
   "outputs": [
    {
     "data": {
      "text/plain": [
       "(FeaturedGraph:\n",
       "\tUndirected graph with (#V=1, #E=0) in adjacency matrix\n",
       "\tNode feature:\tℝ^10 <GraphSignals.NodeSignal{Matrix{Float32}}>\n",
       "\tEdge feature:\tℝ^1 <GraphSignals.EdgeSignal{LinearAlgebra.Adjoint{Int64, Vector{Int64}}}>, 3.6714497f-5, 97.726006f0, \"methane\")"
      ]
     },
     "metadata": {},
     "output_type": "display_data"
    }
   ],
   "source": [
    "X_data[1]"
   ]
  },
  {
   "cell_type": "code",
   "execution_count": 15,
   "metadata": {},
   "outputs": [
    {
     "data": {
      "text/plain": [
       "Args"
      ]
     },
     "metadata": {},
     "output_type": "display_data"
    }
   ],
   "source": [
    "@with_kw mutable struct Args\n",
    "    η = 0.001               # learning rate\n",
    "    batch_size = 8          # batch size\n",
    "    epochs = 20             # number of epochs\n",
    "    seed = 0                # random seed\n",
    "    cuda = false            # use GPU\n",
    "    heads = 2               # attention heads\n",
    "    input_dim = 10          # input dimension #! What is this? -> ChatGPT suggests the number of features per node\n",
    "    hidden_dim = 2          # hidden dimension\n",
    "    target_dim = 7          # target dimension\n",
    "    dataset = Cora          # dataset to train on\n",
    "end"
   ]
  },
  {
   "cell_type": "code",
   "execution_count": 16,
   "metadata": {},
   "outputs": [
    {
     "data": {
      "text/plain": [
       "train (generic function with 1 method)"
      ]
     },
     "metadata": {},
     "output_type": "display_data"
    }
   ],
   "source": [
    "function train(data)\n",
    "    args = Args()\n",
    "    Random.seed!(args.seed)\n",
    "\n",
    "    if args.cuda && CUDA.has_cuda()\n",
    "        device = gpu\n",
    "        CUDA.allowscalar(false)\n",
    "        @info \"Training on GPU\"\n",
    "    else\n",
    "        device = cpu\n",
    "        @info \"Training on CPU\"\n",
    "    end\n",
    "\n",
    "    model = Chain(\n",
    "        WithGraph(fg, GATConv(args.input_dim => args.hidden_dim, heads=args.heads, concat=true)),\n",
    "        Dropout(0.2),\n",
    "        WithGraph(fg, GATConv(args.hidden_dim * args.heads => args.target_dim, heads=args.heads, concat=false)),\n",
    "    ) |> device\n",
    "\n",
    "end"
   ]
  }
 ],
 "metadata": {
  "kernelspec": {
   "display_name": "Julia 1.8.2",
   "language": "julia",
   "name": "julia-1.8"
  },
  "language_info": {
   "file_extension": ".jl",
   "mimetype": "application/julia",
   "name": "julia",
   "version": "1.8.2"
  }
 },
 "nbformat": 4,
 "nbformat_minor": 2
}
