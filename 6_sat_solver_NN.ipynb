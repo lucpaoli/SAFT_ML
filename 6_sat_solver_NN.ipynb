{
 "cells": [
  {
   "cell_type": "code",
   "execution_count": 1,
   "metadata": {},
   "outputs": [],
   "source": [
    "# Set up a chain rule to calculate the loss function @ saturation w/out propagating derivatives through saturation solver\n",
    "# This was done in the Language of Molecules paper.\n",
    "\n",
    "# 1_differentiable_saft works when no solvers are involved, i.e. for properties specified with a given (V, T)\n",
    "# if, instead, we want to solve for saturation conditions, then I have the old problem of "
   ]
  },
  {
   "cell_type": "code",
   "execution_count": 2,
   "metadata": {},
   "outputs": [
    {
     "name": "stderr",
     "output_type": "stream",
     "text": [
      "\u001b[32m\u001b[1m  Activating\u001b[22m\u001b[39m project at `/mnt/data/code/SAFT_ML`\n"
     ]
    }
   ],
   "source": [
    "import Pkg; Pkg.activate(\".\")\n",
    "\n",
    "using Revise\n",
    "using Clapeyron\n",
    "includet(\"./saftvrmienn.jl\")\n",
    "# These are functions we're going to overload for SAFTVRMieNN\n",
    "import Clapeyron: a_res, saturation_pressure, pressure\n",
    "\n",
    "using Flux\n",
    "using Plots\n",
    "using ForwardDiff, DiffResults\n",
    "\n",
    "using Zygote, ChainRulesCore\n",
    "using ImplicitDifferentiation\n",
    "\n",
    "using CSV, DataFrames\n",
    "using MLUtils\n",
    "using RDKitMinimalLib \n",
    "using Statistics"
   ]
  },
  {
   "cell_type": "code",
   "execution_count": 3,
   "metadata": {},
   "outputs": [
    {
     "name": "stdout",
     "output_type": "stream",
     "text": [
      "p = 16.267432682904257\n",
      "(∂p∂X, ∂p∂T) = "
     ]
    },
    {
     "name": "stdout",
     "output_type": "stream",
     "text": [
      "(([-0.0, -109.93750954832122, -6.1054825082882065, 21.530979767241124, 4.416594844872492, -1.3639866231328097],), (3.5520440640281374,))\n"
     ]
    }
   ],
   "source": [
    "X = [16.04, 1.0, 3.737, 6.0, 12.504, 152.58]\n",
    "T = 100.0\n",
    "\n",
    "X = [114.14099884033203, 1.6983753442764282, 7.993192672729492, 8.710663437843323, 18.967856884002686, 248.48995435237885]\n",
    "# T = 345.38165\n",
    "\n",
    "p = saturation_pressure_NN(X, T)\n",
    "∂p∂X = Zygote.gradient(X -> saturation_pressure_NN(X, T), X)\n",
    "∂p∂T = Zygote.gradient(T -> saturation_pressure_NN(X, T), T)\n",
    "@show p\n",
    "@show ∂p∂X, ∂p∂T;"
   ]
  },
  {
   "cell_type": "code",
   "execution_count": 4,
   "metadata": {},
   "outputs": [
    {
     "name": "stderr",
     "output_type": "stream",
     "text": [
      "┌ Info: generating data for 80 molecules\n",
      "└ @ Main /mnt/data/code/SAFT_ML/6_sat_solver_NN.ipynb:5\n"
     ]
    },
    {
     "data": {
      "text/plain": [
       "25-element DataLoader(::Tuple{SubArray{Tuple{Vector{Float32}, Float32, Float32}, 1, Vector{Tuple{Vector{Float32}, Float32, Float32}}, Tuple{Vector{Int64}}, false}, SubArray{Vector{Float32}, 1, Vector{Vector{Float32}}, Tuple{Vector{Int64}}, false}}, batchsize=32)\n",
       "  with first element:\n",
       "  (32-element Vector{Tuple{Vector{Float32}, Float32, Float32}}, 32-element Vector{Vector{Float32}},)"
      ]
     },
     "metadata": {},
     "output_type": "display_data"
    }
   ],
   "source": [
    "# Create training & validation data\n",
    "df = CSV.read(\"./pcpsaft_params/SI_pcp-saft_parameters.csv\", DataFrame, header=1)\n",
    "filter!(row -> occursin(\"Alkane\", row.family), df)\n",
    "mol_data = zip(df.common_name, df.isomeric_smiles, df.molarweight)\n",
    "@info \"generating data for $(length(mol_data)) molecules\"\n",
    "\n",
    "function make_fingerprint(s::String)::Vector{Float32}\n",
    "    mol = get_mol(s)\n",
    "    @assert !isnothing(mol)\n",
    "\n",
    "    fp = []\n",
    "    fp_details = Dict{String,Any}(\"nBits\" => 512, \"radius\" => 4)\n",
    "    fp_str = get_morgan_fp(mol, fp_details)\n",
    "    append!(fp, [parse(Float32, string(c)) for c in fp_str])\n",
    "\n",
    "    desc = get_descriptors(mol)\n",
    "    relevant_keys = [\n",
    "        \"CrippenClogP\",\n",
    "        \"NumHeavyAtoms\",\n",
    "        \"amw\",\n",
    "        \"FractionCSP3\",\n",
    "    ]\n",
    "    relevant_desc = [desc[k] for k in relevant_keys]\n",
    "    append!(fp, last.(relevant_desc))\n",
    "\n",
    "    return fp\n",
    "end\n",
    "\n",
    "T = Float32\n",
    "X_data = Vector{Tuple{Vector{T},T,T}}([])\n",
    "Y_data = Vector{Vector{T}}()\n",
    "\n",
    "n = 50\n",
    "for (name, smiles, Mw) in mol_data\n",
    "    saft_model = PPCSAFT([name])\n",
    "    Tc, pc, Vc = crit_pure(saft_model)\n",
    "\n",
    "    fp = make_fingerprint(smiles)\n",
    "    append!(fp, Mw)\n",
    "\n",
    "    T_range = range(0.5 * Tc, 0.975 * Tc, n)\n",
    "    for T in T_range\n",
    "        (p₀, V_vec...) = saturation_pressure(saft_model, T)\n",
    "        push!(X_data, (fp, T, Mw))\n",
    "        push!(Y_data, Float32[p₀])\n",
    "    end\n",
    "end\n",
    "\n",
    "# Shuffle all samples into a random order\n",
    "# Package into data loaders\n",
    "# batchsize = 10\n",
    "# train_data = DataLoader((X_data, y_data), batchsize=batchsize, shuffle=true)\n",
    "#* shuffle=true randomises observation order every iteration\n",
    "\n",
    "#* Remove zero columns from fingerprints\n",
    "# Identify Zero Columns\n",
    "num_cols = length(X_data[1][1])\n",
    "zero_cols = trues(num_cols)\n",
    "for (vec, _, _) in X_data\n",
    "    zero_cols .&= (vec .== 0)\n",
    "end\n",
    "\n",
    "# Create a Mask\n",
    "keep_cols = .!zero_cols\n",
    "\n",
    "# Apply Mask\n",
    "X_data = [(vec[keep_cols], val1, val2) for (vec, val1, val2) in X_data]\n",
    "\n",
    "train_data, test_data = splitobs((X_data, Y_data), at=0.8, shuffle = true)\n",
    "\n",
    "train_loader = DataLoader(train_data, batchsize=32, shuffle=true)\n",
    "test_loader = DataLoader(test_data, batchsize=32, shuffle=false)"
   ]
  },
  {
   "cell_type": "code",
   "execution_count": 8,
   "metadata": {},
   "outputs": [
    {
     "name": "stderr",
     "output_type": "stream",
     "text": [
      "┌ Info: Beginning training...\n",
      "└ @ Main /mnt/data/code/SAFT_ML/6_sat_solver_NN.ipynb:27\n"
     ]
    },
    {
     "name": "stdout",
     "output_type": "stream",
     "text": [
      "Epoch: 1, Loss: (μ=71.35296, σ=417.38248), Percent Error: 184.08777\n"
     ]
    },
    {
     "name": "stdout",
     "output_type": "stream",
     "text": [
      "Epoch: 2, Loss: (μ=0.99999, σ=4.4212916e-6), Percent Error: 142.04364\n"
     ]
    },
    {
     "name": "stdout",
     "output_type": "stream",
     "text": [
      "Epoch: 3, Loss: (μ=0.9999896, σ=4.599009e-6), Percent Error: 128.02893\n"
     ]
    },
    {
     "name": "stdout",
     "output_type": "stream",
     "text": [
      "Epoch: 4, Loss: (μ=0.99998933, σ=4.4760964e-6), Percent Error: 121.02156\n"
     ]
    },
    {
     "name": "stdout",
     "output_type": "stream",
     "text": [
      "Epoch: 5, Loss: (μ=0.99998856, σ=4.8766838e-6), Percent Error: 116.81715\n"
     ]
    },
    {
     "name": "stdout",
     "output_type": "stream",
     "text": [
      "Epoch: 6, Loss: (μ=0.999987, σ=5.4502943e-6), Percent Error: 114.01419\n"
     ]
    },
    {
     "name": "stdout",
     "output_type": "stream",
     "text": [
      "Epoch: 7, Loss: (μ=0.99997354, σ=5.06484e-5), Percent Error: 112.01198\n"
     ]
    },
    {
     "name": "stdout",
     "output_type": "stream",
     "text": [
      "Epoch: 8, Loss: (μ=0.9934108, σ=0.074945614), Percent Error: 110.44045\n"
     ]
    },
    {
     "name": "stdout",
     "output_type": "stream",
     "text": [
      "Epoch: 9, Loss: (μ=0.6448264, σ=0.5920592), Percent Error: 105.28033\n"
     ]
    },
    {
     "name": "stdout",
     "output_type": "stream",
     "text": [
      "Epoch: 10, Loss: (μ=1.1885074, σ=4.495989), Percent Error: 101.243805\n"
     ]
    },
    {
     "name": "stdout",
     "output_type": "stream",
     "text": [
      "Epoch: 11, Loss: (μ=0.73375833, σ=0.7059607), Percent Error: 98.43873\n"
     ]
    },
    {
     "name": "stdout",
     "output_type": "stream",
     "text": [
      "Epoch: 12, Loss: (μ=0.5847461, σ=0.4805339), Percent Error: 95.16965\n"
     ]
    },
    {
     "name": "stdout",
     "output_type": "stream",
     "text": [
      "Epoch: 13, Loss: (μ=0.710217, σ=0.42703426), Percent Error: 93.4197\n"
     ]
    },
    {
     "name": "stdout",
     "output_type": "stream",
     "text": [
      "Epoch: 14, Loss: (μ=0.6184689, σ=0.4198383), Percent Error: 91.4374\n"
     ]
    },
    {
     "name": "stdout",
     "output_type": "stream",
     "text": [
      "Epoch: 15, Loss: (μ=0.6463517, σ=0.9566935), Percent Error: 89.448685\n"
     ]
    },
    {
     "name": "stdout",
     "output_type": "stream",
     "text": [
      "Epoch: 16, Loss: (μ=0.5878609, σ=0.42434537), Percent Error: 87.79231\n"
     ]
    },
    {
     "name": "stdout",
     "output_type": "stream",
     "text": [
      "Epoch: 17, Loss: (μ=0.71606255, σ=1.9612975), Percent Error: 86.13824\n"
     ]
    },
    {
     "name": "stdout",
     "output_type": "stream",
     "text": [
      "Epoch: 18, Loss: (μ=0.6461348, σ=0.45942718), Percent Error: 85.00422\n"
     ]
    },
    {
     "name": "stdout",
     "output_type": "stream",
     "text": [
      "Epoch: 19, Loss: (μ=0.61902, σ=0.5558048), Percent Error: 83.78992\n"
     ]
    },
    {
     "name": "stdout",
     "output_type": "stream",
     "text": [
      "Epoch: 20, Loss: (μ=1.7437934, σ=12.4384775), Percent Error: 82.698265\n"
     ]
    },
    {
     "name": "stdout",
     "output_type": "stream",
     "text": [
      "Epoch: 21, Loss: (μ=0.46945232, σ=0.50103307), Percent Error: 80.99704\n"
     ]
    },
    {
     "name": "stdout",
     "output_type": "stream",
     "text": [
      "Epoch: 22, Loss: (μ=0.45953995, σ=0.5004099), Percent Error: 79.40521\n"
     ]
    },
    {
     "name": "stdout",
     "output_type": "stream",
     "text": [
      "Epoch: 23, Loss: (μ=0.4595832, σ=0.50045675), Percent Error: 77.95191\n"
     ]
    },
    {
     "name": "stdout",
     "output_type": "stream",
     "text": [
      "Epoch: 24, Loss: (μ=0.4495711, σ=0.49952596), Percent Error: 76.578026\n"
     ]
    },
    {
     "name": "stdout",
     "output_type": "stream",
     "text": [
      "Epoch: 25, Loss: (μ=0.41960084, σ=0.49557602), Percent Error: 75.1941\n"
     ]
    },
    {
     "name": "stdout",
     "output_type": "stream",
     "text": [
      "Epoch: 26, Loss: (μ=0.4495223, σ=0.49947184), Percent Error: 74.03186\n"
     ]
    },
    {
     "name": "stdout",
     "output_type": "stream",
     "text": [
      "Epoch: 27, Loss: (μ=0.42958337, σ=0.49709022), Percent Error: 72.88176\n"
     ]
    },
    {
     "name": "stdout",
     "output_type": "stream",
     "text": [
      "Epoch: 28, Loss: (μ=0.38954648, σ=0.48963955), Percent Error: 71.67089\n"
     ]
    },
    {
     "name": "stdout",
     "output_type": "stream",
     "text": [
      "Epoch: 29, Loss: (μ=0.4795021, σ=0.5015987), Percent Error: 70.85379\n"
     ]
    },
    {
     "name": "stdout",
     "output_type": "stream",
     "text": [
      "Epoch: 30, Loss: (μ=0.44947702, σ=0.49942252), Percent Error: 69.99111\n"
     ]
    },
    {
     "name": "stdout",
     "output_type": "stream",
     "text": [
      "Epoch: 31, Loss: (μ=0.42954236, σ=0.49704373), Percent Error: 69.119705\n"
     ]
    },
    {
     "name": "stdout",
     "output_type": "stream",
     "text": [
      "Epoch: 32, Loss: (μ=0.39957073, σ=0.4918402), Percent Error: 68.209045\n"
     ]
    },
    {
     "name": "stdout",
     "output_type": "stream",
     "text": [
      "Epoch: 33, Loss: (μ=0.43954334, σ=0.49837264), Percent Error: 67.47474\n"
     ]
    },
    {
     "name": "stdout",
     "output_type": "stream",
     "text": [
      "Epoch: 34, Loss: (μ=0.4795096, σ=0.50160664), Percent Error: 66.90123\n"
     ]
    },
    {
     "name": "stdout",
     "output_type": "stream",
     "text": [
      "Epoch: 35, Loss: (μ=0.43946224, σ=0.4982818), Percent Error: 66.24613\n"
     ]
    },
    {
     "name": "stdout",
     "output_type": "stream",
     "text": [
      "Epoch: 36, Loss: (μ=0.43945378, σ=0.49827218), Percent Error: 65.62743\n"
     ]
    },
    {
     "name": "stdout",
     "output_type": "stream",
     "text": [
      "Epoch: 37, Loss: (μ=0.4295267, σ=0.4970259), Percent Error: 65.015236\n"
     ]
    },
    {
     "name": "stdout",
     "output_type": "stream",
     "text": [
      "Epoch: 38, Loss: (μ=0.39946198, σ=0.49170777), Percent Error: 64.356224\n"
     ]
    },
    {
     "name": "stdout",
     "output_type": "stream",
     "text": [
      "Epoch: 39, Loss: (μ=0.4295011, σ=0.49699545), Percent Error: 63.808\n"
     ]
    },
    {
     "name": "stdout",
     "output_type": "stream",
     "text": [
      "Epoch: 40, Loss: (μ=0.44952422, σ=0.4994745), Percent Error: 63.337204\n"
     ]
    },
    {
     "name": "stdout",
     "output_type": "stream",
     "text": [
      "Epoch: 41, Loss: (μ=0.46953785, σ=0.50112283), Percent Error: 62.93817\n"
     ]
    },
    {
     "name": "stdout",
     "output_type": "stream",
     "text": [
      "Epoch: 42, Loss: (μ=0.49952924, σ=0.5020489), Percent Error: 62.629555\n"
     ]
    },
    {
     "name": "stdout",
     "output_type": "stream",
     "text": [
      "Epoch: 43, Loss: (μ=0.4795266, σ=0.50162387), Percent Error: 62.28878\n"
     ]
    },
    {
     "name": "stdout",
     "output_type": "stream",
     "text": [
      "Epoch: 44, Loss: (μ=0.44948003, σ=0.49942577), Percent Error: 61.895256\n"
     ]
    },
    {
     "name": "stdout",
     "output_type": "stream",
     "text": [
      "Epoch: 45, Loss: (μ=0.4235649, σ=0.4936433), Percent Error: 61.46676\n"
     ]
    },
    {
     "name": "stdout",
     "output_type": "stream",
     "text": [
      "Epoch: 46, Loss: (μ=0.46826404, σ=0.4999595), Percent Error: 61.150314\n"
     ]
    },
    {
     "name": "stdout",
     "output_type": "stream",
     "text": [
      "Epoch: 47, Loss: (μ=0.4196908, σ=0.4956814), Percent Error: 60.742535\n"
     ]
    },
    {
     "name": "stdout",
     "output_type": "stream",
     "text": [
      "Epoch: 48, Loss: (μ=0.4996305, σ=0.5021498), Percent Error: 60.518345\n"
     ]
    },
    {
     "name": "stdout",
     "output_type": "stream",
     "text": [
      "Epoch: 49, Loss: (μ=0.39975306, σ=0.49206382), Percent Error: 60.09935\n"
     ]
    },
    {
     "name": "stdout",
     "output_type": "stream",
     "text": [
      "Epoch: 50, Loss: (μ=0.34976834, σ=0.47905698), Percent Error: 59.59713\n"
     ]
    }
   ],
   "source": [
    "# Base NN architecture from \"Fitting Error vs Parameter Performance\"\n",
    "nfeatures = length(X_data[1][1])\n",
    "nout = 5\n",
    "unbounded_model = Chain(\n",
    "    Dense(nfeatures, 2048, selu),\n",
    "    Dense(2048, 1024, selu),\n",
    "    Dense(1024, 512, selu),\n",
    "    Dense(512, 128, selu),\n",
    "    Dense(128, 32, selu),\n",
    "    Dense(32, nout, selu),\n",
    ")\n",
    "# model(x) = m, σ, λ_a, λ_r, ϵ\n",
    "\n",
    "opt = ADAM(1e-3)\n",
    "\n",
    "# Add constant bias to the model output\n",
    "b = [\n",
    "    3.0,\n",
    "    3.5,\n",
    "    7.0,\n",
    "    12.5,\n",
    "    250.0,\n",
    "]\n",
    "nn_model(x) = unbounded_model(x)/50.0 .+ b\n",
    "\n",
    "# Training loop\n",
    "@info \"Beginning training...\"\n",
    "epochs = 50\n",
    "epoch_percent_loss_vec = Float32[]\n",
    "loss_vec = Float32[]\n",
    "mean_loss_vec = Float32[]\n",
    "mean_percent_loss_vec = Float32[]\n",
    "\n",
    "loss_fn(X_batch, y_batch) = begin\n",
    "    n = 0\n",
    "    batch_loss = 0.0\n",
    "    percent_error = 0.0\n",
    "    for (X, y) in zip(X_batch, y_batch)\n",
    "        fp, T, Mw = X\n",
    "        y = y[1]\n",
    "\n",
    "        X_pred = nn_model(fp)\n",
    "        X_saft = vcat(Mw, X_pred)\n",
    "        Tc = critical_temperature_NN(X_saft)\n",
    "        if T < Tc\n",
    "            ŷ = saturation_pressure_NN(X_saft, T)\n",
    "            if !isnan(ŷ)\n",
    "                n += 1\n",
    "                batch_loss += ((ŷ - y) / y)^2\n",
    "                percent_error += 100 * abs((ŷ - y) / y)\n",
    "            end\n",
    "        end\n",
    "    end\n",
    "    if n != 0\n",
    "        batch_loss /= n\n",
    "        percent_error /= n\n",
    "    end\n",
    "    batch_loss, percent_error\n",
    "end\n",
    "\n",
    "for epoch in 1:epochs\n",
    "    epoch_loss_vec = Float32[]\n",
    "    epoch_loss = 0.0\n",
    "\n",
    "    for (X_batch, y_batch) in train_loader\n",
    "        # @show loss_fn(X_batch, y_batch) \n",
    "\n",
    "        batch_loss = 0.0\n",
    "        percent_error = 0.0\n",
    "        grads = Zygote.gradient(Flux.params(unbounded_model)) do\n",
    "            batch_loss, percent_error = loss_fn(X_batch, y_batch)\n",
    "            percent_error\n",
    "        end\n",
    "\n",
    "        # Update model parameters\n",
    "        Flux.update!(opt, Flux.params(unbounded_model), grads)\n",
    "\n",
    "        append!(epoch_loss_vec, batch_loss)\n",
    "        append!(epoch_percent_loss_vec, percent_error)\n",
    "    end\n",
    "    mean_loss = mean(epoch_loss_vec)\n",
    "    mean_percent_loss = mean(epoch_percent_loss_vec)\n",
    "    append!(loss_vec, epoch_loss_vec)\n",
    "    append!(mean_loss_vec, mean_loss)\n",
    "    append!(mean_percent_loss_vec, mean_percent_loss)\n",
    "\n",
    "    # if epoch in [1, 2, 3, 4, 5, 10] || epoch % 5 == 0 || epoch == epochs || epoch % 2 == 0\n",
    "    println(\"Epoch: $epoch, Loss: (μ=$mean_loss, σ=$(std(epoch_loss_vec))), Percent Error: $mean_percent_loss\")\n",
    "    # end\n",
    "end"
   ]
  },
  {
   "cell_type": "code",
   "execution_count": 13,
   "metadata": {},
   "outputs": [
    {
     "name": "stdout",
     "output_type": "stream",
     "text": [
      "Epoch: 50, Loss: (μ=0.4496959, σ=0.4996638), Percent Error: 59.31061\n"
     ]
    },
    {
     "name": "stdout",
     "output_type": "stream",
     "text": [
      "Epoch: 51, Loss: (μ=0.41975698, σ=0.49575853), Percent Error: 58.97748\n"
     ]
    },
    {
     "name": "stdout",
     "output_type": "stream",
     "text": [
      "Epoch: 52, Loss: (μ=0.45968917, σ=0.5005715), Percent Error: 58.732334\n"
     ]
    },
    {
     "name": "stdout",
     "output_type": "stream",
     "text": [
      "Epoch: 53, Loss: (μ=0.3997085, σ=0.49200907), Percent Error: 58.385162\n"
     ]
    },
    {
     "name": "stdout",
     "output_type": "stream",
     "text": [
      "Epoch: 54, Loss: (μ=0.44970217, σ=0.49967033), Percent Error: 58.14153\n"
     ]
    },
    {
     "name": "stdout",
     "output_type": "stream",
     "text": [
      "Epoch: 55, Loss: (μ=0.37974724, σ=0.48750836), Percent Error: 57.781635\n"
     ]
    },
    {
     "name": "stdout",
     "output_type": "stream",
     "text": [
      "Epoch: 56, Loss: (μ=0.4297389, σ=0.49726838), Percent Error: 57.52207\n"
     ]
    },
    {
     "name": "stdout",
     "output_type": "stream",
     "text": [
      "Epoch: 57, Loss: (μ=0.42969626, σ=0.49721968), Percent Error: 57.271435\n"
     ]
    },
    {
     "name": "stdout",
     "output_type": "stream",
     "text": [
      "Epoch: 58, Loss: (μ=0.3497699, σ=0.47905862), Percent Error: 56.893757\n"
     ]
    },
    {
     "name": "stdout",
     "output_type": "stream",
     "text": [
      "Epoch: 59, Loss: (μ=0.37969765, σ=0.48744625), Percent Error: 56.578606\n"
     ]
    },
    {
     "name": "stdout",
     "output_type": "stream",
     "text": [
      "Epoch: 60, Loss: (μ=0.419699, σ=0.49569222), Percent Error: 56.339363\n"
     ]
    },
    {
     "name": "stdout",
     "output_type": "stream",
     "text": [
      "Epoch: 61, Loss: (μ=0.37970054, σ=0.48745006), Percent Error: 56.04333\n"
     ]
    },
    {
     "name": "stdout",
     "output_type": "stream",
     "text": [
      "Epoch: 62, Loss: (μ=0.41974685, σ=0.49574813), Percent Error: 55.820213\n"
     ]
    },
    {
     "name": "stdout",
     "output_type": "stream",
     "text": [
      "Epoch: 63, Loss: (μ=0.36984617, σ=0.48503554), Percent Error: 55.52603\n"
     ]
    },
    {
     "name": "stdout",
     "output_type": "stream",
     "text": [
      "Epoch: 64, Loss: (μ=0.3692711, σ=0.4843054), Percent Error: 55.240448\n"
     ]
    },
    {
     "name": "stdout",
     "output_type": "stream",
     "text": [
      "Epoch: 65, Loss: (μ=0.4097289, σ=0.4939856), Percent Error: 55.02448\n"
     ]
    },
    {
     "name": "stdout",
     "output_type": "stream",
     "text": [
      "Epoch: 66, Loss: (μ=0.3497925, σ=0.4790898), Percent Error: 54.72545\n"
     ]
    },
    {
     "name": "stdout",
     "output_type": "stream",
     "text": [
      "Epoch: 67, Loss: (μ=0.37969562, σ=0.48744383), Percent Error: 54.479263\n"
     ]
    },
    {
     "name": "stdout",
     "output_type": "stream",
     "text": [
      "Epoch: 68, Loss: (μ=0.41979408, σ=0.49580318), Percent Error: 54.298256\n"
     ]
    },
    {
     "name": "stdout",
     "output_type": "stream",
     "text": [
      "Epoch: 69, Loss: (μ=0.39974117, σ=0.49204963), Percent Error: 54.093807\n"
     ]
    },
    {
     "name": "stdout",
     "output_type": "stream",
     "text": [
      "Epoch: 70, Loss: (μ=0.41968796, σ=0.49567938), Percent Error: 53.92325\n"
     ]
    },
    {
     "name": "stdout",
     "output_type": "stream",
     "text": [
      "Epoch: 71, Loss: (μ=0.40968403, σ=0.49393317), Percent Error: 53.74354\n"
     ]
    },
    {
     "name": "stdout",
     "output_type": "stream",
     "text": [
      "Epoch: 72, Loss: (μ=0.37973216, σ=0.48749027), Percent Error: 53.5277\n"
     ]
    },
    {
     "name": "stdout",
     "output_type": "stream",
     "text": [
      "Epoch: 73, Loss: (μ=0.34973136, σ=0.479007), Percent Error: 53.277138\n"
     ]
    },
    {
     "name": "stdout",
     "output_type": "stream",
     "text": [
      "Epoch: 74, Loss: (μ=0.42967486, σ=0.49719688), Percent Error: 53.139896\n"
     ]
    },
    {
     "name": "stdout",
     "output_type": "stream",
     "text": [
      "Epoch: 75, Loss: (μ=0.35967115, σ=0.48198083), Percent Error: 52.914146\n"
     ]
    },
    {
     "name": "stdout",
     "output_type": "stream",
     "text": [
      "Epoch: 76, Loss: (μ=0.41966626, σ=0.49565417), Percent Error: 52.77219\n"
     ]
    },
    {
     "name": "stdout",
     "output_type": "stream",
     "text": [
      "Epoch: 77, Loss: (μ=0.36973843, σ=0.484896), Percent Error: 52.569817\n"
     ]
    },
    {
     "name": "stdout",
     "output_type": "stream",
     "text": [
      "Epoch: 78, Loss: (μ=0.36971313, σ=0.4848632), Percent Error: 52.372547\n"
     ]
    },
    {
     "name": "stdout",
     "output_type": "stream",
     "text": [
      "Epoch: 79, Loss: (μ=0.3296555, σ=0.472092), Percent Error: 52.130177\n"
     ]
    },
    {
     "name": "stdout",
     "output_type": "stream",
     "text": [
      "Epoch: 80, Loss: (μ=0.39818886, σ=0.49039173), Percent Error: 51.97926\n"
     ]
    },
    {
     "name": "stdout",
     "output_type": "stream",
     "text": [
      "Epoch: 81, Loss: (μ=0.40942723, σ=0.49363154), Percent Error: 51.845016\n"
     ]
    },
    {
     "name": "stdout",
     "output_type": "stream",
     "text": [
      "Epoch: 82, Loss: (μ=0.38984215, σ=0.49000943), Percent Error: 51.69016\n"
     ]
    },
    {
     "name": "stdout",
     "output_type": "stream",
     "text": [
      "Epoch: 83, Loss: (μ=0.36982524, σ=0.48500803), Percent Error: 51.51517\n"
     ]
    },
    {
     "name": "stdout",
     "output_type": "stream",
     "text": [
      "Epoch: 84, Loss: (μ=0.4296331, σ=0.4971476), Percent Error: 51.41478\n"
     ]
    },
    {
     "name": "stdout",
     "output_type": "stream",
     "text": [
      "Epoch: 85, Loss: (μ=0.42969677, σ=0.49722064), Percent Error: 51.31675\n"
     ]
    },
    {
     "name": "stdout",
     "output_type": "stream",
     "text": [
      "Epoch: 86, Loss: (μ=0.39957044, σ=0.49184045), Percent Error: 51.186428\n"
     ]
    },
    {
     "name": "stdout",
     "output_type": "stream",
     "text": [
      "Epoch: 87, Loss: (μ=0.37976852, σ=0.4875363), Percent Error: 51.03645\n"
     ]
    },
    {
     "name": "stdout",
     "output_type": "stream",
     "text": [
      "Epoch: 88, Loss: (μ=0.33971772, σ=0.47570258), Percent Error: 50.844875\n"
     ]
    },
    {
     "name": "stdout",
     "output_type": "stream",
     "text": [
      "Epoch: 89, Loss: (μ=0.35978976, σ=0.48213807), Percent Error: 50.679813\n"
     ]
    },
    {
     "name": "stdout",
     "output_type": "stream",
     "text": [
      "Epoch: 90, Loss: (μ=0.38970414, σ=0.4898381), Percent Error: 50.551296\n"
     ]
    },
    {
     "name": "stdout",
     "output_type": "stream",
     "text": [
      "Epoch: 91, Loss: (μ=0.37964723, σ=0.48738265), Percent Error: 50.414677\n"
     ]
    },
    {
     "name": "stdout",
     "output_type": "stream",
     "text": [
      "Epoch: 92, Loss: (μ=0.41963974, σ=0.49562344), Percent Error: 50.324005\n"
     ]
    },
    {
     "name": "stdout",
     "output_type": "stream",
     "text": [
      "Epoch: 93, Loss: (μ=0.36969495, σ=0.48483962), Percent Error: 50.1821\n"
     ]
    },
    {
     "name": "stdout",
     "output_type": "stream",
     "text": [
      "Epoch: 94, Loss: (μ=0.39968646, σ=0.49198332), Percent Error: 50.07475\n"
     ]
    },
    {
     "name": "stdout",
     "output_type": "stream",
     "text": [
      "Epoch: 95, Loss: (μ=0.42968202, σ=0.49720526), Percent Error: 50.000893\n"
     ]
    },
    {
     "name": "stdout",
     "output_type": "stream",
     "text": [
      "Epoch: 96, Loss: (μ=0.43955, σ=0.49838105), Percent Error: 49.938797\n"
     ]
    },
    {
     "name": "stdout",
     "output_type": "stream",
     "text": [
      "Epoch: 97, Loss: (μ=0.39947385, σ=0.49172458), Percent Error: 49.83711\n"
     ]
    },
    {
     "name": "stdout",
     "output_type": "stream",
     "text": [
      "Epoch: 98, Loss: (μ=0.3496155, σ=0.47884992), Percent Error: 49.687042\n"
     ]
    },
    {
     "name": "stdout",
     "output_type": "stream",
     "text": [
      "Epoch: 99, Loss: (μ=0.3497423, σ=0.479022), Percent Error: 49.540043\n"
     ]
    },
    {
     "name": "stdout",
     "output_type": "stream",
     "text": [
      "Epoch: 100, Loss: (μ=0.4292827, σ=0.49674717), Percent Error: 49.474934\n"
     ]
    }
   ],
   "source": [
    "for epoch in 50:100\n",
    "    epoch_loss_vec = Float32[]\n",
    "    epoch_loss = 0.0\n",
    "\n",
    "    for (X_batch, y_batch) in train_loader\n",
    "        # @show loss_fn(X_batch, y_batch) \n",
    "\n",
    "        batch_loss = 0.0\n",
    "        percent_error = 0.0\n",
    "        grads = Zygote.gradient(Flux.params(unbounded_model)) do\n",
    "            batch_loss, percent_error = loss_fn(X_batch, y_batch)\n",
    "            percent_error\n",
    "        end\n",
    "\n",
    "        # Update model parameters\n",
    "        Flux.update!(opt, Flux.params(unbounded_model), grads)\n",
    "\n",
    "        append!(epoch_loss_vec, batch_loss)\n",
    "        append!(epoch_percent_loss_vec, percent_error)\n",
    "    end\n",
    "    mean_loss = mean(epoch_loss_vec)\n",
    "    mean_percent_loss = mean(epoch_percent_loss_vec)\n",
    "    append!(loss_vec, epoch_loss_vec)\n",
    "    append!(mean_loss_vec, mean_loss)\n",
    "    append!(mean_percent_loss_vec, mean_percent_loss)\n",
    "\n",
    "    # if epoch in [1, 2, 3, 4, 5, 10] || epoch % 5 == 0 || epoch == epochs || epoch % 2 == 0\n",
    "    println(\"Epoch: $epoch, Loss: (μ=$mean_loss, σ=$(std(epoch_loss_vec))), Percent Error: $mean_percent_loss\")\n",
    "    # end\n",
    "end"
   ]
  },
  {
   "cell_type": "code",
   "execution_count": null,
   "metadata": {},
   "outputs": [],
   "source": [
    "for epoch in 101:200\n",
    "    epoch_loss_vec = Float32[]\n",
    "    epoch_loss = 0.0\n",
    "\n",
    "    for (X_batch, y_batch) in train_loader\n",
    "        # @show loss_fn(X_batch, y_batch) \n",
    "\n",
    "        batch_loss = 0.0\n",
    "        percent_error = 0.0\n",
    "        grads = Zygote.gradient(Flux.params(unbounded_model)) do\n",
    "            batch_loss, percent_error = loss_fn(X_batch, y_batch)\n",
    "            percent_error\n",
    "        end\n",
    "\n",
    "        # Update model parameters\n",
    "        Flux.update!(opt, Flux.params(unbounded_model), grads)\n",
    "\n",
    "        append!(epoch_loss_vec, batch_loss)\n",
    "        append!(epoch_percent_loss_vec, percent_error)\n",
    "    end\n",
    "    mean_loss = mean(epoch_loss_vec)\n",
    "    mean_percent_loss = mean(epoch_percent_loss_vec)\n",
    "    append!(loss_vec, epoch_loss_vec)\n",
    "    append!(mean_loss_vec, mean_loss)\n",
    "    append!(mean_percent_loss_vec, mean_percent_loss)\n",
    "\n",
    "    # if epoch in [1, 2, 3, 4, 5, 10] || epoch % 5 == 0 || epoch == epochs || epoch % 2 == 0\n",
    "    println(\"Epoch: $epoch, Loss: (μ=$mean_loss, σ=$(std(epoch_loss_vec))), Percent Error: $mean_percent_loss\")\n",
    "    # end\n",
    "end\n",
    "\n",
    "model_state = Flux.state(unbounded_model);\n",
    "jldsave(\"200_epochs.jld2\"; model_state)"
   ]
  },
  {
   "cell_type": "code",
   "execution_count": 15,
   "metadata": {},
   "outputs": [],
   "source": [
    "model_state = Flux.state(unbounded_model);"
   ]
  },
  {
   "cell_type": "code",
   "execution_count": 11,
   "metadata": {},
   "outputs": [],
   "source": [
    "using JLD2"
   ]
  },
  {
   "cell_type": "code",
   "execution_count": 16,
   "metadata": {},
   "outputs": [],
   "source": [
    "jldsave(\"100_epochs.jld2\"; model_state)"
   ]
  },
  {
   "cell_type": "code",
   "execution_count": 7,
   "metadata": {},
   "outputs": [
    {
     "data": {
      "image/png": "[encoded data removed]",
      "image/svg+xml": [
       "<?xml version=\"1.0\" encoding=\"utf-8\"?>\n",
       "<svg xmlns=\"http://www.w3.org/2000/svg\" xmlns:xlink=\"http://www.w3.org/1999/xlink\" width=\"600\" height=\"400\" viewBox=\"0 0 2400 1600\">\n",
       "<defs>\n",
       "  <clipPath id=\"clip870\">\n",
       "    <rect x=\"0\" y=\"0\" width=\"2400\" height=\"1600\"/>\n",
       "  </clipPath>\n",
       "</defs>\n",
       "<path clip-path=\"url(#clip870)\" d=\"M0 1600 L2400 1600 L2400 0 L0 0  Z\" fill=\"#ffffff\" fill-rule=\"evenodd\" fill-opacity=\"1\"/>\n",
       "<defs>\n",
       "  <clipPath id=\"clip871\">\n",
       "    <rect x=\"480\" y=\"0\" width=\"1681\" height=\"1600\"/>\n",
       "  </clipPath>\n",
       "</defs>\n",
       "<path clip-path=\"url(#clip870)\" d=\"M277.431 1486.45 L2352.76 1486.45 L2352.76 47.2441 L277.431 47.2441  Z\" fill=\"#ffffff\" fill-rule=\"evenodd\" fill-opacity=\"1\"/>\n",
       "<defs>\n",
       "  <clipPath id=\"clip872\">\n",
       "    <rect x=\"277\" y=\"47\" width=\"2076\" height=\"1440\"/>\n",
       "  </clipPath>\n",
       "</defs>\n",
       "<polyline clip-path=\"url(#clip872)\" style=\"stroke:#000000; stroke-linecap:round; stroke-linejoin:round; stroke-width:2; stroke-opacity:0.1; fill:none\" points=\"334.207,1486.45 334.207,47.2441 \"/>\n",
       "<polyline clip-path=\"url(#clip872)\" style=\"stroke:#000000; stroke-linecap:round; stroke-linejoin:round; stroke-width:2; stroke-opacity:0.1; fill:none\" points=\"824.16,1486.45 824.16,47.2441 \"/>\n",
       "<polyline clip-path=\"url(#clip872)\" style=\"stroke:#000000; stroke-linecap:round; stroke-linejoin:round; stroke-width:2; stroke-opacity:0.1; fill:none\" points=\"1314.11,1486.45 1314.11,47.2441 \"/>\n",
       "<polyline clip-path=\"url(#clip872)\" style=\"stroke:#000000; stroke-linecap:round; stroke-linejoin:round; stroke-width:2; stroke-opacity:0.1; fill:none\" points=\"1804.07,1486.45 1804.07,47.2441 \"/>\n",
       "<polyline clip-path=\"url(#clip872)\" style=\"stroke:#000000; stroke-linecap:round; stroke-linejoin:round; stroke-width:2; stroke-opacity:0.1; fill:none\" points=\"2294.02,1486.45 2294.02,47.2441 \"/>\n",
       "<polyline clip-path=\"url(#clip870)\" style=\"stroke:#000000; stroke-linecap:round; stroke-linejoin:round; stroke-width:4; stroke-opacity:1; fill:none\" points=\"277.431,1486.45 2352.76,1486.45 \"/>\n",
       "<polyline clip-path=\"url(#clip870)\" style=\"stroke:#000000; stroke-linecap:round; stroke-linejoin:round; stroke-width:4; stroke-opacity:1; fill:none\" points=\"334.207,1486.45 334.207,1467.55 \"/>\n",
       "<polyline clip-path=\"url(#clip870)\" style=\"stroke:#000000; stroke-linecap:round; stroke-linejoin:round; stroke-width:4; stroke-opacity:1; fill:none\" points=\"824.16,1486.45 824.16,1467.55 \"/>\n",
       "<polyline clip-path=\"url(#clip870)\" style=\"stroke:#000000; stroke-linecap:round; stroke-linejoin:round; stroke-width:4; stroke-opacity:1; fill:none\" points=\"1314.11,1486.45 1314.11,1467.55 \"/>\n",
       "<polyline clip-path=\"url(#clip870)\" style=\"stroke:#000000; stroke-linecap:round; stroke-linejoin:round; stroke-width:4; stroke-opacity:1; fill:none\" points=\"1804.07,1486.45 1804.07,1467.55 \"/>\n",
       "<polyline clip-path=\"url(#clip870)\" style=\"stroke:#000000; stroke-linecap:round; stroke-linejoin:round; stroke-width:4; stroke-opacity:1; fill:none\" points=\"2294.02,1486.45 2294.02,1467.55 \"/>\n",
       "<path clip-path=\"url(#clip870)\" d=\"M334.207 1517.37 Q330.596 1517.37 328.767 1520.93 Q326.961 1524.47 326.961 1531.6 Q326.961 1538.71 328.767 1542.27 Q330.596 1545.82 334.207 1545.82 Q337.841 1545.82 339.647 1542.27 Q341.475 1538.71 341.475 1531.6 Q341.475 1524.47 339.647 1520.93 Q337.841 1517.37 334.207 1517.37 M334.207 1513.66 Q340.017 1513.66 343.072 1518.27 Q346.151 1522.85 346.151 1531.6 Q346.151 1540.33 343.072 1544.94 Q340.017 1549.52 334.207 1549.52 Q328.397 1549.52 325.318 1544.94 Q322.262 1540.33 322.262 1531.6 Q322.262 1522.85 325.318 1518.27 Q328.397 1513.66 334.207 1513.66 Z\" fill=\"#000000\" fill-rule=\"nonzero\" fill-opacity=\"1\" /><path clip-path=\"url(#clip870)\" d=\"M787.852 1544.91 L804.172 1544.91 L804.172 1548.85 L782.227 1548.85 L782.227 1544.91 Q784.889 1542.16 789.473 1537.53 Q794.079 1532.88 795.26 1531.53 Q797.505 1529.01 798.385 1527.27 Q799.288 1525.51 799.288 1523.82 Q799.288 1521.07 797.343 1519.33 Q795.422 1517.6 792.32 1517.6 Q790.121 1517.6 787.667 1518.36 Q785.237 1519.13 782.459 1520.68 L782.459 1515.95 Q785.283 1514.82 787.737 1514.24 Q790.19 1513.66 792.227 1513.66 Q797.598 1513.66 800.792 1516.35 Q803.987 1519.03 803.987 1523.52 Q803.987 1525.65 803.176 1527.57 Q802.389 1529.47 800.283 1532.07 Q799.704 1532.74 796.602 1535.95 Q793.501 1539.15 787.852 1544.91 Z\" fill=\"#000000\" fill-rule=\"nonzero\" fill-opacity=\"1\" /><path clip-path=\"url(#clip870)\" d=\"M814.033 1514.29 L832.389 1514.29 L832.389 1518.22 L818.315 1518.22 L818.315 1526.7 Q819.334 1526.35 820.352 1526.19 Q821.371 1526 822.389 1526 Q828.176 1526 831.556 1529.17 Q834.936 1532.34 834.936 1537.76 Q834.936 1543.34 831.463 1546.44 Q827.991 1549.52 821.672 1549.52 Q819.496 1549.52 817.227 1549.15 Q814.982 1548.78 812.575 1548.04 L812.575 1543.34 Q814.658 1544.47 816.88 1545.03 Q819.102 1545.58 821.579 1545.58 Q825.584 1545.58 827.922 1543.48 Q830.26 1541.37 830.26 1537.76 Q830.26 1534.15 827.922 1532.04 Q825.584 1529.94 821.579 1529.94 Q819.704 1529.94 817.829 1530.35 Q815.977 1530.77 814.033 1531.65 L814.033 1514.29 Z\" fill=\"#000000\" fill-rule=\"nonzero\" fill-opacity=\"1\" /><path clip-path=\"url(#clip870)\" d=\"M854.148 1517.37 Q850.537 1517.37 848.709 1520.93 Q846.903 1524.47 846.903 1531.6 Q846.903 1538.71 848.709 1542.27 Q850.537 1545.82 854.148 1545.82 Q857.783 1545.82 859.588 1542.27 Q861.417 1538.71 861.417 1531.6 Q861.417 1524.47 859.588 1520.93 Q857.783 1517.37 854.148 1517.37 M854.148 1513.66 Q859.959 1513.66 863.014 1518.27 Q866.093 1522.85 866.093 1531.6 Q866.093 1540.33 863.014 1544.94 Q859.959 1549.52 854.148 1549.52 Q848.338 1549.52 845.26 1544.94 Q842.204 1540.33 842.204 1531.6 Q842.204 1522.85 845.26 1518.27 Q848.338 1513.66 854.148 1513.66 Z\" fill=\"#000000\" fill-rule=\"nonzero\" fill-opacity=\"1\" /><path clip-path=\"url(#clip870)\" d=\"M1273.73 1514.29 L1292.09 1514.29 L1292.09 1518.22 L1278.01 1518.22 L1278.01 1526.7 Q1279.03 1526.35 1280.05 1526.19 Q1281.07 1526 1282.09 1526 Q1287.88 1526 1291.25 1529.17 Q1294.63 1532.34 1294.63 1537.76 Q1294.63 1543.34 1291.16 1546.44 Q1287.69 1549.52 1281.37 1549.52 Q1279.19 1549.52 1276.93 1549.15 Q1274.68 1548.78 1272.27 1548.04 L1272.27 1543.34 Q1274.36 1544.47 1276.58 1545.03 Q1278.8 1545.58 1281.28 1545.58 Q1285.28 1545.58 1287.62 1543.48 Q1289.96 1541.37 1289.96 1537.76 Q1289.96 1534.15 1287.62 1532.04 Q1285.28 1529.94 1281.28 1529.94 Q1279.4 1529.94 1277.53 1530.35 Q1275.68 1530.77 1273.73 1531.65 L1273.73 1514.29 Z\" fill=\"#000000\" fill-rule=\"nonzero\" fill-opacity=\"1\" /><path clip-path=\"url(#clip870)\" d=\"M1313.85 1517.37 Q1310.24 1517.37 1308.41 1520.93 Q1306.6 1524.47 1306.6 1531.6 Q1306.6 1538.71 1308.41 1542.27 Q1310.24 1545.82 1313.85 1545.82 Q1317.48 1545.82 1319.29 1542.27 Q1321.12 1538.71 1321.12 1531.6 Q1321.12 1524.47 1319.29 1520.93 Q1317.48 1517.37 1313.85 1517.37 M1313.85 1513.66 Q1319.66 1513.66 1322.71 1518.27 Q1325.79 1522.85 1325.79 1531.6 Q1325.79 1540.33 1322.71 1544.94 Q1319.66 1549.52 1313.85 1549.52 Q1308.04 1549.52 1304.96 1544.94 Q1301.9 1540.33 1301.9 1531.6 Q1301.9 1522.85 1304.96 1518.27 Q1308.04 1513.66 1313.85 1513.66 Z\" fill=\"#000000\" fill-rule=\"nonzero\" fill-opacity=\"1\" /><path clip-path=\"url(#clip870)\" d=\"M1344.01 1517.37 Q1340.4 1517.37 1338.57 1520.93 Q1336.76 1524.47 1336.76 1531.6 Q1336.76 1538.71 1338.57 1542.27 Q1340.4 1545.82 1344.01 1545.82 Q1347.64 1545.82 1349.45 1542.27 Q1351.28 1538.71 1351.28 1531.6 Q1351.28 1524.47 1349.45 1520.93 Q1347.64 1517.37 1344.01 1517.37 M1344.01 1513.66 Q1349.82 1513.66 1352.87 1518.27 Q1355.95 1522.85 1355.95 1531.6 Q1355.95 1540.33 1352.87 1544.94 Q1349.82 1549.52 1344.01 1549.52 Q1338.2 1549.52 1335.12 1544.94 Q1332.06 1540.33 1332.06 1531.6 Q1332.06 1522.85 1335.12 1518.27 Q1338.2 1513.66 1344.01 1513.66 Z\" fill=\"#000000\" fill-rule=\"nonzero\" fill-opacity=\"1\" /><path clip-path=\"url(#clip870)\" d=\"M1762.34 1514.29 L1784.56 1514.29 L1784.56 1516.28 L1772.02 1548.85 L1767.13 1548.85 L1778.94 1518.22 L1762.34 1518.22 L1762.34 1514.29 Z\" fill=\"#000000\" fill-rule=\"nonzero\" fill-opacity=\"1\" /><path clip-path=\"url(#clip870)\" d=\"M1793.73 1514.29 L1812.09 1514.29 L1812.09 1518.22 L1798.01 1518.22 L1798.01 1526.7 Q1799.03 1526.35 1800.05 1526.19 Q1801.07 1526 1802.09 1526 Q1807.87 1526 1811.25 1529.17 Q1814.63 1532.34 1814.63 1537.76 Q1814.63 1543.34 1811.16 1546.44 Q1807.69 1549.52 1801.37 1549.52 Q1799.19 1549.52 1796.93 1549.15 Q1794.68 1548.78 1792.27 1548.04 L1792.27 1543.34 Q1794.36 1544.47 1796.58 1545.03 Q1798.8 1545.58 1801.28 1545.58 Q1805.28 1545.58 1807.62 1543.48 Q1809.96 1541.37 1809.96 1537.76 Q1809.96 1534.15 1807.62 1532.04 Q1805.28 1529.94 1801.28 1529.94 Q1799.4 1529.94 1797.53 1530.35 Q1795.68 1530.77 1793.73 1531.65 L1793.73 1514.29 Z\" fill=\"#000000\" fill-rule=\"nonzero\" fill-opacity=\"1\" /><path clip-path=\"url(#clip870)\" d=\"M1833.85 1517.37 Q1830.24 1517.37 1828.41 1520.93 Q1826.6 1524.47 1826.6 1531.6 Q1826.6 1538.71 1828.41 1542.27 Q1830.24 1545.82 1833.85 1545.82 Q1837.48 1545.82 1839.29 1542.27 Q1841.12 1538.71 1841.12 1531.6 Q1841.12 1524.47 1839.29 1520.93 Q1837.48 1517.37 1833.85 1517.37 M1833.85 1513.66 Q1839.66 1513.66 1842.71 1518.27 Q1845.79 1522.85 1845.79 1531.6 Q1845.79 1540.33 1842.71 1544.94 Q1839.66 1549.52 1833.85 1549.52 Q1828.04 1549.52 1824.96 1544.94 Q1821.9 1540.33 1821.9 1531.6 Q1821.9 1522.85 1824.96 1518.27 Q1828.04 1513.66 1833.85 1513.66 Z\" fill=\"#000000\" fill-rule=\"nonzero\" fill-opacity=\"1\" /><path clip-path=\"url(#clip870)\" d=\"M2238.55 1544.91 L2246.18 1544.91 L2246.18 1518.55 L2237.87 1520.21 L2237.87 1515.95 L2246.14 1514.29 L2250.81 1514.29 L2250.81 1544.91 L2258.45 1544.91 L2258.45 1548.85 L2238.55 1548.85 L2238.55 1544.91 Z\" fill=\"#000000\" fill-rule=\"nonzero\" fill-opacity=\"1\" /><path clip-path=\"url(#clip870)\" d=\"M2277.9 1517.37 Q2274.29 1517.37 2272.46 1520.93 Q2270.65 1524.47 2270.65 1531.6 Q2270.65 1538.71 2272.46 1542.27 Q2274.29 1545.82 2277.9 1545.82 Q2281.53 1545.82 2283.34 1542.27 Q2285.17 1538.71 2285.17 1531.6 Q2285.17 1524.47 2283.34 1520.93 Q2281.53 1517.37 2277.9 1517.37 M2277.9 1513.66 Q2283.71 1513.66 2286.76 1518.27 Q2289.84 1522.85 2289.84 1531.6 Q2289.84 1540.33 2286.76 1544.94 Q2283.71 1549.52 2277.9 1549.52 Q2272.09 1549.52 2269.01 1544.94 Q2265.95 1540.33 2265.95 1531.6 Q2265.95 1522.85 2269.01 1518.27 Q2272.09 1513.66 2277.9 1513.66 Z\" fill=\"#000000\" fill-rule=\"nonzero\" fill-opacity=\"1\" /><path clip-path=\"url(#clip870)\" d=\"M2308.06 1517.37 Q2304.45 1517.37 2302.62 1520.93 Q2300.81 1524.47 2300.81 1531.6 Q2300.81 1538.71 2302.62 1542.27 Q2304.45 1545.82 2308.06 1545.82 Q2311.69 1545.82 2313.5 1542.27 Q2315.33 1538.71 2315.33 1531.6 Q2315.33 1524.47 2313.5 1520.93 Q2311.69 1517.37 2308.06 1517.37 M2308.06 1513.66 Q2313.87 1513.66 2316.93 1518.27 Q2320 1522.85 2320 1531.6 Q2320 1540.33 2316.93 1544.94 Q2313.87 1549.52 2308.06 1549.52 Q2302.25 1549.52 2299.17 1544.94 Q2296.12 1540.33 2296.12 1531.6 Q2296.12 1522.85 2299.17 1518.27 Q2302.25 1513.66 2308.06 1513.66 Z\" fill=\"#000000\" fill-rule=\"nonzero\" fill-opacity=\"1\" /><path clip-path=\"url(#clip870)\" d=\"M2338.22 1517.37 Q2334.61 1517.37 2332.78 1520.93 Q2330.98 1524.47 2330.98 1531.6 Q2330.98 1538.71 2332.78 1542.27 Q2334.61 1545.82 2338.22 1545.82 Q2341.86 1545.82 2343.66 1542.27 Q2345.49 1538.71 2345.49 1531.6 Q2345.49 1524.47 2343.66 1520.93 Q2341.86 1517.37 2338.22 1517.37 M2338.22 1513.66 Q2344.03 1513.66 2347.09 1518.27 Q2350.17 1522.85 2350.17 1531.6 Q2350.17 1540.33 2347.09 1544.94 Q2344.03 1549.52 2338.22 1549.52 Q2332.41 1549.52 2329.33 1544.94 Q2326.28 1540.33 2326.28 1531.6 Q2326.28 1522.85 2329.33 1518.27 Q2332.41 1513.66 2338.22 1513.66 Z\" fill=\"#000000\" fill-rule=\"nonzero\" fill-opacity=\"1\" /><polyline clip-path=\"url(#clip872)\" style=\"stroke:#000000; stroke-linecap:round; stroke-linejoin:round; stroke-width:2; stroke-opacity:0.1; fill:none\" points=\"277.431,1447.81 2352.76,1447.81 \"/>\n",
       "<polyline clip-path=\"url(#clip872)\" style=\"stroke:#000000; stroke-linecap:round; stroke-linejoin:round; stroke-width:2; stroke-opacity:0.1; fill:none\" points=\"277.431,1117.85 2352.76,1117.85 \"/>\n",
       "<polyline clip-path=\"url(#clip872)\" style=\"stroke:#000000; stroke-linecap:round; stroke-linejoin:round; stroke-width:2; stroke-opacity:0.1; fill:none\" points=\"277.431,787.893 2352.76,787.893 \"/>\n",
       "<polyline clip-path=\"url(#clip872)\" style=\"stroke:#000000; stroke-linecap:round; stroke-linejoin:round; stroke-width:2; stroke-opacity:0.1; fill:none\" points=\"277.431,457.934 2352.76,457.934 \"/>\n",
       "<polyline clip-path=\"url(#clip872)\" style=\"stroke:#000000; stroke-linecap:round; stroke-linejoin:round; stroke-width:2; stroke-opacity:0.1; fill:none\" points=\"277.431,127.975 2352.76,127.975 \"/>\n",
       "<polyline clip-path=\"url(#clip870)\" style=\"stroke:#000000; stroke-linecap:round; stroke-linejoin:round; stroke-width:4; stroke-opacity:1; fill:none\" points=\"277.431,1486.45 277.431,47.2441 \"/>\n",
       "<polyline clip-path=\"url(#clip870)\" style=\"stroke:#000000; stroke-linecap:round; stroke-linejoin:round; stroke-width:4; stroke-opacity:1; fill:none\" points=\"277.431,1447.81 296.329,1447.81 \"/>\n",
       "<polyline clip-path=\"url(#clip870)\" style=\"stroke:#000000; stroke-linecap:round; stroke-linejoin:round; stroke-width:4; stroke-opacity:1; fill:none\" points=\"277.431,1117.85 296.329,1117.85 \"/>\n",
       "<polyline clip-path=\"url(#clip870)\" style=\"stroke:#000000; stroke-linecap:round; stroke-linejoin:round; stroke-width:4; stroke-opacity:1; fill:none\" points=\"277.431,787.893 296.329,787.893 \"/>\n",
       "<polyline clip-path=\"url(#clip870)\" style=\"stroke:#000000; stroke-linecap:round; stroke-linejoin:round; stroke-width:4; stroke-opacity:1; fill:none\" points=\"277.431,457.934 296.329,457.934 \"/>\n",
       "<polyline clip-path=\"url(#clip870)\" style=\"stroke:#000000; stroke-linecap:round; stroke-linejoin:round; stroke-width:4; stroke-opacity:1; fill:none\" points=\"277.431,127.975 296.329,127.975 \"/>\n",
       "<path clip-path=\"url(#clip870)\" d=\"M229.487 1433.61 Q225.875 1433.61 224.047 1437.17 Q222.241 1440.72 222.241 1447.85 Q222.241 1454.95 224.047 1458.52 Q225.875 1462.06 229.487 1462.06 Q233.121 1462.06 234.926 1458.52 Q236.755 1454.95 236.755 1447.85 Q236.755 1440.72 234.926 1437.17 Q233.121 1433.61 229.487 1433.61 M229.487 1429.91 Q235.297 1429.91 238.352 1434.51 Q241.431 1439.1 241.431 1447.85 Q241.431 1456.57 238.352 1461.18 Q235.297 1465.76 229.487 1465.76 Q223.676 1465.76 220.598 1461.18 Q217.542 1456.57 217.542 1447.85 Q217.542 1439.1 220.598 1434.51 Q223.676 1429.91 229.487 1429.91 Z\" fill=\"#000000\" fill-rule=\"nonzero\" fill-opacity=\"1\" /><path clip-path=\"url(#clip870)\" d=\"M54.5569 1137.64 L62.1958 1137.64 L62.1958 1111.28 L53.8856 1112.95 L53.8856 1108.69 L62.1495 1107.02 L66.8254 1107.02 L66.8254 1137.64 L74.4642 1137.64 L74.4642 1141.58 L54.5569 1141.58 L54.5569 1137.64 Z\" fill=\"#000000\" fill-rule=\"nonzero\" fill-opacity=\"1\" /><path clip-path=\"url(#clip870)\" d=\"M83.9086 1135.7 L88.7928 1135.7 L88.7928 1141.58 L83.9086 1141.58 L83.9086 1135.7 Z\" fill=\"#000000\" fill-rule=\"nonzero\" fill-opacity=\"1\" /><path clip-path=\"url(#clip870)\" d=\"M108.978 1110.1 Q105.367 1110.1 103.538 1113.66 Q101.733 1117.2 101.733 1124.33 Q101.733 1131.44 103.538 1135.01 Q105.367 1138.55 108.978 1138.55 Q112.612 1138.55 114.418 1135.01 Q116.246 1131.44 116.246 1124.33 Q116.246 1117.2 114.418 1113.66 Q112.612 1110.1 108.978 1110.1 M108.978 1106.39 Q114.788 1106.39 117.844 1111 Q120.922 1115.58 120.922 1124.33 Q120.922 1133.06 117.844 1137.67 Q114.788 1142.25 108.978 1142.25 Q103.168 1142.25 100.089 1137.67 Q97.0335 1133.06 97.0335 1124.33 Q97.0335 1115.58 100.089 1111 Q103.168 1106.39 108.978 1106.39 Z\" fill=\"#000000\" fill-rule=\"nonzero\" fill-opacity=\"1\" /><path clip-path=\"url(#clip870)\" d=\"M157.311 1116.12 L146.732 1126.74 L157.311 1137.32 L154.556 1140.12 L143.931 1129.5 L133.306 1140.12 L130.575 1137.32 L141.131 1126.74 L130.575 1116.12 L133.306 1113.32 L143.931 1123.94 L154.556 1113.32 L157.311 1116.12 Z\" fill=\"#000000\" fill-rule=\"nonzero\" fill-opacity=\"1\" /><path clip-path=\"url(#clip870)\" d=\"M169.672 1137.64 L177.311 1137.64 L177.311 1111.28 L169.001 1112.95 L169.001 1108.69 L177.265 1107.02 L181.94 1107.02 L181.94 1137.64 L189.579 1137.64 L189.579 1141.58 L169.672 1141.58 L169.672 1137.64 Z\" fill=\"#000000\" fill-rule=\"nonzero\" fill-opacity=\"1\" /><path clip-path=\"url(#clip870)\" d=\"M209.024 1110.1 Q205.413 1110.1 203.584 1113.66 Q201.778 1117.2 201.778 1124.33 Q201.778 1131.44 203.584 1135.01 Q205.413 1138.55 209.024 1138.55 Q212.658 1138.55 214.463 1135.01 Q216.292 1131.44 216.292 1124.33 Q216.292 1117.2 214.463 1113.66 Q212.658 1110.1 209.024 1110.1 M209.024 1106.39 Q214.834 1106.39 217.889 1111 Q220.968 1115.58 220.968 1124.33 Q220.968 1133.06 217.889 1137.67 Q214.834 1142.25 209.024 1142.25 Q203.214 1142.25 200.135 1137.67 Q197.079 1133.06 197.079 1124.33 Q197.079 1115.58 200.135 1111 Q203.214 1106.39 209.024 1106.39 Z\" fill=\"#000000\" fill-rule=\"nonzero\" fill-opacity=\"1\" /><path clip-path=\"url(#clip870)\" d=\"M233.645 1089.4 L224.053 1104.39 L233.645 1104.39 L233.645 1089.4 M232.648 1086.09 L237.425 1086.09 L237.425 1104.39 L241.431 1104.39 L241.431 1107.55 L237.425 1107.55 L237.425 1114.17 L233.645 1114.17 L233.645 1107.55 L220.968 1107.55 L220.968 1103.88 L232.648 1086.09 Z\" fill=\"#000000\" fill-rule=\"nonzero\" fill-opacity=\"1\" /><path clip-path=\"url(#clip870)\" d=\"M57.7745 807.685 L74.0939 807.685 L74.0939 811.621 L52.1495 811.621 L52.1495 807.685 Q54.8115 804.931 59.3949 800.301 Q64.0013 795.648 65.1819 794.306 Q67.4272 791.783 68.3068 790.047 Q69.2096 788.287 69.2096 786.598 Q69.2096 783.843 67.2652 782.107 Q65.3439 780.371 62.2421 780.371 Q60.043 780.371 57.5893 781.135 Q55.1588 781.898 52.381 783.449 L52.381 778.727 Q55.2051 777.593 57.6588 777.014 Q60.1124 776.436 62.1495 776.436 Q67.5198 776.436 70.7142 779.121 Q73.9087 781.806 73.9087 786.297 Q73.9087 788.426 73.0985 790.347 Q72.3115 792.246 70.205 794.838 Q69.6263 795.509 66.5245 798.727 Q63.4226 801.921 57.7745 807.685 Z\" fill=\"#000000\" fill-rule=\"nonzero\" fill-opacity=\"1\" /><path clip-path=\"url(#clip870)\" d=\"M83.9086 805.741 L88.7928 805.741 L88.7928 811.621 L83.9086 811.621 L83.9086 805.741 Z\" fill=\"#000000\" fill-rule=\"nonzero\" fill-opacity=\"1\" /><path clip-path=\"url(#clip870)\" d=\"M108.978 780.139 Q105.367 780.139 103.538 783.704 Q101.733 787.246 101.733 794.375 Q101.733 801.482 103.538 805.046 Q105.367 808.588 108.978 808.588 Q112.612 808.588 114.418 805.046 Q116.246 801.482 116.246 794.375 Q116.246 787.246 114.418 783.704 Q112.612 780.139 108.978 780.139 M108.978 776.436 Q114.788 776.436 117.844 781.042 Q120.922 785.625 120.922 794.375 Q120.922 803.102 117.844 807.709 Q114.788 812.292 108.978 812.292 Q103.168 812.292 100.089 807.709 Q97.0335 803.102 97.0335 794.375 Q97.0335 785.625 100.089 781.042 Q103.168 776.436 108.978 776.436 Z\" fill=\"#000000\" fill-rule=\"nonzero\" fill-opacity=\"1\" /><path clip-path=\"url(#clip870)\" d=\"M157.311 786.158 L146.732 796.783 L157.311 807.361 L154.556 810.162 L143.931 799.537 L133.306 810.162 L130.575 807.361 L141.131 796.783 L130.575 786.158 L133.306 783.357 L143.931 793.982 L154.556 783.357 L157.311 786.158 Z\" fill=\"#000000\" fill-rule=\"nonzero\" fill-opacity=\"1\" /><path clip-path=\"url(#clip870)\" d=\"M169.672 807.685 L177.311 807.685 L177.311 781.32 L169.001 782.986 L169.001 778.727 L177.265 777.061 L181.94 777.061 L181.94 807.685 L189.579 807.685 L189.579 811.621 L169.672 811.621 L169.672 807.685 Z\" fill=\"#000000\" fill-rule=\"nonzero\" fill-opacity=\"1\" /><path clip-path=\"url(#clip870)\" d=\"M209.024 780.139 Q205.413 780.139 203.584 783.704 Q201.778 787.246 201.778 794.375 Q201.778 801.482 203.584 805.046 Q205.413 808.588 209.024 808.588 Q212.658 808.588 214.463 805.046 Q216.292 801.482 216.292 794.375 Q216.292 787.246 214.463 783.704 Q212.658 780.139 209.024 780.139 M209.024 776.436 Q214.834 776.436 217.889 781.042 Q220.968 785.625 220.968 794.375 Q220.968 803.102 217.889 807.709 Q214.834 812.292 209.024 812.292 Q203.214 812.292 200.135 807.709 Q197.079 803.102 197.079 794.375 Q197.079 785.625 200.135 781.042 Q203.214 776.436 209.024 776.436 Z\" fill=\"#000000\" fill-rule=\"nonzero\" fill-opacity=\"1\" /><path clip-path=\"url(#clip870)\" d=\"M233.645 759.44 L224.053 774.43 L233.645 774.43 L233.645 759.44 M232.648 756.13 L237.425 756.13 L237.425 774.43 L241.431 774.43 L241.431 777.59 L237.425 777.59 L237.425 784.21 L233.645 784.21 L233.645 777.59 L220.968 777.59 L220.968 773.922 L232.648 756.13 Z\" fill=\"#000000\" fill-rule=\"nonzero\" fill-opacity=\"1\" /><path clip-path=\"url(#clip870)\" d=\"M67.9133 463.027 Q71.2698 463.745 73.1448 466.013 Q75.0429 468.282 75.0429 471.615 Q75.0429 476.731 71.5244 479.532 Q68.0059 482.333 61.5245 482.333 Q59.3486 482.333 57.0338 481.893 Q54.7421 481.476 52.2884 480.62 L52.2884 476.106 Q54.2328 477.24 56.5477 477.819 Q58.8625 478.398 61.3856 478.398 Q65.7837 478.398 68.0754 476.661 Q70.3902 474.925 70.3902 471.615 Q70.3902 468.56 68.2374 466.847 Q66.1078 465.111 62.2884 465.111 L58.2606 465.111 L58.2606 461.268 L62.4735 461.268 Q65.9226 461.268 67.7513 459.902 Q69.58 458.513 69.58 455.921 Q69.58 453.259 67.6819 451.847 Q65.8069 450.412 62.2884 450.412 Q60.3671 450.412 58.168 450.828 Q55.969 451.245 53.3301 452.125 L53.3301 447.958 Q55.9921 447.217 58.3069 446.847 Q60.6449 446.476 62.705 446.476 Q68.0291 446.476 71.1309 448.907 Q74.2327 451.314 74.2327 455.435 Q74.2327 458.305 72.5892 460.296 Q70.9457 462.263 67.9133 463.027 Z\" fill=\"#000000\" fill-rule=\"nonzero\" fill-opacity=\"1\" /><path clip-path=\"url(#clip870)\" d=\"M83.9086 475.782 L88.7928 475.782 L88.7928 481.661 L83.9086 481.661 L83.9086 475.782 Z\" fill=\"#000000\" fill-rule=\"nonzero\" fill-opacity=\"1\" /><path clip-path=\"url(#clip870)\" d=\"M108.978 450.18 Q105.367 450.18 103.538 453.745 Q101.733 457.287 101.733 464.416 Q101.733 471.523 103.538 475.087 Q105.367 478.629 108.978 478.629 Q112.612 478.629 114.418 475.087 Q116.246 471.523 116.246 464.416 Q116.246 457.287 114.418 453.745 Q112.612 450.18 108.978 450.18 M108.978 446.476 Q114.788 446.476 117.844 451.083 Q120.922 455.666 120.922 464.416 Q120.922 473.143 117.844 477.749 Q114.788 482.333 108.978 482.333 Q103.168 482.333 100.089 477.749 Q97.0335 473.143 97.0335 464.416 Q97.0335 455.666 100.089 451.083 Q103.168 446.476 108.978 446.476 Z\" fill=\"#000000\" fill-rule=\"nonzero\" fill-opacity=\"1\" /><path clip-path=\"url(#clip870)\" d=\"M157.311 456.199 L146.732 466.824 L157.311 477.402 L154.556 480.203 L143.931 469.578 L133.306 480.203 L130.575 477.402 L141.131 466.824 L130.575 456.199 L133.306 453.398 L143.931 464.023 L154.556 453.398 L157.311 456.199 Z\" fill=\"#000000\" fill-rule=\"nonzero\" fill-opacity=\"1\" /><path clip-path=\"url(#clip870)\" d=\"M169.672 477.726 L177.311 477.726 L177.311 451.361 L169.001 453.027 L169.001 448.768 L177.265 447.101 L181.94 447.101 L181.94 477.726 L189.579 477.726 L189.579 481.661 L169.672 481.661 L169.672 477.726 Z\" fill=\"#000000\" fill-rule=\"nonzero\" fill-opacity=\"1\" /><path clip-path=\"url(#clip870)\" d=\"M209.024 450.18 Q205.413 450.18 203.584 453.745 Q201.778 457.287 201.778 464.416 Q201.778 471.523 203.584 475.087 Q205.413 478.629 209.024 478.629 Q212.658 478.629 214.463 475.087 Q216.292 471.523 216.292 464.416 Q216.292 457.287 214.463 453.745 Q212.658 450.18 209.024 450.18 M209.024 446.476 Q214.834 446.476 217.889 451.083 Q220.968 455.666 220.968 464.416 Q220.968 473.143 217.889 477.749 Q214.834 482.333 209.024 482.333 Q203.214 482.333 200.135 477.749 Q197.079 473.143 197.079 464.416 Q197.079 455.666 200.135 451.083 Q203.214 446.476 209.024 446.476 Z\" fill=\"#000000\" fill-rule=\"nonzero\" fill-opacity=\"1\" /><path clip-path=\"url(#clip870)\" d=\"M233.645 429.481 L224.053 444.471 L233.645 444.471 L233.645 429.481 M232.648 426.171 L237.425 426.171 L237.425 444.471 L241.431 444.471 L241.431 447.631 L237.425 447.631 L237.425 454.251 L233.645 454.251 L233.645 447.631 L220.968 447.631 L220.968 443.963 L232.648 426.171 Z\" fill=\"#000000\" fill-rule=\"nonzero\" fill-opacity=\"1\" /><path clip-path=\"url(#clip870)\" d=\"M66.5939 121.216 L54.7884 139.665 L66.5939 139.665 L66.5939 121.216 M65.367 117.142 L71.2466 117.142 L71.2466 139.665 L76.1772 139.665 L76.1772 143.554 L71.2466 143.554 L71.2466 151.702 L66.5939 151.702 L66.5939 143.554 L50.9921 143.554 L50.9921 139.04 L65.367 117.142 Z\" fill=\"#000000\" fill-rule=\"nonzero\" fill-opacity=\"1\" /><path clip-path=\"url(#clip870)\" d=\"M83.9086 145.823 L88.7928 145.823 L88.7928 151.702 L83.9086 151.702 L83.9086 145.823 Z\" fill=\"#000000\" fill-rule=\"nonzero\" fill-opacity=\"1\" /><path clip-path=\"url(#clip870)\" d=\"M108.978 120.221 Q105.367 120.221 103.538 123.786 Q101.733 127.328 101.733 134.457 Q101.733 141.564 103.538 145.128 Q105.367 148.67 108.978 148.67 Q112.612 148.67 114.418 145.128 Q116.246 141.564 116.246 134.457 Q116.246 127.328 114.418 123.786 Q112.612 120.221 108.978 120.221 M108.978 116.517 Q114.788 116.517 117.844 121.124 Q120.922 125.707 120.922 134.457 Q120.922 143.184 117.844 147.79 Q114.788 152.374 108.978 152.374 Q103.168 152.374 100.089 147.79 Q97.0335 143.184 97.0335 134.457 Q97.0335 125.707 100.089 121.124 Q103.168 116.517 108.978 116.517 Z\" fill=\"#000000\" fill-rule=\"nonzero\" fill-opacity=\"1\" /><path clip-path=\"url(#clip870)\" d=\"M157.311 126.24 L146.732 136.865 L157.311 147.443 L154.556 150.244 L143.931 139.619 L133.306 150.244 L130.575 147.443 L141.131 136.865 L130.575 126.24 L133.306 123.439 L143.931 134.064 L154.556 123.439 L157.311 126.24 Z\" fill=\"#000000\" fill-rule=\"nonzero\" fill-opacity=\"1\" /><path clip-path=\"url(#clip870)\" d=\"M169.672 147.767 L177.311 147.767 L177.311 121.402 L169.001 123.068 L169.001 118.809 L177.265 117.142 L181.94 117.142 L181.94 147.767 L189.579 147.767 L189.579 151.702 L169.672 151.702 L169.672 147.767 Z\" fill=\"#000000\" fill-rule=\"nonzero\" fill-opacity=\"1\" /><path clip-path=\"url(#clip870)\" d=\"M209.024 120.221 Q205.413 120.221 203.584 123.786 Q201.778 127.328 201.778 134.457 Q201.778 141.564 203.584 145.128 Q205.413 148.67 209.024 148.67 Q212.658 148.67 214.463 145.128 Q216.292 141.564 216.292 134.457 Q216.292 127.328 214.463 123.786 Q212.658 120.221 209.024 120.221 M209.024 116.517 Q214.834 116.517 217.889 121.124 Q220.968 125.707 220.968 134.457 Q220.968 143.184 217.889 147.79 Q214.834 152.374 209.024 152.374 Q203.214 152.374 200.135 147.79 Q197.079 143.184 197.079 134.457 Q197.079 125.707 200.135 121.124 Q203.214 116.517 209.024 116.517 Z\" fill=\"#000000\" fill-rule=\"nonzero\" fill-opacity=\"1\" /><path clip-path=\"url(#clip870)\" d=\"M233.645 99.5222 L224.053 114.512 L233.645 114.512 L233.645 99.5222 M232.648 96.212 L237.425 96.212 L237.425 114.512 L241.431 114.512 L241.431 117.672 L237.425 117.672 L237.425 124.292 L233.645 124.292 L233.645 117.672 L220.968 117.672 L220.968 114.004 L232.648 96.212 Z\" fill=\"#000000\" fill-rule=\"nonzero\" fill-opacity=\"1\" /><polyline clip-path=\"url(#clip872)\" style=\"stroke:#009af9; stroke-linecap:round; stroke-linejoin:round; stroke-width:4; stroke-opacity:1; fill:none\" points=\"336.167,87.9763 338.126,1408.65 340.086,924.21 342.046,1444.11 344.006,1434.74 345.966,1445.72 347.925,1442.93 349.885,1443.97 351.845,1444.95 353.805,1440.95 355.765,1443.15 357.724,1444.9 359.684,1444.77 361.644,1444.59 363.604,1444.74 365.564,1444.8 367.524,1444.62 369.483,1444.65 371.443,1444.66 373.403,1444.56 375.363,1444.54 377.323,1444.62 379.282,1444.37 381.242,1444.35 383.202,1444.86 385.162,1444.55 387.122,1444.57 389.081,1442.02 391.041,1444.79 393.001,1444.77 394.961,1444.69 396.921,1444.58 398.881,1444.61 400.84,1444.54 402.8,1444.68 404.76,1444.64 406.72,1444.54 408.68,1444.75 410.639,1444.56 412.599,1444.69 414.559,1444.55 416.519,1444.64 418.479,1444.72 420.439,1444.44 422.398,1444.55 424.358,1444.53 426.318,1444.52 428.278,1444.55 430.238,1444.54 432.197,1444.58 434.157,1444.54 436.117,1444.56 438.077,1444.55 440.037,1444.54 441.996,1444.6 443.956,1444.54 445.916,1444.55 447.876,1444.56 449.836,1444.6 451.796,1444.56 453.755,1444.54 455.715,1444.53 457.675,1444.59 459.635,1444.55 461.595,1444.58 463.554,1444.53 465.514,1444.52 467.474,1444.6 469.434,1444.55 471.394,1444.54 473.353,1444.54 475.313,1444.56 477.273,1444.53 479.233,1444.58 481.193,1444.56 483.153,1444.54 485.112,1444.64 487.072,1444.54 489.032,1444.53 490.992,1444.05 492.952,1444.7 494.911,1444.57 496.871,1444.52 498.831,1444.48 500.791,1444.54 502.751,1444.61 504.711,1444.53 506.67,1444.53 508.63,1444.52 510.59,1444.54 512.55,1444.62 514.51,1444.52 516.469,1444.55 518.429,1444.53 520.389,1444.59 522.349,1444.57 524.309,1444.53 526.268,1444.53 528.228,1444.52 530.188,1444.54 532.148,1444.66 534.108,1444.55 536.068,1444.54 538.027,1444.54 539.987,1444.58 541.947,1444.53 543.907,1444.58 545.867,1444.53 547.826,1444.64 549.786,1444.52 551.746,1444.6 553.706,1444.66 555.666,1444.52 557.625,1444.54 559.585,1444.54 561.545,1444.53 563.505,1444.55 565.465,1444.56 567.425,1444.55 569.384,1444.53 571.344,1444.36 573.304,1444.63 575.264,1444.53 577.224,1444.59 579.183,1444.53 581.143,1444.52 583.103,1444.7 585.063,1444.55 587.023,1444.65 588.982,1444.54 590.942,1444.58 592.902,1444.53 594.862,1444.54 596.822,1444.56 598.782,1444.48 600.741,1444.82 602.701,1444.53 604.661,1444.51 606.621,1444.53 608.581,1444.59 610.54,1444.57 612.5,1444.72 614.46,1444.67 616.42,1444.53 618.38,1444.54 620.34,1444.61 622.299,1444.53 624.259,1444.2 626.219,1444.52 628.179,1444.14 630.139,1444.54 632.098,1444.53 634.058,1444.53 636.018,1444.54 637.978,1444.53 639.938,1444.53 641.897,1444.53 643.857,1444.43 645.817,1444.53 647.777,1444.65 649.737,1444.53 651.697,1444.56 653.656,1444.52 655.616,1444.53 657.576,1444.55 659.536,1444.54 661.496,1444.52 663.455,1444.64 665.415,1444.53 667.375,1444.53 669.335,1444.53 671.295,1444.53 673.254,1444.6 675.214,1444.55 677.174,1444.63 679.134,1444.53 681.094,1444.55 683.054,1444.61 685.013,1444.54 686.973,1444.55 688.933,1444.55 690.893,1444.54 692.853,1444.61 694.812,1444.54 696.772,1444.64 698.732,1444.53 700.692,1444.53 702.652,1444.65 704.611,1444.53 706.571,1444.56 708.531,1444.6 710.491,1444.59 712.451,1444.66 714.411,1444.7 716.37,1444.52 718.33,1444.59 720.29,1444.53 722.25,1444.59 724.21,1444.57 726.169,1444.53 728.129,1444.54 730.089,1444.39 732.049,1444.53 734.009,1444.53 735.969,1444.55 737.928,1444.56 739.888,1444.57 741.848,1444.68 743.808,1444.6 745.768,1444.54 747.727,1444.61 749.687,1444.54 751.647,1444.53 753.607,1444.62 755.567,1444.59 757.526,1444.57 759.486,1444.54 761.446,1444.53 763.406,1444.56 765.366,1444.55 767.326,1444.76 769.285,1444.54 771.245,1444.56 773.205,1444.64 775.165,1444.71 777.125,1444.54 779.084,1444.53 781.044,1444.53 783.004,1444.52 784.964,1444.64 786.924,1444.53 788.883,1444.54 790.843,1444.66 792.803,1444.63 794.763,1444.53 796.723,1444.55 798.683,1444.53 800.642,1444.52 802.602,1444.66 804.562,1444.64 806.522,1444.54 808.482,1444.61 810.441,1444.57 812.401,1444.54 814.361,1443.81 816.321,1444.53 818.281,1444.52 820.24,1444.59 822.2,1444.54 824.16,1444.52 826.12,1444.53 828.08,1444.54 830.04,1444.53 831.999,1444.65 833.959,1444.57 835.919,1444.7 837.879,1444.53 839.839,1444.59 841.798,1444.53 843.758,1444.21 845.718,1444.44 847.678,1444.64 849.638,1444.54 851.598,1444.55 853.557,1444.52 855.517,1444.54 857.477,1444.55 859.437,1444.55 861.397,1444.53 863.356,1444.54 865.316,1444.53 867.276,1444.55 869.236,1444.56 871.196,1444.57 873.155,1444.53 875.115,1444.67 877.075,1444.52 879.035,1444.55 880.995,1444.55 882.955,1444.53 884.914,1444.59 886.874,1444.54 888.834,1444.53 890.794,1444.54 892.754,1444.53 894.713,1444.65 896.673,1444.67 898.633,1444.67 900.593,1444.53 902.553,1444.73 904.512,1444.53 906.472,1444.6 908.432,1444.51 910.392,1444.46 912.352,1444.54 914.312,1444.55 916.271,1444.58 918.231,1444.54 920.191,1444.55 922.151,1444.61 924.111,1444.71 926.07,1444.53 928.03,1444.54 929.99,1444.54 931.95,1444.62 933.91,1444.71 935.869,1444.54 937.829,1444.71 939.789,1444.55 941.749,1444.53 943.709,1444.54 945.669,1444.54 947.628,1444.55 949.588,1444.55 951.548,1444.59 953.508,1444.55 955.468,1444.48 957.427,1444.53 959.387,1444.71 961.347,1444.53 963.307,1444.53 965.267,1444.7 967.227,1444.53 969.186,1444.57 971.146,1444.31 973.106,1444.57 975.066,1444.55 977.026,1444.55 978.985,1443.81 980.945,1444.54 982.905,1444.59 984.865,1444.56 986.825,1444.54 988.784,1444.54 990.744,1444.53 992.704,1444.62 994.664,1444.54 996.624,1444.63 998.584,1444.52 1000.54,1444.6 1002.5,1444.53 1004.46,1444.54 1006.42,1444.59 1008.38,1444.54 1010.34,1444.57 1012.3,1444.53 1014.26,1444.54 1016.22,1444.52 1018.18,1444.53 1020.14,1444.56 1022.1,1444.56 1024.06,1444.54 1026.02,1444.55 1027.98,1444.63 1029.94,1444.54 1031.9,1444.6 1033.86,1444.53 1035.82,1444.54 1037.78,1444.53 1039.74,1444.6 1041.7,1444.53 1043.66,1444.19 1045.62,1444.59 1047.58,1444.53 1049.54,1444.53 1051.5,1444.53 1053.46,1444.52 1055.42,1444.63 1057.38,1444.52 1059.34,1444.69 1061.3,1444.6 1063.26,1444.53 1065.22,1444.54 1067.18,1444.53 1069.14,1444.55 1071.1,1444.52 1073.06,1444.54 1075.02,1444.53 1076.98,1444.53 1078.94,1444.62 1080.9,1444.58 1082.86,1444.54 1084.82,1444.59 1086.78,1444.52 1088.73,1444.56 1090.69,1444.62 1092.65,1444.55 1094.61,1444.54 1096.57,1444.57 1098.53,1444.7 1100.49,1444.6 1102.45,1444.55 1104.41,1444.61 1106.37,1444.81 1108.33,1444.48 1110.29,1444.53 1112.25,1444.53 1114.21,1444.54 1116.17,1444.54 1118.13,1444.58 1120.09,1444.52 1122.05,1444.53 1124.01,1444.53 1125.97,1444.22 1127.93,1444.55 1129.89,1444.53 1131.85,1444.54 1133.81,1444.61 1135.77,1444.68 1137.73,1444.57 1139.69,1444.72 1141.65,1444.57 1143.61,1444.54 1145.57,1444.62 1147.53,1444.53 1149.49,1444.1 1151.45,1444.54 1153.41,1444.53 1155.37,1444.63 1157.33,1444.68 1159.29,1444.56 1161.25,1444.56 1163.21,1444.69 1165.17,1444.58 1167.13,1444.61 1169.09,1444.54 1171.05,1444.58 1173.01,1444.52 1174.97,1444.58 1176.93,1444.54 1178.89,1444.57 1180.85,1444.56 1182.81,1444.58 1184.77,1444.54 1186.73,1444.53 1188.69,1444.56 1190.65,1444.55 1192.61,1444.71 1194.56,1444.53 1196.52,1444.53 1198.48,1444.59 1200.44,1444.54 1202.4,1444.57 1204.36,1444.6 1206.32,1444.55 1208.28,1444.54 1210.24,1444.79 1212.2,1444.55 1214.16,1444.55 1216.12,1444.66 1218.08,1444.52 1220.04,1444.6 1222,1444.53 1223.96,1444.59 1225.92,1444.54 1227.88,1444.56 1229.84,1444.53 1231.8,1444.69 1233.76,1444.59 1235.72,1444.53 1237.68,1444.53 1239.64,1444.55 1241.6,1444.69 1243.56,1444.55 1245.52,1444.31 1247.48,1444.55 1249.44,1444.72 1251.4,1444.56 1253.36,1444.56 1255.32,1444.59 1257.28,1444.55 1259.24,1444.58 1261.2,1444.54 1263.16,1444.61 1265.12,1444.53 1267.08,1444.62 1269.04,1444.57 1271,1444.65 1272.96,1444.83 1274.92,1444.34 1276.88,1444.53 1278.84,1444.59 1280.8,1444.54 1282.76,1444.07 1284.72,1444.53 1286.68,1444.11 1288.64,1444.58 1290.6,1444.56 1292.56,1444.55 1294.52,1444.53 1296.48,1444.65 1298.43,1444.54 1300.39,1444.58 1302.35,1444.55 1304.31,1444.45 1306.27,1444.54 1308.23,1444.61 1310.19,1444.53 1312.15,1444.62 1314.11,1444.68 1316.07,1444.62 1318.03,1444.55 1319.99,1444.7 1321.95,1444.54 1323.91,1444.58 1325.87,1444.56 1327.83,1444.63 1329.79,1444.69 1331.75,1444.53 1333.71,1444.54 1335.67,1444.7 1337.63,1444.5 1339.59,1444.53 1341.55,1444.55 1343.51,1444.48 1345.47,1444.52 1347.43,1444.61 1349.39,1444.55 1351.35,1444.71 1353.31,1444.65 1355.27,1444.54 1357.23,1444.39 1359.19,1444.28 1361.15,1444.54 1363.11,1444.54 1365.07,1444.52 1367.03,1444.55 1368.99,1444.54 1370.95,1444.54 1372.91,1444.61 1374.87,1444.59 1376.83,1444.53 1378.79,1444.61 1380.75,1444.56 1382.71,1444.6 1384.67,1444.57 1386.63,1444.6 1388.59,1444.6 1390.55,1444.71 1392.51,1444.58 1394.47,1444.32 1396.43,1444.61 1398.39,1444.58 1400.35,1444.54 1402.31,1444.54 1404.26,1444.53 1406.22,1444.54 1408.18,1444.62 1410.14,1444.56 1412.1,1444.57 1414.06,1444.53 1416.02,1444.53 1417.98,1444.66 1419.94,1444.57 1421.9,1444.56 1423.86,1444.6 1425.82,1444.53 1427.78,1444.53 1429.74,1444.54 1431.7,1444.54 1433.66,1444.56 1435.62,1444.59 1437.58,1444.55 1439.54,1444.54 1441.5,1444.53 1443.46,1444.76 1445.42,1444.56 1447.38,1444.55 1449.34,1444.66 1451.3,1444.59 1453.26,1444.55 1455.22,1444.59 1457.18,1444.53 1459.14,1444.53 1461.1,1444.56 1463.06,1444.56 1465.02,1444.54 1466.98,1444.56 1468.94,1444.6 1470.9,1444.53 1472.86,1444.28 1474.82,1444.55 1476.78,1444.58 1478.74,1444.58 1480.7,1444.55 1482.66,1444.56 1484.62,1444.73 1486.58,1444.53 1488.54,1444.57 1490.5,1444.55 1492.46,1444.6 1494.42,1444.74 1496.38,1444.54 1498.34,1444.54 1500.3,1444.56 1502.26,1444.61 1504.22,1444.58 1506.18,1444.53 1508.14,1444.57 1510.09,1444.64 1512.05,1444.55 1514.01,1444.48 1515.97,1444.65 1517.93,1444.56 1519.89,1444.54 1521.85,1444.6 1523.81,1444.57 1525.77,1444.65 1527.73,1444.58 1529.69,1444.54 1531.65,1444.85 1533.61,1444.62 1535.57,1444.54 1537.53,1444.58 1539.49,1444.58 1541.45,1444.6 1543.41,1444.83 1545.37,1444.56 1547.33,1444.57 1549.29,1444.61 1551.25,1444.65 1553.21,1444.59 1555.17,1444.61 1557.13,1444.63 1559.09,1444.6 1561.05,1443.87 1563.01,1444.6 1564.97,1443.67 1566.93,1444.78 1568.89,1444.69 1570.85,1444.61 1572.81,1444.6 1574.77,1444.55 1576.73,1444.59 1578.69,1444.82 1580.65,1444.56 1582.61,1444.53 1584.57,1444.55 1586.53,1444.57 1588.49,1444.67 1590.45,1444.58 1592.41,1444.6 1594.37,1444.54 1596.33,1444.55 1598.29,1444.54 1600.25,1444.55 1602.21,1444.36 1604.17,1444.56 1606.13,1444.22 1608.09,1444.58 1610.05,1444.54 1612.01,1444.54 1613.96,1444.54 1615.92,1444.57 1617.88,1444.59 1619.84,1444.55 1621.8,1444.54 1623.76,1444.58 1625.72,1444.54 1627.68,1444.63 1629.64,1444.57 1631.6,1444.54 1633.56,1444.54 1635.52,1444.53 1637.48,1444.55 1639.44,1444.58 1641.4,1444.53 1643.36,1444.58 1645.32,1444.53 1647.28,1444.53 1649.24,1444.56 1651.2,1444.53 1653.16,1444.54 1655.12,1444.52 1657.08,1444.63 1659.04,1444.53 1661,1444.55 1662.96,1444.55 1664.92,1444.55 1666.88,1444.56 1668.84,1444.53 1670.8,1444.53 1672.76,1444.57 1674.72,1444.54 1676.68,1444.54 1678.64,1444.53 1680.6,1444.54 1682.56,1444.63 1684.52,1444.54 1686.48,1444.65 1688.44,1444.63 1690.4,1444.56 1692.36,1444.56 1694.32,1444.6 1696.28,1444.59 1698.24,1444.35 1700.2,1444.59 1702.16,1444.56 1704.12,1444.57 1706.08,1444.61 1708.04,1444.57 1710,1444.54 1711.96,1444.65 1713.92,1444.59 1715.88,1444.56 1717.84,1444.55 1719.79,1444.55 1721.75,1444.62 1723.71,1444.6 1725.67,1444.69 1727.63,1444.71 1729.59,1444.54 1731.55,1444.58 1733.51,1444.6 1735.47,1444.58 1737.43,1444.56 1739.39,1444.55 1741.35,1444.64 1743.31,1444.6 1745.27,1444.6 1747.23,1444.63 1749.19,1444.76 1751.15,1444.59 1753.11,1444.75 1755.07,1444.76 1757.03,1444.69 1758.99,1444.68 1760.95,1444.6 1762.91,1444.99 1764.87,1444.76 1766.83,1444.8 1768.79,1444.68 1770.75,1444.61 1772.71,1442.86 1774.67,1444.78 1776.63,1444.59 1778.59,1444.63 1780.55,1444.64 1782.51,1444.75 1784.47,1444.6 1786.43,1444.65 1788.39,1444.65 1790.35,1444.86 1792.31,1444.62 1794.27,1444.59 1796.23,1444.6 1798.19,1444.74 1800.15,1444.65 1802.11,1444.79 1804.07,1444.7 1806.03,1444.62 1807.99,1444.64 1809.95,1444.82 1811.91,1444.6 1813.87,1444.84 1815.83,1444.85 1817.79,1444.85 1819.75,1444.76 1821.71,1444.63 1823.67,1444.86 1825.62,1444.51 1827.58,1443.6 1829.54,1439.06 1831.5,1443.69 1833.46,1444.61 1835.42,1444.55 1837.38,1444.56 1839.34,1444.55 1841.3,1444.54 1843.26,1444.53 1845.22,1444.52 1847.18,1444.52 1849.14,1444.52 1851.1,1444.52 1853.06,1444.52 1855.02,1444.56 1856.98,1444.52 1858.94,1444.52 1860.9,1444.52 1862.86,1444.52 1864.82,1444.52 1866.78,1444.53 1868.74,1444.52 1870.7,1444.52 1872.66,1444.51 1874.62,1444.51 1876.58,1444.53 1878.54,1444.52 1880.5,1444.52 1882.46,1444.52 1884.42,1444.52 1886.38,1444.52 1888.34,1444.52 1890.3,1444.52 1892.26,1444.53 1894.22,1444.52 1896.18,1444.52 1898.14,1444.52 1900.1,1444.52 1902.06,1444.52 1904.02,1444.52 1905.98,1444.51 1907.94,1444.52 1909.9,1444.52 1911.86,1444.52 1913.82,1444.51 1915.78,1444.52 1917.74,1444.52 1919.7,1444.52 1921.66,1444.51 1923.62,1444.52 1925.58,1444.52 1927.54,1444.52 1929.49,1444.52 1931.45,1444.51 1933.41,1444.52 1935.37,1444.52 1937.33,1444.52 1939.29,1444.52 1941.25,1444.52 1943.21,1444.52 1945.17,1444.54 1947.13,1444.53 1949.09,1444.52 1951.05,1444.52 1953.01,1444.52 1954.97,1444.54 1956.93,1444.52 1958.89,1444.52 1960.85,1444.52 1962.81,1444.52 1964.77,1444.52 1966.73,1444.52 1968.69,1444.52 1970.65,1444.52 1972.61,1444.52 1974.57,1444.53 1976.53,1444.52 1978.49,1444.52 1980.45,1444.52 1982.41,1444.52 1984.37,1444.52 1986.33,1444.52 1988.29,1444.52 1990.25,1444.53 1992.21,1444.52 1994.17,1444.52 1996.13,1444.52 1998.09,1444.52 2000.05,1444.52 2002.01,1444.52 2003.97,1444.52 2005.93,1444.52 2007.89,1444.53 2009.85,1444.52 2011.81,1444.53 2013.77,1444.55 2015.73,1444.53 2017.69,1444.52 2019.65,1444.52 2021.61,1444.53 2023.57,1444.52 2025.53,1444.53 2027.49,1444.52 2029.45,1444.52 2031.41,1444.53 2033.37,1444.52 2035.32,1444.52 2037.28,1444.55 2039.24,1444.54 2041.2,1444.52 2043.16,1444.55 2045.12,1444.52 2047.08,1444.52 2049.04,1444.52 2051,1444.53 2052.96,1444.52 2054.92,1444.53 2056.88,1444.53 2058.84,1444.61 2060.8,1444.53 2062.76,1444.54 2064.72,1444.52 2066.68,1444.53 2068.64,1444.53 2070.6,1444.55 2072.56,1444.53 2074.52,1444.58 2076.48,1444.69 2078.44,1444.57 2080.4,1444.53 2082.36,1444.57 2084.32,1444.58 2086.28,1444.59 2088.24,1444.55 2090.2,1444.67 2092.16,1444.54 2094.12,1444.55 2096.08,1444.54 2098.04,1444.54 2100,1444.54 2101.96,1444.53 2103.92,1444.54 2105.88,1444.52 2107.84,1444.56 2109.8,1444.57 2111.76,1444.56 2113.72,1444.63 2115.68,1444.53 2117.64,1444.56 2119.6,1444.58 2121.56,1444.74 2123.52,1444.54 2125.48,1444.54 2127.44,1444.55 2129.4,1444.6 2131.36,1444.55 2133.32,1444.67 2135.28,1444.64 2137.24,1444.56 2139.2,1444.18 2141.15,1444.15 2143.11,1444.27 2145.07,1444.6 2147.03,1444.56 2148.99,1444.6 2150.95,1444.57 2152.91,1444.58 2154.87,1444.53 2156.83,1444.56 2158.79,1444.53 2160.75,1444.53 2162.71,1444.54 2164.67,1444.52 2166.63,1444.58 2168.59,1444.56 2170.55,1444.55 2172.51,1444.52 2174.47,1444.54 2176.43,1444.53 2178.39,1444.53 2180.35,1444.53 2182.31,1444.6 2184.27,1444.52 2186.23,1444.54 2188.19,1444.52 2190.15,1444.53 2192.11,1444.53 2194.07,1444.53 2196.03,1444.57 2197.99,1444.53 2199.95,1444.53 2201.91,1444.54 2203.87,1444.54 2205.83,1444.57 2207.79,1444.56 2209.75,1444.57 2211.71,1444.53 2213.67,1444.56 2215.63,1444.58 2217.59,1444.58 2219.55,1444.57 2221.51,1444.53 2223.47,1444.56 2225.43,1444.57 2227.39,1444.66 2229.35,1444.54 2231.31,1444.61 2233.27,1444.63 2235.23,1444.83 2237.19,1444.87 2239.15,1444.7 2241.11,1444.63 2243.07,1444.61 2245.02,1444.62 2246.98,1444.51 2248.94,1444.84 2250.9,1444.61 2252.86,1444.69 2254.82,1444.57 2256.78,1444.61 2258.74,1444.06 2260.7,1444.65 2262.66,1444.6 2264.62,1444.69 2266.58,1444.59 2268.54,1444.65 2270.5,1444.65 2272.46,1444.57 2274.42,1444.85 2276.38,1444.63 2278.34,1444.62 2280.3,1444.75 2282.26,1444.7 2284.22,1442.47 2286.18,1444.8 2288.14,1444.72 2290.1,1444.6 2292.06,1444.59 2294.02,1444.53 \"/>\n",
       "<path clip-path=\"url(#clip870)\" d=\"M2023.62 198.898 L2283.58 198.898 L2283.58 95.2176 L2023.62 95.2176  Z\" fill=\"#ffffff\" fill-rule=\"evenodd\" fill-opacity=\"1\"/>\n",
       "<polyline clip-path=\"url(#clip870)\" style=\"stroke:#000000; stroke-linecap:round; stroke-linejoin:round; stroke-width:4; stroke-opacity:1; fill:none\" points=\"2023.62,198.898 2283.58,198.898 2283.58,95.2176 2023.62,95.2176 2023.62,198.898 \"/>\n",
       "<polyline clip-path=\"url(#clip870)\" style=\"stroke:#009af9; stroke-linecap:round; stroke-linejoin:round; stroke-width:4; stroke-opacity:1; fill:none\" points=\"2046.67,147.058 2185.03,147.058 \"/>\n",
       "<path clip-path=\"url(#clip870)\" d=\"M2221.93 166.745 Q2220.13 171.375 2218.41 172.787 Q2216.7 174.199 2213.83 174.199 L2210.43 174.199 L2210.43 170.634 L2212.93 170.634 Q2214.69 170.634 2215.66 169.8 Q2216.63 168.967 2217.81 165.865 L2218.58 163.921 L2208.09 138.412 L2212.6 138.412 L2220.7 158.689 L2228.81 138.412 L2233.32 138.412 L2221.93 166.745 Z\" fill=\"#000000\" fill-rule=\"nonzero\" fill-opacity=\"1\" /><path clip-path=\"url(#clip870)\" d=\"M2240.61 160.402 L2248.25 160.402 L2248.25 134.037 L2239.94 135.703 L2239.94 131.444 L2248.2 129.778 L2252.88 129.778 L2252.88 160.402 L2260.52 160.402 L2260.52 164.338 L2240.61 164.338 L2240.61 160.402 Z\" fill=\"#000000\" fill-rule=\"nonzero\" fill-opacity=\"1\" /></svg>\n"
      ],
      "text/html": [
       "<?xml version=\"1.0\" encoding=\"utf-8\"?>\n",
       "<svg xmlns=\"http://www.w3.org/2000/svg\" xmlns:xlink=\"http://www.w3.org/1999/xlink\" width=\"600\" height=\"400\" viewBox=\"0 0 2400 1600\">\n",
       "<defs>\n",
       "  <clipPath id=\"clip920\">\n",
       "    <rect x=\"0\" y=\"0\" width=\"2400\" height=\"1600\"/>\n",
       "  </clipPath>\n",
       "</defs>\n",
       "<path clip-path=\"url(#clip920)\" d=\"M0 1600 L2400 1600 L2400 0 L0 0  Z\" fill=\"#ffffff\" fill-rule=\"evenodd\" fill-opacity=\"1\"/>\n",
       "<defs>\n",
       "  <clipPath id=\"clip921\">\n",
       "    <rect x=\"480\" y=\"0\" width=\"1681\" height=\"1600\"/>\n",
       "  </clipPath>\n",
       "</defs>\n",
       "<path clip-path=\"url(#clip920)\" d=\"M277.431 1486.45 L2352.76 1486.45 L2352.76 47.2441 L277.431 47.2441  Z\" fill=\"#ffffff\" fill-rule=\"evenodd\" fill-opacity=\"1\"/>\n",
       "<defs>\n",
       "  <clipPath id=\"clip922\">\n",
       "    <rect x=\"277\" y=\"47\" width=\"2076\" height=\"1440\"/>\n",
       "  </clipPath>\n",
       "</defs>\n",
       "<polyline clip-path=\"url(#clip922)\" style=\"stroke:#000000; stroke-linecap:round; stroke-linejoin:round; stroke-width:2; stroke-opacity:0.1; fill:none\" points=\"334.207,1486.45 334.207,47.2441 \"/>\n",
       "<polyline clip-path=\"url(#clip922)\" style=\"stroke:#000000; stroke-linecap:round; stroke-linejoin:round; stroke-width:2; stroke-opacity:0.1; fill:none\" points=\"824.16,1486.45 824.16,47.2441 \"/>\n",
       "<polyline clip-path=\"url(#clip922)\" style=\"stroke:#000000; stroke-linecap:round; stroke-linejoin:round; stroke-width:2; stroke-opacity:0.1; fill:none\" points=\"1314.11,1486.45 1314.11,47.2441 \"/>\n",
       "<polyline clip-path=\"url(#clip922)\" style=\"stroke:#000000; stroke-linecap:round; stroke-linejoin:round; stroke-width:2; stroke-opacity:0.1; fill:none\" points=\"1804.07,1486.45 1804.07,47.2441 \"/>\n",
       "<polyline clip-path=\"url(#clip922)\" style=\"stroke:#000000; stroke-linecap:round; stroke-linejoin:round; stroke-width:2; stroke-opacity:0.1; fill:none\" points=\"2294.02,1486.45 2294.02,47.2441 \"/>\n",
       "<polyline clip-path=\"url(#clip920)\" style=\"stroke:#000000; stroke-linecap:round; stroke-linejoin:round; stroke-width:4; stroke-opacity:1; fill:none\" points=\"277.431,1486.45 2352.76,1486.45 \"/>\n",
       "<polyline clip-path=\"url(#clip920)\" style=\"stroke:#000000; stroke-linecap:round; stroke-linejoin:round; stroke-width:4; stroke-opacity:1; fill:none\" points=\"334.207,1486.45 334.207,1467.55 \"/>\n",
       "<polyline clip-path=\"url(#clip920)\" style=\"stroke:#000000; stroke-linecap:round; stroke-linejoin:round; stroke-width:4; stroke-opacity:1; fill:none\" points=\"824.16,1486.45 824.16,1467.55 \"/>\n",
       "<polyline clip-path=\"url(#clip920)\" style=\"stroke:#000000; stroke-linecap:round; stroke-linejoin:round; stroke-width:4; stroke-opacity:1; fill:none\" points=\"1314.11,1486.45 1314.11,1467.55 \"/>\n",
       "<polyline clip-path=\"url(#clip920)\" style=\"stroke:#000000; stroke-linecap:round; stroke-linejoin:round; stroke-width:4; stroke-opacity:1; fill:none\" points=\"1804.07,1486.45 1804.07,1467.55 \"/>\n",
       "<polyline clip-path=\"url(#clip920)\" style=\"stroke:#000000; stroke-linecap:round; stroke-linejoin:round; stroke-width:4; stroke-opacity:1; fill:none\" points=\"2294.02,1486.45 2294.02,1467.55 \"/>\n",
       "<path clip-path=\"url(#clip920)\" d=\"M334.207 1517.37 Q330.596 1517.37 328.767 1520.93 Q326.961 1524.47 326.961 1531.6 Q326.961 1538.71 328.767 1542.27 Q330.596 1545.82 334.207 1545.82 Q337.841 1545.82 339.647 1542.27 Q341.475 1538.71 341.475 1531.6 Q341.475 1524.47 339.647 1520.93 Q337.841 1517.37 334.207 1517.37 M334.207 1513.66 Q340.017 1513.66 343.072 1518.27 Q346.151 1522.85 346.151 1531.6 Q346.151 1540.33 343.072 1544.94 Q340.017 1549.52 334.207 1549.52 Q328.397 1549.52 325.318 1544.94 Q322.262 1540.33 322.262 1531.6 Q322.262 1522.85 325.318 1518.27 Q328.397 1513.66 334.207 1513.66 Z\" fill=\"#000000\" fill-rule=\"nonzero\" fill-opacity=\"1\" /><path clip-path=\"url(#clip920)\" d=\"M787.852 1544.91 L804.172 1544.91 L804.172 1548.85 L782.227 1548.85 L782.227 1544.91 Q784.889 1542.16 789.473 1537.53 Q794.079 1532.88 795.26 1531.53 Q797.505 1529.01 798.385 1527.27 Q799.288 1525.51 799.288 1523.82 Q799.288 1521.07 797.343 1519.33 Q795.422 1517.6 792.32 1517.6 Q790.121 1517.6 787.667 1518.36 Q785.237 1519.13 782.459 1520.68 L782.459 1515.95 Q785.283 1514.82 787.737 1514.24 Q790.19 1513.66 792.227 1513.66 Q797.598 1513.66 800.792 1516.35 Q803.987 1519.03 803.987 1523.52 Q803.987 1525.65 803.176 1527.57 Q802.389 1529.47 800.283 1532.07 Q799.704 1532.74 796.602 1535.95 Q793.501 1539.15 787.852 1544.91 Z\" fill=\"#000000\" fill-rule=\"nonzero\" fill-opacity=\"1\" /><path clip-path=\"url(#clip920)\" d=\"M814.033 1514.29 L832.389 1514.29 L832.389 1518.22 L818.315 1518.22 L818.315 1526.7 Q819.334 1526.35 820.352 1526.19 Q821.371 1526 822.389 1526 Q828.176 1526 831.556 1529.17 Q834.936 1532.34 834.936 1537.76 Q834.936 1543.34 831.463 1546.44 Q827.991 1549.52 821.672 1549.52 Q819.496 1549.52 817.227 1549.15 Q814.982 1548.78 812.575 1548.04 L812.575 1543.34 Q814.658 1544.47 816.88 1545.03 Q819.102 1545.58 821.579 1545.58 Q825.584 1545.58 827.922 1543.48 Q830.26 1541.37 830.26 1537.76 Q830.26 1534.15 827.922 1532.04 Q825.584 1529.94 821.579 1529.94 Q819.704 1529.94 817.829 1530.35 Q815.977 1530.77 814.033 1531.65 L814.033 1514.29 Z\" fill=\"#000000\" fill-rule=\"nonzero\" fill-opacity=\"1\" /><path clip-path=\"url(#clip920)\" d=\"M854.148 1517.37 Q850.537 1517.37 848.709 1520.93 Q846.903 1524.47 846.903 1531.6 Q846.903 1538.71 848.709 1542.27 Q850.537 1545.82 854.148 1545.82 Q857.783 1545.82 859.588 1542.27 Q861.417 1538.71 861.417 1531.6 Q861.417 1524.47 859.588 1520.93 Q857.783 1517.37 854.148 1517.37 M854.148 1513.66 Q859.959 1513.66 863.014 1518.27 Q866.093 1522.85 866.093 1531.6 Q866.093 1540.33 863.014 1544.94 Q859.959 1549.52 854.148 1549.52 Q848.338 1549.52 845.26 1544.94 Q842.204 1540.33 842.204 1531.6 Q842.204 1522.85 845.26 1518.27 Q848.338 1513.66 854.148 1513.66 Z\" fill=\"#000000\" fill-rule=\"nonzero\" fill-opacity=\"1\" /><path clip-path=\"url(#clip920)\" d=\"M1273.73 1514.29 L1292.09 1514.29 L1292.09 1518.22 L1278.01 1518.22 L1278.01 1526.7 Q1279.03 1526.35 1280.05 1526.19 Q1281.07 1526 1282.09 1526 Q1287.88 1526 1291.25 1529.17 Q1294.63 1532.34 1294.63 1537.76 Q1294.63 1543.34 1291.16 1546.44 Q1287.69 1549.52 1281.37 1549.52 Q1279.19 1549.52 1276.93 1549.15 Q1274.68 1548.78 1272.27 1548.04 L1272.27 1543.34 Q1274.36 1544.47 1276.58 1545.03 Q1278.8 1545.58 1281.28 1545.58 Q1285.28 1545.58 1287.62 1543.48 Q1289.96 1541.37 1289.96 1537.76 Q1289.96 1534.15 1287.62 1532.04 Q1285.28 1529.94 1281.28 1529.94 Q1279.4 1529.94 1277.53 1530.35 Q1275.68 1530.77 1273.73 1531.65 L1273.73 1514.29 Z\" fill=\"#000000\" fill-rule=\"nonzero\" fill-opacity=\"1\" /><path clip-path=\"url(#clip920)\" d=\"M1313.85 1517.37 Q1310.24 1517.37 1308.41 1520.93 Q1306.6 1524.47 1306.6 1531.6 Q1306.6 1538.71 1308.41 1542.27 Q1310.24 1545.82 1313.85 1545.82 Q1317.48 1545.82 1319.29 1542.27 Q1321.12 1538.71 1321.12 1531.6 Q1321.12 1524.47 1319.29 1520.93 Q1317.48 1517.37 1313.85 1517.37 M1313.85 1513.66 Q1319.66 1513.66 1322.71 1518.27 Q1325.79 1522.85 1325.79 1531.6 Q1325.79 1540.33 1322.71 1544.94 Q1319.66 1549.52 1313.85 1549.52 Q1308.04 1549.52 1304.96 1544.94 Q1301.9 1540.33 1301.9 1531.6 Q1301.9 1522.85 1304.96 1518.27 Q1308.04 1513.66 1313.85 1513.66 Z\" fill=\"#000000\" fill-rule=\"nonzero\" fill-opacity=\"1\" /><path clip-path=\"url(#clip920)\" d=\"M1344.01 1517.37 Q1340.4 1517.37 1338.57 1520.93 Q1336.76 1524.47 1336.76 1531.6 Q1336.76 1538.71 1338.57 1542.27 Q1340.4 1545.82 1344.01 1545.82 Q1347.64 1545.82 1349.45 1542.27 Q1351.28 1538.71 1351.28 1531.6 Q1351.28 1524.47 1349.45 1520.93 Q1347.64 1517.37 1344.01 1517.37 M1344.01 1513.66 Q1349.82 1513.66 1352.87 1518.27 Q1355.95 1522.85 1355.95 1531.6 Q1355.95 1540.33 1352.87 1544.94 Q1349.82 1549.52 1344.01 1549.52 Q1338.2 1549.52 1335.12 1544.94 Q1332.06 1540.33 1332.06 1531.6 Q1332.06 1522.85 1335.12 1518.27 Q1338.2 1513.66 1344.01 1513.66 Z\" fill=\"#000000\" fill-rule=\"nonzero\" fill-opacity=\"1\" /><path clip-path=\"url(#clip920)\" d=\"M1762.34 1514.29 L1784.56 1514.29 L1784.56 1516.28 L1772.02 1548.85 L1767.13 1548.85 L1778.94 1518.22 L1762.34 1518.22 L1762.34 1514.29 Z\" fill=\"#000000\" fill-rule=\"nonzero\" fill-opacity=\"1\" /><path clip-path=\"url(#clip920)\" d=\"M1793.73 1514.29 L1812.09 1514.29 L1812.09 1518.22 L1798.01 1518.22 L1798.01 1526.7 Q1799.03 1526.35 1800.05 1526.19 Q1801.07 1526 1802.09 1526 Q1807.87 1526 1811.25 1529.17 Q1814.63 1532.34 1814.63 1537.76 Q1814.63 1543.34 1811.16 1546.44 Q1807.69 1549.52 1801.37 1549.52 Q1799.19 1549.52 1796.93 1549.15 Q1794.68 1548.78 1792.27 1548.04 L1792.27 1543.34 Q1794.36 1544.47 1796.58 1545.03 Q1798.8 1545.58 1801.28 1545.58 Q1805.28 1545.58 1807.62 1543.48 Q1809.96 1541.37 1809.96 1537.76 Q1809.96 1534.15 1807.62 1532.04 Q1805.28 1529.94 1801.28 1529.94 Q1799.4 1529.94 1797.53 1530.35 Q1795.68 1530.77 1793.73 1531.65 L1793.73 1514.29 Z\" fill=\"#000000\" fill-rule=\"nonzero\" fill-opacity=\"1\" /><path clip-path=\"url(#clip920)\" d=\"M1833.85 1517.37 Q1830.24 1517.37 1828.41 1520.93 Q1826.6 1524.47 1826.6 1531.6 Q1826.6 1538.71 1828.41 1542.27 Q1830.24 1545.82 1833.85 1545.82 Q1837.48 1545.82 1839.29 1542.27 Q1841.12 1538.71 1841.12 1531.6 Q1841.12 1524.47 1839.29 1520.93 Q1837.48 1517.37 1833.85 1517.37 M1833.85 1513.66 Q1839.66 1513.66 1842.71 1518.27 Q1845.79 1522.85 1845.79 1531.6 Q1845.79 1540.33 1842.71 1544.94 Q1839.66 1549.52 1833.85 1549.52 Q1828.04 1549.52 1824.96 1544.94 Q1821.9 1540.33 1821.9 1531.6 Q1821.9 1522.85 1824.96 1518.27 Q1828.04 1513.66 1833.85 1513.66 Z\" fill=\"#000000\" fill-rule=\"nonzero\" fill-opacity=\"1\" /><path clip-path=\"url(#clip920)\" d=\"M2238.55 1544.91 L2246.18 1544.91 L2246.18 1518.55 L2237.87 1520.21 L2237.87 1515.95 L2246.14 1514.29 L2250.81 1514.29 L2250.81 1544.91 L2258.45 1544.91 L2258.45 1548.85 L2238.55 1548.85 L2238.55 1544.91 Z\" fill=\"#000000\" fill-rule=\"nonzero\" fill-opacity=\"1\" /><path clip-path=\"url(#clip920)\" d=\"M2277.9 1517.37 Q2274.29 1517.37 2272.46 1520.93 Q2270.65 1524.47 2270.65 1531.6 Q2270.65 1538.71 2272.46 1542.27 Q2274.29 1545.82 2277.9 1545.82 Q2281.53 1545.82 2283.34 1542.27 Q2285.17 1538.71 2285.17 1531.6 Q2285.17 1524.47 2283.34 1520.93 Q2281.53 1517.37 2277.9 1517.37 M2277.9 1513.66 Q2283.71 1513.66 2286.76 1518.27 Q2289.84 1522.85 2289.84 1531.6 Q2289.84 1540.33 2286.76 1544.94 Q2283.71 1549.52 2277.9 1549.52 Q2272.09 1549.52 2269.01 1544.94 Q2265.95 1540.33 2265.95 1531.6 Q2265.95 1522.85 2269.01 1518.27 Q2272.09 1513.66 2277.9 1513.66 Z\" fill=\"#000000\" fill-rule=\"nonzero\" fill-opacity=\"1\" /><path clip-path=\"url(#clip920)\" d=\"M2308.06 1517.37 Q2304.45 1517.37 2302.62 1520.93 Q2300.81 1524.47 2300.81 1531.6 Q2300.81 1538.71 2302.62 1542.27 Q2304.45 1545.82 2308.06 1545.82 Q2311.69 1545.82 2313.5 1542.27 Q2315.33 1538.71 2315.33 1531.6 Q2315.33 1524.47 2313.5 1520.93 Q2311.69 1517.37 2308.06 1517.37 M2308.06 1513.66 Q2313.87 1513.66 2316.93 1518.27 Q2320 1522.85 2320 1531.6 Q2320 1540.33 2316.93 1544.94 Q2313.87 1549.52 2308.06 1549.52 Q2302.25 1549.52 2299.17 1544.94 Q2296.12 1540.33 2296.12 1531.6 Q2296.12 1522.85 2299.17 1518.27 Q2302.25 1513.66 2308.06 1513.66 Z\" fill=\"#000000\" fill-rule=\"nonzero\" fill-opacity=\"1\" /><path clip-path=\"url(#clip920)\" d=\"M2338.22 1517.37 Q2334.61 1517.37 2332.78 1520.93 Q2330.98 1524.47 2330.98 1531.6 Q2330.98 1538.71 2332.78 1542.27 Q2334.61 1545.82 2338.22 1545.82 Q2341.86 1545.82 2343.66 1542.27 Q2345.49 1538.71 2345.49 1531.6 Q2345.49 1524.47 2343.66 1520.93 Q2341.86 1517.37 2338.22 1517.37 M2338.22 1513.66 Q2344.03 1513.66 2347.09 1518.27 Q2350.17 1522.85 2350.17 1531.6 Q2350.17 1540.33 2347.09 1544.94 Q2344.03 1549.52 2338.22 1549.52 Q2332.41 1549.52 2329.33 1544.94 Q2326.28 1540.33 2326.28 1531.6 Q2326.28 1522.85 2329.33 1518.27 Q2332.41 1513.66 2338.22 1513.66 Z\" fill=\"#000000\" fill-rule=\"nonzero\" fill-opacity=\"1\" /><polyline clip-path=\"url(#clip922)\" style=\"stroke:#000000; stroke-linecap:round; stroke-linejoin:round; stroke-width:2; stroke-opacity:0.1; fill:none\" points=\"277.431,1447.81 2352.76,1447.81 \"/>\n",
       "<polyline clip-path=\"url(#clip922)\" style=\"stroke:#000000; stroke-linecap:round; stroke-linejoin:round; stroke-width:2; stroke-opacity:0.1; fill:none\" points=\"277.431,1117.85 2352.76,1117.85 \"/>\n",
       "<polyline clip-path=\"url(#clip922)\" style=\"stroke:#000000; stroke-linecap:round; stroke-linejoin:round; stroke-width:2; stroke-opacity:0.1; fill:none\" points=\"277.431,787.893 2352.76,787.893 \"/>\n",
       "<polyline clip-path=\"url(#clip922)\" style=\"stroke:#000000; stroke-linecap:round; stroke-linejoin:round; stroke-width:2; stroke-opacity:0.1; fill:none\" points=\"277.431,457.934 2352.76,457.934 \"/>\n",
       "<polyline clip-path=\"url(#clip922)\" style=\"stroke:#000000; stroke-linecap:round; stroke-linejoin:round; stroke-width:2; stroke-opacity:0.1; fill:none\" points=\"277.431,127.975 2352.76,127.975 \"/>\n",
       "<polyline clip-path=\"url(#clip920)\" style=\"stroke:#000000; stroke-linecap:round; stroke-linejoin:round; stroke-width:4; stroke-opacity:1; fill:none\" points=\"277.431,1486.45 277.431,47.2441 \"/>\n",
       "<polyline clip-path=\"url(#clip920)\" style=\"stroke:#000000; stroke-linecap:round; stroke-linejoin:round; stroke-width:4; stroke-opacity:1; fill:none\" points=\"277.431,1447.81 296.329,1447.81 \"/>\n",
       "<polyline clip-path=\"url(#clip920)\" style=\"stroke:#000000; stroke-linecap:round; stroke-linejoin:round; stroke-width:4; stroke-opacity:1; fill:none\" points=\"277.431,1117.85 296.329,1117.85 \"/>\n",
       "<polyline clip-path=\"url(#clip920)\" style=\"stroke:#000000; stroke-linecap:round; stroke-linejoin:round; stroke-width:4; stroke-opacity:1; fill:none\" points=\"277.431,787.893 296.329,787.893 \"/>\n",
       "<polyline clip-path=\"url(#clip920)\" style=\"stroke:#000000; stroke-linecap:round; stroke-linejoin:round; stroke-width:4; stroke-opacity:1; fill:none\" points=\"277.431,457.934 296.329,457.934 \"/>\n",
       "<polyline clip-path=\"url(#clip920)\" style=\"stroke:#000000; stroke-linecap:round; stroke-linejoin:round; stroke-width:4; stroke-opacity:1; fill:none\" points=\"277.431,127.975 296.329,127.975 \"/>\n",
       "<path clip-path=\"url(#clip920)\" d=\"M229.487 1433.61 Q225.875 1433.61 224.047 1437.17 Q222.241 1440.72 222.241 1447.85 Q222.241 1454.95 224.047 1458.52 Q225.875 1462.06 229.487 1462.06 Q233.121 1462.06 234.926 1458.52 Q236.755 1454.95 236.755 1447.85 Q236.755 1440.72 234.926 1437.17 Q233.121 1433.61 229.487 1433.61 M229.487 1429.91 Q235.297 1429.91 238.352 1434.51 Q241.431 1439.1 241.431 1447.85 Q241.431 1456.57 238.352 1461.18 Q235.297 1465.76 229.487 1465.76 Q223.676 1465.76 220.598 1461.18 Q217.542 1456.57 217.542 1447.85 Q217.542 1439.1 220.598 1434.51 Q223.676 1429.91 229.487 1429.91 Z\" fill=\"#000000\" fill-rule=\"nonzero\" fill-opacity=\"1\" /><path clip-path=\"url(#clip920)\" d=\"M54.5569 1137.64 L62.1958 1137.64 L62.1958 1111.28 L53.8856 1112.95 L53.8856 1108.69 L62.1495 1107.02 L66.8254 1107.02 L66.8254 1137.64 L74.4642 1137.64 L74.4642 1141.58 L54.5569 1141.58 L54.5569 1137.64 Z\" fill=\"#000000\" fill-rule=\"nonzero\" fill-opacity=\"1\" /><path clip-path=\"url(#clip920)\" d=\"M83.9086 1135.7 L88.7928 1135.7 L88.7928 1141.58 L83.9086 1141.58 L83.9086 1135.7 Z\" fill=\"#000000\" fill-rule=\"nonzero\" fill-opacity=\"1\" /><path clip-path=\"url(#clip920)\" d=\"M108.978 1110.1 Q105.367 1110.1 103.538 1113.66 Q101.733 1117.2 101.733 1124.33 Q101.733 1131.44 103.538 1135.01 Q105.367 1138.55 108.978 1138.55 Q112.612 1138.55 114.418 1135.01 Q116.246 1131.44 116.246 1124.33 Q116.246 1117.2 114.418 1113.66 Q112.612 1110.1 108.978 1110.1 M108.978 1106.39 Q114.788 1106.39 117.844 1111 Q120.922 1115.58 120.922 1124.33 Q120.922 1133.06 117.844 1137.67 Q114.788 1142.25 108.978 1142.25 Q103.168 1142.25 100.089 1137.67 Q97.0335 1133.06 97.0335 1124.33 Q97.0335 1115.58 100.089 1111 Q103.168 1106.39 108.978 1106.39 Z\" fill=\"#000000\" fill-rule=\"nonzero\" fill-opacity=\"1\" /><path clip-path=\"url(#clip920)\" d=\"M157.311 1116.12 L146.732 1126.74 L157.311 1137.32 L154.556 1140.12 L143.931 1129.5 L133.306 1140.12 L130.575 1137.32 L141.131 1126.74 L130.575 1116.12 L133.306 1113.32 L143.931 1123.94 L154.556 1113.32 L157.311 1116.12 Z\" fill=\"#000000\" fill-rule=\"nonzero\" fill-opacity=\"1\" /><path clip-path=\"url(#clip920)\" d=\"M169.672 1137.64 L177.311 1137.64 L177.311 1111.28 L169.001 1112.95 L169.001 1108.69 L177.265 1107.02 L181.94 1107.02 L181.94 1137.64 L189.579 1137.64 L189.579 1141.58 L169.672 1141.58 L169.672 1137.64 Z\" fill=\"#000000\" fill-rule=\"nonzero\" fill-opacity=\"1\" /><path clip-path=\"url(#clip920)\" d=\"M209.024 1110.1 Q205.413 1110.1 203.584 1113.66 Q201.778 1117.2 201.778 1124.33 Q201.778 1131.44 203.584 1135.01 Q205.413 1138.55 209.024 1138.55 Q212.658 1138.55 214.463 1135.01 Q216.292 1131.44 216.292 1124.33 Q216.292 1117.2 214.463 1113.66 Q212.658 1110.1 209.024 1110.1 M209.024 1106.39 Q214.834 1106.39 217.889 1111 Q220.968 1115.58 220.968 1124.33 Q220.968 1133.06 217.889 1137.67 Q214.834 1142.25 209.024 1142.25 Q203.214 1142.25 200.135 1137.67 Q197.079 1133.06 197.079 1124.33 Q197.079 1115.58 200.135 1111 Q203.214 1106.39 209.024 1106.39 Z\" fill=\"#000000\" fill-rule=\"nonzero\" fill-opacity=\"1\" /><path clip-path=\"url(#clip920)\" d=\"M233.645 1089.4 L224.053 1104.39 L233.645 1104.39 L233.645 1089.4 M232.648 1086.09 L237.425 1086.09 L237.425 1104.39 L241.431 1104.39 L241.431 1107.55 L237.425 1107.55 L237.425 1114.17 L233.645 1114.17 L233.645 1107.55 L220.968 1107.55 L220.968 1103.88 L232.648 1086.09 Z\" fill=\"#000000\" fill-rule=\"nonzero\" fill-opacity=\"1\" /><path clip-path=\"url(#clip920)\" d=\"M57.7745 807.685 L74.0939 807.685 L74.0939 811.621 L52.1495 811.621 L52.1495 807.685 Q54.8115 804.931 59.3949 800.301 Q64.0013 795.648 65.1819 794.306 Q67.4272 791.783 68.3068 790.047 Q69.2096 788.287 69.2096 786.598 Q69.2096 783.843 67.2652 782.107 Q65.3439 780.371 62.2421 780.371 Q60.043 780.371 57.5893 781.135 Q55.1588 781.898 52.381 783.449 L52.381 778.727 Q55.2051 777.593 57.6588 777.014 Q60.1124 776.436 62.1495 776.436 Q67.5198 776.436 70.7142 779.121 Q73.9087 781.806 73.9087 786.297 Q73.9087 788.426 73.0985 790.347 Q72.3115 792.246 70.205 794.838 Q69.6263 795.509 66.5245 798.727 Q63.4226 801.921 57.7745 807.685 Z\" fill=\"#000000\" fill-rule=\"nonzero\" fill-opacity=\"1\" /><path clip-path=\"url(#clip920)\" d=\"M83.9086 805.741 L88.7928 805.741 L88.7928 811.621 L83.9086 811.621 L83.9086 805.741 Z\" fill=\"#000000\" fill-rule=\"nonzero\" fill-opacity=\"1\" /><path clip-path=\"url(#clip920)\" d=\"M108.978 780.139 Q105.367 780.139 103.538 783.704 Q101.733 787.246 101.733 794.375 Q101.733 801.482 103.538 805.046 Q105.367 808.588 108.978 808.588 Q112.612 808.588 114.418 805.046 Q116.246 801.482 116.246 794.375 Q116.246 787.246 114.418 783.704 Q112.612 780.139 108.978 780.139 M108.978 776.436 Q114.788 776.436 117.844 781.042 Q120.922 785.625 120.922 794.375 Q120.922 803.102 117.844 807.709 Q114.788 812.292 108.978 812.292 Q103.168 812.292 100.089 807.709 Q97.0335 803.102 97.0335 794.375 Q97.0335 785.625 100.089 781.042 Q103.168 776.436 108.978 776.436 Z\" fill=\"#000000\" fill-rule=\"nonzero\" fill-opacity=\"1\" /><path clip-path=\"url(#clip920)\" d=\"M157.311 786.158 L146.732 796.783 L157.311 807.361 L154.556 810.162 L143.931 799.537 L133.306 810.162 L130.575 807.361 L141.131 796.783 L130.575 786.158 L133.306 783.357 L143.931 793.982 L154.556 783.357 L157.311 786.158 Z\" fill=\"#000000\" fill-rule=\"nonzero\" fill-opacity=\"1\" /><path clip-path=\"url(#clip920)\" d=\"M169.672 807.685 L177.311 807.685 L177.311 781.32 L169.001 782.986 L169.001 778.727 L177.265 777.061 L181.94 777.061 L181.94 807.685 L189.579 807.685 L189.579 811.621 L169.672 811.621 L169.672 807.685 Z\" fill=\"#000000\" fill-rule=\"nonzero\" fill-opacity=\"1\" /><path clip-path=\"url(#clip920)\" d=\"M209.024 780.139 Q205.413 780.139 203.584 783.704 Q201.778 787.246 201.778 794.375 Q201.778 801.482 203.584 805.046 Q205.413 808.588 209.024 808.588 Q212.658 808.588 214.463 805.046 Q216.292 801.482 216.292 794.375 Q216.292 787.246 214.463 783.704 Q212.658 780.139 209.024 780.139 M209.024 776.436 Q214.834 776.436 217.889 781.042 Q220.968 785.625 220.968 794.375 Q220.968 803.102 217.889 807.709 Q214.834 812.292 209.024 812.292 Q203.214 812.292 200.135 807.709 Q197.079 803.102 197.079 794.375 Q197.079 785.625 200.135 781.042 Q203.214 776.436 209.024 776.436 Z\" fill=\"#000000\" fill-rule=\"nonzero\" fill-opacity=\"1\" /><path clip-path=\"url(#clip920)\" d=\"M233.645 759.44 L224.053 774.43 L233.645 774.43 L233.645 759.44 M232.648 756.13 L237.425 756.13 L237.425 774.43 L241.431 774.43 L241.431 777.59 L237.425 777.59 L237.425 784.21 L233.645 784.21 L233.645 777.59 L220.968 777.59 L220.968 773.922 L232.648 756.13 Z\" fill=\"#000000\" fill-rule=\"nonzero\" fill-opacity=\"1\" /><path clip-path=\"url(#clip920)\" d=\"M67.9133 463.027 Q71.2698 463.745 73.1448 466.013 Q75.0429 468.282 75.0429 471.615 Q75.0429 476.731 71.5244 479.532 Q68.0059 482.333 61.5245 482.333 Q59.3486 482.333 57.0338 481.893 Q54.7421 481.476 52.2884 480.62 L52.2884 476.106 Q54.2328 477.24 56.5477 477.819 Q58.8625 478.398 61.3856 478.398 Q65.7837 478.398 68.0754 476.661 Q70.3902 474.925 70.3902 471.615 Q70.3902 468.56 68.2374 466.847 Q66.1078 465.111 62.2884 465.111 L58.2606 465.111 L58.2606 461.268 L62.4735 461.268 Q65.9226 461.268 67.7513 459.902 Q69.58 458.513 69.58 455.921 Q69.58 453.259 67.6819 451.847 Q65.8069 450.412 62.2884 450.412 Q60.3671 450.412 58.168 450.828 Q55.969 451.245 53.3301 452.125 L53.3301 447.958 Q55.9921 447.217 58.3069 446.847 Q60.6449 446.476 62.705 446.476 Q68.0291 446.476 71.1309 448.907 Q74.2327 451.314 74.2327 455.435 Q74.2327 458.305 72.5892 460.296 Q70.9457 462.263 67.9133 463.027 Z\" fill=\"#000000\" fill-rule=\"nonzero\" fill-opacity=\"1\" /><path clip-path=\"url(#clip920)\" d=\"M83.9086 475.782 L88.7928 475.782 L88.7928 481.661 L83.9086 481.661 L83.9086 475.782 Z\" fill=\"#000000\" fill-rule=\"nonzero\" fill-opacity=\"1\" /><path clip-path=\"url(#clip920)\" d=\"M108.978 450.18 Q105.367 450.18 103.538 453.745 Q101.733 457.287 101.733 464.416 Q101.733 471.523 103.538 475.087 Q105.367 478.629 108.978 478.629 Q112.612 478.629 114.418 475.087 Q116.246 471.523 116.246 464.416 Q116.246 457.287 114.418 453.745 Q112.612 450.18 108.978 450.18 M108.978 446.476 Q114.788 446.476 117.844 451.083 Q120.922 455.666 120.922 464.416 Q120.922 473.143 117.844 477.749 Q114.788 482.333 108.978 482.333 Q103.168 482.333 100.089 477.749 Q97.0335 473.143 97.0335 464.416 Q97.0335 455.666 100.089 451.083 Q103.168 446.476 108.978 446.476 Z\" fill=\"#000000\" fill-rule=\"nonzero\" fill-opacity=\"1\" /><path clip-path=\"url(#clip920)\" d=\"M157.311 456.199 L146.732 466.824 L157.311 477.402 L154.556 480.203 L143.931 469.578 L133.306 480.203 L130.575 477.402 L141.131 466.824 L130.575 456.199 L133.306 453.398 L143.931 464.023 L154.556 453.398 L157.311 456.199 Z\" fill=\"#000000\" fill-rule=\"nonzero\" fill-opacity=\"1\" /><path clip-path=\"url(#clip920)\" d=\"M169.672 477.726 L177.311 477.726 L177.311 451.361 L169.001 453.027 L169.001 448.768 L177.265 447.101 L181.94 447.101 L181.94 477.726 L189.579 477.726 L189.579 481.661 L169.672 481.661 L169.672 477.726 Z\" fill=\"#000000\" fill-rule=\"nonzero\" fill-opacity=\"1\" /><path clip-path=\"url(#clip920)\" d=\"M209.024 450.18 Q205.413 450.18 203.584 453.745 Q201.778 457.287 201.778 464.416 Q201.778 471.523 203.584 475.087 Q205.413 478.629 209.024 478.629 Q212.658 478.629 214.463 475.087 Q216.292 471.523 216.292 464.416 Q216.292 457.287 214.463 453.745 Q212.658 450.18 209.024 450.18 M209.024 446.476 Q214.834 446.476 217.889 451.083 Q220.968 455.666 220.968 464.416 Q220.968 473.143 217.889 477.749 Q214.834 482.333 209.024 482.333 Q203.214 482.333 200.135 477.749 Q197.079 473.143 197.079 464.416 Q197.079 455.666 200.135 451.083 Q203.214 446.476 209.024 446.476 Z\" fill=\"#000000\" fill-rule=\"nonzero\" fill-opacity=\"1\" /><path clip-path=\"url(#clip920)\" d=\"M233.645 429.481 L224.053 444.471 L233.645 444.471 L233.645 429.481 M232.648 426.171 L237.425 426.171 L237.425 444.471 L241.431 444.471 L241.431 447.631 L237.425 447.631 L237.425 454.251 L233.645 454.251 L233.645 447.631 L220.968 447.631 L220.968 443.963 L232.648 426.171 Z\" fill=\"#000000\" fill-rule=\"nonzero\" fill-opacity=\"1\" /><path clip-path=\"url(#clip920)\" d=\"M66.5939 121.216 L54.7884 139.665 L66.5939 139.665 L66.5939 121.216 M65.367 117.142 L71.2466 117.142 L71.2466 139.665 L76.1772 139.665 L76.1772 143.554 L71.2466 143.554 L71.2466 151.702 L66.5939 151.702 L66.5939 143.554 L50.9921 143.554 L50.9921 139.04 L65.367 117.142 Z\" fill=\"#000000\" fill-rule=\"nonzero\" fill-opacity=\"1\" /><path clip-path=\"url(#clip920)\" d=\"M83.9086 145.823 L88.7928 145.823 L88.7928 151.702 L83.9086 151.702 L83.9086 145.823 Z\" fill=\"#000000\" fill-rule=\"nonzero\" fill-opacity=\"1\" /><path clip-path=\"url(#clip920)\" d=\"M108.978 120.221 Q105.367 120.221 103.538 123.786 Q101.733 127.328 101.733 134.457 Q101.733 141.564 103.538 145.128 Q105.367 148.67 108.978 148.67 Q112.612 148.67 114.418 145.128 Q116.246 141.564 116.246 134.457 Q116.246 127.328 114.418 123.786 Q112.612 120.221 108.978 120.221 M108.978 116.517 Q114.788 116.517 117.844 121.124 Q120.922 125.707 120.922 134.457 Q120.922 143.184 117.844 147.79 Q114.788 152.374 108.978 152.374 Q103.168 152.374 100.089 147.79 Q97.0335 143.184 97.0335 134.457 Q97.0335 125.707 100.089 121.124 Q103.168 116.517 108.978 116.517 Z\" fill=\"#000000\" fill-rule=\"nonzero\" fill-opacity=\"1\" /><path clip-path=\"url(#clip920)\" d=\"M157.311 126.24 L146.732 136.865 L157.311 147.443 L154.556 150.244 L143.931 139.619 L133.306 150.244 L130.575 147.443 L141.131 136.865 L130.575 126.24 L133.306 123.439 L143.931 134.064 L154.556 123.439 L157.311 126.24 Z\" fill=\"#000000\" fill-rule=\"nonzero\" fill-opacity=\"1\" /><path clip-path=\"url(#clip920)\" d=\"M169.672 147.767 L177.311 147.767 L177.311 121.402 L169.001 123.068 L169.001 118.809 L177.265 117.142 L181.94 117.142 L181.94 147.767 L189.579 147.767 L189.579 151.702 L169.672 151.702 L169.672 147.767 Z\" fill=\"#000000\" fill-rule=\"nonzero\" fill-opacity=\"1\" /><path clip-path=\"url(#clip920)\" d=\"M209.024 120.221 Q205.413 120.221 203.584 123.786 Q201.778 127.328 201.778 134.457 Q201.778 141.564 203.584 145.128 Q205.413 148.67 209.024 148.67 Q212.658 148.67 214.463 145.128 Q216.292 141.564 216.292 134.457 Q216.292 127.328 214.463 123.786 Q212.658 120.221 209.024 120.221 M209.024 116.517 Q214.834 116.517 217.889 121.124 Q220.968 125.707 220.968 134.457 Q220.968 143.184 217.889 147.79 Q214.834 152.374 209.024 152.374 Q203.214 152.374 200.135 147.79 Q197.079 143.184 197.079 134.457 Q197.079 125.707 200.135 121.124 Q203.214 116.517 209.024 116.517 Z\" fill=\"#000000\" fill-rule=\"nonzero\" fill-opacity=\"1\" /><path clip-path=\"url(#clip920)\" d=\"M233.645 99.5222 L224.053 114.512 L233.645 114.512 L233.645 99.5222 M232.648 96.212 L237.425 96.212 L237.425 114.512 L241.431 114.512 L241.431 117.672 L237.425 117.672 L237.425 124.292 L233.645 124.292 L233.645 117.672 L220.968 117.672 L220.968 114.004 L232.648 96.212 Z\" fill=\"#000000\" fill-rule=\"nonzero\" fill-opacity=\"1\" /><polyline clip-path=\"url(#clip922)\" style=\"stroke:#009af9; stroke-linecap:round; stroke-linejoin:round; stroke-width:4; stroke-opacity:1; fill:none\" points=\"336.167,87.9763 338.126,1408.65 340.086,924.21 342.046,1444.11 344.006,1434.74 345.966,1445.72 347.925,1442.93 349.885,1443.97 351.845,1444.95 353.805,1440.95 355.765,1443.15 357.724,1444.9 359.684,1444.77 361.644,1444.59 363.604,1444.74 365.564,1444.8 367.524,1444.62 369.483,1444.65 371.443,1444.66 373.403,1444.56 375.363,1444.54 377.323,1444.62 379.282,1444.37 381.242,1444.35 383.202,1444.86 385.162,1444.55 387.122,1444.57 389.081,1442.02 391.041,1444.79 393.001,1444.77 394.961,1444.69 396.921,1444.58 398.881,1444.61 400.84,1444.54 402.8,1444.68 404.76,1444.64 406.72,1444.54 408.68,1444.75 410.639,1444.56 412.599,1444.69 414.559,1444.55 416.519,1444.64 418.479,1444.72 420.439,1444.44 422.398,1444.55 424.358,1444.53 426.318,1444.52 428.278,1444.55 430.238,1444.54 432.197,1444.58 434.157,1444.54 436.117,1444.56 438.077,1444.55 440.037,1444.54 441.996,1444.6 443.956,1444.54 445.916,1444.55 447.876,1444.56 449.836,1444.6 451.796,1444.56 453.755,1444.54 455.715,1444.53 457.675,1444.59 459.635,1444.55 461.595,1444.58 463.554,1444.53 465.514,1444.52 467.474,1444.6 469.434,1444.55 471.394,1444.54 473.353,1444.54 475.313,1444.56 477.273,1444.53 479.233,1444.58 481.193,1444.56 483.153,1444.54 485.112,1444.64 487.072,1444.54 489.032,1444.53 490.992,1444.05 492.952,1444.7 494.911,1444.57 496.871,1444.52 498.831,1444.48 500.791,1444.54 502.751,1444.61 504.711,1444.53 506.67,1444.53 508.63,1444.52 510.59,1444.54 512.55,1444.62 514.51,1444.52 516.469,1444.55 518.429,1444.53 520.389,1444.59 522.349,1444.57 524.309,1444.53 526.268,1444.53 528.228,1444.52 530.188,1444.54 532.148,1444.66 534.108,1444.55 536.068,1444.54 538.027,1444.54 539.987,1444.58 541.947,1444.53 543.907,1444.58 545.867,1444.53 547.826,1444.64 549.786,1444.52 551.746,1444.6 553.706,1444.66 555.666,1444.52 557.625,1444.54 559.585,1444.54 561.545,1444.53 563.505,1444.55 565.465,1444.56 567.425,1444.55 569.384,1444.53 571.344,1444.36 573.304,1444.63 575.264,1444.53 577.224,1444.59 579.183,1444.53 581.143,1444.52 583.103,1444.7 585.063,1444.55 587.023,1444.65 588.982,1444.54 590.942,1444.58 592.902,1444.53 594.862,1444.54 596.822,1444.56 598.782,1444.48 600.741,1444.82 602.701,1444.53 604.661,1444.51 606.621,1444.53 608.581,1444.59 610.54,1444.57 612.5,1444.72 614.46,1444.67 616.42,1444.53 618.38,1444.54 620.34,1444.61 622.299,1444.53 624.259,1444.2 626.219,1444.52 628.179,1444.14 630.139,1444.54 632.098,1444.53 634.058,1444.53 636.018,1444.54 637.978,1444.53 639.938,1444.53 641.897,1444.53 643.857,1444.43 645.817,1444.53 647.777,1444.65 649.737,1444.53 651.697,1444.56 653.656,1444.52 655.616,1444.53 657.576,1444.55 659.536,1444.54 661.496,1444.52 663.455,1444.64 665.415,1444.53 667.375,1444.53 669.335,1444.53 671.295,1444.53 673.254,1444.6 675.214,1444.55 677.174,1444.63 679.134,1444.53 681.094,1444.55 683.054,1444.61 685.013,1444.54 686.973,1444.55 688.933,1444.55 690.893,1444.54 692.853,1444.61 694.812,1444.54 696.772,1444.64 698.732,1444.53 700.692,1444.53 702.652,1444.65 704.611,1444.53 706.571,1444.56 708.531,1444.6 710.491,1444.59 712.451,1444.66 714.411,1444.7 716.37,1444.52 718.33,1444.59 720.29,1444.53 722.25,1444.59 724.21,1444.57 726.169,1444.53 728.129,1444.54 730.089,1444.39 732.049,1444.53 734.009,1444.53 735.969,1444.55 737.928,1444.56 739.888,1444.57 741.848,1444.68 743.808,1444.6 745.768,1444.54 747.727,1444.61 749.687,1444.54 751.647,1444.53 753.607,1444.62 755.567,1444.59 757.526,1444.57 759.486,1444.54 761.446,1444.53 763.406,1444.56 765.366,1444.55 767.326,1444.76 769.285,1444.54 771.245,1444.56 773.205,1444.64 775.165,1444.71 777.125,1444.54 779.084,1444.53 781.044,1444.53 783.004,1444.52 784.964,1444.64 786.924,1444.53 788.883,1444.54 790.843,1444.66 792.803,1444.63 794.763,1444.53 796.723,1444.55 798.683,1444.53 800.642,1444.52 802.602,1444.66 804.562,1444.64 806.522,1444.54 808.482,1444.61 810.441,1444.57 812.401,1444.54 814.361,1443.81 816.321,1444.53 818.281,1444.52 820.24,1444.59 822.2,1444.54 824.16,1444.52 826.12,1444.53 828.08,1444.54 830.04,1444.53 831.999,1444.65 833.959,1444.57 835.919,1444.7 837.879,1444.53 839.839,1444.59 841.798,1444.53 843.758,1444.21 845.718,1444.44 847.678,1444.64 849.638,1444.54 851.598,1444.55 853.557,1444.52 855.517,1444.54 857.477,1444.55 859.437,1444.55 861.397,1444.53 863.356,1444.54 865.316,1444.53 867.276,1444.55 869.236,1444.56 871.196,1444.57 873.155,1444.53 875.115,1444.67 877.075,1444.52 879.035,1444.55 880.995,1444.55 882.955,1444.53 884.914,1444.59 886.874,1444.54 888.834,1444.53 890.794,1444.54 892.754,1444.53 894.713,1444.65 896.673,1444.67 898.633,1444.67 900.593,1444.53 902.553,1444.73 904.512,1444.53 906.472,1444.6 908.432,1444.51 910.392,1444.46 912.352,1444.54 914.312,1444.55 916.271,1444.58 918.231,1444.54 920.191,1444.55 922.151,1444.61 924.111,1444.71 926.07,1444.53 928.03,1444.54 929.99,1444.54 931.95,1444.62 933.91,1444.71 935.869,1444.54 937.829,1444.71 939.789,1444.55 941.749,1444.53 943.709,1444.54 945.669,1444.54 947.628,1444.55 949.588,1444.55 951.548,1444.59 953.508,1444.55 955.468,1444.48 957.427,1444.53 959.387,1444.71 961.347,1444.53 963.307,1444.53 965.267,1444.7 967.227,1444.53 969.186,1444.57 971.146,1444.31 973.106,1444.57 975.066,1444.55 977.026,1444.55 978.985,1443.81 980.945,1444.54 982.905,1444.59 984.865,1444.56 986.825,1444.54 988.784,1444.54 990.744,1444.53 992.704,1444.62 994.664,1444.54 996.624,1444.63 998.584,1444.52 1000.54,1444.6 1002.5,1444.53 1004.46,1444.54 1006.42,1444.59 1008.38,1444.54 1010.34,1444.57 1012.3,1444.53 1014.26,1444.54 1016.22,1444.52 1018.18,1444.53 1020.14,1444.56 1022.1,1444.56 1024.06,1444.54 1026.02,1444.55 1027.98,1444.63 1029.94,1444.54 1031.9,1444.6 1033.86,1444.53 1035.82,1444.54 1037.78,1444.53 1039.74,1444.6 1041.7,1444.53 1043.66,1444.19 1045.62,1444.59 1047.58,1444.53 1049.54,1444.53 1051.5,1444.53 1053.46,1444.52 1055.42,1444.63 1057.38,1444.52 1059.34,1444.69 1061.3,1444.6 1063.26,1444.53 1065.22,1444.54 1067.18,1444.53 1069.14,1444.55 1071.1,1444.52 1073.06,1444.54 1075.02,1444.53 1076.98,1444.53 1078.94,1444.62 1080.9,1444.58 1082.86,1444.54 1084.82,1444.59 1086.78,1444.52 1088.73,1444.56 1090.69,1444.62 1092.65,1444.55 1094.61,1444.54 1096.57,1444.57 1098.53,1444.7 1100.49,1444.6 1102.45,1444.55 1104.41,1444.61 1106.37,1444.81 1108.33,1444.48 1110.29,1444.53 1112.25,1444.53 1114.21,1444.54 1116.17,1444.54 1118.13,1444.58 1120.09,1444.52 1122.05,1444.53 1124.01,1444.53 1125.97,1444.22 1127.93,1444.55 1129.89,1444.53 1131.85,1444.54 1133.81,1444.61 1135.77,1444.68 1137.73,1444.57 1139.69,1444.72 1141.65,1444.57 1143.61,1444.54 1145.57,1444.62 1147.53,1444.53 1149.49,1444.1 1151.45,1444.54 1153.41,1444.53 1155.37,1444.63 1157.33,1444.68 1159.29,1444.56 1161.25,1444.56 1163.21,1444.69 1165.17,1444.58 1167.13,1444.61 1169.09,1444.54 1171.05,1444.58 1173.01,1444.52 1174.97,1444.58 1176.93,1444.54 1178.89,1444.57 1180.85,1444.56 1182.81,1444.58 1184.77,1444.54 1186.73,1444.53 1188.69,1444.56 1190.65,1444.55 1192.61,1444.71 1194.56,1444.53 1196.52,1444.53 1198.48,1444.59 1200.44,1444.54 1202.4,1444.57 1204.36,1444.6 1206.32,1444.55 1208.28,1444.54 1210.24,1444.79 1212.2,1444.55 1214.16,1444.55 1216.12,1444.66 1218.08,1444.52 1220.04,1444.6 1222,1444.53 1223.96,1444.59 1225.92,1444.54 1227.88,1444.56 1229.84,1444.53 1231.8,1444.69 1233.76,1444.59 1235.72,1444.53 1237.68,1444.53 1239.64,1444.55 1241.6,1444.69 1243.56,1444.55 1245.52,1444.31 1247.48,1444.55 1249.44,1444.72 1251.4,1444.56 1253.36,1444.56 1255.32,1444.59 1257.28,1444.55 1259.24,1444.58 1261.2,1444.54 1263.16,1444.61 1265.12,1444.53 1267.08,1444.62 1269.04,1444.57 1271,1444.65 1272.96,1444.83 1274.92,1444.34 1276.88,1444.53 1278.84,1444.59 1280.8,1444.54 1282.76,1444.07 1284.72,1444.53 1286.68,1444.11 1288.64,1444.58 1290.6,1444.56 1292.56,1444.55 1294.52,1444.53 1296.48,1444.65 1298.43,1444.54 1300.39,1444.58 1302.35,1444.55 1304.31,1444.45 1306.27,1444.54 1308.23,1444.61 1310.19,1444.53 1312.15,1444.62 1314.11,1444.68 1316.07,1444.62 1318.03,1444.55 1319.99,1444.7 1321.95,1444.54 1323.91,1444.58 1325.87,1444.56 1327.83,1444.63 1329.79,1444.69 1331.75,1444.53 1333.71,1444.54 1335.67,1444.7 1337.63,1444.5 1339.59,1444.53 1341.55,1444.55 1343.51,1444.48 1345.47,1444.52 1347.43,1444.61 1349.39,1444.55 1351.35,1444.71 1353.31,1444.65 1355.27,1444.54 1357.23,1444.39 1359.19,1444.28 1361.15,1444.54 1363.11,1444.54 1365.07,1444.52 1367.03,1444.55 1368.99,1444.54 1370.95,1444.54 1372.91,1444.61 1374.87,1444.59 1376.83,1444.53 1378.79,1444.61 1380.75,1444.56 1382.71,1444.6 1384.67,1444.57 1386.63,1444.6 1388.59,1444.6 1390.55,1444.71 1392.51,1444.58 1394.47,1444.32 1396.43,1444.61 1398.39,1444.58 1400.35,1444.54 1402.31,1444.54 1404.26,1444.53 1406.22,1444.54 1408.18,1444.62 1410.14,1444.56 1412.1,1444.57 1414.06,1444.53 1416.02,1444.53 1417.98,1444.66 1419.94,1444.57 1421.9,1444.56 1423.86,1444.6 1425.82,1444.53 1427.78,1444.53 1429.74,1444.54 1431.7,1444.54 1433.66,1444.56 1435.62,1444.59 1437.58,1444.55 1439.54,1444.54 1441.5,1444.53 1443.46,1444.76 1445.42,1444.56 1447.38,1444.55 1449.34,1444.66 1451.3,1444.59 1453.26,1444.55 1455.22,1444.59 1457.18,1444.53 1459.14,1444.53 1461.1,1444.56 1463.06,1444.56 1465.02,1444.54 1466.98,1444.56 1468.94,1444.6 1470.9,1444.53 1472.86,1444.28 1474.82,1444.55 1476.78,1444.58 1478.74,1444.58 1480.7,1444.55 1482.66,1444.56 1484.62,1444.73 1486.58,1444.53 1488.54,1444.57 1490.5,1444.55 1492.46,1444.6 1494.42,1444.74 1496.38,1444.54 1498.34,1444.54 1500.3,1444.56 1502.26,1444.61 1504.22,1444.58 1506.18,1444.53 1508.14,1444.57 1510.09,1444.64 1512.05,1444.55 1514.01,1444.48 1515.97,1444.65 1517.93,1444.56 1519.89,1444.54 1521.85,1444.6 1523.81,1444.57 1525.77,1444.65 1527.73,1444.58 1529.69,1444.54 1531.65,1444.85 1533.61,1444.62 1535.57,1444.54 1537.53,1444.58 1539.49,1444.58 1541.45,1444.6 1543.41,1444.83 1545.37,1444.56 1547.33,1444.57 1549.29,1444.61 1551.25,1444.65 1553.21,1444.59 1555.17,1444.61 1557.13,1444.63 1559.09,1444.6 1561.05,1443.87 1563.01,1444.6 1564.97,1443.67 1566.93,1444.78 1568.89,1444.69 1570.85,1444.61 1572.81,1444.6 1574.77,1444.55 1576.73,1444.59 1578.69,1444.82 1580.65,1444.56 1582.61,1444.53 1584.57,1444.55 1586.53,1444.57 1588.49,1444.67 1590.45,1444.58 1592.41,1444.6 1594.37,1444.54 1596.33,1444.55 1598.29,1444.54 1600.25,1444.55 1602.21,1444.36 1604.17,1444.56 1606.13,1444.22 1608.09,1444.58 1610.05,1444.54 1612.01,1444.54 1613.96,1444.54 1615.92,1444.57 1617.88,1444.59 1619.84,1444.55 1621.8,1444.54 1623.76,1444.58 1625.72,1444.54 1627.68,1444.63 1629.64,1444.57 1631.6,1444.54 1633.56,1444.54 1635.52,1444.53 1637.48,1444.55 1639.44,1444.58 1641.4,1444.53 1643.36,1444.58 1645.32,1444.53 1647.28,1444.53 1649.24,1444.56 1651.2,1444.53 1653.16,1444.54 1655.12,1444.52 1657.08,1444.63 1659.04,1444.53 1661,1444.55 1662.96,1444.55 1664.92,1444.55 1666.88,1444.56 1668.84,1444.53 1670.8,1444.53 1672.76,1444.57 1674.72,1444.54 1676.68,1444.54 1678.64,1444.53 1680.6,1444.54 1682.56,1444.63 1684.52,1444.54 1686.48,1444.65 1688.44,1444.63 1690.4,1444.56 1692.36,1444.56 1694.32,1444.6 1696.28,1444.59 1698.24,1444.35 1700.2,1444.59 1702.16,1444.56 1704.12,1444.57 1706.08,1444.61 1708.04,1444.57 1710,1444.54 1711.96,1444.65 1713.92,1444.59 1715.88,1444.56 1717.84,1444.55 1719.79,1444.55 1721.75,1444.62 1723.71,1444.6 1725.67,1444.69 1727.63,1444.71 1729.59,1444.54 1731.55,1444.58 1733.51,1444.6 1735.47,1444.58 1737.43,1444.56 1739.39,1444.55 1741.35,1444.64 1743.31,1444.6 1745.27,1444.6 1747.23,1444.63 1749.19,1444.76 1751.15,1444.59 1753.11,1444.75 1755.07,1444.76 1757.03,1444.69 1758.99,1444.68 1760.95,1444.6 1762.91,1444.99 1764.87,1444.76 1766.83,1444.8 1768.79,1444.68 1770.75,1444.61 1772.71,1442.86 1774.67,1444.78 1776.63,1444.59 1778.59,1444.63 1780.55,1444.64 1782.51,1444.75 1784.47,1444.6 1786.43,1444.65 1788.39,1444.65 1790.35,1444.86 1792.31,1444.62 1794.27,1444.59 1796.23,1444.6 1798.19,1444.74 1800.15,1444.65 1802.11,1444.79 1804.07,1444.7 1806.03,1444.62 1807.99,1444.64 1809.95,1444.82 1811.91,1444.6 1813.87,1444.84 1815.83,1444.85 1817.79,1444.85 1819.75,1444.76 1821.71,1444.63 1823.67,1444.86 1825.62,1444.51 1827.58,1443.6 1829.54,1439.06 1831.5,1443.69 1833.46,1444.61 1835.42,1444.55 1837.38,1444.56 1839.34,1444.55 1841.3,1444.54 1843.26,1444.53 1845.22,1444.52 1847.18,1444.52 1849.14,1444.52 1851.1,1444.52 1853.06,1444.52 1855.02,1444.56 1856.98,1444.52 1858.94,1444.52 1860.9,1444.52 1862.86,1444.52 1864.82,1444.52 1866.78,1444.53 1868.74,1444.52 1870.7,1444.52 1872.66,1444.51 1874.62,1444.51 1876.58,1444.53 1878.54,1444.52 1880.5,1444.52 1882.46,1444.52 1884.42,1444.52 1886.38,1444.52 1888.34,1444.52 1890.3,1444.52 1892.26,1444.53 1894.22,1444.52 1896.18,1444.52 1898.14,1444.52 1900.1,1444.52 1902.06,1444.52 1904.02,1444.52 1905.98,1444.51 1907.94,1444.52 1909.9,1444.52 1911.86,1444.52 1913.82,1444.51 1915.78,1444.52 1917.74,1444.52 1919.7,1444.52 1921.66,1444.51 1923.62,1444.52 1925.58,1444.52 1927.54,1444.52 1929.49,1444.52 1931.45,1444.51 1933.41,1444.52 1935.37,1444.52 1937.33,1444.52 1939.29,1444.52 1941.25,1444.52 1943.21,1444.52 1945.17,1444.54 1947.13,1444.53 1949.09,1444.52 1951.05,1444.52 1953.01,1444.52 1954.97,1444.54 1956.93,1444.52 1958.89,1444.52 1960.85,1444.52 1962.81,1444.52 1964.77,1444.52 1966.73,1444.52 1968.69,1444.52 1970.65,1444.52 1972.61,1444.52 1974.57,1444.53 1976.53,1444.52 1978.49,1444.52 1980.45,1444.52 1982.41,1444.52 1984.37,1444.52 1986.33,1444.52 1988.29,1444.52 1990.25,1444.53 1992.21,1444.52 1994.17,1444.52 1996.13,1444.52 1998.09,1444.52 2000.05,1444.52 2002.01,1444.52 2003.97,1444.52 2005.93,1444.52 2007.89,1444.53 2009.85,1444.52 2011.81,1444.53 2013.77,1444.55 2015.73,1444.53 2017.69,1444.52 2019.65,1444.52 2021.61,1444.53 2023.57,1444.52 2025.53,1444.53 2027.49,1444.52 2029.45,1444.52 2031.41,1444.53 2033.37,1444.52 2035.32,1444.52 2037.28,1444.55 2039.24,1444.54 2041.2,1444.52 2043.16,1444.55 2045.12,1444.52 2047.08,1444.52 2049.04,1444.52 2051,1444.53 2052.96,1444.52 2054.92,1444.53 2056.88,1444.53 2058.84,1444.61 2060.8,1444.53 2062.76,1444.54 2064.72,1444.52 2066.68,1444.53 2068.64,1444.53 2070.6,1444.55 2072.56,1444.53 2074.52,1444.58 2076.48,1444.69 2078.44,1444.57 2080.4,1444.53 2082.36,1444.57 2084.32,1444.58 2086.28,1444.59 2088.24,1444.55 2090.2,1444.67 2092.16,1444.54 2094.12,1444.55 2096.08,1444.54 2098.04,1444.54 2100,1444.54 2101.96,1444.53 2103.92,1444.54 2105.88,1444.52 2107.84,1444.56 2109.8,1444.57 2111.76,1444.56 2113.72,1444.63 2115.68,1444.53 2117.64,1444.56 2119.6,1444.58 2121.56,1444.74 2123.52,1444.54 2125.48,1444.54 2127.44,1444.55 2129.4,1444.6 2131.36,1444.55 2133.32,1444.67 2135.28,1444.64 2137.24,1444.56 2139.2,1444.18 2141.15,1444.15 2143.11,1444.27 2145.07,1444.6 2147.03,1444.56 2148.99,1444.6 2150.95,1444.57 2152.91,1444.58 2154.87,1444.53 2156.83,1444.56 2158.79,1444.53 2160.75,1444.53 2162.71,1444.54 2164.67,1444.52 2166.63,1444.58 2168.59,1444.56 2170.55,1444.55 2172.51,1444.52 2174.47,1444.54 2176.43,1444.53 2178.39,1444.53 2180.35,1444.53 2182.31,1444.6 2184.27,1444.52 2186.23,1444.54 2188.19,1444.52 2190.15,1444.53 2192.11,1444.53 2194.07,1444.53 2196.03,1444.57 2197.99,1444.53 2199.95,1444.53 2201.91,1444.54 2203.87,1444.54 2205.83,1444.57 2207.79,1444.56 2209.75,1444.57 2211.71,1444.53 2213.67,1444.56 2215.63,1444.58 2217.59,1444.58 2219.55,1444.57 2221.51,1444.53 2223.47,1444.56 2225.43,1444.57 2227.39,1444.66 2229.35,1444.54 2231.31,1444.61 2233.27,1444.63 2235.23,1444.83 2237.19,1444.87 2239.15,1444.7 2241.11,1444.63 2243.07,1444.61 2245.02,1444.62 2246.98,1444.51 2248.94,1444.84 2250.9,1444.61 2252.86,1444.69 2254.82,1444.57 2256.78,1444.61 2258.74,1444.06 2260.7,1444.65 2262.66,1444.6 2264.62,1444.69 2266.58,1444.59 2268.54,1444.65 2270.5,1444.65 2272.46,1444.57 2274.42,1444.85 2276.38,1444.63 2278.34,1444.62 2280.3,1444.75 2282.26,1444.7 2284.22,1442.47 2286.18,1444.8 2288.14,1444.72 2290.1,1444.6 2292.06,1444.59 2294.02,1444.53 \"/>\n",
       "<path clip-path=\"url(#clip920)\" d=\"M2023.62 198.898 L2283.58 198.898 L2283.58 95.2176 L2023.62 95.2176  Z\" fill=\"#ffffff\" fill-rule=\"evenodd\" fill-opacity=\"1\"/>\n",
       "<polyline clip-path=\"url(#clip920)\" style=\"stroke:#000000; stroke-linecap:round; stroke-linejoin:round; stroke-width:4; stroke-opacity:1; fill:none\" points=\"2023.62,198.898 2283.58,198.898 2283.58,95.2176 2023.62,95.2176 2023.62,198.898 \"/>\n",
       "<polyline clip-path=\"url(#clip920)\" style=\"stroke:#009af9; stroke-linecap:round; stroke-linejoin:round; stroke-width:4; stroke-opacity:1; fill:none\" points=\"2046.67,147.058 2185.03,147.058 \"/>\n",
       "<path clip-path=\"url(#clip920)\" d=\"M2221.93 166.745 Q2220.13 171.375 2218.41 172.787 Q2216.7 174.199 2213.83 174.199 L2210.43 174.199 L2210.43 170.634 L2212.93 170.634 Q2214.69 170.634 2215.66 169.8 Q2216.63 168.967 2217.81 165.865 L2218.58 163.921 L2208.09 138.412 L2212.6 138.412 L2220.7 158.689 L2228.81 138.412 L2233.32 138.412 L2221.93 166.745 Z\" fill=\"#000000\" fill-rule=\"nonzero\" fill-opacity=\"1\" /><path clip-path=\"url(#clip920)\" d=\"M2240.61 160.402 L2248.25 160.402 L2248.25 134.037 L2239.94 135.703 L2239.94 131.444 L2248.2 129.778 L2252.88 129.778 L2252.88 160.402 L2260.52 160.402 L2260.52 164.338 L2240.61 164.338 L2240.61 160.402 Z\" fill=\"#000000\" fill-rule=\"nonzero\" fill-opacity=\"1\" /></svg>\n"
      ]
     },
     "metadata": {},
     "output_type": "display_data"
    }
   ],
   "source": [
    "plot(epoch_percent_loss_vec)"
   ]
  },
  {
   "cell_type": "code",
   "execution_count": null,
   "metadata": {},
   "outputs": [],
   "source": [
    "#! The model doesn't start with any thermodynamic knowledge. Is there any database we could pre-train on?"
   ]
  },
  {
   "cell_type": "code",
   "execution_count": null,
   "metadata": {},
   "outputs": [],
   "source": [
    "# Plot epoch loss vectors"
   ]
  }
 ],
 "metadata": {
  "kernelspec": {
   "display_name": "Julia 1.9.2",
   "language": "julia",
   "name": "julia-1.9"
  },
  "language_info": {
   "file_extension": ".jl",
   "mimetype": "application/julia",
   "name": "julia",
   "version": "1.9.2"
  }
 },
 "nbformat": 4,
 "nbformat_minor": 2
}
