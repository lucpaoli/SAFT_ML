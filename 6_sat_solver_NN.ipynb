{
 "cells": [
  {
   "cell_type": "code",
   "execution_count": 18,
   "metadata": {},
   "outputs": [],
   "source": [
    "# Set up a chain rule to calculate the loss function @ saturation w/out propagating derivatives through saturation solver\n",
    "# This was done in the Language of Molecules paper.\n",
    "\n",
    "# 1_differentiable_saft works when no solvers are involved, i.e. for properties specified with a given (V, T)\n",
    "# if, instead, we want to solve for saturation conditions, then I have the old problem of "
   ]
  },
  {
   "cell_type": "code",
   "execution_count": 19,
   "metadata": {},
   "outputs": [
    {
     "name": "stderr",
     "output_type": "stream",
     "text": [
      "\u001b[32m\u001b[1m  Activating\u001b[22m\u001b[39m project at `~/SAFT_ML`\n"
     ]
    }
   ],
   "source": [
    "import Pkg; Pkg.activate(\".\")\n",
    "\n",
    "using Revise\n",
    "using Clapeyron\n",
    "includet(\"./saftvrmienn.jl\")\n",
    "# These are functions we're going to overload for SAFTVRMieNN\n",
    "import Clapeyron: a_res, saturation_pressure\n",
    "\n",
    "using Flux\n",
    "using Plots\n",
    "using ForwardDiff, DiffResults\n",
    "\n",
    "using Zygote, ChainRulesCore\n",
    "using ImplicitDifferentiation"
   ]
  },
  {
   "cell_type": "code",
   "execution_count": 26,
   "metadata": {},
   "outputs": [
    {
     "data": {
      "text/plain": [
       "ImplicitFunction(forward_sat_p, conditions_sat_p, IterativeLinearSolver(true, false), nothing)"
      ]
     },
     "metadata": {},
     "output_type": "display_data"
    }
   ],
   "source": [
    "function make_NN_model(Mw, m, σ, λ_a, λ_r, ϵ)\n",
    "    model = SAFTVRMieNN(\n",
    "        params = SAFTVRMieNNParams(\n",
    "            Mw=[Mw],\n",
    "            segment=[m],\n",
    "            sigma=[σ],\n",
    "            lambda_a=[λ_a],\n",
    "            lambda_r=[λ_r],\n",
    "            epsilon=[ϵ],\n",
    "            epsilon_assoc=Float32[],\n",
    "            bondvol=Float32[],\n",
    "        )\n",
    "    )\n",
    "    return model\n",
    "end\n",
    "\n",
    "# Hack to get around Clapeyron model construction API\n",
    "function make_model(Mw, m, σ, λ_a, λ_r, ϵ)\n",
    "    model = SAFTVRMie([\"methane\"])\n",
    "    \n",
    "    model.params.Mw[1] = Mw\n",
    "    model.params.segment[1] = m\n",
    "    model.params.sigma[1] = σ\n",
    "    model.params.lambda_a[1] = λ_a\n",
    "    model.params.lambda_r[1] = λ_r\n",
    "    model.params.epsilon[1] = ϵ\n",
    "\n",
    "    return model\n",
    "end\n",
    "\n",
    "function forward_sat_p(X)\n",
    "    T = 100.0\n",
    "    model = make_model(X...)\n",
    "\n",
    "    p, Vₗ, Vᵥ = saturation_pressure(model, T)\n",
    "    \n",
    "    return [p, Vₗ, Vᵥ]\n",
    "end\n",
    "\n",
    "# Saturation conditions:\n",
    "#* At conditions specified by y, these two conditions are satisfied\n",
    "#? But how do I turn this into an optimality condition with the same\n",
    "#? dimension as X\n",
    "function conditions_sat_p(X, y)\n",
    "    T = 100.0\n",
    "    # Mw, m, σ, λ_a, λ_r, ϵ = X\n",
    "    model = make_NN_model(X...)\n",
    "    \n",
    "    p, Vₗ, Vᵥ = y\n",
    "    \n",
    "    obj = p + (a_res(model, Vᵥ, T) - a_res(model, Vₗ, T))/(1/Vᵥ - 1/Vₗ)\n",
    "    return obj\n",
    "end\n",
    "\n",
    "impl_saturation_pressure = ImplicitFunction(forward_sat_p, conditions_sat_p)#; linear_solver=DirectLinearSolver())"
   ]
  },
  {
   "cell_type": "code",
   "execution_count": 33,
   "metadata": {},
   "outputs": [
    {
     "data": {
      "text/plain": [
       "34113.759878034776"
      ]
     },
     "metadata": {},
     "output_type": "display_data"
    }
   ],
   "source": [
    "X = [16.04, 1.0, 3.737e-10, 6.0, 12.504, 152.58]\n",
    "# m = make_NN_model(X...)\n",
    "# @show pressure(m, 3.695e-5, 100.0)\n",
    "# m2 = make_model(X...)\n",
    "# @show pressure(m2, 3.695e-5, 100.0)\n",
    "y = impl_saturation_pressure(X)\n",
    "conditions_sat_p(X, y)"
   ]
  },
  {
   "cell_type": "code",
   "execution_count": 29,
   "metadata": {},
   "outputs": [
    {
     "data": {
      "text/plain": [
       "(Union{Nothing, Float64}[nothing, -0.00019907032396560264, -19374.92189988039, 5.984904559933875e-5, 1.153376828529166e-5, -2.0198126408504992e-6],)"
      ]
     },
     "metadata": {},
     "output_type": "display_data"
    }
   ],
   "source": [
    "g = Zygote.gradient(X -> conditions_sat_p(X, y), X)"
   ]
  },
  {
   "cell_type": "code",
   "execution_count": 32,
   "metadata": {},
   "outputs": [
    {
     "data": {
      "text/plain": [
       "6-element Vector{Union{Nothing, Float64}}:\n",
       "       nothing\n",
       "     -0.00019907032396560264\n",
       " -19374.92189988039\n",
       "      5.984904559933875e-5\n",
       "      1.153376828529166e-5\n",
       "     -2.0198126408504992e-6"
      ]
     },
     "metadata": {},
     "output_type": "display_data"
    }
   ],
   "source": [
    "g[1]"
   ]
  },
  {
   "cell_type": "code",
   "execution_count": 23,
   "metadata": {},
   "outputs": [
    {
     "data": {
      "text/plain": [
       "(34113.7600622731, 3.6950451345479705e-5, 0.024068284363809818)"
      ]
     },
     "metadata": {},
     "output_type": "display_data"
    }
   ],
   "source": [
    "model = SAFTVRMie([\"methane\"])\n",
    "saturation_pressure(model, 100.0)"
   ]
  },
  {
   "cell_type": "code",
   "execution_count": 24,
   "metadata": {},
   "outputs": [
    {
     "ename": "MethodError",
     "evalue": "MethodError: no method matching a_res(::SAFTVRMieNN, ::Float64, ::Float64)\nClosest candidates are:\n  a_res(::SAFTVRMieNN, ::Any, ::Any, !Matched::Any) at ~/SAFT_ML/saftvrmienn.jl:161\n  a_res(!Matched::Clapeyron.GEPCSAFTModel, ::Any, ::Any, !Matched::Any) at ~/.julia/dev/Clapeyron/src/models/SAFT/PCSAFT/variants/GEPCSAFT.jl:85\n  a_res(!Matched::Clapeyron.CKSAFTModel, ::Any, ::Any, !Matched::Any) at ~/.julia/dev/Clapeyron/src/models/SAFT/CKSAFT/CKSAFT.jl:71\n  ...",
     "output_type": "error",
     "traceback": [
      "MethodError: no method matching a_res(::SAFTVRMieNN, ::Float64, ::Float64)\n",
      "Closest candidates are:\n",
      "  a_res(::SAFTVRMieNN, ::Any, ::Any, !Matched::Any) at ~/SAFT_ML/saftvrmienn.jl:161\n",
      "  a_res(!Matched::Clapeyron.GEPCSAFTModel, ::Any, ::Any, !Matched::Any) at ~/.julia/dev/Clapeyron/src/models/SAFT/PCSAFT/variants/GEPCSAFT.jl:85\n",
      "  a_res(!Matched::Clapeyron.CKSAFTModel, ::Any, ::Any, !Matched::Any) at ~/.julia/dev/Clapeyron/src/models/SAFT/CKSAFT/CKSAFT.jl:71\n",
      "  ...\n",
      "\n",
      "Stacktrace:\n",
      "  [1] conditions_sat_p(X::Vector{ForwardDiff.Dual{ForwardDiff.Tag{AbstractDifferentiation.AbstractDifferentiationForwardDiffExt.var\"#2#8\"{Vector{Float64}, ImplicitDifferentiation.var\"#7#9\"{Base.Pairs{Symbol, Union{}, Tuple{}, NamedTuple{(), Tuple{}}}, Vector{Float64}, Tuple{}, typeof(conditions_sat_p)}, Tuple{Vector{Float64}}}, Int64}, Float64, 1}}, y::Vector{Float64})\n",
      "    @ Main ~/SAFT_ML/6_sat_solver_NN.ipynb:51\n",
      "  [2] (::ImplicitDifferentiation.var\"#7#9\"{Base.Pairs{Symbol, Union{}, Tuple{}, NamedTuple{(), Tuple{}}}, Vector{Float64}, Tuple{}, typeof(conditions_sat_p)})(_x::Vector{ForwardDiff.Dual{ForwardDiff.Tag{AbstractDifferentiation.AbstractDifferentiationForwardDiffExt.var\"#2#8\"{Vector{Float64}, ImplicitDifferentiation.var\"#7#9\"{Base.Pairs{Symbol, Union{}, Tuple{}, NamedTuple{(), Tuple{}}}, Vector{Float64}, Tuple{}, typeof(conditions_sat_p)}, Tuple{Vector{Float64}}}, Int64}, Float64, 1}})\n",
      "    @ ImplicitDifferentiation ~/.julia/packages/ImplicitDifferentiation/hpC2Y/src/operators.jl:13\n",
      "  [3] (::AbstractDifferentiation.AbstractDifferentiationForwardDiffExt.var\"#2#8\"{Vector{Float64}, ImplicitDifferentiation.var\"#7#9\"{Base.Pairs{Symbol, Union{}, Tuple{}, NamedTuple{(), Tuple{}}}, Vector{Float64}, Tuple{}, typeof(conditions_sat_p)}, Tuple{Vector{Float64}}})(h::ForwardDiff.Dual{ForwardDiff.Tag{AbstractDifferentiation.AbstractDifferentiationForwardDiffExt.var\"#2#8\"{Vector{Float64}, ImplicitDifferentiation.var\"#7#9\"{Base.Pairs{Symbol, Union{}, Tuple{}, NamedTuple{(), Tuple{}}}, Vector{Float64}, Tuple{}, typeof(conditions_sat_p)}, Tuple{Vector{Float64}}}, Int64}, Int64, 1})\n",
      "    @ AbstractDifferentiation.AbstractDifferentiationForwardDiffExt ~/.julia/packages/AbstractDifferentiation/1Cavg/ext/AbstractDifferentiationForwardDiffExt.jl:32\n",
      "  [4] derivative\n",
      "    @ ~/.julia/packages/ForwardDiff/PcZ48/src/derivative.jl:14 [inlined]\n",
      "  [5] (::AbstractDifferentiation.AbstractDifferentiationForwardDiffExt.var\"#pushforward#7\"{ImplicitDifferentiation.var\"#7#9\"{Base.Pairs{Symbol, Union{}, Tuple{}, NamedTuple{(), Tuple{}}}, Vector{Float64}, Tuple{}, typeof(conditions_sat_p)}, Tuple{Vector{Float64}}})(vs::Vector{Float64})\n",
      "    @ AbstractDifferentiation.AbstractDifferentiationForwardDiffExt ~/.julia/packages/AbstractDifferentiation/1Cavg/ext/AbstractDifferentiationForwardDiffExt.jl:32\n",
      "  [6] (::ComposedFunction{typeof(only), AbstractDifferentiation.AbstractDifferentiationForwardDiffExt.var\"#pushforward#7\"{ImplicitDifferentiation.var\"#7#9\"{Base.Pairs{Symbol, Union{}, Tuple{}, NamedTuple{(), Tuple{}}}, Vector{Float64}, Tuple{}, typeof(conditions_sat_p)}, Tuple{Vector{Float64}}}})(x::Vector{Float64}; kw::Base.Pairs{Symbol, Union{}, Tuple{}, NamedTuple{(), Tuple{}}})\n",
      "    @ Base ./operators.jl:1035\n",
      "  [7] (::ComposedFunction{typeof(only), AbstractDifferentiation.AbstractDifferentiationForwardDiffExt.var\"#pushforward#7\"{ImplicitDifferentiation.var\"#7#9\"{Base.Pairs{Symbol, Union{}, Tuple{}, NamedTuple{(), Tuple{}}}, Vector{Float64}, Tuple{}, typeof(conditions_sat_p)}, Tuple{Vector{Float64}}}})(x::Vector{Float64})\n",
      "    @ Base ./operators.jl:1033\n",
      "  [8] (::ImplicitDifferentiation.PushforwardProd!{ComposedFunction{typeof(only), AbstractDifferentiation.AbstractDifferentiationForwardDiffExt.var\"#pushforward#7\"{ImplicitDifferentiation.var\"#7#9\"{Base.Pairs{Symbol, Union{}, Tuple{}, NamedTuple{(), Tuple{}}}, Vector{Float64}, Tuple{}, typeof(conditions_sat_p)}, Tuple{Vector{Float64}}}}, 1})(dc_vec::Vector{Float64}, dy_vec::Vector{Float64})\n",
      "    @ ImplicitDifferentiation ~/.julia/packages/ImplicitDifferentiation/hpC2Y/src/operators.jl:39\n",
      "  [9] prod3!(res::Vector{Float64}, prod!::ImplicitDifferentiation.PushforwardProd!{ComposedFunction{typeof(only), AbstractDifferentiation.AbstractDifferentiationForwardDiffExt.var\"#pushforward#7\"{ImplicitDifferentiation.var\"#7#9\"{Base.Pairs{Symbol, Union{}, Tuple{}, NamedTuple{(), Tuple{}}}, Vector{Float64}, Tuple{}, typeof(conditions_sat_p)}, Tuple{Vector{Float64}}}}, 1}, v::Vector{Float64}, α::Float64, β::Float64, Mv5::Vector{Float64})\n",
      "    @ LinearOperators ~/.julia/packages/LinearOperators/cAsHF/src/operations.jl:12\n",
      " [10] mul!(res::Vector{Float64}, op::LinearOperators.LinearOperator{Float64, Int64, ImplicitDifferentiation.PushforwardProd!{ComposedFunction{typeof(only), AbstractDifferentiation.AbstractDifferentiationForwardDiffExt.var\"#pushforward#7\"{ImplicitDifferentiation.var\"#7#9\"{Base.Pairs{Symbol, Union{}, Tuple{}, NamedTuple{(), Tuple{}}}, Vector{Float64}, Tuple{}, typeof(conditions_sat_p)}, Tuple{Vector{Float64}}}}, 1}, Nothing, Nothing, Vector{Float64}}, v::Vector{Float64}, α::Float64, β::Float64)\n",
      "    @ LinearOperators ~/.julia/packages/LinearOperators/cAsHF/src/operations.jl:31\n",
      " [11] mul!(res::Vector{Float64}, op::LinearOperators.LinearOperator{Float64, Int64, ImplicitDifferentiation.PushforwardProd!{ComposedFunction{typeof(only), AbstractDifferentiation.AbstractDifferentiationForwardDiffExt.var\"#pushforward#7\"{ImplicitDifferentiation.var\"#7#9\"{Base.Pairs{Symbol, Union{}, Tuple{}, NamedTuple{(), Tuple{}}}, Vector{Float64}, Tuple{}, typeof(conditions_sat_p)}, Tuple{Vector{Float64}}}}, 1}, Nothing, Nothing, Vector{Float64}}, v::Vector{Float64})\n",
      "    @ LinearOperators ~/.julia/packages/LinearOperators/cAsHF/src/operations.jl:36\n",
      " [12] (::ImplicitDifferentiation.ImplicitDifferentiationForwardDiffExt.var\"#2#5\"{ImplicitFunction{typeof(forward_sat_p), typeof(conditions_sat_p), IterativeLinearSolver, Nothing}, Vector{ForwardDiff.Dual{ForwardDiff.Tag{ImplicitFunction{typeof(forward_sat_p), typeof(conditions_sat_p), IterativeLinearSolver, Nothing}, Float64}, Float64, 6}}, LinearOperators.LinearOperator{Float64, Int64, ImplicitDifferentiation.PushforwardProd!{ComposedFunction{typeof(only), AbstractDifferentiation.AbstractDifferentiationForwardDiffExt.var\"#pushforward#7\"{ImplicitDifferentiation.var\"#6#8\"{Base.Pairs{Symbol, Union{}, Tuple{}, NamedTuple{(), Tuple{}}}, Vector{Float64}, Tuple{}, typeof(conditions_sat_p)}, Tuple{Vector{Float64}}}}, 1}, Nothing, Nothing, Vector{Float64}}, LinearOperators.LinearOperator{Float64, Int64, ImplicitDifferentiation.PushforwardProd!{ComposedFunction{typeof(only), AbstractDifferentiation.AbstractDifferentiationForwardDiffExt.var\"#pushforward#7\"{ImplicitDifferentiation.var\"#7#9\"{Base.Pairs{Symbol, Union{}, Tuple{}, NamedTuple{(), Tuple{}}}, Vector{Float64}, Tuple{}, typeof(conditions_sat_p)}, Tuple{Vector{Float64}}}}, 1}, Nothing, Nothing, Vector{Float64}}, Vector{Float64}, Vector{Float64}})(k::Int64)\n",
      "    @ ImplicitDifferentiation.ImplicitDifferentiationForwardDiffExt ~/.julia/packages/ImplicitDifferentiation/hpC2Y/ext/ImplicitDifferentiationForwardDiffExt.jl:45\n",
      " [13] macro expansion\n",
      "    @ ./ntuple.jl:74 [inlined]\n",
      " [14] ntuple(f::ImplicitDifferentiation.ImplicitDifferentiationForwardDiffExt.var\"#2#5\"{ImplicitFunction{typeof(forward_sat_p), typeof(conditions_sat_p), IterativeLinearSolver, Nothing}, Vector{ForwardDiff.Dual{ForwardDiff.Tag{ImplicitFunction{typeof(forward_sat_p), typeof(conditions_sat_p), IterativeLinearSolver, Nothing}, Float64}, Float64, 6}}, LinearOperators.LinearOperator{Float64, Int64, ImplicitDifferentiation.PushforwardProd!{ComposedFunction{typeof(only), AbstractDifferentiation.AbstractDifferentiationForwardDiffExt.var\"#pushforward#7\"{ImplicitDifferentiation.var\"#6#8\"{Base.Pairs{Symbol, Union{}, Tuple{}, NamedTuple{(), Tuple{}}}, Vector{Float64}, Tuple{}, typeof(conditions_sat_p)}, Tuple{Vector{Float64}}}}, 1}, Nothing, Nothing, Vector{Float64}}, LinearOperators.LinearOperator{Float64, Int64, ImplicitDifferentiation.PushforwardProd!{ComposedFunction{typeof(only), AbstractDifferentiation.AbstractDifferentiationForwardDiffExt.var\"#pushforward#7\"{ImplicitDifferentiation.var\"#7#9\"{Base.Pairs{Symbol, Union{}, Tuple{}, NamedTuple{(), Tuple{}}}, Vector{Float64}, Tuple{}, typeof(conditions_sat_p)}, Tuple{Vector{Float64}}}}, 1}, Nothing, Nothing, Vector{Float64}}, Vector{Float64}, Vector{Float64}}, #unused#::Val{6})\n",
      "    @ Base ./ntuple.jl:69\n",
      " [15] (::ImplicitFunction{typeof(forward_sat_p), typeof(conditions_sat_p), IterativeLinearSolver, Nothing})(::Vector{ForwardDiff.Dual{ForwardDiff.Tag{ImplicitFunction{typeof(forward_sat_p), typeof(conditions_sat_p), IterativeLinearSolver, Nothing}, Float64}, Float64, 6}}; kwargs::Base.Pairs{Symbol, Union{}, Tuple{}, NamedTuple{(), Tuple{}}})\n",
      "    @ ImplicitDifferentiation.ImplicitDifferentiationForwardDiffExt ~/.julia/packages/ImplicitDifferentiation/hpC2Y/ext/ImplicitDifferentiationForwardDiffExt.jl:41\n",
      " [16] ImplicitFunction\n",
      "    @ ~/.julia/packages/ImplicitDifferentiation/hpC2Y/ext/ImplicitDifferentiationForwardDiffExt.jl:27 [inlined]\n",
      " [17] vector_mode_dual_eval!\n",
      "    @ ~/.julia/packages/ForwardDiff/PcZ48/src/apiutils.jl:24 [inlined]\n",
      " [18] vector_mode_jacobian(f::ImplicitFunction{typeof(forward_sat_p), typeof(conditions_sat_p), IterativeLinearSolver, Nothing}, x::Vector{Float64}, cfg::ForwardDiff.JacobianConfig{ForwardDiff.Tag{ImplicitFunction{typeof(forward_sat_p), typeof(conditions_sat_p), IterativeLinearSolver, Nothing}, Float64}, Float64, 6, Vector{ForwardDiff.Dual{ForwardDiff.Tag{ImplicitFunction{typeof(forward_sat_p), typeof(conditions_sat_p), IterativeLinearSolver, Nothing}, Float64}, Float64, 6}}})\n",
      "    @ ForwardDiff ~/.julia/packages/ForwardDiff/PcZ48/src/jacobian.jl:125\n",
      " [19] jacobian\n",
      "    @ ~/.julia/packages/ForwardDiff/PcZ48/src/jacobian.jl:21 [inlined]\n",
      " [20] jacobian(f::ImplicitFunction{typeof(forward_sat_p), typeof(conditions_sat_p), IterativeLinearSolver, Nothing}, x::Vector{Float64}, cfg::ForwardDiff.JacobianConfig{ForwardDiff.Tag{ImplicitFunction{typeof(forward_sat_p), typeof(conditions_sat_p), IterativeLinearSolver, Nothing}, Float64}, Float64, 6, Vector{ForwardDiff.Dual{ForwardDiff.Tag{ImplicitFunction{typeof(forward_sat_p), typeof(conditions_sat_p), IterativeLinearSolver, Nothing}, Float64}, Float64, 6}}}) (repeats 2 times)\n",
      "    @ ForwardDiff ~/.julia/packages/ForwardDiff/PcZ48/src/jacobian.jl:19\n",
      " [21] top-level scope\n",
      "    @ ~/SAFT_ML/6_sat_solver_NN.ipynb:2"
     ]
    }
   ],
   "source": [
    "# Zygote.jacobian(impl_saturation_pressure, [16.04, 1.0, 3.737e-10, 6.0, 12.504, 152.58])\n",
    "ForwardDiff.jacobian(impl_saturation_pressure, [16.04, 1.0, 3.737e-10, 6.0, 12.504, 152.58])\n",
    "#! This doesn't seem to have worked... :("
   ]
  },
  {
   "cell_type": "code",
   "execution_count": 25,
   "metadata": {},
   "outputs": [],
   "source": [
    "#* Instead, follow the example in Language of molecules paper, defining as the last newton step\n"
   ]
  }
 ],
 "metadata": {
  "kernelspec": {
   "display_name": "Julia 1.8.2",
   "language": "julia",
   "name": "julia-1.8"
  },
  "language_info": {
   "file_extension": ".jl",
   "mimetype": "application/julia",
   "name": "julia",
   "version": "1.8.2"
  }
 },
 "nbformat": 4,
 "nbformat_minor": 2
}
