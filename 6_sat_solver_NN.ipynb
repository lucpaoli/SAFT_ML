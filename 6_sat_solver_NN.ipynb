{
 "cells": [
  {
   "cell_type": "code",
   "execution_count": 1,
   "metadata": {},
   "outputs": [],
   "source": [
    "# Set up a chain rule to calculate the loss function @ saturation w/out propagating derivatives through saturation solver\n",
    "# This was done in the Language of Molecules paper.\n",
    "\n",
    "# 1_differentiable_saft works when no solvers are involved, i.e. for properties specified with a given (V, T)\n",
    "# if, instead, we want to solve for saturation conditions, then I have the old problem of "
   ]
  },
  {
   "cell_type": "code",
   "execution_count": null,
   "metadata": {},
   "outputs": [],
   "source": [
    "import Pkg; Pkg.activate(\".\")\n",
    "\n",
    "using Revise\n",
    "using Clapeyron\n",
    "includet(\"./saftvrmienn.jl\")\n",
    "# These are functions we're going to overload for SAFTVRMieNN\n",
    "import Clapeyron: a_res, saturation_pressure\n",
    "\n",
    "using Flux\n",
    "using Plots\n",
    "using ForwardDiff, DiffResults\n",
    "\n",
    "using Zygote, ChainRulesCore"
   ]
  },
  {
   "cell_type": "code",
   "execution_count": null,
   "metadata": {},
   "outputs": [],
   "source": [
    "function differentiable_saft(X)\n",
    "    model = SAFTVRMieNN(\n",
    "        params = SAFTVRMieNNParams(\n",
    "            Mw=[16.04],\n",
    "            segment=[1.0],\n",
    "            sigma=[X[1]],\n",
    "            lambda_a=[X[2]],\n",
    "            lambda_r=[X[3]],\n",
    "            epsilon=[X[4]],\n",
    "            epsilon_assoc=Float64[],\n",
    "            bondvol=Float64[],\n",
    "        )\n",
    "    )\n",
    "    # return a_res(model, 1e-4, 300.0, [1.0])\n",
    "    # return pressure(model, 1e-4, 300.0, [1.0])\n",
    "    p, Vₗ, Vᵥ = saturation_pressure(model, 300.0)\n",
    "    return p\n",
    "end\n",
    "\n",
    "function Clapeyron.saturation_pressure(model::SAFTVRMieNN, T; kwargs...)\n",
    "    f = ImplicitFunction(forward, conditions)\n",
    "    # Construct SAFTVRMie model from SAFTVRMieNN parameters\n",
    "    model2 = SAFTVRMie(\n",
    "        \n",
    "    )\n",
    "end\n",
    "\n",
    "\n",
    "\n",
    "differentiable_saft([3.737e-10, 6.0, 12.504, 152.58])"
   ]
  }
 ],
 "metadata": {
  "kernelspec": {
   "display_name": "Julia 1.8.2",
   "language": "julia",
   "name": "julia-1.8"
  },
  "language_info": {
   "file_extension": ".jl",
   "mimetype": "application/julia",
   "name": "julia",
   "version": "1.8.2"
  }
 },
 "nbformat": 4,
 "nbformat_minor": 2
}
