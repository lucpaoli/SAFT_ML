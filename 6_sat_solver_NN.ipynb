{
 "cells": [
  {
   "cell_type": "code",
   "execution_count": 18,
   "metadata": {},
   "outputs": [],
   "source": [
    "# Set up a chain rule to calculate the loss function @ saturation w/out propagating derivatives through saturation solver\n",
    "# This was done in the Language of Molecules paper.\n",
    "\n",
    "# 1_differentiable_saft works when no solvers are involved, i.e. for properties specified with a given (V, T)\n",
    "# if, instead, we want to solve for saturation conditions, then I have the old problem of "
   ]
  },
  {
   "cell_type": "code",
   "execution_count": 19,
   "metadata": {},
   "outputs": [
    {
     "name": "stderr",
     "output_type": "stream",
     "text": [
      "\u001b[32m\u001b[1m  Activating\u001b[22m\u001b[39m project at `~/SAFT_ML`\n"
     ]
    }
   ],
   "source": [
    "import Pkg; Pkg.activate(\".\")\n",
    "\n",
    "using Revise\n",
    "using Clapeyron\n",
    "includet(\"./saftvrmienn.jl\")\n",
    "# These are functions we're going to overload for SAFTVRMieNN\n",
    "import Clapeyron: a_res, saturation_pressure\n",
    "\n",
    "using Flux\n",
    "using Plots\n",
    "using ForwardDiff, DiffResults\n",
    "\n",
    "using Zygote, ChainRulesCore\n",
    "using ImplicitDifferentiation"
   ]
  },
  {
   "cell_type": "code",
   "execution_count": 124,
   "metadata": {},
   "outputs": [
    {
     "data": {
      "text/plain": [
       "ImplicitFunction(forward_sat_p, conditions_sat_p, DirectLinearSolver(true), nothing)"
      ]
     },
     "metadata": {},
     "output_type": "display_data"
    }
   ],
   "source": [
    "function make_NN_model(Mw, m, σ, λ_a, λ_r, ϵ)\n",
    "    model = SAFTVRMieNN(\n",
    "        params = SAFTVRMieNNParams(\n",
    "            Mw=[Mw],\n",
    "            segment=[m],\n",
    "            sigma=[σ],\n",
    "            lambda_a=[λ_a],\n",
    "            lambda_r=[λ_r],\n",
    "            epsilon=[ϵ],\n",
    "            epsilon_assoc=Float32[],\n",
    "            bondvol=Float32[],\n",
    "        )\n",
    "    )\n",
    "    return model\n",
    "end\n",
    "\n",
    "# Hack to get around Clapeyron model construction API\n",
    "function make_model(Mw, m, σ, λ_a, λ_r, ϵ)\n",
    "    model = SAFTVRMie([\"methane\"])\n",
    "    \n",
    "    model.params.Mw[1] = Mw\n",
    "    model.params.segment[1] = m\n",
    "    model.params.sigma[1] = σ\n",
    "    model.params.lambda_a[1] = λ_a\n",
    "    model.params.lambda_r[1] = λ_r\n",
    "    model.params.epsilon[1] = ϵ\n",
    "\n",
    "    return model\n",
    "end\n",
    "\n",
    "function forward_sat_p(X)\n",
    "    T = 100.0\n",
    "    model = make_model(16.04, X...)\n",
    "\n",
    "    p, Vₗ, Vᵥ = saturation_pressure(model, T)\n",
    "    \n",
    "    return [p, Vₗ, Vᵥ]\n",
    "end\n",
    "\n",
    "# Saturation conditions:\n",
    "#* At conditions specified by y, these two conditions are satisfied\n",
    "#? But how do I turn this into an optimality condition with the same\n",
    "#? dimension as X\n",
    "function conditions_sat_p(X, y)\n",
    "    T = 100.0\n",
    "    # Mw, m, σ, λ_a, λ_r, ϵ = X\n",
    "    model = make_NN_model(16.04, X...)\n",
    "    \n",
    "    p, Vₗ, Vᵥ = y\n",
    "    \n",
    "    # @show p_sat = -(eos(model, Vᵥ, T) - eos(model, Vₗ, T))/(Vᵥ - Vₗ)\n",
    "    @show p_sat = -(eos(model, Vᵥ, T) - eos(model, Vₗ, T))/(Vᵥ - Vₗ) - 17805.87602904105;\n",
    "    \n",
    "    obj = p - p_sat\n",
    "    return obj\n",
    "end\n",
    "\n",
    "impl_saturation_pressure = ImplicitFunction(forward_sat_p, conditions_sat_p, linear_solver=DirectLinearSolver())"
   ]
  },
  {
   "cell_type": "code",
   "execution_count": 125,
   "metadata": {},
   "outputs": [
    {
     "name": "stdout",
     "output_type": "stream",
     "text": [
      "(p, Vₗ, Vᵥ) = saturation_pressure(m, T) = (34113.7600622731, 3.6950451345479705e-5, 0.024068284363809818)\n",
      "p_sat = -((eos(m2, Vᵥ, T) - eos(m2, Vₗ, T))) / (Vᵥ - Vₗ) - 17805.87602904105 = 34113.7600622731\n",
      "p - p_sat = 0.0\n"
     ]
    },
    {
     "data": {
      "text/plain": [
       "0.0"
      ]
     },
     "metadata": {},
     "output_type": "display_data"
    }
   ],
   "source": [
    "m = make_model(16.04, X...)\n",
    "m2 = make_NN_model(16.04, X...)\n",
    "T = 100.0\n",
    "@show p, Vₗ, Vᵥ = saturation_pressure(m, T);\n",
    "@show p_sat = -(eos(m2, Vᵥ, T) - eos(m2, Vₗ, T))/(Vᵥ - Vₗ) - 17805.87602904105;\n",
    "@show p - p_sat"
   ]
  },
  {
   "cell_type": "code",
   "execution_count": 134,
   "metadata": {},
   "outputs": [
    {
     "name": "stdout",
     "output_type": "stream",
     "text": [
      "a_res(m, Vᵥ, T, [1.0]) = -0.012500723244825514\n"
     ]
    },
    {
     "ename": "ErrorException",
     "evalue": "type Array has no field values",
     "output_type": "error",
     "traceback": [
      "type Array has no field values\n",
      "\n",
      "Stacktrace:\n",
      " [1] getproperty\n",
      "   @ ./Base.jl:38 [inlined]\n",
      " [2] assoc_pair_length\n",
      "   @ ~/.julia/dev/Clapeyron/src/models/SAFT/association.jl:31 [inlined]\n",
      " [3] a_assoc(model::SAFTVRMieNN, V::Float64, T::Float64, z::Vector{Float64}, data::Tuple{Vector{Float64}, Float64, NTuple{4, Float64}, Float64, Float64, Float64, Float64})\n",
      "   @ Clapeyron ~/.julia/dev/Clapeyron/src/models/SAFT/association.jl:3\n",
      " [4] a_res(model::SAFTVRMieNN, V::Float64, T::Float64, z::Vector{Float64})\n",
      "   @ Main ~/SAFT_ML/saftvrmienn.jl:163\n",
      " [5] top-level scope\n",
      "   @ show.jl:1047"
     ]
    }
   ],
   "source": [
    "@show a_res(m, Vᵥ, T, [1.0]);\n",
    "@show a_res(m2, Vᵥ, T, [1.0]);\n",
    "#! These don't match! This is really bad. There's a mistake somewhere.\n",
    "#TODO: get dirty dev Clapeyron + Debugger"
   ]
  },
  {
   "cell_type": "code",
   "execution_count": 132,
   "metadata": {},
   "outputs": [
    {
     "name": "stdout",
     "output_type": "stream",
     "text": [
      "y = impl_saturation_pressure(X) = [34113.7600622731, 3.6950451345479705e-5, 0.024068284363809818]\n",
      "p_sat = -((eos(model, Vᵥ, T) - eos(model, Vₗ, T))) / (Vᵥ - Vₗ) - 17805.87602904105 = 34113.7600622731\n"
     ]
    },
    {
     "data": {
      "text/plain": [
       "0.0"
      ]
     },
     "metadata": {},
     "output_type": "display_data"
    }
   ],
   "source": [
    "# X = [16.04, 1.0, 3.737e-10, 6.0, 12.504, 152.58]\n",
    "X = [1.0, 3.737e-10, 6.0, 12.504, 152.58]\n",
    "@show y = impl_saturation_pressure(X)\n",
    "conditions_sat_p(X, y)"
   ]
  },
  {
   "cell_type": "code",
   "execution_count": 128,
   "metadata": {},
   "outputs": [
    {
     "name": "stdout",
     "output_type": "stream",
     "text": [
      "p_sat = -((eos(model, Vᵥ, T) - eos(model, Vₗ, T))) / (Vᵥ - Vₗ) - 17805.87602904105 = 34113.7600622731\n"
     ]
    },
    {
     "data": {
      "text/plain": [
       "([186112.62159890146, 1.811378731007528e13, -55953.40658916977, -10783.022852069103, 1888.3408548239495],)"
      ]
     },
     "metadata": {},
     "output_type": "display_data"
    }
   ],
   "source": [
    "g = Zygote.gradient(X -> conditions_sat_p(X, y), X)"
   ]
  },
  {
   "cell_type": "code",
   "execution_count": 129,
   "metadata": {},
   "outputs": [
    {
     "data": {
      "text/plain": [
       "5-element Vector{Float64}:\n",
       " 186112.62159890146\n",
       "      1.811378731007528e13\n",
       " -55953.40658916977\n",
       " -10783.022852069103\n",
       "   1888.3408548239495"
      ]
     },
     "metadata": {},
     "output_type": "display_data"
    }
   ],
   "source": [
    "g[1]"
   ]
  },
  {
   "cell_type": "code",
   "execution_count": 47,
   "metadata": {},
   "outputs": [
    {
     "data": {
      "text/plain": [
       "(34113.7600622731, 3.6950451345479705e-5, 0.024068284363809818)"
      ]
     },
     "metadata": {},
     "output_type": "display_data"
    }
   ],
   "source": [
    "model = SAFTVRMie([\"methane\"])\n",
    "saturation_pressure(model, 100.0)"
   ]
  },
  {
   "cell_type": "code",
   "execution_count": 131,
   "metadata": {},
   "outputs": [
    {
     "name": "stdout",
     "output_type": "stream",
     "text": [
      "p_sat = -((eos(model, Vᵥ, T) - eos(model, Vₗ, T))) / (Vᵥ - Vₗ) - 17805.87602904105 = 34113.7600622731\n",
      "p_sat = -((eos(model, Vᵥ, T) - eos(model, Vₗ, T))) / (Vᵥ - Vₗ) - 17805.87602904105 = 34113.7600622731\n"
     ]
    },
    {
     "ename": "MethodError",
     "evalue": "MethodError: no method matching (::ProjectTo{Float64, NamedTuple{(), Tuple{}}})(::Vector{Float64})\nClosest candidates are:\n  (::ProjectTo)(!Matched::InplaceableThunk) at ~/.julia/packages/ChainRulesCore/0t04l/src/projection.jl:125\n  (::ProjectTo{T})(!Matched::AbstractFloat) where T<:AbstractFloat at ~/.julia/packages/ChainRulesCore/0t04l/src/projection.jl:171\n  (::ProjectTo{<:Real})(!Matched::Complex) at ~/.julia/packages/ChainRulesCore/0t04l/src/projection.jl:187\n  ...",
     "output_type": "error",
     "traceback": [
      "MethodError: no method matching (::ProjectTo{Float64, NamedTuple{(), Tuple{}}})(::Vector{Float64})\n",
      "Closest candidates are:\n",
      "  (::ProjectTo)(!Matched::InplaceableThunk) at ~/.julia/packages/ChainRulesCore/0t04l/src/projection.jl:125\n",
      "  (::ProjectTo{T})(!Matched::AbstractFloat) where T<:AbstractFloat at ~/.julia/packages/ChainRulesCore/0t04l/src/projection.jl:171\n",
      "  (::ProjectTo{<:Real})(!Matched::Complex) at ~/.julia/packages/ChainRulesCore/0t04l/src/projection.jl:187\n",
      "  ...\n",
      "\n",
      "Stacktrace:\n",
      "  [1] -_pullback\n",
      "    @ ~/.julia/packages/ChainRules/RGbGv/src/rulesets/Base/fastmath_able.jl:168 [inlined]\n",
      "  [2] ZBack\n",
      "    @ ~/.julia/packages/Zygote/4SSHS/src/compiler/chainrules.jl:211 [inlined]\n",
      "  [3] Pullback\n",
      "    @ ~/SAFT_ML/6_sat_solver_NN.ipynb:54 [inlined]\n",
      "  [4] (::Zygote.Pullback{Tuple{typeof(conditions_sat_p), Vector{Float64}, Vector{Float64}}, Tuple{Zygote.Pullback{Tuple{typeof(eos), SAFTVRMieNN, Float64, Float64}, Tuple{Zygote.var\"#2622#back#551\"{Zygote.var\"#547#550\"}, Zygote.Pullback{Tuple{typeof(eos), SAFTVRMieNN, Float64, Float64, StaticArraysCore.SVector{1, Float64}}, Tuple{Zygote.Pullback{Tuple{typeof(Clapeyron.a_eos), SAFTVRMieNN, Float64, Float64, StaticArraysCore.SVector{1, Float64}}, Any}, Zygote.Pullback{Tuple{typeof(Rgas), SAFTVRMieNN}, Tuple{Zygote.var\"#1972#back#194\"{Zygote.var\"#190#193\"{Zygote.Context{false}, GlobalRef, Float64}}}}, Zygote.var\"#3005#back#782\"{Zygote.var\"#776#780\"{StaticArraysCore.SVector{1, Float64}}}, Zygote.ZBack{ChainRules.var\"#times_pullback4#1352\"{ChainRules.var\"#times_pullback2#1350\"{Float64, Float64}, ChainRules.var\"#times_pullback3#1351\"{Float64, Float64, Float64}}}}}}}, Zygote.ZBack{ChainRules.var\"#-_pullback#1339\"{Int64, Bool, ProjectTo{Float64, NamedTuple{(), Tuple{}}}, ProjectTo{Float64, NamedTuple{(), Tuple{}}}}}, Zygote.Pullback{Tuple{typeof(Zygote.literal_indexed_iterate), Vector{Float64}, Val{3}, Int64}, Tuple{Zygote.Pullback{Tuple{typeof(Base.indexed_iterate), Vector{Float64}, Int64, Int64}, Tuple{Zygote.var\"#1999#back#204\"{typeof(identity)}, Zygote.var\"#2589#back#533\"{Zygote.var\"#543#545\"{1, Float64, Vector{Float64}, Tuple{Int64}}}, Zygote.ZBack{Zygote.var\"#plus_pullback#345\"{Tuple{Int64, Int64}}}}}}}, Zygote.ZBack{ChainRules.var\"#-_pullback#1339\"{Int64, Bool, ProjectTo{Float64, NamedTuple{(), Tuple{}}}, ProjectTo{Float64, NamedTuple{(), Tuple{}}}}}, Zygote.ZBack{ChainRules.var\"#println_pullback#830\"{Tuple{String, String}}}, Zygote.ZBack{ChainRules.var\"#-_pullback#1339\"{Int64, Bool, ProjectTo{Float64, NamedTuple{(), Tuple{}}}, ProjectTo{Float64, NamedTuple{(), Tuple{}}}}}, Zygote.var\"#2015#back#213\"{Zygote.var\"#back#211\"{2, 2, Zygote.Context{false}, Int64}}, Zygote.Pullback{Tuple{typeof(Zygote.literal_indexed_iterate), Vector{Float64}, Val{1}}, Tuple{Zygote.Pullback{Tuple{typeof(Base.indexed_iterate), Vector{Float64}, Int64}, Tuple{Zygote.Pullback{Tuple{typeof(Base.indexed_iterate), Vector{Float64}, Int64, Int64}, Tuple{Zygote.var\"#1999#back#204\"{typeof(identity)}, Zygote.var\"#2589#back#533\"{Zygote.var\"#543#545\"{1, Float64, Vector{Float64}, Tuple{Int64}}}, Zygote.ZBack{Zygote.var\"#plus_pullback#345\"{Tuple{Int64, Int64}}}}}}}}}, Zygote.ZBack{ChainRules.var\"#repr_pullback#877\"}, Zygote.var\"#1999#back#204\"{typeof(identity)}, Zygote.var\"#2015#back#213\"{Zygote.var\"#back#211\"{2, 2, Zygote.Context{false}, Int64}}, Zygote.ZBack{ChainRules.var\"#-_pullback#1339\"{Int64, Bool, ProjectTo{Float64, NamedTuple{(), Tuple{}}}, ProjectTo{Float64, NamedTuple{(), Tuple{}}}}}, Zygote.var\"#2015#back#213\"{Zygote.var\"#back#211\"{2, 1, Zygote.Context{false}, Float64}}, Zygote.ZBack{ChainRules.var\"#-_pullback#1348\"{Int64, ProjectTo{Float64, NamedTuple{(), Tuple{}}}}}, Zygote.var\"#2015#back#213\"{Zygote.var\"#back#211\"{2, 1, Zygote.Context{false}, Float64}}, Zygote.Pullback{Tuple{typeof(eos), SAFTVRMieNN, Float64, Float64}, Tuple{Zygote.var\"#2622#back#551\"{Zygote.var\"#547#550\"}, Zygote.Pullback{Tuple{typeof(eos), SAFTVRMieNN, Float64, Float64, StaticArraysCore.SVector{1, Float64}}, Tuple{Zygote.Pullback{Tuple{typeof(Clapeyron.a_eos), SAFTVRMieNN, Float64, Float64, StaticArraysCore.SVector{1, Float64}}, Any}, Zygote.Pullback{Tuple{typeof(Rgas), SAFTVRMieNN}, Tuple{Zygote.var\"#1972#back#194\"{Zygote.var\"#190#193\"{Zygote.Context{false}, GlobalRef, Float64}}}}, Zygote.var\"#3005#back#782\"{Zygote.var\"#776#780\"{StaticArraysCore.SVector{1, Float64}}}, Zygote.ZBack{ChainRules.var\"#times_pullback4#1352\"{ChainRules.var\"#times_pullback2#1350\"{Float64, Float64}, ChainRules.var\"#times_pullback3#1351\"{Float64, Float64, Float64}}}}}}}, Zygote.ZBack{ChainRules.var\"#/_pullback#1340\"{Float64, Float64, ProjectTo{Float64, NamedTuple{(), Tuple{}}}, ProjectTo{Float64, NamedTuple{(), Tuple{}}}}}, Zygote.Pullback{Tuple{typeof(Zygote.literal_indexed_iterate), Vector{Float64}, Val{2}, Int64}, Tuple{Zygote.Pullback{Tuple{typeof(Base.indexed_iterate), Vector{Float64}, Int64, Int64}, Tuple{Zygote.var\"#1999#back#204\"{typeof(identity)}, Zygote.var\"#2589#back#533\"{Zygote.var\"#543#545\"{1, Float64, Vector{Float64}, Tuple{Int64}}}, Zygote.ZBack{Zygote.var\"#plus_pullback#345\"{Tuple{Int64, Int64}}}}}}}, Zygote.var\"#2015#back#213\"{Zygote.var\"#back#211\"{2, 1, Zygote.Context{false}, Float64}}, Zygote.var\"#2155#back#293\"{Zygote.var\"#291#292\"{Tuple{Tuple{Nothing}, Int64}, Zygote.Pullback{Tuple{typeof(make_NN_model), Float64, Float64, Float64, Float64, Float64, Float64}, Tuple{Zygote.var\"#1999#back#204\"{typeof(identity)}, Zygote.ZBack{ChainRules.var\"#vect_pullback#1373\"{1, Tuple{ProjectTo{Float64, NamedTuple{(), Tuple{}}}}}}, Zygote.ZBack{ChainRules.var\"#vect_pullback#1373\"{1, Tuple{ProjectTo{Float64, NamedTuple{(), Tuple{}}}}}}, Zygote.var\"#2622#back#551\"{Zygote.var\"#547#550\"}, Zygote.Pullback{Tuple{Core.var\"#Type##kw\", NamedTuple{(:Mw, :segment, :sigma, :lambda_a, :lambda_r, :epsilon, :epsilon_assoc, :bondvol), Tuple{Vector{Float64}, Vector{Float64}, Vector{Float64}, Vector{Float64}, Vector{Float64}, Vector{Float64}, Vector{Float32}, Vector{Float32}}}, Type{SAFTVRMieNNParams}}, Any}, Zygote.var\"#1999#back#204\"{typeof(identity)}, Zygote.var\"#2622#back#551\"{Zygote.var\"#547#550\"}, Zygote.ZBack{ChainRules.var\"#vect_pullback#1373\"{1, Tuple{ProjectTo{Float64, NamedTuple{(), Tuple{}}}}}}, Zygote.ZBack{ChainRules.var\"#vect_pullback#1373\"{1, Tuple{ProjectTo{Float64, NamedTuple{(), Tuple{}}}}}}, Zygote.Pullback{Tuple{Core.var\"#Type##kw\", NamedTuple{(:params,), Tuple{SAFTVRMieNNParams{Float64, Float64, Float64, Float64, Float64, Float64, Float32, Float32}}}, Type{SAFTVRMieNN}}, Any}, Zygote.ZBack{ChainRules.var\"#vect_pullback#1373\"{1, Tuple{ProjectTo{Float64, NamedTuple{(), Tuple{}}}}}}, Zygote.Pullback{Tuple{Type{NamedTuple{(:Mw, :segment, :sigma, :lambda_a, :lambda_r, :epsilon, :epsilon_assoc, :bondvol)}}, Tuple{Vector{Float64}, Vector{Float64}, Vector{Float64}, Vector{Float64}, Vector{Float64}, Vector{Float64}, Vector{Float32}, Vector{Float32}}}, Tuple{Zygote.Pullback{Tuple{Type{NamedTuple{(:Mw, :segment, :sigma, :lambda_a, :lambda_r, :epsilon, :epsilon_assoc, :bondvol), Tuple{Vector{Float64}, Vector{Float64}, Vector{Float64}, Vector{Float64}, Vector{Float64}, Vector{Float64}, Vector{Float32}, Vector{Float32}}}}, Tuple{Vector{Float64}, Vector{Float64}, Vector{Float64}, Vector{Float64}, Vector{Float64}, Vector{Float64}, Vector{Float32}, Vector{Float32}}}, Tuple{Zygote.var\"#2203#back#315\"{Zygote.Jnew{NamedTuple{(:Mw, :segment, :sigma, :lambda_a, :lambda_r, :epsilon, :epsilon_assoc, :bondvol), Tuple{Vector{Float64}, Vector{Float64}, Vector{Float64}, Vector{Float64}, Vector{Float64}, Vector{Float64}, Vector{Float32}, Vector{Float32}}}, Nothing, true}}}}}}, Zygote.Pullback{Tuple{Type{NamedTuple{(:params,)}}, Tuple{SAFTVRMieNNParams{Float64, Float64, Float64, Float64, Float64, Float64, Float32, Float32}}}, Tuple{Zygote.Pullback{Tuple{Type{NamedTuple{(:params,), Tuple{SAFTVRMieNNParams{Float64, Float64, Float64, Float64, Float64, Float64, Float32, Float32}}}}, Tuple{SAFTVRMieNNParams{Float64, Float64, Float64, Float64, Float64, Float64, Float32, Float32}}}, Tuple{Zygote.var\"#2203#back#315\"{Zygote.Jnew{NamedTuple{(:params,), Tuple{SAFTVRMieNNParams{Float64, Float64, Float64, Float64, Float64, Float64, Float32, Float32}}}, Nothing, true}}}}}}, Zygote.ZBack{ChainRules.var\"#vect_pullback#1373\"{1, Tuple{ProjectTo{Float64, NamedTuple{(), Tuple{}}}}}}}}}}}})(Δ::Vector{Float64})\n",
      "    @ Zygote ~/.julia/packages/Zygote/4SSHS/src/compiler/interface2.jl:0\n",
      "  [5] (::Zygote.var\"#291#292\"{Tuple{Tuple{Nothing, Nothing}, Tuple{}}, Zygote.Pullback{Tuple{typeof(conditions_sat_p), Vector{Float64}, Vector{Float64}}, Tuple{Zygote.Pullback{Tuple{typeof(eos), SAFTVRMieNN, Float64, Float64}, Tuple{Zygote.var\"#2622#back#551\"{Zygote.var\"#547#550\"}, Zygote.Pullback{Tuple{typeof(eos), SAFTVRMieNN, Float64, Float64, StaticArraysCore.SVector{1, Float64}}, Tuple{Zygote.Pullback{Tuple{typeof(Clapeyron.a_eos), SAFTVRMieNN, Float64, Float64, StaticArraysCore.SVector{1, Float64}}, Any}, Zygote.Pullback{Tuple{typeof(Rgas), SAFTVRMieNN}, Tuple{Zygote.var\"#1972#back#194\"{Zygote.var\"#190#193\"{Zygote.Context{false}, GlobalRef, Float64}}}}, Zygote.var\"#3005#back#782\"{Zygote.var\"#776#780\"{StaticArraysCore.SVector{1, Float64}}}, Zygote.ZBack{ChainRules.var\"#times_pullback4#1352\"{ChainRules.var\"#times_pullback2#1350\"{Float64, Float64}, ChainRules.var\"#times_pullback3#1351\"{Float64, Float64, Float64}}}}}}}, Zygote.ZBack{ChainRules.var\"#-_pullback#1339\"{Int64, Bool, ProjectTo{Float64, NamedTuple{(), Tuple{}}}, ProjectTo{Float64, NamedTuple{(), Tuple{}}}}}, Zygote.Pullback{Tuple{typeof(Zygote.literal_indexed_iterate), Vector{Float64}, Val{3}, Int64}, Tuple{Zygote.Pullback{Tuple{typeof(Base.indexed_iterate), Vector{Float64}, Int64, Int64}, Tuple{Zygote.var\"#1999#back#204\"{typeof(identity)}, Zygote.var\"#2589#back#533\"{Zygote.var\"#543#545\"{1, Float64, Vector{Float64}, Tuple{Int64}}}, Zygote.ZBack{Zygote.var\"#plus_pullback#345\"{Tuple{Int64, Int64}}}}}}}, Zygote.ZBack{ChainRules.var\"#-_pullback#1339\"{Int64, Bool, ProjectTo{Float64, NamedTuple{(), Tuple{}}}, ProjectTo{Float64, NamedTuple{(), Tuple{}}}}}, Zygote.ZBack{ChainRules.var\"#println_pullback#830\"{Tuple{String, String}}}, Zygote.ZBack{ChainRules.var\"#-_pullback#1339\"{Int64, Bool, ProjectTo{Float64, NamedTuple{(), Tuple{}}}, ProjectTo{Float64, NamedTuple{(), Tuple{}}}}}, Zygote.var\"#2015#back#213\"{Zygote.var\"#back#211\"{2, 2, Zygote.Context{false}, Int64}}, Zygote.Pullback{Tuple{typeof(Zygote.literal_indexed_iterate), Vector{Float64}, Val{1}}, Tuple{Zygote.Pullback{Tuple{typeof(Base.indexed_iterate), Vector{Float64}, Int64}, Tuple{Zygote.Pullback{Tuple{typeof(Base.indexed_iterate), Vector{Float64}, Int64, Int64}, Tuple{Zygote.var\"#1999#back#204\"{typeof(identity)}, Zygote.var\"#2589#back#533\"{Zygote.var\"#543#545\"{1, Float64, Vector{Float64}, Tuple{Int64}}}, Zygote.ZBack{Zygote.var\"#plus_pullback#345\"{Tuple{Int64, Int64}}}}}}}}}, Zygote.ZBack{ChainRules.var\"#repr_pullback#877\"}, Zygote.var\"#1999#back#204\"{typeof(identity)}, Zygote.var\"#2015#back#213\"{Zygote.var\"#back#211\"{2, 2, Zygote.Context{false}, Int64}}, Zygote.ZBack{ChainRules.var\"#-_pullback#1339\"{Int64, Bool, ProjectTo{Float64, NamedTuple{(), Tuple{}}}, ProjectTo{Float64, NamedTuple{(), Tuple{}}}}}, Zygote.var\"#2015#back#213\"{Zygote.var\"#back#211\"{2, 1, Zygote.Context{false}, Float64}}, Zygote.ZBack{ChainRules.var\"#-_pullback#1348\"{Int64, ProjectTo{Float64, NamedTuple{(), Tuple{}}}}}, Zygote.var\"#2015#back#213\"{Zygote.var\"#back#211\"{2, 1, Zygote.Context{false}, Float64}}, Zygote.Pullback{Tuple{typeof(eos), SAFTVRMieNN, Float64, Float64}, Tuple{Zygote.var\"#2622#back#551\"{Zygote.var\"#547#550\"}, Zygote.Pullback{Tuple{typeof(eos), SAFTVRMieNN, Float64, Float64, StaticArraysCore.SVector{1, Float64}}, Tuple{Zygote.Pullback{Tuple{typeof(Clapeyron.a_eos), SAFTVRMieNN, Float64, Float64, StaticArraysCore.SVector{1, Float64}}, Any}, Zygote.Pullback{Tuple{typeof(Rgas), SAFTVRMieNN}, Tuple{Zygote.var\"#1972#back#194\"{Zygote.var\"#190#193\"{Zygote.Context{false}, GlobalRef, Float64}}}}, Zygote.var\"#3005#back#782\"{Zygote.var\"#776#780\"{StaticArraysCore.SVector{1, Float64}}}, Zygote.ZBack{ChainRules.var\"#times_pullback4#1352\"{ChainRules.var\"#times_pullback2#1350\"{Float64, Float64}, ChainRules.var\"#times_pullback3#1351\"{Float64, Float64, Float64}}}}}}}, Zygote.ZBack{ChainRules.var\"#/_pullback#1340\"{Float64, Float64, ProjectTo{Float64, NamedTuple{(), Tuple{}}}, ProjectTo{Float64, NamedTuple{(), Tuple{}}}}}, Zygote.Pullback{Tuple{typeof(Zygote.literal_indexed_iterate), Vector{Float64}, Val{2}, Int64}, Tuple{Zygote.Pullback{Tuple{typeof(Base.indexed_iterate), Vector{Float64}, Int64, Int64}, Tuple{Zygote.var\"#1999#back#204\"{typeof(identity)}, Zygote.var\"#2589#back#533\"{Zygote.var\"#543#545\"{1, Float64, Vector{Float64}, Tuple{Int64}}}, Zygote.ZBack{Zygote.var\"#plus_pullback#345\"{Tuple{Int64, Int64}}}}}}}, Zygote.var\"#2015#back#213\"{Zygote.var\"#back#211\"{2, 1, Zygote.Context{false}, Float64}}, Zygote.var\"#2155#back#293\"{Zygote.var\"#291#292\"{Tuple{Tuple{Nothing}, Int64}, Zygote.Pullback{Tuple{typeof(make_NN_model), Float64, Float64, Float64, Float64, Float64, Float64}, Tuple{Zygote.var\"#1999#back#204\"{typeof(identity)}, Zygote.ZBack{ChainRules.var\"#vect_pullback#1373\"{1, Tuple{ProjectTo{Float64, NamedTuple{(), Tuple{}}}}}}, Zygote.ZBack{ChainRules.var\"#vect_pullback#1373\"{1, Tuple{ProjectTo{Float64, NamedTuple{(), Tuple{}}}}}}, Zygote.var\"#2622#back#551\"{Zygote.var\"#547#550\"}, Zygote.Pullback{Tuple{Core.var\"#Type##kw\", NamedTuple{(:Mw, :segment, :sigma, :lambda_a, :lambda_r, :epsilon, :epsilon_assoc, :bondvol), Tuple{Vector{Float64}, Vector{Float64}, Vector{Float64}, Vector{Float64}, Vector{Float64}, Vector{Float64}, Vector{Float32}, Vector{Float32}}}, Type{SAFTVRMieNNParams}}, Any}, Zygote.var\"#1999#back#204\"{typeof(identity)}, Zygote.var\"#2622#back#551\"{Zygote.var\"#547#550\"}, Zygote.ZBack{ChainRules.var\"#vect_pullback#1373\"{1, Tuple{ProjectTo{Float64, NamedTuple{(), Tuple{}}}}}}, Zygote.ZBack{ChainRules.var\"#vect_pullback#1373\"{1, Tuple{ProjectTo{Float64, NamedTuple{(), Tuple{}}}}}}, Zygote.Pullback{Tuple{Core.var\"#Type##kw\", NamedTuple{(:params,), Tuple{SAFTVRMieNNParams{Float64, Float64, Float64, Float64, Float64, Float64, Float32, Float32}}}, Type{SAFTVRMieNN}}, Any}, Zygote.ZBack{ChainRules.var\"#vect_pullback#1373\"{1, Tuple{ProjectTo{Float64, NamedTuple{(), Tuple{}}}}}}, Zygote.Pullback{Tuple{Type{NamedTuple{(:Mw, :segment, :sigma, :lambda_a, :lambda_r, :epsilon, :epsilon_assoc, :bondvol)}}, Tuple{Vector{Float64}, Vector{Float64}, Vector{Float64}, Vector{Float64}, Vector{Float64}, Vector{Float64}, Vector{Float32}, Vector{Float32}}}, Tuple{Zygote.Pullback{Tuple{Type{NamedTuple{(:Mw, :segment, :sigma, :lambda_a, :lambda_r, :epsilon, :epsilon_assoc, :bondvol), Tuple{Vector{Float64}, Vector{Float64}, Vector{Float64}, Vector{Float64}, Vector{Float64}, Vector{Float64}, Vector{Float32}, Vector{Float32}}}}, Tuple{Vector{Float64}, Vector{Float64}, Vector{Float64}, Vector{Float64}, Vector{Float64}, Vector{Float64}, Vector{Float32}, Vector{Float32}}}, Tuple{Zygote.var\"#2203#back#315\"{Zygote.Jnew{NamedTuple{(:Mw, :segment, :sigma, :lambda_a, :lambda_r, :epsilon, :epsilon_assoc, :bondvol), Tuple{Vector{Float64}, Vector{Float64}, Vector{Float64}, Vector{Float64}, Vector{Float64}, Vector{Float64}, Vector{Float32}, Vector{Float32}}}, Nothing, true}}}}}}, Zygote.Pullback{Tuple{Type{NamedTuple{(:params,)}}, Tuple{SAFTVRMieNNParams{Float64, Float64, Float64, Float64, Float64, Float64, Float32, Float32}}}, Tuple{Zygote.Pullback{Tuple{Type{NamedTuple{(:params,), Tuple{SAFTVRMieNNParams{Float64, Float64, Float64, Float64, Float64, Float64, Float32, Float32}}}}, Tuple{SAFTVRMieNNParams{Float64, Float64, Float64, Float64, Float64, Float64, Float32, Float32}}}, Tuple{Zygote.var\"#2203#back#315\"{Zygote.Jnew{NamedTuple{(:params,), Tuple{SAFTVRMieNNParams{Float64, Float64, Float64, Float64, Float64, Float64, Float32, Float32}}}, Nothing, true}}}}}}, Zygote.ZBack{ChainRules.var\"#vect_pullback#1373\"{1, Tuple{ProjectTo{Float64, NamedTuple{(), Tuple{}}}}}}}}}}}}})(Δ::Vector{Float64})\n",
      "    @ Zygote ~/.julia/packages/Zygote/4SSHS/src/lib/lib.jl:206\n",
      "  [6] (::Zygote.var\"#2155#back#293\"{Zygote.var\"#291#292\"{Tuple{Tuple{Nothing, Nothing}, Tuple{}}, Zygote.Pullback{Tuple{typeof(conditions_sat_p), Vector{Float64}, Vector{Float64}}, Tuple{Zygote.Pullback{Tuple{typeof(eos), SAFTVRMieNN, Float64, Float64}, Tuple{Zygote.var\"#2622#back#551\"{Zygote.var\"#547#550\"}, Zygote.Pullback{Tuple{typeof(eos), SAFTVRMieNN, Float64, Float64, StaticArraysCore.SVector{1, Float64}}, Tuple{Zygote.Pullback{Tuple{typeof(Clapeyron.a_eos), SAFTVRMieNN, Float64, Float64, StaticArraysCore.SVector{1, Float64}}, Any}, Zygote.Pullback{Tuple{typeof(Rgas), SAFTVRMieNN}, Tuple{Zygote.var\"#1972#back#194\"{Zygote.var\"#190#193\"{Zygote.Context{false}, GlobalRef, Float64}}}}, Zygote.var\"#3005#back#782\"{Zygote.var\"#776#780\"{StaticArraysCore.SVector{1, Float64}}}, Zygote.ZBack{ChainRules.var\"#times_pullback4#1352\"{ChainRules.var\"#times_pullback2#1350\"{Float64, Float64}, ChainRules.var\"#times_pullback3#1351\"{Float64, Float64, Float64}}}}}}}, Zygote.ZBack{ChainRules.var\"#-_pullback#1339\"{Int64, Bool, ProjectTo{Float64, NamedTuple{(), Tuple{}}}, ProjectTo{Float64, NamedTuple{(), Tuple{}}}}}, Zygote.Pullback{Tuple{typeof(Zygote.literal_indexed_iterate), Vector{Float64}, Val{3}, Int64}, Tuple{Zygote.Pullback{Tuple{typeof(Base.indexed_iterate), Vector{Float64}, Int64, Int64}, Tuple{Zygote.var\"#1999#back#204\"{typeof(identity)}, Zygote.var\"#2589#back#533\"{Zygote.var\"#543#545\"{1, Float64, Vector{Float64}, Tuple{Int64}}}, Zygote.ZBack{Zygote.var\"#plus_pullback#345\"{Tuple{Int64, Int64}}}}}}}, Zygote.ZBack{ChainRules.var\"#-_pullback#1339\"{Int64, Bool, ProjectTo{Float64, NamedTuple{(), Tuple{}}}, ProjectTo{Float64, NamedTuple{(), Tuple{}}}}}, Zygote.ZBack{ChainRules.var\"#println_pullback#830\"{Tuple{String, String}}}, Zygote.ZBack{ChainRules.var\"#-_pullback#1339\"{Int64, Bool, ProjectTo{Float64, NamedTuple{(), Tuple{}}}, ProjectTo{Float64, NamedTuple{(), Tuple{}}}}}, Zygote.var\"#2015#back#213\"{Zygote.var\"#back#211\"{2, 2, Zygote.Context{false}, Int64}}, Zygote.Pullback{Tuple{typeof(Zygote.literal_indexed_iterate), Vector{Float64}, Val{1}}, Tuple{Zygote.Pullback{Tuple{typeof(Base.indexed_iterate), Vector{Float64}, Int64}, Tuple{Zygote.Pullback{Tuple{typeof(Base.indexed_iterate), Vector{Float64}, Int64, Int64}, Tuple{Zygote.var\"#1999#back#204\"{typeof(identity)}, Zygote.var\"#2589#back#533\"{Zygote.var\"#543#545\"{1, Float64, Vector{Float64}, Tuple{Int64}}}, Zygote.ZBack{Zygote.var\"#plus_pullback#345\"{Tuple{Int64, Int64}}}}}}}}}, Zygote.ZBack{ChainRules.var\"#repr_pullback#877\"}, Zygote.var\"#1999#back#204\"{typeof(identity)}, Zygote.var\"#2015#back#213\"{Zygote.var\"#back#211\"{2, 2, Zygote.Context{false}, Int64}}, Zygote.ZBack{ChainRules.var\"#-_pullback#1339\"{Int64, Bool, ProjectTo{Float64, NamedTuple{(), Tuple{}}}, ProjectTo{Float64, NamedTuple{(), Tuple{}}}}}, Zygote.var\"#2015#back#213\"{Zygote.var\"#back#211\"{2, 1, Zygote.Context{false}, Float64}}, Zygote.ZBack{ChainRules.var\"#-_pullback#1348\"{Int64, ProjectTo{Float64, NamedTuple{(), Tuple{}}}}}, Zygote.var\"#2015#back#213\"{Zygote.var\"#back#211\"{2, 1, Zygote.Context{false}, Float64}}, Zygote.Pullback{Tuple{typeof(eos), SAFTVRMieNN, Float64, Float64}, Tuple{Zygote.var\"#2622#back#551\"{Zygote.var\"#547#550\"}, Zygote.Pullback{Tuple{typeof(eos), SAFTVRMieNN, Float64, Float64, StaticArraysCore.SVector{1, Float64}}, Tuple{Zygote.Pullback{Tuple{typeof(Clapeyron.a_eos), SAFTVRMieNN, Float64, Float64, StaticArraysCore.SVector{1, Float64}}, Any}, Zygote.Pullback{Tuple{typeof(Rgas), SAFTVRMieNN}, Tuple{Zygote.var\"#1972#back#194\"{Zygote.var\"#190#193\"{Zygote.Context{false}, GlobalRef, Float64}}}}, Zygote.var\"#3005#back#782\"{Zygote.var\"#776#780\"{StaticArraysCore.SVector{1, Float64}}}, Zygote.ZBack{ChainRules.var\"#times_pullback4#1352\"{ChainRules.var\"#times_pullback2#1350\"{Float64, Float64}, ChainRules.var\"#times_pullback3#1351\"{Float64, Float64, Float64}}}}}}}, Zygote.ZBack{ChainRules.var\"#/_pullback#1340\"{Float64, Float64, ProjectTo{Float64, NamedTuple{(), Tuple{}}}, ProjectTo{Float64, NamedTuple{(), Tuple{}}}}}, Zygote.Pullback{Tuple{typeof(Zygote.literal_indexed_iterate), Vector{Float64}, Val{2}, Int64}, Tuple{Zygote.Pullback{Tuple{typeof(Base.indexed_iterate), Vector{Float64}, Int64, Int64}, Tuple{Zygote.var\"#1999#back#204\"{typeof(identity)}, Zygote.var\"#2589#back#533\"{Zygote.var\"#543#545\"{1, Float64, Vector{Float64}, Tuple{Int64}}}, Zygote.ZBack{Zygote.var\"#plus_pullback#345\"{Tuple{Int64, Int64}}}}}}}, Zygote.var\"#2015#back#213\"{Zygote.var\"#back#211\"{2, 1, Zygote.Context{false}, Float64}}, Zygote.var\"#2155#back#293\"{Zygote.var\"#291#292\"{Tuple{Tuple{Nothing}, Int64}, Zygote.Pullback{Tuple{typeof(make_NN_model), Float64, Float64, Float64, Float64, Float64, Float64}, Tuple{Zygote.var\"#1999#back#204\"{typeof(identity)}, Zygote.ZBack{ChainRules.var\"#vect_pullback#1373\"{1, Tuple{ProjectTo{Float64, NamedTuple{(), Tuple{}}}}}}, Zygote.ZBack{ChainRules.var\"#vect_pullback#1373\"{1, Tuple{ProjectTo{Float64, NamedTuple{(), Tuple{}}}}}}, Zygote.var\"#2622#back#551\"{Zygote.var\"#547#550\"}, Zygote.Pullback{Tuple{Core.var\"#Type##kw\", NamedTuple{(:Mw, :segment, :sigma, :lambda_a, :lambda_r, :epsilon, :epsilon_assoc, :bondvol), Tuple{Vector{Float64}, Vector{Float64}, Vector{Float64}, Vector{Float64}, Vector{Float64}, Vector{Float64}, Vector{Float32}, Vector{Float32}}}, Type{SAFTVRMieNNParams}}, Any}, Zygote.var\"#1999#back#204\"{typeof(identity)}, Zygote.var\"#2622#back#551\"{Zygote.var\"#547#550\"}, Zygote.ZBack{ChainRules.var\"#vect_pullback#1373\"{1, Tuple{ProjectTo{Float64, NamedTuple{(), Tuple{}}}}}}, Zygote.ZBack{ChainRules.var\"#vect_pullback#1373\"{1, Tuple{ProjectTo{Float64, NamedTuple{(), Tuple{}}}}}}, Zygote.Pullback{Tuple{Core.var\"#Type##kw\", NamedTuple{(:params,), Tuple{SAFTVRMieNNParams{Float64, Float64, Float64, Float64, Float64, Float64, Float32, Float32}}}, Type{SAFTVRMieNN}}, Any}, Zygote.ZBack{ChainRules.var\"#vect_pullback#1373\"{1, Tuple{ProjectTo{Float64, NamedTuple{(), Tuple{}}}}}}, Zygote.Pullback{Tuple{Type{NamedTuple{(:Mw, :segment, :sigma, :lambda_a, :lambda_r, :epsilon, :epsilon_assoc, :bondvol)}}, Tuple{Vector{Float64}, Vector{Float64}, Vector{Float64}, Vector{Float64}, Vector{Float64}, Vector{Float64}, Vector{Float32}, Vector{Float32}}}, Tuple{Zygote.Pullback{Tuple{Type{NamedTuple{(:Mw, :segment, :sigma, :lambda_a, :lambda_r, :epsilon, :epsilon_assoc, :bondvol), Tuple{Vector{Float64}, Vector{Float64}, Vector{Float64}, Vector{Float64}, Vector{Float64}, Vector{Float64}, Vector{Float32}, Vector{Float32}}}}, Tuple{Vector{Float64}, Vector{Float64}, Vector{Float64}, Vector{Float64}, Vector{Float64}, Vector{Float64}, Vector{Float32}, Vector{Float32}}}, Tuple{Zygote.var\"#2203#back#315\"{Zygote.Jnew{NamedTuple{(:Mw, :segment, :sigma, :lambda_a, :lambda_r, :epsilon, :epsilon_assoc, :bondvol), Tuple{Vector{Float64}, Vector{Float64}, Vector{Float64}, Vector{Float64}, Vector{Float64}, Vector{Float64}, Vector{Float32}, Vector{Float32}}}, Nothing, true}}}}}}, Zygote.Pullback{Tuple{Type{NamedTuple{(:params,)}}, Tuple{SAFTVRMieNNParams{Float64, Float64, Float64, Float64, Float64, Float64, Float32, Float32}}}, Tuple{Zygote.Pullback{Tuple{Type{NamedTuple{(:params,), Tuple{SAFTVRMieNNParams{Float64, Float64, Float64, Float64, Float64, Float64, Float32, Float32}}}}, Tuple{SAFTVRMieNNParams{Float64, Float64, Float64, Float64, Float64, Float64, Float32, Float32}}}, Tuple{Zygote.var\"#2203#back#315\"{Zygote.Jnew{NamedTuple{(:params,), Tuple{SAFTVRMieNNParams{Float64, Float64, Float64, Float64, Float64, Float64, Float32, Float32}}}, Nothing, true}}}}}}, Zygote.ZBack{ChainRules.var\"#vect_pullback#1373\"{1, Tuple{ProjectTo{Float64, NamedTuple{(), Tuple{}}}}}}}}}}}}}})(Δ::Vector{Float64})\n",
      "    @ Zygote ~/.julia/packages/ZygoteRules/OgCVT/src/adjoint.jl:71\n",
      "  [7] Pullback\n",
      "    @ ~/.julia/packages/ImplicitDifferentiation/hpC2Y/src/operators.jl:70 [inlined]\n",
      "  [8] (::Zygote.Pullback{Tuple{ImplicitDifferentiation.var\"#17#19\"{Base.Pairs{Symbol, Union{}, Tuple{}, NamedTuple{(), Tuple{}}}, Vector{Float64}, Tuple{}, typeof(conditions_sat_p)}, Vector{Float64}}, Any})(Δ::Vector{Float64})\n",
      "    @ Zygote ~/.julia/packages/Zygote/4SSHS/src/compiler/interface2.jl:0\n",
      "  [9] (::Zygote.var\"#ad_pullback#58\"{Tuple{ImplicitDifferentiation.var\"#17#19\"{Base.Pairs{Symbol, Union{}, Tuple{}, NamedTuple{(), Tuple{}}}, Vector{Float64}, Tuple{}, typeof(conditions_sat_p)}, Vector{Float64}}, Zygote.Pullback{Tuple{ImplicitDifferentiation.var\"#17#19\"{Base.Pairs{Symbol, Union{}, Tuple{}, NamedTuple{(), Tuple{}}}, Vector{Float64}, Tuple{}, typeof(conditions_sat_p)}, Vector{Float64}}, Any}})(Δ::Vector{Float64})\n",
      "    @ Zygote ~/.julia/packages/Zygote/4SSHS/src/compiler/chainrules.jl:263\n",
      " [10] pullback\n",
      "    @ ~/.julia/packages/AbstractDifferentiation/1Cavg/ext/AbstractDifferentiationChainRulesCoreExt.jl:8 [inlined]\n",
      " [11] #_#95\n",
      "    @ ./operators.jl:1035 [inlined]\n",
      " [12] ComposedFunction\n",
      "    @ ./operators.jl:1033 [inlined]\n",
      " [13] (::ImplicitDifferentiation.PullbackProd!{ComposedFunction{typeof(only), AbstractDifferentiation.AbstractDifferentiationChainRulesCoreExt.var\"#pullback#4\"{Zygote.var\"#ad_pullback#58\"{Tuple{ImplicitDifferentiation.var\"#17#19\"{Base.Pairs{Symbol, Union{}, Tuple{}, NamedTuple{(), Tuple{}}}, Vector{Float64}, Tuple{}, typeof(conditions_sat_p)}, Vector{Float64}}, Zygote.Pullback{Tuple{ImplicitDifferentiation.var\"#17#19\"{Base.Pairs{Symbol, Union{}, Tuple{}, NamedTuple{(), Tuple{}}}, Vector{Float64}, Tuple{}, typeof(conditions_sat_p)}, Vector{Float64}}, Any}}}}, 1})(dy_vec::Vector{Float64}, dc_vec::Vector{Float64})\n",
      "    @ ImplicitDifferentiation ~/.julia/packages/ImplicitDifferentiation/hpC2Y/src/operators.jl:97\n",
      " [14] prod3!(res::Vector{Float64}, prod!::ImplicitDifferentiation.PullbackProd!{ComposedFunction{typeof(only), AbstractDifferentiation.AbstractDifferentiationChainRulesCoreExt.var\"#pullback#4\"{Zygote.var\"#ad_pullback#58\"{Tuple{ImplicitDifferentiation.var\"#17#19\"{Base.Pairs{Symbol, Union{}, Tuple{}, NamedTuple{(), Tuple{}}}, Vector{Float64}, Tuple{}, typeof(conditions_sat_p)}, Vector{Float64}}, Zygote.Pullback{Tuple{ImplicitDifferentiation.var\"#17#19\"{Base.Pairs{Symbol, Union{}, Tuple{}, NamedTuple{(), Tuple{}}}, Vector{Float64}, Tuple{}, typeof(conditions_sat_p)}, Vector{Float64}}, Any}}}}, 1}, v::Vector{Float64}, α::Float64, β::Float64, Mv5::Vector{Float64})\n",
      "    @ LinearOperators ~/.julia/packages/LinearOperators/cAsHF/src/operations.jl:12\n",
      " [15] mul!(res::Vector{Float64}, op::LinearOperators.LinearOperator{Float64, Int64, ImplicitDifferentiation.PullbackProd!{ComposedFunction{typeof(only), AbstractDifferentiation.AbstractDifferentiationChainRulesCoreExt.var\"#pullback#4\"{Zygote.var\"#ad_pullback#58\"{Tuple{ImplicitDifferentiation.var\"#17#19\"{Base.Pairs{Symbol, Union{}, Tuple{}, NamedTuple{(), Tuple{}}}, Vector{Float64}, Tuple{}, typeof(conditions_sat_p)}, Vector{Float64}}, Zygote.Pullback{Tuple{ImplicitDifferentiation.var\"#17#19\"{Base.Pairs{Symbol, Union{}, Tuple{}, NamedTuple{(), Tuple{}}}, Vector{Float64}, Tuple{}, typeof(conditions_sat_p)}, Vector{Float64}}, Any}}}}, 1}, Nothing, Nothing, Vector{Float64}}, v::Vector{Float64}, α::Float64, β::Float64)\n",
      "    @ LinearOperators ~/.julia/packages/LinearOperators/cAsHF/src/operations.jl:31\n",
      " [16] mul!\n",
      "    @ ~/.julia/packages/LinearOperators/cAsHF/src/operations.jl:36 [inlined]\n",
      " [17] *\n",
      "    @ ~/.julia/packages/LinearOperators/cAsHF/src/operations.jl:43 [inlined]\n",
      " [18] (Matrix)(op::LinearOperators.LinearOperator{Float64, Int64, ImplicitDifferentiation.PullbackProd!{ComposedFunction{typeof(only), AbstractDifferentiation.AbstractDifferentiationChainRulesCoreExt.var\"#pullback#4\"{Zygote.var\"#ad_pullback#58\"{Tuple{ImplicitDifferentiation.var\"#17#19\"{Base.Pairs{Symbol, Union{}, Tuple{}, NamedTuple{(), Tuple{}}}, Vector{Float64}, Tuple{}, typeof(conditions_sat_p)}, Vector{Float64}}, Zygote.Pullback{Tuple{ImplicitDifferentiation.var\"#17#19\"{Base.Pairs{Symbol, Union{}, Tuple{}, NamedTuple{(), Tuple{}}}, Vector{Float64}, Tuple{}, typeof(conditions_sat_p)}, Vector{Float64}}, Any}}}}, 1}, Nothing, Nothing, Vector{Float64}})\n",
      "    @ LinearOperators ~/.julia/packages/LinearOperators/cAsHF/src/abstract.jl:287\n",
      " [19] presolve(#unused#::DirectLinearSolver, A::LinearOperators.LinearOperator{Float64, Int64, ImplicitDifferentiation.PullbackProd!{ComposedFunction{typeof(only), AbstractDifferentiation.AbstractDifferentiationChainRulesCoreExt.var\"#pullback#4\"{Zygote.var\"#ad_pullback#58\"{Tuple{ImplicitDifferentiation.var\"#17#19\"{Base.Pairs{Symbol, Union{}, Tuple{}, NamedTuple{(), Tuple{}}}, Vector{Float64}, Tuple{}, typeof(conditions_sat_p)}, Vector{Float64}}, Zygote.Pullback{Tuple{ImplicitDifferentiation.var\"#17#19\"{Base.Pairs{Symbol, Union{}, Tuple{}, NamedTuple{(), Tuple{}}}, Vector{Float64}, Tuple{}, typeof(conditions_sat_p)}, Vector{Float64}}, Any}}}}, 1}, Nothing, Nothing, Vector{Float64}}, y::Vector{Float64})\n",
      "    @ ImplicitDifferentiation ~/.julia/packages/ImplicitDifferentiation/hpC2Y/src/linear_solver.jl:68\n",
      " [20] rrule(::Zygote.ZygoteRuleConfig{Zygote.Context{false}}, ::ImplicitFunction{typeof(forward_sat_p), typeof(conditions_sat_p), DirectLinearSolver, Nothing}, ::Vector{Float64}; kwargs::Base.Pairs{Symbol, Union{}, Tuple{}, NamedTuple{(), Tuple{}}})\n",
      "    @ ImplicitDifferentiation.ImplicitDifferentiationChainRulesCoreExt ~/.julia/packages/ImplicitDifferentiation/hpC2Y/ext/ImplicitDifferentiationChainRulesCoreExt.jl:32\n",
      " [21] rrule\n",
      "    @ ~/.julia/packages/ImplicitDifferentiation/hpC2Y/ext/ImplicitDifferentiationChainRulesCoreExt.jl:23 [inlined]\n",
      " [22] chain_rrule\n",
      "    @ ~/.julia/packages/Zygote/4SSHS/src/compiler/chainrules.jl:223 [inlined]\n",
      " [23] macro expansion\n",
      "    @ ~/.julia/packages/Zygote/4SSHS/src/compiler/interface2.jl:101 [inlined]\n",
      " [24] _pullback(ctx::Zygote.Context{false}, f::ImplicitFunction{typeof(forward_sat_p), typeof(conditions_sat_p), DirectLinearSolver, Nothing}, args::Vector{Float64})\n",
      "    @ Zygote ~/.julia/packages/Zygote/4SSHS/src/compiler/interface2.jl:101\n",
      " [25] pullback\n",
      "    @ ~/.julia/packages/Zygote/4SSHS/src/compiler/interface.jl:44 [inlined]\n",
      " [26] pullback\n",
      "    @ ~/.julia/packages/Zygote/4SSHS/src/compiler/interface.jl:42 [inlined]\n",
      " [27] gradient(f::ImplicitFunction{typeof(forward_sat_p), typeof(conditions_sat_p), DirectLinearSolver, Nothing}, args::Vector{Float64})\n",
      "    @ Zygote ~/.julia/packages/Zygote/4SSHS/src/compiler/interface.jl:96\n",
      " [28] top-level scope\n",
      "    @ ~/SAFT_ML/6_sat_solver_NN.ipynb:1"
     ]
    }
   ],
   "source": [
    "Zygote.gradient(impl_saturation_pressure, X)\n",
    "# ForwardDiff.gradient(impl_saturation_pressure, X)\n",
    "#! This doesn't seem to have worked... :("
   ]
  },
  {
   "cell_type": "code",
   "execution_count": 25,
   "metadata": {},
   "outputs": [],
   "source": [
    "#* Instead, follow the example in Language of molecules paper, defining as the last newton step\n"
   ]
  }
 ],
 "metadata": {
  "kernelspec": {
   "display_name": "Julia 1.8.2",
   "language": "julia",
   "name": "julia-1.8"
  },
  "language_info": {
   "file_extension": ".jl",
   "mimetype": "application/julia",
   "name": "julia",
   "version": "1.8.2"
  }
 },
 "nbformat": 4,
 "nbformat_minor": 2
}
