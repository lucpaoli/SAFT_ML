{
 "cells": [
  {
   "cell_type": "code",
   "execution_count": 1,
   "metadata": {},
   "outputs": [],
   "source": [
    "# Set up a chain rule to calculate the loss function @ saturation w/out propagating derivatives through saturation solver\n",
    "# This was done in the Language of Molecules paper.\n",
    "\n",
    "# 1_differentiable_saft works when no solvers are involved, i.e. for properties specified with a given (V, T)\n",
    "# if, instead, we want to solve for saturation conditions, then I have the old problem of "
   ]
  },
  {
   "cell_type": "code",
   "execution_count": 2,
   "metadata": {},
   "outputs": [
    {
     "name": "stderr",
     "output_type": "stream",
     "text": [
      "\u001b[32m\u001b[1m  Activating\u001b[22m\u001b[39m project at `~/SAFT_ML`\n"
     ]
    },
    {
     "name": "stderr",
     "output_type": "stream",
     "text": [
      "WARNING: redefinition of constant UNIT_FORMATS. This may fail, cause incorrect answers, or produce other errors.\n"
     ]
    }
   ],
   "source": [
    "import Pkg; Pkg.activate(\".\")\n",
    "\n",
    "using Revise\n",
    "using Clapeyron\n",
    "includet(\"./saftvrmienn.jl\")\n",
    "# These are functions we're going to overload for SAFTVRMieNN\n",
    "import Clapeyron: a_res, saturation_pressure, pressure\n",
    "\n",
    "using Flux\n",
    "using Plots\n",
    "using ForwardDiff, DiffResults\n",
    "\n",
    "using Zygote, ChainRulesCore\n",
    "using ImplicitDifferentiation\n",
    "\n",
    "import TaylorDiff"
   ]
  },
  {
   "cell_type": "code",
   "execution_count": 3,
   "metadata": {},
   "outputs": [
    {
     "data": {
      "text/plain": [
       "make_model (generic function with 1 method)"
      ]
     },
     "metadata": {},
     "output_type": "display_data"
    }
   ],
   "source": [
    "function make_NN_model(Mw, m, σ, λ_a, λ_r, ϵ)\n",
    "    model = SAFTVRMieNN(\n",
    "        params = SAFTVRMieNNParams(\n",
    "            Mw=[Mw],\n",
    "            segment=[m],\n",
    "            sigma=[σ],\n",
    "            lambda_a=[λ_a],\n",
    "            lambda_r=[λ_r],\n",
    "            epsilon=[ϵ],\n",
    "            epsilon_assoc=Float32[],\n",
    "            bondvol=Float32[],\n",
    "        )\n",
    "    )\n",
    "    return model\n",
    "end\n",
    "\n",
    "# Hack to get around Clapeyron model construction API\n",
    "function make_model(Mw, m, σ, λ_a, λ_r, ϵ)\n",
    "    model = SAFTVRMie([\"methane\"])\n",
    "    \n",
    "    model.params.Mw[1] = Mw\n",
    "    model.params.segment[1] = m\n",
    "    model.params.sigma[1] = σ\n",
    "    model.params.lambda_a[1] = λ_a\n",
    "    model.params.lambda_r[1] = λ_r\n",
    "    model.params.epsilon[1] = ϵ\n",
    "\n",
    "    return model\n",
    "end\n"
   ]
  },
  {
   "cell_type": "code",
   "execution_count": 4,
   "metadata": {},
   "outputs": [
    {
     "ename": "ErrorException",
     "evalue": "syntax: invalid character \"†\" near column 6",
     "output_type": "error",
     "traceback": [
      "syntax: invalid character \"†\" near column 6\n",
      "\n",
      "Stacktrace:\n",
      " [1] top-level scope\n",
      "   @ ~/SAFT_ML/6_sat_solver_NN.ipynb:20"
     ]
    }
   ],
   "source": [
    "function forward_sat_p(X)\n",
    "    T = 100.0\n",
    "    model = make_model(16.04, X...)\n",
    "\n",
    "    p, Vₗ, Vᵥ = saturation_pressure(model, T)\n",
    "    \n",
    "    return [p, Vₗ, Vᵥ]\n",
    "end\n",
    "\n",
    "# Saturation conditions:\n",
    "#* At conditions specified by y, these two conditions are satisfied\n",
    "#? But how do I turn this into an optimality condition with the same\n",
    "#? dimension as X\n",
    "#! Instead define as chain rule, taking ForwardDiff of these expressions\n",
    "function conditions_sat_p(X, y)\n",
    "    T = 100.0\n",
    "    # Mw, m, σ, λ_a, λ_r, ϵ = X\n",
    "    model = make_NN_model(16.04, X...)\n",
    "    \n",
    "    p†, Vₗ† , Vᵥ† = y\n",
    "    p† = -(eos(model, Vᵥ†, T) - eos(model, Vₗ†, T))/(Vᵥ† - Vₗ†);\n",
    "\n",
    "    # Compute ∂p∂V\n",
    "    _, back = Zygote.pullback(V -> a_res(model, V, T), V)\n",
    "\n",
    "    \n",
    "    # ∂p∂Vₗ = -Zygote.gradient(V -> a_res(model, V, T), Vₗ†)[1]\n",
    "    Vₗ = Vₗ† - (pressure(model, Vₗ†, T) - p†)/∂p∂Vₗ\n",
    "    # Vl_obj = \n",
    "# function Clapeyron.pressure(model::SAFTVRMieNN, V, T, z)\n",
    "#     f_a(V) = a_res(model, V, T, z)\n",
    "#     p = -Zygote.gradient(f_a, V)[1]\n",
    "#     return p\n",
    "# end\n",
    "    # return [obj, obj, obj]\n",
    "    return [obj,]\n",
    "end\n",
    "\n",
    "impl_saturation_pressure = ImplicitFunction(forward_sat_p, conditions_sat_p)#, linear_solver=DirectLinearSolver())"
   ]
  },
  {
   "cell_type": "code",
   "execution_count": 5,
   "metadata": {},
   "outputs": [
    {
     "name": "stdout",
     "output_type": "stream",
     "text": [
      "(p, Vₗ, Vᵥ) = saturation_pressure(m, T) = (34113.760062273235, 3.6950451345479705e-5, 0.02406828436380972)\n",
      "p_sat = -((eos(m, Vᵥ, T) - eos(m, Vₗ, T))) / (Vᵥ - Vₗ) = "
     ]
    },
    {
     "name": "stdout",
     "output_type": "stream",
     "text": [
      "34113.76006228598\n",
      "p - p_sat = -1.2747477740049362e-8\n"
     ]
    },
    {
     "data": {
      "text/plain": [
       "-1.2747477740049362e-8"
      ]
     },
     "metadata": {},
     "output_type": "display_data"
    }
   ],
   "source": [
    "X = [1.0, 3.737e-10, 6.0, 12.504, 152.58]\n",
    "\n",
    "m = make_model(16.04, X...)\n",
    "m2 = make_NN_model(16.04, X...)\n",
    "T = 100.0\n",
    "@show p, Vₗ, Vᵥ = saturation_pressure(m, T);\n",
    "@show p_sat = -(eos(m, Vᵥ, T) - eos(m, Vₗ, T))/(Vᵥ - Vₗ)\n",
    "@show p - p_sat"
   ]
  },
  {
   "cell_type": "code",
   "execution_count": 5,
   "metadata": {},
   "outputs": [
    {
     "name": "stdout",
     "output_type": "stream",
     "text": [
      "(p, Vₗ, Vᵥ) = saturation_pressure(m, T) = (34113.760062273235, 3.6950451345479705e-5, 0.02406828436380972)\n"
     ]
    }
   ],
   "source": [
    "@show p, Vₗ, Vᵥ = saturation_pressure(m, T);"
   ]
  },
  {
   "cell_type": "code",
   "execution_count": 6,
   "metadata": {},
   "outputs": [
    {
     "ename": "UndefVarError",
     "evalue": "UndefVarError: impl_saturation_pressure not defined",
     "output_type": "error",
     "traceback": [
      "UndefVarError: impl_saturation_pressure not defined\n",
      "\n",
      "Stacktrace:\n",
      " [1] top-level scope\n",
      "   @ show.jl:1047"
     ]
    }
   ],
   "source": [
    "@show y = impl_saturation_pressure(X)\n",
    "conditions_sat_p(X, y)"
   ]
  },
  {
   "cell_type": "code",
   "execution_count": 7,
   "metadata": {},
   "outputs": [
    {
     "ename": "UndefVarError",
     "evalue": "UndefVarError: conditions_sat_p not defined",
     "output_type": "error",
     "traceback": [
      "UndefVarError: conditions_sat_p not defined\n",
      "\n",
      "Stacktrace:\n",
      "  [1] _pullback(ctx::Zygote.Context{false}, f::var\"#33#34\", args::Vector{Float64})\n",
      "    @ Zygote ~/.julia/packages/Zygote/4SSHS/src/compiler/interface2.jl:101\n",
      "  [2] _apply\n",
      "    @ ./boot.jl:816 [inlined]\n",
      "  [3] adjoint\n",
      "    @ ~/.julia/packages/Zygote/4SSHS/src/lib/lib.jl:203 [inlined]\n",
      "  [4] _pullback\n",
      "    @ ~/.julia/packages/ZygoteRules/OgCVT/src/adjoint.jl:66 [inlined]\n",
      "  [5] _pullback\n",
      "    @ ./operators.jl:1035 [inlined]\n",
      "  [6] _pullback(::Zygote.Context{false}, ::Base.var\"##_#95\", ::Base.Pairs{Symbol, Union{}, Tuple{}, NamedTuple{(), Tuple{}}}, ::ComposedFunction{typeof(Zygote._jvec), var\"#33#34\"}, ::Vector{Float64})\n",
      "    @ Zygote ~/.julia/packages/Zygote/4SSHS/src/compiler/interface2.jl:0\n",
      "  [7] _apply(::Function, ::Vararg{Any})\n",
      "    @ Core ./boot.jl:816\n",
      "  [8] adjoint\n",
      "    @ ~/.julia/packages/Zygote/4SSHS/src/lib/lib.jl:203 [inlined]\n",
      "  [9] _pullback\n",
      "    @ ~/.julia/packages/ZygoteRules/OgCVT/src/adjoint.jl:66 [inlined]\n",
      " [10] _pullback\n",
      "    @ ./operators.jl:1033 [inlined]\n",
      " [11] _pullback(ctx::Zygote.Context{false}, f::ComposedFunction{typeof(Zygote._jvec), var\"#33#34\"}, args::Vector{Float64})\n",
      "    @ Zygote ~/.julia/packages/Zygote/4SSHS/src/compiler/interface2.jl:0\n",
      " [12] pullback(f::Function, cx::Zygote.Context{false}, args::Vector{Float64})\n",
      "    @ Zygote ~/.julia/packages/Zygote/4SSHS/src/compiler/interface.jl:44\n",
      " [13] pullback\n",
      "    @ ~/.julia/packages/Zygote/4SSHS/src/compiler/interface.jl:42 [inlined]\n",
      " [14] withjacobian(f::Function, args::Vector{Float64})\n",
      "    @ Zygote ~/.julia/packages/Zygote/4SSHS/src/lib/grad.jl:141\n",
      " [15] jacobian(f::Function, args::Vector{Float64})\n",
      "    @ Zygote ~/.julia/packages/Zygote/4SSHS/src/lib/grad.jl:128\n",
      " [16] top-level scope\n",
      "    @ ~/SAFT_ML/6_sat_solver_NN.ipynb:1"
     ]
    }
   ],
   "source": [
    "g = Zygote.jacobian(X -> conditions_sat_p(X, y), X)"
   ]
  },
  {
   "cell_type": "code",
   "execution_count": 8,
   "metadata": {},
   "outputs": [
    {
     "data": {
      "text/plain": [
       "(34113.760062273235, 3.6950451345479705e-5, 0.02406828436380972)"
      ]
     },
     "metadata": {},
     "output_type": "display_data"
    }
   ],
   "source": [
    "model = SAFTVRMie([\"methane\"])\n",
    "saturation_pressure(model, 100.0)"
   ]
  },
  {
   "cell_type": "code",
   "execution_count": 10,
   "metadata": {},
   "outputs": [
    {
     "ename": "UndefVarError",
     "evalue": "UndefVarError: impl_saturation_pressure not defined",
     "output_type": "error",
     "traceback": [
      "UndefVarError: impl_saturation_pressure not defined\n",
      "\n",
      "Stacktrace:\n",
      " [1] top-level scope\n",
      "   @ ~/SAFT_ML/6_sat_solver_NN.ipynb:1"
     ]
    }
   ],
   "source": [
    "Zygote.jacobian(impl_saturation_pressure, X)\n",
    "# ForwardDiff.jacobian(impl_saturation_pressure, X)\n",
    "#! This doesn't seem to have worked... :("
   ]
  },
  {
   "cell_type": "code",
   "execution_count": 4,
   "metadata": {},
   "outputs": [
    {
     "data": {
      "text/plain": [
       "impl_sat_p_v2 (generic function with 1 method)"
      ]
     },
     "metadata": {},
     "output_type": "display_data"
    }
   ],
   "source": [
    "function impl_sat_p_v2(X)\n",
    "    T = 100.0\n",
    "    model = make_model(16.04, X...)\n",
    "    \n",
    "    p, Vₗ, Vᵥ = saturation_pressure(model, T)\n",
    "    \n",
    "    return [p, Vₗ, Vᵥ]\n",
    "end"
   ]
  },
  {
   "cell_type": "code",
   "execution_count": 6,
   "metadata": {},
   "outputs": [
    {
     "data": {
      "text/plain": [
       "([34113.760062273235, 3.6950451345479705e-5, 0.02406828436380972], f_pullback)"
      ]
     },
     "metadata": {},
     "output_type": "display_data"
    }
   ],
   "source": [
    "#! Instead, try implementing as a chain rule?\n",
    "# function ChainRulesCore.rrule(::typeof(impl_sat_p_v2), X)\n",
    "function test_rrule(X)\n",
    "    T = 100.0\n",
    "    p, Vₗ, Vᵥ = impl_sat_p_v2(X)\n",
    "    \n",
    "    function f_pullback(Δy)\n",
    "        # Functions to calculate p, Vₗ, Vᵥ from a Newton step starting from the converged point\n",
    "        # This is the approach in Winter et al.\n",
    "        function f_p(X)\n",
    "            model = make_NN_model(16.04, X...)\n",
    "            p2 = -(eos(model, Vᵥ, T) - eos(model, Vₗ, T))/(Vᵥ - Vₗ);\n",
    "            return p2\n",
    "        end\n",
    "        \n",
    "        function f_V(X, V)\n",
    "            model = make_NN_model(16.04, X...)\n",
    "            ∂p∂V = Zygote.gradient(V -> pressure(model, V, T), V)[1]\n",
    "            V2 = V - (pressure(model, V, T) - p)/∂p∂V\n",
    "            return V2\n",
    "        end\n",
    "        \n",
    "        ∂p = Zygote.gradient(f_p, X)[1]\n",
    "        ∂Vₗ = Zygote.gradient(X -> f_V(X, Vₗ), X)[1]\n",
    "        ∂Vᵥ = Zygote.gradient(X -> f_V(X, Vᵥ), X)[1]\n",
    "        \n",
    "        return (NoTangent(), [∂p, ∂Vₗ, ∂Vᵥ])\n",
    "    end\n",
    "    \n",
    "    return [p, Vₗ, Vᵥ], f_pullback\n",
    "end\n",
    "\n",
    "# Test the gradient computation\n",
    "X = [1.0, 3.737e-10, 6.0, 12.504, 152.58]\n",
    "y, f_pullback = test_rrule(X)"
   ]
  },
  {
   "cell_type": "code",
   "execution_count": 30,
   "metadata": {},
   "outputs": [
    {
     "name": "stdout",
     "output_type": "stream",
     "text": [
      "(p, f_p(X), ForwardDiff.gradient(f_p, X)) = (34113.760062273235, 34113.7600622861, [-235775.88358427823, -2.738594599593772e14, 61346.898616495506, 12147.672399827, -2130.8750918885917])\n",
      "(Vᵥ, f_V(X, Vᵥ)) = "
     ]
    },
    {
     "name": "stdout",
     "output_type": "stream",
     "text": [
      "(0.02406828436380972, 0.02406828436380972)\n"
     ]
    }
   ],
   "source": [
    "T = 100.0\n",
    "p, Vₗ, Vᵥ = impl_sat_p_v2(X)\n",
    "\n",
    "# function f_pullback(Δy)\n",
    "# Functions to calculate p, Vₗ, Vᵥ from a Newton step starting from the converged point\n",
    "# This is the approach in Winter et al.\n",
    "function f_p(X)\n",
    "    T = 100.0 \n",
    "    model = make_NN_model(16.04, X...)\n",
    "    p2 = -(eos(model, Vᵥ, T) - eos(model, Vₗ, T))/(Vᵥ - Vₗ);\n",
    "    return p2\n",
    "end\n",
    "\n",
    "function pressure(model::SAFTVRMieNN, V, T, z=[1.0])\n",
    "    p = -ForwardDiff.derivative(V -> eos(model, V, T, z), V)\n",
    "    return p\n",
    "end\n",
    "\n",
    "function f_V(X, V)\n",
    "    T = 100.0 \n",
    "    model = make_NN_model(16.04, X...)\n",
    "    # ∂p∂V = Zygote.gradient(V -> pressure(model, V, T), V)[1]\n",
    "    ∂p∂V = ForwardDiff.derivative(V -> pressure(model, V, T), V)\n",
    "    V2 = V - (pressure(model, V, T) - p)/∂p∂V\n",
    "    return V2\n",
    "end\n",
    "\n",
    "@show p, f_p(X), ForwardDiff.gradient(f_p, X);\n",
    "# @show Vₗ, f_V(X, Vₗ), ForwardDiff.gradient(X -> f_V(X, Vₗ), X);\n",
    "@show Vᵥ, f_V(X, Vᵥ)\n",
    "\n",
    "# ∂p = Zygote.gradient(f_p, X)[1]\n",
    "# ∂Vₗ = Zygote.gradient(X -> f_V(X, Vₗ), X)[1]\n",
    "# ∂Vᵥ = Zygote.gradient(X -> f_V(X, Vᵥ), X)[1]\n",
    "\n",
    "#     return (NoTangent(), [∂p, ∂Vₗ, ∂Vᵥ])\n",
    "# end\n",
    "nothing"
   ]
  },
  {
   "cell_type": "code",
   "execution_count": 26,
   "metadata": {},
   "outputs": [
    {
     "data": {
      "text/plain": [
       "720.0"
      ]
     },
     "metadata": {},
     "output_type": "display_data"
    }
   ],
   "source": [
    "ForwardDiff.derivative(x -> ForwardDiff.derivative(x -> ForwardDiff.derivative(x -> x^10, x), x), 1.0)"
   ]
  },
  {
   "cell_type": "code",
   "execution_count": 11,
   "metadata": {},
   "outputs": [],
   "source": [
    "model = make_NN_model(16.04, X...)\n",
    "f(x) = Zygote.gradient(V -> eos(model, V, T), x)\n",
    "Zygote.gradient(f, Vₗ)"
   ]
  },
  {
   "cell_type": "code",
   "execution_count": 5,
   "metadata": {},
   "outputs": [],
   "source": [
    "f_pullback(1.0)"
   ]
  },
  {
   "cell_type": "code",
   "execution_count": 10,
   "metadata": {},
   "outputs": [
    {
     "name": "stdout",
     "output_type": "stream",
     "text": [
      "impl_sat_p_v2(X) = [34113.760062273235, 3.6950451345479705e-5, 0.02406828436380972]\n"
     ]
    }
   ],
   "source": [
    "@show impl_sat_p_v2(X);"
   ]
  },
  {
   "cell_type": "code",
   "execution_count": 11,
   "metadata": {},
   "outputs": [],
   "source": [
    "@show Zygote.jacobian(impl_sat_p_v2, X);\n",
    "# ForwardDiff.jacobian(impl_sat_p_v2, X)"
   ]
  }
 ],
 "metadata": {
  "kernelspec": {
   "display_name": "Julia 1.8.2",
   "language": "julia",
   "name": "julia-1.8"
  },
  "language_info": {
   "file_extension": ".jl",
   "mimetype": "application/julia",
   "name": "julia",
   "version": "1.8.2"
  }
 },
 "nbformat": 4,
 "nbformat_minor": 2
}
