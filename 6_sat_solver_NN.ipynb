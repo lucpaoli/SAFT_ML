{
 "cells": [
  {
   "cell_type": "code",
   "execution_count": 1,
   "metadata": {},
   "outputs": [],
   "source": [
    "# Set up a chain rule to calculate the loss function @ saturation w/out propagating derivatives through saturation solver\n",
    "# This was done in the Language of Molecules paper.\n",
    "\n",
    "# 1_differentiable_saft works when no solvers are involved, i.e. for properties specified with a given (V, T)\n",
    "# if, instead, we want to solve for saturation conditions, then I have the old problem of "
   ]
  },
  {
   "cell_type": "code",
   "execution_count": 2,
   "metadata": {},
   "outputs": [
    {
     "name": "stderr",
     "output_type": "stream",
     "text": [
      "\u001b[32m\u001b[1m  Activating\u001b[22m\u001b[39m project at `~/SAFT_ML`\n"
     ]
    },
    {
     "name": "stderr",
     "output_type": "stream",
     "text": [
      "WARNING: redefinition of constant UNIT_FORMATS. This may fail, cause incorrect answers, or produce other errors.\n"
     ]
    }
   ],
   "source": [
    "import Pkg; Pkg.activate(\".\")\n",
    "\n",
    "using Revise\n",
    "using Clapeyron\n",
    "includet(\"./saftvrmienn.jl\")\n",
    "# These are functions we're going to overload for SAFTVRMieNN\n",
    "import Clapeyron: a_res, saturation_pressure, pressure\n",
    "\n",
    "using Flux\n",
    "using Plots\n",
    "using ForwardDiff, DiffResults\n",
    "\n",
    "using Zygote, ChainRulesCore\n",
    "using ImplicitDifferentiation"
   ]
  },
  {
   "cell_type": "code",
   "execution_count": 59,
   "metadata": {},
   "outputs": [
    {
     "data": {
      "text/plain": [
       "make_model (generic function with 1 method)"
      ]
     },
     "metadata": {},
     "output_type": "display_data"
    }
   ],
   "source": [
    "function make_NN_model(Mw, m, σ, λ_a, λ_r, ϵ)\n",
    "    model = SAFTVRMieNN(\n",
    "        params = SAFTVRMieNNParams(\n",
    "            Mw=[Mw],\n",
    "            segment=[m],\n",
    "            sigma=[σ*1e-10],\n",
    "            lambda_a=[λ_a],\n",
    "            lambda_r=[λ_r],\n",
    "            epsilon=[ϵ],\n",
    "            epsilon_assoc=Float32[],\n",
    "            bondvol=Float32[],\n",
    "        )\n",
    "    )\n",
    "    return model\n",
    "end\n",
    "\n",
    "# Hack to get around Clapeyron model construction API\n",
    "function make_model(Mw, m, σ, λ_a, λ_r, ϵ)\n",
    "    model = SAFTVRMie([\"methane\"])\n",
    "    \n",
    "    model.params.Mw[1] = Mw\n",
    "    model.params.segment[1] = m\n",
    "    model.params.sigma[1] = σ*1e-10\n",
    "    model.params.lambda_a[1] = λ_a\n",
    "    model.params.lambda_r[1] = λ_r\n",
    "    model.params.epsilon[1] = ϵ\n",
    "\n",
    "    return model\n",
    "end\n"
   ]
  },
  {
   "cell_type": "code",
   "execution_count": 61,
   "metadata": {},
   "outputs": [
    {
     "name": "stdout",
     "output_type": "stream",
     "text": [
      "p = 34113.760062273235\n",
      "∂X = ([-0.0, -235775.88358427823, -2.738594599593772e14, 61346.898616495506, 12147.672399827, -2130.8750918885917], 3592.4268158264795)\n"
     ]
    }
   ],
   "source": [
    "function saturation_pressure_NN(X, T)\n",
    "    model = make_model(X...)\n",
    "    p, Vₗ, Vᵥ = saturation_pressure(model, T)\n",
    "\n",
    "    return p\n",
    "end\n",
    "\n",
    "function ChainRulesCore.rrule(::typeof(saturation_pressure_NN), X, T)\n",
    "    model = make_model(X...)\n",
    "    p, Vₗ, Vᵥ = saturation_pressure(model, T)\n",
    "    \n",
    "    function f_pullback(Δy)\n",
    "        #* Newton step from perfect initialisation\n",
    "        function f_p(X, T)\n",
    "            model = make_NN_model(X...)\n",
    "            p2 = -(eos(model, Vᵥ, T) - eos(model, Vₗ, T))/(Vᵥ - Vₗ);\n",
    "            return p2\n",
    "        end\n",
    "\n",
    "        ∂X = @thunk(ForwardDiff.gradient(X -> f_p(X, T), X) .* Δy)\n",
    "        ∂T = @thunk(ForwardDiff.derivative(T -> f_p(X, T), T) .* Δy)\n",
    "        return (NoTangent(), ∂X, ∂T)\n",
    "    end\n",
    "\n",
    "    return p, f_pullback\n",
    "end\n",
    "\n",
    "X = [16.04, 1.0, 3.737, 6.0, 12.504, 152.58]\n",
    "\n",
    "p = saturation_pressure_NN(X, T)\n",
    "∂p∂X = Zygote.gradient(X -> saturation_pressure_NN(X, T), X)\n",
    "@show p\n",
    "@show ∂X;"
   ]
  },
  {
   "cell_type": "code",
   "execution_count": 53,
   "metadata": {},
   "outputs": [],
   "source": [
    "# Set up data creation & loading here \n",
    "# Currently random\n",
    "nsamples = 10\n",
    "nfeatures = 4\n",
    "nout = 5\n",
    "X = rand(Float32, nfeatures, nsamples)\n",
    "y = rand(Float32, nout, nsamples)\n",
    "\n",
    "# Shuffle all samples into a random order\n",
    "# Package into data loaders\n",
    "batchsize = 10\n",
    "train_data = DataLoader((X, y), batchsize=batchsize, shuffle=true)\n",
    "#* shuffle=true randomises observation order every iteration"
   ]
  },
  {
   "cell_type": "code",
   "execution_count": null,
   "metadata": {},
   "outputs": [],
   "source": [
    "# Base NN architecture from \"Fitting Error vs Parameter Performance\"\n",
    "unbounded_model = Chain(\n",
    "    Dense(nfeatures, 2048, selu),\n",
    "    Dense(2048, 1024, selu),\n",
    "    Dense(1024, 512, selu),\n",
    "    Dense(512, 128, selu),\n",
    "    Dense(128, 32, selu),\n",
    "    Dense(32, nout, selu),\n",
    ")\n",
    "# model(x) = m, σ, λ_a, λ_r, ϵ\n",
    "\n",
    "opt = ADAM(1e-3)\n",
    "\n",
    "# Add constant bias to the model output\n",
    "b = [\n",
    "    1.5,\n",
    "    \n",
    "]\n",
    "bounded_model(x) = unbounded_model(x) .+ b\n",
    "\n",
    "ep"
   ]
  }
 ],
 "metadata": {
  "kernelspec": {
   "display_name": "Julia 1.8.2",
   "language": "julia",
   "name": "julia-1.8"
  },
  "language_info": {
   "file_extension": ".jl",
   "mimetype": "application/julia",
   "name": "julia",
   "version": "1.8.2"
  }
 },
 "nbformat": 4,
 "nbformat_minor": 2
}
