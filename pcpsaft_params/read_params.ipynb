{
 "cells": [
  {
   "cell_type": "code",
   "execution_count": 15,
   "metadata": {},
   "outputs": [
    {
     "name": "stderr",
     "output_type": "stream",
     "text": [
      "\u001b[32m\u001b[1m  Activating\u001b[22m\u001b[39m project at `~/SAFT_ML`\n"
     ]
    }
   ],
   "source": [
    "import Pkg; Pkg.activate(\"..\")"
   ]
  },
  {
   "cell_type": "code",
   "execution_count": 16,
   "metadata": {},
   "outputs": [],
   "source": [
    "using CSV, DataFrames, DelimitedFiles, Clapeyron, PyCall\n",
    "import PyPlot; const plt = PyPlot ;"
   ]
  },
  {
   "cell_type": "code",
   "execution_count": 17,
   "metadata": {},
   "outputs": [
    {
     "data": {
      "text/html": [
       "<div><div style = \"float: left;\"><span>1842×34 DataFrame</span></div><div style = \"float: right;\"><span style = \"font-style: italic;\">1817 rows omitted</span></div><div style = \"clear: both;\"></div></div><div class = \"data-frame\" style = \"overflow-x: scroll;\"><table class = \"data-frame\" style = \"margin-bottom: 6px;\"><thead><tr class = \"header\"><th class = \"rowNumber\" style = \"font-weight: bold; text-align: right;\">Row</th><th style = \"text-align: left;\">common_name</th><th style = \"text-align: left;\">iupac_name</th><th style = \"text-align: left;\">inchi</th><th style = \"text-align: left;\">canonical_smiles</th><th style = \"text-align: left;\">isomeric_smiles</th><th style = \"text-align: left;\">cas</th><th style = \"text-align: left;\">family</th><th style = \"text-align: left;\">molarweight</th><th style = \"text-align: left;\">m</th><th style = \"text-align: left;\">sigma</th><th style = \"text-align: left;\">epsilon_k</th><th style = \"text-align: left;\">mu</th><th style = \"text-align: left;\">kappa_ab</th><th style = \"text-align: left;\">epsilon_k_ab</th><th style = \"text-align: left;\">na</th><th style = \"text-align: left;\">nb</th><th style = \"text-align: left;\">mard_psat</th><th style = \"text-align: left;\">t_min_psat</th><th style = \"text-align: left;\">t_max_psat</th><th style = \"text-align: left;\">points_psat</th><th style = \"text-align: left;\">mard_psat_incl_outlier</th><th style = \"text-align: left;\">points_psat_incl_outlier</th><th style = \"text-align: left;\">mard_density</th><th style = \"text-align: left;\">t_min_density</th><th style = \"text-align: left;\">t_max_density</th><th style = \"text-align: left;\">points_density_liquid</th><th style = \"text-align: left;\">mard_density_liquid_single_phase</th><th style = \"text-align: left;\">points_density_liquid_single_phase</th><th style = \"text-align: left;\">mard_density_equi</th><th style = \"text-align: left;\">points_density_equi</th><th style = \"text-align: left;\">mard_density_vapor</th><th style = \"text-align: left;\">points_density_vapor</th><th style = \"text-align: left;\">opt</th><th style = \"text-align: left;\">bounds_violation</th></tr><tr class = \"subheader headerLastRow\"><th class = \"rowNumber\" style = \"font-weight: bold; text-align: right;\"></th><th title = \"String\" style = \"text-align: left;\">String</th><th title = \"Union{Missing, String}\" style = \"text-align: left;\">String?</th><th title = \"String\" style = \"text-align: left;\">String</th><th title = \"String\" style = \"text-align: left;\">String</th><th title = \"String\" style = \"text-align: left;\">String</th><th title = \"String15\" style = \"text-align: left;\">String15</th><th title = \"String31\" style = \"text-align: left;\">String31</th><th title = \"Float64\" style = \"text-align: left;\">Float64</th><th title = \"Float64\" style = \"text-align: left;\">Float64</th><th title = \"Float64\" style = \"text-align: left;\">Float64</th><th title = \"Float64\" style = \"text-align: left;\">Float64</th><th title = \"Float64\" style = \"text-align: left;\">Float64</th><th title = \"Float64\" style = \"text-align: left;\">Float64</th><th title = \"Float64\" style = \"text-align: left;\">Float64</th><th title = \"Int64\" style = \"text-align: left;\">Int64</th><th title = \"Int64\" style = \"text-align: left;\">Int64</th><th title = \"Float64\" style = \"text-align: left;\">Float64</th><th title = \"Float64\" style = \"text-align: left;\">Float64</th><th title = \"Float64\" style = \"text-align: left;\">Float64</th><th title = \"Int64\" style = \"text-align: left;\">Int64</th><th title = \"Float64\" style = \"text-align: left;\">Float64</th><th title = \"Int64\" style = \"text-align: left;\">Int64</th><th title = \"Float64\" style = \"text-align: left;\">Float64</th><th title = \"Float64\" style = \"text-align: left;\">Float64</th><th title = \"Float64\" style = \"text-align: left;\">Float64</th><th title = \"Int64\" style = \"text-align: left;\">Int64</th><th title = \"Union{Missing, Float64}\" style = \"text-align: left;\">Float64?</th><th title = \"Union{Missing, Float64}\" style = \"text-align: left;\">Float64?</th><th title = \"Union{Missing, Float64}\" style = \"text-align: left;\">Float64?</th><th title = \"Union{Missing, Float64}\" style = \"text-align: left;\">Float64?</th><th title = \"Union{Missing, Float64}\" style = \"text-align: left;\">Float64?</th><th title = \"Union{Missing, Float64}\" style = \"text-align: left;\">Float64?</th><th title = \"String15\" style = \"text-align: left;\">String15</th><th title = \"String\" style = \"text-align: left;\">String</th></tr></thead><tbody><tr><td class = \"rowNumber\" style = \"font-weight: bold; text-align: right;\">1</td><td style = \"text-align: left;\">acetaldehyde</td><td style = \"text-align: left;\">acetaldehyde</td><td style = \"text-align: left;\">InChI=1S/C2H4O/c1-2-3/h2H,1H3</td><td style = \"text-align: left;\">CC=O</td><td style = \"text-align: left;\">CC=O</td><td style = \"text-align: left;\">75-07-0</td><td style = \"text-align: left;\">Aldehydes</td><td style = \"text-align: right;\">44.026</td><td style = \"text-align: right;\">2.14028</td><td style = \"text-align: right;\">3.22662</td><td style = \"text-align: right;\">227.621</td><td style = \"text-align: right;\">2.69</td><td style = \"text-align: right;\">0.0</td><td style = \"text-align: right;\">0.0</td><td style = \"text-align: right;\">1</td><td style = \"text-align: right;\">0</td><td style = \"text-align: right;\">2.84</td><td style = \"text-align: right;\">225.15</td><td style = \"text-align: right;\">382.9</td><td style = \"text-align: right;\">197</td><td style = \"text-align: right;\">4.5</td><td style = \"text-align: right;\">207</td><td style = \"text-align: right;\">0.28</td><td style = \"text-align: right;\">253.15</td><td style = \"text-align: right;\">323.15</td><td style = \"text-align: right;\">87</td><td style = \"text-align: right;\">0.27</td><td style = \"text-align: right;\">74.0</td><td style = \"text-align: right;\">0.31</td><td style = \"text-align: right;\">13.0</td><td style = \"font-style: italic; text-align: right;\">missing</td><td style = \"font-style: italic; text-align: right;\">missing</td><td style = \"text-align: left;\">DIPOLAR</td><td style = \"text-align: left;\">OK</td></tr><tr><td class = \"rowNumber\" style = \"font-weight: bold; text-align: right;\">2</td><td style = \"text-align: left;\">acetamide</td><td style = \"text-align: left;\">acetamide</td><td style = \"text-align: left;\">InChI=1S/C2H5NO/c1-2(3)4/h1H3,(H2,3,4)</td><td style = \"text-align: left;\">CC(=N)O</td><td style = \"text-align: left;\">CC(=N)O</td><td style = \"text-align: left;\">60-35-5</td><td style = \"text-align: left;\">Amines</td><td style = \"text-align: right;\">59.037</td><td style = \"text-align: right;\">2.82648</td><td style = \"text-align: right;\">3.12045</td><td style = \"text-align: right;\">377.672</td><td style = \"text-align: right;\">0.0</td><td style = \"text-align: right;\">0.01458</td><td style = \"text-align: right;\">1624.89</td><td style = \"text-align: right;\">1</td><td style = \"text-align: right;\">2</td><td style = \"text-align: right;\">1.35</td><td style = \"text-align: right;\">355.59</td><td style = \"text-align: right;\">495.15</td><td style = \"text-align: right;\">24</td><td style = \"text-align: right;\">1.9</td><td style = \"text-align: right;\">25</td><td style = \"text-align: right;\">1.04</td><td style = \"text-align: right;\">353.15</td><td style = \"text-align: right;\">463.5</td><td style = \"text-align: right;\">19</td><td style = \"text-align: right;\">1.04</td><td style = \"text-align: right;\">19.0</td><td style = \"font-style: italic; text-align: right;\">missing</td><td style = \"font-style: italic; text-align: right;\">missing</td><td style = \"font-style: italic; text-align: right;\">missing</td><td style = \"font-style: italic; text-align: right;\">missing</td><td style = \"text-align: left;\">ASSOCIATIVE</td><td style = \"text-align: left;\">OK</td></tr><tr><td class = \"rowNumber\" style = \"font-weight: bold; text-align: right;\">3</td><td style = \"text-align: left;\">acetonitrile</td><td style = \"text-align: left;\">acetonitrile</td><td style = \"text-align: left;\">InChI=1S/C2H3N/c1-2-3/h1H3</td><td style = \"text-align: left;\">CC#N</td><td style = \"text-align: left;\">CC#N</td><td style = \"text-align: left;\">75-05-8</td><td style = \"text-align: left;\">Nitriles</td><td style = \"text-align: right;\">41.027</td><td style = \"text-align: right;\">2.32567</td><td style = \"text-align: right;\">3.16425</td><td style = \"text-align: right;\">207.704</td><td style = \"text-align: right;\">3.92</td><td style = \"text-align: right;\">0.0</td><td style = \"text-align: right;\">0.0</td><td style = \"text-align: right;\">1</td><td style = \"text-align: right;\">0</td><td style = \"text-align: right;\">1.98</td><td style = \"text-align: right;\">273.15</td><td style = \"text-align: right;\">535.032</td><td style = \"text-align: right;\">846</td><td style = \"text-align: right;\">2.18</td><td style = \"text-align: right;\">852</td><td style = \"text-align: right;\">1.45</td><td style = \"text-align: right;\">228.15</td><td style = \"text-align: right;\">513.26</td><td style = \"text-align: right;\">1426</td><td style = \"text-align: right;\">1.47</td><td style = \"text-align: right;\">1377.0</td><td style = \"text-align: right;\">0.79</td><td style = \"text-align: right;\">49.0</td><td style = \"text-align: right;\">6.63</td><td style = \"text-align: right;\">106.0</td><td style = \"text-align: left;\">DIPOLAR</td><td style = \"text-align: left;\">OK</td></tr><tr><td class = \"rowNumber\" style = \"font-weight: bold; text-align: right;\">4</td><td style = \"text-align: left;\">acetone</td><td style = \"text-align: left;\">propan-2-one</td><td style = \"text-align: left;\">InChI=1S/C3H6O/c1-3(2)4/h1-2H3</td><td style = \"text-align: left;\">CC(C)=O</td><td style = \"text-align: left;\">CC(C)=O</td><td style = \"text-align: left;\">67-64-1</td><td style = \"text-align: left;\">Ketones</td><td style = \"text-align: right;\">58.042</td><td style = \"text-align: right;\">2.78618</td><td style = \"text-align: right;\">3.24884</td><td style = \"text-align: right;\">231.118</td><td style = \"text-align: right;\">2.88</td><td style = \"text-align: right;\">0.0</td><td style = \"text-align: right;\">0.0</td><td style = \"text-align: right;\">1</td><td style = \"text-align: right;\">0</td><td style = \"text-align: right;\">0.96</td><td style = \"text-align: right;\">197.15</td><td style = \"text-align: right;\">508.65</td><td style = \"text-align: right;\">1619</td><td style = \"text-align: right;\">2.41</td><td style = \"text-align: right;\">1666</td><td style = \"text-align: right;\">0.63</td><td style = \"text-align: right;\">178.0</td><td style = \"text-align: right;\">480.86</td><td style = \"text-align: right;\">1943</td><td style = \"text-align: right;\">0.63</td><td style = \"text-align: right;\">1906.0</td><td style = \"text-align: right;\">0.63</td><td style = \"text-align: right;\">37.0</td><td style = \"text-align: right;\">4.06</td><td style = \"text-align: right;\">443.0</td><td style = \"text-align: left;\">DIPOLAR</td><td style = \"text-align: left;\">OK</td></tr><tr><td class = \"rowNumber\" style = \"font-weight: bold; text-align: right;\">5</td><td style = \"text-align: left;\">ethylenediamine</td><td style = \"text-align: left;\">ethane-1,2-diamine</td><td style = \"text-align: left;\">InChI=1S/C2H8N2/c3-1-2-4/h1-4H2</td><td style = \"text-align: left;\">NCCN</td><td style = \"text-align: left;\">NCCN</td><td style = \"text-align: left;\">107-15-3</td><td style = \"text-align: left;\">Amines</td><td style = \"text-align: right;\">60.069</td><td style = \"text-align: right;\">3.97041</td><td style = \"text-align: right;\">2.82526</td><td style = \"text-align: right;\">251.777</td><td style = \"text-align: right;\">0.0</td><td style = \"text-align: right;\">0.00021</td><td style = \"text-align: right;\">1045.0</td><td style = \"text-align: right;\">2</td><td style = \"text-align: right;\">2</td><td style = \"text-align: right;\">1.73</td><td style = \"text-align: right;\">284.65</td><td style = \"text-align: right;\">486.65</td><td style = \"text-align: right;\">193</td><td style = \"text-align: right;\">12.49</td><td style = \"text-align: right;\">235</td><td style = \"text-align: right;\">0.15</td><td style = \"text-align: right;\">273.15</td><td style = \"text-align: right;\">389.85</td><td style = \"text-align: right;\">390</td><td style = \"text-align: right;\">0.15</td><td style = \"text-align: right;\">390.0</td><td style = \"font-style: italic; text-align: right;\">missing</td><td style = \"font-style: italic; text-align: right;\">missing</td><td style = \"font-style: italic; text-align: right;\">missing</td><td style = \"font-style: italic; text-align: right;\">missing</td><td style = \"text-align: left;\">ASSOCIATIVE</td><td style = \"text-align: left;\">OK</td></tr><tr><td class = \"rowNumber\" style = \"font-weight: bold; text-align: right;\">6</td><td style = \"text-align: left;\">1,2-dibromoethane</td><td style = \"text-align: left;\">1,2-dibromoethane</td><td style = \"text-align: left;\">InChI=1S/C2H4Br2/c3-1-2-4/h1-2H2</td><td style = \"text-align: left;\">BrCCBr</td><td style = \"text-align: left;\">BrCCBr</td><td style = \"text-align: left;\">106-93-4</td><td style = \"text-align: left;\">Halogenated compounds</td><td style = \"text-align: right;\">185.868</td><td style = \"text-align: right;\">2.59098</td><td style = \"text-align: right;\">3.5717</td><td style = \"text-align: right;\">323.703</td><td style = \"text-align: right;\">1.0</td><td style = \"text-align: right;\">0.0</td><td style = \"text-align: right;\">0.0</td><td style = \"text-align: right;\">0</td><td style = \"text-align: right;\">0</td><td style = \"text-align: right;\">1.54</td><td style = \"text-align: right;\">283.15</td><td style = \"text-align: right;\">405.8</td><td style = \"text-align: right;\">129</td><td style = \"text-align: right;\">2.26</td><td style = \"text-align: right;\">134</td><td style = \"text-align: right;\">0.15</td><td style = \"text-align: right;\">283.65</td><td style = \"text-align: right;\">372.15</td><td style = \"text-align: right;\">69</td><td style = \"text-align: right;\">0.15</td><td style = \"text-align: right;\">69.0</td><td style = \"font-style: italic; text-align: right;\">missing</td><td style = \"font-style: italic; text-align: right;\">missing</td><td style = \"font-style: italic; text-align: right;\">missing</td><td style = \"font-style: italic; text-align: right;\">missing</td><td style = \"text-align: left;\">DIPOLAR</td><td style = \"text-align: left;\">OK</td></tr><tr><td class = \"rowNumber\" style = \"font-weight: bold; text-align: right;\">7</td><td style = \"text-align: left;\">ethyl bromide</td><td style = \"text-align: left;\">bromoethane</td><td style = \"text-align: left;\">InChI=1S/C2H5Br/c1-2-3/h2H2,1H3</td><td style = \"text-align: left;\">CCBr</td><td style = \"text-align: left;\">CCBr</td><td style = \"text-align: left;\">74-96-4</td><td style = \"text-align: left;\">Halogenated compounds</td><td style = \"text-align: right;\">107.957</td><td style = \"text-align: right;\">2.16801</td><td style = \"text-align: right;\">3.52926</td><td style = \"text-align: right;\">266.03</td><td style = \"text-align: right;\">2.03</td><td style = \"text-align: right;\">0.0</td><td style = \"text-align: right;\">0.0</td><td style = \"text-align: right;\">0</td><td style = \"text-align: right;\">0</td><td style = \"text-align: right;\">1.77</td><td style = \"text-align: right;\">218.0</td><td style = \"text-align: right;\">503.0</td><td style = \"text-align: right;\">172</td><td style = \"text-align: right;\">2.98</td><td style = \"text-align: right;\">176</td><td style = \"text-align: right;\">0.65</td><td style = \"text-align: right;\">161.55</td><td style = \"text-align: right;\">473.0</td><td style = \"text-align: right;\">216</td><td style = \"text-align: right;\">0.67</td><td style = \"text-align: right;\">204.0</td><td style = \"text-align: right;\">0.22</td><td style = \"text-align: right;\">12.0</td><td style = \"font-style: italic; text-align: right;\">missing</td><td style = \"font-style: italic; text-align: right;\">missing</td><td style = \"text-align: left;\">DIPOLAR</td><td style = \"text-align: left;\">OK</td></tr><tr><td class = \"rowNumber\" style = \"font-weight: bold; text-align: right;\">8</td><td style = \"text-align: left;\">1,2-ethanediol</td><td style = \"text-align: left;\">ethane-1,2-diol</td><td style = \"text-align: left;\">InChI=1S/C2H6O2/c3-1-2-4/h3-4H,1-2H2</td><td style = \"text-align: left;\">OCCO</td><td style = \"text-align: left;\">OCCO</td><td style = \"text-align: left;\">107-21-1</td><td style = \"text-align: left;\">Alcohols</td><td style = \"text-align: right;\">62.037</td><td style = \"text-align: right;\">1.71084</td><td style = \"text-align: right;\">3.73481</td><td style = \"text-align: right;\">354.183</td><td style = \"text-align: right;\">0.0</td><td style = \"text-align: right;\">0.01627</td><td style = \"text-align: right;\">2120.08</td><td style = \"text-align: right;\">2</td><td style = \"text-align: right;\">2</td><td style = \"text-align: right;\">2.16</td><td style = \"text-align: right;\">278.3</td><td style = \"text-align: right;\">570.35</td><td style = \"text-align: right;\">553</td><td style = \"text-align: right;\">5.1</td><td style = \"text-align: right;\">630</td><td style = \"text-align: right;\">2.67</td><td style = \"text-align: right;\">250.2</td><td style = \"text-align: right;\">473.15</td><td style = \"text-align: right;\">1429</td><td style = \"text-align: right;\">2.67</td><td style = \"text-align: right;\">1428.0</td><td style = \"text-align: right;\">0.0</td><td style = \"text-align: right;\">1.0</td><td style = \"font-style: italic; text-align: right;\">missing</td><td style = \"font-style: italic; text-align: right;\">missing</td><td style = \"text-align: left;\">ASSOCIATIVE</td><td style = \"text-align: left;\">OK</td></tr><tr><td class = \"rowNumber\" style = \"font-weight: bold; text-align: right;\">9</td><td style = \"text-align: left;\">ethyl iodide</td><td style = \"text-align: left;\">iodoethane</td><td style = \"text-align: left;\">InChI=1S/C2H5I/c1-2-3/h2H2,1H3</td><td style = \"text-align: left;\">CCI</td><td style = \"text-align: left;\">CCI</td><td style = \"text-align: left;\">75-03-6</td><td style = \"text-align: left;\">Halogenated compounds</td><td style = \"text-align: right;\">155.944</td><td style = \"text-align: right;\">1.94206</td><td style = \"text-align: right;\">3.82267</td><td style = \"text-align: right;\">319.639</td><td style = \"text-align: right;\">1.91</td><td style = \"text-align: right;\">0.0</td><td style = \"text-align: right;\">0.0</td><td style = \"text-align: right;\">0</td><td style = \"text-align: right;\">0</td><td style = \"text-align: right;\">1.82</td><td style = \"text-align: right;\">173.0</td><td style = \"text-align: right;\">398.15</td><td style = \"text-align: right;\">168</td><td style = \"text-align: right;\">2.92</td><td style = \"text-align: right;\">174</td><td style = \"text-align: right;\">0.22</td><td style = \"text-align: right;\">183.15</td><td style = \"text-align: right;\">343.15</td><td style = \"text-align: right;\">81</td><td style = \"text-align: right;\">0.22</td><td style = \"text-align: right;\">81.0</td><td style = \"font-style: italic; text-align: right;\">missing</td><td style = \"font-style: italic; text-align: right;\">missing</td><td style = \"font-style: italic; text-align: right;\">missing</td><td style = \"font-style: italic; text-align: right;\">missing</td><td style = \"text-align: left;\">DIPOLAR</td><td style = \"text-align: left;\">OK</td></tr><tr><td class = \"rowNumber\" style = \"font-weight: bold; text-align: right;\">10</td><td style = \"text-align: left;\">ethanol</td><td style = \"text-align: left;\">ethanol</td><td style = \"text-align: left;\">InChI=1S/C2H6O/c1-2-3/h3H,2H2,1H3</td><td style = \"text-align: left;\">CCO</td><td style = \"text-align: left;\">CCO</td><td style = \"text-align: left;\">64-17-5</td><td style = \"text-align: left;\">Alcohols</td><td style = \"text-align: right;\">46.042</td><td style = \"text-align: right;\">2.8866</td><td style = \"text-align: right;\">2.95772</td><td style = \"text-align: right;\">187.26</td><td style = \"text-align: right;\">0.0</td><td style = \"text-align: right;\">0.05533</td><td style = \"text-align: right;\">2462.31</td><td style = \"text-align: right;\">1</td><td style = \"text-align: right;\">1</td><td style = \"text-align: right;\">0.96</td><td style = \"text-align: right;\">217.25</td><td style = \"text-align: right;\">518.35</td><td style = \"text-align: right;\">3317</td><td style = \"text-align: right;\">1.38</td><td style = \"text-align: right;\">3376</td><td style = \"text-align: right;\">0.41</td><td style = \"text-align: right;\">159.15</td><td style = \"text-align: right;\">489.15</td><td style = \"text-align: right;\">4699</td><td style = \"text-align: right;\">0.41</td><td style = \"text-align: right;\">4627.0</td><td style = \"text-align: right;\">0.45</td><td style = \"text-align: right;\">72.0</td><td style = \"text-align: right;\">3.11</td><td style = \"text-align: right;\">701.0</td><td style = \"text-align: left;\">ASSOCIATIVE</td><td style = \"text-align: left;\">OK</td></tr><tr><td class = \"rowNumber\" style = \"font-weight: bold; text-align: right;\">11</td><td style = \"text-align: left;\">diethyl ether</td><td style = \"text-align: left;\">ethoxyethane</td><td style = \"text-align: left;\">InChI=1S/C4H10O/c1-3-5-4-2/h3-4H2,1-2H3</td><td style = \"text-align: left;\">CCOCC</td><td style = \"text-align: left;\">CCOCC</td><td style = \"text-align: left;\">60-29-7</td><td style = \"text-align: left;\">Ethers</td><td style = \"text-align: right;\">74.073</td><td style = \"text-align: right;\">2.97883</td><td style = \"text-align: right;\">3.50108</td><td style = \"text-align: right;\">219.433</td><td style = \"text-align: right;\">1.15</td><td style = \"text-align: right;\">0.0</td><td style = \"text-align: right;\">0.0</td><td style = \"text-align: right;\">1</td><td style = \"text-align: right;\">0</td><td style = \"text-align: right;\">1.26</td><td style = \"text-align: right;\">171.55</td><td style = \"text-align: right;\">467.05</td><td style = \"text-align: right;\">558</td><td style = \"text-align: right;\">2.27</td><td style = \"text-align: right;\">580</td><td style = \"text-align: right;\">0.55</td><td style = \"text-align: right;\">198.15</td><td style = \"text-align: right;\">443.15</td><td style = \"text-align: right;\">431</td><td style = \"text-align: right;\">0.57</td><td style = \"text-align: right;\">396.0</td><td style = \"text-align: right;\">0.29</td><td style = \"text-align: right;\">35.0</td><td style = \"text-align: right;\">46.43</td><td style = \"text-align: right;\">1229.0</td><td style = \"text-align: left;\">DIPOLAR</td><td style = \"text-align: left;\">OK</td></tr><tr><td class = \"rowNumber\" style = \"font-weight: bold; text-align: right;\">12</td><td style = \"text-align: left;\">ethylene oxide</td><td style = \"text-align: left;\">oxirane</td><td style = \"text-align: left;\">InChI=1S/C2H4O/c1-2-3-1/h1-2H2</td><td style = \"text-align: left;\">C1CO1</td><td style = \"text-align: left;\">C1CO1</td><td style = \"text-align: left;\">75-21-8</td><td style = \"text-align: left;\">Cyclic compounds</td><td style = \"text-align: right;\">44.026</td><td style = \"text-align: right;\">2.1985</td><td style = \"text-align: right;\">3.06558</td><td style = \"text-align: right;\">241.373</td><td style = \"text-align: right;\">1.89</td><td style = \"text-align: right;\">0.0</td><td style = \"text-align: right;\">0.0</td><td style = \"text-align: right;\">1</td><td style = \"text-align: right;\">0</td><td style = \"text-align: right;\">1.38</td><td style = \"text-align: right;\">182.33</td><td style = \"text-align: right;\">468.93</td><td style = \"text-align: right;\">167</td><td style = \"text-align: right;\">1.54</td><td style = \"text-align: right;\">169</td><td style = \"text-align: right;\">0.49</td><td style = \"text-align: right;\">222.05</td><td style = \"text-align: right;\">444.26</td><td style = \"text-align: right;\">73</td><td style = \"text-align: right;\">0.08</td><td style = \"text-align: right;\">23.0</td><td style = \"text-align: right;\">0.68</td><td style = \"text-align: right;\">50.0</td><td style = \"text-align: right;\">1.92</td><td style = \"text-align: right;\">94.0</td><td style = \"text-align: left;\">DIPOLAR</td><td style = \"text-align: left;\">OK</td></tr><tr><td class = \"rowNumber\" style = \"font-weight: bold; text-align: right;\">13</td><td style = \"text-align: left;\">2-propen-1-ol</td><td style = \"text-align: left;\">prop-2-en-1-ol</td><td style = \"text-align: left;\">InChI=1S/C3H6O/c1-2-3-4/h2,4H,1,3H2</td><td style = \"text-align: left;\">C=CCO</td><td style = \"text-align: left;\">C=CCO</td><td style = \"text-align: left;\">107-18-6</td><td style = \"text-align: left;\">Alcohols</td><td style = \"text-align: right;\">58.042</td><td style = \"text-align: right;\">2.75718</td><td style = \"text-align: right;\">3.22309</td><td style = \"text-align: right;\">233.446</td><td style = \"text-align: right;\">0.0</td><td style = \"text-align: right;\">0.04087</td><td style = \"text-align: right;\">2121.43</td><td style = \"text-align: right;\">1</td><td style = \"text-align: right;\">1</td><td style = \"text-align: right;\">1.57</td><td style = \"text-align: right;\">273.15</td><td style = \"text-align: right;\">546.5</td><td style = \"text-align: right;\">228</td><td style = \"text-align: right;\">2.18</td><td style = \"text-align: right;\">235</td><td style = \"text-align: right;\">0.18</td><td style = \"text-align: right;\">193.07</td><td style = \"text-align: right;\">334.15</td><td style = \"text-align: right;\">54</td><td style = \"text-align: right;\">0.18</td><td style = \"text-align: right;\">54.0</td><td style = \"font-style: italic; text-align: right;\">missing</td><td style = \"font-style: italic; text-align: right;\">missing</td><td style = \"font-style: italic; text-align: right;\">missing</td><td style = \"font-style: italic; text-align: right;\">missing</td><td style = \"text-align: left;\">ASSOCIATIVE</td><td style = \"text-align: left;\">OK</td></tr><tr><td style = \"text-align: right;\">&vellip;</td><td style = \"text-align: right;\">&vellip;</td><td style = \"text-align: right;\">&vellip;</td><td style = \"text-align: right;\">&vellip;</td><td style = \"text-align: right;\">&vellip;</td><td style = \"text-align: right;\">&vellip;</td><td style = \"text-align: right;\">&vellip;</td><td style = \"text-align: right;\">&vellip;</td><td style = \"text-align: right;\">&vellip;</td><td style = \"text-align: right;\">&vellip;</td><td style = \"text-align: right;\">&vellip;</td><td style = \"text-align: right;\">&vellip;</td><td style = \"text-align: right;\">&vellip;</td><td style = \"text-align: right;\">&vellip;</td><td style = \"text-align: right;\">&vellip;</td><td style = \"text-align: right;\">&vellip;</td><td style = \"text-align: right;\">&vellip;</td><td style = \"text-align: right;\">&vellip;</td><td style = \"text-align: right;\">&vellip;</td><td style = \"text-align: right;\">&vellip;</td><td style = \"text-align: right;\">&vellip;</td><td style = \"text-align: right;\">&vellip;</td><td style = \"text-align: right;\">&vellip;</td><td style = \"text-align: right;\">&vellip;</td><td style = \"text-align: right;\">&vellip;</td><td style = \"text-align: right;\">&vellip;</td><td style = \"text-align: right;\">&vellip;</td><td style = \"text-align: right;\">&vellip;</td><td style = \"text-align: right;\">&vellip;</td><td style = \"text-align: right;\">&vellip;</td><td style = \"text-align: right;\">&vellip;</td><td style = \"text-align: right;\">&vellip;</td><td style = \"text-align: right;\">&vellip;</td><td style = \"text-align: right;\">&vellip;</td><td style = \"text-align: right;\">&vellip;</td></tr><tr><td class = \"rowNumber\" style = \"font-weight: bold; text-align: right;\">1831</td><td style = \"text-align: left;\">trans-isoeugenol</td><td style = \"text-align: left;\">2-methoxy-4-[(e)-prop-1-enyl]phenol</td><td style = \"text-align: left;\">InChI=1S/C10H12O2/c1-3-4-8-5-6-9(11)10(7-8)12-2/h3-7,11H,1-2H3/b4-3+</td><td style = \"text-align: left;\">CC=Cc1ccc(O)c(OC)c1</td><td style = \"text-align: left;\">C/C=C/c1ccc(O)c(OC)c1</td><td style = \"text-align: left;\">5932-68-3</td><td style = \"text-align: left;\">Polyfunctional compounds</td><td style = \"text-align: right;\">164.084</td><td style = \"text-align: right;\">2.50019</td><td style = \"text-align: right;\">4.5</td><td style = \"text-align: right;\">380.259</td><td style = \"text-align: right;\">0.0</td><td style = \"text-align: right;\">0.00803</td><td style = \"text-align: right;\">2599.72</td><td style = \"text-align: right;\">2</td><td style = \"text-align: right;\">1</td><td style = \"text-align: right;\">3.11</td><td style = \"text-align: right;\">313.2</td><td style = \"text-align: right;\">540.65</td><td style = \"text-align: right;\">57</td><td style = \"text-align: right;\">31.77</td><td style = \"text-align: right;\">72</td><td style = \"text-align: right;\">0.27</td><td style = \"text-align: right;\">291.15</td><td style = \"text-align: right;\">300.65</td><td style = \"text-align: right;\">7</td><td style = \"text-align: right;\">0.27</td><td style = \"text-align: right;\">7.0</td><td style = \"font-style: italic; text-align: right;\">missing</td><td style = \"font-style: italic; text-align: right;\">missing</td><td style = \"text-align: right;\">missing</td><td style = \"text-align: right;\">missing</td><td style = \"text-align: left;\">ASSOCIATIVE</td><td style = \"text-align: left;\">sigma: higher</td></tr><tr><td class = \"rowNumber\" style = \"font-weight: bold; text-align: right;\">1832</td><td style = \"text-align: left;\">7-methyl-1,5,7-triazabicyclo[4.4.0]dec-5-ene</td><td style = \"text-align: left;\">1-methyl-2,3,4,6,7,8-hexahydropyrimido[1,2-a]pyrimidine</td><td style = \"text-align: left;\">InChI=1S/C8H15N3/c1-10-5-3-7-11-6-2-4-9-8(10)11/h2-7H2,1H3</td><td style = \"text-align: left;\">CN1CCCN2CCCN=C12</td><td style = \"text-align: left;\">CN1CCCN2CCCN=C12</td><td style = \"text-align: left;\">84030-20-6</td><td style = \"text-align: left;\">Other compounds</td><td style = \"text-align: right;\">153.127</td><td style = \"text-align: right;\">4.12404</td><td style = \"text-align: right;\">3.6836</td><td style = \"text-align: right;\">323.829</td><td style = \"text-align: right;\">0.0</td><td style = \"text-align: right;\">0.0</td><td style = \"text-align: right;\">0.0</td><td style = \"text-align: right;\">3</td><td style = \"text-align: right;\">0</td><td style = \"text-align: right;\">2.28</td><td style = \"text-align: right;\">318.23</td><td style = \"text-align: right;\">451.2</td><td style = \"text-align: right;\">21</td><td style = \"text-align: right;\">2.28</td><td style = \"text-align: right;\">21</td><td style = \"text-align: right;\">0.24</td><td style = \"text-align: right;\">293.15</td><td style = \"text-align: right;\">473.15</td><td style = \"text-align: right;\">90</td><td style = \"text-align: right;\">0.24</td><td style = \"text-align: right;\">90.0</td><td style = \"text-align: right;\">missing</td><td style = \"text-align: right;\">missing</td><td style = \"text-align: right;\">missing</td><td style = \"text-align: right;\">missing</td><td style = \"text-align: left;\">NONPOLAR</td><td style = \"text-align: left;\">OK</td></tr><tr><td class = \"rowNumber\" style = \"font-weight: bold; text-align: right;\">1833</td><td style = \"text-align: left;\">nonylphenols (mixture of isomeres)</td><td style = \"text-align: left;\">2-nonylphenol</td><td style = \"text-align: left;\">InChI=1S/C15H24O/c1-11(2)9-12(3)10-13(4)14-5-7-15(16)8-6-14/h5-8,11-13,16H,9-10H2,1-4H3</td><td style = \"text-align: left;\">CC(C)CC(C)CC(C)c1ccc(O)cc1</td><td style = \"text-align: left;\">CC(C)CC(C)CC(C)c1ccc(O)cc1</td><td style = \"text-align: left;\">25154-52-3</td><td style = \"text-align: left;\">Aromatic hydrocarbons</td><td style = \"text-align: right;\">220.183</td><td style = \"text-align: right;\">4.39731</td><td style = \"text-align: right;\">4.24914</td><td style = \"text-align: right;\">334.036</td><td style = \"text-align: right;\">0.0</td><td style = \"text-align: right;\">0.0001</td><td style = \"text-align: right;\">200.0</td><td style = \"text-align: right;\">1</td><td style = \"text-align: right;\">1</td><td style = \"text-align: right;\">5.34</td><td style = \"text-align: right;\">436.15</td><td style = \"text-align: right;\">594.96</td><td style = \"text-align: right;\">16</td><td style = \"text-align: right;\">8.8</td><td style = \"text-align: right;\">19</td><td style = \"text-align: right;\">0.63</td><td style = \"text-align: right;\">293.15</td><td style = \"text-align: right;\">423.15</td><td style = \"text-align: right;\">13</td><td style = \"text-align: right;\">0.63</td><td style = \"text-align: right;\">13.0</td><td style = \"text-align: right;\">missing</td><td style = \"text-align: right;\">missing</td><td style = \"font-style: italic; text-align: right;\">missing</td><td style = \"font-style: italic; text-align: right;\">missing</td><td style = \"text-align: left;\">ASSOCIATIVE</td><td style = \"text-align: left;\">kappa_ab: lower, epsilon_k_ab: lower</td></tr><tr><td class = \"rowNumber\" style = \"font-weight: bold; text-align: right;\">1834</td><td style = \"text-align: left;\">(z)-1-chloro-2,3,3,3-tetrafluoropropene</td><td style = \"text-align: left;\">(z)-1-chloro-2,3,3,3-tetrafluoroprop-1-ene</td><td style = \"text-align: left;\">InChI=1S/C3HClF4/c4-1-2(5)3(6,7)8/h1H/b2-1-</td><td style = \"text-align: left;\">FC(=CCl)C(F)(F)F</td><td style = \"text-align: left;\">F/C(=C\\\\Cl)C(F)(F)F</td><td style = \"text-align: left;\">111512-60-8</td><td style = \"text-align: left;\">Other compounds</td><td style = \"text-align: right;\">147.97</td><td style = \"text-align: right;\">3.57688</td><td style = \"text-align: right;\">3.2949</td><td style = \"text-align: right;\">185.337</td><td style = \"text-align: right;\">0.0</td><td style = \"text-align: right;\">0.0</td><td style = \"text-align: right;\">0.0</td><td style = \"text-align: right;\">0</td><td style = \"text-align: right;\">0</td><td style = \"text-align: right;\">2.12</td><td style = \"text-align: right;\">293.15</td><td style = \"text-align: right;\">427.42</td><td style = \"text-align: right;\">167</td><td style = \"text-align: right;\">2.12</td><td style = \"text-align: right;\">167</td><td style = \"text-align: right;\">3.18</td><td style = \"text-align: right;\">283.14</td><td style = \"text-align: right;\">429.02</td><td style = \"text-align: right;\">132</td><td style = \"text-align: right;\">2.96</td><td style = \"text-align: right;\">114.0</td><td style = \"font-style: italic; text-align: right;\">4.61</td><td style = \"font-style: italic; text-align: right;\">18.0</td><td style = \"font-style: italic; text-align: right;\">2.88</td><td style = \"font-style: italic; text-align: right;\">62.0</td><td style = \"text-align: left;\">NONPOLAR</td><td style = \"text-align: left;\">OK</td></tr><tr><td class = \"rowNumber\" style = \"font-weight: bold; text-align: right;\">1835</td><td style = \"text-align: left;\">vinylethylene carbonate</td><td style = \"text-align: left;\">4-ethenyl-1,3-dioxolan-2-one</td><td style = \"text-align: left;\">InChI=1S/C5H6O3/c1-2-4-3-7-5(6)8-4/h2,4H,1,3H2</td><td style = \"text-align: left;\">C=CC1COC(=O)O1</td><td style = \"text-align: left;\">C=CC1COC(=O)O1</td><td style = \"text-align: left;\">4427-96-7</td><td style = \"text-align: left;\">Other compounds</td><td style = \"text-align: right;\">114.032</td><td style = \"text-align: right;\">4.8871</td><td style = \"text-align: right;\">3.03148</td><td style = \"text-align: right;\">292.571</td><td style = \"text-align: right;\">0.0</td><td style = \"text-align: right;\">0.0</td><td style = \"text-align: right;\">0.0</td><td style = \"text-align: right;\">3</td><td style = \"text-align: right;\">0</td><td style = \"text-align: right;\">10.18</td><td style = \"text-align: right;\">317.15</td><td style = \"text-align: right;\">510.15</td><td style = \"text-align: right;\">24</td><td style = \"text-align: right;\">11.11</td><td style = \"text-align: right;\">25</td><td style = \"text-align: right;\">0.11</td><td style = \"text-align: right;\">293.15</td><td style = \"text-align: right;\">393.15</td><td style = \"text-align: right;\">8</td><td style = \"text-align: right;\">0.11</td><td style = \"text-align: right;\">8.0</td><td style = \"font-style: italic; text-align: right;\">missing</td><td style = \"font-style: italic; text-align: right;\">missing</td><td style = \"text-align: right;\">missing</td><td style = \"text-align: right;\">missing</td><td style = \"text-align: left;\">NONPOLAR</td><td style = \"text-align: left;\">OK</td></tr><tr><td class = \"rowNumber\" style = \"font-weight: bold; text-align: right;\">1836</td><td style = \"text-align: left;\">2,3-dimethylbenzo[b]thiophene</td><td style = \"text-align: left;\">2,3-dimethyl-1-benzothiophene</td><td style = \"text-align: left;\">InChI=1S/C10H10S/c1-7-8(2)11-10-6-4-3-5-9(7)10/h3-6H,1-2H3</td><td style = \"text-align: left;\">Cc1sc2ccccc2c1C</td><td style = \"text-align: left;\">Cc1sc2ccccc2c1C</td><td style = \"text-align: left;\">4923-91-5</td><td style = \"text-align: left;\">Sulfides/thiophenes</td><td style = \"text-align: right;\">162.05</td><td style = \"text-align: right;\">22.8761</td><td style = \"text-align: right;\">1.98599</td><td style = \"text-align: right;\">146.426</td><td style = \"text-align: right;\">0.0</td><td style = \"text-align: right;\">0.0</td><td style = \"text-align: right;\">0.0</td><td style = \"text-align: right;\">1</td><td style = \"text-align: right;\">0</td><td style = \"text-align: right;\">14.47</td><td style = \"text-align: right;\">349.65</td><td style = \"text-align: right;\">402.65</td><td style = \"text-align: right;\">8</td><td style = \"text-align: right;\">58.81</td><td style = \"text-align: right;\">9</td><td style = \"text-align: right;\">0.9</td><td style = \"text-align: right;\">293.15</td><td style = \"text-align: right;\">298.15</td><td style = \"text-align: right;\">4</td><td style = \"text-align: right;\">0.9</td><td style = \"text-align: right;\">4.0</td><td style = \"font-style: italic; text-align: right;\">missing</td><td style = \"font-style: italic; text-align: right;\">missing</td><td style = \"font-style: italic; text-align: right;\">missing</td><td style = \"font-style: italic; text-align: right;\">missing</td><td style = \"text-align: left;\">NONPOLAR</td><td style = \"text-align: left;\">OK</td></tr><tr><td class = \"rowNumber\" style = \"font-weight: bold; text-align: right;\">1837</td><td style = \"text-align: left;\">2-methyl-2-propenoic acid 3-(trichlorosilyl)propyl ester</td><td style = \"text-align: left;\">3-trichlorosilylpropyl 2-methylprop-2-enoate</td><td style = \"text-align: left;\">InChI=1S/C7H11Cl3O2Si/c1-6(2)7(11)12-4-3-5-13(8,9)10/h1,3-5H2,2H3</td><td style = \"text-align: left;\">C=C(C)C(=O)OCCC[Si](Cl)(Cl)Cl</td><td style = \"text-align: left;\">C=C(C)C(=O)OCCC[Si](Cl)(Cl)Cl</td><td style = \"text-align: left;\">7351-61-3</td><td style = \"text-align: left;\">Silanes/siloxanes</td><td style = \"text-align: right;\">259.959</td><td style = \"text-align: right;\">19.524</td><td style = \"text-align: right;\">2.36654</td><td style = \"text-align: right;\">155.911</td><td style = \"text-align: right;\">0.0</td><td style = \"text-align: right;\">0.0</td><td style = \"text-align: right;\">0.0</td><td style = \"text-align: right;\">2</td><td style = \"text-align: right;\">0</td><td style = \"text-align: right;\">5.15</td><td style = \"text-align: right;\">371.15</td><td style = \"text-align: right;\">433.15</td><td style = \"text-align: right;\">6</td><td style = \"text-align: right;\">20.34</td><td style = \"text-align: right;\">8</td><td style = \"text-align: right;\">0.2</td><td style = \"text-align: right;\">293.15</td><td style = \"text-align: right;\">298.15</td><td style = \"text-align: right;\">3</td><td style = \"text-align: right;\">0.2</td><td style = \"text-align: right;\">3.0</td><td style = \"text-align: right;\">missing</td><td style = \"text-align: right;\">missing</td><td style = \"text-align: right;\">missing</td><td style = \"text-align: right;\">missing</td><td style = \"text-align: left;\">NONPOLAR</td><td style = \"text-align: left;\">OK</td></tr><tr><td class = \"rowNumber\" style = \"font-weight: bold; text-align: right;\">1838</td><td style = \"text-align: left;\">tris(methoxyethoxy)vinylsilane</td><td style = \"text-align: left;\">ethenyl-tris(2-methoxyethoxy)silane</td><td style = \"text-align: left;\">InChI=1S/C11H24O6Si/c1-5-18(15-9-6-12-2,16-10-7-13-3)17-11-8-14-4/h5H,1,6-11H2,2-4H3</td><td style = \"text-align: left;\">C=C[Si](OCCOC)(OCCOC)OCCOC</td><td style = \"text-align: left;\">C=C[Si](OCCOC)(OCCOC)OCCOC</td><td style = \"text-align: left;\">1067-53-4</td><td style = \"text-align: left;\">Silanes/siloxanes</td><td style = \"text-align: right;\">280.134</td><td style = \"text-align: right;\">7.814</td><td style = \"text-align: right;\">3.61399</td><td style = \"text-align: right;\">234.7</td><td style = \"text-align: right;\">0.0</td><td style = \"text-align: right;\">0.0</td><td style = \"text-align: right;\">0.0</td><td style = \"text-align: right;\">6</td><td style = \"text-align: right;\">0</td><td style = \"text-align: right;\">8.72</td><td style = \"text-align: right;\">383.15</td><td style = \"text-align: right;\">557.92</td><td style = \"text-align: right;\">20</td><td style = \"text-align: right;\">14.32</td><td style = \"text-align: right;\">21</td><td style = \"text-align: right;\">0.13</td><td style = \"text-align: right;\">278.15</td><td style = \"text-align: right;\">343.15</td><td style = \"text-align: right;\">11</td><td style = \"text-align: right;\">0.13</td><td style = \"text-align: right;\">11.0</td><td style = \"text-align: right;\">missing</td><td style = \"text-align: right;\">missing</td><td style = \"font-style: italic; text-align: right;\">missing</td><td style = \"font-style: italic; text-align: right;\">missing</td><td style = \"text-align: left;\">NONPOLAR</td><td style = \"text-align: left;\">OK</td></tr><tr><td class = \"rowNumber\" style = \"font-weight: bold; text-align: right;\">1839</td><td style = \"text-align: left;\">(1s,5r)-6,8-dioxabicyclo(3.2.1)octan-4-one</td><td style = \"text-align: left;\">(1s,5r)-6,8-dioxabicyclo[3.2.1]octan-4-one</td><td style = \"text-align: left;\">InChI=1S/C6H8O3/c7-5-2-1-4-3-8-6(5)9-4/h4,6H,1-3H2/t4-,6+/m0/s1</td><td style = \"text-align: left;\">O=C1CCC2COC1O2</td><td style = \"text-align: left;\">O=C1CC[C@H]2CO[C@@H]1O2</td><td style = \"text-align: left;\">53716-82-8</td><td style = \"text-align: left;\">Other compounds</td><td style = \"text-align: right;\">128.047</td><td style = \"text-align: right;\">3.66204</td><td style = \"text-align: right;\">3.42079</td><td style = \"text-align: right;\">329.225</td><td style = \"text-align: right;\">0.0</td><td style = \"text-align: right;\">0.0</td><td style = \"text-align: right;\">0.0</td><td style = \"text-align: right;\">3</td><td style = \"text-align: right;\">0</td><td style = \"text-align: right;\">2.5</td><td style = \"text-align: right;\">279.0</td><td style = \"text-align: right;\">403.16</td><td style = \"text-align: right;\">24</td><td style = \"text-align: right;\">3.1</td><td style = \"text-align: right;\">25</td><td style = \"text-align: right;\">0.16</td><td style = \"text-align: right;\">293.15</td><td style = \"text-align: right;\">423.16</td><td style = \"text-align: right;\">73</td><td style = \"text-align: right;\">0.16</td><td style = \"text-align: right;\">73.0</td><td style = \"font-style: italic; text-align: right;\">missing</td><td style = \"font-style: italic; text-align: right;\">missing</td><td style = \"font-style: italic; text-align: right;\">missing</td><td style = \"font-style: italic; text-align: right;\">missing</td><td style = \"text-align: left;\">NONPOLAR</td><td style = \"text-align: left;\">OK</td></tr><tr><td class = \"rowNumber\" style = \"font-weight: bold; text-align: right;\">1840</td><td style = \"text-align: left;\">1,6-anhydro-3,4-dideoxyhex-3-enopyran-2-ulose</td><td style = \"text-align: left;\">(1s,5r)-6,8-dioxabicyclo[3.2.1]oct-2-en-4-one</td><td style = \"text-align: left;\">InChI=1S/C6H6O3/c7-5-2-1-4-3-8-6(5)9-4/h1-2,4,6H,3H2/t4-,6+/m0/s1</td><td style = \"text-align: left;\">O=C1C=CC2COC1O2</td><td style = \"text-align: left;\">O=C1C=C[C@H]2CO[C@@H]1O2</td><td style = \"text-align: left;\">37112-31-5</td><td style = \"text-align: left;\">Other compounds</td><td style = \"text-align: right;\">126.032</td><td style = \"text-align: right;\">3.81381</td><td style = \"text-align: right;\">3.31415</td><td style = \"text-align: right;\">330.341</td><td style = \"text-align: right;\">0.0</td><td style = \"text-align: right;\">0.0</td><td style = \"text-align: right;\">0.0</td><td style = \"text-align: right;\">3</td><td style = \"text-align: right;\">0</td><td style = \"text-align: right;\">2.13</td><td style = \"text-align: right;\">298.2</td><td style = \"text-align: right;\">403.3</td><td style = \"text-align: right;\">18</td><td style = \"text-align: right;\">4.59</td><td style = \"text-align: right;\">22</td><td style = \"text-align: right;\">0.12</td><td style = \"text-align: right;\">293.15</td><td style = \"text-align: right;\">363.15</td><td style = \"text-align: right;\">15</td><td style = \"text-align: right;\">0.12</td><td style = \"text-align: right;\">15.0</td><td style = \"font-style: italic; text-align: right;\">missing</td><td style = \"font-style: italic; text-align: right;\">missing</td><td style = \"font-style: italic; text-align: right;\">missing</td><td style = \"font-style: italic; text-align: right;\">missing</td><td style = \"text-align: left;\">NONPOLAR</td><td style = \"text-align: left;\">OK</td></tr><tr><td class = \"rowNumber\" style = \"font-weight: bold; text-align: right;\">1841</td><td style = \"text-align: left;\">1,3-dipropylene glycol</td><td style = \"text-align: left;\">3-(3-hydroxypropoxy)propan-1-ol</td><td style = \"text-align: left;\">InChI=1S/C6H14O3/c7-3-1-5-9-6-2-4-8/h7-8H,1-6H2</td><td style = \"text-align: left;\">OCCCOCCCO</td><td style = \"text-align: left;\">OCCCOCCCO</td><td style = \"text-align: left;\">2396-61-4</td><td style = \"text-align: left;\">Other compounds</td><td style = \"text-align: right;\">134.094</td><td style = \"text-align: right;\">2.48459</td><td style = \"text-align: right;\">4.31319</td><td style = \"text-align: right;\">266.224</td><td style = \"text-align: right;\">0.0</td><td style = \"text-align: right;\">0.03104</td><td style = \"text-align: right;\">2026.75</td><td style = \"text-align: right;\">3</td><td style = \"text-align: right;\">2</td><td style = \"text-align: right;\">1.75</td><td style = \"text-align: right;\">365.15</td><td style = \"text-align: right;\">703.4</td><td style = \"text-align: right;\">21</td><td style = \"text-align: right;\">1.75</td><td style = \"text-align: right;\">21</td><td style = \"text-align: right;\">1.16</td><td style = \"text-align: right;\">297.45</td><td style = \"text-align: right;\">428.3</td><td style = \"text-align: right;\">14</td><td style = \"text-align: right;\">1.16</td><td style = \"text-align: right;\">14.0</td><td style = \"text-align: right;\">missing</td><td style = \"text-align: right;\">missing</td><td style = \"font-style: italic; text-align: right;\">missing</td><td style = \"font-style: italic; text-align: right;\">missing</td><td style = \"text-align: left;\">ASSOCIATIVE</td><td style = \"text-align: left;\">OK</td></tr><tr><td class = \"rowNumber\" style = \"font-weight: bold; text-align: right;\">1842</td><td style = \"text-align: left;\">phenyldichlorophosphite</td><td style = \"text-align: left;\">dichloro(phenoxy)phosphane</td><td style = \"text-align: left;\">InChI=1S/C6H5Cl2OP/c7-10(8)9-6-4-2-1-3-5-6/h1-5H</td><td style = \"text-align: left;\">ClP(Cl)Oc1ccccc1</td><td style = \"text-align: left;\">ClP(Cl)Oc1ccccc1</td><td style = \"text-align: left;\">3426-89-9</td><td style = \"text-align: left;\">Other compounds</td><td style = \"text-align: right;\">193.946</td><td style = \"text-align: right;\">4.78249</td><td style = \"text-align: right;\">3.47877</td><td style = \"text-align: right;\">268.657</td><td style = \"text-align: right;\">0.0</td><td style = \"text-align: right;\">0.0</td><td style = \"text-align: right;\">0.0</td><td style = \"text-align: right;\">1</td><td style = \"text-align: right;\">0</td><td style = \"text-align: right;\">1.27</td><td style = \"text-align: right;\">363.25</td><td style = \"text-align: right;\">480.79</td><td style = \"text-align: right;\">27</td><td style = \"text-align: right;\">1.27</td><td style = \"text-align: right;\">27</td><td style = \"text-align: right;\">1.22</td><td style = \"text-align: right;\">293.27</td><td style = \"text-align: right;\">423.25</td><td style = \"text-align: right;\">14</td><td style = \"text-align: right;\">1.22</td><td style = \"text-align: right;\">14.0</td><td style = \"text-align: right;\">missing</td><td style = \"text-align: right;\">missing</td><td style = \"text-align: right;\">missing</td><td style = \"text-align: right;\">missing</td><td style = \"text-align: left;\">NONPOLAR</td><td style = \"text-align: left;\">OK</td></tr></tbody></table></div>"
      ],
      "text/latex": [
       "\\begin{tabular}{r|cccc}\n",
       "\t& common\\_name & iupac\\_name & inchi & \\\\\n",
       "\t\\hline\n",
       "\t& String & String? & String & \\\\\n",
       "\t\\hline\n",
       "\t1 & acetaldehyde & acetaldehyde & InChI=1S/C2H4O/c1-2-3/h2H,1H3 & $\\dots$ \\\\\n",
       "\t2 & acetamide & acetamide & InChI=1S/C2H5NO/c1-2(3)4/h1H3,(H2,3,4) & $\\dots$ \\\\\n",
       "\t3 & acetonitrile & acetonitrile & InChI=1S/C2H3N/c1-2-3/h1H3 & $\\dots$ \\\\\n",
       "\t4 & acetone & propan-2-one & InChI=1S/C3H6O/c1-3(2)4/h1-2H3 & $\\dots$ \\\\\n",
       "\t5 & ethylenediamine & ethane-1,2-diamine & InChI=1S/C2H8N2/c3-1-2-4/h1-4H2 & $\\dots$ \\\\\n",
       "\t6 & 1,2-dibromoethane & 1,2-dibromoethane & InChI=1S/C2H4Br2/c3-1-2-4/h1-2H2 & $\\dots$ \\\\\n",
       "\t7 & ethyl bromide & bromoethane & InChI=1S/C2H5Br/c1-2-3/h2H2,1H3 & $\\dots$ \\\\\n",
       "\t8 & 1,2-ethanediol & ethane-1,2-diol & InChI=1S/C2H6O2/c3-1-2-4/h3-4H,1-2H2 & $\\dots$ \\\\\n",
       "\t9 & ethyl iodide & iodoethane & InChI=1S/C2H5I/c1-2-3/h2H2,1H3 & $\\dots$ \\\\\n",
       "\t10 & ethanol & ethanol & InChI=1S/C2H6O/c1-2-3/h3H,2H2,1H3 & $\\dots$ \\\\\n",
       "\t11 & diethyl ether & ethoxyethane & InChI=1S/C4H10O/c1-3-5-4-2/h3-4H2,1-2H3 & $\\dots$ \\\\\n",
       "\t12 & ethylene oxide & oxirane & InChI=1S/C2H4O/c1-2-3-1/h1-2H2 & $\\dots$ \\\\\n",
       "\t13 & 2-propen-1-ol & prop-2-en-1-ol & InChI=1S/C3H6O/c1-2-3-4/h2,4H,1,3H2 & $\\dots$ \\\\\n",
       "\t14 & formic acid & formic acid & InChI=1S/CH2O2/c2-1-3/h1H,(H,2,3) & $\\dots$ \\\\\n",
       "\t15 & formic acid ethyl ester & ethyl formate & InChI=1S/C3H6O2/c1-2-5-3-4/h3H,2H2,1H3 & $\\dots$ \\\\\n",
       "\t16 & aniline & aniline & InChI=1S/C6H7N/c7-6-4-2-1-3-5-6/h1-5H,7H2 & $\\dots$ \\\\\n",
       "\t17 & methoxybenzene & anisole & InChI=1S/C7H8O/c1-8-7-5-3-2-4-6-7/h2-6H,1H3 & $\\dots$ \\\\\n",
       "\t18 & 2-methylpyridine & 2-methylpyridine & InChI=1S/C6H7N/c1-6-4-2-3-5-7-6/h2-5H,1H3 & $\\dots$ \\\\\n",
       "\t19 & .alpha.-pinene & 2,6,6-trimethylbicyclo[3.1.1]hept-2-ene & InChI=1S/C10H16/c1-7-4-5-8-6-9(7)10(8,2)3/h4,8-9H,5-6H2,1-3H3 & $\\dots$ \\\\\n",
       "\t20 & ethyl acetate & ethyl acetate & InChI=1S/C4H8O2/c1-3-6-4(2)5/h3H2,1-2H3 & $\\dots$ \\\\\n",
       "\t21 & 2-butanol & butan-2-ol & InChI=1S/C4H10O/c1-3-4(2)5/h4-5H,3H2,1-2H3 & $\\dots$ \\\\\n",
       "\t22 & 2,3-butanediol & butane-2,3-diol & InChI=1S/C4H10O2/c1-3(5)4(2)6/h3-6H,1-2H3 & $\\dots$ \\\\\n",
       "\t23 & benzyl alcohol & phenylmethanol & InChI=1S/C7H8O/c8-6-7-4-2-1-3-5-7/h1-5,8H,6H2 & $\\dots$ \\\\\n",
       "\t24 & ethylbenzene & ethylbenzene & InChI=1S/C8H10/c1-2-8-6-4-3-5-7-8/h3-7H,2H2,1H3 & $\\dots$ \\\\\n",
       "\t25 & bromobenzene & bromobenzene & InChI=1S/C6H5Br/c7-6-4-2-1-3-5-6/h1-5H & $\\dots$ \\\\\n",
       "\t26 & chlorobenzene & chlorobenzene & InChI=1S/C6H5Cl/c7-6-4-2-1-3-5-6/h1-5H & $\\dots$ \\\\\n",
       "\t27 & p-dichlorobenzene & 1,4-dichlorobenzene & InChI=1S/C6H4Cl2/c7-5-1-2-6(8)4-3-5/h1-4H & $\\dots$ \\\\\n",
       "\t28 & benzonitrile & benzonitrile & InChI=1S/C7H5N/c8-6-7-4-2-1-3-5-7/h1-5H & $\\dots$ \\\\\n",
       "\t29 & nitrobenzene & nitrobenzene & InChI=1S/C6H5NO2/c8-7(9)6-4-2-1-3-5-6/h1-5H & $\\dots$ \\\\\n",
       "\t30 & benzene & benzene & InChI=1S/C6H6/c1-2-4-6-5-3-1/h1-6H & $\\dots$ \\\\\n",
       "\t$\\dots$ & $\\dots$ & $\\dots$ & $\\dots$ &  \\\\\n",
       "\\end{tabular}\n"
      ],
      "text/plain": [
       "\u001b[1m1842×34 DataFrame\u001b[0m\n",
       "\u001b[1m  Row \u001b[0m│\u001b[1m common_name                       \u001b[0m\u001b[1m iupac_name                        \u001b[0m\u001b[1m \u001b[0m ⋯\n",
       "      │\u001b[90m String                            \u001b[0m\u001b[90m String?                           \u001b[0m\u001b[90m \u001b[0m ⋯\n",
       "──────┼─────────────────────────────────────────────────────────────────────────\n",
       "    1 │ acetaldehyde                       acetaldehyde                        ⋯\n",
       "    2 │ acetamide                          acetamide\n",
       "    3 │ acetonitrile                       acetonitrile\n",
       "    4 │ acetone                            propan-2-one\n",
       "    5 │ ethylenediamine                    ethane-1,2-diamine                  ⋯\n",
       "    6 │ 1,2-dibromoethane                  1,2-dibromoethane\n",
       "    7 │ ethyl bromide                      bromoethane\n",
       "    8 │ 1,2-ethanediol                     ethane-1,2-diol\n",
       "    9 │ ethyl iodide                       iodoethane                          ⋯\n",
       "   10 │ ethanol                            ethanol\n",
       "   11 │ diethyl ether                      ethoxyethane\n",
       "  ⋮   │                 ⋮                                  ⋮                   ⋱\n",
       " 1833 │ nonylphenols (mixture of isomere…  2-nonylphenol\n",
       " 1834 │ (z)-1-chloro-2,3,3,3-tetrafluoro…  (z)-1-chloro-2,3,3,3-tetrafluoro…   ⋯\n",
       " 1835 │ vinylethylene carbonate            4-ethenyl-1,3-dioxolan-2-one\n",
       " 1836 │ 2,3-dimethylbenzo[b]thiophene      2,3-dimethyl-1-benzothiophene\n",
       " 1837 │ 2-methyl-2-propenoic acid 3-(tri…  3-trichlorosilylpropyl 2-methylp…\n",
       " 1838 │ tris(methoxyethoxy)vinylsilane     ethenyl-tris(2-methoxyethoxy)sil…   ⋯\n",
       " 1839 │ (1s,5r)-6,8-dioxabicyclo(3.2.1)o…  (1s,5r)-6,8-dioxabicyclo[3.2.1]o…\n",
       " 1840 │ 1,6-anhydro-3,4-dideoxyhex-3-eno…  (1s,5r)-6,8-dioxabicyclo[3.2.1]o…\n",
       " 1841 │ 1,3-dipropylene glycol             3-(3-hydroxypropoxy)propan-1-ol\n",
       " 1842 │ phenyldichlorophosphite            dichloro(phenoxy)phosphane          ⋯\n",
       "\u001b[36m                                                32 columns and 1821 rows omitted\u001b[0m"
      ]
     },
     "execution_count": 17,
     "metadata": {},
     "output_type": "execute_result"
    }
   ],
   "source": [
    "df = CSV.read(\"SI_pcp-saft_parameters.csv\",DataFrame,header=1) ;\n",
    "fieldnames(typeof(df))\n",
    "#display(names(df)[1:20]) ;\n",
    "writedlm(\"out.txt\", names(df), ' ') ;\n",
    "\n",
    "replace!(df.mu, missing => 0) ;\n",
    "replace!(df.kappa_ab, missing => 0) ;\n",
    "replace!(df.epsilon_k_ab, missing => 0) ;\n",
    "\n",
    "df.mu = Float64.(df.mu)\n",
    "df.kappa_ab = Float64.(df.kappa_ab)\n",
    "df.epsilon_k_ab = Float64.(df.epsilon_k_ab) ;\n",
    "df"
   ]
  },
  {
   "cell_type": "code",
   "execution_count": 18,
   "metadata": {},
   "outputs": [],
   "source": [
    "# Info for Clapeyron Database File:\n",
    "# species Mw segment sigma epsilon dipole n_H n_e source\n",
    "num_rows = nrow(df)\n",
    "df2 = DataFrame(\n",
    "    species = fill(missing, num_rows),\n",
    "    isomeric_SMILES = fill(missing, num_rows), \n",
    "    family = fill(missing, num_rows),\n",
    "    Mw = fill(missing, num_rows),\n",
    "    segment = fill(missing, num_rows),\n",
    "    sigma = fill(missing, num_rows),\n",
    "    epsilon = fill(missing, num_rows),\n",
    "    dipole = fill(missing, num_rows),\n",
    "    kappa_ab = fill(missing, num_rows),\n",
    "    epsilon_k_ab = fill(missing, num_rows),\n",
    "    source = fill(missing, num_rows)\n",
    ") ;\n"
   ]
  },
  {
   "cell_type": "code",
   "execution_count": 19,
   "metadata": {},
   "outputs": [],
   "source": [
    "df2.species = df.common_name\n",
    "df2.Mw = df.molarweight\n",
    "df2.isomeric_SMILES = df.isomeric_smiles\n",
    "df2.family = df.family\n",
    "df2.segment = df.m\n",
    "df2.sigma = df.sigma\n",
    "df2.epsilon = df.epsilon_k\n",
    "df2.dipole = df.mu\n",
    "df2.kappa_ab = df.kappa_ab\n",
    "df2.epsilon_k_ab = df.epsilon_k_ab\n",
    "df2[!, :source] .= \"10.1021/acs.iecr.3c02255\" ;"
   ]
  },
  {
   "cell_type": "code",
   "execution_count": 20,
   "metadata": {},
   "outputs": [],
   "source": [
    "filtered_data_chem_family = filter(row -> occursin(\"Alkane\", row.family), df2) ;\n",
    "filtered_data_chem_family = sort(filtered_data_chem_family, :Mw) ;\n",
    "\n",
    "#println(filtered_data_chem_family)"
   ]
  },
  {
   "cell_type": "code",
   "execution_count": 27,
   "metadata": {},
   "outputs": [
    {
     "data": {
      "text/html": [
       "<div><div style = \"float: left;\"><span>1×34 DataFrame</span></div><div style = \"clear: both;\"></div></div><div class = \"data-frame\" style = \"overflow-x: scroll;\"><table class = \"data-frame\" style = \"margin-bottom: 6px;\"><thead><tr class = \"header\"><th class = \"rowNumber\" style = \"font-weight: bold; text-align: right;\">Row</th><th style = \"text-align: left;\">common_name</th><th style = \"text-align: left;\">iupac_name</th><th style = \"text-align: left;\">inchi</th><th style = \"text-align: left;\">canonical_smiles</th><th style = \"text-align: left;\">isomeric_smiles</th><th style = \"text-align: left;\">cas</th><th style = \"text-align: left;\">family</th><th style = \"text-align: left;\">molarweight</th><th style = \"text-align: left;\">m</th><th style = \"text-align: left;\">sigma</th><th style = \"text-align: left;\">epsilon_k</th><th style = \"text-align: left;\">mu</th><th style = \"text-align: left;\">kappa_ab</th><th style = \"text-align: left;\">epsilon_k_ab</th><th style = \"text-align: left;\">na</th><th style = \"text-align: left;\">nb</th><th style = \"text-align: left;\">mard_psat</th><th style = \"text-align: left;\">t_min_psat</th><th style = \"text-align: left;\">t_max_psat</th><th style = \"text-align: left;\">points_psat</th><th style = \"text-align: left;\">mard_psat_incl_outlier</th><th style = \"text-align: left;\">points_psat_incl_outlier</th><th style = \"text-align: left;\">mard_density</th><th style = \"text-align: left;\">t_min_density</th><th style = \"text-align: left;\">t_max_density</th><th style = \"text-align: left;\">points_density_liquid</th><th style = \"text-align: left;\">mard_density_liquid_single_phase</th><th style = \"text-align: left;\">points_density_liquid_single_phase</th><th style = \"text-align: left;\">mard_density_equi</th><th style = \"text-align: left;\">points_density_equi</th><th style = \"text-align: left;\">mard_density_vapor</th><th style = \"text-align: left;\">points_density_vapor</th><th style = \"text-align: left;\">opt</th><th style = \"text-align: left;\">bounds_violation</th></tr><tr class = \"subheader headerLastRow\"><th class = \"rowNumber\" style = \"font-weight: bold; text-align: right;\"></th><th title = \"String\" style = \"text-align: left;\">String</th><th title = \"Union{Missing, String}\" style = \"text-align: left;\">String?</th><th title = \"String\" style = \"text-align: left;\">String</th><th title = \"String\" style = \"text-align: left;\">String</th><th title = \"String\" style = \"text-align: left;\">String</th><th title = \"String15\" style = \"text-align: left;\">String15</th><th title = \"String31\" style = \"text-align: left;\">String31</th><th title = \"Float64\" style = \"text-align: left;\">Float64</th><th title = \"Float64\" style = \"text-align: left;\">Float64</th><th title = \"Float64\" style = \"text-align: left;\">Float64</th><th title = \"Float64\" style = \"text-align: left;\">Float64</th><th title = \"Float64\" style = \"text-align: left;\">Float64</th><th title = \"Float64\" style = \"text-align: left;\">Float64</th><th title = \"Float64\" style = \"text-align: left;\">Float64</th><th title = \"Int64\" style = \"text-align: left;\">Int64</th><th title = \"Int64\" style = \"text-align: left;\">Int64</th><th title = \"Float64\" style = \"text-align: left;\">Float64</th><th title = \"Float64\" style = \"text-align: left;\">Float64</th><th title = \"Float64\" style = \"text-align: left;\">Float64</th><th title = \"Int64\" style = \"text-align: left;\">Int64</th><th title = \"Float64\" style = \"text-align: left;\">Float64</th><th title = \"Int64\" style = \"text-align: left;\">Int64</th><th title = \"Float64\" style = \"text-align: left;\">Float64</th><th title = \"Float64\" style = \"text-align: left;\">Float64</th><th title = \"Float64\" style = \"text-align: left;\">Float64</th><th title = \"Int64\" style = \"text-align: left;\">Int64</th><th title = \"Union{Missing, Float64}\" style = \"text-align: left;\">Float64?</th><th title = \"Union{Missing, Float64}\" style = \"text-align: left;\">Float64?</th><th title = \"Union{Missing, Float64}\" style = \"text-align: left;\">Float64?</th><th title = \"Union{Missing, Float64}\" style = \"text-align: left;\">Float64?</th><th title = \"Union{Missing, Float64}\" style = \"text-align: left;\">Float64?</th><th title = \"Union{Missing, Float64}\" style = \"text-align: left;\">Float64?</th><th title = \"String15\" style = \"text-align: left;\">String15</th><th title = \"String\" style = \"text-align: left;\">String</th></tr></thead><tbody><tr><td class = \"rowNumber\" style = \"font-weight: bold; text-align: right;\">1</td><td style = \"text-align: left;\">nonylphenols (mixture of isomeres)</td><td style = \"text-align: left;\">2-nonylphenol</td><td style = \"text-align: left;\">InChI=1S/C15H24O/c1-11(2)9-12(3)10-13(4)14-5-7-15(16)8-6-14/h5-8,11-13,16H,9-10H2,1-4H3</td><td style = \"text-align: left;\">CC(C)CC(C)CC(C)c1ccc(O)cc1</td><td style = \"text-align: left;\">CC(C)CC(C)CC(C)c1ccc(O)cc1</td><td style = \"text-align: left;\">25154-52-3</td><td style = \"text-align: left;\">Aromatic hydrocarbons</td><td style = \"text-align: right;\">220.183</td><td style = \"text-align: right;\">4.39731</td><td style = \"text-align: right;\">4.24914</td><td style = \"text-align: right;\">334.036</td><td style = \"text-align: right;\">0.0</td><td style = \"text-align: right;\">0.0001</td><td style = \"text-align: right;\">200.0</td><td style = \"text-align: right;\">1</td><td style = \"text-align: right;\">1</td><td style = \"text-align: right;\">5.34</td><td style = \"text-align: right;\">436.15</td><td style = \"text-align: right;\">594.96</td><td style = \"text-align: right;\">16</td><td style = \"text-align: right;\">8.8</td><td style = \"text-align: right;\">19</td><td style = \"text-align: right;\">0.63</td><td style = \"text-align: right;\">293.15</td><td style = \"text-align: right;\">423.15</td><td style = \"text-align: right;\">13</td><td style = \"text-align: right;\">0.63</td><td style = \"text-align: right;\">13.0</td><td style = \"font-style: italic; text-align: right;\">missing</td><td style = \"font-style: italic; text-align: right;\">missing</td><td style = \"font-style: italic; text-align: right;\">missing</td><td style = \"font-style: italic; text-align: right;\">missing</td><td style = \"text-align: left;\">ASSOCIATIVE</td><td style = \"text-align: left;\">kappa_ab: lower, epsilon_k_ab: lower</td></tr></tbody></table></div>"
      ],
      "text/latex": [
       "\\begin{tabular}{r|cccc}\n",
       "\t& common\\_name & iupac\\_name & inchi & \\\\\n",
       "\t\\hline\n",
       "\t& String & String? & String & \\\\\n",
       "\t\\hline\n",
       "\t1 & nonylphenols (mixture of isomeres) & 2-nonylphenol & InChI=1S/C15H24O/c1-11(2)9-12(3)10-13(4)14-5-7-15(16)8-6-14/h5-8,11-13,16H,9-10H2,1-4H3 & $\\dots$ \\\\\n",
       "\\end{tabular}\n"
      ],
      "text/plain": [
       "\u001b[1m1×34 DataFrame\u001b[0m\n",
       "\u001b[1m Row \u001b[0m│\u001b[1m common_name                       \u001b[0m\u001b[1m iupac_name    \u001b[0m\u001b[1m inchi                \u001b[0m ⋯\n",
       "     │\u001b[90m String                            \u001b[0m\u001b[90m String?       \u001b[0m\u001b[90m String               \u001b[0m ⋯\n",
       "─────┼──────────────────────────────────────────────────────────────────────────\n",
       "   1 │ nonylphenols (mixture of isomere…  2-nonylphenol  InChI=1S/C15H24O/c1-1 ⋯\n",
       "\u001b[36m                                                              32 columns omitted\u001b[0m"
      ]
     },
     "execution_count": 27,
     "metadata": {},
     "output_type": "execute_result"
    }
   ],
   "source": [
    "filtered_data_chem_family = filter(row -> occursin(\"nonylphenols\", row.common_name), df) \n"
   ]
  },
  {
   "cell_type": "code",
   "execution_count": 22,
   "metadata": {},
   "outputs": [
    {
     "name": "stderr",
     "output_type": "stream",
     "text": [
      "\u001b[36m\u001b[1m[ \u001b[22m\u001b[39m\u001b[36m\u001b[1mInfo: \u001b[22m\u001b[39mSearching for assocdata headers [\"bondvol\", \"epsilon_assoc\"] for query [\"methane\"] at /home/mgadaloff/.julia/packages/Clapeyron/0fqKa/database/SAFT/PCSAFT/PPCSAFT/PPCSAFT_assoc.csv ...\n",
      "\u001b[36m\u001b[1m[ \u001b[22m\u001b[39m\u001b[36m\u001b[1mInfo: \u001b[22m\u001b[39mSearching for singledata headers [\"Mw\", \"segment\", \"sigma\", \"epsilon\", \"dipole\", \"n_a\", \"n_b\", \"type\", \"bounds_violation\"] for query [\"methane\"] at /home/mgadaloff/.julia/packages/Clapeyron/0fqKa/database/SAFT/PCSAFT/PPCSAFT/PPCSAFT_like.csv ...\n",
      "\u001b[36m\u001b[1m┌ \u001b[22m\u001b[39m\u001b[36m\u001b[1mInfo: \u001b[22m\u001b[39mFound single component data: \u001b[1m\u001b[36mMw\u001b[0m with values:\n",
      "\u001b[36m\u001b[1m└ \u001b[22m\u001b[39m methane => 16.031\n",
      "\u001b[36m\u001b[1m┌ \u001b[22m\u001b[39m\u001b[36m\u001b[1mInfo: \u001b[22m\u001b[39mFound single component data: \u001b[1m\u001b[36msegment\u001b[0m with values:\n",
      "\u001b[36m\u001b[1m└ \u001b[22m\u001b[39m methane => 1.0\n",
      "\u001b[36m\u001b[1m┌ \u001b[22m\u001b[39m\u001b[36m\u001b[1mInfo: \u001b[22m\u001b[39mFound single component data: \u001b[1m\u001b[36msigma\u001b[0m with values:\n",
      "\u001b[36m\u001b[1m└ \u001b[22m\u001b[39m methane => 3.70051\n",
      "\u001b[36m\u001b[1m┌ \u001b[22m\u001b[39m\u001b[36m\u001b[1mInfo: \u001b[22m\u001b[39mFound single component data: \u001b[1m\u001b[36mepsilon\u001b[0m with values:\n",
      "\u001b[36m\u001b[1m└ \u001b[22m\u001b[39m methane => 150.07147\n",
      "\u001b[36m\u001b[1m┌ \u001b[22m\u001b[39m\u001b[36m\u001b[1mInfo: \u001b[22m\u001b[39mFound single component data: \u001b[1m\u001b[36mdipole\u001b[0m with values:\n",
      "\u001b[36m\u001b[1m└ \u001b[22m\u001b[39m methane => 0.0\n",
      "\u001b[36m\u001b[1m┌ \u001b[22m\u001b[39m\u001b[36m\u001b[1mInfo: \u001b[22m\u001b[39mFound single component data: \u001b[1m\u001b[36mn_a\u001b[0m with values:\n",
      "\u001b[36m\u001b[1m└ \u001b[22m\u001b[39m methane => 0\n",
      "\u001b[36m\u001b[1m┌ \u001b[22m\u001b[39m\u001b[36m\u001b[1mInfo: \u001b[22m\u001b[39mFound single component data: \u001b[1m\u001b[36mn_b\u001b[0m with values:\n",
      "\u001b[36m\u001b[1m└ \u001b[22m\u001b[39m methane => 0\n",
      "\u001b[36m\u001b[1m┌ \u001b[22m\u001b[39m\u001b[36m\u001b[1mInfo: \u001b[22m\u001b[39mFound single component data: \u001b[1m\u001b[36mtype\u001b[0m with values:\n",
      "\u001b[36m\u001b[1m└ \u001b[22m\u001b[39m methane => NONPOLAR\n",
      "\u001b[36m\u001b[1m┌ \u001b[22m\u001b[39m\u001b[36m\u001b[1mInfo: \u001b[22m\u001b[39mFound single component data: \u001b[1m\u001b[36mbounds_violation\u001b[0m with values:\n",
      "\u001b[36m\u001b[1m└ \u001b[22m\u001b[39m methane => m: lower\n",
      "\u001b[36m\u001b[1m[ \u001b[22m\u001b[39m\u001b[36m\u001b[1mInfo: \u001b[22m\u001b[39mSearching for pairdata headers [\"k\"] for query [\"methane\"] at /home/mgadaloff/.julia/packages/Clapeyron/0fqKa/database/SAFT/PCSAFT/PPCSAFT/PPCSAFT_unlike.csv ...\n",
      "\u001b[36m\u001b[1m[ \u001b[22m\u001b[39m\u001b[36m\u001b[1mInfo: \u001b[22m\u001b[39mSearching for singledata headers [\"Mw\"] for query [\"methane\"] at /home/mgadaloff/.julia/packages/Clapeyron/0fqKa/database/properties/molarmass.csv ...\n",
      "\u001b[36m\u001b[1m┌ \u001b[22m\u001b[39m\u001b[36m\u001b[1mInfo: \u001b[22m\u001b[39mFound single component data: \u001b[1m\u001b[36mMw\u001b[0m with values:\n",
      "\u001b[36m\u001b[1m└ \u001b[22m\u001b[39m methane => 16.04\n",
      "\u001b[36m\u001b[1m[ \u001b[22m\u001b[39m\u001b[36m\u001b[1mInfo: \u001b[22m\u001b[39mgenerating parameters for PPCSAFT\n",
      "\u001b[36m\u001b[1m[ \u001b[22m\u001b[39m\u001b[36m\u001b[1mInfo: \u001b[22m\u001b[39mBuilding an instance of \u001b[1m\u001b[36mBasicIdeal\u001b[0m with components [\"methane\"]\n"
     ]
    },
    {
     "data": {
      "text/plain": [
       "PPCSAFT{BasicIdeal} with 1 component:\n",
       " \"methane\"\n",
       "Contains parameters: Mw, segment, sigma, epsilon, dipole, dipole2, epsilon_assoc, bondvol"
      ]
     },
     "execution_count": 22,
     "metadata": {},
     "output_type": "execute_result"
    }
   ],
   "source": [
    "model = PPCSAFT([\"methane\"],verbose = true)\n"
   ]
  },
  {
   "cell_type": "code",
   "execution_count": 47,
   "metadata": {},
   "outputs": [
    {
     "name": "stdout",
     "output_type": "stream",
     "text": [
      "AssocParam{Float64}(\"epsilon_assoc\")Float64[]\n"
     ]
    }
   ],
   "source": [
    "fieldnames(typeof(model.params.epsilon_assoc))\n",
    "\n",
    "println(model.params.epsilon_assoc)\n"
   ]
  },
  {
   "cell_type": "code",
   "execution_count": 23,
   "metadata": {},
   "outputs": [
    {
     "data": {
      "text/plain": [
       "make_model (generic function with 1 method)"
      ]
     },
     "execution_count": 23,
     "metadata": {},
     "output_type": "execute_result"
    }
   ],
   "source": [
    "function make_model(Mw, m, σ, ϵ, λ_a, λ_r)\n",
    "    model = PPCSAFT([\"methane\"])\n",
    "    \n",
    "    model.params.Mw[1] = Mw\n",
    "    model.params.segment[1] = m\n",
    "    model.params.sigma[1] = σ\n",
    "    model.params.lambda_a[1] = λ_a\n",
    "    model.params.lambda_r[1] = λ_r\n",
    "    model.params.epsilon[1] = ϵ\n",
    "\n",
    "    return model\n",
    "end"
   ]
  },
  {
   "cell_type": "code",
   "execution_count": 24,
   "metadata": {},
   "outputs": [
    {
     "ename": "LoadError",
     "evalue": "UndefVarError: `model6` not defined",
     "output_type": "error",
     "traceback": [
      "UndefVarError: `model6` not defined",
      "",
      "Stacktrace:",
      " [1] top-level scope",
      "   @ In[24]:1"
     ]
    }
   ],
   "source": [
    "fieldnames(typeof(model6))\n",
    "fieldnames(typeof(model6.params))\n",
    "fieldnames(typeof(model6.params.epsilon_assoc.values))\n",
    "typeof(model6.params.epsilon_assoc.values)"
   ]
  },
  {
   "cell_type": "code",
   "execution_count": null,
   "metadata": {},
   "outputs": [
    {
     "name": "stderr",
     "output_type": "stream",
     "text": [
      "\u001b[36m\u001b[1m[ \u001b[22m\u001b[39m\u001b[36m\u001b[1mInfo: \u001b[22m\u001b[39mSearching for assocdata headers [\"epsilon_assoc\", \"bondvol\"] for query [\"methanol\"] at /home/mgadaloff/.julia/packages/Clapeyron/0fqKa/database/SAFT/PCSAFT/PCSAFT_assoc.csv ...\n",
      "\u001b[36m\u001b[1m┌ \u001b[22m\u001b[39m\u001b[36m\u001b[1mInfo: \u001b[22m\u001b[39mFound association component data: \u001b[1m\u001b[36mepsilon_assoc\u001b[0m with values:\n",
      "\u001b[36m\u001b[1m└ \u001b[22m\u001b[39m (methanol,H) ⇋ (methanol, e) => 2899.5\n",
      "\u001b[36m\u001b[1m┌ \u001b[22m\u001b[39m\u001b[36m\u001b[1mInfo: \u001b[22m\u001b[39mFound association component data: \u001b[1m\u001b[36mbondvol\u001b[0m with values:\n",
      "\u001b[36m\u001b[1m└ \u001b[22m\u001b[39m (methanol,H) ⇋ (methanol, e) => 0.035176\n",
      "\u001b[36m\u001b[1m[ \u001b[22m\u001b[39m\u001b[36m\u001b[1mInfo: \u001b[22m\u001b[39mSearching for singledata headers [\"Mw\", \"segment\", \"sigma\", \"epsilon\", \"n_H\", \"n_e\"] for query [\"methanol\"] at /home/mgadaloff/.julia/packages/Clapeyron/0fqKa/database/SAFT/PCSAFT/PCSAFT_like.csv ...\n",
      "\u001b[36m\u001b[1m┌ \u001b[22m\u001b[39m\u001b[36m\u001b[1mInfo: \u001b[22m\u001b[39mFound single component data: \u001b[1m\u001b[36mMw\u001b[0m with values:\n",
      "\u001b[36m\u001b[1m└ \u001b[22m\u001b[39m methanol => 32.042\n",
      "\u001b[36m\u001b[1m┌ \u001b[22m\u001b[39m\u001b[36m\u001b[1mInfo: \u001b[22m\u001b[39mFound single component data: \u001b[1m\u001b[36msegment\u001b[0m with values:\n",
      "\u001b[36m\u001b[1m└ \u001b[22m\u001b[39m methanol => 1.5255\n",
      "\u001b[36m\u001b[1m┌ \u001b[22m\u001b[39m\u001b[36m\u001b[1mInfo: \u001b[22m\u001b[39mFound single component data: \u001b[1m\u001b[36msigma\u001b[0m with values:\n",
      "\u001b[36m\u001b[1m└ \u001b[22m\u001b[39m methanol => 3.23\n",
      "\u001b[36m\u001b[1m┌ \u001b[22m\u001b[39m\u001b[36m\u001b[1mInfo: \u001b[22m\u001b[39mFound single component data: \u001b[1m\u001b[36mepsilon\u001b[0m with values:\n",
      "\u001b[36m\u001b[1m└ \u001b[22m\u001b[39m methanol => 188.9\n",
      "\u001b[36m\u001b[1m┌ \u001b[22m\u001b[39m\u001b[36m\u001b[1mInfo: \u001b[22m\u001b[39mFound single component data: \u001b[1m\u001b[36mn_H\u001b[0m with values:\n",
      "\u001b[36m\u001b[1m└ \u001b[22m\u001b[39m methanol => 1\n",
      "\u001b[36m\u001b[1m┌ \u001b[22m\u001b[39m\u001b[36m\u001b[1mInfo: \u001b[22m\u001b[39mFound single component data: \u001b[1m\u001b[36mn_e\u001b[0m with values:\n",
      "\u001b[36m\u001b[1m└ \u001b[22m\u001b[39m methanol => 1\n",
      "\u001b[36m\u001b[1m[ \u001b[22m\u001b[39m\u001b[36m\u001b[1mInfo: \u001b[22m\u001b[39mSearching for pairdata headers [\"k\"] for query [\"methanol\"] at /home/mgadaloff/.julia/packages/Clapeyron/0fqKa/database/SAFT/PCSAFT/PCSAFT_unlike.csv ...\n",
      "\u001b[36m\u001b[1m[ \u001b[22m\u001b[39m\u001b[36m\u001b[1mInfo: \u001b[22m\u001b[39mSearching for singledata headers [\"Mw\"] for query [\"methanol\"] at /home/mgadaloff/.julia/packages/Clapeyron/0fqKa/database/properties/molarmass.csv ...\n",
      "\u001b[36m\u001b[1m┌ \u001b[22m\u001b[39m\u001b[36m\u001b[1mInfo: \u001b[22m\u001b[39mFound single component data: \u001b[1m\u001b[36mMw\u001b[0m with values:\n",
      "\u001b[36m\u001b[1m└ \u001b[22m\u001b[39m methanol => 32.042\n",
      "\u001b[36m\u001b[1m[ \u001b[22m\u001b[39m\u001b[36m\u001b[1mInfo: \u001b[22m\u001b[39mgenerating parameters for PCSAFT\n",
      "\u001b[36m\u001b[1m[ \u001b[22m\u001b[39m\u001b[36m\u001b[1mInfo: \u001b[22m\u001b[39mBuilding an instance of \u001b[1m\u001b[36mBasicIdeal\u001b[0m with components [\"methanol\"]\n"
     ]
    },
    {
     "data": {
      "text/plain": [
       "PCSAFT{BasicIdeal, Float64} with 1 component:\n",
       " \"methanol\"\n",
       "Contains parameters: Mw, segment, sigma, epsilon, epsilon_assoc, bondvol"
      ]
     },
     "execution_count": 10,
     "metadata": {},
     "output_type": "execute_result"
    }
   ],
   "source": [
    "model = PCSAFT([\"methanol\"],verbose=true)"
   ]
  }
 ],
 "metadata": {
  "kernelspec": {
   "display_name": "Julia 1.9.3",
   "language": "julia",
   "name": "julia-1.9"
  },
  "language_info": {
   "file_extension": ".jl",
   "mimetype": "application/julia",
   "name": "julia",
   "version": "1.9.3"
  }
 },
 "nbformat": 4,
 "nbformat_minor": 2
}
