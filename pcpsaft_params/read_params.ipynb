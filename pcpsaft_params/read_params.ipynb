{
 "cells": [
  {
   "cell_type": "code",
   "execution_count": 1,
   "metadata": {},
   "outputs": [
    {
     "name": "stderr",
     "output_type": "stream",
     "text": [
      "\u001b[32m\u001b[1m  Activating\u001b[22m\u001b[39m project at `~/SAFT_ML`\n"
     ]
    }
   ],
   "source": [
    "import Pkg; Pkg.activate(\"..\")"
   ]
  },
  {
   "cell_type": "code",
   "execution_count": 37,
   "metadata": {},
   "outputs": [],
   "source": [
    "using CSV, DataFrames, DelimitedFiles"
   ]
  },
  {
   "cell_type": "code",
   "execution_count": 38,
   "metadata": {},
   "outputs": [
    {
     "data": {
      "text/plain": [
       "20-element Vector{String}:\n",
       " \"common_name\"\n",
       " \"iupac_name\"\n",
       " \"inchi\"\n",
       " \"canonical_smiles\"\n",
       " \"isomeric_smiles\"\n",
       " \"cas\"\n",
       " \"family\"\n",
       " \"molarweight\"\n",
       " \"m\"\n",
       " \"sigma\"\n",
       " \"epsilon_k\"\n",
       " \"mu\"\n",
       " \"kappa_ab\"\n",
       " \"epsilon_k_ab\"\n",
       " \"na\"\n",
       " \"nb\"\n",
       " \"mard_psat\"\n",
       " \"t_min_psat\"\n",
       " \"t_max_psat\"\n",
       " \"points_psat\""
      ]
     },
     "metadata": {},
     "output_type": "display_data"
    }
   ],
   "source": [
    "df = CSV.read(\"SI_pcp-saft_parameters.csv\",DataFrame,header=1) ;\n",
    "fieldnames(typeof(df))\n",
    "display(names(df)[1:20])\n",
    "\n",
    "writedlm(\"out.txt\", names(df), ' ')\n"
   ]
  },
  {
   "cell_type": "code",
   "execution_count": 41,
   "metadata": {},
   "outputs": [],
   "source": [
    "# Info for Clapeyron Database File:\n",
    "# species Mw segment sigma epsilon dipole n_H n_e source\n",
    "num_rows = nrow(df)\n",
    "df2 = DataFrame(\n",
    "    species = fill(missing, num_rows),\n",
    "    Mw = fill(missing, num_rows),\n",
    "    segment = fill(missing, num_rows),\n",
    "    sigma = fill(missing, num_rows),\n",
    "    epsilon = fill(missing, num_rows),\n",
    "    dipole = fill(missing, num_rows),\n",
    "    n_H = fill(missing, num_rows),\n",
    "    n_e = fill(missing, num_rows),\n",
    "    source = fill(missing, num_rows)\n",
    "\n",
    ");"
   ]
  },
  {
   "cell_type": "code",
   "execution_count": 47,
   "metadata": {},
   "outputs": [
    {
     "data": {
      "text/html": [
       "<div><div style = \"float: left;\"><span>1842×9 DataFrame</span></div><div style = \"float: right;\"><span style = \"font-style: italic;\">1817 rows omitted</span></div><div style = \"clear: both;\"></div></div><div class = \"data-frame\" style = \"overflow-x: scroll;\"><table class = \"data-frame\" style = \"margin-bottom: 6px;\"><thead><tr class = \"header\"><th class = \"rowNumber\" style = \"font-weight: bold; text-align: right;\">Row</th><th style = \"text-align: left;\">species</th><th style = \"text-align: left;\">Mw</th><th style = \"text-align: left;\">segment</th><th style = \"text-align: left;\">sigma</th><th style = \"text-align: left;\">epsilon</th><th style = \"text-align: left;\">dipole</th><th style = \"text-align: left;\">n_H</th><th style = \"text-align: left;\">n_e</th><th style = \"text-align: left;\">source</th></tr><tr class = \"subheader headerLastRow\"><th class = \"rowNumber\" style = \"font-weight: bold; text-align: right;\"></th><th title = \"String\" style = \"text-align: left;\">String</th><th title = \"Float64\" style = \"text-align: left;\">Float64</th><th title = \"Float64\" style = \"text-align: left;\">Float64</th><th title = \"Float64\" style = \"text-align: left;\">Float64</th><th title = \"Float64\" style = \"text-align: left;\">Float64</th><th title = \"Union{Missing, Float64}\" style = \"text-align: left;\">Float64?</th><th title = \"Missing\" style = \"text-align: left;\">Missing</th><th title = \"Missing\" style = \"text-align: left;\">Missing</th><th title = \"String\" style = \"text-align: left;\">String</th></tr></thead><tbody><tr><td class = \"rowNumber\" style = \"font-weight: bold; text-align: right;\">1</td><td style = \"text-align: left;\">acetaldehyde</td><td style = \"text-align: right;\">44.026</td><td style = \"text-align: right;\">2.14028</td><td style = \"text-align: right;\">3.22662</td><td style = \"text-align: right;\">227.621</td><td style = \"text-align: right;\">2.69</td><td style = \"font-style: italic; text-align: right;\">missing</td><td style = \"font-style: italic; text-align: right;\">missing</td><td style = \"text-align: left;\">10.1021/acs.iecr.3c02255</td></tr><tr><td class = \"rowNumber\" style = \"font-weight: bold; text-align: right;\">2</td><td style = \"text-align: left;\">acetamide</td><td style = \"text-align: right;\">59.037</td><td style = \"text-align: right;\">2.82648</td><td style = \"text-align: right;\">3.12045</td><td style = \"text-align: right;\">377.672</td><td style = \"font-style: italic; text-align: right;\">missing</td><td style = \"font-style: italic; text-align: right;\">missing</td><td style = \"font-style: italic; text-align: right;\">missing</td><td style = \"text-align: left;\">10.1021/acs.iecr.3c02255</td></tr><tr><td class = \"rowNumber\" style = \"font-weight: bold; text-align: right;\">3</td><td style = \"text-align: left;\">acetonitrile</td><td style = \"text-align: right;\">41.027</td><td style = \"text-align: right;\">2.32567</td><td style = \"text-align: right;\">3.16425</td><td style = \"text-align: right;\">207.704</td><td style = \"text-align: right;\">3.92</td><td style = \"font-style: italic; text-align: right;\">missing</td><td style = \"font-style: italic; text-align: right;\">missing</td><td style = \"text-align: left;\">10.1021/acs.iecr.3c02255</td></tr><tr><td class = \"rowNumber\" style = \"font-weight: bold; text-align: right;\">4</td><td style = \"text-align: left;\">acetone</td><td style = \"text-align: right;\">58.042</td><td style = \"text-align: right;\">2.78618</td><td style = \"text-align: right;\">3.24884</td><td style = \"text-align: right;\">231.118</td><td style = \"text-align: right;\">2.88</td><td style = \"font-style: italic; text-align: right;\">missing</td><td style = \"font-style: italic; text-align: right;\">missing</td><td style = \"text-align: left;\">10.1021/acs.iecr.3c02255</td></tr><tr><td class = \"rowNumber\" style = \"font-weight: bold; text-align: right;\">5</td><td style = \"text-align: left;\">ethylenediamine</td><td style = \"text-align: right;\">60.069</td><td style = \"text-align: right;\">3.97041</td><td style = \"text-align: right;\">2.82526</td><td style = \"text-align: right;\">251.777</td><td style = \"font-style: italic; text-align: right;\">missing</td><td style = \"font-style: italic; text-align: right;\">missing</td><td style = \"font-style: italic; text-align: right;\">missing</td><td style = \"text-align: left;\">10.1021/acs.iecr.3c02255</td></tr><tr><td class = \"rowNumber\" style = \"font-weight: bold; text-align: right;\">6</td><td style = \"text-align: left;\">1,2-dibromoethane</td><td style = \"text-align: right;\">185.868</td><td style = \"text-align: right;\">2.59098</td><td style = \"text-align: right;\">3.5717</td><td style = \"text-align: right;\">323.703</td><td style = \"text-align: right;\">1.0</td><td style = \"font-style: italic; text-align: right;\">missing</td><td style = \"font-style: italic; text-align: right;\">missing</td><td style = \"text-align: left;\">10.1021/acs.iecr.3c02255</td></tr><tr><td class = \"rowNumber\" style = \"font-weight: bold; text-align: right;\">7</td><td style = \"text-align: left;\">ethyl bromide</td><td style = \"text-align: right;\">107.957</td><td style = \"text-align: right;\">2.16801</td><td style = \"text-align: right;\">3.52926</td><td style = \"text-align: right;\">266.03</td><td style = \"text-align: right;\">2.03</td><td style = \"font-style: italic; text-align: right;\">missing</td><td style = \"font-style: italic; text-align: right;\">missing</td><td style = \"text-align: left;\">10.1021/acs.iecr.3c02255</td></tr><tr><td class = \"rowNumber\" style = \"font-weight: bold; text-align: right;\">8</td><td style = \"text-align: left;\">1,2-ethanediol</td><td style = \"text-align: right;\">62.037</td><td style = \"text-align: right;\">1.71084</td><td style = \"text-align: right;\">3.73481</td><td style = \"text-align: right;\">354.183</td><td style = \"font-style: italic; text-align: right;\">missing</td><td style = \"font-style: italic; text-align: right;\">missing</td><td style = \"font-style: italic; text-align: right;\">missing</td><td style = \"text-align: left;\">10.1021/acs.iecr.3c02255</td></tr><tr><td class = \"rowNumber\" style = \"font-weight: bold; text-align: right;\">9</td><td style = \"text-align: left;\">ethyl iodide</td><td style = \"text-align: right;\">155.944</td><td style = \"text-align: right;\">1.94206</td><td style = \"text-align: right;\">3.82267</td><td style = \"text-align: right;\">319.639</td><td style = \"text-align: right;\">1.91</td><td style = \"font-style: italic; text-align: right;\">missing</td><td style = \"font-style: italic; text-align: right;\">missing</td><td style = \"text-align: left;\">10.1021/acs.iecr.3c02255</td></tr><tr><td class = \"rowNumber\" style = \"font-weight: bold; text-align: right;\">10</td><td style = \"text-align: left;\">ethanol</td><td style = \"text-align: right;\">46.042</td><td style = \"text-align: right;\">2.8866</td><td style = \"text-align: right;\">2.95772</td><td style = \"text-align: right;\">187.26</td><td style = \"font-style: italic; text-align: right;\">missing</td><td style = \"font-style: italic; text-align: right;\">missing</td><td style = \"font-style: italic; text-align: right;\">missing</td><td style = \"text-align: left;\">10.1021/acs.iecr.3c02255</td></tr><tr><td class = \"rowNumber\" style = \"font-weight: bold; text-align: right;\">11</td><td style = \"text-align: left;\">diethyl ether</td><td style = \"text-align: right;\">74.073</td><td style = \"text-align: right;\">2.97883</td><td style = \"text-align: right;\">3.50108</td><td style = \"text-align: right;\">219.433</td><td style = \"text-align: right;\">1.15</td><td style = \"font-style: italic; text-align: right;\">missing</td><td style = \"font-style: italic; text-align: right;\">missing</td><td style = \"text-align: left;\">10.1021/acs.iecr.3c02255</td></tr><tr><td class = \"rowNumber\" style = \"font-weight: bold; text-align: right;\">12</td><td style = \"text-align: left;\">ethylene oxide</td><td style = \"text-align: right;\">44.026</td><td style = \"text-align: right;\">2.1985</td><td style = \"text-align: right;\">3.06558</td><td style = \"text-align: right;\">241.373</td><td style = \"text-align: right;\">1.89</td><td style = \"font-style: italic; text-align: right;\">missing</td><td style = \"font-style: italic; text-align: right;\">missing</td><td style = \"text-align: left;\">10.1021/acs.iecr.3c02255</td></tr><tr><td class = \"rowNumber\" style = \"font-weight: bold; text-align: right;\">13</td><td style = \"text-align: left;\">2-propen-1-ol</td><td style = \"text-align: right;\">58.042</td><td style = \"text-align: right;\">2.75718</td><td style = \"text-align: right;\">3.22309</td><td style = \"text-align: right;\">233.446</td><td style = \"font-style: italic; text-align: right;\">missing</td><td style = \"font-style: italic; text-align: right;\">missing</td><td style = \"font-style: italic; text-align: right;\">missing</td><td style = \"text-align: left;\">10.1021/acs.iecr.3c02255</td></tr><tr><td style = \"text-align: right;\">&vellip;</td><td style = \"text-align: right;\">&vellip;</td><td style = \"text-align: right;\">&vellip;</td><td style = \"text-align: right;\">&vellip;</td><td style = \"text-align: right;\">&vellip;</td><td style = \"text-align: right;\">&vellip;</td><td style = \"text-align: right;\">&vellip;</td><td style = \"text-align: right;\">&vellip;</td><td style = \"text-align: right;\">&vellip;</td><td style = \"text-align: right;\">&vellip;</td></tr><tr><td class = \"rowNumber\" style = \"font-weight: bold; text-align: right;\">1831</td><td style = \"text-align: left;\">trans-isoeugenol</td><td style = \"text-align: right;\">164.084</td><td style = \"text-align: right;\">2.50019</td><td style = \"text-align: right;\">4.5</td><td style = \"text-align: right;\">380.259</td><td style = \"font-style: italic; text-align: right;\">missing</td><td style = \"font-style: italic; text-align: right;\">missing</td><td style = \"font-style: italic; text-align: right;\">missing</td><td style = \"text-align: left;\">10.1021/acs.iecr.3c02255</td></tr><tr><td class = \"rowNumber\" style = \"font-weight: bold; text-align: right;\">1832</td><td style = \"text-align: left;\">7-methyl-1,5,7-triazabicyclo[4.4.0]dec-5-ene</td><td style = \"text-align: right;\">153.127</td><td style = \"text-align: right;\">4.12404</td><td style = \"text-align: right;\">3.6836</td><td style = \"text-align: right;\">323.829</td><td style = \"text-align: right;\">missing</td><td style = \"font-style: italic; text-align: right;\">missing</td><td style = \"font-style: italic; text-align: right;\">missing</td><td style = \"text-align: left;\">10.1021/acs.iecr.3c02255</td></tr><tr><td class = \"rowNumber\" style = \"font-weight: bold; text-align: right;\">1833</td><td style = \"text-align: left;\">nonylphenols (mixture of isomeres)</td><td style = \"text-align: right;\">220.183</td><td style = \"text-align: right;\">4.39731</td><td style = \"text-align: right;\">4.24914</td><td style = \"text-align: right;\">334.036</td><td style = \"font-style: italic; text-align: right;\">missing</td><td style = \"font-style: italic; text-align: right;\">missing</td><td style = \"font-style: italic; text-align: right;\">missing</td><td style = \"text-align: left;\">10.1021/acs.iecr.3c02255</td></tr><tr><td class = \"rowNumber\" style = \"font-weight: bold; text-align: right;\">1834</td><td style = \"text-align: left;\">(z)-1-chloro-2,3,3,3-tetrafluoropropene</td><td style = \"text-align: right;\">147.97</td><td style = \"text-align: right;\">3.57688</td><td style = \"text-align: right;\">3.2949</td><td style = \"text-align: right;\">185.337</td><td style = \"text-align: right;\">missing</td><td style = \"font-style: italic; text-align: right;\">missing</td><td style = \"font-style: italic; text-align: right;\">missing</td><td style = \"text-align: left;\">10.1021/acs.iecr.3c02255</td></tr><tr><td class = \"rowNumber\" style = \"font-weight: bold; text-align: right;\">1835</td><td style = \"text-align: left;\">vinylethylene carbonate</td><td style = \"text-align: right;\">114.032</td><td style = \"text-align: right;\">4.8871</td><td style = \"text-align: right;\">3.03148</td><td style = \"text-align: right;\">292.571</td><td style = \"text-align: right;\">missing</td><td style = \"font-style: italic; text-align: right;\">missing</td><td style = \"font-style: italic; text-align: right;\">missing</td><td style = \"text-align: left;\">10.1021/acs.iecr.3c02255</td></tr><tr><td class = \"rowNumber\" style = \"font-weight: bold; text-align: right;\">1836</td><td style = \"text-align: left;\">2,3-dimethylbenzo[b]thiophene</td><td style = \"text-align: right;\">162.05</td><td style = \"text-align: right;\">22.8761</td><td style = \"text-align: right;\">1.98599</td><td style = \"text-align: right;\">146.426</td><td style = \"font-style: italic; text-align: right;\">missing</td><td style = \"font-style: italic; text-align: right;\">missing</td><td style = \"font-style: italic; text-align: right;\">missing</td><td style = \"text-align: left;\">10.1021/acs.iecr.3c02255</td></tr><tr><td class = \"rowNumber\" style = \"font-weight: bold; text-align: right;\">1837</td><td style = \"text-align: left;\">2-methyl-2-propenoic acid 3-(trichlorosilyl)propyl ester</td><td style = \"text-align: right;\">259.959</td><td style = \"text-align: right;\">19.524</td><td style = \"text-align: right;\">2.36654</td><td style = \"text-align: right;\">155.911</td><td style = \"text-align: right;\">missing</td><td style = \"font-style: italic; text-align: right;\">missing</td><td style = \"font-style: italic; text-align: right;\">missing</td><td style = \"text-align: left;\">10.1021/acs.iecr.3c02255</td></tr><tr><td class = \"rowNumber\" style = \"font-weight: bold; text-align: right;\">1838</td><td style = \"text-align: left;\">tris(methoxyethoxy)vinylsilane</td><td style = \"text-align: right;\">280.134</td><td style = \"text-align: right;\">7.814</td><td style = \"text-align: right;\">3.61399</td><td style = \"text-align: right;\">234.7</td><td style = \"font-style: italic; text-align: right;\">missing</td><td style = \"font-style: italic; text-align: right;\">missing</td><td style = \"font-style: italic; text-align: right;\">missing</td><td style = \"text-align: left;\">10.1021/acs.iecr.3c02255</td></tr><tr><td class = \"rowNumber\" style = \"font-weight: bold; text-align: right;\">1839</td><td style = \"text-align: left;\">(1s,5r)-6,8-dioxabicyclo(3.2.1)octan-4-one</td><td style = \"text-align: right;\">128.047</td><td style = \"text-align: right;\">3.66204</td><td style = \"text-align: right;\">3.42079</td><td style = \"text-align: right;\">329.225</td><td style = \"font-style: italic; text-align: right;\">missing</td><td style = \"font-style: italic; text-align: right;\">missing</td><td style = \"font-style: italic; text-align: right;\">missing</td><td style = \"text-align: left;\">10.1021/acs.iecr.3c02255</td></tr><tr><td class = \"rowNumber\" style = \"font-weight: bold; text-align: right;\">1840</td><td style = \"text-align: left;\">1,6-anhydro-3,4-dideoxyhex-3-enopyran-2-ulose</td><td style = \"text-align: right;\">126.032</td><td style = \"text-align: right;\">3.81381</td><td style = \"text-align: right;\">3.31415</td><td style = \"text-align: right;\">330.341</td><td style = \"font-style: italic; text-align: right;\">missing</td><td style = \"font-style: italic; text-align: right;\">missing</td><td style = \"font-style: italic; text-align: right;\">missing</td><td style = \"text-align: left;\">10.1021/acs.iecr.3c02255</td></tr><tr><td class = \"rowNumber\" style = \"font-weight: bold; text-align: right;\">1841</td><td style = \"text-align: left;\">1,3-dipropylene glycol</td><td style = \"text-align: right;\">134.094</td><td style = \"text-align: right;\">2.48459</td><td style = \"text-align: right;\">4.31319</td><td style = \"text-align: right;\">266.224</td><td style = \"font-style: italic; text-align: right;\">missing</td><td style = \"font-style: italic; text-align: right;\">missing</td><td style = \"font-style: italic; text-align: right;\">missing</td><td style = \"text-align: left;\">10.1021/acs.iecr.3c02255</td></tr><tr><td class = \"rowNumber\" style = \"font-weight: bold; text-align: right;\">1842</td><td style = \"text-align: left;\">phenyldichlorophosphite</td><td style = \"text-align: right;\">193.946</td><td style = \"text-align: right;\">4.78249</td><td style = \"text-align: right;\">3.47877</td><td style = \"text-align: right;\">268.657</td><td style = \"text-align: right;\">missing</td><td style = \"font-style: italic; text-align: right;\">missing</td><td style = \"font-style: italic; text-align: right;\">missing</td><td style = \"text-align: left;\">10.1021/acs.iecr.3c02255</td></tr></tbody></table></div>"
      ],
      "text/latex": [
       "\\begin{tabular}{r|cccccccc}\n",
       "\t& species & Mw & segment & sigma & epsilon & dipole & n\\_H & \\\\\n",
       "\t\\hline\n",
       "\t& String & Float64 & Float64 & Float64 & Float64 & Float64? & Missing & \\\\\n",
       "\t\\hline\n",
       "\t1 & acetaldehyde & 44.026 & 2.14028 & 3.22662 & 227.621 & 2.69 & \\emph{missing} & $\\dots$ \\\\\n",
       "\t2 & acetamide & 59.037 & 2.82648 & 3.12045 & 377.672 & \\emph{missing} & \\emph{missing} & $\\dots$ \\\\\n",
       "\t3 & acetonitrile & 41.027 & 2.32567 & 3.16425 & 207.704 & 3.92 & \\emph{missing} & $\\dots$ \\\\\n",
       "\t4 & acetone & 58.042 & 2.78618 & 3.24884 & 231.118 & 2.88 & \\emph{missing} & $\\dots$ \\\\\n",
       "\t5 & ethylenediamine & 60.069 & 3.97041 & 2.82526 & 251.777 & \\emph{missing} & \\emph{missing} & $\\dots$ \\\\\n",
       "\t6 & 1,2-dibromoethane & 185.868 & 2.59098 & 3.5717 & 323.703 & 1.0 & \\emph{missing} & $\\dots$ \\\\\n",
       "\t7 & ethyl bromide & 107.957 & 2.16801 & 3.52926 & 266.03 & 2.03 & \\emph{missing} & $\\dots$ \\\\\n",
       "\t8 & 1,2-ethanediol & 62.037 & 1.71084 & 3.73481 & 354.183 & \\emph{missing} & \\emph{missing} & $\\dots$ \\\\\n",
       "\t9 & ethyl iodide & 155.944 & 1.94206 & 3.82267 & 319.639 & 1.91 & \\emph{missing} & $\\dots$ \\\\\n",
       "\t10 & ethanol & 46.042 & 2.8866 & 2.95772 & 187.26 & \\emph{missing} & \\emph{missing} & $\\dots$ \\\\\n",
       "\t11 & diethyl ether & 74.073 & 2.97883 & 3.50108 & 219.433 & 1.15 & \\emph{missing} & $\\dots$ \\\\\n",
       "\t12 & ethylene oxide & 44.026 & 2.1985 & 3.06558 & 241.373 & 1.89 & \\emph{missing} & $\\dots$ \\\\\n",
       "\t13 & 2-propen-1-ol & 58.042 & 2.75718 & 3.22309 & 233.446 & \\emph{missing} & \\emph{missing} & $\\dots$ \\\\\n",
       "\t14 & formic acid & 46.005 & 1.83695 & 2.97665 & 191.732 & \\emph{missing} & \\emph{missing} & $\\dots$ \\\\\n",
       "\t15 & formic acid ethyl ester & 74.037 & 2.99161 & 3.25305 & 235.441 & 1.93 & \\emph{missing} & $\\dots$ \\\\\n",
       "\t16 & aniline & 93.058 & 3.03895 & 3.51123 & 327.096 & \\emph{missing} & \\emph{missing} & $\\dots$ \\\\\n",
       "\t17 & methoxybenzene & 108.058 & 3.43219 & 3.51952 & 286.44 & 1.38 & \\emph{missing} & $\\dots$ \\\\\n",
       "\t18 & 2-methylpyridine & 93.058 & 3.03569 & 3.53859 & 287.942 & 2.04 & \\emph{missing} & $\\dots$ \\\\\n",
       "\t19 & .alpha.-pinene & 136.125 & 3.28923 & 4.03598 & 284.601 & \\emph{missing} & \\emph{missing} & $\\dots$ \\\\\n",
       "\t20 & ethyl acetate & 88.052 & 3.60057 & 3.27103 & 227.018 & 1.78 & \\emph{missing} & $\\dots$ \\\\\n",
       "\t21 & 2-butanol & 74.073 & 3.42397 & 3.31208 & 230.312 & \\emph{missing} & \\emph{missing} & $\\dots$ \\\\\n",
       "\t22 & 2,3-butanediol & 90.068 & 2.6315 & 3.62098 & 130.739 & \\emph{missing} & \\emph{missing} & $\\dots$ \\\\\n",
       "\t23 & benzyl alcohol & 108.058 & 1.7318 & 4.5 & 433.091 & \\emph{missing} & \\emph{missing} & $\\dots$ \\\\\n",
       "\t24 & ethylbenzene & 106.078 & 3.0887 & 3.781 & 287.084 & \\emph{missing} & \\emph{missing} & $\\dots$ \\\\\n",
       "\t$\\dots$ & $\\dots$ & $\\dots$ & $\\dots$ & $\\dots$ & $\\dots$ & $\\dots$ & $\\dots$ &  \\\\\n",
       "\\end{tabular}\n"
      ],
      "text/plain": [
       "\u001b[1m1842×9 DataFrame\u001b[0m\n",
       "\u001b[1m  Row \u001b[0m│\u001b[1m species                           \u001b[0m\u001b[1m Mw      \u001b[0m\u001b[1m segment  \u001b[0m\u001b[1m sigma   \u001b[0m\u001b[1m epsilon\u001b[0m ⋯\n",
       "      │\u001b[90m String                            \u001b[0m\u001b[90m Float64 \u001b[0m\u001b[90m Float64  \u001b[0m\u001b[90m Float64 \u001b[0m\u001b[90m Float64\u001b[0m ⋯\n",
       "──────┼─────────────────────────────────────────────────────────────────────────\n",
       "    1 │ acetaldehyde                        44.026   2.14028  3.22662  227.621 ⋯\n",
       "    2 │ acetamide                           59.037   2.82648  3.12045  377.672\n",
       "    3 │ acetonitrile                        41.027   2.32567  3.16425  207.704\n",
       "    4 │ acetone                             58.042   2.78618  3.24884  231.118\n",
       "    5 │ ethylenediamine                     60.069   3.97041  2.82526  251.777 ⋯\n",
       "    6 │ 1,2-dibromoethane                  185.868   2.59098  3.5717   323.703\n",
       "    7 │ ethyl bromide                      107.957   2.16801  3.52926  266.03\n",
       "    8 │ 1,2-ethanediol                      62.037   1.71084  3.73481  354.183\n",
       "  ⋮   │                 ⋮                     ⋮        ⋮         ⋮        ⋮    ⋱\n",
       " 1836 │ 2,3-dimethylbenzo[b]thiophene      162.05   22.8761   1.98599  146.426 ⋯\n",
       " 1837 │ 2-methyl-2-propenoic acid 3-(tri…  259.959  19.524    2.36654  155.911\n",
       " 1838 │ tris(methoxyethoxy)vinylsilane     280.134   7.814    3.61399  234.7\n",
       " 1839 │ (1s,5r)-6,8-dioxabicyclo(3.2.1)o…  128.047   3.66204  3.42079  329.225\n",
       " 1840 │ 1,6-anhydro-3,4-dideoxyhex-3-eno…  126.032   3.81381  3.31415  330.341 ⋯\n",
       " 1841 │ 1,3-dipropylene glycol             134.094   2.48459  4.31319  266.224\n",
       " 1842 │ phenyldichlorophosphite            193.946   4.78249  3.47877  268.657\n",
       "\u001b[36m                                                 4 columns and 1827 rows omitted\u001b[0m"
      ]
     },
     "metadata": {},
     "output_type": "display_data"
    }
   ],
   "source": [
    "df2.species = df.common_name\n",
    "df2.Mw = df.molarweight\n",
    "df2.segment = df.m\n",
    "df2.sigma = df.sigma\n",
    "df2.epsilon = df.epsilon_k\n",
    "df2.dipole = df.mu\n",
    "df2[!, :source] .= \"10.1021/acs.iecr.3c02255\"\n",
    "df2"
   ]
  },
  {
   "cell_type": "code",
   "execution_count": null,
   "metadata": {},
   "outputs": [],
   "source": []
  }
 ],
 "metadata": {
  "kernelspec": {
   "display_name": "Julia 1.8.2",
   "language": "julia",
   "name": "julia-1.8"
  },
  "language_info": {
   "file_extension": ".jl",
   "mimetype": "application/julia",
   "name": "julia",
   "version": "1.8.2"
  }
 },
 "nbformat": 4,
 "nbformat_minor": 2
}
