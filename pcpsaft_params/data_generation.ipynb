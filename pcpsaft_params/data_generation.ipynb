{
 "cells": [
  {
   "cell_type": "code",
   "execution_count": null,
   "metadata": {},
   "outputs": [],
   "source": [
    "import Pkg; Pkg.activate(\"..\")"
   ]
  },
  {
   "cell_type": "code",
   "execution_count": null,
   "metadata": {},
   "outputs": [],
   "source": [
    "using CSV, DataFrames, DelimitedFiles, Clapeyron, PyCall, XLSX\n",
    "import PyPlot; const plt = PyPlot ;"
   ]
  },
  {
   "cell_type": "code",
   "execution_count": null,
   "metadata": {},
   "outputs": [],
   "source": [
    "df = CSV.read(\"SI_pcp-saft_parameters.csv\",DataFrame,header=1) ;\n",
    "fieldnames(typeof(df))\n",
    "#display(names(df)[1:20]) ;\n",
    "writedlm(\"out.txt\", names(df), ' ') ;\n",
    "\n",
    "replace!(df.mu, missing => 0) ;\n",
    "replace!(df.kappa_ab, missing => 0) ;\n",
    "replace!(df.epsilon_k_ab, missing => 0) ;\n",
    "\n",
    "df.mu = Float64.(df.mu)\n",
    "df.kappa_ab = Float64.(df.kappa_ab)\n",
    "df.epsilon_k_ab = Float64.(df.epsilon_k_ab) ;\n",
    "df = sort(df, :molarweight) ;\n",
    "df"
   ]
  }
 ],
 "metadata": {
  "kernelspec": {
   "display_name": "Julia 1.9.3",
   "language": "julia",
   "name": "julia-1.9"
  },
  "language_info": {
   "name": "julia"
  }
 },
 "nbformat": 4,
 "nbformat_minor": 2
}
