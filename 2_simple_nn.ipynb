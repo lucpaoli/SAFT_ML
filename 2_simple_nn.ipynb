{
 "cells": [
  {
   "cell_type": "code",
   "execution_count": 2,
   "metadata": {},
   "outputs": [
    {
     "name": "stderr",
     "output_type": "stream",
     "text": [
      "\u001b[32m\u001b[1m  Activating\u001b[22m\u001b[39m project at `~/SAFT_ML`\n"
     ]
    }
   ],
   "source": [
    "import Pkg; Pkg.activate(\".\")"
   ]
  },
  {
   "cell_type": "code",
   "execution_count": 3,
   "metadata": {},
   "outputs": [
    {
     "name": "stderr",
     "output_type": "stream",
     "text": [
      "WARNING: redefinition of constant UNIT_FORMATS. This may fail, cause incorrect answers, or produce other errors.\n"
     ]
    },
    {
     "data": {
      "text/plain": [
       "TaskLocalRNG()"
      ]
     },
     "metadata": {},
     "output_type": "display_data"
    }
   ],
   "source": [
    "using Revise\n",
    "\n",
    "# Equations of state\n",
    "using Clapeyron\n",
    "includet(\"./saftvrmienn.jl\")\n",
    "import Clapeyron: a_res\n",
    "\n",
    "# Generating molecular feature vectors\n",
    "using RDKitMinimalLib \n",
    "\n",
    "# Machine learning\n",
    "using Flux\n",
    "using ForwardDiff, DiffResults\n",
    "using Zygote, ChainRulesCore\n",
    "\n",
    "# Misc\n",
    "using Statistics, Random, Plots\n",
    "\n",
    "Random.seed!(1234)"
   ]
  },
  {
   "cell_type": "code",
   "execution_count": 4,
   "metadata": {},
   "outputs": [
    {
     "data": {
      "text/plain": [
       "SingleParam{Float64}(\"segment\") with 1 component:\n",
       " \"propane\" => 1.6845"
      ]
     },
     "metadata": {},
     "output_type": "display_data"
    }
   ],
   "source": [
    "m = SAFTVRMie([\"propane\"])\n",
    "m.params.segment"
   ]
  },
  {
   "cell_type": "code",
   "execution_count": 5,
   "metadata": {},
   "outputs": [
    {
     "name": "stdout",
     "output_type": "stream",
     "text": [
      "a = differentiable_saft(X_nom_meth, 0.0001, 300.0, 16.04) = -0.2883850541317945\n",
      "∂a_∂x = ForwardDiff.gradient((x->begin\n",
      "                #= /home/luc/SAFT_ML/2_simple_nn.ipynb:18 =#\n",
      "                differentiable_saft(x, 0.0001, 300.0, 16.04)\n",
      "            end), X_nom_meth) = "
     ]
    },
    {
     "name": "stdout",
     "output_type": "stream",
     "text": [
      "[-0.5726123722860852, -0.12769669934951566, 0.05369835330412474, -0.006493795403501146]\n"
     ]
    },
    {
     "data": {
      "text/plain": [
       "4-element Vector{Float64}:\n",
       " -0.5726123722860852\n",
       " -0.12769669934951566\n",
       "  0.05369835330412474\n",
       " -0.006493795403501146"
      ]
     },
     "metadata": {},
     "output_type": "display_data"
    }
   ],
   "source": [
    "function differentiable_saft(X::AbstractVector{T}, Vol, Temp, Mw) where {T<:Real}\n",
    "    model = SAFTVRMieNN(\n",
    "        params=SAFTVRMieNNParams(\n",
    "            Mw=[Mw],\n",
    "            segment=T[X[1]], # (C - 4)/(3) + 1\n",
    "            sigma=T[X[2]] * 1e-10,\n",
    "            lambda_a=T[6.0], # Fixing at 6. Simple molecules interacting through London dispersion -> Should have λₐ = 6.\n",
    "            lambda_r=T[X[3]],\n",
    "            epsilon=T[X[4]],\n",
    "            epsilon_assoc=T[],\n",
    "            bondvol=T[],\n",
    "        )\n",
    "    )\n",
    "    return a_res(model, Vol, Temp, T[1.0])\n",
    "end\n",
    "X_nom_meth = Float32[1.0, 3.737, 12.504, 152.58]\n",
    "@show a = differentiable_saft(X_nom_meth, 1e-4, 300.0, 16.04)\n",
    "@show ∂a_∂x = ForwardDiff.gradient(x -> differentiable_saft(x, 1e-4, 300.0, 16.04), X_nom_meth)\n"
   ]
  },
  {
   "cell_type": "code",
   "execution_count": 6,
   "metadata": {},
   "outputs": [
    {
     "name": "stdout",
     "output_type": "stream",
     "text": [
      "Zygote.gradient((x->begin\n",
      "            #= /home/luc/SAFT_ML/2_simple_nn.ipynb:19 =#\n",
      "            differentiable_saft(x, 0.0001, 300.0, 16.04)\n",
      "        end), X_nom_meth) = (Float32[-0.57261235, -0.1276967, 0.053698353, -0.006493795],)\n",
      "ForwardDiff.gradient((x->begin\n",
      "            #= /home/luc/SAFT_ML/2_simple_nn.ipynb:20 =#\n",
      "            differentiable_saft(x, 0.0001, 300.0, 16.04)\n",
      "        end), X_nom_meth) = "
     ]
    },
    {
     "name": "stdout",
     "output_type": "stream",
     "text": [
      "[-0.5726123722860852, -0.12769669934951566, 0.05369835330412474, -0.006493795403501146]\n"
     ]
    }
   ],
   "source": [
    "function ChainRulesCore.rrule(::typeof(differentiable_saft), x, V, T, Mw)\n",
    "    y = differentiable_saft(x, V, T, Mw)\n",
    "\n",
    "    function f_pullback(Δy)\n",
    "        # Use ForwardDiff to compute the gradient\n",
    "        #* @thunk means derivatives only computed when needed\n",
    "        ∂x = @thunk(ForwardDiff.gradient(x -> differentiable_saft(x, V, T, Mw), x) .* Δy)\n",
    "        ∂V = @thunk(ForwardDiff.derivative(V -> differentiable_saft(x, V, T, Mw), V) * Δy)\n",
    "        ∂T = @thunk(ForwardDiff.derivative(T -> differentiable_saft(x, V, T, Mw), T) * Δy)\n",
    "        ∂Mw = @thunk(ForwardDiff.derivative(Mw -> differentiable_saft(x, V, T, Mw), Mw) * Δy)\n",
    "        return (NoTangent(), ∂x, ∂V, ∂T, ∂Mw)\n",
    "    end\n",
    "\n",
    "    return y, f_pullback\n",
    "end\n",
    "\n",
    "# Test the gradient computation\n",
    "# Zygote.gradient(X -> differentiable_saft(X, 1e-4, 300.0), X_nom_meth)\n",
    "@show Zygote.gradient(x -> differentiable_saft(x, 1e-4, 300.0, 16.04), X_nom_meth)\n",
    "@show ForwardDiff.gradient(x -> differentiable_saft(x, 1e-4, 300.0, 16.04), X_nom_meth)\n",
    "nothing"
   ]
  },
  {
   "cell_type": "code",
   "execution_count": 7,
   "metadata": {},
   "outputs": [
    {
     "data": {
      "text/plain": [
       "5-element Vector{Float32}:\n",
       " 0.0\n",
       " 0.122603744\n",
       " 0.7758782\n",
       " 0.0\n",
       " 1.6340438"
      ]
     },
     "metadata": {},
     "output_type": "display_data"
    }
   ],
   "source": [
    "# Define neural network\n",
    "#? What inputs should we take\n",
    "#! Should use inputs from previous ML coursework (ΔG_mix prediction)\n",
    "model = Chain(\n",
    "    Dense(2, 10, relu),\n",
    "    Dense(10, 5, relu),\n",
    ")\n",
    "\n",
    "# X are SAFTVRMie parameter predictions\n",
    "ref_model = GERG2008([\"methane\"])\n",
    "ref_a::Float32 = a_res(ref_model, 1e-4, 300.0, [1.0])\n",
    "function test_loss(X)\n",
    "    a = differentiable_saft(X, 1e-4, 300.0, 16.04)\n",
    "    return (a - ref_a)^2\n",
    "end\n",
    "\n",
    "model(Float32[1.3, 1.0])"
   ]
  },
  {
   "cell_type": "code",
   "execution_count": 8,
   "metadata": {},
   "outputs": [
    {
     "name": "stdout",
     "output_type": "stream",
     "text": [
      "test_loss(X_nom_meth) = 0.00010405769559325105\n"
     ]
    },
    {
     "data": {
      "image/png": "[encoded data removed]",
      "image/svg+xml": [
       "<?xml version=\"1.0\" encoding=\"utf-8\"?>\n",
       "<svg xmlns=\"http://www.w3.org/2000/svg\" xmlns:xlink=\"http://www.w3.org/1999/xlink\" width=\"600\" height=\"400\" viewBox=\"0 0 2400 1600\">\n",
       "<defs>\n",
       "  <clipPath id=\"clip630\">\n",
       "    <rect x=\"0\" y=\"0\" width=\"2400\" height=\"1600\"/>\n",
       "  </clipPath>\n",
       "</defs>\n",
       "<path clip-path=\"url(#clip630)\" d=\"M0 1600 L2400 1600 L2400 0 L0 0  Z\" fill=\"#ffffff\" fill-rule=\"evenodd\" fill-opacity=\"1\"/>\n",
       "<defs>\n",
       "  <clipPath id=\"clip631\">\n",
       "    <rect x=\"480\" y=\"0\" width=\"1681\" height=\"1600\"/>\n",
       "  </clipPath>\n",
       "</defs>\n",
       "<path clip-path=\"url(#clip630)\" d=\"M186.274 1474.16 L2352.76 1474.16 L2352.76 47.2441 L186.274 47.2441  Z\" fill=\"#ffffff\" fill-rule=\"evenodd\" fill-opacity=\"1\"/>\n",
       "<defs>\n",
       "  <clipPath id=\"clip632\">\n",
       "    <rect x=\"186\" y=\"47\" width=\"2167\" height=\"1428\"/>\n",
       "  </clipPath>\n",
       "</defs>\n",
       "<polyline clip-path=\"url(#clip632)\" style=\"stroke:#000000; stroke-linecap:round; stroke-linejoin:round; stroke-width:2; stroke-opacity:0.1; fill:none\" points=\"381.973,1474.16 381.973,47.2441 \"/>\n",
       "<polyline clip-path=\"url(#clip632)\" style=\"stroke:#000000; stroke-linecap:round; stroke-linejoin:round; stroke-width:2; stroke-opacity:0.1; fill:none\" points=\"892.935,1474.16 892.935,47.2441 \"/>\n",
       "<polyline clip-path=\"url(#clip632)\" style=\"stroke:#000000; stroke-linecap:round; stroke-linejoin:round; stroke-width:2; stroke-opacity:0.1; fill:none\" points=\"1403.9,1474.16 1403.9,47.2441 \"/>\n",
       "<polyline clip-path=\"url(#clip632)\" style=\"stroke:#000000; stroke-linecap:round; stroke-linejoin:round; stroke-width:2; stroke-opacity:0.1; fill:none\" points=\"1914.86,1474.16 1914.86,47.2441 \"/>\n",
       "<polyline clip-path=\"url(#clip630)\" style=\"stroke:#000000; stroke-linecap:round; stroke-linejoin:round; stroke-width:4; stroke-opacity:1; fill:none\" points=\"186.274,1474.16 2352.76,1474.16 \"/>\n",
       "<polyline clip-path=\"url(#clip630)\" style=\"stroke:#000000; stroke-linecap:round; stroke-linejoin:round; stroke-width:4; stroke-opacity:1; fill:none\" points=\"381.973,1474.16 381.973,1455.27 \"/>\n",
       "<polyline clip-path=\"url(#clip630)\" style=\"stroke:#000000; stroke-linecap:round; stroke-linejoin:round; stroke-width:4; stroke-opacity:1; fill:none\" points=\"892.935,1474.16 892.935,1455.27 \"/>\n",
       "<polyline clip-path=\"url(#clip630)\" style=\"stroke:#000000; stroke-linecap:round; stroke-linejoin:round; stroke-width:4; stroke-opacity:1; fill:none\" points=\"1403.9,1474.16 1403.9,1455.27 \"/>\n",
       "<polyline clip-path=\"url(#clip630)\" style=\"stroke:#000000; stroke-linecap:round; stroke-linejoin:round; stroke-width:4; stroke-opacity:1; fill:none\" points=\"1914.86,1474.16 1914.86,1455.27 \"/>\n",
       "<path clip-path=\"url(#clip630)\" d=\"M265.864 1548.29 L282.184 1548.29 L282.184 1552.22 L260.239 1552.22 L260.239 1548.29 Q262.901 1545.53 267.485 1540.91 Q272.091 1536.25 273.272 1534.91 Q275.517 1532.39 276.397 1530.65 Q277.3 1528.89 277.3 1527.2 Q277.3 1524.45 275.355 1522.71 Q273.434 1520.97 270.332 1520.97 Q268.133 1520.97 265.679 1521.74 Q263.249 1522.5 260.471 1524.05 L260.471 1519.33 Q263.295 1518.2 265.749 1517.62 Q268.202 1517.04 270.239 1517.04 Q275.61 1517.04 278.804 1519.72 Q281.999 1522.41 281.999 1526.9 Q281.999 1529.03 281.188 1530.95 Q280.401 1532.85 278.295 1535.44 Q277.716 1536.11 274.614 1539.33 Q271.513 1542.53 265.864 1548.29 Z\" fill=\"#000000\" fill-rule=\"nonzero\" fill-opacity=\"1\" /><path clip-path=\"url(#clip630)\" d=\"M291.999 1546.35 L296.883 1546.35 L296.883 1552.22 L291.999 1552.22 L291.999 1546.35 Z\" fill=\"#000000\" fill-rule=\"nonzero\" fill-opacity=\"1\" /><path clip-path=\"url(#clip630)\" d=\"M317.068 1520.74 Q313.457 1520.74 311.628 1524.31 Q309.822 1527.85 309.822 1534.98 Q309.822 1542.09 311.628 1545.65 Q313.457 1549.19 317.068 1549.19 Q320.702 1549.19 322.508 1545.65 Q324.336 1542.09 324.336 1534.98 Q324.336 1527.85 322.508 1524.31 Q320.702 1520.74 317.068 1520.74 M317.068 1517.04 Q322.878 1517.04 325.934 1521.65 Q329.012 1526.23 329.012 1534.98 Q329.012 1543.71 325.934 1548.31 Q322.878 1552.9 317.068 1552.9 Q311.258 1552.9 308.179 1548.31 Q305.123 1543.71 305.123 1534.98 Q305.123 1526.23 308.179 1521.65 Q311.258 1517.04 317.068 1517.04 Z\" fill=\"#000000\" fill-rule=\"nonzero\" fill-opacity=\"1\" /><path clip-path=\"url(#clip630)\" d=\"M365.401 1526.76 L354.822 1537.39 L365.401 1547.97 L362.646 1550.77 L352.021 1540.14 L341.396 1550.77 L338.665 1547.97 L349.22 1537.39 L338.665 1526.76 L341.396 1523.96 L352.021 1534.59 L362.646 1523.96 L365.401 1526.76 Z\" fill=\"#000000\" fill-rule=\"nonzero\" fill-opacity=\"1\" /><path clip-path=\"url(#clip630)\" d=\"M377.762 1548.29 L385.401 1548.29 L385.401 1521.92 L377.091 1523.59 L377.091 1519.33 L385.355 1517.66 L390.03 1517.66 L390.03 1548.29 L397.669 1548.29 L397.669 1552.22 L377.762 1552.22 L377.762 1548.29 Z\" fill=\"#000000\" fill-rule=\"nonzero\" fill-opacity=\"1\" /><path clip-path=\"url(#clip630)\" d=\"M417.114 1520.74 Q413.502 1520.74 411.674 1524.31 Q409.868 1527.85 409.868 1534.98 Q409.868 1542.09 411.674 1545.65 Q413.502 1549.19 417.114 1549.19 Q420.748 1549.19 422.553 1545.65 Q424.382 1542.09 424.382 1534.98 Q424.382 1527.85 422.553 1524.31 Q420.748 1520.74 417.114 1520.74 M417.114 1517.04 Q422.924 1517.04 425.979 1521.65 Q429.058 1526.23 429.058 1534.98 Q429.058 1543.71 425.979 1548.31 Q422.924 1552.9 417.114 1552.9 Q411.303 1552.9 408.225 1548.31 Q405.169 1543.71 405.169 1534.98 Q405.169 1526.23 408.225 1521.65 Q411.303 1517.04 417.114 1517.04 Z\" fill=\"#000000\" fill-rule=\"nonzero\" fill-opacity=\"1\" /><path clip-path=\"url(#clip630)\" d=\"M429.058 1511.14 L453.17 1511.14 L453.17 1514.34 L429.058 1514.34 L429.058 1511.14 Z\" fill=\"#000000\" fill-rule=\"nonzero\" fill-opacity=\"1\" /><path clip-path=\"url(#clip630)\" d=\"M462.028 1521.62 L468.235 1521.62 L468.235 1500.19 L461.483 1501.55 L461.483 1498.09 L468.197 1496.73 L471.996 1496.73 L471.996 1521.62 L478.203 1521.62 L478.203 1524.81 L462.028 1524.81 L462.028 1521.62 Z\" fill=\"#000000\" fill-rule=\"nonzero\" fill-opacity=\"1\" /><path clip-path=\"url(#clip630)\" d=\"M494.001 1499.24 Q491.067 1499.24 489.581 1502.13 Q488.114 1505.01 488.114 1510.8 Q488.114 1516.58 489.581 1519.47 Q491.067 1522.35 494.001 1522.35 Q496.954 1522.35 498.421 1519.47 Q499.907 1516.58 499.907 1510.8 Q499.907 1505.01 498.421 1502.13 Q496.954 1499.24 494.001 1499.24 M494.001 1496.23 Q498.722 1496.23 501.205 1499.97 Q503.706 1503.69 503.706 1510.8 Q503.706 1517.89 501.205 1521.64 Q498.722 1525.36 494.001 1525.36 Q489.28 1525.36 486.779 1521.64 Q484.296 1517.89 484.296 1510.8 Q484.296 1503.69 486.779 1499.97 Q489.28 1496.23 494.001 1496.23 Z\" fill=\"#000000\" fill-rule=\"nonzero\" fill-opacity=\"1\" /><path clip-path=\"url(#clip630)\" d=\"M786.897 1533.59 Q790.253 1534.31 792.128 1536.58 Q794.026 1538.85 794.026 1542.18 Q794.026 1547.29 790.508 1550.1 Q786.989 1552.9 780.508 1552.9 Q778.332 1552.9 776.017 1552.46 Q773.725 1552.04 771.272 1551.18 L771.272 1546.67 Q773.216 1547.8 775.531 1548.38 Q777.846 1548.96 780.369 1548.96 Q784.767 1548.96 787.059 1547.22 Q789.373 1545.49 789.373 1542.18 Q789.373 1539.12 787.221 1537.41 Q785.091 1535.67 781.272 1535.67 L777.244 1535.67 L777.244 1531.83 L781.457 1531.83 Q784.906 1531.83 786.734 1530.47 Q788.563 1529.08 788.563 1526.48 Q788.563 1523.82 786.665 1522.41 Q784.79 1520.97 781.272 1520.97 Q779.35 1520.97 777.151 1521.39 Q774.952 1521.81 772.313 1522.69 L772.313 1518.52 Q774.975 1517.78 777.29 1517.41 Q779.628 1517.04 781.688 1517.04 Q787.012 1517.04 790.114 1519.47 Q793.216 1521.88 793.216 1526 Q793.216 1528.87 791.572 1530.86 Q789.929 1532.83 786.897 1533.59 Z\" fill=\"#000000\" fill-rule=\"nonzero\" fill-opacity=\"1\" /><path clip-path=\"url(#clip630)\" d=\"M802.892 1546.35 L807.776 1546.35 L807.776 1552.22 L802.892 1552.22 L802.892 1546.35 Z\" fill=\"#000000\" fill-rule=\"nonzero\" fill-opacity=\"1\" /><path clip-path=\"url(#clip630)\" d=\"M827.961 1520.74 Q824.35 1520.74 822.521 1524.31 Q820.716 1527.85 820.716 1534.98 Q820.716 1542.09 822.521 1545.65 Q824.35 1549.19 827.961 1549.19 Q831.595 1549.19 833.401 1545.65 Q835.23 1542.09 835.23 1534.98 Q835.23 1527.85 833.401 1524.31 Q831.595 1520.74 827.961 1520.74 M827.961 1517.04 Q833.771 1517.04 836.827 1521.65 Q839.905 1526.23 839.905 1534.98 Q839.905 1543.71 836.827 1548.31 Q833.771 1552.9 827.961 1552.9 Q822.151 1552.9 819.072 1548.31 Q816.017 1543.71 816.017 1534.98 Q816.017 1526.23 819.072 1521.65 Q822.151 1517.04 827.961 1517.04 Z\" fill=\"#000000\" fill-rule=\"nonzero\" fill-opacity=\"1\" /><path clip-path=\"url(#clip630)\" d=\"M876.294 1526.76 L865.716 1537.39 L876.294 1547.97 L873.54 1550.77 L862.915 1540.14 L852.29 1550.77 L849.558 1547.97 L860.114 1537.39 L849.558 1526.76 L852.29 1523.96 L862.915 1534.59 L873.54 1523.96 L876.294 1526.76 Z\" fill=\"#000000\" fill-rule=\"nonzero\" fill-opacity=\"1\" /><path clip-path=\"url(#clip630)\" d=\"M888.655 1548.29 L896.294 1548.29 L896.294 1521.92 L887.984 1523.59 L887.984 1519.33 L896.248 1517.66 L900.924 1517.66 L900.924 1548.29 L908.563 1548.29 L908.563 1552.22 L888.655 1552.22 L888.655 1548.29 Z\" fill=\"#000000\" fill-rule=\"nonzero\" fill-opacity=\"1\" /><path clip-path=\"url(#clip630)\" d=\"M928.007 1520.74 Q924.396 1520.74 922.567 1524.31 Q920.762 1527.85 920.762 1534.98 Q920.762 1542.09 922.567 1545.65 Q924.396 1549.19 928.007 1549.19 Q931.641 1549.19 933.447 1545.65 Q935.275 1542.09 935.275 1534.98 Q935.275 1527.85 933.447 1524.31 Q931.641 1520.74 928.007 1520.74 M928.007 1517.04 Q933.817 1517.04 936.873 1521.65 Q939.951 1526.23 939.951 1534.98 Q939.951 1543.71 936.873 1548.31 Q933.817 1552.9 928.007 1552.9 Q922.197 1552.9 919.118 1548.31 Q916.062 1543.71 916.062 1534.98 Q916.062 1526.23 919.118 1521.65 Q922.197 1517.04 928.007 1517.04 Z\" fill=\"#000000\" fill-rule=\"nonzero\" fill-opacity=\"1\" /><path clip-path=\"url(#clip630)\" d=\"M939.951 1511.14 L964.063 1511.14 L964.063 1514.34 L939.951 1514.34 L939.951 1511.14 Z\" fill=\"#000000\" fill-rule=\"nonzero\" fill-opacity=\"1\" /><path clip-path=\"url(#clip630)\" d=\"M972.921 1521.62 L979.128 1521.62 L979.128 1500.19 L972.376 1501.55 L972.376 1498.09 L979.09 1496.73 L982.889 1496.73 L982.889 1521.62 L989.096 1521.62 L989.096 1524.81 L972.921 1524.81 L972.921 1521.62 Z\" fill=\"#000000\" fill-rule=\"nonzero\" fill-opacity=\"1\" /><path clip-path=\"url(#clip630)\" d=\"M1004.89 1499.24 Q1001.96 1499.24 1000.47 1502.13 Q999.008 1505.01 999.008 1510.8 Q999.008 1516.58 1000.47 1519.47 Q1001.96 1522.35 1004.89 1522.35 Q1007.85 1522.35 1009.31 1519.47 Q1010.8 1516.58 1010.8 1510.8 Q1010.8 1505.01 1009.31 1502.13 Q1007.85 1499.24 1004.89 1499.24 M1004.89 1496.23 Q1009.62 1496.23 1012.1 1499.97 Q1014.6 1503.69 1014.6 1510.8 Q1014.6 1517.89 1012.1 1521.64 Q1009.62 1525.36 1004.89 1525.36 Q1000.17 1525.36 997.672 1521.64 Q995.19 1517.89 995.19 1510.8 Q995.19 1503.69 997.672 1499.97 Q1000.17 1496.23 1004.89 1496.23 Z\" fill=\"#000000\" fill-rule=\"nonzero\" fill-opacity=\"1\" /><path clip-path=\"url(#clip630)\" d=\"M1297.19 1521.74 L1285.38 1540.19 L1297.19 1540.19 L1297.19 1521.74 M1295.96 1517.66 L1301.84 1517.66 L1301.84 1540.19 L1306.77 1540.19 L1306.77 1544.08 L1301.84 1544.08 L1301.84 1552.22 L1297.19 1552.22 L1297.19 1544.08 L1281.59 1544.08 L1281.59 1539.56 L1295.96 1517.66 Z\" fill=\"#000000\" fill-rule=\"nonzero\" fill-opacity=\"1\" /><path clip-path=\"url(#clip630)\" d=\"M1314.5 1546.35 L1319.39 1546.35 L1319.39 1552.22 L1314.5 1552.22 L1314.5 1546.35 Z\" fill=\"#000000\" fill-rule=\"nonzero\" fill-opacity=\"1\" /><path clip-path=\"url(#clip630)\" d=\"M1339.57 1520.74 Q1335.96 1520.74 1334.13 1524.31 Q1332.33 1527.85 1332.33 1534.98 Q1332.33 1542.09 1334.13 1545.65 Q1335.96 1549.19 1339.57 1549.19 Q1343.21 1549.19 1345.01 1545.65 Q1346.84 1542.09 1346.84 1534.98 Q1346.84 1527.85 1345.01 1524.31 Q1343.21 1520.74 1339.57 1520.74 M1339.57 1517.04 Q1345.38 1517.04 1348.44 1521.65 Q1351.52 1526.23 1351.52 1534.98 Q1351.52 1543.71 1348.44 1548.31 Q1345.38 1552.9 1339.57 1552.9 Q1333.76 1552.9 1330.68 1548.31 Q1327.63 1543.71 1327.63 1534.98 Q1327.63 1526.23 1330.68 1521.65 Q1333.76 1517.04 1339.57 1517.04 Z\" fill=\"#000000\" fill-rule=\"nonzero\" fill-opacity=\"1\" /><path clip-path=\"url(#clip630)\" d=\"M1387.91 1526.76 L1377.33 1537.39 L1387.91 1547.97 L1385.15 1550.77 L1374.53 1540.14 L1363.9 1550.77 L1361.17 1547.97 L1371.72 1537.39 L1361.17 1526.76 L1363.9 1523.96 L1374.53 1534.59 L1385.15 1523.96 L1387.91 1526.76 Z\" fill=\"#000000\" fill-rule=\"nonzero\" fill-opacity=\"1\" /><path clip-path=\"url(#clip630)\" d=\"M1400.27 1548.29 L1407.9 1548.29 L1407.9 1521.92 L1399.59 1523.59 L1399.59 1519.33 L1407.86 1517.66 L1412.53 1517.66 L1412.53 1548.29 L1420.17 1548.29 L1420.17 1552.22 L1400.27 1552.22 L1400.27 1548.29 Z\" fill=\"#000000\" fill-rule=\"nonzero\" fill-opacity=\"1\" /><path clip-path=\"url(#clip630)\" d=\"M1439.62 1520.74 Q1436.01 1520.74 1434.18 1524.31 Q1432.37 1527.85 1432.37 1534.98 Q1432.37 1542.09 1434.18 1545.65 Q1436.01 1549.19 1439.62 1549.19 Q1443.25 1549.19 1445.06 1545.65 Q1446.89 1542.09 1446.89 1534.98 Q1446.89 1527.85 1445.06 1524.31 Q1443.25 1520.74 1439.62 1520.74 M1439.62 1517.04 Q1445.43 1517.04 1448.48 1521.65 Q1451.56 1526.23 1451.56 1534.98 Q1451.56 1543.71 1448.48 1548.31 Q1445.43 1552.9 1439.62 1552.9 Q1433.81 1552.9 1430.73 1548.31 Q1427.67 1543.71 1427.67 1534.98 Q1427.67 1526.23 1430.73 1521.65 Q1433.81 1517.04 1439.62 1517.04 Z\" fill=\"#000000\" fill-rule=\"nonzero\" fill-opacity=\"1\" /><path clip-path=\"url(#clip630)\" d=\"M1451.56 1511.14 L1475.67 1511.14 L1475.67 1514.34 L1451.56 1514.34 L1451.56 1511.14 Z\" fill=\"#000000\" fill-rule=\"nonzero\" fill-opacity=\"1\" /><path clip-path=\"url(#clip630)\" d=\"M1484.53 1521.62 L1490.74 1521.62 L1490.74 1500.19 L1483.99 1501.55 L1483.99 1498.09 L1490.7 1496.73 L1494.5 1496.73 L1494.5 1521.62 L1500.71 1521.62 L1500.71 1524.81 L1484.53 1524.81 L1484.53 1521.62 Z\" fill=\"#000000\" fill-rule=\"nonzero\" fill-opacity=\"1\" /><path clip-path=\"url(#clip630)\" d=\"M1516.51 1499.24 Q1513.57 1499.24 1512.09 1502.13 Q1510.62 1505.01 1510.62 1510.8 Q1510.62 1516.58 1512.09 1519.47 Q1513.57 1522.35 1516.51 1522.35 Q1519.46 1522.35 1520.93 1519.47 Q1522.41 1516.58 1522.41 1510.8 Q1522.41 1505.01 1520.93 1502.13 Q1519.46 1499.24 1516.51 1499.24 M1516.51 1496.23 Q1521.23 1496.23 1523.71 1499.97 Q1526.21 1503.69 1526.21 1510.8 Q1526.21 1517.89 1523.71 1521.64 Q1521.23 1525.36 1516.51 1525.36 Q1511.78 1525.36 1509.28 1521.64 Q1506.8 1517.89 1506.8 1510.8 Q1506.8 1503.69 1509.28 1499.97 Q1511.78 1496.23 1516.51 1496.23 Z\" fill=\"#000000\" fill-rule=\"nonzero\" fill-opacity=\"1\" /><path clip-path=\"url(#clip630)\" d=\"M1794.68 1517.66 L1813.03 1517.66 L1813.03 1521.6 L1798.96 1521.6 L1798.96 1530.07 Q1799.98 1529.72 1801 1529.56 Q1802.02 1529.38 1803.03 1529.38 Q1808.82 1529.38 1812.2 1532.55 Q1815.58 1535.72 1815.58 1541.14 Q1815.58 1546.72 1812.11 1549.82 Q1808.64 1552.9 1802.32 1552.9 Q1800.14 1552.9 1797.87 1552.53 Q1795.63 1552.16 1793.22 1551.41 L1793.22 1546.72 Q1795.3 1547.85 1797.53 1548.41 Q1799.75 1548.96 1802.22 1548.96 Q1806.23 1548.96 1808.57 1546.85 Q1810.91 1544.75 1810.91 1541.14 Q1810.91 1537.53 1808.57 1535.42 Q1806.23 1533.31 1802.22 1533.31 Q1800.35 1533.31 1798.47 1533.73 Q1796.62 1534.15 1794.68 1535.03 L1794.68 1517.66 Z\" fill=\"#000000\" fill-rule=\"nonzero\" fill-opacity=\"1\" /><path clip-path=\"url(#clip630)\" d=\"M1824.79 1546.35 L1829.68 1546.35 L1829.68 1552.22 L1824.79 1552.22 L1824.79 1546.35 Z\" fill=\"#000000\" fill-rule=\"nonzero\" fill-opacity=\"1\" /><path clip-path=\"url(#clip630)\" d=\"M1849.86 1520.74 Q1846.25 1520.74 1844.42 1524.31 Q1842.62 1527.85 1842.62 1534.98 Q1842.62 1542.09 1844.42 1545.65 Q1846.25 1549.19 1849.86 1549.19 Q1853.5 1549.19 1855.3 1545.65 Q1857.13 1542.09 1857.13 1534.98 Q1857.13 1527.85 1855.3 1524.31 Q1853.5 1520.74 1849.86 1520.74 M1849.86 1517.04 Q1855.67 1517.04 1858.73 1521.65 Q1861.81 1526.23 1861.81 1534.98 Q1861.81 1543.71 1858.73 1548.31 Q1855.67 1552.9 1849.86 1552.9 Q1844.05 1552.9 1840.97 1548.31 Q1837.92 1543.71 1837.92 1534.98 Q1837.92 1526.23 1840.97 1521.65 Q1844.05 1517.04 1849.86 1517.04 Z\" fill=\"#000000\" fill-rule=\"nonzero\" fill-opacity=\"1\" /><path clip-path=\"url(#clip630)\" d=\"M1898.2 1526.76 L1887.62 1537.39 L1898.2 1547.97 L1895.44 1550.77 L1884.82 1540.14 L1874.19 1550.77 L1871.46 1547.97 L1882.02 1537.39 L1871.46 1526.76 L1874.19 1523.96 L1884.82 1534.59 L1895.44 1523.96 L1898.2 1526.76 Z\" fill=\"#000000\" fill-rule=\"nonzero\" fill-opacity=\"1\" /><path clip-path=\"url(#clip630)\" d=\"M1910.56 1548.29 L1918.2 1548.29 L1918.2 1521.92 L1909.89 1523.59 L1909.89 1519.33 L1918.15 1517.66 L1922.83 1517.66 L1922.83 1548.29 L1930.46 1548.29 L1930.46 1552.22 L1910.56 1552.22 L1910.56 1548.29 Z\" fill=\"#000000\" fill-rule=\"nonzero\" fill-opacity=\"1\" /><path clip-path=\"url(#clip630)\" d=\"M1949.91 1520.74 Q1946.3 1520.74 1944.47 1524.31 Q1942.66 1527.85 1942.66 1534.98 Q1942.66 1542.09 1944.47 1545.65 Q1946.3 1549.19 1949.91 1549.19 Q1953.54 1549.19 1955.35 1545.65 Q1957.18 1542.09 1957.18 1534.98 Q1957.18 1527.85 1955.35 1524.31 Q1953.54 1520.74 1949.91 1520.74 M1949.91 1517.04 Q1955.72 1517.04 1958.77 1521.65 Q1961.85 1526.23 1961.85 1534.98 Q1961.85 1543.71 1958.77 1548.31 Q1955.72 1552.9 1949.91 1552.9 Q1944.1 1552.9 1941.02 1548.31 Q1937.96 1543.71 1937.96 1534.98 Q1937.96 1526.23 1941.02 1521.65 Q1944.1 1517.04 1949.91 1517.04 Z\" fill=\"#000000\" fill-rule=\"nonzero\" fill-opacity=\"1\" /><path clip-path=\"url(#clip630)\" d=\"M1961.85 1511.14 L1985.97 1511.14 L1985.97 1514.34 L1961.85 1514.34 L1961.85 1511.14 Z\" fill=\"#000000\" fill-rule=\"nonzero\" fill-opacity=\"1\" /><path clip-path=\"url(#clip630)\" d=\"M1994.82 1521.62 L2001.03 1521.62 L2001.03 1500.19 L1994.28 1501.55 L1994.28 1498.09 L2000.99 1496.73 L2004.79 1496.73 L2004.79 1521.62 L2011 1521.62 L2011 1524.81 L1994.82 1524.81 L1994.82 1521.62 Z\" fill=\"#000000\" fill-rule=\"nonzero\" fill-opacity=\"1\" /><path clip-path=\"url(#clip630)\" d=\"M2026.8 1499.24 Q2023.86 1499.24 2022.38 1502.13 Q2020.91 1505.01 2020.91 1510.8 Q2020.91 1516.58 2022.38 1519.47 Q2023.86 1522.35 2026.8 1522.35 Q2029.75 1522.35 2031.22 1519.47 Q2032.7 1516.58 2032.7 1510.8 Q2032.7 1505.01 2031.22 1502.13 Q2029.75 1499.24 2026.8 1499.24 M2026.8 1496.23 Q2031.52 1496.23 2034 1499.97 Q2036.5 1503.69 2036.5 1510.8 Q2036.5 1517.89 2034 1521.64 Q2031.52 1525.36 2026.8 1525.36 Q2022.08 1525.36 2019.57 1521.64 Q2017.09 1517.89 2017.09 1510.8 Q2017.09 1503.69 2019.57 1499.97 Q2022.08 1496.23 2026.8 1496.23 Z\" fill=\"#000000\" fill-rule=\"nonzero\" fill-opacity=\"1\" /><polyline clip-path=\"url(#clip632)\" style=\"stroke:#000000; stroke-linecap:round; stroke-linejoin:round; stroke-width:2; stroke-opacity:0.1; fill:none\" points=\"186.274,1433.78 2352.76,1433.78 \"/>\n",
       "<polyline clip-path=\"url(#clip632)\" style=\"stroke:#000000; stroke-linecap:round; stroke-linejoin:round; stroke-width:2; stroke-opacity:0.1; fill:none\" points=\"186.274,1097.24 2352.76,1097.24 \"/>\n",
       "<polyline clip-path=\"url(#clip632)\" style=\"stroke:#000000; stroke-linecap:round; stroke-linejoin:round; stroke-width:2; stroke-opacity:0.1; fill:none\" points=\"186.274,760.704 2352.76,760.704 \"/>\n",
       "<polyline clip-path=\"url(#clip632)\" style=\"stroke:#000000; stroke-linecap:round; stroke-linejoin:round; stroke-width:2; stroke-opacity:0.1; fill:none\" points=\"186.274,424.167 2352.76,424.167 \"/>\n",
       "<polyline clip-path=\"url(#clip632)\" style=\"stroke:#000000; stroke-linecap:round; stroke-linejoin:round; stroke-width:2; stroke-opacity:0.1; fill:none\" points=\"186.274,87.6286 2352.76,87.6286 \"/>\n",
       "<polyline clip-path=\"url(#clip630)\" style=\"stroke:#000000; stroke-linecap:round; stroke-linejoin:round; stroke-width:4; stroke-opacity:1; fill:none\" points=\"186.274,1474.16 186.274,47.2441 \"/>\n",
       "<polyline clip-path=\"url(#clip630)\" style=\"stroke:#000000; stroke-linecap:round; stroke-linejoin:round; stroke-width:4; stroke-opacity:1; fill:none\" points=\"186.274,1433.78 205.172,1433.78 \"/>\n",
       "<polyline clip-path=\"url(#clip630)\" style=\"stroke:#000000; stroke-linecap:round; stroke-linejoin:round; stroke-width:4; stroke-opacity:1; fill:none\" points=\"186.274,1097.24 205.172,1097.24 \"/>\n",
       "<polyline clip-path=\"url(#clip630)\" style=\"stroke:#000000; stroke-linecap:round; stroke-linejoin:round; stroke-width:4; stroke-opacity:1; fill:none\" points=\"186.274,760.704 205.172,760.704 \"/>\n",
       "<polyline clip-path=\"url(#clip630)\" style=\"stroke:#000000; stroke-linecap:round; stroke-linejoin:round; stroke-width:4; stroke-opacity:1; fill:none\" points=\"186.274,424.167 205.172,424.167 \"/>\n",
       "<polyline clip-path=\"url(#clip630)\" style=\"stroke:#000000; stroke-linecap:round; stroke-linejoin:round; stroke-width:4; stroke-opacity:1; fill:none\" points=\"186.274,87.6286 205.172,87.6286 \"/>\n",
       "<path clip-path=\"url(#clip630)\" d=\"M62.9365 1419.58 Q59.3254 1419.58 57.4967 1423.14 Q55.6912 1426.69 55.6912 1433.81 Q55.6912 1440.92 57.4967 1444.49 Q59.3254 1448.03 62.9365 1448.03 Q66.5707 1448.03 68.3763 1444.49 Q70.205 1440.92 70.205 1433.81 Q70.205 1426.69 68.3763 1423.14 Q66.5707 1419.58 62.9365 1419.58 M62.9365 1415.88 Q68.7467 1415.88 71.8022 1420.48 Q74.8809 1425.06 74.8809 1433.81 Q74.8809 1442.54 71.8022 1447.15 Q68.7467 1451.73 62.9365 1451.73 Q57.1264 1451.73 54.0477 1447.15 Q50.9921 1442.54 50.9921 1433.81 Q50.9921 1425.06 54.0477 1420.48 Q57.1264 1415.88 62.9365 1415.88 Z\" fill=\"#000000\" fill-rule=\"nonzero\" fill-opacity=\"1\" /><path clip-path=\"url(#clip630)\" d=\"M83.0984 1445.18 L87.9827 1445.18 L87.9827 1451.06 L83.0984 1451.06 L83.0984 1445.18 Z\" fill=\"#000000\" fill-rule=\"nonzero\" fill-opacity=\"1\" /><path clip-path=\"url(#clip630)\" d=\"M108.168 1419.58 Q104.557 1419.58 102.728 1423.14 Q100.922 1426.69 100.922 1433.81 Q100.922 1440.92 102.728 1444.49 Q104.557 1448.03 108.168 1448.03 Q111.802 1448.03 113.608 1444.49 Q115.436 1440.92 115.436 1433.81 Q115.436 1426.69 113.608 1423.14 Q111.802 1419.58 108.168 1419.58 M108.168 1415.88 Q113.978 1415.88 117.033 1420.48 Q120.112 1425.06 120.112 1433.81 Q120.112 1442.54 117.033 1447.15 Q113.978 1451.73 108.168 1451.73 Q102.358 1451.73 99.2789 1447.15 Q96.2234 1442.54 96.2234 1433.81 Q96.2234 1425.06 99.2789 1420.48 Q102.358 1415.88 108.168 1415.88 Z\" fill=\"#000000\" fill-rule=\"nonzero\" fill-opacity=\"1\" /><path clip-path=\"url(#clip630)\" d=\"M138.33 1419.58 Q134.719 1419.58 132.89 1423.14 Q131.084 1426.69 131.084 1433.81 Q131.084 1440.92 132.89 1444.49 Q134.719 1448.03 138.33 1448.03 Q141.964 1448.03 143.769 1444.49 Q145.598 1440.92 145.598 1433.81 Q145.598 1426.69 143.769 1423.14 Q141.964 1419.58 138.33 1419.58 M138.33 1415.88 Q144.14 1415.88 147.195 1420.48 Q150.274 1425.06 150.274 1433.81 Q150.274 1442.54 147.195 1447.15 Q144.14 1451.73 138.33 1451.73 Q132.519 1451.73 129.441 1447.15 Q126.385 1442.54 126.385 1433.81 Q126.385 1425.06 129.441 1420.48 Q132.519 1415.88 138.33 1415.88 Z\" fill=\"#000000\" fill-rule=\"nonzero\" fill-opacity=\"1\" /><path clip-path=\"url(#clip630)\" d=\"M63.9319 1083.04 Q60.3208 1083.04 58.4921 1086.61 Q56.6865 1090.15 56.6865 1097.28 Q56.6865 1104.38 58.4921 1107.95 Q60.3208 1111.49 63.9319 1111.49 Q67.5661 1111.49 69.3717 1107.95 Q71.2004 1104.38 71.2004 1097.28 Q71.2004 1090.15 69.3717 1086.61 Q67.5661 1083.04 63.9319 1083.04 M63.9319 1079.34 Q69.742 1079.34 72.7976 1083.94 Q75.8763 1088.53 75.8763 1097.28 Q75.8763 1106 72.7976 1110.61 Q69.742 1115.19 63.9319 1115.19 Q58.1217 1115.19 55.043 1110.61 Q51.9875 1106 51.9875 1097.28 Q51.9875 1088.53 55.043 1083.94 Q58.1217 1079.34 63.9319 1079.34 Z\" fill=\"#000000\" fill-rule=\"nonzero\" fill-opacity=\"1\" /><path clip-path=\"url(#clip630)\" d=\"M84.0938 1108.64 L88.978 1108.64 L88.978 1114.52 L84.0938 1114.52 L84.0938 1108.64 Z\" fill=\"#000000\" fill-rule=\"nonzero\" fill-opacity=\"1\" /><path clip-path=\"url(#clip630)\" d=\"M103.191 1110.59 L119.51 1110.59 L119.51 1114.52 L97.566 1114.52 L97.566 1110.59 Q100.228 1107.83 104.811 1103.2 Q109.418 1098.55 110.598 1097.21 Q112.844 1094.68 113.723 1092.95 Q114.626 1091.19 114.626 1089.5 Q114.626 1086.74 112.682 1085.01 Q110.76 1083.27 107.658 1083.27 Q105.459 1083.27 103.006 1084.04 Q100.575 1084.8 97.7974 1086.35 L97.7974 1081.63 Q100.621 1080.49 103.075 1079.92 Q105.529 1079.34 107.566 1079.34 Q112.936 1079.34 116.131 1082.02 Q119.325 1084.71 119.325 1089.2 Q119.325 1091.33 118.515 1093.25 Q117.728 1095.15 115.621 1097.74 Q115.043 1098.41 111.941 1101.63 Q108.839 1104.82 103.191 1110.59 Z\" fill=\"#000000\" fill-rule=\"nonzero\" fill-opacity=\"1\" /><path clip-path=\"url(#clip630)\" d=\"M129.371 1079.96 L147.728 1079.96 L147.728 1083.9 L133.654 1083.9 L133.654 1092.37 Q134.672 1092.02 135.691 1091.86 Q136.709 1091.68 137.728 1091.68 Q143.515 1091.68 146.894 1094.85 Q150.274 1098.02 150.274 1103.43 Q150.274 1109.01 146.802 1112.11 Q143.33 1115.19 137.01 1115.19 Q134.834 1115.19 132.566 1114.82 Q130.32 1114.45 127.913 1113.71 L127.913 1109.01 Q129.996 1110.15 132.219 1110.7 Q134.441 1111.26 136.918 1111.26 Q140.922 1111.26 143.26 1109.15 Q145.598 1107.05 145.598 1103.43 Q145.598 1099.82 143.26 1097.72 Q140.922 1095.61 136.918 1095.61 Q135.043 1095.61 133.168 1096.03 Q131.316 1096.44 129.371 1097.32 L129.371 1079.96 Z\" fill=\"#000000\" fill-rule=\"nonzero\" fill-opacity=\"1\" /><path clip-path=\"url(#clip630)\" d=\"M62.9365 746.503 Q59.3254 746.503 57.4967 750.068 Q55.6912 753.61 55.6912 760.739 Q55.6912 767.846 57.4967 771.41 Q59.3254 774.952 62.9365 774.952 Q66.5707 774.952 68.3763 771.41 Q70.205 767.846 70.205 760.739 Q70.205 753.61 68.3763 750.068 Q66.5707 746.503 62.9365 746.503 M62.9365 742.799 Q68.7467 742.799 71.8022 747.406 Q74.8809 751.989 74.8809 760.739 Q74.8809 769.466 71.8022 774.072 Q68.7467 778.656 62.9365 778.656 Q57.1264 778.656 54.0477 774.072 Q50.9921 769.466 50.9921 760.739 Q50.9921 751.989 54.0477 747.406 Q57.1264 742.799 62.9365 742.799 Z\" fill=\"#000000\" fill-rule=\"nonzero\" fill-opacity=\"1\" /><path clip-path=\"url(#clip630)\" d=\"M83.0984 772.105 L87.9827 772.105 L87.9827 777.984 L83.0984 777.984 L83.0984 772.105 Z\" fill=\"#000000\" fill-rule=\"nonzero\" fill-opacity=\"1\" /><path clip-path=\"url(#clip630)\" d=\"M98.2141 743.424 L116.57 743.424 L116.57 747.36 L102.496 747.36 L102.496 755.832 Q103.515 755.485 104.534 755.322 Q105.552 755.137 106.571 755.137 Q112.358 755.137 115.737 758.309 Q119.117 761.48 119.117 766.896 Q119.117 772.475 115.645 775.577 Q112.172 778.656 105.853 778.656 Q103.677 778.656 101.409 778.285 Q99.1632 777.915 96.7558 777.174 L96.7558 772.475 Q98.8391 773.609 101.061 774.165 Q103.284 774.721 105.76 774.721 Q109.765 774.721 112.103 772.614 Q114.441 770.508 114.441 766.896 Q114.441 763.285 112.103 761.179 Q109.765 759.072 105.76 759.072 Q103.885 759.072 102.01 759.489 Q100.159 759.906 98.2141 760.785 L98.2141 743.424 Z\" fill=\"#000000\" fill-rule=\"nonzero\" fill-opacity=\"1\" /><path clip-path=\"url(#clip630)\" d=\"M138.33 746.503 Q134.719 746.503 132.89 750.068 Q131.084 753.61 131.084 760.739 Q131.084 767.846 132.89 771.41 Q134.719 774.952 138.33 774.952 Q141.964 774.952 143.769 771.41 Q145.598 767.846 145.598 760.739 Q145.598 753.61 143.769 750.068 Q141.964 746.503 138.33 746.503 M138.33 742.799 Q144.14 742.799 147.195 747.406 Q150.274 751.989 150.274 760.739 Q150.274 769.466 147.195 774.072 Q144.14 778.656 138.33 778.656 Q132.519 778.656 129.441 774.072 Q126.385 769.466 126.385 760.739 Q126.385 751.989 129.441 747.406 Q132.519 742.799 138.33 742.799 Z\" fill=\"#000000\" fill-rule=\"nonzero\" fill-opacity=\"1\" /><path clip-path=\"url(#clip630)\" d=\"M63.9319 409.965 Q60.3208 409.965 58.4921 413.53 Q56.6865 417.072 56.6865 424.201 Q56.6865 431.308 58.4921 434.872 Q60.3208 438.414 63.9319 438.414 Q67.5661 438.414 69.3717 434.872 Q71.2004 431.308 71.2004 424.201 Q71.2004 417.072 69.3717 413.53 Q67.5661 409.965 63.9319 409.965 M63.9319 406.262 Q69.742 406.262 72.7976 410.868 Q75.8763 415.451 75.8763 424.201 Q75.8763 432.928 72.7976 437.534 Q69.742 442.118 63.9319 442.118 Q58.1217 442.118 55.043 437.534 Q51.9875 432.928 51.9875 424.201 Q51.9875 415.451 55.043 410.868 Q58.1217 406.262 63.9319 406.262 Z\" fill=\"#000000\" fill-rule=\"nonzero\" fill-opacity=\"1\" /><path clip-path=\"url(#clip630)\" d=\"M84.0938 435.567 L88.978 435.567 L88.978 441.447 L84.0938 441.447 L84.0938 435.567 Z\" fill=\"#000000\" fill-rule=\"nonzero\" fill-opacity=\"1\" /><path clip-path=\"url(#clip630)\" d=\"M97.9826 406.887 L120.205 406.887 L120.205 408.877 L107.658 441.447 L102.774 441.447 L114.58 410.822 L97.9826 410.822 L97.9826 406.887 Z\" fill=\"#000000\" fill-rule=\"nonzero\" fill-opacity=\"1\" /><path clip-path=\"url(#clip630)\" d=\"M129.371 406.887 L147.728 406.887 L147.728 410.822 L133.654 410.822 L133.654 419.294 Q134.672 418.947 135.691 418.785 Q136.709 418.599 137.728 418.599 Q143.515 418.599 146.894 421.771 Q150.274 424.942 150.274 430.359 Q150.274 435.937 146.802 439.039 Q143.33 442.118 137.01 442.118 Q134.834 442.118 132.566 441.747 Q130.32 441.377 127.913 440.636 L127.913 435.937 Q129.996 437.072 132.219 437.627 Q134.441 438.183 136.918 438.183 Q140.922 438.183 143.26 436.076 Q145.598 433.97 145.598 430.359 Q145.598 426.748 143.26 424.641 Q140.922 422.535 136.918 422.535 Q135.043 422.535 133.168 422.951 Q131.316 423.368 129.371 424.248 L129.371 406.887 Z\" fill=\"#000000\" fill-rule=\"nonzero\" fill-opacity=\"1\" /><path clip-path=\"url(#clip630)\" d=\"M53.7467 100.973 L61.3856 100.973 L61.3856 74.6079 L53.0754 76.2745 L53.0754 72.0153 L61.3393 70.3486 L66.0152 70.3486 L66.0152 100.973 L73.654 100.973 L73.654 104.909 L53.7467 104.909 L53.7467 100.973 Z\" fill=\"#000000\" fill-rule=\"nonzero\" fill-opacity=\"1\" /><path clip-path=\"url(#clip630)\" d=\"M83.0984 99.029 L87.9827 99.029 L87.9827 104.909 L83.0984 104.909 L83.0984 99.029 Z\" fill=\"#000000\" fill-rule=\"nonzero\" fill-opacity=\"1\" /><path clip-path=\"url(#clip630)\" d=\"M108.168 73.4273 Q104.557 73.4273 102.728 76.9921 Q100.922 80.5338 100.922 87.6634 Q100.922 94.7698 102.728 98.3346 Q104.557 101.876 108.168 101.876 Q111.802 101.876 113.608 98.3346 Q115.436 94.7698 115.436 87.6634 Q115.436 80.5338 113.608 76.9921 Q111.802 73.4273 108.168 73.4273 M108.168 69.7236 Q113.978 69.7236 117.033 74.3301 Q120.112 78.9134 120.112 87.6634 Q120.112 96.3902 117.033 100.997 Q113.978 105.58 108.168 105.58 Q102.358 105.58 99.2789 100.997 Q96.2234 96.3902 96.2234 87.6634 Q96.2234 78.9134 99.2789 74.3301 Q102.358 69.7236 108.168 69.7236 Z\" fill=\"#000000\" fill-rule=\"nonzero\" fill-opacity=\"1\" /><path clip-path=\"url(#clip630)\" d=\"M138.33 73.4273 Q134.719 73.4273 132.89 76.9921 Q131.084 80.5338 131.084 87.6634 Q131.084 94.7698 132.89 98.3346 Q134.719 101.876 138.33 101.876 Q141.964 101.876 143.769 98.3346 Q145.598 94.7698 145.598 87.6634 Q145.598 80.5338 143.769 76.9921 Q141.964 73.4273 138.33 73.4273 M138.33 69.7236 Q144.14 69.7236 147.195 74.3301 Q150.274 78.9134 150.274 87.6634 Q150.274 96.3902 147.195 100.997 Q144.14 105.58 138.33 105.58 Q132.519 105.58 129.441 100.997 Q126.385 96.3902 126.385 87.6634 Q126.385 78.9134 129.441 74.3301 Q132.519 69.7236 138.33 69.7236 Z\" fill=\"#000000\" fill-rule=\"nonzero\" fill-opacity=\"1\" /><path clip-path=\"url(#clip630)\" d=\"M2011.46 198.488 L2280.54 198.488 L2280.54 94.8081 L2011.46 94.8081  Z\" fill=\"#ffffff\" fill-rule=\"evenodd\" fill-opacity=\"1\"/>\n",
       "<polyline clip-path=\"url(#clip630)\" style=\"stroke:#000000; stroke-linecap:round; stroke-linejoin:round; stroke-width:4; stroke-opacity:1; fill:none\" points=\"2011.46,198.488 2280.54,198.488 2280.54,94.8081 2011.46,94.8081 2011.46,198.488 \"/>\n",
       "<polyline clip-path=\"url(#clip630)\" style=\"stroke:#009af9; stroke-linecap:round; stroke-linejoin:round; stroke-width:4; stroke-opacity:1; fill:none\" points=\"2035.53,146.648 2179.97,146.648 \"/>\n",
       "<path clip-path=\"url(#clip630)\" d=\"M2217.88 166.336 Q2216.07 170.965 2214.36 172.377 Q2212.65 173.789 2209.78 173.789 L2206.38 173.789 L2206.38 170.224 L2208.88 170.224 Q2210.63 170.224 2211.61 169.391 Q2212.58 168.558 2213.76 165.456 L2214.52 163.511 L2204.04 138.002 L2208.55 138.002 L2216.65 158.28 L2224.76 138.002 L2229.27 138.002 L2217.88 166.336 Z\" fill=\"#000000\" fill-rule=\"nonzero\" fill-opacity=\"1\" /><path clip-path=\"url(#clip630)\" d=\"M2236.56 159.993 L2244.2 159.993 L2244.2 133.627 L2235.89 135.294 L2235.89 131.035 L2244.15 129.368 L2248.83 129.368 L2248.83 159.993 L2256.47 159.993 L2256.47 163.928 L2236.56 163.928 L2236.56 159.993 Z\" fill=\"#000000\" fill-rule=\"nonzero\" fill-opacity=\"1\" /></svg>\n"
      ],
      "text/html": [
       "<?xml version=\"1.0\" encoding=\"utf-8\"?>\n",
       "<svg xmlns=\"http://www.w3.org/2000/svg\" xmlns:xlink=\"http://www.w3.org/1999/xlink\" width=\"600\" height=\"400\" viewBox=\"0 0 2400 1600\">\n",
       "<defs>\n",
       "  <clipPath id=\"clip680\">\n",
       "    <rect x=\"0\" y=\"0\" width=\"2400\" height=\"1600\"/>\n",
       "  </clipPath>\n",
       "</defs>\n",
       "<path clip-path=\"url(#clip680)\" d=\"M0 1600 L2400 1600 L2400 0 L0 0  Z\" fill=\"#ffffff\" fill-rule=\"evenodd\" fill-opacity=\"1\"/>\n",
       "<defs>\n",
       "  <clipPath id=\"clip681\">\n",
       "    <rect x=\"480\" y=\"0\" width=\"1681\" height=\"1600\"/>\n",
       "  </clipPath>\n",
       "</defs>\n",
       "<path clip-path=\"url(#clip680)\" d=\"M186.274 1474.16 L2352.76 1474.16 L2352.76 47.2441 L186.274 47.2441  Z\" fill=\"#ffffff\" fill-rule=\"evenodd\" fill-opacity=\"1\"/>\n",
       "<defs>\n",
       "  <clipPath id=\"clip682\">\n",
       "    <rect x=\"186\" y=\"47\" width=\"2167\" height=\"1428\"/>\n",
       "  </clipPath>\n",
       "</defs>\n",
       "<polyline clip-path=\"url(#clip682)\" style=\"stroke:#000000; stroke-linecap:round; stroke-linejoin:round; stroke-width:2; stroke-opacity:0.1; fill:none\" points=\"381.973,1474.16 381.973,47.2441 \"/>\n",
       "<polyline clip-path=\"url(#clip682)\" style=\"stroke:#000000; stroke-linecap:round; stroke-linejoin:round; stroke-width:2; stroke-opacity:0.1; fill:none\" points=\"892.935,1474.16 892.935,47.2441 \"/>\n",
       "<polyline clip-path=\"url(#clip682)\" style=\"stroke:#000000; stroke-linecap:round; stroke-linejoin:round; stroke-width:2; stroke-opacity:0.1; fill:none\" points=\"1403.9,1474.16 1403.9,47.2441 \"/>\n",
       "<polyline clip-path=\"url(#clip682)\" style=\"stroke:#000000; stroke-linecap:round; stroke-linejoin:round; stroke-width:2; stroke-opacity:0.1; fill:none\" points=\"1914.86,1474.16 1914.86,47.2441 \"/>\n",
       "<polyline clip-path=\"url(#clip680)\" style=\"stroke:#000000; stroke-linecap:round; stroke-linejoin:round; stroke-width:4; stroke-opacity:1; fill:none\" points=\"186.274,1474.16 2352.76,1474.16 \"/>\n",
       "<polyline clip-path=\"url(#clip680)\" style=\"stroke:#000000; stroke-linecap:round; stroke-linejoin:round; stroke-width:4; stroke-opacity:1; fill:none\" points=\"381.973,1474.16 381.973,1455.27 \"/>\n",
       "<polyline clip-path=\"url(#clip680)\" style=\"stroke:#000000; stroke-linecap:round; stroke-linejoin:round; stroke-width:4; stroke-opacity:1; fill:none\" points=\"892.935,1474.16 892.935,1455.27 \"/>\n",
       "<polyline clip-path=\"url(#clip680)\" style=\"stroke:#000000; stroke-linecap:round; stroke-linejoin:round; stroke-width:4; stroke-opacity:1; fill:none\" points=\"1403.9,1474.16 1403.9,1455.27 \"/>\n",
       "<polyline clip-path=\"url(#clip680)\" style=\"stroke:#000000; stroke-linecap:round; stroke-linejoin:round; stroke-width:4; stroke-opacity:1; fill:none\" points=\"1914.86,1474.16 1914.86,1455.27 \"/>\n",
       "<path clip-path=\"url(#clip680)\" d=\"M265.864 1548.29 L282.184 1548.29 L282.184 1552.22 L260.239 1552.22 L260.239 1548.29 Q262.901 1545.53 267.485 1540.91 Q272.091 1536.25 273.272 1534.91 Q275.517 1532.39 276.397 1530.65 Q277.3 1528.89 277.3 1527.2 Q277.3 1524.45 275.355 1522.71 Q273.434 1520.97 270.332 1520.97 Q268.133 1520.97 265.679 1521.74 Q263.249 1522.5 260.471 1524.05 L260.471 1519.33 Q263.295 1518.2 265.749 1517.62 Q268.202 1517.04 270.239 1517.04 Q275.61 1517.04 278.804 1519.72 Q281.999 1522.41 281.999 1526.9 Q281.999 1529.03 281.188 1530.95 Q280.401 1532.85 278.295 1535.44 Q277.716 1536.11 274.614 1539.33 Q271.513 1542.53 265.864 1548.29 Z\" fill=\"#000000\" fill-rule=\"nonzero\" fill-opacity=\"1\" /><path clip-path=\"url(#clip680)\" d=\"M291.999 1546.35 L296.883 1546.35 L296.883 1552.22 L291.999 1552.22 L291.999 1546.35 Z\" fill=\"#000000\" fill-rule=\"nonzero\" fill-opacity=\"1\" /><path clip-path=\"url(#clip680)\" d=\"M317.068 1520.74 Q313.457 1520.74 311.628 1524.31 Q309.822 1527.85 309.822 1534.98 Q309.822 1542.09 311.628 1545.65 Q313.457 1549.19 317.068 1549.19 Q320.702 1549.19 322.508 1545.65 Q324.336 1542.09 324.336 1534.98 Q324.336 1527.85 322.508 1524.31 Q320.702 1520.74 317.068 1520.74 M317.068 1517.04 Q322.878 1517.04 325.934 1521.65 Q329.012 1526.23 329.012 1534.98 Q329.012 1543.71 325.934 1548.31 Q322.878 1552.9 317.068 1552.9 Q311.258 1552.9 308.179 1548.31 Q305.123 1543.71 305.123 1534.98 Q305.123 1526.23 308.179 1521.65 Q311.258 1517.04 317.068 1517.04 Z\" fill=\"#000000\" fill-rule=\"nonzero\" fill-opacity=\"1\" /><path clip-path=\"url(#clip680)\" d=\"M365.401 1526.76 L354.822 1537.39 L365.401 1547.97 L362.646 1550.77 L352.021 1540.14 L341.396 1550.77 L338.665 1547.97 L349.22 1537.39 L338.665 1526.76 L341.396 1523.96 L352.021 1534.59 L362.646 1523.96 L365.401 1526.76 Z\" fill=\"#000000\" fill-rule=\"nonzero\" fill-opacity=\"1\" /><path clip-path=\"url(#clip680)\" d=\"M377.762 1548.29 L385.401 1548.29 L385.401 1521.92 L377.091 1523.59 L377.091 1519.33 L385.355 1517.66 L390.03 1517.66 L390.03 1548.29 L397.669 1548.29 L397.669 1552.22 L377.762 1552.22 L377.762 1548.29 Z\" fill=\"#000000\" fill-rule=\"nonzero\" fill-opacity=\"1\" /><path clip-path=\"url(#clip680)\" d=\"M417.114 1520.74 Q413.502 1520.74 411.674 1524.31 Q409.868 1527.85 409.868 1534.98 Q409.868 1542.09 411.674 1545.65 Q413.502 1549.19 417.114 1549.19 Q420.748 1549.19 422.553 1545.65 Q424.382 1542.09 424.382 1534.98 Q424.382 1527.85 422.553 1524.31 Q420.748 1520.74 417.114 1520.74 M417.114 1517.04 Q422.924 1517.04 425.979 1521.65 Q429.058 1526.23 429.058 1534.98 Q429.058 1543.71 425.979 1548.31 Q422.924 1552.9 417.114 1552.9 Q411.303 1552.9 408.225 1548.31 Q405.169 1543.71 405.169 1534.98 Q405.169 1526.23 408.225 1521.65 Q411.303 1517.04 417.114 1517.04 Z\" fill=\"#000000\" fill-rule=\"nonzero\" fill-opacity=\"1\" /><path clip-path=\"url(#clip680)\" d=\"M429.058 1511.14 L453.17 1511.14 L453.17 1514.34 L429.058 1514.34 L429.058 1511.14 Z\" fill=\"#000000\" fill-rule=\"nonzero\" fill-opacity=\"1\" /><path clip-path=\"url(#clip680)\" d=\"M462.028 1521.62 L468.235 1521.62 L468.235 1500.19 L461.483 1501.55 L461.483 1498.09 L468.197 1496.73 L471.996 1496.73 L471.996 1521.62 L478.203 1521.62 L478.203 1524.81 L462.028 1524.81 L462.028 1521.62 Z\" fill=\"#000000\" fill-rule=\"nonzero\" fill-opacity=\"1\" /><path clip-path=\"url(#clip680)\" d=\"M494.001 1499.24 Q491.067 1499.24 489.581 1502.13 Q488.114 1505.01 488.114 1510.8 Q488.114 1516.58 489.581 1519.47 Q491.067 1522.35 494.001 1522.35 Q496.954 1522.35 498.421 1519.47 Q499.907 1516.58 499.907 1510.8 Q499.907 1505.01 498.421 1502.13 Q496.954 1499.24 494.001 1499.24 M494.001 1496.23 Q498.722 1496.23 501.205 1499.97 Q503.706 1503.69 503.706 1510.8 Q503.706 1517.89 501.205 1521.64 Q498.722 1525.36 494.001 1525.36 Q489.28 1525.36 486.779 1521.64 Q484.296 1517.89 484.296 1510.8 Q484.296 1503.69 486.779 1499.97 Q489.28 1496.23 494.001 1496.23 Z\" fill=\"#000000\" fill-rule=\"nonzero\" fill-opacity=\"1\" /><path clip-path=\"url(#clip680)\" d=\"M786.897 1533.59 Q790.253 1534.31 792.128 1536.58 Q794.026 1538.85 794.026 1542.18 Q794.026 1547.29 790.508 1550.1 Q786.989 1552.9 780.508 1552.9 Q778.332 1552.9 776.017 1552.46 Q773.725 1552.04 771.272 1551.18 L771.272 1546.67 Q773.216 1547.8 775.531 1548.38 Q777.846 1548.96 780.369 1548.96 Q784.767 1548.96 787.059 1547.22 Q789.373 1545.49 789.373 1542.18 Q789.373 1539.12 787.221 1537.41 Q785.091 1535.67 781.272 1535.67 L777.244 1535.67 L777.244 1531.83 L781.457 1531.83 Q784.906 1531.83 786.734 1530.47 Q788.563 1529.08 788.563 1526.48 Q788.563 1523.82 786.665 1522.41 Q784.79 1520.97 781.272 1520.97 Q779.35 1520.97 777.151 1521.39 Q774.952 1521.81 772.313 1522.69 L772.313 1518.52 Q774.975 1517.78 777.29 1517.41 Q779.628 1517.04 781.688 1517.04 Q787.012 1517.04 790.114 1519.47 Q793.216 1521.88 793.216 1526 Q793.216 1528.87 791.572 1530.86 Q789.929 1532.83 786.897 1533.59 Z\" fill=\"#000000\" fill-rule=\"nonzero\" fill-opacity=\"1\" /><path clip-path=\"url(#clip680)\" d=\"M802.892 1546.35 L807.776 1546.35 L807.776 1552.22 L802.892 1552.22 L802.892 1546.35 Z\" fill=\"#000000\" fill-rule=\"nonzero\" fill-opacity=\"1\" /><path clip-path=\"url(#clip680)\" d=\"M827.961 1520.74 Q824.35 1520.74 822.521 1524.31 Q820.716 1527.85 820.716 1534.98 Q820.716 1542.09 822.521 1545.65 Q824.35 1549.19 827.961 1549.19 Q831.595 1549.19 833.401 1545.65 Q835.23 1542.09 835.23 1534.98 Q835.23 1527.85 833.401 1524.31 Q831.595 1520.74 827.961 1520.74 M827.961 1517.04 Q833.771 1517.04 836.827 1521.65 Q839.905 1526.23 839.905 1534.98 Q839.905 1543.71 836.827 1548.31 Q833.771 1552.9 827.961 1552.9 Q822.151 1552.9 819.072 1548.31 Q816.017 1543.71 816.017 1534.98 Q816.017 1526.23 819.072 1521.65 Q822.151 1517.04 827.961 1517.04 Z\" fill=\"#000000\" fill-rule=\"nonzero\" fill-opacity=\"1\" /><path clip-path=\"url(#clip680)\" d=\"M876.294 1526.76 L865.716 1537.39 L876.294 1547.97 L873.54 1550.77 L862.915 1540.14 L852.29 1550.77 L849.558 1547.97 L860.114 1537.39 L849.558 1526.76 L852.29 1523.96 L862.915 1534.59 L873.54 1523.96 L876.294 1526.76 Z\" fill=\"#000000\" fill-rule=\"nonzero\" fill-opacity=\"1\" /><path clip-path=\"url(#clip680)\" d=\"M888.655 1548.29 L896.294 1548.29 L896.294 1521.92 L887.984 1523.59 L887.984 1519.33 L896.248 1517.66 L900.924 1517.66 L900.924 1548.29 L908.563 1548.29 L908.563 1552.22 L888.655 1552.22 L888.655 1548.29 Z\" fill=\"#000000\" fill-rule=\"nonzero\" fill-opacity=\"1\" /><path clip-path=\"url(#clip680)\" d=\"M928.007 1520.74 Q924.396 1520.74 922.567 1524.31 Q920.762 1527.85 920.762 1534.98 Q920.762 1542.09 922.567 1545.65 Q924.396 1549.19 928.007 1549.19 Q931.641 1549.19 933.447 1545.65 Q935.275 1542.09 935.275 1534.98 Q935.275 1527.85 933.447 1524.31 Q931.641 1520.74 928.007 1520.74 M928.007 1517.04 Q933.817 1517.04 936.873 1521.65 Q939.951 1526.23 939.951 1534.98 Q939.951 1543.71 936.873 1548.31 Q933.817 1552.9 928.007 1552.9 Q922.197 1552.9 919.118 1548.31 Q916.062 1543.71 916.062 1534.98 Q916.062 1526.23 919.118 1521.65 Q922.197 1517.04 928.007 1517.04 Z\" fill=\"#000000\" fill-rule=\"nonzero\" fill-opacity=\"1\" /><path clip-path=\"url(#clip680)\" d=\"M939.951 1511.14 L964.063 1511.14 L964.063 1514.34 L939.951 1514.34 L939.951 1511.14 Z\" fill=\"#000000\" fill-rule=\"nonzero\" fill-opacity=\"1\" /><path clip-path=\"url(#clip680)\" d=\"M972.921 1521.62 L979.128 1521.62 L979.128 1500.19 L972.376 1501.55 L972.376 1498.09 L979.09 1496.73 L982.889 1496.73 L982.889 1521.62 L989.096 1521.62 L989.096 1524.81 L972.921 1524.81 L972.921 1521.62 Z\" fill=\"#000000\" fill-rule=\"nonzero\" fill-opacity=\"1\" /><path clip-path=\"url(#clip680)\" d=\"M1004.89 1499.24 Q1001.96 1499.24 1000.47 1502.13 Q999.008 1505.01 999.008 1510.8 Q999.008 1516.58 1000.47 1519.47 Q1001.96 1522.35 1004.89 1522.35 Q1007.85 1522.35 1009.31 1519.47 Q1010.8 1516.58 1010.8 1510.8 Q1010.8 1505.01 1009.31 1502.13 Q1007.85 1499.24 1004.89 1499.24 M1004.89 1496.23 Q1009.62 1496.23 1012.1 1499.97 Q1014.6 1503.69 1014.6 1510.8 Q1014.6 1517.89 1012.1 1521.64 Q1009.62 1525.36 1004.89 1525.36 Q1000.17 1525.36 997.672 1521.64 Q995.19 1517.89 995.19 1510.8 Q995.19 1503.69 997.672 1499.97 Q1000.17 1496.23 1004.89 1496.23 Z\" fill=\"#000000\" fill-rule=\"nonzero\" fill-opacity=\"1\" /><path clip-path=\"url(#clip680)\" d=\"M1297.19 1521.74 L1285.38 1540.19 L1297.19 1540.19 L1297.19 1521.74 M1295.96 1517.66 L1301.84 1517.66 L1301.84 1540.19 L1306.77 1540.19 L1306.77 1544.08 L1301.84 1544.08 L1301.84 1552.22 L1297.19 1552.22 L1297.19 1544.08 L1281.59 1544.08 L1281.59 1539.56 L1295.96 1517.66 Z\" fill=\"#000000\" fill-rule=\"nonzero\" fill-opacity=\"1\" /><path clip-path=\"url(#clip680)\" d=\"M1314.5 1546.35 L1319.39 1546.35 L1319.39 1552.22 L1314.5 1552.22 L1314.5 1546.35 Z\" fill=\"#000000\" fill-rule=\"nonzero\" fill-opacity=\"1\" /><path clip-path=\"url(#clip680)\" d=\"M1339.57 1520.74 Q1335.96 1520.74 1334.13 1524.31 Q1332.33 1527.85 1332.33 1534.98 Q1332.33 1542.09 1334.13 1545.65 Q1335.96 1549.19 1339.57 1549.19 Q1343.21 1549.19 1345.01 1545.65 Q1346.84 1542.09 1346.84 1534.98 Q1346.84 1527.85 1345.01 1524.31 Q1343.21 1520.74 1339.57 1520.74 M1339.57 1517.04 Q1345.38 1517.04 1348.44 1521.65 Q1351.52 1526.23 1351.52 1534.98 Q1351.52 1543.71 1348.44 1548.31 Q1345.38 1552.9 1339.57 1552.9 Q1333.76 1552.9 1330.68 1548.31 Q1327.63 1543.71 1327.63 1534.98 Q1327.63 1526.23 1330.68 1521.65 Q1333.76 1517.04 1339.57 1517.04 Z\" fill=\"#000000\" fill-rule=\"nonzero\" fill-opacity=\"1\" /><path clip-path=\"url(#clip680)\" d=\"M1387.91 1526.76 L1377.33 1537.39 L1387.91 1547.97 L1385.15 1550.77 L1374.53 1540.14 L1363.9 1550.77 L1361.17 1547.97 L1371.72 1537.39 L1361.17 1526.76 L1363.9 1523.96 L1374.53 1534.59 L1385.15 1523.96 L1387.91 1526.76 Z\" fill=\"#000000\" fill-rule=\"nonzero\" fill-opacity=\"1\" /><path clip-path=\"url(#clip680)\" d=\"M1400.27 1548.29 L1407.9 1548.29 L1407.9 1521.92 L1399.59 1523.59 L1399.59 1519.33 L1407.86 1517.66 L1412.53 1517.66 L1412.53 1548.29 L1420.17 1548.29 L1420.17 1552.22 L1400.27 1552.22 L1400.27 1548.29 Z\" fill=\"#000000\" fill-rule=\"nonzero\" fill-opacity=\"1\" /><path clip-path=\"url(#clip680)\" d=\"M1439.62 1520.74 Q1436.01 1520.74 1434.18 1524.31 Q1432.37 1527.85 1432.37 1534.98 Q1432.37 1542.09 1434.18 1545.65 Q1436.01 1549.19 1439.62 1549.19 Q1443.25 1549.19 1445.06 1545.65 Q1446.89 1542.09 1446.89 1534.98 Q1446.89 1527.85 1445.06 1524.31 Q1443.25 1520.74 1439.62 1520.74 M1439.62 1517.04 Q1445.43 1517.04 1448.48 1521.65 Q1451.56 1526.23 1451.56 1534.98 Q1451.56 1543.71 1448.48 1548.31 Q1445.43 1552.9 1439.62 1552.9 Q1433.81 1552.9 1430.73 1548.31 Q1427.67 1543.71 1427.67 1534.98 Q1427.67 1526.23 1430.73 1521.65 Q1433.81 1517.04 1439.62 1517.04 Z\" fill=\"#000000\" fill-rule=\"nonzero\" fill-opacity=\"1\" /><path clip-path=\"url(#clip680)\" d=\"M1451.56 1511.14 L1475.67 1511.14 L1475.67 1514.34 L1451.56 1514.34 L1451.56 1511.14 Z\" fill=\"#000000\" fill-rule=\"nonzero\" fill-opacity=\"1\" /><path clip-path=\"url(#clip680)\" d=\"M1484.53 1521.62 L1490.74 1521.62 L1490.74 1500.19 L1483.99 1501.55 L1483.99 1498.09 L1490.7 1496.73 L1494.5 1496.73 L1494.5 1521.62 L1500.71 1521.62 L1500.71 1524.81 L1484.53 1524.81 L1484.53 1521.62 Z\" fill=\"#000000\" fill-rule=\"nonzero\" fill-opacity=\"1\" /><path clip-path=\"url(#clip680)\" d=\"M1516.51 1499.24 Q1513.57 1499.24 1512.09 1502.13 Q1510.62 1505.01 1510.62 1510.8 Q1510.62 1516.58 1512.09 1519.47 Q1513.57 1522.35 1516.51 1522.35 Q1519.46 1522.35 1520.93 1519.47 Q1522.41 1516.58 1522.41 1510.8 Q1522.41 1505.01 1520.93 1502.13 Q1519.46 1499.24 1516.51 1499.24 M1516.51 1496.23 Q1521.23 1496.23 1523.71 1499.97 Q1526.21 1503.69 1526.21 1510.8 Q1526.21 1517.89 1523.71 1521.64 Q1521.23 1525.36 1516.51 1525.36 Q1511.78 1525.36 1509.28 1521.64 Q1506.8 1517.89 1506.8 1510.8 Q1506.8 1503.69 1509.28 1499.97 Q1511.78 1496.23 1516.51 1496.23 Z\" fill=\"#000000\" fill-rule=\"nonzero\" fill-opacity=\"1\" /><path clip-path=\"url(#clip680)\" d=\"M1794.68 1517.66 L1813.03 1517.66 L1813.03 1521.6 L1798.96 1521.6 L1798.96 1530.07 Q1799.98 1529.72 1801 1529.56 Q1802.02 1529.38 1803.03 1529.38 Q1808.82 1529.38 1812.2 1532.55 Q1815.58 1535.72 1815.58 1541.14 Q1815.58 1546.72 1812.11 1549.82 Q1808.64 1552.9 1802.32 1552.9 Q1800.14 1552.9 1797.87 1552.53 Q1795.63 1552.16 1793.22 1551.41 L1793.22 1546.72 Q1795.3 1547.85 1797.53 1548.41 Q1799.75 1548.96 1802.22 1548.96 Q1806.23 1548.96 1808.57 1546.85 Q1810.91 1544.75 1810.91 1541.14 Q1810.91 1537.53 1808.57 1535.42 Q1806.23 1533.31 1802.22 1533.31 Q1800.35 1533.31 1798.47 1533.73 Q1796.62 1534.15 1794.68 1535.03 L1794.68 1517.66 Z\" fill=\"#000000\" fill-rule=\"nonzero\" fill-opacity=\"1\" /><path clip-path=\"url(#clip680)\" d=\"M1824.79 1546.35 L1829.68 1546.35 L1829.68 1552.22 L1824.79 1552.22 L1824.79 1546.35 Z\" fill=\"#000000\" fill-rule=\"nonzero\" fill-opacity=\"1\" /><path clip-path=\"url(#clip680)\" d=\"M1849.86 1520.74 Q1846.25 1520.74 1844.42 1524.31 Q1842.62 1527.85 1842.62 1534.98 Q1842.62 1542.09 1844.42 1545.65 Q1846.25 1549.19 1849.86 1549.19 Q1853.5 1549.19 1855.3 1545.65 Q1857.13 1542.09 1857.13 1534.98 Q1857.13 1527.85 1855.3 1524.31 Q1853.5 1520.74 1849.86 1520.74 M1849.86 1517.04 Q1855.67 1517.04 1858.73 1521.65 Q1861.81 1526.23 1861.81 1534.98 Q1861.81 1543.71 1858.73 1548.31 Q1855.67 1552.9 1849.86 1552.9 Q1844.05 1552.9 1840.97 1548.31 Q1837.92 1543.71 1837.92 1534.98 Q1837.92 1526.23 1840.97 1521.65 Q1844.05 1517.04 1849.86 1517.04 Z\" fill=\"#000000\" fill-rule=\"nonzero\" fill-opacity=\"1\" /><path clip-path=\"url(#clip680)\" d=\"M1898.2 1526.76 L1887.62 1537.39 L1898.2 1547.97 L1895.44 1550.77 L1884.82 1540.14 L1874.19 1550.77 L1871.46 1547.97 L1882.02 1537.39 L1871.46 1526.76 L1874.19 1523.96 L1884.82 1534.59 L1895.44 1523.96 L1898.2 1526.76 Z\" fill=\"#000000\" fill-rule=\"nonzero\" fill-opacity=\"1\" /><path clip-path=\"url(#clip680)\" d=\"M1910.56 1548.29 L1918.2 1548.29 L1918.2 1521.92 L1909.89 1523.59 L1909.89 1519.33 L1918.15 1517.66 L1922.83 1517.66 L1922.83 1548.29 L1930.46 1548.29 L1930.46 1552.22 L1910.56 1552.22 L1910.56 1548.29 Z\" fill=\"#000000\" fill-rule=\"nonzero\" fill-opacity=\"1\" /><path clip-path=\"url(#clip680)\" d=\"M1949.91 1520.74 Q1946.3 1520.74 1944.47 1524.31 Q1942.66 1527.85 1942.66 1534.98 Q1942.66 1542.09 1944.47 1545.65 Q1946.3 1549.19 1949.91 1549.19 Q1953.54 1549.19 1955.35 1545.65 Q1957.18 1542.09 1957.18 1534.98 Q1957.18 1527.85 1955.35 1524.31 Q1953.54 1520.74 1949.91 1520.74 M1949.91 1517.04 Q1955.72 1517.04 1958.77 1521.65 Q1961.85 1526.23 1961.85 1534.98 Q1961.85 1543.71 1958.77 1548.31 Q1955.72 1552.9 1949.91 1552.9 Q1944.1 1552.9 1941.02 1548.31 Q1937.96 1543.71 1937.96 1534.98 Q1937.96 1526.23 1941.02 1521.65 Q1944.1 1517.04 1949.91 1517.04 Z\" fill=\"#000000\" fill-rule=\"nonzero\" fill-opacity=\"1\" /><path clip-path=\"url(#clip680)\" d=\"M1961.85 1511.14 L1985.97 1511.14 L1985.97 1514.34 L1961.85 1514.34 L1961.85 1511.14 Z\" fill=\"#000000\" fill-rule=\"nonzero\" fill-opacity=\"1\" /><path clip-path=\"url(#clip680)\" d=\"M1994.82 1521.62 L2001.03 1521.62 L2001.03 1500.19 L1994.28 1501.55 L1994.28 1498.09 L2000.99 1496.73 L2004.79 1496.73 L2004.79 1521.62 L2011 1521.62 L2011 1524.81 L1994.82 1524.81 L1994.82 1521.62 Z\" fill=\"#000000\" fill-rule=\"nonzero\" fill-opacity=\"1\" /><path clip-path=\"url(#clip680)\" d=\"M2026.8 1499.24 Q2023.86 1499.24 2022.38 1502.13 Q2020.91 1505.01 2020.91 1510.8 Q2020.91 1516.58 2022.38 1519.47 Q2023.86 1522.35 2026.8 1522.35 Q2029.75 1522.35 2031.22 1519.47 Q2032.7 1516.58 2032.7 1510.8 Q2032.7 1505.01 2031.22 1502.13 Q2029.75 1499.24 2026.8 1499.24 M2026.8 1496.23 Q2031.52 1496.23 2034 1499.97 Q2036.5 1503.69 2036.5 1510.8 Q2036.5 1517.89 2034 1521.64 Q2031.52 1525.36 2026.8 1525.36 Q2022.08 1525.36 2019.57 1521.64 Q2017.09 1517.89 2017.09 1510.8 Q2017.09 1503.69 2019.57 1499.97 Q2022.08 1496.23 2026.8 1496.23 Z\" fill=\"#000000\" fill-rule=\"nonzero\" fill-opacity=\"1\" /><polyline clip-path=\"url(#clip682)\" style=\"stroke:#000000; stroke-linecap:round; stroke-linejoin:round; stroke-width:2; stroke-opacity:0.1; fill:none\" points=\"186.274,1433.78 2352.76,1433.78 \"/>\n",
       "<polyline clip-path=\"url(#clip682)\" style=\"stroke:#000000; stroke-linecap:round; stroke-linejoin:round; stroke-width:2; stroke-opacity:0.1; fill:none\" points=\"186.274,1097.24 2352.76,1097.24 \"/>\n",
       "<polyline clip-path=\"url(#clip682)\" style=\"stroke:#000000; stroke-linecap:round; stroke-linejoin:round; stroke-width:2; stroke-opacity:0.1; fill:none\" points=\"186.274,760.704 2352.76,760.704 \"/>\n",
       "<polyline clip-path=\"url(#clip682)\" style=\"stroke:#000000; stroke-linecap:round; stroke-linejoin:round; stroke-width:2; stroke-opacity:0.1; fill:none\" points=\"186.274,424.167 2352.76,424.167 \"/>\n",
       "<polyline clip-path=\"url(#clip682)\" style=\"stroke:#000000; stroke-linecap:round; stroke-linejoin:round; stroke-width:2; stroke-opacity:0.1; fill:none\" points=\"186.274,87.6286 2352.76,87.6286 \"/>\n",
       "<polyline clip-path=\"url(#clip680)\" style=\"stroke:#000000; stroke-linecap:round; stroke-linejoin:round; stroke-width:4; stroke-opacity:1; fill:none\" points=\"186.274,1474.16 186.274,47.2441 \"/>\n",
       "<polyline clip-path=\"url(#clip680)\" style=\"stroke:#000000; stroke-linecap:round; stroke-linejoin:round; stroke-width:4; stroke-opacity:1; fill:none\" points=\"186.274,1433.78 205.172,1433.78 \"/>\n",
       "<polyline clip-path=\"url(#clip680)\" style=\"stroke:#000000; stroke-linecap:round; stroke-linejoin:round; stroke-width:4; stroke-opacity:1; fill:none\" points=\"186.274,1097.24 205.172,1097.24 \"/>\n",
       "<polyline clip-path=\"url(#clip680)\" style=\"stroke:#000000; stroke-linecap:round; stroke-linejoin:round; stroke-width:4; stroke-opacity:1; fill:none\" points=\"186.274,760.704 205.172,760.704 \"/>\n",
       "<polyline clip-path=\"url(#clip680)\" style=\"stroke:#000000; stroke-linecap:round; stroke-linejoin:round; stroke-width:4; stroke-opacity:1; fill:none\" points=\"186.274,424.167 205.172,424.167 \"/>\n",
       "<polyline clip-path=\"url(#clip680)\" style=\"stroke:#000000; stroke-linecap:round; stroke-linejoin:round; stroke-width:4; stroke-opacity:1; fill:none\" points=\"186.274,87.6286 205.172,87.6286 \"/>\n",
       "<path clip-path=\"url(#clip680)\" d=\"M62.9365 1419.58 Q59.3254 1419.58 57.4967 1423.14 Q55.6912 1426.69 55.6912 1433.81 Q55.6912 1440.92 57.4967 1444.49 Q59.3254 1448.03 62.9365 1448.03 Q66.5707 1448.03 68.3763 1444.49 Q70.205 1440.92 70.205 1433.81 Q70.205 1426.69 68.3763 1423.14 Q66.5707 1419.58 62.9365 1419.58 M62.9365 1415.88 Q68.7467 1415.88 71.8022 1420.48 Q74.8809 1425.06 74.8809 1433.81 Q74.8809 1442.54 71.8022 1447.15 Q68.7467 1451.73 62.9365 1451.73 Q57.1264 1451.73 54.0477 1447.15 Q50.9921 1442.54 50.9921 1433.81 Q50.9921 1425.06 54.0477 1420.48 Q57.1264 1415.88 62.9365 1415.88 Z\" fill=\"#000000\" fill-rule=\"nonzero\" fill-opacity=\"1\" /><path clip-path=\"url(#clip680)\" d=\"M83.0984 1445.18 L87.9827 1445.18 L87.9827 1451.06 L83.0984 1451.06 L83.0984 1445.18 Z\" fill=\"#000000\" fill-rule=\"nonzero\" fill-opacity=\"1\" /><path clip-path=\"url(#clip680)\" d=\"M108.168 1419.58 Q104.557 1419.58 102.728 1423.14 Q100.922 1426.69 100.922 1433.81 Q100.922 1440.92 102.728 1444.49 Q104.557 1448.03 108.168 1448.03 Q111.802 1448.03 113.608 1444.49 Q115.436 1440.92 115.436 1433.81 Q115.436 1426.69 113.608 1423.14 Q111.802 1419.58 108.168 1419.58 M108.168 1415.88 Q113.978 1415.88 117.033 1420.48 Q120.112 1425.06 120.112 1433.81 Q120.112 1442.54 117.033 1447.15 Q113.978 1451.73 108.168 1451.73 Q102.358 1451.73 99.2789 1447.15 Q96.2234 1442.54 96.2234 1433.81 Q96.2234 1425.06 99.2789 1420.48 Q102.358 1415.88 108.168 1415.88 Z\" fill=\"#000000\" fill-rule=\"nonzero\" fill-opacity=\"1\" /><path clip-path=\"url(#clip680)\" d=\"M138.33 1419.58 Q134.719 1419.58 132.89 1423.14 Q131.084 1426.69 131.084 1433.81 Q131.084 1440.92 132.89 1444.49 Q134.719 1448.03 138.33 1448.03 Q141.964 1448.03 143.769 1444.49 Q145.598 1440.92 145.598 1433.81 Q145.598 1426.69 143.769 1423.14 Q141.964 1419.58 138.33 1419.58 M138.33 1415.88 Q144.14 1415.88 147.195 1420.48 Q150.274 1425.06 150.274 1433.81 Q150.274 1442.54 147.195 1447.15 Q144.14 1451.73 138.33 1451.73 Q132.519 1451.73 129.441 1447.15 Q126.385 1442.54 126.385 1433.81 Q126.385 1425.06 129.441 1420.48 Q132.519 1415.88 138.33 1415.88 Z\" fill=\"#000000\" fill-rule=\"nonzero\" fill-opacity=\"1\" /><path clip-path=\"url(#clip680)\" d=\"M63.9319 1083.04 Q60.3208 1083.04 58.4921 1086.61 Q56.6865 1090.15 56.6865 1097.28 Q56.6865 1104.38 58.4921 1107.95 Q60.3208 1111.49 63.9319 1111.49 Q67.5661 1111.49 69.3717 1107.95 Q71.2004 1104.38 71.2004 1097.28 Q71.2004 1090.15 69.3717 1086.61 Q67.5661 1083.04 63.9319 1083.04 M63.9319 1079.34 Q69.742 1079.34 72.7976 1083.94 Q75.8763 1088.53 75.8763 1097.28 Q75.8763 1106 72.7976 1110.61 Q69.742 1115.19 63.9319 1115.19 Q58.1217 1115.19 55.043 1110.61 Q51.9875 1106 51.9875 1097.28 Q51.9875 1088.53 55.043 1083.94 Q58.1217 1079.34 63.9319 1079.34 Z\" fill=\"#000000\" fill-rule=\"nonzero\" fill-opacity=\"1\" /><path clip-path=\"url(#clip680)\" d=\"M84.0938 1108.64 L88.978 1108.64 L88.978 1114.52 L84.0938 1114.52 L84.0938 1108.64 Z\" fill=\"#000000\" fill-rule=\"nonzero\" fill-opacity=\"1\" /><path clip-path=\"url(#clip680)\" d=\"M103.191 1110.59 L119.51 1110.59 L119.51 1114.52 L97.566 1114.52 L97.566 1110.59 Q100.228 1107.83 104.811 1103.2 Q109.418 1098.55 110.598 1097.21 Q112.844 1094.68 113.723 1092.95 Q114.626 1091.19 114.626 1089.5 Q114.626 1086.74 112.682 1085.01 Q110.76 1083.27 107.658 1083.27 Q105.459 1083.27 103.006 1084.04 Q100.575 1084.8 97.7974 1086.35 L97.7974 1081.63 Q100.621 1080.49 103.075 1079.92 Q105.529 1079.34 107.566 1079.34 Q112.936 1079.34 116.131 1082.02 Q119.325 1084.71 119.325 1089.2 Q119.325 1091.33 118.515 1093.25 Q117.728 1095.15 115.621 1097.74 Q115.043 1098.41 111.941 1101.63 Q108.839 1104.82 103.191 1110.59 Z\" fill=\"#000000\" fill-rule=\"nonzero\" fill-opacity=\"1\" /><path clip-path=\"url(#clip680)\" d=\"M129.371 1079.96 L147.728 1079.96 L147.728 1083.9 L133.654 1083.9 L133.654 1092.37 Q134.672 1092.02 135.691 1091.86 Q136.709 1091.68 137.728 1091.68 Q143.515 1091.68 146.894 1094.85 Q150.274 1098.02 150.274 1103.43 Q150.274 1109.01 146.802 1112.11 Q143.33 1115.19 137.01 1115.19 Q134.834 1115.19 132.566 1114.82 Q130.32 1114.45 127.913 1113.71 L127.913 1109.01 Q129.996 1110.15 132.219 1110.7 Q134.441 1111.26 136.918 1111.26 Q140.922 1111.26 143.26 1109.15 Q145.598 1107.05 145.598 1103.43 Q145.598 1099.82 143.26 1097.72 Q140.922 1095.61 136.918 1095.61 Q135.043 1095.61 133.168 1096.03 Q131.316 1096.44 129.371 1097.32 L129.371 1079.96 Z\" fill=\"#000000\" fill-rule=\"nonzero\" fill-opacity=\"1\" /><path clip-path=\"url(#clip680)\" d=\"M62.9365 746.503 Q59.3254 746.503 57.4967 750.068 Q55.6912 753.61 55.6912 760.739 Q55.6912 767.846 57.4967 771.41 Q59.3254 774.952 62.9365 774.952 Q66.5707 774.952 68.3763 771.41 Q70.205 767.846 70.205 760.739 Q70.205 753.61 68.3763 750.068 Q66.5707 746.503 62.9365 746.503 M62.9365 742.799 Q68.7467 742.799 71.8022 747.406 Q74.8809 751.989 74.8809 760.739 Q74.8809 769.466 71.8022 774.072 Q68.7467 778.656 62.9365 778.656 Q57.1264 778.656 54.0477 774.072 Q50.9921 769.466 50.9921 760.739 Q50.9921 751.989 54.0477 747.406 Q57.1264 742.799 62.9365 742.799 Z\" fill=\"#000000\" fill-rule=\"nonzero\" fill-opacity=\"1\" /><path clip-path=\"url(#clip680)\" d=\"M83.0984 772.105 L87.9827 772.105 L87.9827 777.984 L83.0984 777.984 L83.0984 772.105 Z\" fill=\"#000000\" fill-rule=\"nonzero\" fill-opacity=\"1\" /><path clip-path=\"url(#clip680)\" d=\"M98.2141 743.424 L116.57 743.424 L116.57 747.36 L102.496 747.36 L102.496 755.832 Q103.515 755.485 104.534 755.322 Q105.552 755.137 106.571 755.137 Q112.358 755.137 115.737 758.309 Q119.117 761.48 119.117 766.896 Q119.117 772.475 115.645 775.577 Q112.172 778.656 105.853 778.656 Q103.677 778.656 101.409 778.285 Q99.1632 777.915 96.7558 777.174 L96.7558 772.475 Q98.8391 773.609 101.061 774.165 Q103.284 774.721 105.76 774.721 Q109.765 774.721 112.103 772.614 Q114.441 770.508 114.441 766.896 Q114.441 763.285 112.103 761.179 Q109.765 759.072 105.76 759.072 Q103.885 759.072 102.01 759.489 Q100.159 759.906 98.2141 760.785 L98.2141 743.424 Z\" fill=\"#000000\" fill-rule=\"nonzero\" fill-opacity=\"1\" /><path clip-path=\"url(#clip680)\" d=\"M138.33 746.503 Q134.719 746.503 132.89 750.068 Q131.084 753.61 131.084 760.739 Q131.084 767.846 132.89 771.41 Q134.719 774.952 138.33 774.952 Q141.964 774.952 143.769 771.41 Q145.598 767.846 145.598 760.739 Q145.598 753.61 143.769 750.068 Q141.964 746.503 138.33 746.503 M138.33 742.799 Q144.14 742.799 147.195 747.406 Q150.274 751.989 150.274 760.739 Q150.274 769.466 147.195 774.072 Q144.14 778.656 138.33 778.656 Q132.519 778.656 129.441 774.072 Q126.385 769.466 126.385 760.739 Q126.385 751.989 129.441 747.406 Q132.519 742.799 138.33 742.799 Z\" fill=\"#000000\" fill-rule=\"nonzero\" fill-opacity=\"1\" /><path clip-path=\"url(#clip680)\" d=\"M63.9319 409.965 Q60.3208 409.965 58.4921 413.53 Q56.6865 417.072 56.6865 424.201 Q56.6865 431.308 58.4921 434.872 Q60.3208 438.414 63.9319 438.414 Q67.5661 438.414 69.3717 434.872 Q71.2004 431.308 71.2004 424.201 Q71.2004 417.072 69.3717 413.53 Q67.5661 409.965 63.9319 409.965 M63.9319 406.262 Q69.742 406.262 72.7976 410.868 Q75.8763 415.451 75.8763 424.201 Q75.8763 432.928 72.7976 437.534 Q69.742 442.118 63.9319 442.118 Q58.1217 442.118 55.043 437.534 Q51.9875 432.928 51.9875 424.201 Q51.9875 415.451 55.043 410.868 Q58.1217 406.262 63.9319 406.262 Z\" fill=\"#000000\" fill-rule=\"nonzero\" fill-opacity=\"1\" /><path clip-path=\"url(#clip680)\" d=\"M84.0938 435.567 L88.978 435.567 L88.978 441.447 L84.0938 441.447 L84.0938 435.567 Z\" fill=\"#000000\" fill-rule=\"nonzero\" fill-opacity=\"1\" /><path clip-path=\"url(#clip680)\" d=\"M97.9826 406.887 L120.205 406.887 L120.205 408.877 L107.658 441.447 L102.774 441.447 L114.58 410.822 L97.9826 410.822 L97.9826 406.887 Z\" fill=\"#000000\" fill-rule=\"nonzero\" fill-opacity=\"1\" /><path clip-path=\"url(#clip680)\" d=\"M129.371 406.887 L147.728 406.887 L147.728 410.822 L133.654 410.822 L133.654 419.294 Q134.672 418.947 135.691 418.785 Q136.709 418.599 137.728 418.599 Q143.515 418.599 146.894 421.771 Q150.274 424.942 150.274 430.359 Q150.274 435.937 146.802 439.039 Q143.33 442.118 137.01 442.118 Q134.834 442.118 132.566 441.747 Q130.32 441.377 127.913 440.636 L127.913 435.937 Q129.996 437.072 132.219 437.627 Q134.441 438.183 136.918 438.183 Q140.922 438.183 143.26 436.076 Q145.598 433.97 145.598 430.359 Q145.598 426.748 143.26 424.641 Q140.922 422.535 136.918 422.535 Q135.043 422.535 133.168 422.951 Q131.316 423.368 129.371 424.248 L129.371 406.887 Z\" fill=\"#000000\" fill-rule=\"nonzero\" fill-opacity=\"1\" /><path clip-path=\"url(#clip680)\" d=\"M53.7467 100.973 L61.3856 100.973 L61.3856 74.6079 L53.0754 76.2745 L53.0754 72.0153 L61.3393 70.3486 L66.0152 70.3486 L66.0152 100.973 L73.654 100.973 L73.654 104.909 L53.7467 104.909 L53.7467 100.973 Z\" fill=\"#000000\" fill-rule=\"nonzero\" fill-opacity=\"1\" /><path clip-path=\"url(#clip680)\" d=\"M83.0984 99.029 L87.9827 99.029 L87.9827 104.909 L83.0984 104.909 L83.0984 99.029 Z\" fill=\"#000000\" fill-rule=\"nonzero\" fill-opacity=\"1\" /><path clip-path=\"url(#clip680)\" d=\"M108.168 73.4273 Q104.557 73.4273 102.728 76.9921 Q100.922 80.5338 100.922 87.6634 Q100.922 94.7698 102.728 98.3346 Q104.557 101.876 108.168 101.876 Q111.802 101.876 113.608 98.3346 Q115.436 94.7698 115.436 87.6634 Q115.436 80.5338 113.608 76.9921 Q111.802 73.4273 108.168 73.4273 M108.168 69.7236 Q113.978 69.7236 117.033 74.3301 Q120.112 78.9134 120.112 87.6634 Q120.112 96.3902 117.033 100.997 Q113.978 105.58 108.168 105.58 Q102.358 105.58 99.2789 100.997 Q96.2234 96.3902 96.2234 87.6634 Q96.2234 78.9134 99.2789 74.3301 Q102.358 69.7236 108.168 69.7236 Z\" fill=\"#000000\" fill-rule=\"nonzero\" fill-opacity=\"1\" /><path clip-path=\"url(#clip680)\" d=\"M138.33 73.4273 Q134.719 73.4273 132.89 76.9921 Q131.084 80.5338 131.084 87.6634 Q131.084 94.7698 132.89 98.3346 Q134.719 101.876 138.33 101.876 Q141.964 101.876 143.769 98.3346 Q145.598 94.7698 145.598 87.6634 Q145.598 80.5338 143.769 76.9921 Q141.964 73.4273 138.33 73.4273 M138.33 69.7236 Q144.14 69.7236 147.195 74.3301 Q150.274 78.9134 150.274 87.6634 Q150.274 96.3902 147.195 100.997 Q144.14 105.58 138.33 105.58 Q132.519 105.58 129.441 100.997 Q126.385 96.3902 126.385 87.6634 Q126.385 78.9134 129.441 74.3301 Q132.519 69.7236 138.33 69.7236 Z\" fill=\"#000000\" fill-rule=\"nonzero\" fill-opacity=\"1\" /><path clip-path=\"url(#clip680)\" d=\"M2011.46 198.488 L2280.54 198.488 L2280.54 94.8081 L2011.46 94.8081  Z\" fill=\"#ffffff\" fill-rule=\"evenodd\" fill-opacity=\"1\"/>\n",
       "<polyline clip-path=\"url(#clip680)\" style=\"stroke:#000000; stroke-linecap:round; stroke-linejoin:round; stroke-width:4; stroke-opacity:1; fill:none\" points=\"2011.46,198.488 2280.54,198.488 2280.54,94.8081 2011.46,94.8081 2011.46,198.488 \"/>\n",
       "<polyline clip-path=\"url(#clip680)\" style=\"stroke:#009af9; stroke-linecap:round; stroke-linejoin:round; stroke-width:4; stroke-opacity:1; fill:none\" points=\"2035.53,146.648 2179.97,146.648 \"/>\n",
       "<path clip-path=\"url(#clip680)\" d=\"M2217.88 166.336 Q2216.07 170.965 2214.36 172.377 Q2212.65 173.789 2209.78 173.789 L2206.38 173.789 L2206.38 170.224 L2208.88 170.224 Q2210.63 170.224 2211.61 169.391 Q2212.58 168.558 2213.76 165.456 L2214.52 163.511 L2204.04 138.002 L2208.55 138.002 L2216.65 158.28 L2224.76 138.002 L2229.27 138.002 L2217.88 166.336 Z\" fill=\"#000000\" fill-rule=\"nonzero\" fill-opacity=\"1\" /><path clip-path=\"url(#clip680)\" d=\"M2236.56 159.993 L2244.2 159.993 L2244.2 133.627 L2235.89 135.294 L2235.89 131.035 L2244.15 129.368 L2248.83 129.368 L2248.83 159.993 L2256.47 159.993 L2256.47 163.928 L2236.56 163.928 L2236.56 159.993 Z\" fill=\"#000000\" fill-rule=\"nonzero\" fill-opacity=\"1\" /></svg>\n"
      ]
     },
     "metadata": {},
     "output_type": "display_data"
    }
   ],
   "source": [
    "# Zygote.gradient(test_loss, [3.737e-10, 6.0, 12.504, 152.58])\n",
    "@show test_loss(X_nom_meth)\n",
    "\n",
    "x_nom = 3.737e-10\n",
    "δx = [2e-10, 2e-10]\n",
    "plot(x -> test_loss([1.0, x, 6.0, 12.504, 152.58]), x_nom-δx[1]:5e-12:x_nom+δx[2])"
   ]
  },
  {
   "cell_type": "markdown",
   "metadata": {},
   "source": [
    "__Below is a test neural network on random data, to see if the network weights will update__"
   ]
  },
  {
   "cell_type": "code",
   "execution_count": 9,
   "metadata": {},
   "outputs": [
    {
     "data": {
      "text/plain": [
       "bounded_model (generic function with 1 method)"
      ]
     },
     "metadata": {},
     "output_type": "display_data"
    }
   ],
   "source": [
    "# Define the unbounded neural network model\n",
    "model_unbounded = Chain(\n",
    "    Dense(2, 10, relu),\n",
    "    Dense(10, 5)\n",
    ")\n",
    "\n",
    "# Nominal values\n",
    "# x_nominal = [3.737e-10, 6.0, 12.504, 152.58]\n",
    "\n",
    "# Custom barrier function to bound the output within ±n⨯ of the nominal value\n",
    "function bounded_output(x_nn_output, x_nom, n=0.1)\n",
    "    return x_nom .+ 0.1 .* x_nom .* tanh.(x_nn_output)\n",
    "end\n",
    "\n",
    "# Model with bounded output\n",
    "bounded_model(x) = bounded_output(model_unbounded(x), X_nom_meth)"
   ]
  },
  {
   "cell_type": "markdown",
   "metadata": {},
   "source": [
    "It trains! Now it's time to set up a real dataset. We're going to be generating data from GERG2008, which provides highly accurate data for the following species:\n",
    "\n",
    "Hydrocarbons:\n",
    "- methane\n",
    "- ethane\n",
    "- propane\n",
    "- butane\n",
    "- isobutane\n",
    "- pentane\n",
    "- isopentane\n",
    "- hexane\n",
    "- heptane\n",
    "- octane\n",
    "- nonane\n",
    "- decane\n",
    "\n",
    "Homonuclear Gases:\n",
    "- helium\n",
    "- argon\n",
    "- oxygen\n",
    "- nitrogen\n",
    "- hydrogen\n",
    "\n",
    "Heteronuclear Gases\n",
    "- carbon dioxide\n",
    "- carbon monoxide\n",
    "- hydrogen sulfide\n",
    "\n",
    "Water, the only associating compound\n",
    "- water #! We won't include water\n",
    "\n",
    "\n",
    "The _y_ data will be the residual helmholtz free energy, a_res, sampled in a range of V, T space. Initially, I'm sampling between 0.5 and 1.5 of the critical point.\n",
    "\n",
    "__TO CHECK LATER:__\n",
    "- The GERG2008 equations of state will have published validity ranges. These must be respected.\n",
    "- Potentially the ideal model used within GERG should be considered if trying to fit to heat capacity data, or similar. Check what properties the heat capacity influences."
   ]
  },
  {
   "cell_type": "code",
   "execution_count": 11,
   "metadata": {},
   "outputs": [
    {
     "name": "stdout",
     "output_type": "stream",
     "text": [
      "(size(X_data), X_data[1]) = ((1600,), (Float32[0.0, 0.0, 0.0, 0.0, 0.0, 0.0, 0.0, 0.0, 0.0, 0.0, 0.0, 0.0, 0.0, 0.0, 0.0, 0.0, 0.0, 0.0, 0.0, 0.0, 0.0, 0.0, 0.0, 0.0, 0.0, 0.0, 0.0, 0.0, 0.0, 0.0, 0.0, 0.0, 0.0, 0.0, 0.0, 0.0, 0.0, 0.0, 0.0, 0.0, 0.0, 0.0, 0.0, 0.0, 0.0, 0.0, 0.0, 0.0, 0.0, 0.0, 0.0, 0.0, 0.0, 0.0, 0.0, 0.0, 0.0, 0.0, 0.0, 0.0, 0.0, 0.0, 0.0, 0.0, 0.0, 0.0, 0.0, 0.0, 0.0, 0.0, 0.0, 0.0, 0.0, 0.0, 0.0, 0.0, 0.0, 0.0, 0.0, 0.0, 0.0, 0.0, 0.0, 0.0, 0.0, 0.0, 0.0, 0.0, 0.0, 0.0, 0.0, 0.0, 0.0, 0.0, 0.0, 0.0, 0.0, 0.0, 0.0, 0.0, 0.0, 0.0, 0.0, 0.0, 0.0, 0.0, 0.0, 0.0, 0.0, 0.0, 0.0, 0.0, 0.0, 0.0, 0.0, 0.0, 0.0, 0.0, 0.0, 0.0, 0.0, 0.0, 0.0, 0.0, 0.0, 0.0, 0.0, 0.0, 0.0, 0.0, 0.0, 0.0, 0.0, 0.0, 0.0, 0.0, 0.0, 0.0, 0.0, 0.0, 0.0, 0.0, 0.0, 0.0, 0.0, 0.0, 0.0, 0.0, 0.0, 0.0, 0.0, 0.0, 0.0, 0.0, 0.0, 0.0, 0.0, 0.0, 0.0, 0.0, 0.0, 0.0, 0.0, 0.0, 0.0, 0.0, 0.0, 0.0, 0.0, 0.0, 0.0, 0.0, 0.0, 0.0, 0.0, 0.0, 0.0, 0.0, 0.0, 0.0, 0.0, 0.0, 0.0, 0.0, 0.0, 0.0, 0.0, 0.0, 0.0, 0.0, 0.0, 0.0, 0.0, 0.0, 0.0, 0.0, 0.0, 0.0, 0.0, 0.0, 0.0, 0.0, 0.0, 0.0, 0.0, 0.0, 0.0, 0.0, 0.0, 0.0, 0.0, 0.0, 0.0, 0.0, 0.0, 0.0, 0.0, 0.0, 0.0, 0.0, 0.0, 0.0, 0.0, 0.0, 0.0, 0.0, 0.0, 0.0, 0.0, 0.0, 0.0, 0.0, 0.0, 0.0, 0.0, 0.0, 0.0, 0.0, 0.0, 0.0, 0.0, 0.0, 0.0, 0.0, 0.0, 0.0, 0.0, 0.0, 0.0, 0.0, 0.0, 0.0, 0.0, 0.0, 0.0, 0.0, 0.0, 0.0, 0.0, 0.0, 0.0, 0.0, 0.0, 0.0, 0.0, 0.0, 0.0, 0.0, 0.0, 0.0, 0.0, 0.0, 0.0, 0.0, 0.0, 0.0, 0.0, 0.0, 0.0, 0.0, 0.0, 0.0, 0.0, 0.0, 0.0, 0.0, 0.0, 0.0, 0.0, 0.0, 0.0, 0.0, 0.0, 0.0, 0.0, 0.0, 0.0, 0.0, 0.0, 0.0, 0.0, 0.0, 0.0, 0.0, 0.0, 0.0, 0.0, 0.0, 0.0, 0.0, 0.0, 0.0, 0.0, 0.0, 0.0, 0.0, 0.0, 0.0, 0.0, 0.0, 0.0, 0.0, 0.0, 0.0, 0.0, 0.0, 0.0, 0.0, 0.0, 0.0, 0.0, 0.0, 0.0, 0.0, 0.0, 0.0, 0.0, 0.0, 0.0, 0.0, 0.0, 0.0, 0.0, 0.0, 0.0, 0.0, 0.0, 0.0, 0.0, 0.0, 0.0, 0.0, 0.0, 0.0, 0.0, 0.0, 0.0, 0.0, 0.0, 0.0, 0.0, 0.0, 0.0, 0.0, 0.0, 0.0, 0.0, 0.0, 0.0, 0.0, 0.0, 0.0, 0.0, 0.0, 0.0, 0.0, 0.0, 0.0, 0.0, 0.0, 0.0, 0.0, 0.0, 0.0, 0.0, 0.0, 0.0, 0.0, 0.0, 0.0, 0.0, 0.0, 0.0, 0.0, 0.0, 0.0, 0.0, 0.0, 0.0, 0.0, 0.0, 0.0, 0.0, 0.0, 0.0, 0.0, 0.0, 0.0, 0.0, 0.0, 0.0, 0.0, 0.0, 0.0, 0.0, 0.0, 0.0, 0.0, 0.0, 0.0, 0.0, 0.0, 0.0, 0.0, 0.0, 0.0, 0.0, 0.0, 0.0, 0.0, 0.0, 0.0, 0.0, 0.0, 0.0, 0.0, 0.0, 0.0, 0.0, 0.0, 0.0, 0.0, 0.0, 0.0, 0.0, 0.0, 0.0, 0.0, 0.0, 0.0, 0.0, 0.0, 0.0, 0.0, 0.0, 0.0, 0.0, 0.0, 0.0, 0.0, 0.0, 0.0, 0.0, 0.0, 0.0, 0.0, 0.0, 0.0, 0.0, 0.0, 0.0, 0.0, 0.0, 0.0, 0.0, 0.0, 0.0, 0.0, 0.0, 0.0, 0.0, 0.0, 0.0, 0.0, 0.0, 0.0, 0.0, 0.0, 0.0, 0.0, 0.0, 0.0, 0.0, 0.0, 0.0, 0.0, 0.0, 0.0, 0.0, 0.0, 0.0, 0.0, 0.0, 0.0, 0.0, 0.0, 0.0, 0.0, 0.0, 0.0, 0.0, 0.0, 0.0, 0.0, 0.0, 0.0, 0.0, 0.0, 0.0, 0.0, 0.0, 0.0, 0.0, 0.0, 0.0, 0.0, 0.0, 0.0, 0.0, 0.0, 0.0, 0.0, 0.0, 0.0, 0.0, 0.0, 0.0, 0.0, 0.0, 0.0, 0.0, 0.0, 0.0, 0.0, 0.0, 0.0, 0.0, 0.0, 0.0, 0.0, 0.0, 0.0, 0.0, 0.0, 0.0, 0.0, 0.0, 0.0, 0.0, 0.0, 0.0, 0.0, 0.0, 0.0, 0.0, 0.0, 0.0, 0.0, 0.0, 0.0, 0.0, 0.0, 0.0, 0.0, 0.0, 0.0, 0.0, 0.0, 0.0, 0.0, 0.0, 0.0, 0.0, 0.0, 0.0, 0.0, 0.0, 0.0, 0.0, 0.0, 0.0, 0.0, 0.0, 0.0, 0.0, 0.0, 0.0, 0.0, 0.0, 0.0, 0.0, 0.0, 0.0, 0.0, 0.0, 0.0, 0.0, 0.0, 0.0, 0.0, 0.0, 0.0, 0.0, 0.0, 0.0, 0.0, 0.0, 0.0, 0.0, 0.0, 0.0, 0.0, 0.0, 0.0, 0.0, 0.0, 0.0, 0.0, 0.0, 0.0, 0.0, 0.0, 0.0, 0.0, 0.0, 0.0, 0.0, 0.0, 0.0, 0.0, 0.0, 0.0, 0.0, 0.0, 0.0, 0.0, 0.0, 0.0, 0.0, 0.0, 0.0, 0.0, 0.0, 0.0, 0.0, 0.0, 0.0, 0.0, 0.0, 0.0, 0.0, 0.0, 0.0, 0.0, 0.0, 0.0, 0.0, 0.0, 0.0, 0.0, 0.0, 0.0, 0.0, 0.0, 0.0, 0.0, 0.0, 0.0, 0.0, 0.0, 0.0, 0.0, 0.0, 0.0, 0.0, 0.0, 0.0, 0.0, 0.0, 0.0, 0.0, 0.0, 0.0, 0.0, 0.0, 0.0, 0.0, 0.0, 0.0, 0.0, 0.0, 0.0, 0.0, 0.0, 0.0, 0.0, 0.0, 0.0, 0.0, 0.0, 0.0, 0.0, 0.0, 0.0, 0.0, 0.0, 0.0, 0.0, 0.0, 0.0, 0.0, 0.0, 0.0, 0.0, 0.0, 0.0, 0.0, 0.0, 0.0, 0.0, 0.0, 0.0, 0.0, 0.0, 0.0, 0.0, 0.0, 0.0, 0.0, 0.0, 0.0, 0.0, 0.0, 0.0, 0.0, 0.0, 0.0, 0.0, 0.0, 0.0, 0.0, 0.0, 0.0, 0.0, 0.0, 0.0, 0.0, 0.0, 0.0, 0.0, 0.0, 0.0, 0.0, 0.0, 0.0, 0.0, 0.0, 0.0, 0.0, 0.0, 0.0, 0.0, 0.0, 0.0, 0.0, 0.0, 0.0, 0.0, 0.0, 0.0, 0.0, 0.0, 0.0, 0.0, 0.0, 0.0, 0.0, 0.0, 0.0, 0.0, 0.0, 0.0, 0.0, 0.0, 0.0, 0.0, 0.0, 0.0, 0.0, 0.0, 0.0, 0.0, 0.0, 0.0, 0.0, 0.0, 0.0, 0.0, 0.0, 0.0, 0.0, 0.0, 0.0, 0.0, 0.0, 0.0, 0.0, 0.0, 0.0, 0.0, 0.0, 0.0, 0.0, 0.0, 0.0, 0.0, 0.0, 0.0, 0.0, 0.0, 0.0, 0.0, 0.0, 0.0, 0.0, 0.0, 0.0, 0.0, 0.0, 0.0, 0.0, 0.0, 0.0, 0.0, 0.0, 0.0, 0.0, 0.0, 0.0, 0.0, 0.0, 0.0, 0.0, 0.0, 0.0, 0.0, 0.0, 0.0, 0.0, 0.0, 0.0, 0.0, 0.0, 0.0, 0.0, 0.0, 0.0, 0.0, 0.0, 0.0, 0.0, 0.0, 0.0, 0.0, 0.0, 0.0, 0.0, 0.0, 0.0, 0.0, 0.0, 0.0, 0.0, 0.0, 0.0, 0.0, 0.0, 0.0, 0.0, 0.0, 0.0, 0.0, 0.0, 0.0, 0.0, 0.0, 0.0, 0.0, 0.0, 0.0, 0.0, 0.0, 0.0, 0.0, 0.0, 0.0, 0.0, 0.0, 0.0, 0.0, 0.0, 0.0, 0.0, 0.0, 0.0, 0.0, 0.0, 0.0, 0.0, 0.0, 0.0, 0.0, 0.0, 0.0, 0.0, 0.0, 0.0, 0.0, 0.0, 0.0, 0.0, 0.0, 0.0, 0.0, 0.0, 0.0, 0.0, 0.0, 0.0, 0.0, 0.0, 0.0, 0.0, 0.0, 0.0, 0.0, 0.0, 0.0, 0.0, 0.0, 0.0, 0.0, 0.0, 0.0, 0.0, 0.0, 0.0, 0.0, 0.0, 0.0, 0.0, 0.0, 0.0, 0.0, 0.0, 0.0, 0.0, 0.0, 0.0, 0.0, 0.0, 0.0, 0.0, 0.0, 0.0, 0.0, 0.0, 0.0, 0.0, 0.0, 0.0, 0.0, 0.0, 0.0, 0.0, 0.0, 0.0, 0.0, 0.0, 0.0, 0.0, 0.0, 0.0, 0.0, 0.0, 0.0, 0.0, 0.0, 0.0, 0.0, 0.0, 0.0, 0.0, 0.0, 0.0, 0.0, 0.0, 0.0, 0.0, 0.0, 0.0, 0.0, 0.0, 0.0, 0.0, 0.0, 0.0, 0.0, 0.0, 0.0, 0.0, 0.0, 0.0, 0.0, 0.0, 0.0, 0.0, 0.0, 0.0, 0.0, 0.0, 0.0, 0.0, 0.0, 0.0, 0.0, 0.0, 0.0, 0.0, 0.0, 0.0, 0.0, 0.0, 0.0, 0.0, 0.0, 0.0, 0.0, 0.0, 0.0, 0.0, 0.0, 0.0, 0.0, 0.0, 0.0, 0.0, 1.0, 0.0, 0.0, 0.0, 0.0, 0.0, 0.0, 0.0, 0.0, 0.0, 0.0, 0.0, 0.0, 0.0, 0.0, 0.0, 0.0, 0.0, 0.0, 0.0, 0.0, 0.0, 0.0, 0.0, 0.0, 0.0, 0.0, 0.0, 0.0, 0.0, 0.0, 0.0, 0.0, 0.0, 0.0, 0.0, 0.0, 0.0, 0.0, 0.0, 0.0, 0.0, 0.0, 0.0, 0.0, 0.0, 0.0, 0.0, 0.0, 0.0, 0.0, 0.0, 0.0, 0.0, 0.0, 0.0, 0.0, 0.0, 0.0, 0.0, 0.0, 0.0, 0.0, 0.0, 0.0, 0.0, 0.0, 0.0, 0.0, 0.0, 0.0, 0.0, 0.0, 0.0, 0.0, 0.0, 0.0, 0.0, 0.0, 0.0, 0.0, 0.0, 0.0, 0.0, 0.0, 0.0, 0.0, 0.0, 0.0, 0.0, 0.0, 0.0, 0.0, 0.0, 0.0, 0.0, 0.0, 0.0, 0.0, 0.0, 0.0, 0.0, 0.0, 0.0, 0.0, 0.0, 0.0, 0.0, 0.0, 0.0, 0.0, 0.0, 0.0, 0.0, 0.0, 0.0, 0.0, 0.0, 0.0, 0.0, 0.0, 0.0, 0.0, 0.0, 0.0, 0.0, 0.0, 0.0, 0.0, 0.0, 0.0, 0.0, 0.0, 0.0, 0.0, 0.0, 0.0, 0.0, 0.0, 0.0, 0.0, 0.0, 0.0, 0.0, 0.0, 0.0, 0.0, 0.0, 0.0, 0.0, 0.0, 0.0, 0.0, 0.0, 0.0, 0.0, 0.0, 0.0, 0.0, 0.0, 0.0, 0.0, 0.0, 0.0, 0.0, 0.0, 0.0, 0.0, 0.0, 0.0, 0.0, 0.0, 0.0, 0.0, 0.0, 0.0, 0.0, 0.0, 0.0, 0.0, 0.0, 0.0, 0.0, 0.0, 0.0, 0.0, 0.0, 0.0, 0.0, 0.0, 0.0, 0.0, 0.0, 0.0, 0.0, 0.0, 0.0, 0.0, 0.0, 0.0, 0.0, 0.0, 0.0, 0.0, 0.0, 0.0, 0.0, 0.0, 0.0, 0.0, 0.0, 0.0, 0.0, 0.0, 0.0, 0.0, 0.0, 0.0, 1.0, 0.0, 0.0, 0.0, 0.0, 0.0, 0.0, 0.0, 0.0, 0.0, 0.0, 0.0, 0.0, 0.0, 0.0, 0.0, 0.0, 0.0, 0.0, 0.0, 0.0, 0.0, 0.0, 0.0, 0.0, 0.0, 0.0, 0.0, 0.0, 0.0, 0.0, 0.0, 0.0, 0.0, 0.0, 0.0, 0.0, 0.0, 0.0, 0.0, 0.0, 0.0, 0.0, 0.0, 0.0, 0.0, 0.0, 0.0, 0.0, 0.0, 0.0, 0.0, 0.0, 0.0, 0.0, 0.0, 0.0, 0.0, 0.0, 0.0, 0.0, 0.0, 0.0, 0.0, 0.0, 0.0, 0.0, 0.0, 0.0, 0.0, 0.0, 0.0, 0.0, 0.0, 0.0, 0.0, 0.0, 0.0, 0.0, 0.0, 0.0, 0.0, 0.0, 0.0, 0.0, 0.0, 0.0, 0.0, 0.0, 0.0, 0.0, 0.0, 0.0, 0.0, 0.0, 0.0, 0.0, 0.0, 0.0, 0.0, 0.0, 0.0, 0.0, 0.0, 0.0, 0.0, 0.0, 0.0, 0.0, 0.0, 0.0, 0.0, 0.0, 0.0, 0.0, 0.0, 0.0, 0.0, 0.0, 0.0, 0.0, 0.0, 0.0, 0.0, 0.0, 0.0, 0.0, 0.0, 0.0, 0.0, 0.0, 0.0, 0.0, 0.0, 0.0, 0.0, 0.0, 0.0, 0.0, 0.0, 0.0, 0.0, 0.0, 0.0, 0.0, 0.0, 0.0, 0.0, 0.0, 0.0, 0.0, 0.0, 0.0, 0.0, 0.0, 0.0, 0.0, 0.0, 0.0, 0.0, 0.0, 0.0, 0.0, 0.0, 0.0, 0.0, 0.0, 0.0, 0.0, 0.0, 0.0, 0.0, 0.0, 0.0, 0.0, 0.0, 0.0, 0.0, 0.0, 0.0, 0.0, 0.0, 0.0, 0.0, 0.0, 0.0, 0.0, 0.0, 0.0, 0.0, 0.0, 0.0, 0.0, 0.0, 0.0, 0.0, 0.0, 0.0, 0.0, 0.0, 0.0, 0.0, 0.0, 0.0, 0.0, 0.0, 0.0, 0.0, 0.0, 0.0, 0.0, 0.0, 0.0, 0.0, 0.0, 0.0, 0.0, 0.0, 0.0, 0.0, 0.0, 0.0, 0.0, 0.0, 0.0, 0.0, 0.0, 0.0, 0.0, 0.0, 0.0, 0.0, 0.0, 0.0, 0.0, 0.0, 0.0, 0.0, 0.0, 0.0, 0.0, 0.0, 0.0, 0.0, 0.0, 0.0, 0.0, 0.0, 0.0, 0.0, 0.0, 0.0, 0.0, 0.0, 0.0, 0.0, 0.0, 0.0, 0.0, 0.0, 0.0, 0.0, 0.0, 0.0, 0.0, 0.0, 0.0, 0.0, 0.0, 0.0, 0.0, 0.0, 0.0, 0.0, 0.0, 0.0, 0.0, 0.0, 0.0, 0.0, 0.0, 0.0, 0.0, 0.0, 0.0, 0.0, 0.0, 0.0, 0.0, 0.0, 0.0, 0.0, 0.0, 0.0, 0.0, 0.0, 0.0, 0.0, 0.0, 0.0, 0.0, 0.0, 0.0, 0.0, 0.0, 0.0, 0.0, 0.0, 0.0, 0.0, 0.0, 0.0, 0.0, 0.0, 0.0, 0.0, 0.0, 0.0, 0.0, 0.0, 0.0, 0.0, 0.0, 0.0, 0.0, 0.0, 0.0, 0.0, 0.0, 0.0, 0.0, 0.0, 0.0, 0.0, 0.0, 0.0, 0.0, 0.0, 0.0, 0.0, 0.0, 0.0, 0.0, 0.0, 0.0, 0.0, 0.0, 0.0, 0.0, 0.0, 0.0, 0.0, 0.0, 0.0, 0.0, 0.0, 0.0, 0.0, 0.0, 0.0, 0.0, 0.0, 0.0, 0.0, 0.0, 0.0, 0.0, 0.0, 0.0, 0.0, 0.0, 0.0, 0.0, 0.0, 0.0, 0.0, 0.0, 0.0, 0.0, 0.0, 0.0, 0.0, 0.0, 0.0, 0.0, 0.0, 0.0, 0.0, 0.0, 0.0, 0.0, 0.0, 0.0, 0.0, 0.0, 0.0, 0.0, 0.0, 0.0, 0.0, 0.0, 0.0, 0.0, 0.0, 0.0, 0.0, 0.0, 0.0, 0.0, 0.0, 0.0, 0.0, 0.0, 0.0, 0.0, 0.0, 0.0, 0.0, 0.0, 0.0, 0.0, 0.0, 0.0, 0.0, 0.0, 0.0, 0.0, 0.0, 0.0, 0.0, 0.0, 0.0, 0.0, 0.0, 0.0, 0.0, 0.0, 0.0, 0.0, 0.0, 0.0, 0.0, 0.0, 0.0, 0.0, 0.0, 0.0, 0.0, 0.0, 0.0, 0.0, 0.0, 0.0, 0.0, 0.0, 0.0, 0.0, 0.0, 0.0, 0.0, 0.0, 0.0, 0.0, 0.0, 0.0, 0.0, 0.0, 0.0, 0.0, 0.0, 0.0, 0.0, 0.0, 0.0, 0.0, 0.0, 0.0, 0.0, 0.0, 0.0, 0.0, 0.0, 0.0, 0.0, 0.0, 0.0, 0.0, 0.0, 0.0, 0.0, 0.0, 0.0, 0.0, 0.0, 0.0, 0.0, 0.0, 0.0, 0.0, 0.0, 0.0, 0.0, 0.0, 0.0, 0.0, 0.0, 0.0, 0.0, 0.0, 0.0, 0.0, 0.0, 0.0, 0.0, 0.0, 0.0, 0.0, 0.0, 0.0, 0.0, 0.0, 0.0, 0.0, 0.0, 0.0, 0.0, 0.0, 0.0, 0.0, 0.0, 0.0, 0.0, 0.0, 0.0, 0.0, 0.0, 0.0, 0.0, 0.0, 0.0, 0.0, 0.0, 0.0, 0.0, 0.0, 0.0, 0.0, 0.0, 0.0, 0.0, 0.0, 0.0, 0.0, 0.0, 0.0, 0.0, 0.0, 0.0, 0.0, 0.0, 0.0, 0.0, 0.0, 0.0, 0.0, 0.0, 0.0, 0.0, 0.0, 0.0, 0.0, 0.0, 0.0, 0.0, 0.0, 0.0, 0.0, 0.0, 0.0, 0.0, 0.0, 0.0, 0.0, 0.0, 0.0, 0.0, 0.0, 0.0, 0.0, 0.0, 0.0, 0.0, 0.0, 0.0, 0.0, 0.0, 0.0, 0.0, 0.0, 0.0, 0.0, 0.0, 0.0, 0.0, 0.0, 0.0, 0.0, 0.0, 0.0, 0.0, 0.0, 0.0, 0.0, 0.0, 0.0, 0.0, 0.0, 0.0, 0.0, 0.0, 0.0, 0.0, 0.0, 0.0, 0.0, 0.0, 0.0, 0.0, 0.0, 0.0, 0.0, 0.0, 0.0, 0.0, 0.0, 0.0, 0.0, 0.0, 0.0, 0.0, 0.0, 0.0, 0.0, 0.0, 0.0, 0.0, 0.0, 0.0, 0.0, 0.0, 0.0, 0.0, 0.0, 0.0, 0.0, 0.0, 0.0, 0.0, 0.0, 0.0, 0.0, 0.0, 0.0, 0.0, 0.0, 0.0, 0.0, 0.0, 0.0, 0.0, 0.0, 0.0, 0.0, 0.0, 0.0, 0.0, 0.0, 0.0, 0.0, 0.0, 0.0, 0.0, 0.0, 0.0, 0.0, 0.0, 0.0, 0.0, 0.0, 0.0, 0.0, 0.0, 0.0, 0.0, 0.0, 0.0, 0.0, 0.0, 0.0, 0.0, 0.0, 0.0, 0.0, 0.0, 0.0, 0.0, 0.0, 0.0, 0.0, 0.0, 0.0, 0.0, 0.0, 0.0, 0.0, 0.0, 0.0, 0.0, 0.0, 0.0, 0.0, 0.0, 0.0, 0.0, 0.0, 0.0, 0.0, 0.0, 0.0, 0.0, 0.0, 0.0, 0.0, 0.0, 0.0, 0.0, 0.0, 0.0, 0.0, 0.0, 0.0, 0.0, 0.0, 0.0, 0.0, 0.0, 0.0, 0.0, 0.0, 0.0, 0.0, 0.0, 0.0, 0.0, 0.0, 0.0, 0.0, 0.0, 0.0, 0.0, 0.0, 0.0, 0.0, 0.0, 0.0, 0.0, 0.0, 0.0, 0.0, 0.0, 0.0, 0.0, 0.0, 1.0262, 2.0, 30.07, 1.0], 0.0011309873f0, 255.20018f0, \"ethane\"))"
     ]
    },
    {
     "name": "stdout",
     "output_type": "stream",
     "text": [
      "\n",
      "(size(Y_data), Y_data[1]) = ((1600,), Float32[-0.19637565])\n"
     ]
    }
   ],
   "source": [
    "# Initially sample data for hydrocarbons\n",
    "#! isobutane, isopentane not defined for SAFTVRMie\n",
    "species = [\n",
    "    \"methane\",\n",
    "    \"ethane\",\n",
    "    \"propane\",\n",
    "    \"butane\",\n",
    "    # \"pentane\",\n",
    "    # \"hexane\",\n",
    "    # \"heptane\",\n",
    "    # \"octane\",\n",
    "    # \"nonane\",\n",
    "    # \"decane\",\n",
    "]\n",
    "\n",
    "# Define smiles map\n",
    "smiles_map = Dict(\n",
    "    \"methane\" => \"C\",\n",
    "    \"ethane\" => \"CC\",\n",
    "    \"propane\" => \"CCC\",\n",
    "    \"butane\" => \"CCCC\",\n",
    "    \"isobutane\" => \"CC(C)C\",\n",
    "    \"pentane\" => \"CCCCC\",\n",
    "    \"isopentane\" => \"CC(C)CC\",\n",
    "    \"hexane\" => \"CCCCCC\",\n",
    "    \"heptane\" => \"CCCCCCC\",\n",
    "    \"octane\" => \"CCCCCCCC\",\n",
    "    \"nonane\" => \"CCCCCCCCC\",\n",
    "    \"decane\" => \"CCCCCCCCCC\",\n",
    ")\n",
    "\n",
    "function make_fingerprint(s::String)::Vector{Float32}\n",
    "    mol = get_mol(s)\n",
    "    @assert !isnothing(mol)\n",
    "\n",
    "    fp = []\n",
    "    fp_details = Dict{String,Any}(\"nBits\" => 2048, \"radius\" => 3)\n",
    "    fp_str = get_morgan_fp(mol, fp_details)\n",
    "    append!(fp, [parse(Float32, string(c)) for c in fp_str])\n",
    "\n",
    "    # fp_details = Dict{String,Any}(\"nBits\" => 128, \"radius\" => 3)\n",
    "    # fp_str = get_morgan_fp(mol, fp_details)\n",
    "    # append!(fp, [parse(Float32, string(c)) for c in fp_str])\n",
    "\n",
    "    # Additional descriptors\n",
    "    desc = get_descriptors(mol)\n",
    "    # sort by key\n",
    "    # desc = sort(collect(desc), by=x->x[1])\n",
    "    relevant_keys = [\n",
    "        \"CrippenClogP\",\n",
    "        \"NumHeavyAtoms\",\n",
    "        \"amw\",\n",
    "        \"FractionCSP3\",\n",
    "    ]\n",
    "\n",
    "    # @show desc\n",
    "    relevant_desc = [desc[k] for k in relevant_keys]\n",
    "    append!(fp, last.(relevant_desc))\n",
    "\n",
    "    return fp\n",
    "end\n",
    "\n",
    "# X data contains fingerprint, V, T\n",
    "# Y data contains a_res\n",
    "#* Sampling data along saturation curve\n",
    "T = Float32\n",
    "X_data = Vector{Tuple{Vector{T},T,T, String}}([])\n",
    "Y_data = Vector{Vector{T}}()\n",
    "\n",
    "n = 200\n",
    "for s in species\n",
    "    # model = GERG2008([s])\n",
    "    model = SAFTVRMie([s])\n",
    "    Tc, pc, Vc = crit_pure(model)\n",
    "    smiles = smiles_map[s]\n",
    "\n",
    "    fingerprint = make_fingerprint(smiles)\n",
    "\n",
    "    T_range = range(0.5 * Tc, 0.99 * Tc, n)\n",
    "    # V_range = range(0.5 * Vc, 1.5 * Vc, n) # V could be sampled from a logspace\n",
    "    for T in T_range\n",
    "        (p₀, V_vec...) = saturation_pressure(model, T)\n",
    "        for V in V_vec\n",
    "            push!(X_data, (fingerprint, V, T, s))\n",
    "            a = a_res(model, V, T, [1.0])\n",
    "            push!(Y_data, Float32[a])\n",
    "        end\n",
    "    end\n",
    "end\n",
    "\n",
    "# Randomly shuffle data\n",
    "#? Split into train, validation set too?\n",
    "# Generate a set of shuffled indices\n",
    "# shuffled_indices = shuffle(1:length(X_data))\n",
    "idx = collect(range(1, length(X_data)))\n",
    "shuffle!(idx)\n",
    "\n",
    "# Rearrange X_data and y_data according to the shuffled indices\n",
    "X_data = X_data[idx]\n",
    "Y_data = Y_data[idx]\n",
    "\n",
    "@show size(X_data), X_data[1]\n",
    "@show size(Y_data), Y_data[1]\n",
    "nothing"
   ]
  },
  {
   "cell_type": "code",
   "execution_count": 12,
   "metadata": {},
   "outputs": [
    {
     "name": "stdout",
     "output_type": "stream",
     "text": [
      "[\"CrippenClogP\", \"CrippenMR\", \"FractionCSP3\", \"NumAliphaticHeterocycles\", \"NumAliphaticRings\", \"NumAmideBonds\", \"NumAromaticHeterocycles\", \"NumAromaticRings\", \"NumAtomStereoCenters\", \"NumAtoms\", \"NumBridgeheadAtoms\", \"NumHBA\", \"NumHBD\", \"NumHeavyAtoms\", \"NumHeteroatoms\", \"NumHeterocycles\", \"NumRings\", \"NumRotatableBonds\", \"NumSaturatedHeterocycles\", \"NumSaturatedRings\", \"NumSpiroAtoms\", \"NumUnspecifiedAtomStereoCenters\", \"Phi\", \"amw\", \"chi0n\", \"chi0v\", \"chi1n\", \"chi1v\", \"chi2n\", \"chi2v\", \"chi3n\", \"chi3v\", \"chi4n\", \"chi4v\", \"exactmw\", \"hallKierAlpha\", \"kappa1\", \"kappa2\", \"kappa3\", \"labuteASA\", \"lipinskiHBA\", \"lipinskiHBD\", \"tpsa\"]"
     ]
    }
   ],
   "source": [
    "mol = get_mol(\"CCCCC\")\n",
    "# Additional descriptors\n",
    "desc = get_descriptors(mol)\n",
    "# sort by key\n",
    "desc = sort(collect(desc), by=x->x[1])\n",
    "print(first.(desc))"
   ]
  },
  {
   "cell_type": "code",
   "execution_count": 13,
   "metadata": {},
   "outputs": [
    {
     "data": {
      "text/plain": [
       "Dict{String, Vector{Float32}} with 4 entries:\n",
       "  \"butane\"  => [1.8514, 4.0887, 13.65, 273.64]\n",
       "  \"propane\" => [1.6845, 3.9056, 13.006, 239.89]\n",
       "  \"methane\" => [1.0, 3.737, 12.504, 152.58]\n",
       "  \"ethane\"  => [1.4373, 3.7257, 12.4, 206.12]"
      ]
     },
     "metadata": {},
     "output_type": "display_data"
    }
   ],
   "source": [
    "# Generate nominal X dictionary\n",
    "nominal_X = Dict{String,Vector{Float32}}()\n",
    "for s in species\n",
    "    model = SAFTVRMie([s])\n",
    "\n",
    "    nominal_X[s] = [\n",
    "        model.params.segment[1],\n",
    "        model.params.sigma[1]*1e10,\n",
    "        # model.params.lambda_a[1],\n",
    "        model.params.lambda_r[1],\n",
    "        model.params.epsilon[1],\n",
    "    ]\n",
    "end\n",
    "nominal_X #! Looks like lambda_a should be fixed at 6.0"
   ]
  },
  {
   "cell_type": "code",
   "execution_count": 14,
   "metadata": {},
   "outputs": [
    {
     "data": {
      "text/plain": [
       "Dict{String, Float32} with 4 entries:\n",
       "  \"butane\"  => 58.12\n",
       "  \"propane\" => 44.1\n",
       "  \"methane\" => 16.04\n",
       "  \"ethane\"  => 30.07"
      ]
     },
     "metadata": {},
     "output_type": "display_data"
    }
   ],
   "source": [
    "Mw_dict = Dict{String,Float32}()\n",
    "for s in species\n",
    "    model = SAFTVRMie([s])\n",
    "\n",
    "    Mw_dict[s] = model.params.Mw[1]\n",
    "end\n",
    "Mw_dict"
   ]
  },
  {
   "cell_type": "code",
   "execution_count": 15,
   "metadata": {},
   "outputs": [
    {
     "name": "stdout",
     "output_type": "stream",
     "text": [
      "Beginning iterations, initial model performance:\n",
      "(s, V, T, Mw) = (\"ethane\", 0.0011309873f0, 255.20018f0, 30.07f0)\n",
      "X_nom = "
     ]
    },
    {
     "name": "stdout",
     "output_type": "stream",
     "text": [
      "[1.4372999668121338, 3.7256999015808105, 12.399999618530273, 206.1199951171875]\n",
      "X_unbounded = [-0.017317108809947968, -0.041693661361932755, -0.10578371584415436, 0.06482639908790588]\n",
      "X_bounded = "
     ]
    },
    {
     "name": "stdout",
     "output_type": "stream",
     "text": [
      "[1.4493088997739172, 3.829966022336304, 12.459197470490295, 207.53630593778632]\n"
     ]
    },
    {
     "name": "stdout",
     "output_type": "stream",
     "text": [
      "(ŷ, y) = (-0.2185866558121729, Float32[-0.19637565])\n",
      "size(batched_data) = "
     ]
    }
   ],
   "source": [
    "# Define the unbounded neural network model\n",
    "input_dim = length(X_data[1][1])\n",
    "hidden_dim = 4096\n",
    "output_dim = 4\n",
    "num_layers = 4\n",
    "\n",
    "layers = vcat(\n",
    "    [Dense(input_dim, hidden_dim, relu),],\n",
    "    [Dense(hidden_dim, hidden_dim, relu) for _ in 1:num_layers],\n",
    "    [Dense(hidden_dim, output_dim)],\n",
    ")\n",
    "\n",
    "unbounded_model = Chain(layers...)\n",
    "\n",
    "# Custom barrier function to bound the output within ±n⨯ of the nominal value while keeping derivatives\n",
    "# https://www.desmos.com/calculator/wpabjptlup\n",
    "# https://www.desmos.com/calculator/j6rjs1pmjj\n",
    "\n",
    "#! Bounds from ML_SAFT paper\n",
    "bounds = Vector{Tuple{Float32,Float32}}([\n",
    "    # (1, 1.1), # m\n",
    "    # (3.7, 3.75), # σ\n",
    "    # (12.5, 12.6), # λ\n",
    "    # (150, 155), # ϵ\n",
    "    # (1, 3), # m\n",
    "    # (3.5, 5), # σ\n",
    "    # (12, 19), # λ\n",
    "    # (100, 450), # ϵ\n",
    "    (1, 2), # m\n",
    "    (3.5, 4.5), # σ\n",
    "    (12, 14), # λ\n",
    "    (150, 280), # ϵ\n",
    "])\n",
    "\n",
    "lb = first.(bounds)\n",
    "ub = last.(bounds)\n",
    "\n",
    "# function bounded_output(x_nn_output, x_nom, n=0.5, b=4.5)\n",
    "#     return @. x_nom - n * x_nom * tanh(-1/b * (x_nn_output - x_nom))\n",
    "# end\n",
    "function bounded_output(x_nn_output, b=10.0)\n",
    "    return @. lb + (ub - lb) * 0.5 * (tanh(1/b * (x_nn_output - lb) / (ub - lb)) + 1)\n",
    "end\n",
    "\n",
    "# Model with bounded output\n",
    "# bounded_model(x, x_nom) = bounded_output(unbounded_model(x), x_nom)\n",
    "bounded_model(x) = bounded_output(unbounded_model(x))\n",
    "\n",
    "# Hyperparameters\n",
    "learning_rate = 1e-2\n",
    "epochs = 10\n",
    "batch_size = 32\n",
    "\n",
    "# Optimizer\n",
    "opt = ADAM(learning_rate)\n",
    "\n",
    "println(\"Beginning iterations, initial model performance:\")\n",
    "\n",
    "fp, V, T, s = X_data[1]\n",
    "Mw = Mw_dict[s]\n",
    "y = Y_data[1]\n",
    "\n",
    "@show s, V, T, Mw\n",
    "\n",
    "Tp = Float64\n",
    "X_nom = Vector{Tp}(nominal_X[s])\n",
    "@show X_nom\n",
    "X_unbounded = Vector{Tp}(unbounded_model(fp))\n",
    "@show X_unbounded\n",
    "X_bounded = Vector{Tp}(bounded_model(fp))\n",
    "@show X_bounded\n",
    "ŷ = differentiable_saft(X_bounded, V, T, Mw)\n",
    "@show ŷ, y\n",
    "\n",
    "loss_vec = []\n",
    "mean_loss_vec = Float32[]\n",
    "# Training Loop\n",
    "#! I think I should be splitting my data into batches, evaluating that batch, then stepping my optimizer?\n",
    "#! Rather than evaluating each sample individually\n",
    "# Create mini-batches\n",
    "batched_data = [(X_data[i:min(i+batch_size-1, end), :], Y_data[i:min(i+batch_size-1, end)]) for i in 1:batch_size:size(X_data, 1)]\n",
    "@show size(batched_data)\n",
    "for epoch in 1:epochs\n",
    "    epoch_loss_vec = Float32[]\n",
    "    epoch_percent_loss_vec = Float32[]\n",
    "\n",
    "    # for (X, y) in zip(X_data, Y_data)\n",
    "    for (X_batch, y_batch) in batched_data\n",
    "        batch_loss = 0.0\n",
    "        loss_fn() = begin\n",
    "            for (X, y) in zip(X_batch, y_batch)\n",
    "                # Split X into fingerprint, V, T\n",
    "                fp, V, T, s = X\n",
    "                Mw = Mw_dict[s]\n",
    "\n",
    "                y = y[1]\n",
    "\n",
    "                # Compute the loss\n",
    "                # Forward pass through the neural network to get SAFT parameter predictions\n",
    "                X_pred = bounded_model(fp)\n",
    "                ŷ = differentiable_saft(X_pred, V, T, Mw)\n",
    "                batch_loss += ((ŷ - y) / y)^2\n",
    "                @assert batch_loss isa Real \"Loss is not a real number, got $(typeof(loss)), X_pred = $X_pred\"\n",
    "                @assert !isnan(batch_loss) \"Loss is NaN, X_pred = $X_pred\"\n",
    "            end\n",
    "            batch_loss /= size(X_batch, 1)\n",
    "        end\n",
    "        grads = Zygote.gradient(Flux.params(unbounded_model)) do\n",
    "            loss_fn()\n",
    "        end\n",
    "        # Update model parameters\n",
    "        Flux.update!(opt, Flux.params(unbounded_model), grads)\n",
    "\n",
    "        append!(epoch_loss_vec, batch_loss)\n",
    "        append!(epoch_percent_loss_vec, 100 * sqrt(batch_loss))\n",
    "    end\n",
    "    mean_loss = mean(epoch_loss_vec)\n",
    "    mean_percent_loss = mean(epoch_percent_loss_vec)\n",
    "    append!(loss_vec, epoch_loss_vec)\n",
    "    append!(mean_loss_vec, mean_loss)\n",
    "\n",
    "    if epoch in [1, 2, 3, 4, 5, 10] || epoch % 5 == 0 || epoch == epochs\n",
    "        println(\"Epoch: $epoch, Loss: (μ=$mean_loss, σ=$(std(epoch_loss_vec))), Percent Error: $mean_percent_loss\")\n",
    "    end\n",
    "end\n",
    "\n",
    "fp, V, T, s = X_data[1]\n",
    "Mw = Mw_dict[s]\n",
    "y = Y_data[1]\n",
    "\n",
    "@show s, V, T, Mw\n",
    "\n",
    "Tp = Float64\n",
    "X_nom = Vector{Tp}(nominal_X[s])\n",
    "@show X_nom\n",
    "X_unbounded = Vector{Tp}(unbounded_model(fp))\n",
    "@show X_unbounded\n",
    "X_bounded = Vector{Tp}(bounded_model(fp, X_nom))\n",
    "@show X_bounded\n",
    "ŷ = differentiable_saft(X_bounded, V, T, Mw)\n",
    "@show ŷ, y"
   ]
  },
  {
   "cell_type": "code",
   "execution_count": null,
   "metadata": {},
   "outputs": [],
   "source": [
    "# Define the unbounded neural network model\n",
    "input_dim = length(X_data[1][1])\n",
    "hidden_dim = 4096\n",
    "output_dim = 4\n",
    "num_layers = 4\n",
    "\n",
    "layers = vcat(\n",
    "    [Dense(input_dim, hidden_dim, relu),],\n",
    "    [Dense(hidden_dim, hidden_dim, relu) for _ in 1:num_layers],\n",
    "    [Dense(hidden_dim, output_dim)],\n",
    ")"
   ]
  },
  {
   "cell_type": "code",
   "execution_count": null,
   "metadata": {},
   "outputs": [],
   "source": [
    "n = 1\n",
    "fp, V, T, s = X_data[n]\n",
    "y = Y_data[n]\n",
    "Mw = Mw_dict[s]\n",
    "\n",
    "Tp = Float64\n",
    "\n",
    "X_nom = Vector{Tp}(nominal_X[s])\n",
    "X_unbounded = Vector{Tp}(unbounded_model(fp))\n",
    "X_bounded = Vector{Tp}(bounded_model(fp, X_nom))\n",
    "ŷ = differentiable_saft(X_bounded, V, T, Mw)\n",
    "\n",
    "@show s, V, T, Mw\n",
    "@show X_nom\n",
    "@show X_unbounded\n",
    "@show X_bounded\n",
    "@show ŷ, y\n",
    "\n",
    "nothing"
   ]
  },
  {
   "cell_type": "code",
   "execution_count": null,
   "metadata": {},
   "outputs": [],
   "source": [
    "plot1 = scatter(log10.(loss_vec), xlabel=\"update\", ylabel=\"log loss\", label=\"Training MSE\", lw=0, box=:on, ms=1.0, dpi=400)\n",
    "vline!([i for i in 1:length(loss_vec) if i % length(X_data) == 0], label=\"Epochs\", lw=2, ls=:dash)\n",
    "\n",
    "# Duplicate mean_loss_vec so that it has the same length as loss_vec\n",
    "# This is duplicated so the first value is repeated n times, then the second value is repeated n times, etc.\n",
    "\n",
    "mean_loss_vec_long = Float32[]\n",
    "for (i, loss) in enumerate(mean_loss_vec)\n",
    "    append!(mean_loss_vec_long, [loss for _ in 1:length(X_data)])\n",
    "end\n",
    "\n",
    "plot!(log10.(mean_loss_vec_long), label=\"Epoch average\", lw=3, color=:green)\n",
    "\n",
    "plot2 = plot(1:epochs, log10.(mean_loss_vec), xlabel=\"Epoch\", ylabel=\"log loss\", label=\"Training MSE\", lw=2, box=:on)\n",
    "\n",
    "# plot(plot1, plot2, layout = (1, 2), size = (800, 400), left_margin = 3Plots.mm, bottom_margin = 3Plots.mm)\n",
    "plot2"
   ]
  }
 ],
 "metadata": {
  "kernelspec": {
   "display_name": "Julia 1.9.3",
   "language": "julia",
   "name": "julia-1.9"
  },
  "language_info": {
   "file_extension": ".jl",
   "mimetype": "application/julia",
   "name": "julia",
   "version": "1.8.2"
  },
  "orig_nbformat": 4
 },
 "nbformat": 4,
 "nbformat_minor": 2
}
