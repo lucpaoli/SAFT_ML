{
 "cells": [
  {
   "cell_type": "code",
   "execution_count": 15,
   "metadata": {},
   "outputs": [
    {
     "name": "stderr",
     "output_type": "stream",
     "text": [
      "\u001b[32m\u001b[1m  Activating\u001b[22m\u001b[39m project at `~/SAFT_ML`\n"
     ]
    }
   ],
   "source": [
    "import Pkg; Pkg.activate(\"..\")"
   ]
  },
  {
   "cell_type": "code",
   "execution_count": 12,
   "metadata": {},
   "outputs": [],
   "source": [
    "using DecisionTree, Random"
   ]
  },
  {
   "cell_type": "code",
   "execution_count": 20,
   "metadata": {},
   "outputs": [],
   "source": [
    "n, m = 10^3, 5\n",
    "features = randn(n, m)\n",
    "weights = rand(-2:2, m)\n",
    "labels = features * weights;"
   ]
  },
  {
   "cell_type": "code",
   "execution_count": 21,
   "metadata": {},
   "outputs": [
    {
     "name": "stdout",
     "output_type": "stream",
     "text": [
      "\n",
      "Fold 1\n",
      "Mean Squared Error:     1.793713371542874\n",
      "Correlation Coeff:      0.9494168855475891\n",
      "Coeff of Determination: 0.8597767251168009\n",
      "\n",
      "Fold 2\n",
      "Mean Squared Error:     2.003279253915795\n",
      "Correlation Coeff:      0.9432014584170935\n",
      "Coeff of Determination: 0.841622445755834\n",
      "\n",
      "Fold 3\n",
      "Mean Squared Error:     1.7414691666471\n",
      "Correlation Coeff:      0.9470929125722805\n",
      "Coeff of Determination: 0.8424549300794996\n",
      "\n",
      "Mean Coeff of Determination: 0.8479513669840449\n",
      "\n",
      "Fold 1\n",
      "Mean Squared Error:     1.8130601914061704\n",
      "Correlation Coeff:      0.9424098383920548\n",
      "Coeff of Determination: 0.8487867494993079\n",
      "\n",
      "Fold 2\n",
      "Mean Squared Error:     1.4782438244085472\n",
      "Correlation Coeff:      0.9408253244158552\n",
      "Coeff of Determination: 0.8605903206305283\n",
      "\n",
      "Fold 3\n",
      "Mean Squared Error:     2.147560881820286\n",
      "Correlation Coeff:      0.9439788205190299\n",
      "Coeff of Determination: 0.8455733123783852\n",
      "\n",
      "Mean Coeff of Determination: 0.8516501275027405\n"
     ]
    },
    {
     "data": {
      "text/plain": [
       "3-element Vector{Float64}:\n",
       " 0.8487867494993079\n",
       " 0.8605903206305283\n",
       " 0.8455733123783852"
      ]
     },
     "execution_count": 21,
     "metadata": {},
     "output_type": "execute_result"
    }
   ],
   "source": [
    "# train regression forest, using 2 random features, 10 trees,\n",
    "# averaging of 5 samples per leaf, and 0.7 portion of samples per tree\n",
    "model = build_forest(labels, features, 2, 10, 0.7, 5)\n",
    "# apply learned model\n",
    "apply_forest(model, [-0.9,3.0,5.1,1.9,0.0])\n",
    "# run 3-fold cross validation on regression forest, using 2 random features per split\n",
    "n_subfeatures=2; n_folds=3\n",
    "r2 = nfoldCV_forest(labels, features, n_folds, n_subfeatures)\n",
    "\n",
    "# set of regression build_forest() parameters and respective default values\n",
    "# n_subfeatures: number of features to consider at random per split (default: -1, sqrt(# features))\n",
    "# n_trees: number of trees to train (default: 10)\n",
    "# partial_sampling: fraction of samples to train each tree on (default: 0.7)\n",
    "# max_depth: maximum depth of the decision trees (default: no maximum)\n",
    "# min_samples_leaf: the minimum number of samples each leaf needs to have (default: 5)\n",
    "# min_samples_split: the minimum number of samples in needed for a split (default: 2)\n",
    "# min_purity_increase: minimum purity needed for a split (default: 0.0)\n",
    "n_subfeatures=-1; n_trees=10; partial_sampling=0.7; max_depth=-1\n",
    "min_samples_leaf=5; min_samples_split=2; min_purity_increase=0.0\n",
    "\n",
    "model = build_forest(labels, features,\n",
    "                     n_subfeatures,\n",
    "                     n_trees,\n",
    "                     partial_sampling,\n",
    "                     max_depth,\n",
    "                     min_samples_leaf,\n",
    "                     min_samples_split,\n",
    "                     min_purity_increase)\n",
    "\n",
    "r2 =  nfoldCV_forest(labels, features,\n",
    "                     n_folds,\n",
    "                     n_subfeatures,\n",
    "                     n_trees,\n",
    "                     partial_sampling,\n",
    "                     max_depth,\n",
    "                     min_samples_leaf,\n",
    "                     min_samples_split,\n",
    "                     min_purity_increase)"
   ]
  },
  {
   "cell_type": "code",
   "execution_count": 24,
   "metadata": {},
   "outputs": [],
   "source": [
    "# Set seed for reproducibility\n",
    "seed = 42\n",
    "Random.seed!(seed)\n",
    "\n",
    "# Generate synthetic data with a quadratic relationship\n",
    "n = 1000\n",
    "x = randn(n)\n",
    "y_true = 2 .* x.^2 .- 3 .* x .+ 1 .+ 0.5 .* randn(n);  # Quadratic equation with noise\n"
   ]
  },
  {
   "cell_type": "code",
   "execution_count": 26,
   "metadata": {},
   "outputs": [
    {
     "data": {
      "text/plain": [
       "Ensemble of Decision Trees\n",
       "Trees:      10\n",
       "Avg Leaves: 108.9\n",
       "Avg Depth:  16.7"
      ]
     },
     "execution_count": 26,
     "metadata": {},
     "output_type": "execute_result"
    }
   ],
   "source": [
    "# Train a regression forest\n",
    "model = build_forest(y_true, hcat(x))\n"
   ]
  },
  {
   "cell_type": "code",
   "execution_count": 29,
   "metadata": {},
   "outputs": [
    {
     "ename": "LoadError",
     "evalue": "type Node has no field root",
     "output_type": "error",
     "traceback": [
      "type Node has no field root",
      "",
      "Stacktrace:",
      " [1] getproperty(x::Node{Float64, Float64}, f::Symbol)",
      "   @ Base ./Base.jl:37",
      " [2] top-level scope",
      "   @ In[29]:11"
     ]
    }
   ],
   "source": [
    "# Function to traverse the tree and get values from leaf nodes\n",
    "function get_leaf_values(node)\n",
    "    if isleaf(node)\n",
    "        return node.distribution.μ\n",
    "    else\n",
    "        return get_leaf_values(node.right), get_leaf_values(node.left)\n",
    "    end\n",
    "end\n",
    "\n",
    "# Extract values from leaf nodes of the first tree\n",
    "leaf_values = get_leaf_values(model.trees[1].root)\n",
    "println(\"Learned Coefficients from the first tree: $(leaf_values)\")"
   ]
  }
 ],
 "metadata": {
  "kernelspec": {
   "display_name": "Julia 1.9.3",
   "language": "julia",
   "name": "julia-1.9"
  },
  "language_info": {
   "file_extension": ".jl",
   "mimetype": "application/julia",
   "name": "julia",
   "version": "1.9.3"
  }
 },
 "nbformat": 4,
 "nbformat_minor": 2
}
