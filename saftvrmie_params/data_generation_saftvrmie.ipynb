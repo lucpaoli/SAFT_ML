{
 "cells": [
  {
   "cell_type": "code",
   "execution_count": 1,
   "metadata": {},
   "outputs": [
    {
     "name": "stderr",
     "output_type": "stream",
     "text": [
      "\u001b[32m\u001b[1m  Activating\u001b[22m\u001b[39m project at `~/SAFT_ML`\n"
     ]
    }
   ],
   "source": [
    "import Pkg; Pkg.activate(\"..\")"
   ]
  },
  {
   "cell_type": "code",
   "execution_count": 2,
   "metadata": {},
   "outputs": [],
   "source": [
    "using CSV, DataFrames, DelimitedFiles, Clapeyron, PyCall\n",
    "import PyPlot; const plt = PyPlot ;"
   ]
  },
  {
   "cell_type": "code",
   "execution_count": 3,
   "metadata": {},
   "outputs": [],
   "source": [
    "# Open and structure Clapetron SAFTVR-Mie data\n",
    "# Set missing values to -1 for easier processing (all valid values are positive)\n",
    "\n",
    "raw_data_saft_vr_mie = CSV.read(\"SAFTVRMie_like.csv\",DataFrame,header=3) \n",
    "\n",
    "raw_data_saft_vr_mie[:,:source] = replace(raw_data_saft_vr_mie[:,:source], missing => \"-\") ;\n",
    "raw_data_saft_vr_mie = filter(row -> row.species != \"n-eicosane\", raw_data_saft_vr_mie)\n",
    "raw_data_saft_vr_mie = filter(row -> row.species != \"n-dodecane\", raw_data_saft_vr_mie)\n",
    "raw_data_saft_vr_mie = filter(row -> row.species != \"ethanol\", raw_data_saft_vr_mie)\n",
    "\n",
    "raw_data_saft_vr_mie.n_H = Float64.(raw_data_saft_vr_mie.n_H)\n",
    "raw_data_saft_vr_mie.n_e = Float64.(raw_data_saft_vr_mie.n_e)\n",
    "raw_data_saft_vr_mie.source = String31.(raw_data_saft_vr_mie.source) \n",
    "raw_data_saft_vr_mie.species = String.(raw_data_saft_vr_mie.species) ;\n",
    "\n",
    "raw_data_saft_vr_mie ;"
   ]
  },
  {
   "cell_type": "code",
   "execution_count": 4,
   "metadata": {},
   "outputs": [],
   "source": [
    "num_rows = nrow(raw_data_saft_vr_mie)\n",
    "\n",
    "validation_data_saft_vr_mie = DataFrame(\n",
    "    species = fill(missing, num_rows),\n",
    "    Mw = fill(0.0, num_rows),\n",
    "    source = fill(missing, num_rows),\n",
    "    segment = fill(0.0, num_rows),\n",
    "    sigma = fill(0.0, num_rows),\n",
    "    epsilon = fill(0.0, num_rows),\n",
    "    lambda_r = fill(0.0, num_rows),\n",
    "    lambda_a = fill(0.0, num_rows),\n",
    "    n_H = fill(0.0, num_rows),\n",
    "    n_e = fill(0.0, num_rows),\n",
    "\n",
    "    crit_t_K_clapeyron = fill(0.0,num_rows),\n",
    "    crit_p_MPa_clapeyron = fill(0.0,num_rows),\n",
    "    crit_v_m3_per_mol_clapeyron = fill(0.0,num_rows),\n",
    "    sat_t_K_clapeyron = fill([0.0],num_rows),\n",
    "    sat_p_MPa_clapeyron = fill([0.0],num_rows),\n",
    "    sat_vliq_m3_per_mol_clapeyron = fill([0.0],num_rows),\n",
    "    sat_vvap_m3_per_mol_clapeyron = fill([0.0],num_rows),\n",
    "\n",
    "    crit_t_K_python = fill(0.0,num_rows),\n",
    "    crit_p_MPa_python = fill(0.0,num_rows),\n",
    "    crit_v_m3_per_mol_python = fill(0.0,num_rows),\n",
    "    sat_t_K_python = fill([0.0],num_rows),\n",
    "    sat_p_MPa_python = fill([0.0],num_rows),\n",
    "    sat_vliq_m3_per_mol_python = fill([0.0],num_rows),\n",
    "    sat_vvap_m3_per_mol_python = fill([0.0],num_rows),\n",
    "\n",
    "    sat_t_K_AAD = fill(0.0,num_rows),\n",
    "    sat_p_MPa_AAD = fill(0.0,num_rows),\n",
    "    sat_vliq_m3_per_mol_AAD = fill(0.0,num_rows),\n",
    "    sat_vvap_m3_per_mol_AAD = fill(0.0,num_rows),\n",
    ") ;"
   ]
  },
  {
   "cell_type": "code",
   "execution_count": 5,
   "metadata": {},
   "outputs": [],
   "source": [
    "validation_data_saft_vr_mie.species = raw_data_saft_vr_mie.species\n",
    "validation_data_saft_vr_mie.Mw = raw_data_saft_vr_mie.Mw\n",
    "validation_data_saft_vr_mie.source = raw_data_saft_vr_mie.source\n",
    "validation_data_saft_vr_mie.segment = raw_data_saft_vr_mie.segment\n",
    "validation_data_saft_vr_mie.sigma = raw_data_saft_vr_mie.sigma\n",
    "validation_data_saft_vr_mie.epsilon = raw_data_saft_vr_mie.epsilon\n",
    "validation_data_saft_vr_mie.lambda_r = raw_data_saft_vr_mie.lambda_r\n",
    "validation_data_saft_vr_mie.lambda_a = raw_data_saft_vr_mie.lambda_a\n",
    "validation_data_saft_vr_mie.n_H = raw_data_saft_vr_mie.n_H\n",
    "validation_data_saft_vr_mie.n_e = raw_data_saft_vr_mie.n_e\n",
    "\n",
    "species_names = validation_data_saft_vr_mie.species ;\n",
    "\n",
    "# validation_data_saft_vr_mie ;"
   ]
  },
  {
   "cell_type": "code",
   "execution_count": 11,
   "metadata": {},
   "outputs": [
    {
     "data": {
      "text/plain": [
       "(336.2999999999998, -6.618332568142466e7, 8.767649180068293e-5)"
      ]
     },
     "execution_count": 11,
     "metadata": {},
     "output_type": "execute_result"
    }
   ],
   "source": [
    "model = SAFTVRMie([\"ethanol\"]) ;\n",
    "critical_props = crit_pure(model)\n",
    "\n",
    "# # temp_range = collect(range(0.5*critical_props[1],critical_props[1],50)) ;\n",
    "# # for i = 1:50\n",
    "# #     print(i)\n",
    "# #     sat_props = [saturation_pressure(model,temp_range[i])] ;\n",
    "# # end"
   ]
  },
  {
   "cell_type": "code",
   "execution_count": 9,
   "metadata": {},
   "outputs": [
    {
     "name": "stdout",
     "output_type": "stream",
     "text": [
      "1 methane\n",
      "2 ethane\n",
      "3 n-propane\n",
      "4 n-butane\n",
      "5 n-pentane\n",
      "6 n-hexane\n",
      "7 n-heptane\n",
      "8 n-octane\n",
      "9 n-nonane\n",
      "10 n-decane\n",
      "11 n-pentadecane\n",
      "12 tetrafluoromethane\n",
      "13 hexafluoroethane\n",
      "14 octafluoropropane\n",
      "15 decafluorobutane\n",
      "16 n-perfluoropentane\n",
      "17 n-perfluorohexane\n",
      "18 fluorine\n",
      "19 carbon dioxide\n",
      "20 carbon dioxide_lafitte\n",
      "21 benzene\n",
      "22 toluene\n",
      "23 water\n",
      "24 methanol\n",
      "25 propan-1-ol\n",
      "26 butan-1-ol\n",
      "27 helium-4\n"
     ]
    }
   ],
   "source": [
    "# This cell generates data for all ~1800 species in Esper et al.\n",
    "num_rows = nrow(validation_data_saft_vr_mie)\n",
    "\n",
    "n = 500\n",
    "\n",
    "for i in species_names\n",
    "\n",
    "    row_number = findall(validation_data_saft_vr_mie.species .== i)[1]\n",
    "    println(row_number,\" \",i)\n",
    "\n",
    "    model = SAFTVRMie(i) ;\n",
    "    critical_props = crit_pure(model)\n",
    "\n",
    "    temp_range = collect(range(0.5*critical_props[1],critical_props[1],n)) ;\n",
    "    sat_props = [saturation_pressure(model,temp_range[i]) for i ∈ 1:n] ;\n",
    "\n",
    "    sat_pressures = [sat_props[i][1] for i ∈ 1:n] ;\n",
    "    sat_vols_liq = [sat_props[i][2] for i ∈ 1:n] ;\n",
    "    sat_vols_vap = [sat_props[i][3] for i ∈ 1:n] ;\n",
    "\n",
    "    for i in 1:length(critical_props)\n",
    "        validation_data_saft_vr_mie[row_number, 10 + i] = critical_props[i]\n",
    "    end\n",
    "\n",
    "    validation_data_saft_vr_mie[row_number,:sat_t_K_clapeyron] = temp_range\n",
    "    validation_data_saft_vr_mie[row_number,:sat_p_MPa_clapeyron] = sat_pressures\n",
    "    validation_data_saft_vr_mie[row_number,:sat_vliq_m3_per_mol_clapeyron] = sat_vols_liq\n",
    "    validation_data_saft_vr_mie[row_number,:sat_vvap_m3_per_mol_clapeyron] = sat_vols_vap\n",
    "\n",
    "end"
   ]
  },
  {
   "cell_type": "code",
   "execution_count": 10,
   "metadata": {},
   "outputs": [],
   "source": [
    "# Data storage\n",
    "CSV.write(\"saft_vr_mie_validation_data.csv\", validation_data_saft_vr_mie) ;"
   ]
  },
  {
   "cell_type": "code",
   "execution_count": null,
   "metadata": {},
   "outputs": [],
   "source": [
    "# Bugs\n",
    "# - Parameters for n-dodecane are incorrect in SAFT-VR-Mie \"like\" data file (https://spiral.imperial.ac.uk/bitstream/10044/1/12859/2/J%20Chem%20Phys%202013%20Lafitte-1%20copy.pdf)\n",
    "    #  - Means critical pressure returns as NaN\n",
    "# - Parameters missing for n-eicosane\n",
    "# - Something wrong with ethanol parameters\n",
    "    #  - Means critical pressure returns as negative"
   ]
  }
 ],
 "metadata": {
  "kernelspec": {
   "display_name": "Julia 1.9.3",
   "language": "julia",
   "name": "julia-1.9"
  },
  "language_info": {
   "file_extension": ".jl",
   "mimetype": "application/julia",
   "name": "julia",
   "version": "1.9.3"
  }
 },
 "nbformat": 4,
 "nbformat_minor": 2
}
