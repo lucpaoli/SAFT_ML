{
 "cells": [
  {
   "cell_type": "code",
   "execution_count": null,
   "metadata": {},
   "outputs": [],
   "source": [
    "import Pkg; Pkg.activate(\"..\")"
   ]
  },
  {
   "cell_type": "code",
   "execution_count": null,
   "metadata": {},
   "outputs": [],
   "source": [
    "using CSV, DataFrames, DelimitedFiles, Clapeyron, PyCall\n",
    "import PyPlot; const plt = PyPlot ;"
   ]
  },
  {
   "cell_type": "code",
   "execution_count": null,
   "metadata": {},
   "outputs": [],
   "source": [
    "training_data = CSV.read(\"saft_vr_mie_validation_data.csv\",DataFrame)\n",
    "num_rows = nrow(training_data)\n",
    "rename!(training_data,:sat_temperatures_K=>:sat_temp_strings, :sat_pressures_MPa=>:sat_pressure_strings,\n",
    "        :sat_volumes_liq_m3_per_mol=>:sat_vol_liq_strings,:sat_volumes_vap_m3_per_mol=>:sat_vol_vap_strings)\n",
    "\n",
    "# Define the column names\n",
    "array_cols_to_create = [:sat_temperatures_K, :sat_pressures_MPa, :sat_volumes_liq_m3_per_mol, :sat_volumes_vap_m3_per_mol]\n",
    "string_columns = [:sat_temp_strings, :sat_pressure_strings, :sat_vol_liq_strings, :sat_vol_vap_strings]\n",
    "\n",
    "# Initialize the columns with zeros\n",
    "for col in array_cols_to_create\n",
    "    training_data[!, col] .= fill([0.0], num_rows)\n",
    "end\n",
    "\n",
    "# Process and assign the values to the DataFrame\n",
    "for (col, str_col) in zip(array_cols_to_create, string_columns)\n",
    "    for i = 1:num_rows\n",
    "        string_sq_brackets_removed = replace(training_data[i, str_col], r\"[][]\" => \"\")\n",
    "        vector_of_floats = [parse(Float64, val) for val in split(string_sq_brackets_removed, \",\")]\n",
    "        training_data[i, col] = vector_of_floats\n",
    "    end\n",
    "end\n",
    "\n",
    "# Remove the string columns\n",
    "select!(training_data, Not(string_columns...)) ;\n",
    "\n",
    "# training_data"
   ]
  }
 ],
 "metadata": {
  "kernelspec": {
   "display_name": "Julia 1.9.3",
   "language": "julia",
   "name": "julia-1.9"
  },
  "language_info": {
   "name": "julia"
  }
 },
 "nbformat": 4,
 "nbformat_minor": 2
}
