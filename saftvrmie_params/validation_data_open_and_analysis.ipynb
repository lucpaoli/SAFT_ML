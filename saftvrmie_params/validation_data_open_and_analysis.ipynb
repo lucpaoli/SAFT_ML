{
 "cells": [
  {
   "cell_type": "code",
   "execution_count": 10,
   "metadata": {},
   "outputs": [
    {
     "name": "stderr",
     "output_type": "stream",
     "text": [
      "\u001b[32m\u001b[1m  Activating\u001b[22m\u001b[39m project at `~/SAFT_ML`\n"
     ]
    }
   ],
   "source": [
    "import Pkg; Pkg.activate(\"..\")"
   ]
  },
  {
   "cell_type": "code",
   "execution_count": 11,
   "metadata": {},
   "outputs": [],
   "source": [
    "using CSV, DataFrames, DelimitedFiles, Clapeyron, PyCall\n",
    "import PyPlot; const plt = PyPlot ;"
   ]
  },
  {
   "cell_type": "code",
   "execution_count": 16,
   "metadata": {},
   "outputs": [],
   "source": [
    "validation_data_saft_vr_mie = CSV.read(\"saft_vr_mie_validation_data.csv\",DataFrame)\n",
    "num_rows = nrow(validation_data_saft_vr_mie)\n",
    "\n",
    "rename!(validation_data_saft_vr_mie,:sat_t_K_clapeyron=>:sat_temp_strings, :sat_p_MPa_clapeyron=>:sat_pressure_strings,\n",
    "        :sat_vliq_m3_per_mol_clapeyron=>:sat_vol_liq_strings,:sat_vvap_m3_per_mol_clapeyron=>:sat_vol_vap_strings)\n",
    "\n",
    "# Define the column names\n",
    "array_cols_to_create = [:sat_t_K_clapeyron, :sat_p_MPa_clapeyron, :sat_vliq_m3_per_mol_clapeyron, :sat_vvap_m3_per_mol_clapeyron]\n",
    "string_columns = [:sat_temp_strings, :sat_pressure_strings, :sat_vol_liq_strings, :sat_vol_vap_strings]\n",
    "\n",
    "# Initialize the columns with zeros\n",
    "for col in array_cols_to_create\n",
    "    validation_data_saft_vr_mie[!, col] .= fill([0.0], num_rows)\n",
    "end\n",
    "\n",
    "# Process and assign the values to the DataFrame\n",
    "for (col, str_col) in zip(array_cols_to_create, string_columns)\n",
    "    for i = 1:num_rows\n",
    "        string_sq_brackets_removed = replace(validation_data_saft_vr_mie[i, str_col], r\"[][]\" => \"\")\n",
    "        vector_of_floats = [parse(Float64, val) for val in split(string_sq_brackets_removed, \",\")]\n",
    "        validation_data_saft_vr_mie[i, col] = vector_of_floats\n",
    "    end\n",
    "end\n",
    "\n",
    "# Remove the string columns\n",
    "select!(validation_data_saft_vr_mie, Not(string_columns...)) ;\n",
    "\n",
    "# training_data"
   ]
  }
 ],
 "metadata": {
  "kernelspec": {
   "display_name": "Julia 1.9.3",
   "language": "julia",
   "name": "julia-1.9"
  },
  "language_info": {
   "file_extension": ".jl",
   "mimetype": "application/julia",
   "name": "julia",
   "version": "1.9.3"
  }
 },
 "nbformat": 4,
 "nbformat_minor": 2
}
