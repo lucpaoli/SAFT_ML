{
 "cells": [
  {
   "cell_type": "code",
   "execution_count": 30,
   "metadata": {},
   "outputs": [
    {
     "name": "stderr",
     "output_type": "stream",
     "text": [
      "\u001b[32m\u001b[1m  Activating\u001b[22m\u001b[39m project at `~/SAFT_ML`\n"
     ]
    }
   ],
   "source": [
    "import Pkg; Pkg.activate(\".\")\n",
    "using Clapeyron\n",
    "includet(\"./saftvrmienn.jl\")\n",
    "# These are functions we're going to overload for SAFTVRMieNN\n",
    "import Clapeyron: a_res, saturation_pressure, pressure\n",
    "\n",
    "using Flux\n",
    "using Plots, Statistics\n",
    "using ForwardDiff, DiffResults\n",
    "\n",
    "using Zygote, ChainRulesCore\n",
    "using ImplicitDifferentiation\n",
    "\n",
    "using CSV, DataFrames\n",
    "using MLUtils\n",
    "using RDKitMinimalLib\n",
    "using JLD2\n",
    "\n",
    "# Multithreaded loss\n",
    "using Zygote: bufferfrom\n",
    "using Base.Threads: @spawn\n",
    "using Plots"
   ]
  },
  {
   "cell_type": "code",
   "execution_count": 2,
   "metadata": {},
   "outputs": [
    {
     "data": {
      "text/plain": [
       "([-0.0, 2.260005096581295e-5, 2.1863843008154135e-5, 1.46022174535494e-6, 1.6493904176981177e-7, -6.011351535625539e-8],)"
      ]
     },
     "metadata": {},
     "output_type": "display_data"
    }
   ],
   "source": [
    "X = [16.04, 1.0, 3.737, 6.0, 12.504, 152.58]\n",
    "V = volume_NN(X, 1e7, 100.0)\n",
    "∂V∂X = Zygote.gradient(X -> volume_NN(X, 1e7, 100.0), X)"
   ]
  },
  {
   "cell_type": "code",
   "execution_count": 3,
   "metadata": {},
   "outputs": [
    {
     "data": {
      "text/plain": [
       "1×6 transpose(::Vector{Float64}) with eltype Float64:\n",
       " -0.0  -0.0  -0.0  -0.0  -0.0  -5.78614e-8"
      ]
     },
     "metadata": {},
     "output_type": "display_data"
    }
   ],
   "source": [
    "X = [16.04, 1.0, 3.737, 6.0, 12.504, 152.58]\n",
    "f_V(X) = volume_NN(X, 1e7, 100.0)[1]\n",
    "dX = [0.0, 0.0, 0.0, 0.0, 0.0, 1e-6]\n",
    "f_∂V∂X(X) = (f_V(X .+ dX) - f_V(X .- dX))/(2dX)\n",
    "f_∂V∂X(X)"
   ]
  },
  {
   "cell_type": "code",
   "execution_count": 19,
   "metadata": {},
   "outputs": [
    {
     "data": {
      "text/plain": [
       "main (generic function with 1 method)"
      ]
     },
     "metadata": {},
     "output_type": "display_data"
    }
   ],
   "source": [
    "# Generate training set for liquid density and saturation pressure\n",
    "function create_data(; batch_size=16, n_points=25)\n",
    "    # Create training & validation data\n",
    "    df = CSV.read(\"./pcpsaft_params/SI_pcp-saft_parameters.csv\", DataFrame, header=1)\n",
    "    filter!(row -> occursin(\"Alkane\", row.family), df)\n",
    "    df = first(df, 1) #* Take only first molecule in dataframe\n",
    "    @show df.common_name\n",
    "    mol_data = zip(df.common_name, df.isomeric_smiles, df.molarweight)\n",
    "    println(\"Generating data for $(length(mol_data)) molecules...\")\n",
    "\n",
    "    function make_fingerprint(s::String)::Vector{Float64}\n",
    "        mol = get_mol(s)\n",
    "        @assert !isnothing(mol)\n",
    "\n",
    "        fp = []\n",
    "        # for (nbits, rad) in [(256, 256), (1, 3)]\n",
    "        #* Approximately ECFP4 fingerprint\n",
    "        nbits = 256\n",
    "        rad = 4\n",
    "\n",
    "        fp_details = Dict{String,Any}(\"nBits\" => nbits, \"radius\" => rad)\n",
    "        fp_str = get_morgan_fp(mol, fp_details)\n",
    "        append!(fp, [parse(Float64, string(c)) for c in fp_str])\n",
    "        # end\n",
    "\n",
    "        desc = get_descriptors(mol)\n",
    "        relevant_keys = [\n",
    "            \"CrippenClogP\",\n",
    "            \"NumHeavyAtoms\",\n",
    "            \"amw\",\n",
    "            \"FractionCSP3\",\n",
    "        ]\n",
    "        relevant_desc = [desc[k] for k in relevant_keys]\n",
    "        append!(fp, last.(relevant_desc))\n",
    "\n",
    "        return fp\n",
    "    end\n",
    "\n",
    "    T = Float64\n",
    "    # X_data = Vector{Tuple{Vector{T},T,T,T}}([])\n",
    "    X_data = Vector{Tuple{Vector{T},T,T,T}}([])\n",
    "    Y_data = Vector{Vector{T}}()\n",
    "\n",
    "    # n = 0\n",
    "    for (name, smiles, Mw) in mol_data\n",
    "        # if n < 20\n",
    "        try\n",
    "            # saft_model = PPCSAFT([name])\n",
    "            saft_model = SAFTVRMie([name])\n",
    "            Tc, pc, Vc = crit_pure(saft_model)\n",
    "\n",
    "            # fp = make_fingerprint(smiles)\n",
    "            fp = [1.0]\n",
    "            # append!(fp, Mw)\n",
    "\n",
    "            T_range = range(0.5 * Tc, 0.975 * Tc, n_points)\n",
    "            for T in T_range\n",
    "                (p_sat, Vₗ_sat, Vᵥ_sat) = saturation_pressure(saft_model, T)\n",
    "\n",
    "                p = p_sat * 5.0\n",
    "\n",
    "                Vₗ = volume(saft_model, p, T; phase=:liquid)\n",
    "                push!(X_data, (fp, p, T, Mw))\n",
    "                push!(Y_data, [Vₗ, p_sat])\n",
    "            end\n",
    "            # n += 1\n",
    "        catch e\n",
    "            println(\"Fingerprint generation failed for $name, $e\")\n",
    "        end\n",
    "        # else\n",
    "        # break\n",
    "        # end\n",
    "    end\n",
    "\n",
    "    #* Remove columns from fingerprints\n",
    "    # Identify zero & one columns\n",
    "    # num_cols = length(X_data[1][1])\n",
    "    # zero_cols = trues(num_cols)\n",
    "    # for (vec, _, _) in X_data\n",
    "    #     zero_cols .&= (vec .== 0)\n",
    "    # end\n",
    "    # keep_cols = .!zero_cols # Create a Mask\n",
    "    # X_data = [(vec[keep_cols], vals...) for (vec, vals...) in X_data] # Apply Mask\n",
    "\n",
    "    # num_cols = length(X_data[1][1])\n",
    "    # one_cols = trues(num_cols)\n",
    "    # for (vec, _, _) in X_data\n",
    "    #     one_cols .&= (vec .== 1)\n",
    "    # end\n",
    "    # keep_cols = .!one_cols # Create a Mask\n",
    "    # X_data = [(vec[keep_cols], vals...) for (vec, vals...) in X_data] # Apply Mask\n",
    "\n",
    "    train_data, test_data = splitobs((X_data, Y_data), at=1.0, shuffle=false)\n",
    "\n",
    "    train_loader = DataLoader(train_data, batchsize=batch_size, shuffle=false)\n",
    "    test_loader = DataLoader(test_data, batchsize=batch_size, shuffle=false)\n",
    "    println(\"n_batches = $(length(train_loader)), batch_size = $batch_size\")\n",
    "    flush(stdout)\n",
    "    return train_loader, test_loader\n",
    "end\n",
    "\n",
    "\n",
    "function create_ff_model(nfeatures)\n",
    "    # Base NN architecture from \"Fitting Error vs Parameter Performance\"\n",
    "    nout = 4\n",
    "    model = Chain(\n",
    "        Dense(nfeatures, nout, x -> x; bias=false, init=zeros32),\n",
    "    )\n",
    "    # model = Chain(\n",
    "    #     Dense(nfeatures, nout * 8, relu),\n",
    "    #     Dense(nout * 8, nout * 4, relu),\n",
    "    #     Dense(nout * 4, nout * 2, relu),\n",
    "    #     Dense(nout * 2, nout, relu),\n",
    "    #     # Dense(16, nout, relu),\n",
    "    #     # Dense(16, nout, x -> x),\n",
    "    #     # Dense(1024, 512, relu),\n",
    "    #     # Dense(512, 256, relu),\n",
    "    #     # Dense(32, 32, relu),\n",
    "    #     # Dense(32, 32, relu),\n",
    "    #     # Dense(32, nout, relu),\n",
    "    # )\n",
    "    # model(x) = m, σ, λ_a, λ_r, ϵ\n",
    "\n",
    "    # return nn_model, unbounded_model\n",
    "    return model\n",
    "end\n",
    "\n",
    "function get_idx_from_iterator(iterator, idx)\n",
    "    data_iterator = iterate(iterator)\n",
    "    for _ in 1:idx-1\n",
    "        data_iterator = iterate(iterator, data_iterator[2])\n",
    "    end\n",
    "    return data_iterator[1]\n",
    "end\n",
    "\n",
    "\n",
    "# function SAFT_head(model, X; b=[3.0, 3.5, 7.0, 12.5, 250.0], c=10.0)\n",
    "# function SAFT_head(model, X; b=[2.0, 4.0], c=[1.0, 1.0])\n",
    "function SAFT_head(model, X; b=[2.5, 3.5, 12.0, 250.0], c=Float64[1, 1, 10, 100])\n",
    "    fp, p, T, Mw = X\n",
    "\n",
    "    # m = 1.8514\n",
    "    # σ = 4.0887\n",
    "    λ_a = 6.0\n",
    "    # λ_r = 13.65\n",
    "    # ϵ = 273.64\n",
    "    # fp, p, T, Mw = X\n",
    "    pred_params = model(fp)\n",
    "\n",
    "    # Add bias and scale\n",
    "    biased_params = @. pred_params * c + b\n",
    "\n",
    "    saft_input = vcat(Mw, biased_params[1:2], [λ_a], biased_params[3:4])\n",
    "\n",
    "    # saft_input = vcat(Mw, biased_params[1:2], [λ_a, λ_r], ϵ)\n",
    "    Vₗ = volume_NN(saft_input, p, T)\n",
    "\n",
    "    ŷ_1 = !isnan(Vₗ) ? Vₗ : 1e3\n",
    "\n",
    "    Tc = ignore_derivatives() do\n",
    "        critical_temperature_NN(saft_input)\n",
    "    end\n",
    "    # todo include saturation volumes in loss\n",
    "    if T < Tc\n",
    "        sat_p = saturation_pressure_NN(saft_input, T)\n",
    "        if !isnan(sat_p)\n",
    "            ŷ_2 = sat_p\n",
    "        else\n",
    "            # println(\"sat_p is NaN at T = $T, saft_input = $saft_input\")\n",
    "            ŷ_2 = nothing\n",
    "        end\n",
    "    else\n",
    "        ŷ_2 = nothing\n",
    "    end\n",
    "\n",
    "    return [ŷ_1, ŷ_2]\n",
    "end\n",
    "\n",
    "function eval_loss(X_batch, y_batch, metric, model)\n",
    "    batch_loss = 0.0\n",
    "    n = 0\n",
    "    for (X, y_vec) in zip(X_batch, y_batch)\n",
    "        # y = y_vec[1]\n",
    "        ŷ_vec = SAFT_head(model, X)\n",
    "\n",
    "        for (ŷ, y) in zip(ŷ_vec, y_vec)\n",
    "            if !isnothing(ŷ)\n",
    "                batch_loss += metric(y, ŷ)\n",
    "                n += 1\n",
    "            end\n",
    "        end\n",
    "\n",
    "    end\n",
    "    if n > 0\n",
    "        batch_loss /= n\n",
    "    end\n",
    "    # penalize batch_loss depending on how many failed\n",
    "    # batch_loss += length(y_batch) - n\n",
    "\n",
    "    return batch_loss\n",
    "end\n",
    "\n",
    "function eval_loss_par(X_batch, y_batch, metric, model, n_chunks)\n",
    "    n = length(X_batch)\n",
    "    chunk_size = n ÷ n_chunks\n",
    "\n",
    "    p = bufferfrom(zeros(n_chunks))\n",
    "\n",
    "    # Creating views for each chunk\n",
    "    X_chunks = vcat([view(X_batch, (i-1)*chunk_size+1:i*chunk_size) for i in 1:n_chunks-1], [view(X_batch, (n_chunks-1)*chunk_size+1:n)])\n",
    "    y_chunks = vcat([view(y_batch, (i-1)*chunk_size+1:i*chunk_size) for i in 1:n_chunks-1], [view(y_batch, (n_chunks-1)*chunk_size+1:n)])\n",
    "\n",
    "    @sync begin\n",
    "        for i = 1:n_chunks\n",
    "            @spawn begin\n",
    "                p[i] = eval_loss(X_chunks[i], y_chunks[i], metric, model)\n",
    "            end\n",
    "        end\n",
    "    end\n",
    "    return sum(p) / n_chunks # average partial losses\n",
    "end\n",
    "\n",
    "function percent_error(y, ŷ)\n",
    "    return 100 * abs(y - ŷ) / y\n",
    "end\n",
    "\n",
    "function mse(y, ŷ)\n",
    "    return ((y - ŷ) / y)^2\n",
    "end\n",
    "\n",
    "function finite_diff_grads(model, x, y; ϵ=1e-8)\n",
    "    grads = []\n",
    "    for p in Flux.params(model)\n",
    "        push!(grads, zeros(size(p)))\n",
    "    end\n",
    "\n",
    "    for (i, p) in enumerate(Flux.params(model))\n",
    "        for j in eachindex(p)\n",
    "            tmp = p[j]\n",
    "            p[j] = tmp + ϵ\n",
    "            J1 = eval_loss(x, y, mse, model)\n",
    "            p[j] = tmp - ϵ\n",
    "            J2 = eval_loss(x, y, mse, model)\n",
    "            p[j] = tmp\n",
    "            grads[i][j] = (J1 - J2) / (2 * ϵ)\n",
    "        end\n",
    "    end\n",
    "    return grads\n",
    "end\n",
    "\n",
    "function train_model!(model, train_loader, test_loader; epochs=10)\n",
    "    optim = Flux.setup(Flux.Adam(0.001), model) # 1e-3 usually safe starting LR\n",
    "    # optim = Flux.setup(Descent(0.001), model)\n",
    "\n",
    "    println(\"training on $(Threads.nthreads()) threads\")\n",
    "    flush(stdout)\n",
    "    \n",
    "    for epoch in 1:epochs\n",
    "        batch_loss = 0.0\n",
    "        for (X_batch, y_batch) in train_loader\n",
    "\n",
    "            loss, grads = Flux.withgradient(model) do m\n",
    "                # loss = eval_loss_par(X_batch, y_batch, percent_error, m, Threads.nthreads())\n",
    "                loss = eval_loss(X_batch, y_batch, mse, m)\n",
    "                loss\n",
    "            end\n",
    "            batch_loss += loss\n",
    "            @assert !isnan(loss)\n",
    "\n",
    "            # grads_fd = finite_diff_grads(model, X_batch, y_batch)\n",
    "            # @show grads[1]\n",
    "            # @show grads_fd      # Show FD gradients\n",
    "\n",
    "            Flux.update!(optim, model, grads[1])\n",
    "        end\n",
    "        batch_loss /= length(train_loader)\n",
    "        epoch % 25 == 0 && println(\"epoch $epoch: batch_loss = $batch_loss\")\n",
    "        flush(stdout)\n",
    "    end\n",
    "end\n",
    "\n",
    "function main(; epochs=15)\n",
    "    train_loader, test_loader = create_data(n_points=21, batch_size=7) # Should make 5 batches / epoch. 256 / 8 gives 32 evaluations per thread\n",
    "    @show n_features = length(first(train_loader)[1][1][1])\n",
    "\n",
    "    model = create_ff_model(n_features)\n",
    "    @show model.layers[1].weight, model([1.0])\n",
    "    train_model!(model, train_loader, test_loader; epochs=epochs)\n",
    "    return model\n",
    "end"
   ]
  },
  {
   "cell_type": "code",
   "execution_count": 46,
   "metadata": {},
   "outputs": [
    {
     "name": "stdout",
     "output_type": "stream",
     "text": [
      "df.common_name = [\"n-butane\"]\n",
      "Generating data for 1 molecules...\n",
      "n_batches = 3, batch_size = 7\n"
     ]
    },
    {
     "name": "stdout",
     "output_type": "stream",
     "text": [
      "n_features = length((((first(train_loader))[1])[1])[1]) = 1\n",
      "((model.layers[1]).weight, model([1.0])) = (Float32[0.0; 0.0; 0.0; 0.0;;], Float32[0.0, 0.0, 0.0, 0.0])\n",
      "training on 1 threads\n"
     ]
    },
    {
     "name": "stdout",
     "output_type": "stream",
     "text": [
      "epoch 25: batch_loss = 0.06333866275696769\n"
     ]
    },
    {
     "name": "stdout",
     "output_type": "stream",
     "text": [
      "epoch 50: batch_loss = 0.02630785749757164\n"
     ]
    },
    {
     "name": "stdout",
     "output_type": "stream",
     "text": [
      "epoch 75: batch_loss = 0.016567566385412753\n"
     ]
    },
    {
     "name": "stdout",
     "output_type": "stream",
     "text": [
      "epoch 100: batch_loss = 0.010465463842295568\n"
     ]
    },
    {
     "name": "stdout",
     "output_type": "stream",
     "text": [
      "epoch 125: batch_loss = 0.00683012599787994\n"
     ]
    },
    {
     "name": "stdout",
     "output_type": "stream",
     "text": [
      "epoch 150: batch_loss = 0.0048472266955072\n"
     ]
    },
    {
     "name": "stdout",
     "output_type": "stream",
     "text": [
      "epoch 175: batch_loss = 0.00389174959400467\n"
     ]
    },
    {
     "name": "stdout",
     "output_type": "stream",
     "text": [
      "epoch 200: batch_loss = 0.003512048926830051\n"
     ]
    },
    {
     "name": "stdout",
     "output_type": "stream",
     "text": [
      "epoch 225: batch_loss = 0.003413012618260705\n"
     ]
    },
    {
     "name": "stdout",
     "output_type": "stream",
     "text": [
      "epoch 250: batch_loss = 0.003422813521111424\n"
     ]
    },
    {
     "name": "stdout",
     "output_type": "stream",
     "text": [
      "epoch 275: batch_loss = 0.0034534771612829284\n"
     ]
    },
    {
     "name": "stdout",
     "output_type": "stream",
     "text": [
      "epoch 300: batch_loss = 0.00346692375334042\n"
     ]
    },
    {
     "name": "stdout",
     "output_type": "stream",
     "text": [
      "epoch 325: batch_loss = 0.0034513570882697664\n"
     ]
    },
    {
     "name": "stdout",
     "output_type": "stream",
     "text": [
      "epoch 350: batch_loss = 0.003407053043918066\n"
     ]
    },
    {
     "name": "stdout",
     "output_type": "stream",
     "text": [
      "epoch 375: batch_loss = 0.0033388702102891796\n"
     ]
    },
    {
     "name": "stdout",
     "output_type": "stream",
     "text": [
      "epoch 400: batch_loss = 0.0032526170096456655\n"
     ]
    },
    {
     "name": "stdout",
     "output_type": "stream",
     "text": [
      "epoch 425: batch_loss = 0.0031536175999803983\n"
     ]
    },
    {
     "name": "stdout",
     "output_type": "stream",
     "text": [
      "epoch 450: batch_loss = 0.0030461865493433874\n"
     ]
    },
    {
     "name": "stdout",
     "output_type": "stream",
     "text": [
      "epoch 475: batch_loss = 0.002933657195602863\n"
     ]
    },
    {
     "name": "stdout",
     "output_type": "stream",
     "text": [
      "epoch 500: batch_loss = 0.002818481728237439\n"
     ]
    },
    {
     "name": "stdout",
     "output_type": "stream",
     "text": [
      "epoch 525: batch_loss = 0.0027024647438456135\n"
     ]
    },
    {
     "name": "stdout",
     "output_type": "stream",
     "text": [
      "epoch 550: batch_loss = 0.002586879062283383\n"
     ]
    },
    {
     "name": "stdout",
     "output_type": "stream",
     "text": [
      "epoch 575: batch_loss = 0.0024726230114161733\n"
     ]
    },
    {
     "name": "stdout",
     "output_type": "stream",
     "text": [
      "epoch 600: batch_loss = 0.002360331021966561\n"
     ]
    },
    {
     "name": "stdout",
     "output_type": "stream",
     "text": [
      "epoch 625: batch_loss = 0.002250445200162085\n"
     ]
    },
    {
     "name": "stdout",
     "output_type": "stream",
     "text": [
      "epoch 650: batch_loss = 0.002143263378621259\n"
     ]
    },
    {
     "name": "stdout",
     "output_type": "stream",
     "text": [
      "epoch 675: batch_loss = 0.002038985638035861\n"
     ]
    },
    {
     "name": "stdout",
     "output_type": "stream",
     "text": [
      "epoch 700: batch_loss = 0.0019377553159395733\n"
     ]
    },
    {
     "name": "stdout",
     "output_type": "stream",
     "text": [
      "epoch 725: batch_loss = 0.00183965030373377\n"
     ]
    },
    {
     "name": "stdout",
     "output_type": "stream",
     "text": [
      "epoch 750: batch_loss = 0.0017447301753315166\n"
     ]
    },
    {
     "name": "stdout",
     "output_type": "stream",
     "text": [
      "epoch 775: batch_loss = 0.0016530151273919848\n"
     ]
    },
    {
     "name": "stdout",
     "output_type": "stream",
     "text": [
      "epoch 800: batch_loss = 0.0015645144603339551\n"
     ]
    },
    {
     "name": "stdout",
     "output_type": "stream",
     "text": [
      "epoch 825: batch_loss = 0.001479221613838155\n"
     ]
    },
    {
     "name": "stdout",
     "output_type": "stream",
     "text": [
      "epoch 850: batch_loss = 0.0013971189436543907\n"
     ]
    },
    {
     "name": "stdout",
     "output_type": "stream",
     "text": [
      "epoch 875: batch_loss = 0.001318182166863544\n"
     ]
    },
    {
     "name": "stdout",
     "output_type": "stream",
     "text": [
      "epoch 900: batch_loss = 0.0012423771730913772\n"
     ]
    },
    {
     "name": "stdout",
     "output_type": "stream",
     "text": [
      "epoch 925: batch_loss = 0.0011696611125040504\n"
     ]
    },
    {
     "name": "stdout",
     "output_type": "stream",
     "text": [
      "epoch 950: batch_loss = 0.001099996765626398\n"
     ]
    },
    {
     "name": "stdout",
     "output_type": "stream",
     "text": [
      "epoch 975: batch_loss = 0.001033335273051453\n"
     ]
    },
    {
     "name": "stdout",
     "output_type": "stream",
     "text": [
      "epoch 1000: batch_loss = 0.0009696234147969765\n"
     ]
    },
    {
     "name": "stdout",
     "output_type": "stream",
     "text": [
      "epoch 1025: batch_loss = 0.0009088097861970195\n"
     ]
    },
    {
     "name": "stdout",
     "output_type": "stream",
     "text": [
      "epoch 1050: batch_loss = 0.000850835663876635\n"
     ]
    },
    {
     "name": "stdout",
     "output_type": "stream",
     "text": [
      "epoch 1075: batch_loss = 0.0007956418831857314\n"
     ]
    },
    {
     "name": "stdout",
     "output_type": "stream",
     "text": [
      "epoch 1100: batch_loss = 0.0007431672419597055\n"
     ]
    },
    {
     "name": "stdout",
     "output_type": "stream",
     "text": [
      "epoch 1125: batch_loss = 0.0006933467813064889\n"
     ]
    },
    {
     "name": "stdout",
     "output_type": "stream",
     "text": [
      "epoch 1150: batch_loss = 0.0006461165367770932\n"
     ]
    },
    {
     "name": "stdout",
     "output_type": "stream",
     "text": [
      "epoch 1175: batch_loss = 0.0006014057424873266\n"
     ]
    },
    {
     "name": "stdout",
     "output_type": "stream",
     "text": [
      "epoch 1200: batch_loss = 0.0005591501977836153\n"
     ]
    },
    {
     "name": "stdout",
     "output_type": "stream",
     "text": [
      "epoch 1225: batch_loss = 0.0005192731248496138\n"
     ]
    },
    {
     "name": "stdout",
     "output_type": "stream",
     "text": [
      "epoch 1250: batch_loss = 0.0004817058410290476\n"
     ]
    },
    {
     "name": "stdout",
     "output_type": "stream",
     "text": [
      "epoch 1275: batch_loss = 0.00044637136694309926\n"
     ]
    },
    {
     "name": "stdout",
     "output_type": "stream",
     "text": [
      "epoch 1300: batch_loss = 0.0004132005451650252\n"
     ]
    },
    {
     "name": "stdout",
     "output_type": "stream",
     "text": [
      "epoch 1325: batch_loss = 0.00038211426130712505\n"
     ]
    },
    {
     "name": "stdout",
     "output_type": "stream",
     "text": [
      "epoch 1350: batch_loss = 0.00035304065125421467\n"
     ]
    },
    {
     "name": "stdout",
     "output_type": "stream",
     "text": [
      "epoch 1375: batch_loss = 0.00032589969327904283\n"
     ]
    },
    {
     "name": "stdout",
     "output_type": "stream",
     "text": [
      "epoch 1400: batch_loss = 0.0003006184170424706\n"
     ]
    },
    {
     "name": "stdout",
     "output_type": "stream",
     "text": [
      "epoch 1425: batch_loss = 0.00027711414195383347\n"
     ]
    },
    {
     "name": "stdout",
     "output_type": "stream",
     "text": [
      "epoch 1450: batch_loss = 0.00025531542199857827\n"
     ]
    },
    {
     "name": "stdout",
     "output_type": "stream",
     "text": [
      "epoch 1475: batch_loss = 0.00023514029924264399\n"
     ]
    },
    {
     "name": "stdout",
     "output_type": "stream",
     "text": [
      "epoch 1500: batch_loss = 0.00021651063616202556\n"
     ]
    },
    {
     "name": "stdout",
     "output_type": "stream",
     "text": [
      "epoch 1525: batch_loss = 0.00019935389303790728\n"
     ]
    },
    {
     "name": "stdout",
     "output_type": "stream",
     "text": [
      "epoch 1550: batch_loss = 0.00018359210961603508\n"
     ]
    },
    {
     "name": "stdout",
     "output_type": "stream",
     "text": [
      "epoch 1575: batch_loss = 0.00016914837695886946\n"
     ]
    },
    {
     "name": "stdout",
     "output_type": "stream",
     "text": [
      "epoch 1600: batch_loss = 0.0001559463792739864\n"
     ]
    },
    {
     "name": "stdout",
     "output_type": "stream",
     "text": [
      "epoch 1625: batch_loss = 0.00014391345551510238\n"
     ]
    },
    {
     "name": "stdout",
     "output_type": "stream",
     "text": [
      "epoch 1650: batch_loss = 0.00013297820757497092\n"
     ]
    },
    {
     "name": "stdout",
     "output_type": "stream",
     "text": [
      "epoch 1675: batch_loss = 0.00012306602749308576\n"
     ]
    },
    {
     "name": "stdout",
     "output_type": "stream",
     "text": [
      "epoch 1700: batch_loss = 0.00011410837689911377\n"
     ]
    },
    {
     "name": "stdout",
     "output_type": "stream",
     "text": [
      "epoch 1725: batch_loss = 0.0001060367575118987\n"
     ]
    },
    {
     "name": "stdout",
     "output_type": "stream",
     "text": [
      "epoch 1750: batch_loss = 9.878635002433664e-5\n"
     ]
    },
    {
     "name": "stdout",
     "output_type": "stream",
     "text": [
      "epoch 1775: batch_loss = 9.229135915454908e-5\n"
     ]
    },
    {
     "name": "stdout",
     "output_type": "stream",
     "text": [
      "epoch 1800: batch_loss = 8.649223784004559e-5\n"
     ]
    },
    {
     "name": "stdout",
     "output_type": "stream",
     "text": [
      "epoch 1825: batch_loss = 8.132798440560387e-5\n"
     ]
    },
    {
     "name": "stdout",
     "output_type": "stream",
     "text": [
      "epoch 1850: batch_loss = 7.674369223598387e-5\n"
     ]
    },
    {
     "name": "stdout",
     "output_type": "stream",
     "text": [
      "epoch 1875: batch_loss = 7.268578861888086e-5\n"
     ]
    },
    {
     "name": "stdout",
     "output_type": "stream",
     "text": [
      "epoch 1900: batch_loss = 6.910373220965762e-5\n"
     ]
    },
    {
     "name": "stdout",
     "output_type": "stream",
     "text": [
      "epoch 1925: batch_loss = 6.595068312791376e-5\n"
     ]
    },
    {
     "name": "stdout",
     "output_type": "stream",
     "text": [
      "epoch 1950: batch_loss = 6.318169683204724e-5\n"
     ]
    },
    {
     "name": "stdout",
     "output_type": "stream",
     "text": [
      "epoch 1975: batch_loss = 6.07566246777382e-5\n"
     ]
    },
    {
     "name": "stdout",
     "output_type": "stream",
     "text": [
      "epoch 2000: batch_loss = 5.8636205445600696e-5\n"
     ]
    },
    {
     "name": "stdout",
     "output_type": "stream",
     "text": [
      "epoch 2025: batch_loss = 5.678613187270272e-5\n"
     ]
    },
    {
     "name": "stdout",
     "output_type": "stream",
     "text": [
      "epoch 2050: batch_loss = 5.517519546935327e-5\n"
     ]
    },
    {
     "name": "stdout",
     "output_type": "stream",
     "text": [
      "epoch 2075: batch_loss = 5.377431868504406e-5\n"
     ]
    },
    {
     "name": "stdout",
     "output_type": "stream",
     "text": [
      "epoch 2100: batch_loss = 5.255734739352579e-5\n"
     ]
    },
    {
     "name": "stdout",
     "output_type": "stream",
     "text": [
      "epoch 2125: batch_loss = 5.150046564691524e-5\n"
     ]
    },
    {
     "name": "stdout",
     "output_type": "stream",
     "text": [
      "epoch 2150: batch_loss = 5.05837643499428e-5\n"
     ]
    },
    {
     "name": "stdout",
     "output_type": "stream",
     "text": [
      "epoch 2175: batch_loss = 4.978824733721868e-5\n"
     ]
    },
    {
     "name": "stdout",
     "output_type": "stream",
     "text": [
      "epoch 2200: batch_loss = 4.909862995584503e-5\n"
     ]
    },
    {
     "name": "stdout",
     "output_type": "stream",
     "text": [
      "epoch 2225: batch_loss = 4.8498273402968026e-5\n"
     ]
    },
    {
     "name": "stdout",
     "output_type": "stream",
     "text": [
      "epoch 2250: batch_loss = 4.79761283105448e-5\n"
     ]
    },
    {
     "name": "stdout",
     "output_type": "stream",
     "text": [
      "epoch 2275: batch_loss = 4.7521035713331206e-5\n"
     ]
    },
    {
     "name": "stdout",
     "output_type": "stream",
     "text": [
      "epoch 2300: batch_loss = 4.712325925538464e-5\n"
     ]
    },
    {
     "name": "stdout",
     "output_type": "stream",
     "text": [
      "epoch 2325: batch_loss = 4.677420284777509e-5\n"
     ]
    },
    {
     "name": "stdout",
     "output_type": "stream",
     "text": [
      "epoch 2350: batch_loss = 4.6465965198217375e-5\n"
     ]
    },
    {
     "name": "stdout",
     "output_type": "stream",
     "text": [
      "epoch 2375: batch_loss = 4.619267612922532e-5\n"
     ]
    },
    {
     "name": "stdout",
     "output_type": "stream",
     "text": [
      "epoch 2400: batch_loss = 4.594881289534375e-5\n"
     ]
    },
    {
     "name": "stdout",
     "output_type": "stream",
     "text": [
      "epoch 2425: batch_loss = 4.5729274233281424e-5\n"
     ]
    },
    {
     "name": "stdout",
     "output_type": "stream",
     "text": [
      "epoch 2450: batch_loss = 4.553006156592408e-5\n"
     ]
    },
    {
     "name": "stdout",
     "output_type": "stream",
     "text": [
      "epoch 2475: batch_loss = 4.534730871590337e-5\n"
     ]
    },
    {
     "name": "stdout",
     "output_type": "stream",
     "text": [
      "epoch 2500: batch_loss = 4.5177837038468334e-5\n"
     ]
    },
    {
     "name": "stdout",
     "output_type": "stream",
     "text": [
      "epoch 2525: batch_loss = 4.501873123017445e-5\n"
     ]
    },
    {
     "name": "stdout",
     "output_type": "stream",
     "text": [
      "epoch 2550: batch_loss = 4.4867484655204914e-5\n"
     ]
    },
    {
     "name": "stdout",
     "output_type": "stream",
     "text": [
      "epoch 2575: batch_loss = 4.472250737034404e-5\n"
     ]
    },
    {
     "name": "stdout",
     "output_type": "stream",
     "text": [
      "epoch 2600: batch_loss = 4.458198193842005e-5\n"
     ]
    },
    {
     "name": "stdout",
     "output_type": "stream",
     "text": [
      "epoch 2625: batch_loss = 4.4444330056113154e-5\n"
     ]
    },
    {
     "name": "stdout",
     "output_type": "stream",
     "text": [
      "epoch 2650: batch_loss = 4.430775096510379e-5\n"
     ]
    },
    {
     "name": "stdout",
     "output_type": "stream",
     "text": [
      "epoch 2675: batch_loss = 4.417209140700223e-5\n"
     ]
    },
    {
     "name": "stdout",
     "output_type": "stream",
     "text": [
      "epoch 2700: batch_loss = 4.4035978270091414e-5\n"
     ]
    },
    {
     "name": "stdout",
     "output_type": "stream",
     "text": [
      "epoch 2725: batch_loss = 4.3898682602059334e-5\n"
     ]
    },
    {
     "name": "stdout",
     "output_type": "stream",
     "text": [
      "epoch 2750: batch_loss = 4.376007073451536e-5\n"
     ]
    },
    {
     "name": "stdout",
     "output_type": "stream",
     "text": [
      "epoch 2775: batch_loss = 4.3619040569021806e-5\n"
     ]
    },
    {
     "name": "stdout",
     "output_type": "stream",
     "text": [
      "epoch 2800: batch_loss = 4.347573685646209e-5\n"
     ]
    },
    {
     "name": "stdout",
     "output_type": "stream",
     "text": [
      "epoch 2825: batch_loss = 4.332982011541354e-5\n"
     ]
    },
    {
     "name": "stdout",
     "output_type": "stream",
     "text": [
      "epoch 2850: batch_loss = 4.3181135967866705e-5\n"
     ]
    },
    {
     "name": "stdout",
     "output_type": "stream",
     "text": [
      "epoch 2875: batch_loss = 4.302953557985985e-5\n"
     ]
    },
    {
     "name": "stdout",
     "output_type": "stream",
     "text": [
      "epoch 2900: batch_loss = 4.2874746656446133e-5\n"
     ]
    },
    {
     "name": "stdout",
     "output_type": "stream",
     "text": [
      "epoch 2925: batch_loss = 4.2716675964286345e-5\n"
     ]
    },
    {
     "name": "stdout",
     "output_type": "stream",
     "text": [
      "epoch 2950: batch_loss = 4.25558854965388e-5\n"
     ]
    },
    {
     "name": "stdout",
     "output_type": "stream",
     "text": [
      "epoch 2975: batch_loss = 4.2391534664825164e-5\n"
     ]
    },
    {
     "name": "stdout",
     "output_type": "stream",
     "text": [
      "epoch 3000: batch_loss = 4.222418789926098e-5\n"
     ]
    },
    {
     "name": "stdout",
     "output_type": "stream",
     "text": [
      "epoch 3025: batch_loss = 4.205420575880648e-5\n"
     ]
    },
    {
     "name": "stdout",
     "output_type": "stream",
     "text": [
      "epoch 3050: batch_loss = 4.188090242923939e-5\n"
     ]
    },
    {
     "name": "stdout",
     "output_type": "stream",
     "text": [
      "epoch 3075: batch_loss = 4.170495223293567e-5\n"
     ]
    },
    {
     "name": "stdout",
     "output_type": "stream",
     "text": [
      "epoch 3100: batch_loss = 4.152606792180997e-5\n"
     ]
    },
    {
     "name": "stdout",
     "output_type": "stream",
     "text": [
      "epoch 3125: batch_loss = 4.1344580451694836e-5\n"
     ]
    },
    {
     "name": "stdout",
     "output_type": "stream",
     "text": [
      "epoch 3150: batch_loss = 4.116025335549052e-5\n"
     ]
    },
    {
     "name": "stdout",
     "output_type": "stream",
     "text": [
      "epoch 3175: batch_loss = 4.09735962954877e-5\n"
     ]
    },
    {
     "name": "stdout",
     "output_type": "stream",
     "text": [
      "epoch 3200: batch_loss = 4.078456090657006e-5\n"
     ]
    },
    {
     "name": "stdout",
     "output_type": "stream",
     "text": [
      "epoch 3225: batch_loss = 4.059348660747141e-5\n"
     ]
    },
    {
     "name": "stdout",
     "output_type": "stream",
     "text": [
      "epoch 3250: batch_loss = 4.039981594527418e-5\n"
     ]
    },
    {
     "name": "stdout",
     "output_type": "stream",
     "text": [
      "epoch 3275: batch_loss = 4.02045259803537e-5\n"
     ]
    },
    {
     "name": "stdout",
     "output_type": "stream",
     "text": [
      "epoch 3300: batch_loss = 4.000733580841092e-5\n"
     ]
    },
    {
     "name": "stdout",
     "output_type": "stream",
     "text": [
      "epoch 3325: batch_loss = 3.980821314566042e-5\n"
     ]
    },
    {
     "name": "stdout",
     "output_type": "stream",
     "text": [
      "epoch 3350: batch_loss = 3.960746866740756e-5\n"
     ]
    },
    {
     "name": "stdout",
     "output_type": "stream",
     "text": [
      "epoch 3375: batch_loss = 3.9405503285270657e-5\n"
     ]
    },
    {
     "name": "stdout",
     "output_type": "stream",
     "text": [
      "epoch 3400: batch_loss = 3.9202094866981494e-5\n"
     ]
    },
    {
     "name": "stdout",
     "output_type": "stream",
     "text": [
      "epoch 3425: batch_loss = 3.899712829185702e-5\n"
     ]
    },
    {
     "name": "stdout",
     "output_type": "stream",
     "text": [
      "epoch 3450: batch_loss = 3.8791153922570675e-5\n"
     ]
    },
    {
     "name": "stdout",
     "output_type": "stream",
     "text": [
      "epoch 3475: batch_loss = 3.858388271032795e-5\n"
     ]
    },
    {
     "name": "stdout",
     "output_type": "stream",
     "text": [
      "epoch 3500: batch_loss = 3.8376388485350585e-5\n"
     ]
    },
    {
     "name": "stdout",
     "output_type": "stream",
     "text": [
      "epoch 3525: batch_loss = 3.816730228463632e-5\n"
     ]
    },
    {
     "name": "stdout",
     "output_type": "stream",
     "text": [
      "epoch 3550: batch_loss = 3.79581632630003e-5\n"
     ]
    },
    {
     "name": "stdout",
     "output_type": "stream",
     "text": [
      "epoch 3575: batch_loss = 3.774837327053015e-5\n"
     ]
    },
    {
     "name": "stdout",
     "output_type": "stream",
     "text": [
      "epoch 3600: batch_loss = 3.753802888873204e-5\n"
     ]
    },
    {
     "name": "stdout",
     "output_type": "stream",
     "text": [
      "epoch 3625: batch_loss = 3.732729409977124e-5\n"
     ]
    },
    {
     "name": "stdout",
     "output_type": "stream",
     "text": [
      "epoch 3650: batch_loss = 3.711607177298138e-5\n"
     ]
    },
    {
     "name": "stdout",
     "output_type": "stream",
     "text": [
      "epoch 3675: batch_loss = 3.690501994552775e-5\n"
     ]
    },
    {
     "name": "stdout",
     "output_type": "stream",
     "text": [
      "epoch 3700: batch_loss = 3.669342548662177e-5\n"
     ]
    },
    {
     "name": "stdout",
     "output_type": "stream",
     "text": [
      "epoch 3725: batch_loss = 3.6482156023453665e-5\n"
     ]
    },
    {
     "name": "stdout",
     "output_type": "stream",
     "text": [
      "epoch 3750: batch_loss = 3.627085201702133e-5\n"
     ]
    },
    {
     "name": "stdout",
     "output_type": "stream",
     "text": [
      "epoch 3775: batch_loss = 3.605945647520928e-5\n"
     ]
    },
    {
     "name": "stdout",
     "output_type": "stream",
     "text": [
      "epoch 3800: batch_loss = 3.5848476040803124e-5\n"
     ]
    },
    {
     "name": "stdout",
     "output_type": "stream",
     "text": [
      "epoch 3825: batch_loss = 3.563754863096351e-5\n"
     ]
    },
    {
     "name": "stdout",
     "output_type": "stream",
     "text": [
      "epoch 3850: batch_loss = 3.5426732655502574e-5\n"
     ]
    },
    {
     "name": "stdout",
     "output_type": "stream",
     "text": [
      "epoch 3875: batch_loss = 3.5216636937092034e-5\n"
     ]
    },
    {
     "name": "stdout",
     "output_type": "stream",
     "text": [
      "epoch 3900: batch_loss = 3.5006968909998e-5\n"
     ]
    },
    {
     "name": "stdout",
     "output_type": "stream",
     "text": [
      "epoch 3925: batch_loss = 3.479750642102358e-5\n"
     ]
    },
    {
     "name": "stdout",
     "output_type": "stream",
     "text": [
      "epoch 3950: batch_loss = 3.458861241408026e-5\n"
     ]
    },
    {
     "name": "stdout",
     "output_type": "stream",
     "text": [
      "epoch 3975: batch_loss = 3.438035306643496e-5\n"
     ]
    },
    {
     "name": "stdout",
     "output_type": "stream",
     "text": [
      "epoch 4000: batch_loss = 3.417258568130344e-5\n"
     ]
    },
    {
     "name": "stdout",
     "output_type": "stream",
     "text": [
      "epoch 4025: batch_loss = 3.3965359545541896e-5\n"
     ]
    },
    {
     "name": "stdout",
     "output_type": "stream",
     "text": [
      "epoch 4050: batch_loss = 3.375874675037038e-5\n"
     ]
    },
    {
     "name": "stdout",
     "output_type": "stream",
     "text": [
      "epoch 4075: batch_loss = 3.3552727685330484e-5\n"
     ]
    },
    {
     "name": "stdout",
     "output_type": "stream",
     "text": [
      "epoch 4100: batch_loss = 3.3347699891571495e-5\n"
     ]
    },
    {
     "name": "stdout",
     "output_type": "stream",
     "text": [
      "epoch 4125: batch_loss = 3.314319557626525e-5\n"
     ]
    },
    {
     "name": "stdout",
     "output_type": "stream",
     "text": [
      "epoch 4150: batch_loss = 3.2939381301655293e-5\n"
     ]
    },
    {
     "name": "stdout",
     "output_type": "stream",
     "text": [
      "epoch 4175: batch_loss = 3.2736455780673294e-5\n"
     ]
    },
    {
     "name": "stdout",
     "output_type": "stream",
     "text": [
      "epoch 4200: batch_loss = 3.2534332618686883e-5\n"
     ]
    },
    {
     "name": "stdout",
     "output_type": "stream",
     "text": [
      "epoch 4225: batch_loss = 3.2332839564681904e-5\n"
     ]
    },
    {
     "name": "stdout",
     "output_type": "stream",
     "text": [
      "epoch 4250: batch_loss = 3.213234954347519e-5\n"
     ]
    },
    {
     "name": "stdout",
     "output_type": "stream",
     "text": [
      "epoch 4275: batch_loss = 3.1932967022855806e-5\n"
     ]
    },
    {
     "name": "stdout",
     "output_type": "stream",
     "text": [
      "epoch 4300: batch_loss = 3.173393471507511e-5\n"
     ]
    },
    {
     "name": "stdout",
     "output_type": "stream",
     "text": [
      "epoch 4325: batch_loss = 3.153598457760189e-5\n"
     ]
    },
    {
     "name": "stdout",
     "output_type": "stream",
     "text": [
      "epoch 4350: batch_loss = 3.1338639665297887e-5\n"
     ]
    },
    {
     "name": "stdout",
     "output_type": "stream",
     "text": [
      "epoch 4375: batch_loss = 3.114262101348414e-5\n"
     ]
    },
    {
     "name": "stdout",
     "output_type": "stream",
     "text": [
      "epoch 4400: batch_loss = 3.094715184385558e-5\n"
     ]
    },
    {
     "name": "stdout",
     "output_type": "stream",
     "text": [
      "epoch 4425: batch_loss = 3.075283942564742e-5\n"
     ]
    },
    {
     "name": "stdout",
     "output_type": "stream",
     "text": [
      "epoch 4450: batch_loss = 3.055938505662883e-5\n"
     ]
    },
    {
     "name": "stdout",
     "output_type": "stream",
     "text": [
      "epoch 4475: batch_loss = 3.036649602891102e-5\n"
     ]
    },
    {
     "name": "stdout",
     "output_type": "stream",
     "text": [
      "epoch 4500: batch_loss = 3.0174759336217344e-5\n"
     ]
    },
    {
     "name": "stdout",
     "output_type": "stream",
     "text": [
      "epoch 4525: batch_loss = 2.9984180268717315e-5\n"
     ]
    },
    {
     "name": "stdout",
     "output_type": "stream",
     "text": [
      "epoch 4550: batch_loss = 2.9794335648586483e-5\n"
     ]
    },
    {
     "name": "stdout",
     "output_type": "stream",
     "text": [
      "epoch 4575: batch_loss = 2.9605025783175185e-5\n"
     ]
    },
    {
     "name": "stdout",
     "output_type": "stream",
     "text": [
      "epoch 4600: batch_loss = 2.9417206135916445e-5\n"
     ]
    },
    {
     "name": "stdout",
     "output_type": "stream",
     "text": [
      "epoch 4625: batch_loss = 2.9230306075633466e-5\n"
     ]
    },
    {
     "name": "stdout",
     "output_type": "stream",
     "text": [
      "epoch 4650: batch_loss = 2.9044027411607955e-5\n"
     ]
    },
    {
     "name": "stdout",
     "output_type": "stream",
     "text": [
      "epoch 4675: batch_loss = 2.8858870503772883e-5\n"
     ]
    },
    {
     "name": "stdout",
     "output_type": "stream",
     "text": [
      "epoch 4700: batch_loss = 2.8674541766671327e-5\n"
     ]
    },
    {
     "name": "stdout",
     "output_type": "stream",
     "text": [
      "epoch 4725: batch_loss = 2.8491337704981938e-5\n"
     ]
    },
    {
     "name": "stdout",
     "output_type": "stream",
     "text": [
      "epoch 4750: batch_loss = 2.8308892477855346e-5\n"
     ]
    },
    {
     "name": "stdout",
     "output_type": "stream",
     "text": [
      "epoch 4775: batch_loss = 2.812775066152394e-5\n"
     ]
    },
    {
     "name": "stdout",
     "output_type": "stream",
     "text": [
      "epoch 4800: batch_loss = 2.7947384364469084e-5\n"
     ]
    },
    {
     "name": "stdout",
     "output_type": "stream",
     "text": [
      "epoch 4825: batch_loss = 2.776788264370255e-5\n"
     ]
    },
    {
     "name": "stdout",
     "output_type": "stream",
     "text": [
      "epoch 4850: batch_loss = 2.75892788581876e-5\n"
     ]
    },
    {
     "name": "stdout",
     "output_type": "stream",
     "text": [
      "epoch 4875: batch_loss = 2.741173821690649e-5\n"
     ]
    },
    {
     "name": "stdout",
     "output_type": "stream",
     "text": [
      "epoch 4900: batch_loss = 2.7234917025767175e-5\n"
     ]
    },
    {
     "name": "stdout",
     "output_type": "stream",
     "text": [
      "epoch 4925: batch_loss = 2.7059460744598435e-5\n"
     ]
    },
    {
     "name": "stdout",
     "output_type": "stream",
     "text": [
      "epoch 4950: batch_loss = 2.688474483567188e-5\n"
     ]
    },
    {
     "name": "stdout",
     "output_type": "stream",
     "text": [
      "epoch 4975: batch_loss = 2.671099513969998e-5\n"
     ]
    },
    {
     "name": "stdout",
     "output_type": "stream",
     "text": [
      "epoch 5000: batch_loss = 2.653803961396252e-5\n"
     ]
    },
    {
     "name": "stdout",
     "output_type": "stream",
     "text": [
      "epoch 5025: batch_loss = 2.6366225544867045e-5\n"
     ]
    },
    {
     "name": "stdout",
     "output_type": "stream",
     "text": [
      "epoch 5050: batch_loss = 2.6195344616580422e-5\n"
     ]
    },
    {
     "name": "stdout",
     "output_type": "stream",
     "text": [
      "epoch 5075: batch_loss = 2.6025331764844864e-5\n"
     ]
    },
    {
     "name": "stdout",
     "output_type": "stream",
     "text": [
      "epoch 5100: batch_loss = 2.5856249192518326e-5\n"
     ]
    },
    {
     "name": "stdout",
     "output_type": "stream",
     "text": [
      "epoch 5125: batch_loss = 2.5688153031518134e-5\n"
     ]
    },
    {
     "name": "stdout",
     "output_type": "stream",
     "text": [
      "epoch 5150: batch_loss = 2.5520788427081722e-5\n"
     ]
    },
    {
     "name": "stdout",
     "output_type": "stream",
     "text": [
      "epoch 5175: batch_loss = 2.5354760587478915e-5\n"
     ]
    },
    {
     "name": "stdout",
     "output_type": "stream",
     "text": [
      "epoch 5200: batch_loss = 2.5189273628436853e-5\n"
     ]
    },
    {
     "name": "stdout",
     "output_type": "stream",
     "text": [
      "epoch 5225: batch_loss = 2.502489631742264e-5\n"
     ]
    },
    {
     "name": "stdout",
     "output_type": "stream",
     "text": [
      "epoch 5250: batch_loss = 2.48612224650794e-5\n"
     ]
    },
    {
     "name": "stdout",
     "output_type": "stream",
     "text": [
      "epoch 5275: batch_loss = 2.4698811565231847e-5\n"
     ]
    },
    {
     "name": "stdout",
     "output_type": "stream",
     "text": [
      "epoch 5300: batch_loss = 2.4537054913949136e-5\n"
     ]
    },
    {
     "name": "stdout",
     "output_type": "stream",
     "text": [
      "epoch 5325: batch_loss = 2.4376470128626392e-5\n"
     ]
    },
    {
     "name": "stdout",
     "output_type": "stream",
     "text": [
      "epoch 5350: batch_loss = 2.4216373844731535e-5\n"
     ]
    },
    {
     "name": "stdout",
     "output_type": "stream",
     "text": [
      "epoch 5375: batch_loss = 2.4057612690035862e-5\n"
     ]
    },
    {
     "name": "stdout",
     "output_type": "stream",
     "text": [
      "epoch 5400: batch_loss = 2.3899453831341644e-5\n"
     ]
    },
    {
     "name": "stdout",
     "output_type": "stream",
     "text": [
      "epoch 5425: batch_loss = 2.374229265206875e-5\n"
     ]
    },
    {
     "name": "stdout",
     "output_type": "stream",
     "text": [
      "epoch 5450: batch_loss = 2.3586223429575437e-5\n"
     ]
    },
    {
     "name": "stdout",
     "output_type": "stream",
     "text": [
      "epoch 5475: batch_loss = 2.3430637885047485e-5\n"
     ]
    },
    {
     "name": "stdout",
     "output_type": "stream",
     "text": [
      "epoch 5500: batch_loss = 2.3276163921857776e-5\n"
     ]
    },
    {
     "name": "stdout",
     "output_type": "stream",
     "text": [
      "epoch 5525: batch_loss = 2.3122504514330083e-5\n"
     ]
    },
    {
     "name": "stdout",
     "output_type": "stream",
     "text": [
      "epoch 5550: batch_loss = 2.2969764747666523e-5\n"
     ]
    },
    {
     "name": "stdout",
     "output_type": "stream",
     "text": [
      "epoch 5575: batch_loss = 2.2817983083467217e-5\n"
     ]
    },
    {
     "name": "stdout",
     "output_type": "stream",
     "text": [
      "epoch 5600: batch_loss = 2.2666884703095687e-5\n"
     ]
    },
    {
     "name": "stdout",
     "output_type": "stream",
     "text": [
      "epoch 5625: batch_loss = 2.251683405480664e-5\n"
     ]
    },
    {
     "name": "stdout",
     "output_type": "stream",
     "text": [
      "epoch 5650: batch_loss = 2.2367525152321485e-5\n"
     ]
    },
    {
     "name": "stdout",
     "output_type": "stream",
     "text": [
      "epoch 5675: batch_loss = 2.2219095392702582e-5\n"
     ]
    },
    {
     "name": "stdout",
     "output_type": "stream",
     "text": [
      "epoch 5700: batch_loss = 2.2071377532243097e-5\n"
     ]
    },
    {
     "name": "stdout",
     "output_type": "stream",
     "text": [
      "epoch 5725: batch_loss = 2.1924861334877963e-5\n"
     ]
    },
    {
     "name": "stdout",
     "output_type": "stream",
     "text": [
      "epoch 5750: batch_loss = 2.1778821280747373e-5\n"
     ]
    },
    {
     "name": "stdout",
     "output_type": "stream",
     "text": [
      "epoch 5775: batch_loss = 2.1633991339747126e-5\n"
     ]
    },
    {
     "name": "stdout",
     "output_type": "stream",
     "text": [
      "epoch 5800: batch_loss = 2.1489653031197772e-5\n"
     ]
    },
    {
     "name": "stdout",
     "output_type": "stream",
     "text": [
      "epoch 5825: batch_loss = 2.1346318027796113e-5\n"
     ]
    },
    {
     "name": "stdout",
     "output_type": "stream",
     "text": [
      "epoch 5850: batch_loss = 2.120373489387398e-5\n"
     ]
    },
    {
     "name": "stdout",
     "output_type": "stream",
     "text": [
      "epoch 5875: batch_loss = 2.1062107145723628e-5\n"
     ]
    },
    {
     "name": "stdout",
     "output_type": "stream",
     "text": [
      "epoch 5900: batch_loss = 2.092118072569961e-5\n"
     ]
    },
    {
     "name": "stdout",
     "output_type": "stream",
     "text": [
      "epoch 5925: batch_loss = 2.0781185489599137e-5\n"
     ]
    },
    {
     "name": "stdout",
     "output_type": "stream",
     "text": [
      "epoch 5950: batch_loss = 2.064185445485321e-5\n"
     ]
    },
    {
     "name": "stdout",
     "output_type": "stream",
     "text": [
      "epoch 5975: batch_loss = 2.0503543873169015e-5\n"
     ]
    },
    {
     "name": "stdout",
     "output_type": "stream",
     "text": [
      "epoch 6000: batch_loss = 2.0365836196323253e-5\n"
     ]
    },
    {
     "name": "stdout",
     "output_type": "stream",
     "text": [
      "epoch 6025: batch_loss = 2.022908086492596e-5\n"
     ]
    },
    {
     "name": "stdout",
     "output_type": "stream",
     "text": [
      "epoch 6050: batch_loss = 2.009297815291688e-5\n"
     ]
    },
    {
     "name": "stdout",
     "output_type": "stream",
     "text": [
      "epoch 6075: batch_loss = 1.9957685561587102e-5\n"
     ]
    },
    {
     "name": "stdout",
     "output_type": "stream",
     "text": [
      "epoch 6100: batch_loss = 1.9823440446540774e-5\n"
     ]
    },
    {
     "name": "stdout",
     "output_type": "stream",
     "text": [
      "epoch 6125: batch_loss = 1.968966560508541e-5\n"
     ]
    },
    {
     "name": "stdout",
     "output_type": "stream",
     "text": [
      "epoch 6150: batch_loss = 1.9556652908670777e-5\n"
     ]
    },
    {
     "name": "stdout",
     "output_type": "stream",
     "text": [
      "epoch 6175: batch_loss = 1.9424594072047488e-5\n"
     ]
    },
    {
     "name": "stdout",
     "output_type": "stream",
     "text": [
      "epoch 6200: batch_loss = 1.9293165586911976e-5\n"
     ]
    },
    {
     "name": "stdout",
     "output_type": "stream",
     "text": [
      "epoch 6225: batch_loss = 1.916264892969693e-5\n"
     ]
    },
    {
     "name": "stdout",
     "output_type": "stream",
     "text": [
      "epoch 6250: batch_loss = 1.9032932995192992e-5\n"
     ]
    },
    {
     "name": "stdout",
     "output_type": "stream",
     "text": [
      "epoch 6275: batch_loss = 1.8903837430373386e-5\n"
     ]
    },
    {
     "name": "stdout",
     "output_type": "stream",
     "text": [
      "epoch 6300: batch_loss = 1.8775712435234517e-5\n"
     ]
    },
    {
     "name": "stdout",
     "output_type": "stream",
     "text": [
      "epoch 6325: batch_loss = 1.864798746165446e-5\n"
     ]
    },
    {
     "name": "stdout",
     "output_type": "stream",
     "text": [
      "epoch 6350: batch_loss = 1.8521393632369136e-5\n"
     ]
    },
    {
     "name": "stdout",
     "output_type": "stream",
     "text": [
      "epoch 6375: batch_loss = 1.8395351261584163e-5\n"
     ]
    },
    {
     "name": "stdout",
     "output_type": "stream",
     "text": [
      "epoch 6400: batch_loss = 1.8270077954403928e-5\n"
     ]
    },
    {
     "name": "stdout",
     "output_type": "stream",
     "text": [
      "epoch 6425: batch_loss = 1.81456385986797e-5\n"
     ]
    },
    {
     "name": "stdout",
     "output_type": "stream",
     "text": [
      "epoch 6450: batch_loss = 1.8021654959705265e-5\n"
     ]
    },
    {
     "name": "stdout",
     "output_type": "stream",
     "text": [
      "epoch 6475: batch_loss = 1.789874414310326e-5\n"
     ]
    },
    {
     "name": "stdout",
     "output_type": "stream",
     "text": [
      "epoch 6500: batch_loss = 1.7776325749328994e-5\n"
     ]
    },
    {
     "name": "stdout",
     "output_type": "stream",
     "text": [
      "epoch 6525: batch_loss = 1.7654791017745704e-5\n"
     ]
    },
    {
     "name": "stdout",
     "output_type": "stream",
     "text": [
      "epoch 6550: batch_loss = 1.7533809697965705e-5\n"
     ]
    },
    {
     "name": "stdout",
     "output_type": "stream",
     "text": [
      "epoch 6575: batch_loss = 1.74137339731904e-5\n"
     ]
    },
    {
     "name": "stdout",
     "output_type": "stream",
     "text": [
      "epoch 6600: batch_loss = 1.7294167836678346e-5\n"
     ]
    },
    {
     "name": "stdout",
     "output_type": "stream",
     "text": [
      "epoch 6625: batch_loss = 1.7175638499679968e-5\n"
     ]
    },
    {
     "name": "stdout",
     "output_type": "stream",
     "text": [
      "epoch 6650: batch_loss = 1.7057572611272186e-5\n"
     ]
    },
    {
     "name": "stdout",
     "output_type": "stream",
     "text": [
      "epoch 6675: batch_loss = 1.694022250704199e-5\n"
     ]
    },
    {
     "name": "stdout",
     "output_type": "stream",
     "text": [
      "epoch 6700: batch_loss = 1.6823537712654698e-5\n"
     ]
    },
    {
     "name": "stdout",
     "output_type": "stream",
     "text": [
      "epoch 6725: batch_loss = 1.6707651859793436e-5\n"
     ]
    },
    {
     "name": "stdout",
     "output_type": "stream",
     "text": [
      "epoch 6750: batch_loss = 1.6592391686107942e-5\n"
     ]
    },
    {
     "name": "stdout",
     "output_type": "stream",
     "text": [
      "epoch 6775: batch_loss = 1.647790505465528e-5\n"
     ]
    },
    {
     "name": "stdout",
     "output_type": "stream",
     "text": [
      "epoch 6800: batch_loss = 1.636393974415038e-5\n"
     ]
    },
    {
     "name": "stdout",
     "output_type": "stream",
     "text": [
      "epoch 6825: batch_loss = 1.625081874304351e-5\n"
     ]
    },
    {
     "name": "stdout",
     "output_type": "stream",
     "text": [
      "epoch 6850: batch_loss = 1.613827146692953e-5\n"
     ]
    },
    {
     "name": "stdout",
     "output_type": "stream",
     "text": [
      "epoch 6875: batch_loss = 1.602646488249601e-5\n"
     ]
    },
    {
     "name": "stdout",
     "output_type": "stream",
     "text": [
      "epoch 6900: batch_loss = 1.5915267796804855e-5\n"
     ]
    },
    {
     "name": "stdout",
     "output_type": "stream",
     "text": [
      "epoch 6925: batch_loss = 1.5804843735297137e-5\n"
     ]
    },
    {
     "name": "stdout",
     "output_type": "stream",
     "text": [
      "epoch 6950: batch_loss = 1.569498721745925e-5\n"
     ]
    },
    {
     "name": "stdout",
     "output_type": "stream",
     "text": [
      "epoch 6975: batch_loss = 1.5585880556691857e-5\n"
     ]
    },
    {
     "name": "stdout",
     "output_type": "stream",
     "text": [
      "epoch 7000: batch_loss = 1.5477433181850177e-5\n"
     ]
    },
    {
     "name": "stdout",
     "output_type": "stream",
     "text": [
      "epoch 7025: batch_loss = 1.5369528640067286e-5\n"
     ]
    },
    {
     "name": "stdout",
     "output_type": "stream",
     "text": [
      "epoch 7050: batch_loss = 1.5262387042356593e-5\n"
     ]
    },
    {
     "name": "stdout",
     "output_type": "stream",
     "text": [
      "epoch 7075: batch_loss = 1.5155766717523497e-5\n"
     ]
    },
    {
     "name": "stdout",
     "output_type": "stream",
     "text": [
      "epoch 7100: batch_loss = 1.5049968175367327e-5\n"
     ]
    },
    {
     "name": "stdout",
     "output_type": "stream",
     "text": [
      "epoch 7125: batch_loss = 1.4944694902587956e-5\n"
     ]
    },
    {
     "name": "stdout",
     "output_type": "stream",
     "text": [
      "epoch 7150: batch_loss = 1.4840019765850637e-5\n"
     ]
    },
    {
     "name": "stdout",
     "output_type": "stream",
     "text": [
      "epoch 7175: batch_loss = 1.4736088911262576e-5\n"
     ]
    },
    {
     "name": "stdout",
     "output_type": "stream",
     "text": [
      "epoch 7200: batch_loss = 1.4632772560739414e-5\n"
     ]
    },
    {
     "name": "stdout",
     "output_type": "stream",
     "text": [
      "epoch 7225: batch_loss = 1.453008993025401e-5\n"
     ]
    },
    {
     "name": "stdout",
     "output_type": "stream",
     "text": [
      "epoch 7250: batch_loss = 1.4427919286159627e-5\n"
     ]
    },
    {
     "name": "stdout",
     "output_type": "stream",
     "text": [
      "epoch 7275: batch_loss = 1.4326309016170867e-5\n"
     ]
    },
    {
     "name": "stdout",
     "output_type": "stream",
     "text": [
      "epoch 7300: batch_loss = 1.4225581200353675e-5\n"
     ]
    },
    {
     "name": "stdout",
     "output_type": "stream",
     "text": [
      "epoch 7325: batch_loss = 1.4125307669252425e-5\n"
     ]
    },
    {
     "name": "stdout",
     "output_type": "stream",
     "text": [
      "epoch 7350: batch_loss = 1.4025668143868393e-5\n"
     ]
    },
    {
     "name": "stdout",
     "output_type": "stream",
     "text": [
      "epoch 7375: batch_loss = 1.3926702979462866e-5\n"
     ]
    },
    {
     "name": "stdout",
     "output_type": "stream",
     "text": [
      "epoch 7400: batch_loss = 1.3828310052397267e-5\n"
     ]
    },
    {
     "name": "stdout",
     "output_type": "stream",
     "text": [
      "epoch 7425: batch_loss = 1.3730315700517546e-5\n"
     ]
    },
    {
     "name": "stdout",
     "output_type": "stream",
     "text": [
      "epoch 7450: batch_loss = 1.3633289193786014e-5\n"
     ]
    },
    {
     "name": "stdout",
     "output_type": "stream",
     "text": [
      "epoch 7475: batch_loss = 1.3536552630461751e-5\n"
     ]
    },
    {
     "name": "stdout",
     "output_type": "stream",
     "text": [
      "epoch 7500: batch_loss = 1.3440530075865443e-5\n"
     ]
    },
    {
     "name": "stdout",
     "output_type": "stream",
     "text": [
      "epoch 7525: batch_loss = 1.334518453813109e-5\n"
     ]
    },
    {
     "name": "stdout",
     "output_type": "stream",
     "text": [
      "epoch 7550: batch_loss = 1.3250360857605379e-5\n"
     ]
    },
    {
     "name": "stdout",
     "output_type": "stream",
     "text": [
      "epoch 7575: batch_loss = 1.3156092604215007e-5\n"
     ]
    },
    {
     "name": "stdout",
     "output_type": "stream",
     "text": [
      "epoch 7600: batch_loss = 1.3062498843821805e-5\n"
     ]
    },
    {
     "name": "stdout",
     "output_type": "stream",
     "text": [
      "epoch 7625: batch_loss = 1.2969354359161037e-5\n"
     ]
    },
    {
     "name": "stdout",
     "output_type": "stream",
     "text": [
      "epoch 7650: batch_loss = 1.2876807513163021e-5\n"
     ]
    },
    {
     "name": "stdout",
     "output_type": "stream",
     "text": [
      "epoch 7675: batch_loss = 1.2784772818388734e-5\n"
     ]
    },
    {
     "name": "stdout",
     "output_type": "stream",
     "text": [
      "epoch 7700: batch_loss = 1.269339788395729e-5\n"
     ]
    },
    {
     "name": "stdout",
     "output_type": "stream",
     "text": [
      "epoch 7725: batch_loss = 1.2602737517771266e-5\n"
     ]
    },
    {
     "name": "stdout",
     "output_type": "stream",
     "text": [
      "epoch 7750: batch_loss = 1.2512369865545099e-5\n"
     ]
    },
    {
     "name": "stdout",
     "output_type": "stream",
     "text": [
      "epoch 7775: batch_loss = 1.2422727498764886e-5\n"
     ]
    },
    {
     "name": "stdout",
     "output_type": "stream",
     "text": [
      "epoch 7800: batch_loss = 1.2333688343589485e-5\n"
     ]
    },
    {
     "name": "stdout",
     "output_type": "stream",
     "text": [
      "epoch 7825: batch_loss = 1.2245041796909084e-5\n"
     ]
    },
    {
     "name": "stdout",
     "output_type": "stream",
     "text": [
      "epoch 7850: batch_loss = 1.2156993151612758e-5\n"
     ]
    },
    {
     "name": "stdout",
     "output_type": "stream",
     "text": [
      "epoch 7875: batch_loss = 1.2069484034547335e-5\n"
     ]
    },
    {
     "name": "stdout",
     "output_type": "stream",
     "text": [
      "epoch 7900: batch_loss = 1.1982459579102557e-5\n"
     ]
    },
    {
     "name": "stdout",
     "output_type": "stream",
     "text": [
      "epoch 7925: batch_loss = 1.1896137467315718e-5\n"
     ]
    },
    {
     "name": "stdout",
     "output_type": "stream",
     "text": [
      "epoch 7950: batch_loss = 1.1810290784727357e-5\n"
     ]
    },
    {
     "name": "stdout",
     "output_type": "stream",
     "text": [
      "epoch 7975: batch_loss = 1.1724989400427357e-5\n"
     ]
    },
    {
     "name": "stdout",
     "output_type": "stream",
     "text": [
      "epoch 8000: batch_loss = 1.1640252443375132e-5\n"
     ]
    },
    {
     "name": "stdout",
     "output_type": "stream",
     "text": [
      "epoch 8025: batch_loss = 1.1555981168579373e-5\n"
     ]
    },
    {
     "name": "stdout",
     "output_type": "stream",
     "text": [
      "epoch 8050: batch_loss = 1.1472185584733798e-5\n"
     ]
    },
    {
     "name": "stdout",
     "output_type": "stream",
     "text": [
      "epoch 8075: batch_loss = 1.1389052837374833e-5\n"
     ]
    },
    {
     "name": "stdout",
     "output_type": "stream",
     "text": [
      "epoch 8100: batch_loss = 1.1306460599091702e-5\n"
     ]
    },
    {
     "name": "stdout",
     "output_type": "stream",
     "text": [
      "epoch 8125: batch_loss = 1.122424731320613e-5\n"
     ]
    },
    {
     "name": "stdout",
     "output_type": "stream",
     "text": [
      "epoch 8150: batch_loss = 1.1142628010506875e-5\n"
     ]
    },
    {
     "name": "stdout",
     "output_type": "stream",
     "text": [
      "epoch 8175: batch_loss = 1.1061461499471633e-5\n"
     ]
    },
    {
     "name": "stdout",
     "output_type": "stream",
     "text": [
      "epoch 8200: batch_loss = 1.0980820710426689e-5\n"
     ]
    },
    {
     "name": "stdout",
     "output_type": "stream",
     "text": [
      "epoch 8225: batch_loss = 1.0900805767290516e-5\n"
     ]
    },
    {
     "name": "stdout",
     "output_type": "stream",
     "text": [
      "epoch 8250: batch_loss = 1.0821224999568248e-5\n"
     ]
    },
    {
     "name": "stdout",
     "output_type": "stream",
     "text": [
      "epoch 8275: batch_loss = 1.0742078983692333e-5\n"
     ]
    },
    {
     "name": "stdout",
     "output_type": "stream",
     "text": [
      "epoch 8300: batch_loss = 1.0663507812720657e-5\n"
     ]
    },
    {
     "name": "stdout",
     "output_type": "stream",
     "text": [
      "epoch 8325: batch_loss = 1.0585318892866486e-5\n"
     ]
    },
    {
     "name": "stdout",
     "output_type": "stream",
     "text": [
      "epoch 8350: batch_loss = 1.0507843982942886e-5\n"
     ]
    },
    {
     "name": "stdout",
     "output_type": "stream",
     "text": [
      "epoch 8375: batch_loss = 1.0430612784583999e-5\n"
     ]
    },
    {
     "name": "stdout",
     "output_type": "stream",
     "text": [
      "epoch 8400: batch_loss = 1.035406244558913e-5\n"
     ]
    },
    {
     "name": "stdout",
     "output_type": "stream",
     "text": [
      "epoch 8425: batch_loss = 1.027789964819011e-5\n"
     ]
    },
    {
     "name": "stdout",
     "output_type": "stream",
     "text": [
      "epoch 8450: batch_loss = 1.020235905354128e-5\n"
     ]
    },
    {
     "name": "stdout",
     "output_type": "stream",
     "text": [
      "epoch 8475: batch_loss = 1.0127111660275637e-5\n"
     ]
    },
    {
     "name": "stdout",
     "output_type": "stream",
     "text": [
      "epoch 8500: batch_loss = 1.0052498105099897e-5\n"
     ]
    },
    {
     "name": "stdout",
     "output_type": "stream",
     "text": [
      "epoch 8525: batch_loss = 9.978292197384742e-6\n"
     ]
    },
    {
     "name": "stdout",
     "output_type": "stream",
     "text": [
      "epoch 8550: batch_loss = 9.904527314930401e-6\n"
     ]
    },
    {
     "name": "stdout",
     "output_type": "stream",
     "text": [
      "epoch 8575: batch_loss = 9.831217628974186e-6\n"
     ]
    },
    {
     "name": "stdout",
     "output_type": "stream",
     "text": [
      "epoch 8600: batch_loss = 9.758401821261308e-6\n"
     ]
    },
    {
     "name": "stdout",
     "output_type": "stream",
     "text": [
      "epoch 8625: batch_loss = 9.68610689879584e-6\n"
     ]
    },
    {
     "name": "stdout",
     "output_type": "stream",
     "text": [
      "epoch 8650: batch_loss = 9.614227058737719e-6\n"
     ]
    },
    {
     "name": "stdout",
     "output_type": "stream",
     "text": [
      "epoch 8675: batch_loss = 9.542833867766233e-6\n"
     ]
    },
    {
     "name": "stdout",
     "output_type": "stream",
     "text": [
      "epoch 8700: batch_loss = 9.471935933154227e-6\n"
     ]
    },
    {
     "name": "stdout",
     "output_type": "stream",
     "text": [
      "epoch 8725: batch_loss = 9.40146993906731e-6\n"
     ]
    },
    {
     "name": "stdout",
     "output_type": "stream",
     "text": [
      "epoch 8750: batch_loss = 9.331216456153036e-6\n"
     ]
    },
    {
     "name": "stdout",
     "output_type": "stream",
     "text": [
      "epoch 8775: batch_loss = 9.26189156126457e-6\n"
     ]
    },
    {
     "name": "stdout",
     "output_type": "stream",
     "text": [
      "epoch 8800: batch_loss = 9.192669867318503e-6\n"
     ]
    },
    {
     "name": "stdout",
     "output_type": "stream",
     "text": [
      "epoch 8825: batch_loss = 9.1239683240502e-6\n"
     ]
    },
    {
     "name": "stdout",
     "output_type": "stream",
     "text": [
      "epoch 8850: batch_loss = 9.055787692556515e-6\n"
     ]
    },
    {
     "name": "stdout",
     "output_type": "stream",
     "text": [
      "epoch 8875: batch_loss = 8.987831701909627e-6\n"
     ]
    },
    {
     "name": "stdout",
     "output_type": "stream",
     "text": [
      "epoch 8900: batch_loss = 8.92057203600622e-6\n"
     ]
    },
    {
     "name": "stdout",
     "output_type": "stream",
     "text": [
      "epoch 8925: batch_loss = 8.85352252098166e-6\n"
     ]
    },
    {
     "name": "stdout",
     "output_type": "stream",
     "text": [
      "epoch 8950: batch_loss = 8.787204786261297e-6\n"
     ]
    },
    {
     "name": "stdout",
     "output_type": "stream",
     "text": [
      "epoch 8975: batch_loss = 8.720966615674589e-6\n"
     ]
    },
    {
     "name": "stdout",
     "output_type": "stream",
     "text": [
      "epoch 9000: batch_loss = 8.65571019259296e-6\n"
     ]
    },
    {
     "name": "stdout",
     "output_type": "stream",
     "text": [
      "epoch 9025: batch_loss = 8.59010864694487e-6\n"
     ]
    },
    {
     "name": "stdout",
     "output_type": "stream",
     "text": [
      "epoch 9050: batch_loss = 8.525789496590582e-6\n"
     ]
    },
    {
     "name": "stdout",
     "output_type": "stream",
     "text": [
      "epoch 9075: batch_loss = 8.460706604282683e-6\n"
     ]
    },
    {
     "name": "stdout",
     "output_type": "stream",
     "text": [
      "epoch 9100: batch_loss = 8.397235746573012e-6\n"
     ]
    },
    {
     "name": "stdout",
     "output_type": "stream",
     "text": [
      "epoch 9125: batch_loss = 8.33317839248622e-6\n"
     ]
    },
    {
     "name": "stdout",
     "output_type": "stream",
     "text": [
      "epoch 9150: batch_loss = 8.270960163045655e-6\n"
     ]
    },
    {
     "name": "stdout",
     "output_type": "stream",
     "text": [
      "epoch 9175: batch_loss = 8.206967235074022e-6\n"
     ]
    },
    {
     "name": "stdout",
     "output_type": "stream",
     "text": [
      "epoch 9200: batch_loss = 8.149395705166679e-6\n"
     ]
    },
    {
     "name": "stdout",
     "output_type": "stream",
     "text": [
      "epoch 9225: batch_loss = 8.066700696701342e-6\n"
     ]
    },
    {
     "name": "stdout",
     "output_type": "stream",
     "text": [
      "epoch 9250: batch_loss = 8.199194190186415e-6\n"
     ]
    },
    {
     "name": "stdout",
     "output_type": "stream",
     "text": [
      "epoch 9275: batch_loss = 8.492827266225782e-6\n"
     ]
    },
    {
     "name": "stdout",
     "output_type": "stream",
     "text": [
      "epoch 9300: batch_loss = 7.887885575551732e-6\n"
     ]
    },
    {
     "name": "stdout",
     "output_type": "stream",
     "text": [
      "epoch 9325: batch_loss = 7.8203123710549e-6\n"
     ]
    },
    {
     "name": "stdout",
     "output_type": "stream",
     "text": [
      "epoch 9350: batch_loss = 7.763145015637046e-6\n"
     ]
    },
    {
     "name": "stdout",
     "output_type": "stream",
     "text": [
      "epoch 9375: batch_loss = 7.707489943190979e-6\n"
     ]
    },
    {
     "name": "stdout",
     "output_type": "stream",
     "text": [
      "epoch 9400: batch_loss = 7.650971958920605e-6\n"
     ]
    },
    {
     "name": "stdout",
     "output_type": "stream",
     "text": [
      "epoch 9425: batch_loss = 7.59541255159346e-6\n"
     ]
    },
    {
     "name": "stdout",
     "output_type": "stream",
     "text": [
      "epoch 9450: batch_loss = 7.5389564035950005e-6\n"
     ]
    },
    {
     "name": "stdout",
     "output_type": "stream",
     "text": [
      "epoch 9475: batch_loss = 7.485642881617106e-6\n"
     ]
    },
    {
     "name": "stdout",
     "output_type": "stream",
     "text": [
      "epoch 9500: batch_loss = 7.4166901401659845e-6\n"
     ]
    },
    {
     "name": "stdout",
     "output_type": "stream",
     "text": [
      "epoch 9525: batch_loss = 7.563490069358424e-6\n"
     ]
    },
    {
     "name": "stdout",
     "output_type": "stream",
     "text": [
      "epoch 9550: batch_loss = 8.405045677181902e-6\n"
     ]
    },
    {
     "name": "stdout",
     "output_type": "stream",
     "text": [
      "epoch 9575: batch_loss = 7.224434382335438e-6\n"
     ]
    },
    {
     "name": "stdout",
     "output_type": "stream",
     "text": [
      "epoch 9600: batch_loss = 7.18219268407468e-6\n"
     ]
    },
    {
     "name": "stdout",
     "output_type": "stream",
     "text": [
      "epoch 9625: batch_loss = 7.132331864856098e-6\n"
     ]
    },
    {
     "name": "stdout",
     "output_type": "stream",
     "text": [
      "epoch 9650: batch_loss = 7.082550183403791e-6\n"
     ]
    },
    {
     "name": "stdout",
     "output_type": "stream",
     "text": [
      "epoch 9675: batch_loss = 7.032379962054032e-6\n"
     ]
    },
    {
     "name": "stdout",
     "output_type": "stream",
     "text": [
      "epoch 9700: batch_loss = 6.982542072070266e-6\n"
     ]
    },
    {
     "name": "stdout",
     "output_type": "stream",
     "text": [
      "epoch 9725: batch_loss = 6.932291615507073e-6\n"
     ]
    },
    {
     "name": "stdout",
     "output_type": "stream",
     "text": [
      "epoch 9750: batch_loss = 6.883336575779692e-6\n"
     ]
    },
    {
     "name": "stdout",
     "output_type": "stream",
     "text": [
      "epoch 9775: batch_loss = 6.821924345202737e-6\n"
     ]
    },
    {
     "name": "stdout",
     "output_type": "stream",
     "text": [
      "epoch 9800: batch_loss = 7.229737363323721e-6\n"
     ]
    },
    {
     "name": "stdout",
     "output_type": "stream",
     "text": [
      "epoch 9825: batch_loss = 6.74756005785974e-6\n"
     ]
    },
    {
     "name": "stdout",
     "output_type": "stream",
     "text": [
      "epoch 9850: batch_loss = 6.647866305121958e-6\n"
     ]
    },
    {
     "name": "stdout",
     "output_type": "stream",
     "text": [
      "epoch 9875: batch_loss = 6.600997603131916e-6\n"
     ]
    },
    {
     "name": "stdout",
     "output_type": "stream",
     "text": [
      "epoch 9900: batch_loss = 6.5566193525226066e-6\n"
     ]
    },
    {
     "name": "stdout",
     "output_type": "stream",
     "text": [
      "epoch 9925: batch_loss = 6.512710320958189e-6\n"
     ]
    },
    {
     "name": "stdout",
     "output_type": "stream",
     "text": [
      "epoch 9950: batch_loss = 6.4680497655247485e-6\n"
     ]
    },
    {
     "name": "stdout",
     "output_type": "stream",
     "text": [
      "epoch 9975: batch_loss = 6.42375488230588e-6\n"
     ]
    },
    {
     "name": "stdout",
     "output_type": "stream",
     "text": [
      "epoch 10000: batch_loss = 6.378850461343571e-6\n"
     ]
    },
    {
     "data": {
      "text/plain": [
       "Chain(\n",
       "  Dense(1 => 4, #147; bias=false),      \u001b[90m# 4 parameters\u001b[39m\n",
       ") "
      ]
     },
     "metadata": {},
     "output_type": "display_data"
    }
   ],
   "source": [
    "m = main(;epochs=10000)"
   ]
  },
  {
   "cell_type": "code",
   "execution_count": null,
   "metadata": {},
   "outputs": [],
   "source": [
    "# Todo: code to create saturation envelopes for given envelopes"
   ]
  },
  {
   "cell_type": "code",
   "execution_count": 47,
   "metadata": {},
   "outputs": [
    {
     "data": {
      "text/plain": [
       "4×1 Matrix{Float32}:\n",
       " -0.5202797\n",
       "  0.48394737\n",
       "  0.06521285\n",
       "  0.03438539"
      ]
     },
     "metadata": {},
     "output_type": "display_data"
    }
   ],
   "source": [
    "fieldnames(typeof(m.layers[1]))\n",
    "m.layers[1].weight"
   ]
  },
  {
   "cell_type": "code",
   "execution_count": 48,
   "metadata": {},
   "outputs": [
    {
     "data": {
      "text/plain": [
       "4-element Vector{Float64}:\n",
       "   1.9797202944755554\n",
       "   3.983947366476059\n",
       "  12.652128532528877\n",
       " 253.43853905797005"
      ]
     },
     "metadata": {},
     "output_type": "display_data"
    }
   ],
   "source": [
    "b = [2.5, 3.5, 12, 250.0]\n",
    "# b = [2.0, 4.0, 250.0]\n",
    "c = Float64[1, 1, 10, 100]\n",
    "# b = [2.0, 4.0]\n",
    "# c = Float64[1, 1]\n",
    "params = m([1.0]) .* c .+ b"
   ]
  },
  {
   "cell_type": "code",
   "execution_count": 60,
   "metadata": {},
   "outputs": [
    {
     "data": {
      "image/png": "[encoded data removed]",
      "image/svg+xml": [
       "<?xml version=\"1.0\" encoding=\"utf-8\"?>\n",
       "<svg xmlns=\"http://www.w3.org/2000/svg\" xmlns:xlink=\"http://www.w3.org/1999/xlink\" width=\"600\" height=\"400\" viewBox=\"0 0 2400 1600\">\n",
       "<defs>\n",
       "  <clipPath id=\"clip410\">\n",
       "    <rect x=\"0\" y=\"0\" width=\"2400\" height=\"1600\"/>\n",
       "  </clipPath>\n",
       "</defs>\n",
       "<path clip-path=\"url(#clip410)\" d=\"M0 1600 L2400 1600 L2400 0 L0 0  Z\" fill=\"#ffffff\" fill-rule=\"evenodd\" fill-opacity=\"1\"/>\n",
       "<defs>\n",
       "  <clipPath id=\"clip411\">\n",
       "    <rect x=\"480\" y=\"0\" width=\"1681\" height=\"1600\"/>\n",
       "  </clipPath>\n",
       "</defs>\n",
       "<path clip-path=\"url(#clip410)\" d=\"M235.283 1423.18 L2352.76 1423.18 L2352.76 47.2441 L235.283 47.2441  Z\" fill=\"#ffffff\" fill-rule=\"evenodd\" fill-opacity=\"1\"/>\n",
       "<defs>\n",
       "  <clipPath id=\"clip412\">\n",
       "    <rect x=\"235\" y=\"47\" width=\"2118\" height=\"1377\"/>\n",
       "  </clipPath>\n",
       "</defs>\n",
       "<polyline clip-path=\"url(#clip412)\" style=\"stroke:#000000; stroke-linecap:round; stroke-linejoin:round; stroke-width:2; stroke-opacity:0.1; fill:none\" points=\"324.808,1423.18 324.808,47.2441 \"/>\n",
       "<polyline clip-path=\"url(#clip412)\" style=\"stroke:#000000; stroke-linecap:round; stroke-linejoin:round; stroke-width:2; stroke-opacity:0.1; fill:none\" points=\"893.042,1423.18 893.042,47.2441 \"/>\n",
       "<polyline clip-path=\"url(#clip412)\" style=\"stroke:#000000; stroke-linecap:round; stroke-linejoin:round; stroke-width:2; stroke-opacity:0.1; fill:none\" points=\"1461.28,1423.18 1461.28,47.2441 \"/>\n",
       "<polyline clip-path=\"url(#clip412)\" style=\"stroke:#000000; stroke-linecap:round; stroke-linejoin:round; stroke-width:2; stroke-opacity:0.1; fill:none\" points=\"2029.51,1423.18 2029.51,47.2441 \"/>\n",
       "<polyline clip-path=\"url(#clip410)\" style=\"stroke:#000000; stroke-linecap:round; stroke-linejoin:round; stroke-width:4; stroke-opacity:1; fill:none\" points=\"235.283,1423.18 2352.76,1423.18 \"/>\n",
       "<polyline clip-path=\"url(#clip410)\" style=\"stroke:#000000; stroke-linecap:round; stroke-linejoin:round; stroke-width:4; stroke-opacity:1; fill:none\" points=\"235.283,47.2441 2352.76,47.2441 \"/>\n",
       "<polyline clip-path=\"url(#clip410)\" style=\"stroke:#000000; stroke-linecap:round; stroke-linejoin:round; stroke-width:4; stroke-opacity:1; fill:none\" points=\"324.808,1423.18 324.808,1404.28 \"/>\n",
       "<polyline clip-path=\"url(#clip410)\" style=\"stroke:#000000; stroke-linecap:round; stroke-linejoin:round; stroke-width:4; stroke-opacity:1; fill:none\" points=\"893.042,1423.18 893.042,1404.28 \"/>\n",
       "<polyline clip-path=\"url(#clip410)\" style=\"stroke:#000000; stroke-linecap:round; stroke-linejoin:round; stroke-width:4; stroke-opacity:1; fill:none\" points=\"1461.28,1423.18 1461.28,1404.28 \"/>\n",
       "<polyline clip-path=\"url(#clip410)\" style=\"stroke:#000000; stroke-linecap:round; stroke-linejoin:round; stroke-width:4; stroke-opacity:1; fill:none\" points=\"2029.51,1423.18 2029.51,1404.28 \"/>\n",
       "<path clip-path=\"url(#clip410)\" d=\"M293.708 1468.75 L323.384 1468.75 L323.384 1472.69 L293.708 1472.69 L293.708 1468.75 Z\" fill=\"#000000\" fill-rule=\"nonzero\" fill-opacity=\"1\" /><path clip-path=\"url(#clip410)\" d=\"M346.324 1455.09 L334.518 1473.54 L346.324 1473.54 L346.324 1455.09 M345.097 1451.02 L350.976 1451.02 L350.976 1473.54 L355.907 1473.54 L355.907 1477.43 L350.976 1477.43 L350.976 1485.58 L346.324 1485.58 L346.324 1477.43 L330.722 1477.43 L330.722 1472.92 L345.097 1451.02 Z\" fill=\"#000000\" fill-rule=\"nonzero\" fill-opacity=\"1\" /><path clip-path=\"url(#clip410)\" d=\"M862.51 1468.75 L892.186 1468.75 L892.186 1472.69 L862.51 1472.69 L862.51 1468.75 Z\" fill=\"#000000\" fill-rule=\"nonzero\" fill-opacity=\"1\" /><path clip-path=\"url(#clip410)\" d=\"M916.445 1466.95 Q919.801 1467.66 921.676 1469.93 Q923.574 1472.2 923.574 1475.53 Q923.574 1480.65 920.056 1483.45 Q916.537 1486.25 910.056 1486.25 Q907.88 1486.25 905.565 1485.81 Q903.274 1485.39 900.82 1484.54 L900.82 1480.02 Q902.764 1481.16 905.079 1481.74 Q907.394 1482.32 909.917 1482.32 Q914.315 1482.32 916.607 1480.58 Q918.922 1478.84 918.922 1475.53 Q918.922 1472.48 916.769 1470.77 Q914.639 1469.03 910.82 1469.03 L906.792 1469.03 L906.792 1465.19 L911.005 1465.19 Q914.454 1465.19 916.283 1463.82 Q918.112 1462.43 918.112 1459.84 Q918.112 1457.18 916.213 1455.77 Q914.338 1454.33 910.82 1454.33 Q908.899 1454.33 906.7 1454.75 Q904.501 1455.16 901.862 1456.04 L901.862 1451.88 Q904.524 1451.14 906.838 1450.77 Q909.176 1450.39 911.237 1450.39 Q916.561 1450.39 919.662 1452.83 Q922.764 1455.23 922.764 1459.35 Q922.764 1462.22 921.121 1464.21 Q919.477 1466.18 916.445 1466.95 Z\" fill=\"#000000\" fill-rule=\"nonzero\" fill-opacity=\"1\" /><path clip-path=\"url(#clip410)\" d=\"M1431.22 1468.75 L1460.9 1468.75 L1460.9 1472.69 L1431.22 1472.69 L1431.22 1468.75 Z\" fill=\"#000000\" fill-rule=\"nonzero\" fill-opacity=\"1\" /><path clip-path=\"url(#clip410)\" d=\"M1475.02 1481.64 L1491.33 1481.64 L1491.33 1485.58 L1469.39 1485.58 L1469.39 1481.64 Q1472.05 1478.89 1476.64 1474.26 Q1481.24 1469.61 1482.42 1468.27 Q1484.67 1465.74 1485.55 1464.01 Q1486.45 1462.25 1486.45 1460.56 Q1486.45 1457.8 1484.51 1456.07 Q1482.58 1454.33 1479.48 1454.33 Q1477.28 1454.33 1474.83 1455.09 Q1472.4 1455.86 1469.62 1457.41 L1469.62 1452.69 Q1472.45 1451.55 1474.9 1450.97 Q1477.35 1450.39 1479.39 1450.39 Q1484.76 1450.39 1487.96 1453.08 Q1491.15 1455.77 1491.15 1460.26 Q1491.15 1462.39 1490.34 1464.31 Q1489.55 1466.2 1487.45 1468.8 Q1486.87 1469.47 1483.77 1472.69 Q1480.66 1475.88 1475.02 1481.64 Z\" fill=\"#000000\" fill-rule=\"nonzero\" fill-opacity=\"1\" /><path clip-path=\"url(#clip410)\" d=\"M1999.27 1468.75 L2028.94 1468.75 L2028.94 1472.69 L1999.27 1472.69 L1999.27 1468.75 Z\" fill=\"#000000\" fill-rule=\"nonzero\" fill-opacity=\"1\" /><path clip-path=\"url(#clip410)\" d=\"M2039.85 1481.64 L2047.49 1481.64 L2047.49 1455.28 L2039.18 1456.95 L2039.18 1452.69 L2047.44 1451.02 L2052.12 1451.02 L2052.12 1481.64 L2059.75 1481.64 L2059.75 1485.58 L2039.85 1485.58 L2039.85 1481.64 Z\" fill=\"#000000\" fill-rule=\"nonzero\" fill-opacity=\"1\" /><path clip-path=\"url(#clip410)\" d=\"M1084.49 1518.52 L1090.35 1518.52 L1090.35 1568.04 L1084.49 1568.04 L1084.49 1518.52 Z\" fill=\"#000000\" fill-rule=\"nonzero\" fill-opacity=\"1\" /><path clip-path=\"url(#clip410)\" d=\"M1116.42 1536.5 Q1111.71 1536.5 1108.97 1540.19 Q1106.23 1543.85 1106.23 1550.25 Q1106.23 1556.65 1108.94 1560.34 Q1111.67 1564 1116.42 1564 Q1121.09 1564 1123.83 1560.31 Q1126.57 1556.62 1126.57 1550.25 Q1126.57 1543.92 1123.83 1540.23 Q1121.09 1536.5 1116.42 1536.5 M1116.42 1531.54 Q1124.06 1531.54 1128.42 1536.5 Q1132.78 1541.47 1132.78 1550.25 Q1132.78 1559 1128.42 1564 Q1124.06 1568.97 1116.42 1568.97 Q1108.75 1568.97 1104.38 1564 Q1100.06 1559 1100.06 1550.25 Q1100.06 1541.47 1104.38 1536.5 Q1108.75 1531.54 1116.42 1531.54 Z\" fill=\"#000000\" fill-rule=\"nonzero\" fill-opacity=\"1\" /><path clip-path=\"url(#clip410)\" d=\"M1165.94 1549.81 Q1165.94 1543.44 1163.3 1539.94 Q1160.69 1536.44 1155.95 1536.44 Q1151.24 1536.44 1148.59 1539.94 Q1145.98 1543.44 1145.98 1549.81 Q1145.98 1556.14 1148.59 1559.64 Q1151.24 1563.14 1155.95 1563.14 Q1160.69 1563.14 1163.3 1559.64 Q1165.94 1556.14 1165.94 1549.81 M1171.8 1563.62 Q1171.8 1572.72 1167.76 1577.15 Q1163.71 1581.6 1155.37 1581.6 Q1152.29 1581.6 1149.55 1581.13 Q1146.81 1580.68 1144.23 1579.72 L1144.23 1574.03 Q1146.81 1575.43 1149.33 1576.1 Q1151.84 1576.76 1154.45 1576.76 Q1160.21 1576.76 1163.08 1573.74 Q1165.94 1570.75 1165.94 1564.67 L1165.94 1561.77 Q1164.13 1564.92 1161.29 1566.48 Q1158.46 1568.04 1154.51 1568.04 Q1147.96 1568.04 1143.95 1563.05 Q1139.94 1558.05 1139.94 1549.81 Q1139.94 1541.53 1143.95 1536.53 Q1147.96 1531.54 1154.51 1531.54 Q1158.46 1531.54 1161.29 1533.1 Q1164.13 1534.66 1165.94 1537.81 L1165.94 1532.4 L1171.8 1532.4 L1171.8 1563.62 Z\" fill=\"#000000\" fill-rule=\"nonzero\" fill-opacity=\"1\" /><path clip-path=\"url(#clip410)\" d=\"M1185.8 1562.63 L1196.31 1562.63 L1196.31 1526.38 L1184.88 1528.67 L1184.88 1522.82 L1196.24 1520.52 L1202.67 1520.52 L1202.67 1562.63 L1213.17 1562.63 L1213.17 1568.04 L1185.8 1568.04 L1185.8 1562.63 Z\" fill=\"#000000\" fill-rule=\"nonzero\" fill-opacity=\"1\" /><path clip-path=\"url(#clip410)\" d=\"M1239.91 1524.76 Q1234.95 1524.76 1232.43 1529.66 Q1229.95 1534.53 1229.95 1544.33 Q1229.95 1554.1 1232.43 1559 Q1234.95 1563.87 1239.91 1563.87 Q1244.91 1563.87 1247.39 1559 Q1249.91 1554.1 1249.91 1544.33 Q1249.91 1534.53 1247.39 1529.66 Q1244.91 1524.76 1239.91 1524.76 M1239.91 1519.66 Q1247.9 1519.66 1252.1 1526 Q1256.33 1532.3 1256.33 1544.33 Q1256.33 1556.33 1252.1 1562.66 Q1247.9 1568.97 1239.91 1568.97 Q1231.92 1568.97 1227.69 1562.66 Q1223.49 1556.33 1223.49 1544.33 Q1223.49 1532.3 1227.69 1526 Q1231.92 1519.66 1239.91 1519.66 Z\" fill=\"#000000\" fill-rule=\"nonzero\" fill-opacity=\"1\" /><path clip-path=\"url(#clip410)\" d=\"M1280.87 1518.58 Q1276.61 1525.9 1274.54 1533.06 Q1272.47 1540.23 1272.47 1547.58 Q1272.47 1554.93 1274.54 1562.16 Q1276.64 1569.35 1280.87 1576.64 L1275.78 1576.64 Q1271.01 1569.16 1268.62 1561.93 Q1266.26 1554.71 1266.26 1547.58 Q1266.26 1540.48 1268.62 1533.29 Q1270.98 1526.09 1275.78 1518.58 L1280.87 1518.58 Z\" fill=\"#000000\" fill-rule=\"nonzero\" fill-opacity=\"1\" /><path clip-path=\"url(#clip410)\" d=\"M1304.75 1568.04 L1286.6 1520.52 L1293.32 1520.52 L1308.37 1560.53 L1323.46 1520.52 L1330.14 1520.52 L1312.03 1568.04 L1304.75 1568.04 Z\" fill=\"#000000\" fill-rule=\"nonzero\" fill-opacity=\"1\" /><path clip-path=\"url(#clip410)\" d=\"M1367.96 1520.52 L1373.37 1520.52 L1356.82 1574.09 L1351.41 1574.09 L1367.96 1520.52 Z\" fill=\"#000000\" fill-rule=\"nonzero\" fill-opacity=\"1\" /><path clip-path=\"url(#clip410)\" d=\"M1427.99 1539.24 Q1430.18 1535.29 1433.24 1533.41 Q1436.29 1531.54 1440.43 1531.54 Q1446 1531.54 1449.02 1535.45 Q1452.05 1539.33 1452.05 1546.53 L1452.05 1568.04 L1446.16 1568.04 L1446.16 1546.72 Q1446.16 1541.59 1444.35 1539.11 Q1442.53 1536.63 1438.81 1536.63 Q1434.26 1536.63 1431.61 1539.65 Q1428.97 1542.68 1428.97 1547.9 L1428.97 1568.04 L1423.08 1568.04 L1423.08 1546.72 Q1423.08 1541.56 1421.27 1539.11 Q1419.46 1536.63 1415.67 1536.63 Q1411.18 1536.63 1408.54 1539.68 Q1405.9 1542.71 1405.9 1547.9 L1405.9 1568.04 L1400.01 1568.04 L1400.01 1532.4 L1405.9 1532.4 L1405.9 1537.93 Q1407.9 1534.66 1410.7 1533.1 Q1413.5 1531.54 1417.35 1531.54 Q1421.24 1531.54 1423.94 1533.51 Q1426.68 1535.48 1427.99 1539.24 Z\" fill=\"#000000\" fill-rule=\"nonzero\" fill-opacity=\"1\" /><path clip-path=\"url(#clip410)\" d=\"M1474.26 1532.4 Q1477.19 1532.97 1478.78 1534.72 Q1480.41 1536.44 1480.41 1539.05 Q1480.41 1542.99 1477.38 1545.13 Q1474.36 1547.26 1468.73 1547.26 Q1466.91 1547.26 1464.91 1546.94 Q1462.93 1546.59 1460.71 1545.95 L1460.71 1542.1 Q1462.36 1542.96 1464.24 1543.38 Q1466.15 1543.79 1468.28 1543.79 Q1471.75 1543.79 1473.66 1542.55 Q1475.57 1541.28 1475.57 1539.05 Q1475.57 1536.69 1473.79 1535.48 Q1472.04 1534.27 1468.6 1534.27 L1465.86 1534.27 L1465.86 1530.84 L1468.85 1530.84 Q1471.85 1530.84 1473.37 1529.85 Q1474.93 1528.83 1474.93 1526.92 Q1474.93 1525.08 1473.34 1524.12 Q1471.75 1523.13 1468.73 1523.13 Q1467.45 1523.13 1465.83 1523.42 Q1464.21 1523.71 1461.63 1524.44 L1461.63 1520.78 Q1463.95 1520.24 1465.99 1519.95 Q1468.03 1519.66 1469.78 1519.66 Q1474.36 1519.66 1477.03 1521.54 Q1479.74 1523.42 1479.74 1526.57 Q1479.74 1528.77 1478.31 1530.3 Q1476.87 1531.82 1474.26 1532.4 Z\" fill=\"#000000\" fill-rule=\"nonzero\" fill-opacity=\"1\" /><path clip-path=\"url(#clip410)\" d=\"M1488.94 1518.58 L1494.03 1518.58 Q1498.8 1526.09 1501.16 1533.29 Q1503.55 1540.48 1503.55 1547.58 Q1503.55 1554.71 1501.16 1561.93 Q1498.8 1569.16 1494.03 1576.64 L1488.94 1576.64 Q1493.17 1569.35 1495.24 1562.16 Q1497.34 1554.93 1497.34 1547.58 Q1497.34 1540.23 1495.24 1533.06 Q1493.17 1525.9 1488.94 1518.58 Z\" fill=\"#000000\" fill-rule=\"nonzero\" fill-opacity=\"1\" /><polyline clip-path=\"url(#clip412)\" style=\"stroke:#000000; stroke-linecap:round; stroke-linejoin:round; stroke-width:2; stroke-opacity:0.1; fill:none\" points=\"235.283,1181.66 2352.76,1181.66 \"/>\n",
       "<polyline clip-path=\"url(#clip412)\" style=\"stroke:#000000; stroke-linecap:round; stroke-linejoin:round; stroke-width:2; stroke-opacity:0.1; fill:none\" points=\"235.283,881.682 2352.76,881.682 \"/>\n",
       "<polyline clip-path=\"url(#clip412)\" style=\"stroke:#000000; stroke-linecap:round; stroke-linejoin:round; stroke-width:2; stroke-opacity:0.1; fill:none\" points=\"235.283,581.71 2352.76,581.71 \"/>\n",
       "<polyline clip-path=\"url(#clip412)\" style=\"stroke:#000000; stroke-linecap:round; stroke-linejoin:round; stroke-width:2; stroke-opacity:0.1; fill:none\" points=\"235.283,281.737 2352.76,281.737 \"/>\n",
       "<polyline clip-path=\"url(#clip410)\" style=\"stroke:#000000; stroke-linecap:round; stroke-linejoin:round; stroke-width:4; stroke-opacity:1; fill:none\" points=\"235.283,1423.18 235.283,47.2441 \"/>\n",
       "<polyline clip-path=\"url(#clip410)\" style=\"stroke:#000000; stroke-linecap:round; stroke-linejoin:round; stroke-width:4; stroke-opacity:1; fill:none\" points=\"2352.76,1423.18 2352.76,47.2441 \"/>\n",
       "<polyline clip-path=\"url(#clip410)\" style=\"stroke:#000000; stroke-linecap:round; stroke-linejoin:round; stroke-width:4; stroke-opacity:1; fill:none\" points=\"235.283,1181.66 254.18,1181.66 \"/>\n",
       "<polyline clip-path=\"url(#clip410)\" style=\"stroke:#000000; stroke-linecap:round; stroke-linejoin:round; stroke-width:4; stroke-opacity:1; fill:none\" points=\"235.283,881.682 254.18,881.682 \"/>\n",
       "<polyline clip-path=\"url(#clip410)\" style=\"stroke:#000000; stroke-linecap:round; stroke-linejoin:round; stroke-width:4; stroke-opacity:1; fill:none\" points=\"235.283,581.71 254.18,581.71 \"/>\n",
       "<polyline clip-path=\"url(#clip410)\" style=\"stroke:#000000; stroke-linecap:round; stroke-linejoin:round; stroke-width:4; stroke-opacity:1; fill:none\" points=\"235.283,281.737 254.18,281.737 \"/>\n",
       "<path clip-path=\"url(#clip410)\" d=\"M121.043 1195 L137.362 1195 L137.362 1198.94 L115.418 1198.94 L115.418 1195 Q118.08 1192.25 122.663 1187.62 Q127.269 1182.96 128.45 1181.62 Q130.695 1179.1 131.575 1177.36 Q132.478 1175.6 132.478 1173.91 Q132.478 1171.16 130.533 1169.42 Q128.612 1167.69 125.51 1167.69 Q123.311 1167.69 120.857 1168.45 Q118.427 1169.21 115.649 1170.76 L115.649 1166.04 Q118.473 1164.91 120.927 1164.33 Q123.38 1163.75 125.418 1163.75 Q130.788 1163.75 133.982 1166.44 Q137.177 1169.12 137.177 1173.61 Q137.177 1175.74 136.367 1177.66 Q135.579 1179.56 133.473 1182.15 Q132.894 1182.82 129.792 1186.04 Q126.691 1189.24 121.043 1195 Z\" fill=\"#000000\" fill-rule=\"nonzero\" fill-opacity=\"1\" /><path clip-path=\"url(#clip410)\" d=\"M147.223 1164.38 L165.579 1164.38 L165.579 1168.31 L151.505 1168.31 L151.505 1176.78 Q152.524 1176.44 153.542 1176.27 Q154.561 1176.09 155.579 1176.09 Q161.366 1176.09 164.746 1179.26 Q168.126 1182.43 168.126 1187.85 Q168.126 1193.43 164.653 1196.53 Q161.181 1199.61 154.862 1199.61 Q152.686 1199.61 150.417 1199.24 Q148.172 1198.87 145.765 1198.12 L145.765 1193.43 Q147.848 1194.56 150.07 1195.12 Q152.292 1195.67 154.769 1195.67 Q158.774 1195.67 161.112 1193.56 Q163.45 1191.46 163.45 1187.85 Q163.45 1184.24 161.112 1182.13 Q158.774 1180.02 154.769 1180.02 Q152.894 1180.02 151.019 1180.44 Q149.167 1180.86 147.223 1181.74 L147.223 1164.38 Z\" fill=\"#000000\" fill-rule=\"nonzero\" fill-opacity=\"1\" /><path clip-path=\"url(#clip410)\" d=\"M187.338 1167.45 Q183.727 1167.45 181.899 1171.02 Q180.093 1174.56 180.093 1181.69 Q180.093 1188.8 181.899 1192.36 Q183.727 1195.9 187.338 1195.9 Q190.973 1195.9 192.778 1192.36 Q194.607 1188.8 194.607 1181.69 Q194.607 1174.56 192.778 1171.02 Q190.973 1167.45 187.338 1167.45 M187.338 1163.75 Q193.149 1163.75 196.204 1168.36 Q199.283 1172.94 199.283 1181.69 Q199.283 1190.42 196.204 1195.02 Q193.149 1199.61 187.338 1199.61 Q181.528 1199.61 178.45 1195.02 Q175.394 1190.42 175.394 1181.69 Q175.394 1172.94 178.45 1168.36 Q181.528 1163.75 187.338 1163.75 Z\" fill=\"#000000\" fill-rule=\"nonzero\" fill-opacity=\"1\" /><path clip-path=\"url(#clip410)\" d=\"M131.181 880.328 Q134.538 881.046 136.413 883.314 Q138.311 885.583 138.311 888.916 Q138.311 894.032 134.792 896.833 Q131.274 899.634 124.793 899.634 Q122.617 899.634 120.302 899.194 Q118.01 898.777 115.556 897.921 L115.556 893.407 Q117.501 894.541 119.816 895.12 Q122.13 895.699 124.654 895.699 Q129.052 895.699 131.343 893.963 Q133.658 892.226 133.658 888.916 Q133.658 885.861 131.505 884.148 Q129.376 882.412 125.556 882.412 L121.529 882.412 L121.529 878.569 L125.742 878.569 Q129.191 878.569 131.019 877.203 Q132.848 875.814 132.848 873.222 Q132.848 870.56 130.95 869.148 Q129.075 867.713 125.556 867.713 Q123.635 867.713 121.436 868.129 Q119.237 868.546 116.598 869.426 L116.598 865.259 Q119.26 864.518 121.575 864.148 Q123.913 863.778 125.973 863.778 Q131.297 863.778 134.399 866.208 Q137.501 868.615 137.501 872.736 Q137.501 875.606 135.857 877.597 Q134.214 879.564 131.181 880.328 Z\" fill=\"#000000\" fill-rule=\"nonzero\" fill-opacity=\"1\" /><path clip-path=\"url(#clip410)\" d=\"M157.177 867.481 Q153.566 867.481 151.737 871.046 Q149.931 874.588 149.931 881.717 Q149.931 888.824 151.737 892.388 Q153.566 895.93 157.177 895.93 Q160.811 895.93 162.616 892.388 Q164.445 888.824 164.445 881.717 Q164.445 874.588 162.616 871.046 Q160.811 867.481 157.177 867.481 M157.177 863.778 Q162.987 863.778 166.042 868.384 Q169.121 872.967 169.121 881.717 Q169.121 890.444 166.042 895.05 Q162.987 899.634 157.177 899.634 Q151.366 899.634 148.288 895.05 Q145.232 890.444 145.232 881.717 Q145.232 872.967 148.288 868.384 Q151.366 863.778 157.177 863.778 Z\" fill=\"#000000\" fill-rule=\"nonzero\" fill-opacity=\"1\" /><path clip-path=\"url(#clip410)\" d=\"M187.338 867.481 Q183.727 867.481 181.899 871.046 Q180.093 874.588 180.093 881.717 Q180.093 888.824 181.899 892.388 Q183.727 895.93 187.338 895.93 Q190.973 895.93 192.778 892.388 Q194.607 888.824 194.607 881.717 Q194.607 874.588 192.778 871.046 Q190.973 867.481 187.338 867.481 M187.338 863.778 Q193.149 863.778 196.204 868.384 Q199.283 872.967 199.283 881.717 Q199.283 890.444 196.204 895.05 Q193.149 899.634 187.338 899.634 Q181.528 899.634 178.45 895.05 Q175.394 890.444 175.394 881.717 Q175.394 872.967 178.45 868.384 Q181.528 863.778 187.338 863.778 Z\" fill=\"#000000\" fill-rule=\"nonzero\" fill-opacity=\"1\" /><path clip-path=\"url(#clip410)\" d=\"M131.181 580.356 Q134.538 581.073 136.413 583.342 Q138.311 585.61 138.311 588.944 Q138.311 594.059 134.792 596.86 Q131.274 599.661 124.793 599.661 Q122.617 599.661 120.302 599.221 Q118.01 598.805 115.556 597.948 L115.556 593.434 Q117.501 594.569 119.816 595.147 Q122.13 595.726 124.654 595.726 Q129.052 595.726 131.343 593.99 Q133.658 592.254 133.658 588.944 Q133.658 585.888 131.505 584.175 Q129.376 582.439 125.556 582.439 L121.529 582.439 L121.529 578.596 L125.742 578.596 Q129.191 578.596 131.019 577.231 Q132.848 575.842 132.848 573.249 Q132.848 570.587 130.95 569.175 Q129.075 567.74 125.556 567.74 Q123.635 567.74 121.436 568.157 Q119.237 568.573 116.598 569.453 L116.598 565.286 Q119.26 564.546 121.575 564.175 Q123.913 563.805 125.973 563.805 Q131.297 563.805 134.399 566.235 Q137.501 568.643 137.501 572.763 Q137.501 575.634 135.857 577.624 Q134.214 579.592 131.181 580.356 Z\" fill=\"#000000\" fill-rule=\"nonzero\" fill-opacity=\"1\" /><path clip-path=\"url(#clip410)\" d=\"M147.223 564.43 L165.579 564.43 L165.579 568.365 L151.505 568.365 L151.505 576.837 Q152.524 576.49 153.542 576.328 Q154.561 576.143 155.579 576.143 Q161.366 576.143 164.746 579.314 Q168.126 582.485 168.126 587.902 Q168.126 593.481 164.653 596.582 Q161.181 599.661 154.862 599.661 Q152.686 599.661 150.417 599.291 Q148.172 598.92 145.765 598.18 L145.765 593.481 Q147.848 594.615 150.07 595.17 Q152.292 595.726 154.769 595.726 Q158.774 595.726 161.112 593.62 Q163.45 591.513 163.45 587.902 Q163.45 584.291 161.112 582.184 Q158.774 580.078 154.769 580.078 Q152.894 580.078 151.019 580.495 Q149.167 580.911 147.223 581.791 L147.223 564.43 Z\" fill=\"#000000\" fill-rule=\"nonzero\" fill-opacity=\"1\" /><path clip-path=\"url(#clip410)\" d=\"M187.338 567.509 Q183.727 567.509 181.899 571.073 Q180.093 574.615 180.093 581.745 Q180.093 588.851 181.899 592.416 Q183.727 595.957 187.338 595.957 Q190.973 595.957 192.778 592.416 Q194.607 588.851 194.607 581.745 Q194.607 574.615 192.778 571.073 Q190.973 567.509 187.338 567.509 M187.338 563.805 Q193.149 563.805 196.204 568.411 Q199.283 572.995 199.283 581.745 Q199.283 590.471 196.204 595.078 Q193.149 599.661 187.338 599.661 Q181.528 599.661 178.45 595.078 Q175.394 590.471 175.394 581.745 Q175.394 572.995 178.45 568.411 Q181.528 563.805 187.338 563.805 Z\" fill=\"#000000\" fill-rule=\"nonzero\" fill-opacity=\"1\" /><path clip-path=\"url(#clip410)\" d=\"M129.862 268.531 L118.056 286.98 L129.862 286.98 L129.862 268.531 M128.635 264.457 L134.515 264.457 L134.515 286.98 L139.445 286.98 L139.445 290.869 L134.515 290.869 L134.515 299.017 L129.862 299.017 L129.862 290.869 L114.26 290.869 L114.26 286.355 L128.635 264.457 Z\" fill=\"#000000\" fill-rule=\"nonzero\" fill-opacity=\"1\" /><path clip-path=\"url(#clip410)\" d=\"M157.177 267.536 Q153.566 267.536 151.737 271.101 Q149.931 274.642 149.931 281.772 Q149.931 288.878 151.737 292.443 Q153.566 295.985 157.177 295.985 Q160.811 295.985 162.616 292.443 Q164.445 288.878 164.445 281.772 Q164.445 274.642 162.616 271.101 Q160.811 267.536 157.177 267.536 M157.177 263.832 Q162.987 263.832 166.042 268.439 Q169.121 273.022 169.121 281.772 Q169.121 290.499 166.042 295.105 Q162.987 299.689 157.177 299.689 Q151.366 299.689 148.288 295.105 Q145.232 290.499 145.232 281.772 Q145.232 273.022 148.288 268.439 Q151.366 263.832 157.177 263.832 Z\" fill=\"#000000\" fill-rule=\"nonzero\" fill-opacity=\"1\" /><path clip-path=\"url(#clip410)\" d=\"M187.338 267.536 Q183.727 267.536 181.899 271.101 Q180.093 274.642 180.093 281.772 Q180.093 288.878 181.899 292.443 Q183.727 295.985 187.338 295.985 Q190.973 295.985 192.778 292.443 Q194.607 288.878 194.607 281.772 Q194.607 274.642 192.778 271.101 Q190.973 267.536 187.338 267.536 M187.338 263.832 Q193.149 263.832 196.204 268.439 Q199.283 273.022 199.283 281.772 Q199.283 290.499 196.204 295.105 Q193.149 299.689 187.338 299.689 Q181.528 299.689 178.45 295.105 Q175.394 290.499 175.394 281.772 Q175.394 273.022 178.45 268.439 Q181.528 263.832 187.338 263.832 Z\" fill=\"#000000\" fill-rule=\"nonzero\" fill-opacity=\"1\" /><path clip-path=\"url(#clip410)\" d=\"M16.4842 808.975 L16.4842 768.775 L21.895 768.775 L21.895 785.644 L64.0042 785.644 L64.0042 792.105 L21.895 792.105 L21.895 808.975 L16.4842 808.975 Z\" fill=\"#000000\" fill-rule=\"nonzero\" fill-opacity=\"1\" /><path clip-path=\"url(#clip410)\" d=\"M16.4842 731.695 L16.4842 726.284 L70.0516 742.835 L70.0516 748.246 L16.4842 731.695 Z\" fill=\"#000000\" fill-rule=\"nonzero\" fill-opacity=\"1\" /><path clip-path=\"url(#clip410)\" d=\"M16.4842 699.166 L16.4842 692.737 L36.568 692.737 L16.4842 671.412 L16.4842 663.136 L38.6368 686.721 L64.0042 661.449 L64.0042 669.916 L41.1194 692.737 L64.0042 692.737 L64.0042 699.166 L16.4842 699.166 Z\" fill=\"#000000\" fill-rule=\"nonzero\" fill-opacity=\"1\" /><polyline clip-path=\"url(#clip412)\" style=\"stroke:#009af9; stroke-linecap:round; stroke-linejoin:round; stroke-width:8; stroke-opacity:1; fill:none\" points=\"295.211,1383.85 295.359,1381.25 295.506,1378.65 295.654,1376.05 295.802,1373.45 295.95,1370.85 296.098,1368.25 296.247,1365.65 296.396,1363.05 296.545,1360.45 296.695,1357.85 296.844,1355.25 296.994,1352.65 297.145,1350.05 297.295,1347.45 297.446,1344.85 297.597,1342.25 297.748,1339.65 297.899,1337.05 298.051,1334.45 298.203,1331.85 298.355,1329.25 298.508,1326.65 298.661,1324.05 298.814,1321.45 298.967,1318.85 299.121,1316.25 299.274,1313.65 299.428,1311.05 299.583,1308.45 299.737,1305.85 299.892,1303.25 300.047,1300.65 300.203,1298.05 300.359,1295.45 300.515,1292.85 300.671,1290.25 300.827,1287.65 300.984,1285.05 301.141,1282.45 301.299,1279.85 301.456,1277.25 301.614,1274.65 301.772,1272.05 301.931,1269.45 302.089,1266.85 302.249,1264.25 302.408,1261.65 302.567,1259.05 302.727,1256.45 302.888,1253.85 303.048,1251.25 303.209,1248.65 303.37,1246.05 303.531,1243.45 303.693,1240.85 303.855,1238.25 304.017,1235.65 304.179,1233.05 304.342,1230.45 304.505,1227.85 304.669,1225.25 304.833,1222.65 304.997,1220.05 305.161,1217.45 305.326,1214.85 305.491,1212.25 305.656,1209.65 305.821,1207.05 305.987,1204.45 306.153,1201.85 306.32,1199.25 306.487,1196.65 306.654,1194.05 306.821,1191.45 306.989,1188.85 307.157,1186.25 307.326,1183.65 307.494,1181.05 307.663,1178.45 307.833,1175.85 308.003,1173.25 308.173,1170.65 308.343,1168.05 308.514,1165.45 308.685,1162.85 308.856,1160.25 309.028,1157.65 309.2,1155.05 309.372,1152.45 309.545,1149.85 309.718,1147.25 309.891,1144.65 310.065,1142.05 310.239,1139.45 310.414,1136.85 310.588,1134.25 310.763,1131.65 310.939,1129.05 311.115,1126.45 311.291,1123.85 311.468,1121.25 311.644,1118.65 311.822,1116.05 311.999,1113.45 312.177,1110.85 312.356,1108.25 312.534,1105.65 312.713,1103.05 312.893,1100.45 313.073,1097.85 313.253,1095.25 313.433,1092.65 313.614,1090.05 313.796,1087.45 313.977,1084.85 314.16,1082.25 314.342,1079.65 314.525,1077.05 314.708,1074.45 314.892,1071.85 315.076,1069.25 315.26,1066.65 315.445,1064.05 315.63,1061.45 315.816,1058.85 316.002,1056.25 316.188,1053.65 316.375,1051.05 316.562,1048.45 316.75,1045.85 316.938,1043.25 317.126,1040.65 317.315,1038.05 317.504,1035.45 317.694,1032.85 317.884,1030.25 318.075,1027.65 318.265,1025.05 318.457,1022.45 318.649,1019.85 318.841,1017.25 319.033,1014.65 319.227,1012.05 319.42,1009.45 319.614,1006.85 319.808,1004.25 320.003,1001.65 320.198,999.05 320.394,996.45 320.59,993.85 320.787,991.25 320.984,988.65 321.182,986.05 321.38,983.45 321.578,980.85 321.777,978.25 321.976,975.65 322.176,973.05 322.376,970.45 322.577,967.85 322.778,965.25 322.98,962.65 323.182,960.05 323.385,957.45 323.588,954.85 323.792,952.25 323.996,949.65 324.201,947.05 324.406,944.45 324.612,941.85 324.818,939.25 325.024,936.65 325.232,934.05 325.439,931.45 325.647,928.85 325.856,926.25 326.065,923.65 326.275,921.05 326.485,918.45 326.696,915.85 326.907,913.25 327.119,910.65 327.331,908.05 327.544,905.449 327.758,902.849 327.972,900.249 328.186,897.649 328.401,895.049 328.617,892.449 328.833,889.849 329.05,887.249 329.267,884.649 329.485,882.049 329.704,879.449 329.923,876.849 330.142,874.249 330.362,871.649 330.583,869.049 330.804,866.449 331.026,863.849 331.249,861.249 331.472,858.649 331.696,856.049 331.92,853.449 332.145,850.849 332.37,848.249 332.597,845.649 332.823,843.049 333.051,840.449 333.279,837.849 333.507,835.249 333.737,832.649 333.967,830.049 334.197,827.449 334.428,824.849 334.66,822.249 334.893,819.649 335.126,817.049 335.36,814.449 335.594,811.849 335.829,809.249 336.065,806.649 336.302,804.049 336.539,801.449 336.777,798.849 337.015,796.249 337.254,793.649 337.494,791.049 337.735,788.449 337.976,785.849 338.218,783.249 338.461,780.649 338.705,778.049 338.949,775.449 339.194,772.849 339.44,770.249 339.686,767.649 339.933,765.049 340.181,762.449 340.43,759.849 340.679,757.249 340.93,754.649 341.181,752.049 341.432,749.449 341.685,746.849 341.938,744.249 342.193,741.649 342.448,739.049 342.703,736.449 342.96,733.849 343.217,731.249 343.476,728.649 343.735,726.049 343.994,723.449 344.255,720.849 344.517,718.249 344.779,715.649 345.043,713.048 345.307,710.448 345.572,707.848 345.838,705.248 346.104,702.648 346.372,700.048 346.641,697.448 346.91,694.848 347.181,692.248 347.452,689.648 347.724,687.048 347.997,684.448 348.272,681.848 348.547,679.248 348.823,676.648 349.1,674.048 349.378,671.448 349.657,668.848 349.937,666.248 350.218,663.648 350.499,661.048 350.782,658.448 351.066,655.848 351.351,653.248 351.637,650.648 351.925,648.048 352.213,645.448 352.502,642.848 352.792,640.248 353.083,637.648 353.376,635.048 353.669,632.448 353.964,629.848 354.26,627.248 354.557,624.648 354.855,622.048 355.154,619.448 355.454,616.848 355.756,614.248 356.058,611.648 356.362,609.048 356.667,606.448 356.973,603.848 357.281,601.248 357.589,598.648 357.899,596.048 358.211,593.448 358.523,590.848 358.837,588.248 359.152,585.648 359.468,583.048 359.786,580.448 360.105,577.848 360.425,575.248 360.746,572.648 361.069,570.048 361.394,567.448 361.719,564.848 362.047,562.248 362.375,559.648 362.705,557.048 363.037,554.448 363.369,551.848 363.704,549.248 364.04,546.648 364.377,544.048 364.716,541.448 365.056,538.848 365.398,536.248 365.742,533.648 366.087,531.048 366.433,528.448 366.782,525.848 367.132,523.247 367.483,520.647 367.836,518.047 368.191,515.447 368.548,512.847 368.906,510.247 369.266,507.647 369.628,505.047 369.992,502.447 370.357,499.847 370.724,497.247 371.094,494.647 371.465,492.047 371.837,489.447 372.212,486.847 372.589,484.247 372.967,481.647 373.348,479.047 373.73,476.447 374.115,473.847 374.502,471.247 374.89,468.647 375.281,466.047 375.674,463.447 376.069,460.847 376.466,458.247 376.866,455.647 377.268,453.047 377.672,450.447 378.078,447.847 378.486,445.247 378.897,442.647 379.31,440.047 379.726,437.447 380.144,434.847 380.565,432.247 380.988,429.647 381.414,427.047 381.842,424.447 382.273,421.847 382.706,419.247 383.142,416.647 383.581,414.047 384.023,411.447 384.467,408.847 384.915,406.247 385.365,403.647 385.818,401.047 386.274,398.447 386.733,395.847 387.196,393.247 387.661,390.647 388.129,388.047 388.601,385.447 389.076,382.847 389.554,380.247 390.036,377.647 390.521,375.047 391.01,372.447 391.502,369.847 391.997,367.247 392.497,364.647 393,362.047 393.507,359.447 394.017,356.847 394.532,354.247 395.05,351.647 395.573,349.047 396.1,346.447 396.631,343.847 397.166,341.247 397.706,338.647 398.25,336.047 398.798,333.446 399.351,330.846 399.909,328.246 400.472,325.646 401.039,323.046 401.612,320.446 402.189,317.846 402.772,315.246 403.36,312.646 403.954,310.046 404.553,307.446 405.157,304.846 405.767,302.246 406.384,299.646 407.006,297.046 407.634,294.446 408.269,291.846 408.91,289.246 409.558,286.646 410.212,284.046 410.873,281.446 411.542,278.846 412.217,276.246 412.9,273.646 413.591,271.046 414.289,268.446 414.996,265.846 415.71,263.246 416.433,260.646 417.165,258.046 417.905,255.446 418.655,252.846 419.414,250.246 420.183,247.646 420.961,245.046 421.75,242.446 422.55,239.846 423.36,237.246 424.181,234.646 425.014,232.046 425.859,229.446 426.716,226.846 427.586,224.246 428.469,221.646 429.366,219.046 430.276,216.446 431.202,213.846 432.142,211.246 433.098,208.646 434.07,206.046 435.059,203.446 436.066,200.846 437.091,198.246 438.135,195.646 439.198,193.046 440.283,190.446 441.388,187.846 442.517,185.246 443.669,182.646 444.845,180.046 446.048,177.446 447.278,174.846 448.536,172.246 449.824,169.646 451.144,167.046 452.497,164.446 453.886,161.846 455.312,159.246 456.778,156.646 458.287,154.046 459.84,151.446 461.442,148.846 463.095,146.246 464.803,143.646 466.571,141.045 468.403,138.445 470.304,135.845 472.282,133.245 474.342,130.645 476.492,128.045 478.743,125.445 481.104,122.845 483.589,120.245 486.213,117.645 488.994,115.045 491.956,112.445 495.127,109.845 498.544,107.245 502.254,104.645 506.325,102.045 510.85,99.4453 515.973,96.8453 521.93,94.2452 529.174,91.6452 538.818,89.0452 557.389,86.4452 \"/>\n",
       "<polyline clip-path=\"url(#clip412)\" style=\"stroke:#009af9; stroke-linecap:round; stroke-linejoin:round; stroke-width:8; stroke-opacity:1; fill:none\" points=\"2292.44,1383.85 2285.99,1381.25 2279.58,1378.65 2273.19,1376.05 2266.84,1373.45 2260.51,1370.85 2254.22,1368.25 2247.95,1365.65 2241.72,1363.05 2235.51,1360.45 2229.33,1357.85 2223.18,1355.25 2217.06,1352.65 2210.97,1350.05 2204.91,1347.45 2198.87,1344.85 2192.86,1342.25 2186.88,1339.65 2180.93,1337.05 2175,1334.45 2169.1,1331.85 2163.23,1329.25 2157.38,1326.65 2151.56,1324.05 2145.77,1321.45 2140,1318.85 2134.26,1316.25 2128.54,1313.65 2122.85,1311.05 2117.19,1308.45 2111.55,1305.85 2105.94,1303.25 2100.35,1300.65 2094.78,1298.05 2089.25,1295.45 2083.73,1292.85 2078.24,1290.25 2072.77,1287.65 2067.33,1285.05 2061.91,1282.45 2056.52,1279.85 2051.15,1277.25 2045.8,1274.65 2040.47,1272.05 2035.17,1269.45 2029.89,1266.85 2024.64,1264.25 2019.4,1261.65 2014.19,1259.05 2009,1256.45 2003.84,1253.85 1998.69,1251.25 1993.57,1248.65 1988.47,1246.05 1983.39,1243.45 1978.33,1240.85 1973.3,1238.25 1968.28,1235.65 1963.29,1233.05 1958.31,1230.45 1953.36,1227.85 1948.43,1225.25 1943.52,1222.65 1938.63,1220.05 1933.76,1217.45 1928.91,1214.85 1924.08,1212.25 1919.26,1209.65 1914.47,1207.05 1909.7,1204.45 1904.95,1201.85 1900.22,1199.25 1895.51,1196.65 1890.81,1194.05 1886.14,1191.45 1881.48,1188.85 1876.84,1186.25 1872.22,1183.65 1867.62,1181.05 1863.04,1178.45 1858.48,1175.85 1853.93,1173.25 1849.41,1170.65 1844.9,1168.05 1840.41,1165.45 1835.93,1162.85 1831.48,1160.25 1827.04,1157.65 1822.62,1155.05 1818.21,1152.45 1813.82,1149.85 1809.45,1147.25 1805.1,1144.65 1800.77,1142.05 1796.45,1139.45 1792.14,1136.85 1787.86,1134.25 1783.59,1131.65 1779.33,1129.05 1775.1,1126.45 1770.88,1123.85 1766.67,1121.25 1762.48,1118.65 1758.31,1116.05 1754.15,1113.45 1750.01,1110.85 1745.88,1108.25 1741.77,1105.65 1737.67,1103.05 1733.59,1100.45 1729.53,1097.85 1725.48,1095.25 1721.44,1092.65 1717.42,1090.05 1713.41,1087.45 1709.42,1084.85 1705.45,1082.25 1701.48,1079.65 1697.53,1077.05 1693.6,1074.45 1689.68,1071.85 1685.78,1069.25 1681.88,1066.65 1678.01,1064.05 1674.14,1061.45 1670.29,1058.85 1666.46,1056.25 1662.63,1053.65 1658.82,1051.05 1655.03,1048.45 1651.25,1045.85 1647.48,1043.25 1643.72,1040.65 1639.98,1038.05 1636.25,1035.45 1632.53,1032.85 1628.82,1030.25 1625.13,1027.65 1621.45,1025.05 1617.79,1022.45 1614.13,1019.85 1610.49,1017.25 1606.86,1014.65 1603.25,1012.05 1599.64,1009.45 1596.05,1006.85 1592.47,1004.25 1588.9,1001.65 1585.34,999.05 1581.8,996.45 1578.26,993.85 1574.74,991.25 1571.23,988.65 1567.73,986.05 1564.25,983.45 1560.77,980.85 1557.31,978.25 1553.85,975.65 1550.41,973.05 1546.98,970.45 1543.56,967.85 1540.15,965.25 1536.75,962.65 1533.37,960.05 1529.99,957.45 1526.62,954.85 1523.27,952.25 1519.92,949.65 1516.59,947.05 1513.26,944.45 1509.95,941.85 1506.65,939.25 1503.35,936.65 1500.07,934.05 1496.8,931.45 1493.54,928.85 1490.28,926.25 1487.04,923.65 1483.81,921.05 1480.58,918.45 1477.37,915.85 1474.16,913.25 1470.97,910.65 1467.78,908.05 1464.61,905.449 1461.44,902.849 1458.29,900.249 1455.14,897.649 1452,895.049 1448.87,892.449 1445.75,889.849 1442.64,887.249 1439.53,884.649 1436.44,882.049 1433.36,879.449 1430.28,876.849 1427.21,874.249 1424.15,871.649 1421.1,869.049 1418.06,866.449 1415.03,863.849 1412,861.249 1408.99,858.649 1405.98,856.049 1402.98,853.449 1399.99,850.849 1397.01,848.249 1394.03,845.649 1391.06,843.049 1388.1,840.449 1385.15,837.849 1382.21,835.249 1379.27,832.649 1376.35,830.049 1373.43,827.449 1370.51,824.849 1367.61,822.249 1364.71,819.649 1361.82,817.049 1358.94,814.449 1356.06,811.849 1353.2,809.249 1350.34,806.649 1347.48,804.049 1344.64,801.449 1341.8,798.849 1338.97,796.249 1336.14,793.649 1333.33,791.049 1330.52,788.449 1327.71,785.849 1324.91,783.249 1322.12,780.649 1319.34,778.049 1316.56,775.449 1313.79,772.849 1311.03,770.249 1308.27,767.649 1305.52,765.049 1302.78,762.449 1300.04,759.849 1297.31,757.249 1294.59,754.649 1291.87,752.049 1289.16,749.449 1286.45,746.849 1283.75,744.249 1281.06,741.649 1278.37,739.049 1275.68,736.449 1273.01,733.849 1270.34,731.249 1267.67,728.649 1265.02,726.049 1262.36,723.449 1259.72,720.849 1257.07,718.249 1254.44,715.649 1251.81,713.048 1249.18,710.448 1246.56,707.848 1243.95,705.248 1241.34,702.648 1238.74,700.048 1236.14,697.448 1233.55,694.848 1230.96,692.248 1228.38,689.648 1225.8,687.048 1223.23,684.448 1220.66,681.848 1218.1,679.248 1215.54,676.648 1212.99,674.048 1210.44,671.448 1207.9,668.848 1205.36,666.248 1202.83,663.648 1200.3,661.048 1197.77,658.448 1195.25,655.848 1192.74,653.248 1190.23,650.648 1187.72,648.048 1185.22,645.448 1182.72,642.848 1180.23,640.248 1177.74,637.648 1175.26,635.048 1172.78,632.448 1170.3,629.848 1167.83,627.248 1165.36,624.648 1162.9,622.048 1160.44,619.448 1157.98,616.848 1155.53,614.248 1153.08,611.648 1150.63,609.048 1148.19,606.448 1145.75,603.848 1143.32,601.248 1140.89,598.648 1138.46,596.048 1136.04,593.448 1133.62,590.848 1131.21,588.248 1128.79,585.648 1126.38,583.048 1123.98,580.448 1121.57,577.848 1119.17,575.248 1116.78,572.648 1114.38,570.048 1111.99,567.448 1109.61,564.848 1107.22,562.248 1104.84,559.648 1102.46,557.048 1100.09,554.448 1097.71,551.848 1095.34,549.248 1092.98,546.648 1090.61,544.048 1088.25,541.448 1085.89,538.848 1083.53,536.248 1081.18,533.648 1078.82,531.048 1076.47,528.448 1074.13,525.848 1071.78,523.247 1069.44,520.647 1067.1,518.047 1064.76,515.447 1062.42,512.847 1060.09,510.247 1057.75,507.647 1055.42,505.047 1053.09,502.447 1050.77,499.847 1048.44,497.247 1046.12,494.647 1043.79,492.047 1041.47,489.447 1039.15,486.847 1036.84,484.247 1034.52,481.647 1032.21,479.047 1029.89,476.447 1027.58,473.847 1025.27,471.247 1022.96,468.647 1020.65,466.047 1018.34,463.447 1016.04,460.847 1013.73,458.247 1011.43,455.647 1009.12,453.047 1006.82,450.447 1004.52,447.847 1002.22,445.247 999.916,442.647 997.616,440.047 995.316,437.447 993.016,434.847 990.717,432.247 988.418,429.647 986.119,427.047 983.82,424.447 981.522,421.847 979.223,419.247 976.925,416.647 974.626,414.047 972.327,411.447 970.028,408.847 967.728,406.247 965.428,403.647 963.128,401.047 960.826,398.447 958.525,395.847 956.222,393.247 953.919,390.647 951.615,388.047 949.31,385.447 947.004,382.847 944.696,380.247 942.388,377.647 940.078,375.047 937.767,372.447 935.454,369.847 933.14,367.247 930.824,364.647 928.506,362.047 926.186,359.447 923.865,356.847 921.541,354.247 919.215,351.647 916.887,349.047 914.556,346.447 912.223,343.847 909.888,341.247 907.55,338.647 905.208,336.047 902.864,333.446 900.517,330.846 898.166,328.246 895.813,325.646 893.455,323.046 891.095,320.446 888.73,317.846 886.361,315.246 883.989,312.646 881.612,310.046 879.231,307.446 876.846,304.846 874.456,302.246 872.061,299.646 869.661,297.046 867.255,294.446 864.845,291.846 862.429,289.246 860.007,286.646 857.58,284.046 855.146,281.446 852.706,278.846 850.259,276.246 847.806,273.646 845.346,271.046 842.878,268.446 840.403,265.846 837.92,263.246 835.429,260.646 832.93,258.046 830.423,255.446 827.906,252.846 825.38,250.246 822.845,247.646 820.3,245.046 817.745,242.446 815.18,239.846 812.603,237.246 810.015,234.646 807.416,232.046 804.804,229.446 802.18,226.846 799.543,224.246 796.893,221.646 794.228,219.046 791.549,216.446 788.855,213.846 786.145,211.246 783.418,208.646 780.675,206.046 777.914,203.446 775.135,200.846 772.337,198.246 769.518,195.646 766.679,193.046 763.818,190.446 760.934,187.846 758.027,185.246 755.094,182.646 752.136,180.046 749.15,177.446 746.136,174.846 743.091,172.246 740.015,169.646 736.905,167.046 733.76,164.446 730.578,161.846 727.356,159.246 724.093,156.646 720.785,154.046 717.43,151.446 714.025,148.846 710.566,146.246 707.049,143.646 703.471,141.045 699.825,138.445 696.108,135.845 692.313,133.245 688.433,130.645 684.46,128.045 680.384,125.445 676.196,122.845 671.881,120.245 667.426,117.645 662.811,115.045 658.014,112.445 653.007,109.845 647.753,107.245 642.204,104.645 636.295,102.045 629.932,99.4453 622.973,96.8453 615.182,94.2452 606.109,91.6452 594.64,89.0452 574.252,86.4452 \"/>\n",
       "<circle clip-path=\"url(#clip412)\" cx=\"565.73\" cy=\"86.1857\" r=\"14.4\" fill=\"#009af9\" fill-rule=\"evenodd\" fill-opacity=\"1\" stroke=\"#000000\" stroke-opacity=\"1\" stroke-width=\"3.2\"/>\n",
       "<polyline clip-path=\"url(#clip412)\" style=\"stroke:#e26f46; stroke-linecap:round; stroke-linejoin:round; stroke-width:8; stroke-opacity:1; fill:none\" points=\"295.368,1384.24 295.514,1381.64 295.66,1379.04 295.807,1376.44 295.954,1373.84 296.101,1371.24 296.248,1368.64 296.396,1366.04 296.543,1363.44 296.691,1360.85 296.839,1358.25 296.988,1355.65 297.136,1353.05 297.285,1350.45 297.435,1347.85 297.584,1345.25 297.734,1342.65 297.883,1340.05 298.034,1337.45 298.184,1334.85 298.335,1332.25 298.485,1329.65 298.636,1327.05 298.788,1324.46 298.939,1321.86 299.091,1319.26 299.243,1316.66 299.396,1314.06 299.548,1311.46 299.701,1308.86 299.854,1306.26 300.008,1303.66 300.161,1301.06 300.315,1298.46 300.469,1295.86 300.624,1293.26 300.778,1290.67 300.933,1288.07 301.089,1285.47 301.244,1282.87 301.4,1280.27 301.556,1277.67 301.712,1275.07 301.869,1272.47 302.025,1269.87 302.182,1267.27 302.34,1264.67 302.497,1262.07 302.655,1259.47 302.813,1256.88 302.972,1254.28 303.131,1251.68 303.289,1249.08 303.449,1246.48 303.608,1243.88 303.768,1241.28 303.928,1238.68 304.089,1236.08 304.249,1233.48 304.41,1230.88 304.571,1228.28 304.733,1225.68 304.895,1223.09 305.057,1220.49 305.219,1217.89 305.382,1215.29 305.545,1212.69 305.708,1210.09 305.872,1207.49 306.036,1204.89 306.2,1202.29 306.364,1199.69 306.529,1197.09 306.694,1194.49 306.86,1191.89 307.025,1189.3 307.191,1186.7 307.358,1184.1 307.524,1181.5 307.691,1178.9 307.858,1176.3 308.026,1173.7 308.194,1171.1 308.362,1168.5 308.53,1165.9 308.699,1163.3 308.868,1160.7 309.038,1158.1 309.207,1155.51 309.377,1152.91 309.548,1150.31 309.719,1147.71 309.89,1145.11 310.061,1142.51 310.233,1139.91 310.405,1137.31 310.577,1134.71 310.75,1132.11 310.923,1129.51 311.096,1126.91 311.27,1124.31 311.444,1121.72 311.619,1119.12 311.793,1116.52 311.968,1113.92 312.144,1111.32 312.32,1108.72 312.496,1106.12 312.672,1103.52 312.849,1100.92 313.026,1098.32 313.204,1095.72 313.382,1093.12 313.56,1090.52 313.739,1087.92 313.918,1085.33 314.097,1082.73 314.277,1080.13 314.457,1077.53 314.637,1074.93 314.818,1072.33 314.999,1069.73 315.181,1067.13 315.363,1064.53 315.545,1061.93 315.728,1059.33 315.911,1056.73 316.094,1054.13 316.278,1051.54 316.462,1048.94 316.647,1046.34 316.832,1043.74 317.017,1041.14 317.203,1038.54 317.389,1035.94 317.576,1033.34 317.763,1030.74 317.95,1028.14 318.138,1025.54 318.326,1022.94 318.515,1020.34 318.704,1017.75 318.893,1015.15 319.083,1012.55 319.274,1009.95 319.464,1007.35 319.655,1004.75 319.847,1002.15 320.039,999.551 320.231,996.952 320.424,994.352 320.617,991.753 320.811,989.154 321.005,986.555 321.2,983.955 321.394,981.356 321.59,978.757 321.786,976.158 321.982,973.558 322.179,970.959 322.376,968.36 322.574,965.761 322.772,963.161 322.97,960.562 323.169,957.963 323.369,955.364 323.569,952.764 323.769,950.165 323.97,947.566 324.171,944.967 324.373,942.368 324.576,939.768 324.778,937.169 324.982,934.57 325.185,931.971 325.39,929.371 325.594,926.772 325.8,924.173 326.005,921.574 326.212,918.974 326.418,916.375 326.626,913.776 326.833,911.177 327.042,908.577 327.25,905.978 327.46,903.379 327.669,900.78 327.88,898.18 328.09,895.581 328.302,892.982 328.514,890.383 328.726,887.783 328.939,885.184 329.153,882.585 329.367,879.986 329.581,877.387 329.796,874.787 330.012,872.188 330.228,869.589 330.445,866.99 330.662,864.39 330.88,861.791 331.099,859.192 331.318,856.593 331.537,853.993 331.758,851.394 331.978,848.795 332.2,846.196 332.422,843.596 332.644,840.997 332.867,838.398 333.091,835.799 333.315,833.199 333.54,830.6 333.766,828.001 333.992,825.402 334.219,822.802 334.446,820.203 334.674,817.604 334.903,815.005 335.132,812.406 335.362,809.806 335.593,807.207 335.824,804.608 336.056,802.009 336.288,799.409 336.521,796.81 336.755,794.211 336.99,791.612 337.225,789.012 337.461,786.413 337.697,783.814 337.934,781.215 338.172,778.615 338.411,776.016 338.65,773.417 338.89,770.818 339.131,768.218 339.372,765.619 339.614,763.02 339.857,760.421 340.101,757.821 340.345,755.222 340.59,752.623 340.836,750.024 341.082,747.425 341.329,744.825 341.577,742.226 341.826,739.627 342.076,737.028 342.326,734.428 342.577,731.829 342.829,729.23 343.081,726.631 343.335,724.031 343.589,721.432 343.844,718.833 344.1,716.234 344.357,713.634 344.614,711.035 344.872,708.436 345.132,705.837 345.392,703.237 345.652,700.638 345.914,698.039 346.177,695.44 346.44,692.841 346.704,690.241 346.969,687.642 347.235,685.043 347.502,682.444 347.77,679.844 348.039,677.245 348.309,674.646 348.579,672.047 348.851,669.447 349.123,666.848 349.396,664.249 349.671,661.65 349.946,659.05 350.222,656.451 350.499,653.852 350.778,651.253 351.057,648.653 351.337,646.054 351.618,643.455 351.9,640.856 352.183,638.256 352.468,635.657 352.753,633.058 353.039,630.459 353.327,627.86 353.615,625.26 353.905,622.661 354.195,620.062 354.487,617.463 354.78,614.863 355.074,612.264 355.369,609.665 355.665,607.066 355.962,604.466 356.26,601.867 356.56,599.268 356.861,596.669 357.163,594.069 357.466,591.47 357.77,588.871 358.076,586.272 358.382,583.672 358.69,581.073 359,578.474 359.31,575.875 359.622,573.275 359.935,570.676 360.249,568.077 360.565,565.478 360.882,562.879 361.2,560.279 361.52,557.68 361.841,555.081 362.163,552.482 362.487,549.882 362.812,547.283 363.139,544.684 363.467,542.085 363.796,539.485 364.127,536.886 364.46,534.287 364.794,531.688 365.129,529.088 365.466,526.489 365.804,523.89 366.144,521.291 366.486,518.691 366.829,516.092 367.174,513.493 367.52,510.894 367.868,508.294 368.218,505.695 368.569,503.096 368.922,500.497 369.277,497.898 369.633,495.298 369.991,492.699 370.351,490.1 370.713,487.501 371.077,484.901 371.442,482.302 371.809,479.703 372.178,477.104 372.549,474.504 372.922,471.905 373.297,469.306 373.674,466.707 374.053,464.107 374.433,461.508 374.816,458.909 375.201,456.31 375.588,453.71 375.977,451.111 376.369,448.512 376.762,445.913 377.158,443.313 377.555,440.714 377.955,438.115 378.358,435.516 378.763,432.917 379.17,430.317 379.579,427.718 379.991,425.119 380.405,422.52 380.822,419.92 381.241,417.321 381.663,414.722 382.087,412.123 382.514,409.523 382.944,406.924 383.376,404.325 383.811,401.726 384.249,399.126 384.69,396.527 385.134,393.928 385.58,391.329 386.029,388.729 386.482,386.13 386.937,383.531 387.396,380.932 387.857,378.333 388.322,375.733 388.79,373.134 389.262,370.535 389.736,367.936 390.215,365.336 390.696,362.737 391.181,360.138 391.67,357.539 392.162,354.939 392.658,352.34 393.158,349.741 393.662,347.142 394.169,344.542 394.681,341.943 395.196,339.344 395.716,336.745 396.24,334.145 396.768,331.546 397.3,328.947 397.837,326.348 398.378,323.748 398.925,321.149 399.475,318.55 400.031,315.951 400.591,313.352 401.157,310.752 401.727,308.153 402.303,305.554 402.884,302.955 403.471,300.355 404.063,297.756 404.661,295.157 405.264,292.558 405.874,289.958 406.49,287.359 407.112,284.76 407.74,282.161 408.375,279.561 409.016,276.962 409.664,274.363 410.32,271.764 410.982,269.164 411.652,266.565 412.33,263.966 413.015,261.367 413.708,258.767 414.41,256.168 415.119,253.569 415.838,250.97 416.565,248.371 417.302,245.771 418.048,243.172 418.803,240.573 419.569,237.974 420.345,235.374 421.132,232.775 421.929,230.176 422.738,227.577 423.559,224.977 424.392,222.378 425.237,219.779 426.095,217.18 426.967,214.58 427.853,211.981 428.753,209.382 429.668,206.783 430.598,204.183 431.545,201.584 432.508,198.985 433.489,196.386 434.489,193.786 435.507,191.187 436.545,188.588 437.604,185.989 438.685,183.39 439.788,180.79 440.916,178.191 442.068,175.592 443.247,172.993 444.454,170.393 445.69,167.794 446.957,165.195 448.257,162.596 449.591,159.996 450.963,157.397 452.373,154.798 453.826,152.199 455.324,149.599 456.869,147 458.467,144.401 460.12,141.802 461.833,139.202 463.611,136.603 465.461,134.004 467.389,131.405 469.403,128.805 471.511,126.206 473.725,123.607 476.057,121.008 478.522,118.409 481.139,115.809 483.93,113.21 486.924,110.611 490.158,108.012 493.681,105.412 497.56,102.813 501.89,100.214 506.819,97.6146 512.59,95.0154 519.667,92.4161 529.199,89.8169 547.905,87.2177 \"/>\n",
       "<polyline clip-path=\"url(#clip412)\" style=\"stroke:#e26f46; stroke-linecap:round; stroke-linejoin:round; stroke-width:8; stroke-opacity:1; fill:none\" points=\"2292.83,1384.24 2286.39,1381.64 2279.97,1379.04 2273.59,1376.44 2267.24,1373.84 2260.92,1371.24 2254.63,1368.64 2248.37,1366.04 2242.13,1363.44 2235.93,1360.85 2229.75,1358.25 2223.61,1355.65 2217.49,1353.05 2211.4,1350.45 2205.34,1347.85 2199.31,1345.25 2193.3,1342.65 2187.32,1340.05 2181.37,1337.45 2175.45,1334.85 2169.55,1332.25 2163.69,1329.65 2157.84,1327.05 2152.03,1324.46 2146.24,1321.86 2140.47,1319.26 2134.74,1316.66 2129.02,1314.06 2123.34,1311.46 2117.68,1308.86 2112.04,1306.26 2106.43,1303.66 2100.85,1301.06 2095.29,1298.46 2089.75,1295.86 2084.24,1293.26 2078.75,1290.67 2073.29,1288.07 2067.85,1285.47 2062.44,1282.87 2057.05,1280.27 2051.68,1277.67 2046.33,1275.07 2041.01,1272.47 2035.71,1269.87 2030.44,1267.27 2025.19,1264.67 2019.96,1262.07 2014.75,1259.47 2009.56,1256.88 2004.4,1254.28 1999.26,1251.68 1994.14,1249.08 1989.05,1246.48 1983.97,1243.88 1978.92,1241.28 1973.88,1238.68 1968.87,1236.08 1963.88,1233.48 1958.91,1230.88 1953.96,1228.28 1949.04,1225.68 1944.13,1223.09 1939.24,1220.49 1934.37,1217.89 1929.53,1215.29 1924.7,1212.69 1919.89,1210.09 1915.11,1207.49 1910.34,1204.89 1905.59,1202.29 1900.86,1199.69 1896.15,1197.09 1891.46,1194.49 1886.79,1191.89 1882.14,1189.3 1877.51,1186.7 1872.89,1184.1 1868.29,1181.5 1863.72,1178.9 1859.16,1176.3 1854.61,1173.7 1850.09,1171.1 1845.58,1168.5 1841.1,1165.9 1836.63,1163.3 1832.17,1160.7 1827.74,1158.1 1823.32,1155.51 1818.92,1152.91 1814.54,1150.31 1810.17,1147.71 1805.82,1145.11 1801.49,1142.51 1797.17,1139.91 1792.87,1137.31 1788.59,1134.71 1784.32,1132.11 1780.07,1129.51 1775.84,1126.91 1771.62,1124.31 1767.42,1121.72 1763.23,1119.12 1759.06,1116.52 1754.91,1113.92 1750.77,1111.32 1746.65,1108.72 1742.54,1106.12 1738.45,1103.52 1734.37,1100.92 1730.31,1098.32 1726.26,1095.72 1722.23,1093.12 1718.21,1090.52 1714.21,1087.92 1710.22,1085.33 1706.24,1082.73 1702.28,1080.13 1698.34,1077.53 1694.41,1074.93 1690.49,1072.33 1686.59,1069.73 1682.7,1067.13 1678.83,1064.53 1674.96,1061.93 1671.12,1059.33 1667.28,1056.73 1663.46,1054.13 1659.66,1051.54 1655.86,1048.94 1652.08,1046.34 1648.32,1043.74 1644.56,1041.14 1640.82,1038.54 1637.1,1035.94 1633.38,1033.34 1629.68,1030.74 1625.99,1028.14 1622.31,1025.54 1618.65,1022.94 1615,1020.34 1611.36,1017.75 1607.73,1015.15 1604.12,1012.55 1600.52,1009.95 1596.93,1007.35 1593.35,1004.75 1589.78,1002.15 1586.23,999.551 1582.69,996.952 1579.15,994.352 1575.64,991.753 1572.13,989.154 1568.63,986.555 1565.15,983.955 1561.67,981.356 1558.21,978.757 1554.76,976.158 1551.32,973.558 1547.89,970.959 1544.47,968.36 1541.07,965.761 1537.67,963.161 1534.29,960.562 1530.91,957.963 1527.55,955.364 1524.19,952.764 1520.85,950.165 1517.52,947.566 1514.2,944.967 1510.88,942.368 1507.58,939.768 1504.29,937.169 1501.01,934.57 1497.74,931.971 1494.48,929.371 1491.23,926.772 1487.99,924.173 1484.75,921.574 1481.53,918.974 1478.32,916.375 1475.12,913.776 1471.92,911.177 1468.74,908.577 1465.57,905.978 1462.4,903.379 1459.24,900.78 1456.1,898.18 1452.96,895.581 1449.83,892.982 1446.71,890.383 1443.6,887.783 1440.5,885.184 1437.41,882.585 1434.32,879.986 1431.25,877.387 1428.18,874.787 1425.13,872.188 1422.08,869.589 1419.04,866.99 1416,864.39 1412.98,861.791 1409.96,859.192 1406.96,856.593 1403.96,853.993 1400.97,851.394 1397.99,848.795 1395.01,846.196 1392.04,843.596 1389.09,840.997 1386.13,838.398 1383.19,835.799 1380.26,833.199 1377.33,830.6 1374.41,828.001 1371.5,825.402 1368.59,822.802 1365.7,820.203 1362.81,817.604 1359.92,815.005 1357.05,812.406 1354.18,809.806 1351.32,807.207 1348.47,804.608 1345.62,802.009 1342.78,799.409 1339.95,796.81 1337.13,794.211 1334.31,791.612 1331.5,789.012 1328.7,786.413 1325.9,783.814 1323.11,781.215 1320.32,778.615 1317.55,776.016 1314.78,773.417 1312.01,770.818 1309.26,768.218 1306.5,765.619 1303.76,763.02 1301.02,760.421 1298.29,757.821 1295.56,755.222 1292.84,752.623 1290.13,750.024 1287.42,747.425 1284.72,744.825 1282.03,742.226 1279.34,739.627 1276.66,737.028 1273.98,734.428 1271.31,731.829 1268.64,729.23 1265.98,726.631 1263.33,724.031 1260.68,721.432 1258.03,718.833 1255.4,716.234 1252.77,713.634 1250.14,711.035 1247.52,708.436 1244.9,705.837 1242.29,703.237 1239.69,700.638 1237.09,698.039 1234.49,695.44 1231.9,692.841 1229.32,690.241 1226.74,687.642 1224.16,685.043 1221.59,682.444 1219.03,679.844 1216.47,677.245 1213.91,674.646 1211.36,672.047 1208.82,669.447 1206.28,666.848 1203.74,664.249 1201.21,661.65 1198.68,659.05 1196.16,656.451 1193.64,653.852 1191.13,651.253 1188.62,648.653 1186.12,646.054 1183.61,643.455 1181.12,640.856 1178.63,638.256 1176.14,635.657 1173.65,633.058 1171.17,630.459 1168.7,627.86 1166.23,625.26 1163.76,622.661 1161.29,620.062 1158.83,617.463 1156.38,614.863 1153.92,612.264 1151.48,609.665 1149.03,607.066 1146.59,604.466 1144.15,601.867 1141.72,599.268 1139.28,596.669 1136.86,594.069 1134.43,591.47 1132.01,588.871 1129.59,586.272 1127.18,583.672 1124.77,581.073 1122.36,578.474 1119.96,575.875 1117.55,573.275 1115.15,570.676 1112.76,568.077 1110.37,565.478 1107.98,562.879 1105.59,560.279 1103.2,557.68 1100.82,555.081 1098.44,552.482 1096.07,549.882 1093.69,547.283 1091.32,544.684 1088.95,542.085 1086.59,539.485 1084.22,536.886 1081.86,534.287 1079.5,531.688 1077.14,529.088 1074.79,526.489 1072.44,523.89 1070.09,521.291 1067.74,518.691 1065.39,516.092 1063.05,513.493 1060.7,510.894 1058.36,508.294 1056.02,505.695 1053.69,503.096 1051.35,500.497 1049.02,497.898 1046.69,495.298 1044.35,492.699 1042.03,490.1 1039.7,487.501 1037.37,484.901 1035.05,482.302 1032.72,479.703 1030.4,477.104 1028.08,474.504 1025.76,471.905 1023.44,469.306 1021.12,466.707 1018.8,464.107 1016.49,461.508 1014.17,458.909 1011.86,456.31 1009.54,453.71 1007.23,451.111 1004.92,448.512 1002.6,445.913 1000.29,443.313 997.979,440.714 995.667,438.115 993.356,435.516 991.045,432.917 988.734,430.317 986.423,427.718 984.112,425.119 981.801,422.52 979.49,419.92 977.179,417.321 974.867,414.722 972.555,412.123 970.243,409.523 967.93,406.924 965.616,404.325 963.301,401.726 960.986,399.126 958.67,396.527 956.353,393.928 954.036,391.329 951.717,388.729 949.396,386.13 947.075,383.531 944.752,380.932 942.428,378.333 940.102,375.733 937.775,373.134 935.446,370.535 933.115,367.936 930.782,365.336 928.447,362.737 926.11,360.138 923.771,357.539 921.429,354.939 919.085,352.34 916.739,349.741 914.39,347.142 912.038,344.542 909.683,341.943 907.325,339.344 904.964,336.745 902.6,334.145 900.233,331.546 897.862,328.947 895.487,326.348 893.108,323.748 890.726,321.149 888.339,318.55 885.949,315.951 883.554,313.352 881.154,310.752 878.75,308.153 876.341,305.554 873.926,302.955 871.507,300.355 869.082,297.756 866.652,295.157 864.216,292.558 861.774,289.958 859.326,287.359 856.871,284.76 854.41,282.161 851.942,279.561 849.468,276.962 846.985,274.363 844.496,271.764 841.999,269.164 839.493,266.565 836.98,263.966 834.457,261.367 831.926,258.767 829.386,256.168 826.837,253.569 824.277,250.97 821.708,248.371 819.128,245.771 816.537,243.172 813.935,240.573 811.322,237.974 808.696,235.374 806.058,232.775 803.407,230.176 800.743,227.577 798.064,224.977 795.372,222.378 792.664,219.779 789.941,217.18 787.202,214.58 784.446,211.981 781.673,209.382 778.882,206.783 776.072,204.183 773.242,201.584 770.392,198.985 767.521,196.386 764.627,193.786 761.71,191.187 758.769,188.588 755.803,185.989 752.81,183.39 749.789,180.79 746.739,178.191 743.659,175.592 740.546,172.993 737.399,170.393 734.217,167.794 730.997,165.195 727.737,162.596 724.435,159.996 721.088,157.397 717.693,154.798 714.249,152.199 710.75,149.599 707.194,147 703.576,144.401 699.891,141.802 696.136,139.202 692.302,136.603 688.386,134.004 684.377,131.405 680.269,128.805 676.052,126.206 671.712,123.607 667.238,121.008 662.613,118.409 657.816,115.809 652.824,113.21 647.607,110.611 642.126,108.012 636.33,105.412 630.149,102.813 623.486,100.214 616.192,97.6146 608.019,95.0154 598.499,92.4161 586.479,89.8169 565.236,87.2177 \"/>\n",
       "<circle clip-path=\"url(#clip412)\" cx=\"556.442\" cy=\"86.9582\" r=\"14.4\" fill=\"#e26f46\" fill-rule=\"evenodd\" fill-opacity=\"1\" stroke=\"#000000\" stroke-opacity=\"1\" stroke-width=\"3.2\"/>\n",
       "<path clip-path=\"url(#clip410)\" d=\"M1604.2 248.629 L2282.17 248.629 L2282.17 93.1086 L1604.2 93.1086  Z\" fill=\"#ffffff\" fill-rule=\"evenodd\" fill-opacity=\"1\"/>\n",
       "<polyline clip-path=\"url(#clip410)\" style=\"stroke:#000000; stroke-linecap:round; stroke-linejoin:round; stroke-width:4; stroke-opacity:1; fill:none\" points=\"1604.2,248.629 2282.17,248.629 2282.17,93.1086 1604.2,93.1086 1604.2,248.629 \"/>\n",
       "<polyline clip-path=\"url(#clip410)\" style=\"stroke:#009af9; stroke-linecap:round; stroke-linejoin:round; stroke-width:8; stroke-opacity:1; fill:none\" points=\"1627.73,144.949 1768.89,144.949 \"/>\n",
       "<path clip-path=\"url(#clip410)\" d=\"M1808.02 131.743 L1796.22 150.192 L1808.02 150.192 L1808.02 131.743 M1806.8 127.669 L1812.68 127.669 L1812.68 150.192 L1817.61 150.192 L1817.61 154.081 L1812.68 154.081 L1812.68 162.229 L1808.02 162.229 L1808.02 154.081 L1792.42 154.081 L1792.42 149.567 L1806.8 127.669 Z\" fill=\"#000000\" fill-rule=\"nonzero\" fill-opacity=\"1\" /><path clip-path=\"url(#clip410)\" d=\"M1843.93 158.34 L1843.93 172.09 L1839.64 172.09 L1839.64 136.303 L1843.93 136.303 L1843.93 140.238 Q1845.27 137.923 1847.31 136.812 Q1849.37 135.678 1852.21 135.678 Q1856.94 135.678 1859.87 139.428 Q1862.84 143.178 1862.84 149.289 Q1862.84 155.4 1859.87 159.15 Q1856.94 162.9 1852.21 162.9 Q1849.37 162.9 1847.31 161.789 Q1845.27 160.655 1843.93 158.34 M1858.42 149.289 Q1858.42 144.59 1856.47 141.928 Q1854.55 139.243 1851.17 139.243 Q1847.79 139.243 1845.85 141.928 Q1843.93 144.59 1843.93 149.289 Q1843.93 153.988 1845.85 156.673 Q1847.79 159.335 1851.17 159.335 Q1854.55 159.335 1856.47 156.673 Q1858.42 153.988 1858.42 149.289 Z\" fill=\"#000000\" fill-rule=\"nonzero\" fill-opacity=\"1\" /><path clip-path=\"url(#clip410)\" d=\"M1881.68 149.196 Q1876.52 149.196 1874.53 150.377 Q1872.54 151.557 1872.54 154.405 Q1872.54 156.673 1874.02 158.016 Q1875.52 159.335 1878.09 159.335 Q1881.63 159.335 1883.76 156.835 Q1885.92 154.312 1885.92 150.145 L1885.92 149.196 L1881.68 149.196 M1890.18 147.437 L1890.18 162.229 L1885.92 162.229 L1885.92 158.293 Q1884.46 160.655 1882.28 161.789 Q1880.11 162.9 1876.96 162.9 Q1872.98 162.9 1870.62 160.678 Q1868.28 158.432 1868.28 154.682 Q1868.28 150.307 1871.19 148.085 Q1874.13 145.863 1879.94 145.863 L1885.92 145.863 L1885.92 145.446 Q1885.92 142.507 1883.97 140.909 Q1882.05 139.289 1878.56 139.289 Q1876.33 139.289 1874.23 139.821 Q1872.12 140.354 1870.18 141.419 L1870.18 137.483 Q1872.51 136.581 1874.71 136.141 Q1876.91 135.678 1879 135.678 Q1884.62 135.678 1887.4 138.594 Q1890.18 141.511 1890.18 147.437 Z\" fill=\"#000000\" fill-rule=\"nonzero\" fill-opacity=\"1\" /><path clip-path=\"url(#clip410)\" d=\"M1913.97 140.284 Q1913.25 139.868 1912.4 139.682 Q1911.56 139.474 1910.55 139.474 Q1906.93 139.474 1904.99 141.835 Q1903.07 144.173 1903.07 148.571 L1903.07 162.229 L1898.79 162.229 L1898.79 136.303 L1903.07 136.303 L1903.07 140.331 Q1904.41 137.969 1906.56 136.835 Q1908.72 135.678 1911.8 135.678 Q1912.24 135.678 1912.77 135.747 Q1913.3 135.794 1913.95 135.909 L1913.97 140.284 Z\" fill=\"#000000\" fill-rule=\"nonzero\" fill-opacity=\"1\" /><path clip-path=\"url(#clip410)\" d=\"M1930.22 149.196 Q1925.06 149.196 1923.07 150.377 Q1921.08 151.557 1921.08 154.405 Q1921.08 156.673 1922.56 158.016 Q1924.06 159.335 1926.63 159.335 Q1930.18 159.335 1932.31 156.835 Q1934.46 154.312 1934.46 150.145 L1934.46 149.196 L1930.22 149.196 M1938.72 147.437 L1938.72 162.229 L1934.46 162.229 L1934.46 158.293 Q1933 160.655 1930.82 161.789 Q1928.65 162.9 1925.5 162.9 Q1921.52 162.9 1919.16 160.678 Q1916.82 158.432 1916.82 154.682 Q1916.82 150.307 1919.74 148.085 Q1922.68 145.863 1928.49 145.863 L1934.46 145.863 L1934.46 145.446 Q1934.46 142.507 1932.51 140.909 Q1930.59 139.289 1927.1 139.289 Q1924.87 139.289 1922.77 139.821 Q1920.66 140.354 1918.72 141.419 L1918.72 137.483 Q1921.06 136.581 1923.25 136.141 Q1925.45 135.678 1927.54 135.678 Q1933.16 135.678 1935.94 138.594 Q1938.72 141.511 1938.72 147.437 Z\" fill=\"#000000\" fill-rule=\"nonzero\" fill-opacity=\"1\" /><path clip-path=\"url(#clip410)\" d=\"M1967.68 141.28 Q1969.27 138.409 1971.49 137.044 Q1973.72 135.678 1976.73 135.678 Q1980.78 135.678 1982.98 138.525 Q1985.18 141.349 1985.18 146.581 L1985.18 162.229 L1980.89 162.229 L1980.89 146.719 Q1980.89 142.993 1979.57 141.187 Q1978.25 139.382 1975.55 139.382 Q1972.24 139.382 1970.31 141.581 Q1968.39 143.78 1968.39 147.576 L1968.39 162.229 L1964.11 162.229 L1964.11 146.719 Q1964.11 142.969 1962.79 141.187 Q1961.47 139.382 1958.72 139.382 Q1955.45 139.382 1953.53 141.604 Q1951.61 143.803 1951.61 147.576 L1951.61 162.229 L1947.33 162.229 L1947.33 136.303 L1951.61 136.303 L1951.61 140.331 Q1953.07 137.946 1955.11 136.812 Q1957.14 135.678 1959.94 135.678 Q1962.77 135.678 1964.74 137.113 Q1966.73 138.548 1967.68 141.28 Z\" fill=\"#000000\" fill-rule=\"nonzero\" fill-opacity=\"1\" /><path clip-path=\"url(#clip410)\" d=\"M2010.2 137.067 L2010.2 141.094 Q2008.39 140.169 2006.45 139.706 Q2004.5 139.243 2002.42 139.243 Q1999.25 139.243 1997.65 140.215 Q1996.08 141.187 1996.08 143.131 Q1996.08 144.613 1997.21 145.469 Q1998.35 146.303 2001.77 147.067 L2003.23 147.391 Q2007.77 148.363 2009.67 150.145 Q2011.59 151.905 2011.59 155.076 Q2011.59 158.687 2008.72 160.793 Q2005.87 162.9 2000.87 162.9 Q1998.79 162.9 1996.52 162.483 Q1994.27 162.09 1991.77 161.28 L1991.77 156.881 Q1994.13 158.108 1996.43 158.733 Q1998.72 159.335 2000.96 159.335 Q2003.97 159.335 2005.59 158.317 Q2007.21 157.275 2007.21 155.4 Q2007.21 153.664 2006.03 152.738 Q2004.87 151.812 2000.92 150.956 L1999.43 150.608 Q1995.48 149.775 1993.72 148.062 Q1991.96 146.326 1991.96 143.317 Q1991.96 139.659 1994.55 137.669 Q1997.14 135.678 2001.91 135.678 Q2004.27 135.678 2006.36 136.025 Q2008.44 136.372 2010.2 137.067 Z\" fill=\"#000000\" fill-rule=\"nonzero\" fill-opacity=\"1\" /><path clip-path=\"url(#clip410)\" d=\"M2048.46 140.284 Q2047.74 139.868 2046.89 139.682 Q2046.05 139.474 2045.04 139.474 Q2041.42 139.474 2039.48 141.835 Q2037.56 144.173 2037.56 148.571 L2037.56 162.229 L2033.28 162.229 L2033.28 136.303 L2037.56 136.303 L2037.56 140.331 Q2038.9 137.969 2041.05 136.835 Q2043.21 135.678 2046.29 135.678 Q2046.73 135.678 2047.26 135.747 Q2047.79 135.794 2048.44 135.909 L2048.46 140.284 Z\" fill=\"#000000\" fill-rule=\"nonzero\" fill-opacity=\"1\" /><path clip-path=\"url(#clip410)\" d=\"M2074.06 148.201 L2074.06 150.284 L2054.48 150.284 Q2054.76 154.682 2057.12 156.997 Q2059.5 159.289 2063.74 159.289 Q2066.19 159.289 2068.48 158.687 Q2070.8 158.085 2073.07 156.881 L2073.07 160.909 Q2070.78 161.881 2068.37 162.391 Q2065.96 162.9 2063.49 162.9 Q2057.28 162.9 2053.65 159.289 Q2050.04 155.678 2050.04 149.52 Q2050.04 143.155 2053.46 139.428 Q2056.91 135.678 2062.74 135.678 Q2067.98 135.678 2071.01 139.057 Q2074.06 142.414 2074.06 148.201 M2069.8 146.951 Q2069.76 143.456 2067.84 141.372 Q2065.94 139.289 2062.79 139.289 Q2059.23 139.289 2057.07 141.303 Q2054.94 143.317 2054.62 146.974 L2069.8 146.951 Z\" fill=\"#000000\" fill-rule=\"nonzero\" fill-opacity=\"1\" /><path clip-path=\"url(#clip410)\" d=\"M2098.11 148.965 Q2098.11 144.335 2096.19 141.789 Q2094.3 139.243 2090.85 139.243 Q2087.42 139.243 2085.5 141.789 Q2083.6 144.335 2083.6 148.965 Q2083.6 153.571 2085.5 156.118 Q2087.42 158.664 2090.85 158.664 Q2094.3 158.664 2096.19 156.118 Q2098.11 153.571 2098.11 148.965 M2102.37 159.011 Q2102.37 165.631 2099.43 168.849 Q2096.49 172.09 2090.43 172.09 Q2088.18 172.09 2086.19 171.742 Q2084.2 171.418 2082.33 170.724 L2082.33 166.58 Q2084.2 167.599 2086.03 168.085 Q2087.86 168.571 2089.76 168.571 Q2093.95 168.571 2096.03 166.372 Q2098.11 164.196 2098.11 159.775 L2098.11 157.668 Q2096.8 159.96 2094.73 161.094 Q2092.67 162.229 2089.8 162.229 Q2085.04 162.229 2082.12 158.594 Q2079.2 154.96 2079.2 148.965 Q2079.2 142.946 2082.12 139.312 Q2085.04 135.678 2089.8 135.678 Q2092.67 135.678 2094.73 136.812 Q2096.8 137.946 2098.11 140.238 L2098.11 136.303 L2102.37 136.303 L2102.37 159.011 Z\" fill=\"#000000\" fill-rule=\"nonzero\" fill-opacity=\"1\" /><path clip-path=\"url(#clip410)\" d=\"M2126.17 140.284 Q2125.45 139.868 2124.6 139.682 Q2123.76 139.474 2122.74 139.474 Q2119.13 139.474 2117.19 141.835 Q2115.27 144.173 2115.27 148.571 L2115.27 162.229 L2110.98 162.229 L2110.98 136.303 L2115.27 136.303 L2115.27 140.331 Q2116.61 137.969 2118.76 136.835 Q2120.92 135.678 2123.99 135.678 Q2124.43 135.678 2124.97 135.747 Q2125.5 135.794 2126.15 135.909 L2126.17 140.284 Z\" fill=\"#000000\" fill-rule=\"nonzero\" fill-opacity=\"1\" /><path clip-path=\"url(#clip410)\" d=\"M2151.77 148.201 L2151.77 150.284 L2132.19 150.284 Q2132.47 154.682 2134.83 156.997 Q2137.21 159.289 2141.45 159.289 Q2143.9 159.289 2146.19 158.687 Q2148.51 158.085 2150.78 156.881 L2150.78 160.909 Q2148.48 161.881 2146.08 162.391 Q2143.67 162.9 2141.19 162.9 Q2134.99 162.9 2131.36 159.289 Q2127.74 155.678 2127.74 149.52 Q2127.74 143.155 2131.17 139.428 Q2134.62 135.678 2140.45 135.678 Q2145.68 135.678 2148.72 139.057 Q2151.77 142.414 2151.77 148.201 M2147.51 146.951 Q2147.47 143.456 2145.54 141.372 Q2143.65 139.289 2140.5 139.289 Q2136.93 139.289 2134.78 141.303 Q2132.65 143.317 2132.33 146.974 L2147.51 146.951 Z\" fill=\"#000000\" fill-rule=\"nonzero\" fill-opacity=\"1\" /><path clip-path=\"url(#clip410)\" d=\"M2175.29 137.067 L2175.29 141.094 Q2173.48 140.169 2171.54 139.706 Q2169.6 139.243 2167.51 139.243 Q2164.34 139.243 2162.74 140.215 Q2161.17 141.187 2161.17 143.131 Q2161.17 144.613 2162.3 145.469 Q2163.44 146.303 2166.86 147.067 L2168.32 147.391 Q2172.86 148.363 2174.76 150.145 Q2176.68 151.905 2176.68 155.076 Q2176.68 158.687 2173.81 160.793 Q2170.96 162.9 2165.96 162.9 Q2163.88 162.9 2161.61 162.483 Q2159.36 162.09 2156.86 161.28 L2156.86 156.881 Q2159.23 158.108 2161.52 158.733 Q2163.81 159.335 2166.05 159.335 Q2169.06 159.335 2170.68 158.317 Q2172.3 157.275 2172.3 155.4 Q2172.3 153.664 2171.12 152.738 Q2169.97 151.812 2166.01 150.956 L2164.53 150.608 Q2160.57 149.775 2158.81 148.062 Q2157.05 146.326 2157.05 143.317 Q2157.05 139.659 2159.64 137.669 Q2162.23 135.678 2167 135.678 Q2169.36 135.678 2171.45 136.025 Q2173.53 136.372 2175.29 137.067 Z\" fill=\"#000000\" fill-rule=\"nonzero\" fill-opacity=\"1\" /><path clip-path=\"url(#clip410)\" d=\"M2199.99 137.067 L2199.99 141.094 Q2198.18 140.169 2196.24 139.706 Q2194.29 139.243 2192.21 139.243 Q2189.04 139.243 2187.44 140.215 Q2185.87 141.187 2185.87 143.131 Q2185.87 144.613 2187 145.469 Q2188.14 146.303 2191.56 147.067 L2193.02 147.391 Q2197.56 148.363 2199.46 150.145 Q2201.38 151.905 2201.38 155.076 Q2201.38 158.687 2198.51 160.793 Q2195.66 162.9 2190.66 162.9 Q2188.58 162.9 2186.31 162.483 Q2184.06 162.09 2181.56 161.28 L2181.56 156.881 Q2183.92 158.108 2186.22 158.733 Q2188.51 159.335 2190.75 159.335 Q2193.76 159.335 2195.38 158.317 Q2197 157.275 2197 155.4 Q2197 153.664 2195.82 152.738 Q2194.66 151.812 2190.71 150.956 L2189.23 150.608 Q2185.27 149.775 2183.51 148.062 Q2181.75 146.326 2181.75 143.317 Q2181.75 139.659 2184.34 137.669 Q2186.93 135.678 2191.7 135.678 Q2194.06 135.678 2196.15 136.025 Q2198.23 136.372 2199.99 137.067 Z\" fill=\"#000000\" fill-rule=\"nonzero\" fill-opacity=\"1\" /><path clip-path=\"url(#clip410)\" d=\"M2230.34 148.201 L2230.34 150.284 L2210.75 150.284 Q2211.03 154.682 2213.39 156.997 Q2215.78 159.289 2220.01 159.289 Q2222.47 159.289 2224.76 158.687 Q2227.07 158.085 2229.34 156.881 L2229.34 160.909 Q2227.05 161.881 2224.64 162.391 Q2222.23 162.9 2219.76 162.9 Q2213.55 162.9 2209.92 159.289 Q2206.31 155.678 2206.31 149.52 Q2206.31 143.155 2209.73 139.428 Q2213.18 135.678 2219.02 135.678 Q2224.25 135.678 2227.28 139.057 Q2230.34 142.414 2230.34 148.201 M2226.08 146.951 Q2226.03 143.456 2224.11 141.372 Q2222.21 139.289 2219.06 139.289 Q2215.5 139.289 2213.35 141.303 Q2211.22 143.317 2210.89 146.974 L2226.08 146.951 Z\" fill=\"#000000\" fill-rule=\"nonzero\" fill-opacity=\"1\" /><path clip-path=\"url(#clip410)\" d=\"M2254.39 140.238 L2254.39 126.21 L2258.65 126.21 L2258.65 162.229 L2254.39 162.229 L2254.39 158.34 Q2253.04 160.655 2250.98 161.789 Q2248.95 162.9 2246.08 162.9 Q2241.38 162.9 2238.41 159.15 Q2235.47 155.4 2235.47 149.289 Q2235.47 143.178 2238.41 139.428 Q2241.38 135.678 2246.08 135.678 Q2248.95 135.678 2250.98 136.812 Q2253.04 137.923 2254.39 140.238 M2239.87 149.289 Q2239.87 153.988 2241.79 156.673 Q2243.74 159.335 2247.12 159.335 Q2250.5 159.335 2252.44 156.673 Q2254.39 153.988 2254.39 149.289 Q2254.39 144.59 2252.44 141.928 Q2250.5 139.243 2247.12 139.243 Q2243.74 139.243 2241.79 141.928 Q2239.87 144.59 2239.87 149.289 Z\" fill=\"#000000\" fill-rule=\"nonzero\" fill-opacity=\"1\" /><polyline clip-path=\"url(#clip410)\" style=\"stroke:#e26f46; stroke-linecap:round; stroke-linejoin:round; stroke-width:8; stroke-opacity:1; fill:none\" points=\"1627.73,196.789 1768.89,196.789 \"/>\n",
       "<path clip-path=\"url(#clip410)\" d=\"M1797.1 197.564 L1797.1 210.226 L1804.6 210.226 Q1808.37 210.226 1810.18 208.675 Q1812 207.101 1812 203.883 Q1812 200.643 1810.18 199.115 Q1808.37 197.564 1804.6 197.564 L1797.1 197.564 M1797.1 183.351 L1797.1 193.768 L1804.02 193.768 Q1807.44 193.768 1809.11 192.495 Q1810.8 191.198 1810.8 188.559 Q1810.8 185.944 1809.11 184.647 Q1807.44 183.351 1804.02 183.351 L1797.1 183.351 M1792.42 179.509 L1804.37 179.509 Q1809.71 179.509 1812.61 181.731 Q1815.5 183.953 1815.5 188.05 Q1815.5 191.222 1814.02 193.097 Q1812.54 194.971 1809.67 195.434 Q1813.12 196.175 1815.01 198.536 Q1816.94 200.874 1816.94 204.393 Q1816.94 209.022 1813.79 211.545 Q1810.64 214.069 1804.83 214.069 L1792.42 214.069 L1792.42 179.509 Z\" fill=\"#000000\" fill-rule=\"nonzero\" fill-opacity=\"1\" /><path clip-path=\"url(#clip410)\" d=\"M1836.54 201.036 Q1831.38 201.036 1829.39 202.217 Q1827.4 203.397 1827.4 206.245 Q1827.4 208.513 1828.88 209.856 Q1830.38 211.175 1832.95 211.175 Q1836.5 211.175 1838.63 208.675 Q1840.78 206.152 1840.78 201.985 L1840.78 201.036 L1836.54 201.036 M1845.04 199.277 L1845.04 214.069 L1840.78 214.069 L1840.78 210.133 Q1839.32 212.495 1837.14 213.629 Q1834.97 214.74 1831.82 214.74 Q1827.84 214.74 1825.48 212.518 Q1823.14 210.272 1823.14 206.522 Q1823.14 202.147 1826.06 199.925 Q1829 197.703 1834.81 197.703 L1840.78 197.703 L1840.78 197.286 Q1840.78 194.347 1838.83 192.749 Q1836.91 191.129 1833.42 191.129 Q1831.19 191.129 1829.09 191.661 Q1826.98 192.194 1825.04 193.259 L1825.04 189.323 Q1827.38 188.421 1829.57 187.981 Q1831.77 187.518 1833.86 187.518 Q1839.48 187.518 1842.26 190.434 Q1845.04 193.351 1845.04 199.277 Z\" fill=\"#000000\" fill-rule=\"nonzero\" fill-opacity=\"1\" /><path clip-path=\"url(#clip410)\" d=\"M1870.34 188.907 L1870.34 192.934 Q1868.53 192.009 1866.59 191.546 Q1864.64 191.083 1862.56 191.083 Q1859.39 191.083 1857.79 192.055 Q1856.22 193.027 1856.22 194.971 Q1856.22 196.453 1857.35 197.309 Q1858.49 198.143 1861.91 198.907 L1863.37 199.231 Q1867.91 200.203 1869.81 201.985 Q1871.73 203.745 1871.73 206.916 Q1871.73 210.527 1868.86 212.633 Q1866.01 214.74 1861.01 214.74 Q1858.93 214.74 1856.66 214.323 Q1854.41 213.93 1851.91 213.12 L1851.91 208.721 Q1854.27 209.948 1856.56 210.573 Q1858.86 211.175 1861.1 211.175 Q1864.11 211.175 1865.73 210.157 Q1867.35 209.115 1867.35 207.24 Q1867.35 205.504 1866.17 204.578 Q1865.01 203.652 1861.06 202.796 L1859.57 202.448 Q1855.62 201.615 1853.86 199.902 Q1852.1 198.166 1852.1 195.157 Q1852.1 191.499 1854.69 189.509 Q1857.28 187.518 1862.05 187.518 Q1864.41 187.518 1866.5 187.865 Q1868.58 188.212 1870.34 188.907 Z\" fill=\"#000000\" fill-rule=\"nonzero\" fill-opacity=\"1\" /><path clip-path=\"url(#clip410)\" d=\"M1900.68 200.041 L1900.68 202.124 L1881.1 202.124 Q1881.38 206.522 1883.74 208.837 Q1886.12 211.129 1890.36 211.129 Q1892.81 211.129 1895.11 210.527 Q1897.42 209.925 1899.69 208.721 L1899.69 212.749 Q1897.4 213.721 1894.99 214.231 Q1892.58 214.74 1890.11 214.74 Q1883.9 214.74 1880.27 211.129 Q1876.66 207.518 1876.66 201.36 Q1876.66 194.995 1880.08 191.268 Q1883.53 187.518 1889.37 187.518 Q1894.6 187.518 1897.63 190.897 Q1900.68 194.254 1900.68 200.041 M1896.43 198.791 Q1896.38 195.296 1894.46 193.212 Q1892.56 191.129 1889.41 191.129 Q1885.85 191.129 1883.69 193.143 Q1881.56 195.157 1881.24 198.814 L1896.43 198.791 Z\" fill=\"#000000\" fill-rule=\"nonzero\" fill-opacity=\"1\" /><path clip-path=\"url(#clip410)\" d=\"M1943.65 180.643 L1943.65 185.203 Q1940.99 183.93 1938.62 183.305 Q1936.26 182.68 1934.06 182.68 Q1930.24 182.68 1928.16 184.161 Q1926.1 185.643 1926.1 188.374 Q1926.1 190.666 1927.47 191.847 Q1928.86 193.004 1932.7 193.722 L1935.52 194.3 Q1940.75 195.296 1943.23 197.819 Q1945.73 200.319 1945.73 204.532 Q1945.73 209.555 1942.35 212.147 Q1938.99 214.74 1932.49 214.74 Q1930.04 214.74 1927.26 214.184 Q1924.5 213.629 1921.54 212.541 L1921.54 207.726 Q1924.39 209.323 1927.12 210.133 Q1929.85 210.944 1932.49 210.944 Q1936.49 210.944 1938.67 209.37 Q1940.85 207.796 1940.85 204.879 Q1940.85 202.333 1939.27 200.897 Q1937.72 199.462 1934.16 198.745 L1931.31 198.189 Q1926.08 197.147 1923.74 194.925 Q1921.4 192.703 1921.4 188.745 Q1921.4 184.161 1924.62 181.522 Q1927.86 178.884 1933.53 178.884 Q1935.96 178.884 1938.49 179.323 Q1941.01 179.763 1943.65 180.643 Z\" fill=\"#000000\" fill-rule=\"nonzero\" fill-opacity=\"1\" /><path clip-path=\"url(#clip410)\" d=\"M1965.45 184.115 L1959.11 201.314 L1971.82 201.314 L1965.45 184.115 M1962.81 179.509 L1968.12 179.509 L1981.29 214.069 L1976.43 214.069 L1973.28 205.203 L1957.7 205.203 L1954.55 214.069 L1949.62 214.069 L1962.81 179.509 Z\" fill=\"#000000\" fill-rule=\"nonzero\" fill-opacity=\"1\" /><path clip-path=\"url(#clip410)\" d=\"M1986.33 179.509 L2006.19 179.509 L2006.19 183.444 L1991.01 183.444 L1991.01 193.629 L2004.71 193.629 L2004.71 197.564 L1991.01 197.564 L1991.01 214.069 L1986.33 214.069 L1986.33 179.509 Z\" fill=\"#000000\" fill-rule=\"nonzero\" fill-opacity=\"1\" /><path clip-path=\"url(#clip410)\" d=\"M2007.98 179.509 L2037.21 179.509 L2037.21 183.444 L2024.94 183.444 L2024.94 214.069 L2020.24 214.069 L2020.24 183.444 L2007.98 183.444 L2007.98 179.509 Z\" fill=\"#000000\" fill-rule=\"nonzero\" fill-opacity=\"1\" /><path clip-path=\"url(#clip410)\" d=\"M2035.04 199.184 L2047.51 199.184 L2047.51 202.981 L2035.04 202.981 L2035.04 199.184 Z\" fill=\"#000000\" fill-rule=\"nonzero\" fill-opacity=\"1\" /><path clip-path=\"url(#clip410)\" d=\"M2060.61 214.069 L2047.42 179.509 L2052.3 179.509 L2063.25 208.606 L2074.23 179.509 L2079.09 179.509 L2065.92 214.069 L2060.61 214.069 Z\" fill=\"#000000\" fill-rule=\"nonzero\" fill-opacity=\"1\" /><path clip-path=\"url(#clip410)\" d=\"M2100.52 197.865 Q2102.03 198.374 2103.44 200.041 Q2104.87 201.708 2106.31 204.624 L2111.05 214.069 L2106.03 214.069 L2101.61 205.203 Q2099.9 201.731 2098.28 200.596 Q2096.68 199.462 2093.9 199.462 L2088.81 199.462 L2088.81 214.069 L2084.13 214.069 L2084.13 179.509 L2094.69 179.509 Q2100.61 179.509 2103.53 181.985 Q2106.45 184.462 2106.45 189.462 Q2106.45 192.726 2104.92 194.879 Q2103.42 197.032 2100.52 197.865 M2088.81 183.351 L2088.81 195.62 L2094.69 195.62 Q2098.07 195.62 2099.78 194.069 Q2101.52 192.495 2101.52 189.462 Q2101.52 186.43 2099.78 184.902 Q2098.07 183.351 2094.69 183.351 L2088.81 183.351 Z\" fill=\"#000000\" fill-rule=\"nonzero\" fill-opacity=\"1\" /><path clip-path=\"url(#clip410)\" d=\"M2112.81 199.184 L2125.29 199.184 L2125.29 202.981 L2112.81 202.981 L2112.81 199.184 Z\" fill=\"#000000\" fill-rule=\"nonzero\" fill-opacity=\"1\" /><path clip-path=\"url(#clip410)\" d=\"M2132.26 179.509 L2139.23 179.509 L2148.04 203.027 L2156.91 179.509 L2163.88 179.509 L2163.88 214.069 L2159.32 214.069 L2159.32 183.722 L2150.41 207.425 L2145.71 207.425 L2136.79 183.722 L2136.79 214.069 L2132.26 214.069 L2132.26 179.509 Z\" fill=\"#000000\" fill-rule=\"nonzero\" fill-opacity=\"1\" /><path clip-path=\"url(#clip410)\" d=\"M2172.98 188.143 L2177.23 188.143 L2177.23 214.069 L2172.98 214.069 L2172.98 188.143 M2172.98 178.05 L2177.23 178.05 L2177.23 183.444 L2172.98 183.444 L2172.98 178.05 Z\" fill=\"#000000\" fill-rule=\"nonzero\" fill-opacity=\"1\" /><path clip-path=\"url(#clip410)\" d=\"M2208.32 200.041 L2208.32 202.124 L2188.74 202.124 Q2189.02 206.522 2191.38 208.837 Q2193.76 211.129 2198 211.129 Q2200.45 211.129 2202.74 210.527 Q2205.06 209.925 2207.33 208.721 L2207.33 212.749 Q2205.04 213.721 2202.63 214.231 Q2200.22 214.74 2197.74 214.74 Q2191.54 214.74 2187.91 211.129 Q2184.29 207.518 2184.29 201.36 Q2184.29 194.995 2187.72 191.268 Q2191.17 187.518 2197 187.518 Q2202.23 187.518 2205.27 190.897 Q2208.32 194.254 2208.32 200.041 M2204.06 198.791 Q2204.02 195.296 2202.1 193.212 Q2200.2 191.129 2197.05 191.129 Q2193.48 191.129 2191.33 193.143 Q2189.2 195.157 2188.88 198.814 L2204.06 198.791 Z\" fill=\"#000000\" fill-rule=\"nonzero\" fill-opacity=\"1\" /></svg>\n"
      ],
      "text/html": [
       "<?xml version=\"1.0\" encoding=\"utf-8\"?>\n",
       "<svg xmlns=\"http://www.w3.org/2000/svg\" xmlns:xlink=\"http://www.w3.org/1999/xlink\" width=\"600\" height=\"400\" viewBox=\"0 0 2400 1600\">\n",
       "<defs>\n",
       "  <clipPath id=\"clip460\">\n",
       "    <rect x=\"0\" y=\"0\" width=\"2400\" height=\"1600\"/>\n",
       "  </clipPath>\n",
       "</defs>\n",
       "<path clip-path=\"url(#clip460)\" d=\"M0 1600 L2400 1600 L2400 0 L0 0  Z\" fill=\"#ffffff\" fill-rule=\"evenodd\" fill-opacity=\"1\"/>\n",
       "<defs>\n",
       "  <clipPath id=\"clip461\">\n",
       "    <rect x=\"480\" y=\"0\" width=\"1681\" height=\"1600\"/>\n",
       "  </clipPath>\n",
       "</defs>\n",
       "<path clip-path=\"url(#clip460)\" d=\"M235.283 1423.18 L2352.76 1423.18 L2352.76 47.2441 L235.283 47.2441  Z\" fill=\"#ffffff\" fill-rule=\"evenodd\" fill-opacity=\"1\"/>\n",
       "<defs>\n",
       "  <clipPath id=\"clip462\">\n",
       "    <rect x=\"235\" y=\"47\" width=\"2118\" height=\"1377\"/>\n",
       "  </clipPath>\n",
       "</defs>\n",
       "<polyline clip-path=\"url(#clip462)\" style=\"stroke:#000000; stroke-linecap:round; stroke-linejoin:round; stroke-width:2; stroke-opacity:0.1; fill:none\" points=\"324.808,1423.18 324.808,47.2441 \"/>\n",
       "<polyline clip-path=\"url(#clip462)\" style=\"stroke:#000000; stroke-linecap:round; stroke-linejoin:round; stroke-width:2; stroke-opacity:0.1; fill:none\" points=\"893.042,1423.18 893.042,47.2441 \"/>\n",
       "<polyline clip-path=\"url(#clip462)\" style=\"stroke:#000000; stroke-linecap:round; stroke-linejoin:round; stroke-width:2; stroke-opacity:0.1; fill:none\" points=\"1461.28,1423.18 1461.28,47.2441 \"/>\n",
       "<polyline clip-path=\"url(#clip462)\" style=\"stroke:#000000; stroke-linecap:round; stroke-linejoin:round; stroke-width:2; stroke-opacity:0.1; fill:none\" points=\"2029.51,1423.18 2029.51,47.2441 \"/>\n",
       "<polyline clip-path=\"url(#clip460)\" style=\"stroke:#000000; stroke-linecap:round; stroke-linejoin:round; stroke-width:4; stroke-opacity:1; fill:none\" points=\"235.283,1423.18 2352.76,1423.18 \"/>\n",
       "<polyline clip-path=\"url(#clip460)\" style=\"stroke:#000000; stroke-linecap:round; stroke-linejoin:round; stroke-width:4; stroke-opacity:1; fill:none\" points=\"235.283,47.2441 2352.76,47.2441 \"/>\n",
       "<polyline clip-path=\"url(#clip460)\" style=\"stroke:#000000; stroke-linecap:round; stroke-linejoin:round; stroke-width:4; stroke-opacity:1; fill:none\" points=\"324.808,1423.18 324.808,1404.28 \"/>\n",
       "<polyline clip-path=\"url(#clip460)\" style=\"stroke:#000000; stroke-linecap:round; stroke-linejoin:round; stroke-width:4; stroke-opacity:1; fill:none\" points=\"893.042,1423.18 893.042,1404.28 \"/>\n",
       "<polyline clip-path=\"url(#clip460)\" style=\"stroke:#000000; stroke-linecap:round; stroke-linejoin:round; stroke-width:4; stroke-opacity:1; fill:none\" points=\"1461.28,1423.18 1461.28,1404.28 \"/>\n",
       "<polyline clip-path=\"url(#clip460)\" style=\"stroke:#000000; stroke-linecap:round; stroke-linejoin:round; stroke-width:4; stroke-opacity:1; fill:none\" points=\"2029.51,1423.18 2029.51,1404.28 \"/>\n",
       "<path clip-path=\"url(#clip460)\" d=\"M293.708 1468.75 L323.384 1468.75 L323.384 1472.69 L293.708 1472.69 L293.708 1468.75 Z\" fill=\"#000000\" fill-rule=\"nonzero\" fill-opacity=\"1\" /><path clip-path=\"url(#clip460)\" d=\"M346.324 1455.09 L334.518 1473.54 L346.324 1473.54 L346.324 1455.09 M345.097 1451.02 L350.976 1451.02 L350.976 1473.54 L355.907 1473.54 L355.907 1477.43 L350.976 1477.43 L350.976 1485.58 L346.324 1485.58 L346.324 1477.43 L330.722 1477.43 L330.722 1472.92 L345.097 1451.02 Z\" fill=\"#000000\" fill-rule=\"nonzero\" fill-opacity=\"1\" /><path clip-path=\"url(#clip460)\" d=\"M862.51 1468.75 L892.186 1468.75 L892.186 1472.69 L862.51 1472.69 L862.51 1468.75 Z\" fill=\"#000000\" fill-rule=\"nonzero\" fill-opacity=\"1\" /><path clip-path=\"url(#clip460)\" d=\"M916.445 1466.95 Q919.801 1467.66 921.676 1469.93 Q923.574 1472.2 923.574 1475.53 Q923.574 1480.65 920.056 1483.45 Q916.537 1486.25 910.056 1486.25 Q907.88 1486.25 905.565 1485.81 Q903.274 1485.39 900.82 1484.54 L900.82 1480.02 Q902.764 1481.16 905.079 1481.74 Q907.394 1482.32 909.917 1482.32 Q914.315 1482.32 916.607 1480.58 Q918.922 1478.84 918.922 1475.53 Q918.922 1472.48 916.769 1470.77 Q914.639 1469.03 910.82 1469.03 L906.792 1469.03 L906.792 1465.19 L911.005 1465.19 Q914.454 1465.19 916.283 1463.82 Q918.112 1462.43 918.112 1459.84 Q918.112 1457.18 916.213 1455.77 Q914.338 1454.33 910.82 1454.33 Q908.899 1454.33 906.7 1454.75 Q904.501 1455.16 901.862 1456.04 L901.862 1451.88 Q904.524 1451.14 906.838 1450.77 Q909.176 1450.39 911.237 1450.39 Q916.561 1450.39 919.662 1452.83 Q922.764 1455.23 922.764 1459.35 Q922.764 1462.22 921.121 1464.21 Q919.477 1466.18 916.445 1466.95 Z\" fill=\"#000000\" fill-rule=\"nonzero\" fill-opacity=\"1\" /><path clip-path=\"url(#clip460)\" d=\"M1431.22 1468.75 L1460.9 1468.75 L1460.9 1472.69 L1431.22 1472.69 L1431.22 1468.75 Z\" fill=\"#000000\" fill-rule=\"nonzero\" fill-opacity=\"1\" /><path clip-path=\"url(#clip460)\" d=\"M1475.02 1481.64 L1491.33 1481.64 L1491.33 1485.58 L1469.39 1485.58 L1469.39 1481.64 Q1472.05 1478.89 1476.64 1474.26 Q1481.24 1469.61 1482.42 1468.27 Q1484.67 1465.74 1485.55 1464.01 Q1486.45 1462.25 1486.45 1460.56 Q1486.45 1457.8 1484.51 1456.07 Q1482.58 1454.33 1479.48 1454.33 Q1477.28 1454.33 1474.83 1455.09 Q1472.4 1455.86 1469.62 1457.41 L1469.62 1452.69 Q1472.45 1451.55 1474.9 1450.97 Q1477.35 1450.39 1479.39 1450.39 Q1484.76 1450.39 1487.96 1453.08 Q1491.15 1455.77 1491.15 1460.26 Q1491.15 1462.39 1490.34 1464.31 Q1489.55 1466.2 1487.45 1468.8 Q1486.87 1469.47 1483.77 1472.69 Q1480.66 1475.88 1475.02 1481.64 Z\" fill=\"#000000\" fill-rule=\"nonzero\" fill-opacity=\"1\" /><path clip-path=\"url(#clip460)\" d=\"M1999.27 1468.75 L2028.94 1468.75 L2028.94 1472.69 L1999.27 1472.69 L1999.27 1468.75 Z\" fill=\"#000000\" fill-rule=\"nonzero\" fill-opacity=\"1\" /><path clip-path=\"url(#clip460)\" d=\"M2039.85 1481.64 L2047.49 1481.64 L2047.49 1455.28 L2039.18 1456.95 L2039.18 1452.69 L2047.44 1451.02 L2052.12 1451.02 L2052.12 1481.64 L2059.75 1481.64 L2059.75 1485.58 L2039.85 1485.58 L2039.85 1481.64 Z\" fill=\"#000000\" fill-rule=\"nonzero\" fill-opacity=\"1\" /><path clip-path=\"url(#clip460)\" d=\"M1084.49 1518.52 L1090.35 1518.52 L1090.35 1568.04 L1084.49 1568.04 L1084.49 1518.52 Z\" fill=\"#000000\" fill-rule=\"nonzero\" fill-opacity=\"1\" /><path clip-path=\"url(#clip460)\" d=\"M1116.42 1536.5 Q1111.71 1536.5 1108.97 1540.19 Q1106.23 1543.85 1106.23 1550.25 Q1106.23 1556.65 1108.94 1560.34 Q1111.67 1564 1116.42 1564 Q1121.09 1564 1123.83 1560.31 Q1126.57 1556.62 1126.57 1550.25 Q1126.57 1543.92 1123.83 1540.23 Q1121.09 1536.5 1116.42 1536.5 M1116.42 1531.54 Q1124.06 1531.54 1128.42 1536.5 Q1132.78 1541.47 1132.78 1550.25 Q1132.78 1559 1128.42 1564 Q1124.06 1568.97 1116.42 1568.97 Q1108.75 1568.97 1104.38 1564 Q1100.06 1559 1100.06 1550.25 Q1100.06 1541.47 1104.38 1536.5 Q1108.75 1531.54 1116.42 1531.54 Z\" fill=\"#000000\" fill-rule=\"nonzero\" fill-opacity=\"1\" /><path clip-path=\"url(#clip460)\" d=\"M1165.94 1549.81 Q1165.94 1543.44 1163.3 1539.94 Q1160.69 1536.44 1155.95 1536.44 Q1151.24 1536.44 1148.59 1539.94 Q1145.98 1543.44 1145.98 1549.81 Q1145.98 1556.14 1148.59 1559.64 Q1151.24 1563.14 1155.95 1563.14 Q1160.69 1563.14 1163.3 1559.64 Q1165.94 1556.14 1165.94 1549.81 M1171.8 1563.62 Q1171.8 1572.72 1167.76 1577.15 Q1163.71 1581.6 1155.37 1581.6 Q1152.29 1581.6 1149.55 1581.13 Q1146.81 1580.68 1144.23 1579.72 L1144.23 1574.03 Q1146.81 1575.43 1149.33 1576.1 Q1151.84 1576.76 1154.45 1576.76 Q1160.21 1576.76 1163.08 1573.74 Q1165.94 1570.75 1165.94 1564.67 L1165.94 1561.77 Q1164.13 1564.92 1161.29 1566.48 Q1158.46 1568.04 1154.51 1568.04 Q1147.96 1568.04 1143.95 1563.05 Q1139.94 1558.05 1139.94 1549.81 Q1139.94 1541.53 1143.95 1536.53 Q1147.96 1531.54 1154.51 1531.54 Q1158.46 1531.54 1161.29 1533.1 Q1164.13 1534.66 1165.94 1537.81 L1165.94 1532.4 L1171.8 1532.4 L1171.8 1563.62 Z\" fill=\"#000000\" fill-rule=\"nonzero\" fill-opacity=\"1\" /><path clip-path=\"url(#clip460)\" d=\"M1185.8 1562.63 L1196.31 1562.63 L1196.31 1526.38 L1184.88 1528.67 L1184.88 1522.82 L1196.24 1520.52 L1202.67 1520.52 L1202.67 1562.63 L1213.17 1562.63 L1213.17 1568.04 L1185.8 1568.04 L1185.8 1562.63 Z\" fill=\"#000000\" fill-rule=\"nonzero\" fill-opacity=\"1\" /><path clip-path=\"url(#clip460)\" d=\"M1239.91 1524.76 Q1234.95 1524.76 1232.43 1529.66 Q1229.95 1534.53 1229.95 1544.33 Q1229.95 1554.1 1232.43 1559 Q1234.95 1563.87 1239.91 1563.87 Q1244.91 1563.87 1247.39 1559 Q1249.91 1554.1 1249.91 1544.33 Q1249.91 1534.53 1247.39 1529.66 Q1244.91 1524.76 1239.91 1524.76 M1239.91 1519.66 Q1247.9 1519.66 1252.1 1526 Q1256.33 1532.3 1256.33 1544.33 Q1256.33 1556.33 1252.1 1562.66 Q1247.9 1568.97 1239.91 1568.97 Q1231.92 1568.97 1227.69 1562.66 Q1223.49 1556.33 1223.49 1544.33 Q1223.49 1532.3 1227.69 1526 Q1231.92 1519.66 1239.91 1519.66 Z\" fill=\"#000000\" fill-rule=\"nonzero\" fill-opacity=\"1\" /><path clip-path=\"url(#clip460)\" d=\"M1280.87 1518.58 Q1276.61 1525.9 1274.54 1533.06 Q1272.47 1540.23 1272.47 1547.58 Q1272.47 1554.93 1274.54 1562.16 Q1276.64 1569.35 1280.87 1576.64 L1275.78 1576.64 Q1271.01 1569.16 1268.62 1561.93 Q1266.26 1554.71 1266.26 1547.58 Q1266.26 1540.48 1268.62 1533.29 Q1270.98 1526.09 1275.78 1518.58 L1280.87 1518.58 Z\" fill=\"#000000\" fill-rule=\"nonzero\" fill-opacity=\"1\" /><path clip-path=\"url(#clip460)\" d=\"M1304.75 1568.04 L1286.6 1520.52 L1293.32 1520.52 L1308.37 1560.53 L1323.46 1520.52 L1330.14 1520.52 L1312.03 1568.04 L1304.75 1568.04 Z\" fill=\"#000000\" fill-rule=\"nonzero\" fill-opacity=\"1\" /><path clip-path=\"url(#clip460)\" d=\"M1367.96 1520.52 L1373.37 1520.52 L1356.82 1574.09 L1351.41 1574.09 L1367.96 1520.52 Z\" fill=\"#000000\" fill-rule=\"nonzero\" fill-opacity=\"1\" /><path clip-path=\"url(#clip460)\" d=\"M1427.99 1539.24 Q1430.18 1535.29 1433.24 1533.41 Q1436.29 1531.54 1440.43 1531.54 Q1446 1531.54 1449.02 1535.45 Q1452.05 1539.33 1452.05 1546.53 L1452.05 1568.04 L1446.16 1568.04 L1446.16 1546.72 Q1446.16 1541.59 1444.35 1539.11 Q1442.53 1536.63 1438.81 1536.63 Q1434.26 1536.63 1431.61 1539.65 Q1428.97 1542.68 1428.97 1547.9 L1428.97 1568.04 L1423.08 1568.04 L1423.08 1546.72 Q1423.08 1541.56 1421.27 1539.11 Q1419.46 1536.63 1415.67 1536.63 Q1411.18 1536.63 1408.54 1539.68 Q1405.9 1542.71 1405.9 1547.9 L1405.9 1568.04 L1400.01 1568.04 L1400.01 1532.4 L1405.9 1532.4 L1405.9 1537.93 Q1407.9 1534.66 1410.7 1533.1 Q1413.5 1531.54 1417.35 1531.54 Q1421.24 1531.54 1423.94 1533.51 Q1426.68 1535.48 1427.99 1539.24 Z\" fill=\"#000000\" fill-rule=\"nonzero\" fill-opacity=\"1\" /><path clip-path=\"url(#clip460)\" d=\"M1474.26 1532.4 Q1477.19 1532.97 1478.78 1534.72 Q1480.41 1536.44 1480.41 1539.05 Q1480.41 1542.99 1477.38 1545.13 Q1474.36 1547.26 1468.73 1547.26 Q1466.91 1547.26 1464.91 1546.94 Q1462.93 1546.59 1460.71 1545.95 L1460.71 1542.1 Q1462.36 1542.96 1464.24 1543.38 Q1466.15 1543.79 1468.28 1543.79 Q1471.75 1543.79 1473.66 1542.55 Q1475.57 1541.28 1475.57 1539.05 Q1475.57 1536.69 1473.79 1535.48 Q1472.04 1534.27 1468.6 1534.27 L1465.86 1534.27 L1465.86 1530.84 L1468.85 1530.84 Q1471.85 1530.84 1473.37 1529.85 Q1474.93 1528.83 1474.93 1526.92 Q1474.93 1525.08 1473.34 1524.12 Q1471.75 1523.13 1468.73 1523.13 Q1467.45 1523.13 1465.83 1523.42 Q1464.21 1523.71 1461.63 1524.44 L1461.63 1520.78 Q1463.95 1520.24 1465.99 1519.95 Q1468.03 1519.66 1469.78 1519.66 Q1474.36 1519.66 1477.03 1521.54 Q1479.74 1523.42 1479.74 1526.57 Q1479.74 1528.77 1478.31 1530.3 Q1476.87 1531.82 1474.26 1532.4 Z\" fill=\"#000000\" fill-rule=\"nonzero\" fill-opacity=\"1\" /><path clip-path=\"url(#clip460)\" d=\"M1488.94 1518.58 L1494.03 1518.58 Q1498.8 1526.09 1501.16 1533.29 Q1503.55 1540.48 1503.55 1547.58 Q1503.55 1554.71 1501.16 1561.93 Q1498.8 1569.16 1494.03 1576.64 L1488.94 1576.64 Q1493.17 1569.35 1495.24 1562.16 Q1497.34 1554.93 1497.34 1547.58 Q1497.34 1540.23 1495.24 1533.06 Q1493.17 1525.9 1488.94 1518.58 Z\" fill=\"#000000\" fill-rule=\"nonzero\" fill-opacity=\"1\" /><polyline clip-path=\"url(#clip462)\" style=\"stroke:#000000; stroke-linecap:round; stroke-linejoin:round; stroke-width:2; stroke-opacity:0.1; fill:none\" points=\"235.283,1181.66 2352.76,1181.66 \"/>\n",
       "<polyline clip-path=\"url(#clip462)\" style=\"stroke:#000000; stroke-linecap:round; stroke-linejoin:round; stroke-width:2; stroke-opacity:0.1; fill:none\" points=\"235.283,881.682 2352.76,881.682 \"/>\n",
       "<polyline clip-path=\"url(#clip462)\" style=\"stroke:#000000; stroke-linecap:round; stroke-linejoin:round; stroke-width:2; stroke-opacity:0.1; fill:none\" points=\"235.283,581.71 2352.76,581.71 \"/>\n",
       "<polyline clip-path=\"url(#clip462)\" style=\"stroke:#000000; stroke-linecap:round; stroke-linejoin:round; stroke-width:2; stroke-opacity:0.1; fill:none\" points=\"235.283,281.737 2352.76,281.737 \"/>\n",
       "<polyline clip-path=\"url(#clip460)\" style=\"stroke:#000000; stroke-linecap:round; stroke-linejoin:round; stroke-width:4; stroke-opacity:1; fill:none\" points=\"235.283,1423.18 235.283,47.2441 \"/>\n",
       "<polyline clip-path=\"url(#clip460)\" style=\"stroke:#000000; stroke-linecap:round; stroke-linejoin:round; stroke-width:4; stroke-opacity:1; fill:none\" points=\"2352.76,1423.18 2352.76,47.2441 \"/>\n",
       "<polyline clip-path=\"url(#clip460)\" style=\"stroke:#000000; stroke-linecap:round; stroke-linejoin:round; stroke-width:4; stroke-opacity:1; fill:none\" points=\"235.283,1181.66 254.18,1181.66 \"/>\n",
       "<polyline clip-path=\"url(#clip460)\" style=\"stroke:#000000; stroke-linecap:round; stroke-linejoin:round; stroke-width:4; stroke-opacity:1; fill:none\" points=\"235.283,881.682 254.18,881.682 \"/>\n",
       "<polyline clip-path=\"url(#clip460)\" style=\"stroke:#000000; stroke-linecap:round; stroke-linejoin:round; stroke-width:4; stroke-opacity:1; fill:none\" points=\"235.283,581.71 254.18,581.71 \"/>\n",
       "<polyline clip-path=\"url(#clip460)\" style=\"stroke:#000000; stroke-linecap:round; stroke-linejoin:round; stroke-width:4; stroke-opacity:1; fill:none\" points=\"235.283,281.737 254.18,281.737 \"/>\n",
       "<path clip-path=\"url(#clip460)\" d=\"M121.043 1195 L137.362 1195 L137.362 1198.94 L115.418 1198.94 L115.418 1195 Q118.08 1192.25 122.663 1187.62 Q127.269 1182.96 128.45 1181.62 Q130.695 1179.1 131.575 1177.36 Q132.478 1175.6 132.478 1173.91 Q132.478 1171.16 130.533 1169.42 Q128.612 1167.69 125.51 1167.69 Q123.311 1167.69 120.857 1168.45 Q118.427 1169.21 115.649 1170.76 L115.649 1166.04 Q118.473 1164.91 120.927 1164.33 Q123.38 1163.75 125.418 1163.75 Q130.788 1163.75 133.982 1166.44 Q137.177 1169.12 137.177 1173.61 Q137.177 1175.74 136.367 1177.66 Q135.579 1179.56 133.473 1182.15 Q132.894 1182.82 129.792 1186.04 Q126.691 1189.24 121.043 1195 Z\" fill=\"#000000\" fill-rule=\"nonzero\" fill-opacity=\"1\" /><path clip-path=\"url(#clip460)\" d=\"M147.223 1164.38 L165.579 1164.38 L165.579 1168.31 L151.505 1168.31 L151.505 1176.78 Q152.524 1176.44 153.542 1176.27 Q154.561 1176.09 155.579 1176.09 Q161.366 1176.09 164.746 1179.26 Q168.126 1182.43 168.126 1187.85 Q168.126 1193.43 164.653 1196.53 Q161.181 1199.61 154.862 1199.61 Q152.686 1199.61 150.417 1199.24 Q148.172 1198.87 145.765 1198.12 L145.765 1193.43 Q147.848 1194.56 150.07 1195.12 Q152.292 1195.67 154.769 1195.67 Q158.774 1195.67 161.112 1193.56 Q163.45 1191.46 163.45 1187.85 Q163.45 1184.24 161.112 1182.13 Q158.774 1180.02 154.769 1180.02 Q152.894 1180.02 151.019 1180.44 Q149.167 1180.86 147.223 1181.74 L147.223 1164.38 Z\" fill=\"#000000\" fill-rule=\"nonzero\" fill-opacity=\"1\" /><path clip-path=\"url(#clip460)\" d=\"M187.338 1167.45 Q183.727 1167.45 181.899 1171.02 Q180.093 1174.56 180.093 1181.69 Q180.093 1188.8 181.899 1192.36 Q183.727 1195.9 187.338 1195.9 Q190.973 1195.9 192.778 1192.36 Q194.607 1188.8 194.607 1181.69 Q194.607 1174.56 192.778 1171.02 Q190.973 1167.45 187.338 1167.45 M187.338 1163.75 Q193.149 1163.75 196.204 1168.36 Q199.283 1172.94 199.283 1181.69 Q199.283 1190.42 196.204 1195.02 Q193.149 1199.61 187.338 1199.61 Q181.528 1199.61 178.45 1195.02 Q175.394 1190.42 175.394 1181.69 Q175.394 1172.94 178.45 1168.36 Q181.528 1163.75 187.338 1163.75 Z\" fill=\"#000000\" fill-rule=\"nonzero\" fill-opacity=\"1\" /><path clip-path=\"url(#clip460)\" d=\"M131.181 880.328 Q134.538 881.046 136.413 883.314 Q138.311 885.583 138.311 888.916 Q138.311 894.032 134.792 896.833 Q131.274 899.634 124.793 899.634 Q122.617 899.634 120.302 899.194 Q118.01 898.777 115.556 897.921 L115.556 893.407 Q117.501 894.541 119.816 895.12 Q122.13 895.699 124.654 895.699 Q129.052 895.699 131.343 893.963 Q133.658 892.226 133.658 888.916 Q133.658 885.861 131.505 884.148 Q129.376 882.412 125.556 882.412 L121.529 882.412 L121.529 878.569 L125.742 878.569 Q129.191 878.569 131.019 877.203 Q132.848 875.814 132.848 873.222 Q132.848 870.56 130.95 869.148 Q129.075 867.713 125.556 867.713 Q123.635 867.713 121.436 868.129 Q119.237 868.546 116.598 869.426 L116.598 865.259 Q119.26 864.518 121.575 864.148 Q123.913 863.778 125.973 863.778 Q131.297 863.778 134.399 866.208 Q137.501 868.615 137.501 872.736 Q137.501 875.606 135.857 877.597 Q134.214 879.564 131.181 880.328 Z\" fill=\"#000000\" fill-rule=\"nonzero\" fill-opacity=\"1\" /><path clip-path=\"url(#clip460)\" d=\"M157.177 867.481 Q153.566 867.481 151.737 871.046 Q149.931 874.588 149.931 881.717 Q149.931 888.824 151.737 892.388 Q153.566 895.93 157.177 895.93 Q160.811 895.93 162.616 892.388 Q164.445 888.824 164.445 881.717 Q164.445 874.588 162.616 871.046 Q160.811 867.481 157.177 867.481 M157.177 863.778 Q162.987 863.778 166.042 868.384 Q169.121 872.967 169.121 881.717 Q169.121 890.444 166.042 895.05 Q162.987 899.634 157.177 899.634 Q151.366 899.634 148.288 895.05 Q145.232 890.444 145.232 881.717 Q145.232 872.967 148.288 868.384 Q151.366 863.778 157.177 863.778 Z\" fill=\"#000000\" fill-rule=\"nonzero\" fill-opacity=\"1\" /><path clip-path=\"url(#clip460)\" d=\"M187.338 867.481 Q183.727 867.481 181.899 871.046 Q180.093 874.588 180.093 881.717 Q180.093 888.824 181.899 892.388 Q183.727 895.93 187.338 895.93 Q190.973 895.93 192.778 892.388 Q194.607 888.824 194.607 881.717 Q194.607 874.588 192.778 871.046 Q190.973 867.481 187.338 867.481 M187.338 863.778 Q193.149 863.778 196.204 868.384 Q199.283 872.967 199.283 881.717 Q199.283 890.444 196.204 895.05 Q193.149 899.634 187.338 899.634 Q181.528 899.634 178.45 895.05 Q175.394 890.444 175.394 881.717 Q175.394 872.967 178.45 868.384 Q181.528 863.778 187.338 863.778 Z\" fill=\"#000000\" fill-rule=\"nonzero\" fill-opacity=\"1\" /><path clip-path=\"url(#clip460)\" d=\"M131.181 580.356 Q134.538 581.073 136.413 583.342 Q138.311 585.61 138.311 588.944 Q138.311 594.059 134.792 596.86 Q131.274 599.661 124.793 599.661 Q122.617 599.661 120.302 599.221 Q118.01 598.805 115.556 597.948 L115.556 593.434 Q117.501 594.569 119.816 595.147 Q122.13 595.726 124.654 595.726 Q129.052 595.726 131.343 593.99 Q133.658 592.254 133.658 588.944 Q133.658 585.888 131.505 584.175 Q129.376 582.439 125.556 582.439 L121.529 582.439 L121.529 578.596 L125.742 578.596 Q129.191 578.596 131.019 577.231 Q132.848 575.842 132.848 573.249 Q132.848 570.587 130.95 569.175 Q129.075 567.74 125.556 567.74 Q123.635 567.74 121.436 568.157 Q119.237 568.573 116.598 569.453 L116.598 565.286 Q119.26 564.546 121.575 564.175 Q123.913 563.805 125.973 563.805 Q131.297 563.805 134.399 566.235 Q137.501 568.643 137.501 572.763 Q137.501 575.634 135.857 577.624 Q134.214 579.592 131.181 580.356 Z\" fill=\"#000000\" fill-rule=\"nonzero\" fill-opacity=\"1\" /><path clip-path=\"url(#clip460)\" d=\"M147.223 564.43 L165.579 564.43 L165.579 568.365 L151.505 568.365 L151.505 576.837 Q152.524 576.49 153.542 576.328 Q154.561 576.143 155.579 576.143 Q161.366 576.143 164.746 579.314 Q168.126 582.485 168.126 587.902 Q168.126 593.481 164.653 596.582 Q161.181 599.661 154.862 599.661 Q152.686 599.661 150.417 599.291 Q148.172 598.92 145.765 598.18 L145.765 593.481 Q147.848 594.615 150.07 595.17 Q152.292 595.726 154.769 595.726 Q158.774 595.726 161.112 593.62 Q163.45 591.513 163.45 587.902 Q163.45 584.291 161.112 582.184 Q158.774 580.078 154.769 580.078 Q152.894 580.078 151.019 580.495 Q149.167 580.911 147.223 581.791 L147.223 564.43 Z\" fill=\"#000000\" fill-rule=\"nonzero\" fill-opacity=\"1\" /><path clip-path=\"url(#clip460)\" d=\"M187.338 567.509 Q183.727 567.509 181.899 571.073 Q180.093 574.615 180.093 581.745 Q180.093 588.851 181.899 592.416 Q183.727 595.957 187.338 595.957 Q190.973 595.957 192.778 592.416 Q194.607 588.851 194.607 581.745 Q194.607 574.615 192.778 571.073 Q190.973 567.509 187.338 567.509 M187.338 563.805 Q193.149 563.805 196.204 568.411 Q199.283 572.995 199.283 581.745 Q199.283 590.471 196.204 595.078 Q193.149 599.661 187.338 599.661 Q181.528 599.661 178.45 595.078 Q175.394 590.471 175.394 581.745 Q175.394 572.995 178.45 568.411 Q181.528 563.805 187.338 563.805 Z\" fill=\"#000000\" fill-rule=\"nonzero\" fill-opacity=\"1\" /><path clip-path=\"url(#clip460)\" d=\"M129.862 268.531 L118.056 286.98 L129.862 286.98 L129.862 268.531 M128.635 264.457 L134.515 264.457 L134.515 286.98 L139.445 286.98 L139.445 290.869 L134.515 290.869 L134.515 299.017 L129.862 299.017 L129.862 290.869 L114.26 290.869 L114.26 286.355 L128.635 264.457 Z\" fill=\"#000000\" fill-rule=\"nonzero\" fill-opacity=\"1\" /><path clip-path=\"url(#clip460)\" d=\"M157.177 267.536 Q153.566 267.536 151.737 271.101 Q149.931 274.642 149.931 281.772 Q149.931 288.878 151.737 292.443 Q153.566 295.985 157.177 295.985 Q160.811 295.985 162.616 292.443 Q164.445 288.878 164.445 281.772 Q164.445 274.642 162.616 271.101 Q160.811 267.536 157.177 267.536 M157.177 263.832 Q162.987 263.832 166.042 268.439 Q169.121 273.022 169.121 281.772 Q169.121 290.499 166.042 295.105 Q162.987 299.689 157.177 299.689 Q151.366 299.689 148.288 295.105 Q145.232 290.499 145.232 281.772 Q145.232 273.022 148.288 268.439 Q151.366 263.832 157.177 263.832 Z\" fill=\"#000000\" fill-rule=\"nonzero\" fill-opacity=\"1\" /><path clip-path=\"url(#clip460)\" d=\"M187.338 267.536 Q183.727 267.536 181.899 271.101 Q180.093 274.642 180.093 281.772 Q180.093 288.878 181.899 292.443 Q183.727 295.985 187.338 295.985 Q190.973 295.985 192.778 292.443 Q194.607 288.878 194.607 281.772 Q194.607 274.642 192.778 271.101 Q190.973 267.536 187.338 267.536 M187.338 263.832 Q193.149 263.832 196.204 268.439 Q199.283 273.022 199.283 281.772 Q199.283 290.499 196.204 295.105 Q193.149 299.689 187.338 299.689 Q181.528 299.689 178.45 295.105 Q175.394 290.499 175.394 281.772 Q175.394 273.022 178.45 268.439 Q181.528 263.832 187.338 263.832 Z\" fill=\"#000000\" fill-rule=\"nonzero\" fill-opacity=\"1\" /><path clip-path=\"url(#clip460)\" d=\"M16.4842 808.975 L16.4842 768.775 L21.895 768.775 L21.895 785.644 L64.0042 785.644 L64.0042 792.105 L21.895 792.105 L21.895 808.975 L16.4842 808.975 Z\" fill=\"#000000\" fill-rule=\"nonzero\" fill-opacity=\"1\" /><path clip-path=\"url(#clip460)\" d=\"M16.4842 731.695 L16.4842 726.284 L70.0516 742.835 L70.0516 748.246 L16.4842 731.695 Z\" fill=\"#000000\" fill-rule=\"nonzero\" fill-opacity=\"1\" /><path clip-path=\"url(#clip460)\" d=\"M16.4842 699.166 L16.4842 692.737 L36.568 692.737 L16.4842 671.412 L16.4842 663.136 L38.6368 686.721 L64.0042 661.449 L64.0042 669.916 L41.1194 692.737 L64.0042 692.737 L64.0042 699.166 L16.4842 699.166 Z\" fill=\"#000000\" fill-rule=\"nonzero\" fill-opacity=\"1\" /><polyline clip-path=\"url(#clip462)\" style=\"stroke:#009af9; stroke-linecap:round; stroke-linejoin:round; stroke-width:8; stroke-opacity:1; fill:none\" points=\"295.211,1383.85 295.359,1381.25 295.506,1378.65 295.654,1376.05 295.802,1373.45 295.95,1370.85 296.098,1368.25 296.247,1365.65 296.396,1363.05 296.545,1360.45 296.695,1357.85 296.844,1355.25 296.994,1352.65 297.145,1350.05 297.295,1347.45 297.446,1344.85 297.597,1342.25 297.748,1339.65 297.899,1337.05 298.051,1334.45 298.203,1331.85 298.355,1329.25 298.508,1326.65 298.661,1324.05 298.814,1321.45 298.967,1318.85 299.121,1316.25 299.274,1313.65 299.428,1311.05 299.583,1308.45 299.737,1305.85 299.892,1303.25 300.047,1300.65 300.203,1298.05 300.359,1295.45 300.515,1292.85 300.671,1290.25 300.827,1287.65 300.984,1285.05 301.141,1282.45 301.299,1279.85 301.456,1277.25 301.614,1274.65 301.772,1272.05 301.931,1269.45 302.089,1266.85 302.249,1264.25 302.408,1261.65 302.567,1259.05 302.727,1256.45 302.888,1253.85 303.048,1251.25 303.209,1248.65 303.37,1246.05 303.531,1243.45 303.693,1240.85 303.855,1238.25 304.017,1235.65 304.179,1233.05 304.342,1230.45 304.505,1227.85 304.669,1225.25 304.833,1222.65 304.997,1220.05 305.161,1217.45 305.326,1214.85 305.491,1212.25 305.656,1209.65 305.821,1207.05 305.987,1204.45 306.153,1201.85 306.32,1199.25 306.487,1196.65 306.654,1194.05 306.821,1191.45 306.989,1188.85 307.157,1186.25 307.326,1183.65 307.494,1181.05 307.663,1178.45 307.833,1175.85 308.003,1173.25 308.173,1170.65 308.343,1168.05 308.514,1165.45 308.685,1162.85 308.856,1160.25 309.028,1157.65 309.2,1155.05 309.372,1152.45 309.545,1149.85 309.718,1147.25 309.891,1144.65 310.065,1142.05 310.239,1139.45 310.414,1136.85 310.588,1134.25 310.763,1131.65 310.939,1129.05 311.115,1126.45 311.291,1123.85 311.468,1121.25 311.644,1118.65 311.822,1116.05 311.999,1113.45 312.177,1110.85 312.356,1108.25 312.534,1105.65 312.713,1103.05 312.893,1100.45 313.073,1097.85 313.253,1095.25 313.433,1092.65 313.614,1090.05 313.796,1087.45 313.977,1084.85 314.16,1082.25 314.342,1079.65 314.525,1077.05 314.708,1074.45 314.892,1071.85 315.076,1069.25 315.26,1066.65 315.445,1064.05 315.63,1061.45 315.816,1058.85 316.002,1056.25 316.188,1053.65 316.375,1051.05 316.562,1048.45 316.75,1045.85 316.938,1043.25 317.126,1040.65 317.315,1038.05 317.504,1035.45 317.694,1032.85 317.884,1030.25 318.075,1027.65 318.265,1025.05 318.457,1022.45 318.649,1019.85 318.841,1017.25 319.033,1014.65 319.227,1012.05 319.42,1009.45 319.614,1006.85 319.808,1004.25 320.003,1001.65 320.198,999.05 320.394,996.45 320.59,993.85 320.787,991.25 320.984,988.65 321.182,986.05 321.38,983.45 321.578,980.85 321.777,978.25 321.976,975.65 322.176,973.05 322.376,970.45 322.577,967.85 322.778,965.25 322.98,962.65 323.182,960.05 323.385,957.45 323.588,954.85 323.792,952.25 323.996,949.65 324.201,947.05 324.406,944.45 324.612,941.85 324.818,939.25 325.024,936.65 325.232,934.05 325.439,931.45 325.647,928.85 325.856,926.25 326.065,923.65 326.275,921.05 326.485,918.45 326.696,915.85 326.907,913.25 327.119,910.65 327.331,908.05 327.544,905.449 327.758,902.849 327.972,900.249 328.186,897.649 328.401,895.049 328.617,892.449 328.833,889.849 329.05,887.249 329.267,884.649 329.485,882.049 329.704,879.449 329.923,876.849 330.142,874.249 330.362,871.649 330.583,869.049 330.804,866.449 331.026,863.849 331.249,861.249 331.472,858.649 331.696,856.049 331.92,853.449 332.145,850.849 332.37,848.249 332.597,845.649 332.823,843.049 333.051,840.449 333.279,837.849 333.507,835.249 333.737,832.649 333.967,830.049 334.197,827.449 334.428,824.849 334.66,822.249 334.893,819.649 335.126,817.049 335.36,814.449 335.594,811.849 335.829,809.249 336.065,806.649 336.302,804.049 336.539,801.449 336.777,798.849 337.015,796.249 337.254,793.649 337.494,791.049 337.735,788.449 337.976,785.849 338.218,783.249 338.461,780.649 338.705,778.049 338.949,775.449 339.194,772.849 339.44,770.249 339.686,767.649 339.933,765.049 340.181,762.449 340.43,759.849 340.679,757.249 340.93,754.649 341.181,752.049 341.432,749.449 341.685,746.849 341.938,744.249 342.193,741.649 342.448,739.049 342.703,736.449 342.96,733.849 343.217,731.249 343.476,728.649 343.735,726.049 343.994,723.449 344.255,720.849 344.517,718.249 344.779,715.649 345.043,713.048 345.307,710.448 345.572,707.848 345.838,705.248 346.104,702.648 346.372,700.048 346.641,697.448 346.91,694.848 347.181,692.248 347.452,689.648 347.724,687.048 347.997,684.448 348.272,681.848 348.547,679.248 348.823,676.648 349.1,674.048 349.378,671.448 349.657,668.848 349.937,666.248 350.218,663.648 350.499,661.048 350.782,658.448 351.066,655.848 351.351,653.248 351.637,650.648 351.925,648.048 352.213,645.448 352.502,642.848 352.792,640.248 353.083,637.648 353.376,635.048 353.669,632.448 353.964,629.848 354.26,627.248 354.557,624.648 354.855,622.048 355.154,619.448 355.454,616.848 355.756,614.248 356.058,611.648 356.362,609.048 356.667,606.448 356.973,603.848 357.281,601.248 357.589,598.648 357.899,596.048 358.211,593.448 358.523,590.848 358.837,588.248 359.152,585.648 359.468,583.048 359.786,580.448 360.105,577.848 360.425,575.248 360.746,572.648 361.069,570.048 361.394,567.448 361.719,564.848 362.047,562.248 362.375,559.648 362.705,557.048 363.037,554.448 363.369,551.848 363.704,549.248 364.04,546.648 364.377,544.048 364.716,541.448 365.056,538.848 365.398,536.248 365.742,533.648 366.087,531.048 366.433,528.448 366.782,525.848 367.132,523.247 367.483,520.647 367.836,518.047 368.191,515.447 368.548,512.847 368.906,510.247 369.266,507.647 369.628,505.047 369.992,502.447 370.357,499.847 370.724,497.247 371.094,494.647 371.465,492.047 371.837,489.447 372.212,486.847 372.589,484.247 372.967,481.647 373.348,479.047 373.73,476.447 374.115,473.847 374.502,471.247 374.89,468.647 375.281,466.047 375.674,463.447 376.069,460.847 376.466,458.247 376.866,455.647 377.268,453.047 377.672,450.447 378.078,447.847 378.486,445.247 378.897,442.647 379.31,440.047 379.726,437.447 380.144,434.847 380.565,432.247 380.988,429.647 381.414,427.047 381.842,424.447 382.273,421.847 382.706,419.247 383.142,416.647 383.581,414.047 384.023,411.447 384.467,408.847 384.915,406.247 385.365,403.647 385.818,401.047 386.274,398.447 386.733,395.847 387.196,393.247 387.661,390.647 388.129,388.047 388.601,385.447 389.076,382.847 389.554,380.247 390.036,377.647 390.521,375.047 391.01,372.447 391.502,369.847 391.997,367.247 392.497,364.647 393,362.047 393.507,359.447 394.017,356.847 394.532,354.247 395.05,351.647 395.573,349.047 396.1,346.447 396.631,343.847 397.166,341.247 397.706,338.647 398.25,336.047 398.798,333.446 399.351,330.846 399.909,328.246 400.472,325.646 401.039,323.046 401.612,320.446 402.189,317.846 402.772,315.246 403.36,312.646 403.954,310.046 404.553,307.446 405.157,304.846 405.767,302.246 406.384,299.646 407.006,297.046 407.634,294.446 408.269,291.846 408.91,289.246 409.558,286.646 410.212,284.046 410.873,281.446 411.542,278.846 412.217,276.246 412.9,273.646 413.591,271.046 414.289,268.446 414.996,265.846 415.71,263.246 416.433,260.646 417.165,258.046 417.905,255.446 418.655,252.846 419.414,250.246 420.183,247.646 420.961,245.046 421.75,242.446 422.55,239.846 423.36,237.246 424.181,234.646 425.014,232.046 425.859,229.446 426.716,226.846 427.586,224.246 428.469,221.646 429.366,219.046 430.276,216.446 431.202,213.846 432.142,211.246 433.098,208.646 434.07,206.046 435.059,203.446 436.066,200.846 437.091,198.246 438.135,195.646 439.198,193.046 440.283,190.446 441.388,187.846 442.517,185.246 443.669,182.646 444.845,180.046 446.048,177.446 447.278,174.846 448.536,172.246 449.824,169.646 451.144,167.046 452.497,164.446 453.886,161.846 455.312,159.246 456.778,156.646 458.287,154.046 459.84,151.446 461.442,148.846 463.095,146.246 464.803,143.646 466.571,141.045 468.403,138.445 470.304,135.845 472.282,133.245 474.342,130.645 476.492,128.045 478.743,125.445 481.104,122.845 483.589,120.245 486.213,117.645 488.994,115.045 491.956,112.445 495.127,109.845 498.544,107.245 502.254,104.645 506.325,102.045 510.85,99.4453 515.973,96.8453 521.93,94.2452 529.174,91.6452 538.818,89.0452 557.389,86.4452 \"/>\n",
       "<polyline clip-path=\"url(#clip462)\" style=\"stroke:#009af9; stroke-linecap:round; stroke-linejoin:round; stroke-width:8; stroke-opacity:1; fill:none\" points=\"2292.44,1383.85 2285.99,1381.25 2279.58,1378.65 2273.19,1376.05 2266.84,1373.45 2260.51,1370.85 2254.22,1368.25 2247.95,1365.65 2241.72,1363.05 2235.51,1360.45 2229.33,1357.85 2223.18,1355.25 2217.06,1352.65 2210.97,1350.05 2204.91,1347.45 2198.87,1344.85 2192.86,1342.25 2186.88,1339.65 2180.93,1337.05 2175,1334.45 2169.1,1331.85 2163.23,1329.25 2157.38,1326.65 2151.56,1324.05 2145.77,1321.45 2140,1318.85 2134.26,1316.25 2128.54,1313.65 2122.85,1311.05 2117.19,1308.45 2111.55,1305.85 2105.94,1303.25 2100.35,1300.65 2094.78,1298.05 2089.25,1295.45 2083.73,1292.85 2078.24,1290.25 2072.77,1287.65 2067.33,1285.05 2061.91,1282.45 2056.52,1279.85 2051.15,1277.25 2045.8,1274.65 2040.47,1272.05 2035.17,1269.45 2029.89,1266.85 2024.64,1264.25 2019.4,1261.65 2014.19,1259.05 2009,1256.45 2003.84,1253.85 1998.69,1251.25 1993.57,1248.65 1988.47,1246.05 1983.39,1243.45 1978.33,1240.85 1973.3,1238.25 1968.28,1235.65 1963.29,1233.05 1958.31,1230.45 1953.36,1227.85 1948.43,1225.25 1943.52,1222.65 1938.63,1220.05 1933.76,1217.45 1928.91,1214.85 1924.08,1212.25 1919.26,1209.65 1914.47,1207.05 1909.7,1204.45 1904.95,1201.85 1900.22,1199.25 1895.51,1196.65 1890.81,1194.05 1886.14,1191.45 1881.48,1188.85 1876.84,1186.25 1872.22,1183.65 1867.62,1181.05 1863.04,1178.45 1858.48,1175.85 1853.93,1173.25 1849.41,1170.65 1844.9,1168.05 1840.41,1165.45 1835.93,1162.85 1831.48,1160.25 1827.04,1157.65 1822.62,1155.05 1818.21,1152.45 1813.82,1149.85 1809.45,1147.25 1805.1,1144.65 1800.77,1142.05 1796.45,1139.45 1792.14,1136.85 1787.86,1134.25 1783.59,1131.65 1779.33,1129.05 1775.1,1126.45 1770.88,1123.85 1766.67,1121.25 1762.48,1118.65 1758.31,1116.05 1754.15,1113.45 1750.01,1110.85 1745.88,1108.25 1741.77,1105.65 1737.67,1103.05 1733.59,1100.45 1729.53,1097.85 1725.48,1095.25 1721.44,1092.65 1717.42,1090.05 1713.41,1087.45 1709.42,1084.85 1705.45,1082.25 1701.48,1079.65 1697.53,1077.05 1693.6,1074.45 1689.68,1071.85 1685.78,1069.25 1681.88,1066.65 1678.01,1064.05 1674.14,1061.45 1670.29,1058.85 1666.46,1056.25 1662.63,1053.65 1658.82,1051.05 1655.03,1048.45 1651.25,1045.85 1647.48,1043.25 1643.72,1040.65 1639.98,1038.05 1636.25,1035.45 1632.53,1032.85 1628.82,1030.25 1625.13,1027.65 1621.45,1025.05 1617.79,1022.45 1614.13,1019.85 1610.49,1017.25 1606.86,1014.65 1603.25,1012.05 1599.64,1009.45 1596.05,1006.85 1592.47,1004.25 1588.9,1001.65 1585.34,999.05 1581.8,996.45 1578.26,993.85 1574.74,991.25 1571.23,988.65 1567.73,986.05 1564.25,983.45 1560.77,980.85 1557.31,978.25 1553.85,975.65 1550.41,973.05 1546.98,970.45 1543.56,967.85 1540.15,965.25 1536.75,962.65 1533.37,960.05 1529.99,957.45 1526.62,954.85 1523.27,952.25 1519.92,949.65 1516.59,947.05 1513.26,944.45 1509.95,941.85 1506.65,939.25 1503.35,936.65 1500.07,934.05 1496.8,931.45 1493.54,928.85 1490.28,926.25 1487.04,923.65 1483.81,921.05 1480.58,918.45 1477.37,915.85 1474.16,913.25 1470.97,910.65 1467.78,908.05 1464.61,905.449 1461.44,902.849 1458.29,900.249 1455.14,897.649 1452,895.049 1448.87,892.449 1445.75,889.849 1442.64,887.249 1439.53,884.649 1436.44,882.049 1433.36,879.449 1430.28,876.849 1427.21,874.249 1424.15,871.649 1421.1,869.049 1418.06,866.449 1415.03,863.849 1412,861.249 1408.99,858.649 1405.98,856.049 1402.98,853.449 1399.99,850.849 1397.01,848.249 1394.03,845.649 1391.06,843.049 1388.1,840.449 1385.15,837.849 1382.21,835.249 1379.27,832.649 1376.35,830.049 1373.43,827.449 1370.51,824.849 1367.61,822.249 1364.71,819.649 1361.82,817.049 1358.94,814.449 1356.06,811.849 1353.2,809.249 1350.34,806.649 1347.48,804.049 1344.64,801.449 1341.8,798.849 1338.97,796.249 1336.14,793.649 1333.33,791.049 1330.52,788.449 1327.71,785.849 1324.91,783.249 1322.12,780.649 1319.34,778.049 1316.56,775.449 1313.79,772.849 1311.03,770.249 1308.27,767.649 1305.52,765.049 1302.78,762.449 1300.04,759.849 1297.31,757.249 1294.59,754.649 1291.87,752.049 1289.16,749.449 1286.45,746.849 1283.75,744.249 1281.06,741.649 1278.37,739.049 1275.68,736.449 1273.01,733.849 1270.34,731.249 1267.67,728.649 1265.02,726.049 1262.36,723.449 1259.72,720.849 1257.07,718.249 1254.44,715.649 1251.81,713.048 1249.18,710.448 1246.56,707.848 1243.95,705.248 1241.34,702.648 1238.74,700.048 1236.14,697.448 1233.55,694.848 1230.96,692.248 1228.38,689.648 1225.8,687.048 1223.23,684.448 1220.66,681.848 1218.1,679.248 1215.54,676.648 1212.99,674.048 1210.44,671.448 1207.9,668.848 1205.36,666.248 1202.83,663.648 1200.3,661.048 1197.77,658.448 1195.25,655.848 1192.74,653.248 1190.23,650.648 1187.72,648.048 1185.22,645.448 1182.72,642.848 1180.23,640.248 1177.74,637.648 1175.26,635.048 1172.78,632.448 1170.3,629.848 1167.83,627.248 1165.36,624.648 1162.9,622.048 1160.44,619.448 1157.98,616.848 1155.53,614.248 1153.08,611.648 1150.63,609.048 1148.19,606.448 1145.75,603.848 1143.32,601.248 1140.89,598.648 1138.46,596.048 1136.04,593.448 1133.62,590.848 1131.21,588.248 1128.79,585.648 1126.38,583.048 1123.98,580.448 1121.57,577.848 1119.17,575.248 1116.78,572.648 1114.38,570.048 1111.99,567.448 1109.61,564.848 1107.22,562.248 1104.84,559.648 1102.46,557.048 1100.09,554.448 1097.71,551.848 1095.34,549.248 1092.98,546.648 1090.61,544.048 1088.25,541.448 1085.89,538.848 1083.53,536.248 1081.18,533.648 1078.82,531.048 1076.47,528.448 1074.13,525.848 1071.78,523.247 1069.44,520.647 1067.1,518.047 1064.76,515.447 1062.42,512.847 1060.09,510.247 1057.75,507.647 1055.42,505.047 1053.09,502.447 1050.77,499.847 1048.44,497.247 1046.12,494.647 1043.79,492.047 1041.47,489.447 1039.15,486.847 1036.84,484.247 1034.52,481.647 1032.21,479.047 1029.89,476.447 1027.58,473.847 1025.27,471.247 1022.96,468.647 1020.65,466.047 1018.34,463.447 1016.04,460.847 1013.73,458.247 1011.43,455.647 1009.12,453.047 1006.82,450.447 1004.52,447.847 1002.22,445.247 999.916,442.647 997.616,440.047 995.316,437.447 993.016,434.847 990.717,432.247 988.418,429.647 986.119,427.047 983.82,424.447 981.522,421.847 979.223,419.247 976.925,416.647 974.626,414.047 972.327,411.447 970.028,408.847 967.728,406.247 965.428,403.647 963.128,401.047 960.826,398.447 958.525,395.847 956.222,393.247 953.919,390.647 951.615,388.047 949.31,385.447 947.004,382.847 944.696,380.247 942.388,377.647 940.078,375.047 937.767,372.447 935.454,369.847 933.14,367.247 930.824,364.647 928.506,362.047 926.186,359.447 923.865,356.847 921.541,354.247 919.215,351.647 916.887,349.047 914.556,346.447 912.223,343.847 909.888,341.247 907.55,338.647 905.208,336.047 902.864,333.446 900.517,330.846 898.166,328.246 895.813,325.646 893.455,323.046 891.095,320.446 888.73,317.846 886.361,315.246 883.989,312.646 881.612,310.046 879.231,307.446 876.846,304.846 874.456,302.246 872.061,299.646 869.661,297.046 867.255,294.446 864.845,291.846 862.429,289.246 860.007,286.646 857.58,284.046 855.146,281.446 852.706,278.846 850.259,276.246 847.806,273.646 845.346,271.046 842.878,268.446 840.403,265.846 837.92,263.246 835.429,260.646 832.93,258.046 830.423,255.446 827.906,252.846 825.38,250.246 822.845,247.646 820.3,245.046 817.745,242.446 815.18,239.846 812.603,237.246 810.015,234.646 807.416,232.046 804.804,229.446 802.18,226.846 799.543,224.246 796.893,221.646 794.228,219.046 791.549,216.446 788.855,213.846 786.145,211.246 783.418,208.646 780.675,206.046 777.914,203.446 775.135,200.846 772.337,198.246 769.518,195.646 766.679,193.046 763.818,190.446 760.934,187.846 758.027,185.246 755.094,182.646 752.136,180.046 749.15,177.446 746.136,174.846 743.091,172.246 740.015,169.646 736.905,167.046 733.76,164.446 730.578,161.846 727.356,159.246 724.093,156.646 720.785,154.046 717.43,151.446 714.025,148.846 710.566,146.246 707.049,143.646 703.471,141.045 699.825,138.445 696.108,135.845 692.313,133.245 688.433,130.645 684.46,128.045 680.384,125.445 676.196,122.845 671.881,120.245 667.426,117.645 662.811,115.045 658.014,112.445 653.007,109.845 647.753,107.245 642.204,104.645 636.295,102.045 629.932,99.4453 622.973,96.8453 615.182,94.2452 606.109,91.6452 594.64,89.0452 574.252,86.4452 \"/>\n",
       "<circle clip-path=\"url(#clip462)\" cx=\"565.73\" cy=\"86.1857\" r=\"14.4\" fill=\"#009af9\" fill-rule=\"evenodd\" fill-opacity=\"1\" stroke=\"#000000\" stroke-opacity=\"1\" stroke-width=\"3.2\"/>\n",
       "<polyline clip-path=\"url(#clip462)\" style=\"stroke:#e26f46; stroke-linecap:round; stroke-linejoin:round; stroke-width:8; stroke-opacity:1; fill:none\" points=\"295.368,1384.24 295.514,1381.64 295.66,1379.04 295.807,1376.44 295.954,1373.84 296.101,1371.24 296.248,1368.64 296.396,1366.04 296.543,1363.44 296.691,1360.85 296.839,1358.25 296.988,1355.65 297.136,1353.05 297.285,1350.45 297.435,1347.85 297.584,1345.25 297.734,1342.65 297.883,1340.05 298.034,1337.45 298.184,1334.85 298.335,1332.25 298.485,1329.65 298.636,1327.05 298.788,1324.46 298.939,1321.86 299.091,1319.26 299.243,1316.66 299.396,1314.06 299.548,1311.46 299.701,1308.86 299.854,1306.26 300.008,1303.66 300.161,1301.06 300.315,1298.46 300.469,1295.86 300.624,1293.26 300.778,1290.67 300.933,1288.07 301.089,1285.47 301.244,1282.87 301.4,1280.27 301.556,1277.67 301.712,1275.07 301.869,1272.47 302.025,1269.87 302.182,1267.27 302.34,1264.67 302.497,1262.07 302.655,1259.47 302.813,1256.88 302.972,1254.28 303.131,1251.68 303.289,1249.08 303.449,1246.48 303.608,1243.88 303.768,1241.28 303.928,1238.68 304.089,1236.08 304.249,1233.48 304.41,1230.88 304.571,1228.28 304.733,1225.68 304.895,1223.09 305.057,1220.49 305.219,1217.89 305.382,1215.29 305.545,1212.69 305.708,1210.09 305.872,1207.49 306.036,1204.89 306.2,1202.29 306.364,1199.69 306.529,1197.09 306.694,1194.49 306.86,1191.89 307.025,1189.3 307.191,1186.7 307.358,1184.1 307.524,1181.5 307.691,1178.9 307.858,1176.3 308.026,1173.7 308.194,1171.1 308.362,1168.5 308.53,1165.9 308.699,1163.3 308.868,1160.7 309.038,1158.1 309.207,1155.51 309.377,1152.91 309.548,1150.31 309.719,1147.71 309.89,1145.11 310.061,1142.51 310.233,1139.91 310.405,1137.31 310.577,1134.71 310.75,1132.11 310.923,1129.51 311.096,1126.91 311.27,1124.31 311.444,1121.72 311.619,1119.12 311.793,1116.52 311.968,1113.92 312.144,1111.32 312.32,1108.72 312.496,1106.12 312.672,1103.52 312.849,1100.92 313.026,1098.32 313.204,1095.72 313.382,1093.12 313.56,1090.52 313.739,1087.92 313.918,1085.33 314.097,1082.73 314.277,1080.13 314.457,1077.53 314.637,1074.93 314.818,1072.33 314.999,1069.73 315.181,1067.13 315.363,1064.53 315.545,1061.93 315.728,1059.33 315.911,1056.73 316.094,1054.13 316.278,1051.54 316.462,1048.94 316.647,1046.34 316.832,1043.74 317.017,1041.14 317.203,1038.54 317.389,1035.94 317.576,1033.34 317.763,1030.74 317.95,1028.14 318.138,1025.54 318.326,1022.94 318.515,1020.34 318.704,1017.75 318.893,1015.15 319.083,1012.55 319.274,1009.95 319.464,1007.35 319.655,1004.75 319.847,1002.15 320.039,999.551 320.231,996.952 320.424,994.352 320.617,991.753 320.811,989.154 321.005,986.555 321.2,983.955 321.394,981.356 321.59,978.757 321.786,976.158 321.982,973.558 322.179,970.959 322.376,968.36 322.574,965.761 322.772,963.161 322.97,960.562 323.169,957.963 323.369,955.364 323.569,952.764 323.769,950.165 323.97,947.566 324.171,944.967 324.373,942.368 324.576,939.768 324.778,937.169 324.982,934.57 325.185,931.971 325.39,929.371 325.594,926.772 325.8,924.173 326.005,921.574 326.212,918.974 326.418,916.375 326.626,913.776 326.833,911.177 327.042,908.577 327.25,905.978 327.46,903.379 327.669,900.78 327.88,898.18 328.09,895.581 328.302,892.982 328.514,890.383 328.726,887.783 328.939,885.184 329.153,882.585 329.367,879.986 329.581,877.387 329.796,874.787 330.012,872.188 330.228,869.589 330.445,866.99 330.662,864.39 330.88,861.791 331.099,859.192 331.318,856.593 331.537,853.993 331.758,851.394 331.978,848.795 332.2,846.196 332.422,843.596 332.644,840.997 332.867,838.398 333.091,835.799 333.315,833.199 333.54,830.6 333.766,828.001 333.992,825.402 334.219,822.802 334.446,820.203 334.674,817.604 334.903,815.005 335.132,812.406 335.362,809.806 335.593,807.207 335.824,804.608 336.056,802.009 336.288,799.409 336.521,796.81 336.755,794.211 336.99,791.612 337.225,789.012 337.461,786.413 337.697,783.814 337.934,781.215 338.172,778.615 338.411,776.016 338.65,773.417 338.89,770.818 339.131,768.218 339.372,765.619 339.614,763.02 339.857,760.421 340.101,757.821 340.345,755.222 340.59,752.623 340.836,750.024 341.082,747.425 341.329,744.825 341.577,742.226 341.826,739.627 342.076,737.028 342.326,734.428 342.577,731.829 342.829,729.23 343.081,726.631 343.335,724.031 343.589,721.432 343.844,718.833 344.1,716.234 344.357,713.634 344.614,711.035 344.872,708.436 345.132,705.837 345.392,703.237 345.652,700.638 345.914,698.039 346.177,695.44 346.44,692.841 346.704,690.241 346.969,687.642 347.235,685.043 347.502,682.444 347.77,679.844 348.039,677.245 348.309,674.646 348.579,672.047 348.851,669.447 349.123,666.848 349.396,664.249 349.671,661.65 349.946,659.05 350.222,656.451 350.499,653.852 350.778,651.253 351.057,648.653 351.337,646.054 351.618,643.455 351.9,640.856 352.183,638.256 352.468,635.657 352.753,633.058 353.039,630.459 353.327,627.86 353.615,625.26 353.905,622.661 354.195,620.062 354.487,617.463 354.78,614.863 355.074,612.264 355.369,609.665 355.665,607.066 355.962,604.466 356.26,601.867 356.56,599.268 356.861,596.669 357.163,594.069 357.466,591.47 357.77,588.871 358.076,586.272 358.382,583.672 358.69,581.073 359,578.474 359.31,575.875 359.622,573.275 359.935,570.676 360.249,568.077 360.565,565.478 360.882,562.879 361.2,560.279 361.52,557.68 361.841,555.081 362.163,552.482 362.487,549.882 362.812,547.283 363.139,544.684 363.467,542.085 363.796,539.485 364.127,536.886 364.46,534.287 364.794,531.688 365.129,529.088 365.466,526.489 365.804,523.89 366.144,521.291 366.486,518.691 366.829,516.092 367.174,513.493 367.52,510.894 367.868,508.294 368.218,505.695 368.569,503.096 368.922,500.497 369.277,497.898 369.633,495.298 369.991,492.699 370.351,490.1 370.713,487.501 371.077,484.901 371.442,482.302 371.809,479.703 372.178,477.104 372.549,474.504 372.922,471.905 373.297,469.306 373.674,466.707 374.053,464.107 374.433,461.508 374.816,458.909 375.201,456.31 375.588,453.71 375.977,451.111 376.369,448.512 376.762,445.913 377.158,443.313 377.555,440.714 377.955,438.115 378.358,435.516 378.763,432.917 379.17,430.317 379.579,427.718 379.991,425.119 380.405,422.52 380.822,419.92 381.241,417.321 381.663,414.722 382.087,412.123 382.514,409.523 382.944,406.924 383.376,404.325 383.811,401.726 384.249,399.126 384.69,396.527 385.134,393.928 385.58,391.329 386.029,388.729 386.482,386.13 386.937,383.531 387.396,380.932 387.857,378.333 388.322,375.733 388.79,373.134 389.262,370.535 389.736,367.936 390.215,365.336 390.696,362.737 391.181,360.138 391.67,357.539 392.162,354.939 392.658,352.34 393.158,349.741 393.662,347.142 394.169,344.542 394.681,341.943 395.196,339.344 395.716,336.745 396.24,334.145 396.768,331.546 397.3,328.947 397.837,326.348 398.378,323.748 398.925,321.149 399.475,318.55 400.031,315.951 400.591,313.352 401.157,310.752 401.727,308.153 402.303,305.554 402.884,302.955 403.471,300.355 404.063,297.756 404.661,295.157 405.264,292.558 405.874,289.958 406.49,287.359 407.112,284.76 407.74,282.161 408.375,279.561 409.016,276.962 409.664,274.363 410.32,271.764 410.982,269.164 411.652,266.565 412.33,263.966 413.015,261.367 413.708,258.767 414.41,256.168 415.119,253.569 415.838,250.97 416.565,248.371 417.302,245.771 418.048,243.172 418.803,240.573 419.569,237.974 420.345,235.374 421.132,232.775 421.929,230.176 422.738,227.577 423.559,224.977 424.392,222.378 425.237,219.779 426.095,217.18 426.967,214.58 427.853,211.981 428.753,209.382 429.668,206.783 430.598,204.183 431.545,201.584 432.508,198.985 433.489,196.386 434.489,193.786 435.507,191.187 436.545,188.588 437.604,185.989 438.685,183.39 439.788,180.79 440.916,178.191 442.068,175.592 443.247,172.993 444.454,170.393 445.69,167.794 446.957,165.195 448.257,162.596 449.591,159.996 450.963,157.397 452.373,154.798 453.826,152.199 455.324,149.599 456.869,147 458.467,144.401 460.12,141.802 461.833,139.202 463.611,136.603 465.461,134.004 467.389,131.405 469.403,128.805 471.511,126.206 473.725,123.607 476.057,121.008 478.522,118.409 481.139,115.809 483.93,113.21 486.924,110.611 490.158,108.012 493.681,105.412 497.56,102.813 501.89,100.214 506.819,97.6146 512.59,95.0154 519.667,92.4161 529.199,89.8169 547.905,87.2177 \"/>\n",
       "<polyline clip-path=\"url(#clip462)\" style=\"stroke:#e26f46; stroke-linecap:round; stroke-linejoin:round; stroke-width:8; stroke-opacity:1; fill:none\" points=\"2292.83,1384.24 2286.39,1381.64 2279.97,1379.04 2273.59,1376.44 2267.24,1373.84 2260.92,1371.24 2254.63,1368.64 2248.37,1366.04 2242.13,1363.44 2235.93,1360.85 2229.75,1358.25 2223.61,1355.65 2217.49,1353.05 2211.4,1350.45 2205.34,1347.85 2199.31,1345.25 2193.3,1342.65 2187.32,1340.05 2181.37,1337.45 2175.45,1334.85 2169.55,1332.25 2163.69,1329.65 2157.84,1327.05 2152.03,1324.46 2146.24,1321.86 2140.47,1319.26 2134.74,1316.66 2129.02,1314.06 2123.34,1311.46 2117.68,1308.86 2112.04,1306.26 2106.43,1303.66 2100.85,1301.06 2095.29,1298.46 2089.75,1295.86 2084.24,1293.26 2078.75,1290.67 2073.29,1288.07 2067.85,1285.47 2062.44,1282.87 2057.05,1280.27 2051.68,1277.67 2046.33,1275.07 2041.01,1272.47 2035.71,1269.87 2030.44,1267.27 2025.19,1264.67 2019.96,1262.07 2014.75,1259.47 2009.56,1256.88 2004.4,1254.28 1999.26,1251.68 1994.14,1249.08 1989.05,1246.48 1983.97,1243.88 1978.92,1241.28 1973.88,1238.68 1968.87,1236.08 1963.88,1233.48 1958.91,1230.88 1953.96,1228.28 1949.04,1225.68 1944.13,1223.09 1939.24,1220.49 1934.37,1217.89 1929.53,1215.29 1924.7,1212.69 1919.89,1210.09 1915.11,1207.49 1910.34,1204.89 1905.59,1202.29 1900.86,1199.69 1896.15,1197.09 1891.46,1194.49 1886.79,1191.89 1882.14,1189.3 1877.51,1186.7 1872.89,1184.1 1868.29,1181.5 1863.72,1178.9 1859.16,1176.3 1854.61,1173.7 1850.09,1171.1 1845.58,1168.5 1841.1,1165.9 1836.63,1163.3 1832.17,1160.7 1827.74,1158.1 1823.32,1155.51 1818.92,1152.91 1814.54,1150.31 1810.17,1147.71 1805.82,1145.11 1801.49,1142.51 1797.17,1139.91 1792.87,1137.31 1788.59,1134.71 1784.32,1132.11 1780.07,1129.51 1775.84,1126.91 1771.62,1124.31 1767.42,1121.72 1763.23,1119.12 1759.06,1116.52 1754.91,1113.92 1750.77,1111.32 1746.65,1108.72 1742.54,1106.12 1738.45,1103.52 1734.37,1100.92 1730.31,1098.32 1726.26,1095.72 1722.23,1093.12 1718.21,1090.52 1714.21,1087.92 1710.22,1085.33 1706.24,1082.73 1702.28,1080.13 1698.34,1077.53 1694.41,1074.93 1690.49,1072.33 1686.59,1069.73 1682.7,1067.13 1678.83,1064.53 1674.96,1061.93 1671.12,1059.33 1667.28,1056.73 1663.46,1054.13 1659.66,1051.54 1655.86,1048.94 1652.08,1046.34 1648.32,1043.74 1644.56,1041.14 1640.82,1038.54 1637.1,1035.94 1633.38,1033.34 1629.68,1030.74 1625.99,1028.14 1622.31,1025.54 1618.65,1022.94 1615,1020.34 1611.36,1017.75 1607.73,1015.15 1604.12,1012.55 1600.52,1009.95 1596.93,1007.35 1593.35,1004.75 1589.78,1002.15 1586.23,999.551 1582.69,996.952 1579.15,994.352 1575.64,991.753 1572.13,989.154 1568.63,986.555 1565.15,983.955 1561.67,981.356 1558.21,978.757 1554.76,976.158 1551.32,973.558 1547.89,970.959 1544.47,968.36 1541.07,965.761 1537.67,963.161 1534.29,960.562 1530.91,957.963 1527.55,955.364 1524.19,952.764 1520.85,950.165 1517.52,947.566 1514.2,944.967 1510.88,942.368 1507.58,939.768 1504.29,937.169 1501.01,934.57 1497.74,931.971 1494.48,929.371 1491.23,926.772 1487.99,924.173 1484.75,921.574 1481.53,918.974 1478.32,916.375 1475.12,913.776 1471.92,911.177 1468.74,908.577 1465.57,905.978 1462.4,903.379 1459.24,900.78 1456.1,898.18 1452.96,895.581 1449.83,892.982 1446.71,890.383 1443.6,887.783 1440.5,885.184 1437.41,882.585 1434.32,879.986 1431.25,877.387 1428.18,874.787 1425.13,872.188 1422.08,869.589 1419.04,866.99 1416,864.39 1412.98,861.791 1409.96,859.192 1406.96,856.593 1403.96,853.993 1400.97,851.394 1397.99,848.795 1395.01,846.196 1392.04,843.596 1389.09,840.997 1386.13,838.398 1383.19,835.799 1380.26,833.199 1377.33,830.6 1374.41,828.001 1371.5,825.402 1368.59,822.802 1365.7,820.203 1362.81,817.604 1359.92,815.005 1357.05,812.406 1354.18,809.806 1351.32,807.207 1348.47,804.608 1345.62,802.009 1342.78,799.409 1339.95,796.81 1337.13,794.211 1334.31,791.612 1331.5,789.012 1328.7,786.413 1325.9,783.814 1323.11,781.215 1320.32,778.615 1317.55,776.016 1314.78,773.417 1312.01,770.818 1309.26,768.218 1306.5,765.619 1303.76,763.02 1301.02,760.421 1298.29,757.821 1295.56,755.222 1292.84,752.623 1290.13,750.024 1287.42,747.425 1284.72,744.825 1282.03,742.226 1279.34,739.627 1276.66,737.028 1273.98,734.428 1271.31,731.829 1268.64,729.23 1265.98,726.631 1263.33,724.031 1260.68,721.432 1258.03,718.833 1255.4,716.234 1252.77,713.634 1250.14,711.035 1247.52,708.436 1244.9,705.837 1242.29,703.237 1239.69,700.638 1237.09,698.039 1234.49,695.44 1231.9,692.841 1229.32,690.241 1226.74,687.642 1224.16,685.043 1221.59,682.444 1219.03,679.844 1216.47,677.245 1213.91,674.646 1211.36,672.047 1208.82,669.447 1206.28,666.848 1203.74,664.249 1201.21,661.65 1198.68,659.05 1196.16,656.451 1193.64,653.852 1191.13,651.253 1188.62,648.653 1186.12,646.054 1183.61,643.455 1181.12,640.856 1178.63,638.256 1176.14,635.657 1173.65,633.058 1171.17,630.459 1168.7,627.86 1166.23,625.26 1163.76,622.661 1161.29,620.062 1158.83,617.463 1156.38,614.863 1153.92,612.264 1151.48,609.665 1149.03,607.066 1146.59,604.466 1144.15,601.867 1141.72,599.268 1139.28,596.669 1136.86,594.069 1134.43,591.47 1132.01,588.871 1129.59,586.272 1127.18,583.672 1124.77,581.073 1122.36,578.474 1119.96,575.875 1117.55,573.275 1115.15,570.676 1112.76,568.077 1110.37,565.478 1107.98,562.879 1105.59,560.279 1103.2,557.68 1100.82,555.081 1098.44,552.482 1096.07,549.882 1093.69,547.283 1091.32,544.684 1088.95,542.085 1086.59,539.485 1084.22,536.886 1081.86,534.287 1079.5,531.688 1077.14,529.088 1074.79,526.489 1072.44,523.89 1070.09,521.291 1067.74,518.691 1065.39,516.092 1063.05,513.493 1060.7,510.894 1058.36,508.294 1056.02,505.695 1053.69,503.096 1051.35,500.497 1049.02,497.898 1046.69,495.298 1044.35,492.699 1042.03,490.1 1039.7,487.501 1037.37,484.901 1035.05,482.302 1032.72,479.703 1030.4,477.104 1028.08,474.504 1025.76,471.905 1023.44,469.306 1021.12,466.707 1018.8,464.107 1016.49,461.508 1014.17,458.909 1011.86,456.31 1009.54,453.71 1007.23,451.111 1004.92,448.512 1002.6,445.913 1000.29,443.313 997.979,440.714 995.667,438.115 993.356,435.516 991.045,432.917 988.734,430.317 986.423,427.718 984.112,425.119 981.801,422.52 979.49,419.92 977.179,417.321 974.867,414.722 972.555,412.123 970.243,409.523 967.93,406.924 965.616,404.325 963.301,401.726 960.986,399.126 958.67,396.527 956.353,393.928 954.036,391.329 951.717,388.729 949.396,386.13 947.075,383.531 944.752,380.932 942.428,378.333 940.102,375.733 937.775,373.134 935.446,370.535 933.115,367.936 930.782,365.336 928.447,362.737 926.11,360.138 923.771,357.539 921.429,354.939 919.085,352.34 916.739,349.741 914.39,347.142 912.038,344.542 909.683,341.943 907.325,339.344 904.964,336.745 902.6,334.145 900.233,331.546 897.862,328.947 895.487,326.348 893.108,323.748 890.726,321.149 888.339,318.55 885.949,315.951 883.554,313.352 881.154,310.752 878.75,308.153 876.341,305.554 873.926,302.955 871.507,300.355 869.082,297.756 866.652,295.157 864.216,292.558 861.774,289.958 859.326,287.359 856.871,284.76 854.41,282.161 851.942,279.561 849.468,276.962 846.985,274.363 844.496,271.764 841.999,269.164 839.493,266.565 836.98,263.966 834.457,261.367 831.926,258.767 829.386,256.168 826.837,253.569 824.277,250.97 821.708,248.371 819.128,245.771 816.537,243.172 813.935,240.573 811.322,237.974 808.696,235.374 806.058,232.775 803.407,230.176 800.743,227.577 798.064,224.977 795.372,222.378 792.664,219.779 789.941,217.18 787.202,214.58 784.446,211.981 781.673,209.382 778.882,206.783 776.072,204.183 773.242,201.584 770.392,198.985 767.521,196.386 764.627,193.786 761.71,191.187 758.769,188.588 755.803,185.989 752.81,183.39 749.789,180.79 746.739,178.191 743.659,175.592 740.546,172.993 737.399,170.393 734.217,167.794 730.997,165.195 727.737,162.596 724.435,159.996 721.088,157.397 717.693,154.798 714.249,152.199 710.75,149.599 707.194,147 703.576,144.401 699.891,141.802 696.136,139.202 692.302,136.603 688.386,134.004 684.377,131.405 680.269,128.805 676.052,126.206 671.712,123.607 667.238,121.008 662.613,118.409 657.816,115.809 652.824,113.21 647.607,110.611 642.126,108.012 636.33,105.412 630.149,102.813 623.486,100.214 616.192,97.6146 608.019,95.0154 598.499,92.4161 586.479,89.8169 565.236,87.2177 \"/>\n",
       "<circle clip-path=\"url(#clip462)\" cx=\"556.442\" cy=\"86.9582\" r=\"14.4\" fill=\"#e26f46\" fill-rule=\"evenodd\" fill-opacity=\"1\" stroke=\"#000000\" stroke-opacity=\"1\" stroke-width=\"3.2\"/>\n",
       "<path clip-path=\"url(#clip460)\" d=\"M1604.2 248.629 L2282.17 248.629 L2282.17 93.1086 L1604.2 93.1086  Z\" fill=\"#ffffff\" fill-rule=\"evenodd\" fill-opacity=\"1\"/>\n",
       "<polyline clip-path=\"url(#clip460)\" style=\"stroke:#000000; stroke-linecap:round; stroke-linejoin:round; stroke-width:4; stroke-opacity:1; fill:none\" points=\"1604.2,248.629 2282.17,248.629 2282.17,93.1086 1604.2,93.1086 1604.2,248.629 \"/>\n",
       "<polyline clip-path=\"url(#clip460)\" style=\"stroke:#009af9; stroke-linecap:round; stroke-linejoin:round; stroke-width:8; stroke-opacity:1; fill:none\" points=\"1627.73,144.949 1768.89,144.949 \"/>\n",
       "<path clip-path=\"url(#clip460)\" d=\"M1808.02 131.743 L1796.22 150.192 L1808.02 150.192 L1808.02 131.743 M1806.8 127.669 L1812.68 127.669 L1812.68 150.192 L1817.61 150.192 L1817.61 154.081 L1812.68 154.081 L1812.68 162.229 L1808.02 162.229 L1808.02 154.081 L1792.42 154.081 L1792.42 149.567 L1806.8 127.669 Z\" fill=\"#000000\" fill-rule=\"nonzero\" fill-opacity=\"1\" /><path clip-path=\"url(#clip460)\" d=\"M1843.93 158.34 L1843.93 172.09 L1839.64 172.09 L1839.64 136.303 L1843.93 136.303 L1843.93 140.238 Q1845.27 137.923 1847.31 136.812 Q1849.37 135.678 1852.21 135.678 Q1856.94 135.678 1859.87 139.428 Q1862.84 143.178 1862.84 149.289 Q1862.84 155.4 1859.87 159.15 Q1856.94 162.9 1852.21 162.9 Q1849.37 162.9 1847.31 161.789 Q1845.27 160.655 1843.93 158.34 M1858.42 149.289 Q1858.42 144.59 1856.47 141.928 Q1854.55 139.243 1851.17 139.243 Q1847.79 139.243 1845.85 141.928 Q1843.93 144.59 1843.93 149.289 Q1843.93 153.988 1845.85 156.673 Q1847.79 159.335 1851.17 159.335 Q1854.55 159.335 1856.47 156.673 Q1858.42 153.988 1858.42 149.289 Z\" fill=\"#000000\" fill-rule=\"nonzero\" fill-opacity=\"1\" /><path clip-path=\"url(#clip460)\" d=\"M1881.68 149.196 Q1876.52 149.196 1874.53 150.377 Q1872.54 151.557 1872.54 154.405 Q1872.54 156.673 1874.02 158.016 Q1875.52 159.335 1878.09 159.335 Q1881.63 159.335 1883.76 156.835 Q1885.92 154.312 1885.92 150.145 L1885.92 149.196 L1881.68 149.196 M1890.18 147.437 L1890.18 162.229 L1885.92 162.229 L1885.92 158.293 Q1884.46 160.655 1882.28 161.789 Q1880.11 162.9 1876.96 162.9 Q1872.98 162.9 1870.62 160.678 Q1868.28 158.432 1868.28 154.682 Q1868.28 150.307 1871.19 148.085 Q1874.13 145.863 1879.94 145.863 L1885.92 145.863 L1885.92 145.446 Q1885.92 142.507 1883.97 140.909 Q1882.05 139.289 1878.56 139.289 Q1876.33 139.289 1874.23 139.821 Q1872.12 140.354 1870.18 141.419 L1870.18 137.483 Q1872.51 136.581 1874.71 136.141 Q1876.91 135.678 1879 135.678 Q1884.62 135.678 1887.4 138.594 Q1890.18 141.511 1890.18 147.437 Z\" fill=\"#000000\" fill-rule=\"nonzero\" fill-opacity=\"1\" /><path clip-path=\"url(#clip460)\" d=\"M1913.97 140.284 Q1913.25 139.868 1912.4 139.682 Q1911.56 139.474 1910.55 139.474 Q1906.93 139.474 1904.99 141.835 Q1903.07 144.173 1903.07 148.571 L1903.07 162.229 L1898.79 162.229 L1898.79 136.303 L1903.07 136.303 L1903.07 140.331 Q1904.41 137.969 1906.56 136.835 Q1908.72 135.678 1911.8 135.678 Q1912.24 135.678 1912.77 135.747 Q1913.3 135.794 1913.95 135.909 L1913.97 140.284 Z\" fill=\"#000000\" fill-rule=\"nonzero\" fill-opacity=\"1\" /><path clip-path=\"url(#clip460)\" d=\"M1930.22 149.196 Q1925.06 149.196 1923.07 150.377 Q1921.08 151.557 1921.08 154.405 Q1921.08 156.673 1922.56 158.016 Q1924.06 159.335 1926.63 159.335 Q1930.18 159.335 1932.31 156.835 Q1934.46 154.312 1934.46 150.145 L1934.46 149.196 L1930.22 149.196 M1938.72 147.437 L1938.72 162.229 L1934.46 162.229 L1934.46 158.293 Q1933 160.655 1930.82 161.789 Q1928.65 162.9 1925.5 162.9 Q1921.52 162.9 1919.16 160.678 Q1916.82 158.432 1916.82 154.682 Q1916.82 150.307 1919.74 148.085 Q1922.68 145.863 1928.49 145.863 L1934.46 145.863 L1934.46 145.446 Q1934.46 142.507 1932.51 140.909 Q1930.59 139.289 1927.1 139.289 Q1924.87 139.289 1922.77 139.821 Q1920.66 140.354 1918.72 141.419 L1918.72 137.483 Q1921.06 136.581 1923.25 136.141 Q1925.45 135.678 1927.54 135.678 Q1933.16 135.678 1935.94 138.594 Q1938.72 141.511 1938.72 147.437 Z\" fill=\"#000000\" fill-rule=\"nonzero\" fill-opacity=\"1\" /><path clip-path=\"url(#clip460)\" d=\"M1967.68 141.28 Q1969.27 138.409 1971.49 137.044 Q1973.72 135.678 1976.73 135.678 Q1980.78 135.678 1982.98 138.525 Q1985.18 141.349 1985.18 146.581 L1985.18 162.229 L1980.89 162.229 L1980.89 146.719 Q1980.89 142.993 1979.57 141.187 Q1978.25 139.382 1975.55 139.382 Q1972.24 139.382 1970.31 141.581 Q1968.39 143.78 1968.39 147.576 L1968.39 162.229 L1964.11 162.229 L1964.11 146.719 Q1964.11 142.969 1962.79 141.187 Q1961.47 139.382 1958.72 139.382 Q1955.45 139.382 1953.53 141.604 Q1951.61 143.803 1951.61 147.576 L1951.61 162.229 L1947.33 162.229 L1947.33 136.303 L1951.61 136.303 L1951.61 140.331 Q1953.07 137.946 1955.11 136.812 Q1957.14 135.678 1959.94 135.678 Q1962.77 135.678 1964.74 137.113 Q1966.73 138.548 1967.68 141.28 Z\" fill=\"#000000\" fill-rule=\"nonzero\" fill-opacity=\"1\" /><path clip-path=\"url(#clip460)\" d=\"M2010.2 137.067 L2010.2 141.094 Q2008.39 140.169 2006.45 139.706 Q2004.5 139.243 2002.42 139.243 Q1999.25 139.243 1997.65 140.215 Q1996.08 141.187 1996.08 143.131 Q1996.08 144.613 1997.21 145.469 Q1998.35 146.303 2001.77 147.067 L2003.23 147.391 Q2007.77 148.363 2009.67 150.145 Q2011.59 151.905 2011.59 155.076 Q2011.59 158.687 2008.72 160.793 Q2005.87 162.9 2000.87 162.9 Q1998.79 162.9 1996.52 162.483 Q1994.27 162.09 1991.77 161.28 L1991.77 156.881 Q1994.13 158.108 1996.43 158.733 Q1998.72 159.335 2000.96 159.335 Q2003.97 159.335 2005.59 158.317 Q2007.21 157.275 2007.21 155.4 Q2007.21 153.664 2006.03 152.738 Q2004.87 151.812 2000.92 150.956 L1999.43 150.608 Q1995.48 149.775 1993.72 148.062 Q1991.96 146.326 1991.96 143.317 Q1991.96 139.659 1994.55 137.669 Q1997.14 135.678 2001.91 135.678 Q2004.27 135.678 2006.36 136.025 Q2008.44 136.372 2010.2 137.067 Z\" fill=\"#000000\" fill-rule=\"nonzero\" fill-opacity=\"1\" /><path clip-path=\"url(#clip460)\" d=\"M2048.46 140.284 Q2047.74 139.868 2046.89 139.682 Q2046.05 139.474 2045.04 139.474 Q2041.42 139.474 2039.48 141.835 Q2037.56 144.173 2037.56 148.571 L2037.56 162.229 L2033.28 162.229 L2033.28 136.303 L2037.56 136.303 L2037.56 140.331 Q2038.9 137.969 2041.05 136.835 Q2043.21 135.678 2046.29 135.678 Q2046.73 135.678 2047.26 135.747 Q2047.79 135.794 2048.44 135.909 L2048.46 140.284 Z\" fill=\"#000000\" fill-rule=\"nonzero\" fill-opacity=\"1\" /><path clip-path=\"url(#clip460)\" d=\"M2074.06 148.201 L2074.06 150.284 L2054.48 150.284 Q2054.76 154.682 2057.12 156.997 Q2059.5 159.289 2063.74 159.289 Q2066.19 159.289 2068.48 158.687 Q2070.8 158.085 2073.07 156.881 L2073.07 160.909 Q2070.78 161.881 2068.37 162.391 Q2065.96 162.9 2063.49 162.9 Q2057.28 162.9 2053.65 159.289 Q2050.04 155.678 2050.04 149.52 Q2050.04 143.155 2053.46 139.428 Q2056.91 135.678 2062.74 135.678 Q2067.98 135.678 2071.01 139.057 Q2074.06 142.414 2074.06 148.201 M2069.8 146.951 Q2069.76 143.456 2067.84 141.372 Q2065.94 139.289 2062.79 139.289 Q2059.23 139.289 2057.07 141.303 Q2054.94 143.317 2054.62 146.974 L2069.8 146.951 Z\" fill=\"#000000\" fill-rule=\"nonzero\" fill-opacity=\"1\" /><path clip-path=\"url(#clip460)\" d=\"M2098.11 148.965 Q2098.11 144.335 2096.19 141.789 Q2094.3 139.243 2090.85 139.243 Q2087.42 139.243 2085.5 141.789 Q2083.6 144.335 2083.6 148.965 Q2083.6 153.571 2085.5 156.118 Q2087.42 158.664 2090.85 158.664 Q2094.3 158.664 2096.19 156.118 Q2098.11 153.571 2098.11 148.965 M2102.37 159.011 Q2102.37 165.631 2099.43 168.849 Q2096.49 172.09 2090.43 172.09 Q2088.18 172.09 2086.19 171.742 Q2084.2 171.418 2082.33 170.724 L2082.33 166.58 Q2084.2 167.599 2086.03 168.085 Q2087.86 168.571 2089.76 168.571 Q2093.95 168.571 2096.03 166.372 Q2098.11 164.196 2098.11 159.775 L2098.11 157.668 Q2096.8 159.96 2094.73 161.094 Q2092.67 162.229 2089.8 162.229 Q2085.04 162.229 2082.12 158.594 Q2079.2 154.96 2079.2 148.965 Q2079.2 142.946 2082.12 139.312 Q2085.04 135.678 2089.8 135.678 Q2092.67 135.678 2094.73 136.812 Q2096.8 137.946 2098.11 140.238 L2098.11 136.303 L2102.37 136.303 L2102.37 159.011 Z\" fill=\"#000000\" fill-rule=\"nonzero\" fill-opacity=\"1\" /><path clip-path=\"url(#clip460)\" d=\"M2126.17 140.284 Q2125.45 139.868 2124.6 139.682 Q2123.76 139.474 2122.74 139.474 Q2119.13 139.474 2117.19 141.835 Q2115.27 144.173 2115.27 148.571 L2115.27 162.229 L2110.98 162.229 L2110.98 136.303 L2115.27 136.303 L2115.27 140.331 Q2116.61 137.969 2118.76 136.835 Q2120.92 135.678 2123.99 135.678 Q2124.43 135.678 2124.97 135.747 Q2125.5 135.794 2126.15 135.909 L2126.17 140.284 Z\" fill=\"#000000\" fill-rule=\"nonzero\" fill-opacity=\"1\" /><path clip-path=\"url(#clip460)\" d=\"M2151.77 148.201 L2151.77 150.284 L2132.19 150.284 Q2132.47 154.682 2134.83 156.997 Q2137.21 159.289 2141.45 159.289 Q2143.9 159.289 2146.19 158.687 Q2148.51 158.085 2150.78 156.881 L2150.78 160.909 Q2148.48 161.881 2146.08 162.391 Q2143.67 162.9 2141.19 162.9 Q2134.99 162.9 2131.36 159.289 Q2127.74 155.678 2127.74 149.52 Q2127.74 143.155 2131.17 139.428 Q2134.62 135.678 2140.45 135.678 Q2145.68 135.678 2148.72 139.057 Q2151.77 142.414 2151.77 148.201 M2147.51 146.951 Q2147.47 143.456 2145.54 141.372 Q2143.65 139.289 2140.5 139.289 Q2136.93 139.289 2134.78 141.303 Q2132.65 143.317 2132.33 146.974 L2147.51 146.951 Z\" fill=\"#000000\" fill-rule=\"nonzero\" fill-opacity=\"1\" /><path clip-path=\"url(#clip460)\" d=\"M2175.29 137.067 L2175.29 141.094 Q2173.48 140.169 2171.54 139.706 Q2169.6 139.243 2167.51 139.243 Q2164.34 139.243 2162.74 140.215 Q2161.17 141.187 2161.17 143.131 Q2161.17 144.613 2162.3 145.469 Q2163.44 146.303 2166.86 147.067 L2168.32 147.391 Q2172.86 148.363 2174.76 150.145 Q2176.68 151.905 2176.68 155.076 Q2176.68 158.687 2173.81 160.793 Q2170.96 162.9 2165.96 162.9 Q2163.88 162.9 2161.61 162.483 Q2159.36 162.09 2156.86 161.28 L2156.86 156.881 Q2159.23 158.108 2161.52 158.733 Q2163.81 159.335 2166.05 159.335 Q2169.06 159.335 2170.68 158.317 Q2172.3 157.275 2172.3 155.4 Q2172.3 153.664 2171.12 152.738 Q2169.97 151.812 2166.01 150.956 L2164.53 150.608 Q2160.57 149.775 2158.81 148.062 Q2157.05 146.326 2157.05 143.317 Q2157.05 139.659 2159.64 137.669 Q2162.23 135.678 2167 135.678 Q2169.36 135.678 2171.45 136.025 Q2173.53 136.372 2175.29 137.067 Z\" fill=\"#000000\" fill-rule=\"nonzero\" fill-opacity=\"1\" /><path clip-path=\"url(#clip460)\" d=\"M2199.99 137.067 L2199.99 141.094 Q2198.18 140.169 2196.24 139.706 Q2194.29 139.243 2192.21 139.243 Q2189.04 139.243 2187.44 140.215 Q2185.87 141.187 2185.87 143.131 Q2185.87 144.613 2187 145.469 Q2188.14 146.303 2191.56 147.067 L2193.02 147.391 Q2197.56 148.363 2199.46 150.145 Q2201.38 151.905 2201.38 155.076 Q2201.38 158.687 2198.51 160.793 Q2195.66 162.9 2190.66 162.9 Q2188.58 162.9 2186.31 162.483 Q2184.06 162.09 2181.56 161.28 L2181.56 156.881 Q2183.92 158.108 2186.22 158.733 Q2188.51 159.335 2190.75 159.335 Q2193.76 159.335 2195.38 158.317 Q2197 157.275 2197 155.4 Q2197 153.664 2195.82 152.738 Q2194.66 151.812 2190.71 150.956 L2189.23 150.608 Q2185.27 149.775 2183.51 148.062 Q2181.75 146.326 2181.75 143.317 Q2181.75 139.659 2184.34 137.669 Q2186.93 135.678 2191.7 135.678 Q2194.06 135.678 2196.15 136.025 Q2198.23 136.372 2199.99 137.067 Z\" fill=\"#000000\" fill-rule=\"nonzero\" fill-opacity=\"1\" /><path clip-path=\"url(#clip460)\" d=\"M2230.34 148.201 L2230.34 150.284 L2210.75 150.284 Q2211.03 154.682 2213.39 156.997 Q2215.78 159.289 2220.01 159.289 Q2222.47 159.289 2224.76 158.687 Q2227.07 158.085 2229.34 156.881 L2229.34 160.909 Q2227.05 161.881 2224.64 162.391 Q2222.23 162.9 2219.76 162.9 Q2213.55 162.9 2209.92 159.289 Q2206.31 155.678 2206.31 149.52 Q2206.31 143.155 2209.73 139.428 Q2213.18 135.678 2219.02 135.678 Q2224.25 135.678 2227.28 139.057 Q2230.34 142.414 2230.34 148.201 M2226.08 146.951 Q2226.03 143.456 2224.11 141.372 Q2222.21 139.289 2219.06 139.289 Q2215.5 139.289 2213.35 141.303 Q2211.22 143.317 2210.89 146.974 L2226.08 146.951 Z\" fill=\"#000000\" fill-rule=\"nonzero\" fill-opacity=\"1\" /><path clip-path=\"url(#clip460)\" d=\"M2254.39 140.238 L2254.39 126.21 L2258.65 126.21 L2258.65 162.229 L2254.39 162.229 L2254.39 158.34 Q2253.04 160.655 2250.98 161.789 Q2248.95 162.9 2246.08 162.9 Q2241.38 162.9 2238.41 159.15 Q2235.47 155.4 2235.47 149.289 Q2235.47 143.178 2238.41 139.428 Q2241.38 135.678 2246.08 135.678 Q2248.95 135.678 2250.98 136.812 Q2253.04 137.923 2254.39 140.238 M2239.87 149.289 Q2239.87 153.988 2241.79 156.673 Q2243.74 159.335 2247.12 159.335 Q2250.5 159.335 2252.44 156.673 Q2254.39 153.988 2254.39 149.289 Q2254.39 144.59 2252.44 141.928 Q2250.5 139.243 2247.12 139.243 Q2243.74 139.243 2241.79 141.928 Q2239.87 144.59 2239.87 149.289 Z\" fill=\"#000000\" fill-rule=\"nonzero\" fill-opacity=\"1\" /><polyline clip-path=\"url(#clip460)\" style=\"stroke:#e26f46; stroke-linecap:round; stroke-linejoin:round; stroke-width:8; stroke-opacity:1; fill:none\" points=\"1627.73,196.789 1768.89,196.789 \"/>\n",
       "<path clip-path=\"url(#clip460)\" d=\"M1797.1 197.564 L1797.1 210.226 L1804.6 210.226 Q1808.37 210.226 1810.18 208.675 Q1812 207.101 1812 203.883 Q1812 200.643 1810.18 199.115 Q1808.37 197.564 1804.6 197.564 L1797.1 197.564 M1797.1 183.351 L1797.1 193.768 L1804.02 193.768 Q1807.44 193.768 1809.11 192.495 Q1810.8 191.198 1810.8 188.559 Q1810.8 185.944 1809.11 184.647 Q1807.44 183.351 1804.02 183.351 L1797.1 183.351 M1792.42 179.509 L1804.37 179.509 Q1809.71 179.509 1812.61 181.731 Q1815.5 183.953 1815.5 188.05 Q1815.5 191.222 1814.02 193.097 Q1812.54 194.971 1809.67 195.434 Q1813.12 196.175 1815.01 198.536 Q1816.94 200.874 1816.94 204.393 Q1816.94 209.022 1813.79 211.545 Q1810.64 214.069 1804.83 214.069 L1792.42 214.069 L1792.42 179.509 Z\" fill=\"#000000\" fill-rule=\"nonzero\" fill-opacity=\"1\" /><path clip-path=\"url(#clip460)\" d=\"M1836.54 201.036 Q1831.38 201.036 1829.39 202.217 Q1827.4 203.397 1827.4 206.245 Q1827.4 208.513 1828.88 209.856 Q1830.38 211.175 1832.95 211.175 Q1836.5 211.175 1838.63 208.675 Q1840.78 206.152 1840.78 201.985 L1840.78 201.036 L1836.54 201.036 M1845.04 199.277 L1845.04 214.069 L1840.78 214.069 L1840.78 210.133 Q1839.32 212.495 1837.14 213.629 Q1834.97 214.74 1831.82 214.74 Q1827.84 214.74 1825.48 212.518 Q1823.14 210.272 1823.14 206.522 Q1823.14 202.147 1826.06 199.925 Q1829 197.703 1834.81 197.703 L1840.78 197.703 L1840.78 197.286 Q1840.78 194.347 1838.83 192.749 Q1836.91 191.129 1833.42 191.129 Q1831.19 191.129 1829.09 191.661 Q1826.98 192.194 1825.04 193.259 L1825.04 189.323 Q1827.38 188.421 1829.57 187.981 Q1831.77 187.518 1833.86 187.518 Q1839.48 187.518 1842.26 190.434 Q1845.04 193.351 1845.04 199.277 Z\" fill=\"#000000\" fill-rule=\"nonzero\" fill-opacity=\"1\" /><path clip-path=\"url(#clip460)\" d=\"M1870.34 188.907 L1870.34 192.934 Q1868.53 192.009 1866.59 191.546 Q1864.64 191.083 1862.56 191.083 Q1859.39 191.083 1857.79 192.055 Q1856.22 193.027 1856.22 194.971 Q1856.22 196.453 1857.35 197.309 Q1858.49 198.143 1861.91 198.907 L1863.37 199.231 Q1867.91 200.203 1869.81 201.985 Q1871.73 203.745 1871.73 206.916 Q1871.73 210.527 1868.86 212.633 Q1866.01 214.74 1861.01 214.74 Q1858.93 214.74 1856.66 214.323 Q1854.41 213.93 1851.91 213.12 L1851.91 208.721 Q1854.27 209.948 1856.56 210.573 Q1858.86 211.175 1861.1 211.175 Q1864.11 211.175 1865.73 210.157 Q1867.35 209.115 1867.35 207.24 Q1867.35 205.504 1866.17 204.578 Q1865.01 203.652 1861.06 202.796 L1859.57 202.448 Q1855.62 201.615 1853.86 199.902 Q1852.1 198.166 1852.1 195.157 Q1852.1 191.499 1854.69 189.509 Q1857.28 187.518 1862.05 187.518 Q1864.41 187.518 1866.5 187.865 Q1868.58 188.212 1870.34 188.907 Z\" fill=\"#000000\" fill-rule=\"nonzero\" fill-opacity=\"1\" /><path clip-path=\"url(#clip460)\" d=\"M1900.68 200.041 L1900.68 202.124 L1881.1 202.124 Q1881.38 206.522 1883.74 208.837 Q1886.12 211.129 1890.36 211.129 Q1892.81 211.129 1895.11 210.527 Q1897.42 209.925 1899.69 208.721 L1899.69 212.749 Q1897.4 213.721 1894.99 214.231 Q1892.58 214.74 1890.11 214.74 Q1883.9 214.74 1880.27 211.129 Q1876.66 207.518 1876.66 201.36 Q1876.66 194.995 1880.08 191.268 Q1883.53 187.518 1889.37 187.518 Q1894.6 187.518 1897.63 190.897 Q1900.68 194.254 1900.68 200.041 M1896.43 198.791 Q1896.38 195.296 1894.46 193.212 Q1892.56 191.129 1889.41 191.129 Q1885.85 191.129 1883.69 193.143 Q1881.56 195.157 1881.24 198.814 L1896.43 198.791 Z\" fill=\"#000000\" fill-rule=\"nonzero\" fill-opacity=\"1\" /><path clip-path=\"url(#clip460)\" d=\"M1943.65 180.643 L1943.65 185.203 Q1940.99 183.93 1938.62 183.305 Q1936.26 182.68 1934.06 182.68 Q1930.24 182.68 1928.16 184.161 Q1926.1 185.643 1926.1 188.374 Q1926.1 190.666 1927.47 191.847 Q1928.86 193.004 1932.7 193.722 L1935.52 194.3 Q1940.75 195.296 1943.23 197.819 Q1945.73 200.319 1945.73 204.532 Q1945.73 209.555 1942.35 212.147 Q1938.99 214.74 1932.49 214.74 Q1930.04 214.74 1927.26 214.184 Q1924.5 213.629 1921.54 212.541 L1921.54 207.726 Q1924.39 209.323 1927.12 210.133 Q1929.85 210.944 1932.49 210.944 Q1936.49 210.944 1938.67 209.37 Q1940.85 207.796 1940.85 204.879 Q1940.85 202.333 1939.27 200.897 Q1937.72 199.462 1934.16 198.745 L1931.31 198.189 Q1926.08 197.147 1923.74 194.925 Q1921.4 192.703 1921.4 188.745 Q1921.4 184.161 1924.62 181.522 Q1927.86 178.884 1933.53 178.884 Q1935.96 178.884 1938.49 179.323 Q1941.01 179.763 1943.65 180.643 Z\" fill=\"#000000\" fill-rule=\"nonzero\" fill-opacity=\"1\" /><path clip-path=\"url(#clip460)\" d=\"M1965.45 184.115 L1959.11 201.314 L1971.82 201.314 L1965.45 184.115 M1962.81 179.509 L1968.12 179.509 L1981.29 214.069 L1976.43 214.069 L1973.28 205.203 L1957.7 205.203 L1954.55 214.069 L1949.62 214.069 L1962.81 179.509 Z\" fill=\"#000000\" fill-rule=\"nonzero\" fill-opacity=\"1\" /><path clip-path=\"url(#clip460)\" d=\"M1986.33 179.509 L2006.19 179.509 L2006.19 183.444 L1991.01 183.444 L1991.01 193.629 L2004.71 193.629 L2004.71 197.564 L1991.01 197.564 L1991.01 214.069 L1986.33 214.069 L1986.33 179.509 Z\" fill=\"#000000\" fill-rule=\"nonzero\" fill-opacity=\"1\" /><path clip-path=\"url(#clip460)\" d=\"M2007.98 179.509 L2037.21 179.509 L2037.21 183.444 L2024.94 183.444 L2024.94 214.069 L2020.24 214.069 L2020.24 183.444 L2007.98 183.444 L2007.98 179.509 Z\" fill=\"#000000\" fill-rule=\"nonzero\" fill-opacity=\"1\" /><path clip-path=\"url(#clip460)\" d=\"M2035.04 199.184 L2047.51 199.184 L2047.51 202.981 L2035.04 202.981 L2035.04 199.184 Z\" fill=\"#000000\" fill-rule=\"nonzero\" fill-opacity=\"1\" /><path clip-path=\"url(#clip460)\" d=\"M2060.61 214.069 L2047.42 179.509 L2052.3 179.509 L2063.25 208.606 L2074.23 179.509 L2079.09 179.509 L2065.92 214.069 L2060.61 214.069 Z\" fill=\"#000000\" fill-rule=\"nonzero\" fill-opacity=\"1\" /><path clip-path=\"url(#clip460)\" d=\"M2100.52 197.865 Q2102.03 198.374 2103.44 200.041 Q2104.87 201.708 2106.31 204.624 L2111.05 214.069 L2106.03 214.069 L2101.61 205.203 Q2099.9 201.731 2098.28 200.596 Q2096.68 199.462 2093.9 199.462 L2088.81 199.462 L2088.81 214.069 L2084.13 214.069 L2084.13 179.509 L2094.69 179.509 Q2100.61 179.509 2103.53 181.985 Q2106.45 184.462 2106.45 189.462 Q2106.45 192.726 2104.92 194.879 Q2103.42 197.032 2100.52 197.865 M2088.81 183.351 L2088.81 195.62 L2094.69 195.62 Q2098.07 195.62 2099.78 194.069 Q2101.52 192.495 2101.52 189.462 Q2101.52 186.43 2099.78 184.902 Q2098.07 183.351 2094.69 183.351 L2088.81 183.351 Z\" fill=\"#000000\" fill-rule=\"nonzero\" fill-opacity=\"1\" /><path clip-path=\"url(#clip460)\" d=\"M2112.81 199.184 L2125.29 199.184 L2125.29 202.981 L2112.81 202.981 L2112.81 199.184 Z\" fill=\"#000000\" fill-rule=\"nonzero\" fill-opacity=\"1\" /><path clip-path=\"url(#clip460)\" d=\"M2132.26 179.509 L2139.23 179.509 L2148.04 203.027 L2156.91 179.509 L2163.88 179.509 L2163.88 214.069 L2159.32 214.069 L2159.32 183.722 L2150.41 207.425 L2145.71 207.425 L2136.79 183.722 L2136.79 214.069 L2132.26 214.069 L2132.26 179.509 Z\" fill=\"#000000\" fill-rule=\"nonzero\" fill-opacity=\"1\" /><path clip-path=\"url(#clip460)\" d=\"M2172.98 188.143 L2177.23 188.143 L2177.23 214.069 L2172.98 214.069 L2172.98 188.143 M2172.98 178.05 L2177.23 178.05 L2177.23 183.444 L2172.98 183.444 L2172.98 178.05 Z\" fill=\"#000000\" fill-rule=\"nonzero\" fill-opacity=\"1\" /><path clip-path=\"url(#clip460)\" d=\"M2208.32 200.041 L2208.32 202.124 L2188.74 202.124 Q2189.02 206.522 2191.38 208.837 Q2193.76 211.129 2198 211.129 Q2200.45 211.129 2202.74 210.527 Q2205.06 209.925 2207.33 208.721 L2207.33 212.749 Q2205.04 213.721 2202.63 214.231 Q2200.22 214.74 2197.74 214.74 Q2191.54 214.74 2187.91 211.129 Q2184.29 207.518 2184.29 201.36 Q2184.29 194.995 2187.72 191.268 Q2191.17 187.518 2197 187.518 Q2202.23 187.518 2205.27 190.897 Q2208.32 194.254 2208.32 200.041 M2204.06 198.791 Q2204.02 195.296 2202.1 193.212 Q2200.2 191.129 2197.05 191.129 Q2193.48 191.129 2191.33 193.143 Q2189.2 195.157 2188.88 198.814 L2204.06 198.791 Z\" fill=\"#000000\" fill-rule=\"nonzero\" fill-opacity=\"1\" /></svg>\n"
      ]
     },
     "metadata": {},
     "output_type": "display_data"
    }
   ],
   "source": [
    "Mw = 58.12\n",
    "λ_a = 6.0\n",
    "\n",
    "plot(;box=:on, dpi=400, xlabel=\"log10(V / m³)\", ylabel=\"T / K\")\n",
    "function f(model, c, label)\n",
    "    # Create saturation envelope\n",
    "    Tc, pc, Vc = crit_pure(model)\n",
    "    T_range = range(0.5 * Tc, 0.9999 * Tc, 500)\n",
    "\n",
    "    p_sat =  Float64[]\n",
    "    Vl_sat = Float64[]\n",
    "    Vv_sat = Float64[]\n",
    "    for T in T_range\n",
    "        (p, Vl, Vv) = saturation_pressure(model, T)\n",
    "        push!(p_sat, p)\n",
    "        push!(Vl_sat, Vl)\n",
    "        push!(Vv_sat, Vv)\n",
    "    end\n",
    "\n",
    "    # plot!(T_range, p_sat, label=\"saturation pressure\")\n",
    "    plot!(log10.(Vl_sat), T_range, label=label, lw=2, color=c)\n",
    "    plot!(log10.(Vv_sat), T_range, label=\"\", lw=2, color=c)\n",
    "    scatter!([log10(Vc)], [Tc], label=\"\", color=c)\n",
    "end\n",
    "\n",
    "pred_model = make_model(vcat(Mw, params[1:2], [λ_a], params[3:4])...)\n",
    "base_model = SAFTVRMie([\"n-butane\"])\n",
    "f(pred_model, 1, \"4 params regressed\")\n",
    "f(base_model, 2, \"Base SAFT-VR-Mie\")\n",
    "#* Plot nominal parameters"
   ]
  },
  {
   "cell_type": "code",
   "execution_count": 49,
   "metadata": {},
   "outputs": [
    {
     "data": {
      "text/plain": [
       "(1.8514, 4.0887, 273.64, 13.65)"
      ]
     },
     "metadata": {},
     "output_type": "display_data"
    }
   ],
   "source": [
    "df = CSV.read(\"./pcpsaft_params/SI_pcp-saft_parameters.csv\", DataFrame, header=1)\n",
    "filter!(row -> occursin(\"Alkane\", row.family), df)\n",
    "df = first(df, 1) #* Take only first molecule in dataframe\n",
    "mol_data = zip(df.common_name, df.isomeric_smiles, df.molarweight)\n",
    "saft_model = SAFTVRMie([first(mol_data)[1]])\n",
    "saft_model.params.segment.values[1], saft_model.params.sigma.values[1]*1e10, saft_model.params.epsilon.values[1], saft_model.params.lambda_r.values[1]"
   ]
  }
 ],
 "metadata": {
  "kernelspec": {
   "display_name": "Julia 1.8.2",
   "language": "julia",
   "name": "julia-1.8"
  },
  "language_info": {
   "file_extension": ".jl",
   "mimetype": "application/julia",
   "name": "julia",
   "version": "1.8.2"
  }
 },
 "nbformat": 4,
 "nbformat_minor": 2
}
