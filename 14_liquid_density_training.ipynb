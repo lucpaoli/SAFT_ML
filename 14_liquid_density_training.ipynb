{
 "cells": [
  {
   "cell_type": "code",
   "execution_count": 1,
   "metadata": {},
   "outputs": [
    {
     "name": "stderr",
     "output_type": "stream",
     "text": [
      "\u001b[32m\u001b[1m  Activating\u001b[22m\u001b[39m project at `~/SAFT_ML`\n"
     ]
    },
    {
     "name": "stderr",
     "output_type": "stream",
     "text": [
      "WARNING: redefinition of constant UNIT_FORMATS. This may fail, cause incorrect answers, or produce other errors.\n"
     ]
    }
   ],
   "source": [
    "import Pkg; Pkg.activate(\".\")\n",
    "using Clapeyron\n",
    "includet(\"./saftvrmienn.jl\")\n",
    "# These are functions we're going to overload for SAFTVRMieNN\n",
    "import Clapeyron: a_res, saturation_pressure, pressure\n",
    "\n",
    "using Flux\n",
    "using Plots, Statistics\n",
    "using ForwardDiff, DiffResults\n",
    "\n",
    "using Zygote, ChainRulesCore\n",
    "using ImplicitDifferentiation\n",
    "\n",
    "using CSV, DataFrames\n",
    "using MLUtils\n",
    "using RDKitMinimalLib\n",
    "using JLD2\n",
    "\n",
    "# Multithreaded loss\n",
    "using Zygote: bufferfrom\n",
    "using Base.Threads: @spawn"
   ]
  },
  {
   "cell_type": "code",
   "execution_count": 6,
   "metadata": {},
   "outputs": [
    {
     "data": {
      "text/plain": [
       "([-0.0, 2.260005096581295e-5, 2.1863843008154135e-5, 1.46022174535494e-6, 1.6493904176981177e-7, -6.011351535625539e-8],)"
      ]
     },
     "metadata": {},
     "output_type": "display_data"
    }
   ],
   "source": [
    "function pressure_NN(model, V, T)\n",
    "    return ForwardDiff.derivative(V -> eos(model, V, T), V)\n",
    "end\n",
    "\n",
    "function volume_NN(X, p, T)\n",
    "    model = make_model(X...)\n",
    "    V = volume(model, p, T; phase=:liquid)\n",
    "\n",
    "    return V\n",
    "end\n",
    "\n",
    "#! In the forward pass, use ForwardDiff to compute value + gradient\n",
    "#! Then return cached value in pullback function\n",
    "function ChainRulesCore.rrule(::typeof(volume_NN), X, p, T)\n",
    "    model = make_model(X...)\n",
    "    # p, Vₗ, Vᵥ = saturation_pressure(model, T)\n",
    "    vL = volume(model, p, T, [1.0]; phase=:liquid)\n",
    "\n",
    "    function f_pullback(Δy)\n",
    "        #* Newton step from perfect initialisation\n",
    "        function f_V(X, p, T)\n",
    "            model = make_NN_model(X...)\n",
    "            ∂p∂V = ForwardDiff.derivative(V -> pressure_NN(model, V, T), vL)\n",
    "            v2 = vL - (pressure_NN(model, vL, T) - p) / ∂p∂V\n",
    "            return v2\n",
    "        end\n",
    "\n",
    "        ∂X = @thunk(ForwardDiff.gradient(X -> f_V(X, p, T), X) .* Δy)\n",
    "        ∂p = @thunk(ForwardDiff.derivative(p -> f_V(X, p, T), p) .* Δy)\n",
    "        ∂T = @thunk(ForwardDiff.derivative(T -> f_V(X, p, T), T) .* Δy)\n",
    "        return (NoTangent(), ∂X, ∂p, ∂T)\n",
    "    end\n",
    "\n",
    "    return p, f_pullback\n",
    "end\n",
    "\n",
    "X = [16.04, 1.0, 3.737, 6.0, 12.504, 152.58]\n",
    "V = volume_NN(X, 1e7, 100.0)\n",
    "∂V∂X = Zygote.gradient(X -> volume_NN(X, 1e7, 100.0), X)"
   ]
  },
  {
   "cell_type": "code",
   "execution_count": null,
   "metadata": {},
   "outputs": [],
   "source": [
    "# Differentiate through volume solver\n",
    "\n",
    "function saturation_pressure_NN(X, T)\n",
    "    model = make_model(X...)\n",
    "    p, Vₗ, Vᵥ = saturation_pressure(model, T)\n",
    "\n",
    "    return p\n",
    "end\n",
    "\n",
    "#! In the forward pass, use ForwardDiff to compute value + gradient\n",
    "#! Then return cached value in pullback function\n",
    "function ChainRulesCore.rrule(::typeof(saturation_pressure_NN), X, T)\n",
    "    model = make_model(X...)\n",
    "    p, Vₗ, Vᵥ = saturation_pressure(model, T)\n",
    "\n",
    "    function f_pullback(Δy)\n",
    "        #* Newton step from perfect initialisation\n",
    "        function f_p(X, T)\n",
    "            model = make_NN_model(X...)\n",
    "            p2 = -(eos(model, Vᵥ, T) - eos(model, Vₗ, T)) / (Vᵥ - Vₗ)\n",
    "            return p2\n",
    "        end\n",
    "\n",
    "        ∂X = @thunk(ForwardDiff.gradient(X -> f_p(X, T), X) .* Δy)\n",
    "        ∂T = @thunk(ForwardDiff.derivative(T -> f_p(X, T), T) .* Δy)\n",
    "        return (NoTangent(), ∂X, ∂T)\n",
    "    end\n",
    "\n",
    "    return p, f_pullback\n",
    "end"
   ]
  }
 ],
 "metadata": {
  "kernelspec": {
   "display_name": "Julia 1.8.2",
   "language": "julia",
   "name": "julia-1.8"
  },
  "language_info": {
   "file_extension": ".jl",
   "mimetype": "application/julia",
   "name": "julia",
   "version": "1.8.2"
  }
 },
 "nbformat": 4,
 "nbformat_minor": 2
}
